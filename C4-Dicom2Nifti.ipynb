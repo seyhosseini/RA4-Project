{
 "cells": [
  {
   "cell_type": "code",
   "execution_count": 1,
   "id": "8ece32db",
   "metadata": {},
   "outputs": [],
   "source": [
    "# fvessim = sitk.Flip(vessim, [True, True, True])\n",
    "# sitk.WriteImage(fvessim, \"./fvess.nii.gz\")"
   ]
  },
  {
   "cell_type": "code",
   "execution_count": 2,
   "id": "dbceb7b5",
   "metadata": {},
   "outputs": [],
   "source": [
    "import SimpleITK as sitk\n",
    "import numpy as np"
   ]
  },
  {
   "cell_type": "code",
   "execution_count": null,
   "id": "560351bc",
   "metadata": {},
   "outputs": [],
   "source": [
    "\n",
    "recentered-segments"
   ]
  },
  {
   "cell_type": "code",
   "execution_count": null,
   "id": "7c8de183",
   "metadata": {},
   "outputs": [],
   "source": [
    "! pip install dicom2nifti\n",
    "import dicom2nifti\n",
    "import os\n",
    "\n",
    "dicom_folders = os.listdir(path_to)\n",
    "for case in dicom_folders:\n",
    "    dicom2nifti.convert_directory(os.path.join(path_to,patient), os.path.join(path_to_save,patient))"
   ]
  },
  {
   "cell_type": "code",
   "execution_count": 3,
   "id": "42a54c9b",
   "metadata": {},
   "outputs": [],
   "source": [
    "afn = \"./SPIROMICS-51287502/ZUNU_vida-airtree.hdr\"\n",
    "vfn = \"./SPIROMICS-51287502/ZUNU_vida-vessels.hdr\"\n",
    "ifn = \"./SPIROMICS-51287502/ImageNiiGz/Image.nii.gz\""
   ]
  },
  {
   "cell_type": "code",
   "execution_count": 4,
   "id": "82a541b4",
   "metadata": {},
   "outputs": [],
   "source": [
    "vessim = sitk.ReadImage(vfn)\n",
    "arwim = sitk.ReadImage(afn)\n",
    "iim = sitk.ReadImage(ifn)"
   ]
  },
  {
   "cell_type": "code",
   "execution_count": 5,
   "id": "aa5f0f0d",
   "metadata": {},
   "outputs": [],
   "source": [
    "vnda = sitk.GetArrayFromImage(vessim)\n",
    "vnds = np.flip(vnda, axis=0)\n",
    "fvess = sitk.GetImageFromArray(vnds)\n",
    "fvess.CopyInformation(iim)\n",
    "sitk.WriteImage(fvess, \"./FlippedAndRecenteredVess.nii.gz\") # flipped"
   ]
  },
  {
   "cell_type": "code",
   "execution_count": 6,
   "id": "a3f5937a",
   "metadata": {},
   "outputs": [],
   "source": [
    "vnda = sitk.GetArrayFromImage(arwim)\n",
    "vnds = np.flip(vnda, axis=0)\n",
    "fvess = sitk.GetImageFromArray(vnds)\n",
    "fvess.CopyInformation(iim)\n",
    "sitk.WriteImage(fvess, \"./FlippedAndRecenteredAirw.nii.gz\") # flipped"
   ]
  }
 ],
 "metadata": {
  "kernelspec": {
   "display_name": "Python 3.9.13 64-bit (microsoft store)",
   "language": "python",
   "name": "python3"
  },
  "language_info": {
   "codemirror_mode": {
    "name": "ipython",
    "version": 3
   },
   "file_extension": ".py",
   "mimetype": "text/x-python",
   "name": "python",
   "nbconvert_exporter": "python",
   "pygments_lexer": "ipython3",
   "version": "3.9.16"
  },
  "vscode": {
   "interpreter": {
    "hash": "19f53c72dd061c0e144d0569f96dd1af5cccd7e7a85a40199341a947ba7d9fab"
   }
  }
 },
 "nbformat": 4,
 "nbformat_minor": 5
}
