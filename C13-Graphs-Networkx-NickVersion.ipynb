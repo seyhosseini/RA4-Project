{
 "cells": [
  {
   "cell_type": "code",
   "execution_count": 1,
   "metadata": {},
   "outputs": [],
   "source": [
    "#0 Set anything that needs to be changed at the beginning:  $$$ LabelPath and GraphArtifactsFolderName\n",
    "# You have to restart the kernel each time it seems or sometimes Cell-22 spits an  error!!\n",
    "# Better clear all output too while you're at it!\n",
    "# Let's call this: VER2.1, Version-2.1: orders-4, output*0.38mm\n",
    "# Cases Done: [71,2,37,18,16,88,19,90,11,6,46,39,22,21,95,84,50,]\n",
    "import os\n",
    "\n",
    "# Only need to change here: Look for S-Final---label.nrrd:\n",
    "GraphArtifactsFolderName = \"Z:/Q- Figures/T32-Poster/Nick/Experiment/Case-84/\" \n",
    "LabelPath = \"Z:/D-Images/SPIROMICS-SubStudy/2-Results-CheckedDoneTemp/1-Done/Case-84-Spiromics-53053170/Markups/88-Nate/S-Final-1-label.nrrd\"\n",
    "verbose = False # Set to True to see a lot more print outputs"
   ]
  },
  {
   "cell_type": "code",
   "execution_count": 2,
   "metadata": {},
   "outputs": [
    {
     "name": "stdout",
     "output_type": "stream",
     "text": [
      "Extracted Case Number: 84\n"
     ]
    }
   ],
   "source": [
    "#1 Load/create the masks: avmlabel, atree\n",
    "\n",
    "import numpy as np\n",
    "import nrrd  # pip install pynrrd\n",
    "import re\n",
    "\n",
    "if not os.path.exists(GraphArtifactsFolderName):\n",
    "    os.makedirs(GraphArtifactsFolderName)\n",
    "\n",
    "# CasePath is everything before the final \"/\"\n",
    "# Find the last occurrence of '/'\n",
    "last_slash_index = LabelPath.rfind('/')\n",
    "# Slice the string up to the last '/'\n",
    "casepath = LabelPath[:last_slash_index + 1] # .../1-Done/Case-56-Spiromics-48876393/Markups/88-Nate/\n",
    "\n",
    "avmlabel, metadata = nrrd.read(LabelPath)\n",
    "## Extract Case Number\n",
    "pattern = r\"Case-(\\d+)-\"\n",
    "\n",
    "# Use re.findall() to find all matches in the string\n",
    "matches = re.findall(pattern, casepath)\n",
    "\n",
    "# Extract the first matched number (if any)\n",
    "if matches:\n",
    "    CaseNumber = int(matches[0])\n",
    "    print(\"Extracted Case Number:\", CaseNumber) # To be used numerous times in the code\n",
    "else:\n",
    "    print(\"No 'Case-' followed by a number found in the string.\")\n",
    "\n",
    "atree = np.zeros_like(avmlabel)\n",
    "atree[avmlabel == 1] = 1"
   ]
  },
  {
   "cell_type": "code",
   "execution_count": 3,
   "metadata": {},
   "outputs": [],
   "source": [
    "#2 Inspect using mayavi: Check saved A-tree snapshot\n",
    "\n",
    "import winsound\n",
    "from mayavi import mlab\n",
    "import os\n",
    "\n",
    "frequency = 1000  # Frequency of the beep in Hertz\n",
    "duration = 1000  # Duration of the beep in milliseconds\n",
    "# winsound.Beep(frequency, duration)\n",
    "\n",
    "figure = mlab.figure(bgcolor=(1, 1, 1))\n",
    "contour = mlab.contour3d(atree, contours=[0.5], color=(1, 0, 0))\n",
    "\n",
    "if not os.path.exists(GraphArtifactsFolderName):\n",
    "    os.mkdir(GraphArtifactsFolderName)\n",
    "\n",
    "mlab.savefig(GraphArtifactsFolderName + f\"/AtreeSnapshot-{CaseNumber}.png\")  # You can specify the filename and format\n",
    "mlab.close()"
   ]
  },
  {
   "cell_type": "code",
   "execution_count": 4,
   "metadata": {},
   "outputs": [],
   "source": [
    "#3 Create/Fetch Skeleton\n",
    "\n",
    "from skimage.morphology import skeletonize_3d  # pip install scikit-image\n",
    "import numpy as np\n",
    "import nrrd  # pip install pynrrd\n",
    "\n",
    "# SkeletonPathName = f\"./Data/Artifacts/E-Case-{CaseNumber}-A-Skeleton.nrrd\"\n",
    "SkeletonPathName = GraphArtifactsFolderName + \"S-Final-2-label-Skeleton.nrrd\"\n",
    "# Create and save the skeleton:\n",
    "skeleton = skeletonize_3d(atree.astype(np.uint8))\n",
    "nrrd.write(SkeletonPathName, skeleton)\n",
    "\n",
    "# Or read it in:\n",
    "# skeleton, _ = nrrd.read(SkeletonPathName)"
   ]
  },
  {
   "cell_type": "code",
   "execution_count": 5,
   "metadata": {},
   "outputs": [],
   "source": [
    "#4 Compute/Fetch Distance Transform\n",
    "# Contains the Euclidean distance from each voxel to the nearest background voxel\n",
    "\n",
    "from scipy.ndimage import distance_transform_edt\n",
    "\n",
    "# EdtPathName = f\"./Data/Artifacts/I-Case-{CaseNumber}-EDT.nrrd\"\n",
    "EdtPathName = GraphArtifactsFolderName + f\"I-Case-{CaseNumber}-EDT.nrrd\"\n",
    "# Compute the distance transform\n",
    "distance_transform = distance_transform_edt(atree)\n",
    "nrrd.write(EdtPathName, distance_transform)\n",
    "\n",
    "# Or read it in\n",
    "# distance_transform, _ = nrrd.read(EdtPathName)"
   ]
  },
  {
   "cell_type": "code",
   "execution_count": 6,
   "metadata": {},
   "outputs": [],
   "source": [
    "#5 Create Graph/Edges/Neighbours/...\n",
    "# Step 2: Convert skeletonized image to a graph representation ########### Very bad code/ hard to understand *\n",
    "\n",
    "import networkx as nx\n",
    "\n",
    "graph = nx.Graph()\n",
    "indices = np.array(np.where(skeleton)) # 3x1000?\n",
    "num_points = indices.shape[1]\n",
    "for i in range(num_points): # 20,100 # num_points\n",
    "    point = tuple(indices[:, i])\n",
    "    neighbors = []\n",
    "    for offset in np.ndindex((3, 3, 3)): # (0,1,2 .. 0,1,2 .. 0,1,2)\n",
    "        neighbor = tuple(indices[:, i] + (np.array(offset) - 1)) # >> -1,0,1\n",
    "        if neighbor != point and neighbor in graph:\n",
    "            neighbors.append(neighbor)\n",
    "    graph.add_node(point)\n",
    "    graph.add_edges_from((point, n) for n in neighbors)"
   ]
  },
  {
   "cell_type": "code",
   "execution_count": 7,
   "metadata": {},
   "outputs": [
    {
     "name": "stdout",
     "output_type": "stream",
     "text": [
      "Number of Nodes: 9717\n",
      "Number of Edges: 9780\n"
     ]
    }
   ],
   "source": [
    "#6 Print_Stats [Nodes/Edges/...]\n",
    "\n",
    "def print_stats(graph):\n",
    "    num_nodes = nx.number_of_nodes(graph)\n",
    "    num_edges = nx.number_of_edges(graph)\n",
    "    # all_nodes = list(graph.nodes)\n",
    "    # all_edges = list(graph.edges)\n",
    "\n",
    "    print(\"Number of Nodes:\", num_nodes)\n",
    "    print(\"Number of Edges:\", num_edges)\n",
    "    # print(\"All Nodes:\", all_nodes)\n",
    "    # print(\"All Edges:\", all_edges)\n",
    "    return\n",
    "\n",
    "print_stats(graph)"
   ]
  },
  {
   "cell_type": "code",
   "execution_count": 8,
   "metadata": {},
   "outputs": [],
   "source": [
    "#7 Remove degree-2 nodes: Changes the graph *\n",
    "\n",
    "def RemoveAndReconnectDegree2Nodes(graph):\n",
    "    while True:\n",
    "        # Find nodes with degree 2\n",
    "        degree_two_nodes = [node for node, degree in graph.degree if degree == 2]\n",
    "        \n",
    "        # If there are no intermediate nodes to remove, break the loop\n",
    "        if not degree_two_nodes:\n",
    "            break    \n",
    "        # Remove the intermediate nodes\n",
    "        for node in degree_two_nodes:\n",
    "            neighbors = list(graph.neighbors(node))\n",
    "            if len(neighbors) == 2: ####### Redundant condition! *\n",
    "                graph.add_edge(neighbors[0], neighbors[1])\n",
    "            graph.remove_node(node)\n",
    "\n",
    "RemoveAndReconnectDegree2Nodes(graph)"
   ]
  },
  {
   "cell_type": "code",
   "execution_count": 9,
   "metadata": {},
   "outputs": [
    {
     "name": "stdout",
     "output_type": "stream",
     "text": [
      "Number of Nodes: 497\n",
      "Number of Edges: 560\n"
     ]
    }
   ],
   "source": [
    "#8 print_stats\n",
    "print_stats(graph)"
   ]
  },
  {
   "cell_type": "code",
   "execution_count": 10,
   "metadata": {},
   "outputs": [],
   "source": [
    "#9 Create/update 'edge_length' property for all edges *\n",
    "\n",
    "def UpdateEdgeLengths(G):\n",
    "    for edge in G.edges:\n",
    "        node1, node2 = edge\n",
    "        x1, y1, z1 = node1\n",
    "        x2, y2, z2 = node2\n",
    "        edge_length = np.sqrt((x2 - x1)**2 + (y2 - y1)**2 + (z2 - z1)**2)\n",
    "        G.edges[edge]['edge_length'] = edge_length\n",
    "\n",
    "UpdateEdgeLengths(graph)"
   ]
  },
  {
   "cell_type": "code",
   "execution_count": 11,
   "metadata": {},
   "outputs": [],
   "source": [
    "#10 Function: Plot-1: plot_3D: Plot Interactive 3D *\n",
    "\n",
    "import plotly.graph_objects as go  # pip install plotly # pip install nbformat\n",
    "from plotly.subplots import make_subplots\n",
    "\n",
    "def plot_3D(graph):\n",
    "    fig = make_subplots(rows=1, cols=1, specs=[[{'type': 'scatter3d'}]])\n",
    "    x, y, z = zip(*graph.nodes)\n",
    "    \n",
    "    leaf_nodes = [node for node, degree in graph.degree if degree == 1]\n",
    "    \n",
    "    node_trace = go.Scatter3d(\n",
    "        x=x,\n",
    "        y=y,\n",
    "        z=z,\n",
    "        mode='markers',\n",
    "        marker=dict(\n",
    "            size=2,\n",
    "            color='red', #['red' if node in leaf_nodes else 'blue' for node in graph.nodes()],\n",
    "            opacity=0.8\n",
    "        )\n",
    "    )\n",
    "    fig.add_trace(node_trace)\n",
    "\n",
    "    for edge in graph.edges():\n",
    "        x0, y0, z0 = edge[0]\n",
    "        x1, y1, z1 = edge[1]\n",
    "        \n",
    "        edge_length = graph.edges[edge]['edge_length']\n",
    "        edge_text = f'{edge_length:.2f}'  # Display the edge length as text\n",
    "        \n",
    "        edge_trace = go.Scatter3d(\n",
    "            x=[x0, x1],\n",
    "            y=[y0, y1],\n",
    "            z=[z0, z1],\n",
    "            mode='lines',\n",
    "            # line=dict(color='orange' if graph.edges[edge]['edge_length'] < 20 else 'gray',\n",
    "            #           width=3),\n",
    "            line=dict(color='gray', width=3),\n",
    "            hoverinfo='text',\n",
    "            text=edge_text\n",
    "        )\n",
    "        fig.add_trace(edge_trace)\n",
    "\n",
    "    fig.update_layout(  \n",
    "        scene=dict(\n",
    "        # Set background color to transparent or any color you prefer\n",
    "        bgcolor='rgba(0,0,0,0)',\n",
    "        \n",
    "        # Hide axes\n",
    "        xaxis=dict(showbackground=False, showgrid=False, zeroline=False, showline=False),\n",
    "        yaxis=dict(showbackground=False, showgrid=False, zeroline=False, showline=False),\n",
    "        zaxis=dict(showbackground=False, showgrid=False, zeroline=False, showline=False)\n",
    "        )\n",
    "    )\n",
    "    \n",
    "    fig.update_layout(\n",
    "        margin=dict(l=0, r=0, b=0, t=0),\n",
    "        scene=dict(\n",
    "            xaxis=dict(range=[0, max(x) + 1]),\n",
    "            yaxis=dict(range=[0, max(y) + 1]),\n",
    "            zaxis=dict(range=[0, max(z) + 1])\n",
    "        )\n",
    "    )\n",
    "\n",
    "    fig.show()\n",
    "    return"
   ]
  },
  {
   "cell_type": "code",
   "execution_count": 12,
   "metadata": {},
   "outputs": [],
   "source": [
    "# ##11 Timed calling of plot_3D: Will take time to show up even when indicated done:\n",
    "\n",
    "# import time\n",
    "# StartTime = time.time()\n",
    "# print('Plotting the 3D Graph ..')\n",
    "# plot_3D(graph)\n",
    "# print(f'Elapsed: {time.time()-StartTime:5.2f}')"
   ]
  },
  {
   "cell_type": "code",
   "execution_count": 13,
   "metadata": {},
   "outputs": [
    {
     "name": "stdout",
     "output_type": "stream",
     "text": [
      "64 simple+complex 3-cycles exist\n",
      "\n"
     ]
    }
   ],
   "source": [
    "#12 Find all 3-cycels: Approach-9 with no duplicates\n",
    "\n",
    "# Function to find and print all length-3 cycles without duplicates\n",
    "def ReFindAndPrintLength3Cycles(G, Prnt=False):\n",
    "\n",
    "    length_3_cycles = set()\n",
    "    for node in G.nodes():\n",
    "        neighbors = list(G.neighbors(node))\n",
    "        for neighbor1 in neighbors:\n",
    "            for neighbor2 in neighbors:\n",
    "                if neighbor1 != neighbor2 and G.has_edge(neighbor1, neighbor2):\n",
    "                    cycle = tuple(sorted([node, neighbor1, neighbor2]))  # Sorting to avoid permutations\n",
    "                    length_3_cycles.add(cycle)\n",
    "\n",
    "    # Convert the cycles back to lists for printing\n",
    "    length_3_cycles = [list(cycle) for cycle in length_3_cycles]\n",
    "\n",
    "    # Print the length-3 cycles without duplicates\n",
    "    if Prnt:\n",
    "        print(len(length_3_cycles), 'simple+complex 3-cycles exist\\n')\n",
    "        # for cycle in length_3_cycles:\n",
    "        #     print(cycle)\n",
    "    return length_3_cycles\n",
    "\n",
    "length_3_cycles = ReFindAndPrintLength3Cycles(graph, Prnt=True)"
   ]
  },
  {
   "cell_type": "code",
   "execution_count": 14,
   "metadata": {},
   "outputs": [],
   "source": [
    "#13* Keep an intact copy of the graph:\n",
    "\n",
    "import copy\n",
    "graphintact = copy.deepcopy(graph)"
   ]
  },
  {
   "cell_type": "code",
   "execution_count": 15,
   "metadata": {},
   "outputs": [],
   "source": [
    "#RR To refresh your graph once it's messed below, come back to this:\n",
    "# graph = copy.deepcopy(graphintact)"
   ]
  },
  {
   "cell_type": "code",
   "execution_count": 16,
   "metadata": {},
   "outputs": [
    {
     "name": "stdout",
     "output_type": "stream",
     "text": [
      "Number of Nodes: 497\n",
      "Number of Edges: 560\n",
      "\n",
      "Resolved the 3-cycle.\n",
      "Resolved the 3-cycle.\n",
      "Resolved the 3-cycle.\n",
      "Resolved the 3-cycle.\n",
      "Resolved the 3-cycle.\n",
      "Resolved the 3-cycle.\n",
      "Resolved the 3-cycle.\n",
      "Resolved the 3-cycle.\n",
      "NewAverageNode (514, 320, 256) not on the skeleton.\n",
      "Searching neighborhood 3\n",
      "Adjusted the NewAverageNode to (513, 320, 256)\n",
      "Resolved the 3-cycle.\n",
      "NewAverageNode (189, 374, 166) not on the skeleton.\n",
      "Searching neighborhood 3\n",
      "Adjusted the NewAverageNode to (188, 374, 166)\n",
      "Resolved the 3-cycle.\n",
      "Resolved the 3-cycle.\n",
      "Resolved the 3-cycle.\n",
      "Resolved the 3-cycle.\n",
      "Resolved the 3-cycle.\n",
      "NewAverageNode (494, 357, 292) not on the skeleton.\n",
      "Searching neighborhood 3\n",
      "Adjusted the NewAverageNode to (493, 357, 292)\n",
      "Resolved the 3-cycle.\n",
      "Resolved the 3-cycle.\n",
      "Resolved the 3-cycle.\n",
      "Resolved the 3-cycle.\n",
      "Skipping to the next cycle ..\n",
      "\n",
      "NewAverageNode (465, 178, 362) not on the skeleton.\n",
      "Searching neighborhood 3\n",
      "Adjusted the NewAverageNode to (465, 177, 362)\n",
      "Resolved the 3-cycle.\n",
      "Resolved the 3-cycle.\n",
      "Resolved the 3-cycle.\n",
      "Resolved the 3-cycle.\n",
      "Resolved the 3-cycle.\n",
      "NewAverageNode (230, 289, 376) not on the skeleton.\n",
      "Searching neighborhood 3\n",
      "Adjusted the NewAverageNode to (229, 289, 376)\n",
      "Resolved the 3-cycle.\n",
      "Resolved the 3-cycle.\n",
      "Resolved the 3-cycle.\n",
      "Resolved the 3-cycle.\n",
      "NewAverageNode (422, 112, 261) not on the skeleton.\n",
      "Searching neighborhood 3\n",
      "Adjusted the NewAverageNode to (421, 112, 261)\n",
      "Resolved the 3-cycle.\n",
      "Resolved the 3-cycle.\n",
      "Resolved the 3-cycle.\n",
      "NewAverageNode (569, 259, 184) not on the skeleton.\n",
      "Searching neighborhood 3\n",
      "Adjusted the NewAverageNode to (569, 259, 183)\n",
      "Resolved the 3-cycle.\n",
      "NewAverageNode (487, 332, 350) not on the skeleton.\n",
      "Searching neighborhood 3\n",
      "Adjusted the NewAverageNode to (486, 332, 350)\n",
      "Resolved the 3-cycle.\n",
      "NewAverageNode (423, 129, 268) not on the skeleton.\n",
      "Searching neighborhood 3\n",
      "Adjusted the NewAverageNode to (422, 130, 269)\n",
      "Resolved the 3-cycle.\n",
      "Resolved the 3-cycle.\n",
      "NewAverageNode (586, 359, 180) not on the skeleton.\n",
      "Searching neighborhood 3\n",
      "Adjusted the NewAverageNode to (586, 359, 181)\n",
      "Resolved the 3-cycle.\n",
      "Resolved the 3-cycle.\n",
      "NewAverageNode (222, 285, 222) not on the skeleton.\n",
      "Searching neighborhood 3\n",
      "Adjusted the NewAverageNode to (222, 284, 222)\n",
      "Resolved the 3-cycle.\n",
      "NewAverageNode (423, 97, 250) not on the skeleton.\n",
      "Searching neighborhood 3\n",
      "Adjusted the NewAverageNode to (422, 97, 250)\n",
      "Resolved the 3-cycle.\n",
      "Resolved the 3-cycle.\n",
      "NewAverageNode (176, 226, 329) not on the skeleton.\n",
      "Searching neighborhood 3\n",
      "Adjusted the NewAverageNode to (176, 226, 330)\n",
      "Resolved the 3-cycle.\n",
      "Resolved the 3-cycle.\n",
      "Resolved the 3-cycle.\n",
      "Resolved the 3-cycle.\n",
      "NewAverageNode (192, 287, 342) not on the skeleton.\n",
      "Searching neighborhood 3\n",
      "Adjusted the NewAverageNode to (191, 287, 342)\n",
      "Resolved the 3-cycle.\n",
      "Resolved the 3-cycle.\n",
      "Resolved the 3-cycle.\n",
      "Resolved the 3-cycle.\n",
      "Resolved the 3-cycle.\n",
      "NewAverageNode (593, 300, 230) not on the skeleton.\n",
      "Searching neighborhood 3\n",
      "Adjusted the NewAverageNode to (592, 300, 230)\n",
      "Resolved the 3-cycle.\n",
      "NewAverageNode (423, 100, 250) not on the skeleton.\n",
      "Searching neighborhood 3\n",
      "Adjusted the NewAverageNode to (423, 99, 250)\n",
      "Resolved the 3-cycle.\n",
      "Resolved the 3-cycle.\n",
      "Resolved the 3-cycle.\n",
      "Resolved the 3-cycle.\n",
      "Resolved the 3-cycle.\n",
      "Resolved the 3-cycle.\n",
      "Resolved the 3-cycle.\n",
      "NewAverageNode (189, 370, 178) not on the skeleton.\n",
      "Searching neighborhood 3\n",
      "Adjusted the NewAverageNode to (189, 369, 178)\n",
      "Resolved the 3-cycle.\n",
      "NewAverageNode (529, 286, 241) not on the skeleton.\n",
      "Searching neighborhood 3\n",
      "Adjusted the NewAverageNode to (528, 286, 241)\n",
      "Resolved the 3-cycle.\n",
      "NewAverageNode (257, 362, 209) not on the skeleton.\n",
      "Searching neighborhood 3\n",
      "Adjusted the NewAverageNode to (257, 362, 210)\n",
      "Resolved the 3-cycle.\n",
      "Resolved the 3-cycle.\n",
      "Resolved the 3-cycle.\n",
      "Resolved the 3-cycle.\n",
      "Resolved the 3-cycle.\n",
      "\n",
      "Number of Nodes: 371\n",
      "Number of Edges: 371\n"
     ]
    }
   ],
   "source": [
    "#14 Only once: This changes the graph: Resolve isolated 3-cycles by merging the 3 nodes and reconnecting edges\n",
    "\n",
    "print_stats(graph)\n",
    "print()\n",
    "length_3_cycles = ReFindAndPrintLength3Cycles(graph, Prnt=False)\n",
    "\n",
    "for cycle in length_3_cycles:\n",
    "\n",
    "    # For each cycle, find the outer/final neighbors\n",
    "    finalneighbors = []\n",
    "    for node in cycle:\n",
    "        DEGR = graph.degree(node)\n",
    "        if DEGR != 3:\n",
    "            # print(Fore.YELLOW + f'\\nThis is not a simple cycle. Node {node} is degree {DEGR}. Breaking ..' + Style.RESET_ALL)\n",
    "            if verbose: print(f'{cycle} is not a simple cycle. Node {node} is degree {DEGR}.')\n",
    "            break\n",
    "        finalneighbors.extend([neighbor for neighbor in graph.neighbors(node) if neighbor not in cycle])\n",
    "    if verbose:\n",
    "        if DEGR == 3:\n",
    "            print('cycle:', cycle)\n",
    "    # print('finalneighbors:', finalneighbors)\n",
    "    if DEGR != 3:\n",
    "        print(\"Skipping to the next cycle ..\\n\")\n",
    "        continue\n",
    "\n",
    "    # Takes the 3 nodes in the cycle and forms their average\n",
    "    NewAverageNode = tuple(round((a + b + c) / 3) for a, b, c in zip(cycle[0], cycle[1], cycle[2])) # zip(tuple1, tuple2, tuple3)\n",
    "    # print('NewAverageNode:', NewAverageNode)\n",
    "\n",
    "    # If NewAverageNode not on the skeleton, go to its neighborhood and find the nearest voxel that lies on the skeleton:\n",
    "    if skeleton[*NewAverageNode] == 0:\n",
    "        print(f\"NewAverageNode {NewAverageNode} not on the skeleton.\")\n",
    "        xxna, yyna, zzna = NewAverageNode\n",
    "        success = False\n",
    "        NeighbrhdSize = 3\n",
    "        while success == False:\n",
    "            print(f\"Searching neighborhood {NeighbrhdSize}\")\n",
    "            lowerbnd = -(NeighbrhdSize//2)\n",
    "            upperbnd =  (NeighbrhdSize//2) + 1\n",
    "            neighbors = [(i, j, k) for i in range(lowerbnd, upperbnd) for j in range(lowerbnd, upperbnd) for k in range(lowerbnd, upperbnd)]\n",
    "            neighbors.remove((0,0,0))\n",
    "            for neighbor_offset in neighbors:\n",
    "                nnx, nny, nnz = xxna + neighbor_offset[0], yyna + neighbor_offset[1], zzna + neighbor_offset[2]\n",
    "                if 0 <= nnx < skeleton.shape[0] and 0 <= nny < skeleton.shape[1] and 0 <= nnz < skeleton.shape[2]:\n",
    "                    if skeleton[nnx, nny, nnz] != 0:\n",
    "                        NewAverageNode = (nnx, nny, nnz)\n",
    "                        print(f\"Adjusted the NewAverageNode to {NewAverageNode}\")\n",
    "                        success = True\n",
    "                        break            \n",
    "            NeighbrhdSize += 2\n",
    "\n",
    "    # Now remove the old 3 nodes in cycle\n",
    "    for node in cycle:\n",
    "        graph.remove_node(node)\n",
    "    # print('Removed the 3 nodes in cycle')\n",
    "\n",
    "    # Add the new average node\n",
    "    graph.add_node(NewAverageNode)\n",
    "    # print('Added new average node')\n",
    "\n",
    "    # Make the new edges/connections\n",
    "    for node in finalneighbors:\n",
    "        graph.add_edge(node, NewAverageNode)\n",
    "    # print('Added the final edges')\n",
    "\n",
    "    print('Resolved the 3-cycle.')\n",
    "    UpdateEdgeLengths(graph)\n",
    "    # print_stats(graph)\n",
    "    if verbose: print()\n",
    "\n",
    "print()\n",
    "print_stats(graph)"
   ]
  },
  {
   "cell_type": "code",
   "execution_count": 17,
   "metadata": {},
   "outputs": [
    {
     "name": "stdout",
     "output_type": "stream",
     "text": [
      "1 complex 3-cycles exist\n",
      "3 edges in complex 3-cycles exist\n"
     ]
    }
   ],
   "source": [
    "#15 Create updated list of all edges in cycles: [they're probably complex cycles now at this point]\n",
    "\n",
    "length_3_cycles = ReFindAndPrintLength3Cycles(graph)\n",
    "print(f\"{len(length_3_cycles)} complex 3-cycles exist\")\n",
    "\n",
    "EdgesInCyclesWithDuplicates = [[L[i], L[(i+1)%3]] for L in length_3_cycles for i in [0, 1, 2]]\n",
    "\n",
    "EdgesInCycles = []\n",
    "for edge in EdgesInCyclesWithDuplicates:\n",
    "    if ([edge[0],edge[1]] not in EdgesInCycles) and ([edge[1],edge[0]] not in EdgesInCycles):\n",
    "         EdgesInCycles.append(edge)\n",
    "        #  print(f'Appended {edge} to EdgesInCycles list')\n",
    "\n",
    "print(len(EdgesInCycles), 'edges in complex 3-cycles exist')"
   ]
  },
  {
   "cell_type": "code",
   "execution_count": 18,
   "metadata": {},
   "outputs": [
    {
     "data": {
      "application/vnd.plotly.v1+json": {
       "config": {
        "plotlyServerURL": "https://plot.ly"
       },
       "data": [
        {
         "marker": {
          "color": "grey",
          "opacity": 0.1,
          "size": 2
         },
         "mode": "markers",
         "type": "scatter3d",
         "x": [
          58,
          63,
          63,
          69,
          84,
          87,
          87,
          88,
          88,
          91,
          97,
          97,
          99,
          99,
          100,
          101,
          105,
          109,
          109,
          111,
          114,
          122,
          130,
          134,
          135,
          139,
          141,
          141,
          141,
          144,
          149,
          150,
          150,
          152,
          153,
          156,
          157,
          157,
          157,
          160,
          161,
          163,
          164,
          165,
          165,
          167,
          169,
          170,
          172,
          172,
          175,
          176,
          179,
          179,
          180,
          182,
          182,
          183,
          183,
          183,
          183,
          187,
          188,
          188,
          190,
          192,
          192,
          193,
          195,
          195,
          195,
          195,
          197,
          201,
          203,
          203,
          204,
          206,
          207,
          210,
          210,
          212,
          213,
          213,
          216,
          217,
          217,
          219,
          219,
          220,
          221,
          225,
          225,
          226,
          226,
          227,
          228,
          228,
          229,
          230,
          234,
          236,
          237,
          237,
          237,
          240,
          242,
          244,
          244,
          244,
          246,
          246,
          247,
          249,
          251,
          252,
          253,
          254,
          255,
          256,
          259,
          260,
          261,
          262,
          262,
          264,
          269,
          270,
          272,
          273,
          281,
          285,
          302,
          312,
          318,
          350,
          350,
          385,
          387,
          393,
          412,
          415,
          415,
          420,
          420,
          421,
          421,
          422,
          422,
          424,
          425,
          425,
          426,
          426,
          426,
          427,
          428,
          430,
          433,
          436,
          437,
          439,
          440,
          442,
          442,
          444,
          444,
          447,
          458,
          461,
          465,
          466,
          468,
          470,
          470,
          472,
          472,
          474,
          474,
          474,
          475,
          475,
          481,
          481,
          483,
          484,
          484,
          486,
          487,
          489,
          490,
          490,
          492,
          492,
          492,
          492,
          493,
          494,
          495,
          495,
          495,
          496,
          496,
          498,
          499,
          499,
          499,
          500,
          500,
          502,
          506,
          507,
          508,
          511,
          512,
          513,
          513,
          514,
          516,
          516,
          517,
          517,
          517,
          517,
          519,
          519,
          520,
          521,
          522,
          523,
          524,
          526,
          530,
          531,
          532,
          532,
          535,
          537,
          537,
          539,
          545,
          546,
          547,
          548,
          549,
          549,
          551,
          552,
          553,
          555,
          556,
          558,
          561,
          561,
          564,
          566,
          571,
          572,
          574,
          574,
          575,
          575,
          575,
          575,
          575,
          576,
          577,
          578,
          579,
          582,
          582,
          584,
          584,
          584,
          586,
          586,
          586,
          587,
          587,
          588,
          589,
          596,
          596,
          597,
          598,
          599,
          604,
          605,
          606,
          609,
          609,
          609,
          613,
          616,
          617,
          617,
          618,
          618,
          621,
          625,
          629,
          632,
          638,
          647,
          648,
          651,
          652,
          661,
          510,
          186,
          250,
          511,
          498,
          186,
          213,
          567,
          513,
          188,
          219,
          228,
          578,
          498,
          493,
          524,
          206,
          131,
          465,
          499,
          540,
          631,
          499,
          229,
          179,
          159,
          245,
          421,
          499,
          503,
          569,
          486,
          422,
          579,
          586,
          612,
          222,
          422,
          164,
          176,
          490,
          204,
          512,
          191,
          433,
          553,
          630,
          471,
          592,
          423,
          427,
          613,
          213,
          550,
          436,
          520,
          189,
          528,
          257,
          565,
          550,
          534,
          258
         ],
         "y": [
          300,
          258,
          346,
          225,
          240,
          311,
          336,
          337,
          393,
          351,
          243,
          292,
          328,
          333,
          327,
          328,
          341,
          223,
          271,
          184,
          267,
          346,
          201,
          309,
          318,
          197,
          160,
          315,
          354,
          221,
          412,
          182,
          378,
          348,
          171,
          275,
          216,
          366,
          403,
          244,
          244,
          189,
          344,
          126,
          289,
          288,
          244,
          415,
          131,
          224,
          340,
          229,
          312,
          360,
          170,
          390,
          413,
          109,
          183,
          373,
          415,
          372,
          320,
          373,
          333,
          117,
          225,
          313,
          273,
          278,
          287,
          386,
          327,
          399,
          267,
          405,
          266,
          313,
          296,
          225,
          381,
          222,
          159,
          306,
          312,
          188,
          206,
          155,
          229,
          288,
          127,
          214,
          267,
          234,
          293,
          189,
          337,
          343,
          233,
          274,
          276,
          317,
          258,
          368,
          414,
          47,
          312,
          165,
          284,
          293,
          303,
          395,
          277,
          397,
          359,
          292,
          269,
          301,
          115,
          353,
          359,
          358,
          327,
          257,
          365,
          324,
          120,
          336,
          361,
          336,
          325,
          141,
          250,
          273,
          291,
          225,
          226,
          207,
          213,
          202,
          117,
          104,
          134,
          95,
          115,
          93,
          116,
          81,
          90,
          96,
          88,
          93,
          89,
          93,
          94,
          87,
          127,
          84,
          97,
          69,
          85,
          77,
          82,
          94,
          135,
          99,
          275,
          191,
          386,
          268,
          407,
          400,
          178,
          188,
          374,
          321,
          399,
          129,
          286,
          337,
          286,
          406,
          269,
          399,
          258,
          375,
          415,
          109,
          267,
          352,
          203,
          282,
          284,
          285,
          372,
          423,
          265,
          282,
          308,
          357,
          388,
          293,
          305,
          434,
          339,
          351,
          387,
          258,
          270,
          315,
          143,
          179,
          346,
          398,
          350,
          178,
          293,
          436,
          122,
          334,
          324,
          378,
          394,
          415,
          225,
          272,
          354,
          368,
          421,
          202,
          351,
          419,
          213,
          320,
          159,
          310,
          294,
          302,
          360,
          334,
          318,
          336,
          354,
          191,
          387,
          436,
          393,
          248,
          348,
          383,
          197,
          385,
          343,
          389,
          105,
          357,
          335,
          360,
          247,
          314,
          277,
          334,
          355,
          374,
          392,
          362,
          381,
          247,
          270,
          200,
          236,
          279,
          392,
          420,
          294,
          319,
          357,
          348,
          353,
          365,
          363,
          296,
          360,
          153,
          238,
          242,
          311,
          318,
          342,
          225,
          226,
          300,
          313,
          388,
          279,
          389,
          229,
          385,
          366,
          331,
          193,
          201,
          266,
          276,
          297,
          315,
          347,
          251,
          364,
          328,
          270,
          255,
          347,
          383,
          295,
          288,
          320,
          374,
          230,
          263,
          297,
          265,
          357,
          322,
          299,
          324,
          177,
          314,
          321,
          295,
          276,
          289,
          323,
          186,
          280,
          112,
          212,
          285,
          259,
          332,
          130,
          248,
          359,
          354,
          284,
          97,
          332,
          226,
          304,
          396,
          334,
          287,
          76,
          345,
          275,
          185,
          300,
          99,
          92,
          225,
          202,
          318,
          75,
          227,
          369,
          286,
          362,
          170,
          384,
          261,
          125
         ],
         "z": [
          156,
          198,
          140,
          169,
          250,
          231,
          155,
          154,
          111,
          170,
          290,
          150,
          173,
          169,
          174,
          174,
          248,
          213,
          331,
          261,
          198,
          231,
          282,
          286,
          225,
          213,
          175,
          175,
          204,
          270,
          123,
          175,
          168,
          130,
          197,
          386,
          326,
          139,
          236,
          273,
          272,
          191,
          348,
          251,
          351,
          352,
          214,
          155,
          149,
          349,
          249,
          328,
          379,
          328,
          299,
          252,
          188,
          183,
          350,
          163,
          87,
          168,
          203,
          168,
          351,
          186,
          255,
          203,
          168,
          199,
          407,
          155,
          319,
          133,
          318,
          94,
          317,
          415,
          399,
          209,
          296,
          207,
          310,
          236,
          307,
          262,
          287,
          179,
          272,
          219,
          251,
          352,
          295,
          356,
          184,
          291,
          314,
          261,
          367,
          164,
          150,
          371,
          283,
          269,
          62,
          150,
          247,
          295,
          333,
          337,
          243,
          207,
          324,
          91,
          224,
          350,
          235,
          398,
          291,
          218,
          136,
          136,
          262,
          282,
          193,
          231,
          292,
          145,
          113,
          136,
          223,
          324,
          258,
          100,
          64,
          268,
          269,
          285,
          286,
          288,
          270,
          259,
          275,
          250,
          263,
          247,
          263,
          237,
          244,
          247,
          241,
          244,
          241,
          244,
          245,
          238,
          264,
          234,
          242,
          207,
          228,
          216,
          222,
          233,
          341,
          236,
          412,
          373,
          112,
          292,
          131,
          70,
          360,
          353,
          320,
          409,
          130,
          349,
          287,
          360,
          288,
          95,
          307,
          132,
          411,
          201,
          196,
          296,
          305,
          276,
          360,
          365,
          375,
          83,
          225,
          241,
          405,
          378,
          275,
          357,
          161,
          433,
          273,
          57,
          106,
          285,
          318,
          409,
          339,
          270,
          301,
          367,
          397,
          284,
          198,
          310,
          411,
          124,
          287,
          238,
          248,
          283,
          244,
          153,
          322,
          382,
          365,
          145,
          158,
          317,
          184,
          224,
          373,
          215,
          320,
          196,
          356,
          153,
          217,
          210,
          241,
          312,
          326,
          332,
          206,
          63,
          301,
          350,
          176,
          237,
          278,
          210,
          181,
          166,
          242,
          163,
          338,
          313,
          298,
          180,
          135,
          272,
          252,
          136,
          124,
          261,
          131,
          218,
          121,
          313,
          160,
          133,
          124,
          91,
          342,
          273,
          116,
          226,
          123,
          176,
          252,
          312,
          180,
          252,
          285,
          316,
          152,
          187,
          104,
          206,
          163,
          158,
          235,
          95,
          259,
          94,
          212,
          89,
          144,
          187,
          207,
          189,
          204,
          200,
          124,
          163,
          115,
          127,
          239,
          336,
          233,
          308,
          285,
          244,
          211,
          314,
          256,
          166,
          273,
          289,
          234,
          311,
          292,
          240,
          209,
          228,
          362,
          332,
          310,
          151,
          397,
          376,
          204,
          186,
          239,
          261,
          353,
          409,
          183,
          350,
          269,
          220,
          181,
          150,
          222,
          250,
          197,
          330,
          280,
          136,
          361,
          342,
          222,
          221,
          206,
          361,
          230,
          250,
          242,
          209,
          206,
          252,
          216,
          321,
          178,
          241,
          210,
          269,
          207,
          293,
          292
         ]
        },
        {
         "hoverinfo": "text",
         "line": {
          "color": "rgba(128, 128, 128, 0.4)",
          "width": 1
         },
         "mode": "lines",
         "text": "52.48",
         "type": "scatter3d",
         "x": [
          58,
          99
         ],
         "y": [
          300,
          328
         ],
         "z": [
          156,
          173
         ]
        },
        {
         "hoverinfo": "text",
         "line": {
          "color": "rgba(128, 128, 128, 0.4)",
          "width": 1
         },
         "mode": "lines",
         "text": "51.79",
         "type": "scatter3d",
         "x": [
          63,
          114
         ],
         "y": [
          258,
          267
         ],
         "z": [
          198,
          198
         ]
        },
        {
         "hoverinfo": "text",
         "line": {
          "color": "rgba(128, 128, 128, 0.4)",
          "width": 1
         },
         "mode": "lines",
         "text": "30.03",
         "type": "scatter3d",
         "x": [
          63,
          88
         ],
         "y": [
          346,
          337
         ],
         "z": [
          140,
          154
         ]
        },
        {
         "hoverinfo": "text",
         "line": {
          "color": "rgba(128, 128, 128, 0.4)",
          "width": 1
         },
         "mode": "lines",
         "text": "68.04",
         "type": "scatter3d",
         "x": [
          69,
          114
         ],
         "y": [
          225,
          267
         ],
         "z": [
          169,
          198
         ]
        },
        {
         "hoverinfo": "text",
         "line": {
          "color": "rgba(128, 128, 128, 0.4)",
          "width": 1
         },
         "mode": "lines",
         "text": "80.18",
         "type": "scatter3d",
         "x": [
          84,
          161
         ],
         "y": [
          240,
          244
         ],
         "z": [
          250,
          272
         ]
        },
        {
         "hoverinfo": "text",
         "line": {
          "color": "rgba(128, 128, 128, 0.4)",
          "width": 1
         },
         "mode": "lines",
         "text": "48.88",
         "type": "scatter3d",
         "x": [
          87,
          135
         ],
         "y": [
          311,
          318
         ],
         "z": [
          231,
          225
         ]
        },
        {
         "hoverinfo": "text",
         "line": {
          "color": "rgba(128, 128, 128, 0.4)",
          "width": 1
         },
         "mode": "lines",
         "text": "1.73",
         "type": "scatter3d",
         "x": [
          87,
          88
         ],
         "y": [
          336,
          337
         ],
         "z": [
          155,
          154
         ]
        },
        {
         "hoverinfo": "text",
         "line": {
          "color": "rgba(128, 128, 128, 0.4)",
          "width": 1
         },
         "mode": "lines",
         "text": "19.03",
         "type": "scatter3d",
         "x": [
          88,
          99
         ],
         "y": [
          337,
          333
         ],
         "z": [
          154,
          169
         ]
        },
        {
         "hoverinfo": "text",
         "line": {
          "color": "rgba(128, 128, 128, 0.4)",
          "width": 1
         },
         "mode": "lines",
         "text": "79.21",
         "type": "scatter3d",
         "x": [
          88,
          157
         ],
         "y": [
          393,
          366
         ],
         "z": [
          111,
          139
         ]
        },
        {
         "hoverinfo": "text",
         "line": {
          "color": "rgba(128, 128, 128, 0.4)",
          "width": 1
         },
         "mode": "lines",
         "text": "19.72",
         "type": "scatter3d",
         "x": [
          91,
          99
         ],
         "y": [
          351,
          333
         ],
         "z": [
          170,
          169
         ]
        },
        {
         "hoverinfo": "text",
         "line": {
          "color": "rgba(128, 128, 128, 0.4)",
          "width": 1
         },
         "mode": "lines",
         "text": "65.26",
         "type": "scatter3d",
         "x": [
          97,
          160
         ],
         "y": [
          243,
          244
         ],
         "z": [
          290,
          273
         ]
        },
        {
         "hoverinfo": "text",
         "line": {
          "color": "rgba(128, 128, 128, 0.4)",
          "width": 1
         },
         "mode": "lines",
         "text": "55.59",
         "type": "scatter3d",
         "x": [
          97,
          141
         ],
         "y": [
          292,
          315
         ],
         "z": [
          150,
          175
         ]
        },
        {
         "hoverinfo": "text",
         "line": {
          "color": "rgba(128, 128, 128, 0.4)",
          "width": 1
         },
         "mode": "lines",
         "text": "1.73",
         "type": "scatter3d",
         "x": [
          99,
          100
         ],
         "y": [
          328,
          327
         ],
         "z": [
          173,
          174
         ]
        },
        {
         "hoverinfo": "text",
         "line": {
          "color": "rgba(128, 128, 128, 0.4)",
          "width": 1
         },
         "mode": "lines",
         "text": "6.40",
         "type": "scatter3d",
         "x": [
          99,
          99
         ],
         "y": [
          328,
          333
         ],
         "z": [
          173,
          169
         ]
        },
        {
         "hoverinfo": "text",
         "line": {
          "color": "rgba(128, 128, 128, 0.4)",
          "width": 1
         },
         "mode": "lines",
         "text": "1.41",
         "type": "scatter3d",
         "x": [
          100,
          101
         ],
         "y": [
          327,
          328
         ],
         "z": [
          174,
          174
         ]
        },
        {
         "hoverinfo": "text",
         "line": {
          "color": "rgba(128, 128, 128, 0.4)",
          "width": 1
         },
         "mode": "lines",
         "text": "42.73",
         "type": "scatter3d",
         "x": [
          100,
          141
         ],
         "y": [
          327,
          315
         ],
         "z": [
          174,
          175
         ]
        },
        {
         "hoverinfo": "text",
         "line": {
          "color": "rgba(128, 128, 128, 0.4)",
          "width": 1
         },
         "mode": "lines",
         "text": "36.95",
         "type": "scatter3d",
         "x": [
          105,
          131
         ],
         "y": [
          341,
          324
         ],
         "z": [
          248,
          228
         ]
        },
        {
         "hoverinfo": "text",
         "line": {
          "color": "rgba(128, 128, 128, 0.4)",
          "width": 1
         },
         "mode": "lines",
         "text": "63.58",
         "type": "scatter3d",
         "x": [
          109,
          169
         ],
         "y": [
          223,
          244
         ],
         "z": [
          213,
          214
         ]
        },
        {
         "hoverinfo": "text",
         "line": {
          "color": "rgba(128, 128, 128, 0.4)",
          "width": 1
         },
         "mode": "lines",
         "text": "94.98",
         "type": "scatter3d",
         "x": [
          109,
          203
         ],
         "y": [
          271,
          267
         ],
         "z": [
          331,
          318
         ]
        },
        {
         "hoverinfo": "text",
         "line": {
          "color": "rgba(128, 128, 128, 0.4)",
          "width": 1
         },
         "mode": "lines",
         "text": "50.39",
         "type": "scatter3d",
         "x": [
          111,
          144
         ],
         "y": [
          184,
          221
         ],
         "z": [
          261,
          270
         ]
        },
        {
         "hoverinfo": "text",
         "line": {
          "color": "rgba(128, 128, 128, 0.4)",
          "width": 1
         },
         "mode": "lines",
         "text": "91.55",
         "type": "scatter3d",
         "x": [
          114,
          193
         ],
         "y": [
          267,
          313
         ],
         "z": [
          198,
          203
         ]
        },
        {
         "hoverinfo": "text",
         "line": {
          "color": "rgba(128, 128, 128, 0.4)",
          "width": 1
         },
         "mode": "lines",
         "text": "23.96",
         "type": "scatter3d",
         "x": [
          122,
          131
         ],
         "y": [
          346,
          324
         ],
         "z": [
          231,
          228
         ]
        },
        {
         "hoverinfo": "text",
         "line": {
          "color": "rgba(128, 128, 128, 0.4)",
          "width": 1
         },
         "mode": "lines",
         "text": "27.20",
         "type": "scatter3d",
         "x": [
          130,
          144
         ],
         "y": [
          201,
          221
         ],
         "z": [
          282,
          270
         ]
        },
        {
         "hoverinfo": "text",
         "line": {
          "color": "rgba(128, 128, 128, 0.4)",
          "width": 1
         },
         "mode": "lines",
         "text": "123.98",
         "type": "scatter3d",
         "x": [
          134,
          245
         ],
         "y": [
          309,
          280
         ],
         "z": [
          286,
          239
         ]
        },
        {
         "hoverinfo": "text",
         "line": {
          "color": "rgba(128, 128, 128, 0.4)",
          "width": 1
         },
         "mode": "lines",
         "text": "7.81",
         "type": "scatter3d",
         "x": [
          135,
          131
         ],
         "y": [
          318,
          324
         ],
         "z": [
          225,
          228
         ]
        },
        {
         "hoverinfo": "text",
         "line": {
          "color": "rgba(128, 128, 128, 0.4)",
          "width": 1
         },
         "mode": "lines",
         "text": "49.01",
         "type": "scatter3d",
         "x": [
          135,
          179
         ],
         "y": [
          318,
          323
         ],
         "z": [
          225,
          204
         ]
        },
        {
         "hoverinfo": "text",
         "line": {
          "color": "rgba(128, 128, 128, 0.4)",
          "width": 1
         },
         "mode": "lines",
         "text": "55.77",
         "type": "scatter3d",
         "x": [
          139,
          169
         ],
         "y": [
          197,
          244
         ],
         "z": [
          213,
          214
         ]
        },
        {
         "hoverinfo": "text",
         "line": {
          "color": "rgba(128, 128, 128, 0.4)",
          "width": 1
         },
         "mode": "lines",
         "text": "33.48",
         "type": "scatter3d",
         "x": [
          141,
          159
         ],
         "y": [
          160,
          186
         ],
         "z": [
          175,
          186
         ]
        },
        {
         "hoverinfo": "text",
         "line": {
          "color": "rgba(128, 128, 128, 0.4)",
          "width": 1
         },
         "mode": "lines",
         "text": "36.08",
         "type": "scatter3d",
         "x": [
          141,
          164
         ],
         "y": [
          315,
          332
         ],
         "z": [
          175,
          197
         ]
        },
        {
         "hoverinfo": "text",
         "line": {
          "color": "rgba(128, 128, 128, 0.4)",
          "width": 1
         },
         "mode": "lines",
         "text": "32.59",
         "type": "scatter3d",
         "x": [
          141,
          164
         ],
         "y": [
          354,
          332
         ],
         "z": [
          204,
          197
         ]
        },
        {
         "hoverinfo": "text",
         "line": {
          "color": "rgba(128, 128, 128, 0.4)",
          "width": 1
         },
         "mode": "lines",
         "text": "28.18",
         "type": "scatter3d",
         "x": [
          144,
          160
         ],
         "y": [
          221,
          244
         ],
         "z": [
          270,
          273
         ]
        },
        {
         "hoverinfo": "text",
         "line": {
          "color": "rgba(128, 128, 128, 0.4)",
          "width": 1
         },
         "mode": "lines",
         "text": "54.53",
         "type": "scatter3d",
         "x": [
          149,
          201
         ],
         "y": [
          412,
          399
         ],
         "z": [
          123,
          133
         ]
        },
        {
         "hoverinfo": "text",
         "line": {
          "color": "rgba(128, 128, 128, 0.4)",
          "width": 1
         },
         "mode": "lines",
         "text": "14.76",
         "type": "scatter3d",
         "x": [
          150,
          159
         ],
         "y": [
          182,
          186
         ],
         "z": [
          175,
          186
         ]
        },
        {
         "hoverinfo": "text",
         "line": {
          "color": "rgba(128, 128, 128, 0.4)",
          "width": 1
         },
         "mode": "lines",
         "text": "33.75",
         "type": "scatter3d",
         "x": [
          150,
          183
         ],
         "y": [
          378,
          373
         ],
         "z": [
          168,
          163
         ]
        },
        {
         "hoverinfo": "text",
         "line": {
          "color": "rgba(128, 128, 128, 0.4)",
          "width": 1
         },
         "mode": "lines",
         "text": "20.74",
         "type": "scatter3d",
         "x": [
          152,
          157
         ],
         "y": [
          348,
          366
         ],
         "z": [
          130,
          139
         ]
        },
        {
         "hoverinfo": "text",
         "line": {
          "color": "rgba(128, 128, 128, 0.4)",
          "width": 1
         },
         "mode": "lines",
         "text": "21.45",
         "type": "scatter3d",
         "x": [
          153,
          163
         ],
         "y": [
          171,
          189
         ],
         "z": [
          197,
          191
         ]
        },
        {
         "hoverinfo": "text",
         "line": {
          "color": "rgba(128, 128, 128, 0.4)",
          "width": 1
         },
         "mode": "lines",
         "text": "38.03",
         "type": "scatter3d",
         "x": [
          156,
          167
         ],
         "y": [
          275,
          288
         ],
         "z": [
          386,
          352
         ]
        },
        {
         "hoverinfo": "text",
         "line": {
          "color": "rgba(128, 128, 128, 0.4)",
          "width": 1
         },
         "mode": "lines",
         "text": "23.11",
         "type": "scatter3d",
         "x": [
          157,
          176
         ],
         "y": [
          216,
          229
         ],
         "z": [
          326,
          328
         ]
        },
        {
         "hoverinfo": "text",
         "line": {
          "color": "rgba(128, 128, 128, 0.4)",
          "width": 1
         },
         "mode": "lines",
         "text": "36.07",
         "type": "scatter3d",
         "x": [
          157,
          183
         ],
         "y": [
          366,
          373
         ],
         "z": [
          139,
          163
         ]
        },
        {
         "hoverinfo": "text",
         "line": {
          "color": "rgba(128, 128, 128, 0.4)",
          "width": 1
         },
         "mode": "lines",
         "text": "36.12",
         "type": "scatter3d",
         "x": [
          157,
          186
         ],
         "y": [
          403,
          383
         ],
         "z": [
          236,
          244
         ]
        },
        {
         "hoverinfo": "text",
         "line": {
          "color": "rgba(128, 128, 128, 0.4)",
          "width": 1
         },
         "mode": "lines",
         "text": "1.41",
         "type": "scatter3d",
         "x": [
          160,
          161
         ],
         "y": [
          244,
          244
         ],
         "z": [
          273,
          272
         ]
        },
        {
         "hoverinfo": "text",
         "line": {
          "color": "rgba(128, 128, 128, 0.4)",
          "width": 1
         },
         "mode": "lines",
         "text": "71.69",
         "type": "scatter3d",
         "x": [
          161,
          228
         ],
         "y": [
          244,
          263
         ],
         "z": [
          272,
          289
         ]
        },
        {
         "hoverinfo": "text",
         "line": {
          "color": "rgba(128, 128, 128, 0.4)",
          "width": 1
         },
         "mode": "lines",
         "text": "61.88",
         "type": "scatter3d",
         "x": [
          163,
          210
         ],
         "y": [
          189,
          225
         ],
         "z": [
          191,
          209
         ]
        },
        {
         "hoverinfo": "text",
         "line": {
          "color": "rgba(128, 128, 128, 0.4)",
          "width": 1
         },
         "mode": "lines",
         "text": "7.07",
         "type": "scatter3d",
         "x": [
          163,
          159
         ],
         "y": [
          189,
          186
         ],
         "z": [
          191,
          186
         ]
        },
        {
         "hoverinfo": "text",
         "line": {
          "color": "rgba(128, 128, 128, 0.4)",
          "width": 1
         },
         "mode": "lines",
         "text": "29.73",
         "type": "scatter3d",
         "x": [
          164,
          186
         ],
         "y": [
          344,
          328
         ],
         "z": [
          348,
          336
         ]
        },
        {
         "hoverinfo": "text",
         "line": {
          "color": "rgba(128, 128, 128, 0.4)",
          "width": 1
         },
         "mode": "lines",
         "text": "81.66",
         "type": "scatter3d",
         "x": [
          165,
          217
         ],
         "y": [
          126,
          188
         ],
         "z": [
          251,
          262
         ]
        },
        {
         "hoverinfo": "text",
         "line": {
          "color": "rgba(128, 128, 128, 0.4)",
          "width": 1
         },
         "mode": "lines",
         "text": "2.45",
         "type": "scatter3d",
         "x": [
          165,
          167
         ],
         "y": [
          289,
          288
         ],
         "z": [
          351,
          352
         ]
        },
        {
         "hoverinfo": "text",
         "line": {
          "color": "rgba(128, 128, 128, 0.4)",
          "width": 1
         },
         "mode": "lines",
         "text": "26.02",
         "type": "scatter3d",
         "x": [
          167,
          191
         ],
         "y": [
          288,
          287
         ],
         "z": [
          352,
          342
         ]
        },
        {
         "hoverinfo": "text",
         "line": {
          "color": "rgba(128, 128, 128, 0.4)",
          "width": 1
         },
         "mode": "lines",
         "text": "66.88",
         "type": "scatter3d",
         "x": [
          169,
          222
         ],
         "y": [
          244,
          284
         ],
         "z": [
          214,
          222
         ]
        },
        {
         "hoverinfo": "text",
         "line": {
          "color": "rgba(128, 128, 128, 0.4)",
          "width": 1
         },
         "mode": "lines",
         "text": "38.29",
         "type": "scatter3d",
         "x": [
          170,
          195
         ],
         "y": [
          415,
          386
         ],
         "z": [
          155,
          155
         ]
        },
        {
         "hoverinfo": "text",
         "line": {
          "color": "rgba(128, 128, 128, 0.4)",
          "width": 1
         },
         "mode": "lines",
         "text": "115.09",
         "type": "scatter3d",
         "x": [
          172,
          212
         ],
         "y": [
          131,
          222
         ],
         "z": [
          149,
          207
         ]
        },
        {
         "hoverinfo": "text",
         "line": {
          "color": "rgba(128, 128, 128, 0.4)",
          "width": 1
         },
         "mode": "lines",
         "text": "19.52",
         "type": "scatter3d",
         "x": [
          172,
          176
         ],
         "y": [
          224,
          226
         ],
         "z": [
          349,
          330
         ]
        },
        {
         "hoverinfo": "text",
         "line": {
          "color": "rgba(128, 128, 128, 0.4)",
          "width": 1
         },
         "mode": "lines",
         "text": "52.62",
         "type": "scatter3d",
         "x": [
          175,
          213
         ],
         "y": [
          340,
          306
         ],
         "z": [
          249,
          236
         ]
        },
        {
         "hoverinfo": "text",
         "line": {
          "color": "rgba(128, 128, 128, 0.4)",
          "width": 1
         },
         "mode": "lines",
         "text": "47.69",
         "type": "scatter3d",
         "x": [
          176,
          204
         ],
         "y": [
          229,
          266
         ],
         "z": [
          328,
          317
         ]
        },
        {
         "hoverinfo": "text",
         "line": {
          "color": "rgba(128, 128, 128, 0.4)",
          "width": 1
         },
         "mode": "lines",
         "text": "3.61",
         "type": "scatter3d",
         "x": [
          176,
          176
         ],
         "y": [
          229,
          226
         ],
         "z": [
          328,
          330
         ]
        },
        {
         "hoverinfo": "text",
         "line": {
          "color": "rgba(128, 128, 128, 0.4)",
          "width": 1
         },
         "mode": "lines",
         "text": "46.24",
         "type": "scatter3d",
         "x": [
          179,
          191
         ],
         "y": [
          312,
          287
         ],
         "z": [
          379,
          342
         ]
        },
        {
         "hoverinfo": "text",
         "line": {
          "color": "rgba(128, 128, 128, 0.4)",
          "width": 1
         },
         "mode": "lines",
         "text": "38.65",
         "type": "scatter3d",
         "x": [
          179,
          197
         ],
         "y": [
          360,
          327
         ],
         "z": [
          328,
          319
         ]
        },
        {
         "hoverinfo": "text",
         "line": {
          "color": "rgba(128, 128, 128, 0.4)",
          "width": 1
         },
         "mode": "lines",
         "text": "53.00",
         "type": "scatter3d",
         "x": [
          180,
          217
         ],
         "y": [
          170,
          206
         ],
         "z": [
          299,
          287
         ]
        },
        {
         "hoverinfo": "text",
         "line": {
          "color": "rgba(128, 128, 128, 0.4)",
          "width": 1
         },
         "mode": "lines",
         "text": "11.36",
         "type": "scatter3d",
         "x": [
          182,
          186
         ],
         "y": [
          390,
          383
         ],
         "z": [
          252,
          244
         ]
        },
        {
         "hoverinfo": "text",
         "line": {
          "color": "rgba(128, 128, 128, 0.4)",
          "width": 1
         },
         "mode": "lines",
         "text": "45.66",
         "type": "scatter3d",
         "x": [
          182,
          189
         ],
         "y": [
          413,
          369
         ],
         "z": [
          188,
          178
         ]
        },
        {
         "hoverinfo": "text",
         "line": {
          "color": "rgba(128, 128, 128, 0.4)",
          "width": 1
         },
         "mode": "lines",
         "text": "12.41",
         "type": "scatter3d",
         "x": [
          183,
          192
         ],
         "y": [
          109,
          117
         ],
         "z": [
          183,
          186
         ]
        },
        {
         "hoverinfo": "text",
         "line": {
          "color": "rgba(128, 128, 128, 0.4)",
          "width": 1
         },
         "mode": "lines",
         "text": "47.94",
         "type": "scatter3d",
         "x": [
          183,
          176
         ],
         "y": [
          183,
          226
         ],
         "z": [
          350,
          330
         ]
        },
        {
         "hoverinfo": "text",
         "line": {
          "color": "rgba(128, 128, 128, 0.4)",
          "width": 1
         },
         "mode": "lines",
         "text": "5.92",
         "type": "scatter3d",
         "x": [
          183,
          188
         ],
         "y": [
          373,
          374
         ],
         "z": [
          163,
          166
         ]
        },
        {
         "hoverinfo": "text",
         "line": {
          "color": "rgba(128, 128, 128, 0.4)",
          "width": 1
         },
         "mode": "lines",
         "text": "23.43",
         "type": "scatter3d",
         "x": [
          183,
          203
         ],
         "y": [
          415,
          405
         ],
         "z": [
          87,
          94
         ]
        },
        {
         "hoverinfo": "text",
         "line": {
          "color": "rgba(128, 128, 128, 0.4)",
          "width": 1
         },
         "mode": "lines",
         "text": "1.41",
         "type": "scatter3d",
         "x": [
          187,
          188
         ],
         "y": [
          372,
          373
         ],
         "z": [
          168,
          168
         ]
        },
        {
         "hoverinfo": "text",
         "line": {
          "color": "rgba(128, 128, 128, 0.4)",
          "width": 1
         },
         "mode": "lines",
         "text": "8.60",
         "type": "scatter3d",
         "x": [
          188,
          193
         ],
         "y": [
          320,
          313
         ],
         "z": [
          203,
          203
         ]
        },
        {
         "hoverinfo": "text",
         "line": {
          "color": "rgba(128, 128, 128, 0.4)",
          "width": 1
         },
         "mode": "lines",
         "text": "9.54",
         "type": "scatter3d",
         "x": [
          188,
          179
         ],
         "y": [
          320,
          323
         ],
         "z": [
          203,
          204
         ]
        },
        {
         "hoverinfo": "text",
         "line": {
          "color": "rgba(128, 128, 128, 0.4)",
          "width": 1
         },
         "mode": "lines",
         "text": "55.02",
         "type": "scatter3d",
         "x": [
          188,
          189
         ],
         "y": [
          320,
          369
         ],
         "z": [
          203,
          178
         ]
        },
        {
         "hoverinfo": "text",
         "line": {
          "color": "rgba(128, 128, 128, 0.4)",
          "width": 1
         },
         "mode": "lines",
         "text": "2.24",
         "type": "scatter3d",
         "x": [
          188,
          188
         ],
         "y": [
          373,
          374
         ],
         "z": [
          168,
          166
         ]
        },
        {
         "hoverinfo": "text",
         "line": {
          "color": "rgba(128, 128, 128, 0.4)",
          "width": 1
         },
         "mode": "lines",
         "text": "10.82",
         "type": "scatter3d",
         "x": [
          188,
          189
         ],
         "y": [
          373,
          369
         ],
         "z": [
          168,
          178
         ]
        },
        {
         "hoverinfo": "text",
         "line": {
          "color": "rgba(128, 128, 128, 0.4)",
          "width": 1
         },
         "mode": "lines",
         "text": "16.31",
         "type": "scatter3d",
         "x": [
          190,
          186
         ],
         "y": [
          333,
          328
         ],
         "z": [
          351,
          336
         ]
        },
        {
         "hoverinfo": "text",
         "line": {
          "color": "rgba(128, 128, 128, 0.4)",
          "width": 1
         },
         "mode": "lines",
         "text": "92.20",
         "type": "scatter3d",
         "x": [
          192,
          240
         ],
         "y": [
          117,
          47
         ],
         "z": [
          186,
          150
         ]
        },
        {
         "hoverinfo": "text",
         "line": {
          "color": "rgba(128, 128, 128, 0.4)",
          "width": 1
         },
         "mode": "lines",
         "text": "89.81",
         "type": "scatter3d",
         "x": [
          192,
          213
         ],
         "y": [
          117,
          202
         ],
         "z": [
          186,
          206
         ]
        },
        {
         "hoverinfo": "text",
         "line": {
          "color": "rgba(128, 128, 128, 0.4)",
          "width": 1
         },
         "mode": "lines",
         "text": "32.16",
         "type": "scatter3d",
         "x": [
          192,
          219
         ],
         "y": [
          225,
          229
         ],
         "z": [
          255,
          272
         ]
        },
        {
         "hoverinfo": "text",
         "line": {
          "color": "rgba(128, 128, 128, 0.4)",
          "width": 1
         },
         "mode": "lines",
         "text": "20.02",
         "type": "scatter3d",
         "x": [
          193,
          206
         ],
         "y": [
          313,
          299
         ],
         "z": [
          203,
          209
         ]
        },
        {
         "hoverinfo": "text",
         "line": {
          "color": "rgba(128, 128, 128, 0.4)",
          "width": 1
         },
         "mode": "lines",
         "text": "35.24",
         "type": "scatter3d",
         "x": [
          195,
          230
         ],
         "y": [
          273,
          274
         ],
         "z": [
          168,
          164
         ]
        },
        {
         "hoverinfo": "text",
         "line": {
          "color": "rgba(128, 128, 128, 0.4)",
          "width": 1
         },
         "mode": "lines",
         "text": "25.73",
         "type": "scatter3d",
         "x": [
          195,
          206
         ],
         "y": [
          278,
          299
         ],
         "z": [
          199,
          209
         ]
        },
        {
         "hoverinfo": "text",
         "line": {
          "color": "rgba(128, 128, 128, 0.4)",
          "width": 1
         },
         "mode": "lines",
         "text": "17.00",
         "type": "scatter3d",
         "x": [
          195,
          207
         ],
         "y": [
          287,
          296
         ],
         "z": [
          407,
          399
         ]
        },
        {
         "hoverinfo": "text",
         "line": {
          "color": "rgba(128, 128, 128, 0.4)",
          "width": 1
         },
         "mode": "lines",
         "text": "17.72",
         "type": "scatter3d",
         "x": [
          195,
          188
         ],
         "y": [
          386,
          374
         ],
         "z": [
          155,
          166
         ]
        },
        {
         "hoverinfo": "text",
         "line": {
          "color": "rgba(128, 128, 128, 0.4)",
          "width": 1
         },
         "mode": "lines",
         "text": "23.28",
         "type": "scatter3d",
         "x": [
          195,
          204
         ],
         "y": [
          386,
          396
         ],
         "z": [
          155,
          136
         ]
        },
        {
         "hoverinfo": "text",
         "line": {
          "color": "rgba(128, 128, 128, 0.4)",
          "width": 1
         },
         "mode": "lines",
         "text": "27.02",
         "type": "scatter3d",
         "x": [
          197,
          216
         ],
         "y": [
          327,
          312
         ],
         "z": [
          319,
          307
         ]
        },
        {
         "hoverinfo": "text",
         "line": {
          "color": "rgba(128, 128, 128, 0.4)",
          "width": 1
         },
         "mode": "lines",
         "text": "20.27",
         "type": "scatter3d",
         "x": [
          197,
          186
         ],
         "y": [
          327,
          328
         ],
         "z": [
          319,
          336
         ]
        },
        {
         "hoverinfo": "text",
         "line": {
          "color": "rgba(128, 128, 128, 0.4)",
          "width": 1
         },
         "mode": "lines",
         "text": "39.51",
         "type": "scatter3d",
         "x": [
          201,
          203
         ],
         "y": [
          399,
          405
         ],
         "z": [
          133,
          94
         ]
        },
        {
         "hoverinfo": "text",
         "line": {
          "color": "rgba(128, 128, 128, 0.4)",
          "width": 1
         },
         "mode": "lines",
         "text": "5.20",
         "type": "scatter3d",
         "x": [
          201,
          204
         ],
         "y": [
          399,
          396
         ],
         "z": [
          133,
          136
         ]
        },
        {
         "hoverinfo": "text",
         "line": {
          "color": "rgba(128, 128, 128, 0.4)",
          "width": 1
         },
         "mode": "lines",
         "text": "1.73",
         "type": "scatter3d",
         "x": [
          203,
          204
         ],
         "y": [
          267,
          266
         ],
         "z": [
          318,
          317
         ]
        },
        {
         "hoverinfo": "text",
         "line": {
          "color": "rgba(128, 128, 128, 0.4)",
          "width": 1
         },
         "mode": "lines",
         "text": "33.47",
         "type": "scatter3d",
         "x": [
          203,
          191
         ],
         "y": [
          267,
          287
         ],
         "z": [
          318,
          342
         ]
        },
        {
         "hoverinfo": "text",
         "line": {
          "color": "rgba(128, 128, 128, 0.4)",
          "width": 1
         },
         "mode": "lines",
         "text": "47.55",
         "type": "scatter3d",
         "x": [
          203,
          237
         ],
         "y": [
          405,
          414
         ],
         "z": [
          94,
          62
         ]
        },
        {
         "hoverinfo": "text",
         "line": {
          "color": "rgba(128, 128, 128, 0.4)",
          "width": 1
         },
         "mode": "lines",
         "text": "30.43",
         "type": "scatter3d",
         "x": [
          204,
          225
         ],
         "y": [
          266,
          267
         ],
         "z": [
          317,
          295
         ]
        },
        {
         "hoverinfo": "text",
         "line": {
          "color": "rgba(128, 128, 128, 0.4)",
          "width": 1
         },
         "mode": "lines",
         "text": "23.37",
         "type": "scatter3d",
         "x": [
          206,
          207
         ],
         "y": [
          313,
          296
         ],
         "z": [
          415,
          399
         ]
        },
        {
         "hoverinfo": "text",
         "line": {
          "color": "rgba(128, 128, 128, 0.4)",
          "width": 1
         },
         "mode": "lines",
         "text": "32.59",
         "type": "scatter3d",
         "x": [
          207,
          229
         ],
         "y": [
          296,
          289
         ],
         "z": [
          399,
          376
         ]
        },
        {
         "hoverinfo": "text",
         "line": {
          "color": "rgba(128, 128, 128, 0.4)",
          "width": 1
         },
         "mode": "lines",
         "text": "4.12",
         "type": "scatter3d",
         "x": [
          210,
          212
         ],
         "y": [
          225,
          222
         ],
         "z": [
          209,
          207
         ]
        },
        {
         "hoverinfo": "text",
         "line": {
          "color": "rgba(128, 128, 128, 0.4)",
          "width": 1
         },
         "mode": "lines",
         "text": "64.82",
         "type": "scatter3d",
         "x": [
          210,
          250
         ],
         "y": [
          225,
          270
         ],
         "z": [
          209,
          233
         ]
        },
        {
         "hoverinfo": "text",
         "line": {
          "color": "rgba(128, 128, 128, 0.4)",
          "width": 1
         },
         "mode": "lines",
         "text": "54.71",
         "type": "scatter3d",
         "x": [
          210,
          228
         ],
         "y": [
          381,
          343
         ],
         "z": [
          296,
          261
         ]
        },
        {
         "hoverinfo": "text",
         "line": {
          "color": "rgba(128, 128, 128, 0.4)",
          "width": 1
         },
         "mode": "lines",
         "text": "20.05",
         "type": "scatter3d",
         "x": [
          212,
          213
         ],
         "y": [
          222,
          202
         ],
         "z": [
          207,
          206
         ]
        },
        {
         "hoverinfo": "text",
         "line": {
          "color": "rgba(128, 128, 128, 0.4)",
          "width": 1
         },
         "mode": "lines",
         "text": "38.17",
         "type": "scatter3d",
         "x": [
          213,
          227
         ],
         "y": [
          159,
          189
         ],
         "z": [
          310,
          291
         ]
        },
        {
         "hoverinfo": "text",
         "line": {
          "color": "rgba(128, 128, 128, 0.4)",
          "width": 1
         },
         "mode": "lines",
         "text": "25.73",
         "type": "scatter3d",
         "x": [
          213,
          220
         ],
         "y": [
          306,
          288
         ],
         "z": [
          236,
          219
         ]
        },
        {
         "hoverinfo": "text",
         "line": {
          "color": "rgba(128, 128, 128, 0.4)",
          "width": 1
         },
         "mode": "lines",
         "text": "81.99",
         "type": "scatter3d",
         "x": [
          213,
          186
         ],
         "y": [
          306,
          383
         ],
         "z": [
          236,
          244
         ]
        },
        {
         "hoverinfo": "text",
         "line": {
          "color": "rgba(128, 128, 128, 0.4)",
          "width": 1
         },
         "mode": "lines",
         "text": "47.43",
         "type": "scatter3d",
         "x": [
          216,
          225
         ],
         "y": [
          312,
          267
         ],
         "z": [
          307,
          295
         ]
        },
        {
         "hoverinfo": "text",
         "line": {
          "color": "rgba(128, 128, 128, 0.4)",
          "width": 1
         },
         "mode": "lines",
         "text": "28.60",
         "type": "scatter3d",
         "x": [
          216,
          228
         ],
         "y": [
          312,
          337
         ],
         "z": [
          307,
          314
         ]
        },
        {
         "hoverinfo": "text",
         "line": {
          "color": "rgba(128, 128, 128, 0.4)",
          "width": 1
         },
         "mode": "lines",
         "text": "42.25",
         "type": "scatter3d",
         "x": [
          217,
          219
         ],
         "y": [
          188,
          229
         ],
         "z": [
          262,
          272
         ]
        },
        {
         "hoverinfo": "text",
         "line": {
          "color": "rgba(128, 128, 128, 0.4)",
          "width": 1
         },
         "mode": "lines",
         "text": "62.11",
         "type": "scatter3d",
         "x": [
          217,
          221
         ],
         "y": [
          188,
          127
         ],
         "z": [
          262,
          251
         ]
        },
        {
         "hoverinfo": "text",
         "line": {
          "color": "rgba(128, 128, 128, 0.4)",
          "width": 1
         },
         "mode": "lines",
         "text": "20.12",
         "type": "scatter3d",
         "x": [
          217,
          227
         ],
         "y": [
          206,
          189
         ],
         "z": [
          287,
          291
         ]
        },
        {
         "hoverinfo": "text",
         "line": {
          "color": "rgba(128, 128, 128, 0.4)",
          "width": 1
         },
         "mode": "lines",
         "text": "27.86",
         "type": "scatter3d",
         "x": [
          217,
          219
         ],
         "y": [
          206,
          230
         ],
         "z": [
          287,
          273
         ]
        },
        {
         "hoverinfo": "text",
         "line": {
          "color": "rgba(128, 128, 128, 0.4)",
          "width": 1
         },
         "mode": "lines",
         "text": "54.53",
         "type": "scatter3d",
         "x": [
          219,
          213
         ],
         "y": [
          155,
          202
         ],
         "z": [
          179,
          206
         ]
        },
        {
         "hoverinfo": "text",
         "line": {
          "color": "rgba(128, 128, 128, 0.4)",
          "width": 1
         },
         "mode": "lines",
         "text": "1.41",
         "type": "scatter3d",
         "x": [
          219,
          219
         ],
         "y": [
          229,
          230
         ],
         "z": [
          272,
          273
         ]
        },
        {
         "hoverinfo": "text",
         "line": {
          "color": "rgba(128, 128, 128, 0.4)",
          "width": 1
         },
         "mode": "lines",
         "text": "12.73",
         "type": "scatter3d",
         "x": [
          220,
          213
         ],
         "y": [
          288,
          295
         ],
         "z": [
          219,
          211
         ]
        },
        {
         "hoverinfo": "text",
         "line": {
          "color": "rgba(128, 128, 128, 0.4)",
          "width": 1
         },
         "mode": "lines",
         "text": "5.39",
         "type": "scatter3d",
         "x": [
          220,
          222
         ],
         "y": [
          288,
          284
         ],
         "z": [
          219,
          222
         ]
        },
        {
         "hoverinfo": "text",
         "line": {
          "color": "rgba(128, 128, 128, 0.4)",
          "width": 1
         },
         "mode": "lines",
         "text": "20.42",
         "type": "scatter3d",
         "x": [
          225,
          226
         ],
         "y": [
          214,
          234
         ],
         "z": [
          352,
          356
         ]
        },
        {
         "hoverinfo": "text",
         "line": {
          "color": "rgba(128, 128, 128, 0.4)",
          "width": 1
         },
         "mode": "lines",
         "text": "7.81",
         "type": "scatter3d",
         "x": [
          225,
          228
         ],
         "y": [
          267,
          263
         ],
         "z": [
          295,
          289
         ]
        },
        {
         "hoverinfo": "text",
         "line": {
          "color": "rgba(128, 128, 128, 0.4)",
          "width": 1
         },
         "mode": "lines",
         "text": "11.45",
         "type": "scatter3d",
         "x": [
          226,
          229
         ],
         "y": [
          234,
          233
         ],
         "z": [
          356,
          367
         ]
        },
        {
         "hoverinfo": "text",
         "line": {
          "color": "rgba(128, 128, 128, 0.4)",
          "width": 1
         },
         "mode": "lines",
         "text": "57.57",
         "type": "scatter3d",
         "x": [
          226,
          247
         ],
         "y": [
          234,
          277
         ],
         "z": [
          356,
          324
         ]
        },
        {
         "hoverinfo": "text",
         "line": {
          "color": "rgba(128, 128, 128, 0.4)",
          "width": 1
         },
         "mode": "lines",
         "text": "27.87",
         "type": "scatter3d",
         "x": [
          226,
          230
         ],
         "y": [
          293,
          274
         ],
         "z": [
          184,
          164
         ]
        },
        {
         "hoverinfo": "text",
         "line": {
          "color": "rgba(128, 128, 128, 0.4)",
          "width": 1
         },
         "mode": "lines",
         "text": "72.84",
         "type": "scatter3d",
         "x": [
          226,
          270
         ],
         "y": [
          293,
          336
         ],
         "z": [
          184,
          145
         ]
        },
        {
         "hoverinfo": "text",
         "line": {
          "color": "rgba(128, 128, 128, 0.4)",
          "width": 1
         },
         "mode": "lines",
         "text": "30.03",
         "type": "scatter3d",
         "x": [
          226,
          213
         ],
         "y": [
          293,
          295
         ],
         "z": [
          184,
          211
         ]
        },
        {
         "hoverinfo": "text",
         "line": {
          "color": "rgba(128, 128, 128, 0.4)",
          "width": 1
         },
         "mode": "lines",
         "text": "29.68",
         "type": "scatter3d",
         "x": [
          227,
          244
         ],
         "y": [
          189,
          165
         ],
         "z": [
          291,
          295
         ]
        },
        {
         "hoverinfo": "text",
         "line": {
          "color": "rgba(128, 128, 128, 0.4)",
          "width": 1
         },
         "mode": "lines",
         "text": "27.75",
         "type": "scatter3d",
         "x": [
          228,
          237
         ],
         "y": [
          343,
          368
         ],
         "z": [
          261,
          269
         ]
        },
        {
         "hoverinfo": "text",
         "line": {
          "color": "rgba(128, 128, 128, 0.4)",
          "width": 1
         },
         "mode": "lines",
         "text": "36.78",
         "type": "scatter3d",
         "x": [
          228,
          242
         ],
         "y": [
          343,
          312
         ],
         "z": [
          261,
          247
         ]
        },
        {
         "hoverinfo": "text",
         "line": {
          "color": "rgba(128, 128, 128, 0.4)",
          "width": 1
         },
         "mode": "lines",
         "text": "14.70",
         "type": "scatter3d",
         "x": [
          230,
          234
         ],
         "y": [
          274,
          276
         ],
         "z": [
          164,
          150
         ]
        },
        {
         "hoverinfo": "text",
         "line": {
          "color": "rgba(128, 128, 128, 0.4)",
          "width": 1
         },
         "mode": "lines",
         "text": "92.70",
         "type": "scatter3d",
         "x": [
          234,
          312
         ],
         "y": [
          276,
          273
         ],
         "z": [
          150,
          100
         ]
        },
        {
         "hoverinfo": "text",
         "line": {
          "color": "rgba(128, 128, 128, 0.4)",
          "width": 1
         },
         "mode": "lines",
         "text": "121.15",
         "type": "scatter3d",
         "x": [
          234,
          318
         ],
         "y": [
          276,
          291
         ],
         "z": [
          150,
          64
         ]
        },
        {
         "hoverinfo": "text",
         "line": {
          "color": "rgba(128, 128, 128, 0.4)",
          "width": 1
         },
         "mode": "lines",
         "text": "42.38",
         "type": "scatter3d",
         "x": [
          236,
          244
         ],
         "y": [
          317,
          293
         ],
         "z": [
          371,
          337
         ]
        },
        {
         "hoverinfo": "text",
         "line": {
          "color": "rgba(128, 128, 128, 0.4)",
          "width": 1
         },
         "mode": "lines",
         "text": "25.04",
         "type": "scatter3d",
         "x": [
          237,
          262
         ],
         "y": [
          258,
          257
         ],
         "z": [
          283,
          282
         ]
        },
        {
         "hoverinfo": "text",
         "line": {
          "color": "rgba(128, 128, 128, 0.4)",
          "width": 1
         },
         "mode": "lines",
         "text": "34.76",
         "type": "scatter3d",
         "x": [
          237,
          219
         ],
         "y": [
          258,
          230
         ],
         "z": [
          283,
          273
         ]
        },
        {
         "hoverinfo": "text",
         "line": {
          "color": "rgba(128, 128, 128, 0.4)",
          "width": 1
         },
         "mode": "lines",
         "text": "11.92",
         "type": "scatter3d",
         "x": [
          237,
          228
         ],
         "y": [
          258,
          263
         ],
         "z": [
          283,
          289
         ]
        },
        {
         "hoverinfo": "text",
         "line": {
          "color": "rgba(128, 128, 128, 0.4)",
          "width": 1
         },
         "mode": "lines",
         "text": "10.63",
         "type": "scatter3d",
         "x": [
          242,
          246
         ],
         "y": [
          312,
          303
         ],
         "z": [
          247,
          243
         ]
        },
        {
         "hoverinfo": "text",
         "line": {
          "color": "rgba(128, 128, 128, 0.4)",
          "width": 1
         },
         "mode": "lines",
         "text": "28.48",
         "type": "scatter3d",
         "x": [
          242,
          261
         ],
         "y": [
          312,
          327
         ],
         "z": [
          247,
          262
         ]
        },
        {
         "hoverinfo": "text",
         "line": {
          "color": "rgba(128, 128, 128, 0.4)",
          "width": 1
         },
         "mode": "lines",
         "text": "55.66",
         "type": "scatter3d",
         "x": [
          244,
          285
         ],
         "y": [
          165,
          141
         ],
         "z": [
          295,
          324
         ]
        },
        {
         "hoverinfo": "text",
         "line": {
          "color": "rgba(128, 128, 128, 0.4)",
          "width": 1
         },
         "mode": "lines",
         "text": "42.49",
         "type": "scatter3d",
         "x": [
          244,
          258
         ],
         "y": [
          165,
          125
         ],
         "z": [
          295,
          292
         ]
        },
        {
         "hoverinfo": "text",
         "line": {
          "color": "rgba(128, 128, 128, 0.4)",
          "width": 1
         },
         "mode": "lines",
         "text": "9.85",
         "type": "scatter3d",
         "x": [
          244,
          244
         ],
         "y": [
          284,
          293
         ],
         "z": [
          333,
          337
         ]
        },
        {
         "hoverinfo": "text",
         "line": {
          "color": "rgba(128, 128, 128, 0.4)",
          "width": 1
         },
         "mode": "lines",
         "text": "11.79",
         "type": "scatter3d",
         "x": [
          244,
          247
         ],
         "y": [
          284,
          277
         ],
         "z": [
          333,
          324
         ]
        },
        {
         "hoverinfo": "text",
         "line": {
          "color": "rgba(128, 128, 128, 0.4)",
          "width": 1
         },
         "mode": "lines",
         "text": "45.81",
         "type": "scatter3d",
         "x": [
          244,
          229
         ],
         "y": [
          284,
          289
         ],
         "z": [
          333,
          376
         ]
        },
        {
         "hoverinfo": "text",
         "line": {
          "color": "rgba(128, 128, 128, 0.4)",
          "width": 1
         },
         "mode": "lines",
         "text": "15.30",
         "type": "scatter3d",
         "x": [
          244,
          252
         ],
         "y": [
          293,
          292
         ],
         "z": [
          337,
          350
         ]
        },
        {
         "hoverinfo": "text",
         "line": {
          "color": "rgba(128, 128, 128, 0.4)",
          "width": 1
         },
         "mode": "lines",
         "text": "30.15",
         "type": "scatter3d",
         "x": [
          246,
          264
         ],
         "y": [
          303,
          324
         ],
         "z": [
          243,
          231
         ]
        },
        {
         "hoverinfo": "text",
         "line": {
          "color": "rgba(128, 128, 128, 0.4)",
          "width": 1
         },
         "mode": "lines",
         "text": "23.37",
         "type": "scatter3d",
         "x": [
          246,
          245
         ],
         "y": [
          303,
          280
         ],
         "z": [
          243,
          239
         ]
        },
        {
         "hoverinfo": "text",
         "line": {
          "color": "rgba(128, 128, 128, 0.4)",
          "width": 1
         },
         "mode": "lines",
         "text": "34.91",
         "type": "scatter3d",
         "x": [
          246,
          257
         ],
         "y": [
          395,
          362
         ],
         "z": [
          207,
          210
         ]
        },
        {
         "hoverinfo": "text",
         "line": {
          "color": "rgba(128, 128, 128, 0.4)",
          "width": 1
         },
         "mode": "lines",
         "text": "48.88",
         "type": "scatter3d",
         "x": [
          247,
          262
         ],
         "y": [
          277,
          257
         ],
         "z": [
          324,
          282
         ]
        },
        {
         "hoverinfo": "text",
         "line": {
          "color": "rgba(128, 128, 128, 0.4)",
          "width": 1
         },
         "mode": "lines",
         "text": "63.65",
         "type": "scatter3d",
         "x": [
          249,
          204
         ],
         "y": [
          397,
          396
         ],
         "z": [
          91,
          136
         ]
        },
        {
         "hoverinfo": "text",
         "line": {
          "color": "rgba(128, 128, 128, 0.4)",
          "width": 1
         },
         "mode": "lines",
         "text": "9.85",
         "type": "scatter3d",
         "x": [
          251,
          256
         ],
         "y": [
          359,
          353
         ],
         "z": [
          224,
          218
         ]
        },
        {
         "hoverinfo": "text",
         "line": {
          "color": "rgba(128, 128, 128, 0.4)",
          "width": 1
         },
         "mode": "lines",
         "text": "57.37",
         "type": "scatter3d",
         "x": [
          253,
          302
         ],
         "y": [
          269,
          250
         ],
         "z": [
          235,
          258
         ]
        },
        {
         "hoverinfo": "text",
         "line": {
          "color": "rgba(128, 128, 128, 0.4)",
          "width": 1
         },
         "mode": "lines",
         "text": "3.74",
         "type": "scatter3d",
         "x": [
          253,
          250
         ],
         "y": [
          269,
          270
         ],
         "z": [
          235,
          233
         ]
        },
        {
         "hoverinfo": "text",
         "line": {
          "color": "rgba(128, 128, 128, 0.4)",
          "width": 1
         },
         "mode": "lines",
         "text": "14.18",
         "type": "scatter3d",
         "x": [
          253,
          245
         ],
         "y": [
          269,
          280
         ],
         "z": [
          235,
          239
         ]
        },
        {
         "hoverinfo": "text",
         "line": {
          "color": "rgba(128, 128, 128, 0.4)",
          "width": 1
         },
         "mode": "lines",
         "text": "35.40",
         "type": "scatter3d",
         "x": [
          254,
          229
         ],
         "y": [
          301,
          289
         ],
         "z": [
          398,
          376
         ]
        },
        {
         "hoverinfo": "text",
         "line": {
          "color": "rgba(128, 128, 128, 0.4)",
          "width": 1
         },
         "mode": "lines",
         "text": "10.49",
         "type": "scatter3d",
         "x": [
          255,
          258
         ],
         "y": [
          115,
          125
         ],
         "z": [
          291,
          292
         ]
        },
        {
         "hoverinfo": "text",
         "line": {
          "color": "rgba(128, 128, 128, 0.4)",
          "width": 1
         },
         "mode": "lines",
         "text": "32.77",
         "type": "scatter3d",
         "x": [
          256,
          264
         ],
         "y": [
          353,
          324
         ],
         "z": [
          218,
          231
         ]
        },
        {
         "hoverinfo": "text",
         "line": {
          "color": "rgba(128, 128, 128, 0.4)",
          "width": 1
         },
         "mode": "lines",
         "text": "12.08",
         "type": "scatter3d",
         "x": [
          256,
          257
         ],
         "y": [
          353,
          362
         ],
         "z": [
          218,
          210
         ]
        },
        {
         "hoverinfo": "text",
         "line": {
          "color": "rgba(128, 128, 128, 0.4)",
          "width": 1
         },
         "mode": "lines",
         "text": "1.41",
         "type": "scatter3d",
         "x": [
          259,
          260
         ],
         "y": [
          359,
          358
         ],
         "z": [
          136,
          136
         ]
        },
        {
         "hoverinfo": "text",
         "line": {
          "color": "rgba(128, 128, 128, 0.4)",
          "width": 1
         },
         "mode": "lines",
         "text": "25.79",
         "type": "scatter3d",
         "x": [
          260,
          270
         ],
         "y": [
          358,
          336
         ],
         "z": [
          136,
          145
         ]
        },
        {
         "hoverinfo": "text",
         "line": {
          "color": "rgba(128, 128, 128, 0.4)",
          "width": 1
         },
         "mode": "lines",
         "text": "26.12",
         "type": "scatter3d",
         "x": [
          260,
          272
         ],
         "y": [
          358,
          361
         ],
         "z": [
          136,
          113
         ]
        },
        {
         "hoverinfo": "text",
         "line": {
          "color": "rgba(128, 128, 128, 0.4)",
          "width": 1
         },
         "mode": "lines",
         "text": "47.17",
         "type": "scatter3d",
         "x": [
          262,
          302
         ],
         "y": [
          257,
          250
         ],
         "z": [
          282,
          258
         ]
        },
        {
         "hoverinfo": "text",
         "line": {
          "color": "rgba(128, 128, 128, 0.4)",
          "width": 1
         },
         "mode": "lines",
         "text": "17.97",
         "type": "scatter3d",
         "x": [
          262,
          257
         ],
         "y": [
          365,
          362
         ],
         "z": [
          193,
          210
         ]
        },
        {
         "hoverinfo": "text",
         "line": {
          "color": "rgba(128, 128, 128, 0.4)",
          "width": 1
         },
         "mode": "lines",
         "text": "18.81",
         "type": "scatter3d",
         "x": [
          264,
          281
         ],
         "y": [
          324,
          325
         ],
         "z": [
          231,
          223
         ]
        },
        {
         "hoverinfo": "text",
         "line": {
          "color": "rgba(128, 128, 128, 0.4)",
          "width": 1
         },
         "mode": "lines",
         "text": "12.08",
         "type": "scatter3d",
         "x": [
          269,
          258
         ],
         "y": [
          120,
          125
         ],
         "z": [
          292,
          292
         ]
        },
        {
         "hoverinfo": "text",
         "line": {
          "color": "rgba(128, 128, 128, 0.4)",
          "width": 1
         },
         "mode": "lines",
         "text": "9.49",
         "type": "scatter3d",
         "x": [
          270,
          273
         ],
         "y": [
          336,
          336
         ],
         "z": [
          145,
          136
         ]
        },
        {
         "hoverinfo": "text",
         "line": {
          "color": "rgba(128, 128, 128, 0.4)",
          "width": 1
         },
         "mode": "lines",
         "text": "54.78",
         "type": "scatter3d",
         "x": [
          302,
          350
         ],
         "y": [
          250,
          226
         ],
         "z": [
          258,
          269
         ]
        },
        {
         "hoverinfo": "text",
         "line": {
          "color": "rgba(128, 128, 128, 0.4)",
          "width": 1
         },
         "mode": "lines",
         "text": "1.41",
         "type": "scatter3d",
         "x": [
          350,
          350
         ],
         "y": [
          225,
          226
         ],
         "z": [
          268,
          269
         ]
        },
        {
         "hoverinfo": "text",
         "line": {
          "color": "rgba(128, 128, 128, 0.4)",
          "width": 1
         },
         "mode": "lines",
         "text": "42.92",
         "type": "scatter3d",
         "x": [
          350,
          385
         ],
         "y": [
          226,
          207
         ],
         "z": [
          269,
          285
         ]
        },
        {
         "hoverinfo": "text",
         "line": {
          "color": "rgba(128, 128, 128, 0.4)",
          "width": 1
         },
         "mode": "lines",
         "text": "6.40",
         "type": "scatter3d",
         "x": [
          385,
          387
         ],
         "y": [
          207,
          213
         ],
         "z": [
          285,
          286
         ]
        },
        {
         "hoverinfo": "text",
         "line": {
          "color": "rgba(128, 128, 128, 0.4)",
          "width": 1
         },
         "mode": "lines",
         "text": "9.90",
         "type": "scatter3d",
         "x": [
          385,
          393
         ],
         "y": [
          207,
          202
         ],
         "z": [
          285,
          288
         ]
        },
        {
         "hoverinfo": "text",
         "line": {
          "color": "rgba(128, 128, 128, 0.4)",
          "width": 1
         },
         "mode": "lines",
         "text": "72.64",
         "type": "scatter3d",
         "x": [
          393,
          415
         ],
         "y": [
          202,
          134
         ],
         "z": [
          288,
          275
         ]
        },
        {
         "hoverinfo": "text",
         "line": {
          "color": "rgba(128, 128, 128, 0.4)",
          "width": 1
         },
         "mode": "lines",
         "text": "94.85",
         "type": "scatter3d",
         "x": [
          393,
          461
         ],
         "y": [
          202,
          268
         ],
         "z": [
          288,
          292
         ]
        },
        {
         "hoverinfo": "text",
         "line": {
          "color": "rgba(128, 128, 128, 0.4)",
          "width": 1
         },
         "mode": "lines",
         "text": "17.97",
         "type": "scatter3d",
         "x": [
          412,
          415
         ],
         "y": [
          117,
          134
         ],
         "z": [
          270,
          275
         ]
        },
        {
         "hoverinfo": "text",
         "line": {
          "color": "rgba(128, 128, 128, 0.4)",
          "width": 1
         },
         "mode": "lines",
         "text": "10.20",
         "type": "scatter3d",
         "x": [
          415,
          421
         ],
         "y": [
          104,
          112
         ],
         "z": [
          259,
          261
         ]
        },
        {
         "hoverinfo": "text",
         "line": {
          "color": "rgba(128, 128, 128, 0.4)",
          "width": 1
         },
         "mode": "lines",
         "text": "10.05",
         "type": "scatter3d",
         "x": [
          415,
          422
         ],
         "y": [
          134,
          130
         ],
         "z": [
          275,
          269
         ]
        },
        {
         "hoverinfo": "text",
         "line": {
          "color": "rgba(128, 128, 128, 0.4)",
          "width": 1
         },
         "mode": "lines",
         "text": "2.83",
         "type": "scatter3d",
         "x": [
          420,
          422
         ],
         "y": [
          95,
          97
         ],
         "z": [
          250,
          250
         ]
        },
        {
         "hoverinfo": "text",
         "line": {
          "color": "rgba(128, 128, 128, 0.4)",
          "width": 1
         },
         "mode": "lines",
         "text": "1.41",
         "type": "scatter3d",
         "x": [
          420,
          421
         ],
         "y": [
          115,
          116
         ],
         "z": [
          263,
          263
         ]
        },
        {
         "hoverinfo": "text",
         "line": {
          "color": "rgba(128, 128, 128, 0.4)",
          "width": 1
         },
         "mode": "lines",
         "text": "4.24",
         "type": "scatter3d",
         "x": [
          421,
          424
         ],
         "y": [
          93,
          96
         ],
         "z": [
          247,
          247
         ]
        },
        {
         "hoverinfo": "text",
         "line": {
          "color": "rgba(128, 128, 128, 0.4)",
          "width": 1
         },
         "mode": "lines",
         "text": "4.47",
         "type": "scatter3d",
         "x": [
          421,
          421
         ],
         "y": [
          116,
          112
         ],
         "z": [
          263,
          261
         ]
        },
        {
         "hoverinfo": "text",
         "line": {
          "color": "rgba(128, 128, 128, 0.4)",
          "width": 1
         },
         "mode": "lines",
         "text": "15.26",
         "type": "scatter3d",
         "x": [
          421,
          422
         ],
         "y": [
          116,
          130
         ],
         "z": [
          263,
          269
         ]
        },
        {
         "hoverinfo": "text",
         "line": {
          "color": "rgba(128, 128, 128, 0.4)",
          "width": 1
         },
         "mode": "lines",
         "text": "7.87",
         "type": "scatter3d",
         "x": [
          422,
          427
         ],
         "y": [
          81,
          87
         ],
         "z": [
          237,
          238
         ]
        },
        {
         "hoverinfo": "text",
         "line": {
          "color": "rgba(128, 128, 128, 0.4)",
          "width": 1
         },
         "mode": "lines",
         "text": "4.24",
         "type": "scatter3d",
         "x": [
          422,
          425
         ],
         "y": [
          90,
          93
         ],
         "z": [
          244,
          244
         ]
        },
        {
         "hoverinfo": "text",
         "line": {
          "color": "rgba(128, 128, 128, 0.4)",
          "width": 1
         },
         "mode": "lines",
         "text": "3.46",
         "type": "scatter3d",
         "x": [
          424,
          426
         ],
         "y": [
          96,
          94
         ],
         "z": [
          247,
          245
         ]
        },
        {
         "hoverinfo": "text",
         "line": {
          "color": "rgba(128, 128, 128, 0.4)",
          "width": 1
         },
         "mode": "lines",
         "text": "3.74",
         "type": "scatter3d",
         "x": [
          424,
          422
         ],
         "y": [
          96,
          97
         ],
         "z": [
          247,
          250
         ]
        },
        {
         "hoverinfo": "text",
         "line": {
          "color": "rgba(128, 128, 128, 0.4)",
          "width": 1
         },
         "mode": "lines",
         "text": "1.41",
         "type": "scatter3d",
         "x": [
          425,
          426
         ],
         "y": [
          88,
          89
         ],
         "z": [
          241,
          241
         ]
        },
        {
         "hoverinfo": "text",
         "line": {
          "color": "rgba(255, 0, 0, 0.8)",
          "width": 8
         },
         "mode": "lines",
         "text": "1.00",
         "type": "scatter3d",
         "x": [
          425,
          426
         ],
         "y": [
          93,
          93
         ],
         "z": [
          244,
          244
         ]
        },
        {
         "hoverinfo": "text",
         "line": {
          "color": "rgba(255, 0, 0, 0.8)",
          "width": 8
         },
         "mode": "lines",
         "text": "1.73",
         "type": "scatter3d",
         "x": [
          425,
          426
         ],
         "y": [
          93,
          94
         ],
         "z": [
          244,
          245
         ]
        },
        {
         "hoverinfo": "text",
         "line": {
          "color": "rgba(128, 128, 128, 0.4)",
          "width": 1
         },
         "mode": "lines",
         "text": "3.74",
         "type": "scatter3d",
         "x": [
          426,
          427
         ],
         "y": [
          89,
          87
         ],
         "z": [
          241,
          238
         ]
        },
        {
         "hoverinfo": "text",
         "line": {
          "color": "rgba(128, 128, 128, 0.4)",
          "width": 1
         },
         "mode": "lines",
         "text": "3.32",
         "type": "scatter3d",
         "x": [
          426,
          427
         ],
         "y": [
          89,
          92
         ],
         "z": [
          241,
          242
         ]
        },
        {
         "hoverinfo": "text",
         "line": {
          "color": "rgba(255, 0, 0, 0.8)",
          "width": 8
         },
         "mode": "lines",
         "text": "1.41",
         "type": "scatter3d",
         "x": [
          426,
          426
         ],
         "y": [
          93,
          94
         ],
         "z": [
          244,
          245
         ]
        },
        {
         "hoverinfo": "text",
         "line": {
          "color": "rgba(128, 128, 128, 0.4)",
          "width": 1
         },
         "mode": "lines",
         "text": "2.45",
         "type": "scatter3d",
         "x": [
          426,
          427
         ],
         "y": [
          93,
          92
         ],
         "z": [
          244,
          242
         ]
        },
        {
         "hoverinfo": "text",
         "line": {
          "color": "rgba(128, 128, 128, 0.4)",
          "width": 1
         },
         "mode": "lines",
         "text": "8.19",
         "type": "scatter3d",
         "x": [
          426,
          433
         ],
         "y": [
          94,
          97
         ],
         "z": [
          245,
          242
         ]
        },
        {
         "hoverinfo": "text",
         "line": {
          "color": "rgba(128, 128, 128, 0.4)",
          "width": 1
         },
         "mode": "lines",
         "text": "5.83",
         "type": "scatter3d",
         "x": [
          427,
          430
         ],
         "y": [
          87,
          84
         ],
         "z": [
          238,
          234
         ]
        },
        {
         "hoverinfo": "text",
         "line": {
          "color": "rgba(128, 128, 128, 0.4)",
          "width": 1
         },
         "mode": "lines",
         "text": "8.37",
         "type": "scatter3d",
         "x": [
          428,
          422
         ],
         "y": [
          127,
          130
         ],
         "z": [
          264,
          269
         ]
        },
        {
         "hoverinfo": "text",
         "line": {
          "color": "rgba(128, 128, 128, 0.4)",
          "width": 1
         },
         "mode": "lines",
         "text": "9.27",
         "type": "scatter3d",
         "x": [
          430,
          437
         ],
         "y": [
          84,
          85
         ],
         "z": [
          234,
          228
         ]
        },
        {
         "hoverinfo": "text",
         "line": {
          "color": "rgba(128, 128, 128, 0.4)",
          "width": 1
         },
         "mode": "lines",
         "text": "14.73",
         "type": "scatter3d",
         "x": [
          430,
          433
         ],
         "y": [
          84,
          76
         ],
         "z": [
          234,
          222
         ]
        },
        {
         "hoverinfo": "text",
         "line": {
          "color": "rgba(128, 128, 128, 0.4)",
          "width": 1
         },
         "mode": "lines",
         "text": "10.82",
         "type": "scatter3d",
         "x": [
          436,
          436
         ],
         "y": [
          69,
          75
         ],
         "z": [
          207,
          216
         ]
        },
        {
         "hoverinfo": "text",
         "line": {
          "color": "rgba(128, 128, 128, 0.4)",
          "width": 1
         },
         "mode": "lines",
         "text": "3.61",
         "type": "scatter3d",
         "x": [
          439,
          436
         ],
         "y": [
          77,
          75
         ],
         "z": [
          216,
          216
         ]
        },
        {
         "hoverinfo": "text",
         "line": {
          "color": "rgba(128, 128, 128, 0.4)",
          "width": 1
         },
         "mode": "lines",
         "text": "9.22",
         "type": "scatter3d",
         "x": [
          440,
          433
         ],
         "y": [
          82,
          76
         ],
         "z": [
          222,
          222
         ]
        },
        {
         "hoverinfo": "text",
         "line": {
          "color": "rgba(128, 128, 128, 0.4)",
          "width": 1
         },
         "mode": "lines",
         "text": "17.61",
         "type": "scatter3d",
         "x": [
          442,
          427
         ],
         "y": [
          94,
          92
         ],
         "z": [
          233,
          242
         ]
        },
        {
         "hoverinfo": "text",
         "line": {
          "color": "rgba(128, 128, 128, 0.4)",
          "width": 1
         },
         "mode": "lines",
         "text": "52.29",
         "type": "scatter3d",
         "x": [
          442,
          465
         ],
         "y": [
          135,
          177
         ],
         "z": [
          341,
          362
         ]
        },
        {
         "hoverinfo": "text",
         "line": {
          "color": "rgba(128, 128, 128, 0.4)",
          "width": 1
         },
         "mode": "lines",
         "text": "25.24",
         "type": "scatter3d",
         "x": [
          444,
          423
         ],
         "y": [
          99,
          99
         ],
         "z": [
          236,
          250
         ]
        },
        {
         "hoverinfo": "text",
         "line": {
          "color": "rgba(128, 128, 128, 0.4)",
          "width": 1
         },
         "mode": "lines",
         "text": "66.14",
         "type": "scatter3d",
         "x": [
          444,
          490
         ],
         "y": [
          275,
          282
         ],
         "z": [
          412,
          365
         ]
        },
        {
         "hoverinfo": "text",
         "line": {
          "color": "rgba(128, 128, 128, 0.4)",
          "width": 1
         },
         "mode": "lines",
         "text": "25.32",
         "type": "scatter3d",
         "x": [
          447,
          465
         ],
         "y": [
          191,
          177
         ],
         "z": [
          373,
          362
         ]
        },
        {
         "hoverinfo": "text",
         "line": {
          "color": "rgba(128, 128, 128, 0.4)",
          "width": 1
         },
         "mode": "lines",
         "text": "26.25",
         "type": "scatter3d",
         "x": [
          458,
          472
         ],
         "y": [
          386,
          399
         ],
         "z": [
          112,
          130
         ]
        },
        {
         "hoverinfo": "text",
         "line": {
          "color": "rgba(128, 128, 128, 0.4)",
          "width": 1
         },
         "mode": "lines",
         "text": "22.76",
         "type": "scatter3d",
         "x": [
          461,
          474
         ],
         "y": [
          268,
          286
         ],
         "z": [
          292,
          287
         ]
        },
        {
         "hoverinfo": "text",
         "line": {
          "color": "rgba(128, 128, 128, 0.4)",
          "width": 1
         },
         "mode": "lines",
         "text": "25.02",
         "type": "scatter3d",
         "x": [
          461,
          481
         ],
         "y": [
          268,
          269
         ],
         "z": [
          292,
          307
         ]
        },
        {
         "hoverinfo": "text",
         "line": {
          "color": "rgba(128, 128, 128, 0.4)",
          "width": 1
         },
         "mode": "lines",
         "text": "10.68",
         "type": "scatter3d",
         "x": [
          465,
          472
         ],
         "y": [
          407,
          399
         ],
         "z": [
          131,
          130
         ]
        },
        {
         "hoverinfo": "text",
         "line": {
          "color": "rgba(128, 128, 128, 0.4)",
          "width": 1
         },
         "mode": "lines",
         "text": "27.24",
         "type": "scatter3d",
         "x": [
          466,
          475
         ],
         "y": [
          400,
          406
         ],
         "z": [
          70,
          95
         ]
        },
        {
         "hoverinfo": "text",
         "line": {
          "color": "rgba(128, 128, 128, 0.4)",
          "width": 1
         },
         "mode": "lines",
         "text": "50.58",
         "type": "scatter3d",
         "x": [
          468,
          474
         ],
         "y": [
          178,
          129
         ],
         "z": [
          360,
          349
         ]
        },
        {
         "hoverinfo": "text",
         "line": {
          "color": "rgba(128, 128, 128, 0.4)",
          "width": 1
         },
         "mode": "lines",
         "text": "3.74",
         "type": "scatter3d",
         "x": [
          468,
          465
         ],
         "y": [
          178,
          177
         ],
         "z": [
          360,
          362
         ]
        },
        {
         "hoverinfo": "text",
         "line": {
          "color": "rgba(128, 128, 128, 0.4)",
          "width": 1
         },
         "mode": "lines",
         "text": "7.68",
         "type": "scatter3d",
         "x": [
          468,
          471
         ],
         "y": [
          178,
          185
         ],
         "z": [
          360,
          361
         ]
        },
        {
         "hoverinfo": "text",
         "line": {
          "color": "rgba(128, 128, 128, 0.4)",
          "width": 1
         },
         "mode": "lines",
         "text": "8.60",
         "type": "scatter3d",
         "x": [
          470,
          471
         ],
         "y": [
          188,
          185
         ],
         "z": [
          353,
          361
         ]
        },
        {
         "hoverinfo": "text",
         "line": {
          "color": "rgba(128, 128, 128, 0.4)",
          "width": 1
         },
         "mode": "lines",
         "text": "40.02",
         "type": "scatter3d",
         "x": [
          470,
          493
         ],
         "y": [
          374,
          357
         ],
         "z": [
          320,
          292
         ]
        },
        {
         "hoverinfo": "text",
         "line": {
          "color": "rgba(128, 128, 128, 0.4)",
          "width": 1
         },
         "mode": "lines",
         "text": "54.08",
         "type": "scatter3d",
         "x": [
          472,
          492
         ],
         "y": [
          321,
          284
         ],
         "z": [
          409,
          375
         ]
        },
        {
         "hoverinfo": "text",
         "line": {
          "color": "rgba(128, 128, 128, 0.4)",
          "width": 1
         },
         "mode": "lines",
         "text": "9.22",
         "type": "scatter3d",
         "x": [
          472,
          481
         ],
         "y": [
          399,
          399
         ],
         "z": [
          130,
          132
         ]
        },
        {
         "hoverinfo": "text",
         "line": {
          "color": "rgba(128, 128, 128, 0.4)",
          "width": 1
         },
         "mode": "lines",
         "text": "1.41",
         "type": "scatter3d",
         "x": [
          474,
          475
         ],
         "y": [
          286,
          286
         ],
         "z": [
          287,
          288
         ]
        },
        {
         "hoverinfo": "text",
         "line": {
          "color": "rgba(128, 128, 128, 0.4)",
          "width": 1
         },
         "mode": "lines",
         "text": "25.08",
         "type": "scatter3d",
         "x": [
          474,
          490
         ],
         "y": [
          286,
          304
         ],
         "z": [
          287,
          280
         ]
        },
        {
         "hoverinfo": "text",
         "line": {
          "color": "rgba(128, 128, 128, 0.4)",
          "width": 1
         },
         "mode": "lines",
         "text": "16.40",
         "type": "scatter3d",
         "x": [
          474,
          486
         ],
         "y": [
          337,
          332
         ],
         "z": [
          360,
          350
         ]
        },
        {
         "hoverinfo": "text",
         "line": {
          "color": "rgba(128, 128, 128, 0.4)",
          "width": 1
         },
         "mode": "lines",
         "text": "38.13",
         "type": "scatter3d",
         "x": [
          475,
          481
         ],
         "y": [
          406,
          399
         ],
         "z": [
          95,
          132
         ]
        },
        {
         "hoverinfo": "text",
         "line": {
          "color": "rgba(128, 128, 128, 0.4)",
          "width": 1
         },
         "mode": "lines",
         "text": "52.51",
         "type": "scatter3d",
         "x": [
          475,
          498
         ],
         "y": [
          406,
          434
         ],
         "z": [
          95,
          57
         ]
        },
        {
         "hoverinfo": "text",
         "line": {
          "color": "rgba(128, 128, 128, 0.4)",
          "width": 1
         },
         "mode": "lines",
         "text": "6.63",
         "type": "scatter3d",
         "x": [
          481,
          487
         ],
         "y": [
          269,
          267
         ],
         "z": [
          307,
          305
         ]
        },
        {
         "hoverinfo": "text",
         "line": {
          "color": "rgba(128, 128, 128, 0.4)",
          "width": 1
         },
         "mode": "lines",
         "text": "54.53",
         "type": "scatter3d",
         "x": [
          481,
          499
         ],
         "y": [
          269,
          314
         ],
         "z": [
          307,
          332
         ]
        },
        {
         "hoverinfo": "text",
         "line": {
          "color": "rgba(128, 128, 128, 0.4)",
          "width": 1
         },
         "mode": "lines",
         "text": "34.03",
         "type": "scatter3d",
         "x": [
          481,
          495
         ],
         "y": [
          399,
          388
         ],
         "z": [
          132,
          161
         ]
        },
        {
         "hoverinfo": "text",
         "line": {
          "color": "rgba(128, 128, 128, 0.4)",
          "width": 1
         },
         "mode": "lines",
         "text": "13.60",
         "type": "scatter3d",
         "x": [
          483,
          493
         ],
         "y": [
          258,
          265
         ],
         "z": [
          411,
          405
         ]
        },
        {
         "hoverinfo": "text",
         "line": {
          "color": "rgba(128, 128, 128, 0.4)",
          "width": 1
         },
         "mode": "lines",
         "text": "25.48",
         "type": "scatter3d",
         "x": [
          484,
          492
         ],
         "y": [
          375,
          372
         ],
         "z": [
          201,
          225
         ]
        },
        {
         "hoverinfo": "text",
         "line": {
          "color": "rgba(128, 128, 128, 0.4)",
          "width": 1
         },
         "mode": "lines",
         "text": "52.48",
         "type": "scatter3d",
         "x": [
          484,
          492
         ],
         "y": [
          415,
          372
         ],
         "z": [
          196,
          225
         ]
        },
        {
         "hoverinfo": "text",
         "line": {
          "color": "rgba(128, 128, 128, 0.4)",
          "width": 1
         },
         "mode": "lines",
         "text": "39.76",
         "type": "scatter3d",
         "x": [
          486,
          506
         ],
         "y": [
          109,
          143
         ],
         "z": [
          296,
          301
         ]
        },
        {
         "hoverinfo": "text",
         "line": {
          "color": "rgba(128, 128, 128, 0.4)",
          "width": 1
         },
         "mode": "lines",
         "text": "101.93",
         "type": "scatter3d",
         "x": [
          487,
          556
         ],
         "y": [
          267,
          197
         ],
         "z": [
          305,
          278
         ]
        },
        {
         "hoverinfo": "text",
         "line": {
          "color": "rgba(128, 128, 128, 0.4)",
          "width": 1
         },
         "mode": "lines",
         "text": "12.69",
         "type": "scatter3d",
         "x": [
          487,
          498
         ],
         "y": [
          267,
          265
         ],
         "z": [
          305,
          311
         ]
        },
        {
         "hoverinfo": "text",
         "line": {
          "color": "rgba(128, 128, 128, 0.4)",
          "width": 1
         },
         "mode": "lines",
         "text": "13.67",
         "type": "scatter3d",
         "x": [
          489,
          498
         ],
         "y": [
          352,
          347
         ],
         "z": [
          276,
          285
         ]
        },
        {
         "hoverinfo": "text",
         "line": {
          "color": "rgba(128, 128, 128, 0.4)",
          "width": 1
         },
         "mode": "lines",
         "text": "30.23",
         "type": "scatter3d",
         "x": [
          490,
          507
         ],
         "y": [
          203,
          179
         ],
         "z": [
          360,
          367
         ]
        },
        {
         "hoverinfo": "text",
         "line": {
          "color": "rgba(128, 128, 128, 0.4)",
          "width": 1
         },
         "mode": "lines",
         "text": "14.53",
         "type": "scatter3d",
         "x": [
          490,
          499
         ],
         "y": [
          203,
          212
         ],
         "z": [
          360,
          353
         ]
        },
        {
         "hoverinfo": "text",
         "line": {
          "color": "rgba(128, 128, 128, 0.4)",
          "width": 1
         },
         "mode": "lines",
         "text": "26.19",
         "type": "scatter3d",
         "x": [
          490,
          471
         ],
         "y": [
          203,
          185
         ],
         "z": [
          360,
          361
         ]
        },
        {
         "hoverinfo": "text",
         "line": {
          "color": "rgba(128, 128, 128, 0.4)",
          "width": 1
         },
         "mode": "lines",
         "text": "10.39",
         "type": "scatter3d",
         "x": [
          490,
          492
         ],
         "y": [
          282,
          284
         ],
         "z": [
          365,
          375
         ]
        },
        {
         "hoverinfo": "text",
         "line": {
          "color": "rgba(128, 128, 128, 0.4)",
          "width": 1
         },
         "mode": "lines",
         "text": "30.33",
         "type": "scatter3d",
         "x": [
          490,
          500
         ],
         "y": [
          282,
          270
         ],
         "z": [
          365,
          339
         ]
        },
        {
         "hoverinfo": "text",
         "line": {
          "color": "rgba(128, 128, 128, 0.4)",
          "width": 1
         },
         "mode": "lines",
         "text": "4.12",
         "type": "scatter3d",
         "x": [
          492,
          494
         ],
         "y": [
          284,
          282
         ],
         "z": [
          375,
          378
         ]
        },
        {
         "hoverinfo": "text",
         "line": {
          "color": "rgba(128, 128, 128, 0.4)",
          "width": 1
         },
         "mode": "lines",
         "text": "84.94",
         "type": "scatter3d",
         "x": [
          492,
          537
         ],
         "y": [
          285,
          302
         ],
         "z": [
          83,
          153
         ]
        },
        {
         "hoverinfo": "text",
         "line": {
          "color": "rgba(128, 128, 128, 0.4)",
          "width": 1
         },
         "mode": "lines",
         "text": "24.17",
         "type": "scatter3d",
         "x": [
          492,
          510
         ],
         "y": [
          372,
          364
         ],
         "z": [
          225,
          239
         ]
        },
        {
         "hoverinfo": "text",
         "line": {
          "color": "rgba(128, 128, 128, 0.4)",
          "width": 1
         },
         "mode": "lines",
         "text": "38.41",
         "type": "scatter3d",
         "x": [
          492,
          517
         ],
         "y": [
          423,
          394
         ],
         "z": [
          241,
          244
         ]
        },
        {
         "hoverinfo": "text",
         "line": {
          "color": "rgba(128, 128, 128, 0.4)",
          "width": 1
         },
         "mode": "lines",
         "text": "10.68",
         "type": "scatter3d",
         "x": [
          493,
          500
         ],
         "y": [
          265,
          258
         ],
         "z": [
          405,
          409
         ]
        },
        {
         "hoverinfo": "text",
         "line": {
          "color": "rgba(128, 128, 128, 0.4)",
          "width": 1
         },
         "mode": "lines",
         "text": "14.87",
         "type": "scatter3d",
         "x": [
          493,
          499
         ],
         "y": [
          265,
          276
         ],
         "z": [
          405,
          397
         ]
        },
        {
         "hoverinfo": "text",
         "line": {
          "color": "rgba(128, 128, 128, 0.4)",
          "width": 1
         },
         "mode": "lines",
         "text": "27.22",
         "type": "scatter3d",
         "x": [
          494,
          519
         ],
         "y": [
          282,
          272
         ],
         "z": [
          378,
          382
         ]
        },
        {
         "hoverinfo": "text",
         "line": {
          "color": "rgba(128, 128, 128, 0.4)",
          "width": 1
         },
         "mode": "lines",
         "text": "20.54",
         "type": "scatter3d",
         "x": [
          494,
          499
         ],
         "y": [
          282,
          276
         ],
         "z": [
          378,
          397
         ]
        },
        {
         "hoverinfo": "text",
         "line": {
          "color": "rgba(128, 128, 128, 0.4)",
          "width": 1
         },
         "mode": "lines",
         "text": "3.74",
         "type": "scatter3d",
         "x": [
          495,
          496
         ],
         "y": [
          308,
          305
         ],
         "z": [
          275,
          273
         ]
        },
        {
         "hoverinfo": "text",
         "line": {
          "color": "rgba(128, 128, 128, 0.4)",
          "width": 1
         },
         "mode": "lines",
         "text": "11.09",
         "type": "scatter3d",
         "x": [
          495,
          502
         ],
         "y": [
          308,
          315
         ],
         "z": [
          275,
          270
         ]
        },
        {
         "hoverinfo": "text",
         "line": {
          "color": "rgba(128, 128, 128, 0.4)",
          "width": 1
         },
         "mode": "lines",
         "text": "8.12",
         "type": "scatter3d",
         "x": [
          495,
          490
         ],
         "y": [
          308,
          304
         ],
         "z": [
          275,
          280
         ]
        },
        {
         "hoverinfo": "text",
         "line": {
          "color": "rgba(128, 128, 128, 0.4)",
          "width": 1
         },
         "mode": "lines",
         "text": "27.48",
         "type": "scatter3d",
         "x": [
          495,
          486
         ],
         "y": [
          357,
          332
         ],
         "z": [
          357,
          350
         ]
        },
        {
         "hoverinfo": "text",
         "line": {
          "color": "rgba(128, 128, 128, 0.4)",
          "width": 1
         },
         "mode": "lines",
         "text": "55.70",
         "type": "scatter3d",
         "x": [
          495,
          512
         ],
         "y": [
          388,
          350
         ],
         "z": [
          161,
          198
         ]
        },
        {
         "hoverinfo": "text",
         "line": {
          "color": "rgba(128, 128, 128, 0.4)",
          "width": 1
         },
         "mode": "lines",
         "text": "35.74",
         "type": "scatter3d",
         "x": [
          495,
          517
         ],
         "y": [
          388,
          415
         ],
         "z": [
          161,
          153
         ]
        },
        {
         "hoverinfo": "text",
         "line": {
          "color": "rgba(128, 128, 128, 0.4)",
          "width": 1
         },
         "mode": "lines",
         "text": "26.25",
         "type": "scatter3d",
         "x": [
          496,
          503
         ],
         "y": [
          293,
          285
         ],
         "z": [
          433,
          409
         ]
        },
        {
         "hoverinfo": "text",
         "line": {
          "color": "rgba(128, 128, 128, 0.4)",
          "width": 1
         },
         "mode": "lines",
         "text": "53.35",
         "type": "scatter3d",
         "x": [
          499,
          521
         ],
         "y": [
          339,
          368
         ],
         "z": [
          106,
          145
         ]
        },
        {
         "hoverinfo": "text",
         "line": {
          "color": "rgba(128, 128, 128, 0.4)",
          "width": 1
         },
         "mode": "lines",
         "text": "32.51",
         "type": "scatter3d",
         "x": [
          499,
          517
         ],
         "y": [
          351,
          378
         ],
         "z": [
          285,
          283
         ]
        },
        {
         "hoverinfo": "text",
         "line": {
          "color": "rgba(128, 128, 128, 0.4)",
          "width": 1
         },
         "mode": "lines",
         "text": "4.12",
         "type": "scatter3d",
         "x": [
          499,
          498
         ],
         "y": [
          351,
          347
         ],
         "z": [
          285,
          285
         ]
        },
        {
         "hoverinfo": "text",
         "line": {
          "color": "rgba(128, 128, 128, 0.4)",
          "width": 1
         },
         "mode": "lines",
         "text": "11.00",
         "type": "scatter3d",
         "x": [
          499,
          493
         ],
         "y": [
          351,
          357
         ],
         "z": [
          285,
          292
         ]
        },
        {
         "hoverinfo": "text",
         "line": {
          "color": "rgba(128, 128, 128, 0.4)",
          "width": 1
         },
         "mode": "lines",
         "text": "40.15",
         "type": "scatter3d",
         "x": [
          499,
          493
         ],
         "y": [
          387,
          357
         ],
         "z": [
          318,
          292
         ]
        },
        {
         "hoverinfo": "text",
         "line": {
          "color": "rgba(128, 128, 128, 0.4)",
          "width": 1
         },
         "mode": "lines",
         "text": "45.72",
         "type": "scatter3d",
         "x": [
          500,
          535
         ],
         "y": [
          270,
          294
         ],
         "z": [
          339,
          356
         ]
        },
        {
         "hoverinfo": "text",
         "line": {
          "color": "rgba(128, 128, 128, 0.4)",
          "width": 1
         },
         "mode": "lines",
         "text": "28.51",
         "type": "scatter3d",
         "x": [
          500,
          498
         ],
         "y": [
          270,
          265
         ],
         "z": [
          339,
          311
         ]
        },
        {
         "hoverinfo": "text",
         "line": {
          "color": "rgba(128, 128, 128, 0.4)",
          "width": 1
         },
         "mode": "lines",
         "text": "35.57",
         "type": "scatter3d",
         "x": [
          502,
          498
         ],
         "y": [
          315,
          347
         ],
         "z": [
          270,
          285
         ]
        },
        {
         "hoverinfo": "text",
         "line": {
          "color": "rgba(128, 128, 128, 0.4)",
          "width": 1
         },
         "mode": "lines",
         "text": "18.49",
         "type": "scatter3d",
         "x": [
          502,
          513
         ],
         "y": [
          315,
          320
         ],
         "z": [
          270,
          256
         ]
        },
        {
         "hoverinfo": "text",
         "line": {
          "color": "rgba(128, 128, 128, 0.4)",
          "width": 1
         },
         "mode": "lines",
         "text": "36.81",
         "type": "scatter3d",
         "x": [
          506,
          513
         ],
         "y": [
          143,
          178
         ],
         "z": [
          301,
          310
         ]
        },
        {
         "hoverinfo": "text",
         "line": {
          "color": "rgba(128, 128, 128, 0.4)",
          "width": 1
         },
         "mode": "lines",
         "text": "27.15",
         "type": "scatter3d",
         "x": [
          506,
          516
         ],
         "y": [
          143,
          122
         ],
         "z": [
          301,
          287
         ]
        },
        {
         "hoverinfo": "text",
         "line": {
          "color": "rgba(128, 128, 128, 0.4)",
          "width": 1
         },
         "mode": "lines",
         "text": "38.16",
         "type": "scatter3d",
         "x": [
          508,
          512
         ],
         "y": [
          346,
          334
         ],
         "z": [
          397,
          361
         ]
        },
        {
         "hoverinfo": "text",
         "line": {
          "color": "rgba(128, 128, 128, 0.4)",
          "width": 1
         },
         "mode": "lines",
         "text": "20.90",
         "type": "scatter3d",
         "x": [
          511,
          517
         ],
         "y": [
          398,
          378
         ],
         "z": [
          284,
          283
         ]
        },
        {
         "hoverinfo": "text",
         "line": {
          "color": "rgba(128, 128, 128, 0.4)",
          "width": 1
         },
         "mode": "lines",
         "text": "43.27",
         "type": "scatter3d",
         "x": [
          512,
          516
         ],
         "y": [
          350,
          334
         ],
         "z": [
          198,
          238
         ]
        },
        {
         "hoverinfo": "text",
         "line": {
          "color": "rgba(128, 128, 128, 0.4)",
          "width": 1
         },
         "mode": "lines",
         "text": "18.47",
         "type": "scatter3d",
         "x": [
          512,
          524
         ],
         "y": [
          350,
          351
         ],
         "z": [
          198,
          184
         ]
        },
        {
         "hoverinfo": "text",
         "line": {
          "color": "rgba(128, 128, 128, 0.4)",
          "width": 1
         },
         "mode": "lines",
         "text": "26.93",
         "type": "scatter3d",
         "x": [
          513,
          523
         ],
         "y": [
          178,
          202
         ],
         "z": [
          310,
          317
         ]
        },
        {
         "hoverinfo": "text",
         "line": {
          "color": "rgba(128, 128, 128, 0.4)",
          "width": 1
         },
         "mode": "lines",
         "text": "28.67",
         "type": "scatter3d",
         "x": [
          513,
          532
         ],
         "y": [
          178,
          159
         ],
         "z": [
          310,
          320
         ]
        },
        {
         "hoverinfo": "text",
         "line": {
          "color": "rgba(128, 128, 128, 0.4)",
          "width": 1
         },
         "mode": "lines",
         "text": "12.96",
         "type": "scatter3d",
         "x": [
          513,
          503
         ],
         "y": [
          293,
          285
         ],
         "z": [
          411,
          409
         ]
        },
        {
         "hoverinfo": "text",
         "line": {
          "color": "rgba(128, 128, 128, 0.4)",
          "width": 1
         },
         "mode": "lines",
         "text": "35.93",
         "type": "scatter3d",
         "x": [
          514,
          517
         ],
         "y": [
          436,
          415
         ],
         "z": [
          124,
          153
         ]
        },
        {
         "hoverinfo": "text",
         "line": {
          "color": "rgba(128, 128, 128, 0.4)",
          "width": 1
         },
         "mode": "lines",
         "text": "14.18",
         "type": "scatter3d",
         "x": [
          516,
          517
         ],
         "y": [
          334,
          324
         ],
         "z": [
          238,
          248
         ]
        },
        {
         "hoverinfo": "text",
         "line": {
          "color": "rgba(128, 128, 128, 0.4)",
          "width": 1
         },
         "mode": "lines",
         "text": "30.61",
         "type": "scatter3d",
         "x": [
          516,
          510
         ],
         "y": [
          334,
          364
         ],
         "z": [
          238,
          239
         ]
        },
        {
         "hoverinfo": "text",
         "line": {
          "color": "rgba(128, 128, 128, 0.4)",
          "width": 1
         },
         "mode": "lines",
         "text": "9.80",
         "type": "scatter3d",
         "x": [
          517,
          513
         ],
         "y": [
          324,
          320
         ],
         "z": [
          248,
          256
         ]
        },
        {
         "hoverinfo": "text",
         "line": {
          "color": "rgba(128, 128, 128, 0.4)",
          "width": 1
         },
         "mode": "lines",
         "text": "10.82",
         "type": "scatter3d",
         "x": [
          517,
          524
         ],
         "y": [
          324,
          322
         ],
         "z": [
          248,
          240
         ]
        },
        {
         "hoverinfo": "text",
         "line": {
          "color": "rgba(128, 128, 128, 0.4)",
          "width": 1
         },
         "mode": "lines",
         "text": "41.29",
         "type": "scatter3d",
         "x": [
          517,
          551
         ],
         "y": [
          378,
          393
         ],
         "z": [
          283,
          301
         ]
        },
        {
         "hoverinfo": "text",
         "line": {
          "color": "rgba(128, 128, 128, 0.4)",
          "width": 1
         },
         "mode": "lines",
         "text": "33.26",
         "type": "scatter3d",
         "x": [
          517,
          526
         ],
         "y": [
          394,
          419
         ],
         "z": [
          244,
          224
         ]
        },
        {
         "hoverinfo": "text",
         "line": {
          "color": "rgba(128, 128, 128, 0.4)",
          "width": 1
         },
         "mode": "lines",
         "text": "31.21",
         "type": "scatter3d",
         "x": [
          517,
          510
         ],
         "y": [
          394,
          364
         ],
         "z": [
          244,
          239
         ]
        },
        {
         "hoverinfo": "text",
         "line": {
          "color": "rgba(128, 128, 128, 0.4)",
          "width": 1
         },
         "mode": "lines",
         "text": "9.27",
         "type": "scatter3d",
         "x": [
          517,
          522
         ],
         "y": [
          415,
          421
         ],
         "z": [
          153,
          158
         ]
        },
        {
         "hoverinfo": "text",
         "line": {
          "color": "rgba(128, 128, 128, 0.4)",
          "width": 1
         },
         "mode": "lines",
         "text": "23.87",
         "type": "scatter3d",
         "x": [
          519,
          523
         ],
         "y": [
          225,
          202
         ],
         "z": [
          322,
          317
         ]
        },
        {
         "hoverinfo": "text",
         "line": {
          "color": "rgba(128, 128, 128, 0.4)",
          "width": 1
         },
         "mode": "lines",
         "text": "39.12",
         "type": "scatter3d",
         "x": [
          519,
          499
         ],
         "y": [
          225,
          212
         ],
         "z": [
          322,
          353
         ]
        },
        {
         "hoverinfo": "text",
         "line": {
          "color": "rgba(128, 128, 128, 0.4)",
          "width": 1
         },
         "mode": "lines",
         "text": "2.45",
         "type": "scatter3d",
         "x": [
          519,
          520
         ],
         "y": [
          225,
          227
         ],
         "z": [
          322,
          321
         ]
        },
        {
         "hoverinfo": "text",
         "line": {
          "color": "rgba(128, 128, 128, 0.4)",
          "width": 1
         },
         "mode": "lines",
         "text": "21.91",
         "type": "scatter3d",
         "x": [
          520,
          512
         ],
         "y": [
          354,
          334
         ],
         "z": [
          365,
          361
         ]
        },
        {
         "hoverinfo": "text",
         "line": {
          "color": "rgba(128, 128, 128, 0.4)",
          "width": 1
         },
         "mode": "lines",
         "text": "42.65",
         "type": "scatter3d",
         "x": [
          521,
          524
         ],
         "y": [
          368,
          351
         ],
         "z": [
          145,
          184
         ]
        },
        {
         "hoverinfo": "text",
         "line": {
          "color": "rgba(128, 128, 128, 0.4)",
          "width": 1
         },
         "mode": "lines",
         "text": "110.15",
         "type": "scatter3d",
         "x": [
          521,
          549
         ],
         "y": [
          368,
          436
         ],
         "z": [
          145,
          63
         ]
        },
        {
         "hoverinfo": "text",
         "line": {
          "color": "rgba(128, 128, 128, 0.4)",
          "width": 1
         },
         "mode": "lines",
         "text": "31.16",
         "type": "scatter3d",
         "x": [
          523,
          548
         ],
         "y": [
          202,
          191
         ],
         "z": [
          317,
          332
         ]
        },
        {
         "hoverinfo": "text",
         "line": {
          "color": "rgba(128, 128, 128, 0.4)",
          "width": 1
         },
         "mode": "lines",
         "text": "30.23",
         "type": "scatter3d",
         "x": [
          524,
          553
         ],
         "y": [
          351,
          348
         ],
         "z": [
          184,
          176
         ]
        },
        {
         "hoverinfo": "text",
         "line": {
          "color": "rgba(128, 128, 128, 0.4)",
          "width": 1
         },
         "mode": "lines",
         "text": "36.91",
         "type": "scatter3d",
         "x": [
          530,
          499
         ],
         "y": [
          213,
          212
         ],
         "z": [
          373,
          353
         ]
        },
        {
         "hoverinfo": "text",
         "line": {
          "color": "rgba(128, 128, 128, 0.4)",
          "width": 1
         },
         "mode": "lines",
         "text": "21.49",
         "type": "scatter3d",
         "x": [
          531,
          532
         ],
         "y": [
          320,
          310
         ],
         "z": [
          215,
          196
         ]
        },
        {
         "hoverinfo": "text",
         "line": {
          "color": "rgba(128, 128, 128, 0.4)",
          "width": 1
         },
         "mode": "lines",
         "text": "16.88",
         "type": "scatter3d",
         "x": [
          531,
          539
         ],
         "y": [
          320,
          334
         ],
         "z": [
          215,
          210
         ]
        },
        {
         "hoverinfo": "text",
         "line": {
          "color": "rgba(128, 128, 128, 0.4)",
          "width": 1
         },
         "mode": "lines",
         "text": "26.04",
         "type": "scatter3d",
         "x": [
          531,
          524
         ],
         "y": [
          320,
          322
         ],
         "z": [
          215,
          240
         ]
        },
        {
         "hoverinfo": "text",
         "line": {
          "color": "rgba(128, 128, 128, 0.4)",
          "width": 1
         },
         "mode": "lines",
         "text": "44.02",
         "type": "scatter3d",
         "x": [
          532,
          537
         ],
         "y": [
          310,
          302
         ],
         "z": [
          196,
          153
         ]
        },
        {
         "hoverinfo": "text",
         "line": {
          "color": "rgba(128, 128, 128, 0.4)",
          "width": 1
         },
         "mode": "lines",
         "text": "45.12",
         "type": "scatter3d",
         "x": [
          532,
          574
         ],
         "y": [
          310,
          314
         ],
         "z": [
          196,
          180
         ]
        },
        {
         "hoverinfo": "text",
         "line": {
          "color": "rgba(128, 128, 128, 0.4)",
          "width": 1
         },
         "mode": "lines",
         "text": "48.92",
         "type": "scatter3d",
         "x": [
          537,
          575
         ],
         "y": [
          302,
          277
         ],
         "z": [
          153,
          135
         ]
        },
        {
         "hoverinfo": "text",
         "line": {
          "color": "rgba(128, 128, 128, 0.4)",
          "width": 1
         },
         "mode": "lines",
         "text": "27.00",
         "type": "scatter3d",
         "x": [
          537,
          539
         ],
         "y": [
          360,
          334
         ],
         "z": [
          217,
          210
         ]
        },
        {
         "hoverinfo": "text",
         "line": {
          "color": "rgba(128, 128, 128, 0.4)",
          "width": 1
         },
         "mode": "lines",
         "text": "35.40",
         "type": "scatter3d",
         "x": [
          537,
          555
         ],
         "y": [
          360,
          383
         ],
         "z": [
          217,
          237
         ]
        },
        {
         "hoverinfo": "text",
         "line": {
          "color": "rgba(128, 128, 128, 0.4)",
          "width": 1
         },
         "mode": "lines",
         "text": "29.07",
         "type": "scatter3d",
         "x": [
          537,
          550
         ],
         "y": [
          360,
          384
         ],
         "z": [
          217,
          207
         ]
        },
        {
         "hoverinfo": "text",
         "line": {
          "color": "rgba(128, 128, 128, 0.4)",
          "width": 1
         },
         "mode": "lines",
         "text": "20.93",
         "type": "scatter3d",
         "x": [
          539,
          553
         ],
         "y": [
          334,
          345
         ],
         "z": [
          210,
          221
         ]
        },
        {
         "hoverinfo": "text",
         "line": {
          "color": "rgba(128, 128, 128, 0.4)",
          "width": 1
         },
         "mode": "lines",
         "text": "39.74",
         "type": "scatter3d",
         "x": [
          545,
          578
         ],
         "y": [
          318,
          297
         ],
         "z": [
          241,
          234
         ]
        },
        {
         "hoverinfo": "text",
         "line": {
          "color": "rgba(128, 128, 128, 0.4)",
          "width": 1
         },
         "mode": "lines",
         "text": "21.40",
         "type": "scatter3d",
         "x": [
          545,
          524
         ],
         "y": [
          318,
          322
         ],
         "z": [
          241,
          240
         ]
        },
        {
         "hoverinfo": "text",
         "line": {
          "color": "rgba(128, 128, 128, 0.4)",
          "width": 1
         },
         "mode": "lines",
         "text": "12.08",
         "type": "scatter3d",
         "x": [
          545,
          550
         ],
         "y": [
          318,
          318
         ],
         "z": [
          241,
          252
         ]
        },
        {
         "hoverinfo": "text",
         "line": {
          "color": "rgba(128, 128, 128, 0.4)",
          "width": 1
         },
         "mode": "lines",
         "text": "22.83",
         "type": "scatter3d",
         "x": [
          546,
          547
         ],
         "y": [
          336,
          354
         ],
         "z": [
          312,
          326
         ]
        },
        {
         "hoverinfo": "text",
         "line": {
          "color": "rgba(128, 128, 128, 0.4)",
          "width": 1
         },
         "mode": "lines",
         "text": "35.40",
         "type": "scatter3d",
         "x": [
          546,
          572
         ],
         "y": [
          336,
          360
         ],
         "z": [
          312,
          313
         ]
        },
        {
         "hoverinfo": "text",
         "line": {
          "color": "rgba(128, 128, 128, 0.4)",
          "width": 1
         },
         "mode": "lines",
         "text": "16.28",
         "type": "scatter3d",
         "x": [
          546,
          540
         ],
         "y": [
          336,
          321
         ],
         "z": [
          312,
          310
         ]
        },
        {
         "hoverinfo": "text",
         "line": {
          "color": "rgba(128, 128, 128, 0.4)",
          "width": 1
         },
         "mode": "lines",
         "text": "3.32",
         "type": "scatter3d",
         "x": [
          549,
          550
         ],
         "y": [
          387,
          384
         ],
         "z": [
          206,
          207
         ]
        },
        {
         "hoverinfo": "text",
         "line": {
          "color": "rgba(128, 128, 128, 0.4)",
          "width": 1
         },
         "mode": "lines",
         "text": "48.02",
         "type": "scatter3d",
         "x": [
          552,
          520
         ],
         "y": [
          248,
          227
         ],
         "z": [
          350,
          321
         ]
        },
        {
         "hoverinfo": "text",
         "line": {
          "color": "rgba(128, 128, 128, 0.4)",
          "width": 1
         },
         "mode": "lines",
         "text": "10.68",
         "type": "scatter3d",
         "x": [
          553,
          561
         ],
         "y": [
          348,
          343
         ],
         "z": [
          176,
          181
         ]
        },
        {
         "hoverinfo": "text",
         "line": {
          "color": "rgba(128, 128, 128, 0.4)",
          "width": 1
         },
         "mode": "lines",
         "text": "20.47",
         "type": "scatter3d",
         "x": [
          553,
          566
         ],
         "y": [
          348,
          357
         ],
         "z": [
          176,
          163
         ]
        },
        {
         "hoverinfo": "text",
         "line": {
          "color": "rgba(128, 128, 128, 0.4)",
          "width": 1
         },
         "mode": "lines",
         "text": "43.70",
         "type": "scatter3d",
         "x": [
          556,
          582
         ],
         "y": [
          197,
          200
         ],
         "z": [
          278,
          313
         ]
        },
        {
         "hoverinfo": "text",
         "line": {
          "color": "rgba(128, 128, 128, 0.4)",
          "width": 1
         },
         "mode": "lines",
         "text": "29.85",
         "type": "scatter3d",
         "x": [
          556,
          565
         ],
         "y": [
          197,
          170
         ],
         "z": [
          278,
          269
         ]
        },
        {
         "hoverinfo": "text",
         "line": {
          "color": "rgba(128, 128, 128, 0.4)",
          "width": 1
         },
         "mode": "lines",
         "text": "8.60",
         "type": "scatter3d",
         "x": [
          558,
          550
         ],
         "y": [
          385,
          384
         ],
         "z": [
          210,
          207
         ]
        },
        {
         "hoverinfo": "text",
         "line": {
          "color": "rgba(128, 128, 128, 0.4)",
          "width": 1
         },
         "mode": "lines",
         "text": "29.68",
         "type": "scatter3d",
         "x": [
          561,
          586
         ],
         "y": [
          343,
          359
         ],
         "z": [
          181,
          181
         ]
        },
        {
         "hoverinfo": "text",
         "line": {
          "color": "rgba(128, 128, 128, 0.4)",
          "width": 1
         },
         "mode": "lines",
         "text": "60.69",
         "type": "scatter3d",
         "x": [
          561,
          612
         ],
         "y": [
          343,
          354
         ],
         "z": [
          181,
          150
         ]
        },
        {
         "hoverinfo": "text",
         "line": {
          "color": "rgba(128, 128, 128, 0.4)",
          "width": 1
         },
         "mode": "lines",
         "text": "32.53",
         "type": "scatter3d",
         "x": [
          561,
          566
         ],
         "y": [
          389,
          357
         ],
         "z": [
          166,
          163
         ]
        },
        {
         "hoverinfo": "text",
         "line": {
          "color": "rgba(128, 128, 128, 0.4)",
          "width": 1
         },
         "mode": "lines",
         "text": "70.39",
         "type": "scatter3d",
         "x": [
          564,
          565
         ],
         "y": [
          105,
          170
         ],
         "z": [
          242,
          269
         ]
        },
        {
         "hoverinfo": "text",
         "line": {
          "color": "rgba(128, 128, 128, 0.4)",
          "width": 1
         },
         "mode": "lines",
         "text": "33.15",
         "type": "scatter3d",
         "x": [
          566,
          575
         ],
         "y": [
          357,
          374
         ],
         "z": [
          163,
          136
         ]
        },
        {
         "hoverinfo": "text",
         "line": {
          "color": "rgba(128, 128, 128, 0.4)",
          "width": 1
         },
         "mode": "lines",
         "text": "44.06",
         "type": "scatter3d",
         "x": [
          571,
          540
         ],
         "y": [
          335,
          321
         ],
         "z": [
          338,
          310
         ]
        },
        {
         "hoverinfo": "text",
         "line": {
          "color": "rgba(128, 128, 128, 0.4)",
          "width": 1
         },
         "mode": "lines",
         "text": "28.74",
         "type": "scatter3d",
         "x": [
          574,
          598
         ],
         "y": [
          247,
          238
         ],
         "z": [
          298,
          285
         ]
        },
        {
         "hoverinfo": "text",
         "line": {
          "color": "rgba(128, 128, 128, 0.4)",
          "width": 1
         },
         "mode": "lines",
         "text": "31.21",
         "type": "scatter3d",
         "x": [
          574,
          599
         ],
         "y": [
          247,
          242
         ],
         "z": [
          298,
          316
         ]
        },
        {
         "hoverinfo": "text",
         "line": {
          "color": "rgba(128, 128, 128, 0.4)",
          "width": 1
         },
         "mode": "lines",
         "text": "42.67",
         "type": "scatter3d",
         "x": [
          574,
          534
         ],
         "y": [
          247,
          261
         ],
         "z": [
          298,
          293
         ]
        },
        {
         "hoverinfo": "text",
         "line": {
          "color": "rgba(128, 128, 128, 0.4)",
          "width": 1
         },
         "mode": "lines",
         "text": "32.03",
         "type": "scatter3d",
         "x": [
          574,
          605
         ],
         "y": [
          314,
          318
         ],
         "z": [
          180,
          187
         ]
        },
        {
         "hoverinfo": "text",
         "line": {
          "color": "rgba(128, 128, 128, 0.4)",
          "width": 1
         },
         "mode": "lines",
         "text": "43.65",
         "type": "scatter3d",
         "x": [
          574,
          609
         ],
         "y": [
          314,
          300
         ],
         "z": [
          180,
          158
         ]
        },
        {
         "hoverinfo": "text",
         "line": {
          "color": "rgba(128, 128, 128, 0.4)",
          "width": 1
         },
         "mode": "lines",
         "text": "16.16",
         "type": "scatter3d",
         "x": [
          575,
          579
         ],
         "y": [
          277,
          270
         ],
         "z": [
          135,
          121
         ]
        },
        {
         "hoverinfo": "text",
         "line": {
          "color": "rgba(128, 128, 128, 0.4)",
          "width": 1
         },
         "mode": "lines",
         "text": "9.43",
         "type": "scatter3d",
         "x": [
          575,
          584
         ],
         "y": [
          277,
          279
         ],
         "z": [
          135,
          133
         ]
        },
        {
         "hoverinfo": "text",
         "line": {
          "color": "rgba(128, 128, 128, 0.4)",
          "width": 1
         },
         "mode": "lines",
         "text": "35.79",
         "type": "scatter3d",
         "x": [
          575,
          550
         ],
         "y": [
          334,
          318
         ],
         "z": [
          272,
          252
         ]
        },
        {
         "hoverinfo": "text",
         "line": {
          "color": "rgba(128, 128, 128, 0.4)",
          "width": 1
         },
         "mode": "lines",
         "text": "11.45",
         "type": "scatter3d",
         "x": [
          575,
          576
         ],
         "y": [
          355,
          362
         ],
         "z": [
          252,
          261
         ]
        },
        {
         "hoverinfo": "text",
         "line": {
          "color": "rgba(128, 128, 128, 0.4)",
          "width": 1
         },
         "mode": "lines",
         "text": "16.12",
         "type": "scatter3d",
         "x": [
          575,
          589
         ],
         "y": [
          355,
          363
         ],
         "z": [
          252,
          252
         ]
        },
        {
         "hoverinfo": "text",
         "line": {
          "color": "rgba(128, 128, 128, 0.4)",
          "width": 1
         },
         "mode": "lines",
         "text": "39.31",
         "type": "scatter3d",
         "x": [
          575,
          553
         ],
         "y": [
          355,
          345
         ],
         "z": [
          252,
          221
         ]
        },
        {
         "hoverinfo": "text",
         "line": {
          "color": "rgba(128, 128, 128, 0.4)",
          "width": 1
         },
         "mode": "lines",
         "text": "8.83",
         "type": "scatter3d",
         "x": [
          575,
          577
         ],
         "y": [
          374,
          381
         ],
         "z": [
          136,
          131
         ]
        },
        {
         "hoverinfo": "text",
         "line": {
          "color": "rgba(128, 128, 128, 0.4)",
          "width": 1
         },
         "mode": "lines",
         "text": "27.46",
         "type": "scatter3d",
         "x": [
          575,
          587
         ],
         "y": [
          374,
          353
         ],
         "z": [
          136,
          123
         ]
        },
        {
         "hoverinfo": "text",
         "line": {
          "color": "rgba(128, 128, 128, 0.4)",
          "width": 1
         },
         "mode": "lines",
         "text": "13.19",
         "type": "scatter3d",
         "x": [
          575,
          577
         ],
         "y": [
          392,
          381
         ],
         "z": [
          124,
          131
         ]
        },
        {
         "hoverinfo": "text",
         "line": {
          "color": "rgba(128, 128, 128, 0.4)",
          "width": 1
         },
         "mode": "lines",
         "text": "9.00",
         "type": "scatter3d",
         "x": [
          575,
          584
         ],
         "y": [
          392,
          392
         ],
         "z": [
          124,
          124
         ]
        },
        {
         "hoverinfo": "text",
         "line": {
          "color": "rgba(128, 128, 128, 0.4)",
          "width": 1
         },
         "mode": "lines",
         "text": "44.20",
         "type": "scatter3d",
         "x": [
          575,
          584
         ],
         "y": [
          392,
          420
         ],
         "z": [
          124,
          91
         ]
        },
        {
         "hoverinfo": "text",
         "line": {
          "color": "rgba(128, 128, 128, 0.4)",
          "width": 1
         },
         "mode": "lines",
         "text": "53.54",
         "type": "scatter3d",
         "x": [
          577,
          616
         ],
         "y": [
          381,
          388
         ],
         "z": [
          131,
          95
         ]
        },
        {
         "hoverinfo": "text",
         "line": {
          "color": "rgba(128, 128, 128, 0.4)",
          "width": 1
         },
         "mode": "lines",
         "text": "2.45",
         "type": "scatter3d",
         "x": [
          578,
          579
         ],
         "y": [
          247,
          248
         ],
         "z": [
          218,
          220
         ]
        },
        {
         "hoverinfo": "text",
         "line": {
          "color": "rgba(128, 128, 128, 0.4)",
          "width": 1
         },
         "mode": "lines",
         "text": "35.03",
         "type": "scatter3d",
         "x": [
          582,
          569
         ],
         "y": [
          236,
          259
         ],
         "z": [
          160,
          183
         ]
        },
        {
         "hoverinfo": "text",
         "line": {
          "color": "rgba(128, 128, 128, 0.4)",
          "width": 1
         },
         "mode": "lines",
         "text": "34.37",
         "type": "scatter3d",
         "x": [
          586,
          567
         ],
         "y": [
          294,
          288
         ],
         "z": [
          342,
          314
         ]
        },
        {
         "hoverinfo": "text",
         "line": {
          "color": "rgba(128, 128, 128, 0.4)",
          "width": 1
         },
         "mode": "lines",
         "text": "41.69",
         "type": "scatter3d",
         "x": [
          586,
          550
         ],
         "y": [
          319,
          318
         ],
         "z": [
          273,
          252
         ]
        },
        {
         "hoverinfo": "text",
         "line": {
          "color": "rgba(128, 128, 128, 0.4)",
          "width": 1
         },
         "mode": "lines",
         "text": "8.12",
         "type": "scatter3d",
         "x": [
          586,
          587
         ],
         "y": [
          357,
          353
         ],
         "z": [
          116,
          123
         ]
        },
        {
         "hoverinfo": "text",
         "line": {
          "color": "rgba(128, 128, 128, 0.4)",
          "width": 1
         },
         "mode": "lines",
         "text": "34.50",
         "type": "scatter3d",
         "x": [
          587,
          553
         ],
         "y": [
          348,
          345
         ],
         "z": [
          226,
          221
         ]
        },
        {
         "hoverinfo": "text",
         "line": {
          "color": "rgba(128, 128, 128, 0.4)",
          "width": 1
         },
         "mode": "lines",
         "text": "29.03",
         "type": "scatter3d",
         "x": [
          587,
          606
         ],
         "y": [
          353,
          342
         ],
         "z": [
          123,
          104
         ]
        },
        {
         "hoverinfo": "text",
         "line": {
          "color": "rgba(128, 128, 128, 0.4)",
          "width": 1
         },
         "mode": "lines",
         "text": "8.06",
         "type": "scatter3d",
         "x": [
          588,
          586
         ],
         "y": [
          365,
          359
         ],
         "z": [
          176,
          181
         ]
        },
        {
         "hoverinfo": "text",
         "line": {
          "color": "rgba(128, 128, 128, 0.4)",
          "width": 1
         },
         "mode": "lines",
         "text": "30.15",
         "type": "scatter3d",
         "x": [
          596,
          567
         ],
         "y": [
          296,
          288
         ],
         "z": [
          312,
          314
         ]
        },
        {
         "hoverinfo": "text",
         "line": {
          "color": "rgba(128, 128, 128, 0.4)",
          "width": 1
         },
         "mode": "lines",
         "text": "10.10",
         "type": "scatter3d",
         "x": [
          596,
          586
         ],
         "y": [
          360,
          359
         ],
         "z": [
          180,
          181
         ]
        },
        {
         "hoverinfo": "text",
         "line": {
          "color": "rgba(128, 128, 128, 0.4)",
          "width": 1
         },
         "mode": "lines",
         "text": "40.02",
         "type": "scatter3d",
         "x": [
          597,
          565
         ],
         "y": [
          153,
          170
         ],
         "z": [
          252,
          269
         ]
        },
        {
         "hoverinfo": "text",
         "line": {
          "color": "rgba(128, 128, 128, 0.4)",
          "width": 1
         },
         "mode": "lines",
         "text": "13.49",
         "type": "scatter3d",
         "x": [
          604,
          609
         ],
         "y": [
          311,
          300
         ],
         "z": [
          152,
          158
         ]
        },
        {
         "hoverinfo": "text",
         "line": {
          "color": "rgba(128, 128, 128, 0.4)",
          "width": 1
         },
         "mode": "lines",
         "text": "23.85",
         "type": "scatter3d",
         "x": [
          605,
          625
         ],
         "y": [
          318,
          331
         ],
         "z": [
          187,
          187
         ]
        },
        {
         "hoverinfo": "text",
         "line": {
          "color": "rgba(128, 128, 128, 0.4)",
          "width": 1
         },
         "mode": "lines",
         "text": "51.97",
         "type": "scatter3d",
         "x": [
          605,
          651
         ],
         "y": [
          318,
          315
         ],
         "z": [
          187,
          163
         ]
        },
        {
         "hoverinfo": "text",
         "line": {
          "color": "rgba(128, 128, 128, 0.4)",
          "width": 1
         },
         "mode": "lines",
         "text": "37.34",
         "type": "scatter3d",
         "x": [
          609,
          632
         ],
         "y": [
          225,
          201
         ],
         "z": [
          206,
          189
         ]
        },
        {
         "hoverinfo": "text",
         "line": {
          "color": "rgba(128, 128, 128, 0.4)",
          "width": 1
         },
         "mode": "lines",
         "text": "40.31",
         "type": "scatter3d",
         "x": [
          609,
          579
         ],
         "y": [
          225,
          248
         ],
         "z": [
          206,
          220
         ]
        },
        {
         "hoverinfo": "text",
         "line": {
          "color": "rgba(128, 128, 128, 0.4)",
          "width": 1
         },
         "mode": "lines",
         "text": "5.00",
         "type": "scatter3d",
         "x": [
          609,
          613
         ],
         "y": [
          225,
          225
         ],
         "z": [
          206,
          209
         ]
        },
        {
         "hoverinfo": "text",
         "line": {
          "color": "rgba(128, 128, 128, 0.4)",
          "width": 1
         },
         "mode": "lines",
         "text": "55.58",
         "type": "scatter3d",
         "x": [
          609,
          569
         ],
         "y": [
          226,
          259
         ],
         "z": [
          163,
          183
         ]
        },
        {
         "hoverinfo": "text",
         "line": {
          "color": "rgba(128, 128, 128, 0.4)",
          "width": 1
         },
         "mode": "lines",
         "text": "23.62",
         "type": "scatter3d",
         "x": [
          609,
          631
         ],
         "y": [
          300,
          295
         ],
         "z": [
          158,
          151
         ]
        },
        {
         "hoverinfo": "text",
         "line": {
          "color": "rgba(128, 128, 128, 0.4)",
          "width": 1
         },
         "mode": "lines",
         "text": "25.20",
         "type": "scatter3d",
         "x": [
          613,
          592
         ],
         "y": [
          313,
          300
         ],
         "z": [
          235,
          230
         ]
        },
        {
         "hoverinfo": "text",
         "line": {
          "color": "rgba(128, 128, 128, 0.4)",
          "width": 1
         },
         "mode": "lines",
         "text": "1.73",
         "type": "scatter3d",
         "x": [
          616,
          617
         ],
         "y": [
          388,
          389
         ],
         "z": [
          95,
          94
         ]
        },
        {
         "hoverinfo": "text",
         "line": {
          "color": "rgba(128, 128, 128, 0.4)",
          "width": 1
         },
         "mode": "lines",
         "text": "7.00",
         "type": "scatter3d",
         "x": [
          616,
          618
         ],
         "y": [
          388,
          385
         ],
         "z": [
          95,
          89
         ]
        },
        {
         "hoverinfo": "text",
         "line": {
          "color": "rgba(128, 128, 128, 0.4)",
          "width": 1
         },
         "mode": "lines",
         "text": "49.70",
         "type": "scatter3d",
         "x": [
          617,
          578
         ],
         "y": [
          279,
          297
         ],
         "z": [
          259,
          234
         ]
        },
        {
         "hoverinfo": "text",
         "line": {
          "color": "rgba(128, 128, 128, 0.4)",
          "width": 1
         },
         "mode": "lines",
         "text": "7.07",
         "type": "scatter3d",
         "x": [
          618,
          613
         ],
         "y": [
          229,
          225
         ],
         "z": [
          212,
          209
         ]
        },
        {
         "hoverinfo": "text",
         "line": {
          "color": "rgba(128, 128, 128, 0.4)",
          "width": 1
         },
         "mode": "lines",
         "text": "16.16",
         "type": "scatter3d",
         "x": [
          621,
          612
         ],
         "y": [
          366,
          354
         ],
         "z": [
          144,
          150
         ]
        },
        {
         "hoverinfo": "text",
         "line": {
          "color": "rgba(128, 128, 128, 0.4)",
          "width": 1
         },
         "mode": "lines",
         "text": "35.83",
         "type": "scatter3d",
         "x": [
          629,
          613
         ],
         "y": [
          193,
          225
         ],
         "z": [
          207,
          209
         ]
        },
        {
         "hoverinfo": "text",
         "line": {
          "color": "rgba(128, 128, 128, 0.4)",
          "width": 1
         },
         "mode": "lines",
         "text": "12.21",
         "type": "scatter3d",
         "x": [
          638,
          630
         ],
         "y": [
          266,
          275
         ],
         "z": [
          204,
          206
         ]
        },
        {
         "hoverinfo": "text",
         "line": {
          "color": "rgba(128, 128, 128, 0.4)",
          "width": 1
         },
         "mode": "lines",
         "text": "18.06",
         "type": "scatter3d",
         "x": [
          647,
          630
         ],
         "y": [
          276,
          275
         ],
         "z": [
          200,
          206
         ]
        },
        {
         "hoverinfo": "text",
         "line": {
          "color": "rgba(128, 128, 128, 0.4)",
          "width": 1
         },
         "mode": "lines",
         "text": "31.97",
         "type": "scatter3d",
         "x": [
          648,
          631
         ],
         "y": [
          297,
          295
         ],
         "z": [
          124,
          151
         ]
        },
        {
         "hoverinfo": "text",
         "line": {
          "color": "rgba(128, 128, 128, 0.4)",
          "width": 1
         },
         "mode": "lines",
         "text": "53.61",
         "type": "scatter3d",
         "x": [
          652,
          612
         ],
         "y": [
          347,
          354
         ],
         "z": [
          115,
          150
         ]
        },
        {
         "hoverinfo": "text",
         "line": {
          "color": "rgba(128, 128, 128, 0.4)",
          "width": 1
         },
         "mode": "lines",
         "text": "58.41",
         "type": "scatter3d",
         "x": [
          661,
          631
         ],
         "y": [
          251,
          295
         ],
         "z": [
          127,
          151
         ]
        },
        {
         "hoverinfo": "text",
         "line": {
          "color": "rgba(128, 128, 128, 0.4)",
          "width": 1
         },
         "mode": "lines",
         "text": "33.18",
         "type": "scatter3d",
         "x": [
          250,
          222
         ],
         "y": [
          270,
          284
         ],
         "z": [
          233,
          222
         ]
        },
        {
         "hoverinfo": "text",
         "line": {
          "color": "rgba(128, 128, 128, 0.4)",
          "width": 1
         },
         "mode": "lines",
         "text": "16.67",
         "type": "scatter3d",
         "x": [
          511,
          498
         ],
         "y": [
          255,
          265
         ],
         "z": [
          308,
          311
         ]
        },
        {
         "hoverinfo": "text",
         "line": {
          "color": "rgba(128, 128, 128, 0.4)",
          "width": 1
         },
         "mode": "lines",
         "text": "32.16",
         "type": "scatter3d",
         "x": [
          511,
          520
         ],
         "y": [
          255,
          227
         ],
         "z": [
          308,
          321
         ]
        },
        {
         "hoverinfo": "text",
         "line": {
          "color": "rgba(128, 128, 128, 0.4)",
          "width": 1
         },
         "mode": "lines",
         "text": "28.11",
         "type": "scatter3d",
         "x": [
          511,
          534
         ],
         "y": [
          255,
          261
         ],
         "z": [
          308,
          293
         ]
        },
        {
         "hoverinfo": "text",
         "line": {
          "color": "rgba(128, 128, 128, 0.4)",
          "width": 1
         },
         "mode": "lines",
         "text": "8.31",
         "type": "scatter3d",
         "x": [
          213,
          206
         ],
         "y": [
          295,
          299
         ],
         "z": [
          211,
          209
         ]
        },
        {
         "hoverinfo": "text",
         "line": {
          "color": "rgba(128, 128, 128, 0.4)",
          "width": 1
         },
         "mode": "lines",
         "text": "47.53",
         "type": "scatter3d",
         "x": [
          567,
          534
         ],
         "y": [
          288,
          261
         ],
         "z": [
          314,
          293
         ]
        },
        {
         "hoverinfo": "text",
         "line": {
          "color": "rgba(128, 128, 128, 0.4)",
          "width": 1
         },
         "mode": "lines",
         "text": "40.07",
         "type": "scatter3d",
         "x": [
          513,
          528
         ],
         "y": [
          320,
          286
         ],
         "z": [
          256,
          241
         ]
        },
        {
         "hoverinfo": "text",
         "line": {
          "color": "rgba(128, 128, 128, 0.4)",
          "width": 1
         },
         "mode": "lines",
         "text": "14.87",
         "type": "scatter3d",
         "x": [
          578,
          592
         ],
         "y": [
          297,
          300
         ],
         "z": [
          234,
          230
         ]
        },
        {
         "hoverinfo": "text",
         "line": {
          "color": "rgba(128, 128, 128, 0.4)",
          "width": 1
         },
         "mode": "lines",
         "text": "28.58",
         "type": "scatter3d",
         "x": [
          499,
          486
         ],
         "y": [
          314,
          332
         ],
         "z": [
          332,
          350
         ]
        },
        {
         "hoverinfo": "text",
         "line": {
          "color": "rgba(128, 128, 128, 0.4)",
          "width": 1
         },
         "mode": "lines",
         "text": "37.55",
         "type": "scatter3d",
         "x": [
          499,
          512
         ],
         "y": [
          314,
          334
         ],
         "z": [
          332,
          361
         ]
        },
        {
         "hoverinfo": "text",
         "line": {
          "color": "rgba(128, 128, 128, 0.4)",
          "width": 1
         },
         "mode": "lines",
         "text": "60.74",
         "type": "scatter3d",
         "x": [
          540,
          490
         ],
         "y": [
          321,
          304
         ],
         "z": [
          310,
          280
         ]
        },
        {
         "hoverinfo": "text",
         "line": {
          "color": "rgba(128, 128, 128, 0.4)",
          "width": 1
         },
         "mode": "lines",
         "text": "15.52",
         "type": "scatter3d",
         "x": [
          499,
          503
         ],
         "y": [
          276,
          285
         ],
         "z": [
          397,
          409
         ]
        },
        {
         "hoverinfo": "text",
         "line": {
          "color": "rgba(128, 128, 128, 0.4)",
          "width": 1
         },
         "mode": "lines",
         "text": "18.84",
         "type": "scatter3d",
         "x": [
          179,
          164
         ],
         "y": [
          323,
          332
         ],
         "z": [
          204,
          197
         ]
        },
        {
         "hoverinfo": "text",
         "line": {
          "color": "rgba(128, 128, 128, 0.4)",
          "width": 1
         },
         "mode": "lines",
         "text": "17.15",
         "type": "scatter3d",
         "x": [
          421,
          423
         ],
         "y": [
          112,
          99
         ],
         "z": [
          261,
          250
         ]
        },
        {
         "hoverinfo": "text",
         "line": {
          "color": "rgba(128, 128, 128, 0.4)",
          "width": 1
         },
         "mode": "lines",
         "text": "75.99",
         "type": "scatter3d",
         "x": [
          569,
          528
         ],
         "y": [
          259,
          286
         ],
         "z": [
          183,
          241
         ]
        },
        {
         "hoverinfo": "text",
         "line": {
          "color": "rgba(128, 128, 128, 0.4)",
          "width": 1
         },
         "mode": "lines",
         "text": "66.98",
         "type": "scatter3d",
         "x": [
          579,
          528
         ],
         "y": [
          248,
          286
         ],
         "z": [
          220,
          241
         ]
        },
        {
         "hoverinfo": "text",
         "line": {
          "color": "rgba(128, 128, 128, 0.4)",
          "width": 1
         },
         "mode": "lines",
         "text": "2.24",
         "type": "scatter3d",
         "x": [
          422,
          423
         ],
         "y": [
          97,
          99
         ],
         "z": [
          250,
          250
         ]
        },
        {
         "hoverinfo": "text",
         "line": {
          "color": "rgba(128, 128, 128, 0.4)",
          "width": 1
         },
         "mode": "lines",
         "text": "6.78",
         "type": "scatter3d",
         "x": [
          433,
          436
         ],
         "y": [
          76,
          75
         ],
         "z": [
          222,
          216
         ]
        },
        {
         "hoverinfo": "text",
         "line": {
          "color": "rgba(128, 128, 128, 0.4)",
          "width": 1
         },
         "mode": "lines",
         "text": "51.43",
         "type": "scatter3d",
         "x": [
          630,
          592
         ],
         "y": [
          275,
          300
         ],
         "z": [
          206,
          230
         ]
        }
       ],
       "layout": {
        "margin": {
         "b": 0,
         "l": 0,
         "r": 0,
         "t": 0
        },
        "scene": {
         "domain": {
          "x": [
           0,
           1
          ],
          "y": [
           0,
           1
          ]
         },
         "xaxis": {
          "range": [
           0,
           662
          ]
         },
         "yaxis": {
          "range": [
           0,
           437
          ]
         },
         "zaxis": {
          "range": [
           0,
           434
          ]
         }
        },
        "template": {
         "data": {
          "bar": [
           {
            "error_x": {
             "color": "#2a3f5f"
            },
            "error_y": {
             "color": "#2a3f5f"
            },
            "marker": {
             "line": {
              "color": "#E5ECF6",
              "width": 0.5
             },
             "pattern": {
              "fillmode": "overlay",
              "size": 10,
              "solidity": 0.2
             }
            },
            "type": "bar"
           }
          ],
          "barpolar": [
           {
            "marker": {
             "line": {
              "color": "#E5ECF6",
              "width": 0.5
             },
             "pattern": {
              "fillmode": "overlay",
              "size": 10,
              "solidity": 0.2
             }
            },
            "type": "barpolar"
           }
          ],
          "carpet": [
           {
            "aaxis": {
             "endlinecolor": "#2a3f5f",
             "gridcolor": "white",
             "linecolor": "white",
             "minorgridcolor": "white",
             "startlinecolor": "#2a3f5f"
            },
            "baxis": {
             "endlinecolor": "#2a3f5f",
             "gridcolor": "white",
             "linecolor": "white",
             "minorgridcolor": "white",
             "startlinecolor": "#2a3f5f"
            },
            "type": "carpet"
           }
          ],
          "choropleth": [
           {
            "colorbar": {
             "outlinewidth": 0,
             "ticks": ""
            },
            "type": "choropleth"
           }
          ],
          "contour": [
           {
            "colorbar": {
             "outlinewidth": 0,
             "ticks": ""
            },
            "colorscale": [
             [
              0,
              "#0d0887"
             ],
             [
              0.1111111111111111,
              "#46039f"
             ],
             [
              0.2222222222222222,
              "#7201a8"
             ],
             [
              0.3333333333333333,
              "#9c179e"
             ],
             [
              0.4444444444444444,
              "#bd3786"
             ],
             [
              0.5555555555555556,
              "#d8576b"
             ],
             [
              0.6666666666666666,
              "#ed7953"
             ],
             [
              0.7777777777777778,
              "#fb9f3a"
             ],
             [
              0.8888888888888888,
              "#fdca26"
             ],
             [
              1,
              "#f0f921"
             ]
            ],
            "type": "contour"
           }
          ],
          "contourcarpet": [
           {
            "colorbar": {
             "outlinewidth": 0,
             "ticks": ""
            },
            "type": "contourcarpet"
           }
          ],
          "heatmap": [
           {
            "colorbar": {
             "outlinewidth": 0,
             "ticks": ""
            },
            "colorscale": [
             [
              0,
              "#0d0887"
             ],
             [
              0.1111111111111111,
              "#46039f"
             ],
             [
              0.2222222222222222,
              "#7201a8"
             ],
             [
              0.3333333333333333,
              "#9c179e"
             ],
             [
              0.4444444444444444,
              "#bd3786"
             ],
             [
              0.5555555555555556,
              "#d8576b"
             ],
             [
              0.6666666666666666,
              "#ed7953"
             ],
             [
              0.7777777777777778,
              "#fb9f3a"
             ],
             [
              0.8888888888888888,
              "#fdca26"
             ],
             [
              1,
              "#f0f921"
             ]
            ],
            "type": "heatmap"
           }
          ],
          "heatmapgl": [
           {
            "colorbar": {
             "outlinewidth": 0,
             "ticks": ""
            },
            "colorscale": [
             [
              0,
              "#0d0887"
             ],
             [
              0.1111111111111111,
              "#46039f"
             ],
             [
              0.2222222222222222,
              "#7201a8"
             ],
             [
              0.3333333333333333,
              "#9c179e"
             ],
             [
              0.4444444444444444,
              "#bd3786"
             ],
             [
              0.5555555555555556,
              "#d8576b"
             ],
             [
              0.6666666666666666,
              "#ed7953"
             ],
             [
              0.7777777777777778,
              "#fb9f3a"
             ],
             [
              0.8888888888888888,
              "#fdca26"
             ],
             [
              1,
              "#f0f921"
             ]
            ],
            "type": "heatmapgl"
           }
          ],
          "histogram": [
           {
            "marker": {
             "pattern": {
              "fillmode": "overlay",
              "size": 10,
              "solidity": 0.2
             }
            },
            "type": "histogram"
           }
          ],
          "histogram2d": [
           {
            "colorbar": {
             "outlinewidth": 0,
             "ticks": ""
            },
            "colorscale": [
             [
              0,
              "#0d0887"
             ],
             [
              0.1111111111111111,
              "#46039f"
             ],
             [
              0.2222222222222222,
              "#7201a8"
             ],
             [
              0.3333333333333333,
              "#9c179e"
             ],
             [
              0.4444444444444444,
              "#bd3786"
             ],
             [
              0.5555555555555556,
              "#d8576b"
             ],
             [
              0.6666666666666666,
              "#ed7953"
             ],
             [
              0.7777777777777778,
              "#fb9f3a"
             ],
             [
              0.8888888888888888,
              "#fdca26"
             ],
             [
              1,
              "#f0f921"
             ]
            ],
            "type": "histogram2d"
           }
          ],
          "histogram2dcontour": [
           {
            "colorbar": {
             "outlinewidth": 0,
             "ticks": ""
            },
            "colorscale": [
             [
              0,
              "#0d0887"
             ],
             [
              0.1111111111111111,
              "#46039f"
             ],
             [
              0.2222222222222222,
              "#7201a8"
             ],
             [
              0.3333333333333333,
              "#9c179e"
             ],
             [
              0.4444444444444444,
              "#bd3786"
             ],
             [
              0.5555555555555556,
              "#d8576b"
             ],
             [
              0.6666666666666666,
              "#ed7953"
             ],
             [
              0.7777777777777778,
              "#fb9f3a"
             ],
             [
              0.8888888888888888,
              "#fdca26"
             ],
             [
              1,
              "#f0f921"
             ]
            ],
            "type": "histogram2dcontour"
           }
          ],
          "mesh3d": [
           {
            "colorbar": {
             "outlinewidth": 0,
             "ticks": ""
            },
            "type": "mesh3d"
           }
          ],
          "parcoords": [
           {
            "line": {
             "colorbar": {
              "outlinewidth": 0,
              "ticks": ""
             }
            },
            "type": "parcoords"
           }
          ],
          "pie": [
           {
            "automargin": true,
            "type": "pie"
           }
          ],
          "scatter": [
           {
            "fillpattern": {
             "fillmode": "overlay",
             "size": 10,
             "solidity": 0.2
            },
            "type": "scatter"
           }
          ],
          "scatter3d": [
           {
            "line": {
             "colorbar": {
              "outlinewidth": 0,
              "ticks": ""
             }
            },
            "marker": {
             "colorbar": {
              "outlinewidth": 0,
              "ticks": ""
             }
            },
            "type": "scatter3d"
           }
          ],
          "scattercarpet": [
           {
            "marker": {
             "colorbar": {
              "outlinewidth": 0,
              "ticks": ""
             }
            },
            "type": "scattercarpet"
           }
          ],
          "scattergeo": [
           {
            "marker": {
             "colorbar": {
              "outlinewidth": 0,
              "ticks": ""
             }
            },
            "type": "scattergeo"
           }
          ],
          "scattergl": [
           {
            "marker": {
             "colorbar": {
              "outlinewidth": 0,
              "ticks": ""
             }
            },
            "type": "scattergl"
           }
          ],
          "scattermapbox": [
           {
            "marker": {
             "colorbar": {
              "outlinewidth": 0,
              "ticks": ""
             }
            },
            "type": "scattermapbox"
           }
          ],
          "scatterpolar": [
           {
            "marker": {
             "colorbar": {
              "outlinewidth": 0,
              "ticks": ""
             }
            },
            "type": "scatterpolar"
           }
          ],
          "scatterpolargl": [
           {
            "marker": {
             "colorbar": {
              "outlinewidth": 0,
              "ticks": ""
             }
            },
            "type": "scatterpolargl"
           }
          ],
          "scatterternary": [
           {
            "marker": {
             "colorbar": {
              "outlinewidth": 0,
              "ticks": ""
             }
            },
            "type": "scatterternary"
           }
          ],
          "surface": [
           {
            "colorbar": {
             "outlinewidth": 0,
             "ticks": ""
            },
            "colorscale": [
             [
              0,
              "#0d0887"
             ],
             [
              0.1111111111111111,
              "#46039f"
             ],
             [
              0.2222222222222222,
              "#7201a8"
             ],
             [
              0.3333333333333333,
              "#9c179e"
             ],
             [
              0.4444444444444444,
              "#bd3786"
             ],
             [
              0.5555555555555556,
              "#d8576b"
             ],
             [
              0.6666666666666666,
              "#ed7953"
             ],
             [
              0.7777777777777778,
              "#fb9f3a"
             ],
             [
              0.8888888888888888,
              "#fdca26"
             ],
             [
              1,
              "#f0f921"
             ]
            ],
            "type": "surface"
           }
          ],
          "table": [
           {
            "cells": {
             "fill": {
              "color": "#EBF0F8"
             },
             "line": {
              "color": "white"
             }
            },
            "header": {
             "fill": {
              "color": "#C8D4E3"
             },
             "line": {
              "color": "white"
             }
            },
            "type": "table"
           }
          ]
         },
         "layout": {
          "annotationdefaults": {
           "arrowcolor": "#2a3f5f",
           "arrowhead": 0,
           "arrowwidth": 1
          },
          "autotypenumbers": "strict",
          "coloraxis": {
           "colorbar": {
            "outlinewidth": 0,
            "ticks": ""
           }
          },
          "colorscale": {
           "diverging": [
            [
             0,
             "#8e0152"
            ],
            [
             0.1,
             "#c51b7d"
            ],
            [
             0.2,
             "#de77ae"
            ],
            [
             0.3,
             "#f1b6da"
            ],
            [
             0.4,
             "#fde0ef"
            ],
            [
             0.5,
             "#f7f7f7"
            ],
            [
             0.6,
             "#e6f5d0"
            ],
            [
             0.7,
             "#b8e186"
            ],
            [
             0.8,
             "#7fbc41"
            ],
            [
             0.9,
             "#4d9221"
            ],
            [
             1,
             "#276419"
            ]
           ],
           "sequential": [
            [
             0,
             "#0d0887"
            ],
            [
             0.1111111111111111,
             "#46039f"
            ],
            [
             0.2222222222222222,
             "#7201a8"
            ],
            [
             0.3333333333333333,
             "#9c179e"
            ],
            [
             0.4444444444444444,
             "#bd3786"
            ],
            [
             0.5555555555555556,
             "#d8576b"
            ],
            [
             0.6666666666666666,
             "#ed7953"
            ],
            [
             0.7777777777777778,
             "#fb9f3a"
            ],
            [
             0.8888888888888888,
             "#fdca26"
            ],
            [
             1,
             "#f0f921"
            ]
           ],
           "sequentialminus": [
            [
             0,
             "#0d0887"
            ],
            [
             0.1111111111111111,
             "#46039f"
            ],
            [
             0.2222222222222222,
             "#7201a8"
            ],
            [
             0.3333333333333333,
             "#9c179e"
            ],
            [
             0.4444444444444444,
             "#bd3786"
            ],
            [
             0.5555555555555556,
             "#d8576b"
            ],
            [
             0.6666666666666666,
             "#ed7953"
            ],
            [
             0.7777777777777778,
             "#fb9f3a"
            ],
            [
             0.8888888888888888,
             "#fdca26"
            ],
            [
             1,
             "#f0f921"
            ]
           ]
          },
          "colorway": [
           "#636efa",
           "#EF553B",
           "#00cc96",
           "#ab63fa",
           "#FFA15A",
           "#19d3f3",
           "#FF6692",
           "#B6E880",
           "#FF97FF",
           "#FECB52"
          ],
          "font": {
           "color": "#2a3f5f"
          },
          "geo": {
           "bgcolor": "white",
           "lakecolor": "white",
           "landcolor": "#E5ECF6",
           "showlakes": true,
           "showland": true,
           "subunitcolor": "white"
          },
          "hoverlabel": {
           "align": "left"
          },
          "hovermode": "closest",
          "mapbox": {
           "style": "light"
          },
          "paper_bgcolor": "white",
          "plot_bgcolor": "#E5ECF6",
          "polar": {
           "angularaxis": {
            "gridcolor": "white",
            "linecolor": "white",
            "ticks": ""
           },
           "bgcolor": "#E5ECF6",
           "radialaxis": {
            "gridcolor": "white",
            "linecolor": "white",
            "ticks": ""
           }
          },
          "scene": {
           "xaxis": {
            "backgroundcolor": "#E5ECF6",
            "gridcolor": "white",
            "gridwidth": 2,
            "linecolor": "white",
            "showbackground": true,
            "ticks": "",
            "zerolinecolor": "white"
           },
           "yaxis": {
            "backgroundcolor": "#E5ECF6",
            "gridcolor": "white",
            "gridwidth": 2,
            "linecolor": "white",
            "showbackground": true,
            "ticks": "",
            "zerolinecolor": "white"
           },
           "zaxis": {
            "backgroundcolor": "#E5ECF6",
            "gridcolor": "white",
            "gridwidth": 2,
            "linecolor": "white",
            "showbackground": true,
            "ticks": "",
            "zerolinecolor": "white"
           }
          },
          "shapedefaults": {
           "line": {
            "color": "#2a3f5f"
           }
          },
          "ternary": {
           "aaxis": {
            "gridcolor": "white",
            "linecolor": "white",
            "ticks": ""
           },
           "baxis": {
            "gridcolor": "white",
            "linecolor": "white",
            "ticks": ""
           },
           "bgcolor": "#E5ECF6",
           "caxis": {
            "gridcolor": "white",
            "linecolor": "white",
            "ticks": ""
           }
          },
          "title": {
           "x": 0.05
          },
          "xaxis": {
           "automargin": true,
           "gridcolor": "white",
           "linecolor": "white",
           "ticks": "",
           "title": {
            "standoff": 15
           },
           "zerolinecolor": "white",
           "zerolinewidth": 2
          },
          "yaxis": {
           "automargin": true,
           "gridcolor": "white",
           "linecolor": "white",
           "ticks": "",
           "title": {
            "standoff": 15
           },
           "zerolinecolor": "white",
           "zerolinewidth": 2
          }
         }
        }
       }
      }
     },
     "metadata": {},
     "output_type": "display_data"
    }
   ],
   "source": [
    "#16 Plot-2 Interactive 3D-2!: Check #Clusters: Show Cycles in Red >> Edges: {Red=InCycle, Grey=Else}, Nodes: {Grey}#{Red=Leaf, Blue=Else}\n",
    "\n",
    "fig = make_subplots(rows=1, cols=1, specs=[[{'type': 'scatter3d'}]])\n",
    "x, y, z = zip(*graph.nodes)\n",
    "\n",
    "leaf_nodes = [node for node, degree in graph.degree if degree == 1]\n",
    "\n",
    "node_trace = go.Scatter3d(\n",
    "    x=x,\n",
    "    y=y,\n",
    "    z=z,\n",
    "    mode='markers',\n",
    "    marker=dict(\n",
    "        size=2,\n",
    "        color='grey', #['red' if node in leaf_nodes else 'blue' for node in graph.nodes()], # 'grey',\n",
    "        opacity=0.1 #0.8\n",
    "    )\n",
    ")\n",
    "fig.add_trace(node_trace)\n",
    "\n",
    "for edge in graph.edges():\n",
    "    x0, y0, z0 = edge[0]\n",
    "    x1, y1, z1 = edge[1]\n",
    "    \n",
    "    edge_length = graph.edges[edge]['edge_length']\n",
    "    edge_text = f'{edge_length:.2f}'  # Display the edge length as text\n",
    "    \n",
    "    edge_is_in_a_cycle = [edge[0],edge[1]] in EdgesInCycles or [edge[1],edge[0]] in EdgesInCycles\n",
    "    \n",
    "    edge_trace = go.Scatter3d(\n",
    "        x=[x0, x1],\n",
    "        y=[y0, y1],\n",
    "        z=[z0, z1],\n",
    "        mode='lines',\n",
    "        line=dict(color='rgba(255, 0, 0, 0.8)' if edge_is_in_a_cycle else 'rgba(128, 128, 128, 0.4)',\n",
    "            width=8 if edge_is_in_a_cycle else 1),\n",
    "        hoverinfo='text',\n",
    "        text=edge_text\n",
    "    )\n",
    "    fig.add_trace(edge_trace)\n",
    "\n",
    "fig.update_layout(\n",
    "    margin=dict(l=0, r=0, b=0, t=0),\n",
    "    scene=dict(\n",
    "        xaxis=dict(range=[0, max(x) + 1]),\n",
    "        yaxis=dict(range=[0, max(y) + 1]),\n",
    "        zaxis=dict(range=[0, max(z) + 1])\n",
    "    )\n",
    ")\n",
    "\n",
    "fig.show()"
   ]
  },
  {
   "cell_type": "code",
   "execution_count": 19,
   "metadata": {},
   "outputs": [
    {
     "name": "stdout",
     "output_type": "stream",
     "text": [
      "Node[0]: Appended (425, 93, 244) to CxNodesList\n",
      "Node[1]: Appended (426, 93, 244) to CxNodesList\n",
      "Node[2]: Appended (426, 94, 245) to CxNodesList\n",
      "\n",
      "Overall 3 nodes in CxNodesList\n"
     ]
    }
   ],
   "source": [
    "#17 Create the nodes list of the complex cycle: Works only for one complex cluster!\n",
    "\n",
    "CxNodesList = [] # Complex nodes list\n",
    "NodeIndex = 0\n",
    "for edge in EdgesInCycles: ############### EdgesInCycles should be adjusted for other scenarios! ***\n",
    "    for i in [0,1]:\n",
    "        CurrentNode = edge[i]\n",
    "        if CurrentNode not in CxNodesList:\n",
    "            CxNodesList.append(CurrentNode)\n",
    "            print(f'Node[{NodeIndex}]: Appended {CurrentNode} to CxNodesList')\n",
    "            NodeIndex += 1\n",
    "            \n",
    "print(f'\\nOverall {len(CxNodesList)} nodes in CxNodesList')"
   ]
  },
  {
   "cell_type": "code",
   "execution_count": 20,
   "metadata": {},
   "outputs": [
    {
     "name": "stdout",
     "output_type": "stream",
     "text": [
      "Cluster 1: [(425, 93, 244), (426, 93, 244), (426, 94, 245)]\n"
     ]
    }
   ],
   "source": [
    "#18 Specify n_clusters and get the clusters as separate lists $$$ n_clusters (judge visually and from code block above)\n",
    "# NO NEED TO RUN CODE BLOCK 18-20 IF 0 NODES IN \"CxNodesList\"\n",
    "\n",
    "if CxNodesList: # If not empty, do ..\n",
    "\n",
    "    from sklearn.cluster import KMeans # pip install scikit-learn\n",
    "\n",
    "    # Convert the list of 3-tuples to a NumPy array for K-Means clustering\n",
    "    data = np.array(CxNodesList)\n",
    "\n",
    "    # Specify the number of clusters (in this case, 3 clusters)\n",
    "    # n_clusters = 1\n",
    "    winsound.Beep(frequency, duration)\n",
    "    n_clusters = int(input(\"Please enter the number of clusters: [Cell-18>>Cell-16]: \"))\n",
    "\n",
    "    # Perform K-Means clustering\n",
    "    kmeans = KMeans(n_clusters=n_clusters, n_init=10)  # You can set n_init to any desired value\n",
    "    kmeans.fit(data)\n",
    "\n",
    "    # Get the cluster labels for each data point\n",
    "    cluster_labels = kmeans.labels_\n",
    "\n",
    "    # Initialize empty lists for each cluster\n",
    "    clusters = [[] for _ in range(n_clusters)]\n",
    "\n",
    "    # Organize data points into clusters based on labels\n",
    "    for i, label in enumerate(cluster_labels):\n",
    "        clusters[label].append(CxNodesList[i])\n",
    "\n",
    "    # Print the clusters\n",
    "    for i, cluster in enumerate(clusters):\n",
    "        print(f\"Cluster {i + 1}:\", cluster)"
   ]
  },
  {
   "cell_type": "code",
   "execution_count": 21,
   "metadata": {},
   "outputs": [],
   "source": [
    "#19 Function: Resolves the complex cycles for one cluster: Changes the graph! Works only once!\n",
    "\n",
    "def ResolveComplexCluster(CxNodesCluster, graph):\n",
    "\n",
    "    # List the neighbors that lie outside the cx-cycle\n",
    "    OuterNeighbors = []\n",
    "    print(\"Outer Neighbors:\")\n",
    "    for node in CxNodesCluster:\n",
    "        for neighbor in graph.neighbors(node):\n",
    "            if neighbor not in CxNodesCluster and neighbor not in OuterNeighbors:\n",
    "                OuterNeighbors.append(neighbor)\n",
    "                print(neighbor)\n",
    "\n",
    "    # Print the cx-cycle\n",
    "    print(\"\\nCx-Cycle:\")\n",
    "    for node in CxNodesCluster:\n",
    "        print(node)\n",
    "\n",
    "    # Takes the Cx-Nodes and forms their average\n",
    "    # CxNodesList: List of n 3-tuples  # n: Number of Cx Nodes  # After zip becomes 3 x ntuple\n",
    "    NewAverageNode = tuple([round(sum(ntuple)/len(ntuple)) for ntuple in zip(*CxNodesCluster)])\n",
    "    print('\\nNewAverageNode:')\n",
    "    print(NewAverageNode)\n",
    "\n",
    "    # If NewAverageNode not on the skeleton, go to its neighborhood and find the nearest voxel that lies on the skeleton:\n",
    "    if skeleton[*NewAverageNode] == 0:\n",
    "        print(f\"NewAverageNode {NewAverageNode} not on the skeleton.\")\n",
    "        xxna, yyna, zzna = NewAverageNode\n",
    "        success = False\n",
    "        NeighbrhdSize = 3\n",
    "        while success == False:\n",
    "            print(f\"Searching neighborhood {NeighbrhdSize}\")\n",
    "            lowerbnd = -(NeighbrhdSize//2)\n",
    "            upperbnd =  (NeighbrhdSize//2) + 1\n",
    "            neighbors = [(i, j, k) for i in range(lowerbnd, upperbnd) for j in range(lowerbnd, upperbnd) for k in range(lowerbnd, upperbnd)]\n",
    "            neighbors.remove((0,0,0))\n",
    "            for neighbor_offset in neighbors:\n",
    "                nnx, nny, nnz = xxna + neighbor_offset[0], yyna + neighbor_offset[1], zzna + neighbor_offset[2]\n",
    "                if 0 <= nnx < skeleton.shape[0] and 0 <= nny < skeleton.shape[1] and 0 <= nnz < skeleton.shape[2]:\n",
    "                    if skeleton[nnx, nny, nnz] != 0:\n",
    "                        NewAverageNode = (nnx, nny, nnz)\n",
    "                        print(f\"Adjusted the NewAverageNode to {NewAverageNode}\")\n",
    "                        success = True\n",
    "                        break            \n",
    "            NeighbrhdSize += 2\n",
    "\n",
    "    # Now remove the old nodes in cx-cycle\n",
    "    for node in CxNodesCluster:\n",
    "        graph.remove_node(node)\n",
    "    print(f'\\nRemoved the {len(CxNodesCluster)} nodes in cx-cycle')\n",
    "\n",
    "    # Add the new average node\n",
    "    graph.add_node(NewAverageNode)\n",
    "    print('Added new average node')\n",
    "\n",
    "    # Make the new edges/connections\n",
    "    for node in OuterNeighbors:\n",
    "        graph.add_edge(node, NewAverageNode)\n",
    "    print('Added the final edges\\n')\n",
    "\n",
    "    UpdateEdgeLengths(graph)\n",
    "    print_stats(graph)\n",
    "    print()\n",
    "\n",
    "    ReFindAndPrintLength3Cycles(graph)"
   ]
  },
  {
   "cell_type": "code",
   "execution_count": 22,
   "metadata": {},
   "outputs": [
    {
     "name": "stdout",
     "output_type": "stream",
     "text": [
      "Outer Neighbors:\n",
      "(422, 90, 244)\n",
      "(427, 92, 242)\n",
      "(424, 96, 247)\n",
      "(433, 97, 242)\n",
      "\n",
      "Cx-Cycle:\n",
      "(425, 93, 244)\n",
      "(426, 93, 244)\n",
      "(426, 94, 245)\n",
      "\n",
      "NewAverageNode:\n",
      "(426, 93, 244)\n",
      "\n",
      "Removed the 3 nodes in cx-cycle\n",
      "Added new average node\n",
      "Added the final edges\n",
      "\n",
      "Number of Nodes: 369\n",
      "Number of Edges: 368\n",
      "\n"
     ]
    }
   ],
   "source": [
    "#20 Execute: Resolve all clusters:\n",
    "\n",
    "if CxNodesList: # If not empty, do ..\n",
    "    for cluster in clusters:\n",
    "        ResolveComplexCluster(cluster, graph)"
   ]
  },
  {
   "cell_type": "code",
   "execution_count": 23,
   "metadata": {},
   "outputs": [
    {
     "name": "stdout",
     "output_type": "stream",
     "text": [
      "Number of Nodes: 369\n",
      "Number of Edges: 368\n",
      "\n",
      "This could be a tree.\n"
     ]
    }
   ],
   "source": [
    "#21 Check if it could be a tree:\n",
    "\n",
    "def CheckBeingATree():\n",
    "\n",
    "    num_nodes = nx.number_of_nodes(graph)\n",
    "    num_edges = nx.number_of_edges(graph)\n",
    "\n",
    "    print(\"Number of Nodes:\", num_nodes)\n",
    "    print(\"Number of Edges:\", num_edges)\n",
    "\n",
    "    if num_nodes != num_edges + 1: print(\"\\nThis is not a tree: #nodes != #edges + 1\")\n",
    "    if num_nodes == num_edges + 1: print(\"\\nThis could be a tree.\")\n",
    "\n",
    "CheckBeingATree()"
   ]
  },
  {
   "cell_type": "code",
   "execution_count": 24,
   "metadata": {},
   "outputs": [
    {
     "name": "stdout",
     "output_type": "stream",
     "text": [
      "len(SmallInsideEdges) = 17\n"
     ]
    }
   ],
   "source": [
    "##-21-1 To simplify tree further: Set and visualize SmallInsideEdges, to be removed: Displayed red:\n",
    "\n",
    "UpdateEdgeLengths(graph)\n",
    "\n",
    "# Case-79 root: (480, 196 , 396)\n",
    "# leaf_nodes = [node for node, degree in graph.degree if degree == 1]\n",
    "\n",
    "# size=[6 if node in leaf_nodes else 2 for node in graph.nodes()],\n",
    "# color=['black' if node in leaf_nodes else 'grey' for node in graph.nodes()], # 'grey',\n",
    "# edge_length = graph.edges[edge]['edge_length']\n",
    "# SpecialCondition = edge_length < 10\n",
    "# line=dict(color='rgba(255, 0, 0, 0.6)' if SpecialCondition else 'rgba(128, 128, 128, 0.6)',\n",
    "#             width=6 if SpecialCondition else 2),\n",
    "\n",
    "fig = mlab.figure(size=(2500, 1400), bgcolor=(1, 1, 1))\n",
    "\n",
    "x, y, z = zip(*graph.nodes)\n",
    "mlab.points3d(x, y, z, scale_factor=2, color=(0.2, 0.2, 0.2), opacity=0.7) # color=(1, 0, 0)\n",
    "\n",
    "# Find all terminal edges smaller than LengthThreshold and deeper than InsideMargin\n",
    "InsideMargin = 14\n",
    "LengthThreshold = 14\n",
    "SmallInsideEdges = [edge for edge in graph.edges if\n",
    "                   (graph.degree(edge[0]) == 1 or graph.degree(edge[1]) == 1) and\n",
    "                   (graph.edges[edge]['edge_length'] < LengthThreshold) and\n",
    "\n",
    "                   ((graph.degree(edge[0]) == 1 and distance_transform[*edge[0]]>InsideMargin) or\n",
    "                    (graph.degree(edge[1]) == 1 and distance_transform[*edge[1]]>InsideMargin))\n",
    "                ]\n",
    "\n",
    "print(f\"len(SmallInsideEdges) = {len(SmallInsideEdges)}\")\n",
    "\n",
    "# Create lines for edges\n",
    "for edge in graph.edges:\n",
    "    src, tgt = edge\n",
    "    x = [src[0], tgt[0]]\n",
    "    y = [src[1], tgt[1]]\n",
    "    z = [src[2], tgt[2]]\n",
    "    mlab.plot3d(x, y, z, tube_radius=0.2,\n",
    "                color=(1, 0, 0) if edge in SmallInsideEdges else (0.2, 0.2, 0.2),#(0.2, 0.2, 0.2),\n",
    "                opacity=0.7)\n",
    "\n",
    "# Create contour for the 3D object\n",
    "mlab.contour3d(atree, contours=[0.5], opacity=0.2, color=(0, 151/255, 206/255))\n",
    "\n",
    "winsound.Beep(frequency, duration)\n",
    "mlab.show()"
   ]
  },
  {
   "cell_type": "code",
   "execution_count": 25,
   "metadata": {},
   "outputs": [],
   "source": [
    "##-21-2 Keep another copy of the graph:\n",
    "\n",
    "graphintact2 = copy.deepcopy(graph)\n",
    "skeletonintact2 = copy.deepcopy(skeleton)\n",
    "\n",
    "#RR To refresh your graph once it's messed below, come back to this:\n",
    "# graph = copy.deepcopy(graphintact2)\n",
    "# skeleton = copy.deepcopy(skeletonintact2)"
   ]
  },
  {
   "cell_type": "code",
   "execution_count": 26,
   "metadata": {},
   "outputs": [],
   "source": [
    "##-22 Function: Traverse edge and calculate average diameter function, given endpoint indices and skeleton *\n",
    "\n",
    "import numpy as np\n",
    "import copy\n",
    "import random\n",
    "import time\n",
    "\n",
    "def traverse_edge_and_average(skeletonn, edt, index1, index2, EdgeNum): # edt: eucledean distance transform\n",
    "\n",
    "    global verbose\n",
    "    global StartTime\n",
    "    \n",
    "    # normalize_vector = lambda vec: vec / np.linalg.norm(vec)\n",
    "    if verbose: print(f\"Trying to go from {index1} to {index2}\")\n",
    "\n",
    "    # Define the neighborhood offsets for 3D traversal (26-connected)\n",
    "    neighbors = [(i, j, k) for i in range(-1, 2) for j in range(-1, 2) for k in range(-1, 2)]\n",
    "    neighbors.remove((0,0,0))\n",
    "    \n",
    "    average_diameter = None\n",
    "    timestried = 0\n",
    "    while average_diameter == None and timestried < 2000:\n",
    "\n",
    "        # Initialize variables to store diameter values and count\n",
    "        if verbose: print(f\"Attempt {timestried+1}: \", end='')\n",
    "        skeletonnn = copy.deepcopy(skeletonn)\n",
    "        diameter_sum = 0.0\n",
    "        count = 0\n",
    "\n",
    "        # Start traversal at index1\n",
    "        current_index = index1\n",
    "        visitedvoxels = []\n",
    "\n",
    "        while current_index != index2:\n",
    "\n",
    "            # print(\"current_index:\", current_index) # Great for debugging\n",
    "\n",
    "            if current_index == None: break\n",
    "            visitedvoxels.append(current_index)\n",
    "\n",
    "            # Get the current voxel's coordinates\n",
    "            x, y, z = current_index\n",
    "\n",
    "            # Check if the current voxel is within the skeleton and within bounds\n",
    "            if 0 <= x < skeletonnn.shape[0] and 0 <= y < skeletonnn.shape[1] and 0 <= z < skeletonnn.shape[2]:\n",
    "                if skeletonnn[x, y, z] != 0:\n",
    "                    # If the current voxel is part of the skeleton, add its diameter to the sum\n",
    "                    diameter_sum += edt[x, y, z]\n",
    "                    count += 1\n",
    "\n",
    "                    # Mark the current voxel as visited (you can set it to 0 if necessary)\n",
    "                    skeletonnn[x, y, z] = 0  # Uncomment this line if you want to mark visited voxels\n",
    "                    \n",
    "                    max_alignment = float('-inf')\n",
    "                    next_index = None\n",
    "\n",
    "\n",
    "                    ## Logic to choose next voxel:\n",
    "\n",
    "                    # Logic-1: Deterministic:\n",
    "                    # for neighbor_offset in neighbors:\n",
    "                    #     nx, ny, nz = x + neighbor_offset[0], y + neighbor_offset[1], z + neighbor_offset[2]\n",
    "\n",
    "                    #     strghtdirectiont = tuple(np.array(index2) - np.array(current_index))\n",
    "                    #     strghtdirectionu = normalize_vector(strghtdirectiont)\n",
    "                    #     neighbor_offsetu = normalize_vector(neighbor_offset )\n",
    "                    #     currentalignment = np.dot(neighbor_offsetu, strghtdirectionu)\n",
    "                        \n",
    "                    #     if 0 <= nx < skeletonn.shape[0] and 0 <= ny < skeletonn.shape[1] and 0 <= nz < skeletonn.shape[2]:\n",
    "                    #         if skeletonn[nx, ny, nz] != 0 and currentalignment > max_alignment:\n",
    "                    #             max_alignment = currentalignment\n",
    "                    #             next_index = (nx, ny, nz)\n",
    "\n",
    "                    # Logic-2: Random walk:\n",
    "                    while True:\n",
    "                        if not any([skeletonnn[*tuple(np.array(current_index)+np.array(neigh))] for neigh in neighbors]): break\n",
    "                        neighbor_offset = random.choice(neighbors)\n",
    "                        nnx, nny, nnz = x + neighbor_offset[0], y + neighbor_offset[1], z + neighbor_offset[2]\n",
    "                        if 0 <= nnx < skeletonnn.shape[0] and 0 <= nny < skeletonnn.shape[1] and 0 <= nnz < skeletonnn.shape[2]:\n",
    "                            if skeletonnn[nnx, nny, nnz] != 0:\n",
    "                                next_index = (nnx, nny, nnz)\n",
    "                                break\n",
    "\n",
    "\n",
    "                    # Update the current index to the next voxel in the skeleton\n",
    "                    current_index = next_index\n",
    "                else:\n",
    "                    # If the current voxel is not part of the skeleton, stop the traversal\n",
    "                    break\n",
    "            else:\n",
    "                # If the current index is out of bounds, stop the traversal\n",
    "                break\n",
    "        \n",
    "        if current_index != index2:\n",
    "            if verbose: print(f\"Error! Couldn't get from {index1} to {index2}! Returned None.\")\n",
    "            pass\n",
    "\n",
    "        # Set the output\n",
    "        if count > 0 and current_index == index2:\n",
    "            average_diameter = diameter_sum / count\n",
    "\n",
    "        del skeletonnn\n",
    "        timestried += 1\n",
    "\n",
    "    if current_index == index2:\n",
    "        if verbose: print(f\"\\nDone. Got to {index2}\\n\")\n",
    "        pass\n",
    "\n",
    "    num_edges = nx.number_of_edges(graph)\n",
    "\n",
    "    try:\n",
    "        # Your statement or code that might raise an error goes here\n",
    "        print(f\"Edge #{EdgeNum:3}/{num_edges}; AvgDiam: {average_diameter:010.7f}; TimeElapsed: {(time.time() - StartTime):07.2f}\" + (\"\\n\" if verbose else \"\"))\n",
    "    except Exception as e:\n",
    "        # This block will execute if an error occurs\n",
    "        winsound.Beep(4000, 300)    \n",
    "    # print(f\"Edge #{EdgeNum:3}/{num_edges}; AvgDiam: {average_diameter:010.7f}; TimeElapsed: {(time.time() - StartTime):07.2f}\" + (\"\\n\" if verbose else \"\"))\n",
    "\n",
    "    return average_diameter, visitedvoxels"
   ]
  },
  {
   "cell_type": "code",
   "execution_count": 27,
   "metadata": {},
   "outputs": [
    {
     "name": "stdout",
     "output_type": "stream",
     "text": [
      "Removed small edges inside the volume/ near the root.\n",
      "Removed skeleton voxels corresponding to small edges inside the volume/ near the root.\n"
     ]
    }
   ],
   "source": [
    "##-21-3 Given 'graph': Find and remove all edges in SmallInsideEdges: Changes the graph:\n",
    "# All terminal edges smaller than LengthThreshold and deeper than InsideMargin\n",
    "\n",
    "StartTime = time.time()\n",
    "\n",
    "visitedvoxelstot = []\n",
    "\n",
    "for indxe, edge in enumerate(SmallInsideEdges):\n",
    "\n",
    "    node1, node2 = edge\n",
    "\n",
    "    Node1IsOrWasDegree1 = graph.degree(node1)==1\n",
    "    \n",
    "    if graph.degree(node1)==1: graph.remove_node(node1)\n",
    "    if graph.degree(node2)==1: graph.remove_node(node2)\n",
    "\n",
    "    TheDegree1Node = node1 if Node1IsOrWasDegree1 else node2\n",
    "    NodeOnMainstem = node2 if Node1IsOrWasDegree1 else node1\n",
    "\n",
    "    # print(f\"Trying to remove from skeleton: {TheDegree1Node}->{NodeOnMainstem}\")\n",
    "\n",
    "    # skeletonn = copy.deepcopy(skeleton)\n",
    "    # avgdiam, visitedvoxels = traverse_edge_and_average(skeletonn, distance_transform, TheDegree1Node, NodeOnMainstem, 5)\n",
    "    # visitedvoxelstot.append(visitedvoxels)\n",
    "    # del skeletonn\n",
    "\n",
    "    # print(indxe)\n",
    "    # print(\"visitedvoxels:\", visitedvoxels)\n",
    "    # print()\n",
    "\n",
    "# for vxt in visitedvoxelstot:\n",
    "#     if len(vxt)>1:\n",
    "#         for vx in vxt:\n",
    "#             skeleton[*vx] = 0\n",
    "#             print(f\"deleted voxel: {vx}\")\n",
    "\n",
    "RemoveAndReconnectDegree2Nodes(graph)\n",
    "UpdateEdgeLengths(graph)\n",
    "\n",
    "print(\"Removed small edges inside the volume/ near the root.\")\n",
    "print(\"Removed skeleton voxels corresponding to small edges inside the volume/ near the root.\")"
   ]
  },
  {
   "cell_type": "code",
   "execution_count": 28,
   "metadata": {},
   "outputs": [
    {
     "name": "stdout",
     "output_type": "stream",
     "text": [
      "Automatically found root: (412, 117, 270)\n"
     ]
    }
   ],
   "source": [
    "#21-4 Automatically find the root:\n",
    "\n",
    "leaf_nodes = [node for node, degree in graph.degree if degree == 1]\n",
    "MaxDistance = -10\n",
    "root = []\n",
    "for node in leaf_nodes:\n",
    "    if distance_transform[node]>MaxDistance:\n",
    "        root = node\n",
    "        MaxDistance = distance_transform[node]\n",
    "print(\"Automatically found root:\", root)\n"
   ]
  },
  {
   "cell_type": "code",
   "execution_count": 29,
   "metadata": {},
   "outputs": [],
   "source": [
    "#21-5 Visualize: Verify the root is found correct:\n",
    "\n",
    "# size=[6 if node in leaf_nodes else 2 for node in graph.nodes()],\n",
    "# color=['black' if node in leaf_nodes else 'grey' for node in graph.nodes()], # 'grey',\n",
    "# line=dict(color='rgba(255, 0, 0, 0.6)' if SpecialCondition else 'rgba(128, 128, 128, 0.6)',\n",
    "#             width=6 if SpecialCondition else 2),\n",
    "\n",
    "fig = mlab.figure(size=(2500, 1400), bgcolor=(1, 1, 1))\n",
    "\n",
    "x, y, z = zip(*graph.nodes)\n",
    "mlab.points3d(x, y, z,\n",
    "              scale_factor=2,\n",
    "              color=(0.2, 0.2, 0.2), # ['red' if node == root else 'grey' for node in graph.nodes()]\n",
    "              opacity=0.7) # color=(1, 0, 0)\n",
    "\n",
    "#  Add the new node with a different scale_factor and color\n",
    "mlab.points3d(root[0], root[1], root[2],\n",
    "              scale_factor=14,  # Adjust the scale factor as needed\n",
    "              color=(1, 0, 0),  # Change color as desired (e.g., red)\n",
    "              opacity=0.7)\n",
    "\n",
    "# Create lines for edges\n",
    "# for edge in graph.edges:\n",
    "#     src, tgt = edge\n",
    "#     x = [src[0], tgt[0]]\n",
    "#     y = [src[1], tgt[1]]\n",
    "#     z = [src[2], tgt[2]]\n",
    "#     mlab.plot3d(x, y, z, tube_radius=0.2,\n",
    "#                 color=(1, 0, 0) if edge in SmallInsideEdges else (0.2, 0.2, 0.2),#(0.2, 0.2, 0.2),\n",
    "#                 opacity=0.7)\n",
    "\n",
    "# Create contour for the 3D object\n",
    "mlab.contour3d(atree, contours=[0.5], opacity=0.2, color=(0, 151/255, 206/255))\n",
    "\n",
    "winsound.Beep(frequency, duration)\n",
    "mlab.show()"
   ]
  },
  {
   "cell_type": "code",
   "execution_count": null,
   "metadata": {},
   "outputs": [],
   "source": [
    "# #23-2 Only test: traverse_edge_and_average for two points:\n",
    "\n",
    "# index1 = (423, 232, 374)\n",
    "# index2 = (412, 245, 380)\n",
    "\n",
    "# skeletonn = copy.deepcopy(skeleton)\n",
    "# avgdiam, visitedvoxels = traverse_edge_and_average(skeletonn, distance_transform, index1, index2, 5)\n",
    "# del skeletonn\n",
    "\n",
    "# if avgdiam is not None:\n",
    "#     print(f\"Average Diameter between {index1} and {index2}: {avgdiam:.2f}\")\n",
    "# else:\n",
    "#     print(\"No skeleton found between the specified indices.\")"
   ]
  },
  {
   "cell_type": "code",
   "execution_count": null,
   "metadata": {},
   "outputs": [],
   "source": [
    "# #23-3 Test: Use mayavi to visualize the intended start and end points, plus the taken route, from the above test cell:\n",
    "\n",
    "# import mayavi.mlab as mlab\n",
    "# import numpy as np\n",
    "\n",
    "# # Create a figure\n",
    "# fig = mlab.figure(size=(800, 800), bgcolor=(1, 1, 1))\n",
    "\n",
    "# # Plot the skeleton in blue (0 values will be transparent)\n",
    "# mlab.contour3d(skeleton, color=(0, 0, 1), opacity=0.4)\n",
    "\n",
    "# # Highlight the visited voxels in red\n",
    "# for voxel in visitedvoxels:\n",
    "#     # print(voxel)\n",
    "#     x, y, z = voxel\n",
    "#     mlab.points3d(x, y, z, color=(1, 0, 0), scale_factor=1.0) # , mode='sphere'\n",
    "\n",
    "# for voxel in [index1, index2]:\n",
    "#     # print(voxel)\n",
    "#     x, y, z = voxel\n",
    "#     mlab.points3d(x, y, z, color=(1, 0, 0), scale_factor=4.0) # , mode='sphere'\n",
    "\n",
    "# # Customize the view and axes as needed\n",
    "# mlab.view(azimuth=45, elevation=45, distance=20)\n",
    "# # mlab.axes()\n",
    "\n",
    "# # Show the visualization\n",
    "# mlab.show()"
   ]
  },
  {
   "cell_type": "code",
   "execution_count": 30,
   "metadata": {},
   "outputs": [
    {
     "name": "stdout",
     "output_type": "stream",
     "text": [
      "Edge #  1/337; AvgDiam: 35.8025934; TimeElapsed: 0000.19\n",
      "Edge #  2/337; AvgDiam: 33.6798152; TimeElapsed: 0000.75\n",
      "Edge #  3/337; AvgDiam: 23.3379411; TimeElapsed: 0001.16\n",
      "Edge #  4/337; AvgDiam: 19.4559097; TimeElapsed: 0001.44\n",
      "Edge #  5/337; AvgDiam: 12.9001755; TimeElapsed: 0003.32\n",
      "Edge #  6/337; AvgDiam: 05.3203086; TimeElapsed: 0003.72\n",
      "Edge #  7/337; AvgDiam: 02.7280738; TimeElapsed: 0004.03\n",
      "Edge #  8/337; AvgDiam: 04.1847395; TimeElapsed: 0004.72\n",
      "Edge #  9/337; AvgDiam: 02.7022421; TimeElapsed: 0005.85\n",
      "Edge # 10/337; AvgDiam: 02.9465085; TimeElapsed: 0007.08\n",
      "Edge # 11/337; AvgDiam: 10.0144509; TimeElapsed: 0011.12\n",
      "Edge # 12/337; AvgDiam: 07.4392769; TimeElapsed: 0012.58\n",
      "Edge # 13/337; AvgDiam: 06.5074475; TimeElapsed: 0012.87\n",
      "Edge # 14/337; AvgDiam: 02.8989681; TimeElapsed: 0013.26\n",
      "Edge # 15/337; AvgDiam: 06.2034446; TimeElapsed: 0013.49\n",
      "Edge # 16/337; AvgDiam: 03.7422823; TimeElapsed: 0014.16\n",
      "Edge # 17/337; AvgDiam: 06.2167669; TimeElapsed: 0014.56\n",
      "Edge # 18/337; AvgDiam: 02.9890881; TimeElapsed: 0015.02\n",
      "Edge # 19/337; AvgDiam: 04.7663764; TimeElapsed: 0015.26\n",
      "Edge # 20/337; AvgDiam: 03.8041699; TimeElapsed: 0015.65\n",
      "Edge # 21/337; AvgDiam: 02.8025775; TimeElapsed: 0015.86\n",
      "Edge # 22/337; AvgDiam: 02.9098214; TimeElapsed: 0016.18\n",
      "Edge # 23/337; AvgDiam: 03.2145062; TimeElapsed: 0018.19\n",
      "Edge # 24/337; AvgDiam: 02.3239491; TimeElapsed: 0018.43\n",
      "Edge # 25/337; AvgDiam: 02.4785192; TimeElapsed: 0019.61\n",
      "Edge # 26/337; AvgDiam: 04.1352939; TimeElapsed: 0019.90\n",
      "Edge # 27/337; AvgDiam: 08.6495900; TimeElapsed: 0020.10\n",
      "Edge # 28/337; AvgDiam: 08.1251892; TimeElapsed: 0020.36\n",
      "Edge # 29/337; AvgDiam: 07.5208211; TimeElapsed: 0020.55\n",
      "Edge # 30/337; AvgDiam: 05.9750940; TimeElapsed: 0021.45\n",
      "Edge # 31/337; AvgDiam: 05.0434408; TimeElapsed: 0022.56\n",
      "Edge # 32/337; AvgDiam: 03.9057230; TimeElapsed: 0023.25\n",
      "Edge # 33/337; AvgDiam: 02.6006107; TimeElapsed: 0024.27\n",
      "Edge # 34/337; AvgDiam: 02.5783809; TimeElapsed: 0025.48\n",
      "Edge # 35/337; AvgDiam: 02.5708948; TimeElapsed: 0025.75\n",
      "Edge # 36/337; AvgDiam: 03.1888705; TimeElapsed: 0026.83\n",
      "Edge # 37/337; AvgDiam: 05.4918872; TimeElapsed: 0027.15\n",
      "Edge # 38/337; AvgDiam: 04.9108478; TimeElapsed: 0028.31\n",
      "Edge # 39/337; AvgDiam: 02.4922604; TimeElapsed: 0028.54\n",
      "Edge # 40/337; AvgDiam: 03.9489126; TimeElapsed: 0028.81\n",
      "Edge # 41/337; AvgDiam: 02.5615089; TimeElapsed: 0030.20\n",
      "Edge # 42/337; AvgDiam: 03.5715184; TimeElapsed: 0030.70\n",
      "Edge # 43/337; AvgDiam: 01.9532614; TimeElapsed: 0031.05\n",
      "Edge # 44/337; AvgDiam: 03.6613724; TimeElapsed: 0033.14\n",
      "Edge # 45/337; AvgDiam: 02.1794339; TimeElapsed: 0033.43\n",
      "Edge # 46/337; AvgDiam: 02.5314836; TimeElapsed: 0033.83\n",
      "Edge # 47/337; AvgDiam: 02.6197048; TimeElapsed: 0035.63\n",
      "Edge # 48/337; AvgDiam: 03.1878690; TimeElapsed: 0036.33\n",
      "Edge # 49/337; AvgDiam: 06.8002636; TimeElapsed: 0036.87\n",
      "Edge # 50/337; AvgDiam: 04.2506812; TimeElapsed: 0037.15\n",
      "Edge # 51/337; AvgDiam: 02.9508687; TimeElapsed: 0037.40\n",
      "Edge # 52/337; AvgDiam: 02.5148340; TimeElapsed: 0037.83\n",
      "Edge # 53/337; AvgDiam: 04.6606712; TimeElapsed: 0038.81\n",
      "Edge # 54/337; AvgDiam: 03.3423443; TimeElapsed: 0039.10\n",
      "Edge # 55/337; AvgDiam: 02.5572335; TimeElapsed: 0039.34\n",
      "Edge # 56/337; AvgDiam: 07.1473386; TimeElapsed: 0040.14\n",
      "Edge # 57/337; AvgDiam: 04.1388090; TimeElapsed: 0040.36\n",
      "Edge # 58/337; AvgDiam: 03.0049825; TimeElapsed: 0040.58\n",
      "Edge # 59/337; AvgDiam: 03.0062144; TimeElapsed: 0043.09\n",
      "Edge # 60/337; AvgDiam: 04.6276978; TimeElapsed: 0043.34\n",
      "Edge # 61/337; AvgDiam: 03.1344727; TimeElapsed: 0044.23\n",
      "Edge # 62/337; AvgDiam: 02.7149085; TimeElapsed: 0044.47\n",
      "Edge # 63/337; AvgDiam: 20.9054064; TimeElapsed: 0046.19\n",
      "Edge # 64/337; AvgDiam: 08.6391550; TimeElapsed: 0047.17\n",
      "Edge # 65/337; AvgDiam: 04.0923155; TimeElapsed: 0048.59\n",
      "Edge # 66/337; AvgDiam: 02.8111897; TimeElapsed: 0051.04\n",
      "Edge # 67/337; AvgDiam: 02.6952100; TimeElapsed: 0053.71\n",
      "Edge # 68/337; AvgDiam: 03.3163183; TimeElapsed: 0055.61\n",
      "Edge # 69/337; AvgDiam: 20.9115404; TimeElapsed: 0056.54\n",
      "Edge # 70/337; AvgDiam: 10.9673896; TimeElapsed: 0057.69\n",
      "Edge # 71/337; AvgDiam: 04.2090226; TimeElapsed: 0057.93\n",
      "Edge # 72/337; AvgDiam: 06.9823649; TimeElapsed: 0061.39\n",
      "Edge # 73/337; AvgDiam: 05.0587679; TimeElapsed: 0062.77\n",
      "Edge # 74/337; AvgDiam: 03.0369483; TimeElapsed: 0063.02\n",
      "Edge # 75/337; AvgDiam: 02.9539127; TimeElapsed: 0064.02\n",
      "Edge # 76/337; AvgDiam: 06.1268054; TimeElapsed: 0064.66\n",
      "Edge # 77/337; AvgDiam: 02.9162312; TimeElapsed: 0065.62\n",
      "Edge # 78/337; AvgDiam: 03.7344302; TimeElapsed: 0066.10\n",
      "Edge # 79/337; AvgDiam: 20.4415789; TimeElapsed: 0066.72\n",
      "Edge # 80/337; AvgDiam: 19.6887036; TimeElapsed: 0067.42\n",
      "Edge # 81/337; AvgDiam: 16.7099661; TimeElapsed: 0067.62\n",
      "Edge # 82/337; AvgDiam: 12.3275462; TimeElapsed: 0068.67\n",
      "Edge # 83/337; AvgDiam: 08.6245381; TimeElapsed: 0071.70\n",
      "Edge # 84/337; AvgDiam: 06.8885075; TimeElapsed: 0072.85\n",
      "Edge # 85/337; AvgDiam: 05.2929350; TimeElapsed: 0074.05\n",
      "Edge # 86/337; AvgDiam: 02.7460527; TimeElapsed: 0074.70\n",
      "Edge # 87/337; AvgDiam: 03.0238497; TimeElapsed: 0075.06\n",
      "Edge # 88/337; AvgDiam: 04.9284665; TimeElapsed: 0075.54\n",
      "Edge # 89/337; AvgDiam: 03.4323383; TimeElapsed: 0075.83\n",
      "Edge # 90/337; AvgDiam: 03.4254893; TimeElapsed: 0076.12\n",
      "Edge # 91/337; AvgDiam: 05.3929168; TimeElapsed: 0080.30\n",
      "Edge # 92/337; AvgDiam: 03.6961863; TimeElapsed: 0080.67\n",
      "Edge # 93/337; AvgDiam: 03.2351379; TimeElapsed: 0080.96\n",
      "Edge # 94/337; AvgDiam: 09.6623500; TimeElapsed: 0081.77\n",
      "Edge # 95/337; AvgDiam: 05.5089661; TimeElapsed: 0082.12\n",
      "Edge # 96/337; AvgDiam: 03.6218152; TimeElapsed: 0082.44\n",
      "Edge # 97/337; AvgDiam: 03.2421011; TimeElapsed: 0082.90\n",
      "Edge # 98/337; AvgDiam: 06.6729527; TimeElapsed: 0083.20\n",
      "Edge # 99/337; AvgDiam: 06.5650484; TimeElapsed: 0083.43\n",
      "Edge #100/337; AvgDiam: 03.6364239; TimeElapsed: 0083.66\n",
      "Edge #101/337; AvgDiam: 02.9482701; TimeElapsed: 0084.28\n",
      "Edge #102/337; AvgDiam: 03.2134937; TimeElapsed: 0084.50\n",
      "Edge #103/337; AvgDiam: 03.7407132; TimeElapsed: 0085.23\n",
      "Edge #104/337; AvgDiam: 02.6414185; TimeElapsed: 0086.30\n",
      "Edge #105/337; AvgDiam: 02.5891038; TimeElapsed: 0086.72\n",
      "Edge #106/337; AvgDiam: 07.0915238; TimeElapsed: 0091.07\n",
      "Edge #107/337; AvgDiam: 03.0118776; TimeElapsed: 0091.60\n",
      "Edge #108/337; AvgDiam: 06.2265145; TimeElapsed: 0091.91\n",
      "Edge #109/337; AvgDiam: 05.9577040; TimeElapsed: 0092.12\n",
      "Edge #110/337; AvgDiam: 04.6743257; TimeElapsed: 0092.85\n",
      "Edge #111/337; AvgDiam: 02.9238422; TimeElapsed: 0093.44\n",
      "Edge #112/337; AvgDiam: 03.4429027; TimeElapsed: 0094.53\n",
      "Edge #113/337; AvgDiam: 03.1512609; TimeElapsed: 0094.93\n",
      "Edge #114/337; AvgDiam: 03.0000000; TimeElapsed: 0095.51\n",
      "Edge #115/337; AvgDiam: 02.5974229; TimeElapsed: 0096.11\n",
      "Edge #116/337; AvgDiam: 04.2907372; TimeElapsed: 0096.37\n",
      "Edge #117/337; AvgDiam: 03.1304116; TimeElapsed: 0096.74\n",
      "Edge #118/337; AvgDiam: 02.7824969; TimeElapsed: 0097.06\n",
      "Edge #119/337; AvgDiam: 09.0694565; TimeElapsed: 0097.85\n",
      "Edge #120/337; AvgDiam: 04.3562066; TimeElapsed: 0098.10\n",
      "Edge #121/337; AvgDiam: 03.2174624; TimeElapsed: 0098.35\n",
      "Edge #122/337; AvgDiam: 03.3960432; TimeElapsed: 0099.86\n",
      "Edge #123/337; AvgDiam: 04.9558161; TimeElapsed: 0101.73\n",
      "Edge #124/337; AvgDiam: 02.7906560; TimeElapsed: 0102.65\n",
      "Edge #125/337; AvgDiam: 03.1288885; TimeElapsed: 0104.31\n",
      "Edge #126/337; AvgDiam: 16.9824961; TimeElapsed: 0105.02\n",
      "Edge #127/337; AvgDiam: 11.4393568; TimeElapsed: 0105.58\n",
      "Edge #128/337; AvgDiam: 08.7628775; TimeElapsed: 0106.55\n",
      "Edge #129/337; AvgDiam: 06.2023750; TimeElapsed: 0106.89\n",
      "Edge #130/337; AvgDiam: 03.1205312; TimeElapsed: 0107.27\n",
      "Edge #131/337; AvgDiam: 03.8757992; TimeElapsed: 0109.10\n",
      "Edge #132/337; AvgDiam: 03.4990192; TimeElapsed: 0109.32\n",
      "Edge #133/337; AvgDiam: 03.2022743; TimeElapsed: 0109.52\n",
      "Edge #134/337; AvgDiam: 06.0030678; TimeElapsed: 0109.89\n",
      "Edge #135/337; AvgDiam: 04.3918096; TimeElapsed: 0110.20\n",
      "Edge #136/337; AvgDiam: 03.0374951; TimeElapsed: 0111.02\n",
      "Edge #137/337; AvgDiam: 02.8304282; TimeElapsed: 0112.39\n",
      "Edge #138/337; AvgDiam: 05.2942590; TimeElapsed: 0112.69\n",
      "Edge #139/337; AvgDiam: 02.9336788; TimeElapsed: 0116.36\n",
      "Edge #140/337; AvgDiam: 04.9667993; TimeElapsed: 0117.40\n",
      "Edge #141/337; AvgDiam: 03.0124540; TimeElapsed: 0118.19\n",
      "Edge #142/337; AvgDiam: 03.3204953; TimeElapsed: 0120.54\n",
      "Edge #143/337; AvgDiam: 07.5579900; TimeElapsed: 0121.20\n",
      "Edge #144/337; AvgDiam: 03.9970904; TimeElapsed: 0122.41\n",
      "Edge #145/337; AvgDiam: 03.3199238; TimeElapsed: 0123.11\n",
      "Edge #146/337; AvgDiam: 03.1268765; TimeElapsed: 0123.87\n",
      "Edge #147/337; AvgDiam: 03.9581225; TimeElapsed: 0124.54\n",
      "Edge #148/337; AvgDiam: 03.5447990; TimeElapsed: 0124.80\n",
      "Edge #149/337; AvgDiam: 04.8876874; TimeElapsed: 0125.34\n",
      "Edge #150/337; AvgDiam: 03.2291980; TimeElapsed: 0125.64\n",
      "Edge #151/337; AvgDiam: 02.3159168; TimeElapsed: 0126.06\n",
      "Edge #152/337; AvgDiam: 02.5523071; TimeElapsed: 0126.70\n",
      "Edge #153/337; AvgDiam: 03.8393627; TimeElapsed: 0127.50\n",
      "Edge #154/337; AvgDiam: 10.5140696; TimeElapsed: 0128.18\n",
      "Edge #155/337; AvgDiam: 06.1155252; TimeElapsed: 0130.11\n",
      "Edge #156/337; AvgDiam: 03.6985221; TimeElapsed: 0130.45\n",
      "Edge #157/337; AvgDiam: 04.2701877; TimeElapsed: 0130.66\n",
      "Edge #158/337; AvgDiam: 03.4363381; TimeElapsed: 0131.73\n",
      "Edge #159/337; AvgDiam: 02.7956173; TimeElapsed: 0131.94\n",
      "Edge #160/337; AvgDiam: 02.4501146; TimeElapsed: 0132.55\n",
      "Edge #161/337; AvgDiam: 03.0110503; TimeElapsed: 0133.01\n",
      "Edge #162/337; AvgDiam: 05.2715635; TimeElapsed: 0133.20\n",
      "Edge #163/337; AvgDiam: 02.8384801; TimeElapsed: 0133.64\n",
      "Edge #164/337; AvgDiam: 03.1121217; TimeElapsed: 0135.14\n",
      "Edge #165/337; AvgDiam: 11.4438696; TimeElapsed: 0135.86\n",
      "Edge #166/337; AvgDiam: 05.8585607; TimeElapsed: 0138.13\n",
      "Edge #167/337; AvgDiam: 04.9989995; TimeElapsed: 0141.52\n",
      "Edge #168/337; AvgDiam: 04.8581321; TimeElapsed: 0144.12\n",
      "Edge #169/337; AvgDiam: 03.2997980; TimeElapsed: 0145.40\n",
      "Edge #170/337; AvgDiam: 04.3364696; TimeElapsed: 0146.00\n",
      "Edge #171/337; AvgDiam: 02.8157352; TimeElapsed: 0148.14\n",
      "Edge #172/337; AvgDiam: 03.1021751; TimeElapsed: 0149.00\n",
      "Edge #173/337; AvgDiam: 05.4254721; TimeElapsed: 0149.70\n",
      "Edge #174/337; AvgDiam: 03.3865267; TimeElapsed: 0150.01\n",
      "Edge #175/337; AvgDiam: 03.6249187; TimeElapsed: 0150.44\n",
      "Edge #176/337; AvgDiam: 25.2352371; TimeElapsed: 0157.64\n",
      "Edge #177/337; AvgDiam: 17.6651785; TimeElapsed: 0158.45\n",
      "Edge #178/337; AvgDiam: 18.1106024; TimeElapsed: 0158.65\n",
      "Edge #179/337; AvgDiam: 07.2744700; TimeElapsed: 0159.03\n",
      "Edge #180/337; AvgDiam: 04.9640747; TimeElapsed: 0161.04\n",
      "Edge #181/337; AvgDiam: 03.3820955; TimeElapsed: 0162.48\n",
      "Edge #182/337; AvgDiam: 04.0591061; TimeElapsed: 0162.69\n",
      "Edge #183/337; AvgDiam: 02.6253201; TimeElapsed: 0162.92\n",
      "Edge #184/337; AvgDiam: 02.9319738; TimeElapsed: 0163.88\n",
      "Edge #185/337; AvgDiam: 05.7490588; TimeElapsed: 0166.91\n",
      "Edge #186/337; AvgDiam: 03.8129229; TimeElapsed: 0170.40\n",
      "Edge #187/337; AvgDiam: 06.3561675; TimeElapsed: 0172.04\n",
      "Edge #188/337; AvgDiam: 05.2172906; TimeElapsed: 0172.93\n",
      "Edge #189/337; AvgDiam: 04.0761992; TimeElapsed: 0174.49\n",
      "Edge #190/337; AvgDiam: 03.0667561; TimeElapsed: 0175.54\n",
      "Edge #191/337; AvgDiam: 03.5224993; TimeElapsed: 0176.52\n",
      "Edge #192/337; AvgDiam: 17.0753116; TimeElapsed: 0176.79\n",
      "Edge #193/337; AvgDiam: 06.6365217; TimeElapsed: 0177.16\n",
      "Edge #194/337; AvgDiam: 03.0724002; TimeElapsed: 0177.52\n",
      "Edge #195/337; AvgDiam: 02.6293104; TimeElapsed: 0179.22\n",
      "Edge #196/337; AvgDiam: 17.2571081; TimeElapsed: 0179.76\n",
      "Edge #197/337; AvgDiam: 10.1699226; TimeElapsed: 0180.40\n",
      "Edge #198/337; AvgDiam: 04.2219505; TimeElapsed: 0181.04\n",
      "Edge #199/337; AvgDiam: 04.3402222; TimeElapsed: 0181.47\n",
      "Edge #200/337; AvgDiam: 02.7520766; TimeElapsed: 0184.52\n",
      "Edge #201/337; AvgDiam: 03.2243067; TimeElapsed: 0185.55\n",
      "Edge #202/337; AvgDiam: 16.7496379; TimeElapsed: 0185.75\n",
      "Edge #203/337; AvgDiam: 11.6122547; TimeElapsed: 0186.43\n",
      "Edge #204/337; AvgDiam: 06.9132350; TimeElapsed: 0186.71\n",
      "Edge #205/337; AvgDiam: 04.2501826; TimeElapsed: 0188.40\n",
      "Edge #206/337; AvgDiam: 06.1034242; TimeElapsed: 0189.37\n",
      "Edge #207/337; AvgDiam: 02.8277156; TimeElapsed: 0190.22\n",
      "Edge #208/337; AvgDiam: 02.9882606; TimeElapsed: 0190.85\n",
      "Edge #209/337; AvgDiam: 05.7853600; TimeElapsed: 0193.92\n",
      "Edge #210/337; AvgDiam: 03.5151103; TimeElapsed: 0195.20\n",
      "Edge #211/337; AvgDiam: 03.3166248; TimeElapsed: 0195.38\n",
      "Edge #212/337; AvgDiam: 02.7466699; TimeElapsed: 0196.30\n",
      "Edge #213/337; AvgDiam: 04.2901645; TimeElapsed: 0196.50\n",
      "Edge #214/337; AvgDiam: 16.5049637; TimeElapsed: 0197.79\n",
      "Edge #215/337; AvgDiam: 06.1812301; TimeElapsed: 0198.02\n",
      "Edge #216/337; AvgDiam: 14.9818238; TimeElapsed: 0198.84\n",
      "Edge #217/337; AvgDiam: 05.7675377; TimeElapsed: 0199.72\n",
      "Edge #218/337; AvgDiam: 02.7376546; TimeElapsed: 0200.12\n",
      "Edge #219/337; AvgDiam: 03.0870707; TimeElapsed: 0200.95\n",
      "Edge #220/337; AvgDiam: 13.3256057; TimeElapsed: 0202.07\n",
      "Edge #221/337; AvgDiam: 09.7728897; TimeElapsed: 0203.22\n",
      "Edge #222/337; AvgDiam: 06.2833228; TimeElapsed: 0203.71\n",
      "Edge #223/337; AvgDiam: 02.9128665; TimeElapsed: 0205.03\n",
      "Edge #224/337; AvgDiam: 04.2154305; TimeElapsed: 0206.99\n",
      "Edge #225/337; AvgDiam: 02.5581673; TimeElapsed: 0207.23\n",
      "Edge #226/337; AvgDiam: 02.8588660; TimeElapsed: 0207.68\n",
      "Edge #227/337; AvgDiam: 08.4067660; TimeElapsed: 0209.34\n",
      "Edge #228/337; AvgDiam: 06.3651538; TimeElapsed: 0211.49\n",
      "Edge #229/337; AvgDiam: 05.7224894; TimeElapsed: 0211.84\n",
      "Edge #230/337; AvgDiam: 05.3851648; TimeElapsed: 0212.49\n",
      "Edge #231/337; AvgDiam: 03.2285194; TimeElapsed: 0212.92\n",
      "Edge #232/337; AvgDiam: 04.3573519; TimeElapsed: 0213.13\n",
      "Edge #233/337; AvgDiam: 03.0629298; TimeElapsed: 0213.81\n",
      "Edge #234/337; AvgDiam: 03.1622777; TimeElapsed: 0214.01\n",
      "Edge #235/337; AvgDiam: 03.0592906; TimeElapsed: 0214.23\n",
      "Edge #236/337; AvgDiam: 03.0419326; TimeElapsed: 0214.94\n",
      "Edge #237/337; AvgDiam: 05.3851648; TimeElapsed: 0215.13\n",
      "Edge #238/337; AvgDiam: 03.1441643; TimeElapsed: 0216.76\n",
      "Edge #239/337; AvgDiam: 04.4541203; TimeElapsed: 0217.05\n",
      "Edge #240/337; AvgDiam: 09.5848100; TimeElapsed: 0220.26\n",
      "Edge #241/337; AvgDiam: 09.0526856; TimeElapsed: 0220.48\n",
      "Edge #242/337; AvgDiam: 09.0000000; TimeElapsed: 0222.59\n",
      "Edge #243/337; AvgDiam: 08.9807315; TimeElapsed: 0222.88\n",
      "Edge #244/337; AvgDiam: 08.5874178; TimeElapsed: 0223.08\n",
      "Edge #245/337; AvgDiam: 04.0777340; TimeElapsed: 0223.38\n",
      "Edge #246/337; AvgDiam: 04.2433921; TimeElapsed: 0224.62\n",
      "Edge #247/337; AvgDiam: 02.7726319; TimeElapsed: 0225.40\n",
      "Edge #248/337; AvgDiam: 03.0200168; TimeElapsed: 0225.95\n",
      "Edge #249/337; AvgDiam: 08.6168495; TimeElapsed: 0226.16\n",
      "Edge #250/337; AvgDiam: 04.1864790; TimeElapsed: 0227.06\n",
      "Edge #251/337; AvgDiam: 07.5256312; TimeElapsed: 0227.32\n",
      "Edge #252/337; AvgDiam: 06.8755607; TimeElapsed: 0228.01\n",
      "Edge #253/337; AvgDiam: 03.3741494; TimeElapsed: 0228.83\n",
      "Edge #254/337; AvgDiam: 04.6529825; TimeElapsed: 0229.18\n",
      "Edge #255/337; AvgDiam: 02.9727654; TimeElapsed: 0229.74\n",
      "Edge #256/337; AvgDiam: 03.0387362; TimeElapsed: 0230.19\n",
      "Edge #257/337; AvgDiam: 03.3953017; TimeElapsed: 0231.36\n",
      "Edge #258/337; AvgDiam: 04.0100600; TimeElapsed: 0232.65\n",
      "Edge #259/337; AvgDiam: 16.8006383; TimeElapsed: 0232.86\n",
      "Edge #260/337; AvgDiam: 05.3707635; TimeElapsed: 0234.94\n",
      "Edge #261/337; AvgDiam: 09.5708312; TimeElapsed: 0235.57\n",
      "Edge #262/337; AvgDiam: 07.1588310; TimeElapsed: 0235.77\n",
      "Edge #263/337; AvgDiam: 04.4394314; TimeElapsed: 0236.05\n",
      "Edge #264/337; AvgDiam: 03.1227588; TimeElapsed: 0236.79\n",
      "Edge #265/337; AvgDiam: 03.1738291; TimeElapsed: 0237.06\n",
      "Edge #266/337; AvgDiam: 03.9208016; TimeElapsed: 0237.66\n",
      "Edge #267/337; AvgDiam: 05.2779368; TimeElapsed: 0238.63\n",
      "Edge #268/337; AvgDiam: 04.1756443; TimeElapsed: 0238.88\n",
      "Edge #269/337; AvgDiam: 02.8842547; TimeElapsed: 0239.44\n",
      "Edge #270/337; AvgDiam: 03.6802379; TimeElapsed: 0239.88\n",
      "Edge #271/337; AvgDiam: 02.7978079; TimeElapsed: 0240.38\n",
      "Edge #272/337; AvgDiam: 02.9350981; TimeElapsed: 0240.66\n",
      "Edge #273/337; AvgDiam: 02.9649305; TimeElapsed: 0242.43\n",
      "Edge #274/337; AvgDiam: 15.7852353; TimeElapsed: 0243.38\n",
      "Edge #275/337; AvgDiam: 13.5162333; TimeElapsed: 0244.60\n",
      "Edge #276/337; AvgDiam: 08.1789747; TimeElapsed: 0245.27\n",
      "Edge #277/337; AvgDiam: 05.9973501; TimeElapsed: 0246.41\n",
      "Edge #278/337; AvgDiam: 02.9480679; TimeElapsed: 0247.36\n",
      "Edge #279/337; AvgDiam: 05.3230015; TimeElapsed: 0247.65\n",
      "Edge #280/337; AvgDiam: 02.2903528; TimeElapsed: 0247.99\n",
      "Edge #281/337; AvgDiam: 04.6690550; TimeElapsed: 0248.27\n",
      "Edge #282/337; AvgDiam: 02.6559739; TimeElapsed: 0248.65\n",
      "Edge #283/337; AvgDiam: 03.1468663; TimeElapsed: 0250.94\n",
      "Edge #284/337; AvgDiam: 02.3578480; TimeElapsed: 0251.27\n",
      "Edge #285/337; AvgDiam: 02.6570917; TimeElapsed: 0251.91\n",
      "Edge #286/337; AvgDiam: 07.6157731; TimeElapsed: 0253.71\n",
      "Edge #287/337; AvgDiam: 05.2804203; TimeElapsed: 0254.81\n",
      "Edge #288/337; AvgDiam: 02.8650442; TimeElapsed: 0255.18\n",
      "Edge #289/337; AvgDiam: 03.6229719; TimeElapsed: 0255.88\n",
      "Edge #290/337; AvgDiam: 03.4260237; TimeElapsed: 0256.90\n",
      "Edge #291/337; AvgDiam: 13.4673614; TimeElapsed: 0257.47\n",
      "Edge #292/337; AvgDiam: 06.6124181; TimeElapsed: 0257.93\n",
      "Edge #293/337; AvgDiam: 05.9160798; TimeElapsed: 0258.75\n",
      "Edge #294/337; AvgDiam: 04.5032301; TimeElapsed: 0259.31\n",
      "Edge #295/337; AvgDiam: 02.6286242; TimeElapsed: 0261.37\n",
      "Edge #296/337; AvgDiam: 02.7929256; TimeElapsed: 0261.66\n",
      "Edge #297/337; AvgDiam: 02.7425960; TimeElapsed: 0263.60\n",
      "Edge #298/337; AvgDiam: 02.8776009; TimeElapsed: 0264.83\n",
      "Edge #299/337; AvgDiam: 12.0284443; TimeElapsed: 0266.56\n",
      "Edge #300/337; AvgDiam: 08.3939186; TimeElapsed: 0268.01\n",
      "Edge #301/337; AvgDiam: 07.8102497; TimeElapsed: 0268.19\n",
      "Edge #302/337; AvgDiam: 02.7983759; TimeElapsed: 0268.87\n",
      "Edge #303/337; AvgDiam: 05.1889544; TimeElapsed: 0270.00\n",
      "Edge #304/337; AvgDiam: 03.9407081; TimeElapsed: 0270.22\n",
      "Edge #305/337; AvgDiam: 03.4610880; TimeElapsed: 0275.98\n",
      "Edge #306/337; AvgDiam: 02.5292937; TimeElapsed: 0276.31\n",
      "Edge #307/337; AvgDiam: 03.0743410; TimeElapsed: 0276.60\n",
      "Edge #308/337; AvgDiam: 05.1792922; TimeElapsed: 0278.48\n",
      "Edge #309/337; AvgDiam: 03.4442174; TimeElapsed: 0279.22\n",
      "Edge #310/337; AvgDiam: 05.1700842; TimeElapsed: 0280.26\n",
      "Edge #311/337; AvgDiam: 03.3401887; TimeElapsed: 0282.01\n",
      "Edge #312/337; AvgDiam: 02.7834178; TimeElapsed: 0284.09\n",
      "Edge #313/337; AvgDiam: 06.6840796; TimeElapsed: 0285.47\n",
      "Edge #314/337; AvgDiam: 05.9291185; TimeElapsed: 0285.88\n",
      "Edge #315/337; AvgDiam: 03.3826419; TimeElapsed: 0286.36\n",
      "Edge #316/337; AvgDiam: 04.0313111; TimeElapsed: 0286.58\n",
      "Edge #317/337; AvgDiam: 02.9713566; TimeElapsed: 0286.82\n",
      "Edge #318/337; AvgDiam: 02.8510596; TimeElapsed: 0287.96\n",
      "Edge #319/337; AvgDiam: 03.4260935; TimeElapsed: 0290.61\n",
      "Edge #320/337; AvgDiam: 08.2321412; TimeElapsed: 0292.61\n",
      "Edge #321/337; AvgDiam: 04.4608449; TimeElapsed: 0293.51\n",
      "Edge #322/337; AvgDiam: 02.7134756; TimeElapsed: 0293.73\n",
      "Edge #323/337; AvgDiam: 03.0012887; TimeElapsed: 0294.46\n",
      "Edge #324/337; AvgDiam: 06.7783930; TimeElapsed: 0295.93\n",
      "Edge #325/337; AvgDiam: 04.9383651; TimeElapsed: 0296.12\n",
      "Edge #326/337; AvgDiam: 03.1422541; TimeElapsed: 0297.29\n",
      "Edge #327/337; AvgDiam: 02.5471104; TimeElapsed: 0297.51\n",
      "Edge #328/337; AvgDiam: 04.8668314; TimeElapsed: 0297.81\n",
      "Edge #329/337; AvgDiam: 03.3185096; TimeElapsed: 0300.64\n",
      "Edge #330/337; AvgDiam: 02.4758203; TimeElapsed: 0300.87\n",
      "Edge #331/337; AvgDiam: 02.5806842; TimeElapsed: 0301.11\n",
      "Edge #332/337; AvgDiam: 03.5372252; TimeElapsed: 0302.84\n",
      "Edge #333/337; AvgDiam: 34.3532651; TimeElapsed: 0303.79\n",
      "Edge #334/337; AvgDiam: 28.6214962; TimeElapsed: 0304.05\n",
      "Edge #335/337; AvgDiam: 29.9890366; TimeElapsed: 0304.68\n",
      "Edge #336/337; AvgDiam: 28.0406059; TimeElapsed: 0304.92\n",
      "Edge #337/337; AvgDiam: 29.8796367; TimeElapsed: 0307.32\n",
      "\n",
      "Done.\n"
     ]
    }
   ],
   "source": [
    "##-24 Main function calling the traverse function: $$$ root = () or Enter !!**\n",
    "# input_string = '(480, 196, 396)'\n",
    "\n",
    "# Fucntion: fully traverse the directed tree visiting all edges:\n",
    "def traverse_full_tree(digraph, current_node):\n",
    "    global EdgeNum\n",
    "    # Find and process the outgoing edges from the current node\n",
    "    for successor in digraph.successors(current_node):\n",
    "        # Run the FindDiameter function for the current edge\n",
    "        digraph[current_node][successor]['AvgDiameter'] = FindDiameter(current_node, successor, EdgeNum)\n",
    "        EdgeNum += 1\n",
    "        # Recursively traverse the tree from the successor node\n",
    "        traverse_full_tree(digraph, successor)\n",
    "\n",
    "def FindDiameter(node1, node2, EdgeNum):\n",
    "    # print(f\"Finding avg diameter btw nodes {node1} and {node2}\")\n",
    "    skeletonn = copy.deepcopy(skeleton)\n",
    "    avgdiam, visitedvoxels = traverse_edge_and_average(skeletonn, distance_transform, node1, node2, EdgeNum)\n",
    "    del skeletonn\n",
    "    return avgdiam\n",
    "\n",
    "# Main: Start the traversal from a specified root node:\n",
    "import time\n",
    "\n",
    "winsound.Beep(frequency, duration)\n",
    "user_input = input(\"If root was OK just press Enter; if not, enter the root: eg (100, 20, 18): [Cell-24>>Cell-16]: \")\n",
    "if user_input.strip() == \"\": # (436, 69, 207) for Case-53! # (480, 196 , 396) for Case-79\n",
    "    pass\n",
    "else:\n",
    "    root = eval(user_input)\n",
    "\n",
    "digraph = nx.dfs_tree(graph, source=root) # Create a directed graph starting from the specified root node\n",
    "StartTime = time.time()\n",
    "EdgeNum = 1\n",
    "traverse_full_tree(digraph, root)\n",
    "print('\\nDone.')\n",
    "\n",
    "# Example Error: Attempt 60: Error! Couldn't get from (477, 282, 383) to (466, 270, 425)! Returned None."
   ]
  },
  {
   "cell_type": "code",
   "execution_count": 31,
   "metadata": {},
   "outputs": [
    {
     "name": "stdout",
     "output_type": "stream",
     "text": [
      "Reality check: First 3 edges:\n",
      "\n",
      "Edge ((412, 117, 270) -> (415, 134, 275)):\n",
      "  AvgDiameter: 35.802593437779876\n",
      "\n",
      "Edge ((415, 134, 275) -> (393, 202, 288)):\n",
      "  AvgDiameter: 33.67981524754113\n",
      "\n",
      "Edge ((415, 134, 275) -> (423, 99, 250)):\n",
      "  AvgDiameter: 34.35326509778632\n",
      "\n"
     ]
    }
   ],
   "source": [
    "#25 Get the first three edges and their properties as a reality check:\n",
    "\n",
    "print(\"Reality check: First 3 edges:\\n\")\n",
    "first_three_edges = list(digraph.edges(data=True))[:3]\n",
    "# Iterate through the first three edges and print their properties\n",
    "for edge in first_three_edges:\n",
    "    source, target, attributes = edge\n",
    "    print(f\"Edge ({source} -> {target}):\")\n",
    "    for key, value in attributes.items():\n",
    "        print(f\"  {key}: {value}\")\n",
    "    print(\"\")"
   ]
  },
  {
   "cell_type": "code",
   "execution_count": 33,
   "metadata": {},
   "outputs": [
    {
     "name": "stdout",
     "output_type": "stream",
     "text": [
      "Edge: (412, 117, 270) -> (415, 134, 275), Order: 6\n",
      "Edge: (415, 134, 275) -> (393, 202, 288), Order: 6\n",
      "Edge: (415, 134, 275) -> (423, 99, 250), Order: 2\n",
      "Edge: (393, 202, 288) -> (461, 268, 292), Order: 5\n",
      "Edge: (393, 202, 288) -> (302, 250, 258), Order: 5\n",
      "Edge: (461, 268, 292) -> (481, 269, 307), Order: 4\n",
      "Edge: (461, 268, 292) -> (490, 304, 280), Order: 5\n",
      "Edge: (481, 269, 307) -> (487, 267, 305), Order: 4\n",
      "Edge: (481, 269, 307) -> (499, 314, 332), Order: 3\n",
      "Edge: (487, 267, 305) -> (556, 197, 278), Order: 2\n",
      "Edge: (487, 267, 305) -> (498, 265, 311), Order: 4\n",
      "Edge: (556, 197, 278) -> (582, 200, 313), Order: 1\n",
      "Edge: (556, 197, 278) -> (565, 170, 269), Order: 2\n",
      "Edge: (565, 170, 269) -> (564, 105, 242), Order: 1\n",
      "Edge: (565, 170, 269) -> (597, 153, 252), Order: 1\n",
      "Edge: (498, 265, 311) -> (500, 270, 339), Order: 3\n",
      "Edge: (498, 265, 311) -> (511, 255, 308), Order: 4\n",
      "Edge: (500, 270, 339) -> (490, 282, 365), Order: 3\n",
      "Edge: (500, 270, 339) -> (535, 294, 356), Order: 1\n",
      "Edge: (490, 282, 365) -> (444, 275, 412), Order: 1\n",
      "Edge: (490, 282, 365) -> (492, 284, 375), Order: 3\n",
      "Edge: (492, 284, 375) -> (472, 321, 409), Order: 1\n",
      "Edge: (492, 284, 375) -> (494, 282, 378), Order: 3\n",
      "Edge: (494, 282, 378) -> (519, 272, 382), Order: 1\n",
      "Edge: (494, 282, 378) -> (499, 276, 397), Order: 3\n",
      "Edge: (499, 276, 397) -> (493, 265, 405), Order: 2\n",
      "Edge: (499, 276, 397) -> (503, 285, 409), Order: 2\n",
      "Edge: (493, 265, 405) -> (483, 258, 411), Order: 1\n",
      "Edge: (493, 265, 405) -> (500, 258, 409), Order: 1\n",
      "Edge: (503, 285, 409) -> (496, 293, 433), Order: 1\n",
      "Edge: (503, 285, 409) -> (513, 293, 411), Order: 1\n",
      "Edge: (511, 255, 308) -> (520, 227, 321), Order: 3\n",
      "Edge: (511, 255, 308) -> (534, 261, 293), Order: 3\n",
      "Edge: (520, 227, 321) -> (519, 225, 322), Order: 3\n",
      "Edge: (520, 227, 321) -> (552, 248, 350), Order: 1\n",
      "Edge: (519, 225, 322) -> (523, 202, 317), Order: 2\n",
      "Edge: (519, 225, 322) -> (499, 212, 353), Order: 2\n",
      "Edge: (523, 202, 317) -> (513, 178, 310), Order: 2\n",
      "Edge: (523, 202, 317) -> (548, 191, 332), Order: 1\n",
      "Edge: (513, 178, 310) -> (506, 143, 301), Order: 2\n",
      "Edge: (513, 178, 310) -> (532, 159, 320), Order: 1\n",
      "Edge: (506, 143, 301) -> (486, 109, 296), Order: 1\n",
      "Edge: (506, 143, 301) -> (516, 122, 287), Order: 1\n",
      "Edge: (499, 212, 353) -> (490, 203, 360), Order: 2\n",
      "Edge: (499, 212, 353) -> (530, 213, 373), Order: 1\n",
      "Edge: (490, 203, 360) -> (507, 179, 367), Order: 1\n",
      "Edge: (490, 203, 360) -> (471, 185, 361), Order: 2\n",
      "Edge: (471, 185, 361) -> (470, 188, 353), Order: 1\n",
      "Edge: (471, 185, 361) -> (468, 178, 360), Order: 2\n",
      "Edge: (468, 178, 360) -> (474, 129, 349), Order: 1\n",
      "Edge: (468, 178, 360) -> (465, 177, 362), Order: 2\n",
      "Edge: (465, 177, 362) -> (442, 135, 341), Order: 1\n",
      "Edge: (465, 177, 362) -> (447, 191, 373), Order: 1\n",
      "Edge: (534, 261, 293) -> (567, 288, 314), Order: 2\n",
      "Edge: (534, 261, 293) -> (574, 247, 298), Order: 2\n",
      "Edge: (567, 288, 314) -> (596, 296, 312), Order: 1\n",
      "Edge: (567, 288, 314) -> (586, 294, 342), Order: 1\n",
      "Edge: (574, 247, 298) -> (598, 238, 285), Order: 1\n",
      "Edge: (574, 247, 298) -> (599, 242, 316), Order: 1\n",
      "Edge: (499, 314, 332) -> (486, 332, 350), Order: 2\n",
      "Edge: (499, 314, 332) -> (512, 334, 361), Order: 2\n",
      "Edge: (486, 332, 350) -> (474, 337, 360), Order: 1\n",
      "Edge: (486, 332, 350) -> (495, 357, 357), Order: 1\n",
      "Edge: (512, 334, 361) -> (508, 346, 397), Order: 1\n",
      "Edge: (512, 334, 361) -> (520, 354, 365), Order: 1\n",
      "Edge: (490, 304, 280) -> (540, 321, 310), Order: 2\n",
      "Edge: (490, 304, 280) -> (502, 315, 270), Order: 5\n",
      "Edge: (540, 321, 310) -> (546, 336, 312), Order: 2\n",
      "Edge: (540, 321, 310) -> (571, 335, 338), Order: 1\n",
      "Edge: (546, 336, 312) -> (547, 354, 326), Order: 1\n",
      "Edge: (546, 336, 312) -> (572, 360, 313), Order: 1\n",
      "Edge: (502, 315, 270) -> (498, 347, 285), Order: 3\n",
      "Edge: (502, 315, 270) -> (513, 320, 256), Order: 5\n",
      "Edge: (498, 347, 285) -> (489, 352, 276), Order: 1\n",
      "Edge: (498, 347, 285) -> (499, 351, 285), Order: 3\n",
      "Edge: (499, 351, 285) -> (517, 378, 283), Order: 2\n",
      "Edge: (499, 351, 285) -> (493, 357, 292), Order: 2\n",
      "Edge: (517, 378, 283) -> (511, 398, 284), Order: 1\n",
      "Edge: (517, 378, 283) -> (551, 393, 301), Order: 1\n",
      "Edge: (493, 357, 292) -> (470, 374, 320), Order: 1\n",
      "Edge: (493, 357, 292) -> (499, 387, 318), Order: 1\n",
      "Edge: (513, 320, 256) -> (517, 324, 248), Order: 5\n",
      "Edge: (513, 320, 256) -> (528, 286, 241), Order: 3\n",
      "Edge: (517, 324, 248) -> (516, 334, 238), Order: 4\n",
      "Edge: (517, 324, 248) -> (524, 322, 240), Order: 4\n",
      "Edge: (516, 334, 238) -> (512, 350, 198), Order: 4\n",
      "Edge: (516, 334, 238) -> (510, 364, 239), Order: 3\n",
      "Edge: (512, 350, 198) -> (495, 388, 161), Order: 3\n",
      "Edge: (512, 350, 198) -> (524, 351, 184), Order: 4\n",
      "Edge: (495, 388, 161) -> (481, 399, 132), Order: 3\n",
      "Edge: (495, 388, 161) -> (517, 415, 153), Order: 2\n",
      "Edge: (481, 399, 132) -> (472, 399, 130), Order: 2\n",
      "Edge: (481, 399, 132) -> (475, 406, 95), Order: 2\n",
      "Edge: (472, 399, 130) -> (458, 386, 112), Order: 1\n",
      "Edge: (472, 399, 130) -> (465, 407, 131), Order: 1\n",
      "Edge: (475, 406, 95) -> (466, 400, 70), Order: 1\n",
      "Edge: (475, 406, 95) -> (498, 434, 57), Order: 1\n",
      "Edge: (517, 415, 153) -> (522, 421, 158), Order: 1\n",
      "Edge: (517, 415, 153) -> (514, 436, 124), Order: 1\n",
      "Edge: (524, 351, 184) -> (521, 368, 145), Order: 2\n",
      "Edge: (524, 351, 184) -> (553, 348, 176), Order: 4\n",
      "Edge: (521, 368, 145) -> (499, 339, 106), Order: 1\n",
      "Edge: (521, 368, 145) -> (549, 436, 63), Order: 1\n",
      "Edge: (553, 348, 176) -> (561, 343, 181), Order: 3\n",
      "Edge: (553, 348, 176) -> (566, 357, 163), Order: 3\n",
      "Edge: (561, 343, 181) -> (586, 359, 181), Order: 2\n",
      "Edge: (561, 343, 181) -> (612, 354, 150), Order: 2\n",
      "Edge: (586, 359, 181) -> (588, 365, 176), Order: 1\n",
      "Edge: (586, 359, 181) -> (596, 360, 180), Order: 1\n",
      "Edge: (612, 354, 150) -> (652, 347, 115), Order: 1\n",
      "Edge: (612, 354, 150) -> (621, 366, 144), Order: 1\n",
      "Edge: (566, 357, 163) -> (561, 389, 166), Order: 1\n",
      "Edge: (566, 357, 163) -> (575, 374, 136), Order: 3\n",
      "Edge: (575, 374, 136) -> (577, 381, 131), Order: 3\n",
      "Edge: (575, 374, 136) -> (587, 353, 123), Order: 2\n",
      "Edge: (577, 381, 131) -> (575, 392, 124), Order: 2\n",
      "Edge: (577, 381, 131) -> (616, 388, 95), Order: 2\n",
      "Edge: (575, 392, 124) -> (584, 392, 124), Order: 1\n",
      "Edge: (575, 392, 124) -> (584, 420, 91), Order: 1\n",
      "Edge: (616, 388, 95) -> (617, 389, 94), Order: 1\n",
      "Edge: (616, 388, 95) -> (618, 385, 89), Order: 1\n",
      "Edge: (587, 353, 123) -> (586, 357, 116), Order: 1\n",
      "Edge: (587, 353, 123) -> (606, 342, 104), Order: 1\n",
      "Edge: (510, 364, 239) -> (492, 372, 225), Order: 2\n",
      "Edge: (510, 364, 239) -> (517, 394, 244), Order: 2\n",
      "Edge: (492, 372, 225) -> (484, 375, 201), Order: 1\n",
      "Edge: (492, 372, 225) -> (484, 415, 196), Order: 1\n",
      "Edge: (517, 394, 244) -> (492, 423, 241), Order: 1\n",
      "Edge: (517, 394, 244) -> (526, 419, 224), Order: 1\n",
      "Edge: (524, 322, 240) -> (531, 320, 215), Order: 4\n",
      "Edge: (524, 322, 240) -> (545, 318, 241), Order: 3\n",
      "Edge: (531, 320, 215) -> (532, 310, 196), Order: 3\n",
      "Edge: (531, 320, 215) -> (539, 334, 210), Order: 3\n",
      "Edge: (532, 310, 196) -> (537, 302, 153), Order: 2\n",
      "Edge: (532, 310, 196) -> (574, 314, 180), Order: 3\n",
      "Edge: (537, 302, 153) -> (492, 285, 83), Order: 1\n",
      "Edge: (537, 302, 153) -> (575, 277, 135), Order: 2\n",
      "Edge: (575, 277, 135) -> (579, 270, 121), Order: 1\n",
      "Edge: (575, 277, 135) -> (584, 279, 133), Order: 1\n",
      "Edge: (574, 314, 180) -> (605, 318, 187), Order: 2\n",
      "Edge: (574, 314, 180) -> (609, 300, 158), Order: 2\n",
      "Edge: (605, 318, 187) -> (625, 331, 187), Order: 1\n",
      "Edge: (605, 318, 187) -> (651, 315, 163), Order: 1\n",
      "Edge: (609, 300, 158) -> (604, 311, 152), Order: 1\n",
      "Edge: (609, 300, 158) -> (631, 295, 151), Order: 2\n",
      "Edge: (631, 295, 151) -> (661, 251, 127), Order: 1\n",
      "Edge: (631, 295, 151) -> (648, 297, 124), Order: 1\n",
      "Edge: (539, 334, 210) -> (537, 360, 217), Order: 2\n",
      "Edge: (539, 334, 210) -> (553, 345, 221), Order: 2\n",
      "Edge: (537, 360, 217) -> (555, 383, 237), Order: 1\n",
      "Edge: (537, 360, 217) -> (550, 384, 207), Order: 2\n",
      "Edge: (550, 384, 207) -> (549, 387, 206), Order: 1\n",
      "Edge: (550, 384, 207) -> (558, 385, 210), Order: 1\n",
      "Edge: (553, 345, 221) -> (575, 355, 252), Order: 2\n",
      "Edge: (553, 345, 221) -> (587, 348, 226), Order: 1\n",
      "Edge: (575, 355, 252) -> (576, 362, 261), Order: 1\n",
      "Edge: (575, 355, 252) -> (589, 363, 252), Order: 1\n",
      "Edge: (545, 318, 241) -> (578, 297, 234), Order: 2\n",
      "Edge: (545, 318, 241) -> (550, 318, 252), Order: 2\n",
      "Edge: (578, 297, 234) -> (617, 279, 259), Order: 1\n",
      "Edge: (578, 297, 234) -> (592, 300, 230), Order: 2\n",
      "Edge: (592, 300, 230) -> (630, 275, 206), Order: 2\n",
      "Edge: (592, 300, 230) -> (613, 313, 235), Order: 1\n",
      "Edge: (630, 275, 206) -> (638, 266, 204), Order: 1\n",
      "Edge: (630, 275, 206) -> (647, 276, 200), Order: 1\n",
      "Edge: (550, 318, 252) -> (575, 334, 272), Order: 1\n",
      "Edge: (550, 318, 252) -> (586, 319, 273), Order: 1\n",
      "Edge: (528, 286, 241) -> (579, 248, 220), Order: 2\n",
      "Edge: (528, 286, 241) -> (569, 259, 183), Order: 2\n",
      "Edge: (579, 248, 220) -> (578, 247, 218), Order: 1\n",
      "Edge: (579, 248, 220) -> (609, 225, 206), Order: 2\n",
      "Edge: (609, 225, 206) -> (632, 201, 189), Order: 1\n",
      "Edge: (609, 225, 206) -> (613, 225, 209), Order: 2\n",
      "Edge: (613, 225, 209) -> (629, 193, 207), Order: 1\n",
      "Edge: (613, 225, 209) -> (618, 229, 212), Order: 1\n",
      "Edge: (569, 259, 183) -> (582, 236, 160), Order: 1\n",
      "Edge: (569, 259, 183) -> (609, 226, 163), Order: 1\n",
      "Edge: (302, 250, 258) -> (253, 269, 235), Order: 4\n",
      "Edge: (302, 250, 258) -> (262, 257, 282), Order: 4\n",
      "Edge: (253, 269, 235) -> (250, 270, 233), Order: 4\n",
      "Edge: (253, 269, 235) -> (245, 280, 239), Order: 3\n",
      "Edge: (250, 270, 233) -> (210, 225, 209), Order: 3\n",
      "Edge: (250, 270, 233) -> (222, 284, 222), Order: 4\n",
      "Edge: (210, 225, 209) -> (163, 189, 191), Order: 2\n",
      "Edge: (210, 225, 209) -> (212, 222, 207), Order: 2\n",
      "Edge: (163, 189, 191) -> (153, 171, 197), Order: 1\n",
      "Edge: (163, 189, 191) -> (159, 186, 186), Order: 2\n",
      "Edge: (159, 186, 186) -> (141, 160, 175), Order: 1\n",
      "Edge: (159, 186, 186) -> (150, 182, 175), Order: 1\n",
      "Edge: (212, 222, 207) -> (172, 131, 149), Order: 1\n",
      "Edge: (212, 222, 207) -> (213, 202, 206), Order: 2\n",
      "Edge: (213, 202, 206) -> (192, 117, 186), Order: 2\n",
      "Edge: (213, 202, 206) -> (219, 155, 179), Order: 1\n",
      "Edge: (192, 117, 186) -> (183, 109, 183), Order: 1\n",
      "Edge: (192, 117, 186) -> (240, 47, 150), Order: 1\n",
      "Edge: (222, 284, 222) -> (169, 244, 214), Order: 2\n",
      "Edge: (222, 284, 222) -> (220, 288, 219), Order: 4\n",
      "Edge: (169, 244, 214) -> (109, 223, 213), Order: 1\n",
      "Edge: (169, 244, 214) -> (139, 197, 213), Order: 1\n",
      "Edge: (220, 288, 219) -> (213, 306, 236), Order: 2\n",
      "Edge: (220, 288, 219) -> (213, 295, 211), Order: 4\n",
      "Edge: (213, 306, 236) -> (175, 340, 249), Order: 1\n",
      "Edge: (213, 306, 236) -> (186, 383, 244), Order: 2\n",
      "Edge: (186, 383, 244) -> (157, 403, 236), Order: 1\n",
      "Edge: (186, 383, 244) -> (182, 390, 252), Order: 1\n",
      "Edge: (213, 295, 211) -> (226, 293, 184), Order: 3\n",
      "Edge: (213, 295, 211) -> (206, 299, 209), Order: 4\n",
      "Edge: (226, 293, 184) -> (230, 274, 164), Order: 2\n",
      "Edge: (226, 293, 184) -> (270, 336, 145), Order: 2\n",
      "Edge: (230, 274, 164) -> (195, 273, 168), Order: 1\n",
      "Edge: (230, 274, 164) -> (234, 276, 150), Order: 2\n",
      "Edge: (234, 276, 150) -> (312, 273, 100), Order: 1\n",
      "Edge: (234, 276, 150) -> (318, 291, 64), Order: 1\n",
      "Edge: (270, 336, 145) -> (260, 358, 136), Order: 2\n",
      "Edge: (270, 336, 145) -> (273, 336, 136), Order: 1\n",
      "Edge: (260, 358, 136) -> (259, 359, 136), Order: 1\n",
      "Edge: (260, 358, 136) -> (272, 361, 113), Order: 1\n",
      "Edge: (206, 299, 209) -> (195, 278, 199), Order: 1\n",
      "Edge: (206, 299, 209) -> (193, 313, 203), Order: 4\n",
      "Edge: (193, 313, 203) -> (114, 267, 198), Order: 2\n",
      "Edge: (193, 313, 203) -> (188, 320, 203), Order: 4\n",
      "Edge: (114, 267, 198) -> (63, 258, 198), Order: 1\n",
      "Edge: (114, 267, 198) -> (69, 225, 169), Order: 1\n",
      "Edge: (188, 320, 203) -> (179, 323, 204), Order: 3\n",
      "Edge: (188, 320, 203) -> (189, 369, 178), Order: 3\n",
      "Edge: (179, 323, 204) -> (135, 318, 225), Order: 2\n",
      "Edge: (179, 323, 204) -> (164, 332, 197), Order: 2\n",
      "Edge: (135, 318, 225) -> (87, 311, 231), Order: 1\n",
      "Edge: (135, 318, 225) -> (131, 324, 228), Order: 2\n",
      "Edge: (131, 324, 228) -> (122, 346, 231), Order: 1\n",
      "Edge: (131, 324, 228) -> (105, 341, 248), Order: 1\n",
      "Edge: (164, 332, 197) -> (141, 315, 175), Order: 2\n",
      "Edge: (164, 332, 197) -> (141, 354, 204), Order: 1\n",
      "Edge: (141, 315, 175) -> (100, 327, 174), Order: 2\n",
      "Edge: (141, 315, 175) -> (97, 292, 150), Order: 1\n",
      "Edge: (100, 327, 174) -> (99, 328, 173), Order: 2\n",
      "Edge: (100, 327, 174) -> (101, 328, 174), Order: 1\n",
      "Edge: (99, 328, 173) -> (58, 300, 156), Order: 1\n",
      "Edge: (99, 328, 173) -> (99, 333, 169), Order: 2\n",
      "Edge: (99, 333, 169) -> (88, 337, 154), Order: 2\n",
      "Edge: (99, 333, 169) -> (91, 351, 170), Order: 1\n",
      "Edge: (88, 337, 154) -> (87, 336, 155), Order: 1\n",
      "Edge: (88, 337, 154) -> (63, 346, 140), Order: 1\n",
      "Edge: (189, 369, 178) -> (188, 373, 168), Order: 3\n",
      "Edge: (189, 369, 178) -> (182, 413, 188), Order: 1\n",
      "Edge: (188, 373, 168) -> (187, 372, 168), Order: 1\n",
      "Edge: (188, 373, 168) -> (188, 374, 166), Order: 3\n",
      "Edge: (188, 374, 166) -> (183, 373, 163), Order: 2\n",
      "Edge: (188, 374, 166) -> (195, 386, 155), Order: 2\n",
      "Edge: (183, 373, 163) -> (150, 378, 168), Order: 1\n",
      "Edge: (183, 373, 163) -> (157, 366, 139), Order: 2\n",
      "Edge: (157, 366, 139) -> (152, 348, 130), Order: 1\n",
      "Edge: (157, 366, 139) -> (88, 393, 111), Order: 1\n",
      "Edge: (195, 386, 155) -> (170, 415, 155), Order: 1\n",
      "Edge: (195, 386, 155) -> (204, 396, 136), Order: 2\n",
      "Edge: (204, 396, 136) -> (201, 399, 133), Order: 2\n",
      "Edge: (204, 396, 136) -> (249, 397, 91), Order: 1\n",
      "Edge: (201, 399, 133) -> (149, 412, 123), Order: 1\n",
      "Edge: (201, 399, 133) -> (203, 405, 94), Order: 2\n",
      "Edge: (203, 405, 94) -> (183, 415, 87), Order: 1\n",
      "Edge: (203, 405, 94) -> (237, 414, 62), Order: 1\n",
      "Edge: (245, 280, 239) -> (134, 309, 286), Order: 1\n",
      "Edge: (245, 280, 239) -> (246, 303, 243), Order: 3\n",
      "Edge: (246, 303, 243) -> (242, 312, 247), Order: 2\n",
      "Edge: (246, 303, 243) -> (264, 324, 231), Order: 2\n",
      "Edge: (242, 312, 247) -> (228, 343, 261), Order: 2\n",
      "Edge: (242, 312, 247) -> (261, 327, 262), Order: 1\n",
      "Edge: (228, 343, 261) -> (210, 381, 296), Order: 1\n",
      "Edge: (228, 343, 261) -> (237, 368, 269), Order: 1\n",
      "Edge: (264, 324, 231) -> (256, 353, 218), Order: 2\n",
      "Edge: (264, 324, 231) -> (281, 325, 223), Order: 1\n",
      "Edge: (256, 353, 218) -> (251, 359, 224), Order: 1\n",
      "Edge: (256, 353, 218) -> (257, 362, 210), Order: 2\n",
      "Edge: (257, 362, 210) -> (246, 395, 207), Order: 1\n",
      "Edge: (257, 362, 210) -> (262, 365, 193), Order: 1\n",
      "Edge: (262, 257, 282) -> (237, 258, 283), Order: 4\n",
      "Edge: (262, 257, 282) -> (247, 277, 324), Order: 3\n",
      "Edge: (237, 258, 283) -> (219, 230, 273), Order: 3\n",
      "Edge: (237, 258, 283) -> (228, 263, 289), Order: 3\n",
      "Edge: (219, 230, 273) -> (217, 206, 287), Order: 2\n",
      "Edge: (219, 230, 273) -> (219, 229, 272), Order: 2\n",
      "Edge: (217, 206, 287) -> (180, 170, 299), Order: 1\n",
      "Edge: (217, 206, 287) -> (227, 189, 291), Order: 2\n",
      "Edge: (227, 189, 291) -> (213, 159, 310), Order: 1\n",
      "Edge: (227, 189, 291) -> (244, 165, 295), Order: 2\n",
      "Edge: (244, 165, 295) -> (285, 141, 324), Order: 1\n",
      "Edge: (244, 165, 295) -> (258, 125, 292), Order: 2\n",
      "Edge: (258, 125, 292) -> (255, 115, 291), Order: 1\n",
      "Edge: (258, 125, 292) -> (269, 120, 292), Order: 1\n",
      "Edge: (219, 229, 272) -> (217, 188, 262), Order: 2\n",
      "Edge: (219, 229, 272) -> (192, 225, 255), Order: 1\n",
      "Edge: (217, 188, 262) -> (165, 126, 251), Order: 1\n",
      "Edge: (217, 188, 262) -> (221, 127, 251), Order: 1\n",
      "Edge: (228, 263, 289) -> (161, 244, 272), Order: 2\n",
      "Edge: (228, 263, 289) -> (225, 267, 295), Order: 3\n",
      "Edge: (161, 244, 272) -> (160, 244, 273), Order: 2\n",
      "Edge: (161, 244, 272) -> (84, 240, 250), Order: 1\n",
      "Edge: (160, 244, 273) -> (144, 221, 270), Order: 2\n",
      "Edge: (160, 244, 273) -> (97, 243, 290), Order: 1\n",
      "Edge: (144, 221, 270) -> (111, 184, 261), Order: 1\n",
      "Edge: (144, 221, 270) -> (130, 201, 282), Order: 1\n",
      "Edge: (225, 267, 295) -> (204, 266, 317), Order: 3\n",
      "Edge: (225, 267, 295) -> (216, 312, 307), Order: 2\n",
      "Edge: (204, 266, 317) -> (203, 267, 318), Order: 2\n",
      "Edge: (204, 266, 317) -> (176, 229, 328), Order: 2\n",
      "Edge: (203, 267, 318) -> (109, 271, 331), Order: 1\n",
      "Edge: (203, 267, 318) -> (191, 287, 342), Order: 2\n",
      "Edge: (191, 287, 342) -> (167, 288, 352), Order: 2\n",
      "Edge: (191, 287, 342) -> (179, 312, 379), Order: 1\n",
      "Edge: (167, 288, 352) -> (165, 289, 351), Order: 1\n",
      "Edge: (167, 288, 352) -> (156, 275, 386), Order: 1\n",
      "Edge: (176, 229, 328) -> (157, 216, 326), Order: 1\n",
      "Edge: (176, 229, 328) -> (176, 226, 330), Order: 2\n",
      "Edge: (176, 226, 330) -> (172, 224, 349), Order: 1\n",
      "Edge: (176, 226, 330) -> (183, 183, 350), Order: 1\n",
      "Edge: (216, 312, 307) -> (197, 327, 319), Order: 2\n",
      "Edge: (216, 312, 307) -> (228, 337, 314), Order: 1\n",
      "Edge: (197, 327, 319) -> (179, 360, 328), Order: 1\n",
      "Edge: (197, 327, 319) -> (186, 328, 336), Order: 2\n",
      "Edge: (186, 328, 336) -> (164, 344, 348), Order: 1\n",
      "Edge: (186, 328, 336) -> (190, 333, 351), Order: 1\n",
      "Edge: (247, 277, 324) -> (226, 234, 356), Order: 2\n",
      "Edge: (247, 277, 324) -> (244, 284, 333), Order: 3\n",
      "Edge: (226, 234, 356) -> (225, 214, 352), Order: 1\n",
      "Edge: (226, 234, 356) -> (229, 233, 367), Order: 1\n",
      "Edge: (244, 284, 333) -> (244, 293, 337), Order: 2\n",
      "Edge: (244, 284, 333) -> (229, 289, 376), Order: 2\n",
      "Edge: (244, 293, 337) -> (236, 317, 371), Order: 1\n",
      "Edge: (244, 293, 337) -> (252, 292, 350), Order: 1\n",
      "Edge: (229, 289, 376) -> (207, 296, 399), Order: 2\n",
      "Edge: (229, 289, 376) -> (254, 301, 398), Order: 1\n",
      "Edge: (207, 296, 399) -> (195, 287, 407), Order: 1\n",
      "Edge: (207, 296, 399) -> (206, 313, 415), Order: 1\n",
      "Edge: (423, 99, 250) -> (444, 99, 236), Order: 1\n",
      "Edge: (423, 99, 250) -> (427, 92, 242), Order: 2\n",
      "Edge: (427, 92, 242) -> (442, 94, 233), Order: 1\n",
      "Edge: (427, 92, 242) -> (430, 84, 234), Order: 1\n"
     ]
    }
   ],
   "source": [
    "#26 Strahler Analysis: Function+Call: Using DiGraphs: *\n",
    "\n",
    "import networkx as nx\n",
    "\n",
    "def StrahlerAnalysis(G): # G: The Tree DiGraph. Returns the edges.\n",
    "    \n",
    "    # Find the terminal edges (edges with no successors)\n",
    "    terminal_edges = [edge for edge in G.edges() if not any(G.successors(edge[1]))]\n",
    "    # Initialize the order for terminal edges as 1\n",
    "    for edge in G.edges():\n",
    "        if edge in terminal_edges: G[edge[0]][edge[1]]['order'] = 1\n",
    "        else: G[edge[0]][edge[1]]['order'] = 0\n",
    "\n",
    "    # Perform Strahler analysis starting from terminal edges\n",
    "    while True:\n",
    "\n",
    "        # Find all edges with the same order\n",
    "        edges_by_order = {}\n",
    "        for edge in G.edges():\n",
    "            order = G[edge[0]][edge[1]].get('order', 0)\n",
    "            if order not in edges_by_order:\n",
    "                edges_by_order[order] = []\n",
    "            edges_by_order[order].append(edge)\n",
    "\n",
    "        # If no more order 0, break\n",
    "        if 0 not in edges_by_order: break\n",
    "\n",
    "        # Only process edges with order = 0\n",
    "        for edge in edges_by_order[0]:\n",
    "            successors = list(G.successors(edge[1]))\n",
    "            SuccessorOrders = [G[edge[1]][successor]['order'] for successor in successors]\n",
    "            if not all(SuccessorOrders): continue # If any successor order is 0, skip to next edge\n",
    "            if len(successors) == 1: # If only one successor, inherit its order\n",
    "                G[edge[0]][edge[1]]['order'] = G[edge[1]][successors[0]]['order']\n",
    "            else: # So it's a bifurcation\n",
    "                MaxOrder = max(SuccessorOrders)\n",
    "                BinaryComparison = [int(ordr == MaxOrder) for ordr in SuccessorOrders]\n",
    "                # If more than 2 of the max then increment order\n",
    "                if sum(BinaryComparison)>=2: NextOrder = MaxOrder + 1\n",
    "                else: NextOrder = MaxOrder\n",
    "                G[edge[0]][edge[1]]['order'] = NextOrder\n",
    "\n",
    "    return G.edges(data=True)\n",
    "\n",
    "# Main:\n",
    "edgesresult = StrahlerAnalysis(digraph)\n",
    "for edge in edgesresult:\n",
    "    print(f\"Edge: {edge[0]} -> {edge[1]}, Order: {edge[2]['order']}\")"
   ]
  },
  {
   "cell_type": "code",
   "execution_count": 34,
   "metadata": {},
   "outputs": [],
   "source": [
    "## 27 Plot-4 the DiGraph in 3D:\n",
    "\n",
    "# import networkx as nx\n",
    "# import plotly.graph_objects as go\n",
    "\n",
    "# G = digraph\n",
    "\n",
    "# # Extract node positions and order properties\n",
    "# node_positions = {node: node for node in G.nodes()}\n",
    "# edge_orders = nx.get_edge_attributes(G, 'order')\n",
    "\n",
    "# # Create a trace for nodes\n",
    "# node_trace = go.Scatter3d(\n",
    "#     x=[coord[0] for coord in node_positions],\n",
    "#     y=[coord[1] for coord in node_positions],\n",
    "#     z=[coord[2] for coord in node_positions],\n",
    "#     mode='markers',\n",
    "#     marker=dict(size=2, color='red'),\n",
    "#     text=[],\n",
    "#     hoverinfo='text'\n",
    "# )\n",
    "\n",
    "# # Create a list of edge traces\n",
    "# edge_traces = []\n",
    "# for edge, order in edge_orders.items():\n",
    "#     source, target = edge\n",
    "#     x1, y1, z1 = source\n",
    "#     x2, y2, z2 = target\n",
    "#     edge_traces.append(go.Scatter3d(\n",
    "#         x=[x1, x2],\n",
    "#         y=[y1, y2],\n",
    "#         z=[z1, z2],\n",
    "#         mode='lines+text',\n",
    "#         line=dict(width=4, color='grey'),\n",
    "#         text=f'{order}',\n",
    "#         hoverinfo='none',  # Disables hover info for edges\n",
    "#         textposition='top left'  # Position for the order text\n",
    "#     ))\n",
    "\n",
    "# # Create the 3D layout\n",
    "# layout = go.Layout(\n",
    "#     scene=dict(\n",
    "#         xaxis=dict(title='X'),\n",
    "#         yaxis=dict(title='Y'),\n",
    "#         zaxis=dict(title='Z'),\n",
    "#     ),\n",
    "#     margin=dict(l=0, r=0, b=0, t=0),\n",
    "# )\n",
    "\n",
    "# # Create the figure and add traces\n",
    "# fig = go.Figure(data=edge_traces + [node_trace], layout=layout)\n",
    "\n",
    "# # Show the interactive plot\n",
    "# fig.show()"
   ]
  },
  {
   "cell_type": "code",
   "execution_count": 35,
   "metadata": {},
   "outputs": [
    {
     "name": "stdout",
     "output_type": "stream",
     "text": [
      "Order 1: 169 edges\n",
      "Order 2: 103 edges\n",
      "Order 3:  37 edges\n",
      "Order 4:  20 edges\n",
      "Order 5:   6 edges\n",
      "Order 6:   2 edges\n"
     ]
    }
   ],
   "source": [
    "#28 Statistics of edge orders and counts:\n",
    "\n",
    "from collections import defaultdict\n",
    "\n",
    "# Create a dictionary to count edges for each 'order'\n",
    "order_counts = defaultdict(int)\n",
    "# Count edges\n",
    "for u, v, data in digraph.edges(data=True):\n",
    "    order = data.get(\"order\", 0)\n",
    "    order_counts[order] += 1\n",
    "# Print the counts for each 'order' with keys sorted\n",
    "for order in sorted(order_counts.keys()):\n",
    "    count = order_counts[order]\n",
    "    print(f\"Order {order}: {count:3} edges\")"
   ]
  },
  {
   "cell_type": "code",
   "execution_count": 36,
   "metadata": {},
   "outputs": [],
   "source": [
    "#29 Add EdgeLength property to digraph edges:\n",
    "\n",
    "for edge in digraph.edges:\n",
    "    node1, node2 = edge\n",
    "    x1, y1, z1 = node1\n",
    "    x2, y2, z2 = node2\n",
    "    EdgeLength = np.sqrt((x2 - x1)**2 + (y2 - y1)**2 + (z2 - z1)**2)\n",
    "    digraph.edges[edge]['EdgeLength'] = EdgeLength"
   ]
  },
  {
   "cell_type": "code",
   "execution_count": 37,
   "metadata": {},
   "outputs": [],
   "source": [
    "#30 Save the graph and its properties to a file\n",
    "\n",
    "nx.write_graphml(digraph, GraphArtifactsFolderName + f\"/Case-{CaseNumber}-DiGraph.graphml\")"
   ]
  },
  {
   "cell_type": "code",
   "execution_count": 38,
   "metadata": {},
   "outputs": [
    {
     "name": "stdout",
     "output_type": "stream",
     "text": [
      "Case#84: Indices written to Excel sheet. All Done!\n"
     ]
    }
   ],
   "source": [
    "##-31 Final step: find edges with target order, calculate mean, and add results to excel file\n",
    "\n",
    "import openpyxl\n",
    "from openpyxl.styles import Font, Alignment\n",
    "\n",
    "font = Font(name='Courier New', size=11)\n",
    "alignment = Alignment(horizontal='center', vertical='center')\n",
    "\n",
    "# Find those edges\n",
    "OrdersPresent = order_counts.keys()\n",
    "Methods = {1 : [max(OrdersPresent)  , max(OrdersPresent)-2       , '[MX>MX-2]'],\n",
    "           2 : [max(OrdersPresent)  , max(OrdersPresent)-4       , '[MX>MX-4]'],\n",
    "           3 : [max(OrdersPresent)-1, max(OrdersPresent)-3       , '[MX-1>MX-3]'],\n",
    "           4 : [max(OrdersPresent)-1, max(1,max(OrdersPresent)-5), '[MX-1>MX-5|]'],\n",
    "           5 : [max(OrdersPresent)-2, min(OrdersPresent)         , '[MX-2>MN]'],\n",
    "           6 : [max(OrdersPresent)-2, min(OrdersPresent)+1       , '[MX-2>MN+1]'],\n",
    "           7 : [max(OrdersPresent)  , min(OrdersPresent)         , '[MX>MN]'],\n",
    "           8 : [min(OrdersPresent)  , min(OrdersPresent)         , '[MN>MN]'],\n",
    "           9 : [min(OrdersPresent)+1, min(OrdersPresent)         , '[MN+1>MN]'],\n",
    "           10: [min(OrdersPresent)+2, min(OrdersPresent)         , '[MN+2>MN]'],\n",
    "           11: [min(OrdersPresent)+3, min(OrdersPresent)+1       , '[MN+3>MN+1]']}\n",
    "\n",
    "# LowerOrder, HigherOrder = 4, 6\n",
    "# HigherOrder = max(order_counts.keys())\n",
    "# LowerOrder  = HigherOrder - 2 # -4\n",
    "\n",
    "excel_file_path = \"Z:/Q- Figures/T32-Poster/Nick/Experiment/DiameterResults-CopyFromNate.xlsx\" # Open the existing Excel file\n",
    "workbook = openpyxl.load_workbook(excel_file_path)\n",
    "sheet = workbook.active # Select the first sheet\n",
    "last_row = sheet.max_row # Find the last row in the first column (assuming the first column contains data)\n",
    "new_row = last_row + 1 # Create a new row\n",
    "\n",
    "for MethodNum, MthdList in Methods.items():\n",
    "\n",
    "    HigherOrder = MthdList[0]\n",
    "    LowerOrder  = MthdList[1]\n",
    "    selected_edges = [(u, v, data) for u, v, data in digraph.edges(data=True) if LowerOrder <= data.get(\"order\", 0) <= HigherOrder]\n",
    "\n",
    "    # Print stats\n",
    "    # print(f\"Edges with order in range [{LowerOrder}, {HigherOrder}]:\\n\")\n",
    "    # for indx, (u, v, data) in enumerate(selected_edges):\n",
    "    #     print(f\"SelectedEdge-{indx+1:2}: {u} -> {v}; AvgDiameter = {data['AvgDiameter']:12.9f}; Order = {data['order']}; EdgeLength = {data['EdgeLength']:10.6f}\")\n",
    "\n",
    "    # Extract the 'AvgDiameter' values from the selected edges\n",
    "    avg_diameters = [data[\"AvgDiameter\"] for u, v, data in selected_edges]\n",
    "\n",
    "    # Calculate the geometric mean of 'AvgDiameter'\n",
    "    geometric_mean   = np.prod(avg_diameters) ** (1 / len(avg_diameters))\n",
    "    arithmetic_mean  = sum(avg_diameters) / len(avg_diameters)\n",
    "    geometric_mean  *= 2*0.38/10 # diameter - mm - cm\n",
    "    arithmetic_mean *= 2*0.38/10 # diameter - mm - cm\n",
    "\n",
    "    # print(f\"Geometric Mean of AvgDiameters: {geometric_mean} cm\")\n",
    "    # print(f\"Arithmetic Mean of AvgDiameters: {arithmetic_mean} cm\")\n",
    "\n",
    "    # Insert data into the new row\n",
    "    cell = sheet.cell(row=1      , column=1            , value='Case#'       ); cell.font = font; cell.alignment = alignment\n",
    "    cell = sheet.cell(row=new_row, column=1            , value=CaseNumber    ); cell.font = font; cell.alignment = alignment\n",
    "    cell = sheet.cell(row=1      , column=MethodNum*2  , value='GeomMean-'+MthdList[2]); cell.font = font; cell.alignment = alignment\n",
    "    cell = sheet.cell(row=new_row, column=MethodNum*2  , value=geometric_mean); cell.font = font; cell.alignment = alignment\n",
    "    cell = sheet.cell(row=1      , column=MethodNum*2+1, value='ArthMean-'+MthdList[2]); cell.font = font; cell.alignment = alignment\n",
    "    cell = sheet.cell(row=new_row, column=MethodNum*2+1, value=arithmetic_mean); cell.font = font; cell.alignment = alignment\n",
    "\n",
    "workbook.save(excel_file_path) # Save the Excel file\n",
    "workbook.close() # Close the Excel file\n",
    "\n",
    "winsound.Beep(1000, 3000)\n",
    "print(f\"Case#{CaseNumber}: Indices written to Excel sheet. All Done!\")"
   ]
  },
  {
   "cell_type": "code",
   "execution_count": 60,
   "metadata": {},
   "outputs": [],
   "source": [
    "#32 Notes to address:\n",
    "# Case#58 has a cropped/cut MPA so that lowers the diameters\n",
    "# SmallInsideEdges are not removed in the first pass! [Next time they were!!!!][?!!] * Takes it twice to fully remove .. [Eg Case-18]\n",
    "# Case-18 has lots of nuisant small deep branches\n",
    "# Case-88: Not a tree [and a mess, both with clusters, and final edges]\n",
    "# Case-19: Obviously more tortuous than normal **\n",
    "# Case-11: 1 node isolated outside; not a tree\n",
    "# Case-6: MPA cut too short\n",
    "# Case-46: Seems like a smaller vessel/MPA-root, what does the dys say?!\n",
    "# Case-39: 7K cx-cycles!\n",
    "# Case-22: \n",
    "# Case-21: MPA OK but much shorter than others\n",
    "# Should also save the orders list in the excel file\n",
    "# Case-84: MPA has 20 nuisant edges .. impossible ..   \n",
    "# Any uncircular MPA shape will lead to nuisant edges and then failure *** Including Case-50\n",
    "# Case-39: has 7K cx-cycles\n",
    "# Case-44: has 3K cx-cycles"
   ]
  },
  {
   "cell_type": "code",
   "execution_count": 219,
   "metadata": {},
   "outputs": [],
   "source": [
    "##-33 Final visualization: [from cell-21-1]\n",
    "\n",
    "UpdateEdgeLengths(graph)\n",
    "\n",
    "fig = mlab.figure(size=(2500, 1400), bgcolor=(1, 1, 1))\n",
    "\n",
    "x, y, z = zip(*graph.nodes)\n",
    "mlab.points3d(x, y, z, scale_factor=2, color=(0.2, 0.2, 0.2), opacity=0.7) # color=(1, 0, 0)\n",
    "\n",
    "# Create lines for edges\n",
    "for edge in graph.edges:\n",
    "    src, tgt = edge\n",
    "    x = [src[0], tgt[0]]\n",
    "    y = [src[1], tgt[1]]\n",
    "    z = [src[2], tgt[2]]\n",
    "    mlab.plot3d(x, y, z, tube_radius=0.2,\n",
    "                color=(1, 0, 0) if edge in SmallInsideEdges else (0.2, 0.2, 0.2),#(0.2, 0.2, 0.2),\n",
    "                opacity=0.7)\n",
    "\n",
    "# Create contour for the 3D object\n",
    "mlab.contour3d(atree, contours=[0.5], opacity=0.2, color=(0, 151/255, 206/255))\n",
    "\n",
    "winsound.Beep(frequency, duration)\n",
    "mlab.show()"
   ]
  }
 ],
 "metadata": {
  "kernelspec": {
   "display_name": "Python 3",
   "language": "python",
   "name": "python3"
  },
  "language_info": {
   "codemirror_mode": {
    "name": "ipython",
    "version": 3
   },
   "file_extension": ".py",
   "mimetype": "text/x-python",
   "name": "python",
   "nbconvert_exporter": "python",
   "pygments_lexer": "ipython3",
   "version": "3.11.6"
  },
  "orig_nbformat": 4
 },
 "nbformat": 4,
 "nbformat_minor": 2
}
