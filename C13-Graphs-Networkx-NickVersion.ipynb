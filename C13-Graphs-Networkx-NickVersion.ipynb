{
 "cells": [
  {
   "cell_type": "code",
   "execution_count": 312,
   "metadata": {},
   "outputs": [],
   "source": [
    "#0 Set anything that needs to be changed at the beginning:  $$$ LabelPath and GraphArtifactsFolderName\n",
    "# You have to restart the kernel each time it seems or sometimes Cell-22 spits an  error!!\n",
    "# Better clear all output too while you're at it!\n",
    "# Let's call this: VER2.1, Version-2.1: orders-4, output*0.38mm\n",
    "# Cases Done: [71,2,37,18,16,88,19,90,11,6,46,39,22,21,95,84,50,]\n",
    "import os\n",
    "\n",
    "# Only need to change here: Look for S-Final---label.nrrd:\n",
    "GraphArtifactsFolderName = \"Z:/Q- Figures/T32-Poster/Nick/Experiment/Case-84/\" \n",
    "LabelPath = \"Z:/D-Images/SPIROMICS-SubStudy/2-Results-CheckedDoneTemp/1-Done/Case-84-Spiromics-53053170/Markups/88-Nate/S-Final-1-label.nrrd\"\n",
    "verbose = False # Set to True to see a lot more print outputs"
   ]
  },
  {
   "cell_type": "code",
   "execution_count": 313,
   "metadata": {},
   "outputs": [
    {
     "name": "stdout",
     "output_type": "stream",
     "text": [
      "Extracted Case Number: 84\n"
     ]
    }
   ],
   "source": [
    "#1 Load/create the masks: avmlabel, atree\n",
    "\n",
    "import numpy as np\n",
    "import nrrd  # pip install pynrrd\n",
    "import re\n",
    "\n",
    "if not os.path.exists(GraphArtifactsFolderName):\n",
    "    os.makedirs(GraphArtifactsFolderName)\n",
    "\n",
    "# CasePath is everything before the final \"/\"\n",
    "# Find the last occurrence of '/'\n",
    "last_slash_index = LabelPath.rfind('/')\n",
    "# Slice the string up to the last '/'\n",
    "casepath = LabelPath[:last_slash_index + 1] # .../1-Done/Case-56-Spiromics-48876393/Markups/88-Nate/\n",
    "\n",
    "avmlabel, metadata = nrrd.read(LabelPath)\n",
    "## Extract Case Number\n",
    "pattern = r\"Case-(\\d+)-\"\n",
    "\n",
    "# Use re.findall() to find all matches in the string\n",
    "matches = re.findall(pattern, casepath)\n",
    "\n",
    "# Extract the first matched number (if any)\n",
    "if matches:\n",
    "    CaseNumber = int(matches[0])\n",
    "    print(\"Extracted Case Number:\", CaseNumber) # To be used numerous times in the code\n",
    "else:\n",
    "    print(\"No 'Case-' followed by a number found in the string.\")\n",
    "\n",
    "atree = np.zeros_like(avmlabel)\n",
    "atree[avmlabel == 1] = 1"
   ]
  },
  {
   "cell_type": "code",
   "execution_count": 314,
   "metadata": {},
   "outputs": [],
   "source": [
    "#2 Inspect using mayavi: Check saved A-tree snapshot\n",
    "\n",
    "import winsound\n",
    "from mayavi import mlab\n",
    "import os\n",
    "\n",
    "frequency = 1000  # Frequency of the beep in Hertz\n",
    "duration = 1000  # Duration of the beep in milliseconds\n",
    "# winsound.Beep(frequency, duration)\n",
    "\n",
    "figure = mlab.figure(bgcolor=(1, 1, 1))\n",
    "contour = mlab.contour3d(atree, contours=[0.5], color=(1, 0, 0))\n",
    "\n",
    "if not os.path.exists(GraphArtifactsFolderName):\n",
    "    os.mkdir(GraphArtifactsFolderName)\n",
    "\n",
    "mlab.savefig(GraphArtifactsFolderName + f\"/AtreeSnapshot-{CaseNumber}.png\")  # You can specify the filename and format\n",
    "mlab.close()"
   ]
  },
  {
   "cell_type": "code",
   "execution_count": 315,
   "metadata": {},
   "outputs": [],
   "source": [
    "#3 Create/Fetch Skeleton\n",
    "\n",
    "from skimage.morphology import skeletonize_3d  # pip install scikit-image\n",
    "import numpy as np\n",
    "import nrrd  # pip install pynrrd\n",
    "\n",
    "# SkeletonPathName = f\"./Data/Artifacts/E-Case-{CaseNumber}-A-Skeleton.nrrd\"\n",
    "SkeletonPathName = GraphArtifactsFolderName + \"S-Final-2-label-Skeleton.nrrd\"\n",
    "# Create and save the skeleton:\n",
    "skeleton = skeletonize_3d(atree.astype(np.uint8))\n",
    "nrrd.write(SkeletonPathName, skeleton)\n",
    "\n",
    "# Or read it in:\n",
    "# skeleton, _ = nrrd.read(SkeletonPathName)"
   ]
  },
  {
   "cell_type": "code",
   "execution_count": 316,
   "metadata": {},
   "outputs": [],
   "source": [
    "#4 Compute/Fetch Distance Transform\n",
    "# Contains the Euclidean distance from each voxel to the nearest background voxel\n",
    "\n",
    "from scipy.ndimage import distance_transform_edt\n",
    "\n",
    "# EdtPathName = f\"./Data/Artifacts/I-Case-{CaseNumber}-EDT.nrrd\"\n",
    "EdtPathName = GraphArtifactsFolderName + f\"I-Case-{CaseNumber}-EDT.nrrd\"\n",
    "# Compute the distance transform\n",
    "distance_transform = distance_transform_edt(atree)\n",
    "nrrd.write(EdtPathName, distance_transform)\n",
    "\n",
    "# Or read it in\n",
    "# distance_transform, _ = nrrd.read(EdtPathName)"
   ]
  },
  {
   "cell_type": "code",
   "execution_count": 317,
   "metadata": {},
   "outputs": [],
   "source": [
    "#5 Create Graph/Edges/Neighbours/...\n",
    "# Step 2: Convert skeletonized image to a graph representation ########### Very bad code/ hard to understand *\n",
    "\n",
    "import networkx as nx\n",
    "\n",
    "graph = nx.Graph()\n",
    "indices = np.array(np.where(skeleton)) # 3x1000?\n",
    "num_points = indices.shape[1]\n",
    "for i in range(num_points): # 20,100 # num_points\n",
    "    point = tuple(indices[:, i])\n",
    "    neighbors = []\n",
    "    for offset in np.ndindex((3, 3, 3)): # (0,1,2 .. 0,1,2 .. 0,1,2)\n",
    "        neighbor = tuple(indices[:, i] + (np.array(offset) - 1)) # >> -1,0,1\n",
    "        if neighbor != point and neighbor in graph:\n",
    "            neighbors.append(neighbor)\n",
    "    graph.add_node(point)\n",
    "    graph.add_edges_from((point, n) for n in neighbors)"
   ]
  },
  {
   "cell_type": "code",
   "execution_count": 318,
   "metadata": {},
   "outputs": [
    {
     "name": "stdout",
     "output_type": "stream",
     "text": [
      "Number of Nodes: 9717\n",
      "Number of Edges: 9780\n"
     ]
    }
   ],
   "source": [
    "#6 Print_Stats [Nodes/Edges/...]\n",
    "\n",
    "def print_stats(graph):\n",
    "    num_nodes = nx.number_of_nodes(graph)\n",
    "    num_edges = nx.number_of_edges(graph)\n",
    "    # all_nodes = list(graph.nodes)\n",
    "    # all_edges = list(graph.edges)\n",
    "\n",
    "    print(\"Number of Nodes:\", num_nodes)\n",
    "    print(\"Number of Edges:\", num_edges)\n",
    "    # print(\"All Nodes:\", all_nodes)\n",
    "    # print(\"All Edges:\", all_edges)\n",
    "    return\n",
    "\n",
    "print_stats(graph)"
   ]
  },
  {
   "cell_type": "code",
   "execution_count": 319,
   "metadata": {},
   "outputs": [],
   "source": [
    "#7 Remove degree-2 nodes: Changes the graph *\n",
    "\n",
    "def RemoveAndReconnectDegree2Nodes(graph):\n",
    "    while True:\n",
    "        # Find nodes with degree 2\n",
    "        degree_two_nodes = [node for node, degree in graph.degree if degree == 2]\n",
    "        \n",
    "        # If there are no intermediate nodes to remove, break the loop\n",
    "        if not degree_two_nodes:\n",
    "            break    \n",
    "        # Remove the intermediate nodes\n",
    "        for node in degree_two_nodes:\n",
    "            neighbors = list(graph.neighbors(node))\n",
    "            if len(neighbors) == 2: ####### Redundant condition! *\n",
    "                graph.add_edge(neighbors[0], neighbors[1])\n",
    "            graph.remove_node(node)\n",
    "\n",
    "RemoveAndReconnectDegree2Nodes(graph)"
   ]
  },
  {
   "cell_type": "code",
   "execution_count": 323,
   "metadata": {},
   "outputs": [
    {
     "name": "stdout",
     "output_type": "stream",
     "text": [
      "Number of Nodes: 497\n",
      "Number of Edges: 560\n"
     ]
    }
   ],
   "source": [
    "#8 print_stats\n",
    "print_stats(graph)"
   ]
  },
  {
   "cell_type": "code",
   "execution_count": 322,
   "metadata": {},
   "outputs": [],
   "source": [
    "#9 Create/update 'edge_length' property for all edges *\n",
    "\n",
    "def UpdateEdgeLengths(G):\n",
    "    for edge in G.edges:\n",
    "        node1, node2 = edge\n",
    "        x1, y1, z1 = node1\n",
    "        x2, y2, z2 = node2\n",
    "        edge_length = np.sqrt((x2 - x1)**2 + (y2 - y1)**2 + (z2 - z1)**2)\n",
    "        G.edges[edge]['edge_length'] = edge_length\n",
    "\n",
    "UpdateEdgeLengths(graph)"
   ]
  },
  {
   "cell_type": "code",
   "execution_count": 324,
   "metadata": {},
   "outputs": [],
   "source": [
    "#10 Function: Plot-1: plot_3D: Plot Interactive 3D *\n",
    "\n",
    "import plotly.graph_objects as go  # pip install plotly # pip install nbformat\n",
    "from plotly.subplots import make_subplots\n",
    "\n",
    "def plot_3D(graph):\n",
    "    fig = make_subplots(rows=1, cols=1, specs=[[{'type': 'scatter3d'}]])\n",
    "    x, y, z = zip(*graph.nodes)\n",
    "    \n",
    "    leaf_nodes = [node for node, degree in graph.degree if degree == 1]\n",
    "    \n",
    "    node_trace = go.Scatter3d(\n",
    "        x=x,\n",
    "        y=y,\n",
    "        z=z,\n",
    "        mode='markers',\n",
    "        marker=dict(\n",
    "            size=2,\n",
    "            color='red', #['red' if node in leaf_nodes else 'blue' for node in graph.nodes()],\n",
    "            opacity=0.8\n",
    "        )\n",
    "    )\n",
    "    fig.add_trace(node_trace)\n",
    "\n",
    "    for edge in graph.edges():\n",
    "        x0, y0, z0 = edge[0]\n",
    "        x1, y1, z1 = edge[1]\n",
    "        \n",
    "        edge_length = graph.edges[edge]['edge_length']\n",
    "        edge_text = f'{edge_length:.2f}'  # Display the edge length as text\n",
    "        \n",
    "        edge_trace = go.Scatter3d(\n",
    "            x=[x0, x1],\n",
    "            y=[y0, y1],\n",
    "            z=[z0, z1],\n",
    "            mode='lines',\n",
    "            # line=dict(color='orange' if graph.edges[edge]['edge_length'] < 20 else 'gray',\n",
    "            #           width=3),\n",
    "            line=dict(color='gray', width=3),\n",
    "            hoverinfo='text',\n",
    "            text=edge_text\n",
    "        )\n",
    "        fig.add_trace(edge_trace)\n",
    "\n",
    "    fig.update_layout(  \n",
    "        scene=dict(\n",
    "        # Set background color to transparent or any color you prefer\n",
    "        bgcolor='rgba(0,0,0,0)',\n",
    "        \n",
    "        # Hide axes\n",
    "        xaxis=dict(showbackground=False, showgrid=False, zeroline=False, showline=False),\n",
    "        yaxis=dict(showbackground=False, showgrid=False, zeroline=False, showline=False),\n",
    "        zaxis=dict(showbackground=False, showgrid=False, zeroline=False, showline=False)\n",
    "        )\n",
    "    )\n",
    "    \n",
    "    fig.update_layout(\n",
    "        margin=dict(l=0, r=0, b=0, t=0),\n",
    "        scene=dict(\n",
    "            xaxis=dict(range=[0, max(x) + 1]),\n",
    "            yaxis=dict(range=[0, max(y) + 1]),\n",
    "            zaxis=dict(range=[0, max(z) + 1])\n",
    "        )\n",
    "    )\n",
    "\n",
    "    fig.show()\n",
    "    return"
   ]
  },
  {
   "cell_type": "code",
   "execution_count": 192,
   "metadata": {},
   "outputs": [],
   "source": [
    "# ##11 Timed calling of plot_3D: Will take time to show up even when indicated done:\n",
    "\n",
    "# import time\n",
    "# StartTime = time.time()\n",
    "# print('Plotting the 3D Graph ..')\n",
    "# plot_3D(graph)\n",
    "# print(f'Elapsed: {time.time()-StartTime:5.2f}')"
   ]
  },
  {
   "cell_type": "code",
   "execution_count": 325,
   "metadata": {},
   "outputs": [
    {
     "name": "stdout",
     "output_type": "stream",
     "text": [
      "64 simple+complex 3-cycles exist\n",
      "\n"
     ]
    }
   ],
   "source": [
    "#12 Find all 3-cycels: Approach-9 with no duplicates\n",
    "\n",
    "# Function to find and print all length-3 cycles without duplicates\n",
    "def ReFindAndPrintLength3Cycles(G, Prnt=False):\n",
    "\n",
    "    length_3_cycles = set()\n",
    "    for node in G.nodes():\n",
    "        neighbors = list(G.neighbors(node))\n",
    "        for neighbor1 in neighbors:\n",
    "            for neighbor2 in neighbors:\n",
    "                if neighbor1 != neighbor2 and G.has_edge(neighbor1, neighbor2):\n",
    "                    cycle = tuple(sorted([node, neighbor1, neighbor2]))  # Sorting to avoid permutations\n",
    "                    length_3_cycles.add(cycle)\n",
    "\n",
    "    # Convert the cycles back to lists for printing\n",
    "    length_3_cycles = [list(cycle) for cycle in length_3_cycles]\n",
    "\n",
    "    # Print the length-3 cycles without duplicates\n",
    "    if Prnt:\n",
    "        print(len(length_3_cycles), 'simple+complex 3-cycles exist\\n')\n",
    "        # for cycle in length_3_cycles:\n",
    "        #     print(cycle)\n",
    "    return length_3_cycles\n",
    "\n",
    "length_3_cycles = ReFindAndPrintLength3Cycles(graph, Prnt=True)"
   ]
  },
  {
   "cell_type": "code",
   "execution_count": 326,
   "metadata": {},
   "outputs": [],
   "source": [
    "#13* Keep an intact copy of the graph:\n",
    "\n",
    "import copy\n",
    "graphintact = copy.deepcopy(graph)"
   ]
  },
  {
   "cell_type": "code",
   "execution_count": 259,
   "metadata": {},
   "outputs": [],
   "source": [
    "#RR To refresh your graph once it's messed below, come back to this:\n",
    "# graph = copy.deepcopy(graphintact)"
   ]
  },
  {
   "cell_type": "code",
   "execution_count": 327,
   "metadata": {},
   "outputs": [
    {
     "name": "stdout",
     "output_type": "stream",
     "text": [
      "Number of Nodes: 497\n",
      "Number of Edges: 560\n",
      "\n",
      "Resolved the 3-cycle.\n",
      "Resolved the 3-cycle.\n",
      "Resolved the 3-cycle.\n",
      "Resolved the 3-cycle.\n",
      "Resolved the 3-cycle.\n",
      "Resolved the 3-cycle.\n",
      "Resolved the 3-cycle.\n",
      "Resolved the 3-cycle.\n",
      "NewAverageNode (514, 320, 256) not on the skeleton.\n",
      "Searching neighborhood 3\n",
      "Adjusted the NewAverageNode to (513, 320, 256)\n",
      "Resolved the 3-cycle.\n",
      "NewAverageNode (189, 374, 166) not on the skeleton.\n",
      "Searching neighborhood 3\n",
      "Adjusted the NewAverageNode to (188, 374, 166)\n",
      "Resolved the 3-cycle.\n",
      "Resolved the 3-cycle.\n",
      "Resolved the 3-cycle.\n",
      "Resolved the 3-cycle.\n",
      "Resolved the 3-cycle.\n",
      "NewAverageNode (494, 357, 292) not on the skeleton.\n",
      "Searching neighborhood 3\n",
      "Adjusted the NewAverageNode to (493, 357, 292)\n",
      "Resolved the 3-cycle.\n",
      "Resolved the 3-cycle.\n",
      "Resolved the 3-cycle.\n",
      "Resolved the 3-cycle.\n",
      "Skipping to the next cycle ..\n",
      "\n",
      "NewAverageNode (465, 178, 362) not on the skeleton.\n",
      "Searching neighborhood 3\n",
      "Adjusted the NewAverageNode to (465, 177, 362)\n",
      "Resolved the 3-cycle.\n",
      "Resolved the 3-cycle.\n",
      "Resolved the 3-cycle.\n",
      "Resolved the 3-cycle.\n",
      "Resolved the 3-cycle.\n",
      "NewAverageNode (230, 289, 376) not on the skeleton.\n",
      "Searching neighborhood 3\n",
      "Adjusted the NewAverageNode to (229, 289, 376)\n",
      "Resolved the 3-cycle.\n",
      "Resolved the 3-cycle.\n",
      "Resolved the 3-cycle.\n",
      "Resolved the 3-cycle.\n",
      "NewAverageNode (422, 112, 261) not on the skeleton.\n",
      "Searching neighborhood 3\n",
      "Adjusted the NewAverageNode to (421, 112, 261)\n",
      "Resolved the 3-cycle.\n",
      "Resolved the 3-cycle.\n",
      "Resolved the 3-cycle.\n",
      "NewAverageNode (569, 259, 184) not on the skeleton.\n",
      "Searching neighborhood 3\n",
      "Adjusted the NewAverageNode to (569, 259, 183)\n",
      "Resolved the 3-cycle.\n",
      "NewAverageNode (487, 332, 350) not on the skeleton.\n",
      "Searching neighborhood 3\n",
      "Adjusted the NewAverageNode to (486, 332, 350)\n",
      "Resolved the 3-cycle.\n",
      "NewAverageNode (423, 129, 268) not on the skeleton.\n",
      "Searching neighborhood 3\n",
      "Adjusted the NewAverageNode to (422, 130, 269)\n",
      "Resolved the 3-cycle.\n",
      "Resolved the 3-cycle.\n",
      "NewAverageNode (586, 359, 180) not on the skeleton.\n",
      "Searching neighborhood 3\n",
      "Adjusted the NewAverageNode to (586, 359, 181)\n",
      "Resolved the 3-cycle.\n",
      "Resolved the 3-cycle.\n",
      "NewAverageNode (222, 285, 222) not on the skeleton.\n",
      "Searching neighborhood 3\n",
      "Adjusted the NewAverageNode to (222, 284, 222)\n",
      "Resolved the 3-cycle.\n",
      "NewAverageNode (423, 97, 250) not on the skeleton.\n",
      "Searching neighborhood 3\n",
      "Adjusted the NewAverageNode to (422, 97, 250)\n",
      "Resolved the 3-cycle.\n",
      "Resolved the 3-cycle.\n",
      "NewAverageNode (176, 226, 329) not on the skeleton.\n",
      "Searching neighborhood 3\n",
      "Adjusted the NewAverageNode to (176, 226, 330)\n",
      "Resolved the 3-cycle.\n",
      "Resolved the 3-cycle.\n",
      "Resolved the 3-cycle.\n",
      "Resolved the 3-cycle.\n",
      "NewAverageNode (192, 287, 342) not on the skeleton.\n",
      "Searching neighborhood 3\n",
      "Adjusted the NewAverageNode to (191, 287, 342)\n",
      "Resolved the 3-cycle.\n",
      "Resolved the 3-cycle.\n",
      "Resolved the 3-cycle.\n",
      "Resolved the 3-cycle.\n",
      "Resolved the 3-cycle.\n",
      "NewAverageNode (593, 300, 230) not on the skeleton.\n",
      "Searching neighborhood 3\n",
      "Adjusted the NewAverageNode to (592, 300, 230)\n",
      "Resolved the 3-cycle.\n",
      "NewAverageNode (423, 100, 250) not on the skeleton.\n",
      "Searching neighborhood 3\n",
      "Adjusted the NewAverageNode to (423, 99, 250)\n",
      "Resolved the 3-cycle.\n",
      "Resolved the 3-cycle.\n",
      "Resolved the 3-cycle.\n",
      "Resolved the 3-cycle.\n",
      "Resolved the 3-cycle.\n",
      "Resolved the 3-cycle.\n",
      "Resolved the 3-cycle.\n",
      "NewAverageNode (189, 370, 178) not on the skeleton.\n",
      "Searching neighborhood 3\n",
      "Adjusted the NewAverageNode to (189, 369, 178)\n",
      "Resolved the 3-cycle.\n",
      "NewAverageNode (529, 286, 241) not on the skeleton.\n",
      "Searching neighborhood 3\n",
      "Adjusted the NewAverageNode to (528, 286, 241)\n",
      "Resolved the 3-cycle.\n",
      "NewAverageNode (257, 362, 209) not on the skeleton.\n",
      "Searching neighborhood 3\n",
      "Adjusted the NewAverageNode to (257, 362, 210)\n",
      "Resolved the 3-cycle.\n",
      "Resolved the 3-cycle.\n",
      "Resolved the 3-cycle.\n",
      "Resolved the 3-cycle.\n",
      "Resolved the 3-cycle.\n",
      "\n",
      "Number of Nodes: 371\n",
      "Number of Edges: 371\n"
     ]
    }
   ],
   "source": [
    "#14 Only once: This changes the graph: Resolve isolated 3-cycles by merging the 3 nodes and reconnecting edges\n",
    "\n",
    "print_stats(graph)\n",
    "print()\n",
    "length_3_cycles = ReFindAndPrintLength3Cycles(graph, Prnt=False)\n",
    "\n",
    "for cycle in length_3_cycles:\n",
    "\n",
    "    # For each cycle, find the outer/final neighbors\n",
    "    finalneighbors = []\n",
    "    for node in cycle:\n",
    "        DEGR = graph.degree(node)\n",
    "        if DEGR != 3:\n",
    "            # print(Fore.YELLOW + f'\\nThis is not a simple cycle. Node {node} is degree {DEGR}. Breaking ..' + Style.RESET_ALL)\n",
    "            if verbose: print(f'{cycle} is not a simple cycle. Node {node} is degree {DEGR}.')\n",
    "            break\n",
    "        finalneighbors.extend([neighbor for neighbor in graph.neighbors(node) if neighbor not in cycle])\n",
    "    if verbose:\n",
    "        if DEGR == 3:\n",
    "            print('cycle:', cycle)\n",
    "    # print('finalneighbors:', finalneighbors)\n",
    "    if DEGR != 3:\n",
    "        print(\"Skipping to the next cycle ..\\n\")\n",
    "        continue\n",
    "\n",
    "    # Takes the 3 nodes in the cycle and forms their average\n",
    "    NewAverageNode = tuple(round((a + b + c) / 3) for a, b, c in zip(cycle[0], cycle[1], cycle[2])) # zip(tuple1, tuple2, tuple3)\n",
    "    # print('NewAverageNode:', NewAverageNode)\n",
    "\n",
    "    # If NewAverageNode not on the skeleton, go to its neighborhood and find the nearest voxel that lies on the skeleton:\n",
    "    if skeleton[*NewAverageNode] == 0:\n",
    "        print(f\"NewAverageNode {NewAverageNode} not on the skeleton.\")\n",
    "        xxna, yyna, zzna = NewAverageNode\n",
    "        success = False\n",
    "        NeighbrhdSize = 3\n",
    "        while success == False:\n",
    "            print(f\"Searching neighborhood {NeighbrhdSize}\")\n",
    "            lowerbnd = -(NeighbrhdSize//2)\n",
    "            upperbnd =  (NeighbrhdSize//2) + 1\n",
    "            neighbors = [(i, j, k) for i in range(lowerbnd, upperbnd) for j in range(lowerbnd, upperbnd) for k in range(lowerbnd, upperbnd)]\n",
    "            neighbors.remove((0,0,0))\n",
    "            for neighbor_offset in neighbors:\n",
    "                nnx, nny, nnz = xxna + neighbor_offset[0], yyna + neighbor_offset[1], zzna + neighbor_offset[2]\n",
    "                if 0 <= nnx < skeleton.shape[0] and 0 <= nny < skeleton.shape[1] and 0 <= nnz < skeleton.shape[2]:\n",
    "                    if skeleton[nnx, nny, nnz] != 0:\n",
    "                        NewAverageNode = (nnx, nny, nnz)\n",
    "                        print(f\"Adjusted the NewAverageNode to {NewAverageNode}\")\n",
    "                        success = True\n",
    "                        break            \n",
    "            NeighbrhdSize += 2\n",
    "\n",
    "    # Now remove the old 3 nodes in cycle\n",
    "    for node in cycle:\n",
    "        graph.remove_node(node)\n",
    "    # print('Removed the 3 nodes in cycle')\n",
    "\n",
    "    # Add the new average node\n",
    "    graph.add_node(NewAverageNode)\n",
    "    # print('Added new average node')\n",
    "\n",
    "    # Make the new edges/connections\n",
    "    for node in finalneighbors:\n",
    "        graph.add_edge(node, NewAverageNode)\n",
    "    # print('Added the final edges')\n",
    "\n",
    "    print('Resolved the 3-cycle.')\n",
    "    UpdateEdgeLengths(graph)\n",
    "    # print_stats(graph)\n",
    "    if verbose: print()\n",
    "\n",
    "print()\n",
    "print_stats(graph)"
   ]
  },
  {
   "cell_type": "code",
   "execution_count": 328,
   "metadata": {},
   "outputs": [
    {
     "name": "stdout",
     "output_type": "stream",
     "text": [
      "1 complex 3-cycles exist\n",
      "3 edges in complex 3-cycles exist\n"
     ]
    }
   ],
   "source": [
    "#15 Create updated list of all edges in cycles: [they're probably complex cycles now at this point]\n",
    "\n",
    "length_3_cycles = ReFindAndPrintLength3Cycles(graph)\n",
    "print(f\"{len(length_3_cycles)} complex 3-cycles exist\")\n",
    "\n",
    "EdgesInCyclesWithDuplicates = [[L[i], L[(i+1)%3]] for L in length_3_cycles for i in [0, 1, 2]]\n",
    "\n",
    "EdgesInCycles = []\n",
    "for edge in EdgesInCyclesWithDuplicates:\n",
    "    if ([edge[0],edge[1]] not in EdgesInCycles) and ([edge[1],edge[0]] not in EdgesInCycles):\n",
    "         EdgesInCycles.append(edge)\n",
    "        #  print(f'Appended {edge} to EdgesInCycles list')\n",
    "\n",
    "print(len(EdgesInCycles), 'edges in complex 3-cycles exist')"
   ]
  },
  {
   "cell_type": "code",
   "execution_count": 329,
   "metadata": {},
   "outputs": [
    {
     "data": {
      "application/vnd.plotly.v1+json": {
       "config": {
        "plotlyServerURL": "https://plot.ly"
       },
       "data": [
        {
         "marker": {
          "color": "grey",
          "opacity": 0.1,
          "size": 2
         },
         "mode": "markers",
         "type": "scatter3d",
         "x": [
          58,
          63,
          63,
          69,
          84,
          87,
          87,
          88,
          88,
          91,
          97,
          97,
          99,
          99,
          100,
          101,
          105,
          109,
          109,
          111,
          114,
          122,
          130,
          134,
          135,
          139,
          141,
          141,
          141,
          144,
          149,
          150,
          150,
          152,
          153,
          156,
          157,
          157,
          157,
          160,
          161,
          163,
          164,
          165,
          165,
          167,
          169,
          170,
          172,
          172,
          175,
          176,
          179,
          179,
          180,
          182,
          182,
          183,
          183,
          183,
          183,
          187,
          188,
          188,
          190,
          192,
          192,
          193,
          195,
          195,
          195,
          195,
          197,
          201,
          203,
          203,
          204,
          206,
          207,
          210,
          210,
          212,
          213,
          213,
          216,
          217,
          217,
          219,
          219,
          220,
          221,
          225,
          225,
          226,
          226,
          227,
          228,
          228,
          229,
          230,
          234,
          236,
          237,
          237,
          237,
          240,
          242,
          244,
          244,
          244,
          246,
          246,
          247,
          249,
          251,
          252,
          253,
          254,
          255,
          256,
          259,
          260,
          261,
          262,
          262,
          264,
          269,
          270,
          272,
          273,
          281,
          285,
          302,
          312,
          318,
          350,
          350,
          385,
          387,
          393,
          412,
          415,
          415,
          420,
          420,
          421,
          421,
          422,
          422,
          424,
          425,
          425,
          426,
          426,
          426,
          427,
          428,
          430,
          433,
          436,
          437,
          439,
          440,
          442,
          442,
          444,
          444,
          447,
          458,
          461,
          465,
          466,
          468,
          470,
          470,
          472,
          472,
          474,
          474,
          474,
          475,
          475,
          481,
          481,
          483,
          484,
          484,
          486,
          487,
          489,
          490,
          490,
          492,
          492,
          492,
          492,
          493,
          494,
          495,
          495,
          495,
          496,
          496,
          498,
          499,
          499,
          499,
          500,
          500,
          502,
          506,
          507,
          508,
          511,
          512,
          513,
          513,
          514,
          516,
          516,
          517,
          517,
          517,
          517,
          519,
          519,
          520,
          521,
          522,
          523,
          524,
          526,
          530,
          531,
          532,
          532,
          535,
          537,
          537,
          539,
          545,
          546,
          547,
          548,
          549,
          549,
          551,
          552,
          553,
          555,
          556,
          558,
          561,
          561,
          564,
          566,
          571,
          572,
          574,
          574,
          575,
          575,
          575,
          575,
          575,
          576,
          577,
          578,
          579,
          582,
          582,
          584,
          584,
          584,
          586,
          586,
          586,
          587,
          587,
          588,
          589,
          596,
          596,
          597,
          598,
          599,
          604,
          605,
          606,
          609,
          609,
          609,
          613,
          616,
          617,
          617,
          618,
          618,
          621,
          625,
          629,
          632,
          638,
          647,
          648,
          651,
          652,
          661,
          510,
          186,
          250,
          511,
          498,
          186,
          213,
          567,
          513,
          188,
          219,
          228,
          578,
          498,
          493,
          524,
          206,
          131,
          465,
          499,
          540,
          631,
          499,
          229,
          179,
          159,
          245,
          421,
          499,
          503,
          569,
          486,
          422,
          579,
          586,
          612,
          222,
          422,
          164,
          176,
          490,
          204,
          512,
          191,
          433,
          553,
          630,
          471,
          592,
          423,
          427,
          613,
          213,
          550,
          436,
          520,
          189,
          528,
          257,
          565,
          550,
          534,
          258
         ],
         "y": [
          300,
          258,
          346,
          225,
          240,
          311,
          336,
          337,
          393,
          351,
          243,
          292,
          328,
          333,
          327,
          328,
          341,
          223,
          271,
          184,
          267,
          346,
          201,
          309,
          318,
          197,
          160,
          315,
          354,
          221,
          412,
          182,
          378,
          348,
          171,
          275,
          216,
          366,
          403,
          244,
          244,
          189,
          344,
          126,
          289,
          288,
          244,
          415,
          131,
          224,
          340,
          229,
          312,
          360,
          170,
          390,
          413,
          109,
          183,
          373,
          415,
          372,
          320,
          373,
          333,
          117,
          225,
          313,
          273,
          278,
          287,
          386,
          327,
          399,
          267,
          405,
          266,
          313,
          296,
          225,
          381,
          222,
          159,
          306,
          312,
          188,
          206,
          155,
          229,
          288,
          127,
          214,
          267,
          234,
          293,
          189,
          337,
          343,
          233,
          274,
          276,
          317,
          258,
          368,
          414,
          47,
          312,
          165,
          284,
          293,
          303,
          395,
          277,
          397,
          359,
          292,
          269,
          301,
          115,
          353,
          359,
          358,
          327,
          257,
          365,
          324,
          120,
          336,
          361,
          336,
          325,
          141,
          250,
          273,
          291,
          225,
          226,
          207,
          213,
          202,
          117,
          104,
          134,
          95,
          115,
          93,
          116,
          81,
          90,
          96,
          88,
          93,
          89,
          93,
          94,
          87,
          127,
          84,
          97,
          69,
          85,
          77,
          82,
          94,
          135,
          99,
          275,
          191,
          386,
          268,
          407,
          400,
          178,
          188,
          374,
          321,
          399,
          129,
          286,
          337,
          286,
          406,
          269,
          399,
          258,
          375,
          415,
          109,
          267,
          352,
          203,
          282,
          284,
          285,
          372,
          423,
          265,
          282,
          308,
          357,
          388,
          293,
          305,
          434,
          339,
          351,
          387,
          258,
          270,
          315,
          143,
          179,
          346,
          398,
          350,
          178,
          293,
          436,
          122,
          334,
          324,
          378,
          394,
          415,
          225,
          272,
          354,
          368,
          421,
          202,
          351,
          419,
          213,
          320,
          159,
          310,
          294,
          302,
          360,
          334,
          318,
          336,
          354,
          191,
          387,
          436,
          393,
          248,
          348,
          383,
          197,
          385,
          343,
          389,
          105,
          357,
          335,
          360,
          247,
          314,
          277,
          334,
          355,
          374,
          392,
          362,
          381,
          247,
          270,
          200,
          236,
          279,
          392,
          420,
          294,
          319,
          357,
          348,
          353,
          365,
          363,
          296,
          360,
          153,
          238,
          242,
          311,
          318,
          342,
          225,
          226,
          300,
          313,
          388,
          279,
          389,
          229,
          385,
          366,
          331,
          193,
          201,
          266,
          276,
          297,
          315,
          347,
          251,
          364,
          328,
          270,
          255,
          347,
          383,
          295,
          288,
          320,
          374,
          230,
          263,
          297,
          265,
          357,
          322,
          299,
          324,
          177,
          314,
          321,
          295,
          276,
          289,
          323,
          186,
          280,
          112,
          212,
          285,
          259,
          332,
          130,
          248,
          359,
          354,
          284,
          97,
          332,
          226,
          304,
          396,
          334,
          287,
          76,
          345,
          275,
          185,
          300,
          99,
          92,
          225,
          202,
          318,
          75,
          227,
          369,
          286,
          362,
          170,
          384,
          261,
          125
         ],
         "z": [
          156,
          198,
          140,
          169,
          250,
          231,
          155,
          154,
          111,
          170,
          290,
          150,
          173,
          169,
          174,
          174,
          248,
          213,
          331,
          261,
          198,
          231,
          282,
          286,
          225,
          213,
          175,
          175,
          204,
          270,
          123,
          175,
          168,
          130,
          197,
          386,
          326,
          139,
          236,
          273,
          272,
          191,
          348,
          251,
          351,
          352,
          214,
          155,
          149,
          349,
          249,
          328,
          379,
          328,
          299,
          252,
          188,
          183,
          350,
          163,
          87,
          168,
          203,
          168,
          351,
          186,
          255,
          203,
          168,
          199,
          407,
          155,
          319,
          133,
          318,
          94,
          317,
          415,
          399,
          209,
          296,
          207,
          310,
          236,
          307,
          262,
          287,
          179,
          272,
          219,
          251,
          352,
          295,
          356,
          184,
          291,
          314,
          261,
          367,
          164,
          150,
          371,
          283,
          269,
          62,
          150,
          247,
          295,
          333,
          337,
          243,
          207,
          324,
          91,
          224,
          350,
          235,
          398,
          291,
          218,
          136,
          136,
          262,
          282,
          193,
          231,
          292,
          145,
          113,
          136,
          223,
          324,
          258,
          100,
          64,
          268,
          269,
          285,
          286,
          288,
          270,
          259,
          275,
          250,
          263,
          247,
          263,
          237,
          244,
          247,
          241,
          244,
          241,
          244,
          245,
          238,
          264,
          234,
          242,
          207,
          228,
          216,
          222,
          233,
          341,
          236,
          412,
          373,
          112,
          292,
          131,
          70,
          360,
          353,
          320,
          409,
          130,
          349,
          287,
          360,
          288,
          95,
          307,
          132,
          411,
          201,
          196,
          296,
          305,
          276,
          360,
          365,
          375,
          83,
          225,
          241,
          405,
          378,
          275,
          357,
          161,
          433,
          273,
          57,
          106,
          285,
          318,
          409,
          339,
          270,
          301,
          367,
          397,
          284,
          198,
          310,
          411,
          124,
          287,
          238,
          248,
          283,
          244,
          153,
          322,
          382,
          365,
          145,
          158,
          317,
          184,
          224,
          373,
          215,
          320,
          196,
          356,
          153,
          217,
          210,
          241,
          312,
          326,
          332,
          206,
          63,
          301,
          350,
          176,
          237,
          278,
          210,
          181,
          166,
          242,
          163,
          338,
          313,
          298,
          180,
          135,
          272,
          252,
          136,
          124,
          261,
          131,
          218,
          121,
          313,
          160,
          133,
          124,
          91,
          342,
          273,
          116,
          226,
          123,
          176,
          252,
          312,
          180,
          252,
          285,
          316,
          152,
          187,
          104,
          206,
          163,
          158,
          235,
          95,
          259,
          94,
          212,
          89,
          144,
          187,
          207,
          189,
          204,
          200,
          124,
          163,
          115,
          127,
          239,
          336,
          233,
          308,
          285,
          244,
          211,
          314,
          256,
          166,
          273,
          289,
          234,
          311,
          292,
          240,
          209,
          228,
          362,
          332,
          310,
          151,
          397,
          376,
          204,
          186,
          239,
          261,
          353,
          409,
          183,
          350,
          269,
          220,
          181,
          150,
          222,
          250,
          197,
          330,
          280,
          136,
          361,
          342,
          222,
          221,
          206,
          361,
          230,
          250,
          242,
          209,
          206,
          252,
          216,
          321,
          178,
          241,
          210,
          269,
          207,
          293,
          292
         ]
        },
        {
         "hoverinfo": "text",
         "line": {
          "color": "rgba(128, 128, 128, 0.4)",
          "width": 1
         },
         "mode": "lines",
         "text": "52.48",
         "type": "scatter3d",
         "x": [
          58,
          99
         ],
         "y": [
          300,
          328
         ],
         "z": [
          156,
          173
         ]
        },
        {
         "hoverinfo": "text",
         "line": {
          "color": "rgba(128, 128, 128, 0.4)",
          "width": 1
         },
         "mode": "lines",
         "text": "51.79",
         "type": "scatter3d",
         "x": [
          63,
          114
         ],
         "y": [
          258,
          267
         ],
         "z": [
          198,
          198
         ]
        },
        {
         "hoverinfo": "text",
         "line": {
          "color": "rgba(128, 128, 128, 0.4)",
          "width": 1
         },
         "mode": "lines",
         "text": "30.03",
         "type": "scatter3d",
         "x": [
          63,
          88
         ],
         "y": [
          346,
          337
         ],
         "z": [
          140,
          154
         ]
        },
        {
         "hoverinfo": "text",
         "line": {
          "color": "rgba(128, 128, 128, 0.4)",
          "width": 1
         },
         "mode": "lines",
         "text": "68.04",
         "type": "scatter3d",
         "x": [
          69,
          114
         ],
         "y": [
          225,
          267
         ],
         "z": [
          169,
          198
         ]
        },
        {
         "hoverinfo": "text",
         "line": {
          "color": "rgba(128, 128, 128, 0.4)",
          "width": 1
         },
         "mode": "lines",
         "text": "80.18",
         "type": "scatter3d",
         "x": [
          84,
          161
         ],
         "y": [
          240,
          244
         ],
         "z": [
          250,
          272
         ]
        },
        {
         "hoverinfo": "text",
         "line": {
          "color": "rgba(128, 128, 128, 0.4)",
          "width": 1
         },
         "mode": "lines",
         "text": "48.88",
         "type": "scatter3d",
         "x": [
          87,
          135
         ],
         "y": [
          311,
          318
         ],
         "z": [
          231,
          225
         ]
        },
        {
         "hoverinfo": "text",
         "line": {
          "color": "rgba(128, 128, 128, 0.4)",
          "width": 1
         },
         "mode": "lines",
         "text": "1.73",
         "type": "scatter3d",
         "x": [
          87,
          88
         ],
         "y": [
          336,
          337
         ],
         "z": [
          155,
          154
         ]
        },
        {
         "hoverinfo": "text",
         "line": {
          "color": "rgba(128, 128, 128, 0.4)",
          "width": 1
         },
         "mode": "lines",
         "text": "19.03",
         "type": "scatter3d",
         "x": [
          88,
          99
         ],
         "y": [
          337,
          333
         ],
         "z": [
          154,
          169
         ]
        },
        {
         "hoverinfo": "text",
         "line": {
          "color": "rgba(128, 128, 128, 0.4)",
          "width": 1
         },
         "mode": "lines",
         "text": "79.21",
         "type": "scatter3d",
         "x": [
          88,
          157
         ],
         "y": [
          393,
          366
         ],
         "z": [
          111,
          139
         ]
        },
        {
         "hoverinfo": "text",
         "line": {
          "color": "rgba(128, 128, 128, 0.4)",
          "width": 1
         },
         "mode": "lines",
         "text": "19.72",
         "type": "scatter3d",
         "x": [
          91,
          99
         ],
         "y": [
          351,
          333
         ],
         "z": [
          170,
          169
         ]
        },
        {
         "hoverinfo": "text",
         "line": {
          "color": "rgba(128, 128, 128, 0.4)",
          "width": 1
         },
         "mode": "lines",
         "text": "65.26",
         "type": "scatter3d",
         "x": [
          97,
          160
         ],
         "y": [
          243,
          244
         ],
         "z": [
          290,
          273
         ]
        },
        {
         "hoverinfo": "text",
         "line": {
          "color": "rgba(128, 128, 128, 0.4)",
          "width": 1
         },
         "mode": "lines",
         "text": "55.59",
         "type": "scatter3d",
         "x": [
          97,
          141
         ],
         "y": [
          292,
          315
         ],
         "z": [
          150,
          175
         ]
        },
        {
         "hoverinfo": "text",
         "line": {
          "color": "rgba(128, 128, 128, 0.4)",
          "width": 1
         },
         "mode": "lines",
         "text": "1.73",
         "type": "scatter3d",
         "x": [
          99,
          100
         ],
         "y": [
          328,
          327
         ],
         "z": [
          173,
          174
         ]
        },
        {
         "hoverinfo": "text",
         "line": {
          "color": "rgba(128, 128, 128, 0.4)",
          "width": 1
         },
         "mode": "lines",
         "text": "6.40",
         "type": "scatter3d",
         "x": [
          99,
          99
         ],
         "y": [
          328,
          333
         ],
         "z": [
          173,
          169
         ]
        },
        {
         "hoverinfo": "text",
         "line": {
          "color": "rgba(128, 128, 128, 0.4)",
          "width": 1
         },
         "mode": "lines",
         "text": "1.41",
         "type": "scatter3d",
         "x": [
          100,
          101
         ],
         "y": [
          327,
          328
         ],
         "z": [
          174,
          174
         ]
        },
        {
         "hoverinfo": "text",
         "line": {
          "color": "rgba(128, 128, 128, 0.4)",
          "width": 1
         },
         "mode": "lines",
         "text": "42.73",
         "type": "scatter3d",
         "x": [
          100,
          141
         ],
         "y": [
          327,
          315
         ],
         "z": [
          174,
          175
         ]
        },
        {
         "hoverinfo": "text",
         "line": {
          "color": "rgba(128, 128, 128, 0.4)",
          "width": 1
         },
         "mode": "lines",
         "text": "36.95",
         "type": "scatter3d",
         "x": [
          105,
          131
         ],
         "y": [
          341,
          324
         ],
         "z": [
          248,
          228
         ]
        },
        {
         "hoverinfo": "text",
         "line": {
          "color": "rgba(128, 128, 128, 0.4)",
          "width": 1
         },
         "mode": "lines",
         "text": "63.58",
         "type": "scatter3d",
         "x": [
          109,
          169
         ],
         "y": [
          223,
          244
         ],
         "z": [
          213,
          214
         ]
        },
        {
         "hoverinfo": "text",
         "line": {
          "color": "rgba(128, 128, 128, 0.4)",
          "width": 1
         },
         "mode": "lines",
         "text": "94.98",
         "type": "scatter3d",
         "x": [
          109,
          203
         ],
         "y": [
          271,
          267
         ],
         "z": [
          331,
          318
         ]
        },
        {
         "hoverinfo": "text",
         "line": {
          "color": "rgba(128, 128, 128, 0.4)",
          "width": 1
         },
         "mode": "lines",
         "text": "50.39",
         "type": "scatter3d",
         "x": [
          111,
          144
         ],
         "y": [
          184,
          221
         ],
         "z": [
          261,
          270
         ]
        },
        {
         "hoverinfo": "text",
         "line": {
          "color": "rgba(128, 128, 128, 0.4)",
          "width": 1
         },
         "mode": "lines",
         "text": "91.55",
         "type": "scatter3d",
         "x": [
          114,
          193
         ],
         "y": [
          267,
          313
         ],
         "z": [
          198,
          203
         ]
        },
        {
         "hoverinfo": "text",
         "line": {
          "color": "rgba(128, 128, 128, 0.4)",
          "width": 1
         },
         "mode": "lines",
         "text": "23.96",
         "type": "scatter3d",
         "x": [
          122,
          131
         ],
         "y": [
          346,
          324
         ],
         "z": [
          231,
          228
         ]
        },
        {
         "hoverinfo": "text",
         "line": {
          "color": "rgba(128, 128, 128, 0.4)",
          "width": 1
         },
         "mode": "lines",
         "text": "27.20",
         "type": "scatter3d",
         "x": [
          130,
          144
         ],
         "y": [
          201,
          221
         ],
         "z": [
          282,
          270
         ]
        },
        {
         "hoverinfo": "text",
         "line": {
          "color": "rgba(128, 128, 128, 0.4)",
          "width": 1
         },
         "mode": "lines",
         "text": "123.98",
         "type": "scatter3d",
         "x": [
          134,
          245
         ],
         "y": [
          309,
          280
         ],
         "z": [
          286,
          239
         ]
        },
        {
         "hoverinfo": "text",
         "line": {
          "color": "rgba(128, 128, 128, 0.4)",
          "width": 1
         },
         "mode": "lines",
         "text": "7.81",
         "type": "scatter3d",
         "x": [
          135,
          131
         ],
         "y": [
          318,
          324
         ],
         "z": [
          225,
          228
         ]
        },
        {
         "hoverinfo": "text",
         "line": {
          "color": "rgba(128, 128, 128, 0.4)",
          "width": 1
         },
         "mode": "lines",
         "text": "49.01",
         "type": "scatter3d",
         "x": [
          135,
          179
         ],
         "y": [
          318,
          323
         ],
         "z": [
          225,
          204
         ]
        },
        {
         "hoverinfo": "text",
         "line": {
          "color": "rgba(128, 128, 128, 0.4)",
          "width": 1
         },
         "mode": "lines",
         "text": "55.77",
         "type": "scatter3d",
         "x": [
          139,
          169
         ],
         "y": [
          197,
          244
         ],
         "z": [
          213,
          214
         ]
        },
        {
         "hoverinfo": "text",
         "line": {
          "color": "rgba(128, 128, 128, 0.4)",
          "width": 1
         },
         "mode": "lines",
         "text": "33.48",
         "type": "scatter3d",
         "x": [
          141,
          159
         ],
         "y": [
          160,
          186
         ],
         "z": [
          175,
          186
         ]
        },
        {
         "hoverinfo": "text",
         "line": {
          "color": "rgba(128, 128, 128, 0.4)",
          "width": 1
         },
         "mode": "lines",
         "text": "36.08",
         "type": "scatter3d",
         "x": [
          141,
          164
         ],
         "y": [
          315,
          332
         ],
         "z": [
          175,
          197
         ]
        },
        {
         "hoverinfo": "text",
         "line": {
          "color": "rgba(128, 128, 128, 0.4)",
          "width": 1
         },
         "mode": "lines",
         "text": "32.59",
         "type": "scatter3d",
         "x": [
          141,
          164
         ],
         "y": [
          354,
          332
         ],
         "z": [
          204,
          197
         ]
        },
        {
         "hoverinfo": "text",
         "line": {
          "color": "rgba(128, 128, 128, 0.4)",
          "width": 1
         },
         "mode": "lines",
         "text": "28.18",
         "type": "scatter3d",
         "x": [
          144,
          160
         ],
         "y": [
          221,
          244
         ],
         "z": [
          270,
          273
         ]
        },
        {
         "hoverinfo": "text",
         "line": {
          "color": "rgba(128, 128, 128, 0.4)",
          "width": 1
         },
         "mode": "lines",
         "text": "54.53",
         "type": "scatter3d",
         "x": [
          149,
          201
         ],
         "y": [
          412,
          399
         ],
         "z": [
          123,
          133
         ]
        },
        {
         "hoverinfo": "text",
         "line": {
          "color": "rgba(128, 128, 128, 0.4)",
          "width": 1
         },
         "mode": "lines",
         "text": "14.76",
         "type": "scatter3d",
         "x": [
          150,
          159
         ],
         "y": [
          182,
          186
         ],
         "z": [
          175,
          186
         ]
        },
        {
         "hoverinfo": "text",
         "line": {
          "color": "rgba(128, 128, 128, 0.4)",
          "width": 1
         },
         "mode": "lines",
         "text": "33.75",
         "type": "scatter3d",
         "x": [
          150,
          183
         ],
         "y": [
          378,
          373
         ],
         "z": [
          168,
          163
         ]
        },
        {
         "hoverinfo": "text",
         "line": {
          "color": "rgba(128, 128, 128, 0.4)",
          "width": 1
         },
         "mode": "lines",
         "text": "20.74",
         "type": "scatter3d",
         "x": [
          152,
          157
         ],
         "y": [
          348,
          366
         ],
         "z": [
          130,
          139
         ]
        },
        {
         "hoverinfo": "text",
         "line": {
          "color": "rgba(128, 128, 128, 0.4)",
          "width": 1
         },
         "mode": "lines",
         "text": "21.45",
         "type": "scatter3d",
         "x": [
          153,
          163
         ],
         "y": [
          171,
          189
         ],
         "z": [
          197,
          191
         ]
        },
        {
         "hoverinfo": "text",
         "line": {
          "color": "rgba(128, 128, 128, 0.4)",
          "width": 1
         },
         "mode": "lines",
         "text": "38.03",
         "type": "scatter3d",
         "x": [
          156,
          167
         ],
         "y": [
          275,
          288
         ],
         "z": [
          386,
          352
         ]
        },
        {
         "hoverinfo": "text",
         "line": {
          "color": "rgba(128, 128, 128, 0.4)",
          "width": 1
         },
         "mode": "lines",
         "text": "23.11",
         "type": "scatter3d",
         "x": [
          157,
          176
         ],
         "y": [
          216,
          229
         ],
         "z": [
          326,
          328
         ]
        },
        {
         "hoverinfo": "text",
         "line": {
          "color": "rgba(128, 128, 128, 0.4)",
          "width": 1
         },
         "mode": "lines",
         "text": "36.07",
         "type": "scatter3d",
         "x": [
          157,
          183
         ],
         "y": [
          366,
          373
         ],
         "z": [
          139,
          163
         ]
        },
        {
         "hoverinfo": "text",
         "line": {
          "color": "rgba(128, 128, 128, 0.4)",
          "width": 1
         },
         "mode": "lines",
         "text": "36.12",
         "type": "scatter3d",
         "x": [
          157,
          186
         ],
         "y": [
          403,
          383
         ],
         "z": [
          236,
          244
         ]
        },
        {
         "hoverinfo": "text",
         "line": {
          "color": "rgba(128, 128, 128, 0.4)",
          "width": 1
         },
         "mode": "lines",
         "text": "1.41",
         "type": "scatter3d",
         "x": [
          160,
          161
         ],
         "y": [
          244,
          244
         ],
         "z": [
          273,
          272
         ]
        },
        {
         "hoverinfo": "text",
         "line": {
          "color": "rgba(128, 128, 128, 0.4)",
          "width": 1
         },
         "mode": "lines",
         "text": "71.69",
         "type": "scatter3d",
         "x": [
          161,
          228
         ],
         "y": [
          244,
          263
         ],
         "z": [
          272,
          289
         ]
        },
        {
         "hoverinfo": "text",
         "line": {
          "color": "rgba(128, 128, 128, 0.4)",
          "width": 1
         },
         "mode": "lines",
         "text": "61.88",
         "type": "scatter3d",
         "x": [
          163,
          210
         ],
         "y": [
          189,
          225
         ],
         "z": [
          191,
          209
         ]
        },
        {
         "hoverinfo": "text",
         "line": {
          "color": "rgba(128, 128, 128, 0.4)",
          "width": 1
         },
         "mode": "lines",
         "text": "7.07",
         "type": "scatter3d",
         "x": [
          163,
          159
         ],
         "y": [
          189,
          186
         ],
         "z": [
          191,
          186
         ]
        },
        {
         "hoverinfo": "text",
         "line": {
          "color": "rgba(128, 128, 128, 0.4)",
          "width": 1
         },
         "mode": "lines",
         "text": "29.73",
         "type": "scatter3d",
         "x": [
          164,
          186
         ],
         "y": [
          344,
          328
         ],
         "z": [
          348,
          336
         ]
        },
        {
         "hoverinfo": "text",
         "line": {
          "color": "rgba(128, 128, 128, 0.4)",
          "width": 1
         },
         "mode": "lines",
         "text": "81.66",
         "type": "scatter3d",
         "x": [
          165,
          217
         ],
         "y": [
          126,
          188
         ],
         "z": [
          251,
          262
         ]
        },
        {
         "hoverinfo": "text",
         "line": {
          "color": "rgba(128, 128, 128, 0.4)",
          "width": 1
         },
         "mode": "lines",
         "text": "2.45",
         "type": "scatter3d",
         "x": [
          165,
          167
         ],
         "y": [
          289,
          288
         ],
         "z": [
          351,
          352
         ]
        },
        {
         "hoverinfo": "text",
         "line": {
          "color": "rgba(128, 128, 128, 0.4)",
          "width": 1
         },
         "mode": "lines",
         "text": "26.02",
         "type": "scatter3d",
         "x": [
          167,
          191
         ],
         "y": [
          288,
          287
         ],
         "z": [
          352,
          342
         ]
        },
        {
         "hoverinfo": "text",
         "line": {
          "color": "rgba(128, 128, 128, 0.4)",
          "width": 1
         },
         "mode": "lines",
         "text": "66.88",
         "type": "scatter3d",
         "x": [
          169,
          222
         ],
         "y": [
          244,
          284
         ],
         "z": [
          214,
          222
         ]
        },
        {
         "hoverinfo": "text",
         "line": {
          "color": "rgba(128, 128, 128, 0.4)",
          "width": 1
         },
         "mode": "lines",
         "text": "38.29",
         "type": "scatter3d",
         "x": [
          170,
          195
         ],
         "y": [
          415,
          386
         ],
         "z": [
          155,
          155
         ]
        },
        {
         "hoverinfo": "text",
         "line": {
          "color": "rgba(128, 128, 128, 0.4)",
          "width": 1
         },
         "mode": "lines",
         "text": "115.09",
         "type": "scatter3d",
         "x": [
          172,
          212
         ],
         "y": [
          131,
          222
         ],
         "z": [
          149,
          207
         ]
        },
        {
         "hoverinfo": "text",
         "line": {
          "color": "rgba(128, 128, 128, 0.4)",
          "width": 1
         },
         "mode": "lines",
         "text": "19.52",
         "type": "scatter3d",
         "x": [
          172,
          176
         ],
         "y": [
          224,
          226
         ],
         "z": [
          349,
          330
         ]
        },
        {
         "hoverinfo": "text",
         "line": {
          "color": "rgba(128, 128, 128, 0.4)",
          "width": 1
         },
         "mode": "lines",
         "text": "52.62",
         "type": "scatter3d",
         "x": [
          175,
          213
         ],
         "y": [
          340,
          306
         ],
         "z": [
          249,
          236
         ]
        },
        {
         "hoverinfo": "text",
         "line": {
          "color": "rgba(128, 128, 128, 0.4)",
          "width": 1
         },
         "mode": "lines",
         "text": "47.69",
         "type": "scatter3d",
         "x": [
          176,
          204
         ],
         "y": [
          229,
          266
         ],
         "z": [
          328,
          317
         ]
        },
        {
         "hoverinfo": "text",
         "line": {
          "color": "rgba(128, 128, 128, 0.4)",
          "width": 1
         },
         "mode": "lines",
         "text": "3.61",
         "type": "scatter3d",
         "x": [
          176,
          176
         ],
         "y": [
          229,
          226
         ],
         "z": [
          328,
          330
         ]
        },
        {
         "hoverinfo": "text",
         "line": {
          "color": "rgba(128, 128, 128, 0.4)",
          "width": 1
         },
         "mode": "lines",
         "text": "46.24",
         "type": "scatter3d",
         "x": [
          179,
          191
         ],
         "y": [
          312,
          287
         ],
         "z": [
          379,
          342
         ]
        },
        {
         "hoverinfo": "text",
         "line": {
          "color": "rgba(128, 128, 128, 0.4)",
          "width": 1
         },
         "mode": "lines",
         "text": "38.65",
         "type": "scatter3d",
         "x": [
          179,
          197
         ],
         "y": [
          360,
          327
         ],
         "z": [
          328,
          319
         ]
        },
        {
         "hoverinfo": "text",
         "line": {
          "color": "rgba(128, 128, 128, 0.4)",
          "width": 1
         },
         "mode": "lines",
         "text": "53.00",
         "type": "scatter3d",
         "x": [
          180,
          217
         ],
         "y": [
          170,
          206
         ],
         "z": [
          299,
          287
         ]
        },
        {
         "hoverinfo": "text",
         "line": {
          "color": "rgba(128, 128, 128, 0.4)",
          "width": 1
         },
         "mode": "lines",
         "text": "11.36",
         "type": "scatter3d",
         "x": [
          182,
          186
         ],
         "y": [
          390,
          383
         ],
         "z": [
          252,
          244
         ]
        },
        {
         "hoverinfo": "text",
         "line": {
          "color": "rgba(128, 128, 128, 0.4)",
          "width": 1
         },
         "mode": "lines",
         "text": "45.66",
         "type": "scatter3d",
         "x": [
          182,
          189
         ],
         "y": [
          413,
          369
         ],
         "z": [
          188,
          178
         ]
        },
        {
         "hoverinfo": "text",
         "line": {
          "color": "rgba(128, 128, 128, 0.4)",
          "width": 1
         },
         "mode": "lines",
         "text": "12.41",
         "type": "scatter3d",
         "x": [
          183,
          192
         ],
         "y": [
          109,
          117
         ],
         "z": [
          183,
          186
         ]
        },
        {
         "hoverinfo": "text",
         "line": {
          "color": "rgba(128, 128, 128, 0.4)",
          "width": 1
         },
         "mode": "lines",
         "text": "47.94",
         "type": "scatter3d",
         "x": [
          183,
          176
         ],
         "y": [
          183,
          226
         ],
         "z": [
          350,
          330
         ]
        },
        {
         "hoverinfo": "text",
         "line": {
          "color": "rgba(128, 128, 128, 0.4)",
          "width": 1
         },
         "mode": "lines",
         "text": "5.92",
         "type": "scatter3d",
         "x": [
          183,
          188
         ],
         "y": [
          373,
          374
         ],
         "z": [
          163,
          166
         ]
        },
        {
         "hoverinfo": "text",
         "line": {
          "color": "rgba(128, 128, 128, 0.4)",
          "width": 1
         },
         "mode": "lines",
         "text": "23.43",
         "type": "scatter3d",
         "x": [
          183,
          203
         ],
         "y": [
          415,
          405
         ],
         "z": [
          87,
          94
         ]
        },
        {
         "hoverinfo": "text",
         "line": {
          "color": "rgba(128, 128, 128, 0.4)",
          "width": 1
         },
         "mode": "lines",
         "text": "1.41",
         "type": "scatter3d",
         "x": [
          187,
          188
         ],
         "y": [
          372,
          373
         ],
         "z": [
          168,
          168
         ]
        },
        {
         "hoverinfo": "text",
         "line": {
          "color": "rgba(128, 128, 128, 0.4)",
          "width": 1
         },
         "mode": "lines",
         "text": "8.60",
         "type": "scatter3d",
         "x": [
          188,
          193
         ],
         "y": [
          320,
          313
         ],
         "z": [
          203,
          203
         ]
        },
        {
         "hoverinfo": "text",
         "line": {
          "color": "rgba(128, 128, 128, 0.4)",
          "width": 1
         },
         "mode": "lines",
         "text": "9.54",
         "type": "scatter3d",
         "x": [
          188,
          179
         ],
         "y": [
          320,
          323
         ],
         "z": [
          203,
          204
         ]
        },
        {
         "hoverinfo": "text",
         "line": {
          "color": "rgba(128, 128, 128, 0.4)",
          "width": 1
         },
         "mode": "lines",
         "text": "55.02",
         "type": "scatter3d",
         "x": [
          188,
          189
         ],
         "y": [
          320,
          369
         ],
         "z": [
          203,
          178
         ]
        },
        {
         "hoverinfo": "text",
         "line": {
          "color": "rgba(128, 128, 128, 0.4)",
          "width": 1
         },
         "mode": "lines",
         "text": "2.24",
         "type": "scatter3d",
         "x": [
          188,
          188
         ],
         "y": [
          373,
          374
         ],
         "z": [
          168,
          166
         ]
        },
        {
         "hoverinfo": "text",
         "line": {
          "color": "rgba(128, 128, 128, 0.4)",
          "width": 1
         },
         "mode": "lines",
         "text": "10.82",
         "type": "scatter3d",
         "x": [
          188,
          189
         ],
         "y": [
          373,
          369
         ],
         "z": [
          168,
          178
         ]
        },
        {
         "hoverinfo": "text",
         "line": {
          "color": "rgba(128, 128, 128, 0.4)",
          "width": 1
         },
         "mode": "lines",
         "text": "16.31",
         "type": "scatter3d",
         "x": [
          190,
          186
         ],
         "y": [
          333,
          328
         ],
         "z": [
          351,
          336
         ]
        },
        {
         "hoverinfo": "text",
         "line": {
          "color": "rgba(128, 128, 128, 0.4)",
          "width": 1
         },
         "mode": "lines",
         "text": "92.20",
         "type": "scatter3d",
         "x": [
          192,
          240
         ],
         "y": [
          117,
          47
         ],
         "z": [
          186,
          150
         ]
        },
        {
         "hoverinfo": "text",
         "line": {
          "color": "rgba(128, 128, 128, 0.4)",
          "width": 1
         },
         "mode": "lines",
         "text": "89.81",
         "type": "scatter3d",
         "x": [
          192,
          213
         ],
         "y": [
          117,
          202
         ],
         "z": [
          186,
          206
         ]
        },
        {
         "hoverinfo": "text",
         "line": {
          "color": "rgba(128, 128, 128, 0.4)",
          "width": 1
         },
         "mode": "lines",
         "text": "32.16",
         "type": "scatter3d",
         "x": [
          192,
          219
         ],
         "y": [
          225,
          229
         ],
         "z": [
          255,
          272
         ]
        },
        {
         "hoverinfo": "text",
         "line": {
          "color": "rgba(128, 128, 128, 0.4)",
          "width": 1
         },
         "mode": "lines",
         "text": "20.02",
         "type": "scatter3d",
         "x": [
          193,
          206
         ],
         "y": [
          313,
          299
         ],
         "z": [
          203,
          209
         ]
        },
        {
         "hoverinfo": "text",
         "line": {
          "color": "rgba(128, 128, 128, 0.4)",
          "width": 1
         },
         "mode": "lines",
         "text": "35.24",
         "type": "scatter3d",
         "x": [
          195,
          230
         ],
         "y": [
          273,
          274
         ],
         "z": [
          168,
          164
         ]
        },
        {
         "hoverinfo": "text",
         "line": {
          "color": "rgba(128, 128, 128, 0.4)",
          "width": 1
         },
         "mode": "lines",
         "text": "25.73",
         "type": "scatter3d",
         "x": [
          195,
          206
         ],
         "y": [
          278,
          299
         ],
         "z": [
          199,
          209
         ]
        },
        {
         "hoverinfo": "text",
         "line": {
          "color": "rgba(128, 128, 128, 0.4)",
          "width": 1
         },
         "mode": "lines",
         "text": "17.00",
         "type": "scatter3d",
         "x": [
          195,
          207
         ],
         "y": [
          287,
          296
         ],
         "z": [
          407,
          399
         ]
        },
        {
         "hoverinfo": "text",
         "line": {
          "color": "rgba(128, 128, 128, 0.4)",
          "width": 1
         },
         "mode": "lines",
         "text": "17.72",
         "type": "scatter3d",
         "x": [
          195,
          188
         ],
         "y": [
          386,
          374
         ],
         "z": [
          155,
          166
         ]
        },
        {
         "hoverinfo": "text",
         "line": {
          "color": "rgba(128, 128, 128, 0.4)",
          "width": 1
         },
         "mode": "lines",
         "text": "23.28",
         "type": "scatter3d",
         "x": [
          195,
          204
         ],
         "y": [
          386,
          396
         ],
         "z": [
          155,
          136
         ]
        },
        {
         "hoverinfo": "text",
         "line": {
          "color": "rgba(128, 128, 128, 0.4)",
          "width": 1
         },
         "mode": "lines",
         "text": "27.02",
         "type": "scatter3d",
         "x": [
          197,
          216
         ],
         "y": [
          327,
          312
         ],
         "z": [
          319,
          307
         ]
        },
        {
         "hoverinfo": "text",
         "line": {
          "color": "rgba(128, 128, 128, 0.4)",
          "width": 1
         },
         "mode": "lines",
         "text": "20.27",
         "type": "scatter3d",
         "x": [
          197,
          186
         ],
         "y": [
          327,
          328
         ],
         "z": [
          319,
          336
         ]
        },
        {
         "hoverinfo": "text",
         "line": {
          "color": "rgba(128, 128, 128, 0.4)",
          "width": 1
         },
         "mode": "lines",
         "text": "39.51",
         "type": "scatter3d",
         "x": [
          201,
          203
         ],
         "y": [
          399,
          405
         ],
         "z": [
          133,
          94
         ]
        },
        {
         "hoverinfo": "text",
         "line": {
          "color": "rgba(128, 128, 128, 0.4)",
          "width": 1
         },
         "mode": "lines",
         "text": "5.20",
         "type": "scatter3d",
         "x": [
          201,
          204
         ],
         "y": [
          399,
          396
         ],
         "z": [
          133,
          136
         ]
        },
        {
         "hoverinfo": "text",
         "line": {
          "color": "rgba(128, 128, 128, 0.4)",
          "width": 1
         },
         "mode": "lines",
         "text": "1.73",
         "type": "scatter3d",
         "x": [
          203,
          204
         ],
         "y": [
          267,
          266
         ],
         "z": [
          318,
          317
         ]
        },
        {
         "hoverinfo": "text",
         "line": {
          "color": "rgba(128, 128, 128, 0.4)",
          "width": 1
         },
         "mode": "lines",
         "text": "33.47",
         "type": "scatter3d",
         "x": [
          203,
          191
         ],
         "y": [
          267,
          287
         ],
         "z": [
          318,
          342
         ]
        },
        {
         "hoverinfo": "text",
         "line": {
          "color": "rgba(128, 128, 128, 0.4)",
          "width": 1
         },
         "mode": "lines",
         "text": "47.55",
         "type": "scatter3d",
         "x": [
          203,
          237
         ],
         "y": [
          405,
          414
         ],
         "z": [
          94,
          62
         ]
        },
        {
         "hoverinfo": "text",
         "line": {
          "color": "rgba(128, 128, 128, 0.4)",
          "width": 1
         },
         "mode": "lines",
         "text": "30.43",
         "type": "scatter3d",
         "x": [
          204,
          225
         ],
         "y": [
          266,
          267
         ],
         "z": [
          317,
          295
         ]
        },
        {
         "hoverinfo": "text",
         "line": {
          "color": "rgba(128, 128, 128, 0.4)",
          "width": 1
         },
         "mode": "lines",
         "text": "23.37",
         "type": "scatter3d",
         "x": [
          206,
          207
         ],
         "y": [
          313,
          296
         ],
         "z": [
          415,
          399
         ]
        },
        {
         "hoverinfo": "text",
         "line": {
          "color": "rgba(128, 128, 128, 0.4)",
          "width": 1
         },
         "mode": "lines",
         "text": "32.59",
         "type": "scatter3d",
         "x": [
          207,
          229
         ],
         "y": [
          296,
          289
         ],
         "z": [
          399,
          376
         ]
        },
        {
         "hoverinfo": "text",
         "line": {
          "color": "rgba(128, 128, 128, 0.4)",
          "width": 1
         },
         "mode": "lines",
         "text": "4.12",
         "type": "scatter3d",
         "x": [
          210,
          212
         ],
         "y": [
          225,
          222
         ],
         "z": [
          209,
          207
         ]
        },
        {
         "hoverinfo": "text",
         "line": {
          "color": "rgba(128, 128, 128, 0.4)",
          "width": 1
         },
         "mode": "lines",
         "text": "64.82",
         "type": "scatter3d",
         "x": [
          210,
          250
         ],
         "y": [
          225,
          270
         ],
         "z": [
          209,
          233
         ]
        },
        {
         "hoverinfo": "text",
         "line": {
          "color": "rgba(128, 128, 128, 0.4)",
          "width": 1
         },
         "mode": "lines",
         "text": "54.71",
         "type": "scatter3d",
         "x": [
          210,
          228
         ],
         "y": [
          381,
          343
         ],
         "z": [
          296,
          261
         ]
        },
        {
         "hoverinfo": "text",
         "line": {
          "color": "rgba(128, 128, 128, 0.4)",
          "width": 1
         },
         "mode": "lines",
         "text": "20.05",
         "type": "scatter3d",
         "x": [
          212,
          213
         ],
         "y": [
          222,
          202
         ],
         "z": [
          207,
          206
         ]
        },
        {
         "hoverinfo": "text",
         "line": {
          "color": "rgba(128, 128, 128, 0.4)",
          "width": 1
         },
         "mode": "lines",
         "text": "38.17",
         "type": "scatter3d",
         "x": [
          213,
          227
         ],
         "y": [
          159,
          189
         ],
         "z": [
          310,
          291
         ]
        },
        {
         "hoverinfo": "text",
         "line": {
          "color": "rgba(128, 128, 128, 0.4)",
          "width": 1
         },
         "mode": "lines",
         "text": "25.73",
         "type": "scatter3d",
         "x": [
          213,
          220
         ],
         "y": [
          306,
          288
         ],
         "z": [
          236,
          219
         ]
        },
        {
         "hoverinfo": "text",
         "line": {
          "color": "rgba(128, 128, 128, 0.4)",
          "width": 1
         },
         "mode": "lines",
         "text": "81.99",
         "type": "scatter3d",
         "x": [
          213,
          186
         ],
         "y": [
          306,
          383
         ],
         "z": [
          236,
          244
         ]
        },
        {
         "hoverinfo": "text",
         "line": {
          "color": "rgba(128, 128, 128, 0.4)",
          "width": 1
         },
         "mode": "lines",
         "text": "47.43",
         "type": "scatter3d",
         "x": [
          216,
          225
         ],
         "y": [
          312,
          267
         ],
         "z": [
          307,
          295
         ]
        },
        {
         "hoverinfo": "text",
         "line": {
          "color": "rgba(128, 128, 128, 0.4)",
          "width": 1
         },
         "mode": "lines",
         "text": "28.60",
         "type": "scatter3d",
         "x": [
          216,
          228
         ],
         "y": [
          312,
          337
         ],
         "z": [
          307,
          314
         ]
        },
        {
         "hoverinfo": "text",
         "line": {
          "color": "rgba(128, 128, 128, 0.4)",
          "width": 1
         },
         "mode": "lines",
         "text": "42.25",
         "type": "scatter3d",
         "x": [
          217,
          219
         ],
         "y": [
          188,
          229
         ],
         "z": [
          262,
          272
         ]
        },
        {
         "hoverinfo": "text",
         "line": {
          "color": "rgba(128, 128, 128, 0.4)",
          "width": 1
         },
         "mode": "lines",
         "text": "62.11",
         "type": "scatter3d",
         "x": [
          217,
          221
         ],
         "y": [
          188,
          127
         ],
         "z": [
          262,
          251
         ]
        },
        {
         "hoverinfo": "text",
         "line": {
          "color": "rgba(128, 128, 128, 0.4)",
          "width": 1
         },
         "mode": "lines",
         "text": "20.12",
         "type": "scatter3d",
         "x": [
          217,
          227
         ],
         "y": [
          206,
          189
         ],
         "z": [
          287,
          291
         ]
        },
        {
         "hoverinfo": "text",
         "line": {
          "color": "rgba(128, 128, 128, 0.4)",
          "width": 1
         },
         "mode": "lines",
         "text": "27.86",
         "type": "scatter3d",
         "x": [
          217,
          219
         ],
         "y": [
          206,
          230
         ],
         "z": [
          287,
          273
         ]
        },
        {
         "hoverinfo": "text",
         "line": {
          "color": "rgba(128, 128, 128, 0.4)",
          "width": 1
         },
         "mode": "lines",
         "text": "54.53",
         "type": "scatter3d",
         "x": [
          219,
          213
         ],
         "y": [
          155,
          202
         ],
         "z": [
          179,
          206
         ]
        },
        {
         "hoverinfo": "text",
         "line": {
          "color": "rgba(128, 128, 128, 0.4)",
          "width": 1
         },
         "mode": "lines",
         "text": "1.41",
         "type": "scatter3d",
         "x": [
          219,
          219
         ],
         "y": [
          229,
          230
         ],
         "z": [
          272,
          273
         ]
        },
        {
         "hoverinfo": "text",
         "line": {
          "color": "rgba(128, 128, 128, 0.4)",
          "width": 1
         },
         "mode": "lines",
         "text": "12.73",
         "type": "scatter3d",
         "x": [
          220,
          213
         ],
         "y": [
          288,
          295
         ],
         "z": [
          219,
          211
         ]
        },
        {
         "hoverinfo": "text",
         "line": {
          "color": "rgba(128, 128, 128, 0.4)",
          "width": 1
         },
         "mode": "lines",
         "text": "5.39",
         "type": "scatter3d",
         "x": [
          220,
          222
         ],
         "y": [
          288,
          284
         ],
         "z": [
          219,
          222
         ]
        },
        {
         "hoverinfo": "text",
         "line": {
          "color": "rgba(128, 128, 128, 0.4)",
          "width": 1
         },
         "mode": "lines",
         "text": "20.42",
         "type": "scatter3d",
         "x": [
          225,
          226
         ],
         "y": [
          214,
          234
         ],
         "z": [
          352,
          356
         ]
        },
        {
         "hoverinfo": "text",
         "line": {
          "color": "rgba(128, 128, 128, 0.4)",
          "width": 1
         },
         "mode": "lines",
         "text": "7.81",
         "type": "scatter3d",
         "x": [
          225,
          228
         ],
         "y": [
          267,
          263
         ],
         "z": [
          295,
          289
         ]
        },
        {
         "hoverinfo": "text",
         "line": {
          "color": "rgba(128, 128, 128, 0.4)",
          "width": 1
         },
         "mode": "lines",
         "text": "11.45",
         "type": "scatter3d",
         "x": [
          226,
          229
         ],
         "y": [
          234,
          233
         ],
         "z": [
          356,
          367
         ]
        },
        {
         "hoverinfo": "text",
         "line": {
          "color": "rgba(128, 128, 128, 0.4)",
          "width": 1
         },
         "mode": "lines",
         "text": "57.57",
         "type": "scatter3d",
         "x": [
          226,
          247
         ],
         "y": [
          234,
          277
         ],
         "z": [
          356,
          324
         ]
        },
        {
         "hoverinfo": "text",
         "line": {
          "color": "rgba(128, 128, 128, 0.4)",
          "width": 1
         },
         "mode": "lines",
         "text": "27.87",
         "type": "scatter3d",
         "x": [
          226,
          230
         ],
         "y": [
          293,
          274
         ],
         "z": [
          184,
          164
         ]
        },
        {
         "hoverinfo": "text",
         "line": {
          "color": "rgba(128, 128, 128, 0.4)",
          "width": 1
         },
         "mode": "lines",
         "text": "72.84",
         "type": "scatter3d",
         "x": [
          226,
          270
         ],
         "y": [
          293,
          336
         ],
         "z": [
          184,
          145
         ]
        },
        {
         "hoverinfo": "text",
         "line": {
          "color": "rgba(128, 128, 128, 0.4)",
          "width": 1
         },
         "mode": "lines",
         "text": "30.03",
         "type": "scatter3d",
         "x": [
          226,
          213
         ],
         "y": [
          293,
          295
         ],
         "z": [
          184,
          211
         ]
        },
        {
         "hoverinfo": "text",
         "line": {
          "color": "rgba(128, 128, 128, 0.4)",
          "width": 1
         },
         "mode": "lines",
         "text": "29.68",
         "type": "scatter3d",
         "x": [
          227,
          244
         ],
         "y": [
          189,
          165
         ],
         "z": [
          291,
          295
         ]
        },
        {
         "hoverinfo": "text",
         "line": {
          "color": "rgba(128, 128, 128, 0.4)",
          "width": 1
         },
         "mode": "lines",
         "text": "27.75",
         "type": "scatter3d",
         "x": [
          228,
          237
         ],
         "y": [
          343,
          368
         ],
         "z": [
          261,
          269
         ]
        },
        {
         "hoverinfo": "text",
         "line": {
          "color": "rgba(128, 128, 128, 0.4)",
          "width": 1
         },
         "mode": "lines",
         "text": "36.78",
         "type": "scatter3d",
         "x": [
          228,
          242
         ],
         "y": [
          343,
          312
         ],
         "z": [
          261,
          247
         ]
        },
        {
         "hoverinfo": "text",
         "line": {
          "color": "rgba(128, 128, 128, 0.4)",
          "width": 1
         },
         "mode": "lines",
         "text": "14.70",
         "type": "scatter3d",
         "x": [
          230,
          234
         ],
         "y": [
          274,
          276
         ],
         "z": [
          164,
          150
         ]
        },
        {
         "hoverinfo": "text",
         "line": {
          "color": "rgba(128, 128, 128, 0.4)",
          "width": 1
         },
         "mode": "lines",
         "text": "92.70",
         "type": "scatter3d",
         "x": [
          234,
          312
         ],
         "y": [
          276,
          273
         ],
         "z": [
          150,
          100
         ]
        },
        {
         "hoverinfo": "text",
         "line": {
          "color": "rgba(128, 128, 128, 0.4)",
          "width": 1
         },
         "mode": "lines",
         "text": "121.15",
         "type": "scatter3d",
         "x": [
          234,
          318
         ],
         "y": [
          276,
          291
         ],
         "z": [
          150,
          64
         ]
        },
        {
         "hoverinfo": "text",
         "line": {
          "color": "rgba(128, 128, 128, 0.4)",
          "width": 1
         },
         "mode": "lines",
         "text": "42.38",
         "type": "scatter3d",
         "x": [
          236,
          244
         ],
         "y": [
          317,
          293
         ],
         "z": [
          371,
          337
         ]
        },
        {
         "hoverinfo": "text",
         "line": {
          "color": "rgba(128, 128, 128, 0.4)",
          "width": 1
         },
         "mode": "lines",
         "text": "25.04",
         "type": "scatter3d",
         "x": [
          237,
          262
         ],
         "y": [
          258,
          257
         ],
         "z": [
          283,
          282
         ]
        },
        {
         "hoverinfo": "text",
         "line": {
          "color": "rgba(128, 128, 128, 0.4)",
          "width": 1
         },
         "mode": "lines",
         "text": "34.76",
         "type": "scatter3d",
         "x": [
          237,
          219
         ],
         "y": [
          258,
          230
         ],
         "z": [
          283,
          273
         ]
        },
        {
         "hoverinfo": "text",
         "line": {
          "color": "rgba(128, 128, 128, 0.4)",
          "width": 1
         },
         "mode": "lines",
         "text": "11.92",
         "type": "scatter3d",
         "x": [
          237,
          228
         ],
         "y": [
          258,
          263
         ],
         "z": [
          283,
          289
         ]
        },
        {
         "hoverinfo": "text",
         "line": {
          "color": "rgba(128, 128, 128, 0.4)",
          "width": 1
         },
         "mode": "lines",
         "text": "10.63",
         "type": "scatter3d",
         "x": [
          242,
          246
         ],
         "y": [
          312,
          303
         ],
         "z": [
          247,
          243
         ]
        },
        {
         "hoverinfo": "text",
         "line": {
          "color": "rgba(128, 128, 128, 0.4)",
          "width": 1
         },
         "mode": "lines",
         "text": "28.48",
         "type": "scatter3d",
         "x": [
          242,
          261
         ],
         "y": [
          312,
          327
         ],
         "z": [
          247,
          262
         ]
        },
        {
         "hoverinfo": "text",
         "line": {
          "color": "rgba(128, 128, 128, 0.4)",
          "width": 1
         },
         "mode": "lines",
         "text": "55.66",
         "type": "scatter3d",
         "x": [
          244,
          285
         ],
         "y": [
          165,
          141
         ],
         "z": [
          295,
          324
         ]
        },
        {
         "hoverinfo": "text",
         "line": {
          "color": "rgba(128, 128, 128, 0.4)",
          "width": 1
         },
         "mode": "lines",
         "text": "42.49",
         "type": "scatter3d",
         "x": [
          244,
          258
         ],
         "y": [
          165,
          125
         ],
         "z": [
          295,
          292
         ]
        },
        {
         "hoverinfo": "text",
         "line": {
          "color": "rgba(128, 128, 128, 0.4)",
          "width": 1
         },
         "mode": "lines",
         "text": "9.85",
         "type": "scatter3d",
         "x": [
          244,
          244
         ],
         "y": [
          284,
          293
         ],
         "z": [
          333,
          337
         ]
        },
        {
         "hoverinfo": "text",
         "line": {
          "color": "rgba(128, 128, 128, 0.4)",
          "width": 1
         },
         "mode": "lines",
         "text": "11.79",
         "type": "scatter3d",
         "x": [
          244,
          247
         ],
         "y": [
          284,
          277
         ],
         "z": [
          333,
          324
         ]
        },
        {
         "hoverinfo": "text",
         "line": {
          "color": "rgba(128, 128, 128, 0.4)",
          "width": 1
         },
         "mode": "lines",
         "text": "45.81",
         "type": "scatter3d",
         "x": [
          244,
          229
         ],
         "y": [
          284,
          289
         ],
         "z": [
          333,
          376
         ]
        },
        {
         "hoverinfo": "text",
         "line": {
          "color": "rgba(128, 128, 128, 0.4)",
          "width": 1
         },
         "mode": "lines",
         "text": "15.30",
         "type": "scatter3d",
         "x": [
          244,
          252
         ],
         "y": [
          293,
          292
         ],
         "z": [
          337,
          350
         ]
        },
        {
         "hoverinfo": "text",
         "line": {
          "color": "rgba(128, 128, 128, 0.4)",
          "width": 1
         },
         "mode": "lines",
         "text": "30.15",
         "type": "scatter3d",
         "x": [
          246,
          264
         ],
         "y": [
          303,
          324
         ],
         "z": [
          243,
          231
         ]
        },
        {
         "hoverinfo": "text",
         "line": {
          "color": "rgba(128, 128, 128, 0.4)",
          "width": 1
         },
         "mode": "lines",
         "text": "23.37",
         "type": "scatter3d",
         "x": [
          246,
          245
         ],
         "y": [
          303,
          280
         ],
         "z": [
          243,
          239
         ]
        },
        {
         "hoverinfo": "text",
         "line": {
          "color": "rgba(128, 128, 128, 0.4)",
          "width": 1
         },
         "mode": "lines",
         "text": "34.91",
         "type": "scatter3d",
         "x": [
          246,
          257
         ],
         "y": [
          395,
          362
         ],
         "z": [
          207,
          210
         ]
        },
        {
         "hoverinfo": "text",
         "line": {
          "color": "rgba(128, 128, 128, 0.4)",
          "width": 1
         },
         "mode": "lines",
         "text": "48.88",
         "type": "scatter3d",
         "x": [
          247,
          262
         ],
         "y": [
          277,
          257
         ],
         "z": [
          324,
          282
         ]
        },
        {
         "hoverinfo": "text",
         "line": {
          "color": "rgba(128, 128, 128, 0.4)",
          "width": 1
         },
         "mode": "lines",
         "text": "63.65",
         "type": "scatter3d",
         "x": [
          249,
          204
         ],
         "y": [
          397,
          396
         ],
         "z": [
          91,
          136
         ]
        },
        {
         "hoverinfo": "text",
         "line": {
          "color": "rgba(128, 128, 128, 0.4)",
          "width": 1
         },
         "mode": "lines",
         "text": "9.85",
         "type": "scatter3d",
         "x": [
          251,
          256
         ],
         "y": [
          359,
          353
         ],
         "z": [
          224,
          218
         ]
        },
        {
         "hoverinfo": "text",
         "line": {
          "color": "rgba(128, 128, 128, 0.4)",
          "width": 1
         },
         "mode": "lines",
         "text": "57.37",
         "type": "scatter3d",
         "x": [
          253,
          302
         ],
         "y": [
          269,
          250
         ],
         "z": [
          235,
          258
         ]
        },
        {
         "hoverinfo": "text",
         "line": {
          "color": "rgba(128, 128, 128, 0.4)",
          "width": 1
         },
         "mode": "lines",
         "text": "3.74",
         "type": "scatter3d",
         "x": [
          253,
          250
         ],
         "y": [
          269,
          270
         ],
         "z": [
          235,
          233
         ]
        },
        {
         "hoverinfo": "text",
         "line": {
          "color": "rgba(128, 128, 128, 0.4)",
          "width": 1
         },
         "mode": "lines",
         "text": "14.18",
         "type": "scatter3d",
         "x": [
          253,
          245
         ],
         "y": [
          269,
          280
         ],
         "z": [
          235,
          239
         ]
        },
        {
         "hoverinfo": "text",
         "line": {
          "color": "rgba(128, 128, 128, 0.4)",
          "width": 1
         },
         "mode": "lines",
         "text": "35.40",
         "type": "scatter3d",
         "x": [
          254,
          229
         ],
         "y": [
          301,
          289
         ],
         "z": [
          398,
          376
         ]
        },
        {
         "hoverinfo": "text",
         "line": {
          "color": "rgba(128, 128, 128, 0.4)",
          "width": 1
         },
         "mode": "lines",
         "text": "10.49",
         "type": "scatter3d",
         "x": [
          255,
          258
         ],
         "y": [
          115,
          125
         ],
         "z": [
          291,
          292
         ]
        },
        {
         "hoverinfo": "text",
         "line": {
          "color": "rgba(128, 128, 128, 0.4)",
          "width": 1
         },
         "mode": "lines",
         "text": "32.77",
         "type": "scatter3d",
         "x": [
          256,
          264
         ],
         "y": [
          353,
          324
         ],
         "z": [
          218,
          231
         ]
        },
        {
         "hoverinfo": "text",
         "line": {
          "color": "rgba(128, 128, 128, 0.4)",
          "width": 1
         },
         "mode": "lines",
         "text": "12.08",
         "type": "scatter3d",
         "x": [
          256,
          257
         ],
         "y": [
          353,
          362
         ],
         "z": [
          218,
          210
         ]
        },
        {
         "hoverinfo": "text",
         "line": {
          "color": "rgba(128, 128, 128, 0.4)",
          "width": 1
         },
         "mode": "lines",
         "text": "1.41",
         "type": "scatter3d",
         "x": [
          259,
          260
         ],
         "y": [
          359,
          358
         ],
         "z": [
          136,
          136
         ]
        },
        {
         "hoverinfo": "text",
         "line": {
          "color": "rgba(128, 128, 128, 0.4)",
          "width": 1
         },
         "mode": "lines",
         "text": "25.79",
         "type": "scatter3d",
         "x": [
          260,
          270
         ],
         "y": [
          358,
          336
         ],
         "z": [
          136,
          145
         ]
        },
        {
         "hoverinfo": "text",
         "line": {
          "color": "rgba(128, 128, 128, 0.4)",
          "width": 1
         },
         "mode": "lines",
         "text": "26.12",
         "type": "scatter3d",
         "x": [
          260,
          272
         ],
         "y": [
          358,
          361
         ],
         "z": [
          136,
          113
         ]
        },
        {
         "hoverinfo": "text",
         "line": {
          "color": "rgba(128, 128, 128, 0.4)",
          "width": 1
         },
         "mode": "lines",
         "text": "47.17",
         "type": "scatter3d",
         "x": [
          262,
          302
         ],
         "y": [
          257,
          250
         ],
         "z": [
          282,
          258
         ]
        },
        {
         "hoverinfo": "text",
         "line": {
          "color": "rgba(128, 128, 128, 0.4)",
          "width": 1
         },
         "mode": "lines",
         "text": "17.97",
         "type": "scatter3d",
         "x": [
          262,
          257
         ],
         "y": [
          365,
          362
         ],
         "z": [
          193,
          210
         ]
        },
        {
         "hoverinfo": "text",
         "line": {
          "color": "rgba(128, 128, 128, 0.4)",
          "width": 1
         },
         "mode": "lines",
         "text": "18.81",
         "type": "scatter3d",
         "x": [
          264,
          281
         ],
         "y": [
          324,
          325
         ],
         "z": [
          231,
          223
         ]
        },
        {
         "hoverinfo": "text",
         "line": {
          "color": "rgba(128, 128, 128, 0.4)",
          "width": 1
         },
         "mode": "lines",
         "text": "12.08",
         "type": "scatter3d",
         "x": [
          269,
          258
         ],
         "y": [
          120,
          125
         ],
         "z": [
          292,
          292
         ]
        },
        {
         "hoverinfo": "text",
         "line": {
          "color": "rgba(128, 128, 128, 0.4)",
          "width": 1
         },
         "mode": "lines",
         "text": "9.49",
         "type": "scatter3d",
         "x": [
          270,
          273
         ],
         "y": [
          336,
          336
         ],
         "z": [
          145,
          136
         ]
        },
        {
         "hoverinfo": "text",
         "line": {
          "color": "rgba(128, 128, 128, 0.4)",
          "width": 1
         },
         "mode": "lines",
         "text": "54.78",
         "type": "scatter3d",
         "x": [
          302,
          350
         ],
         "y": [
          250,
          226
         ],
         "z": [
          258,
          269
         ]
        },
        {
         "hoverinfo": "text",
         "line": {
          "color": "rgba(128, 128, 128, 0.4)",
          "width": 1
         },
         "mode": "lines",
         "text": "1.41",
         "type": "scatter3d",
         "x": [
          350,
          350
         ],
         "y": [
          225,
          226
         ],
         "z": [
          268,
          269
         ]
        },
        {
         "hoverinfo": "text",
         "line": {
          "color": "rgba(128, 128, 128, 0.4)",
          "width": 1
         },
         "mode": "lines",
         "text": "42.92",
         "type": "scatter3d",
         "x": [
          350,
          385
         ],
         "y": [
          226,
          207
         ],
         "z": [
          269,
          285
         ]
        },
        {
         "hoverinfo": "text",
         "line": {
          "color": "rgba(128, 128, 128, 0.4)",
          "width": 1
         },
         "mode": "lines",
         "text": "6.40",
         "type": "scatter3d",
         "x": [
          385,
          387
         ],
         "y": [
          207,
          213
         ],
         "z": [
          285,
          286
         ]
        },
        {
         "hoverinfo": "text",
         "line": {
          "color": "rgba(128, 128, 128, 0.4)",
          "width": 1
         },
         "mode": "lines",
         "text": "9.90",
         "type": "scatter3d",
         "x": [
          385,
          393
         ],
         "y": [
          207,
          202
         ],
         "z": [
          285,
          288
         ]
        },
        {
         "hoverinfo": "text",
         "line": {
          "color": "rgba(128, 128, 128, 0.4)",
          "width": 1
         },
         "mode": "lines",
         "text": "72.64",
         "type": "scatter3d",
         "x": [
          393,
          415
         ],
         "y": [
          202,
          134
         ],
         "z": [
          288,
          275
         ]
        },
        {
         "hoverinfo": "text",
         "line": {
          "color": "rgba(128, 128, 128, 0.4)",
          "width": 1
         },
         "mode": "lines",
         "text": "94.85",
         "type": "scatter3d",
         "x": [
          393,
          461
         ],
         "y": [
          202,
          268
         ],
         "z": [
          288,
          292
         ]
        },
        {
         "hoverinfo": "text",
         "line": {
          "color": "rgba(128, 128, 128, 0.4)",
          "width": 1
         },
         "mode": "lines",
         "text": "17.97",
         "type": "scatter3d",
         "x": [
          412,
          415
         ],
         "y": [
          117,
          134
         ],
         "z": [
          270,
          275
         ]
        },
        {
         "hoverinfo": "text",
         "line": {
          "color": "rgba(128, 128, 128, 0.4)",
          "width": 1
         },
         "mode": "lines",
         "text": "10.20",
         "type": "scatter3d",
         "x": [
          415,
          421
         ],
         "y": [
          104,
          112
         ],
         "z": [
          259,
          261
         ]
        },
        {
         "hoverinfo": "text",
         "line": {
          "color": "rgba(128, 128, 128, 0.4)",
          "width": 1
         },
         "mode": "lines",
         "text": "10.05",
         "type": "scatter3d",
         "x": [
          415,
          422
         ],
         "y": [
          134,
          130
         ],
         "z": [
          275,
          269
         ]
        },
        {
         "hoverinfo": "text",
         "line": {
          "color": "rgba(128, 128, 128, 0.4)",
          "width": 1
         },
         "mode": "lines",
         "text": "2.83",
         "type": "scatter3d",
         "x": [
          420,
          422
         ],
         "y": [
          95,
          97
         ],
         "z": [
          250,
          250
         ]
        },
        {
         "hoverinfo": "text",
         "line": {
          "color": "rgba(128, 128, 128, 0.4)",
          "width": 1
         },
         "mode": "lines",
         "text": "1.41",
         "type": "scatter3d",
         "x": [
          420,
          421
         ],
         "y": [
          115,
          116
         ],
         "z": [
          263,
          263
         ]
        },
        {
         "hoverinfo": "text",
         "line": {
          "color": "rgba(128, 128, 128, 0.4)",
          "width": 1
         },
         "mode": "lines",
         "text": "4.24",
         "type": "scatter3d",
         "x": [
          421,
          424
         ],
         "y": [
          93,
          96
         ],
         "z": [
          247,
          247
         ]
        },
        {
         "hoverinfo": "text",
         "line": {
          "color": "rgba(128, 128, 128, 0.4)",
          "width": 1
         },
         "mode": "lines",
         "text": "4.47",
         "type": "scatter3d",
         "x": [
          421,
          421
         ],
         "y": [
          116,
          112
         ],
         "z": [
          263,
          261
         ]
        },
        {
         "hoverinfo": "text",
         "line": {
          "color": "rgba(128, 128, 128, 0.4)",
          "width": 1
         },
         "mode": "lines",
         "text": "15.26",
         "type": "scatter3d",
         "x": [
          421,
          422
         ],
         "y": [
          116,
          130
         ],
         "z": [
          263,
          269
         ]
        },
        {
         "hoverinfo": "text",
         "line": {
          "color": "rgba(128, 128, 128, 0.4)",
          "width": 1
         },
         "mode": "lines",
         "text": "7.87",
         "type": "scatter3d",
         "x": [
          422,
          427
         ],
         "y": [
          81,
          87
         ],
         "z": [
          237,
          238
         ]
        },
        {
         "hoverinfo": "text",
         "line": {
          "color": "rgba(128, 128, 128, 0.4)",
          "width": 1
         },
         "mode": "lines",
         "text": "4.24",
         "type": "scatter3d",
         "x": [
          422,
          425
         ],
         "y": [
          90,
          93
         ],
         "z": [
          244,
          244
         ]
        },
        {
         "hoverinfo": "text",
         "line": {
          "color": "rgba(128, 128, 128, 0.4)",
          "width": 1
         },
         "mode": "lines",
         "text": "3.46",
         "type": "scatter3d",
         "x": [
          424,
          426
         ],
         "y": [
          96,
          94
         ],
         "z": [
          247,
          245
         ]
        },
        {
         "hoverinfo": "text",
         "line": {
          "color": "rgba(128, 128, 128, 0.4)",
          "width": 1
         },
         "mode": "lines",
         "text": "3.74",
         "type": "scatter3d",
         "x": [
          424,
          422
         ],
         "y": [
          96,
          97
         ],
         "z": [
          247,
          250
         ]
        },
        {
         "hoverinfo": "text",
         "line": {
          "color": "rgba(128, 128, 128, 0.4)",
          "width": 1
         },
         "mode": "lines",
         "text": "1.41",
         "type": "scatter3d",
         "x": [
          425,
          426
         ],
         "y": [
          88,
          89
         ],
         "z": [
          241,
          241
         ]
        },
        {
         "hoverinfo": "text",
         "line": {
          "color": "rgba(255, 0, 0, 0.8)",
          "width": 8
         },
         "mode": "lines",
         "text": "1.00",
         "type": "scatter3d",
         "x": [
          425,
          426
         ],
         "y": [
          93,
          93
         ],
         "z": [
          244,
          244
         ]
        },
        {
         "hoverinfo": "text",
         "line": {
          "color": "rgba(255, 0, 0, 0.8)",
          "width": 8
         },
         "mode": "lines",
         "text": "1.73",
         "type": "scatter3d",
         "x": [
          425,
          426
         ],
         "y": [
          93,
          94
         ],
         "z": [
          244,
          245
         ]
        },
        {
         "hoverinfo": "text",
         "line": {
          "color": "rgba(128, 128, 128, 0.4)",
          "width": 1
         },
         "mode": "lines",
         "text": "3.74",
         "type": "scatter3d",
         "x": [
          426,
          427
         ],
         "y": [
          89,
          87
         ],
         "z": [
          241,
          238
         ]
        },
        {
         "hoverinfo": "text",
         "line": {
          "color": "rgba(128, 128, 128, 0.4)",
          "width": 1
         },
         "mode": "lines",
         "text": "3.32",
         "type": "scatter3d",
         "x": [
          426,
          427
         ],
         "y": [
          89,
          92
         ],
         "z": [
          241,
          242
         ]
        },
        {
         "hoverinfo": "text",
         "line": {
          "color": "rgba(255, 0, 0, 0.8)",
          "width": 8
         },
         "mode": "lines",
         "text": "1.41",
         "type": "scatter3d",
         "x": [
          426,
          426
         ],
         "y": [
          93,
          94
         ],
         "z": [
          244,
          245
         ]
        },
        {
         "hoverinfo": "text",
         "line": {
          "color": "rgba(128, 128, 128, 0.4)",
          "width": 1
         },
         "mode": "lines",
         "text": "2.45",
         "type": "scatter3d",
         "x": [
          426,
          427
         ],
         "y": [
          93,
          92
         ],
         "z": [
          244,
          242
         ]
        },
        {
         "hoverinfo": "text",
         "line": {
          "color": "rgba(128, 128, 128, 0.4)",
          "width": 1
         },
         "mode": "lines",
         "text": "8.19",
         "type": "scatter3d",
         "x": [
          426,
          433
         ],
         "y": [
          94,
          97
         ],
         "z": [
          245,
          242
         ]
        },
        {
         "hoverinfo": "text",
         "line": {
          "color": "rgba(128, 128, 128, 0.4)",
          "width": 1
         },
         "mode": "lines",
         "text": "5.83",
         "type": "scatter3d",
         "x": [
          427,
          430
         ],
         "y": [
          87,
          84
         ],
         "z": [
          238,
          234
         ]
        },
        {
         "hoverinfo": "text",
         "line": {
          "color": "rgba(128, 128, 128, 0.4)",
          "width": 1
         },
         "mode": "lines",
         "text": "8.37",
         "type": "scatter3d",
         "x": [
          428,
          422
         ],
         "y": [
          127,
          130
         ],
         "z": [
          264,
          269
         ]
        },
        {
         "hoverinfo": "text",
         "line": {
          "color": "rgba(128, 128, 128, 0.4)",
          "width": 1
         },
         "mode": "lines",
         "text": "9.27",
         "type": "scatter3d",
         "x": [
          430,
          437
         ],
         "y": [
          84,
          85
         ],
         "z": [
          234,
          228
         ]
        },
        {
         "hoverinfo": "text",
         "line": {
          "color": "rgba(128, 128, 128, 0.4)",
          "width": 1
         },
         "mode": "lines",
         "text": "14.73",
         "type": "scatter3d",
         "x": [
          430,
          433
         ],
         "y": [
          84,
          76
         ],
         "z": [
          234,
          222
         ]
        },
        {
         "hoverinfo": "text",
         "line": {
          "color": "rgba(128, 128, 128, 0.4)",
          "width": 1
         },
         "mode": "lines",
         "text": "10.82",
         "type": "scatter3d",
         "x": [
          436,
          436
         ],
         "y": [
          69,
          75
         ],
         "z": [
          207,
          216
         ]
        },
        {
         "hoverinfo": "text",
         "line": {
          "color": "rgba(128, 128, 128, 0.4)",
          "width": 1
         },
         "mode": "lines",
         "text": "3.61",
         "type": "scatter3d",
         "x": [
          439,
          436
         ],
         "y": [
          77,
          75
         ],
         "z": [
          216,
          216
         ]
        },
        {
         "hoverinfo": "text",
         "line": {
          "color": "rgba(128, 128, 128, 0.4)",
          "width": 1
         },
         "mode": "lines",
         "text": "9.22",
         "type": "scatter3d",
         "x": [
          440,
          433
         ],
         "y": [
          82,
          76
         ],
         "z": [
          222,
          222
         ]
        },
        {
         "hoverinfo": "text",
         "line": {
          "color": "rgba(128, 128, 128, 0.4)",
          "width": 1
         },
         "mode": "lines",
         "text": "17.61",
         "type": "scatter3d",
         "x": [
          442,
          427
         ],
         "y": [
          94,
          92
         ],
         "z": [
          233,
          242
         ]
        },
        {
         "hoverinfo": "text",
         "line": {
          "color": "rgba(128, 128, 128, 0.4)",
          "width": 1
         },
         "mode": "lines",
         "text": "52.29",
         "type": "scatter3d",
         "x": [
          442,
          465
         ],
         "y": [
          135,
          177
         ],
         "z": [
          341,
          362
         ]
        },
        {
         "hoverinfo": "text",
         "line": {
          "color": "rgba(128, 128, 128, 0.4)",
          "width": 1
         },
         "mode": "lines",
         "text": "25.24",
         "type": "scatter3d",
         "x": [
          444,
          423
         ],
         "y": [
          99,
          99
         ],
         "z": [
          236,
          250
         ]
        },
        {
         "hoverinfo": "text",
         "line": {
          "color": "rgba(128, 128, 128, 0.4)",
          "width": 1
         },
         "mode": "lines",
         "text": "66.14",
         "type": "scatter3d",
         "x": [
          444,
          490
         ],
         "y": [
          275,
          282
         ],
         "z": [
          412,
          365
         ]
        },
        {
         "hoverinfo": "text",
         "line": {
          "color": "rgba(128, 128, 128, 0.4)",
          "width": 1
         },
         "mode": "lines",
         "text": "25.32",
         "type": "scatter3d",
         "x": [
          447,
          465
         ],
         "y": [
          191,
          177
         ],
         "z": [
          373,
          362
         ]
        },
        {
         "hoverinfo": "text",
         "line": {
          "color": "rgba(128, 128, 128, 0.4)",
          "width": 1
         },
         "mode": "lines",
         "text": "26.25",
         "type": "scatter3d",
         "x": [
          458,
          472
         ],
         "y": [
          386,
          399
         ],
         "z": [
          112,
          130
         ]
        },
        {
         "hoverinfo": "text",
         "line": {
          "color": "rgba(128, 128, 128, 0.4)",
          "width": 1
         },
         "mode": "lines",
         "text": "22.76",
         "type": "scatter3d",
         "x": [
          461,
          474
         ],
         "y": [
          268,
          286
         ],
         "z": [
          292,
          287
         ]
        },
        {
         "hoverinfo": "text",
         "line": {
          "color": "rgba(128, 128, 128, 0.4)",
          "width": 1
         },
         "mode": "lines",
         "text": "25.02",
         "type": "scatter3d",
         "x": [
          461,
          481
         ],
         "y": [
          268,
          269
         ],
         "z": [
          292,
          307
         ]
        },
        {
         "hoverinfo": "text",
         "line": {
          "color": "rgba(128, 128, 128, 0.4)",
          "width": 1
         },
         "mode": "lines",
         "text": "10.68",
         "type": "scatter3d",
         "x": [
          465,
          472
         ],
         "y": [
          407,
          399
         ],
         "z": [
          131,
          130
         ]
        },
        {
         "hoverinfo": "text",
         "line": {
          "color": "rgba(128, 128, 128, 0.4)",
          "width": 1
         },
         "mode": "lines",
         "text": "27.24",
         "type": "scatter3d",
         "x": [
          466,
          475
         ],
         "y": [
          400,
          406
         ],
         "z": [
          70,
          95
         ]
        },
        {
         "hoverinfo": "text",
         "line": {
          "color": "rgba(128, 128, 128, 0.4)",
          "width": 1
         },
         "mode": "lines",
         "text": "50.58",
         "type": "scatter3d",
         "x": [
          468,
          474
         ],
         "y": [
          178,
          129
         ],
         "z": [
          360,
          349
         ]
        },
        {
         "hoverinfo": "text",
         "line": {
          "color": "rgba(128, 128, 128, 0.4)",
          "width": 1
         },
         "mode": "lines",
         "text": "3.74",
         "type": "scatter3d",
         "x": [
          468,
          465
         ],
         "y": [
          178,
          177
         ],
         "z": [
          360,
          362
         ]
        },
        {
         "hoverinfo": "text",
         "line": {
          "color": "rgba(128, 128, 128, 0.4)",
          "width": 1
         },
         "mode": "lines",
         "text": "7.68",
         "type": "scatter3d",
         "x": [
          468,
          471
         ],
         "y": [
          178,
          185
         ],
         "z": [
          360,
          361
         ]
        },
        {
         "hoverinfo": "text",
         "line": {
          "color": "rgba(128, 128, 128, 0.4)",
          "width": 1
         },
         "mode": "lines",
         "text": "8.60",
         "type": "scatter3d",
         "x": [
          470,
          471
         ],
         "y": [
          188,
          185
         ],
         "z": [
          353,
          361
         ]
        },
        {
         "hoverinfo": "text",
         "line": {
          "color": "rgba(128, 128, 128, 0.4)",
          "width": 1
         },
         "mode": "lines",
         "text": "40.02",
         "type": "scatter3d",
         "x": [
          470,
          493
         ],
         "y": [
          374,
          357
         ],
         "z": [
          320,
          292
         ]
        },
        {
         "hoverinfo": "text",
         "line": {
          "color": "rgba(128, 128, 128, 0.4)",
          "width": 1
         },
         "mode": "lines",
         "text": "54.08",
         "type": "scatter3d",
         "x": [
          472,
          492
         ],
         "y": [
          321,
          284
         ],
         "z": [
          409,
          375
         ]
        },
        {
         "hoverinfo": "text",
         "line": {
          "color": "rgba(128, 128, 128, 0.4)",
          "width": 1
         },
         "mode": "lines",
         "text": "9.22",
         "type": "scatter3d",
         "x": [
          472,
          481
         ],
         "y": [
          399,
          399
         ],
         "z": [
          130,
          132
         ]
        },
        {
         "hoverinfo": "text",
         "line": {
          "color": "rgba(128, 128, 128, 0.4)",
          "width": 1
         },
         "mode": "lines",
         "text": "1.41",
         "type": "scatter3d",
         "x": [
          474,
          475
         ],
         "y": [
          286,
          286
         ],
         "z": [
          287,
          288
         ]
        },
        {
         "hoverinfo": "text",
         "line": {
          "color": "rgba(128, 128, 128, 0.4)",
          "width": 1
         },
         "mode": "lines",
         "text": "25.08",
         "type": "scatter3d",
         "x": [
          474,
          490
         ],
         "y": [
          286,
          304
         ],
         "z": [
          287,
          280
         ]
        },
        {
         "hoverinfo": "text",
         "line": {
          "color": "rgba(128, 128, 128, 0.4)",
          "width": 1
         },
         "mode": "lines",
         "text": "16.40",
         "type": "scatter3d",
         "x": [
          474,
          486
         ],
         "y": [
          337,
          332
         ],
         "z": [
          360,
          350
         ]
        },
        {
         "hoverinfo": "text",
         "line": {
          "color": "rgba(128, 128, 128, 0.4)",
          "width": 1
         },
         "mode": "lines",
         "text": "38.13",
         "type": "scatter3d",
         "x": [
          475,
          481
         ],
         "y": [
          406,
          399
         ],
         "z": [
          95,
          132
         ]
        },
        {
         "hoverinfo": "text",
         "line": {
          "color": "rgba(128, 128, 128, 0.4)",
          "width": 1
         },
         "mode": "lines",
         "text": "52.51",
         "type": "scatter3d",
         "x": [
          475,
          498
         ],
         "y": [
          406,
          434
         ],
         "z": [
          95,
          57
         ]
        },
        {
         "hoverinfo": "text",
         "line": {
          "color": "rgba(128, 128, 128, 0.4)",
          "width": 1
         },
         "mode": "lines",
         "text": "6.63",
         "type": "scatter3d",
         "x": [
          481,
          487
         ],
         "y": [
          269,
          267
         ],
         "z": [
          307,
          305
         ]
        },
        {
         "hoverinfo": "text",
         "line": {
          "color": "rgba(128, 128, 128, 0.4)",
          "width": 1
         },
         "mode": "lines",
         "text": "54.53",
         "type": "scatter3d",
         "x": [
          481,
          499
         ],
         "y": [
          269,
          314
         ],
         "z": [
          307,
          332
         ]
        },
        {
         "hoverinfo": "text",
         "line": {
          "color": "rgba(128, 128, 128, 0.4)",
          "width": 1
         },
         "mode": "lines",
         "text": "34.03",
         "type": "scatter3d",
         "x": [
          481,
          495
         ],
         "y": [
          399,
          388
         ],
         "z": [
          132,
          161
         ]
        },
        {
         "hoverinfo": "text",
         "line": {
          "color": "rgba(128, 128, 128, 0.4)",
          "width": 1
         },
         "mode": "lines",
         "text": "13.60",
         "type": "scatter3d",
         "x": [
          483,
          493
         ],
         "y": [
          258,
          265
         ],
         "z": [
          411,
          405
         ]
        },
        {
         "hoverinfo": "text",
         "line": {
          "color": "rgba(128, 128, 128, 0.4)",
          "width": 1
         },
         "mode": "lines",
         "text": "25.48",
         "type": "scatter3d",
         "x": [
          484,
          492
         ],
         "y": [
          375,
          372
         ],
         "z": [
          201,
          225
         ]
        },
        {
         "hoverinfo": "text",
         "line": {
          "color": "rgba(128, 128, 128, 0.4)",
          "width": 1
         },
         "mode": "lines",
         "text": "52.48",
         "type": "scatter3d",
         "x": [
          484,
          492
         ],
         "y": [
          415,
          372
         ],
         "z": [
          196,
          225
         ]
        },
        {
         "hoverinfo": "text",
         "line": {
          "color": "rgba(128, 128, 128, 0.4)",
          "width": 1
         },
         "mode": "lines",
         "text": "39.76",
         "type": "scatter3d",
         "x": [
          486,
          506
         ],
         "y": [
          109,
          143
         ],
         "z": [
          296,
          301
         ]
        },
        {
         "hoverinfo": "text",
         "line": {
          "color": "rgba(128, 128, 128, 0.4)",
          "width": 1
         },
         "mode": "lines",
         "text": "101.93",
         "type": "scatter3d",
         "x": [
          487,
          556
         ],
         "y": [
          267,
          197
         ],
         "z": [
          305,
          278
         ]
        },
        {
         "hoverinfo": "text",
         "line": {
          "color": "rgba(128, 128, 128, 0.4)",
          "width": 1
         },
         "mode": "lines",
         "text": "12.69",
         "type": "scatter3d",
         "x": [
          487,
          498
         ],
         "y": [
          267,
          265
         ],
         "z": [
          305,
          311
         ]
        },
        {
         "hoverinfo": "text",
         "line": {
          "color": "rgba(128, 128, 128, 0.4)",
          "width": 1
         },
         "mode": "lines",
         "text": "13.67",
         "type": "scatter3d",
         "x": [
          489,
          498
         ],
         "y": [
          352,
          347
         ],
         "z": [
          276,
          285
         ]
        },
        {
         "hoverinfo": "text",
         "line": {
          "color": "rgba(128, 128, 128, 0.4)",
          "width": 1
         },
         "mode": "lines",
         "text": "30.23",
         "type": "scatter3d",
         "x": [
          490,
          507
         ],
         "y": [
          203,
          179
         ],
         "z": [
          360,
          367
         ]
        },
        {
         "hoverinfo": "text",
         "line": {
          "color": "rgba(128, 128, 128, 0.4)",
          "width": 1
         },
         "mode": "lines",
         "text": "14.53",
         "type": "scatter3d",
         "x": [
          490,
          499
         ],
         "y": [
          203,
          212
         ],
         "z": [
          360,
          353
         ]
        },
        {
         "hoverinfo": "text",
         "line": {
          "color": "rgba(128, 128, 128, 0.4)",
          "width": 1
         },
         "mode": "lines",
         "text": "26.19",
         "type": "scatter3d",
         "x": [
          490,
          471
         ],
         "y": [
          203,
          185
         ],
         "z": [
          360,
          361
         ]
        },
        {
         "hoverinfo": "text",
         "line": {
          "color": "rgba(128, 128, 128, 0.4)",
          "width": 1
         },
         "mode": "lines",
         "text": "10.39",
         "type": "scatter3d",
         "x": [
          490,
          492
         ],
         "y": [
          282,
          284
         ],
         "z": [
          365,
          375
         ]
        },
        {
         "hoverinfo": "text",
         "line": {
          "color": "rgba(128, 128, 128, 0.4)",
          "width": 1
         },
         "mode": "lines",
         "text": "30.33",
         "type": "scatter3d",
         "x": [
          490,
          500
         ],
         "y": [
          282,
          270
         ],
         "z": [
          365,
          339
         ]
        },
        {
         "hoverinfo": "text",
         "line": {
          "color": "rgba(128, 128, 128, 0.4)",
          "width": 1
         },
         "mode": "lines",
         "text": "4.12",
         "type": "scatter3d",
         "x": [
          492,
          494
         ],
         "y": [
          284,
          282
         ],
         "z": [
          375,
          378
         ]
        },
        {
         "hoverinfo": "text",
         "line": {
          "color": "rgba(128, 128, 128, 0.4)",
          "width": 1
         },
         "mode": "lines",
         "text": "84.94",
         "type": "scatter3d",
         "x": [
          492,
          537
         ],
         "y": [
          285,
          302
         ],
         "z": [
          83,
          153
         ]
        },
        {
         "hoverinfo": "text",
         "line": {
          "color": "rgba(128, 128, 128, 0.4)",
          "width": 1
         },
         "mode": "lines",
         "text": "24.17",
         "type": "scatter3d",
         "x": [
          492,
          510
         ],
         "y": [
          372,
          364
         ],
         "z": [
          225,
          239
         ]
        },
        {
         "hoverinfo": "text",
         "line": {
          "color": "rgba(128, 128, 128, 0.4)",
          "width": 1
         },
         "mode": "lines",
         "text": "38.41",
         "type": "scatter3d",
         "x": [
          492,
          517
         ],
         "y": [
          423,
          394
         ],
         "z": [
          241,
          244
         ]
        },
        {
         "hoverinfo": "text",
         "line": {
          "color": "rgba(128, 128, 128, 0.4)",
          "width": 1
         },
         "mode": "lines",
         "text": "10.68",
         "type": "scatter3d",
         "x": [
          493,
          500
         ],
         "y": [
          265,
          258
         ],
         "z": [
          405,
          409
         ]
        },
        {
         "hoverinfo": "text",
         "line": {
          "color": "rgba(128, 128, 128, 0.4)",
          "width": 1
         },
         "mode": "lines",
         "text": "14.87",
         "type": "scatter3d",
         "x": [
          493,
          499
         ],
         "y": [
          265,
          276
         ],
         "z": [
          405,
          397
         ]
        },
        {
         "hoverinfo": "text",
         "line": {
          "color": "rgba(128, 128, 128, 0.4)",
          "width": 1
         },
         "mode": "lines",
         "text": "27.22",
         "type": "scatter3d",
         "x": [
          494,
          519
         ],
         "y": [
          282,
          272
         ],
         "z": [
          378,
          382
         ]
        },
        {
         "hoverinfo": "text",
         "line": {
          "color": "rgba(128, 128, 128, 0.4)",
          "width": 1
         },
         "mode": "lines",
         "text": "20.54",
         "type": "scatter3d",
         "x": [
          494,
          499
         ],
         "y": [
          282,
          276
         ],
         "z": [
          378,
          397
         ]
        },
        {
         "hoverinfo": "text",
         "line": {
          "color": "rgba(128, 128, 128, 0.4)",
          "width": 1
         },
         "mode": "lines",
         "text": "3.74",
         "type": "scatter3d",
         "x": [
          495,
          496
         ],
         "y": [
          308,
          305
         ],
         "z": [
          275,
          273
         ]
        },
        {
         "hoverinfo": "text",
         "line": {
          "color": "rgba(128, 128, 128, 0.4)",
          "width": 1
         },
         "mode": "lines",
         "text": "11.09",
         "type": "scatter3d",
         "x": [
          495,
          502
         ],
         "y": [
          308,
          315
         ],
         "z": [
          275,
          270
         ]
        },
        {
         "hoverinfo": "text",
         "line": {
          "color": "rgba(128, 128, 128, 0.4)",
          "width": 1
         },
         "mode": "lines",
         "text": "8.12",
         "type": "scatter3d",
         "x": [
          495,
          490
         ],
         "y": [
          308,
          304
         ],
         "z": [
          275,
          280
         ]
        },
        {
         "hoverinfo": "text",
         "line": {
          "color": "rgba(128, 128, 128, 0.4)",
          "width": 1
         },
         "mode": "lines",
         "text": "27.48",
         "type": "scatter3d",
         "x": [
          495,
          486
         ],
         "y": [
          357,
          332
         ],
         "z": [
          357,
          350
         ]
        },
        {
         "hoverinfo": "text",
         "line": {
          "color": "rgba(128, 128, 128, 0.4)",
          "width": 1
         },
         "mode": "lines",
         "text": "55.70",
         "type": "scatter3d",
         "x": [
          495,
          512
         ],
         "y": [
          388,
          350
         ],
         "z": [
          161,
          198
         ]
        },
        {
         "hoverinfo": "text",
         "line": {
          "color": "rgba(128, 128, 128, 0.4)",
          "width": 1
         },
         "mode": "lines",
         "text": "35.74",
         "type": "scatter3d",
         "x": [
          495,
          517
         ],
         "y": [
          388,
          415
         ],
         "z": [
          161,
          153
         ]
        },
        {
         "hoverinfo": "text",
         "line": {
          "color": "rgba(128, 128, 128, 0.4)",
          "width": 1
         },
         "mode": "lines",
         "text": "26.25",
         "type": "scatter3d",
         "x": [
          496,
          503
         ],
         "y": [
          293,
          285
         ],
         "z": [
          433,
          409
         ]
        },
        {
         "hoverinfo": "text",
         "line": {
          "color": "rgba(128, 128, 128, 0.4)",
          "width": 1
         },
         "mode": "lines",
         "text": "53.35",
         "type": "scatter3d",
         "x": [
          499,
          521
         ],
         "y": [
          339,
          368
         ],
         "z": [
          106,
          145
         ]
        },
        {
         "hoverinfo": "text",
         "line": {
          "color": "rgba(128, 128, 128, 0.4)",
          "width": 1
         },
         "mode": "lines",
         "text": "32.51",
         "type": "scatter3d",
         "x": [
          499,
          517
         ],
         "y": [
          351,
          378
         ],
         "z": [
          285,
          283
         ]
        },
        {
         "hoverinfo": "text",
         "line": {
          "color": "rgba(128, 128, 128, 0.4)",
          "width": 1
         },
         "mode": "lines",
         "text": "4.12",
         "type": "scatter3d",
         "x": [
          499,
          498
         ],
         "y": [
          351,
          347
         ],
         "z": [
          285,
          285
         ]
        },
        {
         "hoverinfo": "text",
         "line": {
          "color": "rgba(128, 128, 128, 0.4)",
          "width": 1
         },
         "mode": "lines",
         "text": "11.00",
         "type": "scatter3d",
         "x": [
          499,
          493
         ],
         "y": [
          351,
          357
         ],
         "z": [
          285,
          292
         ]
        },
        {
         "hoverinfo": "text",
         "line": {
          "color": "rgba(128, 128, 128, 0.4)",
          "width": 1
         },
         "mode": "lines",
         "text": "40.15",
         "type": "scatter3d",
         "x": [
          499,
          493
         ],
         "y": [
          387,
          357
         ],
         "z": [
          318,
          292
         ]
        },
        {
         "hoverinfo": "text",
         "line": {
          "color": "rgba(128, 128, 128, 0.4)",
          "width": 1
         },
         "mode": "lines",
         "text": "45.72",
         "type": "scatter3d",
         "x": [
          500,
          535
         ],
         "y": [
          270,
          294
         ],
         "z": [
          339,
          356
         ]
        },
        {
         "hoverinfo": "text",
         "line": {
          "color": "rgba(128, 128, 128, 0.4)",
          "width": 1
         },
         "mode": "lines",
         "text": "28.51",
         "type": "scatter3d",
         "x": [
          500,
          498
         ],
         "y": [
          270,
          265
         ],
         "z": [
          339,
          311
         ]
        },
        {
         "hoverinfo": "text",
         "line": {
          "color": "rgba(128, 128, 128, 0.4)",
          "width": 1
         },
         "mode": "lines",
         "text": "35.57",
         "type": "scatter3d",
         "x": [
          502,
          498
         ],
         "y": [
          315,
          347
         ],
         "z": [
          270,
          285
         ]
        },
        {
         "hoverinfo": "text",
         "line": {
          "color": "rgba(128, 128, 128, 0.4)",
          "width": 1
         },
         "mode": "lines",
         "text": "18.49",
         "type": "scatter3d",
         "x": [
          502,
          513
         ],
         "y": [
          315,
          320
         ],
         "z": [
          270,
          256
         ]
        },
        {
         "hoverinfo": "text",
         "line": {
          "color": "rgba(128, 128, 128, 0.4)",
          "width": 1
         },
         "mode": "lines",
         "text": "36.81",
         "type": "scatter3d",
         "x": [
          506,
          513
         ],
         "y": [
          143,
          178
         ],
         "z": [
          301,
          310
         ]
        },
        {
         "hoverinfo": "text",
         "line": {
          "color": "rgba(128, 128, 128, 0.4)",
          "width": 1
         },
         "mode": "lines",
         "text": "27.15",
         "type": "scatter3d",
         "x": [
          506,
          516
         ],
         "y": [
          143,
          122
         ],
         "z": [
          301,
          287
         ]
        },
        {
         "hoverinfo": "text",
         "line": {
          "color": "rgba(128, 128, 128, 0.4)",
          "width": 1
         },
         "mode": "lines",
         "text": "38.16",
         "type": "scatter3d",
         "x": [
          508,
          512
         ],
         "y": [
          346,
          334
         ],
         "z": [
          397,
          361
         ]
        },
        {
         "hoverinfo": "text",
         "line": {
          "color": "rgba(128, 128, 128, 0.4)",
          "width": 1
         },
         "mode": "lines",
         "text": "20.90",
         "type": "scatter3d",
         "x": [
          511,
          517
         ],
         "y": [
          398,
          378
         ],
         "z": [
          284,
          283
         ]
        },
        {
         "hoverinfo": "text",
         "line": {
          "color": "rgba(128, 128, 128, 0.4)",
          "width": 1
         },
         "mode": "lines",
         "text": "43.27",
         "type": "scatter3d",
         "x": [
          512,
          516
         ],
         "y": [
          350,
          334
         ],
         "z": [
          198,
          238
         ]
        },
        {
         "hoverinfo": "text",
         "line": {
          "color": "rgba(128, 128, 128, 0.4)",
          "width": 1
         },
         "mode": "lines",
         "text": "18.47",
         "type": "scatter3d",
         "x": [
          512,
          524
         ],
         "y": [
          350,
          351
         ],
         "z": [
          198,
          184
         ]
        },
        {
         "hoverinfo": "text",
         "line": {
          "color": "rgba(128, 128, 128, 0.4)",
          "width": 1
         },
         "mode": "lines",
         "text": "26.93",
         "type": "scatter3d",
         "x": [
          513,
          523
         ],
         "y": [
          178,
          202
         ],
         "z": [
          310,
          317
         ]
        },
        {
         "hoverinfo": "text",
         "line": {
          "color": "rgba(128, 128, 128, 0.4)",
          "width": 1
         },
         "mode": "lines",
         "text": "28.67",
         "type": "scatter3d",
         "x": [
          513,
          532
         ],
         "y": [
          178,
          159
         ],
         "z": [
          310,
          320
         ]
        },
        {
         "hoverinfo": "text",
         "line": {
          "color": "rgba(128, 128, 128, 0.4)",
          "width": 1
         },
         "mode": "lines",
         "text": "12.96",
         "type": "scatter3d",
         "x": [
          513,
          503
         ],
         "y": [
          293,
          285
         ],
         "z": [
          411,
          409
         ]
        },
        {
         "hoverinfo": "text",
         "line": {
          "color": "rgba(128, 128, 128, 0.4)",
          "width": 1
         },
         "mode": "lines",
         "text": "35.93",
         "type": "scatter3d",
         "x": [
          514,
          517
         ],
         "y": [
          436,
          415
         ],
         "z": [
          124,
          153
         ]
        },
        {
         "hoverinfo": "text",
         "line": {
          "color": "rgba(128, 128, 128, 0.4)",
          "width": 1
         },
         "mode": "lines",
         "text": "14.18",
         "type": "scatter3d",
         "x": [
          516,
          517
         ],
         "y": [
          334,
          324
         ],
         "z": [
          238,
          248
         ]
        },
        {
         "hoverinfo": "text",
         "line": {
          "color": "rgba(128, 128, 128, 0.4)",
          "width": 1
         },
         "mode": "lines",
         "text": "30.61",
         "type": "scatter3d",
         "x": [
          516,
          510
         ],
         "y": [
          334,
          364
         ],
         "z": [
          238,
          239
         ]
        },
        {
         "hoverinfo": "text",
         "line": {
          "color": "rgba(128, 128, 128, 0.4)",
          "width": 1
         },
         "mode": "lines",
         "text": "9.80",
         "type": "scatter3d",
         "x": [
          517,
          513
         ],
         "y": [
          324,
          320
         ],
         "z": [
          248,
          256
         ]
        },
        {
         "hoverinfo": "text",
         "line": {
          "color": "rgba(128, 128, 128, 0.4)",
          "width": 1
         },
         "mode": "lines",
         "text": "10.82",
         "type": "scatter3d",
         "x": [
          517,
          524
         ],
         "y": [
          324,
          322
         ],
         "z": [
          248,
          240
         ]
        },
        {
         "hoverinfo": "text",
         "line": {
          "color": "rgba(128, 128, 128, 0.4)",
          "width": 1
         },
         "mode": "lines",
         "text": "41.29",
         "type": "scatter3d",
         "x": [
          517,
          551
         ],
         "y": [
          378,
          393
         ],
         "z": [
          283,
          301
         ]
        },
        {
         "hoverinfo": "text",
         "line": {
          "color": "rgba(128, 128, 128, 0.4)",
          "width": 1
         },
         "mode": "lines",
         "text": "33.26",
         "type": "scatter3d",
         "x": [
          517,
          526
         ],
         "y": [
          394,
          419
         ],
         "z": [
          244,
          224
         ]
        },
        {
         "hoverinfo": "text",
         "line": {
          "color": "rgba(128, 128, 128, 0.4)",
          "width": 1
         },
         "mode": "lines",
         "text": "31.21",
         "type": "scatter3d",
         "x": [
          517,
          510
         ],
         "y": [
          394,
          364
         ],
         "z": [
          244,
          239
         ]
        },
        {
         "hoverinfo": "text",
         "line": {
          "color": "rgba(128, 128, 128, 0.4)",
          "width": 1
         },
         "mode": "lines",
         "text": "9.27",
         "type": "scatter3d",
         "x": [
          517,
          522
         ],
         "y": [
          415,
          421
         ],
         "z": [
          153,
          158
         ]
        },
        {
         "hoverinfo": "text",
         "line": {
          "color": "rgba(128, 128, 128, 0.4)",
          "width": 1
         },
         "mode": "lines",
         "text": "23.87",
         "type": "scatter3d",
         "x": [
          519,
          523
         ],
         "y": [
          225,
          202
         ],
         "z": [
          322,
          317
         ]
        },
        {
         "hoverinfo": "text",
         "line": {
          "color": "rgba(128, 128, 128, 0.4)",
          "width": 1
         },
         "mode": "lines",
         "text": "39.12",
         "type": "scatter3d",
         "x": [
          519,
          499
         ],
         "y": [
          225,
          212
         ],
         "z": [
          322,
          353
         ]
        },
        {
         "hoverinfo": "text",
         "line": {
          "color": "rgba(128, 128, 128, 0.4)",
          "width": 1
         },
         "mode": "lines",
         "text": "2.45",
         "type": "scatter3d",
         "x": [
          519,
          520
         ],
         "y": [
          225,
          227
         ],
         "z": [
          322,
          321
         ]
        },
        {
         "hoverinfo": "text",
         "line": {
          "color": "rgba(128, 128, 128, 0.4)",
          "width": 1
         },
         "mode": "lines",
         "text": "21.91",
         "type": "scatter3d",
         "x": [
          520,
          512
         ],
         "y": [
          354,
          334
         ],
         "z": [
          365,
          361
         ]
        },
        {
         "hoverinfo": "text",
         "line": {
          "color": "rgba(128, 128, 128, 0.4)",
          "width": 1
         },
         "mode": "lines",
         "text": "42.65",
         "type": "scatter3d",
         "x": [
          521,
          524
         ],
         "y": [
          368,
          351
         ],
         "z": [
          145,
          184
         ]
        },
        {
         "hoverinfo": "text",
         "line": {
          "color": "rgba(128, 128, 128, 0.4)",
          "width": 1
         },
         "mode": "lines",
         "text": "110.15",
         "type": "scatter3d",
         "x": [
          521,
          549
         ],
         "y": [
          368,
          436
         ],
         "z": [
          145,
          63
         ]
        },
        {
         "hoverinfo": "text",
         "line": {
          "color": "rgba(128, 128, 128, 0.4)",
          "width": 1
         },
         "mode": "lines",
         "text": "31.16",
         "type": "scatter3d",
         "x": [
          523,
          548
         ],
         "y": [
          202,
          191
         ],
         "z": [
          317,
          332
         ]
        },
        {
         "hoverinfo": "text",
         "line": {
          "color": "rgba(128, 128, 128, 0.4)",
          "width": 1
         },
         "mode": "lines",
         "text": "30.23",
         "type": "scatter3d",
         "x": [
          524,
          553
         ],
         "y": [
          351,
          348
         ],
         "z": [
          184,
          176
         ]
        },
        {
         "hoverinfo": "text",
         "line": {
          "color": "rgba(128, 128, 128, 0.4)",
          "width": 1
         },
         "mode": "lines",
         "text": "36.91",
         "type": "scatter3d",
         "x": [
          530,
          499
         ],
         "y": [
          213,
          212
         ],
         "z": [
          373,
          353
         ]
        },
        {
         "hoverinfo": "text",
         "line": {
          "color": "rgba(128, 128, 128, 0.4)",
          "width": 1
         },
         "mode": "lines",
         "text": "21.49",
         "type": "scatter3d",
         "x": [
          531,
          532
         ],
         "y": [
          320,
          310
         ],
         "z": [
          215,
          196
         ]
        },
        {
         "hoverinfo": "text",
         "line": {
          "color": "rgba(128, 128, 128, 0.4)",
          "width": 1
         },
         "mode": "lines",
         "text": "16.88",
         "type": "scatter3d",
         "x": [
          531,
          539
         ],
         "y": [
          320,
          334
         ],
         "z": [
          215,
          210
         ]
        },
        {
         "hoverinfo": "text",
         "line": {
          "color": "rgba(128, 128, 128, 0.4)",
          "width": 1
         },
         "mode": "lines",
         "text": "26.04",
         "type": "scatter3d",
         "x": [
          531,
          524
         ],
         "y": [
          320,
          322
         ],
         "z": [
          215,
          240
         ]
        },
        {
         "hoverinfo": "text",
         "line": {
          "color": "rgba(128, 128, 128, 0.4)",
          "width": 1
         },
         "mode": "lines",
         "text": "44.02",
         "type": "scatter3d",
         "x": [
          532,
          537
         ],
         "y": [
          310,
          302
         ],
         "z": [
          196,
          153
         ]
        },
        {
         "hoverinfo": "text",
         "line": {
          "color": "rgba(128, 128, 128, 0.4)",
          "width": 1
         },
         "mode": "lines",
         "text": "45.12",
         "type": "scatter3d",
         "x": [
          532,
          574
         ],
         "y": [
          310,
          314
         ],
         "z": [
          196,
          180
         ]
        },
        {
         "hoverinfo": "text",
         "line": {
          "color": "rgba(128, 128, 128, 0.4)",
          "width": 1
         },
         "mode": "lines",
         "text": "48.92",
         "type": "scatter3d",
         "x": [
          537,
          575
         ],
         "y": [
          302,
          277
         ],
         "z": [
          153,
          135
         ]
        },
        {
         "hoverinfo": "text",
         "line": {
          "color": "rgba(128, 128, 128, 0.4)",
          "width": 1
         },
         "mode": "lines",
         "text": "27.00",
         "type": "scatter3d",
         "x": [
          537,
          539
         ],
         "y": [
          360,
          334
         ],
         "z": [
          217,
          210
         ]
        },
        {
         "hoverinfo": "text",
         "line": {
          "color": "rgba(128, 128, 128, 0.4)",
          "width": 1
         },
         "mode": "lines",
         "text": "35.40",
         "type": "scatter3d",
         "x": [
          537,
          555
         ],
         "y": [
          360,
          383
         ],
         "z": [
          217,
          237
         ]
        },
        {
         "hoverinfo": "text",
         "line": {
          "color": "rgba(128, 128, 128, 0.4)",
          "width": 1
         },
         "mode": "lines",
         "text": "29.07",
         "type": "scatter3d",
         "x": [
          537,
          550
         ],
         "y": [
          360,
          384
         ],
         "z": [
          217,
          207
         ]
        },
        {
         "hoverinfo": "text",
         "line": {
          "color": "rgba(128, 128, 128, 0.4)",
          "width": 1
         },
         "mode": "lines",
         "text": "20.93",
         "type": "scatter3d",
         "x": [
          539,
          553
         ],
         "y": [
          334,
          345
         ],
         "z": [
          210,
          221
         ]
        },
        {
         "hoverinfo": "text",
         "line": {
          "color": "rgba(128, 128, 128, 0.4)",
          "width": 1
         },
         "mode": "lines",
         "text": "39.74",
         "type": "scatter3d",
         "x": [
          545,
          578
         ],
         "y": [
          318,
          297
         ],
         "z": [
          241,
          234
         ]
        },
        {
         "hoverinfo": "text",
         "line": {
          "color": "rgba(128, 128, 128, 0.4)",
          "width": 1
         },
         "mode": "lines",
         "text": "21.40",
         "type": "scatter3d",
         "x": [
          545,
          524
         ],
         "y": [
          318,
          322
         ],
         "z": [
          241,
          240
         ]
        },
        {
         "hoverinfo": "text",
         "line": {
          "color": "rgba(128, 128, 128, 0.4)",
          "width": 1
         },
         "mode": "lines",
         "text": "12.08",
         "type": "scatter3d",
         "x": [
          545,
          550
         ],
         "y": [
          318,
          318
         ],
         "z": [
          241,
          252
         ]
        },
        {
         "hoverinfo": "text",
         "line": {
          "color": "rgba(128, 128, 128, 0.4)",
          "width": 1
         },
         "mode": "lines",
         "text": "22.83",
         "type": "scatter3d",
         "x": [
          546,
          547
         ],
         "y": [
          336,
          354
         ],
         "z": [
          312,
          326
         ]
        },
        {
         "hoverinfo": "text",
         "line": {
          "color": "rgba(128, 128, 128, 0.4)",
          "width": 1
         },
         "mode": "lines",
         "text": "35.40",
         "type": "scatter3d",
         "x": [
          546,
          572
         ],
         "y": [
          336,
          360
         ],
         "z": [
          312,
          313
         ]
        },
        {
         "hoverinfo": "text",
         "line": {
          "color": "rgba(128, 128, 128, 0.4)",
          "width": 1
         },
         "mode": "lines",
         "text": "16.28",
         "type": "scatter3d",
         "x": [
          546,
          540
         ],
         "y": [
          336,
          321
         ],
         "z": [
          312,
          310
         ]
        },
        {
         "hoverinfo": "text",
         "line": {
          "color": "rgba(128, 128, 128, 0.4)",
          "width": 1
         },
         "mode": "lines",
         "text": "3.32",
         "type": "scatter3d",
         "x": [
          549,
          550
         ],
         "y": [
          387,
          384
         ],
         "z": [
          206,
          207
         ]
        },
        {
         "hoverinfo": "text",
         "line": {
          "color": "rgba(128, 128, 128, 0.4)",
          "width": 1
         },
         "mode": "lines",
         "text": "48.02",
         "type": "scatter3d",
         "x": [
          552,
          520
         ],
         "y": [
          248,
          227
         ],
         "z": [
          350,
          321
         ]
        },
        {
         "hoverinfo": "text",
         "line": {
          "color": "rgba(128, 128, 128, 0.4)",
          "width": 1
         },
         "mode": "lines",
         "text": "10.68",
         "type": "scatter3d",
         "x": [
          553,
          561
         ],
         "y": [
          348,
          343
         ],
         "z": [
          176,
          181
         ]
        },
        {
         "hoverinfo": "text",
         "line": {
          "color": "rgba(128, 128, 128, 0.4)",
          "width": 1
         },
         "mode": "lines",
         "text": "20.47",
         "type": "scatter3d",
         "x": [
          553,
          566
         ],
         "y": [
          348,
          357
         ],
         "z": [
          176,
          163
         ]
        },
        {
         "hoverinfo": "text",
         "line": {
          "color": "rgba(128, 128, 128, 0.4)",
          "width": 1
         },
         "mode": "lines",
         "text": "43.70",
         "type": "scatter3d",
         "x": [
          556,
          582
         ],
         "y": [
          197,
          200
         ],
         "z": [
          278,
          313
         ]
        },
        {
         "hoverinfo": "text",
         "line": {
          "color": "rgba(128, 128, 128, 0.4)",
          "width": 1
         },
         "mode": "lines",
         "text": "29.85",
         "type": "scatter3d",
         "x": [
          556,
          565
         ],
         "y": [
          197,
          170
         ],
         "z": [
          278,
          269
         ]
        },
        {
         "hoverinfo": "text",
         "line": {
          "color": "rgba(128, 128, 128, 0.4)",
          "width": 1
         },
         "mode": "lines",
         "text": "8.60",
         "type": "scatter3d",
         "x": [
          558,
          550
         ],
         "y": [
          385,
          384
         ],
         "z": [
          210,
          207
         ]
        },
        {
         "hoverinfo": "text",
         "line": {
          "color": "rgba(128, 128, 128, 0.4)",
          "width": 1
         },
         "mode": "lines",
         "text": "29.68",
         "type": "scatter3d",
         "x": [
          561,
          586
         ],
         "y": [
          343,
          359
         ],
         "z": [
          181,
          181
         ]
        },
        {
         "hoverinfo": "text",
         "line": {
          "color": "rgba(128, 128, 128, 0.4)",
          "width": 1
         },
         "mode": "lines",
         "text": "60.69",
         "type": "scatter3d",
         "x": [
          561,
          612
         ],
         "y": [
          343,
          354
         ],
         "z": [
          181,
          150
         ]
        },
        {
         "hoverinfo": "text",
         "line": {
          "color": "rgba(128, 128, 128, 0.4)",
          "width": 1
         },
         "mode": "lines",
         "text": "32.53",
         "type": "scatter3d",
         "x": [
          561,
          566
         ],
         "y": [
          389,
          357
         ],
         "z": [
          166,
          163
         ]
        },
        {
         "hoverinfo": "text",
         "line": {
          "color": "rgba(128, 128, 128, 0.4)",
          "width": 1
         },
         "mode": "lines",
         "text": "70.39",
         "type": "scatter3d",
         "x": [
          564,
          565
         ],
         "y": [
          105,
          170
         ],
         "z": [
          242,
          269
         ]
        },
        {
         "hoverinfo": "text",
         "line": {
          "color": "rgba(128, 128, 128, 0.4)",
          "width": 1
         },
         "mode": "lines",
         "text": "33.15",
         "type": "scatter3d",
         "x": [
          566,
          575
         ],
         "y": [
          357,
          374
         ],
         "z": [
          163,
          136
         ]
        },
        {
         "hoverinfo": "text",
         "line": {
          "color": "rgba(128, 128, 128, 0.4)",
          "width": 1
         },
         "mode": "lines",
         "text": "44.06",
         "type": "scatter3d",
         "x": [
          571,
          540
         ],
         "y": [
          335,
          321
         ],
         "z": [
          338,
          310
         ]
        },
        {
         "hoverinfo": "text",
         "line": {
          "color": "rgba(128, 128, 128, 0.4)",
          "width": 1
         },
         "mode": "lines",
         "text": "28.74",
         "type": "scatter3d",
         "x": [
          574,
          598
         ],
         "y": [
          247,
          238
         ],
         "z": [
          298,
          285
         ]
        },
        {
         "hoverinfo": "text",
         "line": {
          "color": "rgba(128, 128, 128, 0.4)",
          "width": 1
         },
         "mode": "lines",
         "text": "31.21",
         "type": "scatter3d",
         "x": [
          574,
          599
         ],
         "y": [
          247,
          242
         ],
         "z": [
          298,
          316
         ]
        },
        {
         "hoverinfo": "text",
         "line": {
          "color": "rgba(128, 128, 128, 0.4)",
          "width": 1
         },
         "mode": "lines",
         "text": "42.67",
         "type": "scatter3d",
         "x": [
          574,
          534
         ],
         "y": [
          247,
          261
         ],
         "z": [
          298,
          293
         ]
        },
        {
         "hoverinfo": "text",
         "line": {
          "color": "rgba(128, 128, 128, 0.4)",
          "width": 1
         },
         "mode": "lines",
         "text": "32.03",
         "type": "scatter3d",
         "x": [
          574,
          605
         ],
         "y": [
          314,
          318
         ],
         "z": [
          180,
          187
         ]
        },
        {
         "hoverinfo": "text",
         "line": {
          "color": "rgba(128, 128, 128, 0.4)",
          "width": 1
         },
         "mode": "lines",
         "text": "43.65",
         "type": "scatter3d",
         "x": [
          574,
          609
         ],
         "y": [
          314,
          300
         ],
         "z": [
          180,
          158
         ]
        },
        {
         "hoverinfo": "text",
         "line": {
          "color": "rgba(128, 128, 128, 0.4)",
          "width": 1
         },
         "mode": "lines",
         "text": "16.16",
         "type": "scatter3d",
         "x": [
          575,
          579
         ],
         "y": [
          277,
          270
         ],
         "z": [
          135,
          121
         ]
        },
        {
         "hoverinfo": "text",
         "line": {
          "color": "rgba(128, 128, 128, 0.4)",
          "width": 1
         },
         "mode": "lines",
         "text": "9.43",
         "type": "scatter3d",
         "x": [
          575,
          584
         ],
         "y": [
          277,
          279
         ],
         "z": [
          135,
          133
         ]
        },
        {
         "hoverinfo": "text",
         "line": {
          "color": "rgba(128, 128, 128, 0.4)",
          "width": 1
         },
         "mode": "lines",
         "text": "35.79",
         "type": "scatter3d",
         "x": [
          575,
          550
         ],
         "y": [
          334,
          318
         ],
         "z": [
          272,
          252
         ]
        },
        {
         "hoverinfo": "text",
         "line": {
          "color": "rgba(128, 128, 128, 0.4)",
          "width": 1
         },
         "mode": "lines",
         "text": "11.45",
         "type": "scatter3d",
         "x": [
          575,
          576
         ],
         "y": [
          355,
          362
         ],
         "z": [
          252,
          261
         ]
        },
        {
         "hoverinfo": "text",
         "line": {
          "color": "rgba(128, 128, 128, 0.4)",
          "width": 1
         },
         "mode": "lines",
         "text": "16.12",
         "type": "scatter3d",
         "x": [
          575,
          589
         ],
         "y": [
          355,
          363
         ],
         "z": [
          252,
          252
         ]
        },
        {
         "hoverinfo": "text",
         "line": {
          "color": "rgba(128, 128, 128, 0.4)",
          "width": 1
         },
         "mode": "lines",
         "text": "39.31",
         "type": "scatter3d",
         "x": [
          575,
          553
         ],
         "y": [
          355,
          345
         ],
         "z": [
          252,
          221
         ]
        },
        {
         "hoverinfo": "text",
         "line": {
          "color": "rgba(128, 128, 128, 0.4)",
          "width": 1
         },
         "mode": "lines",
         "text": "8.83",
         "type": "scatter3d",
         "x": [
          575,
          577
         ],
         "y": [
          374,
          381
         ],
         "z": [
          136,
          131
         ]
        },
        {
         "hoverinfo": "text",
         "line": {
          "color": "rgba(128, 128, 128, 0.4)",
          "width": 1
         },
         "mode": "lines",
         "text": "27.46",
         "type": "scatter3d",
         "x": [
          575,
          587
         ],
         "y": [
          374,
          353
         ],
         "z": [
          136,
          123
         ]
        },
        {
         "hoverinfo": "text",
         "line": {
          "color": "rgba(128, 128, 128, 0.4)",
          "width": 1
         },
         "mode": "lines",
         "text": "13.19",
         "type": "scatter3d",
         "x": [
          575,
          577
         ],
         "y": [
          392,
          381
         ],
         "z": [
          124,
          131
         ]
        },
        {
         "hoverinfo": "text",
         "line": {
          "color": "rgba(128, 128, 128, 0.4)",
          "width": 1
         },
         "mode": "lines",
         "text": "9.00",
         "type": "scatter3d",
         "x": [
          575,
          584
         ],
         "y": [
          392,
          392
         ],
         "z": [
          124,
          124
         ]
        },
        {
         "hoverinfo": "text",
         "line": {
          "color": "rgba(128, 128, 128, 0.4)",
          "width": 1
         },
         "mode": "lines",
         "text": "44.20",
         "type": "scatter3d",
         "x": [
          575,
          584
         ],
         "y": [
          392,
          420
         ],
         "z": [
          124,
          91
         ]
        },
        {
         "hoverinfo": "text",
         "line": {
          "color": "rgba(128, 128, 128, 0.4)",
          "width": 1
         },
         "mode": "lines",
         "text": "53.54",
         "type": "scatter3d",
         "x": [
          577,
          616
         ],
         "y": [
          381,
          388
         ],
         "z": [
          131,
          95
         ]
        },
        {
         "hoverinfo": "text",
         "line": {
          "color": "rgba(128, 128, 128, 0.4)",
          "width": 1
         },
         "mode": "lines",
         "text": "2.45",
         "type": "scatter3d",
         "x": [
          578,
          579
         ],
         "y": [
          247,
          248
         ],
         "z": [
          218,
          220
         ]
        },
        {
         "hoverinfo": "text",
         "line": {
          "color": "rgba(128, 128, 128, 0.4)",
          "width": 1
         },
         "mode": "lines",
         "text": "35.03",
         "type": "scatter3d",
         "x": [
          582,
          569
         ],
         "y": [
          236,
          259
         ],
         "z": [
          160,
          183
         ]
        },
        {
         "hoverinfo": "text",
         "line": {
          "color": "rgba(128, 128, 128, 0.4)",
          "width": 1
         },
         "mode": "lines",
         "text": "34.37",
         "type": "scatter3d",
         "x": [
          586,
          567
         ],
         "y": [
          294,
          288
         ],
         "z": [
          342,
          314
         ]
        },
        {
         "hoverinfo": "text",
         "line": {
          "color": "rgba(128, 128, 128, 0.4)",
          "width": 1
         },
         "mode": "lines",
         "text": "41.69",
         "type": "scatter3d",
         "x": [
          586,
          550
         ],
         "y": [
          319,
          318
         ],
         "z": [
          273,
          252
         ]
        },
        {
         "hoverinfo": "text",
         "line": {
          "color": "rgba(128, 128, 128, 0.4)",
          "width": 1
         },
         "mode": "lines",
         "text": "8.12",
         "type": "scatter3d",
         "x": [
          586,
          587
         ],
         "y": [
          357,
          353
         ],
         "z": [
          116,
          123
         ]
        },
        {
         "hoverinfo": "text",
         "line": {
          "color": "rgba(128, 128, 128, 0.4)",
          "width": 1
         },
         "mode": "lines",
         "text": "34.50",
         "type": "scatter3d",
         "x": [
          587,
          553
         ],
         "y": [
          348,
          345
         ],
         "z": [
          226,
          221
         ]
        },
        {
         "hoverinfo": "text",
         "line": {
          "color": "rgba(128, 128, 128, 0.4)",
          "width": 1
         },
         "mode": "lines",
         "text": "29.03",
         "type": "scatter3d",
         "x": [
          587,
          606
         ],
         "y": [
          353,
          342
         ],
         "z": [
          123,
          104
         ]
        },
        {
         "hoverinfo": "text",
         "line": {
          "color": "rgba(128, 128, 128, 0.4)",
          "width": 1
         },
         "mode": "lines",
         "text": "8.06",
         "type": "scatter3d",
         "x": [
          588,
          586
         ],
         "y": [
          365,
          359
         ],
         "z": [
          176,
          181
         ]
        },
        {
         "hoverinfo": "text",
         "line": {
          "color": "rgba(128, 128, 128, 0.4)",
          "width": 1
         },
         "mode": "lines",
         "text": "30.15",
         "type": "scatter3d",
         "x": [
          596,
          567
         ],
         "y": [
          296,
          288
         ],
         "z": [
          312,
          314
         ]
        },
        {
         "hoverinfo": "text",
         "line": {
          "color": "rgba(128, 128, 128, 0.4)",
          "width": 1
         },
         "mode": "lines",
         "text": "10.10",
         "type": "scatter3d",
         "x": [
          596,
          586
         ],
         "y": [
          360,
          359
         ],
         "z": [
          180,
          181
         ]
        },
        {
         "hoverinfo": "text",
         "line": {
          "color": "rgba(128, 128, 128, 0.4)",
          "width": 1
         },
         "mode": "lines",
         "text": "40.02",
         "type": "scatter3d",
         "x": [
          597,
          565
         ],
         "y": [
          153,
          170
         ],
         "z": [
          252,
          269
         ]
        },
        {
         "hoverinfo": "text",
         "line": {
          "color": "rgba(128, 128, 128, 0.4)",
          "width": 1
         },
         "mode": "lines",
         "text": "13.49",
         "type": "scatter3d",
         "x": [
          604,
          609
         ],
         "y": [
          311,
          300
         ],
         "z": [
          152,
          158
         ]
        },
        {
         "hoverinfo": "text",
         "line": {
          "color": "rgba(128, 128, 128, 0.4)",
          "width": 1
         },
         "mode": "lines",
         "text": "23.85",
         "type": "scatter3d",
         "x": [
          605,
          625
         ],
         "y": [
          318,
          331
         ],
         "z": [
          187,
          187
         ]
        },
        {
         "hoverinfo": "text",
         "line": {
          "color": "rgba(128, 128, 128, 0.4)",
          "width": 1
         },
         "mode": "lines",
         "text": "51.97",
         "type": "scatter3d",
         "x": [
          605,
          651
         ],
         "y": [
          318,
          315
         ],
         "z": [
          187,
          163
         ]
        },
        {
         "hoverinfo": "text",
         "line": {
          "color": "rgba(128, 128, 128, 0.4)",
          "width": 1
         },
         "mode": "lines",
         "text": "37.34",
         "type": "scatter3d",
         "x": [
          609,
          632
         ],
         "y": [
          225,
          201
         ],
         "z": [
          206,
          189
         ]
        },
        {
         "hoverinfo": "text",
         "line": {
          "color": "rgba(128, 128, 128, 0.4)",
          "width": 1
         },
         "mode": "lines",
         "text": "40.31",
         "type": "scatter3d",
         "x": [
          609,
          579
         ],
         "y": [
          225,
          248
         ],
         "z": [
          206,
          220
         ]
        },
        {
         "hoverinfo": "text",
         "line": {
          "color": "rgba(128, 128, 128, 0.4)",
          "width": 1
         },
         "mode": "lines",
         "text": "5.00",
         "type": "scatter3d",
         "x": [
          609,
          613
         ],
         "y": [
          225,
          225
         ],
         "z": [
          206,
          209
         ]
        },
        {
         "hoverinfo": "text",
         "line": {
          "color": "rgba(128, 128, 128, 0.4)",
          "width": 1
         },
         "mode": "lines",
         "text": "55.58",
         "type": "scatter3d",
         "x": [
          609,
          569
         ],
         "y": [
          226,
          259
         ],
         "z": [
          163,
          183
         ]
        },
        {
         "hoverinfo": "text",
         "line": {
          "color": "rgba(128, 128, 128, 0.4)",
          "width": 1
         },
         "mode": "lines",
         "text": "23.62",
         "type": "scatter3d",
         "x": [
          609,
          631
         ],
         "y": [
          300,
          295
         ],
         "z": [
          158,
          151
         ]
        },
        {
         "hoverinfo": "text",
         "line": {
          "color": "rgba(128, 128, 128, 0.4)",
          "width": 1
         },
         "mode": "lines",
         "text": "25.20",
         "type": "scatter3d",
         "x": [
          613,
          592
         ],
         "y": [
          313,
          300
         ],
         "z": [
          235,
          230
         ]
        },
        {
         "hoverinfo": "text",
         "line": {
          "color": "rgba(128, 128, 128, 0.4)",
          "width": 1
         },
         "mode": "lines",
         "text": "1.73",
         "type": "scatter3d",
         "x": [
          616,
          617
         ],
         "y": [
          388,
          389
         ],
         "z": [
          95,
          94
         ]
        },
        {
         "hoverinfo": "text",
         "line": {
          "color": "rgba(128, 128, 128, 0.4)",
          "width": 1
         },
         "mode": "lines",
         "text": "7.00",
         "type": "scatter3d",
         "x": [
          616,
          618
         ],
         "y": [
          388,
          385
         ],
         "z": [
          95,
          89
         ]
        },
        {
         "hoverinfo": "text",
         "line": {
          "color": "rgba(128, 128, 128, 0.4)",
          "width": 1
         },
         "mode": "lines",
         "text": "49.70",
         "type": "scatter3d",
         "x": [
          617,
          578
         ],
         "y": [
          279,
          297
         ],
         "z": [
          259,
          234
         ]
        },
        {
         "hoverinfo": "text",
         "line": {
          "color": "rgba(128, 128, 128, 0.4)",
          "width": 1
         },
         "mode": "lines",
         "text": "7.07",
         "type": "scatter3d",
         "x": [
          618,
          613
         ],
         "y": [
          229,
          225
         ],
         "z": [
          212,
          209
         ]
        },
        {
         "hoverinfo": "text",
         "line": {
          "color": "rgba(128, 128, 128, 0.4)",
          "width": 1
         },
         "mode": "lines",
         "text": "16.16",
         "type": "scatter3d",
         "x": [
          621,
          612
         ],
         "y": [
          366,
          354
         ],
         "z": [
          144,
          150
         ]
        },
        {
         "hoverinfo": "text",
         "line": {
          "color": "rgba(128, 128, 128, 0.4)",
          "width": 1
         },
         "mode": "lines",
         "text": "35.83",
         "type": "scatter3d",
         "x": [
          629,
          613
         ],
         "y": [
          193,
          225
         ],
         "z": [
          207,
          209
         ]
        },
        {
         "hoverinfo": "text",
         "line": {
          "color": "rgba(128, 128, 128, 0.4)",
          "width": 1
         },
         "mode": "lines",
         "text": "12.21",
         "type": "scatter3d",
         "x": [
          638,
          630
         ],
         "y": [
          266,
          275
         ],
         "z": [
          204,
          206
         ]
        },
        {
         "hoverinfo": "text",
         "line": {
          "color": "rgba(128, 128, 128, 0.4)",
          "width": 1
         },
         "mode": "lines",
         "text": "18.06",
         "type": "scatter3d",
         "x": [
          647,
          630
         ],
         "y": [
          276,
          275
         ],
         "z": [
          200,
          206
         ]
        },
        {
         "hoverinfo": "text",
         "line": {
          "color": "rgba(128, 128, 128, 0.4)",
          "width": 1
         },
         "mode": "lines",
         "text": "31.97",
         "type": "scatter3d",
         "x": [
          648,
          631
         ],
         "y": [
          297,
          295
         ],
         "z": [
          124,
          151
         ]
        },
        {
         "hoverinfo": "text",
         "line": {
          "color": "rgba(128, 128, 128, 0.4)",
          "width": 1
         },
         "mode": "lines",
         "text": "53.61",
         "type": "scatter3d",
         "x": [
          652,
          612
         ],
         "y": [
          347,
          354
         ],
         "z": [
          115,
          150
         ]
        },
        {
         "hoverinfo": "text",
         "line": {
          "color": "rgba(128, 128, 128, 0.4)",
          "width": 1
         },
         "mode": "lines",
         "text": "58.41",
         "type": "scatter3d",
         "x": [
          661,
          631
         ],
         "y": [
          251,
          295
         ],
         "z": [
          127,
          151
         ]
        },
        {
         "hoverinfo": "text",
         "line": {
          "color": "rgba(128, 128, 128, 0.4)",
          "width": 1
         },
         "mode": "lines",
         "text": "33.18",
         "type": "scatter3d",
         "x": [
          250,
          222
         ],
         "y": [
          270,
          284
         ],
         "z": [
          233,
          222
         ]
        },
        {
         "hoverinfo": "text",
         "line": {
          "color": "rgba(128, 128, 128, 0.4)",
          "width": 1
         },
         "mode": "lines",
         "text": "16.67",
         "type": "scatter3d",
         "x": [
          511,
          498
         ],
         "y": [
          255,
          265
         ],
         "z": [
          308,
          311
         ]
        },
        {
         "hoverinfo": "text",
         "line": {
          "color": "rgba(128, 128, 128, 0.4)",
          "width": 1
         },
         "mode": "lines",
         "text": "32.16",
         "type": "scatter3d",
         "x": [
          511,
          520
         ],
         "y": [
          255,
          227
         ],
         "z": [
          308,
          321
         ]
        },
        {
         "hoverinfo": "text",
         "line": {
          "color": "rgba(128, 128, 128, 0.4)",
          "width": 1
         },
         "mode": "lines",
         "text": "28.11",
         "type": "scatter3d",
         "x": [
          511,
          534
         ],
         "y": [
          255,
          261
         ],
         "z": [
          308,
          293
         ]
        },
        {
         "hoverinfo": "text",
         "line": {
          "color": "rgba(128, 128, 128, 0.4)",
          "width": 1
         },
         "mode": "lines",
         "text": "8.31",
         "type": "scatter3d",
         "x": [
          213,
          206
         ],
         "y": [
          295,
          299
         ],
         "z": [
          211,
          209
         ]
        },
        {
         "hoverinfo": "text",
         "line": {
          "color": "rgba(128, 128, 128, 0.4)",
          "width": 1
         },
         "mode": "lines",
         "text": "47.53",
         "type": "scatter3d",
         "x": [
          567,
          534
         ],
         "y": [
          288,
          261
         ],
         "z": [
          314,
          293
         ]
        },
        {
         "hoverinfo": "text",
         "line": {
          "color": "rgba(128, 128, 128, 0.4)",
          "width": 1
         },
         "mode": "lines",
         "text": "40.07",
         "type": "scatter3d",
         "x": [
          513,
          528
         ],
         "y": [
          320,
          286
         ],
         "z": [
          256,
          241
         ]
        },
        {
         "hoverinfo": "text",
         "line": {
          "color": "rgba(128, 128, 128, 0.4)",
          "width": 1
         },
         "mode": "lines",
         "text": "14.87",
         "type": "scatter3d",
         "x": [
          578,
          592
         ],
         "y": [
          297,
          300
         ],
         "z": [
          234,
          230
         ]
        },
        {
         "hoverinfo": "text",
         "line": {
          "color": "rgba(128, 128, 128, 0.4)",
          "width": 1
         },
         "mode": "lines",
         "text": "28.58",
         "type": "scatter3d",
         "x": [
          499,
          486
         ],
         "y": [
          314,
          332
         ],
         "z": [
          332,
          350
         ]
        },
        {
         "hoverinfo": "text",
         "line": {
          "color": "rgba(128, 128, 128, 0.4)",
          "width": 1
         },
         "mode": "lines",
         "text": "37.55",
         "type": "scatter3d",
         "x": [
          499,
          512
         ],
         "y": [
          314,
          334
         ],
         "z": [
          332,
          361
         ]
        },
        {
         "hoverinfo": "text",
         "line": {
          "color": "rgba(128, 128, 128, 0.4)",
          "width": 1
         },
         "mode": "lines",
         "text": "60.74",
         "type": "scatter3d",
         "x": [
          540,
          490
         ],
         "y": [
          321,
          304
         ],
         "z": [
          310,
          280
         ]
        },
        {
         "hoverinfo": "text",
         "line": {
          "color": "rgba(128, 128, 128, 0.4)",
          "width": 1
         },
         "mode": "lines",
         "text": "15.52",
         "type": "scatter3d",
         "x": [
          499,
          503
         ],
         "y": [
          276,
          285
         ],
         "z": [
          397,
          409
         ]
        },
        {
         "hoverinfo": "text",
         "line": {
          "color": "rgba(128, 128, 128, 0.4)",
          "width": 1
         },
         "mode": "lines",
         "text": "18.84",
         "type": "scatter3d",
         "x": [
          179,
          164
         ],
         "y": [
          323,
          332
         ],
         "z": [
          204,
          197
         ]
        },
        {
         "hoverinfo": "text",
         "line": {
          "color": "rgba(128, 128, 128, 0.4)",
          "width": 1
         },
         "mode": "lines",
         "text": "17.15",
         "type": "scatter3d",
         "x": [
          421,
          423
         ],
         "y": [
          112,
          99
         ],
         "z": [
          261,
          250
         ]
        },
        {
         "hoverinfo": "text",
         "line": {
          "color": "rgba(128, 128, 128, 0.4)",
          "width": 1
         },
         "mode": "lines",
         "text": "75.99",
         "type": "scatter3d",
         "x": [
          569,
          528
         ],
         "y": [
          259,
          286
         ],
         "z": [
          183,
          241
         ]
        },
        {
         "hoverinfo": "text",
         "line": {
          "color": "rgba(128, 128, 128, 0.4)",
          "width": 1
         },
         "mode": "lines",
         "text": "66.98",
         "type": "scatter3d",
         "x": [
          579,
          528
         ],
         "y": [
          248,
          286
         ],
         "z": [
          220,
          241
         ]
        },
        {
         "hoverinfo": "text",
         "line": {
          "color": "rgba(128, 128, 128, 0.4)",
          "width": 1
         },
         "mode": "lines",
         "text": "2.24",
         "type": "scatter3d",
         "x": [
          422,
          423
         ],
         "y": [
          97,
          99
         ],
         "z": [
          250,
          250
         ]
        },
        {
         "hoverinfo": "text",
         "line": {
          "color": "rgba(128, 128, 128, 0.4)",
          "width": 1
         },
         "mode": "lines",
         "text": "6.78",
         "type": "scatter3d",
         "x": [
          433,
          436
         ],
         "y": [
          76,
          75
         ],
         "z": [
          222,
          216
         ]
        },
        {
         "hoverinfo": "text",
         "line": {
          "color": "rgba(128, 128, 128, 0.4)",
          "width": 1
         },
         "mode": "lines",
         "text": "51.43",
         "type": "scatter3d",
         "x": [
          630,
          592
         ],
         "y": [
          275,
          300
         ],
         "z": [
          206,
          230
         ]
        }
       ],
       "layout": {
        "margin": {
         "b": 0,
         "l": 0,
         "r": 0,
         "t": 0
        },
        "scene": {
         "domain": {
          "x": [
           0,
           1
          ],
          "y": [
           0,
           1
          ]
         },
         "xaxis": {
          "range": [
           0,
           662
          ]
         },
         "yaxis": {
          "range": [
           0,
           437
          ]
         },
         "zaxis": {
          "range": [
           0,
           434
          ]
         }
        },
        "template": {
         "data": {
          "bar": [
           {
            "error_x": {
             "color": "#2a3f5f"
            },
            "error_y": {
             "color": "#2a3f5f"
            },
            "marker": {
             "line": {
              "color": "#E5ECF6",
              "width": 0.5
             },
             "pattern": {
              "fillmode": "overlay",
              "size": 10,
              "solidity": 0.2
             }
            },
            "type": "bar"
           }
          ],
          "barpolar": [
           {
            "marker": {
             "line": {
              "color": "#E5ECF6",
              "width": 0.5
             },
             "pattern": {
              "fillmode": "overlay",
              "size": 10,
              "solidity": 0.2
             }
            },
            "type": "barpolar"
           }
          ],
          "carpet": [
           {
            "aaxis": {
             "endlinecolor": "#2a3f5f",
             "gridcolor": "white",
             "linecolor": "white",
             "minorgridcolor": "white",
             "startlinecolor": "#2a3f5f"
            },
            "baxis": {
             "endlinecolor": "#2a3f5f",
             "gridcolor": "white",
             "linecolor": "white",
             "minorgridcolor": "white",
             "startlinecolor": "#2a3f5f"
            },
            "type": "carpet"
           }
          ],
          "choropleth": [
           {
            "colorbar": {
             "outlinewidth": 0,
             "ticks": ""
            },
            "type": "choropleth"
           }
          ],
          "contour": [
           {
            "colorbar": {
             "outlinewidth": 0,
             "ticks": ""
            },
            "colorscale": [
             [
              0,
              "#0d0887"
             ],
             [
              0.1111111111111111,
              "#46039f"
             ],
             [
              0.2222222222222222,
              "#7201a8"
             ],
             [
              0.3333333333333333,
              "#9c179e"
             ],
             [
              0.4444444444444444,
              "#bd3786"
             ],
             [
              0.5555555555555556,
              "#d8576b"
             ],
             [
              0.6666666666666666,
              "#ed7953"
             ],
             [
              0.7777777777777778,
              "#fb9f3a"
             ],
             [
              0.8888888888888888,
              "#fdca26"
             ],
             [
              1,
              "#f0f921"
             ]
            ],
            "type": "contour"
           }
          ],
          "contourcarpet": [
           {
            "colorbar": {
             "outlinewidth": 0,
             "ticks": ""
            },
            "type": "contourcarpet"
           }
          ],
          "heatmap": [
           {
            "colorbar": {
             "outlinewidth": 0,
             "ticks": ""
            },
            "colorscale": [
             [
              0,
              "#0d0887"
             ],
             [
              0.1111111111111111,
              "#46039f"
             ],
             [
              0.2222222222222222,
              "#7201a8"
             ],
             [
              0.3333333333333333,
              "#9c179e"
             ],
             [
              0.4444444444444444,
              "#bd3786"
             ],
             [
              0.5555555555555556,
              "#d8576b"
             ],
             [
              0.6666666666666666,
              "#ed7953"
             ],
             [
              0.7777777777777778,
              "#fb9f3a"
             ],
             [
              0.8888888888888888,
              "#fdca26"
             ],
             [
              1,
              "#f0f921"
             ]
            ],
            "type": "heatmap"
           }
          ],
          "heatmapgl": [
           {
            "colorbar": {
             "outlinewidth": 0,
             "ticks": ""
            },
            "colorscale": [
             [
              0,
              "#0d0887"
             ],
             [
              0.1111111111111111,
              "#46039f"
             ],
             [
              0.2222222222222222,
              "#7201a8"
             ],
             [
              0.3333333333333333,
              "#9c179e"
             ],
             [
              0.4444444444444444,
              "#bd3786"
             ],
             [
              0.5555555555555556,
              "#d8576b"
             ],
             [
              0.6666666666666666,
              "#ed7953"
             ],
             [
              0.7777777777777778,
              "#fb9f3a"
             ],
             [
              0.8888888888888888,
              "#fdca26"
             ],
             [
              1,
              "#f0f921"
             ]
            ],
            "type": "heatmapgl"
           }
          ],
          "histogram": [
           {
            "marker": {
             "pattern": {
              "fillmode": "overlay",
              "size": 10,
              "solidity": 0.2
             }
            },
            "type": "histogram"
           }
          ],
          "histogram2d": [
           {
            "colorbar": {
             "outlinewidth": 0,
             "ticks": ""
            },
            "colorscale": [
             [
              0,
              "#0d0887"
             ],
             [
              0.1111111111111111,
              "#46039f"
             ],
             [
              0.2222222222222222,
              "#7201a8"
             ],
             [
              0.3333333333333333,
              "#9c179e"
             ],
             [
              0.4444444444444444,
              "#bd3786"
             ],
             [
              0.5555555555555556,
              "#d8576b"
             ],
             [
              0.6666666666666666,
              "#ed7953"
             ],
             [
              0.7777777777777778,
              "#fb9f3a"
             ],
             [
              0.8888888888888888,
              "#fdca26"
             ],
             [
              1,
              "#f0f921"
             ]
            ],
            "type": "histogram2d"
           }
          ],
          "histogram2dcontour": [
           {
            "colorbar": {
             "outlinewidth": 0,
             "ticks": ""
            },
            "colorscale": [
             [
              0,
              "#0d0887"
             ],
             [
              0.1111111111111111,
              "#46039f"
             ],
             [
              0.2222222222222222,
              "#7201a8"
             ],
             [
              0.3333333333333333,
              "#9c179e"
             ],
             [
              0.4444444444444444,
              "#bd3786"
             ],
             [
              0.5555555555555556,
              "#d8576b"
             ],
             [
              0.6666666666666666,
              "#ed7953"
             ],
             [
              0.7777777777777778,
              "#fb9f3a"
             ],
             [
              0.8888888888888888,
              "#fdca26"
             ],
             [
              1,
              "#f0f921"
             ]
            ],
            "type": "histogram2dcontour"
           }
          ],
          "mesh3d": [
           {
            "colorbar": {
             "outlinewidth": 0,
             "ticks": ""
            },
            "type": "mesh3d"
           }
          ],
          "parcoords": [
           {
            "line": {
             "colorbar": {
              "outlinewidth": 0,
              "ticks": ""
             }
            },
            "type": "parcoords"
           }
          ],
          "pie": [
           {
            "automargin": true,
            "type": "pie"
           }
          ],
          "scatter": [
           {
            "fillpattern": {
             "fillmode": "overlay",
             "size": 10,
             "solidity": 0.2
            },
            "type": "scatter"
           }
          ],
          "scatter3d": [
           {
            "line": {
             "colorbar": {
              "outlinewidth": 0,
              "ticks": ""
             }
            },
            "marker": {
             "colorbar": {
              "outlinewidth": 0,
              "ticks": ""
             }
            },
            "type": "scatter3d"
           }
          ],
          "scattercarpet": [
           {
            "marker": {
             "colorbar": {
              "outlinewidth": 0,
              "ticks": ""
             }
            },
            "type": "scattercarpet"
           }
          ],
          "scattergeo": [
           {
            "marker": {
             "colorbar": {
              "outlinewidth": 0,
              "ticks": ""
             }
            },
            "type": "scattergeo"
           }
          ],
          "scattergl": [
           {
            "marker": {
             "colorbar": {
              "outlinewidth": 0,
              "ticks": ""
             }
            },
            "type": "scattergl"
           }
          ],
          "scattermapbox": [
           {
            "marker": {
             "colorbar": {
              "outlinewidth": 0,
              "ticks": ""
             }
            },
            "type": "scattermapbox"
           }
          ],
          "scatterpolar": [
           {
            "marker": {
             "colorbar": {
              "outlinewidth": 0,
              "ticks": ""
             }
            },
            "type": "scatterpolar"
           }
          ],
          "scatterpolargl": [
           {
            "marker": {
             "colorbar": {
              "outlinewidth": 0,
              "ticks": ""
             }
            },
            "type": "scatterpolargl"
           }
          ],
          "scatterternary": [
           {
            "marker": {
             "colorbar": {
              "outlinewidth": 0,
              "ticks": ""
             }
            },
            "type": "scatterternary"
           }
          ],
          "surface": [
           {
            "colorbar": {
             "outlinewidth": 0,
             "ticks": ""
            },
            "colorscale": [
             [
              0,
              "#0d0887"
             ],
             [
              0.1111111111111111,
              "#46039f"
             ],
             [
              0.2222222222222222,
              "#7201a8"
             ],
             [
              0.3333333333333333,
              "#9c179e"
             ],
             [
              0.4444444444444444,
              "#bd3786"
             ],
             [
              0.5555555555555556,
              "#d8576b"
             ],
             [
              0.6666666666666666,
              "#ed7953"
             ],
             [
              0.7777777777777778,
              "#fb9f3a"
             ],
             [
              0.8888888888888888,
              "#fdca26"
             ],
             [
              1,
              "#f0f921"
             ]
            ],
            "type": "surface"
           }
          ],
          "table": [
           {
            "cells": {
             "fill": {
              "color": "#EBF0F8"
             },
             "line": {
              "color": "white"
             }
            },
            "header": {
             "fill": {
              "color": "#C8D4E3"
             },
             "line": {
              "color": "white"
             }
            },
            "type": "table"
           }
          ]
         },
         "layout": {
          "annotationdefaults": {
           "arrowcolor": "#2a3f5f",
           "arrowhead": 0,
           "arrowwidth": 1
          },
          "autotypenumbers": "strict",
          "coloraxis": {
           "colorbar": {
            "outlinewidth": 0,
            "ticks": ""
           }
          },
          "colorscale": {
           "diverging": [
            [
             0,
             "#8e0152"
            ],
            [
             0.1,
             "#c51b7d"
            ],
            [
             0.2,
             "#de77ae"
            ],
            [
             0.3,
             "#f1b6da"
            ],
            [
             0.4,
             "#fde0ef"
            ],
            [
             0.5,
             "#f7f7f7"
            ],
            [
             0.6,
             "#e6f5d0"
            ],
            [
             0.7,
             "#b8e186"
            ],
            [
             0.8,
             "#7fbc41"
            ],
            [
             0.9,
             "#4d9221"
            ],
            [
             1,
             "#276419"
            ]
           ],
           "sequential": [
            [
             0,
             "#0d0887"
            ],
            [
             0.1111111111111111,
             "#46039f"
            ],
            [
             0.2222222222222222,
             "#7201a8"
            ],
            [
             0.3333333333333333,
             "#9c179e"
            ],
            [
             0.4444444444444444,
             "#bd3786"
            ],
            [
             0.5555555555555556,
             "#d8576b"
            ],
            [
             0.6666666666666666,
             "#ed7953"
            ],
            [
             0.7777777777777778,
             "#fb9f3a"
            ],
            [
             0.8888888888888888,
             "#fdca26"
            ],
            [
             1,
             "#f0f921"
            ]
           ],
           "sequentialminus": [
            [
             0,
             "#0d0887"
            ],
            [
             0.1111111111111111,
             "#46039f"
            ],
            [
             0.2222222222222222,
             "#7201a8"
            ],
            [
             0.3333333333333333,
             "#9c179e"
            ],
            [
             0.4444444444444444,
             "#bd3786"
            ],
            [
             0.5555555555555556,
             "#d8576b"
            ],
            [
             0.6666666666666666,
             "#ed7953"
            ],
            [
             0.7777777777777778,
             "#fb9f3a"
            ],
            [
             0.8888888888888888,
             "#fdca26"
            ],
            [
             1,
             "#f0f921"
            ]
           ]
          },
          "colorway": [
           "#636efa",
           "#EF553B",
           "#00cc96",
           "#ab63fa",
           "#FFA15A",
           "#19d3f3",
           "#FF6692",
           "#B6E880",
           "#FF97FF",
           "#FECB52"
          ],
          "font": {
           "color": "#2a3f5f"
          },
          "geo": {
           "bgcolor": "white",
           "lakecolor": "white",
           "landcolor": "#E5ECF6",
           "showlakes": true,
           "showland": true,
           "subunitcolor": "white"
          },
          "hoverlabel": {
           "align": "left"
          },
          "hovermode": "closest",
          "mapbox": {
           "style": "light"
          },
          "paper_bgcolor": "white",
          "plot_bgcolor": "#E5ECF6",
          "polar": {
           "angularaxis": {
            "gridcolor": "white",
            "linecolor": "white",
            "ticks": ""
           },
           "bgcolor": "#E5ECF6",
           "radialaxis": {
            "gridcolor": "white",
            "linecolor": "white",
            "ticks": ""
           }
          },
          "scene": {
           "xaxis": {
            "backgroundcolor": "#E5ECF6",
            "gridcolor": "white",
            "gridwidth": 2,
            "linecolor": "white",
            "showbackground": true,
            "ticks": "",
            "zerolinecolor": "white"
           },
           "yaxis": {
            "backgroundcolor": "#E5ECF6",
            "gridcolor": "white",
            "gridwidth": 2,
            "linecolor": "white",
            "showbackground": true,
            "ticks": "",
            "zerolinecolor": "white"
           },
           "zaxis": {
            "backgroundcolor": "#E5ECF6",
            "gridcolor": "white",
            "gridwidth": 2,
            "linecolor": "white",
            "showbackground": true,
            "ticks": "",
            "zerolinecolor": "white"
           }
          },
          "shapedefaults": {
           "line": {
            "color": "#2a3f5f"
           }
          },
          "ternary": {
           "aaxis": {
            "gridcolor": "white",
            "linecolor": "white",
            "ticks": ""
           },
           "baxis": {
            "gridcolor": "white",
            "linecolor": "white",
            "ticks": ""
           },
           "bgcolor": "#E5ECF6",
           "caxis": {
            "gridcolor": "white",
            "linecolor": "white",
            "ticks": ""
           }
          },
          "title": {
           "x": 0.05
          },
          "xaxis": {
           "automargin": true,
           "gridcolor": "white",
           "linecolor": "white",
           "ticks": "",
           "title": {
            "standoff": 15
           },
           "zerolinecolor": "white",
           "zerolinewidth": 2
          },
          "yaxis": {
           "automargin": true,
           "gridcolor": "white",
           "linecolor": "white",
           "ticks": "",
           "title": {
            "standoff": 15
           },
           "zerolinecolor": "white",
           "zerolinewidth": 2
          }
         }
        }
       }
      }
     },
     "metadata": {},
     "output_type": "display_data"
    }
   ],
   "source": [
    "#16 Plot-2 Interactive 3D-2!: Check #Clusters: Show Cycles in Red >> Edges: {Red=InCycle, Grey=Else}, Nodes: {Grey}#{Red=Leaf, Blue=Else}\n",
    "\n",
    "fig = make_subplots(rows=1, cols=1, specs=[[{'type': 'scatter3d'}]])\n",
    "x, y, z = zip(*graph.nodes)\n",
    "\n",
    "leaf_nodes = [node for node, degree in graph.degree if degree == 1]\n",
    "\n",
    "node_trace = go.Scatter3d(\n",
    "    x=x,\n",
    "    y=y,\n",
    "    z=z,\n",
    "    mode='markers',\n",
    "    marker=dict(\n",
    "        size=2,\n",
    "        color='grey', #['red' if node in leaf_nodes else 'blue' for node in graph.nodes()], # 'grey',\n",
    "        opacity=0.1 #0.8\n",
    "    )\n",
    ")\n",
    "fig.add_trace(node_trace)\n",
    "\n",
    "for edge in graph.edges():\n",
    "    x0, y0, z0 = edge[0]\n",
    "    x1, y1, z1 = edge[1]\n",
    "    \n",
    "    edge_length = graph.edges[edge]['edge_length']\n",
    "    edge_text = f'{edge_length:.2f}'  # Display the edge length as text\n",
    "    \n",
    "    edge_is_in_a_cycle = [edge[0],edge[1]] in EdgesInCycles or [edge[1],edge[0]] in EdgesInCycles\n",
    "    \n",
    "    edge_trace = go.Scatter3d(\n",
    "        x=[x0, x1],\n",
    "        y=[y0, y1],\n",
    "        z=[z0, z1],\n",
    "        mode='lines',\n",
    "        line=dict(color='rgba(255, 0, 0, 0.8)' if edge_is_in_a_cycle else 'rgba(128, 128, 128, 0.4)',\n",
    "            width=8 if edge_is_in_a_cycle else 1),\n",
    "        hoverinfo='text',\n",
    "        text=edge_text\n",
    "    )\n",
    "    fig.add_trace(edge_trace)\n",
    "\n",
    "fig.update_layout(\n",
    "    margin=dict(l=0, r=0, b=0, t=0),\n",
    "    scene=dict(\n",
    "        xaxis=dict(range=[0, max(x) + 1]),\n",
    "        yaxis=dict(range=[0, max(y) + 1]),\n",
    "        zaxis=dict(range=[0, max(z) + 1])\n",
    "    )\n",
    ")\n",
    "\n",
    "fig.show()"
   ]
  },
  {
   "cell_type": "code",
   "execution_count": 300,
   "metadata": {},
   "outputs": [
    {
     "name": "stdout",
     "output_type": "stream",
     "text": [
      "\n",
      "Overall 0 nodes in CxNodesList\n"
     ]
    }
   ],
   "source": [
    "#17 Create the nodes list of the complex cycle: Works only for one complex cluster!\n",
    "\n",
    "CxNodesList = [] # Complex nodes list\n",
    "NodeIndex = 0\n",
    "for edge in EdgesInCycles: ############### EdgesInCycles should be adjusted for other scenarios! ***\n",
    "    for i in [0,1]:\n",
    "        CurrentNode = edge[i]\n",
    "        if CurrentNode not in CxNodesList:\n",
    "            CxNodesList.append(CurrentNode)\n",
    "            print(f'Node[{NodeIndex}]: Appended {CurrentNode} to CxNodesList')\n",
    "            NodeIndex += 1\n",
    "            \n",
    "print(f'\\nOverall {len(CxNodesList)} nodes in CxNodesList')"
   ]
  },
  {
   "cell_type": "code",
   "execution_count": 301,
   "metadata": {},
   "outputs": [],
   "source": [
    "#18 Specify n_clusters and get the clusters as separate lists $$$ n_clusters (judge visually and from code block above)\n",
    "# NO NEED TO RUN CODE BLOCK 18-20 IF 0 NODES IN \"CxNodesList\"\n",
    "\n",
    "if CxNodesList: # If not empty, do ..\n",
    "\n",
    "    from sklearn.cluster import KMeans # pip install scikit-learn\n",
    "\n",
    "    # Convert the list of 3-tuples to a NumPy array for K-Means clustering\n",
    "    data = np.array(CxNodesList)\n",
    "\n",
    "    # Specify the number of clusters (in this case, 3 clusters)\n",
    "    # n_clusters = 1\n",
    "    winsound.Beep(frequency, duration)\n",
    "    n_clusters = int(input(\"Please enter the number of clusters: [Cell-18>>Cell-16]: \"))\n",
    "\n",
    "    # Perform K-Means clustering\n",
    "    kmeans = KMeans(n_clusters=n_clusters, n_init=10)  # You can set n_init to any desired value\n",
    "    kmeans.fit(data)\n",
    "\n",
    "    # Get the cluster labels for each data point\n",
    "    cluster_labels = kmeans.labels_\n",
    "\n",
    "    # Initialize empty lists for each cluster\n",
    "    clusters = [[] for _ in range(n_clusters)]\n",
    "\n",
    "    # Organize data points into clusters based on labels\n",
    "    for i, label in enumerate(cluster_labels):\n",
    "        clusters[label].append(CxNodesList[i])\n",
    "\n",
    "    # Print the clusters\n",
    "    for i, cluster in enumerate(clusters):\n",
    "        print(f\"Cluster {i + 1}:\", cluster)"
   ]
  },
  {
   "cell_type": "code",
   "execution_count": 302,
   "metadata": {},
   "outputs": [],
   "source": [
    "#19 Function: Resolves the complex cycles for one cluster: Changes the graph! Works only once!\n",
    "\n",
    "def ResolveComplexCluster(CxNodesCluster, graph):\n",
    "\n",
    "    # List the neighbors that lie outside the cx-cycle\n",
    "    OuterNeighbors = []\n",
    "    print(\"Outer Neighbors:\")\n",
    "    for node in CxNodesCluster:\n",
    "        for neighbor in graph.neighbors(node):\n",
    "            if neighbor not in CxNodesCluster and neighbor not in OuterNeighbors:\n",
    "                OuterNeighbors.append(neighbor)\n",
    "                print(neighbor)\n",
    "\n",
    "    # Print the cx-cycle\n",
    "    print(\"\\nCx-Cycle:\")\n",
    "    for node in CxNodesCluster:\n",
    "        print(node)\n",
    "\n",
    "    # Takes the Cx-Nodes and forms their average\n",
    "    # CxNodesList: List of n 3-tuples  # n: Number of Cx Nodes  # After zip becomes 3 x ntuple\n",
    "    NewAverageNode = tuple([round(sum(ntuple)/len(ntuple)) for ntuple in zip(*CxNodesCluster)])\n",
    "    print('\\nNewAverageNode:')\n",
    "    print(NewAverageNode)\n",
    "\n",
    "    # If NewAverageNode not on the skeleton, go to its neighborhood and find the nearest voxel that lies on the skeleton:\n",
    "    if skeleton[*NewAverageNode] == 0:\n",
    "        print(f\"NewAverageNode {NewAverageNode} not on the skeleton.\")\n",
    "        xxna, yyna, zzna = NewAverageNode\n",
    "        success = False\n",
    "        NeighbrhdSize = 3\n",
    "        while success == False:\n",
    "            print(f\"Searching neighborhood {NeighbrhdSize}\")\n",
    "            lowerbnd = -(NeighbrhdSize//2)\n",
    "            upperbnd =  (NeighbrhdSize//2) + 1\n",
    "            neighbors = [(i, j, k) for i in range(lowerbnd, upperbnd) for j in range(lowerbnd, upperbnd) for k in range(lowerbnd, upperbnd)]\n",
    "            neighbors.remove((0,0,0))\n",
    "            for neighbor_offset in neighbors:\n",
    "                nnx, nny, nnz = xxna + neighbor_offset[0], yyna + neighbor_offset[1], zzna + neighbor_offset[2]\n",
    "                if 0 <= nnx < skeleton.shape[0] and 0 <= nny < skeleton.shape[1] and 0 <= nnz < skeleton.shape[2]:\n",
    "                    if skeleton[nnx, nny, nnz] != 0:\n",
    "                        NewAverageNode = (nnx, nny, nnz)\n",
    "                        print(f\"Adjusted the NewAverageNode to {NewAverageNode}\")\n",
    "                        success = True\n",
    "                        break            \n",
    "            NeighbrhdSize += 2\n",
    "\n",
    "    # Now remove the old nodes in cx-cycle\n",
    "    for node in CxNodesCluster:\n",
    "        graph.remove_node(node)\n",
    "    print(f'\\nRemoved the {len(CxNodesCluster)} nodes in cx-cycle')\n",
    "\n",
    "    # Add the new average node\n",
    "    graph.add_node(NewAverageNode)\n",
    "    print('Added new average node')\n",
    "\n",
    "    # Make the new edges/connections\n",
    "    for node in OuterNeighbors:\n",
    "        graph.add_edge(node, NewAverageNode)\n",
    "    print('Added the final edges\\n')\n",
    "\n",
    "    UpdateEdgeLengths(graph)\n",
    "    print_stats(graph)\n",
    "    print()\n",
    "\n",
    "    ReFindAndPrintLength3Cycles(graph)"
   ]
  },
  {
   "cell_type": "code",
   "execution_count": 303,
   "metadata": {},
   "outputs": [],
   "source": [
    "#20 Execute: Resolve all clusters:\n",
    "\n",
    "if CxNodesList: # If not empty, do ..\n",
    "    for cluster in clusters:\n",
    "        ResolveComplexCluster(cluster, graph)"
   ]
  },
  {
   "cell_type": "code",
   "execution_count": 304,
   "metadata": {},
   "outputs": [
    {
     "name": "stdout",
     "output_type": "stream",
     "text": [
      "Number of Nodes: 242\n",
      "Number of Edges: 241\n",
      "\n",
      "This could be a tree.\n"
     ]
    }
   ],
   "source": [
    "#21 Check if it could be a tree:\n",
    "\n",
    "def CheckBeingATree():\n",
    "\n",
    "    num_nodes = nx.number_of_nodes(graph)\n",
    "    num_edges = nx.number_of_edges(graph)\n",
    "\n",
    "    print(\"Number of Nodes:\", num_nodes)\n",
    "    print(\"Number of Edges:\", num_edges)\n",
    "\n",
    "    if num_nodes != num_edges + 1: print(\"\\nThis is not a tree: #nodes != #edges + 1\")\n",
    "    if num_nodes == num_edges + 1: print(\"\\nThis could be a tree.\")\n",
    "\n",
    "CheckBeingATree()"
   ]
  },
  {
   "cell_type": "code",
   "execution_count": 305,
   "metadata": {},
   "outputs": [
    {
     "name": "stdout",
     "output_type": "stream",
     "text": [
      "len(SmallInsideEdges) = 2\n"
     ]
    }
   ],
   "source": [
    "##-21-1 To simplify tree further: Set and visualize SmallInsideEdges, to be removed: Displayed red:\n",
    "\n",
    "UpdateEdgeLengths(graph)\n",
    "\n",
    "# Case-79 root: (480, 196 , 396)\n",
    "# leaf_nodes = [node for node, degree in graph.degree if degree == 1]\n",
    "\n",
    "# size=[6 if node in leaf_nodes else 2 for node in graph.nodes()],\n",
    "# color=['black' if node in leaf_nodes else 'grey' for node in graph.nodes()], # 'grey',\n",
    "# edge_length = graph.edges[edge]['edge_length']\n",
    "# SpecialCondition = edge_length < 10\n",
    "# line=dict(color='rgba(255, 0, 0, 0.6)' if SpecialCondition else 'rgba(128, 128, 128, 0.6)',\n",
    "#             width=6 if SpecialCondition else 2),\n",
    "\n",
    "fig = mlab.figure(size=(2500, 1400), bgcolor=(1, 1, 1))\n",
    "\n",
    "x, y, z = zip(*graph.nodes)\n",
    "mlab.points3d(x, y, z, scale_factor=2, color=(0.2, 0.2, 0.2), opacity=0.7) # color=(1, 0, 0)\n",
    "\n",
    "# Find all terminal edges smaller than LengthThreshold and deeper than InsideMargin\n",
    "InsideMargin = 14\n",
    "LengthThreshold = 14\n",
    "SmallInsideEdges = [edge for edge in graph.edges if\n",
    "                   (graph.degree(edge[0]) == 1 or graph.degree(edge[1]) == 1) and\n",
    "                   (graph.edges[edge]['edge_length'] < LengthThreshold) and\n",
    "\n",
    "                   ((graph.degree(edge[0]) == 1 and distance_transform[*edge[0]]>InsideMargin) or\n",
    "                    (graph.degree(edge[1]) == 1 and distance_transform[*edge[1]]>InsideMargin))\n",
    "                ]\n",
    "\n",
    "print(f\"len(SmallInsideEdges) = {len(SmallInsideEdges)}\")\n",
    "\n",
    "# Create lines for edges\n",
    "for edge in graph.edges:\n",
    "    src, tgt = edge\n",
    "    x = [src[0], tgt[0]]\n",
    "    y = [src[1], tgt[1]]\n",
    "    z = [src[2], tgt[2]]\n",
    "    mlab.plot3d(x, y, z, tube_radius=0.2,\n",
    "                color=(1, 0, 0) if edge in SmallInsideEdges else (0.2, 0.2, 0.2),#(0.2, 0.2, 0.2),\n",
    "                opacity=0.7)\n",
    "\n",
    "# Create contour for the 3D object\n",
    "mlab.contour3d(atree, contours=[0.5], opacity=0.2, color=(0, 151/255, 206/255))\n",
    "\n",
    "winsound.Beep(frequency, duration)\n",
    "mlab.show()"
   ]
  },
  {
   "cell_type": "code",
   "execution_count": 306,
   "metadata": {},
   "outputs": [],
   "source": [
    "##-21-2 Keep another copy of the graph:\n",
    "\n",
    "graphintact2 = copy.deepcopy(graph)\n",
    "skeletonintact2 = copy.deepcopy(skeleton)\n",
    "\n",
    "#RR To refresh your graph once it's messed below, come back to this:\n",
    "# graph = copy.deepcopy(graphintact2)\n",
    "# skeleton = copy.deepcopy(skeletonintact2)"
   ]
  },
  {
   "cell_type": "code",
   "execution_count": 307,
   "metadata": {},
   "outputs": [],
   "source": [
    "##-22 Function: Traverse edge and calculate average diameter function, given endpoint indices and skeleton *\n",
    "\n",
    "import numpy as np\n",
    "import copy\n",
    "import random\n",
    "import time\n",
    "\n",
    "def traverse_edge_and_average(skeletonn, edt, index1, index2, EdgeNum): # edt: eucledean distance transform\n",
    "\n",
    "    global verbose\n",
    "    global StartTime\n",
    "    \n",
    "    # normalize_vector = lambda vec: vec / np.linalg.norm(vec)\n",
    "    if verbose: print(f\"Trying to go from {index1} to {index2}\")\n",
    "\n",
    "    # Define the neighborhood offsets for 3D traversal (26-connected)\n",
    "    neighbors = [(i, j, k) for i in range(-1, 2) for j in range(-1, 2) for k in range(-1, 2)]\n",
    "    neighbors.remove((0,0,0))\n",
    "    \n",
    "    average_diameter = None\n",
    "    timestried = 0\n",
    "    while average_diameter == None and timestried < 2000:\n",
    "\n",
    "        # Initialize variables to store diameter values and count\n",
    "        if verbose: print(f\"Attempt {timestried+1}: \", end='')\n",
    "        skeletonnn = copy.deepcopy(skeletonn)\n",
    "        diameter_sum = 0.0\n",
    "        count = 0\n",
    "\n",
    "        # Start traversal at index1\n",
    "        current_index = index1\n",
    "        visitedvoxels = []\n",
    "\n",
    "        while current_index != index2:\n",
    "\n",
    "            # print(\"current_index:\", current_index) # Great for debugging\n",
    "\n",
    "            if current_index == None: break\n",
    "            visitedvoxels.append(current_index)\n",
    "\n",
    "            # Get the current voxel's coordinates\n",
    "            x, y, z = current_index\n",
    "\n",
    "            # Check if the current voxel is within the skeleton and within bounds\n",
    "            if 0 <= x < skeletonnn.shape[0] and 0 <= y < skeletonnn.shape[1] and 0 <= z < skeletonnn.shape[2]:\n",
    "                if skeletonnn[x, y, z] != 0:\n",
    "                    # If the current voxel is part of the skeleton, add its diameter to the sum\n",
    "                    diameter_sum += edt[x, y, z]\n",
    "                    count += 1\n",
    "\n",
    "                    # Mark the current voxel as visited (you can set it to 0 if necessary)\n",
    "                    skeletonnn[x, y, z] = 0  # Uncomment this line if you want to mark visited voxels\n",
    "                    \n",
    "                    max_alignment = float('-inf')\n",
    "                    next_index = None\n",
    "\n",
    "\n",
    "                    ## Logic to choose next voxel:\n",
    "\n",
    "                    # Logic-1: Deterministic:\n",
    "                    # for neighbor_offset in neighbors:\n",
    "                    #     nx, ny, nz = x + neighbor_offset[0], y + neighbor_offset[1], z + neighbor_offset[2]\n",
    "\n",
    "                    #     strghtdirectiont = tuple(np.array(index2) - np.array(current_index))\n",
    "                    #     strghtdirectionu = normalize_vector(strghtdirectiont)\n",
    "                    #     neighbor_offsetu = normalize_vector(neighbor_offset )\n",
    "                    #     currentalignment = np.dot(neighbor_offsetu, strghtdirectionu)\n",
    "                        \n",
    "                    #     if 0 <= nx < skeletonn.shape[0] and 0 <= ny < skeletonn.shape[1] and 0 <= nz < skeletonn.shape[2]:\n",
    "                    #         if skeletonn[nx, ny, nz] != 0 and currentalignment > max_alignment:\n",
    "                    #             max_alignment = currentalignment\n",
    "                    #             next_index = (nx, ny, nz)\n",
    "\n",
    "                    # Logic-2: Random walk:\n",
    "                    while True:\n",
    "                        if not any([skeletonnn[*tuple(np.array(current_index)+np.array(neigh))] for neigh in neighbors]): break\n",
    "                        neighbor_offset = random.choice(neighbors)\n",
    "                        nnx, nny, nnz = x + neighbor_offset[0], y + neighbor_offset[1], z + neighbor_offset[2]\n",
    "                        if 0 <= nnx < skeletonnn.shape[0] and 0 <= nny < skeletonnn.shape[1] and 0 <= nnz < skeletonnn.shape[2]:\n",
    "                            if skeletonnn[nnx, nny, nnz] != 0:\n",
    "                                next_index = (nnx, nny, nnz)\n",
    "                                break\n",
    "\n",
    "\n",
    "                    # Update the current index to the next voxel in the skeleton\n",
    "                    current_index = next_index\n",
    "                else:\n",
    "                    # If the current voxel is not part of the skeleton, stop the traversal\n",
    "                    break\n",
    "            else:\n",
    "                # If the current index is out of bounds, stop the traversal\n",
    "                break\n",
    "        \n",
    "        if current_index != index2:\n",
    "            if verbose: print(f\"Error! Couldn't get from {index1} to {index2}! Returned None.\")\n",
    "            pass\n",
    "\n",
    "        # Set the output\n",
    "        if count > 0 and current_index == index2:\n",
    "            average_diameter = diameter_sum / count\n",
    "\n",
    "        del skeletonnn\n",
    "        timestried += 1\n",
    "\n",
    "    if current_index == index2:\n",
    "        if verbose: print(f\"\\nDone. Got to {index2}\\n\")\n",
    "        pass\n",
    "\n",
    "    num_edges = nx.number_of_edges(graph)\n",
    "\n",
    "    try:\n",
    "        # Your statement or code that might raise an error goes here\n",
    "        print(f\"Edge #{EdgeNum:3}/{num_edges}; AvgDiam: {average_diameter:010.7f}; TimeElapsed: {(time.time() - StartTime):07.2f}\" + (\"\\n\" if verbose else \"\"))\n",
    "    except Exception as e:\n",
    "        # This block will execute if an error occurs\n",
    "        winsound.Beep(4000, 300)    \n",
    "    # print(f\"Edge #{EdgeNum:3}/{num_edges}; AvgDiam: {average_diameter:010.7f}; TimeElapsed: {(time.time() - StartTime):07.2f}\" + (\"\\n\" if verbose else \"\"))\n",
    "\n",
    "    return average_diameter, visitedvoxels"
   ]
  },
  {
   "cell_type": "code",
   "execution_count": 308,
   "metadata": {},
   "outputs": [
    {
     "name": "stdout",
     "output_type": "stream",
     "text": [
      "Removed small edges inside the volume/ near the root.\n",
      "Removed skeleton voxels corresponding to small edges inside the volume/ near the root.\n"
     ]
    }
   ],
   "source": [
    "##-21-3 Given 'graph': Find and remove all edges in SmallInsideEdges: Changes the graph:\n",
    "# All terminal edges smaller than LengthThreshold and deeper than InsideMargin\n",
    "\n",
    "StartTime = time.time()\n",
    "\n",
    "visitedvoxelstot = []\n",
    "\n",
    "for indxe, edge in enumerate(SmallInsideEdges):\n",
    "\n",
    "    node1, node2 = edge\n",
    "\n",
    "    Node1IsOrWasDegree1 = graph.degree(node1)==1\n",
    "    \n",
    "    if graph.degree(node1)==1: graph.remove_node(node1)\n",
    "    if graph.degree(node2)==1: graph.remove_node(node2)\n",
    "\n",
    "    TheDegree1Node = node1 if Node1IsOrWasDegree1 else node2\n",
    "    NodeOnMainstem = node2 if Node1IsOrWasDegree1 else node1\n",
    "\n",
    "    # print(f\"Trying to remove from skeleton: {TheDegree1Node}->{NodeOnMainstem}\")\n",
    "\n",
    "    # skeletonn = copy.deepcopy(skeleton)\n",
    "    # avgdiam, visitedvoxels = traverse_edge_and_average(skeletonn, distance_transform, TheDegree1Node, NodeOnMainstem, 5)\n",
    "    # visitedvoxelstot.append(visitedvoxels)\n",
    "    # del skeletonn\n",
    "\n",
    "    # print(indxe)\n",
    "    # print(\"visitedvoxels:\", visitedvoxels)\n",
    "    # print()\n",
    "\n",
    "# for vxt in visitedvoxelstot:\n",
    "#     if len(vxt)>1:\n",
    "#         for vx in vxt:\n",
    "#             skeleton[*vx] = 0\n",
    "#             print(f\"deleted voxel: {vx}\")\n",
    "\n",
    "RemoveAndReconnectDegree2Nodes(graph)\n",
    "UpdateEdgeLengths(graph)\n",
    "\n",
    "print(\"Removed small edges inside the volume/ near the root.\")\n",
    "print(\"Removed skeleton voxels corresponding to small edges inside the volume/ near the root.\")"
   ]
  },
  {
   "cell_type": "code",
   "execution_count": 309,
   "metadata": {},
   "outputs": [
    {
     "name": "stdout",
     "output_type": "stream",
     "text": [
      "Automatically found root: (134, 148, 248)\n"
     ]
    }
   ],
   "source": [
    "#21-4 Automatically find the root:\n",
    "\n",
    "leaf_nodes = [node for node, degree in graph.degree if degree == 1]\n",
    "MaxDistance = -10\n",
    "root = []\n",
    "for node in leaf_nodes:\n",
    "    if distance_transform[node]>MaxDistance:\n",
    "        root = node\n",
    "        MaxDistance = distance_transform[node]\n",
    "print(\"Automatically found root:\", root)\n"
   ]
  },
  {
   "cell_type": "code",
   "execution_count": 310,
   "metadata": {},
   "outputs": [],
   "source": [
    "#21-5 Visualize: Verify the root is found correct:\n",
    "\n",
    "# size=[6 if node in leaf_nodes else 2 for node in graph.nodes()],\n",
    "# color=['black' if node in leaf_nodes else 'grey' for node in graph.nodes()], # 'grey',\n",
    "# line=dict(color='rgba(255, 0, 0, 0.6)' if SpecialCondition else 'rgba(128, 128, 128, 0.6)',\n",
    "#             width=6 if SpecialCondition else 2),\n",
    "\n",
    "fig = mlab.figure(size=(2500, 1400), bgcolor=(1, 1, 1))\n",
    "\n",
    "x, y, z = zip(*graph.nodes)\n",
    "mlab.points3d(x, y, z,\n",
    "              scale_factor=2,\n",
    "              color=(0.2, 0.2, 0.2), # ['red' if node == root else 'grey' for node in graph.nodes()]\n",
    "              opacity=0.7) # color=(1, 0, 0)\n",
    "\n",
    "#  Add the new node with a different scale_factor and color\n",
    "mlab.points3d(root[0], root[1], root[2],\n",
    "              scale_factor=14,  # Adjust the scale factor as needed\n",
    "              color=(1, 0, 0),  # Change color as desired (e.g., red)\n",
    "              opacity=0.7)\n",
    "\n",
    "# Create lines for edges\n",
    "# for edge in graph.edges:\n",
    "#     src, tgt = edge\n",
    "#     x = [src[0], tgt[0]]\n",
    "#     y = [src[1], tgt[1]]\n",
    "#     z = [src[2], tgt[2]]\n",
    "#     mlab.plot3d(x, y, z, tube_radius=0.2,\n",
    "#                 color=(1, 0, 0) if edge in SmallInsideEdges else (0.2, 0.2, 0.2),#(0.2, 0.2, 0.2),\n",
    "#                 opacity=0.7)\n",
    "\n",
    "# Create contour for the 3D object\n",
    "mlab.contour3d(atree, contours=[0.5], opacity=0.2, color=(0, 151/255, 206/255))\n",
    "\n",
    "winsound.Beep(frequency, duration)\n",
    "mlab.show()"
   ]
  },
  {
   "cell_type": "code",
   "execution_count": null,
   "metadata": {},
   "outputs": [],
   "source": [
    "# #23-2 Only test: traverse_edge_and_average for two points:\n",
    "\n",
    "# index1 = (423, 232, 374)\n",
    "# index2 = (412, 245, 380)\n",
    "\n",
    "# skeletonn = copy.deepcopy(skeleton)\n",
    "# avgdiam, visitedvoxels = traverse_edge_and_average(skeletonn, distance_transform, index1, index2, 5)\n",
    "# del skeletonn\n",
    "\n",
    "# if avgdiam is not None:\n",
    "#     print(f\"Average Diameter between {index1} and {index2}: {avgdiam:.2f}\")\n",
    "# else:\n",
    "#     print(\"No skeleton found between the specified indices.\")"
   ]
  },
  {
   "cell_type": "code",
   "execution_count": null,
   "metadata": {},
   "outputs": [],
   "source": [
    "# #23-3 Test: Use mayavi to visualize the intended start and end points, plus the taken route, from the above test cell:\n",
    "\n",
    "# import mayavi.mlab as mlab\n",
    "# import numpy as np\n",
    "\n",
    "# # Create a figure\n",
    "# fig = mlab.figure(size=(800, 800), bgcolor=(1, 1, 1))\n",
    "\n",
    "# # Plot the skeleton in blue (0 values will be transparent)\n",
    "# mlab.contour3d(skeleton, color=(0, 0, 1), opacity=0.4)\n",
    "\n",
    "# # Highlight the visited voxels in red\n",
    "# for voxel in visitedvoxels:\n",
    "#     # print(voxel)\n",
    "#     x, y, z = voxel\n",
    "#     mlab.points3d(x, y, z, color=(1, 0, 0), scale_factor=1.0) # , mode='sphere'\n",
    "\n",
    "# for voxel in [index1, index2]:\n",
    "#     # print(voxel)\n",
    "#     x, y, z = voxel\n",
    "#     mlab.points3d(x, y, z, color=(1, 0, 0), scale_factor=4.0) # , mode='sphere'\n",
    "\n",
    "# # Customize the view and axes as needed\n",
    "# mlab.view(azimuth=45, elevation=45, distance=20)\n",
    "# # mlab.axes()\n",
    "\n",
    "# # Show the visualization\n",
    "# mlab.show()"
   ]
  },
  {
   "cell_type": "code",
   "execution_count": 311,
   "metadata": {},
   "outputs": [
    {
     "ename": "KeyError",
     "evalue": "(373, 131, 323)",
     "output_type": "error",
     "traceback": [
      "\u001b[1;31m---------------------------------------------------------------------------\u001b[0m",
      "\u001b[1;31mKeyError\u001b[0m                                  Traceback (most recent call last)",
      "\u001b[1;32mc:\\Users\\nichmoore\\Documents\\GitHub\\RA4-Project\\C13-Graphs-Networkx (1).ipynb Cell 32\u001b[0m line \u001b[0;36m3\n\u001b[0;32m     <a href='vscode-notebook-cell:/c%3A/Users/nichmoore/Documents/GitHub/RA4-Project/C13-Graphs-Networkx%20%281%29.ipynb#X43sZmlsZQ%3D%3D?line=28'>29</a>\u001b[0m \u001b[39melse\u001b[39;00m:\n\u001b[0;32m     <a href='vscode-notebook-cell:/c%3A/Users/nichmoore/Documents/GitHub/RA4-Project/C13-Graphs-Networkx%20%281%29.ipynb#X43sZmlsZQ%3D%3D?line=29'>30</a>\u001b[0m     root \u001b[39m=\u001b[39m \u001b[39meval\u001b[39m(user_input)\n\u001b[1;32m---> <a href='vscode-notebook-cell:/c%3A/Users/nichmoore/Documents/GitHub/RA4-Project/C13-Graphs-Networkx%20%281%29.ipynb#X43sZmlsZQ%3D%3D?line=31'>32</a>\u001b[0m digraph \u001b[39m=\u001b[39m nx\u001b[39m.\u001b[39;49mdfs_tree(graph, source\u001b[39m=\u001b[39;49mroot) \u001b[39m# Create a directed graph starting from the specified root node\u001b[39;00m\n\u001b[0;32m     <a href='vscode-notebook-cell:/c%3A/Users/nichmoore/Documents/GitHub/RA4-Project/C13-Graphs-Networkx%20%281%29.ipynb#X43sZmlsZQ%3D%3D?line=32'>33</a>\u001b[0m StartTime \u001b[39m=\u001b[39m time\u001b[39m.\u001b[39mtime()\n\u001b[0;32m     <a href='vscode-notebook-cell:/c%3A/Users/nichmoore/Documents/GitHub/RA4-Project/C13-Graphs-Networkx%20%281%29.ipynb#X43sZmlsZQ%3D%3D?line=33'>34</a>\u001b[0m EdgeNum \u001b[39m=\u001b[39m \u001b[39m1\u001b[39m\n",
      "File \u001b[1;32mc:\\Users\\nichmoore\\Documents\\GitHub\\RA4-Project\\venvnick\\Lib\\site-packages\\networkx\\algorithms\\traversal\\depth_first_search.py:139\u001b[0m, in \u001b[0;36mdfs_tree\u001b[1;34m(G, source, depth_limit)\u001b[0m\n\u001b[0;32m    137\u001b[0m \u001b[39melse\u001b[39;00m:\n\u001b[0;32m    138\u001b[0m     T\u001b[39m.\u001b[39madd_node(source)\n\u001b[1;32m--> 139\u001b[0m T\u001b[39m.\u001b[39;49madd_edges_from(dfs_edges(G, source, depth_limit))\n\u001b[0;32m    140\u001b[0m \u001b[39mreturn\u001b[39;00m T\n",
      "File \u001b[1;32mc:\\Users\\nichmoore\\Documents\\GitHub\\RA4-Project\\venvnick\\Lib\\site-packages\\networkx\\classes\\digraph.py:768\u001b[0m, in \u001b[0;36mDiGraph.add_edges_from\u001b[1;34m(self, ebunch_to_add, **attr)\u001b[0m\n\u001b[0;32m    713\u001b[0m \u001b[39mdef\u001b[39;00m \u001b[39madd_edges_from\u001b[39m(\u001b[39mself\u001b[39m, ebunch_to_add, \u001b[39m*\u001b[39m\u001b[39m*\u001b[39mattr):\n\u001b[0;32m    714\u001b[0m \u001b[39m    \u001b[39m\u001b[39m\"\"\"Add all the edges in ebunch_to_add.\u001b[39;00m\n\u001b[0;32m    715\u001b[0m \n\u001b[0;32m    716\u001b[0m \u001b[39m    Parameters\u001b[39;00m\n\u001b[1;32m   (...)\u001b[0m\n\u001b[0;32m    766\u001b[0m \u001b[39m    >>> G.add_edges_from(list((5, n) for n in G.nodes))\u001b[39;00m\n\u001b[0;32m    767\u001b[0m \u001b[39m    \"\"\"\u001b[39;00m\n\u001b[1;32m--> 768\u001b[0m     \u001b[39mfor\u001b[39;00m e \u001b[39min\u001b[39;00m ebunch_to_add:\n\u001b[0;32m    769\u001b[0m         ne \u001b[39m=\u001b[39m \u001b[39mlen\u001b[39m(e)\n\u001b[0;32m    770\u001b[0m         \u001b[39mif\u001b[39;00m ne \u001b[39m==\u001b[39m \u001b[39m3\u001b[39m:\n",
      "File \u001b[1;32mc:\\Users\\nichmoore\\Documents\\GitHub\\RA4-Project\\venvnick\\Lib\\site-packages\\networkx\\algorithms\\traversal\\depth_first_search.py:84\u001b[0m, in \u001b[0;36mdfs_edges\u001b[1;34m(G, source, depth_limit)\u001b[0m\n\u001b[0;32m     82\u001b[0m     \u001b[39mcontinue\u001b[39;00m\n\u001b[0;32m     83\u001b[0m visited\u001b[39m.\u001b[39madd(start)\n\u001b[1;32m---> 84\u001b[0m stack \u001b[39m=\u001b[39m [(start, depth_limit, \u001b[39miter\u001b[39m(G[start]))]\n\u001b[0;32m     85\u001b[0m \u001b[39mwhile\u001b[39;00m stack:\n\u001b[0;32m     86\u001b[0m     parent, depth_now, children \u001b[39m=\u001b[39m stack[\u001b[39m-\u001b[39m\u001b[39m1\u001b[39m]\n",
      "File \u001b[1;32mc:\\Users\\nichmoore\\Documents\\GitHub\\RA4-Project\\venvnick\\Lib\\site-packages\\networkx\\classes\\graph.py:513\u001b[0m, in \u001b[0;36mGraph.__getitem__\u001b[1;34m(self, n)\u001b[0m\n\u001b[0;32m    489\u001b[0m \u001b[39mdef\u001b[39;00m \u001b[39m__getitem__\u001b[39m(\u001b[39mself\u001b[39m, n):\n\u001b[0;32m    490\u001b[0m \u001b[39m    \u001b[39m\u001b[39m\"\"\"Returns a dict of neighbors of node n.  Use: 'G[n]'.\u001b[39;00m\n\u001b[0;32m    491\u001b[0m \n\u001b[0;32m    492\u001b[0m \u001b[39m    Parameters\u001b[39;00m\n\u001b[1;32m   (...)\u001b[0m\n\u001b[0;32m    511\u001b[0m \u001b[39m    AtlasView({1: {}})\u001b[39;00m\n\u001b[0;32m    512\u001b[0m \u001b[39m    \"\"\"\u001b[39;00m\n\u001b[1;32m--> 513\u001b[0m     \u001b[39mreturn\u001b[39;00m \u001b[39mself\u001b[39;49m\u001b[39m.\u001b[39;49madj[n]\n",
      "File \u001b[1;32mc:\\Users\\nichmoore\\Documents\\GitHub\\RA4-Project\\venvnick\\Lib\\site-packages\\networkx\\classes\\coreviews.py:81\u001b[0m, in \u001b[0;36mAdjacencyView.__getitem__\u001b[1;34m(self, name)\u001b[0m\n\u001b[0;32m     80\u001b[0m \u001b[39mdef\u001b[39;00m \u001b[39m__getitem__\u001b[39m(\u001b[39mself\u001b[39m, name):\n\u001b[1;32m---> 81\u001b[0m     \u001b[39mreturn\u001b[39;00m AtlasView(\u001b[39mself\u001b[39;49m\u001b[39m.\u001b[39;49m_atlas[name])\n",
      "\u001b[1;31mKeyError\u001b[0m: (373, 131, 323)"
     ]
    }
   ],
   "source": [
    "##-24 Main function calling the traverse function: $$$ root = () or Enter !!**\n",
    "# input_string = '(480, 196, 396)'\n",
    "\n",
    "# Fucntion: fully traverse the directed tree visiting all edges:\n",
    "def traverse_full_tree(digraph, current_node):\n",
    "    global EdgeNum\n",
    "    # Find and process the outgoing edges from the current node\n",
    "    for successor in digraph.successors(current_node):\n",
    "        # Run the FindDiameter function for the current edge\n",
    "        digraph[current_node][successor]['AvgDiameter'] = FindDiameter(current_node, successor, EdgeNum)\n",
    "        EdgeNum += 1\n",
    "        # Recursively traverse the tree from the successor node\n",
    "        traverse_full_tree(digraph, successor)\n",
    "\n",
    "def FindDiameter(node1, node2, EdgeNum):\n",
    "    # print(f\"Finding avg diameter btw nodes {node1} and {node2}\")\n",
    "    skeletonn = copy.deepcopy(skeleton)\n",
    "    avgdiam, visitedvoxels = traverse_edge_and_average(skeletonn, distance_transform, node1, node2, EdgeNum)\n",
    "    del skeletonn\n",
    "    return avgdiam\n",
    "\n",
    "# Main: Start the traversal from a specified root node:\n",
    "import time\n",
    "\n",
    "winsound.Beep(frequency, duration)\n",
    "user_input = input(\"If root was OK just press Enter; if not, enter the root: eg (100, 20, 18): [Cell-24>>Cell-16]: \")\n",
    "if user_input.strip() == \"\": # (436, 69, 207) for Case-53! # (480, 196 , 396) for Case-79\n",
    "    pass\n",
    "else:\n",
    "    root = eval(user_input)\n",
    "\n",
    "digraph = nx.dfs_tree(graph, source=root) # Create a directed graph starting from the specified root node\n",
    "StartTime = time.time()\n",
    "EdgeNum = 1\n",
    "traverse_full_tree(digraph, root)\n",
    "print('\\nDone.')\n",
    "\n",
    "# Example Error: Attempt 60: Error! Couldn't get from (477, 282, 383) to (466, 270, 425)! Returned None."
   ]
  },
  {
   "cell_type": "code",
   "execution_count": 212,
   "metadata": {},
   "outputs": [
    {
     "name": "stdout",
     "output_type": "stream",
     "text": [
      "Reality check: First 3 edges:\n",
      "\n",
      "Edge ((440, 222, 359) -> (437, 252, 383)):\n",
      "  AvgDiameter: 23.712814555374038\n",
      "\n",
      "Edge ((437, 252, 383) -> (499, 310, 390)):\n",
      "  AvgDiameter: 23.697667024282463\n",
      "\n",
      "Edge ((437, 252, 383) -> (360, 293, 367)):\n",
      "  AvgDiameter: 19.054089764244807\n",
      "\n"
     ]
    }
   ],
   "source": [
    "#25 Get the first three edges and their properties as a reality check:\n",
    "\n",
    "print(\"Reality check: First 3 edges:\\n\")\n",
    "first_three_edges = list(digraph.edges(data=True))[:3]\n",
    "# Iterate through the first three edges and print their properties\n",
    "for edge in first_three_edges:\n",
    "    source, target, attributes = edge\n",
    "    print(f\"Edge ({source} -> {target}):\")\n",
    "    for key, value in attributes.items():\n",
    "        print(f\"  {key}: {value}\")\n",
    "    print(\"\")"
   ]
  },
  {
   "cell_type": "code",
   "execution_count": 213,
   "metadata": {},
   "outputs": [
    {
     "name": "stdout",
     "output_type": "stream",
     "text": [
      "Edge: (440, 222, 359) -> (437, 252, 383), Order: 6\n",
      "Edge: (437, 252, 383) -> (499, 310, 390), Order: 5\n",
      "Edge: (437, 252, 383) -> (360, 293, 367), Order: 5\n",
      "Edge: (499, 310, 390) -> (507, 302, 388), Order: 4\n",
      "Edge: (499, 310, 390) -> (513, 330, 388), Order: 4\n",
      "Edge: (507, 302, 388) -> (536, 273, 359), Order: 3\n",
      "Edge: (507, 302, 388) -> (525, 281, 417), Order: 3\n",
      "Edge: (536, 273, 359) -> (559, 219, 369), Order: 2\n",
      "Edge: (536, 273, 359) -> (561, 245, 322), Order: 2\n",
      "Edge: (559, 219, 369) -> (543, 188, 362), Order: 2\n",
      "Edge: (559, 219, 369) -> (608, 162, 355), Order: 1\n",
      "Edge: (543, 188, 362) -> (505, 163, 350), Order: 1\n",
      "Edge: (543, 188, 362) -> (539, 151, 347), Order: 1\n",
      "Edge: (561, 245, 322) -> (560, 77, 245), Order: 1\n",
      "Edge: (561, 245, 322) -> (580, 230, 302), Order: 2\n",
      "Edge: (580, 230, 302) -> (607, 140, 211), Order: 1\n",
      "Edge: (580, 230, 302) -> (629, 161, 262), Order: 1\n",
      "Edge: (525, 281, 417) -> (521, 274, 429), Order: 2\n",
      "Edge: (525, 281, 417) -> (555, 270, 453), Order: 2\n",
      "Edge: (521, 274, 429) -> (515, 221, 440), Order: 2\n",
      "Edge: (521, 274, 429) -> (514, 272, 515), Order: 1\n",
      "Edge: (515, 221, 440) -> (509, 209, 434), Order: 1\n",
      "Edge: (515, 221, 440) -> (513, 217, 462), Order: 2\n",
      "Edge: (513, 217, 462) -> (493, 205, 470), Order: 1\n",
      "Edge: (513, 217, 462) -> (528, 207, 476), Order: 1\n",
      "Edge: (555, 270, 453) -> (557, 268, 473), Order: 2\n",
      "Edge: (555, 270, 453) -> (596, 248, 458), Order: 1\n",
      "Edge: (557, 268, 473) -> (557, 269, 518), Order: 1\n",
      "Edge: (557, 268, 473) -> (568, 268, 478), Order: 1\n",
      "Edge: (513, 330, 388) -> (539, 337, 413), Order: 3\n",
      "Edge: (513, 330, 388) -> (531, 340, 364), Order: 4\n",
      "Edge: (539, 337, 413) -> (544, 349, 445), Order: 3\n",
      "Edge: (539, 337, 413) -> (578, 334, 420), Order: 2\n",
      "Edge: (544, 349, 445) -> (545, 348, 475), Order: 3\n",
      "Edge: (544, 349, 445) -> (550, 360, 449), Order: 2\n",
      "Edge: (545, 348, 475) -> (512, 333, 569), Order: 2\n",
      "Edge: (545, 348, 475) -> (587, 350, 539), Order: 2\n",
      "Edge: (512, 333, 569) -> (503, 326, 578), Order: 1\n",
      "Edge: (512, 333, 569) -> (518, 330, 591), Order: 1\n",
      "Edge: (587, 350, 539) -> (588, 345, 545), Order: 1\n",
      "Edge: (587, 350, 539) -> (589, 357, 544), Order: 1\n",
      "Edge: (550, 360, 449) -> (542, 394, 497), Order: 1\n",
      "Edge: (550, 360, 449) -> (553, 365, 450), Order: 2\n",
      "Edge: (553, 365, 450) -> (551, 380, 452), Order: 1\n",
      "Edge: (553, 365, 450) -> (592, 380, 487), Order: 1\n",
      "Edge: (578, 334, 420) -> (619, 319, 442), Order: 1\n",
      "Edge: (578, 334, 420) -> (637, 353, 429), Order: 1\n",
      "Edge: (531, 340, 364) -> (525, 362, 365), Order: 2\n",
      "Edge: (531, 340, 364) -> (544, 343, 348), Order: 4\n",
      "Edge: (525, 362, 365) -> (517, 391, 321), Order: 2\n",
      "Edge: (525, 362, 365) -> (519, 427, 407), Order: 1\n",
      "Edge: (517, 391, 321) -> (508, 387, 292), Order: 1\n",
      "Edge: (517, 391, 321) -> (522, 435, 312), Order: 1\n",
      "Edge: (544, 343, 348) -> (560, 422, 369), Order: 1\n",
      "Edge: (544, 343, 348) -> (546, 342, 343), Order: 4\n",
      "Edge: (546, 342, 343) -> (552, 342, 319), Order: 4\n",
      "Edge: (546, 342, 343) -> (624, 283, 356), Order: 1\n",
      "Edge: (552, 342, 319) -> (552, 345, 312), Order: 4\n",
      "Edge: (552, 342, 319) -> (572, 308, 290), Order: 2\n",
      "Edge: (552, 345, 312) -> (539, 379, 252), Order: 3\n",
      "Edge: (552, 345, 312) -> (554, 346, 306), Order: 3\n",
      "Edge: (539, 379, 252) -> (514, 348, 185), Order: 1\n",
      "Edge: (539, 379, 252) -> (540, 388, 240), Order: 3\n",
      "Edge: (540, 388, 240) -> (532, 392, 210), Order: 2\n",
      "Edge: (540, 388, 240) -> (550, 405, 226), Order: 2\n",
      "Edge: (532, 392, 210) -> (514, 406, 193), Order: 1\n",
      "Edge: (532, 392, 210) -> (524, 415, 115), Order: 1\n",
      "Edge: (550, 405, 226) -> (542, 466, 171), Order: 1\n",
      "Edge: (550, 405, 226) -> (596, 425, 177), Order: 1\n",
      "Edge: (554, 346, 306) -> (554, 347, 305), Order: 1\n",
      "Edge: (554, 346, 306) -> (568, 344, 281), Order: 3\n",
      "Edge: (568, 344, 281) -> (579, 331, 259), Order: 2\n",
      "Edge: (568, 344, 281) -> (569, 346, 280), Order: 3\n",
      "Edge: (579, 331, 259) -> (692, 348, 215), Order: 1\n",
      "Edge: (579, 331, 259) -> (595, 313, 216), Order: 2\n",
      "Edge: (595, 313, 216) -> (725, 287, 89), Order: 1\n",
      "Edge: (595, 313, 216) -> (685, 321, 161), Order: 1\n",
      "Edge: (569, 346, 280) -> (581, 389, 285), Order: 2\n",
      "Edge: (569, 346, 280) -> (592, 351, 226), Order: 2\n",
      "Edge: (581, 389, 285) -> (591, 417, 266), Order: 1\n",
      "Edge: (581, 389, 285) -> (633, 412, 291), Order: 1\n",
      "Edge: (592, 351, 226) -> (599, 347, 209), Order: 1\n",
      "Edge: (592, 351, 226) -> (674, 391, 189), Order: 1\n",
      "Edge: (572, 308, 290) -> (611, 226, 181), Order: 1\n",
      "Edge: (572, 308, 290) -> (577, 307, 290), Order: 2\n",
      "Edge: (577, 307, 290) -> (654, 314, 291), Order: 1\n",
      "Edge: (577, 307, 290) -> (637, 272, 245), Order: 2\n",
      "Edge: (637, 272, 245) -> (676, 222, 206), Order: 1\n",
      "Edge: (637, 272, 245) -> (672, 271, 211), Order: 1\n",
      "Edge: (360, 293, 367) -> (318, 291, 408), Order: 4\n",
      "Edge: (360, 293, 367) -> (302, 290, 350), Order: 5\n",
      "Edge: (318, 291, 408) -> (301, 284, 408), Order: 3\n",
      "Edge: (318, 291, 408) -> (311, 305, 431), Order: 4\n",
      "Edge: (301, 284, 408) -> (286, 251, 415), Order: 2\n",
      "Edge: (301, 284, 408) -> (256, 316, 425), Order: 3\n",
      "Edge: (286, 251, 415) -> (227, 186, 415), Order: 1\n",
      "Edge: (286, 251, 415) -> (292, 205, 409), Order: 1\n",
      "Edge: (256, 316, 425) -> (221, 325, 427), Order: 2\n",
      "Edge: (256, 316, 425) -> (240, 347, 443), Order: 2\n",
      "Edge: (221, 325, 427) -> (161, 312, 442), Order: 1\n",
      "Edge: (221, 325, 427) -> (184, 338, 419), Order: 1\n",
      "Edge: (240, 347, 443) -> (222, 356, 461), Order: 1\n",
      "Edge: (240, 347, 443) -> (223, 376, 442), Order: 1\n",
      "Edge: (311, 305, 431) -> (308, 328, 454), Order: 3\n",
      "Edge: (311, 305, 431) -> (294, 291, 462), Order: 3\n",
      "Edge: (308, 328, 454) -> (301, 358, 455), Order: 1\n",
      "Edge: (308, 328, 454) -> (304, 339, 479), Order: 3\n",
      "Edge: (304, 339, 479) -> (302, 341, 480), Order: 2\n",
      "Edge: (304, 339, 479) -> (315, 339, 495), Order: 2\n",
      "Edge: (302, 341, 480) -> (248, 351, 540), Order: 2\n",
      "Edge: (302, 341, 480) -> (289, 375, 499), Order: 1\n",
      "Edge: (248, 351, 540) -> (210, 344, 543), Order: 1\n",
      "Edge: (248, 351, 540) -> (247, 352, 555), Order: 1\n",
      "Edge: (315, 339, 495) -> (323, 340, 556), Order: 1\n",
      "Edge: (315, 339, 495) -> (331, 336, 498), Order: 1\n",
      "Edge: (294, 291, 462) -> (240, 283, 483), Order: 2\n",
      "Edge: (294, 291, 462) -> (292, 284, 472), Order: 2\n",
      "Edge: (240, 283, 483) -> (235, 284, 486), Order: 2\n",
      "Edge: (240, 283, 483) -> (239, 273, 483), Order: 1\n",
      "Edge: (235, 284, 486) -> (224, 283, 483), Order: 1\n",
      "Edge: (235, 284, 486) -> (224, 283, 521), Order: 1\n",
      "Edge: (292, 284, 472) -> (275, 240, 475), Order: 1\n",
      "Edge: (292, 284, 472) -> (297, 285, 495), Order: 1\n",
      "Edge: (302, 290, 350) -> (257, 257, 377), Order: 3\n",
      "Edge: (302, 290, 350) -> (285, 290, 340), Order: 5\n",
      "Edge: (257, 257, 377) -> (220, 258, 385), Order: 2\n",
      "Edge: (257, 257, 377) -> (253, 223, 363), Order: 2\n",
      "Edge: (220, 258, 385) -> (199, 254, 392), Order: 2\n",
      "Edge: (220, 258, 385) -> (217, 268, 375), Order: 1\n",
      "Edge: (199, 254, 392) -> (166, 226, 409), Order: 1\n",
      "Edge: (199, 254, 392) -> (163, 258, 386), Order: 1\n",
      "Edge: (253, 223, 363) -> (233, 215, 364), Order: 1\n",
      "Edge: (253, 223, 363) -> (258, 198, 353), Order: 2\n",
      "Edge: (258, 198, 353) -> (257, 136, 328), Order: 1\n",
      "Edge: (258, 198, 353) -> (271, 184, 349), Order: 1\n",
      "Edge: (285, 290, 340) -> (263, 263, 323), Order: 4\n",
      "Edge: (285, 290, 340) -> (271, 302, 335), Order: 4\n",
      "Edge: (263, 263, 323) -> (264, 262, 323), Order: 1\n",
      "Edge: (263, 263, 323) -> (246, 238, 296), Order: 4\n",
      "Edge: (246, 238, 296) -> (244, 240, 295), Order: 3\n",
      "Edge: (246, 238, 296) -> (242, 193, 275), Order: 3\n",
      "Edge: (244, 240, 295) -> (179, 232, 275), Order: 2\n",
      "Edge: (244, 240, 295) -> (225, 203, 239), Order: 2\n",
      "Edge: (179, 232, 275) -> (133, 215, 246), Order: 2\n",
      "Edge: (179, 232, 275) -> (168, 210, 270), Order: 1\n",
      "Edge: (133, 215, 246) -> (126, 215, 248), Order: 1\n",
      "Edge: (133, 215, 246) -> (102, 190, 218), Order: 1\n",
      "Edge: (225, 203, 239) -> (155, 151, 184), Order: 1\n",
      "Edge: (225, 203, 239) -> (215, 148, 173), Order: 1\n",
      "Edge: (242, 193, 275) -> (234, 155, 235), Order: 2\n",
      "Edge: (242, 193, 275) -> (236, 148, 263), Order: 2\n",
      "Edge: (234, 155, 235) -> (223, 140, 228), Order: 1\n",
      "Edge: (234, 155, 235) -> (244, 113, 194), Order: 1\n",
      "Edge: (236, 148, 263) -> (205, 123, 262), Order: 1\n",
      "Edge: (236, 148, 263) -> (275, 93, 223), Order: 1\n",
      "Edge: (271, 302, 335) -> (256, 310, 319), Order: 4\n",
      "Edge: (271, 302, 335) -> (274, 334, 344), Order: 3\n",
      "Edge: (256, 310, 319) -> (188, 269, 314), Order: 2\n",
      "Edge: (256, 310, 319) -> (247, 326, 298), Order: 4\n",
      "Edge: (188, 269, 314) -> (151, 265, 313), Order: 2\n",
      "Edge: (188, 269, 314) -> (160, 219, 309), Order: 1\n",
      "Edge: (151, 265, 313) -> (131, 260, 301), Order: 1\n",
      "Edge: (151, 265, 313) -> (140, 266, 322), Order: 1\n",
      "Edge: (247, 326, 298) -> (241, 337, 293), Order: 3\n",
      "Edge: (247, 326, 298) -> (243, 317, 285), Order: 3\n",
      "Edge: (241, 337, 293) -> (206, 336, 290), Order: 2\n",
      "Edge: (241, 337, 293) -> (240, 355, 284), Order: 3\n",
      "Edge: (206, 336, 290) -> (166, 331, 291), Order: 1\n",
      "Edge: (206, 336, 290) -> (196, 353, 299), Order: 1\n",
      "Edge: (240, 355, 284) -> (232, 377, 262), Order: 3\n",
      "Edge: (240, 355, 284) -> (271, 417, 265), Order: 1\n",
      "Edge: (232, 377, 262) -> (214, 435, 282), Order: 1\n",
      "Edge: (232, 377, 262) -> (230, 387, 246), Order: 3\n",
      "Edge: (230, 387, 246) -> (191, 385, 233), Order: 2\n",
      "Edge: (230, 387, 246) -> (232, 389, 244), Order: 3\n",
      "Edge: (191, 385, 233) -> (133, 387, 187), Order: 1\n",
      "Edge: (191, 385, 233) -> (167, 414, 236), Order: 1\n",
      "Edge: (232, 389, 244) -> (235, 391, 238), Order: 3\n",
      "Edge: (232, 389, 244) -> (198, 483, 241), Order: 1\n",
      "Edge: (235, 391, 238) -> (266, 403, 212), Order: 2\n",
      "Edge: (235, 391, 238) -> (221, 404, 206), Order: 2\n",
      "Edge: (266, 403, 212) -> (278, 415, 174), Order: 1\n",
      "Edge: (266, 403, 212) -> (306, 389, 179), Order: 1\n",
      "Edge: (221, 404, 206) -> (207, 416, 170), Order: 2\n",
      "Edge: (221, 404, 206) -> (218, 441, 205), Order: 1\n",
      "Edge: (207, 416, 170) -> (178, 448, 145), Order: 1\n",
      "Edge: (207, 416, 170) -> (221, 413, 147), Order: 1\n",
      "Edge: (243, 317, 285) -> (134, 296, 224), Order: 2\n",
      "Edge: (243, 317, 285) -> (253, 314, 260), Order: 3\n",
      "Edge: (134, 296, 224) -> (124, 287, 210), Order: 2\n",
      "Edge: (134, 296, 224) -> (110, 315, 215), Order: 1\n",
      "Edge: (124, 287, 210) -> (111, 269, 200), Order: 1\n",
      "Edge: (124, 287, 210) -> (125, 289, 197), Order: 1\n",
      "Edge: (253, 314, 260) -> (230, 279, 226), Order: 2\n",
      "Edge: (253, 314, 260) -> (268, 318, 235), Order: 2\n",
      "Edge: (230, 279, 226) -> (175, 228, 184), Order: 1\n",
      "Edge: (230, 279, 226) -> (233, 274, 222), Order: 1\n",
      "Edge: (268, 318, 235) -> (235, 335, 196), Order: 1\n",
      "Edge: (268, 318, 235) -> (298, 333, 133), Order: 1\n",
      "Edge: (274, 334, 344) -> (250, 364, 347), Order: 2\n",
      "Edge: (274, 334, 344) -> (281, 338, 347), Order: 3\n",
      "Edge: (250, 364, 347) -> (206, 386, 356), Order: 2\n",
      "Edge: (250, 364, 347) -> (236, 416, 339), Order: 1\n",
      "Edge: (206, 386, 356) -> (186, 388, 350), Order: 1\n",
      "Edge: (206, 386, 356) -> (196, 406, 367), Order: 1\n",
      "Edge: (281, 338, 347) -> (293, 374, 376), Order: 2\n",
      "Edge: (281, 338, 347) -> (295, 341, 345), Order: 2\n",
      "Edge: (293, 374, 376) -> (289, 388, 377), Order: 2\n",
      "Edge: (293, 374, 376) -> (303, 376, 385), Order: 1\n",
      "Edge: (289, 388, 377) -> (278, 424, 397), Order: 2\n",
      "Edge: (289, 388, 377) -> (298, 416, 367), Order: 1\n",
      "Edge: (278, 424, 397) -> (268, 434, 401), Order: 1\n",
      "Edge: (278, 424, 397) -> (284, 432, 403), Order: 1\n",
      "Edge: (295, 341, 345) -> (302, 346, 354), Order: 1\n",
      "Edge: (295, 341, 345) -> (314, 355, 318), Order: 2\n",
      "Edge: (314, 355, 318) -> (309, 370, 316), Order: 1\n",
      "Edge: (314, 355, 318) -> (325, 371, 277), Order: 1\n"
     ]
    }
   ],
   "source": [
    "#26 Strahler Analysis: Function+Call: Using DiGraphs: *\n",
    "\n",
    "import networkx as nx\n",
    "\n",
    "def StrahlerAnalysis(G): # G: The Tree DiGraph. Returns the edges.\n",
    "    \n",
    "    # Find the terminal edges (edges with no successors)\n",
    "    terminal_edges = [edge for edge in G.edges() if not any(G.successors(edge[1]))]\n",
    "    # Initialize the order for terminal edges as 1\n",
    "    for edge in G.edges():\n",
    "        if edge in terminal_edges: G[edge[0]][edge[1]]['order'] = 1\n",
    "        else: G[edge[0]][edge[1]]['order'] = 0\n",
    "\n",
    "    # Perform Strahler analysis starting from terminal edges\n",
    "    while True:\n",
    "\n",
    "        # Find all edges with the same order\n",
    "        edges_by_order = {}\n",
    "        for edge in G.edges():\n",
    "            order = G[edge[0]][edge[1]].get('order', 0)\n",
    "            if order not in edges_by_order:\n",
    "                edges_by_order[order] = []\n",
    "            edges_by_order[order].append(edge)\n",
    "\n",
    "        # If no more order 0, break\n",
    "        if 0 not in edges_by_order: break\n",
    "\n",
    "        # Only process edges with order = 0\n",
    "        for edge in edges_by_order[0]:\n",
    "            successors = list(G.successors(edge[1]))\n",
    "            SuccessorOrders = [G[edge[1]][successor]['order'] for successor in successors]\n",
    "            if not all(SuccessorOrders): continue # If any successor order is 0, skip to next edge\n",
    "            if len(successors) == 1: # If only one successor, inherit its order\n",
    "                G[edge[0]][edge[1]]['order'] = G[edge[1]][successors[0]]['order']\n",
    "            else: # So it's a bifurcation\n",
    "                MaxOrder = max(SuccessorOrders)\n",
    "                BinaryComparison = [int(ordr == MaxOrder) for ordr in SuccessorOrders]\n",
    "                # If more than 2 of the max then increment order\n",
    "                if sum(BinaryComparison)>=2: NextOrder = MaxOrder + 1\n",
    "                else: NextOrder = MaxOrder\n",
    "                G[edge[0]][edge[1]]['order'] = NextOrder\n",
    "\n",
    "    return G.edges(data=True)\n",
    "\n",
    "# Main:\n",
    "edgesresult = StrahlerAnalysis(digraph)\n",
    "for edge in edgesresult:\n",
    "    print(f\"Edge: {edge[0]} -> {edge[1]}, Order: {edge[2]['order']}\")"
   ]
  },
  {
   "cell_type": "code",
   "execution_count": 175,
   "metadata": {},
   "outputs": [],
   "source": [
    "## 27 Plot-4 the DiGraph in 3D:\n",
    "\n",
    "# import networkx as nx\n",
    "# import plotly.graph_objects as go\n",
    "\n",
    "# G = digraph\n",
    "\n",
    "# # Extract node positions and order properties\n",
    "# node_positions = {node: node for node in G.nodes()}\n",
    "# edge_orders = nx.get_edge_attributes(G, 'order')\n",
    "\n",
    "# # Create a trace for nodes\n",
    "# node_trace = go.Scatter3d(\n",
    "#     x=[coord[0] for coord in node_positions],\n",
    "#     y=[coord[1] for coord in node_positions],\n",
    "#     z=[coord[2] for coord in node_positions],\n",
    "#     mode='markers',\n",
    "#     marker=dict(size=2, color='red'),\n",
    "#     text=[],\n",
    "#     hoverinfo='text'\n",
    "# )\n",
    "\n",
    "# # Create a list of edge traces\n",
    "# edge_traces = []\n",
    "# for edge, order in edge_orders.items():\n",
    "#     source, target = edge\n",
    "#     x1, y1, z1 = source\n",
    "#     x2, y2, z2 = target\n",
    "#     edge_traces.append(go.Scatter3d(\n",
    "#         x=[x1, x2],\n",
    "#         y=[y1, y2],\n",
    "#         z=[z1, z2],\n",
    "#         mode='lines+text',\n",
    "#         line=dict(width=4, color='grey'),\n",
    "#         text=f'{order}',\n",
    "#         hoverinfo='none',  # Disables hover info for edges\n",
    "#         textposition='top left'  # Position for the order text\n",
    "#     ))\n",
    "\n",
    "# # Create the 3D layout\n",
    "# layout = go.Layout(\n",
    "#     scene=dict(\n",
    "#         xaxis=dict(title='X'),\n",
    "#         yaxis=dict(title='Y'),\n",
    "#         zaxis=dict(title='Z'),\n",
    "#     ),\n",
    "#     margin=dict(l=0, r=0, b=0, t=0),\n",
    "# )\n",
    "\n",
    "# # Create the figure and add traces\n",
    "# fig = go.Figure(data=edge_traces + [node_trace], layout=layout)\n",
    "\n",
    "# # Show the interactive plot\n",
    "# fig.show()"
   ]
  },
  {
   "cell_type": "code",
   "execution_count": 214,
   "metadata": {},
   "outputs": [
    {
     "name": "stdout",
     "output_type": "stream",
     "text": [
      "Order 1: 109 edges\n",
      "Order 2:  61 edges\n",
      "Order 3:  28 edges\n",
      "Order 4:  14 edges\n",
      "Order 5:   4 edges\n",
      "Order 6:   1 edges\n"
     ]
    }
   ],
   "source": [
    "#28 Statistics of edge orders and counts:\n",
    "\n",
    "from collections import defaultdict\n",
    "\n",
    "# Create a dictionary to count edges for each 'order'\n",
    "order_counts = defaultdict(int)\n",
    "# Count edges\n",
    "for u, v, data in digraph.edges(data=True):\n",
    "    order = data.get(\"order\", 0)\n",
    "    order_counts[order] += 1\n",
    "# Print the counts for each 'order' with keys sorted\n",
    "for order in sorted(order_counts.keys()):\n",
    "    count = order_counts[order]\n",
    "    print(f\"Order {order}: {count:3} edges\")"
   ]
  },
  {
   "cell_type": "code",
   "execution_count": 215,
   "metadata": {},
   "outputs": [],
   "source": [
    "#29 Add EdgeLength property to digraph edges:\n",
    "\n",
    "for edge in digraph.edges:\n",
    "    node1, node2 = edge\n",
    "    x1, y1, z1 = node1\n",
    "    x2, y2, z2 = node2\n",
    "    EdgeLength = np.sqrt((x2 - x1)**2 + (y2 - y1)**2 + (z2 - z1)**2)\n",
    "    digraph.edges[edge]['EdgeLength'] = EdgeLength"
   ]
  },
  {
   "cell_type": "code",
   "execution_count": 216,
   "metadata": {},
   "outputs": [],
   "source": [
    "#30 Save the graph and its properties to a file\n",
    "\n",
    "nx.write_graphml(digraph, GraphArtifactsFolderName + f\"/Case-{CaseNumber}-DiGraph.graphml\")"
   ]
  },
  {
   "cell_type": "code",
   "execution_count": 218,
   "metadata": {},
   "outputs": [
    {
     "name": "stdout",
     "output_type": "stream",
     "text": [
      "Case#46: Indices written to Excel sheet. All Done!\n"
     ]
    }
   ],
   "source": [
    "##-31 Final step: find edges with target order, calculate mean, and add results to excel file\n",
    "\n",
    "import openpyxl\n",
    "from openpyxl.styles import Font, Alignment\n",
    "\n",
    "font = Font(name='Courier New', size=11)\n",
    "alignment = Alignment(horizontal='center', vertical='center')\n",
    "\n",
    "# Find those edges\n",
    "OrdersPresent = order_counts.keys()\n",
    "Methods = {1 : [max(OrdersPresent)  , max(OrdersPresent)-2       , '[MX>MX-2]'],\n",
    "           2 : [max(OrdersPresent)  , max(OrdersPresent)-4       , '[MX>MX-4]'],\n",
    "           3 : [max(OrdersPresent)-1, max(OrdersPresent)-3       , '[MX-1>MX-3]'],\n",
    "           4 : [max(OrdersPresent)-1, max(1,max(OrdersPresent)-5), '[MX-1>MX-5|]'],\n",
    "           5 : [max(OrdersPresent)-2, min(OrdersPresent)         , '[MX-2>MN]'],\n",
    "           6 : [max(OrdersPresent)-2, min(OrdersPresent)+1       , '[MX-2>MN+1]'],\n",
    "           7 : [max(OrdersPresent)  , min(OrdersPresent)         , '[MX>MN]'],\n",
    "           8 : [min(OrdersPresent)  , min(OrdersPresent)         , '[MN>MN]'],\n",
    "           9 : [min(OrdersPresent)+1, min(OrdersPresent)         , '[MN+1>MN]'],\n",
    "           10: [min(OrdersPresent)+2, min(OrdersPresent)         , '[MN+2>MN]'],\n",
    "           11: [min(OrdersPresent)+3, min(OrdersPresent)+1       , '[MN+3>MN+1]']}\n",
    "\n",
    "# LowerOrder, HigherOrder = 4, 6\n",
    "# HigherOrder = max(order_counts.keys())\n",
    "# LowerOrder  = HigherOrder - 2 # -4\n",
    "\n",
    "excel_file_path = \"Z:/Q- Figures/T32-Poster/Nick/Experiment/DiameterResults-CopyFromNate.xlsx\" # Open the existing Excel file\n",
    "workbook = openpyxl.load_workbook(excel_file_path)\n",
    "sheet = workbook.active # Select the first sheet\n",
    "last_row = sheet.max_row # Find the last row in the first column (assuming the first column contains data)\n",
    "new_row = last_row + 1 # Create a new row\n",
    "\n",
    "for MethodNum, MthdList in Methods.items():\n",
    "\n",
    "    HigherOrder = MthdList[0]\n",
    "    LowerOrder  = MthdList[1]\n",
    "    selected_edges = [(u, v, data) for u, v, data in digraph.edges(data=True) if LowerOrder <= data.get(\"order\", 0) <= HigherOrder]\n",
    "\n",
    "    # Print stats\n",
    "    # print(f\"Edges with order in range [{LowerOrder}, {HigherOrder}]:\\n\")\n",
    "    # for indx, (u, v, data) in enumerate(selected_edges):\n",
    "    #     print(f\"SelectedEdge-{indx+1:2}: {u} -> {v}; AvgDiameter = {data['AvgDiameter']:12.9f}; Order = {data['order']}; EdgeLength = {data['EdgeLength']:10.6f}\")\n",
    "\n",
    "    # Extract the 'AvgDiameter' values from the selected edges\n",
    "    avg_diameters = [data[\"AvgDiameter\"] for u, v, data in selected_edges]\n",
    "\n",
    "    # Calculate the geometric mean of 'AvgDiameter'\n",
    "    geometric_mean   = np.prod(avg_diameters) ** (1 / len(avg_diameters))\n",
    "    arithmetic_mean  = sum(avg_diameters) / len(avg_diameters)\n",
    "    geometric_mean  *= 2*0.38/10 # diameter - mm - cm\n",
    "    arithmetic_mean *= 2*0.38/10 # diameter - mm - cm\n",
    "\n",
    "    # print(f\"Geometric Mean of AvgDiameters: {geometric_mean} cm\")\n",
    "    # print(f\"Arithmetic Mean of AvgDiameters: {arithmetic_mean} cm\")\n",
    "\n",
    "    # Insert data into the new row\n",
    "    cell = sheet.cell(row=1      , column=1            , value='Case#'       ); cell.font = font; cell.alignment = alignment\n",
    "    cell = sheet.cell(row=new_row, column=1            , value=CaseNumber    ); cell.font = font; cell.alignment = alignment\n",
    "    cell = sheet.cell(row=1      , column=MethodNum*2  , value='GeomMean-'+MthdList[2]); cell.font = font; cell.alignment = alignment\n",
    "    cell = sheet.cell(row=new_row, column=MethodNum*2  , value=geometric_mean); cell.font = font; cell.alignment = alignment\n",
    "    cell = sheet.cell(row=1      , column=MethodNum*2+1, value='ArthMean-'+MthdList[2]); cell.font = font; cell.alignment = alignment\n",
    "    cell = sheet.cell(row=new_row, column=MethodNum*2+1, value=arithmetic_mean); cell.font = font; cell.alignment = alignment\n",
    "\n",
    "workbook.save(excel_file_path) # Save the Excel file\n",
    "workbook.close() # Close the Excel file\n",
    "\n",
    "winsound.Beep(1000, 3000)\n",
    "print(f\"Case#{CaseNumber}: Indices written to Excel sheet. All Done!\")"
   ]
  },
  {
   "cell_type": "code",
   "execution_count": 60,
   "metadata": {},
   "outputs": [],
   "source": [
    "#32 Notes to address:\n",
    "# Case#58 has a cropped/cut MPA so that lowers the diameters\n",
    "# SmallInsideEdges are not removed in the first pass! [Next time they were!!!!][?!!] * Takes it twice to fully remove .. [Eg Case-18]\n",
    "# Case-18 has lots of nuisant small deep branches\n",
    "# Case-88: Not a tree [and a mess, both with clusters, and final edges]\n",
    "# Case-19: Obviously more tortuous than normal **\n",
    "# Case-11: 1 node isolated outside; not a tree\n",
    "# Case-6: MPA cut too short\n",
    "# Case-46: Seems like a smaller vessel/MPA-root, what does the dys say?!\n",
    "# Case-39: 7K cx-cycles!\n",
    "# Case-22: \n",
    "# Case-21: MPA OK but much shorter than others\n",
    "# Should also save the orders list in the excel file\n",
    "# Case-84: MPA has 20 nuisant edges .. impossible ..   \n",
    "# Any uncircular MPA shape will lead to nuisant edges and then failure *** Including Case-50\n",
    "# Case-39: has 7K cx-cycles\n",
    "# Case-44: has 3K cx-cycles"
   ]
  },
  {
   "cell_type": "code",
   "execution_count": 219,
   "metadata": {},
   "outputs": [],
   "source": [
    "##-33 Final visualization: [from cell-21-1]\n",
    "\n",
    "UpdateEdgeLengths(graph)\n",
    "\n",
    "fig = mlab.figure(size=(2500, 1400), bgcolor=(1, 1, 1))\n",
    "\n",
    "x, y, z = zip(*graph.nodes)\n",
    "mlab.points3d(x, y, z, scale_factor=2, color=(0.2, 0.2, 0.2), opacity=0.7) # color=(1, 0, 0)\n",
    "\n",
    "# Create lines for edges\n",
    "for edge in graph.edges:\n",
    "    src, tgt = edge\n",
    "    x = [src[0], tgt[0]]\n",
    "    y = [src[1], tgt[1]]\n",
    "    z = [src[2], tgt[2]]\n",
    "    mlab.plot3d(x, y, z, tube_radius=0.2,\n",
    "                color=(1, 0, 0) if edge in SmallInsideEdges else (0.2, 0.2, 0.2),#(0.2, 0.2, 0.2),\n",
    "                opacity=0.7)\n",
    "\n",
    "# Create contour for the 3D object\n",
    "mlab.contour3d(atree, contours=[0.5], opacity=0.2, color=(0, 151/255, 206/255))\n",
    "\n",
    "winsound.Beep(frequency, duration)\n",
    "mlab.show()"
   ]
  }
 ],
 "metadata": {
  "kernelspec": {
   "display_name": "Python 3",
   "language": "python",
   "name": "python3"
  },
  "language_info": {
   "codemirror_mode": {
    "name": "ipython",
    "version": 3
   },
   "file_extension": ".py",
   "mimetype": "text/x-python",
   "name": "python",
   "nbconvert_exporter": "python",
   "pygments_lexer": "ipython3",
   "version": "3.11.6"
  },
  "orig_nbformat": 4
 },
 "nbformat": 4,
 "nbformat_minor": 2
}
