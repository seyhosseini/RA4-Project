{
 "cells": [
  {
   "cell_type": "code",
   "execution_count": 174,
   "metadata": {},
   "outputs": [],
   "source": [
    "#0 Set anything that needs to be changed at the beginning:  $$$ LabelPath and GraphArtifactsFolderName\n",
    "# You have to restart the kernel each time it seems or sometimes Cell-22 spits an  error!!\n",
    "# Better clear all output too while you're at it!\n",
    "# Let's call this: VER2.1, Version-2.1: orders-4, output*0.38mm\n",
    "# Cases Done: [71,2,37,18,16,88,19,90,11,6,46,39,22,21,95,84,50,]\n",
    "import os\n",
    "\n",
    "# Only need to change here: Look for S-Final---label.nrrd:\n",
    "GraphArtifactsFolderName = \"Z:/Q- Figures/T32-Poster/Nick/Experiment/Case-63/\" \n",
    "LabelPath = \"Z:/D-Images/SPIROMICS-SubStudy/2-Results-CheckedDoneTemp/1-Done/Case-63-Spiromics-46960614/Markups/88-Nate/S-Final-1-label.nrrd\"\n",
    "verbose = False # Set to True to see a lot more print outputs"
   ]
  },
  {
   "cell_type": "code",
   "execution_count": 175,
   "metadata": {},
   "outputs": [
    {
     "name": "stdout",
     "output_type": "stream",
     "text": [
      "Extracted Case Number: 63\n"
     ]
    }
   ],
   "source": [
    "#1 Load/create the masks: avmlabel, atree\n",
    "\n",
    "import numpy as np\n",
    "import nrrd  # pip install pynrrd\n",
    "import re\n",
    "\n",
    "if not os.path.exists(GraphArtifactsFolderName):\n",
    "    os.makedirs(GraphArtifactsFolderName)\n",
    "\n",
    "# CasePath is everything before the final \"/\"\n",
    "# Find the last occurrence of '/'\n",
    "last_slash_index = LabelPath.rfind('/')\n",
    "# Slice the string up to the last '/'\n",
    "casepath = LabelPath[:last_slash_index + 1] # .../1-Done/Case-56-Spiromics-48876393/Markups/88-Nate/\n",
    "\n",
    "avmlabel, metadata = nrrd.read(LabelPath)\n",
    "## Extract Case Number\n",
    "pattern = r\"Case-(\\d+)-\"\n",
    "\n",
    "# Use re.findall() to find all matches in the string\n",
    "matches = re.findall(pattern, casepath)\n",
    "\n",
    "# Extract the first matched number (if any)\n",
    "if matches:\n",
    "    CaseNumber = int(matches[0])\n",
    "    print(\"Extracted Case Number:\", CaseNumber) # To be used numerous times in the code\n",
    "else:\n",
    "    print(\"No 'Case-' followed by a number found in the string.\")\n",
    "\n",
    "atree = np.zeros_like(avmlabel)\n",
    "atree[avmlabel == 1] = 1"
   ]
  },
  {
   "cell_type": "code",
   "execution_count": 176,
   "metadata": {},
   "outputs": [],
   "source": [
    "#2 Inspect using mayavi: Check saved A-tree snapshot\n",
    "\n",
    "import winsound\n",
    "from mayavi import mlab\n",
    "import os\n",
    "\n",
    "frequency = 1000  # Frequency of the beep in Hertz\n",
    "duration = 1000  # Duration of the beep in milliseconds\n",
    "# winsound.Beep(frequency, duration)\n",
    "\n",
    "figure = mlab.figure(bgcolor=(1, 1, 1))\n",
    "contour = mlab.contour3d(atree, contours=[0.5], color=(1, 0, 0))\n",
    "\n",
    "if not os.path.exists(GraphArtifactsFolderName):\n",
    "    os.mkdir(GraphArtifactsFolderName)\n",
    "\n",
    "mlab.savefig(GraphArtifactsFolderName + f\"/AtreeSnapshot-{CaseNumber}.png\")  # You can specify the filename and format\n",
    "mlab.close()"
   ]
  },
  {
   "cell_type": "code",
   "execution_count": 177,
   "metadata": {},
   "outputs": [],
   "source": [
    "#3 Create/Fetch Skeleton\n",
    "\n",
    "from skimage.morphology import skeletonize_3d  # pip install scikit-image\n",
    "import numpy as np\n",
    "import nrrd  # pip install pynrrd\n",
    "\n",
    "# SkeletonPathName = f\"./Data/Artifacts/E-Case-{CaseNumber}-A-Skeleton.nrrd\"\n",
    "SkeletonPathName = GraphArtifactsFolderName + \"S-Final-2-label-Skeleton.nrrd\"\n",
    "# Create and save the skeleton:\n",
    "skeleton = skeletonize_3d(atree.astype(np.uint8))\n",
    "nrrd.write(SkeletonPathName, skeleton)\n",
    "\n",
    "# Or read it in:\n",
    "# skeleton, _ = nrrd.read(SkeletonPathName)"
   ]
  },
  {
   "cell_type": "code",
   "execution_count": 178,
   "metadata": {},
   "outputs": [],
   "source": [
    "#4 Compute/Fetch Distance Transform\n",
    "# Contains the Euclidean distance from each voxel to the nearest background voxel\n",
    "\n",
    "from scipy.ndimage import distance_transform_edt\n",
    "\n",
    "# EdtPathName = f\"./Data/Artifacts/I-Case-{CaseNumber}-EDT.nrrd\"\n",
    "EdtPathName = GraphArtifactsFolderName + f\"I-Case-{CaseNumber}-EDT.nrrd\"\n",
    "# Compute the distance transform\n",
    "distance_transform = distance_transform_edt(atree)\n",
    "nrrd.write(EdtPathName, distance_transform)\n",
    "\n",
    "# Or read it in\n",
    "# distance_transform, _ = nrrd.read(EdtPathName)"
   ]
  },
  {
   "cell_type": "code",
   "execution_count": 179,
   "metadata": {},
   "outputs": [],
   "source": [
    "#5 Create Graph/Edges/Neighbours/...\n",
    "# Step 2: Convert skeletonized image to a graph representation ########### Very bad code/ hard to understand *\n",
    "\n",
    "import networkx as nx\n",
    "\n",
    "graph = nx.Graph()\n",
    "indices = np.array(np.where(skeleton)) # 3x1000?\n",
    "num_points = indices.shape[1]\n",
    "for i in range(num_points): # 20,100 # num_points\n",
    "    point = tuple(indices[:, i])\n",
    "    neighbors = []\n",
    "    for offset in np.ndindex((3, 3, 3)): # (0,1,2 .. 0,1,2 .. 0,1,2)\n",
    "        neighbor = tuple(indices[:, i] + (np.array(offset) - 1)) # >> -1,0,1\n",
    "        if neighbor != point and neighbor in graph:\n",
    "            neighbors.append(neighbor)\n",
    "    graph.add_node(point)\n",
    "    graph.add_edges_from((point, n) for n in neighbors)"
   ]
  },
  {
   "cell_type": "code",
   "execution_count": 180,
   "metadata": {},
   "outputs": [
    {
     "name": "stdout",
     "output_type": "stream",
     "text": [
      "Number of Nodes: 11320\n",
      "Number of Edges: 11378\n"
     ]
    }
   ],
   "source": [
    "#6 Print_Stats [Nodes/Edges/...]\n",
    "\n",
    "def print_stats(graph):\n",
    "    num_nodes = nx.number_of_nodes(graph)\n",
    "    num_edges = nx.number_of_edges(graph)\n",
    "    # all_nodes = list(graph.nodes)\n",
    "    # all_edges = list(graph.edges)\n",
    "\n",
    "    print(\"Number of Nodes:\", num_nodes)\n",
    "    print(\"Number of Edges:\", num_edges)\n",
    "    # print(\"All Nodes:\", all_nodes)\n",
    "    # print(\"All Edges:\", all_edges)\n",
    "    return\n",
    "\n",
    "print_stats(graph)"
   ]
  },
  {
   "cell_type": "code",
   "execution_count": 181,
   "metadata": {},
   "outputs": [],
   "source": [
    "#7 Remove degree-2 nodes: Changes the graph *\n",
    "\n",
    "def RemoveAndReconnectDegree2Nodes(graph):\n",
    "    while True:\n",
    "        # Find nodes with degree 2\n",
    "        degree_two_nodes = [node for node, degree in graph.degree if degree == 2]\n",
    "        \n",
    "        # If there are no intermediate nodes to remove, break the loop\n",
    "        if not degree_two_nodes:\n",
    "            break    \n",
    "        # Remove the intermediate nodes\n",
    "        for node in degree_two_nodes:\n",
    "            neighbors = list(graph.neighbors(node))\n",
    "            if len(neighbors) == 2: ####### Redundant condition! *\n",
    "                graph.add_edge(neighbors[0], neighbors[1])\n",
    "            graph.remove_node(node)\n",
    "\n",
    "RemoveAndReconnectDegree2Nodes(graph)"
   ]
  },
  {
   "cell_type": "code",
   "execution_count": 182,
   "metadata": {},
   "outputs": [
    {
     "name": "stdout",
     "output_type": "stream",
     "text": [
      "Number of Nodes: 443\n",
      "Number of Edges: 501\n"
     ]
    }
   ],
   "source": [
    "#8 print_stats\n",
    "print_stats(graph)"
   ]
  },
  {
   "cell_type": "code",
   "execution_count": 183,
   "metadata": {},
   "outputs": [],
   "source": [
    "#9 Create/update 'edge_length' property for all edges *\n",
    "\n",
    "def UpdateEdgeLengths(G):\n",
    "    for edge in G.edges:\n",
    "        node1, node2 = edge\n",
    "        x1, y1, z1 = node1\n",
    "        x2, y2, z2 = node2\n",
    "        edge_length = np.sqrt((x2 - x1)**2 + (y2 - y1)**2 + (z2 - z1)**2)\n",
    "        G.edges[edge]['edge_length'] = edge_length\n",
    "\n",
    "UpdateEdgeLengths(graph)"
   ]
  },
  {
   "cell_type": "code",
   "execution_count": 184,
   "metadata": {},
   "outputs": [],
   "source": [
    "#10 Function: Plot-1: plot_3D: Plot Interactive 3D *\n",
    "\n",
    "import plotly.graph_objects as go  # pip install plotly # pip install nbformat\n",
    "from plotly.subplots import make_subplots\n",
    "\n",
    "def plot_3D(graph):\n",
    "    fig = make_subplots(rows=1, cols=1, specs=[[{'type': 'scatter3d'}]])\n",
    "    x, y, z = zip(*graph.nodes)\n",
    "    \n",
    "    leaf_nodes = [node for node, degree in graph.degree if degree == 1]\n",
    "    \n",
    "    node_trace = go.Scatter3d(\n",
    "        x=x,\n",
    "        y=y,\n",
    "        z=z,\n",
    "        mode='markers',\n",
    "        marker=dict(\n",
    "            size=2,\n",
    "            color='red', #['red' if node in leaf_nodes else 'blue' for node in graph.nodes()],\n",
    "            opacity=0.8\n",
    "        )\n",
    "    )\n",
    "    fig.add_trace(node_trace)\n",
    "\n",
    "    for edge in graph.edges():\n",
    "        x0, y0, z0 = edge[0]\n",
    "        x1, y1, z1 = edge[1]\n",
    "        \n",
    "        edge_length = graph.edges[edge]['edge_length']\n",
    "        edge_text = f'{edge_length:.2f}'  # Display the edge length as text\n",
    "        \n",
    "        edge_trace = go.Scatter3d(\n",
    "            x=[x0, x1],\n",
    "            y=[y0, y1],\n",
    "            z=[z0, z1],\n",
    "            mode='lines',\n",
    "            # line=dict(color='orange' if graph.edges[edge]['edge_length'] < 20 else 'gray',\n",
    "            #           width=3),\n",
    "            line=dict(color='gray', width=3),\n",
    "            hoverinfo='text',\n",
    "            text=edge_text\n",
    "        )\n",
    "        fig.add_trace(edge_trace)\n",
    "\n",
    "    fig.update_layout(  \n",
    "        scene=dict(\n",
    "        # Set background color to transparent or any color you prefer\n",
    "        bgcolor='rgba(0,0,0,0)',\n",
    "        \n",
    "        # Hide axes\n",
    "        xaxis=dict(showbackground=False, showgrid=False, zeroline=False, showline=False),\n",
    "        yaxis=dict(showbackground=False, showgrid=False, zeroline=False, showline=False),\n",
    "        zaxis=dict(showbackground=False, showgrid=False, zeroline=False, showline=False)\n",
    "        )\n",
    "    )\n",
    "    \n",
    "    fig.update_layout(\n",
    "        margin=dict(l=0, r=0, b=0, t=0),\n",
    "        scene=dict(\n",
    "            xaxis=dict(range=[0, max(x) + 1]),\n",
    "            yaxis=dict(range=[0, max(y) + 1]),\n",
    "            zaxis=dict(range=[0, max(z) + 1])\n",
    "        )\n",
    "    )\n",
    "\n",
    "    fig.show()\n",
    "    return"
   ]
  },
  {
   "cell_type": "code",
   "execution_count": 185,
   "metadata": {},
   "outputs": [],
   "source": [
    "# ##11 Timed calling of plot_3D: Will take time to show up even when indicated done:\n",
    "\n",
    "# import time\n",
    "# StartTime = time.time()\n",
    "# print('Plotting the 3D Graph ..')\n",
    "# plot_3D(graph)\n",
    "# print(f'Elapsed: {time.time()-StartTime:5.2f}')"
   ]
  },
  {
   "cell_type": "code",
   "execution_count": 186,
   "metadata": {},
   "outputs": [
    {
     "name": "stdout",
     "output_type": "stream",
     "text": [
      "59 simple+complex 3-cycles exist\n",
      "\n"
     ]
    }
   ],
   "source": [
    "#12 Find all 3-cycels: Approach-9 with no duplicates\n",
    "\n",
    "# Function to find and print all length-3 cycles without duplicates\n",
    "def ReFindAndPrintLength3Cycles(G, Prnt=False):\n",
    "\n",
    "    length_3_cycles = set()\n",
    "    for node in G.nodes():\n",
    "        neighbors = list(G.neighbors(node))\n",
    "        for neighbor1 in neighbors:\n",
    "            for neighbor2 in neighbors:\n",
    "                if neighbor1 != neighbor2 and G.has_edge(neighbor1, neighbor2):\n",
    "                    cycle = tuple(sorted([node, neighbor1, neighbor2]))  # Sorting to avoid permutations\n",
    "                    length_3_cycles.add(cycle)\n",
    "\n",
    "    # Convert the cycles back to lists for printing\n",
    "    length_3_cycles = [list(cycle) for cycle in length_3_cycles]\n",
    "\n",
    "    # Print the length-3 cycles without duplicates\n",
    "    if Prnt:\n",
    "        print(len(length_3_cycles), 'simple+complex 3-cycles exist\\n')\n",
    "        # for cycle in length_3_cycles:\n",
    "        #     print(cycle)\n",
    "    return length_3_cycles\n",
    "\n",
    "length_3_cycles = ReFindAndPrintLength3Cycles(graph, Prnt=True)"
   ]
  },
  {
   "cell_type": "code",
   "execution_count": 187,
   "metadata": {},
   "outputs": [],
   "source": [
    "#13* Keep an intact copy of the graph:\n",
    "\n",
    "import copy\n",
    "graphintact = copy.deepcopy(graph)"
   ]
  },
  {
   "cell_type": "code",
   "execution_count": 188,
   "metadata": {},
   "outputs": [],
   "source": [
    "#RR To refresh your graph once it's messed below, come back to this:\n",
    "# graph = copy.deepcopy(graphintact)"
   ]
  },
  {
   "cell_type": "code",
   "execution_count": 189,
   "metadata": {},
   "outputs": [
    {
     "name": "stdout",
     "output_type": "stream",
     "text": [
      "Number of Nodes: 443\n",
      "Number of Edges: 501\n",
      "\n",
      "Resolved the 3-cycle.\n",
      "Resolved the 3-cycle.\n",
      "NewAverageNode (261, 73, 312) not on the skeleton.\n",
      "Searching neighborhood 3\n",
      "Adjusted the NewAverageNode to (261, 73, 311)\n",
      "Resolved the 3-cycle.\n",
      "Resolved the 3-cycle.\n",
      "Resolved the 3-cycle.\n",
      "Resolved the 3-cycle.\n",
      "Resolved the 3-cycle.\n",
      "Resolved the 3-cycle.\n",
      "NewAverageNode (452, 276, 368) not on the skeleton.\n",
      "Searching neighborhood 3\n",
      "Adjusted the NewAverageNode to (451, 276, 368)\n",
      "Resolved the 3-cycle.\n",
      "Resolved the 3-cycle.\n",
      "Resolved the 3-cycle.\n",
      "Resolved the 3-cycle.\n",
      "Resolved the 3-cycle.\n",
      "Resolved the 3-cycle.\n",
      "Resolved the 3-cycle.\n",
      "Resolved the 3-cycle.\n",
      "Resolved the 3-cycle.\n",
      "Resolved the 3-cycle.\n",
      "Resolved the 3-cycle.\n",
      "Resolved the 3-cycle.\n",
      "Resolved the 3-cycle.\n",
      "Resolved the 3-cycle.\n",
      "NewAverageNode (242, 264, 383) not on the skeleton.\n",
      "Searching neighborhood 3\n",
      "Adjusted the NewAverageNode to (241, 264, 383)\n",
      "Resolved the 3-cycle.\n",
      "Resolved the 3-cycle.\n",
      "NewAverageNode (245, 294, 495) not on the skeleton.\n",
      "Searching neighborhood 3\n",
      "Adjusted the NewAverageNode to (245, 294, 494)\n",
      "Resolved the 3-cycle.\n",
      "Resolved the 3-cycle.\n",
      "Resolved the 3-cycle.\n",
      "Resolved the 3-cycle.\n",
      "Resolved the 3-cycle.\n",
      "Resolved the 3-cycle.\n",
      "Resolved the 3-cycle.\n",
      "Resolved the 3-cycle.\n",
      "NewAverageNode (436, 262, 355) not on the skeleton.\n",
      "Searching neighborhood 3\n",
      "Adjusted the NewAverageNode to (436, 261, 355)\n",
      "Resolved the 3-cycle.\n",
      "Resolved the 3-cycle.\n",
      "Resolved the 3-cycle.\n",
      "Resolved the 3-cycle.\n",
      "Resolved the 3-cycle.\n",
      "Resolved the 3-cycle.\n",
      "NewAverageNode (173, 224, 332) not on the skeleton.\n",
      "Searching neighborhood 3\n",
      "Adjusted the NewAverageNode to (173, 223, 332)\n",
      "Resolved the 3-cycle.\n",
      "Resolved the 3-cycle.\n",
      "Resolved the 3-cycle.\n",
      "NewAverageNode (530, 218, 247) not on the skeleton.\n",
      "Searching neighborhood 3\n",
      "Adjusted the NewAverageNode to (529, 218, 247)\n",
      "Resolved the 3-cycle.\n",
      "Resolved the 3-cycle.\n",
      "Resolved the 3-cycle.\n",
      "NewAverageNode (183, 48, 268) not on the skeleton.\n",
      "Searching neighborhood 3\n",
      "Adjusted the NewAverageNode to (183, 48, 267)\n",
      "Resolved the 3-cycle.\n",
      "Resolved the 3-cycle.\n",
      "Resolved the 3-cycle.\n",
      "NewAverageNode (357, 195, 315) not on the skeleton.\n",
      "Searching neighborhood 3\n",
      "Adjusted the NewAverageNode to (357, 195, 314)\n",
      "Resolved the 3-cycle.\n",
      "Resolved the 3-cycle.\n",
      "NewAverageNode (534, 175, 375) not on the skeleton.\n",
      "Searching neighborhood 3\n",
      "Adjusted the NewAverageNode to (533, 175, 375)\n",
      "Resolved the 3-cycle.\n",
      "Resolved the 3-cycle.\n",
      "NewAverageNode (212, 189, 322) not on the skeleton.\n",
      "Searching neighborhood 3\n",
      "Adjusted the NewAverageNode to (211, 188, 321)\n",
      "Resolved the 3-cycle.\n",
      "Resolved the 3-cycle.\n",
      "Resolved the 3-cycle.\n",
      "Resolved the 3-cycle.\n",
      "Resolved the 3-cycle.\n",
      "Resolved the 3-cycle.\n",
      "Skipping to the next cycle ..\n",
      "\n",
      "Resolved the 3-cycle.\n",
      "\n",
      "Number of Nodes: 327\n",
      "Number of Edges: 327\n"
     ]
    }
   ],
   "source": [
    "#14 Only once: This changes the graph: Resolve isolated 3-cycles by merging the 3 nodes and reconnecting edges\n",
    "\n",
    "print_stats(graph)\n",
    "print()\n",
    "length_3_cycles = ReFindAndPrintLength3Cycles(graph, Prnt=False)\n",
    "\n",
    "for cycle in length_3_cycles:\n",
    "\n",
    "    # For each cycle, find the outer/final neighbors\n",
    "    finalneighbors = []\n",
    "    for node in cycle:\n",
    "        DEGR = graph.degree(node)\n",
    "        if DEGR != 3:\n",
    "            # print(Fore.YELLOW + f'\\nThis is not a simple cycle. Node {node} is degree {DEGR}. Breaking ..' + Style.RESET_ALL)\n",
    "            if verbose: print(f'{cycle} is not a simple cycle. Node {node} is degree {DEGR}.')\n",
    "            break\n",
    "        finalneighbors.extend([neighbor for neighbor in graph.neighbors(node) if neighbor not in cycle])\n",
    "    if verbose:\n",
    "        if DEGR == 3:\n",
    "            print('cycle:', cycle)\n",
    "    # print('finalneighbors:', finalneighbors)\n",
    "    if DEGR != 3:\n",
    "        print(\"Skipping to the next cycle ..\\n\")\n",
    "        continue\n",
    "\n",
    "    # Takes the 3 nodes in the cycle and forms their average\n",
    "    NewAverageNode = tuple(round((a + b + c) / 3) for a, b, c in zip(cycle[0], cycle[1], cycle[2])) # zip(tuple1, tuple2, tuple3)\n",
    "    # print('NewAverageNode:', NewAverageNode)\n",
    "\n",
    "    # If NewAverageNode not on the skeleton, go to its neighborhood and find the nearest voxel that lies on the skeleton:\n",
    "    if skeleton[*NewAverageNode] == 0:\n",
    "        print(f\"NewAverageNode {NewAverageNode} not on the skeleton.\")\n",
    "        xxna, yyna, zzna = NewAverageNode\n",
    "        success = False\n",
    "        NeighbrhdSize = 3\n",
    "        while success == False:\n",
    "            print(f\"Searching neighborhood {NeighbrhdSize}\")\n",
    "            lowerbnd = -(NeighbrhdSize//2)\n",
    "            upperbnd =  (NeighbrhdSize//2) + 1\n",
    "            neighbors = [(i, j, k) for i in range(lowerbnd, upperbnd) for j in range(lowerbnd, upperbnd) for k in range(lowerbnd, upperbnd)]\n",
    "            neighbors.remove((0,0,0))\n",
    "            for neighbor_offset in neighbors:\n",
    "                nnx, nny, nnz = xxna + neighbor_offset[0], yyna + neighbor_offset[1], zzna + neighbor_offset[2]\n",
    "                if 0 <= nnx < skeleton.shape[0] and 0 <= nny < skeleton.shape[1] and 0 <= nnz < skeleton.shape[2]:\n",
    "                    if skeleton[nnx, nny, nnz] != 0:\n",
    "                        NewAverageNode = (nnx, nny, nnz)\n",
    "                        print(f\"Adjusted the NewAverageNode to {NewAverageNode}\")\n",
    "                        success = True\n",
    "                        break            \n",
    "            NeighbrhdSize += 2\n",
    "\n",
    "    # Now remove the old 3 nodes in cycle\n",
    "    for node in cycle:\n",
    "        graph.remove_node(node)\n",
    "    # print('Removed the 3 nodes in cycle')\n",
    "\n",
    "    # Add the new average node\n",
    "    graph.add_node(NewAverageNode)\n",
    "    # print('Added new average node')\n",
    "\n",
    "    # Make the new edges/connections\n",
    "    for node in finalneighbors:\n",
    "        graph.add_edge(node, NewAverageNode)\n",
    "    # print('Added the final edges')\n",
    "\n",
    "    print('Resolved the 3-cycle.')\n",
    "    UpdateEdgeLengths(graph)\n",
    "    # print_stats(graph)\n",
    "    if verbose: print()\n",
    "\n",
    "print()\n",
    "print_stats(graph)"
   ]
  },
  {
   "cell_type": "code",
   "execution_count": 190,
   "metadata": {},
   "outputs": [
    {
     "name": "stdout",
     "output_type": "stream",
     "text": [
      "1 complex 3-cycles exist\n",
      "3 edges in complex 3-cycles exist\n"
     ]
    }
   ],
   "source": [
    "#15 Create updated list of all edges in cycles: [they're probably complex cycles now at this point]\n",
    "\n",
    "length_3_cycles = ReFindAndPrintLength3Cycles(graph)\n",
    "print(f\"{len(length_3_cycles)} complex 3-cycles exist\")\n",
    "\n",
    "EdgesInCyclesWithDuplicates = [[L[i], L[(i+1)%3]] for L in length_3_cycles for i in [0, 1, 2]]\n",
    "\n",
    "EdgesInCycles = []\n",
    "for edge in EdgesInCyclesWithDuplicates:\n",
    "    if ([edge[0],edge[1]] not in EdgesInCycles) and ([edge[1],edge[0]] not in EdgesInCycles):\n",
    "         EdgesInCycles.append(edge)\n",
    "        #  print(f'Appended {edge} to EdgesInCycles list')\n",
    "\n",
    "print(len(EdgesInCycles), 'edges in complex 3-cycles exist')"
   ]
  },
  {
   "cell_type": "code",
   "execution_count": 191,
   "metadata": {},
   "outputs": [
    {
     "data": {
      "application/vnd.plotly.v1+json": {
       "config": {
        "plotlyServerURL": "https://plot.ly"
       },
       "data": [
        {
         "marker": {
          "color": "grey",
          "opacity": 0.1,
          "size": 2
         },
         "mode": "markers",
         "type": "scatter3d",
         "x": [
          47,
          54,
          57,
          60,
          61,
          63,
          64,
          67,
          70,
          72,
          80,
          84,
          87,
          92,
          92,
          96,
          96,
          97,
          101,
          101,
          103,
          103,
          106,
          115,
          116,
          119,
          123,
          123,
          126,
          126,
          130,
          133,
          133,
          134,
          136,
          139,
          139,
          140,
          145,
          146,
          151,
          151,
          154,
          154,
          159,
          161,
          162,
          162,
          163,
          164,
          166,
          169,
          169,
          170,
          172,
          175,
          178,
          179,
          180,
          180,
          181,
          181,
          183,
          183,
          184,
          184,
          184,
          184,
          186,
          187,
          188,
          188,
          193,
          194,
          194,
          197,
          201,
          201,
          203,
          203,
          204,
          204,
          204,
          205,
          205,
          206,
          206,
          208,
          209,
          210,
          210,
          211,
          211,
          211,
          213,
          214,
          214,
          214,
          217,
          218,
          219,
          219,
          221,
          222,
          222,
          222,
          222,
          223,
          224,
          225,
          225,
          225,
          226,
          226,
          228,
          228,
          228,
          229,
          233,
          233,
          233,
          234,
          236,
          237,
          237,
          239,
          241,
          241,
          241,
          241,
          242,
          243,
          246,
          246,
          249,
          250,
          252,
          253,
          254,
          255,
          261,
          262,
          265,
          286,
          287,
          295,
          354,
          401,
          403,
          408,
          412,
          415,
          423,
          427,
          430,
          433,
          435,
          441,
          443,
          444,
          445,
          445,
          446,
          448,
          448,
          448,
          448,
          449,
          450,
          451,
          453,
          455,
          456,
          457,
          458,
          458,
          460,
          462,
          462,
          463,
          464,
          464,
          464,
          465,
          465,
          468,
          469,
          473,
          474,
          474,
          474,
          475,
          475,
          476,
          477,
          479,
          479,
          480,
          480,
          483,
          484,
          485,
          486,
          489,
          490,
          490,
          491,
          492,
          492,
          493,
          494,
          494,
          496,
          497,
          499,
          501,
          501,
          501,
          503,
          504,
          507,
          507,
          507,
          508,
          510,
          510,
          515,
          516,
          516,
          517,
          517,
          521,
          521,
          525,
          526,
          527,
          529,
          537,
          540,
          542,
          545,
          545,
          546,
          546,
          547,
          548,
          549,
          555,
          558,
          561,
          563,
          564,
          566,
          569,
          570,
          572,
          577,
          578,
          583,
          593,
          599,
          601,
          605,
          606,
          630,
          630,
          633,
          637,
          637,
          190,
          483,
          261,
          181,
          458,
          166,
          589,
          205,
          451,
          484,
          419,
          467,
          239,
          469,
          543,
          230,
          505,
          207,
          450,
          489,
          542,
          475,
          241,
          381,
          245,
          215,
          171,
          207,
          205,
          478,
          204,
          231,
          436,
          243,
          484,
          524,
          210,
          509,
          173,
          220,
          463,
          529,
          253,
          488,
          183,
          226,
          457,
          357,
          461,
          533,
          531,
          211,
          184,
          213,
          88,
          487,
          486,
          206
         ],
         "y": [
          223,
          175,
          171,
          299,
          170,
          180,
          179,
          173,
          228,
          253,
          149,
          242,
          356,
          122,
          282,
          112,
          118,
          154,
          218,
          252,
          122,
          229,
          154,
          307,
          239,
          206,
          94,
          311,
          183,
          302,
          234,
          49,
          52,
          208,
          352,
          181,
          354,
          290,
          303,
          223,
          216,
          321,
          57,
          231,
          232,
          87,
          125,
          366,
          373,
          33,
          268,
          11,
          273,
          359,
          255,
          117,
          323,
          22,
          42,
          369,
          153,
          370,
          20,
          340,
          126,
          162,
          374,
          390,
          13,
          125,
          46,
          54,
          132,
          3,
          87,
          193,
          87,
          137,
          225,
          323,
          158,
          177,
          248,
          250,
          360,
          132,
          273,
          332,
          218,
          136,
          252,
          66,
          168,
          209,
          262,
          244,
          260,
          298,
          334,
          249,
          182,
          318,
          328,
          253,
          291,
          328,
          328,
          318,
          329,
          266,
          326,
          338,
          277,
          317,
          136,
          323,
          334,
          360,
          286,
          295,
          328,
          322,
          103,
          70,
          284,
          239,
          51,
          245,
          251,
          254,
          349,
          306,
          256,
          363,
          242,
          351,
          318,
          321,
          289,
          311,
          303,
          105,
          306,
          64,
          237,
          50,
          196,
          113,
          115,
          110,
          235,
          239,
          245,
          246,
          340,
          360,
          246,
          121,
          189,
          271,
          271,
          389,
          237,
          322,
          334,
          348,
          361,
          360,
          343,
          352,
          341,
          373,
          321,
          295,
          355,
          357,
          351,
          292,
          379,
          191,
          297,
          298,
          359,
          93,
          305,
          232,
          392,
          327,
          104,
          299,
          392,
          198,
          328,
          327,
          101,
          186,
          198,
          310,
          386,
          320,
          132,
          157,
          343,
          215,
          284,
          330,
          123,
          245,
          351,
          185,
          315,
          388,
          384,
          358,
          341,
          186,
          248,
          354,
          319,
          367,
          285,
          321,
          365,
          355,
          278,
          284,
          392,
          358,
          377,
          186,
          351,
          238,
          359,
          221,
          376,
          376,
          218,
          366,
          134,
          150,
          318,
          336,
          275,
          288,
          384,
          77,
          153,
          243,
          374,
          191,
          185,
          332,
          220,
          292,
          167,
          359,
          363,
          344,
          324,
          253,
          221,
          287,
          180,
          289,
          218,
          289,
          200,
          118,
          226,
          126,
          268,
          73,
          24,
          385,
          230,
          210,
          153,
          276,
          264,
          242,
          282,
          294,
          340,
          153,
          310,
          312,
          242,
          342,
          326,
          222,
          317,
          264,
          168,
          294,
          257,
          250,
          246,
          179,
          320,
          239,
          339,
          261,
          272,
          307,
          353,
          252,
          273,
          223,
          251,
          294,
          218,
          295,
          196,
          48,
          252,
          284,
          195,
          284,
          175,
          323,
          188,
          229,
          280,
          207,
          198,
          273,
          269
         ],
         "z": [
          236,
          233,
          248,
          200,
          202,
          240,
          241,
          240,
          284,
          335,
          295,
          186,
          72,
          200,
          292,
          210,
          291,
          299,
          293,
          368,
          208,
          294,
          254,
          313,
          354,
          247,
          311,
          241,
          350,
          356,
          410,
          242,
          213,
          250,
          367,
          397,
          202,
          306,
          233,
          427,
          314,
          434,
          232,
          405,
          192,
          229,
          372,
          145,
          297,
          221,
          204,
          153,
          451,
          366,
          177,
          299,
          181,
          129,
          260,
          262,
          202,
          263,
          162,
          366,
          376,
          258,
          20,
          239,
          166,
          348,
          268,
          172,
          227,
          142,
          330,
          396,
          195,
          332,
          465,
          271,
          315,
          251,
          271,
          410,
          203,
          335,
          254,
          406,
          394,
          237,
          493,
          174,
          197,
          261,
          508,
          499,
          442,
          460,
          373,
          389,
          419,
          178,
          199,
          287,
          114,
          199,
          200,
          143,
          205,
          320,
          130,
          393,
          329,
          361,
          344,
          219,
          382,
          310,
          282,
          453,
          119,
          462,
          221,
          270,
          283,
          341,
          189,
          437,
          303,
          367,
          291,
          503,
          171,
          227,
          345,
          159,
          185,
          310,
          512,
          102,
          251,
          356,
          153,
          309,
          318,
          268,
          311,
          290,
          289,
          283,
          368,
          364,
          361,
          362,
          257,
          342,
          479,
          357,
          403,
          349,
          350,
          301,
          370,
          101,
          113,
          322,
          106,
          107,
          137,
          56,
          396,
          65,
          216,
          427,
          446,
          137,
          439,
          394,
          221,
          425,
          409,
          407,
          437,
          310,
          332,
          361,
          135,
          495,
          315,
          277,
          229,
          424,
          465,
          467,
          311,
          352,
          431,
          249,
          156,
          231,
          341,
          360,
          166,
          361,
          353,
          213,
          347,
          270,
          156,
          378,
          113,
          143,
          202,
          469,
          130,
          379,
          281,
          212,
          244,
          155,
          200,
          476,
          396,
          394,
          169,
          179,
          319,
          403,
          198,
          419,
          371,
          299,
          229,
          331,
          93,
          94,
          239,
          287,
          314,
          372,
          407,
          82,
          211,
          146,
          201,
          262,
          371,
          138,
          68,
          223,
          394,
          367,
          272,
          345,
          270,
          180,
          241,
          119,
          325,
          270,
          336,
          371,
          340,
          345,
          278,
          180,
          221,
          219,
          160,
          341,
          317,
          311,
          162,
          232,
          398,
          337,
          316,
          368,
          315,
          362,
          365,
          444,
          211,
          371,
          360,
          368,
          259,
          138,
          216,
          289,
          311,
          383,
          330,
          494,
          278,
          195,
          402,
          254,
          305,
          349,
          294,
          355,
          389,
          258,
          229,
          461,
          322,
          332,
          385,
          305,
          247,
          261,
          376,
          267,
          291,
          333,
          314,
          329,
          375,
          208,
          321,
          254,
          290,
          245,
          374,
          254,
          229
         ]
        },
        {
         "hoverinfo": "text",
         "line": {
          "color": "rgba(128, 128, 128, 0.4)",
          "width": 1
         },
         "mode": "lines",
         "text": "44.92",
         "type": "scatter3d",
         "x": [
          47,
          88
         ],
         "y": [
          223,
          207
         ],
         "z": [
          236,
          245
         ]
        },
        {
         "hoverinfo": "text",
         "line": {
          "color": "rgba(128, 128, 128, 0.4)",
          "width": 1
         },
         "mode": "lines",
         "text": "12.45",
         "type": "scatter3d",
         "x": [
          54,
          63
         ],
         "y": [
          175,
          180
         ],
         "z": [
          233,
          240
         ]
        },
        {
         "hoverinfo": "text",
         "line": {
          "color": "rgba(128, 128, 128, 0.4)",
          "width": 1
         },
         "mode": "lines",
         "text": "12.73",
         "type": "scatter3d",
         "x": [
          57,
          64
         ],
         "y": [
          171,
          179
         ],
         "z": [
          248,
          241
         ]
        },
        {
         "hoverinfo": "text",
         "line": {
          "color": "rgba(128, 128, 128, 0.4)",
          "width": 1
         },
         "mode": "lines",
         "text": "91.27",
         "type": "scatter3d",
         "x": [
          60,
          145
         ],
         "y": [
          299,
          303
         ],
         "z": [
          200,
          233
         ]
        },
        {
         "hoverinfo": "text",
         "line": {
          "color": "rgba(128, 128, 128, 0.4)",
          "width": 1
         },
         "mode": "lines",
         "text": "81.76",
         "type": "scatter3d",
         "x": [
          61,
          119
         ],
         "y": [
          170,
          206
         ],
         "z": [
          202,
          247
         ]
        },
        {
         "hoverinfo": "text",
         "line": {
          "color": "rgba(128, 128, 128, 0.4)",
          "width": 1
         },
         "mode": "lines",
         "text": "1.73",
         "type": "scatter3d",
         "x": [
          63,
          64
         ],
         "y": [
          180,
          179
         ],
         "z": [
          240,
          241
         ]
        },
        {
         "hoverinfo": "text",
         "line": {
          "color": "rgba(128, 128, 128, 0.4)",
          "width": 1
         },
         "mode": "lines",
         "text": "37.13",
         "type": "scatter3d",
         "x": [
          63,
          88
         ],
         "y": [
          180,
          207
         ],
         "z": [
          240,
          245
         ]
        },
        {
         "hoverinfo": "text",
         "line": {
          "color": "rgba(128, 128, 128, 0.4)",
          "width": 1
         },
         "mode": "lines",
         "text": "6.78",
         "type": "scatter3d",
         "x": [
          64,
          67
         ],
         "y": [
          179,
          173
         ],
         "z": [
          241,
          240
         ]
        },
        {
         "hoverinfo": "text",
         "line": {
          "color": "rgba(128, 128, 128, 0.4)",
          "width": 1
         },
         "mode": "lines",
         "text": "33.79",
         "type": "scatter3d",
         "x": [
          70,
          101
         ],
         "y": [
          228,
          218
         ],
         "z": [
          284,
          293
         ]
        },
        {
         "hoverinfo": "text",
         "line": {
          "color": "rgba(128, 128, 128, 0.4)",
          "width": 1
         },
         "mode": "lines",
         "text": "49.93",
         "type": "scatter3d",
         "x": [
          72,
          116
         ],
         "y": [
          253,
          239
         ],
         "z": [
          335,
          354
         ]
        },
        {
         "hoverinfo": "text",
         "line": {
          "color": "rgba(128, 128, 128, 0.4)",
          "width": 1
         },
         "mode": "lines",
         "text": "18.17",
         "type": "scatter3d",
         "x": [
          80,
          97
         ],
         "y": [
          149,
          154
         ],
         "z": [
          295,
          299
         ]
        },
        {
         "hoverinfo": "text",
         "line": {
          "color": "rgba(128, 128, 128, 0.4)",
          "width": 1
         },
         "mode": "lines",
         "text": "87.89",
         "type": "scatter3d",
         "x": [
          84,
          166
         ],
         "y": [
          242,
          268
         ],
         "z": [
          186,
          204
         ]
        },
        {
         "hoverinfo": "text",
         "line": {
          "color": "rgba(128, 128, 128, 0.4)",
          "width": 1
         },
         "mode": "lines",
         "text": "145.78",
         "type": "scatter3d",
         "x": [
          87,
          178
         ],
         "y": [
          356,
          323
         ],
         "z": [
          72,
          181
         ]
        },
        {
         "hoverinfo": "text",
         "line": {
          "color": "rgba(128, 128, 128, 0.4)",
          "width": 1
         },
         "mode": "lines",
         "text": "13.60",
         "type": "scatter3d",
         "x": [
          92,
          103
         ],
         "y": [
          122,
          122
         ],
         "z": [
          200,
          208
         ]
        },
        {
         "hoverinfo": "text",
         "line": {
          "color": "rgba(128, 128, 128, 0.4)",
          "width": 1
         },
         "mode": "lines",
         "text": "50.64",
         "type": "scatter3d",
         "x": [
          92,
          140
         ],
         "y": [
          282,
          290
         ],
         "z": [
          292,
          306
         ]
        },
        {
         "hoverinfo": "text",
         "line": {
          "color": "rgba(128, 128, 128, 0.4)",
          "width": 1
         },
         "mode": "lines",
         "text": "12.37",
         "type": "scatter3d",
         "x": [
          96,
          103
         ],
         "y": [
          112,
          122
         ],
         "z": [
          210,
          208
         ]
        },
        {
         "hoverinfo": "text",
         "line": {
          "color": "rgba(128, 128, 128, 0.4)",
          "width": 1
         },
         "mode": "lines",
         "text": "36.89",
         "type": "scatter3d",
         "x": [
          96,
          97
         ],
         "y": [
          118,
          154
         ],
         "z": [
          291,
          299
         ]
        },
        {
         "hoverinfo": "text",
         "line": {
          "color": "rgba(128, 128, 128, 0.4)",
          "width": 1
         },
         "mode": "lines",
         "text": "83.58",
         "type": "scatter3d",
         "x": [
          97,
          151
         ],
         "y": [
          154,
          216
         ],
         "z": [
          299,
          314
         ]
        },
        {
         "hoverinfo": "text",
         "line": {
          "color": "rgba(128, 128, 128, 0.4)",
          "width": 1
         },
         "mode": "lines",
         "text": "11.22",
         "type": "scatter3d",
         "x": [
          101,
          103
         ],
         "y": [
          218,
          229
         ],
         "z": [
          293,
          294
         ]
        },
        {
         "hoverinfo": "text",
         "line": {
          "color": "rgba(128, 128, 128, 0.4)",
          "width": 1
         },
         "mode": "lines",
         "text": "54.27",
         "type": "scatter3d",
         "x": [
          101,
          151
         ],
         "y": [
          218,
          216
         ],
         "z": [
          293,
          314
         ]
        },
        {
         "hoverinfo": "text",
         "line": {
          "color": "rgba(128, 128, 128, 0.4)",
          "width": 1
         },
         "mode": "lines",
         "text": "24.29",
         "type": "scatter3d",
         "x": [
          101,
          116
         ],
         "y": [
          252,
          239
         ],
         "z": [
          368,
          354
         ]
        },
        {
         "hoverinfo": "text",
         "line": {
          "color": "rgba(128, 128, 128, 0.4)",
          "width": 1
         },
         "mode": "lines",
         "text": "141.87",
         "type": "scatter3d",
         "x": [
          103,
          184
         ],
         "y": [
          122,
          229
         ],
         "z": [
          208,
          254
         ]
        },
        {
         "hoverinfo": "text",
         "line": {
          "color": "rgba(128, 128, 128, 0.4)",
          "width": 1
         },
         "mode": "lines",
         "text": "60.96",
         "type": "scatter3d",
         "x": [
          106,
          134
         ],
         "y": [
          154,
          208
         ],
         "z": [
          254,
          250
         ]
        },
        {
         "hoverinfo": "text",
         "line": {
          "color": "rgba(128, 128, 128, 0.4)",
          "width": 1
         },
         "mode": "lines",
         "text": "31.03",
         "type": "scatter3d",
         "x": [
          115,
          140
         ],
         "y": [
          307,
          290
         ],
         "z": [
          313,
          306
         ]
        },
        {
         "hoverinfo": "text",
         "line": {
          "color": "rgba(128, 128, 128, 0.4)",
          "width": 1
         },
         "mode": "lines",
         "text": "88.14",
         "type": "scatter3d",
         "x": [
          116,
          204
         ],
         "y": [
          239,
          239
         ],
         "z": [
          354,
          349
         ]
        },
        {
         "hoverinfo": "text",
         "line": {
          "color": "rgba(128, 128, 128, 0.4)",
          "width": 1
         },
         "mode": "lines",
         "text": "15.43",
         "type": "scatter3d",
         "x": [
          119,
          134
         ],
         "y": [
          206,
          208
         ],
         "z": [
          247,
          250
         ]
        },
        {
         "hoverinfo": "text",
         "line": {
          "color": "rgba(128, 128, 128, 0.4)",
          "width": 1
         },
         "mode": "lines",
         "text": "31.08",
         "type": "scatter3d",
         "x": [
          119,
          88
         ],
         "y": [
          206,
          207
         ],
         "z": [
          247,
          245
         ]
        },
        {
         "hoverinfo": "text",
         "line": {
          "color": "rgba(128, 128, 128, 0.4)",
          "width": 1
         },
         "mode": "lines",
         "text": "58.11",
         "type": "scatter3d",
         "x": [
          123,
          175
         ],
         "y": [
          94,
          117
         ],
         "z": [
          311,
          299
         ]
        },
        {
         "hoverinfo": "text",
         "line": {
          "color": "rgba(128, 128, 128, 0.4)",
          "width": 1
         },
         "mode": "lines",
         "text": "24.74",
         "type": "scatter3d",
         "x": [
          123,
          145
         ],
         "y": [
          311,
          303
         ],
         "z": [
          241,
          233
         ]
        },
        {
         "hoverinfo": "text",
         "line": {
          "color": "rgba(128, 128, 128, 0.4)",
          "width": 1
         },
         "mode": "lines",
         "text": "64.29",
         "type": "scatter3d",
         "x": [
          126,
          173
         ],
         "y": [
          183,
          223
         ],
         "z": [
          350,
          332
         ]
        },
        {
         "hoverinfo": "text",
         "line": {
          "color": "rgba(128, 128, 128, 0.4)",
          "width": 1
         },
         "mode": "lines",
         "text": "106.56",
         "type": "scatter3d",
         "x": [
          126,
          226
         ],
         "y": [
          302,
          277
         ],
         "z": [
          356,
          329
         ]
        },
        {
         "hoverinfo": "text",
         "line": {
          "color": "rgba(128, 128, 128, 0.4)",
          "width": 1
         },
         "mode": "lines",
         "text": "24.70",
         "type": "scatter3d",
         "x": [
          130,
          154
         ],
         "y": [
          234,
          231
         ],
         "z": [
          410,
          405
         ]
        },
        {
         "hoverinfo": "text",
         "line": {
          "color": "rgba(128, 128, 128, 0.4)",
          "width": 1
         },
         "mode": "lines",
         "text": "24.60",
         "type": "scatter3d",
         "x": [
          133,
          154
         ],
         "y": [
          49,
          57
         ],
         "z": [
          242,
          232
         ]
        },
        {
         "hoverinfo": "text",
         "line": {
          "color": "rgba(128, 128, 128, 0.4)",
          "width": 1
         },
         "mode": "lines",
         "text": "47.59",
         "type": "scatter3d",
         "x": [
          133,
          161
         ],
         "y": [
          52,
          87
         ],
         "z": [
          213,
          229
         ]
        },
        {
         "hoverinfo": "text",
         "line": {
          "color": "rgba(128, 128, 128, 0.4)",
          "width": 1
         },
         "mode": "lines",
         "text": "54.38",
         "type": "scatter3d",
         "x": [
          134,
          184
         ],
         "y": [
          208,
          229
         ],
         "z": [
          250,
          254
         ]
        },
        {
         "hoverinfo": "text",
         "line": {
          "color": "rgba(128, 128, 128, 0.4)",
          "width": 1
         },
         "mode": "lines",
         "text": "48.52",
         "type": "scatter3d",
         "x": [
          136,
          183
         ],
         "y": [
          352,
          340
         ],
         "z": [
          367,
          366
         ]
        },
        {
         "hoverinfo": "text",
         "line": {
          "color": "rgba(128, 128, 128, 0.4)",
          "width": 1
         },
         "mode": "lines",
         "text": "55.96",
         "type": "scatter3d",
         "x": [
          139,
          166
         ],
         "y": [
          181,
          230
         ],
         "z": [
          397,
          398
         ]
        },
        {
         "hoverinfo": "text",
         "line": {
          "color": "rgba(128, 128, 128, 0.4)",
          "width": 1
         },
         "mode": "lines",
         "text": "86.08",
         "type": "scatter3d",
         "x": [
          139,
          221
         ],
         "y": [
          354,
          328
         ],
         "z": [
          202,
          199
         ]
        },
        {
         "hoverinfo": "text",
         "line": {
          "color": "rgba(128, 128, 128, 0.4)",
          "width": 1
         },
         "mode": "lines",
         "text": "89.43",
         "type": "scatter3d",
         "x": [
          140,
          225
         ],
         "y": [
          290,
          266
         ],
         "z": [
          306,
          320
         ]
        },
        {
         "hoverinfo": "text",
         "line": {
          "color": "rgba(128, 128, 128, 0.4)",
          "width": 1
         },
         "mode": "lines",
         "text": "69.95",
         "type": "scatter3d",
         "x": [
          145,
          206
         ],
         "y": [
          303,
          269
         ],
         "z": [
          233,
          229
         ]
        },
        {
         "hoverinfo": "text",
         "line": {
          "color": "rgba(128, 128, 128, 0.4)",
          "width": 1
         },
         "mode": "lines",
         "text": "24.74",
         "type": "scatter3d",
         "x": [
          146,
          154
         ],
         "y": [
          223,
          231
         ],
         "z": [
          427,
          405
         ]
        },
        {
         "hoverinfo": "text",
         "line": {
          "color": "rgba(128, 128, 128, 0.4)",
          "width": 1
         },
         "mode": "lines",
         "text": "29.27",
         "type": "scatter3d",
         "x": [
          151,
          173
         ],
         "y": [
          216,
          223
         ],
         "z": [
          314,
          332
         ]
        },
        {
         "hoverinfo": "text",
         "line": {
          "color": "rgba(128, 128, 128, 0.4)",
          "width": 1
         },
         "mode": "lines",
         "text": "113.53",
         "type": "scatter3d",
         "x": [
          151,
          243
         ],
         "y": [
          321,
          272
         ],
         "z": [
          434,
          389
         ]
        },
        {
         "hoverinfo": "text",
         "line": {
          "color": "rgba(128, 128, 128, 0.4)",
          "width": 1
         },
         "mode": "lines",
         "text": "30.95",
         "type": "scatter3d",
         "x": [
          154,
          161
         ],
         "y": [
          57,
          87
         ],
         "z": [
          232,
          229
         ]
        },
        {
         "hoverinfo": "text",
         "line": {
          "color": "rgba(128, 128, 128, 0.4)",
          "width": 1
         },
         "mode": "lines",
         "text": "28.23",
         "type": "scatter3d",
         "x": [
          154,
          164
         ],
         "y": [
          57,
          33
         ],
         "z": [
          232,
          221
         ]
        },
        {
         "hoverinfo": "text",
         "line": {
          "color": "rgba(128, 128, 128, 0.4)",
          "width": 1
         },
         "mode": "lines",
         "text": "13.93",
         "type": "scatter3d",
         "x": [
          154,
          166
         ],
         "y": [
          231,
          230
         ],
         "z": [
          405,
          398
         ]
        },
        {
         "hoverinfo": "text",
         "line": {
          "color": "rgba(128, 128, 128, 0.4)",
          "width": 1
         },
         "mode": "lines",
         "text": "21.84",
         "type": "scatter3d",
         "x": [
          159,
          171
         ],
         "y": [
          232,
          250
         ],
         "z": [
          192,
          195
         ]
        },
        {
         "hoverinfo": "text",
         "line": {
          "color": "rgba(128, 128, 128, 0.4)",
          "width": 1
         },
         "mode": "lines",
         "text": "55.25",
         "type": "scatter3d",
         "x": [
          161,
          193
         ],
         "y": [
          87,
          132
         ],
         "z": [
          229,
          227
         ]
        },
        {
         "hoverinfo": "text",
         "line": {
          "color": "rgba(128, 128, 128, 0.4)",
          "width": 1
         },
         "mode": "lines",
         "text": "34.66",
         "type": "scatter3d",
         "x": [
          162,
          187
         ],
         "y": [
          125,
          125
         ],
         "z": [
          372,
          348
         ]
        },
        {
         "hoverinfo": "text",
         "line": {
          "color": "rgba(128, 128, 128, 0.4)",
          "width": 1
         },
         "mode": "lines",
         "text": "58.32",
         "type": "scatter3d",
         "x": [
          162,
          178
         ],
         "y": [
          366,
          323
         ],
         "z": [
          145,
          181
         ]
        },
        {
         "hoverinfo": "text",
         "line": {
          "color": "rgba(128, 128, 128, 0.4)",
          "width": 1
         },
         "mode": "lines",
         "text": "69.11",
         "type": "scatter3d",
         "x": [
          163,
          203
         ],
         "y": [
          373,
          323
         ],
         "z": [
          297,
          271
         ]
        },
        {
         "hoverinfo": "text",
         "line": {
          "color": "rgba(128, 128, 128, 0.4)",
          "width": 1
         },
         "mode": "lines",
         "text": "20.74",
         "type": "scatter3d",
         "x": [
          166,
          171
         ],
         "y": [
          268,
          250
         ],
         "z": [
          204,
          195
         ]
        },
        {
         "hoverinfo": "text",
         "line": {
          "color": "rgba(128, 128, 128, 0.4)",
          "width": 1
         },
         "mode": "lines",
         "text": "47.18",
         "type": "scatter3d",
         "x": [
          166,
          206
         ],
         "y": [
          268,
          269
         ],
         "z": [
          204,
          229
         ]
        },
        {
         "hoverinfo": "text",
         "line": {
          "color": "rgba(128, 128, 128, 0.4)",
          "width": 1
         },
         "mode": "lines",
         "text": "19.85",
         "type": "scatter3d",
         "x": [
          169,
          181
         ],
         "y": [
          11,
          24
         ],
         "z": [
          153,
          162
         ]
        },
        {
         "hoverinfo": "text",
         "line": {
          "color": "rgba(128, 128, 128, 0.4)",
          "width": 1
         },
         "mode": "lines",
         "text": "47.70",
         "type": "scatter3d",
         "x": [
          169,
          214
         ],
         "y": [
          273,
          260
         ],
         "z": [
          451,
          442
         ]
        },
        {
         "hoverinfo": "text",
         "line": {
          "color": "rgba(128, 128, 128, 0.4)",
          "width": 1
         },
         "mode": "lines",
         "text": "23.02",
         "type": "scatter3d",
         "x": [
          170,
          183
         ],
         "y": [
          359,
          340
         ],
         "z": [
          366,
          366
         ]
        },
        {
         "hoverinfo": "text",
         "line": {
          "color": "rgba(128, 128, 128, 0.4)",
          "width": 1
         },
         "mode": "lines",
         "text": "18.71",
         "type": "scatter3d",
         "x": [
          172,
          171
         ],
         "y": [
          255,
          250
         ],
         "z": [
          177,
          195
         ]
        },
        {
         "hoverinfo": "text",
         "line": {
          "color": "rgba(128, 128, 128, 0.4)",
          "width": 1
         },
         "mode": "lines",
         "text": "52.71",
         "type": "scatter3d",
         "x": [
          175,
          204
         ],
         "y": [
          117,
          158
         ],
         "z": [
          299,
          315
         ]
        },
        {
         "hoverinfo": "text",
         "line": {
          "color": "rgba(128, 128, 128, 0.4)",
          "width": 1
         },
         "mode": "lines",
         "text": "76.48",
         "type": "scatter3d",
         "x": [
          175,
          183
         ],
         "y": [
          117,
          48
         ],
         "z": [
          299,
          267
         ]
        },
        {
         "hoverinfo": "text",
         "line": {
          "color": "rgba(128, 128, 128, 0.4)",
          "width": 1
         },
         "mode": "lines",
         "text": "46.88",
         "type": "scatter3d",
         "x": [
          178,
          221
         ],
         "y": [
          323,
          328
         ],
         "z": [
          181,
          199
         ]
        },
        {
         "hoverinfo": "text",
         "line": {
          "color": "rgba(128, 128, 128, 0.4)",
          "width": 1
         },
         "mode": "lines",
         "text": "54.35",
         "type": "scatter3d",
         "x": [
          179,
          188
         ],
         "y": [
          22,
          54
         ],
         "z": [
          129,
          172
         ]
        },
        {
         "hoverinfo": "text",
         "line": {
          "color": "rgba(128, 128, 128, 0.4)",
          "width": 1
         },
         "mode": "lines",
         "text": "9.70",
         "type": "scatter3d",
         "x": [
          180,
          183
         ],
         "y": [
          42,
          48
         ],
         "z": [
          260,
          267
         ]
        },
        {
         "hoverinfo": "text",
         "line": {
          "color": "rgba(128, 128, 128, 0.4)",
          "width": 1
         },
         "mode": "lines",
         "text": "1.73",
         "type": "scatter3d",
         "x": [
          180,
          181
         ],
         "y": [
          369,
          370
         ],
         "z": [
          262,
          263
         ]
        },
        {
         "hoverinfo": "text",
         "line": {
          "color": "rgba(128, 128, 128, 0.4)",
          "width": 1
         },
         "mode": "lines",
         "text": "108.84",
         "type": "scatter3d",
         "x": [
          181,
          207
         ],
         "y": [
          153,
          242
         ],
         "z": [
          202,
          259
         ]
        },
        {
         "hoverinfo": "text",
         "line": {
          "color": "rgba(128, 128, 128, 0.4)",
          "width": 1
         },
         "mode": "lines",
         "text": "31.38",
         "type": "scatter3d",
         "x": [
          181,
          184
         ],
         "y": [
          370,
          390
         ],
         "z": [
          263,
          239
         ]
        },
        {
         "hoverinfo": "text",
         "line": {
          "color": "rgba(128, 128, 128, 0.4)",
          "width": 1
         },
         "mode": "lines",
         "text": "52.51",
         "type": "scatter3d",
         "x": [
          181,
          203
         ],
         "y": [
          370,
          323
         ],
         "z": [
          263,
          271
         ]
        },
        {
         "hoverinfo": "text",
         "line": {
          "color": "rgba(128, 128, 128, 0.4)",
          "width": 1
         },
         "mode": "lines",
         "text": "8.60",
         "type": "scatter3d",
         "x": [
          183,
          186
         ],
         "y": [
          20,
          13
         ],
         "z": [
          162,
          166
         ]
        },
        {
         "hoverinfo": "text",
         "line": {
          "color": "rgba(128, 128, 128, 0.4)",
          "width": 1
         },
         "mode": "lines",
         "text": "28.46",
         "type": "scatter3d",
         "x": [
          183,
          194
         ],
         "y": [
          20,
          3
         ],
         "z": [
          162,
          142
         ]
        },
        {
         "hoverinfo": "text",
         "line": {
          "color": "rgba(128, 128, 128, 0.4)",
          "width": 1
         },
         "mode": "lines",
         "text": "4.47",
         "type": "scatter3d",
         "x": [
          183,
          181
         ],
         "y": [
          20,
          24
         ],
         "z": [
          162,
          162
         ]
        },
        {
         "hoverinfo": "text",
         "line": {
          "color": "rgba(128, 128, 128, 0.4)",
          "width": 1
         },
         "mode": "lines",
         "text": "49.02",
         "type": "scatter3d",
         "x": [
          183,
          226
         ],
         "y": [
          340,
          317
         ],
         "z": [
          366,
          361
         ]
        },
        {
         "hoverinfo": "text",
         "line": {
          "color": "rgba(128, 128, 128, 0.4)",
          "width": 1
         },
         "mode": "lines",
         "text": "28.18",
         "type": "scatter3d",
         "x": [
          184,
          187
         ],
         "y": [
          126,
          125
         ],
         "z": [
          376,
          348
         ]
        },
        {
         "hoverinfo": "text",
         "line": {
          "color": "rgba(128, 128, 128, 0.4)",
          "width": 1
         },
         "mode": "lines",
         "text": "25.96",
         "type": "scatter3d",
         "x": [
          184,
          204
         ],
         "y": [
          162,
          177
         ],
         "z": [
          258,
          251
         ]
        },
        {
         "hoverinfo": "text",
         "line": {
          "color": "rgba(128, 128, 128, 0.4)",
          "width": 1
         },
         "mode": "lines",
         "text": "126.83",
         "type": "scatter3d",
         "x": [
          184,
          225
         ],
         "y": [
          374,
          326
         ],
         "z": [
          20,
          130
         ]
        },
        {
         "hoverinfo": "text",
         "line": {
          "color": "rgba(128, 128, 128, 0.4)",
          "width": 1
         },
         "mode": "lines",
         "text": "7.68",
         "type": "scatter3d",
         "x": [
          187,
          190
         ],
         "y": [
          125,
          126
         ],
         "z": [
          348,
          341
         ]
        },
        {
         "hoverinfo": "text",
         "line": {
          "color": "rgba(128, 128, 128, 0.4)",
          "width": 1
         },
         "mode": "lines",
         "text": "5.48",
         "type": "scatter3d",
         "x": [
          188,
          183
         ],
         "y": [
          46,
          48
         ],
         "z": [
          268,
          267
         ]
        },
        {
         "hoverinfo": "text",
         "line": {
          "color": "rgba(128, 128, 128, 0.4)",
          "width": 1
         },
         "mode": "lines",
         "text": "42.27",
         "type": "scatter3d",
         "x": [
          188,
          201
         ],
         "y": [
          54,
          87
         ],
         "z": [
          172,
          195
         ]
        },
        {
         "hoverinfo": "text",
         "line": {
          "color": "rgba(128, 128, 128, 0.4)",
          "width": 1
         },
         "mode": "lines",
         "text": "32.39",
         "type": "scatter3d",
         "x": [
          188,
          181
         ],
         "y": [
          54,
          24
         ],
         "z": [
          172,
          162
         ]
        },
        {
         "hoverinfo": "text",
         "line": {
          "color": "rgba(128, 128, 128, 0.4)",
          "width": 1
         },
         "mode": "lines",
         "text": "55.79",
         "type": "scatter3d",
         "x": [
          193,
          201
         ],
         "y": [
          132,
          87
         ],
         "z": [
          227,
          195
         ]
        },
        {
         "hoverinfo": "text",
         "line": {
          "color": "rgba(128, 128, 128, 0.4)",
          "width": 1
         },
         "mode": "lines",
         "text": "52.17",
         "type": "scatter3d",
         "x": [
          193,
          204
         ],
         "y": [
          132,
          177
         ],
         "z": [
          227,
          251
         ]
        },
        {
         "hoverinfo": "text",
         "line": {
          "color": "rgba(128, 128, 128, 0.4)",
          "width": 1
         },
         "mode": "lines",
         "text": "40.72",
         "type": "scatter3d",
         "x": [
          194,
          190
         ],
         "y": [
          87,
          126
         ],
         "z": [
          330,
          341
         ]
        },
        {
         "hoverinfo": "text",
         "line": {
          "color": "rgba(128, 128, 128, 0.4)",
          "width": 1
         },
         "mode": "lines",
         "text": "27.80",
         "type": "scatter3d",
         "x": [
          197,
          209
         ],
         "y": [
          193,
          218
         ],
         "z": [
          396,
          394
         ]
        },
        {
         "hoverinfo": "text",
         "line": {
          "color": "rgba(128, 128, 128, 0.4)",
          "width": 1
         },
         "mode": "lines",
         "text": "31.34",
         "type": "scatter3d",
         "x": [
          201,
          211
         ],
         "y": [
          87,
          66
         ],
         "z": [
          195,
          174
         ]
        },
        {
         "hoverinfo": "text",
         "line": {
          "color": "rgba(128, 128, 128, 0.4)",
          "width": 1
         },
         "mode": "lines",
         "text": "7.68",
         "type": "scatter3d",
         "x": [
          201,
          206
         ],
         "y": [
          137,
          132
         ],
         "z": [
          332,
          335
         ]
        },
        {
         "hoverinfo": "text",
         "line": {
          "color": "rgba(128, 128, 128, 0.4)",
          "width": 1
         },
         "mode": "lines",
         "text": "17.97",
         "type": "scatter3d",
         "x": [
          201,
          190
         ],
         "y": [
          137,
          126
         ],
         "z": [
          332,
          341
         ]
        },
        {
         "hoverinfo": "text",
         "line": {
          "color": "rgba(128, 128, 128, 0.4)",
          "width": 1
         },
         "mode": "lines",
         "text": "22.98",
         "type": "scatter3d",
         "x": [
          201,
          205
         ],
         "y": [
          137,
          153
         ],
         "z": [
          332,
          316
         ]
        },
        {
         "hoverinfo": "text",
         "line": {
          "color": "rgba(128, 128, 128, 0.4)",
          "width": 1
         },
         "mode": "lines",
         "text": "28.18",
         "type": "scatter3d",
         "x": [
          203,
          210
         ],
         "y": [
          225,
          252
         ],
         "z": [
          465,
          461
         ]
        },
        {
         "hoverinfo": "text",
         "line": {
          "color": "rgba(128, 128, 128, 0.4)",
          "width": 1
         },
         "mode": "lines",
         "text": "48.06",
         "type": "scatter3d",
         "x": [
          203,
          213
         ],
         "y": [
          323,
          280
         ],
         "z": [
          271,
          290
         ]
        },
        {
         "hoverinfo": "text",
         "line": {
          "color": "rgba(128, 128, 128, 0.4)",
          "width": 1
         },
         "mode": "lines",
         "text": "5.20",
         "type": "scatter3d",
         "x": [
          204,
          205
         ],
         "y": [
          158,
          153
         ],
         "z": [
          315,
          316
         ]
        },
        {
         "hoverinfo": "text",
         "line": {
          "color": "rgba(128, 128, 128, 0.4)",
          "width": 1
         },
         "mode": "lines",
         "text": "31.38",
         "type": "scatter3d",
         "x": [
          204,
          211
         ],
         "y": [
          158,
          188
         ],
         "z": [
          315,
          321
         ]
        },
        {
         "hoverinfo": "text",
         "line": {
          "color": "rgba(128, 128, 128, 0.4)",
          "width": 1
         },
         "mode": "lines",
         "text": "3.74",
         "type": "scatter3d",
         "x": [
          204,
          205
         ],
         "y": [
          177,
          179
         ],
         "z": [
          251,
          254
         ]
        },
        {
         "hoverinfo": "text",
         "line": {
          "color": "rgba(128, 128, 128, 0.4)",
          "width": 1
         },
         "mode": "lines",
         "text": "13.75",
         "type": "scatter3d",
         "x": [
          204,
          207
         ],
         "y": [
          248,
          242
         ],
         "z": [
          271,
          259
         ]
        },
        {
         "hoverinfo": "text",
         "line": {
          "color": "rgba(128, 128, 128, 0.4)",
          "width": 1
         },
         "mode": "lines",
         "text": "15.84",
         "type": "scatter3d",
         "x": [
          204,
          215
         ],
         "y": [
          248,
          257
         ],
         "z": [
          271,
          278
         ]
        },
        {
         "hoverinfo": "text",
         "line": {
          "color": "rgba(128, 128, 128, 0.4)",
          "width": 1
         },
         "mode": "lines",
         "text": "32.40",
         "type": "scatter3d",
         "x": [
          204,
          184
         ],
         "y": [
          248,
          229
         ],
         "z": [
          271,
          254
         ]
        },
        {
         "hoverinfo": "text",
         "line": {
          "color": "rgba(128, 128, 128, 0.4)",
          "width": 1
         },
         "mode": "lines",
         "text": "9.17",
         "type": "scatter3d",
         "x": [
          205,
          207
         ],
         "y": [
          250,
          246
         ],
         "z": [
          410,
          402
         ]
        },
        {
         "hoverinfo": "text",
         "line": {
          "color": "rgba(128, 128, 128, 0.4)",
          "width": 1
         },
         "mode": "lines",
         "text": "36.41",
         "type": "scatter3d",
         "x": [
          205,
          224
         ],
         "y": [
          360,
          329
         ],
         "z": [
          203,
          205
         ]
        },
        {
         "hoverinfo": "text",
         "line": {
          "color": "rgba(128, 128, 128, 0.4)",
          "width": 1
         },
         "mode": "lines",
         "text": "64.88",
         "type": "scatter3d",
         "x": [
          206,
          228
         ],
         "y": [
          273,
          323
         ],
         "z": [
          254,
          219
         ]
        },
        {
         "hoverinfo": "text",
         "line": {
          "color": "rgba(128, 128, 128, 0.4)",
          "width": 1
         },
         "mode": "lines",
         "text": "30.22",
         "type": "scatter3d",
         "x": [
          206,
          215
         ],
         "y": [
          273,
          257
         ],
         "z": [
          254,
          278
         ]
        },
        {
         "hoverinfo": "text",
         "line": {
          "color": "rgba(128, 128, 128, 0.4)",
          "width": 1
         },
         "mode": "lines",
         "text": "25.32",
         "type": "scatter3d",
         "x": [
          206,
          206
         ],
         "y": [
          273,
          269
         ],
         "z": [
          254,
          229
         ]
        },
        {
         "hoverinfo": "text",
         "line": {
          "color": "rgba(128, 128, 128, 0.4)",
          "width": 1
         },
         "mode": "lines",
         "text": "55.53",
         "type": "scatter3d",
         "x": [
          208,
          230
         ],
         "y": [
          332,
          310
         ],
         "z": [
          406,
          360
         ]
        },
        {
         "hoverinfo": "text",
         "line": {
          "color": "rgba(128, 128, 128, 0.4)",
          "width": 1
         },
         "mode": "lines",
         "text": "32.66",
         "type": "scatter3d",
         "x": [
          209,
          218
         ],
         "y": [
          218,
          249
         ],
         "z": [
          394,
          389
         ]
        },
        {
         "hoverinfo": "text",
         "line": {
          "color": "rgba(128, 128, 128, 0.4)",
          "width": 1
         },
         "mode": "lines",
         "text": "44.96",
         "type": "scatter3d",
         "x": [
          209,
          219
         ],
         "y": [
          218,
          182
         ],
         "z": [
          394,
          419
         ]
        },
        {
         "hoverinfo": "text",
         "line": {
          "color": "rgba(128, 128, 128, 0.4)",
          "width": 1
         },
         "mode": "lines",
         "text": "44.96",
         "type": "scatter3d",
         "x": [
          210,
          236
         ],
         "y": [
          136,
          103
         ],
         "z": [
          237,
          221
         ]
        },
        {
         "hoverinfo": "text",
         "line": {
          "color": "rgba(128, 128, 128, 0.4)",
          "width": 1
         },
         "mode": "lines",
         "text": "102.42",
         "type": "scatter3d",
         "x": [
          210,
          241
         ],
         "y": [
          136,
          51
         ],
         "z": [
          237,
          189
         ]
        },
        {
         "hoverinfo": "text",
         "line": {
          "color": "rgba(128, 128, 128, 0.4)",
          "width": 1
         },
         "mode": "lines",
         "text": "46.51",
         "type": "scatter3d",
         "x": [
          210,
          205
         ],
         "y": [
          136,
          179
         ],
         "z": [
          237,
          254
         ]
        },
        {
         "hoverinfo": "text",
         "line": {
          "color": "rgba(128, 128, 128, 0.4)",
          "width": 1
         },
         "mode": "lines",
         "text": "10.77",
         "type": "scatter3d",
         "x": [
          210,
          214
         ],
         "y": [
          252,
          244
         ],
         "z": [
          493,
          499
         ]
        },
        {
         "hoverinfo": "text",
         "line": {
          "color": "rgba(128, 128, 128, 0.4)",
          "width": 1
         },
         "mode": "lines",
         "text": "18.28",
         "type": "scatter3d",
         "x": [
          210,
          213
         ],
         "y": [
          252,
          262
         ],
         "z": [
          493,
          508
         ]
        },
        {
         "hoverinfo": "text",
         "line": {
          "color": "rgba(128, 128, 128, 0.4)",
          "width": 1
         },
         "mode": "lines",
         "text": "32.00",
         "type": "scatter3d",
         "x": [
          210,
          210
         ],
         "y": [
          252,
          252
         ],
         "z": [
          493,
          461
         ]
        },
        {
         "hoverinfo": "text",
         "line": {
          "color": "rgba(128, 128, 128, 0.4)",
          "width": 1
         },
         "mode": "lines",
         "text": "76.01",
         "type": "scatter3d",
         "x": [
          211,
          211
         ],
         "y": [
          168,
          209
         ],
         "z": [
          197,
          261
         ]
        },
        {
         "hoverinfo": "text",
         "line": {
          "color": "rgba(128, 128, 128, 0.4)",
          "width": 1
         },
         "mode": "lines",
         "text": "52.28",
         "type": "scatter3d",
         "x": [
          211,
          222
         ],
         "y": [
          209,
          253
         ],
         "z": [
          261,
          287
         ]
        },
        {
         "hoverinfo": "text",
         "line": {
          "color": "rgba(128, 128, 128, 0.4)",
          "width": 1
         },
         "mode": "lines",
         "text": "31.38",
         "type": "scatter3d",
         "x": [
          211,
          205
         ],
         "y": [
          209,
          179
         ],
         "z": [
          261,
          254
         ]
        },
        {
         "hoverinfo": "text",
         "line": {
          "color": "rgba(128, 128, 128, 0.4)",
          "width": 1
         },
         "mode": "lines",
         "text": "65.01",
         "type": "scatter3d",
         "x": [
          214,
          241
         ],
         "y": [
          260,
          264
         ],
         "z": [
          442,
          383
         ]
        },
        {
         "hoverinfo": "text",
         "line": {
          "color": "rgba(128, 128, 128, 0.4)",
          "width": 1
         },
         "mode": "lines",
         "text": "21.00",
         "type": "scatter3d",
         "x": [
          214,
          210
         ],
         "y": [
          260,
          252
         ],
         "z": [
          442,
          461
         ]
        },
        {
         "hoverinfo": "text",
         "line": {
          "color": "rgba(128, 128, 128, 0.4)",
          "width": 1
         },
         "mode": "lines",
         "text": "20.47",
         "type": "scatter3d",
         "x": [
          214,
          233
         ],
         "y": [
          298,
          295
         ],
         "z": [
          460,
          453
         ]
        },
        {
         "hoverinfo": "text",
         "line": {
          "color": "rgba(128, 128, 128, 0.4)",
          "width": 1
         },
         "mode": "lines",
         "text": "14.21",
         "type": "scatter3d",
         "x": [
          217,
          228
         ],
         "y": [
          334,
          334
         ],
         "z": [
          373,
          382
         ]
        },
        {
         "hoverinfo": "text",
         "line": {
          "color": "rgba(128, 128, 128, 0.4)",
          "width": 1
         },
         "mode": "lines",
         "text": "17.29",
         "type": "scatter3d",
         "x": [
          218,
          207
         ],
         "y": [
          249,
          246
         ],
         "z": [
          389,
          402
         ]
        },
        {
         "hoverinfo": "text",
         "line": {
          "color": "rgba(128, 128, 128, 0.4)",
          "width": 1
         },
         "mode": "lines",
         "text": "4.90",
         "type": "scatter3d",
         "x": [
          218,
          220
         ],
         "y": [
          249,
          251
         ],
         "z": [
          389,
          385
         ]
        },
        {
         "hoverinfo": "text",
         "line": {
          "color": "rgba(128, 128, 128, 0.4)",
          "width": 1
         },
         "mode": "lines",
         "text": "35.23",
         "type": "scatter3d",
         "x": [
          219,
          223
         ],
         "y": [
          318,
          318
         ],
         "z": [
          178,
          143
         ]
        },
        {
         "hoverinfo": "text",
         "line": {
          "color": "rgba(128, 128, 128, 0.4)",
          "width": 1
         },
         "mode": "lines",
         "text": "69.53",
         "type": "scatter3d",
         "x": [
          219,
          222
         ],
         "y": [
          318,
          291
         ],
         "z": [
          178,
          114
         ]
        },
        {
         "hoverinfo": "text",
         "line": {
          "color": "rgba(128, 128, 128, 0.4)",
          "width": 1
         },
         "mode": "lines",
         "text": "23.45",
         "type": "scatter3d",
         "x": [
          219,
          222
         ],
         "y": [
          318,
          328
         ],
         "z": [
          178,
          199
         ]
        },
        {
         "hoverinfo": "text",
         "line": {
          "color": "rgba(255, 0, 0, 0.8)",
          "width": 8
         },
         "mode": "lines",
         "text": "1.00",
         "type": "scatter3d",
         "x": [
          221,
          222
         ],
         "y": [
          328,
          328
         ],
         "z": [
          199,
          199
         ]
        },
        {
         "hoverinfo": "text",
         "line": {
          "color": "rgba(255, 0, 0, 0.8)",
          "width": 8
         },
         "mode": "lines",
         "text": "1.41",
         "type": "scatter3d",
         "x": [
          221,
          222
         ],
         "y": [
          328,
          328
         ],
         "z": [
          199,
          200
         ]
        },
        {
         "hoverinfo": "text",
         "line": {
          "color": "rgba(128, 128, 128, 0.4)",
          "width": 1
         },
         "mode": "lines",
         "text": "12.08",
         "type": "scatter3d",
         "x": [
          222,
          215
         ],
         "y": [
          253,
          257
         ],
         "z": [
          287,
          278
         ]
        },
        {
         "hoverinfo": "text",
         "line": {
          "color": "rgba(128, 128, 128, 0.4)",
          "width": 1
         },
         "mode": "lines",
         "text": "5.74",
         "type": "scatter3d",
         "x": [
          222,
          226
         ],
         "y": [
          253,
          252
         ],
         "z": [
          287,
          291
         ]
        },
        {
         "hoverinfo": "text",
         "line": {
          "color": "rgba(255, 0, 0, 0.8)",
          "width": 8
         },
         "mode": "lines",
         "text": "1.00",
         "type": "scatter3d",
         "x": [
          222,
          222
         ],
         "y": [
          328,
          328
         ],
         "z": [
          199,
          200
         ]
        },
        {
         "hoverinfo": "text",
         "line": {
          "color": "rgba(128, 128, 128, 0.4)",
          "width": 1
         },
         "mode": "lines",
         "text": "5.48",
         "type": "scatter3d",
         "x": [
          222,
          224
         ],
         "y": [
          328,
          329
         ],
         "z": [
          200,
          205
         ]
        },
        {
         "hoverinfo": "text",
         "line": {
          "color": "rgba(128, 128, 128, 0.4)",
          "width": 1
         },
         "mode": "lines",
         "text": "15.39",
         "type": "scatter3d",
         "x": [
          223,
          225
         ],
         "y": [
          318,
          326
         ],
         "z": [
          143,
          130
         ]
        },
        {
         "hoverinfo": "text",
         "line": {
          "color": "rgba(128, 128, 128, 0.4)",
          "width": 1
         },
         "mode": "lines",
         "text": "52.48",
         "type": "scatter3d",
         "x": [
          223,
          255
         ],
         "y": [
          318,
          311
         ],
         "z": [
          143,
          102
         ]
        },
        {
         "hoverinfo": "text",
         "line": {
          "color": "rgba(128, 128, 128, 0.4)",
          "width": 1
         },
         "mode": "lines",
         "text": "15.75",
         "type": "scatter3d",
         "x": [
          224,
          228
         ],
         "y": [
          329,
          323
         ],
         "z": [
          205,
          219
         ]
        },
        {
         "hoverinfo": "text",
         "line": {
          "color": "rgba(128, 128, 128, 0.4)",
          "width": 1
         },
         "mode": "lines",
         "text": "14.25",
         "type": "scatter3d",
         "x": [
          225,
          226
         ],
         "y": [
          266,
          277
         ],
         "z": [
          320,
          329
         ]
        },
        {
         "hoverinfo": "text",
         "line": {
          "color": "rgba(128, 128, 128, 0.4)",
          "width": 1
         },
         "mode": "lines",
         "text": "27.75",
         "type": "scatter3d",
         "x": [
          225,
          241
         ],
         "y": [
          266,
          251
         ],
         "z": [
          320,
          303
         ]
        },
        {
         "hoverinfo": "text",
         "line": {
          "color": "rgba(128, 128, 128, 0.4)",
          "width": 1
         },
         "mode": "lines",
         "text": "13.75",
         "type": "scatter3d",
         "x": [
          225,
          233
         ],
         "y": [
          326,
          328
         ],
         "z": [
          130,
          119
         ]
        },
        {
         "hoverinfo": "text",
         "line": {
          "color": "rgba(128, 128, 128, 0.4)",
          "width": 1
         },
         "mode": "lines",
         "text": "12.08",
         "type": "scatter3d",
         "x": [
          225,
          228
         ],
         "y": [
          338,
          334
         ],
         "z": [
          393,
          382
         ]
        },
        {
         "hoverinfo": "text",
         "line": {
          "color": "rgba(128, 128, 128, 0.4)",
          "width": 1
         },
         "mode": "lines",
         "text": "45.45",
         "type": "scatter3d",
         "x": [
          226,
          230
         ],
         "y": [
          277,
          310
         ],
         "z": [
          329,
          360
         ]
        },
        {
         "hoverinfo": "text",
         "line": {
          "color": "rgba(128, 128, 128, 0.4)",
          "width": 1
         },
         "mode": "lines",
         "text": "27.09",
         "type": "scatter3d",
         "x": [
          226,
          228
         ],
         "y": [
          317,
          334
         ],
         "z": [
          361,
          382
         ]
        },
        {
         "hoverinfo": "text",
         "line": {
          "color": "rgba(128, 128, 128, 0.4)",
          "width": 1
         },
         "mode": "lines",
         "text": "8.12",
         "type": "scatter3d",
         "x": [
          226,
          230
         ],
         "y": [
          317,
          310
         ],
         "z": [
          361,
          360
         ]
        },
        {
         "hoverinfo": "text",
         "line": {
          "color": "rgba(128, 128, 128, 0.4)",
          "width": 1
         },
         "mode": "lines",
         "text": "47.55",
         "type": "scatter3d",
         "x": [
          228,
          262
         ],
         "y": [
          136,
          105
         ],
         "z": [
          344,
          356
         ]
        },
        {
         "hoverinfo": "text",
         "line": {
          "color": "rgba(128, 128, 128, 0.4)",
          "width": 1
         },
         "mode": "lines",
         "text": "78.40",
         "type": "scatter3d",
         "x": [
          228,
          261
         ],
         "y": [
          136,
          73
         ],
         "z": [
          344,
          311
         ]
        },
        {
         "hoverinfo": "text",
         "line": {
          "color": "rgba(128, 128, 128, 0.4)",
          "width": 1
         },
         "mode": "lines",
         "text": "59.35",
         "type": "scatter3d",
         "x": [
          228,
          211
         ],
         "y": [
          136,
          188
         ],
         "z": [
          344,
          321
         ]
        },
        {
         "hoverinfo": "text",
         "line": {
          "color": "rgba(128, 128, 128, 0.4)",
          "width": 1
         },
         "mode": "lines",
         "text": "41.92",
         "type": "scatter3d",
         "x": [
          228,
          252
         ],
         "y": [
          323,
          318
         ],
         "z": [
          219,
          185
         ]
        },
        {
         "hoverinfo": "text",
         "line": {
          "color": "rgba(128, 128, 128, 0.4)",
          "width": 1
         },
         "mode": "lines",
         "text": "26.48",
         "type": "scatter3d",
         "x": [
          229,
          231
         ],
         "y": [
          360,
          339
         ],
         "z": [
          310,
          294
         ]
        },
        {
         "hoverinfo": "text",
         "line": {
          "color": "rgba(128, 128, 128, 0.4)",
          "width": 1
         },
         "mode": "lines",
         "text": "4.58",
         "type": "scatter3d",
         "x": [
          233,
          237
         ],
         "y": [
          286,
          284
         ],
         "z": [
          282,
          283
         ]
        },
        {
         "hoverinfo": "text",
         "line": {
          "color": "rgba(128, 128, 128, 0.4)",
          "width": 1
         },
         "mode": "lines",
         "text": "54.38",
         "type": "scatter3d",
         "x": [
          233,
          231
         ],
         "y": [
          286,
          339
         ],
         "z": [
          282,
          294
         ]
        },
        {
         "hoverinfo": "text",
         "line": {
          "color": "rgba(128, 128, 128, 0.4)",
          "width": 1
         },
         "mode": "lines",
         "text": "22.36",
         "type": "scatter3d",
         "x": [
          233,
          213
         ],
         "y": [
          286,
          280
         ],
         "z": [
          282,
          290
         ]
        },
        {
         "hoverinfo": "text",
         "line": {
          "color": "rgba(128, 128, 128, 0.4)",
          "width": 1
         },
         "mode": "lines",
         "text": "10.86",
         "type": "scatter3d",
         "x": [
          233,
          239
         ],
         "y": [
          295,
          294
         ],
         "z": [
          453,
          444
         ]
        },
        {
         "hoverinfo": "text",
         "line": {
          "color": "rgba(128, 128, 128, 0.4)",
          "width": 1
         },
         "mode": "lines",
         "text": "42.73",
         "type": "scatter3d",
         "x": [
          233,
          245
         ],
         "y": [
          295,
          294
         ],
         "z": [
          453,
          494
         ]
        },
        {
         "hoverinfo": "text",
         "line": {
          "color": "rgba(128, 128, 128, 0.4)",
          "width": 1
         },
         "mode": "lines",
         "text": "33.66",
         "type": "scatter3d",
         "x": [
          234,
          239
         ],
         "y": [
          322,
          294
         ],
         "z": [
          462,
          444
         ]
        },
        {
         "hoverinfo": "text",
         "line": {
          "color": "rgba(128, 128, 128, 0.4)",
          "width": 1
         },
         "mode": "lines",
         "text": "100.14",
         "type": "scatter3d",
         "x": [
          237,
          205
         ],
         "y": [
          70,
          153
         ],
         "z": [
          270,
          316
         ]
        },
        {
         "hoverinfo": "text",
         "line": {
          "color": "rgba(128, 128, 128, 0.4)",
          "width": 1
         },
         "mode": "lines",
         "text": "48.52",
         "type": "scatter3d",
         "x": [
          237,
          253
         ],
         "y": [
          284,
          321
         ],
         "z": [
          283,
          310
         ]
        },
        {
         "hoverinfo": "text",
         "line": {
          "color": "rgba(128, 128, 128, 0.4)",
          "width": 1
         },
         "mode": "lines",
         "text": "29.34",
         "type": "scatter3d",
         "x": [
          237,
          253
         ],
         "y": [
          284,
          295
         ],
         "z": [
          283,
          261
         ]
        },
        {
         "hoverinfo": "text",
         "line": {
          "color": "rgba(128, 128, 128, 0.4)",
          "width": 1
         },
         "mode": "lines",
         "text": "11.18",
         "type": "scatter3d",
         "x": [
          239,
          249
         ],
         "y": [
          239,
          242
         ],
         "z": [
          341,
          345
         ]
        },
        {
         "hoverinfo": "text",
         "line": {
          "color": "rgba(128, 128, 128, 0.4)",
          "width": 1
         },
         "mode": "lines",
         "text": "35.90",
         "type": "scatter3d",
         "x": [
          239,
          204
         ],
         "y": [
          239,
          239
         ],
         "z": [
          341,
          349
         ]
        },
        {
         "hoverinfo": "text",
         "line": {
          "color": "rgba(128, 128, 128, 0.4)",
          "width": 1
         },
         "mode": "lines",
         "text": "61.52",
         "type": "scatter3d",
         "x": [
          239,
          211
         ],
         "y": [
          239,
          188
         ],
         "z": [
          341,
          321
         ]
        },
        {
         "hoverinfo": "text",
         "line": {
          "color": "rgba(128, 128, 128, 0.4)",
          "width": 1
         },
         "mode": "lines",
         "text": "56.40",
         "type": "scatter3d",
         "x": [
          241,
          220
         ],
         "y": [
          245,
          251
         ],
         "z": [
          437,
          385
         ]
        },
        {
         "hoverinfo": "text",
         "line": {
          "color": "rgba(128, 128, 128, 0.4)",
          "width": 1
         },
         "mode": "lines",
         "text": "50.37",
         "type": "scatter3d",
         "x": [
          241,
          287
         ],
         "y": [
          251,
          237
         ],
         "z": [
          303,
          318
         ]
        },
        {
         "hoverinfo": "text",
         "line": {
          "color": "rgba(128, 128, 128, 0.4)",
          "width": 1
         },
         "mode": "lines",
         "text": "19.24",
         "type": "scatter3d",
         "x": [
          241,
          226
         ],
         "y": [
          251,
          252
         ],
         "z": [
          303,
          291
         ]
        },
        {
         "hoverinfo": "text",
         "line": {
          "color": "rgba(128, 128, 128, 0.4)",
          "width": 1
         },
         "mode": "lines",
         "text": "26.31",
         "type": "scatter3d",
         "x": [
          241,
          249
         ],
         "y": [
          254,
          242
         ],
         "z": [
          367,
          345
         ]
        },
        {
         "hoverinfo": "text",
         "line": {
          "color": "rgba(128, 128, 128, 0.4)",
          "width": 1
         },
         "mode": "lines",
         "text": "18.87",
         "type": "scatter3d",
         "x": [
          241,
          241
         ],
         "y": [
          254,
          264
         ],
         "z": [
          367,
          383
         ]
        },
        {
         "hoverinfo": "text",
         "line": {
          "color": "rgba(128, 128, 128, 0.4)",
          "width": 1
         },
         "mode": "lines",
         "text": "27.82",
         "type": "scatter3d",
         "x": [
          241,
          220
         ],
         "y": [
          254,
          251
         ],
         "z": [
          367,
          385
         ]
        },
        {
         "hoverinfo": "text",
         "line": {
          "color": "rgba(128, 128, 128, 0.4)",
          "width": 1
         },
         "mode": "lines",
         "text": "15.17",
         "type": "scatter3d",
         "x": [
          242,
          231
         ],
         "y": [
          349,
          339
         ],
         "z": [
          291,
          294
         ]
        },
        {
         "hoverinfo": "text",
         "line": {
          "color": "rgba(128, 128, 128, 0.4)",
          "width": 1
         },
         "mode": "lines",
         "text": "15.13",
         "type": "scatter3d",
         "x": [
          243,
          245
         ],
         "y": [
          306,
          294
         ],
         "z": [
          503,
          494
         ]
        },
        {
         "hoverinfo": "text",
         "line": {
          "color": "rgba(128, 128, 128, 0.4)",
          "width": 1
         },
         "mode": "lines",
         "text": "97.27",
         "type": "scatter3d",
         "x": [
          246,
          207
         ],
         "y": [
          256,
          242
         ],
         "z": [
          171,
          259
         ]
        },
        {
         "hoverinfo": "text",
         "line": {
          "color": "rgba(128, 128, 128, 0.4)",
          "width": 1
         },
         "mode": "lines",
         "text": "76.35",
         "type": "scatter3d",
         "x": [
          246,
          253
         ],
         "y": [
          363,
          295
         ],
         "z": [
          227,
          261
         ]
        },
        {
         "hoverinfo": "text",
         "line": {
          "color": "rgba(128, 128, 128, 0.4)",
          "width": 1
         },
         "mode": "lines",
         "text": "46.88",
         "type": "scatter3d",
         "x": [
          249,
          287
         ],
         "y": [
          242,
          237
         ],
         "z": [
          345,
          318
         ]
        },
        {
         "hoverinfo": "text",
         "line": {
          "color": "rgba(128, 128, 128, 0.4)",
          "width": 1
         },
         "mode": "lines",
         "text": "42.06",
         "type": "scatter3d",
         "x": [
          250,
          252
         ],
         "y": [
          351,
          318
         ],
         "z": [
          159,
          185
         ]
        },
        {
         "hoverinfo": "text",
         "line": {
          "color": "rgba(128, 128, 128, 0.4)",
          "width": 1
         },
         "mode": "lines",
         "text": "36.57",
         "type": "scatter3d",
         "x": [
          252,
          265
         ],
         "y": [
          318,
          306
         ],
         "z": [
          185,
          153
         ]
        },
        {
         "hoverinfo": "text",
         "line": {
          "color": "rgba(128, 128, 128, 0.4)",
          "width": 1
         },
         "mode": "lines",
         "text": "20.74",
         "type": "scatter3d",
         "x": [
          254,
          245
         ],
         "y": [
          289,
          294
         ],
         "z": [
          512,
          494
         ]
        },
        {
         "hoverinfo": "text",
         "line": {
          "color": "rgba(128, 128, 128, 0.4)",
          "width": 1
         },
         "mode": "lines",
         "text": "15.10",
         "type": "scatter3d",
         "x": [
          261,
          253
         ],
         "y": [
          303,
          295
         ],
         "z": [
          251,
          261
         ]
        },
        {
         "hoverinfo": "text",
         "line": {
          "color": "rgba(128, 128, 128, 0.4)",
          "width": 1
         },
         "mode": "lines",
         "text": "26.65",
         "type": "scatter3d",
         "x": [
          286,
          261
         ],
         "y": [
          64,
          73
         ],
         "z": [
          309,
          311
         ]
        },
        {
         "hoverinfo": "text",
         "line": {
          "color": "rgba(128, 128, 128, 0.4)",
          "width": 1
         },
         "mode": "lines",
         "text": "81.73",
         "type": "scatter3d",
         "x": [
          287,
          357
         ],
         "y": [
          237,
          195
         ],
         "z": [
          318,
          314
         ]
        },
        {
         "hoverinfo": "text",
         "line": {
          "color": "rgba(128, 128, 128, 0.4)",
          "width": 1
         },
         "mode": "lines",
         "text": "59.45",
         "type": "scatter3d",
         "x": [
          295,
          261
         ],
         "y": [
          50,
          73
         ],
         "z": [
          268,
          311
         ]
        },
        {
         "hoverinfo": "text",
         "line": {
          "color": "rgba(128, 128, 128, 0.4)",
          "width": 1
         },
         "mode": "lines",
         "text": "4.36",
         "type": "scatter3d",
         "x": [
          354,
          357
         ],
         "y": [
          196,
          195
         ],
         "z": [
          311,
          314
         ]
        },
        {
         "hoverinfo": "text",
         "line": {
          "color": "rgba(128, 128, 128, 0.4)",
          "width": 1
         },
         "mode": "lines",
         "text": "3.00",
         "type": "scatter3d",
         "x": [
          401,
          403
         ],
         "y": [
          113,
          115
         ],
         "z": [
          290,
          289
         ]
        },
        {
         "hoverinfo": "text",
         "line": {
          "color": "rgba(128, 128, 128, 0.4)",
          "width": 1
         },
         "mode": "lines",
         "text": "10.34",
         "type": "scatter3d",
         "x": [
          401,
          408
         ],
         "y": [
          113,
          110
         ],
         "z": [
          290,
          283
         ]
        },
        {
         "hoverinfo": "text",
         "line": {
          "color": "rgba(128, 128, 128, 0.4)",
          "width": 1
         },
         "mode": "lines",
         "text": "70.89",
         "type": "scatter3d",
         "x": [
          401,
          381
         ],
         "y": [
          113,
          168
         ],
         "z": [
          290,
          330
         ]
        },
        {
         "hoverinfo": "text",
         "line": {
          "color": "rgba(128, 128, 128, 0.4)",
          "width": 1
         },
         "mode": "lines",
         "text": "6.40",
         "type": "scatter3d",
         "x": [
          412,
          415
         ],
         "y": [
          235,
          239
         ],
         "z": [
          368,
          364
         ]
        },
        {
         "hoverinfo": "text",
         "line": {
          "color": "rgba(128, 128, 128, 0.4)",
          "width": 1
         },
         "mode": "lines",
         "text": "5.39",
         "type": "scatter3d",
         "x": [
          415,
          419
         ],
         "y": [
          239,
          242
         ],
         "z": [
          364,
          362
         ]
        },
        {
         "hoverinfo": "text",
         "line": {
          "color": "rgba(128, 128, 128, 0.4)",
          "width": 1
         },
         "mode": "lines",
         "text": "85.75",
         "type": "scatter3d",
         "x": [
          415,
          381
         ],
         "y": [
          239,
          168
         ],
         "z": [
          364,
          330
         ]
        },
        {
         "hoverinfo": "text",
         "line": {
          "color": "rgba(128, 128, 128, 0.4)",
          "width": 1
         },
         "mode": "lines",
         "text": "4.24",
         "type": "scatter3d",
         "x": [
          423,
          427
         ],
         "y": [
          245,
          246
         ],
         "z": [
          361,
          362
         ]
        },
        {
         "hoverinfo": "text",
         "line": {
          "color": "rgba(128, 128, 128, 0.4)",
          "width": 1
         },
         "mode": "lines",
         "text": "5.10",
         "type": "scatter3d",
         "x": [
          423,
          419
         ],
         "y": [
          245,
          242
         ],
         "z": [
          361,
          362
         ]
        },
        {
         "hoverinfo": "text",
         "line": {
          "color": "rgba(128, 128, 128, 0.4)",
          "width": 1
         },
         "mode": "lines",
         "text": "21.47",
         "type": "scatter3d",
         "x": [
          423,
          436
         ],
         "y": [
          245,
          261
         ],
         "z": [
          361,
          355
         ]
        },
        {
         "hoverinfo": "text",
         "line": {
          "color": "rgba(128, 128, 128, 0.4)",
          "width": 1
         },
         "mode": "lines",
         "text": "63.38",
         "type": "scatter3d",
         "x": [
          430,
          474
         ],
         "y": [
          340,
          299
         ],
         "z": [
          257,
          277
         ]
        },
        {
         "hoverinfo": "text",
         "line": {
          "color": "rgba(128, 128, 128, 0.4)",
          "width": 1
         },
         "mode": "lines",
         "text": "27.73",
         "type": "scatter3d",
         "x": [
          433,
          448
         ],
         "y": [
          360,
          348
         ],
         "z": [
          342,
          322
         ]
        },
        {
         "hoverinfo": "text",
         "line": {
          "color": "rgba(128, 128, 128, 0.4)",
          "width": 1
         },
         "mode": "lines",
         "text": "109.92",
         "type": "scatter3d",
         "x": [
          435,
          446
         ],
         "y": [
          246,
          237
         ],
         "z": [
          479,
          370
         ]
        },
        {
         "hoverinfo": "text",
         "line": {
          "color": "rgba(128, 128, 128, 0.4)",
          "width": 1
         },
         "mode": "lines",
         "text": "56.93",
         "type": "scatter3d",
         "x": [
          441,
          485
         ],
         "y": [
          121,
          157
         ],
         "z": [
          357,
          360
         ]
        },
        {
         "hoverinfo": "text",
         "line": {
          "color": "rgba(128, 128, 128, 0.4)",
          "width": 1
         },
         "mode": "lines",
         "text": "67.50",
         "type": "scatter3d",
         "x": [
          443,
          489
         ],
         "y": [
          189,
          215
         ],
         "z": [
          403,
          361
         ]
        },
        {
         "hoverinfo": "text",
         "line": {
          "color": "rgba(128, 128, 128, 0.4)",
          "width": 1
         },
         "mode": "lines",
         "text": "1.41",
         "type": "scatter3d",
         "x": [
          444,
          445
         ],
         "y": [
          271,
          271
         ],
         "z": [
          349,
          350
         ]
        },
        {
         "hoverinfo": "text",
         "line": {
          "color": "rgba(128, 128, 128, 0.4)",
          "width": 1
         },
         "mode": "lines",
         "text": "14.14",
         "type": "scatter3d",
         "x": [
          444,
          436
         ],
         "y": [
          271,
          261
         ],
         "z": [
          349,
          355
         ]
        },
        {
         "hoverinfo": "text",
         "line": {
          "color": "rgba(128, 128, 128, 0.4)",
          "width": 1
         },
         "mode": "lines",
         "text": "24.37",
         "type": "scatter3d",
         "x": [
          444,
          457
         ],
         "y": [
          271,
          284
         ],
         "z": [
          349,
          333
         ]
        },
        {
         "hoverinfo": "text",
         "line": {
          "color": "rgba(128, 128, 128, 0.4)",
          "width": 1
         },
         "mode": "lines",
         "text": "46.16",
         "type": "scatter3d",
         "x": [
          445,
          448
         ],
         "y": [
          389,
          348
         ],
         "z": [
          301,
          322
         ]
        },
        {
         "hoverinfo": "text",
         "line": {
          "color": "rgba(128, 128, 128, 0.4)",
          "width": 1
         },
         "mode": "lines",
         "text": "24.29",
         "type": "scatter3d",
         "x": [
          446,
          468
         ],
         "y": [
          237,
          232
         ],
         "z": [
          370,
          361
         ]
        },
        {
         "hoverinfo": "text",
         "line": {
          "color": "rgba(128, 128, 128, 0.4)",
          "width": 1
         },
         "mode": "lines",
         "text": "28.60",
         "type": "scatter3d",
         "x": [
          446,
          419
         ],
         "y": [
          237,
          242
         ],
         "z": [
          370,
          362
         ]
        },
        {
         "hoverinfo": "text",
         "line": {
          "color": "rgba(128, 128, 128, 0.4)",
          "width": 1
         },
         "mode": "lines",
         "text": "16.97",
         "type": "scatter3d",
         "x": [
          448,
          448
         ],
         "y": [
          322,
          334
         ],
         "z": [
          101,
          113
         ]
        },
        {
         "hoverinfo": "text",
         "line": {
          "color": "rgba(128, 128, 128, 0.4)",
          "width": 1
         },
         "mode": "lines",
         "text": "59.85",
         "type": "scatter3d",
         "x": [
          448,
          451
         ],
         "y": [
          334,
          352
         ],
         "z": [
          113,
          56
         ]
        },
        {
         "hoverinfo": "text",
         "line": {
          "color": "rgba(128, 128, 128, 0.4)",
          "width": 1
         },
         "mode": "lines",
         "text": "26.32",
         "type": "scatter3d",
         "x": [
          448,
          450
         ],
         "y": [
          334,
          342
         ],
         "z": [
          113,
          138
         ]
        },
        {
         "hoverinfo": "text",
         "line": {
          "color": "rgba(128, 128, 128, 0.4)",
          "width": 1
         },
         "mode": "lines",
         "text": "47.31",
         "type": "scatter3d",
         "x": [
          448,
          465
         ],
         "y": [
          348,
          305
         ],
         "z": [
          322,
          332
         ]
        },
        {
         "hoverinfo": "text",
         "line": {
          "color": "rgba(128, 128, 128, 0.4)",
          "width": 1
         },
         "mode": "lines",
         "text": "1.73",
         "type": "scatter3d",
         "x": [
          448,
          449
         ],
         "y": [
          361,
          360
         ],
         "z": [
          106,
          107
         ]
        },
        {
         "hoverinfo": "text",
         "line": {
          "color": "rgba(128, 128, 128, 0.4)",
          "width": 1
         },
         "mode": "lines",
         "text": "34.50",
         "type": "scatter3d",
         "x": [
          449,
          450
         ],
         "y": [
          360,
          343
         ],
         "z": [
          107,
          137
         ]
        },
        {
         "hoverinfo": "text",
         "line": {
          "color": "rgba(128, 128, 128, 0.4)",
          "width": 1
         },
         "mode": "lines",
         "text": "44.37",
         "type": "scatter3d",
         "x": [
          449,
          455
         ],
         "y": [
          360,
          373
         ],
         "z": [
          107,
          65
         ]
        },
        {
         "hoverinfo": "text",
         "line": {
          "color": "rgba(128, 128, 128, 0.4)",
          "width": 1
         },
         "mode": "lines",
         "text": "16.12",
         "type": "scatter3d",
         "x": [
          450,
          458
         ],
         "y": [
          343,
          357
         ],
         "z": [
          137,
          137
         ]
        },
        {
         "hoverinfo": "text",
         "line": {
          "color": "rgba(128, 128, 128, 0.4)",
          "width": 1
         },
         "mode": "lines",
         "text": "1.41",
         "type": "scatter3d",
         "x": [
          450,
          450
         ],
         "y": [
          343,
          342
         ],
         "z": [
          137,
          138
         ]
        },
        {
         "hoverinfo": "text",
         "line": {
          "color": "rgba(128, 128, 128, 0.4)",
          "width": 1
         },
         "mode": "lines",
         "text": "49.86",
         "type": "scatter3d",
         "x": [
          453,
          462
         ],
         "y": [
          341,
          292
         ],
         "z": [
          396,
          394
         ]
        },
        {
         "hoverinfo": "text",
         "line": {
          "color": "rgba(128, 128, 128, 0.4)",
          "width": 1
         },
         "mode": "lines",
         "text": "42.26",
         "type": "scatter3d",
         "x": [
          456,
          480
         ],
         "y": [
          321,
          310
         ],
         "z": [
          216,
          249
         ]
        },
        {
         "hoverinfo": "text",
         "line": {
          "color": "rgba(128, 128, 128, 0.4)",
          "width": 1
         },
         "mode": "lines",
         "text": "19.42",
         "type": "scatter3d",
         "x": [
          457,
          464
         ],
         "y": [
          295,
          297
         ],
         "z": [
          427,
          409
         ]
        },
        {
         "hoverinfo": "text",
         "line": {
          "color": "rgba(128, 128, 128, 0.4)",
          "width": 1
         },
         "mode": "lines",
         "text": "8.31",
         "type": "scatter3d",
         "x": [
          458,
          460
         ],
         "y": [
          355,
          351
         ],
         "z": [
          446,
          439
         ]
        },
        {
         "hoverinfo": "text",
         "line": {
          "color": "rgba(128, 128, 128, 0.4)",
          "width": 1
         },
         "mode": "lines",
         "text": "62.04",
         "type": "scatter3d",
         "x": [
          460,
          464
         ],
         "y": [
          351,
          298
         ],
         "z": [
          439,
          407
         ]
        },
        {
         "hoverinfo": "text",
         "line": {
          "color": "rgba(128, 128, 128, 0.4)",
          "width": 1
         },
         "mode": "lines",
         "text": "9.17",
         "type": "scatter3d",
         "x": [
          460,
          464
         ],
         "y": [
          351,
          359
         ],
         "z": [
          439,
          437
         ]
        },
        {
         "hoverinfo": "text",
         "line": {
          "color": "rgba(128, 128, 128, 0.4)",
          "width": 1
         },
         "mode": "lines",
         "text": "14.46",
         "type": "scatter3d",
         "x": [
          462,
          464
         ],
         "y": [
          292,
          298
         ],
         "z": [
          394,
          407
         ]
        },
        {
         "hoverinfo": "text",
         "line": {
          "color": "rgba(128, 128, 128, 0.4)",
          "width": 1
         },
         "mode": "lines",
         "text": "32.45",
         "type": "scatter3d",
         "x": [
          462,
          451
         ],
         "y": [
          292,
          276
         ],
         "z": [
          394,
          368
         ]
        },
        {
         "hoverinfo": "text",
         "line": {
          "color": "rgba(128, 128, 128, 0.4)",
          "width": 1
         },
         "mode": "lines",
         "text": "13.15",
         "type": "scatter3d",
         "x": [
          462,
          458
         ],
         "y": [
          379,
          385
         ],
         "z": [
          221,
          232
         ]
        },
        {
         "hoverinfo": "text",
         "line": {
          "color": "rgba(128, 128, 128, 0.4)",
          "width": 1
         },
         "mode": "lines",
         "text": "13.93",
         "type": "scatter3d",
         "x": [
          463,
          475
         ],
         "y": [
          191,
          198
         ],
         "z": [
          425,
          424
         ]
        },
        {
         "hoverinfo": "text",
         "line": {
          "color": "rgba(128, 128, 128, 0.4)",
          "width": 1
         },
         "mode": "lines",
         "text": "2.24",
         "type": "scatter3d",
         "x": [
          464,
          464
         ],
         "y": [
          297,
          298
         ],
         "z": [
          409,
          407
         ]
        },
        {
         "hoverinfo": "text",
         "line": {
          "color": "rgba(128, 128, 128, 0.4)",
          "width": 1
         },
         "mode": "lines",
         "text": "64.95",
         "type": "scatter3d",
         "x": [
          464,
          475
         ],
         "y": [
          297,
          328
         ],
         "z": [
          409,
          465
         ]
        },
        {
         "hoverinfo": "text",
         "line": {
          "color": "rgba(128, 128, 128, 0.4)",
          "width": 1
         },
         "mode": "lines",
         "text": "15.07",
         "type": "scatter3d",
         "x": [
          465,
          474
         ],
         "y": [
          93,
          104
         ],
         "z": [
          310,
          315
         ]
        },
        {
         "hoverinfo": "text",
         "line": {
          "color": "rgba(128, 128, 128, 0.4)",
          "width": 1
         },
         "mode": "lines",
         "text": "26.17",
         "type": "scatter3d",
         "x": [
          465,
          475
         ],
         "y": [
          305,
          317
         ],
         "z": [
          332,
          311
         ]
        },
        {
         "hoverinfo": "text",
         "line": {
          "color": "rgba(128, 128, 128, 0.4)",
          "width": 1
         },
         "mode": "lines",
         "text": "22.49",
         "type": "scatter3d",
         "x": [
          465,
          457
         ],
         "y": [
          305,
          284
         ],
         "z": [
          332,
          333
         ]
        },
        {
         "hoverinfo": "text",
         "line": {
          "color": "rgba(128, 128, 128, 0.4)",
          "width": 1
         },
         "mode": "lines",
         "text": "27.02",
         "type": "scatter3d",
         "x": [
          468,
          489
         ],
         "y": [
          232,
          215
         ],
         "z": [
          361,
          361
         ]
        },
        {
         "hoverinfo": "text",
         "line": {
          "color": "rgba(128, 128, 128, 0.4)",
          "width": 1
         },
         "mode": "lines",
         "text": "65.35",
         "type": "scatter3d",
         "x": [
          468,
          525
         ],
         "y": [
          232,
          221
         ],
         "z": [
          361,
          331
         ]
        },
        {
         "hoverinfo": "text",
         "line": {
          "color": "rgba(128, 128, 128, 0.4)",
          "width": 1
         },
         "mode": "lines",
         "text": "24.45",
         "type": "scatter3d",
         "x": [
          469,
          480
         ],
         "y": [
          392,
          386
         ],
         "z": [
          135,
          156
         ]
        },
        {
         "hoverinfo": "text",
         "line": {
          "color": "rgba(128, 128, 128, 0.4)",
          "width": 1
         },
         "mode": "lines",
         "text": "28.16",
         "type": "scatter3d",
         "x": [
          473,
          476
         ],
         "y": [
          327,
          327
         ],
         "z": [
          495,
          467
         ]
        },
        {
         "hoverinfo": "text",
         "line": {
          "color": "rgba(128, 128, 128, 0.4)",
          "width": 1
         },
         "mode": "lines",
         "text": "5.83",
         "type": "scatter3d",
         "x": [
          474,
          477
         ],
         "y": [
          104,
          101
         ],
         "z": [
          315,
          311
         ]
        },
        {
         "hoverinfo": "text",
         "line": {
          "color": "rgba(128, 128, 128, 0.4)",
          "width": 1
         },
         "mode": "lines",
         "text": "39.50",
         "type": "scatter3d",
         "x": [
          474,
          484
         ],
         "y": [
          104,
          132
         ],
         "z": [
          315,
          341
         ]
        },
        {
         "hoverinfo": "text",
         "line": {
          "color": "rgba(128, 128, 128, 0.4)",
          "width": 1
         },
         "mode": "lines",
         "text": "22.91",
         "type": "scatter3d",
         "x": [
          474,
          484
         ],
         "y": [
          299,
          307
         ],
         "z": [
          277,
          258
         ]
        },
        {
         "hoverinfo": "text",
         "line": {
          "color": "rgba(128, 128, 128, 0.4)",
          "width": 1
         },
         "mode": "lines",
         "text": "30.50",
         "type": "scatter3d",
         "x": [
          474,
          463
         ],
         "y": [
          299,
          294
         ],
         "z": [
          277,
          305
         ]
        },
        {
         "hoverinfo": "text",
         "line": {
          "color": "rgba(128, 128, 128, 0.4)",
          "width": 1
         },
         "mode": "lines",
         "text": "17.72",
         "type": "scatter3d",
         "x": [
          474,
          458
         ],
         "y": [
          392,
          385
         ],
         "z": [
          229,
          232
         ]
        },
        {
         "hoverinfo": "text",
         "line": {
          "color": "rgba(128, 128, 128, 0.4)",
          "width": 1
         },
         "mode": "lines",
         "text": "8.06",
         "type": "scatter3d",
         "x": [
          475,
          479
         ],
         "y": [
          198,
          198
         ],
         "z": [
          424,
          431
         ]
        },
        {
         "hoverinfo": "text",
         "line": {
          "color": "rgba(128, 128, 128, 0.4)",
          "width": 1
         },
         "mode": "lines",
         "text": "49.77",
         "type": "scatter3d",
         "x": [
          475,
          488
         ],
         "y": [
          198,
          196
         ],
         "z": [
          424,
          376
         ]
        },
        {
         "hoverinfo": "text",
         "line": {
          "color": "rgba(128, 128, 128, 0.4)",
          "width": 1
         },
         "mode": "lines",
         "text": "2.45",
         "type": "scatter3d",
         "x": [
          475,
          476
         ],
         "y": [
          328,
          327
         ],
         "z": [
          465,
          467
         ]
        },
        {
         "hoverinfo": "text",
         "line": {
          "color": "rgba(128, 128, 128, 0.4)",
          "width": 1
         },
         "mode": "lines",
         "text": "37.42",
         "type": "scatter3d",
         "x": [
          475,
          497
         ],
         "y": [
          328,
          358
         ],
         "z": [
          465,
          469
         ]
        },
        {
         "hoverinfo": "text",
         "line": {
          "color": "rgba(128, 128, 128, 0.4)",
          "width": 1
         },
         "mode": "lines",
         "text": "32.83",
         "type": "scatter3d",
         "x": [
          476,
          507
         ],
         "y": [
          327,
          321
         ],
         "z": [
          467,
          476
         ]
        },
        {
         "hoverinfo": "text",
         "line": {
          "color": "rgba(128, 128, 128, 0.4)",
          "width": 1
         },
         "mode": "lines",
         "text": "26.31",
         "type": "scatter3d",
         "x": [
          479,
          487
         ],
         "y": [
          186,
          198
         ],
         "z": [
          352,
          374
         ]
        },
        {
         "hoverinfo": "text",
         "line": {
          "color": "rgba(128, 128, 128, 0.4)",
          "width": 1
         },
         "mode": "lines",
         "text": "20.81",
         "type": "scatter3d",
         "x": [
          480,
          483
         ],
         "y": [
          310,
          320
         ],
         "z": [
          249,
          231
         ]
        },
        {
         "hoverinfo": "text",
         "line": {
          "color": "rgba(128, 128, 128, 0.4)",
          "width": 1
         },
         "mode": "lines",
         "text": "10.30",
         "type": "scatter3d",
         "x": [
          480,
          484
         ],
         "y": [
          310,
          307
         ],
         "z": [
          249,
          258
         ]
        },
        {
         "hoverinfo": "text",
         "line": {
          "color": "rgba(128, 128, 128, 0.4)",
          "width": 1
         },
         "mode": "lines",
         "text": "19.21",
         "type": "scatter3d",
         "x": [
          480,
          494
         ],
         "y": [
          386,
          388
         ],
         "z": [
          156,
          143
         ]
        },
        {
         "hoverinfo": "text",
         "line": {
          "color": "rgba(128, 128, 128, 0.4)",
          "width": 1
         },
         "mode": "lines",
         "text": "72.54",
         "type": "scatter3d",
         "x": [
          480,
          469
         ],
         "y": [
          386,
          340
         ],
         "z": [
          156,
          211
         ]
        },
        {
         "hoverinfo": "text",
         "line": {
          "color": "rgba(128, 128, 128, 0.4)",
          "width": 1
         },
         "mode": "lines",
         "text": "31.56",
         "type": "scatter3d",
         "x": [
          483,
          469
         ],
         "y": [
          320,
          340
         ],
         "z": [
          231,
          211
         ]
        },
        {
         "hoverinfo": "text",
         "line": {
          "color": "rgba(128, 128, 128, 0.4)",
          "width": 1
         },
         "mode": "lines",
         "text": "17.23",
         "type": "scatter3d",
         "x": [
          483,
          489
         ],
         "y": [
          320,
          326
         ],
         "z": [
          231,
          216
         ]
        },
        {
         "hoverinfo": "text",
         "line": {
          "color": "rgba(128, 128, 128, 0.4)",
          "width": 1
         },
         "mode": "lines",
         "text": "31.42",
         "type": "scatter3d",
         "x": [
          484,
          485
         ],
         "y": [
          132,
          157
         ],
         "z": [
          341,
          360
         ]
        },
        {
         "hoverinfo": "text",
         "line": {
          "color": "rgba(128, 128, 128, 0.4)",
          "width": 1
         },
         "mode": "lines",
         "text": "12.88",
         "type": "scatter3d",
         "x": [
          484,
          491
         ],
         "y": [
          132,
          123
         ],
         "z": [
          341,
          347
         ]
        },
        {
         "hoverinfo": "text",
         "line": {
          "color": "rgba(128, 128, 128, 0.4)",
          "width": 1
         },
         "mode": "lines",
         "text": "34.23",
         "type": "scatter3d",
         "x": [
          485,
          493
         ],
         "y": [
          157,
          185
         ],
         "z": [
          360,
          378
         ]
        },
        {
         "hoverinfo": "text",
         "line": {
          "color": "rgba(128, 128, 128, 0.4)",
          "width": 1
         },
         "mode": "lines",
         "text": "48.93",
         "type": "scatter3d",
         "x": [
          486,
          490
         ],
         "y": [
          343,
          330
         ],
         "z": [
          166,
          213
         ]
        },
        {
         "hoverinfo": "text",
         "line": {
          "color": "rgba(128, 128, 128, 0.4)",
          "width": 1
         },
         "mode": "lines",
         "text": "14.14",
         "type": "scatter3d",
         "x": [
          486,
          492
         ],
         "y": [
          343,
          351
         ],
         "z": [
          166,
          156
         ]
        },
        {
         "hoverinfo": "text",
         "line": {
          "color": "rgba(128, 128, 128, 0.4)",
          "width": 1
         },
         "mode": "lines",
         "text": "38.33",
         "type": "scatter3d",
         "x": [
          486,
          499
         ],
         "y": [
          343,
          341
         ],
         "z": [
          166,
          130
         ]
        },
        {
         "hoverinfo": "text",
         "line": {
          "color": "rgba(128, 128, 128, 0.4)",
          "width": 1
         },
         "mode": "lines",
         "text": "21.49",
         "type": "scatter3d",
         "x": [
          489,
          487
         ],
         "y": [
          215,
          198
         ],
         "z": [
          361,
          374
         ]
        },
        {
         "hoverinfo": "text",
         "line": {
          "color": "rgba(128, 128, 128, 0.4)",
          "width": 1
         },
         "mode": "lines",
         "text": "89.31",
         "type": "scatter3d",
         "x": [
          490,
          564
         ],
         "y": [
          284,
          332
         ],
         "z": [
          353,
          367
         ]
        },
        {
         "hoverinfo": "text",
         "line": {
          "color": "rgba(128, 128, 128, 0.4)",
          "width": 1
         },
         "mode": "lines",
         "text": "26.02",
         "type": "scatter3d",
         "x": [
          490,
          467
         ],
         "y": [
          284,
          282
         ],
         "z": [
          353,
          365
         ]
        },
        {
         "hoverinfo": "text",
         "line": {
          "color": "rgba(128, 128, 128, 0.4)",
          "width": 1
         },
         "mode": "lines",
         "text": "35.13",
         "type": "scatter3d",
         "x": [
          490,
          505
         ],
         "y": [
          284,
          312
         ],
         "z": [
          353,
          368
         ]
        },
        {
         "hoverinfo": "text",
         "line": {
          "color": "rgba(128, 128, 128, 0.4)",
          "width": 1
         },
         "mode": "lines",
         "text": "26.42",
         "type": "scatter3d",
         "x": [
          490,
          501
         ],
         "y": [
          330,
          354
         ],
         "z": [
          213,
          212
         ]
        },
        {
         "hoverinfo": "text",
         "line": {
          "color": "rgba(128, 128, 128, 0.4)",
          "width": 1
         },
         "mode": "lines",
         "text": "5.10",
         "type": "scatter3d",
         "x": [
          490,
          489
         ],
         "y": [
          330,
          326
         ],
         "z": [
          213,
          216
         ]
        },
        {
         "hoverinfo": "text",
         "line": {
          "color": "rgba(128, 128, 128, 0.4)",
          "width": 1
         },
         "mode": "lines",
         "text": "14.53",
         "type": "scatter3d",
         "x": [
          492,
          501
         ],
         "y": [
          245,
          248
         ],
         "z": [
          270,
          281
         ]
        },
        {
         "hoverinfo": "text",
         "line": {
          "color": "rgba(128, 128, 128, 0.4)",
          "width": 1
         },
         "mode": "lines",
         "text": "20.02",
         "type": "scatter3d",
         "x": [
          492,
          504
         ],
         "y": [
          351,
          367
         ],
         "z": [
          156,
          155
         ]
        },
        {
         "hoverinfo": "text",
         "line": {
          "color": "rgba(128, 128, 128, 0.4)",
          "width": 1
         },
         "mode": "lines",
         "text": "75.46",
         "type": "scatter3d",
         "x": [
          492,
          527
         ],
         "y": [
          351,
          376
         ],
         "z": [
          156,
          94
         ]
        },
        {
         "hoverinfo": "text",
         "line": {
          "color": "rgba(128, 128, 128, 0.4)",
          "width": 1
         },
         "mode": "lines",
         "text": "8.12",
         "type": "scatter3d",
         "x": [
          493,
          501
         ],
         "y": [
          185,
          186
         ],
         "z": [
          378,
          379
         ]
        },
        {
         "hoverinfo": "text",
         "line": {
          "color": "rgba(128, 128, 128, 0.4)",
          "width": 1
         },
         "mode": "lines",
         "text": "12.25",
         "type": "scatter3d",
         "x": [
          493,
          488
         ],
         "y": [
          185,
          196
         ],
         "z": [
          378,
          376
         ]
        },
        {
         "hoverinfo": "text",
         "line": {
          "color": "rgba(128, 128, 128, 0.4)",
          "width": 1
         },
         "mode": "lines",
         "text": "31.46",
         "type": "scatter3d",
         "x": [
          494,
          499
         ],
         "y": [
          315,
          341
         ],
         "z": [
          113,
          130
         ]
        },
        {
         "hoverinfo": "text",
         "line": {
          "color": "rgba(128, 128, 128, 0.4)",
          "width": 1
         },
         "mode": "lines",
         "text": "32.02",
         "type": "scatter3d",
         "x": [
          496,
          501
         ],
         "y": [
          384,
          354
         ],
         "z": [
          202,
          212
         ]
        },
        {
         "hoverinfo": "text",
         "line": {
          "color": "rgba(128, 128, 128, 0.4)",
          "width": 1
         },
         "mode": "lines",
         "text": "66.67",
         "type": "scatter3d",
         "x": [
          499,
          545
         ],
         "y": [
          341,
          336
         ],
         "z": [
          130,
          82
         ]
        },
        {
         "hoverinfo": "text",
         "line": {
          "color": "rgba(128, 128, 128, 0.4)",
          "width": 1
         },
         "mode": "lines",
         "text": "43.08",
         "type": "scatter3d",
         "x": [
          501,
          517
         ],
         "y": [
          186,
          186
         ],
         "z": [
          379,
          419
         ]
        },
        {
         "hoverinfo": "text",
         "line": {
          "color": "rgba(128, 128, 128, 0.4)",
          "width": 1
         },
         "mode": "lines",
         "text": "34.07",
         "type": "scatter3d",
         "x": [
          501,
          533
         ],
         "y": [
          186,
          175
         ],
         "z": [
          379,
          375
         ]
        },
        {
         "hoverinfo": "text",
         "line": {
          "color": "rgba(128, 128, 128, 0.4)",
          "width": 1
         },
         "mode": "lines",
         "text": "41.24",
         "type": "scatter3d",
         "x": [
          501,
          484
         ],
         "y": [
          248,
          264
         ],
         "z": [
          281,
          315
         ]
        },
        {
         "hoverinfo": "text",
         "line": {
          "color": "rgba(128, 128, 128, 0.4)",
          "width": 1
         },
         "mode": "lines",
         "text": "53.29",
         "type": "scatter3d",
         "x": [
          501,
          529
         ],
         "y": [
          248,
          218
         ],
         "z": [
          281,
          247
         ]
        },
        {
         "hoverinfo": "text",
         "line": {
          "color": "rgba(128, 128, 128, 0.4)",
          "width": 1
         },
         "mode": "lines",
         "text": "30.82",
         "type": "scatter3d",
         "x": [
          501,
          516
         ],
         "y": [
          354,
          377
         ],
         "z": [
          212,
          198
         ]
        },
        {
         "hoverinfo": "text",
         "line": {
          "color": "rgba(128, 128, 128, 0.4)",
          "width": 1
         },
         "mode": "lines",
         "text": "86.15",
         "type": "scatter3d",
         "x": [
          503,
          577
         ],
         "y": [
          319,
          363
         ],
         "z": [
          244,
          241
         ]
        },
        {
         "hoverinfo": "text",
         "line": {
          "color": "rgba(128, 128, 128, 0.4)",
          "width": 1
         },
         "mode": "lines",
         "text": "26.48",
         "type": "scatter3d",
         "x": [
          503,
          484
         ],
         "y": [
          319,
          307
         ],
         "z": [
          244,
          258
         ]
        },
        {
         "hoverinfo": "text",
         "line": {
          "color": "rgba(128, 128, 128, 0.4)",
          "width": 1
         },
         "mode": "lines",
         "text": "42.68",
         "type": "scatter3d",
         "x": [
          503,
          524
         ],
         "y": [
          319,
          353
         ],
         "z": [
          244,
          229
         ]
        },
        {
         "hoverinfo": "text",
         "line": {
          "color": "rgba(128, 128, 128, 0.4)",
          "width": 1
         },
         "mode": "lines",
         "text": "21.24",
         "type": "scatter3d",
         "x": [
          507,
          510
         ],
         "y": [
          285,
          284
         ],
         "z": [
          200,
          179
         ]
        },
        {
         "hoverinfo": "text",
         "line": {
          "color": "rgba(128, 128, 128, 0.4)",
          "width": 1
         },
         "mode": "lines",
         "text": "88.95",
         "type": "scatter3d",
         "x": [
          507,
          555
         ],
         "y": [
          285,
          243
         ],
         "z": [
          200,
          138
         ]
        },
        {
         "hoverinfo": "text",
         "line": {
          "color": "rgba(128, 128, 128, 0.4)",
          "width": 1
         },
         "mode": "lines",
         "text": "59.17",
         "type": "scatter3d",
         "x": [
          507,
          486
         ],
         "y": [
          285,
          273
         ],
         "z": [
          200,
          254
         ]
        },
        {
         "hoverinfo": "text",
         "line": {
          "color": "rgba(128, 128, 128, 0.4)",
          "width": 1
         },
         "mode": "lines",
         "text": "10.25",
         "type": "scatter3d",
         "x": [
          507,
          508
         ],
         "y": [
          365,
          355
         ],
         "z": [
          396,
          394
         ]
        },
        {
         "hoverinfo": "text",
         "line": {
          "color": "rgba(128, 128, 128, 0.4)",
          "width": 1
         },
         "mode": "lines",
         "text": "12.41",
         "type": "scatter3d",
         "x": [
          508,
          516
         ],
         "y": [
          355,
          358
         ],
         "z": [
          394,
          403
         ]
        },
        {
         "hoverinfo": "text",
         "line": {
          "color": "rgba(128, 128, 128, 0.4)",
          "width": 1
         },
         "mode": "lines",
         "text": "88.61",
         "type": "scatter3d",
         "x": [
          508,
          467
         ],
         "y": [
          355,
          282
         ],
         "z": [
          394,
          365
         ]
        },
        {
         "hoverinfo": "text",
         "line": {
          "color": "rgba(128, 128, 128, 0.4)",
          "width": 1
         },
         "mode": "lines",
         "text": "11.66",
         "type": "scatter3d",
         "x": [
          510,
          510
         ],
         "y": [
          278,
          284
         ],
         "z": [
          169,
          179
         ]
        },
        {
         "hoverinfo": "text",
         "line": {
          "color": "rgba(128, 128, 128, 0.4)",
          "width": 1
         },
         "mode": "lines",
         "text": "49.00",
         "type": "scatter3d",
         "x": [
          510,
          546
         ],
         "y": [
          284,
          288
         ],
         "z": [
          179,
          146
         ]
        },
        {
         "hoverinfo": "text",
         "line": {
          "color": "rgba(128, 128, 128, 0.4)",
          "width": 1
         },
         "mode": "lines",
         "text": "82.15",
         "type": "scatter3d",
         "x": [
          515,
          478
         ],
         "y": [
          392,
          320
         ],
         "z": [
          319,
          305
         ]
        },
        {
         "hoverinfo": "text",
         "line": {
          "color": "rgba(128, 128, 128, 0.4)",
          "width": 1
         },
         "mode": "lines",
         "text": "40.91",
         "type": "scatter3d",
         "x": [
          517,
          505
         ],
         "y": [
          351,
          312
         ],
         "z": [
          371,
          368
         ]
        },
        {
         "hoverinfo": "text",
         "line": {
          "color": "rgba(128, 128, 128, 0.4)",
          "width": 1
         },
         "mode": "lines",
         "text": "79.06",
         "type": "scatter3d",
         "x": [
          521,
          593
         ],
         "y": [
          238,
          253
         ],
         "z": [
          299,
          270
         ]
        },
        {
         "hoverinfo": "text",
         "line": {
          "color": "rgba(128, 128, 128, 0.4)",
          "width": 1
         },
         "mode": "lines",
         "text": "47.97",
         "type": "scatter3d",
         "x": [
          521,
          484
         ],
         "y": [
          238,
          264
         ],
         "z": [
          299,
          315
         ]
        },
        {
         "hoverinfo": "text",
         "line": {
          "color": "rgba(128, 128, 128, 0.4)",
          "width": 1
         },
         "mode": "lines",
         "text": "28.23",
         "type": "scatter3d",
         "x": [
          521,
          542
         ],
         "y": [
          238,
          222
         ],
         "z": [
          299,
          289
         ]
        },
        {
         "hoverinfo": "text",
         "line": {
          "color": "rgba(128, 128, 128, 0.4)",
          "width": 1
         },
         "mode": "lines",
         "text": "6.71",
         "type": "scatter3d",
         "x": [
          521,
          524
         ],
         "y": [
          359,
          353
         ],
         "z": [
          229,
          229
         ]
        },
        {
         "hoverinfo": "text",
         "line": {
          "color": "rgba(128, 128, 128, 0.4)",
          "width": 1
         },
         "mode": "lines",
         "text": "89.91",
         "type": "scatter3d",
         "x": [
          525,
          540
         ],
         "y": [
          221,
          134
         ],
         "z": [
          331,
          314
         ]
        },
        {
         "hoverinfo": "text",
         "line": {
          "color": "rgba(128, 128, 128, 0.4)",
          "width": 1
         },
         "mode": "lines",
         "text": "65.22",
         "type": "scatter3d",
         "x": [
          525,
          589
         ],
         "y": [
          221,
          210
         ],
         "z": [
          331,
          337
         ]
        },
        {
         "hoverinfo": "text",
         "line": {
          "color": "rgba(128, 128, 128, 0.4)",
          "width": 1
         },
         "mode": "lines",
         "text": "1.41",
         "type": "scatter3d",
         "x": [
          526,
          527
         ],
         "y": [
          376,
          376
         ],
         "z": [
          93,
          94
         ]
        },
        {
         "hoverinfo": "text",
         "line": {
          "color": "rgba(128, 128, 128, 0.4)",
          "width": 1
         },
         "mode": "lines",
         "text": "40.51",
         "type": "scatter3d",
         "x": [
          527,
          558
         ],
         "y": [
          376,
          374
         ],
         "z": [
          94,
          68
         ]
        },
        {
         "hoverinfo": "text",
         "line": {
          "color": "rgba(128, 128, 128, 0.4)",
          "width": 1
         },
         "mode": "lines",
         "text": "8.00",
         "type": "scatter3d",
         "x": [
          529,
          529
         ],
         "y": [
          218,
          218
         ],
         "z": [
          239,
          247
         ]
        },
        {
         "hoverinfo": "text",
         "line": {
          "color": "rgba(128, 128, 128, 0.4)",
          "width": 1
         },
         "mode": "lines",
         "text": "76.95",
         "type": "scatter3d",
         "x": [
          537,
          478
         ],
         "y": [
          366,
          320
         ],
         "z": [
          287,
          305
         ]
        },
        {
         "hoverinfo": "text",
         "line": {
          "color": "rgba(128, 128, 128, 0.4)",
          "width": 1
         },
         "mode": "lines",
         "text": "3.32",
         "type": "scatter3d",
         "x": [
          542,
          543
         ],
         "y": [
          150,
          153
         ],
         "z": [
          372,
          371
         ]
        },
        {
         "hoverinfo": "text",
         "line": {
          "color": "rgba(128, 128, 128, 0.4)",
          "width": 1
         },
         "mode": "lines",
         "text": "56.19",
         "type": "scatter3d",
         "x": [
          545,
          505
         ],
         "y": [
          318,
          312
         ],
         "z": [
          407,
          368
         ]
        },
        {
         "hoverinfo": "text",
         "line": {
          "color": "rgba(128, 128, 128, 0.4)",
          "width": 1
         },
         "mode": "lines",
         "text": "90.63",
         "type": "scatter3d",
         "x": [
          546,
          630
         ],
         "y": [
          275,
          289
         ],
         "z": [
          211,
          180
         ]
        },
        {
         "hoverinfo": "text",
         "line": {
          "color": "rgba(128, 128, 128, 0.4)",
          "width": 1
         },
         "mode": "lines",
         "text": "115.25",
         "type": "scatter3d",
         "x": [
          546,
          637
         ],
         "y": [
          275,
          226
         ],
         "z": [
          211,
          160
         ]
        },
        {
         "hoverinfo": "text",
         "line": {
          "color": "rgba(128, 128, 128, 0.4)",
          "width": 1
         },
         "mode": "lines",
         "text": "73.84",
         "type": "scatter3d",
         "x": [
          546,
          486
         ],
         "y": [
          275,
          273
         ],
         "z": [
          211,
          254
         ]
        },
        {
         "hoverinfo": "text",
         "line": {
          "color": "rgba(128, 128, 128, 0.4)",
          "width": 1
         },
         "mode": "lines",
         "text": "47.69",
         "type": "scatter3d",
         "x": [
          547,
          524
         ],
         "y": [
          384,
          353
         ],
         "z": [
          201,
          229
         ]
        },
        {
         "hoverinfo": "text",
         "line": {
          "color": "rgba(128, 128, 128, 0.4)",
          "width": 1
         },
         "mode": "lines",
         "text": "92.99",
         "type": "scatter3d",
         "x": [
          548,
          570
         ],
         "y": [
          77,
          167
         ],
         "z": [
          262,
          270
         ]
        },
        {
         "hoverinfo": "text",
         "line": {
          "color": "rgba(128, 128, 128, 0.4)",
          "width": 1
         },
         "mode": "lines",
         "text": "6.00",
         "type": "scatter3d",
         "x": [
          549,
          543
         ],
         "y": [
          153,
          153
         ],
         "z": [
          371,
          371
         ]
        },
        {
         "hoverinfo": "text",
         "line": {
          "color": "rgba(128, 128, 128, 0.4)",
          "width": 1
         },
         "mode": "lines",
         "text": "48.26",
         "type": "scatter3d",
         "x": [
          561,
          529
         ],
         "y": [
          191,
          218
         ],
         "z": [
          223,
          247
         ]
        },
        {
         "hoverinfo": "text",
         "line": {
          "color": "rgba(128, 128, 128, 0.4)",
          "width": 1
         },
         "mode": "lines",
         "text": "36.89",
         "type": "scatter3d",
         "x": [
          563,
          533
         ],
         "y": [
          185,
          175
         ],
         "z": [
          394,
          375
         ]
        },
        {
         "hoverinfo": "text",
         "line": {
          "color": "rgba(128, 128, 128, 0.4)",
          "width": 1
         },
         "mode": "lines",
         "text": "64.31",
         "type": "scatter3d",
         "x": [
          566,
          630
         ],
         "y": [
          220,
          218
         ],
         "z": [
          272,
          278
         ]
        },
        {
         "hoverinfo": "text",
         "line": {
          "color": "rgba(128, 128, 128, 0.4)",
          "width": 1
         },
         "mode": "lines",
         "text": "86.54",
         "type": "scatter3d",
         "x": [
          566,
          633
         ],
         "y": [
          220,
          200
         ],
         "z": [
          272,
          221
         ]
        },
        {
         "hoverinfo": "text",
         "line": {
          "color": "rgba(128, 128, 128, 0.4)",
          "width": 1
         },
         "mode": "lines",
         "text": "29.48",
         "type": "scatter3d",
         "x": [
          566,
          542
         ],
         "y": [
          220,
          222
         ],
         "z": [
          272,
          289
         ]
        },
        {
         "hoverinfo": "text",
         "line": {
          "color": "rgba(128, 128, 128, 0.4)",
          "width": 1
         },
         "mode": "lines",
         "text": "41.53",
         "type": "scatter3d",
         "x": [
          569,
          601
         ],
         "y": [
          292,
          287
         ],
         "z": [
          345,
          371
         ]
        },
        {
         "hoverinfo": "text",
         "line": {
          "color": "rgba(128, 128, 128, 0.4)",
          "width": 1
         },
         "mode": "lines",
         "text": "37.12",
         "type": "scatter3d",
         "x": [
          569,
          606
         ],
         "y": [
          292,
          289
         ],
         "z": [
          345,
          345
         ]
        },
        {
         "hoverinfo": "text",
         "line": {
          "color": "rgba(128, 128, 128, 0.4)",
          "width": 1
         },
         "mode": "lines",
         "text": "67.01",
         "type": "scatter3d",
         "x": [
          569,
          509
         ],
         "y": [
          292,
          273
         ],
         "z": [
          345,
          322
         ]
        },
        {
         "hoverinfo": "text",
         "line": {
          "color": "rgba(128, 128, 128, 0.4)",
          "width": 1
         },
         "mode": "lines",
         "text": "97.42",
         "type": "scatter3d",
         "x": [
          570,
          637
         ],
         "y": [
          167,
          118
         ],
         "z": [
          270,
          219
         ]
        },
        {
         "hoverinfo": "text",
         "line": {
          "color": "rgba(128, 128, 128, 0.4)",
          "width": 1
         },
         "mode": "lines",
         "text": "64.58",
         "type": "scatter3d",
         "x": [
          570,
          542
         ],
         "y": [
          167,
          222
         ],
         "z": [
          270,
          289
         ]
        },
        {
         "hoverinfo": "text",
         "line": {
          "color": "rgba(128, 128, 128, 0.4)",
          "width": 1
         },
         "mode": "lines",
         "text": "61.33",
         "type": "scatter3d",
         "x": [
          572,
          531
         ],
         "y": [
          359,
          323
         ],
         "z": [
          180,
          208
         ]
        },
        {
         "hoverinfo": "text",
         "line": {
          "color": "rgba(128, 128, 128, 0.4)",
          "width": 1
         },
         "mode": "lines",
         "text": "102.82",
         "type": "scatter3d",
         "x": [
          578,
          531
         ],
         "y": [
          344,
          323
         ],
         "z": [
          119,
          208
         ]
        },
        {
         "hoverinfo": "text",
         "line": {
          "color": "rgba(128, 128, 128, 0.4)",
          "width": 1
         },
         "mode": "lines",
         "text": "89.92",
         "type": "scatter3d",
         "x": [
          583,
          509
         ],
         "y": [
          324,
          273
         ],
         "z": [
          325,
          322
         ]
        },
        {
         "hoverinfo": "text",
         "line": {
          "color": "rgba(128, 128, 128, 0.4)",
          "width": 1
         },
         "mode": "lines",
         "text": "14.90",
         "type": "scatter3d",
         "x": [
          599,
          589
         ],
         "y": [
          221,
          210
         ],
         "z": [
          336,
          337
         ]
        },
        {
         "hoverinfo": "text",
         "line": {
          "color": "rgba(128, 128, 128, 0.4)",
          "width": 1
         },
         "mode": "lines",
         "text": "34.13",
         "type": "scatter3d",
         "x": [
          605,
          589
         ],
         "y": [
          180,
          210
         ],
         "z": [
          340,
          337
         ]
        },
        {
         "hoverinfo": "text",
         "line": {
          "color": "rgba(128, 128, 128, 0.4)",
          "width": 1
         },
         "mode": "lines",
         "text": "4.58",
         "type": "scatter3d",
         "x": [
          483,
          484
         ],
         "y": [
          268,
          264
         ],
         "z": [
          317,
          315
         ]
        },
        {
         "hoverinfo": "text",
         "line": {
          "color": "rgba(128, 128, 128, 0.4)",
          "width": 1
         },
         "mode": "lines",
         "text": "26.94",
         "type": "scatter3d",
         "x": [
          483,
          509
         ],
         "y": [
          268,
          273
         ],
         "z": [
          317,
          322
         ]
        },
        {
         "hoverinfo": "text",
         "line": {
          "color": "rgba(128, 128, 128, 0.4)",
          "width": 1
         },
         "mode": "lines",
         "text": "29.73",
         "type": "scatter3d",
         "x": [
          483,
          461
         ],
         "y": [
          268,
          284
         ],
         "z": [
          317,
          329
         ]
        },
        {
         "hoverinfo": "text",
         "line": {
          "color": "rgba(128, 128, 128, 0.4)",
          "width": 1
         },
         "mode": "lines",
         "text": "105.61",
         "type": "scatter3d",
         "x": [
          458,
          475
         ],
         "y": [
          385,
          317
         ],
         "z": [
          232,
          311
         ]
        },
        {
         "hoverinfo": "text",
         "line": {
          "color": "rgba(128, 128, 128, 0.4)",
          "width": 1
         },
         "mode": "lines",
         "text": "44.19",
         "type": "scatter3d",
         "x": [
          166,
          207
         ],
         "y": [
          230,
          246
         ],
         "z": [
          398,
          402
         ]
        },
        {
         "hoverinfo": "text",
         "line": {
          "color": "rgba(128, 128, 128, 0.4)",
          "width": 1
         },
         "mode": "lines",
         "text": "17.35",
         "type": "scatter3d",
         "x": [
          451,
          467
         ],
         "y": [
          276,
          282
         ],
         "z": [
          368,
          365
         ]
        },
        {
         "hoverinfo": "text",
         "line": {
          "color": "rgba(128, 128, 128, 0.4)",
          "width": 1
         },
         "mode": "lines",
         "text": "24.88",
         "type": "scatter3d",
         "x": [
          451,
          436
         ],
         "y": [
          276,
          261
         ],
         "z": [
          368,
          355
         ]
        },
        {
         "hoverinfo": "text",
         "line": {
          "color": "rgba(128, 128, 128, 0.4)",
          "width": 1
         },
         "mode": "lines",
         "text": "59.37",
         "type": "scatter3d",
         "x": [
          239,
          243
         ],
         "y": [
          294,
          272
         ],
         "z": [
          444,
          389
         ]
        },
        {
         "hoverinfo": "text",
         "line": {
          "color": "rgba(128, 128, 128, 0.4)",
          "width": 1
         },
         "mode": "lines",
         "text": "75.46",
         "type": "scatter3d",
         "x": [
          469,
          450
         ],
         "y": [
          340,
          342
         ],
         "z": [
          211,
          138
         ]
        },
        {
         "hoverinfo": "text",
         "line": {
          "color": "rgba(128, 128, 128, 0.4)",
          "width": 1
         },
         "mode": "lines",
         "text": "24.49",
         "type": "scatter3d",
         "x": [
          543,
          533
         ],
         "y": [
          153,
          175
         ],
         "z": [
          371,
          375
         ]
        },
        {
         "hoverinfo": "text",
         "line": {
          "color": "rgba(128, 128, 128, 0.4)",
          "width": 1
         },
         "mode": "lines",
         "text": "42.86",
         "type": "scatter3d",
         "x": [
          489,
          531
         ],
         "y": [
          326,
          323
         ],
         "z": [
          216,
          208
         ]
        },
        {
         "hoverinfo": "text",
         "line": {
          "color": "rgba(128, 128, 128, 0.4)",
          "width": 1
         },
         "mode": "lines",
         "text": "7.35",
         "type": "scatter3d",
         "x": [
          475,
          478
         ],
         "y": [
          317,
          320
         ],
         "z": [
          311,
          305
         ]
        },
        {
         "hoverinfo": "text",
         "line": {
          "color": "rgba(128, 128, 128, 0.4)",
          "width": 1
         },
         "mode": "lines",
         "text": "10.20",
         "type": "scatter3d",
         "x": [
          241,
          243
         ],
         "y": [
          264,
          272
         ],
         "z": [
          383,
          389
         ]
        },
        {
         "hoverinfo": "text",
         "line": {
          "color": "rgba(128, 128, 128, 0.4)",
          "width": 1
         },
         "mode": "lines",
         "text": "39.51",
         "type": "scatter3d",
         "x": [
          381,
          357
         ],
         "y": [
          168,
          195
         ],
         "z": [
          330,
          314
         ]
        },
        {
         "hoverinfo": "text",
         "line": {
          "color": "rgba(128, 128, 128, 0.4)",
          "width": 1
         },
         "mode": "lines",
         "text": "38.81",
         "type": "scatter3d",
         "x": [
          204,
          173
         ],
         "y": [
          239,
          223
         ],
         "z": [
          349,
          332
         ]
        },
        {
         "hoverinfo": "text",
         "line": {
          "color": "rgba(128, 128, 128, 0.4)",
          "width": 1
         },
         "mode": "lines",
         "text": "26.08",
         "type": "scatter3d",
         "x": [
          463,
          461
         ],
         "y": [
          294,
          284
         ],
         "z": [
          305,
          329
         ]
        },
        {
         "hoverinfo": "text",
         "line": {
          "color": "rgba(128, 128, 128, 0.4)",
          "width": 1
         },
         "mode": "lines",
         "text": "59.76",
         "type": "scatter3d",
         "x": [
          463,
          486
         ],
         "y": [
          294,
          273
         ],
         "z": [
          305,
          254
         ]
        },
        {
         "hoverinfo": "text",
         "line": {
          "color": "rgba(128, 128, 128, 0.4)",
          "width": 1
         },
         "mode": "lines",
         "text": "3.00",
         "type": "scatter3d",
         "x": [
          488,
          487
         ],
         "y": [
          196,
          198
         ],
         "z": [
          376,
          374
         ]
        },
        {
         "hoverinfo": "text",
         "line": {
          "color": "rgba(128, 128, 128, 0.4)",
          "width": 1
         },
         "mode": "lines",
         "text": "30.89",
         "type": "scatter3d",
         "x": [
          226,
          213
         ],
         "y": [
          252,
          280
         ],
         "z": [
          291,
          290
         ]
        },
        {
         "hoverinfo": "text",
         "line": {
          "color": "rgba(128, 128, 128, 0.4)",
          "width": 1
         },
         "mode": "lines",
         "text": "5.66",
         "type": "scatter3d",
         "x": [
          457,
          461
         ],
         "y": [
          284,
          284
         ],
         "z": [
          333,
          329
         ]
        }
       ],
       "layout": {
        "margin": {
         "b": 0,
         "l": 0,
         "r": 0,
         "t": 0
        },
        "scene": {
         "domain": {
          "x": [
           0,
           1
          ],
          "y": [
           0,
           1
          ]
         },
         "xaxis": {
          "range": [
           0,
           638
          ]
         },
         "yaxis": {
          "range": [
           0,
           393
          ]
         },
         "zaxis": {
          "range": [
           0,
           513
          ]
         }
        },
        "template": {
         "data": {
          "bar": [
           {
            "error_x": {
             "color": "#2a3f5f"
            },
            "error_y": {
             "color": "#2a3f5f"
            },
            "marker": {
             "line": {
              "color": "#E5ECF6",
              "width": 0.5
             },
             "pattern": {
              "fillmode": "overlay",
              "size": 10,
              "solidity": 0.2
             }
            },
            "type": "bar"
           }
          ],
          "barpolar": [
           {
            "marker": {
             "line": {
              "color": "#E5ECF6",
              "width": 0.5
             },
             "pattern": {
              "fillmode": "overlay",
              "size": 10,
              "solidity": 0.2
             }
            },
            "type": "barpolar"
           }
          ],
          "carpet": [
           {
            "aaxis": {
             "endlinecolor": "#2a3f5f",
             "gridcolor": "white",
             "linecolor": "white",
             "minorgridcolor": "white",
             "startlinecolor": "#2a3f5f"
            },
            "baxis": {
             "endlinecolor": "#2a3f5f",
             "gridcolor": "white",
             "linecolor": "white",
             "minorgridcolor": "white",
             "startlinecolor": "#2a3f5f"
            },
            "type": "carpet"
           }
          ],
          "choropleth": [
           {
            "colorbar": {
             "outlinewidth": 0,
             "ticks": ""
            },
            "type": "choropleth"
           }
          ],
          "contour": [
           {
            "colorbar": {
             "outlinewidth": 0,
             "ticks": ""
            },
            "colorscale": [
             [
              0,
              "#0d0887"
             ],
             [
              0.1111111111111111,
              "#46039f"
             ],
             [
              0.2222222222222222,
              "#7201a8"
             ],
             [
              0.3333333333333333,
              "#9c179e"
             ],
             [
              0.4444444444444444,
              "#bd3786"
             ],
             [
              0.5555555555555556,
              "#d8576b"
             ],
             [
              0.6666666666666666,
              "#ed7953"
             ],
             [
              0.7777777777777778,
              "#fb9f3a"
             ],
             [
              0.8888888888888888,
              "#fdca26"
             ],
             [
              1,
              "#f0f921"
             ]
            ],
            "type": "contour"
           }
          ],
          "contourcarpet": [
           {
            "colorbar": {
             "outlinewidth": 0,
             "ticks": ""
            },
            "type": "contourcarpet"
           }
          ],
          "heatmap": [
           {
            "colorbar": {
             "outlinewidth": 0,
             "ticks": ""
            },
            "colorscale": [
             [
              0,
              "#0d0887"
             ],
             [
              0.1111111111111111,
              "#46039f"
             ],
             [
              0.2222222222222222,
              "#7201a8"
             ],
             [
              0.3333333333333333,
              "#9c179e"
             ],
             [
              0.4444444444444444,
              "#bd3786"
             ],
             [
              0.5555555555555556,
              "#d8576b"
             ],
             [
              0.6666666666666666,
              "#ed7953"
             ],
             [
              0.7777777777777778,
              "#fb9f3a"
             ],
             [
              0.8888888888888888,
              "#fdca26"
             ],
             [
              1,
              "#f0f921"
             ]
            ],
            "type": "heatmap"
           }
          ],
          "heatmapgl": [
           {
            "colorbar": {
             "outlinewidth": 0,
             "ticks": ""
            },
            "colorscale": [
             [
              0,
              "#0d0887"
             ],
             [
              0.1111111111111111,
              "#46039f"
             ],
             [
              0.2222222222222222,
              "#7201a8"
             ],
             [
              0.3333333333333333,
              "#9c179e"
             ],
             [
              0.4444444444444444,
              "#bd3786"
             ],
             [
              0.5555555555555556,
              "#d8576b"
             ],
             [
              0.6666666666666666,
              "#ed7953"
             ],
             [
              0.7777777777777778,
              "#fb9f3a"
             ],
             [
              0.8888888888888888,
              "#fdca26"
             ],
             [
              1,
              "#f0f921"
             ]
            ],
            "type": "heatmapgl"
           }
          ],
          "histogram": [
           {
            "marker": {
             "pattern": {
              "fillmode": "overlay",
              "size": 10,
              "solidity": 0.2
             }
            },
            "type": "histogram"
           }
          ],
          "histogram2d": [
           {
            "colorbar": {
             "outlinewidth": 0,
             "ticks": ""
            },
            "colorscale": [
             [
              0,
              "#0d0887"
             ],
             [
              0.1111111111111111,
              "#46039f"
             ],
             [
              0.2222222222222222,
              "#7201a8"
             ],
             [
              0.3333333333333333,
              "#9c179e"
             ],
             [
              0.4444444444444444,
              "#bd3786"
             ],
             [
              0.5555555555555556,
              "#d8576b"
             ],
             [
              0.6666666666666666,
              "#ed7953"
             ],
             [
              0.7777777777777778,
              "#fb9f3a"
             ],
             [
              0.8888888888888888,
              "#fdca26"
             ],
             [
              1,
              "#f0f921"
             ]
            ],
            "type": "histogram2d"
           }
          ],
          "histogram2dcontour": [
           {
            "colorbar": {
             "outlinewidth": 0,
             "ticks": ""
            },
            "colorscale": [
             [
              0,
              "#0d0887"
             ],
             [
              0.1111111111111111,
              "#46039f"
             ],
             [
              0.2222222222222222,
              "#7201a8"
             ],
             [
              0.3333333333333333,
              "#9c179e"
             ],
             [
              0.4444444444444444,
              "#bd3786"
             ],
             [
              0.5555555555555556,
              "#d8576b"
             ],
             [
              0.6666666666666666,
              "#ed7953"
             ],
             [
              0.7777777777777778,
              "#fb9f3a"
             ],
             [
              0.8888888888888888,
              "#fdca26"
             ],
             [
              1,
              "#f0f921"
             ]
            ],
            "type": "histogram2dcontour"
           }
          ],
          "mesh3d": [
           {
            "colorbar": {
             "outlinewidth": 0,
             "ticks": ""
            },
            "type": "mesh3d"
           }
          ],
          "parcoords": [
           {
            "line": {
             "colorbar": {
              "outlinewidth": 0,
              "ticks": ""
             }
            },
            "type": "parcoords"
           }
          ],
          "pie": [
           {
            "automargin": true,
            "type": "pie"
           }
          ],
          "scatter": [
           {
            "fillpattern": {
             "fillmode": "overlay",
             "size": 10,
             "solidity": 0.2
            },
            "type": "scatter"
           }
          ],
          "scatter3d": [
           {
            "line": {
             "colorbar": {
              "outlinewidth": 0,
              "ticks": ""
             }
            },
            "marker": {
             "colorbar": {
              "outlinewidth": 0,
              "ticks": ""
             }
            },
            "type": "scatter3d"
           }
          ],
          "scattercarpet": [
           {
            "marker": {
             "colorbar": {
              "outlinewidth": 0,
              "ticks": ""
             }
            },
            "type": "scattercarpet"
           }
          ],
          "scattergeo": [
           {
            "marker": {
             "colorbar": {
              "outlinewidth": 0,
              "ticks": ""
             }
            },
            "type": "scattergeo"
           }
          ],
          "scattergl": [
           {
            "marker": {
             "colorbar": {
              "outlinewidth": 0,
              "ticks": ""
             }
            },
            "type": "scattergl"
           }
          ],
          "scattermapbox": [
           {
            "marker": {
             "colorbar": {
              "outlinewidth": 0,
              "ticks": ""
             }
            },
            "type": "scattermapbox"
           }
          ],
          "scatterpolar": [
           {
            "marker": {
             "colorbar": {
              "outlinewidth": 0,
              "ticks": ""
             }
            },
            "type": "scatterpolar"
           }
          ],
          "scatterpolargl": [
           {
            "marker": {
             "colorbar": {
              "outlinewidth": 0,
              "ticks": ""
             }
            },
            "type": "scatterpolargl"
           }
          ],
          "scatterternary": [
           {
            "marker": {
             "colorbar": {
              "outlinewidth": 0,
              "ticks": ""
             }
            },
            "type": "scatterternary"
           }
          ],
          "surface": [
           {
            "colorbar": {
             "outlinewidth": 0,
             "ticks": ""
            },
            "colorscale": [
             [
              0,
              "#0d0887"
             ],
             [
              0.1111111111111111,
              "#46039f"
             ],
             [
              0.2222222222222222,
              "#7201a8"
             ],
             [
              0.3333333333333333,
              "#9c179e"
             ],
             [
              0.4444444444444444,
              "#bd3786"
             ],
             [
              0.5555555555555556,
              "#d8576b"
             ],
             [
              0.6666666666666666,
              "#ed7953"
             ],
             [
              0.7777777777777778,
              "#fb9f3a"
             ],
             [
              0.8888888888888888,
              "#fdca26"
             ],
             [
              1,
              "#f0f921"
             ]
            ],
            "type": "surface"
           }
          ],
          "table": [
           {
            "cells": {
             "fill": {
              "color": "#EBF0F8"
             },
             "line": {
              "color": "white"
             }
            },
            "header": {
             "fill": {
              "color": "#C8D4E3"
             },
             "line": {
              "color": "white"
             }
            },
            "type": "table"
           }
          ]
         },
         "layout": {
          "annotationdefaults": {
           "arrowcolor": "#2a3f5f",
           "arrowhead": 0,
           "arrowwidth": 1
          },
          "autotypenumbers": "strict",
          "coloraxis": {
           "colorbar": {
            "outlinewidth": 0,
            "ticks": ""
           }
          },
          "colorscale": {
           "diverging": [
            [
             0,
             "#8e0152"
            ],
            [
             0.1,
             "#c51b7d"
            ],
            [
             0.2,
             "#de77ae"
            ],
            [
             0.3,
             "#f1b6da"
            ],
            [
             0.4,
             "#fde0ef"
            ],
            [
             0.5,
             "#f7f7f7"
            ],
            [
             0.6,
             "#e6f5d0"
            ],
            [
             0.7,
             "#b8e186"
            ],
            [
             0.8,
             "#7fbc41"
            ],
            [
             0.9,
             "#4d9221"
            ],
            [
             1,
             "#276419"
            ]
           ],
           "sequential": [
            [
             0,
             "#0d0887"
            ],
            [
             0.1111111111111111,
             "#46039f"
            ],
            [
             0.2222222222222222,
             "#7201a8"
            ],
            [
             0.3333333333333333,
             "#9c179e"
            ],
            [
             0.4444444444444444,
             "#bd3786"
            ],
            [
             0.5555555555555556,
             "#d8576b"
            ],
            [
             0.6666666666666666,
             "#ed7953"
            ],
            [
             0.7777777777777778,
             "#fb9f3a"
            ],
            [
             0.8888888888888888,
             "#fdca26"
            ],
            [
             1,
             "#f0f921"
            ]
           ],
           "sequentialminus": [
            [
             0,
             "#0d0887"
            ],
            [
             0.1111111111111111,
             "#46039f"
            ],
            [
             0.2222222222222222,
             "#7201a8"
            ],
            [
             0.3333333333333333,
             "#9c179e"
            ],
            [
             0.4444444444444444,
             "#bd3786"
            ],
            [
             0.5555555555555556,
             "#d8576b"
            ],
            [
             0.6666666666666666,
             "#ed7953"
            ],
            [
             0.7777777777777778,
             "#fb9f3a"
            ],
            [
             0.8888888888888888,
             "#fdca26"
            ],
            [
             1,
             "#f0f921"
            ]
           ]
          },
          "colorway": [
           "#636efa",
           "#EF553B",
           "#00cc96",
           "#ab63fa",
           "#FFA15A",
           "#19d3f3",
           "#FF6692",
           "#B6E880",
           "#FF97FF",
           "#FECB52"
          ],
          "font": {
           "color": "#2a3f5f"
          },
          "geo": {
           "bgcolor": "white",
           "lakecolor": "white",
           "landcolor": "#E5ECF6",
           "showlakes": true,
           "showland": true,
           "subunitcolor": "white"
          },
          "hoverlabel": {
           "align": "left"
          },
          "hovermode": "closest",
          "mapbox": {
           "style": "light"
          },
          "paper_bgcolor": "white",
          "plot_bgcolor": "#E5ECF6",
          "polar": {
           "angularaxis": {
            "gridcolor": "white",
            "linecolor": "white",
            "ticks": ""
           },
           "bgcolor": "#E5ECF6",
           "radialaxis": {
            "gridcolor": "white",
            "linecolor": "white",
            "ticks": ""
           }
          },
          "scene": {
           "xaxis": {
            "backgroundcolor": "#E5ECF6",
            "gridcolor": "white",
            "gridwidth": 2,
            "linecolor": "white",
            "showbackground": true,
            "ticks": "",
            "zerolinecolor": "white"
           },
           "yaxis": {
            "backgroundcolor": "#E5ECF6",
            "gridcolor": "white",
            "gridwidth": 2,
            "linecolor": "white",
            "showbackground": true,
            "ticks": "",
            "zerolinecolor": "white"
           },
           "zaxis": {
            "backgroundcolor": "#E5ECF6",
            "gridcolor": "white",
            "gridwidth": 2,
            "linecolor": "white",
            "showbackground": true,
            "ticks": "",
            "zerolinecolor": "white"
           }
          },
          "shapedefaults": {
           "line": {
            "color": "#2a3f5f"
           }
          },
          "ternary": {
           "aaxis": {
            "gridcolor": "white",
            "linecolor": "white",
            "ticks": ""
           },
           "baxis": {
            "gridcolor": "white",
            "linecolor": "white",
            "ticks": ""
           },
           "bgcolor": "#E5ECF6",
           "caxis": {
            "gridcolor": "white",
            "linecolor": "white",
            "ticks": ""
           }
          },
          "title": {
           "x": 0.05
          },
          "xaxis": {
           "automargin": true,
           "gridcolor": "white",
           "linecolor": "white",
           "ticks": "",
           "title": {
            "standoff": 15
           },
           "zerolinecolor": "white",
           "zerolinewidth": 2
          },
          "yaxis": {
           "automargin": true,
           "gridcolor": "white",
           "linecolor": "white",
           "ticks": "",
           "title": {
            "standoff": 15
           },
           "zerolinecolor": "white",
           "zerolinewidth": 2
          }
         }
        }
       }
      }
     },
     "metadata": {},
     "output_type": "display_data"
    }
   ],
   "source": [
    "#16 Plot-2 Interactive 3D-2!: Check #Clusters: Show Cycles in Red >> Edges: {Red=InCycle, Grey=Else}, Nodes: {Grey}#{Red=Leaf, Blue=Else}\n",
    "\n",
    "fig = make_subplots(rows=1, cols=1, specs=[[{'type': 'scatter3d'}]])\n",
    "x, y, z = zip(*graph.nodes)\n",
    "\n",
    "leaf_nodes = [node for node, degree in graph.degree if degree == 1]\n",
    "\n",
    "node_trace = go.Scatter3d(\n",
    "    x=x,\n",
    "    y=y,\n",
    "    z=z,\n",
    "    mode='markers',\n",
    "    marker=dict(\n",
    "        size=2,\n",
    "        color='grey', #['red' if node in leaf_nodes else 'blue' for node in graph.nodes()], # 'grey',\n",
    "        opacity=0.1 #0.8\n",
    "    )\n",
    ")\n",
    "fig.add_trace(node_trace)\n",
    "\n",
    "for edge in graph.edges():\n",
    "    x0, y0, z0 = edge[0]\n",
    "    x1, y1, z1 = edge[1]\n",
    "    \n",
    "    edge_length = graph.edges[edge]['edge_length']\n",
    "    edge_text = f'{edge_length:.2f}'  # Display the edge length as text\n",
    "    \n",
    "    edge_is_in_a_cycle = [edge[0],edge[1]] in EdgesInCycles or [edge[1],edge[0]] in EdgesInCycles\n",
    "    \n",
    "    edge_trace = go.Scatter3d(\n",
    "        x=[x0, x1],\n",
    "        y=[y0, y1],\n",
    "        z=[z0, z1],\n",
    "        mode='lines',\n",
    "        line=dict(color='rgba(255, 0, 0, 0.8)' if edge_is_in_a_cycle else 'rgba(128, 128, 128, 0.4)',\n",
    "            width=8 if edge_is_in_a_cycle else 1),\n",
    "        hoverinfo='text',\n",
    "        text=edge_text\n",
    "    )\n",
    "    fig.add_trace(edge_trace)\n",
    "\n",
    "fig.update_layout(\n",
    "    margin=dict(l=0, r=0, b=0, t=0),\n",
    "    scene=dict(\n",
    "        xaxis=dict(range=[0, max(x) + 1]),\n",
    "        yaxis=dict(range=[0, max(y) + 1]),\n",
    "        zaxis=dict(range=[0, max(z) + 1])\n",
    "    )\n",
    ")\n",
    "\n",
    "fig.show()"
   ]
  },
  {
   "cell_type": "code",
   "execution_count": 192,
   "metadata": {},
   "outputs": [
    {
     "name": "stdout",
     "output_type": "stream",
     "text": [
      "Node[0]: Appended (221, 328, 199) to CxNodesList\n",
      "Node[1]: Appended (222, 328, 199) to CxNodesList\n",
      "Node[2]: Appended (222, 328, 200) to CxNodesList\n",
      "\n",
      "Overall 3 nodes in CxNodesList\n"
     ]
    }
   ],
   "source": [
    "#17 Create the nodes list of the complex cycle: Works only for one complex cluster!\n",
    "\n",
    "CxNodesList = [] # Complex nodes list\n",
    "NodeIndex = 0\n",
    "for edge in EdgesInCycles: ############### EdgesInCycles should be adjusted for other scenarios! ***\n",
    "    for i in [0,1]:\n",
    "        CurrentNode = edge[i]\n",
    "        if CurrentNode not in CxNodesList:\n",
    "            CxNodesList.append(CurrentNode)\n",
    "            print(f'Node[{NodeIndex}]: Appended {CurrentNode} to CxNodesList')\n",
    "            NodeIndex += 1\n",
    "            \n",
    "print(f'\\nOverall {len(CxNodesList)} nodes in CxNodesList')"
   ]
  },
  {
   "cell_type": "code",
   "execution_count": 193,
   "metadata": {},
   "outputs": [
    {
     "name": "stdout",
     "output_type": "stream",
     "text": [
      "Cluster 1: [(221, 328, 199), (222, 328, 199), (222, 328, 200)]\n"
     ]
    }
   ],
   "source": [
    "#18 Specify n_clusters and get the clusters as separate lists $$$ n_clusters (judge visually and from code block above)\n",
    "# NO NEED TO RUN CODE BLOCK 18-20 IF 0 NODES IN \"CxNodesList\"\n",
    "\n",
    "if CxNodesList: # If not empty, do ..\n",
    "\n",
    "    from sklearn.cluster import KMeans # pip install scikit-learn\n",
    "\n",
    "    # Convert the list of 3-tuples to a NumPy array for K-Means clustering\n",
    "    data = np.array(CxNodesList)\n",
    "\n",
    "    # Specify the number of clusters (in this case, 3 clusters)\n",
    "    # n_clusters = 1\n",
    "    winsound.Beep(frequency, duration)\n",
    "    n_clusters = int(input(\"Please enter the number of clusters: [Cell-18>>Cell-16]: \"))\n",
    "\n",
    "    # Perform K-Means clustering\n",
    "    kmeans = KMeans(n_clusters=n_clusters, n_init=10)  # You can set n_init to any desired value\n",
    "    kmeans.fit(data)\n",
    "\n",
    "    # Get the cluster labels for each data point\n",
    "    cluster_labels = kmeans.labels_\n",
    "\n",
    "    # Initialize empty lists for each cluster\n",
    "    clusters = [[] for _ in range(n_clusters)]\n",
    "\n",
    "    # Organize data points into clusters based on labels\n",
    "    for i, label in enumerate(cluster_labels):\n",
    "        clusters[label].append(CxNodesList[i])\n",
    "\n",
    "    # Print the clusters\n",
    "    for i, cluster in enumerate(clusters):\n",
    "        print(f\"Cluster {i + 1}:\", cluster)"
   ]
  },
  {
   "cell_type": "code",
   "execution_count": 194,
   "metadata": {},
   "outputs": [],
   "source": [
    "#19 Function: Resolves the complex cycles for one cluster: Changes the graph! Works only once!\n",
    "\n",
    "def ResolveComplexCluster(CxNodesCluster, graph):\n",
    "\n",
    "    # List the neighbors that lie outside the cx-cycle\n",
    "    OuterNeighbors = []\n",
    "    print(\"Outer Neighbors:\")\n",
    "    for node in CxNodesCluster:\n",
    "        for neighbor in graph.neighbors(node):\n",
    "            if neighbor not in CxNodesCluster and neighbor not in OuterNeighbors:\n",
    "                OuterNeighbors.append(neighbor)\n",
    "                print(neighbor)\n",
    "\n",
    "    # Print the cx-cycle\n",
    "    print(\"\\nCx-Cycle:\")\n",
    "    for node in CxNodesCluster:\n",
    "        print(node)\n",
    "\n",
    "    # Takes the Cx-Nodes and forms their average\n",
    "    # CxNodesList: List of n 3-tuples  # n: Number of Cx Nodes  # After zip becomes 3 x ntuple\n",
    "    NewAverageNode = tuple([round(sum(ntuple)/len(ntuple)) for ntuple in zip(*CxNodesCluster)])\n",
    "    print('\\nNewAverageNode:')\n",
    "    print(NewAverageNode)\n",
    "\n",
    "    # If NewAverageNode not on the skeleton, go to its neighborhood and find the nearest voxel that lies on the skeleton:\n",
    "    if skeleton[*NewAverageNode] == 0:\n",
    "        print(f\"NewAverageNode {NewAverageNode} not on the skeleton.\")\n",
    "        xxna, yyna, zzna = NewAverageNode\n",
    "        success = False\n",
    "        NeighbrhdSize = 3\n",
    "        while success == False:\n",
    "            print(f\"Searching neighborhood {NeighbrhdSize}\")\n",
    "            lowerbnd = -(NeighbrhdSize//2)\n",
    "            upperbnd =  (NeighbrhdSize//2) + 1\n",
    "            neighbors = [(i, j, k) for i in range(lowerbnd, upperbnd) for j in range(lowerbnd, upperbnd) for k in range(lowerbnd, upperbnd)]\n",
    "            neighbors.remove((0,0,0))\n",
    "            for neighbor_offset in neighbors:\n",
    "                nnx, nny, nnz = xxna + neighbor_offset[0], yyna + neighbor_offset[1], zzna + neighbor_offset[2]\n",
    "                if 0 <= nnx < skeleton.shape[0] and 0 <= nny < skeleton.shape[1] and 0 <= nnz < skeleton.shape[2]:\n",
    "                    if skeleton[nnx, nny, nnz] != 0:\n",
    "                        NewAverageNode = (nnx, nny, nnz)\n",
    "                        print(f\"Adjusted the NewAverageNode to {NewAverageNode}\")\n",
    "                        success = True\n",
    "                        break            \n",
    "            NeighbrhdSize += 2\n",
    "\n",
    "    # Now remove the old nodes in cx-cycle\n",
    "    for node in CxNodesCluster:\n",
    "        graph.remove_node(node)\n",
    "    print(f'\\nRemoved the {len(CxNodesCluster)} nodes in cx-cycle')\n",
    "\n",
    "    # Add the new average node\n",
    "    graph.add_node(NewAverageNode)\n",
    "    print('Added new average node')\n",
    "\n",
    "    # Make the new edges/connections\n",
    "    for node in OuterNeighbors:\n",
    "        graph.add_edge(node, NewAverageNode)\n",
    "    print('Added the final edges\\n')\n",
    "\n",
    "    UpdateEdgeLengths(graph)\n",
    "    print_stats(graph)\n",
    "    print()\n",
    "\n",
    "    ReFindAndPrintLength3Cycles(graph)"
   ]
  },
  {
   "cell_type": "code",
   "execution_count": 195,
   "metadata": {},
   "outputs": [
    {
     "name": "stdout",
     "output_type": "stream",
     "text": [
      "Outer Neighbors:\n",
      "(178, 323, 181)\n",
      "(139, 354, 202)\n",
      "(219, 318, 178)\n",
      "(224, 329, 205)\n",
      "\n",
      "Cx-Cycle:\n",
      "(221, 328, 199)\n",
      "(222, 328, 199)\n",
      "(222, 328, 200)\n",
      "\n",
      "NewAverageNode:\n",
      "(222, 328, 199)\n",
      "\n",
      "Removed the 3 nodes in cx-cycle\n",
      "Added new average node\n",
      "Added the final edges\n",
      "\n",
      "Number of Nodes: 325\n",
      "Number of Edges: 324\n",
      "\n"
     ]
    }
   ],
   "source": [
    "#20 Execute: Resolve all clusters:\n",
    "\n",
    "if CxNodesList: # If not empty, do ..\n",
    "    for cluster in clusters:\n",
    "        ResolveComplexCluster(cluster, graph)"
   ]
  },
  {
   "cell_type": "code",
   "execution_count": 196,
   "metadata": {},
   "outputs": [
    {
     "name": "stdout",
     "output_type": "stream",
     "text": [
      "Number of Nodes: 325\n",
      "Number of Edges: 324\n",
      "\n",
      "This could be a tree.\n"
     ]
    }
   ],
   "source": [
    "#21 Check if it could be a tree:\n",
    "\n",
    "def CheckBeingATree():\n",
    "\n",
    "    num_nodes = nx.number_of_nodes(graph)\n",
    "    num_edges = nx.number_of_edges(graph)\n",
    "\n",
    "    print(\"Number of Nodes:\", num_nodes)\n",
    "    print(\"Number of Edges:\", num_edges)\n",
    "\n",
    "    if num_nodes != num_edges + 1: print(\"\\nThis is not a tree: #nodes != #edges + 1\")\n",
    "    if num_nodes == num_edges + 1: print(\"\\nThis could be a tree.\")\n",
    "\n",
    "CheckBeingATree()"
   ]
  },
  {
   "cell_type": "code",
   "execution_count": 197,
   "metadata": {},
   "outputs": [
    {
     "name": "stdout",
     "output_type": "stream",
     "text": [
      "len(SmallInsideEdges) = 6\n"
     ]
    }
   ],
   "source": [
    "##-21-1 To simplify tree further: Set and visualize SmallInsideEdges, to be removed: Displayed red:\n",
    "\n",
    "UpdateEdgeLengths(graph)\n",
    "\n",
    "# Case-79 root: (480, 196 , 396)\n",
    "# leaf_nodes = [node for node, degree in graph.degree if degree == 1]\n",
    "\n",
    "# size=[6 if node in leaf_nodes else 2 for node in graph.nodes()],\n",
    "# color=['black' if node in leaf_nodes else 'grey' for node in graph.nodes()], # 'grey',\n",
    "# edge_length = graph.edges[edge]['edge_length']\n",
    "# SpecialCondition = edge_length < 10\n",
    "# line=dict(color='rgba(255, 0, 0, 0.6)' if SpecialCondition else 'rgba(128, 128, 128, 0.6)',\n",
    "#             width=6 if SpecialCondition else 2),\n",
    "\n",
    "fig = mlab.figure(size=(2500, 1400), bgcolor=(1, 1, 1))\n",
    "\n",
    "x, y, z = zip(*graph.nodes)\n",
    "mlab.points3d(x, y, z, scale_factor=2, color=(0.2, 0.2, 0.2), opacity=0.7) # color=(1, 0, 0)\n",
    "\n",
    "# Find all terminal edges smaller than LengthThreshold and deeper than InsideMargin\n",
    "InsideMargin = 14\n",
    "LengthThreshold = 14\n",
    "SmallInsideEdges = [edge for edge in graph.edges if\n",
    "                   (graph.degree(edge[0]) == 1 or graph.degree(edge[1]) == 1) and\n",
    "                   (graph.edges[edge]['edge_length'] < LengthThreshold) and\n",
    "\n",
    "                   ((graph.degree(edge[0]) == 1 and distance_transform[*edge[0]]>InsideMargin) or\n",
    "                    (graph.degree(edge[1]) == 1 and distance_transform[*edge[1]]>InsideMargin))\n",
    "                ]\n",
    "\n",
    "print(f\"len(SmallInsideEdges) = {len(SmallInsideEdges)}\")\n",
    "\n",
    "# Create lines for edges\n",
    "for edge in graph.edges:\n",
    "    src, tgt = edge\n",
    "    x = [src[0], tgt[0]]\n",
    "    y = [src[1], tgt[1]]\n",
    "    z = [src[2], tgt[2]]\n",
    "    mlab.plot3d(x, y, z, tube_radius=0.2,\n",
    "                color=(1, 0, 0) if edge in SmallInsideEdges else (0.2, 0.2, 0.2),#(0.2, 0.2, 0.2),\n",
    "                opacity=0.7)\n",
    "\n",
    "# Create contour for the 3D object\n",
    "mlab.contour3d(atree, contours=[0.5], opacity=0.2, color=(0, 151/255, 206/255))\n",
    "\n",
    "winsound.Beep(frequency, duration)\n",
    "mlab.show()"
   ]
  },
  {
   "cell_type": "code",
   "execution_count": 198,
   "metadata": {},
   "outputs": [],
   "source": [
    "##-21-2 Keep another copy of the graph:\n",
    "\n",
    "graphintact2 = copy.deepcopy(graph)\n",
    "skeletonintact2 = copy.deepcopy(skeleton)\n",
    "\n",
    "#RR To refresh your graph once it's messed below, come back to this:\n",
    "# graph = copy.deepcopy(graphintact2)\n",
    "# skeleton = copy.deepcopy(skeletonintact2)"
   ]
  },
  {
   "cell_type": "code",
   "execution_count": 199,
   "metadata": {},
   "outputs": [],
   "source": [
    "##-22 Function: Traverse edge and calculate average diameter function, given endpoint indices and skeleton *\n",
    "\n",
    "import numpy as np\n",
    "import copy\n",
    "import random\n",
    "import time\n",
    "\n",
    "def traverse_edge_and_average(skeletonn, edt, index1, index2, EdgeNum): # edt: eucledean distance transform\n",
    "\n",
    "    global verbose\n",
    "    global StartTime\n",
    "    \n",
    "    # normalize_vector = lambda vec: vec / np.linalg.norm(vec)\n",
    "    if verbose: print(f\"Trying to go from {index1} to {index2}\")\n",
    "\n",
    "    # Define the neighborhood offsets for 3D traversal (26-connected)\n",
    "    neighbors = [(i, j, k) for i in range(-1, 2) for j in range(-1, 2) for k in range(-1, 2)]\n",
    "    neighbors.remove((0,0,0))\n",
    "    \n",
    "    average_diameter = None\n",
    "    timestried = 0\n",
    "    while average_diameter == None and timestried < 2000:\n",
    "\n",
    "        # Initialize variables to store diameter values and count\n",
    "        if verbose: print(f\"Attempt {timestried+1}: \", end='')\n",
    "        skeletonnn = copy.deepcopy(skeletonn)\n",
    "        diameter_sum = 0.0\n",
    "        count = 0\n",
    "\n",
    "        # Start traversal at index1\n",
    "        current_index = index1\n",
    "        visitedvoxels = []\n",
    "\n",
    "        while current_index != index2:\n",
    "\n",
    "            # print(\"current_index:\", current_index) # Great for debugging\n",
    "\n",
    "            if current_index == None: break\n",
    "            visitedvoxels.append(current_index)\n",
    "\n",
    "            # Get the current voxel's coordinates\n",
    "            x, y, z = current_index\n",
    "\n",
    "            # Check if the current voxel is within the skeleton and within bounds\n",
    "            if 0 <= x < skeletonnn.shape[0] and 0 <= y < skeletonnn.shape[1] and 0 <= z < skeletonnn.shape[2]:\n",
    "                if skeletonnn[x, y, z] != 0:\n",
    "                    # If the current voxel is part of the skeleton, add its diameter to the sum\n",
    "                    diameter_sum += edt[x, y, z]\n",
    "                    count += 1\n",
    "\n",
    "                    # Mark the current voxel as visited (you can set it to 0 if necessary)\n",
    "                    skeletonnn[x, y, z] = 0  # Uncomment this line if you want to mark visited voxels\n",
    "                    \n",
    "                    max_alignment = float('-inf')\n",
    "                    next_index = None\n",
    "\n",
    "\n",
    "                    ## Logic to choose next voxel:\n",
    "\n",
    "                    # Logic-1: Deterministic:\n",
    "                    # for neighbor_offset in neighbors:\n",
    "                    #     nx, ny, nz = x + neighbor_offset[0], y + neighbor_offset[1], z + neighbor_offset[2]\n",
    "\n",
    "                    #     strghtdirectiont = tuple(np.array(index2) - np.array(current_index))\n",
    "                    #     strghtdirectionu = normalize_vector(strghtdirectiont)\n",
    "                    #     neighbor_offsetu = normalize_vector(neighbor_offset )\n",
    "                    #     currentalignment = np.dot(neighbor_offsetu, strghtdirectionu)\n",
    "                        \n",
    "                    #     if 0 <= nx < skeletonn.shape[0] and 0 <= ny < skeletonn.shape[1] and 0 <= nz < skeletonn.shape[2]:\n",
    "                    #         if skeletonn[nx, ny, nz] != 0 and currentalignment > max_alignment:\n",
    "                    #             max_alignment = currentalignment\n",
    "                    #             next_index = (nx, ny, nz)\n",
    "\n",
    "                    # Logic-2: Random walk:\n",
    "                    while True:\n",
    "                        if not any([skeletonnn[*tuple(np.array(current_index)+np.array(neigh))] for neigh in neighbors]): break\n",
    "                        neighbor_offset = random.choice(neighbors)\n",
    "                        nnx, nny, nnz = x + neighbor_offset[0], y + neighbor_offset[1], z + neighbor_offset[2]\n",
    "                        if 0 <= nnx < skeletonnn.shape[0] and 0 <= nny < skeletonnn.shape[1] and 0 <= nnz < skeletonnn.shape[2]:\n",
    "                            if skeletonnn[nnx, nny, nnz] != 0:\n",
    "                                next_index = (nnx, nny, nnz)\n",
    "                                break\n",
    "\n",
    "\n",
    "                    # Update the current index to the next voxel in the skeleton\n",
    "                    current_index = next_index\n",
    "                else:\n",
    "                    # If the current voxel is not part of the skeleton, stop the traversal\n",
    "                    break\n",
    "            else:\n",
    "                # If the current index is out of bounds, stop the traversal\n",
    "                break\n",
    "        \n",
    "        if current_index != index2:\n",
    "            if verbose: print(f\"Error! Couldn't get from {index1} to {index2}! Returned None.\")\n",
    "            pass\n",
    "\n",
    "        # Set the output\n",
    "        if count > 0 and current_index == index2:\n",
    "            average_diameter = diameter_sum / count\n",
    "\n",
    "        del skeletonnn\n",
    "        timestried += 1\n",
    "\n",
    "    if current_index == index2:\n",
    "        if verbose: print(f\"\\nDone. Got to {index2}\\n\")\n",
    "        pass\n",
    "\n",
    "    num_edges = nx.number_of_edges(graph)\n",
    "\n",
    "    try:\n",
    "        # Your statement or code that might raise an error goes here\n",
    "        print(f\"Edge #{EdgeNum:3}/{num_edges}; AvgDiam: {average_diameter:010.7f}; TimeElapsed: {(time.time() - StartTime):07.2f}\" + (\"\\n\" if verbose else \"\"))\n",
    "    except Exception as e:\n",
    "        # This block will execute if an error occurs\n",
    "        winsound.Beep(4000, 300)    \n",
    "    # print(f\"Edge #{EdgeNum:3}/{num_edges}; AvgDiam: {average_diameter:010.7f}; TimeElapsed: {(time.time() - StartTime):07.2f}\" + (\"\\n\" if verbose else \"\"))\n",
    "\n",
    "    return average_diameter, visitedvoxels"
   ]
  },
  {
   "cell_type": "code",
   "execution_count": 200,
   "metadata": {},
   "outputs": [
    {
     "name": "stdout",
     "output_type": "stream",
     "text": [
      "Removed small edges inside the volume/ near the root.\n",
      "Removed skeleton voxels corresponding to small edges inside the volume/ near the root.\n"
     ]
    }
   ],
   "source": [
    "##-21-3 Given 'graph': Find and remove all edges in SmallInsideEdges: Changes the graph:\n",
    "# All terminal edges smaller than LengthThreshold and deeper than InsideMargin\n",
    "\n",
    "StartTime = time.time()\n",
    "\n",
    "visitedvoxelstot = []\n",
    "\n",
    "for indxe, edge in enumerate(SmallInsideEdges):\n",
    "\n",
    "    node1, node2 = edge\n",
    "\n",
    "    Node1IsOrWasDegree1 = graph.degree(node1)==1\n",
    "    \n",
    "    if graph.degree(node1)==1: graph.remove_node(node1)\n",
    "    if graph.degree(node2)==1: graph.remove_node(node2)\n",
    "\n",
    "    TheDegree1Node = node1 if Node1IsOrWasDegree1 else node2\n",
    "    NodeOnMainstem = node2 if Node1IsOrWasDegree1 else node1\n",
    "\n",
    "    # print(f\"Trying to remove from skeleton: {TheDegree1Node}->{NodeOnMainstem}\")\n",
    "\n",
    "    # skeletonn = copy.deepcopy(skeleton)\n",
    "    # avgdiam, visitedvoxels = traverse_edge_and_average(skeletonn, distance_transform, TheDegree1Node, NodeOnMainstem, 5)\n",
    "    # visitedvoxelstot.append(visitedvoxels)\n",
    "    # del skeletonn\n",
    "\n",
    "    # print(indxe)\n",
    "    # print(\"visitedvoxels:\", visitedvoxels)\n",
    "    # print()\n",
    "\n",
    "# for vxt in visitedvoxelstot:\n",
    "#     if len(vxt)>1:\n",
    "#         for vx in vxt:\n",
    "#             skeleton[*vx] = 0\n",
    "#             print(f\"deleted voxel: {vx}\")\n",
    "\n",
    "RemoveAndReconnectDegree2Nodes(graph)\n",
    "UpdateEdgeLengths(graph)\n",
    "\n",
    "print(\"Removed small edges inside the volume/ near the root.\")\n",
    "print(\"Removed skeleton voxels corresponding to small edges inside the volume/ near the root.\")"
   ]
  },
  {
   "cell_type": "code",
   "execution_count": 201,
   "metadata": {},
   "outputs": [
    {
     "name": "stdout",
     "output_type": "stream",
     "text": [
      "Automatically found root: (401, 113, 290)\n"
     ]
    }
   ],
   "source": [
    "#21-4 Automatically find the root:\n",
    "\n",
    "leaf_nodes = [node for node, degree in graph.degree if degree == 1]\n",
    "MaxDistance = -10\n",
    "root = []\n",
    "for node in leaf_nodes:\n",
    "    if distance_transform[node]>MaxDistance:\n",
    "        root = node\n",
    "        MaxDistance = distance_transform[node]\n",
    "print(\"Automatically found root:\", root)\n"
   ]
  },
  {
   "cell_type": "code",
   "execution_count": 202,
   "metadata": {},
   "outputs": [],
   "source": [
    "#21-5 Visualize: Verify the root is found correct:\n",
    "\n",
    "# size=[6 if node in leaf_nodes else 2 for node in graph.nodes()],\n",
    "# color=['black' if node in leaf_nodes else 'grey' for node in graph.nodes()], # 'grey',\n",
    "# line=dict(color='rgba(255, 0, 0, 0.6)' if SpecialCondition else 'rgba(128, 128, 128, 0.6)',\n",
    "#             width=6 if SpecialCondition else 2),\n",
    "\n",
    "fig = mlab.figure(size=(2500, 1400), bgcolor=(1, 1, 1))\n",
    "\n",
    "x, y, z = zip(*graph.nodes)\n",
    "mlab.points3d(x, y, z,\n",
    "              scale_factor=2,\n",
    "              color=(0.2, 0.2, 0.2), # ['red' if node == root else 'grey' for node in graph.nodes()]\n",
    "              opacity=0.7) # color=(1, 0, 0)\n",
    "\n",
    "#  Add the new node with a different scale_factor and color\n",
    "mlab.points3d(root[0], root[1], root[2],\n",
    "              scale_factor=14,  # Adjust the scale factor as needed\n",
    "              color=(1, 0, 0),  # Change color as desired (e.g., red)\n",
    "              opacity=0.7)\n",
    "\n",
    "# Create lines for edges\n",
    "# for edge in graph.edges:\n",
    "#     src, tgt = edge\n",
    "#     x = [src[0], tgt[0]]\n",
    "#     y = [src[1], tgt[1]]\n",
    "#     z = [src[2], tgt[2]]\n",
    "#     mlab.plot3d(x, y, z, tube_radius=0.2,\n",
    "#                 color=(1, 0, 0) if edge in SmallInsideEdges else (0.2, 0.2, 0.2),#(0.2, 0.2, 0.2),\n",
    "#                 opacity=0.7)\n",
    "\n",
    "# Create contour for the 3D object\n",
    "mlab.contour3d(atree, contours=[0.5], opacity=0.2, color=(0, 151/255, 206/255))\n",
    "\n",
    "winsound.Beep(frequency, duration)\n",
    "mlab.show()"
   ]
  },
  {
   "cell_type": "code",
   "execution_count": null,
   "metadata": {},
   "outputs": [],
   "source": [
    "# #23-2 Only test: traverse_edge_and_average for two points:\n",
    "\n",
    "# index1 = (423, 232, 374)\n",
    "# index2 = (412, 245, 380)\n",
    "\n",
    "# skeletonn = copy.deepcopy(skeleton)\n",
    "# avgdiam, visitedvoxels = traverse_edge_and_average(skeletonn, distance_transform, index1, index2, 5)\n",
    "# del skeletonn\n",
    "\n",
    "# if avgdiam is not None:\n",
    "#     print(f\"Average Diameter between {index1} and {index2}: {avgdiam:.2f}\")\n",
    "# else:\n",
    "#     print(\"No skeleton found between the specified indices.\")"
   ]
  },
  {
   "cell_type": "code",
   "execution_count": null,
   "metadata": {},
   "outputs": [],
   "source": [
    "# #23-3 Test: Use mayavi to visualize the intended start and end points, plus the taken route, from the above test cell:\n",
    "\n",
    "# import mayavi.mlab as mlab\n",
    "# import numpy as np\n",
    "\n",
    "# # Create a figure\n",
    "# fig = mlab.figure(size=(800, 800), bgcolor=(1, 1, 1))\n",
    "\n",
    "# # Plot the skeleton in blue (0 values will be transparent)\n",
    "# mlab.contour3d(skeleton, color=(0, 0, 1), opacity=0.4)\n",
    "\n",
    "# # Highlight the visited voxels in red\n",
    "# for voxel in visitedvoxels:\n",
    "#     # print(voxel)\n",
    "#     x, y, z = voxel\n",
    "#     mlab.points3d(x, y, z, color=(1, 0, 0), scale_factor=1.0) # , mode='sphere'\n",
    "\n",
    "# for voxel in [index1, index2]:\n",
    "#     # print(voxel)\n",
    "#     x, y, z = voxel\n",
    "#     mlab.points3d(x, y, z, color=(1, 0, 0), scale_factor=4.0) # , mode='sphere'\n",
    "\n",
    "# # Customize the view and axes as needed\n",
    "# mlab.view(azimuth=45, elevation=45, distance=20)\n",
    "# # mlab.axes()\n",
    "\n",
    "# # Show the visualization\n",
    "# mlab.show()"
   ]
  },
  {
   "cell_type": "code",
   "execution_count": 203,
   "metadata": {},
   "outputs": [
    {
     "name": "stdout",
     "output_type": "stream",
     "text": [
      "Edge #  1/314; AvgDiam: 32.5458623; TimeElapsed: 0000.78\n",
      "Edge #  2/314; AvgDiam: 27.1211541; TimeElapsed: 0006.11\n",
      "Edge #  3/314; AvgDiam: 21.4517579; TimeElapsed: 0006.49\n",
      "Edge #  4/314; AvgDiam: 09.3541901; TimeElapsed: 0007.21\n",
      "Edge #  5/314; AvgDiam: 07.5566308; TimeElapsed: 0007.52\n",
      "Edge #  6/314; AvgDiam: 03.0345773; TimeElapsed: 0008.86\n",
      "Edge #  7/314; AvgDiam: 06.2253345; TimeElapsed: 0009.90\n",
      "Edge #  8/314; AvgDiam: 02.7828646; TimeElapsed: 0012.36\n",
      "Edge #  9/314; AvgDiam: 06.3053599; TimeElapsed: 0012.74\n",
      "Edge # 10/314; AvgDiam: 03.4103578; TimeElapsed: 0013.72\n",
      "Edge # 11/314; AvgDiam: 02.4466712; TimeElapsed: 0015.02\n",
      "Edge # 12/314; AvgDiam: 02.6203446; TimeElapsed: 0015.35\n",
      "Edge # 13/314; AvgDiam: 05.9475908; TimeElapsed: 0018.47\n",
      "Edge # 14/314; AvgDiam: 04.1342465; TimeElapsed: 0019.08\n",
      "Edge # 15/314; AvgDiam: 02.4090673; TimeElapsed: 0020.90\n",
      "Edge # 16/314; AvgDiam: 02.9032658; TimeElapsed: 0021.53\n",
      "Edge # 17/314; AvgDiam: 02.4512483; TimeElapsed: 0021.91\n",
      "Edge # 18/314; AvgDiam: 01.7237357; TimeElapsed: 0022.12\n",
      "Edge # 19/314; AvgDiam: 02.4375132; TimeElapsed: 0022.89\n",
      "Edge # 20/314; AvgDiam: 02.2087764; TimeElapsed: 0024.66\n",
      "Edge # 21/314; AvgDiam: 05.1518483; TimeElapsed: 0024.89\n",
      "Edge # 22/314; AvgDiam: 02.7638845; TimeElapsed: 0027.11\n",
      "Edge # 23/314; AvgDiam: 03.1633337; TimeElapsed: 0028.98\n",
      "Edge # 24/314; AvgDiam: 02.7219030; TimeElapsed: 0029.90\n",
      "Edge # 25/314; AvgDiam: 02.2360680; TimeElapsed: 0030.56\n",
      "Edge # 26/314; AvgDiam: 02.3479444; TimeElapsed: 0031.47\n",
      "Edge # 27/314; AvgDiam: 02.5588058; TimeElapsed: 0032.13\n",
      "Edge # 28/314; AvgDiam: 04.6999256; TimeElapsed: 0032.90\n",
      "Edge # 29/314; AvgDiam: 02.8641514; TimeElapsed: 0033.42\n",
      "Edge # 30/314; AvgDiam: 03.4128009; TimeElapsed: 0034.15\n",
      "Edge # 31/314; AvgDiam: 01.7745114; TimeElapsed: 0035.11\n",
      "Edge # 32/314; AvgDiam: 02.0699273; TimeElapsed: 0035.33\n",
      "Edge # 33/314; AvgDiam: 03.3827634; TimeElapsed: 0041.34\n",
      "Edge # 34/314; AvgDiam: 23.5804854; TimeElapsed: 0048.37\n",
      "Edge # 35/314; AvgDiam: 15.3599298; TimeElapsed: 0048.68\n",
      "Edge # 36/314; AvgDiam: 06.5197487; TimeElapsed: 0048.98\n",
      "Edge # 37/314; AvgDiam: 02.3391766; TimeElapsed: 0050.19\n",
      "Edge # 38/314; AvgDiam: 04.9917604; TimeElapsed: 0051.98\n",
      "Edge # 39/314; AvgDiam: 04.0615528; TimeElapsed: 0052.18\n",
      "Edge # 40/314; AvgDiam: 03.0466467; TimeElapsed: 0052.76\n",
      "Edge # 41/314; AvgDiam: 03.4764308; TimeElapsed: 0053.65\n",
      "Edge # 42/314; AvgDiam: 03.2394512; TimeElapsed: 0053.85\n",
      "Edge # 43/314; AvgDiam: 02.3765896; TimeElapsed: 0054.28\n",
      "Edge # 44/314; AvgDiam: 02.3059857; TimeElapsed: 0055.72\n",
      "Edge # 45/314; AvgDiam: 02.2056316; TimeElapsed: 0056.18\n",
      "Edge # 46/314; AvgDiam: 02.9782240; TimeElapsed: 0056.55\n",
      "Edge # 47/314; AvgDiam: 02.5990693; TimeElapsed: 0057.25\n",
      "Edge # 48/314; AvgDiam: 02.5301739; TimeElapsed: 0057.62\n",
      "Edge # 49/314; AvgDiam: 06.0734148; TimeElapsed: 0058.02\n",
      "Edge # 50/314; AvgDiam: 05.4089106; TimeElapsed: 0059.70\n",
      "Edge # 51/314; AvgDiam: 02.5401698; TimeElapsed: 0060.78\n",
      "Edge # 52/314; AvgDiam: 04.4702580; TimeElapsed: 0063.29\n",
      "Edge # 53/314; AvgDiam: 02.7425595; TimeElapsed: 0064.18\n",
      "Edge # 54/314; AvgDiam: 03.3995050; TimeElapsed: 0064.53\n",
      "Edge # 55/314; AvgDiam: 03.3571239; TimeElapsed: 0066.40\n",
      "Edge # 56/314; AvgDiam: 02.5749319; TimeElapsed: 0067.30\n",
      "Edge # 57/314; AvgDiam: 02.5704793; TimeElapsed: 0068.17\n",
      "Edge # 58/314; AvgDiam: 19.0319303; TimeElapsed: 0068.39\n",
      "Edge # 59/314; AvgDiam: 12.0633119; TimeElapsed: 0069.13\n",
      "Edge # 60/314; AvgDiam: 04.4864914; TimeElapsed: 0070.59\n",
      "Edge # 61/314; AvgDiam: 02.3684836; TimeElapsed: 0070.88\n",
      "Edge # 62/314; AvgDiam: 03.1173426; TimeElapsed: 0071.68\n",
      "Edge # 63/314; AvgDiam: 06.1457749; TimeElapsed: 0072.20\n",
      "Edge # 64/314; AvgDiam: 03.8383211; TimeElapsed: 0073.42\n",
      "Edge # 65/314; AvgDiam: 02.4859452; TimeElapsed: 0075.22\n",
      "Edge # 66/314; AvgDiam: 02.8649329; TimeElapsed: 0075.45\n",
      "Edge # 67/314; AvgDiam: 05.9015873; TimeElapsed: 0076.12\n",
      "Edge # 68/314; AvgDiam: 03.5262773; TimeElapsed: 0077.83\n",
      "Edge # 69/314; AvgDiam: 03.7552005; TimeElapsed: 0078.91\n",
      "Edge # 70/314; AvgDiam: 18.0062866; TimeElapsed: 0079.10\n",
      "Edge # 71/314; AvgDiam: 12.4391496; TimeElapsed: 0079.34\n",
      "Edge # 72/314; AvgDiam: 10.1095052; TimeElapsed: 0080.06\n",
      "Edge # 73/314; AvgDiam: 02.9338592; TimeElapsed: 0080.76\n",
      "Edge # 74/314; AvgDiam: 09.7521735; TimeElapsed: 0081.00\n",
      "Edge # 75/314; AvgDiam: 09.5647698; TimeElapsed: 0082.19\n",
      "Edge # 76/314; AvgDiam: 03.2963742; TimeElapsed: 0082.56\n",
      "Edge # 77/314; AvgDiam: 09.5427783; TimeElapsed: 0082.88\n",
      "Edge # 78/314; AvgDiam: 06.5128772; TimeElapsed: 0084.39\n",
      "Edge # 79/314; AvgDiam: 03.0884302; TimeElapsed: 0085.59\n",
      "Edge # 80/314; AvgDiam: 02.3344218; TimeElapsed: 0087.11\n",
      "Edge # 81/314; AvgDiam: 01.8466294; TimeElapsed: 0087.35\n",
      "Edge # 82/314; AvgDiam: 04.3466366; TimeElapsed: 0087.72\n",
      "Edge # 83/314; AvgDiam: 03.1317897; TimeElapsed: 0088.59\n",
      "Edge # 84/314; AvgDiam: 02.5120243; TimeElapsed: 0091.66\n",
      "Edge # 85/314; AvgDiam: 02.7782626; TimeElapsed: 0092.93\n",
      "Edge # 86/314; AvgDiam: 04.0000000; TimeElapsed: 0093.72\n",
      "Edge # 87/314; AvgDiam: 02.6369799; TimeElapsed: 0095.23\n",
      "Edge # 88/314; AvgDiam: 02.8284271; TimeElapsed: 0096.05\n",
      "Edge # 89/314; AvgDiam: 01.8627461; TimeElapsed: 0096.38\n",
      "Edge # 90/314; AvgDiam: 02.8100146; TimeElapsed: 0096.63\n",
      "Edge # 91/314; AvgDiam: 08.3598925; TimeElapsed: 0096.92\n",
      "Edge # 92/314; AvgDiam: 05.8112615; TimeElapsed: 0097.11\n",
      "Edge # 93/314; AvgDiam: 05.0259934; TimeElapsed: 0099.08\n",
      "Edge # 94/314; AvgDiam: 03.4942595; TimeElapsed: 0099.30\n",
      "Edge # 95/314; AvgDiam: 03.0419849; TimeElapsed: 0100.24\n",
      "Edge # 96/314; AvgDiam: 02.8919340; TimeElapsed: 0100.66\n",
      "Edge # 97/314; AvgDiam: 03.0000000; TimeElapsed: 0100.87\n",
      "Edge # 98/314; AvgDiam: 02.4532731; TimeElapsed: 0101.65\n",
      "Edge # 99/314; AvgDiam: 03.1494108; TimeElapsed: 0103.85\n",
      "Edge #100/314; AvgDiam: 02.4819465; TimeElapsed: 0104.15\n",
      "Edge #101/314; AvgDiam: 02.5173978; TimeElapsed: 0105.27\n",
      "Edge #102/314; AvgDiam: 04.1493061; TimeElapsed: 0108.50\n",
      "Edge #103/314; AvgDiam: 02.9951437; TimeElapsed: 0109.70\n",
      "Edge #104/314; AvgDiam: 02.6927152; TimeElapsed: 0109.98\n",
      "Edge #105/314; AvgDiam: 04.4991565; TimeElapsed: 0115.07\n",
      "Edge #106/314; AvgDiam: 03.4794209; TimeElapsed: 0116.51\n",
      "Edge #107/314; AvgDiam: 02.4492910; TimeElapsed: 0116.85\n",
      "Edge #108/314; AvgDiam: 06.3029248; TimeElapsed: 0118.31\n",
      "Edge #109/314; AvgDiam: 03.1820816; TimeElapsed: 0120.10\n",
      "Edge #110/314; AvgDiam: 03.4613254; TimeElapsed: 0120.46\n",
      "Edge #111/314; AvgDiam: 02.5841149; TimeElapsed: 0120.69\n",
      "Edge #112/314; AvgDiam: 02.4237284; TimeElapsed: 0121.00\n",
      "Edge #113/314; AvgDiam: 07.0416514; TimeElapsed: 0123.47\n",
      "Edge #114/314; AvgDiam: 04.8224465; TimeElapsed: 0124.86\n",
      "Edge #115/314; AvgDiam: 03.4057581; TimeElapsed: 0127.66\n",
      "Edge #116/314; AvgDiam: 02.3260648; TimeElapsed: 0130.08\n",
      "Edge #117/314; AvgDiam: 02.6151065; TimeElapsed: 0130.87\n",
      "Edge #118/314; AvgDiam: 02.4138951; TimeElapsed: 0131.31\n",
      "Edge #119/314; AvgDiam: 05.2309379; TimeElapsed: 0133.21\n",
      "Edge #120/314; AvgDiam: 02.5269156; TimeElapsed: 0134.11\n",
      "Edge #121/314; AvgDiam: 03.1355328; TimeElapsed: 0135.21\n",
      "Edge #122/314; AvgDiam: 11.8637180; TimeElapsed: 0136.90\n",
      "Edge #123/314; AvgDiam: 09.1637354; TimeElapsed: 0137.15\n",
      "Edge #124/314; AvgDiam: 05.7690082; TimeElapsed: 0137.46\n",
      "Edge #125/314; AvgDiam: 03.2210623; TimeElapsed: 0138.67\n",
      "Edge #126/314; AvgDiam: 04.6229744; TimeElapsed: 0139.46\n",
      "Edge #127/314; AvgDiam: 03.8047426; TimeElapsed: 0139.75\n",
      "Edge #128/314; AvgDiam: 04.0391634; TimeElapsed: 0139.95\n",
      "Edge #129/314; AvgDiam: 06.5495811; TimeElapsed: 0140.25\n",
      "Edge #130/314; AvgDiam: 02.8274867; TimeElapsed: 0141.07\n",
      "Edge #131/314; AvgDiam: 06.2097314; TimeElapsed: 0144.76\n",
      "Edge #132/314; AvgDiam: 04.8735134; TimeElapsed: 0145.11\n",
      "Edge #133/314; AvgDiam: 03.1082738; TimeElapsed: 0146.21\n",
      "Edge #134/314; AvgDiam: 02.6719022; TimeElapsed: 0146.96\n",
      "Edge #135/314; AvgDiam: 04.0027624; TimeElapsed: 0147.23\n",
      "Edge #136/314; AvgDiam: 02.0995032; TimeElapsed: 0149.00\n",
      "Edge #137/314; AvgDiam: 02.2813753; TimeElapsed: 0152.34\n",
      "Edge #138/314; AvgDiam: 06.3574723; TimeElapsed: 0152.90\n",
      "Edge #139/314; AvgDiam: 03.5786807; TimeElapsed: 0154.04\n",
      "Edge #140/314; AvgDiam: 02.2252657; TimeElapsed: 0155.43\n",
      "Edge #141/314; AvgDiam: 02.4616491; TimeElapsed: 0155.99\n",
      "Edge #142/314; AvgDiam: 03.4123736; TimeElapsed: 0157.49\n",
      "Edge #143/314; AvgDiam: 22.9238429; TimeElapsed: 0158.94\n",
      "Edge #144/314; AvgDiam: 12.0035223; TimeElapsed: 0159.57\n",
      "Edge #145/314; AvgDiam: 07.4224125; TimeElapsed: 0162.09\n",
      "Edge #146/314; AvgDiam: 06.0140575; TimeElapsed: 0162.44\n",
      "Edge #147/314; AvgDiam: 03.7758965; TimeElapsed: 0162.88\n",
      "Edge #148/314; AvgDiam: 02.2650911; TimeElapsed: 0163.97\n",
      "Edge #149/314; AvgDiam: 02.1815240; TimeElapsed: 0165.00\n",
      "Edge #150/314; AvgDiam: 04.9059217; TimeElapsed: 0165.73\n",
      "Edge #151/314; AvgDiam: 02.7886845; TimeElapsed: 0166.91\n",
      "Edge #152/314; AvgDiam: 03.8410050; TimeElapsed: 0169.63\n",
      "Edge #153/314; AvgDiam: 02.4110094; TimeElapsed: 0170.06\n",
      "Edge #154/314; AvgDiam: 01.9430949; TimeElapsed: 0171.42\n",
      "Edge #155/314; AvgDiam: 01.4871763; TimeElapsed: 0175.56\n",
      "Edge #156/314; AvgDiam: 02.7626164; TimeElapsed: 0175.97\n",
      "Edge #157/314; AvgDiam: 02.1476597; TimeElapsed: 0178.79\n",
      "Edge #158/314; AvgDiam: 01.7308351; TimeElapsed: 0179.89\n",
      "Edge #159/314; AvgDiam: 06.4533459; TimeElapsed: 0180.70\n",
      "Edge #160/314; AvgDiam: 05.4441123; TimeElapsed: 0180.97\n",
      "Edge #161/314; AvgDiam: 03.0627032; TimeElapsed: 0183.60\n",
      "Edge #162/314; AvgDiam: 01.9522165; TimeElapsed: 0184.44\n",
      "Edge #163/314; AvgDiam: 01.9102248; TimeElapsed: 0184.87\n",
      "Edge #164/314; AvgDiam: 01.7586479; TimeElapsed: 0185.13\n",
      "Edge #165/314; AvgDiam: 02.0113150; TimeElapsed: 0185.37\n",
      "Edge #166/314; AvgDiam: 04.9443812; TimeElapsed: 0185.60\n",
      "Edge #167/314; AvgDiam: 02.5941686; TimeElapsed: 0186.31\n",
      "Edge #168/314; AvgDiam: 03.5481259; TimeElapsed: 0187.47\n",
      "Edge #169/314; AvgDiam: 02.5651813; TimeElapsed: 0189.38\n",
      "Edge #170/314; AvgDiam: 02.9294389; TimeElapsed: 0189.60\n",
      "Edge #171/314; AvgDiam: 02.0027643; TimeElapsed: 0189.88\n",
      "Edge #172/314; AvgDiam: 02.8656845; TimeElapsed: 0190.41\n",
      "Edge #173/314; AvgDiam: 01.8611122; TimeElapsed: 0190.73\n",
      "Edge #174/314; AvgDiam: 01.8136406; TimeElapsed: 0191.03\n",
      "Edge #175/314; AvgDiam: 04.1002694; TimeElapsed: 0191.84\n",
      "Edge #176/314; AvgDiam: 02.4094460; TimeElapsed: 0192.17\n",
      "Edge #177/314; AvgDiam: 02.2421323; TimeElapsed: 0198.98\n",
      "Edge #178/314; AvgDiam: 01.6070850; TimeElapsed: 0199.28\n",
      "Edge #179/314; AvgDiam: 02.0240656; TimeElapsed: 0199.93\n",
      "Edge #180/314; AvgDiam: 07.3036961; TimeElapsed: 0202.70\n",
      "Edge #181/314; AvgDiam: 08.0388932; TimeElapsed: 0206.66\n",
      "Edge #182/314; AvgDiam: 04.0948794; TimeElapsed: 0208.05\n",
      "Edge #183/314; AvgDiam: 02.2419234; TimeElapsed: 0208.41\n",
      "Edge #184/314; AvgDiam: 03.6278950; TimeElapsed: 0210.06\n",
      "Edge #185/314; AvgDiam: 02.4295908; TimeElapsed: 0212.08\n",
      "Edge #186/314; AvgDiam: 02.7938505; TimeElapsed: 0214.04\n",
      "Edge #187/314; AvgDiam: 02.3000418; TimeElapsed: 0214.42\n",
      "Edge #188/314; AvgDiam: 02.1902146; TimeElapsed: 0214.81\n",
      "Edge #189/314; AvgDiam: 07.1163345; TimeElapsed: 0216.47\n",
      "Edge #190/314; AvgDiam: 03.0807211; TimeElapsed: 0217.26\n",
      "Edge #191/314; AvgDiam: 04.1691326; TimeElapsed: 0217.65\n",
      "Edge #192/314; AvgDiam: 03.5867141; TimeElapsed: 0218.92\n",
      "Edge #193/314; AvgDiam: 02.5735559; TimeElapsed: 0219.68\n",
      "Edge #194/314; AvgDiam: 02.7065149; TimeElapsed: 0220.04\n",
      "Edge #195/314; AvgDiam: 02.3506138; TimeElapsed: 0220.26\n",
      "Edge #196/314; AvgDiam: 02.1890709; TimeElapsed: 0221.01\n",
      "Edge #197/314; AvgDiam: 02.3709830; TimeElapsed: 0221.30\n",
      "Edge #198/314; AvgDiam: 05.1292443; TimeElapsed: 0225.22\n",
      "Edge #199/314; AvgDiam: 04.5191992; TimeElapsed: 0225.88\n",
      "Edge #200/314; AvgDiam: 02.7857104; TimeElapsed: 0226.18\n",
      "Edge #201/314; AvgDiam: 02.7230176; TimeElapsed: 0226.43\n",
      "Edge #202/314; AvgDiam: 02.5641579; TimeElapsed: 0226.77\n",
      "Edge #203/314; AvgDiam: 04.1586224; TimeElapsed: 0227.00\n",
      "Edge #204/314; AvgDiam: 03.6900252; TimeElapsed: 0227.29\n",
      "Edge #205/314; AvgDiam: 03.3687682; TimeElapsed: 0227.50\n",
      "Edge #206/314; AvgDiam: 02.4865965; TimeElapsed: 0229.10\n",
      "Edge #207/314; AvgDiam: 02.4502802; TimeElapsed: 0230.35\n",
      "Edge #208/314; AvgDiam: 02.1457077; TimeElapsed: 0230.69\n",
      "Edge #209/314; AvgDiam: 03.1857202; TimeElapsed: 0232.86\n",
      "Edge #210/314; AvgDiam: 02.1943965; TimeElapsed: 0233.55\n",
      "Edge #211/314; AvgDiam: 16.7561181; TimeElapsed: 0235.08\n",
      "Edge #212/314; AvgDiam: 09.2910155; TimeElapsed: 0236.24\n",
      "Edge #213/314; AvgDiam: 03.8237162; TimeElapsed: 0236.71\n",
      "Edge #214/314; AvgDiam: 02.6227755; TimeElapsed: 0237.19\n",
      "Edge #215/314; AvgDiam: 02.4046440; TimeElapsed: 0245.16\n",
      "Edge #216/314; AvgDiam: 06.3638419; TimeElapsed: 0245.38\n",
      "Edge #217/314; AvgDiam: 03.4068682; TimeElapsed: 0245.88\n",
      "Edge #218/314; AvgDiam: 05.4576426; TimeElapsed: 0246.67\n",
      "Edge #219/314; AvgDiam: 03.2466122; TimeElapsed: 0246.96\n",
      "Edge #220/314; AvgDiam: 05.2473701; TimeElapsed: 0247.17\n",
      "Edge #221/314; AvgDiam: 03.2422628; TimeElapsed: 0248.35\n",
      "Edge #222/314; AvgDiam: 02.2567578; TimeElapsed: 0250.25\n",
      "Edge #223/314; AvgDiam: 02.2824212; TimeElapsed: 0251.30\n",
      "Edge #224/314; AvgDiam: 03.1796564; TimeElapsed: 0251.85\n",
      "Edge #225/314; AvgDiam: 02.3748264; TimeElapsed: 0252.56\n",
      "Edge #226/314; AvgDiam: 02.3835410; TimeElapsed: 0252.81\n",
      "Edge #227/314; AvgDiam: 14.4265409; TimeElapsed: 0254.94\n",
      "Edge #228/314; AvgDiam: 15.0822924; TimeElapsed: 0255.15\n",
      "Edge #229/314; AvgDiam: 05.9951615; TimeElapsed: 0255.99\n",
      "Edge #230/314; AvgDiam: 02.5198990; TimeElapsed: 0256.47\n",
      "Edge #231/314; AvgDiam: 05.0524673; TimeElapsed: 0259.64\n",
      "Edge #232/314; AvgDiam: 04.2394491; TimeElapsed: 0261.85\n",
      "Edge #233/314; AvgDiam: 03.8436755; TimeElapsed: 0262.18\n",
      "Edge #234/314; AvgDiam: 02.3755076; TimeElapsed: 0263.08\n",
      "Edge #235/314; AvgDiam: 01.6451502; TimeElapsed: 0263.38\n",
      "Edge #236/314; AvgDiam: 01.9347283; TimeElapsed: 0266.04\n",
      "Edge #237/314; AvgDiam: 01.8239633; TimeElapsed: 0269.12\n",
      "Edge #238/314; AvgDiam: 01.6099521; TimeElapsed: 0269.43\n",
      "Edge #239/314; AvgDiam: 02.7406355; TimeElapsed: 0269.81\n",
      "Edge #240/314; AvgDiam: 01.9550926; TimeElapsed: 0270.09\n",
      "Edge #241/314; AvgDiam: 01.5343521; TimeElapsed: 0271.07\n",
      "Edge #242/314; AvgDiam: 01.7437904; TimeElapsed: 0272.06\n",
      "Edge #243/314; AvgDiam: 01.6269169; TimeElapsed: 0272.68\n",
      "Edge #244/314; AvgDiam: 02.1180340; TimeElapsed: 0274.05\n",
      "Edge #245/314; AvgDiam: 01.4841293; TimeElapsed: 0274.26\n",
      "Edge #246/314; AvgDiam: 01.4956836; TimeElapsed: 0274.76\n",
      "Edge #247/314; AvgDiam: 02.0289108; TimeElapsed: 0276.25\n",
      "Edge #248/314; AvgDiam: 02.4266444; TimeElapsed: 0278.87\n",
      "Edge #249/314; AvgDiam: 03.1764700; TimeElapsed: 0280.28\n",
      "Edge #250/314; AvgDiam: 01.7442765; TimeElapsed: 0282.90\n",
      "Edge #251/314; AvgDiam: 02.4272830; TimeElapsed: 0283.69\n",
      "Edge #252/314; AvgDiam: 13.5533928; TimeElapsed: 0285.79\n",
      "Edge #253/314; AvgDiam: 10.8758433; TimeElapsed: 0286.01\n",
      "Edge #254/314; AvgDiam: 05.0468648; TimeElapsed: 0287.28\n",
      "Edge #255/314; AvgDiam: 02.2699856; TimeElapsed: 0287.75\n",
      "Edge #256/314; AvgDiam: 03.2378604; TimeElapsed: 0288.88\n",
      "Edge #257/314; AvgDiam: 06.4905954; TimeElapsed: 0289.15\n",
      "Edge #258/314; AvgDiam: 04.5513721; TimeElapsed: 0292.30\n",
      "Edge #259/314; AvgDiam: 03.6961803; TimeElapsed: 0293.11\n",
      "Edge #260/314; AvgDiam: 02.6973374; TimeElapsed: 0294.27\n",
      "Edge #261/314; AvgDiam: 03.2104377; TimeElapsed: 0295.13\n",
      "Edge #262/314; AvgDiam: 02.3132524; TimeElapsed: 0295.40\n",
      "Edge #263/314; AvgDiam: 02.4494897; TimeElapsed: 0296.52\n",
      "Edge #264/314; AvgDiam: 01.9626271; TimeElapsed: 0296.99\n",
      "Edge #265/314; AvgDiam: 01.7659590; TimeElapsed: 0297.20\n",
      "Edge #266/314; AvgDiam: 01.9768060; TimeElapsed: 0297.41\n",
      "Edge #267/314; AvgDiam: 02.1623242; TimeElapsed: 0297.73\n",
      "Edge #268/314; AvgDiam: 02.3486582; TimeElapsed: 0298.14\n",
      "Edge #269/314; AvgDiam: 03.5116190; TimeElapsed: 0300.01\n",
      "Edge #270/314; AvgDiam: 01.9929417; TimeElapsed: 0302.00\n",
      "Edge #271/314; AvgDiam: 01.8305891; TimeElapsed: 0303.19\n",
      "Edge #272/314; AvgDiam: 11.0961447; TimeElapsed: 0303.47\n",
      "Edge #273/314; AvgDiam: 08.7366947; TimeElapsed: 0304.40\n",
      "Edge #274/314; AvgDiam: 08.1160214; TimeElapsed: 0309.18\n",
      "Edge #275/314; AvgDiam: 03.5427198; TimeElapsed: 0311.70\n",
      "Edge #276/314; AvgDiam: 07.2663717; TimeElapsed: 0311.93\n",
      "Edge #277/314; AvgDiam: 05.1825312; TimeElapsed: 0313.80\n",
      "Edge #278/314; AvgDiam: 02.8866329; TimeElapsed: 0314.42\n",
      "Edge #279/314; AvgDiam: 03.2234572; TimeElapsed: 0316.12\n",
      "Edge #280/314; AvgDiam: 03.0802988; TimeElapsed: 0317.57\n",
      "Edge #281/314; AvgDiam: 05.3631104; TimeElapsed: 0317.82\n",
      "Edge #282/314; AvgDiam: 05.4748378; TimeElapsed: 0318.76\n",
      "Edge #283/314; AvgDiam: 05.1451337; TimeElapsed: 0319.34\n",
      "Edge #284/314; AvgDiam: 02.9604646; TimeElapsed: 0319.90\n",
      "Edge #285/314; AvgDiam: 03.4757626; TimeElapsed: 0321.82\n",
      "Edge #286/314; AvgDiam: 02.1711251; TimeElapsed: 0323.52\n",
      "Edge #287/314; AvgDiam: 02.9570089; TimeElapsed: 0325.09\n",
      "Edge #288/314; AvgDiam: 03.8847421; TimeElapsed: 0327.25\n",
      "Edge #289/314; AvgDiam: 02.5067353; TimeElapsed: 0329.08\n",
      "Edge #290/314; AvgDiam: 02.4990912; TimeElapsed: 0329.44\n",
      "Edge #291/314; AvgDiam: 07.3587063; TimeElapsed: 0331.59\n",
      "Edge #292/314; AvgDiam: 05.6571753; TimeElapsed: 0332.35\n",
      "Edge #293/314; AvgDiam: 02.9271768; TimeElapsed: 0333.02\n",
      "Edge #294/314; AvgDiam: 03.0830582; TimeElapsed: 0334.13\n",
      "Edge #295/314; AvgDiam: 02.4558303; TimeElapsed: 0334.36\n",
      "Edge #296/314; AvgDiam: 02.4960244; TimeElapsed: 0335.37\n",
      "Edge #297/314; AvgDiam: 04.6125426; TimeElapsed: 0337.62\n",
      "Edge #298/314; AvgDiam: 02.4035824; TimeElapsed: 0338.04\n",
      "Edge #299/314; AvgDiam: 02.4221762; TimeElapsed: 0338.36\n",
      "Edge #300/314; AvgDiam: 10.3427724; TimeElapsed: 0340.36\n",
      "Edge #301/314; AvgDiam: 05.6736772; TimeElapsed: 0342.02\n",
      "Edge #302/314; AvgDiam: 02.9391988; TimeElapsed: 0342.45\n",
      "Edge #303/314; AvgDiam: 03.4801783; TimeElapsed: 0343.19\n",
      "Edge #304/314; AvgDiam: 03.3166248; TimeElapsed: 0343.95\n",
      "Edge #305/314; AvgDiam: 02.3640529; TimeElapsed: 0346.86\n",
      "Edge #306/314; AvgDiam: 06.2540934; TimeElapsed: 0347.11\n",
      "Edge #307/314; AvgDiam: 05.4154759; TimeElapsed: 0350.74\n",
      "Edge #308/314; AvgDiam: 02.6446768; TimeElapsed: 0351.23\n",
      "Edge #309/314; AvgDiam: 03.9468479; TimeElapsed: 0351.56\n",
      "Edge #310/314; AvgDiam: 02.3171806; TimeElapsed: 0351.95\n",
      "Edge #311/314; AvgDiam: 03.1744408; TimeElapsed: 0352.82\n",
      "Edge #312/314; AvgDiam: 03.0978083; TimeElapsed: 0357.77\n",
      "Edge #313/314; AvgDiam: 02.7352814; TimeElapsed: 0358.01\n",
      "Edge #314/314; AvgDiam: 01.9313463; TimeElapsed: 0358.86\n",
      "\n",
      "Done.\n"
     ]
    }
   ],
   "source": [
    "##-24 Main function calling the traverse function: $$$ root = () or Enter !!**\n",
    "# input_string = '(480, 196, 396)'\n",
    "\n",
    "# Fucntion: fully traverse the directed tree visiting all edges:\n",
    "def traverse_full_tree(digraph, current_node):\n",
    "    global EdgeNum\n",
    "    # Find and process the outgoing edges from the current node\n",
    "    for successor in digraph.successors(current_node):\n",
    "        # Run the FindDiameter function for the current edge\n",
    "        digraph[current_node][successor]['AvgDiameter'] = FindDiameter(current_node, successor, EdgeNum)\n",
    "        EdgeNum += 1\n",
    "        # Recursively traverse the tree from the successor node\n",
    "        traverse_full_tree(digraph, successor)\n",
    "\n",
    "def FindDiameter(node1, node2, EdgeNum):\n",
    "    # print(f\"Finding avg diameter btw nodes {node1} and {node2}\")\n",
    "    skeletonn = copy.deepcopy(skeleton)\n",
    "    avgdiam, visitedvoxels = traverse_edge_and_average(skeletonn, distance_transform, node1, node2, EdgeNum)\n",
    "    del skeletonn\n",
    "    return avgdiam\n",
    "\n",
    "# Main: Start the traversal from a specified root node:\n",
    "import time\n",
    "\n",
    "winsound.Beep(frequency, duration)\n",
    "user_input = input(\"If root was OK just press Enter; if not, enter the root: eg (100, 20, 18): [Cell-24>>Cell-16]: \")\n",
    "if user_input.strip() == \"\": # (436, 69, 207) for Case-53! # (480, 196 , 396) for Case-79\n",
    "    pass\n",
    "else:\n",
    "    root = eval(user_input)\n",
    "\n",
    "digraph = nx.dfs_tree(graph, source=root) # Create a directed graph starting from the specified root node\n",
    "StartTime = time.time()\n",
    "EdgeNum = 1\n",
    "traverse_full_tree(digraph, root)\n",
    "print('\\nDone.')\n",
    "\n",
    "# Example Error: Attempt 60: Error! Couldn't get from (477, 282, 383) to (466, 270, 425)! Returned None."
   ]
  },
  {
   "cell_type": "code",
   "execution_count": 204,
   "metadata": {},
   "outputs": [
    {
     "name": "stdout",
     "output_type": "stream",
     "text": [
      "Reality check: First 3 edges:\n",
      "\n",
      "Edge ((401, 113, 290) -> (381, 168, 330)):\n",
      "  AvgDiameter: 32.545862327124716\n",
      "\n",
      "Edge ((381, 168, 330) -> (419, 242, 362)):\n",
      "  AvgDiameter: 27.121154108483196\n",
      "\n",
      "Edge ((381, 168, 330) -> (287, 237, 318)):\n",
      "  AvgDiameter: 22.923842936288278\n",
      "\n"
     ]
    }
   ],
   "source": [
    "#25 Get the first three edges and their properties as a reality check:\n",
    "\n",
    "print(\"Reality check: First 3 edges:\\n\")\n",
    "first_three_edges = list(digraph.edges(data=True))[:3]\n",
    "# Iterate through the first three edges and print their properties\n",
    "for edge in first_three_edges:\n",
    "    source, target, attributes = edge\n",
    "    print(f\"Edge ({source} -> {target}):\")\n",
    "    for key, value in attributes.items():\n",
    "        print(f\"  {key}: {value}\")\n",
    "    print(\"\")"
   ]
  },
  {
   "cell_type": "code",
   "execution_count": 205,
   "metadata": {},
   "outputs": [
    {
     "name": "stdout",
     "output_type": "stream",
     "text": [
      "Edge: (401, 113, 290) -> (381, 168, 330), Order: 6\n",
      "Edge: (381, 168, 330) -> (419, 242, 362), Order: 5\n",
      "Edge: (381, 168, 330) -> (287, 237, 318), Order: 5\n",
      "Edge: (419, 242, 362) -> (446, 237, 370), Order: 3\n",
      "Edge: (419, 242, 362) -> (436, 261, 355), Order: 5\n",
      "Edge: (446, 237, 370) -> (468, 232, 361), Order: 3\n",
      "Edge: (446, 237, 370) -> (435, 246, 479), Order: 1\n",
      "Edge: (468, 232, 361) -> (489, 215, 361), Order: 3\n",
      "Edge: (468, 232, 361) -> (525, 221, 331), Order: 2\n",
      "Edge: (489, 215, 361) -> (443, 189, 403), Order: 1\n",
      "Edge: (489, 215, 361) -> (487, 198, 374), Order: 3\n",
      "Edge: (487, 198, 374) -> (479, 186, 352), Order: 1\n",
      "Edge: (487, 198, 374) -> (488, 196, 376), Order: 3\n",
      "Edge: (488, 196, 376) -> (475, 198, 424), Order: 2\n",
      "Edge: (488, 196, 376) -> (493, 185, 378), Order: 3\n",
      "Edge: (475, 198, 424) -> (463, 191, 425), Order: 1\n",
      "Edge: (475, 198, 424) -> (479, 198, 431), Order: 1\n",
      "Edge: (493, 185, 378) -> (485, 157, 360), Order: 2\n",
      "Edge: (493, 185, 378) -> (501, 186, 379), Order: 2\n",
      "Edge: (485, 157, 360) -> (441, 121, 357), Order: 1\n",
      "Edge: (485, 157, 360) -> (484, 132, 341), Order: 2\n",
      "Edge: (484, 132, 341) -> (474, 104, 315), Order: 2\n",
      "Edge: (484, 132, 341) -> (491, 123, 347), Order: 1\n",
      "Edge: (474, 104, 315) -> (465, 93, 310), Order: 1\n",
      "Edge: (474, 104, 315) -> (477, 101, 311), Order: 1\n",
      "Edge: (501, 186, 379) -> (517, 186, 419), Order: 1\n",
      "Edge: (501, 186, 379) -> (533, 175, 375), Order: 2\n",
      "Edge: (533, 175, 375) -> (543, 153, 371), Order: 2\n",
      "Edge: (533, 175, 375) -> (563, 185, 394), Order: 1\n",
      "Edge: (543, 153, 371) -> (542, 150, 372), Order: 1\n",
      "Edge: (543, 153, 371) -> (549, 153, 371), Order: 1\n",
      "Edge: (525, 221, 331) -> (540, 134, 314), Order: 1\n",
      "Edge: (525, 221, 331) -> (589, 210, 337), Order: 2\n",
      "Edge: (589, 210, 337) -> (605, 180, 340), Order: 1\n",
      "Edge: (589, 210, 337) -> (599, 221, 336), Order: 1\n",
      "Edge: (436, 261, 355) -> (451, 276, 368), Order: 4\n",
      "Edge: (436, 261, 355) -> (457, 284, 333), Order: 4\n",
      "Edge: (451, 276, 368) -> (462, 292, 394), Order: 3\n",
      "Edge: (451, 276, 368) -> (467, 282, 365), Order: 3\n",
      "Edge: (462, 292, 394) -> (453, 341, 396), Order: 1\n",
      "Edge: (462, 292, 394) -> (464, 298, 407), Order: 3\n",
      "Edge: (464, 298, 407) -> (464, 297, 409), Order: 2\n",
      "Edge: (464, 298, 407) -> (460, 351, 439), Order: 2\n",
      "Edge: (464, 297, 409) -> (457, 295, 427), Order: 1\n",
      "Edge: (464, 297, 409) -> (475, 328, 465), Order: 2\n",
      "Edge: (475, 328, 465) -> (476, 327, 467), Order: 2\n",
      "Edge: (475, 328, 465) -> (497, 358, 469), Order: 1\n",
      "Edge: (476, 327, 467) -> (473, 327, 495), Order: 1\n",
      "Edge: (476, 327, 467) -> (507, 321, 476), Order: 1\n",
      "Edge: (460, 351, 439) -> (458, 355, 446), Order: 1\n",
      "Edge: (460, 351, 439) -> (464, 359, 437), Order: 1\n",
      "Edge: (467, 282, 365) -> (490, 284, 353), Order: 2\n",
      "Edge: (467, 282, 365) -> (508, 355, 394), Order: 2\n",
      "Edge: (490, 284, 353) -> (564, 332, 367), Order: 1\n",
      "Edge: (490, 284, 353) -> (505, 312, 368), Order: 2\n",
      "Edge: (505, 312, 368) -> (517, 351, 371), Order: 1\n",
      "Edge: (505, 312, 368) -> (545, 318, 407), Order: 1\n",
      "Edge: (508, 355, 394) -> (507, 365, 396), Order: 1\n",
      "Edge: (508, 355, 394) -> (516, 358, 403), Order: 1\n",
      "Edge: (457, 284, 333) -> (465, 305, 332), Order: 3\n",
      "Edge: (457, 284, 333) -> (461, 284, 329), Order: 4\n",
      "Edge: (465, 305, 332) -> (448, 348, 322), Order: 2\n",
      "Edge: (465, 305, 332) -> (475, 317, 311), Order: 3\n",
      "Edge: (448, 348, 322) -> (433, 360, 342), Order: 1\n",
      "Edge: (448, 348, 322) -> (445, 389, 301), Order: 1\n",
      "Edge: (475, 317, 311) -> (458, 385, 232), Order: 2\n",
      "Edge: (475, 317, 311) -> (478, 320, 305), Order: 2\n",
      "Edge: (458, 385, 232) -> (462, 379, 221), Order: 1\n",
      "Edge: (458, 385, 232) -> (474, 392, 229), Order: 1\n",
      "Edge: (478, 320, 305) -> (515, 392, 319), Order: 1\n",
      "Edge: (478, 320, 305) -> (537, 366, 287), Order: 1\n",
      "Edge: (461, 284, 329) -> (463, 294, 305), Order: 4\n",
      "Edge: (461, 284, 329) -> (483, 268, 317), Order: 3\n",
      "Edge: (463, 294, 305) -> (474, 299, 277), Order: 4\n",
      "Edge: (463, 294, 305) -> (486, 273, 254), Order: 3\n",
      "Edge: (474, 299, 277) -> (430, 340, 257), Order: 1\n",
      "Edge: (474, 299, 277) -> (484, 307, 258), Order: 4\n",
      "Edge: (484, 307, 258) -> (480, 310, 249), Order: 4\n",
      "Edge: (484, 307, 258) -> (503, 319, 244), Order: 2\n",
      "Edge: (480, 310, 249) -> (456, 321, 216), Order: 1\n",
      "Edge: (480, 310, 249) -> (483, 320, 231), Order: 4\n",
      "Edge: (483, 320, 231) -> (469, 340, 211), Order: 3\n",
      "Edge: (483, 320, 231) -> (489, 326, 216), Order: 3\n",
      "Edge: (469, 340, 211) -> (480, 386, 156), Order: 2\n",
      "Edge: (469, 340, 211) -> (450, 342, 138), Order: 3\n",
      "Edge: (480, 386, 156) -> (469, 392, 135), Order: 1\n",
      "Edge: (480, 386, 156) -> (494, 388, 143), Order: 1\n",
      "Edge: (450, 342, 138) -> (448, 334, 113), Order: 2\n",
      "Edge: (450, 342, 138) -> (450, 343, 137), Order: 2\n",
      "Edge: (448, 334, 113) -> (448, 322, 101), Order: 1\n",
      "Edge: (448, 334, 113) -> (451, 352, 56), Order: 1\n",
      "Edge: (450, 343, 137) -> (449, 360, 107), Order: 2\n",
      "Edge: (450, 343, 137) -> (458, 357, 137), Order: 1\n",
      "Edge: (449, 360, 107) -> (448, 361, 106), Order: 1\n",
      "Edge: (449, 360, 107) -> (455, 373, 65), Order: 1\n",
      "Edge: (489, 326, 216) -> (490, 330, 213), Order: 3\n",
      "Edge: (489, 326, 216) -> (531, 323, 208), Order: 2\n",
      "Edge: (490, 330, 213) -> (486, 343, 166), Order: 3\n",
      "Edge: (490, 330, 213) -> (501, 354, 212), Order: 2\n",
      "Edge: (486, 343, 166) -> (492, 351, 156), Order: 2\n",
      "Edge: (486, 343, 166) -> (499, 341, 130), Order: 2\n",
      "Edge: (492, 351, 156) -> (504, 367, 155), Order: 1\n",
      "Edge: (492, 351, 156) -> (527, 376, 94), Order: 2\n",
      "Edge: (527, 376, 94) -> (526, 376, 93), Order: 1\n",
      "Edge: (527, 376, 94) -> (558, 374, 68), Order: 1\n",
      "Edge: (499, 341, 130) -> (494, 315, 113), Order: 1\n",
      "Edge: (499, 341, 130) -> (545, 336, 82), Order: 1\n",
      "Edge: (501, 354, 212) -> (496, 384, 202), Order: 1\n",
      "Edge: (501, 354, 212) -> (516, 377, 198), Order: 1\n",
      "Edge: (531, 323, 208) -> (578, 344, 119), Order: 1\n",
      "Edge: (531, 323, 208) -> (572, 359, 180), Order: 1\n",
      "Edge: (503, 319, 244) -> (577, 363, 241), Order: 1\n",
      "Edge: (503, 319, 244) -> (524, 353, 229), Order: 2\n",
      "Edge: (524, 353, 229) -> (521, 359, 229), Order: 1\n",
      "Edge: (524, 353, 229) -> (547, 384, 201), Order: 1\n",
      "Edge: (486, 273, 254) -> (507, 285, 200), Order: 2\n",
      "Edge: (486, 273, 254) -> (546, 275, 211), Order: 2\n",
      "Edge: (507, 285, 200) -> (510, 284, 179), Order: 2\n",
      "Edge: (507, 285, 200) -> (555, 243, 138), Order: 1\n",
      "Edge: (510, 284, 179) -> (510, 278, 169), Order: 1\n",
      "Edge: (510, 284, 179) -> (546, 288, 146), Order: 1\n",
      "Edge: (546, 275, 211) -> (630, 289, 180), Order: 1\n",
      "Edge: (546, 275, 211) -> (637, 226, 160), Order: 1\n",
      "Edge: (483, 268, 317) -> (484, 264, 315), Order: 3\n",
      "Edge: (483, 268, 317) -> (509, 273, 322), Order: 2\n",
      "Edge: (484, 264, 315) -> (501, 248, 281), Order: 2\n",
      "Edge: (484, 264, 315) -> (521, 238, 299), Order: 3\n",
      "Edge: (501, 248, 281) -> (492, 245, 270), Order: 1\n",
      "Edge: (501, 248, 281) -> (529, 218, 247), Order: 2\n",
      "Edge: (529, 218, 247) -> (561, 191, 223), Order: 1\n",
      "Edge: (529, 218, 247) -> (529, 218, 239), Order: 1\n",
      "Edge: (521, 238, 299) -> (593, 253, 270), Order: 1\n",
      "Edge: (521, 238, 299) -> (542, 222, 289), Order: 3\n",
      "Edge: (542, 222, 289) -> (570, 167, 270), Order: 2\n",
      "Edge: (542, 222, 289) -> (566, 220, 272), Order: 2\n",
      "Edge: (570, 167, 270) -> (548, 77, 262), Order: 1\n",
      "Edge: (570, 167, 270) -> (637, 118, 219), Order: 1\n",
      "Edge: (566, 220, 272) -> (630, 218, 278), Order: 1\n",
      "Edge: (566, 220, 272) -> (633, 200, 221), Order: 1\n",
      "Edge: (509, 273, 322) -> (569, 292, 345), Order: 2\n",
      "Edge: (509, 273, 322) -> (583, 324, 325), Order: 1\n",
      "Edge: (569, 292, 345) -> (601, 287, 371), Order: 1\n",
      "Edge: (569, 292, 345) -> (606, 289, 345), Order: 1\n",
      "Edge: (287, 237, 318) -> (249, 242, 345), Order: 5\n",
      "Edge: (287, 237, 318) -> (241, 251, 303), Order: 4\n",
      "Edge: (249, 242, 345) -> (239, 239, 341), Order: 4\n",
      "Edge: (249, 242, 345) -> (241, 254, 367), Order: 4\n",
      "Edge: (239, 239, 341) -> (204, 239, 349), Order: 3\n",
      "Edge: (239, 239, 341) -> (211, 188, 321), Order: 3\n",
      "Edge: (204, 239, 349) -> (116, 239, 354), Order: 2\n",
      "Edge: (204, 239, 349) -> (173, 223, 332), Order: 3\n",
      "Edge: (116, 239, 354) -> (72, 253, 335), Order: 1\n",
      "Edge: (116, 239, 354) -> (101, 252, 368), Order: 1\n",
      "Edge: (173, 223, 332) -> (126, 183, 350), Order: 1\n",
      "Edge: (173, 223, 332) -> (151, 216, 314), Order: 3\n",
      "Edge: (151, 216, 314) -> (97, 154, 299), Order: 2\n",
      "Edge: (151, 216, 314) -> (101, 218, 293), Order: 2\n",
      "Edge: (97, 154, 299) -> (80, 149, 295), Order: 1\n",
      "Edge: (97, 154, 299) -> (96, 118, 291), Order: 1\n",
      "Edge: (101, 218, 293) -> (70, 228, 284), Order: 1\n",
      "Edge: (101, 218, 293) -> (103, 229, 294), Order: 1\n",
      "Edge: (211, 188, 321) -> (204, 158, 315), Order: 3\n",
      "Edge: (211, 188, 321) -> (228, 136, 344), Order: 2\n",
      "Edge: (204, 158, 315) -> (175, 117, 299), Order: 2\n",
      "Edge: (204, 158, 315) -> (205, 153, 316), Order: 2\n",
      "Edge: (175, 117, 299) -> (123, 94, 311), Order: 1\n",
      "Edge: (175, 117, 299) -> (183, 48, 267), Order: 2\n",
      "Edge: (183, 48, 267) -> (180, 42, 260), Order: 1\n",
      "Edge: (183, 48, 267) -> (188, 46, 268), Order: 1\n",
      "Edge: (205, 153, 316) -> (237, 70, 270), Order: 1\n",
      "Edge: (205, 153, 316) -> (201, 137, 332), Order: 2\n",
      "Edge: (201, 137, 332) -> (206, 132, 335), Order: 1\n",
      "Edge: (201, 137, 332) -> (190, 126, 341), Order: 2\n",
      "Edge: (190, 126, 341) -> (194, 87, 330), Order: 1\n",
      "Edge: (190, 126, 341) -> (187, 125, 348), Order: 2\n",
      "Edge: (187, 125, 348) -> (162, 125, 372), Order: 1\n",
      "Edge: (187, 125, 348) -> (184, 126, 376), Order: 1\n",
      "Edge: (228, 136, 344) -> (262, 105, 356), Order: 1\n",
      "Edge: (228, 136, 344) -> (261, 73, 311), Order: 2\n",
      "Edge: (261, 73, 311) -> (295, 50, 268), Order: 1\n",
      "Edge: (261, 73, 311) -> (286, 64, 309), Order: 1\n",
      "Edge: (241, 254, 367) -> (241, 264, 383), Order: 3\n",
      "Edge: (241, 254, 367) -> (220, 251, 385), Order: 3\n",
      "Edge: (241, 264, 383) -> (214, 260, 442), Order: 2\n",
      "Edge: (241, 264, 383) -> (243, 272, 389), Order: 2\n",
      "Edge: (214, 260, 442) -> (169, 273, 451), Order: 1\n",
      "Edge: (214, 260, 442) -> (210, 252, 461), Order: 2\n",
      "Edge: (210, 252, 461) -> (203, 225, 465), Order: 1\n",
      "Edge: (210, 252, 461) -> (210, 252, 493), Order: 2\n",
      "Edge: (210, 252, 493) -> (214, 244, 499), Order: 1\n",
      "Edge: (210, 252, 493) -> (213, 262, 508), Order: 1\n",
      "Edge: (243, 272, 389) -> (151, 321, 434), Order: 1\n",
      "Edge: (243, 272, 389) -> (239, 294, 444), Order: 2\n",
      "Edge: (239, 294, 444) -> (233, 295, 453), Order: 2\n",
      "Edge: (239, 294, 444) -> (234, 322, 462), Order: 1\n",
      "Edge: (233, 295, 453) -> (214, 298, 460), Order: 1\n",
      "Edge: (233, 295, 453) -> (245, 294, 494), Order: 2\n",
      "Edge: (245, 294, 494) -> (243, 306, 503), Order: 1\n",
      "Edge: (245, 294, 494) -> (254, 289, 512), Order: 1\n",
      "Edge: (220, 251, 385) -> (218, 249, 389), Order: 3\n",
      "Edge: (220, 251, 385) -> (241, 245, 437), Order: 1\n",
      "Edge: (218, 249, 389) -> (209, 218, 394), Order: 2\n",
      "Edge: (218, 249, 389) -> (207, 246, 402), Order: 2\n",
      "Edge: (209, 218, 394) -> (197, 193, 396), Order: 1\n",
      "Edge: (209, 218, 394) -> (219, 182, 419), Order: 1\n",
      "Edge: (207, 246, 402) -> (166, 230, 398), Order: 2\n",
      "Edge: (207, 246, 402) -> (205, 250, 410), Order: 1\n",
      "Edge: (166, 230, 398) -> (154, 231, 405), Order: 2\n",
      "Edge: (166, 230, 398) -> (139, 181, 397), Order: 1\n",
      "Edge: (154, 231, 405) -> (146, 223, 427), Order: 1\n",
      "Edge: (154, 231, 405) -> (130, 234, 410), Order: 1\n",
      "Edge: (241, 251, 303) -> (225, 266, 320), Order: 3\n",
      "Edge: (241, 251, 303) -> (226, 252, 291), Order: 4\n",
      "Edge: (225, 266, 320) -> (140, 290, 306), Order: 2\n",
      "Edge: (225, 266, 320) -> (226, 277, 329), Order: 3\n",
      "Edge: (140, 290, 306) -> (92, 282, 292), Order: 1\n",
      "Edge: (140, 290, 306) -> (115, 307, 313), Order: 1\n",
      "Edge: (226, 277, 329) -> (126, 302, 356), Order: 1\n",
      "Edge: (226, 277, 329) -> (230, 310, 360), Order: 3\n",
      "Edge: (230, 310, 360) -> (208, 332, 406), Order: 1\n",
      "Edge: (230, 310, 360) -> (226, 317, 361), Order: 3\n",
      "Edge: (226, 317, 361) -> (183, 340, 366), Order: 2\n",
      "Edge: (226, 317, 361) -> (228, 334, 382), Order: 2\n",
      "Edge: (183, 340, 366) -> (136, 352, 367), Order: 1\n",
      "Edge: (183, 340, 366) -> (170, 359, 366), Order: 1\n",
      "Edge: (228, 334, 382) -> (217, 334, 373), Order: 1\n",
      "Edge: (228, 334, 382) -> (225, 338, 393), Order: 1\n",
      "Edge: (226, 252, 291) -> (222, 253, 287), Order: 4\n",
      "Edge: (226, 252, 291) -> (213, 280, 290), Order: 3\n",
      "Edge: (222, 253, 287) -> (211, 209, 261), Order: 3\n",
      "Edge: (222, 253, 287) -> (215, 257, 278), Order: 4\n",
      "Edge: (211, 209, 261) -> (211, 168, 197), Order: 1\n",
      "Edge: (211, 209, 261) -> (205, 179, 254), Order: 3\n",
      "Edge: (205, 179, 254) -> (204, 177, 251), Order: 3\n",
      "Edge: (205, 179, 254) -> (210, 136, 237), Order: 2\n",
      "Edge: (204, 177, 251) -> (193, 132, 227), Order: 3\n",
      "Edge: (204, 177, 251) -> (184, 162, 258), Order: 1\n",
      "Edge: (193, 132, 227) -> (161, 87, 229), Order: 2\n",
      "Edge: (193, 132, 227) -> (201, 87, 195), Order: 2\n",
      "Edge: (161, 87, 229) -> (133, 52, 213), Order: 1\n",
      "Edge: (161, 87, 229) -> (154, 57, 232), Order: 2\n",
      "Edge: (154, 57, 232) -> (133, 49, 242), Order: 1\n",
      "Edge: (154, 57, 232) -> (164, 33, 221), Order: 1\n",
      "Edge: (201, 87, 195) -> (188, 54, 172), Order: 2\n",
      "Edge: (201, 87, 195) -> (211, 66, 174), Order: 1\n",
      "Edge: (188, 54, 172) -> (179, 22, 129), Order: 1\n",
      "Edge: (188, 54, 172) -> (181, 24, 162), Order: 2\n",
      "Edge: (181, 24, 162) -> (169, 11, 153), Order: 1\n",
      "Edge: (181, 24, 162) -> (183, 20, 162), Order: 2\n",
      "Edge: (183, 20, 162) -> (186, 13, 166), Order: 1\n",
      "Edge: (183, 20, 162) -> (194, 3, 142), Order: 1\n",
      "Edge: (210, 136, 237) -> (236, 103, 221), Order: 1\n",
      "Edge: (210, 136, 237) -> (241, 51, 189), Order: 1\n",
      "Edge: (215, 257, 278) -> (204, 248, 271), Order: 3\n",
      "Edge: (215, 257, 278) -> (206, 273, 254), Order: 4\n",
      "Edge: (204, 248, 271) -> (207, 242, 259), Order: 2\n",
      "Edge: (204, 248, 271) -> (184, 229, 254), Order: 3\n",
      "Edge: (207, 242, 259) -> (181, 153, 202), Order: 1\n",
      "Edge: (207, 242, 259) -> (246, 256, 171), Order: 1\n",
      "Edge: (184, 229, 254) -> (134, 208, 250), Order: 2\n",
      "Edge: (184, 229, 254) -> (103, 122, 208), Order: 2\n",
      "Edge: (134, 208, 250) -> (119, 206, 247), Order: 2\n",
      "Edge: (134, 208, 250) -> (106, 154, 254), Order: 1\n",
      "Edge: (119, 206, 247) -> (61, 170, 202), Order: 1\n",
      "Edge: (119, 206, 247) -> (88, 207, 245), Order: 2\n",
      "Edge: (88, 207, 245) -> (63, 180, 240), Order: 2\n",
      "Edge: (88, 207, 245) -> (47, 223, 236), Order: 1\n",
      "Edge: (63, 180, 240) -> (64, 179, 241), Order: 2\n",
      "Edge: (63, 180, 240) -> (54, 175, 233), Order: 1\n",
      "Edge: (64, 179, 241) -> (57, 171, 248), Order: 1\n",
      "Edge: (64, 179, 241) -> (67, 173, 240), Order: 1\n",
      "Edge: (103, 122, 208) -> (92, 122, 200), Order: 1\n",
      "Edge: (103, 122, 208) -> (96, 112, 210), Order: 1\n",
      "Edge: (206, 273, 254) -> (228, 323, 219), Order: 3\n",
      "Edge: (206, 273, 254) -> (206, 269, 229), Order: 3\n",
      "Edge: (228, 323, 219) -> (224, 329, 205), Order: 3\n",
      "Edge: (228, 323, 219) -> (252, 318, 185), Order: 2\n",
      "Edge: (224, 329, 205) -> (205, 360, 203), Order: 1\n",
      "Edge: (224, 329, 205) -> (222, 328, 199), Order: 3\n",
      "Edge: (222, 328, 199) -> (178, 323, 181), Order: 2\n",
      "Edge: (222, 328, 199) -> (139, 354, 202), Order: 1\n",
      "Edge: (222, 328, 199) -> (219, 318, 178), Order: 2\n",
      "Edge: (178, 323, 181) -> (87, 356, 72), Order: 1\n",
      "Edge: (178, 323, 181) -> (162, 366, 145), Order: 1\n",
      "Edge: (219, 318, 178) -> (223, 318, 143), Order: 2\n",
      "Edge: (219, 318, 178) -> (222, 291, 114), Order: 1\n",
      "Edge: (223, 318, 143) -> (225, 326, 130), Order: 2\n",
      "Edge: (223, 318, 143) -> (255, 311, 102), Order: 1\n",
      "Edge: (225, 326, 130) -> (184, 374, 20), Order: 1\n",
      "Edge: (225, 326, 130) -> (233, 328, 119), Order: 1\n",
      "Edge: (252, 318, 185) -> (250, 351, 159), Order: 1\n",
      "Edge: (252, 318, 185) -> (265, 306, 153), Order: 1\n",
      "Edge: (206, 269, 229) -> (166, 268, 204), Order: 2\n",
      "Edge: (206, 269, 229) -> (145, 303, 233), Order: 2\n",
      "Edge: (166, 268, 204) -> (84, 242, 186), Order: 1\n",
      "Edge: (166, 268, 204) -> (171, 250, 195), Order: 2\n",
      "Edge: (171, 250, 195) -> (159, 232, 192), Order: 1\n",
      "Edge: (171, 250, 195) -> (172, 255, 177), Order: 1\n",
      "Edge: (145, 303, 233) -> (60, 299, 200), Order: 1\n",
      "Edge: (145, 303, 233) -> (123, 311, 241), Order: 1\n",
      "Edge: (213, 280, 290) -> (203, 323, 271), Order: 2\n",
      "Edge: (213, 280, 290) -> (233, 286, 282), Order: 3\n",
      "Edge: (203, 323, 271) -> (163, 373, 297), Order: 1\n",
      "Edge: (203, 323, 271) -> (181, 370, 263), Order: 2\n",
      "Edge: (181, 370, 263) -> (180, 369, 262), Order: 1\n",
      "Edge: (181, 370, 263) -> (184, 390, 239), Order: 1\n",
      "Edge: (233, 286, 282) -> (237, 284, 283), Order: 2\n",
      "Edge: (233, 286, 282) -> (231, 339, 294), Order: 2\n",
      "Edge: (237, 284, 283) -> (253, 321, 310), Order: 1\n",
      "Edge: (237, 284, 283) -> (253, 295, 261), Order: 2\n",
      "Edge: (253, 295, 261) -> (246, 363, 227), Order: 1\n",
      "Edge: (253, 295, 261) -> (261, 303, 251), Order: 1\n",
      "Edge: (231, 339, 294) -> (229, 360, 310), Order: 1\n",
      "Edge: (231, 339, 294) -> (242, 349, 291), Order: 1\n"
     ]
    }
   ],
   "source": [
    "#26 Strahler Analysis: Function+Call: Using DiGraphs: *\n",
    "\n",
    "import networkx as nx\n",
    "\n",
    "def StrahlerAnalysis(G): # G: The Tree DiGraph. Returns the edges.\n",
    "    \n",
    "    # Find the terminal edges (edges with no successors)\n",
    "    terminal_edges = [edge for edge in G.edges() if not any(G.successors(edge[1]))]\n",
    "    # Initialize the order for terminal edges as 1\n",
    "    for edge in G.edges():\n",
    "        if edge in terminal_edges: G[edge[0]][edge[1]]['order'] = 1\n",
    "        else: G[edge[0]][edge[1]]['order'] = 0\n",
    "\n",
    "    # Perform Strahler analysis starting from terminal edges\n",
    "    while True:\n",
    "\n",
    "        # Find all edges with the same order\n",
    "        edges_by_order = {}\n",
    "        for edge in G.edges():\n",
    "            order = G[edge[0]][edge[1]].get('order', 0)\n",
    "            if order not in edges_by_order:\n",
    "                edges_by_order[order] = []\n",
    "            edges_by_order[order].append(edge)\n",
    "\n",
    "        # If no more order 0, break\n",
    "        if 0 not in edges_by_order: break\n",
    "\n",
    "        # Only process edges with order = 0\n",
    "        for edge in edges_by_order[0]:\n",
    "            successors = list(G.successors(edge[1]))\n",
    "            SuccessorOrders = [G[edge[1]][successor]['order'] for successor in successors]\n",
    "            if not all(SuccessorOrders): continue # If any successor order is 0, skip to next edge\n",
    "            if len(successors) == 1: # If only one successor, inherit its order\n",
    "                G[edge[0]][edge[1]]['order'] = G[edge[1]][successors[0]]['order']\n",
    "            else: # So it's a bifurcation\n",
    "                MaxOrder = max(SuccessorOrders)\n",
    "                BinaryComparison = [int(ordr == MaxOrder) for ordr in SuccessorOrders]\n",
    "                # If more than 2 of the max then increment order\n",
    "                if sum(BinaryComparison)>=2: NextOrder = MaxOrder + 1\n",
    "                else: NextOrder = MaxOrder\n",
    "                G[edge[0]][edge[1]]['order'] = NextOrder\n",
    "\n",
    "    return G.edges(data=True)\n",
    "\n",
    "# Main:\n",
    "edgesresult = StrahlerAnalysis(digraph)\n",
    "for edge in edgesresult:\n",
    "    print(f\"Edge: {edge[0]} -> {edge[1]}, Order: {edge[2]['order']}\")"
   ]
  },
  {
   "cell_type": "code",
   "execution_count": 206,
   "metadata": {},
   "outputs": [],
   "source": [
    "## 27 Plot-4 the DiGraph in 3D:\n",
    "\n",
    "# import networkx as nx\n",
    "# import plotly.graph_objects as go\n",
    "\n",
    "# G = digraph\n",
    "\n",
    "# # Extract node positions and order properties\n",
    "# node_positions = {node: node for node in G.nodes()}\n",
    "# edge_orders = nx.get_edge_attributes(G, 'order')\n",
    "\n",
    "# # Create a trace for nodes\n",
    "# node_trace = go.Scatter3d(\n",
    "#     x=[coord[0] for coord in node_positions],\n",
    "#     y=[coord[1] for coord in node_positions],\n",
    "#     z=[coord[2] for coord in node_positions],\n",
    "#     mode='markers',\n",
    "#     marker=dict(size=2, color='red'),\n",
    "#     text=[],\n",
    "#     hoverinfo='text'\n",
    "# )\n",
    "\n",
    "# # Create a list of edge traces\n",
    "# edge_traces = []\n",
    "# for edge, order in edge_orders.items():\n",
    "#     source, target = edge\n",
    "#     x1, y1, z1 = source\n",
    "#     x2, y2, z2 = target\n",
    "#     edge_traces.append(go.Scatter3d(\n",
    "#         x=[x1, x2],\n",
    "#         y=[y1, y2],\n",
    "#         z=[z1, z2],\n",
    "#         mode='lines+text',\n",
    "#         line=dict(width=4, color='grey'),\n",
    "#         text=f'{order}',\n",
    "#         hoverinfo='none',  # Disables hover info for edges\n",
    "#         textposition='top left'  # Position for the order text\n",
    "#     ))\n",
    "\n",
    "# # Create the 3D layout\n",
    "# layout = go.Layout(\n",
    "#     scene=dict(\n",
    "#         xaxis=dict(title='X'),\n",
    "#         yaxis=dict(title='Y'),\n",
    "#         zaxis=dict(title='Z'),\n",
    "#     ),\n",
    "#     margin=dict(l=0, r=0, b=0, t=0),\n",
    "# )\n",
    "\n",
    "# # Create the figure and add traces\n",
    "# fig = go.Figure(data=edge_traces + [node_trace], layout=layout)\n",
    "\n",
    "# # Show the interactive plot\n",
    "# fig.show()"
   ]
  },
  {
   "cell_type": "code",
   "execution_count": 207,
   "metadata": {},
   "outputs": [
    {
     "name": "stdout",
     "output_type": "stream",
     "text": [
      "Order 1: 158 edges\n",
      "Order 2:  91 edges\n",
      "Order 3:  45 edges\n",
      "Order 4:  15 edges\n",
      "Order 5:   4 edges\n",
      "Order 6:   1 edges\n"
     ]
    }
   ],
   "source": [
    "#28 Statistics of edge orders and counts:\n",
    "\n",
    "from collections import defaultdict\n",
    "\n",
    "# Create a dictionary to count edges for each 'order'\n",
    "order_counts = defaultdict(int)\n",
    "# Count edges\n",
    "for u, v, data in digraph.edges(data=True):\n",
    "    order = data.get(\"order\", 0)\n",
    "    order_counts[order] += 1\n",
    "# Print the counts for each 'order' with keys sorted\n",
    "for order in sorted(order_counts.keys()):\n",
    "    count = order_counts[order]\n",
    "    print(f\"Order {order}: {count:3} edges\")"
   ]
  },
  {
   "cell_type": "code",
   "execution_count": 208,
   "metadata": {},
   "outputs": [],
   "source": [
    "#29 Add EdgeLength property to digraph edges:\n",
    "\n",
    "for edge in digraph.edges:\n",
    "    node1, node2 = edge\n",
    "    x1, y1, z1 = node1\n",
    "    x2, y2, z2 = node2\n",
    "    EdgeLength = np.sqrt((x2 - x1)**2 + (y2 - y1)**2 + (z2 - z1)**2)\n",
    "    digraph.edges[edge]['EdgeLength'] = EdgeLength"
   ]
  },
  {
   "cell_type": "code",
   "execution_count": 209,
   "metadata": {},
   "outputs": [],
   "source": [
    "#30 Save the graph and its properties to a file\n",
    "\n",
    "nx.write_graphml(digraph, GraphArtifactsFolderName + f\"/Case-{CaseNumber}-DiGraph.graphml\")"
   ]
  },
  {
   "cell_type": "code",
   "execution_count": 210,
   "metadata": {},
   "outputs": [
    {
     "name": "stdout",
     "output_type": "stream",
     "text": [
      "Case#63: Indices written to Excel sheet. All Done!\n"
     ]
    }
   ],
   "source": [
    "##-31 Final step: find edges with target order, calculate mean, and add results to excel file\n",
    "\n",
    "import openpyxl\n",
    "from openpyxl.styles import Font, Alignment\n",
    "\n",
    "font = Font(name='Courier New', size=11)\n",
    "alignment = Alignment(horizontal='center', vertical='center')\n",
    "\n",
    "# Find those edges\n",
    "OrdersPresent = order_counts.keys()\n",
    "Methods = {1 : [max(OrdersPresent)  , max(OrdersPresent)-2       , '[MX>MX-2]'],\n",
    "           2 : [max(OrdersPresent)  , max(OrdersPresent)-4       , '[MX>MX-4]'],\n",
    "           3 : [max(OrdersPresent)-1, max(OrdersPresent)-3       , '[MX-1>MX-3]'],\n",
    "           4 : [max(OrdersPresent)-1, max(1,max(OrdersPresent)-5), '[MX-1>MX-5|]'],\n",
    "           5 : [max(OrdersPresent)-2, min(OrdersPresent)         , '[MX-2>MN]'],\n",
    "           6 : [max(OrdersPresent)-2, min(OrdersPresent)+1       , '[MX-2>MN+1]'],\n",
    "           7 : [max(OrdersPresent)  , min(OrdersPresent)         , '[MX>MN]'],\n",
    "           8 : [min(OrdersPresent)  , min(OrdersPresent)         , '[MN>MN]'],\n",
    "           9 : [min(OrdersPresent)+1, min(OrdersPresent)         , '[MN+1>MN]'],\n",
    "           10: [min(OrdersPresent)+2, min(OrdersPresent)         , '[MN+2>MN]'],\n",
    "           11: [min(OrdersPresent)+3, min(OrdersPresent)+1       , '[MN+3>MN+1]']}\n",
    "\n",
    "# LowerOrder, HigherOrder = 4, 6\n",
    "# HigherOrder = max(order_counts.keys())\n",
    "# LowerOrder  = HigherOrder - 2 # -4\n",
    "\n",
    "excel_file_path = \"Z:/Q- Figures/T32-Poster/Nick/Experiment/DiameterResults-CopyFromNate.xlsx\" # Open the existing Excel file\n",
    "workbook = openpyxl.load_workbook(excel_file_path)\n",
    "sheet = workbook.active # Select the first sheet\n",
    "last_row = sheet.max_row # Find the last row in the first column (assuming the first column contains data)\n",
    "new_row = last_row + 1 # Create a new row\n",
    "\n",
    "for MethodNum, MthdList in Methods.items():\n",
    "\n",
    "    HigherOrder = MthdList[0]\n",
    "    LowerOrder  = MthdList[1]\n",
    "    selected_edges = [(u, v, data) for u, v, data in digraph.edges(data=True) if LowerOrder <= data.get(\"order\", 0) <= HigherOrder]\n",
    "\n",
    "    # Print stats\n",
    "    # print(f\"Edges with order in range [{LowerOrder}, {HigherOrder}]:\\n\")\n",
    "    # for indx, (u, v, data) in enumerate(selected_edges):\n",
    "    #     print(f\"SelectedEdge-{indx+1:2}: {u} -> {v}; AvgDiameter = {data['AvgDiameter']:12.9f}; Order = {data['order']}; EdgeLength = {data['EdgeLength']:10.6f}\")\n",
    "\n",
    "    # Extract the 'AvgDiameter' values from the selected edges\n",
    "    avg_diameters = [data[\"AvgDiameter\"] for u, v, data in selected_edges]\n",
    "\n",
    "    # Calculate the geometric mean of 'AvgDiameter'\n",
    "    geometric_mean   = np.prod(avg_diameters) ** (1 / len(avg_diameters))\n",
    "    arithmetic_mean  = sum(avg_diameters) / len(avg_diameters)\n",
    "    geometric_mean  *= 2*0.38/10 # diameter - mm - cm\n",
    "    arithmetic_mean *= 2*0.38/10 # diameter - mm - cm\n",
    "\n",
    "    # print(f\"Geometric Mean of AvgDiameters: {geometric_mean} cm\")\n",
    "    # print(f\"Arithmetic Mean of AvgDiameters: {arithmetic_mean} cm\")\n",
    "\n",
    "    # Insert data into the new row\n",
    "    cell = sheet.cell(row=1      , column=1            , value='Case#'       ); cell.font = font; cell.alignment = alignment\n",
    "    cell = sheet.cell(row=new_row, column=1            , value=CaseNumber    ); cell.font = font; cell.alignment = alignment\n",
    "    cell = sheet.cell(row=1      , column=MethodNum*2  , value='GeomMean-'+MthdList[2]); cell.font = font; cell.alignment = alignment\n",
    "    cell = sheet.cell(row=new_row, column=MethodNum*2  , value=geometric_mean); cell.font = font; cell.alignment = alignment\n",
    "    cell = sheet.cell(row=1      , column=MethodNum*2+1, value='ArthMean-'+MthdList[2]); cell.font = font; cell.alignment = alignment\n",
    "    cell = sheet.cell(row=new_row, column=MethodNum*2+1, value=arithmetic_mean); cell.font = font; cell.alignment = alignment\n",
    "\n",
    "workbook.save(excel_file_path) # Save the Excel file\n",
    "workbook.close() # Close the Excel file\n",
    "\n",
    "winsound.Beep(1000, 3000)\n",
    "print(f\"Case#{CaseNumber}: Indices written to Excel sheet. All Done!\")"
   ]
  },
  {
   "cell_type": "code",
   "execution_count": 211,
   "metadata": {},
   "outputs": [],
   "source": [
    "#32 Notes to address:\n",
    "# Case#58 has a cropped/cut MPA so that lowers the diameters\n",
    "# SmallInsideEdges are not removed in the first pass! [Next time they were!!!!][?!!] * Takes it twice to fully remove .. [Eg Case-18]\n",
    "# Case-18 has lots of nuisant small deep branches\n",
    "# Case-88: Not a tree [and a mess, both with clusters, and final edges]\n",
    "# Case-19: Obviously more tortuous than normal **\n",
    "# Case-11: 1 node isolated outside; not a tree\n",
    "# Case-6: MPA cut too short\n",
    "# Case-46: Seems like a smaller vessel/MPA-root, what does the dys say?!\n",
    "# Case-39: 7K cx-cycles!\n",
    "# Case-22: \n",
    "# Case-21: MPA OK but much shorter than others\n",
    "# Should also save the orders list in the excel file\n",
    "# Case-84: MPA has 20 nuisant edges .. impossible ..   \n",
    "# Any uncircular MPA shape will lead to nuisant edges and then failure *** Including Case-50\n",
    "# Case-39: has 7K cx-cycles\n",
    "# Case-44: has 3K cx-cycles"
   ]
  },
  {
   "cell_type": "code",
   "execution_count": 212,
   "metadata": {},
   "outputs": [],
   "source": [
    "##-33 Final visualization: [from cell-21-1]\n",
    "\n",
    "UpdateEdgeLengths(graph)\n",
    "\n",
    "fig = mlab.figure(size=(2500, 1400), bgcolor=(1, 1, 1))\n",
    "\n",
    "x, y, z = zip(*graph.nodes)\n",
    "mlab.points3d(x, y, z, scale_factor=2, color=(0.2, 0.2, 0.2), opacity=0.7) # color=(1, 0, 0)\n",
    "\n",
    "# Create lines for edges\n",
    "for edge in graph.edges:\n",
    "    src, tgt = edge\n",
    "    x = [src[0], tgt[0]]\n",
    "    y = [src[1], tgt[1]]\n",
    "    z = [src[2], tgt[2]]\n",
    "    mlab.plot3d(x, y, z, tube_radius=0.2,\n",
    "                color=(1, 0, 0) if edge in SmallInsideEdges else (0.2, 0.2, 0.2),#(0.2, 0.2, 0.2),\n",
    "                opacity=0.7)\n",
    "\n",
    "# Create contour for the 3D object\n",
    "mlab.contour3d(atree, contours=[0.5], opacity=0.2, color=(0, 151/255, 206/255))\n",
    "\n",
    "winsound.Beep(frequency, duration)\n",
    "mlab.show()"
   ]
  }
 ],
 "metadata": {
  "kernelspec": {
   "display_name": "Python 3",
   "language": "python",
   "name": "python3"
  },
  "language_info": {
   "codemirror_mode": {
    "name": "ipython",
    "version": 3
   },
   "file_extension": ".py",
   "mimetype": "text/x-python",
   "name": "python",
   "nbconvert_exporter": "python",
   "pygments_lexer": "ipython3",
   "version": "3.11.6"
  },
  "orig_nbformat": 4
 },
 "nbformat": 4,
 "nbformat_minor": 2
}
