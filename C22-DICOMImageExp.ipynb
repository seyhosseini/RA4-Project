{
 "cells": [
  {
   "cell_type": "code",
   "execution_count": 1,
   "metadata": {},
   "outputs": [
    {
     "ename": "KeyboardInterrupt",
     "evalue": "",
     "output_type": "error",
     "traceback": [
      "\u001b[1;31m---------------------------------------------------------------------------\u001b[0m",
      "\u001b[1;31mKeyboardInterrupt\u001b[0m                         Traceback (most recent call last)",
      "\u001b[1;32mc:\\Users\\nichmoore\\Documents\\GitHub\\RA4-Project\\C22-DICOMImageExp.ipynb Cell 1\u001b[0m line \u001b[0;36m3\n\u001b[0;32m      <a href='vscode-notebook-cell:/c%3A/Users/nichmoore/Documents/GitHub/RA4-Project/C22-DICOMImageExp.ipynb#W2sZmlsZQ%3D%3D?line=0'>1</a>\u001b[0m \u001b[39mimport\u001b[39;00m \u001b[39mitk\u001b[39;00m\n\u001b[0;32m      <a href='vscode-notebook-cell:/c%3A/Users/nichmoore/Documents/GitHub/RA4-Project/C22-DICOMImageExp.ipynb#W2sZmlsZQ%3D%3D?line=1'>2</a>\u001b[0m \u001b[39mimport\u001b[39;00m \u001b[39mnumpy\u001b[39;00m \u001b[39mas\u001b[39;00m \u001b[39mnp\u001b[39;00m\n\u001b[1;32m----> <a href='vscode-notebook-cell:/c%3A/Users/nichmoore/Documents/GitHub/RA4-Project/C22-DICOMImageExp.ipynb#W2sZmlsZQ%3D%3D?line=2'>3</a>\u001b[0m \u001b[39mfrom\u001b[39;00m \u001b[39mmayavi\u001b[39;00m \u001b[39mimport\u001b[39;00m mlab\n\u001b[0;32m      <a href='vscode-notebook-cell:/c%3A/Users/nichmoore/Documents/GitHub/RA4-Project/C22-DICOMImageExp.ipynb#W2sZmlsZQ%3D%3D?line=4'>5</a>\u001b[0m \u001b[39m# Specify the path to your DICOM file\u001b[39;00m\n\u001b[0;32m      <a href='vscode-notebook-cell:/c%3A/Users/nichmoore/Documents/GitHub/RA4-Project/C22-DICOMImageExp.ipynb#W2sZmlsZQ%3D%3D?line=5'>6</a>\u001b[0m header_file_path \u001b[39m=\u001b[39m \u001b[39m\"\u001b[39m\u001b[39mpath/to/your/dicom/header.dcm\u001b[39m\u001b[39m\"\u001b[39m\n",
      "File \u001b[1;32mc:\\Users\\nichmoore\\Documents\\GitHub\\RA4-Project\\venvnick\\Lib\\site-packages\\mayavi\\mlab.py:16\u001b[0m\n\u001b[0;32m      8\u001b[0m \u001b[39m# Author: Prabhu Ramachandran <prabhu_r@users.sf.net>\u001b[39;00m\n\u001b[0;32m      9\u001b[0m \u001b[39m#         Gael Varoquaux <gael dot varoquaux at normalesup dot org>\u001b[39;00m\n\u001b[0;32m     10\u001b[0m \u001b[39m# Copyright (c) 2007-2020, Enthought, Inc.\u001b[39;00m\n\u001b[1;32m   (...)\u001b[0m\n\u001b[0;32m     13\u001b[0m \n\u001b[0;32m     14\u001b[0m \u001b[39m# Mayavi imports\u001b[39;00m\n\u001b[0;32m     15\u001b[0m \u001b[39mfrom\u001b[39;00m \u001b[39mmayavi\u001b[39;00m\u001b[39m.\u001b[39;00m\u001b[39mcore\u001b[39;00m\u001b[39m.\u001b[39;00m\u001b[39mcommon\u001b[39;00m \u001b[39mimport\u001b[39;00m process_ui_events\n\u001b[1;32m---> 16\u001b[0m \u001b[39mfrom\u001b[39;00m \u001b[39mmayavi\u001b[39;00m\u001b[39m.\u001b[39;00m\u001b[39mtools\u001b[39;00m\u001b[39m.\u001b[39;00m\u001b[39mcamera\u001b[39;00m \u001b[39mimport\u001b[39;00m view, roll, yaw, pitch, move\n\u001b[0;32m     17\u001b[0m \u001b[39mfrom\u001b[39;00m \u001b[39mmayavi\u001b[39;00m\u001b[39m.\u001b[39;00m\u001b[39mtools\u001b[39;00m\u001b[39m.\u001b[39;00m\u001b[39mfigure\u001b[39;00m \u001b[39mimport\u001b[39;00m figure, clf, gcf, savefig, \\\n\u001b[0;32m     18\u001b[0m     draw, sync_camera, close, screenshot\n\u001b[0;32m     19\u001b[0m \u001b[39mfrom\u001b[39;00m \u001b[39mmayavi\u001b[39;00m\u001b[39m.\u001b[39;00m\u001b[39mtools\u001b[39;00m\u001b[39m.\u001b[39;00m\u001b[39mengine_manager\u001b[39;00m \u001b[39mimport\u001b[39;00m get_engine, show_pipeline, \\\n\u001b[0;32m     20\u001b[0m         options, set_engine\n",
      "File \u001b[1;32mc:\\Users\\nichmoore\\Documents\\GitHub\\RA4-Project\\venvnick\\Lib\\site-packages\\mayavi\\tools\\camera.py:24\u001b[0m\n\u001b[0;32m     20\u001b[0m \u001b[39mfrom\u001b[39;00m \u001b[39mnumpy\u001b[39;00m \u001b[39mimport\u001b[39;00m pi\n\u001b[0;32m     22\u001b[0m \u001b[39m# We can't use gcf, as it creates a circular import in camera management\u001b[39;00m\n\u001b[0;32m     23\u001b[0m \u001b[39m# routines.\u001b[39;00m\n\u001b[1;32m---> 24\u001b[0m \u001b[39mfrom\u001b[39;00m \u001b[39m.\u001b[39;00m\u001b[39mengine_manager\u001b[39;00m \u001b[39mimport\u001b[39;00m get_engine\n\u001b[0;32m     27\u001b[0m \u001b[39mdef\u001b[39;00m \u001b[39mworld_to_display\u001b[39m(x, y, z, figure\u001b[39m=\u001b[39m\u001b[39mNone\u001b[39;00m):\n\u001b[0;32m     28\u001b[0m \u001b[39m    \u001b[39m\u001b[39m\"\"\" Converts 3D world coordinates to screenshot pixel coordinates.\u001b[39;00m\n\u001b[0;32m     29\u001b[0m \n\u001b[0;32m     30\u001b[0m \u001b[39m        **Parameters**\u001b[39;00m\n\u001b[1;32m   (...)\u001b[0m\n\u001b[0;32m     46\u001b[0m \u001b[39m            Screenshot y coordinate\u001b[39;00m\n\u001b[0;32m     47\u001b[0m \u001b[39m    \"\"\"\u001b[39;00m\n",
      "File \u001b[1;32mc:\\Users\\nichmoore\\Documents\\GitHub\\RA4-Project\\venvnick\\Lib\\site-packages\\mayavi\\tools\\engine_manager.py:14\u001b[0m\n\u001b[0;32m     12\u001b[0m \u001b[39m# Local imports\u001b[39;00m\n\u001b[0;32m     13\u001b[0m \u001b[39mfrom\u001b[39;00m \u001b[39mmayavi\u001b[39;00m\u001b[39m.\u001b[39;00m\u001b[39mpreferences\u001b[39;00m\u001b[39m.\u001b[39;00m\u001b[39mapi\u001b[39;00m \u001b[39mimport\u001b[39;00m preference_manager\n\u001b[1;32m---> 14\u001b[0m \u001b[39mfrom\u001b[39;00m \u001b[39mmayavi\u001b[39;00m\u001b[39m.\u001b[39;00m\u001b[39mcore\u001b[39;00m\u001b[39m.\u001b[39;00m\u001b[39mregistry\u001b[39;00m \u001b[39mimport\u001b[39;00m registry\n\u001b[0;32m     15\u001b[0m \u001b[39mfrom\u001b[39;00m \u001b[39mmayavi\u001b[39;00m\u001b[39m.\u001b[39;00m\u001b[39mcore\u001b[39;00m\u001b[39m.\u001b[39;00m\u001b[39mengine\u001b[39;00m \u001b[39mimport\u001b[39;00m Engine\n\u001b[0;32m     16\u001b[0m \u001b[39mfrom\u001b[39;00m \u001b[39mmayavi\u001b[39;00m\u001b[39m.\u001b[39;00m\u001b[39mcore\u001b[39;00m\u001b[39m.\u001b[39;00m\u001b[39moff_screen_engine\u001b[39;00m \u001b[39mimport\u001b[39;00m OffScreenEngine\n",
      "File \u001b[1;32mc:\\Users\\nichmoore\\Documents\\GitHub\\RA4-Project\\venvnick\\Lib\\site-packages\\mayavi\\core\\registry.py:16\u001b[0m\n\u001b[0;32m     13\u001b[0m \u001b[39mfrom\u001b[39;00m \u001b[39mtraits\u001b[39;00m\u001b[39m.\u001b[39;00m\u001b[39mapi\u001b[39;00m \u001b[39mimport\u001b[39;00m HasTraits, List, Instance, Dict, Str\n\u001b[0;32m     15\u001b[0m \u001b[39m# Local imports.\u001b[39;00m\n\u001b[1;32m---> 16\u001b[0m \u001b[39mfrom\u001b[39;00m \u001b[39mmayavi\u001b[39;00m\u001b[39m.\u001b[39;00m\u001b[39mcore\u001b[39;00m\u001b[39m.\u001b[39;00m\u001b[39mmetadata\u001b[39;00m \u001b[39mimport\u001b[39;00m Metadata, import_symbol\n\u001b[0;32m     18\u001b[0m \u001b[39m# A logger for this module.\u001b[39;00m\n\u001b[0;32m     19\u001b[0m logger \u001b[39m=\u001b[39m logging\u001b[39m.\u001b[39mgetLogger(\u001b[39m__name__\u001b[39m)\n",
      "File \u001b[1;32mc:\\Users\\nichmoore\\Documents\\GitHub\\RA4-Project\\venvnick\\Lib\\site-packages\\mayavi\\core\\metadata.py:11\u001b[0m\n\u001b[0;32m      5\u001b[0m \u001b[39m# Author: Prabhu Ramachandran <prabhu@aero.iitb.ac.in>\u001b[39;00m\n\u001b[0;32m      6\u001b[0m \u001b[39m# Copyright (c) 2008, Enthought, Inc.\u001b[39;00m\n\u001b[0;32m      7\u001b[0m \u001b[39m# License: BSD Style.\u001b[39;00m\n\u001b[0;32m      8\u001b[0m \n\u001b[0;32m      9\u001b[0m \u001b[39m# Enthought library imports.\u001b[39;00m\n\u001b[0;32m     10\u001b[0m \u001b[39mfrom\u001b[39;00m \u001b[39mtraits\u001b[39;00m\u001b[39m.\u001b[39;00m\u001b[39mapi\u001b[39;00m \u001b[39mimport\u001b[39;00m HasTraits, Str, Callable, Either, List, Instance\n\u001b[1;32m---> 11\u001b[0m \u001b[39mfrom\u001b[39;00m \u001b[39mmayavi\u001b[39;00m\u001b[39m.\u001b[39;00m\u001b[39mcore\u001b[39;00m\u001b[39m.\u001b[39;00m\u001b[39mpipeline_info\u001b[39;00m \u001b[39mimport\u001b[39;00m PipelineInfo\n\u001b[0;32m     14\u001b[0m \u001b[39m################################################################################\u001b[39;00m\n\u001b[0;32m     15\u001b[0m \u001b[39m# Utility functions.\u001b[39;00m\n\u001b[0;32m     16\u001b[0m \u001b[39m################################################################################\u001b[39;00m\n\u001b[0;32m     17\u001b[0m \u001b[39mdef\u001b[39;00m \u001b[39mimport_symbol\u001b[39m(symbol_path):\n",
      "File \u001b[1;32mc:\\Users\\nichmoore\\Documents\\GitHub\\RA4-Project\\venvnick\\Lib\\site-packages\\mayavi\\core\\pipeline_info.py:12\u001b[0m\n\u001b[0;32m      5\u001b[0m \u001b[39m# Author: Prabhu Ramachandran <prabhu@aero.iitb.ac.in>\u001b[39;00m\n\u001b[0;32m      6\u001b[0m \u001b[39m# Copyright (c) 2008-2020, Prabhu Ramachandran Enthought, Inc.\u001b[39;00m\n\u001b[0;32m      7\u001b[0m \u001b[39m# License: BSD Style.\u001b[39;00m\n\u001b[0;32m      8\u001b[0m \n\u001b[0;32m      9\u001b[0m \u001b[39m# Enthought library imports.\u001b[39;00m\n\u001b[0;32m     10\u001b[0m \u001b[39mfrom\u001b[39;00m \u001b[39mtraits\u001b[39;00m\u001b[39m.\u001b[39;00m\u001b[39mapi\u001b[39;00m \u001b[39mimport\u001b[39;00m HasTraits, Enum, List\n\u001b[1;32m---> 12\u001b[0m \u001b[39mfrom\u001b[39;00m \u001b[39m.\u001b[39;00m\u001b[39mutils\u001b[39;00m \u001b[39mimport\u001b[39;00m get_tvtk_dataset_name\n\u001b[0;32m     14\u001b[0m \u001b[39m# The list of datasets supported.\u001b[39;00m\n\u001b[0;32m     15\u001b[0m DataSet \u001b[39m=\u001b[39m Enum(\u001b[39m'\u001b[39m\u001b[39mnone\u001b[39m\u001b[39m'\u001b[39m, \u001b[39m'\u001b[39m\u001b[39many\u001b[39m\u001b[39m'\u001b[39m, \u001b[39m'\u001b[39m\u001b[39mimage_data\u001b[39m\u001b[39m'\u001b[39m, \u001b[39m'\u001b[39m\u001b[39mrectilinear_grid\u001b[39m\u001b[39m'\u001b[39m,\n\u001b[0;32m     16\u001b[0m                \u001b[39m'\u001b[39m\u001b[39mpoly_data\u001b[39m\u001b[39m'\u001b[39m, \u001b[39m'\u001b[39m\u001b[39mstructured_grid\u001b[39m\u001b[39m'\u001b[39m, \u001b[39m'\u001b[39m\u001b[39munstructured_grid\u001b[39m\u001b[39m'\u001b[39m)\n",
      "File \u001b[1;32mc:\\Users\\nichmoore\\Documents\\GitHub\\RA4-Project\\venvnick\\Lib\\site-packages\\mayavi\\core\\utils.py:2\u001b[0m\n\u001b[0;32m      1\u001b[0m \u001b[39mimport\u001b[39;00m \u001b[39mnumpy\u001b[39;00m \u001b[39mas\u001b[39;00m \u001b[39mnp\u001b[39;00m\n\u001b[1;32m----> 2\u001b[0m \u001b[39mimport\u001b[39;00m \u001b[39mvtk\u001b[39;00m\n\u001b[0;32m      3\u001b[0m \u001b[39mfrom\u001b[39;00m \u001b[39mvtk\u001b[39;00m\u001b[39m.\u001b[39;00m\u001b[39mnumpy_interface\u001b[39;00m \u001b[39mimport\u001b[39;00m dataset_adapter \u001b[39mas\u001b[39;00m dsa\n\u001b[0;32m      4\u001b[0m \u001b[39mfrom\u001b[39;00m \u001b[39mvtk\u001b[39;00m\u001b[39m.\u001b[39;00m\u001b[39mnumpy_interface\u001b[39;00m \u001b[39mimport\u001b[39;00m algorithms \u001b[39mas\u001b[39;00m algs\n",
      "File \u001b[1;32mc:\\Users\\nichmoore\\Documents\\GitHub\\RA4-Project\\venvnick\\Lib\\site-packages\\vtk.py:45\u001b[0m\n\u001b[0;32m     43\u001b[0m \u001b[39mfrom\u001b[39;00m \u001b[39mvtkmodules\u001b[39;00m\u001b[39m.\u001b[39;00m\u001b[39mvtkRenderingVolumeAMR\u001b[39;00m \u001b[39mimport\u001b[39;00m \u001b[39m*\u001b[39m\n\u001b[0;32m     44\u001b[0m \u001b[39mfrom\u001b[39;00m \u001b[39mvtkmodules\u001b[39;00m\u001b[39m.\u001b[39;00m\u001b[39mvtkPythonContext2D\u001b[39;00m \u001b[39mimport\u001b[39;00m \u001b[39m*\u001b[39m\n\u001b[1;32m---> 45\u001b[0m \u001b[39mfrom\u001b[39;00m \u001b[39mvtkmodules\u001b[39;00m\u001b[39m.\u001b[39;00m\u001b[39mvtkRenderingParallel\u001b[39;00m \u001b[39mimport\u001b[39;00m \u001b[39m*\u001b[39m\n\u001b[0;32m     46\u001b[0m \u001b[39mfrom\u001b[39;00m \u001b[39mvtkmodules\u001b[39;00m\u001b[39m.\u001b[39;00m\u001b[39mvtkRenderingVR\u001b[39;00m \u001b[39mimport\u001b[39;00m \u001b[39m*\u001b[39m\n\u001b[0;32m     47\u001b[0m \u001b[39mfrom\u001b[39;00m \u001b[39mvtkmodules\u001b[39;00m\u001b[39m.\u001b[39;00m\u001b[39mvtkRenderingMatplotlib\u001b[39;00m \u001b[39mimport\u001b[39;00m \u001b[39m*\u001b[39m\n",
      "\u001b[1;31mKeyboardInterrupt\u001b[0m: "
     ]
    }
   ],
   "source": [
    "import itk\n",
    "import numpy as np\n",
    "from mayavi import mlab\n",
    "\n",
    "# Specify the path to your DICOM file\n",
    "header_file_path = \"path/to/your/dicom/header.dcm\"\n",
    "\n",
    "# Read the DICOM image header\n",
    "header = itk.imread(header_file_path)\n",
    "\n",
    "# Extract image attributes\n",
    "image_array = itk.GetArrayFromImage(header)\n",
    "origin1 = header.GetOrigin()\n",
    "spacing1 = header.GetSpacing()\n",
    "size1 = header.GetLargestPossibleRegion().GetSize()\n",
    "direction1 = header.GetDirection()\n",
    "max = image_array.max()\n",
    "min = image_array.min()\n",
    "\n",
    "# Set values above zero to one\n",
    "image_array[image_array > 0] = 1\n",
    "# image_array = image_array[::10,::10,::10]\n",
    "\n",
    "# Create a Mayavi scene\n",
    "mlab.figure(size=(600, 600), bgcolor=(1, 1, 1))\n",
    "\n",
    "#Center of mass coordinates\n",
    "coords = np.argwhere(image_array)\n",
    "center_of_mass = np.mean(coords, axis=0)\n",
    "center_of_mass = center_of_mass.astype(int)\n",
    "\n",
    "# Create a Mayavi volume with a single contour level at 0.9\n",
    "mlab.contour3d(image_array, contours=[0.5], opacity=0.15, color=(128/255, 174/255, 128/255))\n",
    "\n",
    "# Set the voxel spacing and origin\n",
    "mlab.view(azimuth=90, elevation=0, distance=(700/0.546875)/10, focalpoint=center_of_mass)\n",
    "distance = np.array(spacing1) * np.array(size1)\n",
    "center = np.array(origin1) + np.array(distance) / 2\n",
    "x, y, z = center[0], center[1], center[2]\n",
    "ypt = y + 700/.546875\n",
    "# distance = (np.array(spacing1) * np.array(size1))/10\n",
    "# center = (np.array(origin1) + np.array(distance) / 2)\n",
    "# x, y, z = center[0], center[1], center[2]\n",
    "# ypt = y + 70/.546875 + 10\n",
    "camera_position = np.array([x, ypt, z])\n",
    "mlab.gcf().scene.camera.position = camera_position\n",
    "mlab.gcf().scene.camera.clipping_range = (1, 10000)\n",
    "mlab.gcf().scene.camera.azimuth(180)   #Added in. Needed due to the fact that this image is loaded in upside down?\n",
    "mlab.gcf().scene.camera.elevation(180)\n",
    "\n",
    "# Save a snapshot of the current Mayavi window to the specified folder path\n",
    "# studyID = header_file_path.split('/')[-2].split('_')[2].replace(\"-V2\", \"\")\n",
    "folder_path = \"Z:/Q- Figures&Papers/1-T32-Poster/Nick/ExpDImages\"\n",
    "file_name = f\"Exp1_(dist700).png\"  # You can change the file format as needed, e.g., \"snapshot.png\", \"snapshot.jpg\", etc.\n",
    "\n",
    "mlab.savefig(folder_path + \"/\" + file_name)\n",
    "# mlab.close()\n",
    "\n",
    "# Show the Mayavi visualization\n",
    "mlab.show()"
   ]
  }
 ],
 "metadata": {
  "kernelspec": {
   "display_name": "venvnick",
   "language": "python",
   "name": "python3"
  },
  "language_info": {
   "codemirror_mode": {
    "name": "ipython",
    "version": 3
   },
   "file_extension": ".py",
   "mimetype": "text/x-python",
   "name": "python",
   "nbconvert_exporter": "python",
   "pygments_lexer": "ipython3",
   "version": "3.11.6"
  }
 },
 "nbformat": 4,
 "nbformat_minor": 2
}
