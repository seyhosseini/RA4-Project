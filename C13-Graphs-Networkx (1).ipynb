{
 "cells": [
  {
   "cell_type": "code",
   "execution_count": 99,
   "metadata": {},
   "outputs": [],
   "source": [
    "#0 Set anything that needs to be changed at the beginning:  $$$ LabelPath and GraphArtifactsFolderName\n",
    "# You have to restart the kernel each time it seems or sometimes Cell-22 spits an  error!!\n",
    "# Better clear all output too while you're at it!\n",
    "# Let's call this: VER2.1, Version-2.1: orders-4, output*0.38mm\n",
    "# Cases Done: [71,2,37,18,16,88,19,90,11,6,46,39,22,21,95,84,50,]\n",
    "import os\n",
    "\n",
    "# Only need to change here: Look for S-Final---label.nrrd:\n",
    "GraphArtifactsFolderName = \"Z:/Q- Figures/T32-Poster/Nick/Experiment/Case-68/\"\n",
    "LabelPath = \"Z:/D-Images/SPIROMICS-SubStudy/2-Results-CheckedDoneTemp/1-Done/Case-68-Spiromics-47033198/Markups/88-Jensen/S-Final-2-label.nrrd\"\n",
    "verbose = False # Set to True to see a lot more print outputs"
   ]
  },
  {
   "cell_type": "code",
   "execution_count": 100,
   "metadata": {},
   "outputs": [
    {
     "name": "stdout",
     "output_type": "stream",
     "text": [
      "Extracted Case Number: 68\n"
     ]
    }
   ],
   "source": [
    "#1 Load/create the masks: avmlabel, atree\n",
    "\n",
    "import numpy as np\n",
    "import nrrd  # pip install pynrrd\n",
    "import re\n",
    "\n",
    "if not os.path.exists(GraphArtifactsFolderName):\n",
    "    os.makedirs(GraphArtifactsFolderName)\n",
    "\n",
    "# CasePath is everything before the final \"/\"\n",
    "# Find the last occurrence of '/'\n",
    "last_slash_index = LabelPath.rfind('/')\n",
    "# Slice the string up to the last '/'\n",
    "casepath = LabelPath[:last_slash_index + 1] # .../1-Done/Case-56-Spiromics-48876393/Markups/88-Nate/\n",
    "\n",
    "avmlabel, metadata = nrrd.read(LabelPath)\n",
    "## Extract Case Number\n",
    "pattern = r\"Case-(\\d+)-\"\n",
    "\n",
    "# Use re.findall() to find all matches in the string\n",
    "matches = re.findall(pattern, casepath)\n",
    "\n",
    "# Extract the first matched number (if any)\n",
    "if matches:\n",
    "    CaseNumber = int(matches[0])\n",
    "    print(\"Extracted Case Number:\", CaseNumber) # To be used numerous times in the code\n",
    "else:\n",
    "    print(\"No 'Case-' followed by a number found in the string.\")\n",
    "\n",
    "atree = np.zeros_like(avmlabel)\n",
    "atree[avmlabel == 1] = 1"
   ]
  },
  {
   "cell_type": "code",
   "execution_count": 101,
   "metadata": {},
   "outputs": [],
   "source": [
    "#2 Inspect using mayavi: Check saved A-tree snapshot\n",
    "\n",
    "import winsound\n",
    "from mayavi import mlab\n",
    "import os\n",
    "\n",
    "frequency = 1000  # Frequency of the beep in Hertz\n",
    "duration = 1000  # Duration of the beep in milliseconds\n",
    "# winsound.Beep(frequency, duration)\n",
    "\n",
    "figure = mlab.figure(bgcolor=(1, 1, 1))\n",
    "contour = mlab.contour3d(atree, contours=[0.5], color=(1, 0, 0))\n",
    "\n",
    "if not os.path.exists(GraphArtifactsFolderName):\n",
    "    os.mkdir(GraphArtifactsFolderName)\n",
    "\n",
    "mlab.savefig(GraphArtifactsFolderName + f\"/AtreeSnapshot-{CaseNumber}.png\")  # You can specify the filename and format\n",
    "mlab.close()"
   ]
  },
  {
   "cell_type": "code",
   "execution_count": 102,
   "metadata": {},
   "outputs": [],
   "source": [
    "#3 Create/Fetch Skeleton\n",
    "\n",
    "from skimage.morphology import skeletonize_3d  # pip install scikit-image\n",
    "import numpy as np\n",
    "import nrrd  # pip install pynrrd\n",
    "\n",
    "# SkeletonPathName = f\"./Data/Artifacts/E-Case-{CaseNumber}-A-Skeleton.nrrd\"\n",
    "SkeletonPathName = GraphArtifactsFolderName + \"S-Final-2-label-Skeleton.nrrd\"\n",
    "# Create and save the skeleton:\n",
    "skeleton = skeletonize_3d(atree.astype(np.uint8))\n",
    "nrrd.write(SkeletonPathName, skeleton)\n",
    "\n",
    "# Or read it in:\n",
    "# skeleton, _ = nrrd.read(SkeletonPathName)"
   ]
  },
  {
   "cell_type": "code",
   "execution_count": 103,
   "metadata": {},
   "outputs": [],
   "source": [
    "#4 Compute/Fetch Distance Transform\n",
    "# Contains the Euclidean distance from each voxel to the nearest background voxel\n",
    "\n",
    "from scipy.ndimage import distance_transform_edt\n",
    "\n",
    "# EdtPathName = f\"./Data/Artifacts/I-Case-{CaseNumber}-EDT.nrrd\"\n",
    "EdtPathName = GraphArtifactsFolderName + f\"I-Case-{CaseNumber}-EDT.nrrd\"\n",
    "# Compute the distance transform\n",
    "distance_transform = distance_transform_edt(atree)\n",
    "nrrd.write(EdtPathName, distance_transform)\n",
    "\n",
    "# Or read it in\n",
    "# distance_transform, _ = nrrd.read(EdtPathName)"
   ]
  },
  {
   "cell_type": "code",
   "execution_count": 104,
   "metadata": {},
   "outputs": [],
   "source": [
    "#5 Create Graph/Edges/Neighbours/...\n",
    "# Step 2: Convert skeletonized image to a graph representation ########### Very bad code/ hard to understand *\n",
    "\n",
    "import networkx as nx\n",
    "\n",
    "graph = nx.Graph()\n",
    "indices = np.array(np.where(skeleton)) # 3x1000?\n",
    "num_points = indices.shape[1]\n",
    "for i in range(num_points): # 20,100 # num_points\n",
    "    point = tuple(indices[:, i])\n",
    "    neighbors = []\n",
    "    for offset in np.ndindex((3, 3, 3)): # (0,1,2 .. 0,1,2 .. 0,1,2)\n",
    "        neighbor = tuple(indices[:, i] + (np.array(offset) - 1)) # >> -1,0,1\n",
    "        if neighbor != point and neighbor in graph:\n",
    "            neighbors.append(neighbor)\n",
    "    graph.add_node(point)\n",
    "    graph.add_edges_from((point, n) for n in neighbors)"
   ]
  },
  {
   "cell_type": "code",
   "execution_count": 105,
   "metadata": {},
   "outputs": [
    {
     "name": "stdout",
     "output_type": "stream",
     "text": [
      "Number of Nodes: 11117\n",
      "Number of Edges: 11312\n"
     ]
    }
   ],
   "source": [
    "#6 Print_Stats [Nodes/Edges/...]\n",
    "\n",
    "def print_stats(graph):\n",
    "    num_nodes = nx.number_of_nodes(graph)\n",
    "    num_edges = nx.number_of_edges(graph)\n",
    "    # all_nodes = list(graph.nodes)\n",
    "    # all_edges = list(graph.edges)\n",
    "\n",
    "    print(\"Number of Nodes:\", num_nodes)\n",
    "    print(\"Number of Edges:\", num_edges)\n",
    "    # print(\"All Nodes:\", all_nodes)\n",
    "    # print(\"All Edges:\", all_edges)\n",
    "    return\n",
    "\n",
    "print_stats(graph)"
   ]
  },
  {
   "cell_type": "code",
   "execution_count": 106,
   "metadata": {},
   "outputs": [],
   "source": [
    "#7 Remove degree-2 nodes: Changes the graph *\n",
    "\n",
    "def RemoveAndReconnectDegree2Nodes(graph):\n",
    "    while True:\n",
    "        # Find nodes with degree 2\n",
    "        degree_two_nodes = [node for node, degree in graph.degree if degree == 2]\n",
    "        \n",
    "        # If there are no intermediate nodes to remove, break the loop\n",
    "        if not degree_two_nodes:\n",
    "            break    \n",
    "        # Remove the intermediate nodes\n",
    "        for node in degree_two_nodes:\n",
    "            neighbors = list(graph.neighbors(node))\n",
    "            if len(neighbors) == 2: ####### Redundant condition! *\n",
    "                graph.add_edge(neighbors[0], neighbors[1])\n",
    "            graph.remove_node(node)\n",
    "\n",
    "RemoveAndReconnectDegree2Nodes(graph)"
   ]
  },
  {
   "cell_type": "code",
   "execution_count": 107,
   "metadata": {},
   "outputs": [
    {
     "name": "stdout",
     "output_type": "stream",
     "text": [
      "Number of Nodes: 500\n",
      "Number of Edges: 693\n"
     ]
    }
   ],
   "source": [
    "#8 print_stats\n",
    "print_stats(graph)"
   ]
  },
  {
   "cell_type": "code",
   "execution_count": 108,
   "metadata": {},
   "outputs": [],
   "source": [
    "#9 Create/update 'edge_length' property for all edges *\n",
    "\n",
    "def UpdateEdgeLengths(G):\n",
    "    for edge in G.edges:\n",
    "        node1, node2 = edge\n",
    "        x1, y1, z1 = node1\n",
    "        x2, y2, z2 = node2\n",
    "        edge_length = np.sqrt((x2 - x1)**2 + (y2 - y1)**2 + (z2 - z1)**2)\n",
    "        G.edges[edge]['edge_length'] = edge_length\n",
    "\n",
    "UpdateEdgeLengths(graph)"
   ]
  },
  {
   "cell_type": "code",
   "execution_count": 110,
   "metadata": {},
   "outputs": [],
   "source": [
    "#10 Function: Plot-1: plot_3D: Plot Interactive 3D *\n",
    "\n",
    "import plotly.graph_objects as go  # pip install plotly # pip install nbformat\n",
    "from plotly.subplots import make_subplots\n",
    "\n",
    "def plot_3D(graph):\n",
    "    fig = make_subplots(rows=1, cols=1, specs=[[{'type': 'scatter3d'}]])\n",
    "    x, y, z = zip(*graph.nodes)\n",
    "    \n",
    "    leaf_nodes = [node for node, degree in graph.degree if degree == 1]\n",
    "    \n",
    "    node_trace = go.Scatter3d(\n",
    "        x=x,\n",
    "        y=y,\n",
    "        z=z,\n",
    "        mode='markers',\n",
    "        marker=dict(\n",
    "            size=2,\n",
    "            color='red', #['red' if node in leaf_nodes else 'blue' for node in graph.nodes()],\n",
    "            opacity=0.8\n",
    "        )\n",
    "    )\n",
    "    fig.add_trace(node_trace)\n",
    "\n",
    "    for edge in graph.edges():\n",
    "        x0, y0, z0 = edge[0]\n",
    "        x1, y1, z1 = edge[1]\n",
    "        \n",
    "        edge_length = graph.edges[edge]['edge_length']\n",
    "        edge_text = f'{edge_length:.2f}'  # Display the edge length as text\n",
    "        \n",
    "        edge_trace = go.Scatter3d(\n",
    "            x=[x0, x1],\n",
    "            y=[y0, y1],\n",
    "            z=[z0, z1],\n",
    "            mode='lines',\n",
    "            # line=dict(color='orange' if graph.edges[edge]['edge_length'] < 20 else 'gray',\n",
    "            #           width=3),\n",
    "            line=dict(color='gray', width=3),\n",
    "            hoverinfo='text',\n",
    "            text=edge_text\n",
    "        )\n",
    "        fig.add_trace(edge_trace)\n",
    "\n",
    "    fig.update_layout(  \n",
    "        scene=dict(\n",
    "        # Set background color to transparent or any color you prefer\n",
    "        bgcolor='rgba(0,0,0,0)',\n",
    "        \n",
    "        # Hide axes\n",
    "        xaxis=dict(showbackground=False, showgrid=False, zeroline=False, showline=False),\n",
    "        yaxis=dict(showbackground=False, showgrid=False, zeroline=False, showline=False),\n",
    "        zaxis=dict(showbackground=False, showgrid=False, zeroline=False, showline=False)\n",
    "        )\n",
    "    )\n",
    "    \n",
    "    fig.update_layout(\n",
    "        margin=dict(l=0, r=0, b=0, t=0),\n",
    "        scene=dict(\n",
    "            xaxis=dict(range=[0, max(x) + 1]),\n",
    "            yaxis=dict(range=[0, max(y) + 1]),\n",
    "            zaxis=dict(range=[0, max(z) + 1])\n",
    "        )\n",
    "    )\n",
    "\n",
    "    fig.show()\n",
    "    return"
   ]
  },
  {
   "cell_type": "code",
   "execution_count": null,
   "metadata": {},
   "outputs": [],
   "source": [
    "# ##11 Timed calling of plot_3D: Will take time to show up even when indicated done:\n",
    "\n",
    "# import time\n",
    "# StartTime = time.time()\n",
    "# print('Plotting the 3D Graph ..')\n",
    "# plot_3D(graph)\n",
    "# print(f'Elapsed: {time.time()-StartTime:5.2f}')"
   ]
  },
  {
   "cell_type": "code",
   "execution_count": 111,
   "metadata": {},
   "outputs": [
    {
     "name": "stdout",
     "output_type": "stream",
     "text": [
      "237 simple+complex 3-cycles exist\n",
      "\n"
     ]
    }
   ],
   "source": [
    "#12 Find all 3-cycels: Approach-9 with no duplicates\n",
    "\n",
    "# Function to find and print all length-3 cycles without duplicates\n",
    "def ReFindAndPrintLength3Cycles(G, Prnt=False):\n",
    "\n",
    "    length_3_cycles = set()\n",
    "    for node in G.nodes():\n",
    "        neighbors = list(G.neighbors(node))\n",
    "        for neighbor1 in neighbors:\n",
    "            for neighbor2 in neighbors:\n",
    "                if neighbor1 != neighbor2 and G.has_edge(neighbor1, neighbor2):\n",
    "                    cycle = tuple(sorted([node, neighbor1, neighbor2]))  # Sorting to avoid permutations\n",
    "                    length_3_cycles.add(cycle)\n",
    "\n",
    "    # Convert the cycles back to lists for printing\n",
    "    length_3_cycles = [list(cycle) for cycle in length_3_cycles]\n",
    "\n",
    "    # Print the length-3 cycles without duplicates\n",
    "    if Prnt:\n",
    "        print(len(length_3_cycles), 'simple+complex 3-cycles exist\\n')\n",
    "        # for cycle in length_3_cycles:\n",
    "        #     print(cycle)\n",
    "    return length_3_cycles\n",
    "\n",
    "length_3_cycles = ReFindAndPrintLength3Cycles(graph, Prnt=True)"
   ]
  },
  {
   "cell_type": "code",
   "execution_count": 112,
   "metadata": {},
   "outputs": [],
   "source": [
    "#13* Keep an intact copy of the graph:\n",
    "\n",
    "import copy\n",
    "graphintact = copy.deepcopy(graph)"
   ]
  },
  {
   "cell_type": "code",
   "execution_count": null,
   "metadata": {},
   "outputs": [],
   "source": [
    "#RR To refresh your graph once it's messed below, come back to this:\n",
    "# graph = copy.deepcopy(graphintact)"
   ]
  },
  {
   "cell_type": "code",
   "execution_count": 113,
   "metadata": {},
   "outputs": [
    {
     "name": "stdout",
     "output_type": "stream",
     "text": [
      "Number of Nodes: 500\n",
      "Number of Edges: 693\n",
      "\n",
      "Skipping to the next cycle ..\n",
      "\n",
      "Skipping to the next cycle ..\n",
      "\n",
      "Skipping to the next cycle ..\n",
      "\n",
      "Skipping to the next cycle ..\n",
      "\n",
      "Skipping to the next cycle ..\n",
      "\n",
      "Skipping to the next cycle ..\n",
      "\n",
      "Skipping to the next cycle ..\n",
      "\n",
      "Skipping to the next cycle ..\n",
      "\n",
      "Skipping to the next cycle ..\n",
      "\n",
      "Resolved the 3-cycle.\n",
      "Resolved the 3-cycle.\n",
      "Skipping to the next cycle ..\n",
      "\n",
      "Skipping to the next cycle ..\n",
      "\n",
      "Skipping to the next cycle ..\n",
      "\n",
      "Skipping to the next cycle ..\n",
      "\n",
      "Skipping to the next cycle ..\n",
      "\n",
      "Skipping to the next cycle ..\n",
      "\n",
      "Skipping to the next cycle ..\n",
      "\n",
      "Skipping to the next cycle ..\n",
      "\n",
      "NewAverageNode (431, 196, 436) not on the skeleton.\n",
      "Searching neighborhood 3\n",
      "Adjusted the NewAverageNode to (431, 195, 436)\n",
      "Resolved the 3-cycle.\n",
      "Skipping to the next cycle ..\n",
      "\n",
      "Skipping to the next cycle ..\n",
      "\n",
      "Skipping to the next cycle ..\n",
      "\n",
      "Skipping to the next cycle ..\n",
      "\n",
      "Skipping to the next cycle ..\n",
      "\n",
      "Skipping to the next cycle ..\n",
      "\n",
      "Skipping to the next cycle ..\n",
      "\n",
      "NewAverageNode (544, 305, 237) not on the skeleton.\n",
      "Searching neighborhood 3\n",
      "Adjusted the NewAverageNode to (543, 305, 237)\n",
      "Resolved the 3-cycle.\n",
      "Resolved the 3-cycle.\n",
      "Skipping to the next cycle ..\n",
      "\n",
      "Resolved the 3-cycle.\n",
      "Skipping to the next cycle ..\n",
      "\n",
      "Skipping to the next cycle ..\n",
      "\n",
      "Skipping to the next cycle ..\n",
      "\n",
      "Skipping to the next cycle ..\n",
      "\n",
      "Resolved the 3-cycle.\n",
      "Skipping to the next cycle ..\n",
      "\n",
      "Resolved the 3-cycle.\n",
      "Skipping to the next cycle ..\n",
      "\n",
      "Skipping to the next cycle ..\n",
      "\n",
      "Skipping to the next cycle ..\n",
      "\n",
      "Skipping to the next cycle ..\n",
      "\n",
      "Skipping to the next cycle ..\n",
      "\n",
      "Resolved the 3-cycle.\n",
      "Skipping to the next cycle ..\n",
      "\n",
      "Skipping to the next cycle ..\n",
      "\n",
      "Skipping to the next cycle ..\n",
      "\n",
      "Skipping to the next cycle ..\n",
      "\n",
      "NewAverageNode (508, 349, 417) not on the skeleton.\n",
      "Searching neighborhood 3\n",
      "Adjusted the NewAverageNode to (507, 349, 417)\n",
      "Resolved the 3-cycle.\n",
      "Resolved the 3-cycle.\n",
      "Skipping to the next cycle ..\n",
      "\n",
      "Skipping to the next cycle ..\n",
      "\n",
      "Skipping to the next cycle ..\n",
      "\n",
      "Skipping to the next cycle ..\n",
      "\n",
      "Skipping to the next cycle ..\n",
      "\n",
      "Resolved the 3-cycle.\n",
      "Skipping to the next cycle ..\n",
      "\n",
      "Resolved the 3-cycle.\n",
      "Resolved the 3-cycle.\n",
      "Skipping to the next cycle ..\n",
      "\n",
      "Skipping to the next cycle ..\n",
      "\n",
      "Skipping to the next cycle ..\n",
      "\n",
      "Resolved the 3-cycle.\n",
      "Skipping to the next cycle ..\n",
      "\n",
      "Skipping to the next cycle ..\n",
      "\n",
      "Skipping to the next cycle ..\n",
      "\n",
      "Skipping to the next cycle ..\n",
      "\n",
      "Skipping to the next cycle ..\n",
      "\n",
      "Skipping to the next cycle ..\n",
      "\n",
      "Skipping to the next cycle ..\n",
      "\n",
      "Skipping to the next cycle ..\n",
      "\n",
      "Skipping to the next cycle ..\n",
      "\n",
      "Skipping to the next cycle ..\n",
      "\n",
      "Skipping to the next cycle ..\n",
      "\n",
      "Skipping to the next cycle ..\n",
      "\n",
      "Skipping to the next cycle ..\n",
      "\n",
      "Skipping to the next cycle ..\n",
      "\n",
      "Resolved the 3-cycle.\n",
      "Skipping to the next cycle ..\n",
      "\n",
      "Skipping to the next cycle ..\n",
      "\n",
      "Skipping to the next cycle ..\n",
      "\n",
      "Skipping to the next cycle ..\n",
      "\n",
      "Resolved the 3-cycle.\n",
      "Resolved the 3-cycle.\n",
      "Skipping to the next cycle ..\n",
      "\n",
      "Skipping to the next cycle ..\n",
      "\n",
      "Skipping to the next cycle ..\n",
      "\n",
      "Resolved the 3-cycle.\n",
      "Skipping to the next cycle ..\n",
      "\n",
      "Skipping to the next cycle ..\n",
      "\n",
      "Skipping to the next cycle ..\n",
      "\n",
      "NewAverageNode (451, 274, 355) not on the skeleton.\n",
      "Searching neighborhood 3\n",
      "Adjusted the NewAverageNode to (451, 274, 356)\n",
      "Resolved the 3-cycle.\n",
      "Skipping to the next cycle ..\n",
      "\n",
      "Resolved the 3-cycle.\n",
      "Resolved the 3-cycle.\n",
      "Skipping to the next cycle ..\n",
      "\n",
      "Skipping to the next cycle ..\n",
      "\n",
      "Resolved the 3-cycle.\n",
      "Skipping to the next cycle ..\n",
      "\n",
      "Skipping to the next cycle ..\n",
      "\n",
      "Skipping to the next cycle ..\n",
      "\n",
      "Skipping to the next cycle ..\n",
      "\n",
      "Skipping to the next cycle ..\n",
      "\n",
      "NewAverageNode (422, 322, 385) not on the skeleton.\n",
      "Searching neighborhood 3\n",
      "Adjusted the NewAverageNode to (422, 321, 385)\n",
      "Resolved the 3-cycle.\n",
      "Skipping to the next cycle ..\n",
      "\n",
      "Skipping to the next cycle ..\n",
      "\n",
      "Skipping to the next cycle ..\n",
      "\n",
      "Skipping to the next cycle ..\n",
      "\n",
      "Skipping to the next cycle ..\n",
      "\n",
      "Skipping to the next cycle ..\n",
      "\n",
      "Skipping to the next cycle ..\n",
      "\n",
      "NewAverageNode (188, 258, 465) not on the skeleton.\n",
      "Searching neighborhood 3\n",
      "Adjusted the NewAverageNode to (187, 258, 465)\n",
      "Resolved the 3-cycle.\n",
      "Skipping to the next cycle ..\n",
      "\n",
      "Resolved the 3-cycle.\n",
      "Skipping to the next cycle ..\n",
      "\n",
      "Resolved the 3-cycle.\n",
      "Skipping to the next cycle ..\n",
      "\n",
      "Resolved the 3-cycle.\n",
      "Resolved the 3-cycle.\n",
      "Skipping to the next cycle ..\n",
      "\n",
      "Resolved the 3-cycle.\n",
      "Skipping to the next cycle ..\n",
      "\n",
      "Skipping to the next cycle ..\n",
      "\n",
      "Resolved the 3-cycle.\n",
      "Skipping to the next cycle ..\n",
      "\n",
      "Skipping to the next cycle ..\n",
      "\n",
      "Skipping to the next cycle ..\n",
      "\n",
      "Skipping to the next cycle ..\n",
      "\n",
      "Skipping to the next cycle ..\n",
      "\n",
      "Skipping to the next cycle ..\n",
      "\n",
      "Skipping to the next cycle ..\n",
      "\n",
      "Skipping to the next cycle ..\n",
      "\n",
      "Skipping to the next cycle ..\n",
      "\n",
      "Skipping to the next cycle ..\n",
      "\n",
      "Skipping to the next cycle ..\n",
      "\n",
      "Skipping to the next cycle ..\n",
      "\n",
      "Skipping to the next cycle ..\n",
      "\n",
      "Resolved the 3-cycle.\n",
      "Skipping to the next cycle ..\n",
      "\n",
      "Resolved the 3-cycle.\n",
      "Resolved the 3-cycle.\n",
      "Skipping to the next cycle ..\n",
      "\n",
      "Resolved the 3-cycle.\n",
      "Resolved the 3-cycle.\n",
      "Skipping to the next cycle ..\n",
      "\n",
      "Resolved the 3-cycle.\n",
      "Skipping to the next cycle ..\n",
      "\n",
      "Skipping to the next cycle ..\n",
      "\n",
      "Skipping to the next cycle ..\n",
      "\n",
      "NewAverageNode (447, 340, 245) not on the skeleton.\n",
      "Searching neighborhood 3\n",
      "Adjusted the NewAverageNode to (446, 340, 245)\n",
      "Resolved the 3-cycle.\n",
      "Skipping to the next cycle ..\n",
      "\n",
      "Skipping to the next cycle ..\n",
      "\n",
      "Skipping to the next cycle ..\n",
      "\n",
      "Skipping to the next cycle ..\n",
      "\n",
      "Skipping to the next cycle ..\n",
      "\n",
      "Skipping to the next cycle ..\n",
      "\n",
      "Resolved the 3-cycle.\n",
      "Skipping to the next cycle ..\n",
      "\n",
      "Skipping to the next cycle ..\n",
      "\n",
      "Skipping to the next cycle ..\n",
      "\n",
      "Skipping to the next cycle ..\n",
      "\n",
      "Skipping to the next cycle ..\n",
      "\n",
      "Skipping to the next cycle ..\n",
      "\n",
      "Skipping to the next cycle ..\n",
      "\n",
      "Skipping to the next cycle ..\n",
      "\n",
      "Skipping to the next cycle ..\n",
      "\n",
      "Skipping to the next cycle ..\n",
      "\n",
      "Skipping to the next cycle ..\n",
      "\n",
      "Skipping to the next cycle ..\n",
      "\n",
      "Skipping to the next cycle ..\n",
      "\n",
      "NewAverageNode (190, 133, 290) not on the skeleton.\n",
      "Searching neighborhood 3\n",
      "Adjusted the NewAverageNode to (189, 133, 290)\n",
      "Resolved the 3-cycle.\n",
      "Skipping to the next cycle ..\n",
      "\n",
      "Skipping to the next cycle ..\n",
      "\n",
      "Resolved the 3-cycle.\n",
      "Resolved the 3-cycle.\n",
      "NewAverageNode (421, 291, 414) not on the skeleton.\n",
      "Searching neighborhood 3\n",
      "Adjusted the NewAverageNode to (421, 290, 414)\n",
      "Resolved the 3-cycle.\n",
      "Skipping to the next cycle ..\n",
      "\n",
      "Resolved the 3-cycle.\n",
      "Skipping to the next cycle ..\n",
      "\n",
      "Skipping to the next cycle ..\n",
      "\n",
      "Skipping to the next cycle ..\n",
      "\n",
      "Skipping to the next cycle ..\n",
      "\n",
      "Skipping to the next cycle ..\n",
      "\n",
      "Skipping to the next cycle ..\n",
      "\n",
      "Skipping to the next cycle ..\n",
      "\n",
      "Skipping to the next cycle ..\n",
      "\n",
      "Skipping to the next cycle ..\n",
      "\n",
      "Skipping to the next cycle ..\n",
      "\n",
      "Skipping to the next cycle ..\n",
      "\n",
      "Resolved the 3-cycle.\n",
      "Skipping to the next cycle ..\n",
      "\n",
      "Skipping to the next cycle ..\n",
      "\n",
      "Skipping to the next cycle ..\n",
      "\n",
      "Skipping to the next cycle ..\n",
      "\n",
      "Skipping to the next cycle ..\n",
      "\n",
      "Skipping to the next cycle ..\n",
      "\n",
      "Skipping to the next cycle ..\n",
      "\n",
      "Skipping to the next cycle ..\n",
      "\n",
      "Skipping to the next cycle ..\n",
      "\n",
      "Skipping to the next cycle ..\n",
      "\n",
      "Skipping to the next cycle ..\n",
      "\n",
      "Resolved the 3-cycle.\n",
      "Skipping to the next cycle ..\n",
      "\n",
      "Resolved the 3-cycle.\n",
      "Skipping to the next cycle ..\n",
      "\n",
      "Skipping to the next cycle ..\n",
      "\n",
      "Skipping to the next cycle ..\n",
      "\n",
      "Skipping to the next cycle ..\n",
      "\n",
      "Resolved the 3-cycle.\n",
      "Skipping to the next cycle ..\n",
      "\n",
      "Skipping to the next cycle ..\n",
      "\n",
      "Skipping to the next cycle ..\n",
      "\n",
      "Skipping to the next cycle ..\n",
      "\n",
      "NewAverageNode (208, 287, 290) not on the skeleton.\n",
      "Searching neighborhood 3\n",
      "Adjusted the NewAverageNode to (207, 287, 290)\n",
      "Resolved the 3-cycle.\n",
      "Resolved the 3-cycle.\n",
      "Skipping to the next cycle ..\n",
      "\n",
      "Skipping to the next cycle ..\n",
      "\n",
      "Resolved the 3-cycle.\n",
      "Skipping to the next cycle ..\n",
      "\n",
      "NewAverageNode (189, 181, 323) not on the skeleton.\n",
      "Searching neighborhood 3\n",
      "Adjusted the NewAverageNode to (188, 181, 323)\n",
      "Resolved the 3-cycle.\n",
      "Skipping to the next cycle ..\n",
      "\n",
      "Skipping to the next cycle ..\n",
      "\n",
      "Resolved the 3-cycle.\n",
      "Skipping to the next cycle ..\n",
      "\n",
      "Skipping to the next cycle ..\n",
      "\n",
      "Skipping to the next cycle ..\n",
      "\n",
      "Resolved the 3-cycle.\n",
      "Skipping to the next cycle ..\n",
      "\n",
      "Skipping to the next cycle ..\n",
      "\n",
      "Skipping to the next cycle ..\n",
      "\n",
      "Skipping to the next cycle ..\n",
      "\n",
      "Skipping to the next cycle ..\n",
      "\n",
      "Skipping to the next cycle ..\n",
      "\n",
      "Resolved the 3-cycle.\n",
      "Skipping to the next cycle ..\n",
      "\n",
      "Skipping to the next cycle ..\n",
      "\n",
      "Skipping to the next cycle ..\n",
      "\n",
      "\n",
      "Number of Nodes: 390\n",
      "Number of Edges: 528\n"
     ]
    }
   ],
   "source": [
    "#14 Only once: This changes the graph: Resolve isolated 3-cycles by merging the 3 nodes and reconnecting edges\n",
    "\n",
    "print_stats(graph)\n",
    "print()\n",
    "length_3_cycles = ReFindAndPrintLength3Cycles(graph, Prnt=False)\n",
    "\n",
    "for cycle in length_3_cycles:\n",
    "\n",
    "    # For each cycle, find the outer/final neighbors\n",
    "    finalneighbors = []\n",
    "    for node in cycle:\n",
    "        DEGR = graph.degree(node)\n",
    "        if DEGR != 3:\n",
    "            # print(Fore.YELLOW + f'\\nThis is not a simple cycle. Node {node} is degree {DEGR}. Breaking ..' + Style.RESET_ALL)\n",
    "            if verbose: print(f'{cycle} is not a simple cycle. Node {node} is degree {DEGR}.')\n",
    "            break\n",
    "        finalneighbors.extend([neighbor for neighbor in graph.neighbors(node) if neighbor not in cycle])\n",
    "    if verbose:\n",
    "        if DEGR == 3:\n",
    "            print('cycle:', cycle)\n",
    "    # print('finalneighbors:', finalneighbors)\n",
    "    if DEGR != 3:\n",
    "        print(\"Skipping to the next cycle ..\\n\")\n",
    "        continue\n",
    "\n",
    "    # Takes the 3 nodes in the cycle and forms their average\n",
    "    NewAverageNode = tuple(round((a + b + c) / 3) for a, b, c in zip(cycle[0], cycle[1], cycle[2])) # zip(tuple1, tuple2, tuple3)\n",
    "    # print('NewAverageNode:', NewAverageNode)\n",
    "\n",
    "    # If NewAverageNode not on the skeleton, go to its neighborhood and find the nearest voxel that lies on the skeleton:\n",
    "    if skeleton[*NewAverageNode] == 0:\n",
    "        print(f\"NewAverageNode {NewAverageNode} not on the skeleton.\")\n",
    "        xxna, yyna, zzna = NewAverageNode\n",
    "        success = False\n",
    "        NeighbrhdSize = 3\n",
    "        while success == False:\n",
    "            print(f\"Searching neighborhood {NeighbrhdSize}\")\n",
    "            lowerbnd = -(NeighbrhdSize//2)\n",
    "            upperbnd =  (NeighbrhdSize//2) + 1\n",
    "            neighbors = [(i, j, k) for i in range(lowerbnd, upperbnd) for j in range(lowerbnd, upperbnd) for k in range(lowerbnd, upperbnd)]\n",
    "            neighbors.remove((0,0,0))\n",
    "            for neighbor_offset in neighbors:\n",
    "                nnx, nny, nnz = xxna + neighbor_offset[0], yyna + neighbor_offset[1], zzna + neighbor_offset[2]\n",
    "                if 0 <= nnx < skeleton.shape[0] and 0 <= nny < skeleton.shape[1] and 0 <= nnz < skeleton.shape[2]:\n",
    "                    if skeleton[nnx, nny, nnz] != 0:\n",
    "                        NewAverageNode = (nnx, nny, nnz)\n",
    "                        print(f\"Adjusted the NewAverageNode to {NewAverageNode}\")\n",
    "                        success = True\n",
    "                        break            \n",
    "            NeighbrhdSize += 2\n",
    "\n",
    "    # Now remove the old 3 nodes in cycle\n",
    "    for node in cycle:\n",
    "        graph.remove_node(node)\n",
    "    # print('Removed the 3 nodes in cycle')\n",
    "\n",
    "    # Add the new average node\n",
    "    graph.add_node(NewAverageNode)\n",
    "    # print('Added new average node')\n",
    "\n",
    "    # Make the new edges/connections\n",
    "    for node in finalneighbors:\n",
    "        graph.add_edge(node, NewAverageNode)\n",
    "    # print('Added the final edges')\n",
    "\n",
    "    print('Resolved the 3-cycle.')\n",
    "    UpdateEdgeLengths(graph)\n",
    "    # print_stats(graph)\n",
    "    if verbose: print()\n",
    "\n",
    "print()\n",
    "print_stats(graph)"
   ]
  },
  {
   "cell_type": "code",
   "execution_count": 114,
   "metadata": {},
   "outputs": [
    {
     "name": "stdout",
     "output_type": "stream",
     "text": [
      "182 complex 3-cycles exist\n",
      "195 edges in complex 3-cycles exist\n"
     ]
    }
   ],
   "source": [
    "#15 Create updated list of all edges in cycles: [they're probably complex cycles now at this point]\n",
    "\n",
    "length_3_cycles = ReFindAndPrintLength3Cycles(graph)\n",
    "print(f\"{len(length_3_cycles)} complex 3-cycles exist\")\n",
    "\n",
    "EdgesInCyclesWithDuplicates = [[L[i], L[(i+1)%3]] for L in length_3_cycles for i in [0, 1, 2]]\n",
    "\n",
    "EdgesInCycles = []\n",
    "for edge in EdgesInCyclesWithDuplicates:\n",
    "    if ([edge[0],edge[1]] not in EdgesInCycles) and ([edge[1],edge[0]] not in EdgesInCycles):\n",
    "         EdgesInCycles.append(edge)\n",
    "        #  print(f'Appended {edge} to EdgesInCycles list')\n",
    "\n",
    "print(len(EdgesInCycles), 'edges in complex 3-cycles exist')"
   ]
  },
  {
   "cell_type": "code",
   "execution_count": 115,
   "metadata": {},
   "outputs": [
    {
     "data": {
      "application/vnd.plotly.v1+json": {
       "config": {
        "plotlyServerURL": "https://plot.ly"
       },
       "data": [
        {
         "marker": {
          "color": "grey",
          "opacity": 0.1,
          "size": 2
         },
         "mode": "markers",
         "type": "scatter3d",
         "x": [
          53,
          63,
          74,
          79,
          82,
          83,
          88,
          90,
          92,
          94,
          96,
          99,
          101,
          101,
          101,
          108,
          109,
          109,
          111,
          112,
          112,
          112,
          113,
          113,
          118,
          119,
          120,
          124,
          128,
          130,
          138,
          139,
          142,
          142,
          142,
          142,
          142,
          143,
          143,
          143,
          143,
          143,
          143,
          143,
          143,
          144,
          144,
          144,
          144,
          144,
          144,
          144,
          144,
          144,
          144,
          144,
          144,
          144,
          145,
          145,
          145,
          145,
          145,
          145,
          145,
          145,
          145,
          145,
          145,
          145,
          146,
          146,
          146,
          146,
          146,
          146,
          146,
          146,
          146,
          146,
          146,
          147,
          147,
          147,
          147,
          147,
          148,
          152,
          154,
          164,
          165,
          166,
          166,
          168,
          170,
          176,
          181,
          182,
          182,
          183,
          185,
          185,
          186,
          187,
          188,
          190,
          191,
          192,
          194,
          196,
          196,
          197,
          198,
          199,
          200,
          200,
          201,
          201,
          207,
          207,
          207,
          207,
          208,
          209,
          210,
          211,
          211,
          213,
          215,
          216,
          218,
          219,
          219,
          219,
          220,
          221,
          224,
          224,
          229,
          230,
          230,
          232,
          232,
          235,
          237,
          237,
          238,
          239,
          240,
          242,
          243,
          244,
          245,
          246,
          247,
          248,
          249,
          249,
          251,
          254,
          258,
          260,
          266,
          268,
          270,
          274,
          289,
          303,
          358,
          359,
          372,
          372,
          373,
          374,
          375,
          379,
          384,
          384,
          386,
          386,
          390,
          394,
          395,
          396,
          398,
          403,
          404,
          406,
          406,
          410,
          410,
          411,
          412,
          413,
          413,
          416,
          417,
          422,
          423,
          425,
          425,
          425,
          429,
          431,
          432,
          432,
          432,
          432,
          433,
          433,
          433,
          434,
          434,
          436,
          439,
          439,
          441,
          442,
          443,
          444,
          446,
          446,
          446,
          446,
          447,
          447,
          449,
          450,
          450,
          452,
          453,
          453,
          453,
          453,
          453,
          454,
          454,
          455,
          456,
          457,
          460,
          460,
          462,
          462,
          462,
          465,
          466,
          468,
          469,
          469,
          469,
          470,
          470,
          471,
          472,
          472,
          473,
          475,
          475,
          476,
          476,
          477,
          477,
          478,
          479,
          481,
          482,
          486,
          489,
          490,
          490,
          492,
          494,
          494,
          497,
          501,
          503,
          504,
          507,
          508,
          508,
          510,
          512,
          513,
          515,
          518,
          521,
          522,
          523,
          524,
          526,
          531,
          531,
          532,
          532,
          533,
          535,
          535,
          540,
          542,
          545,
          545,
          546,
          548,
          548,
          549,
          550,
          551,
          557,
          558,
          560,
          560,
          561,
          561,
          563,
          566,
          567,
          568,
          568,
          568,
          570,
          571,
          573,
          575,
          579,
          582,
          584,
          585,
          587,
          589,
          597,
          598,
          600,
          604,
          607,
          404,
          149,
          431,
          543,
          465,
          467,
          219,
          126,
          173,
          507,
          217,
          208,
          191,
          431,
          487,
          476,
          271,
          441,
          102,
          451,
          216,
          122,
          131,
          422,
          187,
          435,
          217,
          425,
          484,
          212,
          523,
          150,
          188,
          211,
          459,
          351,
          206,
          446,
          237,
          189,
          186,
          196,
          421,
          234,
          197,
          219,
          526,
          261,
          207,
          570,
          241,
          188,
          296,
          254,
          460
         ],
         "y": [
          234,
          303,
          222,
          209,
          213,
          191,
          230,
          360,
          336,
          312,
          363,
          316,
          103,
          115,
          153,
          262,
          153,
          192,
          156,
          287,
          325,
          355,
          161,
          270,
          210,
          189,
          223,
          117,
          182,
          180,
          196,
          197,
          225,
          225,
          225,
          226,
          266,
          224,
          224,
          225,
          225,
          226,
          226,
          227,
          227,
          224,
          224,
          224,
          225,
          225,
          226,
          226,
          227,
          227,
          228,
          228,
          299,
          377,
          224,
          224,
          224,
          225,
          225,
          226,
          226,
          227,
          227,
          228,
          228,
          229,
          224,
          224,
          225,
          225,
          226,
          226,
          226,
          227,
          227,
          227,
          228,
          225,
          225,
          226,
          226,
          226,
          266,
          155,
          348,
          417,
          351,
          84,
          173,
          379,
          171,
          398,
          186,
          331,
          346,
          111,
          251,
          376,
          311,
          181,
          113,
          396,
          135,
          309,
          109,
          185,
          202,
          207,
          107,
          80,
          184,
          385,
          129,
          242,
          132,
          357,
          383,
          401,
          382,
          69,
          70,
          69,
          278,
          255,
          239,
          247,
          154,
          94,
          242,
          257,
          139,
          220,
          353,
          376,
          238,
          243,
          363,
          195,
          227,
          249,
          367,
          398,
          367,
          207,
          197,
          265,
          213,
          251,
          281,
          393,
          270,
          227,
          265,
          366,
          266,
          354,
          290,
          368,
          256,
          316,
          256,
          329,
          301,
          243,
          136,
          139,
          195,
          197,
          195,
          198,
          207,
          206,
          141,
          217,
          142,
          216,
          177,
          141,
          226,
          98,
          244,
          346,
          265,
          290,
          291,
          100,
          320,
          241,
          91,
          51,
          201,
          233,
          153,
          346,
          289,
          205,
          244,
          412,
          371,
          257,
          172,
          244,
          257,
          286,
          245,
          245,
          245,
          245,
          357,
          197,
          177,
          298,
          342,
          251,
          141,
          251,
          178,
          270,
          275,
          403,
          273,
          292,
          272,
          173,
          354,
          265,
          103,
          259,
          260,
          260,
          366,
          258,
          314,
          240,
          261,
          352,
          331,
          331,
          190,
          261,
          324,
          246,
          400,
          400,
          115,
          186,
          422,
          236,
          395,
          277,
          209,
          391,
          239,
          82,
          403,
          366,
          380,
          85,
          326,
          395,
          395,
          212,
          410,
          286,
          377,
          241,
          406,
          401,
          312,
          397,
          186,
          363,
          414,
          284,
          171,
          323,
          360,
          300,
          313,
          303,
          315,
          76,
          409,
          241,
          184,
          162,
          219,
          153,
          244,
          111,
          354,
          373,
          297,
          298,
          390,
          288,
          391,
          409,
          388,
          254,
          258,
          349,
          184,
          390,
          270,
          134,
          163,
          200,
          188,
          338,
          149,
          160,
          299,
          144,
          287,
          299,
          141,
          230,
          282,
          178,
          138,
          187,
          302,
          309,
          312,
          262,
          304,
          211,
          326,
          183,
          265,
          236,
          168,
          195,
          305,
          94,
          330,
          234,
          320,
          391,
          349,
          347,
          304,
          152,
          195,
          208,
          231,
          251,
          135,
          315,
          274,
          225,
          320,
          270,
          321,
          258,
          347,
          241,
          237,
          392,
          284,
          195,
          226,
          183,
          307,
          272,
          165,
          299,
          340,
          267,
          133,
          100,
          138,
          290,
          212,
          129,
          226,
          118,
          318,
          287,
          183,
          326,
          181,
          195,
          254,
          354
         ],
         "z": [
          259,
          233,
          152,
          156,
          158,
          418,
          207,
          109,
          265,
          175,
          228,
          167,
          168,
          243,
          246,
          424,
          323,
          320,
          440,
          310,
          367,
          165,
          157,
          266,
          549,
          454,
          212,
          353,
          445,
          445,
          515,
          515,
          229,
          230,
          231,
          230,
          285,
          230,
          231,
          229,
          232,
          229,
          231,
          229,
          230,
          229,
          230,
          231,
          228,
          232,
          228,
          232,
          228,
          231,
          229,
          230,
          477,
          233,
          229,
          230,
          231,
          228,
          232,
          227,
          232,
          228,
          231,
          228,
          230,
          229,
          230,
          231,
          229,
          232,
          228,
          229,
          232,
          229,
          230,
          231,
          229,
          230,
          231,
          230,
          231,
          233,
          529,
          271,
          253,
          315,
          334,
          269,
          553,
          412,
          297,
          343,
          491,
          530,
          345,
          170,
          292,
          146,
          550,
          319,
          411,
          169,
          502,
          524,
          245,
          470,
          354,
          654,
          514,
          289,
          470,
          262,
          553,
          233,
          432,
          188,
          261,
          241,
          262,
          255,
          255,
          254,
          369,
          334,
          353,
          341,
          434,
          425,
          579,
          374,
          407,
          373,
          456,
          147,
          277,
          286,
          159,
          454,
          243,
          468,
          155,
          262,
          411,
          502,
          455,
          163,
          519,
          258,
          387,
          153,
          492,
          537,
          482,
          145,
          482,
          345,
          353,
          219,
          233,
          441,
          132,
          315,
          148,
          141,
          396,
          396,
          433,
          439,
          432,
          437,
          446,
          441,
          354,
          445,
          351,
          444,
          619,
          353,
          444,
          492,
          589,
          527,
          533,
          442,
          395,
          488,
          305,
          580,
          495,
          380,
          578,
          666,
          440,
          142,
          416,
          451,
          516,
          398,
          372,
          416,
          634,
          500,
          414,
          420,
          498,
          499,
          500,
          498,
          279,
          458,
          411,
          421,
          459,
          469,
          462,
          479,
          423,
          599,
          363,
          346,
          363,
          579,
          563,
          427,
          512,
          275,
          433,
          536,
          535,
          536,
          525,
          473,
          306,
          402,
          285,
          520,
          273,
          278,
          632,
          320,
          409,
          235,
          146,
          148,
          534,
          360,
          247,
          648,
          389,
          336,
          480,
          449,
          582,
          418,
          224,
          391,
          262,
          444,
          411,
          247,
          246,
          369,
          129,
          540,
          384,
          590,
          283,
          268,
          547,
          393,
          499,
          481,
          222,
          562,
          542,
          172,
          213,
          327,
          396,
          325,
          324,
          305,
          360,
          406,
          412,
          491,
          231,
          417,
          502,
          296,
          431,
          407,
          241,
          242,
          187,
          227,
          282,
          108,
          142,
          426,
          425,
          342,
          297,
          140,
          447,
          170,
          393,
          165,
          159,
          236,
          202,
          289,
          337,
          198,
          287,
          339,
          199,
          373,
          218,
          267,
          180,
          277,
          277,
          279,
          328,
          273,
          264,
          197,
          186,
          123,
          141,
          440,
          351,
          436,
          237,
          430,
          264,
          367,
          177,
          339,
          417,
          197,
          279,
          312,
          609,
          363,
          408,
          156,
          468,
          172,
          356,
          424,
          174,
          278,
          385,
          465,
          491,
          353,
          474,
          271,
          299,
          314,
          235,
          325,
          277,
          344,
          418,
          372,
          245,
          376,
          290,
          276,
          505,
          414,
          383,
          519,
          419,
          310,
          239,
          290,
          277,
          410,
          323,
          405,
          186,
          460
         ]
        },
        {
         "hoverinfo": "text",
         "line": {
          "color": "rgba(128, 128, 128, 0.4)",
          "width": 1
         },
         "mode": "lines",
         "text": "70.32",
         "type": "scatter3d",
         "x": [
          53,
          113
         ],
         "y": [
          234,
          270
         ],
         "z": [
          259,
          266
         ]
        },
        {
         "hoverinfo": "text",
         "line": {
          "color": "rgba(128, 128, 128, 0.4)",
          "width": 1
         },
         "mode": "lines",
         "text": "68.40",
         "type": "scatter3d",
         "x": [
          63,
          113
         ],
         "y": [
          303,
          270
         ],
         "z": [
          233,
          266
         ]
        },
        {
         "hoverinfo": "text",
         "line": {
          "color": "rgba(128, 128, 128, 0.4)",
          "width": 1
         },
         "mode": "lines",
         "text": "13.45",
         "type": "scatter3d",
         "x": [
          74,
          82
         ],
         "y": [
          222,
          213
         ],
         "z": [
          152,
          158
         ]
        },
        {
         "hoverinfo": "text",
         "line": {
          "color": "rgba(128, 128, 128, 0.4)",
          "width": 1
         },
         "mode": "lines",
         "text": "5.39",
         "type": "scatter3d",
         "x": [
          79,
          82
         ],
         "y": [
          209,
          213
         ],
         "z": [
          156,
          158
         ]
        },
        {
         "hoverinfo": "text",
         "line": {
          "color": "rgba(128, 128, 128, 0.4)",
          "width": 1
         },
         "mode": "lines",
         "text": "66.78",
         "type": "scatter3d",
         "x": [
          82,
          120
         ],
         "y": [
          213,
          223
         ],
         "z": [
          158,
          212
         ]
        },
        {
         "hoverinfo": "text",
         "line": {
          "color": "rgba(128, 128, 128, 0.4)",
          "width": 1
         },
         "mode": "lines",
         "text": "53.24",
         "type": "scatter3d",
         "x": [
          83,
          128
         ],
         "y": [
          191,
          182
         ],
         "z": [
          418,
          445
         ]
        },
        {
         "hoverinfo": "text",
         "line": {
          "color": "rgba(128, 128, 128, 0.4)",
          "width": 1
         },
         "mode": "lines",
         "text": "33.14",
         "type": "scatter3d",
         "x": [
          88,
          120
         ],
         "y": [
          230,
          223
         ],
         "z": [
          207,
          212
         ]
        },
        {
         "hoverinfo": "text",
         "line": {
          "color": "rgba(128, 128, 128, 0.4)",
          "width": 1
         },
         "mode": "lines",
         "text": "82.76",
         "type": "scatter3d",
         "x": [
          90,
          122
         ],
         "y": [
          360,
          320
         ],
         "z": [
          109,
          174
         ]
        },
        {
         "hoverinfo": "text",
         "line": {
          "color": "rgba(128, 128, 128, 0.4)",
          "width": 1
         },
         "mode": "lines",
         "text": "77.76",
         "type": "scatter3d",
         "x": [
          92,
          131
         ],
         "y": [
          336,
          270
         ],
         "z": [
          265,
          278
         ]
        },
        {
         "hoverinfo": "text",
         "line": {
          "color": "rgba(128, 128, 128, 0.4)",
          "width": 1
         },
         "mode": "lines",
         "text": "9.06",
         "type": "scatter3d",
         "x": [
          94,
          102
         ],
         "y": [
          312,
          315
         ],
         "z": [
          175,
          172
         ]
        },
        {
         "hoverinfo": "text",
         "line": {
          "color": "rgba(128, 128, 128, 0.4)",
          "width": 1
         },
         "mode": "lines",
         "text": "64.92",
         "type": "scatter3d",
         "x": [
          96,
          154
         ],
         "y": [
          363,
          348
         ],
         "z": [
          228,
          253
         ]
        },
        {
         "hoverinfo": "text",
         "line": {
          "color": "rgba(128, 128, 128, 0.4)",
          "width": 1
         },
         "mode": "lines",
         "text": "5.92",
         "type": "scatter3d",
         "x": [
          99,
          102
         ],
         "y": [
          316,
          315
         ],
         "z": [
          167,
          172
         ]
        },
        {
         "hoverinfo": "text",
         "line": {
          "color": "rgba(128, 128, 128, 0.4)",
          "width": 1
         },
         "mode": "lines",
         "text": "126.15",
         "type": "scatter3d",
         "x": [
          101,
          152
         ],
         "y": [
          103,
          155
         ],
         "z": [
          168,
          271
         ]
        },
        {
         "hoverinfo": "text",
         "line": {
          "color": "rgba(128, 128, 128, 0.4)",
          "width": 1
         },
         "mode": "lines",
         "text": "103.99",
         "type": "scatter3d",
         "x": [
          101,
          170
         ],
         "y": [
          115,
          171
         ],
         "z": [
          243,
          297
         ]
        },
        {
         "hoverinfo": "text",
         "line": {
          "color": "rgba(128, 128, 128, 0.4)",
          "width": 1
         },
         "mode": "lines",
         "text": "56.83",
         "type": "scatter3d",
         "x": [
          101,
          152
         ],
         "y": [
          153,
          155
         ],
         "z": [
          246,
          271
         ]
        },
        {
         "hoverinfo": "text",
         "line": {
          "color": "rgba(128, 128, 128, 0.4)",
          "width": 1
         },
         "mode": "lines",
         "text": "114.16",
         "type": "scatter3d",
         "x": [
          108,
          216
         ],
         "y": [
          262,
          225
         ],
         "z": [
          424,
          424
         ]
        },
        {
         "hoverinfo": "text",
         "line": {
          "color": "rgba(128, 128, 128, 0.4)",
          "width": 1
         },
         "mode": "lines",
         "text": "51.08",
         "type": "scatter3d",
         "x": [
          109,
          149
         ],
         "y": [
          153,
          168
         ],
         "z": [
          323,
          351
         ]
        },
        {
         "hoverinfo": "text",
         "line": {
          "color": "rgba(128, 128, 128, 0.4)",
          "width": 1
         },
         "mode": "lines",
         "text": "79.67",
         "type": "scatter3d",
         "x": [
          109,
          188
         ],
         "y": [
          192,
          183
         ],
         "z": [
          320,
          325
         ]
        },
        {
         "hoverinfo": "text",
         "line": {
          "color": "rgba(128, 128, 128, 0.4)",
          "width": 1
         },
         "mode": "lines",
         "text": "31.02",
         "type": "scatter3d",
         "x": [
          111,
          130
         ],
         "y": [
          156,
          180
         ],
         "z": [
          440,
          445
         ]
        },
        {
         "hoverinfo": "text",
         "line": {
          "color": "rgba(128, 128, 128, 0.4)",
          "width": 1
         },
         "mode": "lines",
         "text": "44.34",
         "type": "scatter3d",
         "x": [
          112,
          142
         ],
         "y": [
          287,
          266
         ],
         "z": [
          310,
          285
         ]
        },
        {
         "hoverinfo": "text",
         "line": {
          "color": "rgba(128, 128, 128, 0.4)",
          "width": 1
         },
         "mode": "lines",
         "text": "109.61",
         "type": "scatter3d",
         "x": [
          112,
          211
         ],
         "y": [
          325,
          278
         ],
         "z": [
          367,
          369
         ]
        },
        {
         "hoverinfo": "text",
         "line": {
          "color": "rgba(128, 128, 128, 0.4)",
          "width": 1
         },
         "mode": "lines",
         "text": "39.56",
         "type": "scatter3d",
         "x": [
          112,
          126
         ],
         "y": [
          355,
          320
         ],
         "z": [
          165,
          177
         ]
        },
        {
         "hoverinfo": "text",
         "line": {
          "color": "rgba(128, 128, 128, 0.4)",
          "width": 1
         },
         "mode": "lines",
         "text": "108.06",
         "type": "scatter3d",
         "x": [
          113,
          150
         ],
         "y": [
          161,
          226
         ],
         "z": [
          157,
          235
         ]
        },
        {
         "hoverinfo": "text",
         "line": {
          "color": "rgba(128, 128, 128, 0.4)",
          "width": 1
         },
         "mode": "lines",
         "text": "21.63",
         "type": "scatter3d",
         "x": [
          113,
          131
         ],
         "y": [
          270,
          270
         ],
         "z": [
          266,
          278
         ]
        },
        {
         "hoverinfo": "text",
         "line": {
          "color": "rgba(128, 128, 128, 0.4)",
          "width": 1
         },
         "mode": "lines",
         "text": "42.02",
         "type": "scatter3d",
         "x": [
          118,
          139
         ],
         "y": [
          210,
          197
         ],
         "z": [
          549,
          515
         ]
        },
        {
         "hoverinfo": "text",
         "line": {
          "color": "rgba(128, 128, 128, 0.4)",
          "width": 1
         },
         "mode": "lines",
         "text": "14.53",
         "type": "scatter3d",
         "x": [
          119,
          128
         ],
         "y": [
          189,
          182
         ],
         "z": [
          454,
          445
         ]
        },
        {
         "hoverinfo": "text",
         "line": {
          "color": "rgba(128, 128, 128, 0.4)",
          "width": 1
         },
         "mode": "lines",
         "text": "27.87",
         "type": "scatter3d",
         "x": [
          120,
          142
         ],
         "y": [
          223,
          225
         ],
         "z": [
          212,
          229
         ]
        },
        {
         "hoverinfo": "text",
         "line": {
          "color": "rgba(128, 128, 128, 0.4)",
          "width": 1
         },
         "mode": "lines",
         "text": "56.83",
         "type": "scatter3d",
         "x": [
          124,
          149
         ],
         "y": [
          117,
          168
         ],
         "z": [
          353,
          351
         ]
        },
        {
         "hoverinfo": "text",
         "line": {
          "color": "rgba(128, 128, 128, 0.4)",
          "width": 1
         },
         "mode": "lines",
         "text": "2.83",
         "type": "scatter3d",
         "x": [
          128,
          130
         ],
         "y": [
          182,
          180
         ],
         "z": [
          445,
          445
         ]
        },
        {
         "hoverinfo": "text",
         "line": {
          "color": "rgba(128, 128, 128, 0.4)",
          "width": 1
         },
         "mode": "lines",
         "text": "70.75",
         "type": "scatter3d",
         "x": [
          130,
          196
         ],
         "y": [
          180,
          185
         ],
         "z": [
          445,
          470
         ]
        },
        {
         "hoverinfo": "text",
         "line": {
          "color": "rgba(128, 128, 128, 0.4)",
          "width": 1
         },
         "mode": "lines",
         "text": "1.41",
         "type": "scatter3d",
         "x": [
          138,
          139
         ],
         "y": [
          196,
          197
         ],
         "z": [
          515,
          515
         ]
        },
        {
         "hoverinfo": "text",
         "line": {
          "color": "rgba(128, 128, 128, 0.4)",
          "width": 1
         },
         "mode": "lines",
         "text": "49.61",
         "type": "scatter3d",
         "x": [
          139,
          181
         ],
         "y": [
          197,
          186
         ],
         "z": [
          515,
          491
         ]
        },
        {
         "hoverinfo": "text",
         "line": {
          "color": "rgba(255, 0, 0, 0.8)",
          "width": 8
         },
         "mode": "lines",
         "text": "1.00",
         "type": "scatter3d",
         "x": [
          142,
          142
         ],
         "y": [
          225,
          225
         ],
         "z": [
          229,
          230
         ]
        },
        {
         "hoverinfo": "text",
         "line": {
          "color": "rgba(255, 0, 0, 0.8)",
          "width": 8
         },
         "mode": "lines",
         "text": "1.41",
         "type": "scatter3d",
         "x": [
          142,
          142
         ],
         "y": [
          225,
          226
         ],
         "z": [
          229,
          230
         ]
        },
        {
         "hoverinfo": "text",
         "line": {
          "color": "rgba(255, 0, 0, 0.8)",
          "width": 8
         },
         "mode": "lines",
         "text": "1.73",
         "type": "scatter3d",
         "x": [
          142,
          143
         ],
         "y": [
          225,
          224
         ],
         "z": [
          229,
          230
         ]
        },
        {
         "hoverinfo": "text",
         "line": {
          "color": "rgba(255, 0, 0, 0.8)",
          "width": 8
         },
         "mode": "lines",
         "text": "1.00",
         "type": "scatter3d",
         "x": [
          142,
          143
         ],
         "y": [
          225,
          225
         ],
         "z": [
          229,
          229
         ]
        },
        {
         "hoverinfo": "text",
         "line": {
          "color": "rgba(255, 0, 0, 0.8)",
          "width": 8
         },
         "mode": "lines",
         "text": "1.41",
         "type": "scatter3d",
         "x": [
          142,
          143
         ],
         "y": [
          225,
          226
         ],
         "z": [
          229,
          229
         ]
        },
        {
         "hoverinfo": "text",
         "line": {
          "color": "rgba(255, 0, 0, 0.8)",
          "width": 8
         },
         "mode": "lines",
         "text": "1.00",
         "type": "scatter3d",
         "x": [
          142,
          142
         ],
         "y": [
          225,
          225
         ],
         "z": [
          230,
          231
         ]
        },
        {
         "hoverinfo": "text",
         "line": {
          "color": "rgba(255, 0, 0, 0.8)",
          "width": 8
         },
         "mode": "lines",
         "text": "1.00",
         "type": "scatter3d",
         "x": [
          142,
          142
         ],
         "y": [
          225,
          226
         ],
         "z": [
          230,
          230
         ]
        },
        {
         "hoverinfo": "text",
         "line": {
          "color": "rgba(255, 0, 0, 0.8)",
          "width": 8
         },
         "mode": "lines",
         "text": "1.41",
         "type": "scatter3d",
         "x": [
          142,
          143
         ],
         "y": [
          225,
          224
         ],
         "z": [
          230,
          230
         ]
        },
        {
         "hoverinfo": "text",
         "line": {
          "color": "rgba(255, 0, 0, 0.8)",
          "width": 8
         },
         "mode": "lines",
         "text": "1.73",
         "type": "scatter3d",
         "x": [
          142,
          143
         ],
         "y": [
          225,
          224
         ],
         "z": [
          230,
          231
         ]
        },
        {
         "hoverinfo": "text",
         "line": {
          "color": "rgba(255, 0, 0, 0.8)",
          "width": 8
         },
         "mode": "lines",
         "text": "1.41",
         "type": "scatter3d",
         "x": [
          142,
          143
         ],
         "y": [
          225,
          225
         ],
         "z": [
          230,
          229
         ]
        },
        {
         "hoverinfo": "text",
         "line": {
          "color": "rgba(255, 0, 0, 0.8)",
          "width": 8
         },
         "mode": "lines",
         "text": "1.73",
         "type": "scatter3d",
         "x": [
          142,
          143
         ],
         "y": [
          225,
          226
         ],
         "z": [
          230,
          229
         ]
        },
        {
         "hoverinfo": "text",
         "line": {
          "color": "rgba(255, 0, 0, 0.8)",
          "width": 8
         },
         "mode": "lines",
         "text": "1.73",
         "type": "scatter3d",
         "x": [
          142,
          143
         ],
         "y": [
          225,
          226
         ],
         "z": [
          230,
          231
         ]
        },
        {
         "hoverinfo": "text",
         "line": {
          "color": "rgba(255, 0, 0, 0.8)",
          "width": 8
         },
         "mode": "lines",
         "text": "1.41",
         "type": "scatter3d",
         "x": [
          142,
          142
         ],
         "y": [
          225,
          226
         ],
         "z": [
          231,
          230
         ]
        },
        {
         "hoverinfo": "text",
         "line": {
          "color": "rgba(255, 0, 0, 0.8)",
          "width": 8
         },
         "mode": "lines",
         "text": "1.73",
         "type": "scatter3d",
         "x": [
          142,
          143
         ],
         "y": [
          225,
          224
         ],
         "z": [
          231,
          230
         ]
        },
        {
         "hoverinfo": "text",
         "line": {
          "color": "rgba(255, 0, 0, 0.8)",
          "width": 8
         },
         "mode": "lines",
         "text": "1.41",
         "type": "scatter3d",
         "x": [
          142,
          143
         ],
         "y": [
          225,
          224
         ],
         "z": [
          231,
          231
         ]
        },
        {
         "hoverinfo": "text",
         "line": {
          "color": "rgba(255, 0, 0, 0.8)",
          "width": 8
         },
         "mode": "lines",
         "text": "1.41",
         "type": "scatter3d",
         "x": [
          142,
          143
         ],
         "y": [
          225,
          225
         ],
         "z": [
          231,
          232
         ]
        },
        {
         "hoverinfo": "text",
         "line": {
          "color": "rgba(255, 0, 0, 0.8)",
          "width": 8
         },
         "mode": "lines",
         "text": "1.41",
         "type": "scatter3d",
         "x": [
          142,
          143
         ],
         "y": [
          225,
          226
         ],
         "z": [
          231,
          231
         ]
        },
        {
         "hoverinfo": "text",
         "line": {
          "color": "rgba(255, 0, 0, 0.8)",
          "width": 8
         },
         "mode": "lines",
         "text": "1.73",
         "type": "scatter3d",
         "x": [
          142,
          143
         ],
         "y": [
          226,
          225
         ],
         "z": [
          230,
          229
         ]
        },
        {
         "hoverinfo": "text",
         "line": {
          "color": "rgba(255, 0, 0, 0.8)",
          "width": 8
         },
         "mode": "lines",
         "text": "1.41",
         "type": "scatter3d",
         "x": [
          142,
          143
         ],
         "y": [
          226,
          226
         ],
         "z": [
          230,
          229
         ]
        },
        {
         "hoverinfo": "text",
         "line": {
          "color": "rgba(255, 0, 0, 0.8)",
          "width": 8
         },
         "mode": "lines",
         "text": "1.41",
         "type": "scatter3d",
         "x": [
          142,
          143
         ],
         "y": [
          226,
          226
         ],
         "z": [
          230,
          231
         ]
        },
        {
         "hoverinfo": "text",
         "line": {
          "color": "rgba(255, 0, 0, 0.8)",
          "width": 8
         },
         "mode": "lines",
         "text": "1.73",
         "type": "scatter3d",
         "x": [
          142,
          143
         ],
         "y": [
          226,
          227
         ],
         "z": [
          230,
          229
         ]
        },
        {
         "hoverinfo": "text",
         "line": {
          "color": "rgba(255, 0, 0, 0.8)",
          "width": 8
         },
         "mode": "lines",
         "text": "1.41",
         "type": "scatter3d",
         "x": [
          142,
          143
         ],
         "y": [
          226,
          227
         ],
         "z": [
          230,
          230
         ]
        },
        {
         "hoverinfo": "text",
         "line": {
          "color": "rgba(128, 128, 128, 0.4)",
          "width": 1
         },
         "mode": "lines",
         "text": "46.08",
         "type": "scatter3d",
         "x": [
          142,
          185
         ],
         "y": [
          266,
          251
         ],
         "z": [
          285,
          292
         ]
        },
        {
         "hoverinfo": "text",
         "line": {
          "color": "rgba(128, 128, 128, 0.4)",
          "width": 1
         },
         "mode": "lines",
         "text": "13.64",
         "type": "scatter3d",
         "x": [
          142,
          131
         ],
         "y": [
          266,
          270
         ],
         "z": [
          285,
          278
         ]
        },
        {
         "hoverinfo": "text",
         "line": {
          "color": "rgba(255, 0, 0, 0.8)",
          "width": 8
         },
         "mode": "lines",
         "text": "1.00",
         "type": "scatter3d",
         "x": [
          143,
          143
         ],
         "y": [
          224,
          224
         ],
         "z": [
          230,
          231
         ]
        },
        {
         "hoverinfo": "text",
         "line": {
          "color": "rgba(255, 0, 0, 0.8)",
          "width": 8
         },
         "mode": "lines",
         "text": "1.41",
         "type": "scatter3d",
         "x": [
          143,
          143
         ],
         "y": [
          224,
          225
         ],
         "z": [
          230,
          229
         ]
        },
        {
         "hoverinfo": "text",
         "line": {
          "color": "rgba(255, 0, 0, 0.8)",
          "width": 8
         },
         "mode": "lines",
         "text": "1.41",
         "type": "scatter3d",
         "x": [
          143,
          144
         ],
         "y": [
          224,
          224
         ],
         "z": [
          230,
          229
         ]
        },
        {
         "hoverinfo": "text",
         "line": {
          "color": "rgba(255, 0, 0, 0.8)",
          "width": 8
         },
         "mode": "lines",
         "text": "1.00",
         "type": "scatter3d",
         "x": [
          143,
          144
         ],
         "y": [
          224,
          224
         ],
         "z": [
          230,
          230
         ]
        },
        {
         "hoverinfo": "text",
         "line": {
          "color": "rgba(255, 0, 0, 0.8)",
          "width": 8
         },
         "mode": "lines",
         "text": "1.41",
         "type": "scatter3d",
         "x": [
          143,
          144
         ],
         "y": [
          224,
          224
         ],
         "z": [
          230,
          231
         ]
        },
        {
         "hoverinfo": "text",
         "line": {
          "color": "rgba(255, 0, 0, 0.8)",
          "width": 8
         },
         "mode": "lines",
         "text": "1.41",
         "type": "scatter3d",
         "x": [
          143,
          143
         ],
         "y": [
          224,
          225
         ],
         "z": [
          231,
          232
         ]
        },
        {
         "hoverinfo": "text",
         "line": {
          "color": "rgba(255, 0, 0, 0.8)",
          "width": 8
         },
         "mode": "lines",
         "text": "1.41",
         "type": "scatter3d",
         "x": [
          143,
          144
         ],
         "y": [
          224,
          224
         ],
         "z": [
          231,
          230
         ]
        },
        {
         "hoverinfo": "text",
         "line": {
          "color": "rgba(255, 0, 0, 0.8)",
          "width": 8
         },
         "mode": "lines",
         "text": "1.00",
         "type": "scatter3d",
         "x": [
          143,
          144
         ],
         "y": [
          224,
          224
         ],
         "z": [
          231,
          231
         ]
        },
        {
         "hoverinfo": "text",
         "line": {
          "color": "rgba(255, 0, 0, 0.8)",
          "width": 8
         },
         "mode": "lines",
         "text": "1.73",
         "type": "scatter3d",
         "x": [
          143,
          144
         ],
         "y": [
          224,
          225
         ],
         "z": [
          231,
          232
         ]
        },
        {
         "hoverinfo": "text",
         "line": {
          "color": "rgba(255, 0, 0, 0.8)",
          "width": 8
         },
         "mode": "lines",
         "text": "1.00",
         "type": "scatter3d",
         "x": [
          143,
          143
         ],
         "y": [
          225,
          226
         ],
         "z": [
          229,
          229
         ]
        },
        {
         "hoverinfo": "text",
         "line": {
          "color": "rgba(255, 0, 0, 0.8)",
          "width": 8
         },
         "mode": "lines",
         "text": "1.41",
         "type": "scatter3d",
         "x": [
          143,
          144
         ],
         "y": [
          225,
          224
         ],
         "z": [
          229,
          229
         ]
        },
        {
         "hoverinfo": "text",
         "line": {
          "color": "rgba(255, 0, 0, 0.8)",
          "width": 8
         },
         "mode": "lines",
         "text": "1.73",
         "type": "scatter3d",
         "x": [
          143,
          144
         ],
         "y": [
          225,
          224
         ],
         "z": [
          229,
          230
         ]
        },
        {
         "hoverinfo": "text",
         "line": {
          "color": "rgba(255, 0, 0, 0.8)",
          "width": 8
         },
         "mode": "lines",
         "text": "1.41",
         "type": "scatter3d",
         "x": [
          143,
          144
         ],
         "y": [
          225,
          225
         ],
         "z": [
          229,
          228
         ]
        },
        {
         "hoverinfo": "text",
         "line": {
          "color": "rgba(255, 0, 0, 0.8)",
          "width": 8
         },
         "mode": "lines",
         "text": "1.73",
         "type": "scatter3d",
         "x": [
          143,
          144
         ],
         "y": [
          225,
          226
         ],
         "z": [
          229,
          228
         ]
        },
        {
         "hoverinfo": "text",
         "line": {
          "color": "rgba(255, 0, 0, 0.8)",
          "width": 8
         },
         "mode": "lines",
         "text": "1.41",
         "type": "scatter3d",
         "x": [
          143,
          143
         ],
         "y": [
          225,
          226
         ],
         "z": [
          232,
          231
         ]
        },
        {
         "hoverinfo": "text",
         "line": {
          "color": "rgba(255, 0, 0, 0.8)",
          "width": 8
         },
         "mode": "lines",
         "text": "1.73",
         "type": "scatter3d",
         "x": [
          143,
          144
         ],
         "y": [
          225,
          224
         ],
         "z": [
          232,
          231
         ]
        },
        {
         "hoverinfo": "text",
         "line": {
          "color": "rgba(255, 0, 0, 0.8)",
          "width": 8
         },
         "mode": "lines",
         "text": "1.00",
         "type": "scatter3d",
         "x": [
          143,
          144
         ],
         "y": [
          225,
          225
         ],
         "z": [
          232,
          232
         ]
        },
        {
         "hoverinfo": "text",
         "line": {
          "color": "rgba(255, 0, 0, 0.8)",
          "width": 8
         },
         "mode": "lines",
         "text": "1.41",
         "type": "scatter3d",
         "x": [
          143,
          144
         ],
         "y": [
          225,
          226
         ],
         "z": [
          232,
          232
         ]
        },
        {
         "hoverinfo": "text",
         "line": {
          "color": "rgba(255, 0, 0, 0.8)",
          "width": 8
         },
         "mode": "lines",
         "text": "1.00",
         "type": "scatter3d",
         "x": [
          143,
          143
         ],
         "y": [
          226,
          227
         ],
         "z": [
          229,
          229
         ]
        },
        {
         "hoverinfo": "text",
         "line": {
          "color": "rgba(255, 0, 0, 0.8)",
          "width": 8
         },
         "mode": "lines",
         "text": "1.41",
         "type": "scatter3d",
         "x": [
          143,
          143
         ],
         "y": [
          226,
          227
         ],
         "z": [
          229,
          230
         ]
        },
        {
         "hoverinfo": "text",
         "line": {
          "color": "rgba(255, 0, 0, 0.8)",
          "width": 8
         },
         "mode": "lines",
         "text": "1.73",
         "type": "scatter3d",
         "x": [
          143,
          144
         ],
         "y": [
          226,
          225
         ],
         "z": [
          229,
          228
         ]
        },
        {
         "hoverinfo": "text",
         "line": {
          "color": "rgba(255, 0, 0, 0.8)",
          "width": 8
         },
         "mode": "lines",
         "text": "1.41",
         "type": "scatter3d",
         "x": [
          143,
          144
         ],
         "y": [
          226,
          226
         ],
         "z": [
          229,
          228
         ]
        },
        {
         "hoverinfo": "text",
         "line": {
          "color": "rgba(255, 0, 0, 0.8)",
          "width": 8
         },
         "mode": "lines",
         "text": "1.73",
         "type": "scatter3d",
         "x": [
          143,
          144
         ],
         "y": [
          226,
          227
         ],
         "z": [
          229,
          228
         ]
        },
        {
         "hoverinfo": "text",
         "line": {
          "color": "rgba(255, 0, 0, 0.8)",
          "width": 8
         },
         "mode": "lines",
         "text": "1.41",
         "type": "scatter3d",
         "x": [
          143,
          143
         ],
         "y": [
          226,
          227
         ],
         "z": [
          231,
          230
         ]
        },
        {
         "hoverinfo": "text",
         "line": {
          "color": "rgba(255, 0, 0, 0.8)",
          "width": 8
         },
         "mode": "lines",
         "text": "1.73",
         "type": "scatter3d",
         "x": [
          143,
          144
         ],
         "y": [
          226,
          225
         ],
         "z": [
          231,
          232
         ]
        },
        {
         "hoverinfo": "text",
         "line": {
          "color": "rgba(255, 0, 0, 0.8)",
          "width": 8
         },
         "mode": "lines",
         "text": "1.41",
         "type": "scatter3d",
         "x": [
          143,
          144
         ],
         "y": [
          226,
          226
         ],
         "z": [
          231,
          232
         ]
        },
        {
         "hoverinfo": "text",
         "line": {
          "color": "rgba(255, 0, 0, 0.8)",
          "width": 8
         },
         "mode": "lines",
         "text": "1.41",
         "type": "scatter3d",
         "x": [
          143,
          144
         ],
         "y": [
          226,
          227
         ],
         "z": [
          231,
          231
         ]
        },
        {
         "hoverinfo": "text",
         "line": {
          "color": "rgba(255, 0, 0, 0.8)",
          "width": 8
         },
         "mode": "lines",
         "text": "1.00",
         "type": "scatter3d",
         "x": [
          143,
          143
         ],
         "y": [
          227,
          227
         ],
         "z": [
          229,
          230
         ]
        },
        {
         "hoverinfo": "text",
         "line": {
          "color": "rgba(255, 0, 0, 0.8)",
          "width": 8
         },
         "mode": "lines",
         "text": "1.73",
         "type": "scatter3d",
         "x": [
          143,
          144
         ],
         "y": [
          227,
          226
         ],
         "z": [
          229,
          228
         ]
        },
        {
         "hoverinfo": "text",
         "line": {
          "color": "rgba(255, 0, 0, 0.8)",
          "width": 8
         },
         "mode": "lines",
         "text": "1.41",
         "type": "scatter3d",
         "x": [
          143,
          144
         ],
         "y": [
          227,
          227
         ],
         "z": [
          229,
          228
         ]
        },
        {
         "hoverinfo": "text",
         "line": {
          "color": "rgba(255, 0, 0, 0.8)",
          "width": 8
         },
         "mode": "lines",
         "text": "1.41",
         "type": "scatter3d",
         "x": [
          143,
          144
         ],
         "y": [
          227,
          228
         ],
         "z": [
          229,
          229
         ]
        },
        {
         "hoverinfo": "text",
         "line": {
          "color": "rgba(255, 0, 0, 0.8)",
          "width": 8
         },
         "mode": "lines",
         "text": "1.73",
         "type": "scatter3d",
         "x": [
          143,
          144
         ],
         "y": [
          227,
          228
         ],
         "z": [
          229,
          230
         ]
        },
        {
         "hoverinfo": "text",
         "line": {
          "color": "rgba(255, 0, 0, 0.8)",
          "width": 8
         },
         "mode": "lines",
         "text": "1.41",
         "type": "scatter3d",
         "x": [
          143,
          144
         ],
         "y": [
          227,
          227
         ],
         "z": [
          230,
          231
         ]
        },
        {
         "hoverinfo": "text",
         "line": {
          "color": "rgba(255, 0, 0, 0.8)",
          "width": 8
         },
         "mode": "lines",
         "text": "1.73",
         "type": "scatter3d",
         "x": [
          143,
          144
         ],
         "y": [
          227,
          228
         ],
         "z": [
          230,
          229
         ]
        },
        {
         "hoverinfo": "text",
         "line": {
          "color": "rgba(255, 0, 0, 0.8)",
          "width": 8
         },
         "mode": "lines",
         "text": "1.41",
         "type": "scatter3d",
         "x": [
          143,
          144
         ],
         "y": [
          227,
          228
         ],
         "z": [
          230,
          230
         ]
        },
        {
         "hoverinfo": "text",
         "line": {
          "color": "rgba(255, 0, 0, 0.8)",
          "width": 8
         },
         "mode": "lines",
         "text": "1.00",
         "type": "scatter3d",
         "x": [
          144,
          144
         ],
         "y": [
          224,
          224
         ],
         "z": [
          229,
          230
         ]
        },
        {
         "hoverinfo": "text",
         "line": {
          "color": "rgba(255, 0, 0, 0.8)",
          "width": 8
         },
         "mode": "lines",
         "text": "1.41",
         "type": "scatter3d",
         "x": [
          144,
          144
         ],
         "y": [
          224,
          225
         ],
         "z": [
          229,
          228
         ]
        },
        {
         "hoverinfo": "text",
         "line": {
          "color": "rgba(255, 0, 0, 0.8)",
          "width": 8
         },
         "mode": "lines",
         "text": "1.00",
         "type": "scatter3d",
         "x": [
          144,
          145
         ],
         "y": [
          224,
          224
         ],
         "z": [
          229,
          229
         ]
        },
        {
         "hoverinfo": "text",
         "line": {
          "color": "rgba(255, 0, 0, 0.8)",
          "width": 8
         },
         "mode": "lines",
         "text": "1.41",
         "type": "scatter3d",
         "x": [
          144,
          145
         ],
         "y": [
          224,
          224
         ],
         "z": [
          229,
          230
         ]
        },
        {
         "hoverinfo": "text",
         "line": {
          "color": "rgba(255, 0, 0, 0.8)",
          "width": 8
         },
         "mode": "lines",
         "text": "1.73",
         "type": "scatter3d",
         "x": [
          144,
          145
         ],
         "y": [
          224,
          225
         ],
         "z": [
          229,
          228
         ]
        },
        {
         "hoverinfo": "text",
         "line": {
          "color": "rgba(255, 0, 0, 0.8)",
          "width": 8
         },
         "mode": "lines",
         "text": "1.00",
         "type": "scatter3d",
         "x": [
          144,
          144
         ],
         "y": [
          224,
          224
         ],
         "z": [
          230,
          231
         ]
        },
        {
         "hoverinfo": "text",
         "line": {
          "color": "rgba(255, 0, 0, 0.8)",
          "width": 8
         },
         "mode": "lines",
         "text": "1.41",
         "type": "scatter3d",
         "x": [
          144,
          145
         ],
         "y": [
          224,
          224
         ],
         "z": [
          230,
          229
         ]
        },
        {
         "hoverinfo": "text",
         "line": {
          "color": "rgba(255, 0, 0, 0.8)",
          "width": 8
         },
         "mode": "lines",
         "text": "1.00",
         "type": "scatter3d",
         "x": [
          144,
          145
         ],
         "y": [
          224,
          224
         ],
         "z": [
          230,
          230
         ]
        },
        {
         "hoverinfo": "text",
         "line": {
          "color": "rgba(255, 0, 0, 0.8)",
          "width": 8
         },
         "mode": "lines",
         "text": "1.41",
         "type": "scatter3d",
         "x": [
          144,
          145
         ],
         "y": [
          224,
          224
         ],
         "z": [
          230,
          231
         ]
        },
        {
         "hoverinfo": "text",
         "line": {
          "color": "rgba(255, 0, 0, 0.8)",
          "width": 8
         },
         "mode": "lines",
         "text": "1.41",
         "type": "scatter3d",
         "x": [
          144,
          144
         ],
         "y": [
          224,
          225
         ],
         "z": [
          231,
          232
         ]
        },
        {
         "hoverinfo": "text",
         "line": {
          "color": "rgba(255, 0, 0, 0.8)",
          "width": 8
         },
         "mode": "lines",
         "text": "1.41",
         "type": "scatter3d",
         "x": [
          144,
          145
         ],
         "y": [
          224,
          224
         ],
         "z": [
          231,
          230
         ]
        },
        {
         "hoverinfo": "text",
         "line": {
          "color": "rgba(255, 0, 0, 0.8)",
          "width": 8
         },
         "mode": "lines",
         "text": "1.00",
         "type": "scatter3d",
         "x": [
          144,
          145
         ],
         "y": [
          224,
          224
         ],
         "z": [
          231,
          231
         ]
        },
        {
         "hoverinfo": "text",
         "line": {
          "color": "rgba(255, 0, 0, 0.8)",
          "width": 8
         },
         "mode": "lines",
         "text": "1.73",
         "type": "scatter3d",
         "x": [
          144,
          145
         ],
         "y": [
          224,
          225
         ],
         "z": [
          231,
          232
         ]
        },
        {
         "hoverinfo": "text",
         "line": {
          "color": "rgba(255, 0, 0, 0.8)",
          "width": 8
         },
         "mode": "lines",
         "text": "1.00",
         "type": "scatter3d",
         "x": [
          144,
          144
         ],
         "y": [
          225,
          226
         ],
         "z": [
          228,
          228
         ]
        },
        {
         "hoverinfo": "text",
         "line": {
          "color": "rgba(255, 0, 0, 0.8)",
          "width": 8
         },
         "mode": "lines",
         "text": "1.73",
         "type": "scatter3d",
         "x": [
          144,
          145
         ],
         "y": [
          225,
          224
         ],
         "z": [
          228,
          229
         ]
        },
        {
         "hoverinfo": "text",
         "line": {
          "color": "rgba(255, 0, 0, 0.8)",
          "width": 8
         },
         "mode": "lines",
         "text": "1.00",
         "type": "scatter3d",
         "x": [
          144,
          145
         ],
         "y": [
          225,
          225
         ],
         "z": [
          228,
          228
         ]
        },
        {
         "hoverinfo": "text",
         "line": {
          "color": "rgba(255, 0, 0, 0.8)",
          "width": 8
         },
         "mode": "lines",
         "text": "1.73",
         "type": "scatter3d",
         "x": [
          144,
          145
         ],
         "y": [
          225,
          226
         ],
         "z": [
          228,
          227
         ]
        },
        {
         "hoverinfo": "text",
         "line": {
          "color": "rgba(255, 0, 0, 0.8)",
          "width": 8
         },
         "mode": "lines",
         "text": "1.00",
         "type": "scatter3d",
         "x": [
          144,
          144
         ],
         "y": [
          225,
          226
         ],
         "z": [
          232,
          232
         ]
        },
        {
         "hoverinfo": "text",
         "line": {
          "color": "rgba(255, 0, 0, 0.8)",
          "width": 8
         },
         "mode": "lines",
         "text": "1.73",
         "type": "scatter3d",
         "x": [
          144,
          145
         ],
         "y": [
          225,
          224
         ],
         "z": [
          232,
          231
         ]
        },
        {
         "hoverinfo": "text",
         "line": {
          "color": "rgba(255, 0, 0, 0.8)",
          "width": 8
         },
         "mode": "lines",
         "text": "1.00",
         "type": "scatter3d",
         "x": [
          144,
          145
         ],
         "y": [
          225,
          225
         ],
         "z": [
          232,
          232
         ]
        },
        {
         "hoverinfo": "text",
         "line": {
          "color": "rgba(255, 0, 0, 0.8)",
          "width": 8
         },
         "mode": "lines",
         "text": "1.41",
         "type": "scatter3d",
         "x": [
          144,
          145
         ],
         "y": [
          225,
          226
         ],
         "z": [
          232,
          232
         ]
        },
        {
         "hoverinfo": "text",
         "line": {
          "color": "rgba(255, 0, 0, 0.8)",
          "width": 8
         },
         "mode": "lines",
         "text": "1.00",
         "type": "scatter3d",
         "x": [
          144,
          144
         ],
         "y": [
          226,
          227
         ],
         "z": [
          228,
          228
         ]
        },
        {
         "hoverinfo": "text",
         "line": {
          "color": "rgba(255, 0, 0, 0.8)",
          "width": 8
         },
         "mode": "lines",
         "text": "1.41",
         "type": "scatter3d",
         "x": [
          144,
          145
         ],
         "y": [
          226,
          225
         ],
         "z": [
          228,
          228
         ]
        },
        {
         "hoverinfo": "text",
         "line": {
          "color": "rgba(255, 0, 0, 0.8)",
          "width": 8
         },
         "mode": "lines",
         "text": "1.41",
         "type": "scatter3d",
         "x": [
          144,
          145
         ],
         "y": [
          226,
          226
         ],
         "z": [
          228,
          227
         ]
        },
        {
         "hoverinfo": "text",
         "line": {
          "color": "rgba(255, 0, 0, 0.8)",
          "width": 8
         },
         "mode": "lines",
         "text": "1.41",
         "type": "scatter3d",
         "x": [
          144,
          145
         ],
         "y": [
          226,
          227
         ],
         "z": [
          228,
          228
         ]
        },
        {
         "hoverinfo": "text",
         "line": {
          "color": "rgba(255, 0, 0, 0.8)",
          "width": 8
         },
         "mode": "lines",
         "text": "1.41",
         "type": "scatter3d",
         "x": [
          144,
          144
         ],
         "y": [
          226,
          227
         ],
         "z": [
          232,
          231
         ]
        },
        {
         "hoverinfo": "text",
         "line": {
          "color": "rgba(255, 0, 0, 0.8)",
          "width": 8
         },
         "mode": "lines",
         "text": "1.41",
         "type": "scatter3d",
         "x": [
          144,
          145
         ],
         "y": [
          226,
          225
         ],
         "z": [
          232,
          232
         ]
        },
        {
         "hoverinfo": "text",
         "line": {
          "color": "rgba(255, 0, 0, 0.8)",
          "width": 8
         },
         "mode": "lines",
         "text": "1.00",
         "type": "scatter3d",
         "x": [
          144,
          145
         ],
         "y": [
          226,
          226
         ],
         "z": [
          232,
          232
         ]
        },
        {
         "hoverinfo": "text",
         "line": {
          "color": "rgba(255, 0, 0, 0.8)",
          "width": 8
         },
         "mode": "lines",
         "text": "1.73",
         "type": "scatter3d",
         "x": [
          144,
          145
         ],
         "y": [
          226,
          227
         ],
         "z": [
          232,
          231
         ]
        },
        {
         "hoverinfo": "text",
         "line": {
          "color": "rgba(255, 0, 0, 0.8)",
          "width": 8
         },
         "mode": "lines",
         "text": "1.41",
         "type": "scatter3d",
         "x": [
          144,
          144
         ],
         "y": [
          227,
          228
         ],
         "z": [
          228,
          229
         ]
        },
        {
         "hoverinfo": "text",
         "line": {
          "color": "rgba(255, 0, 0, 0.8)",
          "width": 8
         },
         "mode": "lines",
         "text": "1.73",
         "type": "scatter3d",
         "x": [
          144,
          145
         ],
         "y": [
          227,
          226
         ],
         "z": [
          228,
          227
         ]
        },
        {
         "hoverinfo": "text",
         "line": {
          "color": "rgba(255, 0, 0, 0.8)",
          "width": 8
         },
         "mode": "lines",
         "text": "1.00",
         "type": "scatter3d",
         "x": [
          144,
          145
         ],
         "y": [
          227,
          227
         ],
         "z": [
          228,
          228
         ]
        },
        {
         "hoverinfo": "text",
         "line": {
          "color": "rgba(255, 0, 0, 0.8)",
          "width": 8
         },
         "mode": "lines",
         "text": "1.41",
         "type": "scatter3d",
         "x": [
          144,
          145
         ],
         "y": [
          227,
          228
         ],
         "z": [
          228,
          228
         ]
        },
        {
         "hoverinfo": "text",
         "line": {
          "color": "rgba(255, 0, 0, 0.8)",
          "width": 8
         },
         "mode": "lines",
         "text": "1.41",
         "type": "scatter3d",
         "x": [
          144,
          144
         ],
         "y": [
          227,
          228
         ],
         "z": [
          231,
          230
         ]
        },
        {
         "hoverinfo": "text",
         "line": {
          "color": "rgba(255, 0, 0, 0.8)",
          "width": 8
         },
         "mode": "lines",
         "text": "1.73",
         "type": "scatter3d",
         "x": [
          144,
          145
         ],
         "y": [
          227,
          226
         ],
         "z": [
          231,
          232
         ]
        },
        {
         "hoverinfo": "text",
         "line": {
          "color": "rgba(255, 0, 0, 0.8)",
          "width": 8
         },
         "mode": "lines",
         "text": "1.00",
         "type": "scatter3d",
         "x": [
          144,
          145
         ],
         "y": [
          227,
          227
         ],
         "z": [
          231,
          231
         ]
        },
        {
         "hoverinfo": "text",
         "line": {
          "color": "rgba(255, 0, 0, 0.8)",
          "width": 8
         },
         "mode": "lines",
         "text": "1.73",
         "type": "scatter3d",
         "x": [
          144,
          145
         ],
         "y": [
          227,
          228
         ],
         "z": [
          231,
          230
         ]
        },
        {
         "hoverinfo": "text",
         "line": {
          "color": "rgba(255, 0, 0, 0.8)",
          "width": 8
         },
         "mode": "lines",
         "text": "1.00",
         "type": "scatter3d",
         "x": [
          144,
          144
         ],
         "y": [
          228,
          228
         ],
         "z": [
          229,
          230
         ]
        },
        {
         "hoverinfo": "text",
         "line": {
          "color": "rgba(255, 0, 0, 0.8)",
          "width": 8
         },
         "mode": "lines",
         "text": "1.73",
         "type": "scatter3d",
         "x": [
          144,
          145
         ],
         "y": [
          228,
          227
         ],
         "z": [
          229,
          228
         ]
        },
        {
         "hoverinfo": "text",
         "line": {
          "color": "rgba(255, 0, 0, 0.8)",
          "width": 8
         },
         "mode": "lines",
         "text": "1.41",
         "type": "scatter3d",
         "x": [
          144,
          145
         ],
         "y": [
          228,
          228
         ],
         "z": [
          229,
          228
         ]
        },
        {
         "hoverinfo": "text",
         "line": {
          "color": "rgba(255, 0, 0, 0.8)",
          "width": 8
         },
         "mode": "lines",
         "text": "1.41",
         "type": "scatter3d",
         "x": [
          144,
          145
         ],
         "y": [
          228,
          228
         ],
         "z": [
          229,
          230
         ]
        },
        {
         "hoverinfo": "text",
         "line": {
          "color": "rgba(255, 0, 0, 0.8)",
          "width": 8
         },
         "mode": "lines",
         "text": "1.41",
         "type": "scatter3d",
         "x": [
          144,
          145
         ],
         "y": [
          228,
          229
         ],
         "z": [
          229,
          229
         ]
        },
        {
         "hoverinfo": "text",
         "line": {
          "color": "rgba(255, 0, 0, 0.8)",
          "width": 8
         },
         "mode": "lines",
         "text": "1.73",
         "type": "scatter3d",
         "x": [
          144,
          145
         ],
         "y": [
          228,
          227
         ],
         "z": [
          230,
          231
         ]
        },
        {
         "hoverinfo": "text",
         "line": {
          "color": "rgba(255, 0, 0, 0.8)",
          "width": 8
         },
         "mode": "lines",
         "text": "1.00",
         "type": "scatter3d",
         "x": [
          144,
          145
         ],
         "y": [
          228,
          228
         ],
         "z": [
          230,
          230
         ]
        },
        {
         "hoverinfo": "text",
         "line": {
          "color": "rgba(255, 0, 0, 0.8)",
          "width": 8
         },
         "mode": "lines",
         "text": "1.73",
         "type": "scatter3d",
         "x": [
          144,
          145
         ],
         "y": [
          228,
          229
         ],
         "z": [
          230,
          229
         ]
        },
        {
         "hoverinfo": "text",
         "line": {
          "color": "rgba(128, 128, 128, 0.4)",
          "width": 1
         },
         "mode": "lines",
         "text": "60.61",
         "type": "scatter3d",
         "x": [
          144,
          187
         ],
         "y": [
          299,
          258
         ],
         "z": [
          477,
          465
         ]
        },
        {
         "hoverinfo": "text",
         "line": {
          "color": "rgba(128, 128, 128, 0.4)",
          "width": 1
         },
         "mode": "lines",
         "text": "36.62",
         "type": "scatter3d",
         "x": [
          144,
          154
         ],
         "y": [
          377,
          348
         ],
         "z": [
          233,
          253
         ]
        },
        {
         "hoverinfo": "text",
         "line": {
          "color": "rgba(255, 0, 0, 0.8)",
          "width": 8
         },
         "mode": "lines",
         "text": "1.00",
         "type": "scatter3d",
         "x": [
          145,
          145
         ],
         "y": [
          224,
          224
         ],
         "z": [
          229,
          230
         ]
        },
        {
         "hoverinfo": "text",
         "line": {
          "color": "rgba(255, 0, 0, 0.8)",
          "width": 8
         },
         "mode": "lines",
         "text": "1.41",
         "type": "scatter3d",
         "x": [
          145,
          145
         ],
         "y": [
          224,
          225
         ],
         "z": [
          229,
          228
         ]
        },
        {
         "hoverinfo": "text",
         "line": {
          "color": "rgba(255, 0, 0, 0.8)",
          "width": 8
         },
         "mode": "lines",
         "text": "1.41",
         "type": "scatter3d",
         "x": [
          145,
          146
         ],
         "y": [
          224,
          224
         ],
         "z": [
          229,
          230
         ]
        },
        {
         "hoverinfo": "text",
         "line": {
          "color": "rgba(255, 0, 0, 0.8)",
          "width": 8
         },
         "mode": "lines",
         "text": "1.41",
         "type": "scatter3d",
         "x": [
          145,
          146
         ],
         "y": [
          224,
          225
         ],
         "z": [
          229,
          229
         ]
        },
        {
         "hoverinfo": "text",
         "line": {
          "color": "rgba(255, 0, 0, 0.8)",
          "width": 8
         },
         "mode": "lines",
         "text": "1.00",
         "type": "scatter3d",
         "x": [
          145,
          145
         ],
         "y": [
          224,
          224
         ],
         "z": [
          230,
          231
         ]
        },
        {
         "hoverinfo": "text",
         "line": {
          "color": "rgba(255, 0, 0, 0.8)",
          "width": 8
         },
         "mode": "lines",
         "text": "1.00",
         "type": "scatter3d",
         "x": [
          145,
          146
         ],
         "y": [
          224,
          224
         ],
         "z": [
          230,
          230
         ]
        },
        {
         "hoverinfo": "text",
         "line": {
          "color": "rgba(255, 0, 0, 0.8)",
          "width": 8
         },
         "mode": "lines",
         "text": "1.41",
         "type": "scatter3d",
         "x": [
          145,
          146
         ],
         "y": [
          224,
          224
         ],
         "z": [
          230,
          231
         ]
        },
        {
         "hoverinfo": "text",
         "line": {
          "color": "rgba(255, 0, 0, 0.8)",
          "width": 8
         },
         "mode": "lines",
         "text": "1.73",
         "type": "scatter3d",
         "x": [
          145,
          146
         ],
         "y": [
          224,
          225
         ],
         "z": [
          230,
          229
         ]
        },
        {
         "hoverinfo": "text",
         "line": {
          "color": "rgba(255, 0, 0, 0.8)",
          "width": 8
         },
         "mode": "lines",
         "text": "1.41",
         "type": "scatter3d",
         "x": [
          145,
          145
         ],
         "y": [
          224,
          225
         ],
         "z": [
          231,
          232
         ]
        },
        {
         "hoverinfo": "text",
         "line": {
          "color": "rgba(255, 0, 0, 0.8)",
          "width": 8
         },
         "mode": "lines",
         "text": "1.41",
         "type": "scatter3d",
         "x": [
          145,
          146
         ],
         "y": [
          224,
          224
         ],
         "z": [
          231,
          230
         ]
        },
        {
         "hoverinfo": "text",
         "line": {
          "color": "rgba(255, 0, 0, 0.8)",
          "width": 8
         },
         "mode": "lines",
         "text": "1.00",
         "type": "scatter3d",
         "x": [
          145,
          146
         ],
         "y": [
          224,
          224
         ],
         "z": [
          231,
          231
         ]
        },
        {
         "hoverinfo": "text",
         "line": {
          "color": "rgba(255, 0, 0, 0.8)",
          "width": 8
         },
         "mode": "lines",
         "text": "1.73",
         "type": "scatter3d",
         "x": [
          145,
          146
         ],
         "y": [
          224,
          225
         ],
         "z": [
          231,
          232
         ]
        },
        {
         "hoverinfo": "text",
         "line": {
          "color": "rgba(255, 0, 0, 0.8)",
          "width": 8
         },
         "mode": "lines",
         "text": "1.41",
         "type": "scatter3d",
         "x": [
          145,
          145
         ],
         "y": [
          225,
          226
         ],
         "z": [
          228,
          227
         ]
        },
        {
         "hoverinfo": "text",
         "line": {
          "color": "rgba(255, 0, 0, 0.8)",
          "width": 8
         },
         "mode": "lines",
         "text": "1.41",
         "type": "scatter3d",
         "x": [
          145,
          146
         ],
         "y": [
          225,
          225
         ],
         "z": [
          228,
          229
         ]
        },
        {
         "hoverinfo": "text",
         "line": {
          "color": "rgba(255, 0, 0, 0.8)",
          "width": 8
         },
         "mode": "lines",
         "text": "1.41",
         "type": "scatter3d",
         "x": [
          145,
          146
         ],
         "y": [
          225,
          226
         ],
         "z": [
          228,
          228
         ]
        },
        {
         "hoverinfo": "text",
         "line": {
          "color": "rgba(255, 0, 0, 0.8)",
          "width": 8
         },
         "mode": "lines",
         "text": "1.73",
         "type": "scatter3d",
         "x": [
          145,
          146
         ],
         "y": [
          225,
          226
         ],
         "z": [
          228,
          229
         ]
        },
        {
         "hoverinfo": "text",
         "line": {
          "color": "rgba(255, 0, 0, 0.8)",
          "width": 8
         },
         "mode": "lines",
         "text": "1.00",
         "type": "scatter3d",
         "x": [
          145,
          145
         ],
         "y": [
          225,
          226
         ],
         "z": [
          232,
          232
         ]
        },
        {
         "hoverinfo": "text",
         "line": {
          "color": "rgba(255, 0, 0, 0.8)",
          "width": 8
         },
         "mode": "lines",
         "text": "1.73",
         "type": "scatter3d",
         "x": [
          145,
          146
         ],
         "y": [
          225,
          224
         ],
         "z": [
          232,
          231
         ]
        },
        {
         "hoverinfo": "text",
         "line": {
          "color": "rgba(255, 0, 0, 0.8)",
          "width": 8
         },
         "mode": "lines",
         "text": "1.00",
         "type": "scatter3d",
         "x": [
          145,
          146
         ],
         "y": [
          225,
          225
         ],
         "z": [
          232,
          232
         ]
        },
        {
         "hoverinfo": "text",
         "line": {
          "color": "rgba(255, 0, 0, 0.8)",
          "width": 8
         },
         "mode": "lines",
         "text": "1.41",
         "type": "scatter3d",
         "x": [
          145,
          146
         ],
         "y": [
          225,
          226
         ],
         "z": [
          232,
          232
         ]
        },
        {
         "hoverinfo": "text",
         "line": {
          "color": "rgba(255, 0, 0, 0.8)",
          "width": 8
         },
         "mode": "lines",
         "text": "1.41",
         "type": "scatter3d",
         "x": [
          145,
          145
         ],
         "y": [
          226,
          227
         ],
         "z": [
          227,
          228
         ]
        },
        {
         "hoverinfo": "text",
         "line": {
          "color": "rgba(255, 0, 0, 0.8)",
          "width": 8
         },
         "mode": "lines",
         "text": "1.41",
         "type": "scatter3d",
         "x": [
          145,
          146
         ],
         "y": [
          226,
          226
         ],
         "z": [
          227,
          228
         ]
        },
        {
         "hoverinfo": "text",
         "line": {
          "color": "rgba(255, 0, 0, 0.8)",
          "width": 8
         },
         "mode": "lines",
         "text": "1.41",
         "type": "scatter3d",
         "x": [
          145,
          145
         ],
         "y": [
          226,
          227
         ],
         "z": [
          232,
          231
         ]
        },
        {
         "hoverinfo": "text",
         "line": {
          "color": "rgba(255, 0, 0, 0.8)",
          "width": 8
         },
         "mode": "lines",
         "text": "1.41",
         "type": "scatter3d",
         "x": [
          145,
          146
         ],
         "y": [
          226,
          225
         ],
         "z": [
          232,
          232
         ]
        },
        {
         "hoverinfo": "text",
         "line": {
          "color": "rgba(255, 0, 0, 0.8)",
          "width": 8
         },
         "mode": "lines",
         "text": "1.00",
         "type": "scatter3d",
         "x": [
          145,
          146
         ],
         "y": [
          226,
          226
         ],
         "z": [
          232,
          232
         ]
        },
        {
         "hoverinfo": "text",
         "line": {
          "color": "rgba(255, 0, 0, 0.8)",
          "width": 8
         },
         "mode": "lines",
         "text": "1.73",
         "type": "scatter3d",
         "x": [
          145,
          146
         ],
         "y": [
          226,
          227
         ],
         "z": [
          232,
          231
         ]
        },
        {
         "hoverinfo": "text",
         "line": {
          "color": "rgba(255, 0, 0, 0.8)",
          "width": 8
         },
         "mode": "lines",
         "text": "1.00",
         "type": "scatter3d",
         "x": [
          145,
          145
         ],
         "y": [
          227,
          228
         ],
         "z": [
          228,
          228
         ]
        },
        {
         "hoverinfo": "text",
         "line": {
          "color": "rgba(255, 0, 0, 0.8)",
          "width": 8
         },
         "mode": "lines",
         "text": "1.41",
         "type": "scatter3d",
         "x": [
          145,
          146
         ],
         "y": [
          227,
          226
         ],
         "z": [
          228,
          228
         ]
        },
        {
         "hoverinfo": "text",
         "line": {
          "color": "rgba(255, 0, 0, 0.8)",
          "width": 8
         },
         "mode": "lines",
         "text": "1.73",
         "type": "scatter3d",
         "x": [
          145,
          146
         ],
         "y": [
          227,
          226
         ],
         "z": [
          228,
          229
         ]
        },
        {
         "hoverinfo": "text",
         "line": {
          "color": "rgba(255, 0, 0, 0.8)",
          "width": 8
         },
         "mode": "lines",
         "text": "1.41",
         "type": "scatter3d",
         "x": [
          145,
          146
         ],
         "y": [
          227,
          227
         ],
         "z": [
          228,
          229
         ]
        },
        {
         "hoverinfo": "text",
         "line": {
          "color": "rgba(255, 0, 0, 0.8)",
          "width": 8
         },
         "mode": "lines",
         "text": "1.73",
         "type": "scatter3d",
         "x": [
          145,
          146
         ],
         "y": [
          227,
          228
         ],
         "z": [
          228,
          229
         ]
        },
        {
         "hoverinfo": "text",
         "line": {
          "color": "rgba(255, 0, 0, 0.8)",
          "width": 8
         },
         "mode": "lines",
         "text": "1.41",
         "type": "scatter3d",
         "x": [
          145,
          145
         ],
         "y": [
          227,
          228
         ],
         "z": [
          231,
          230
         ]
        },
        {
         "hoverinfo": "text",
         "line": {
          "color": "rgba(255, 0, 0, 0.8)",
          "width": 8
         },
         "mode": "lines",
         "text": "1.73",
         "type": "scatter3d",
         "x": [
          145,
          146
         ],
         "y": [
          227,
          226
         ],
         "z": [
          231,
          232
         ]
        },
        {
         "hoverinfo": "text",
         "line": {
          "color": "rgba(255, 0, 0, 0.8)",
          "width": 8
         },
         "mode": "lines",
         "text": "1.41",
         "type": "scatter3d",
         "x": [
          145,
          146
         ],
         "y": [
          227,
          227
         ],
         "z": [
          231,
          230
         ]
        },
        {
         "hoverinfo": "text",
         "line": {
          "color": "rgba(255, 0, 0, 0.8)",
          "width": 8
         },
         "mode": "lines",
         "text": "1.00",
         "type": "scatter3d",
         "x": [
          145,
          146
         ],
         "y": [
          227,
          227
         ],
         "z": [
          231,
          231
         ]
        },
        {
         "hoverinfo": "text",
         "line": {
          "color": "rgba(255, 0, 0, 0.8)",
          "width": 8
         },
         "mode": "lines",
         "text": "1.41",
         "type": "scatter3d",
         "x": [
          145,
          145
         ],
         "y": [
          228,
          229
         ],
         "z": [
          228,
          229
         ]
        },
        {
         "hoverinfo": "text",
         "line": {
          "color": "rgba(255, 0, 0, 0.8)",
          "width": 8
         },
         "mode": "lines",
         "text": "1.73",
         "type": "scatter3d",
         "x": [
          145,
          146
         ],
         "y": [
          228,
          227
         ],
         "z": [
          228,
          229
         ]
        },
        {
         "hoverinfo": "text",
         "line": {
          "color": "rgba(255, 0, 0, 0.8)",
          "width": 8
         },
         "mode": "lines",
         "text": "1.41",
         "type": "scatter3d",
         "x": [
          145,
          146
         ],
         "y": [
          228,
          228
         ],
         "z": [
          228,
          229
         ]
        },
        {
         "hoverinfo": "text",
         "line": {
          "color": "rgba(255, 0, 0, 0.8)",
          "width": 8
         },
         "mode": "lines",
         "text": "1.41",
         "type": "scatter3d",
         "x": [
          145,
          145
         ],
         "y": [
          228,
          229
         ],
         "z": [
          230,
          229
         ]
        },
        {
         "hoverinfo": "text",
         "line": {
          "color": "rgba(255, 0, 0, 0.8)",
          "width": 8
         },
         "mode": "lines",
         "text": "1.73",
         "type": "scatter3d",
         "x": [
          145,
          146
         ],
         "y": [
          228,
          227
         ],
         "z": [
          230,
          229
         ]
        },
        {
         "hoverinfo": "text",
         "line": {
          "color": "rgba(255, 0, 0, 0.8)",
          "width": 8
         },
         "mode": "lines",
         "text": "1.41",
         "type": "scatter3d",
         "x": [
          145,
          146
         ],
         "y": [
          228,
          227
         ],
         "z": [
          230,
          230
         ]
        },
        {
         "hoverinfo": "text",
         "line": {
          "color": "rgba(255, 0, 0, 0.8)",
          "width": 8
         },
         "mode": "lines",
         "text": "1.73",
         "type": "scatter3d",
         "x": [
          145,
          146
         ],
         "y": [
          228,
          227
         ],
         "z": [
          230,
          231
         ]
        },
        {
         "hoverinfo": "text",
         "line": {
          "color": "rgba(255, 0, 0, 0.8)",
          "width": 8
         },
         "mode": "lines",
         "text": "1.41",
         "type": "scatter3d",
         "x": [
          145,
          146
         ],
         "y": [
          228,
          228
         ],
         "z": [
          230,
          229
         ]
        },
        {
         "hoverinfo": "text",
         "line": {
          "color": "rgba(255, 0, 0, 0.8)",
          "width": 8
         },
         "mode": "lines",
         "text": "1.41",
         "type": "scatter3d",
         "x": [
          145,
          146
         ],
         "y": [
          229,
          228
         ],
         "z": [
          229,
          229
         ]
        },
        {
         "hoverinfo": "text",
         "line": {
          "color": "rgba(255, 0, 0, 0.8)",
          "width": 8
         },
         "mode": "lines",
         "text": "1.00",
         "type": "scatter3d",
         "x": [
          146,
          146
         ],
         "y": [
          224,
          224
         ],
         "z": [
          230,
          231
         ]
        },
        {
         "hoverinfo": "text",
         "line": {
          "color": "rgba(255, 0, 0, 0.8)",
          "width": 8
         },
         "mode": "lines",
         "text": "1.41",
         "type": "scatter3d",
         "x": [
          146,
          146
         ],
         "y": [
          224,
          225
         ],
         "z": [
          230,
          229
         ]
        },
        {
         "hoverinfo": "text",
         "line": {
          "color": "rgba(255, 0, 0, 0.8)",
          "width": 8
         },
         "mode": "lines",
         "text": "1.41",
         "type": "scatter3d",
         "x": [
          146,
          147
         ],
         "y": [
          224,
          225
         ],
         "z": [
          230,
          230
         ]
        },
        {
         "hoverinfo": "text",
         "line": {
          "color": "rgba(255, 0, 0, 0.8)",
          "width": 8
         },
         "mode": "lines",
         "text": "1.73",
         "type": "scatter3d",
         "x": [
          146,
          147
         ],
         "y": [
          224,
          225
         ],
         "z": [
          230,
          231
         ]
        },
        {
         "hoverinfo": "text",
         "line": {
          "color": "rgba(255, 0, 0, 0.8)",
          "width": 8
         },
         "mode": "lines",
         "text": "1.41",
         "type": "scatter3d",
         "x": [
          146,
          146
         ],
         "y": [
          224,
          225
         ],
         "z": [
          231,
          232
         ]
        },
        {
         "hoverinfo": "text",
         "line": {
          "color": "rgba(255, 0, 0, 0.8)",
          "width": 8
         },
         "mode": "lines",
         "text": "1.73",
         "type": "scatter3d",
         "x": [
          146,
          147
         ],
         "y": [
          224,
          225
         ],
         "z": [
          231,
          230
         ]
        },
        {
         "hoverinfo": "text",
         "line": {
          "color": "rgba(255, 0, 0, 0.8)",
          "width": 8
         },
         "mode": "lines",
         "text": "1.41",
         "type": "scatter3d",
         "x": [
          146,
          147
         ],
         "y": [
          224,
          225
         ],
         "z": [
          231,
          231
         ]
        },
        {
         "hoverinfo": "text",
         "line": {
          "color": "rgba(255, 0, 0, 0.8)",
          "width": 8
         },
         "mode": "lines",
         "text": "1.41",
         "type": "scatter3d",
         "x": [
          146,
          146
         ],
         "y": [
          225,
          226
         ],
         "z": [
          229,
          228
         ]
        },
        {
         "hoverinfo": "text",
         "line": {
          "color": "rgba(255, 0, 0, 0.8)",
          "width": 8
         },
         "mode": "lines",
         "text": "1.00",
         "type": "scatter3d",
         "x": [
          146,
          146
         ],
         "y": [
          225,
          226
         ],
         "z": [
          229,
          229
         ]
        },
        {
         "hoverinfo": "text",
         "line": {
          "color": "rgba(255, 0, 0, 0.8)",
          "width": 8
         },
         "mode": "lines",
         "text": "1.41",
         "type": "scatter3d",
         "x": [
          146,
          147
         ],
         "y": [
          225,
          225
         ],
         "z": [
          229,
          230
         ]
        },
        {
         "hoverinfo": "text",
         "line": {
          "color": "rgba(255, 0, 0, 0.8)",
          "width": 8
         },
         "mode": "lines",
         "text": "1.73",
         "type": "scatter3d",
         "x": [
          146,
          147
         ],
         "y": [
          225,
          226
         ],
         "z": [
          229,
          230
         ]
        },
        {
         "hoverinfo": "text",
         "line": {
          "color": "rgba(255, 0, 0, 0.8)",
          "width": 8
         },
         "mode": "lines",
         "text": "1.00",
         "type": "scatter3d",
         "x": [
          146,
          146
         ],
         "y": [
          225,
          226
         ],
         "z": [
          232,
          232
         ]
        },
        {
         "hoverinfo": "text",
         "line": {
          "color": "rgba(255, 0, 0, 0.8)",
          "width": 8
         },
         "mode": "lines",
         "text": "1.41",
         "type": "scatter3d",
         "x": [
          146,
          147
         ],
         "y": [
          225,
          225
         ],
         "z": [
          232,
          231
         ]
        },
        {
         "hoverinfo": "text",
         "line": {
          "color": "rgba(255, 0, 0, 0.8)",
          "width": 8
         },
         "mode": "lines",
         "text": "1.73",
         "type": "scatter3d",
         "x": [
          146,
          147
         ],
         "y": [
          225,
          226
         ],
         "z": [
          232,
          231
         ]
        },
        {
         "hoverinfo": "text",
         "line": {
          "color": "rgba(255, 0, 0, 0.8)",
          "width": 8
         },
         "mode": "lines",
         "text": "1.73",
         "type": "scatter3d",
         "x": [
          146,
          147
         ],
         "y": [
          225,
          226
         ],
         "z": [
          232,
          233
         ]
        },
        {
         "hoverinfo": "text",
         "line": {
          "color": "rgba(255, 0, 0, 0.8)",
          "width": 8
         },
         "mode": "lines",
         "text": "1.00",
         "type": "scatter3d",
         "x": [
          146,
          146
         ],
         "y": [
          226,
          226
         ],
         "z": [
          228,
          229
         ]
        },
        {
         "hoverinfo": "text",
         "line": {
          "color": "rgba(255, 0, 0, 0.8)",
          "width": 8
         },
         "mode": "lines",
         "text": "1.41",
         "type": "scatter3d",
         "x": [
          146,
          146
         ],
         "y": [
          226,
          227
         ],
         "z": [
          228,
          229
         ]
        },
        {
         "hoverinfo": "text",
         "line": {
          "color": "rgba(255, 0, 0, 0.8)",
          "width": 8
         },
         "mode": "lines",
         "text": "1.00",
         "type": "scatter3d",
         "x": [
          146,
          146
         ],
         "y": [
          226,
          227
         ],
         "z": [
          229,
          229
         ]
        },
        {
         "hoverinfo": "text",
         "line": {
          "color": "rgba(255, 0, 0, 0.8)",
          "width": 8
         },
         "mode": "lines",
         "text": "1.41",
         "type": "scatter3d",
         "x": [
          146,
          146
         ],
         "y": [
          226,
          227
         ],
         "z": [
          229,
          230
         ]
        },
        {
         "hoverinfo": "text",
         "line": {
          "color": "rgba(255, 0, 0, 0.8)",
          "width": 8
         },
         "mode": "lines",
         "text": "1.73",
         "type": "scatter3d",
         "x": [
          146,
          147
         ],
         "y": [
          226,
          225
         ],
         "z": [
          229,
          230
         ]
        },
        {
         "hoverinfo": "text",
         "line": {
          "color": "rgba(255, 0, 0, 0.8)",
          "width": 8
         },
         "mode": "lines",
         "text": "1.41",
         "type": "scatter3d",
         "x": [
          146,
          147
         ],
         "y": [
          226,
          226
         ],
         "z": [
          229,
          230
         ]
        },
        {
         "hoverinfo": "text",
         "line": {
          "color": "rgba(255, 0, 0, 0.8)",
          "width": 8
         },
         "mode": "lines",
         "text": "1.41",
         "type": "scatter3d",
         "x": [
          146,
          146
         ],
         "y": [
          226,
          227
         ],
         "z": [
          232,
          231
         ]
        },
        {
         "hoverinfo": "text",
         "line": {
          "color": "rgba(255, 0, 0, 0.8)",
          "width": 8
         },
         "mode": "lines",
         "text": "1.73",
         "type": "scatter3d",
         "x": [
          146,
          147
         ],
         "y": [
          226,
          225
         ],
         "z": [
          232,
          231
         ]
        },
        {
         "hoverinfo": "text",
         "line": {
          "color": "rgba(255, 0, 0, 0.8)",
          "width": 8
         },
         "mode": "lines",
         "text": "1.41",
         "type": "scatter3d",
         "x": [
          146,
          147
         ],
         "y": [
          226,
          226
         ],
         "z": [
          232,
          231
         ]
        },
        {
         "hoverinfo": "text",
         "line": {
          "color": "rgba(255, 0, 0, 0.8)",
          "width": 8
         },
         "mode": "lines",
         "text": "1.41",
         "type": "scatter3d",
         "x": [
          146,
          147
         ],
         "y": [
          226,
          226
         ],
         "z": [
          232,
          233
         ]
        },
        {
         "hoverinfo": "text",
         "line": {
          "color": "rgba(255, 0, 0, 0.8)",
          "width": 8
         },
         "mode": "lines",
         "text": "1.00",
         "type": "scatter3d",
         "x": [
          146,
          146
         ],
         "y": [
          227,
          227
         ],
         "z": [
          229,
          230
         ]
        },
        {
         "hoverinfo": "text",
         "line": {
          "color": "rgba(255, 0, 0, 0.8)",
          "width": 8
         },
         "mode": "lines",
         "text": "1.00",
         "type": "scatter3d",
         "x": [
          146,
          146
         ],
         "y": [
          227,
          228
         ],
         "z": [
          229,
          229
         ]
        },
        {
         "hoverinfo": "text",
         "line": {
          "color": "rgba(255, 0, 0, 0.8)",
          "width": 8
         },
         "mode": "lines",
         "text": "1.73",
         "type": "scatter3d",
         "x": [
          146,
          147
         ],
         "y": [
          227,
          226
         ],
         "z": [
          229,
          230
         ]
        },
        {
         "hoverinfo": "text",
         "line": {
          "color": "rgba(255, 0, 0, 0.8)",
          "width": 8
         },
         "mode": "lines",
         "text": "1.00",
         "type": "scatter3d",
         "x": [
          146,
          146
         ],
         "y": [
          227,
          227
         ],
         "z": [
          230,
          231
         ]
        },
        {
         "hoverinfo": "text",
         "line": {
          "color": "rgba(255, 0, 0, 0.8)",
          "width": 8
         },
         "mode": "lines",
         "text": "1.41",
         "type": "scatter3d",
         "x": [
          146,
          146
         ],
         "y": [
          227,
          228
         ],
         "z": [
          230,
          229
         ]
        },
        {
         "hoverinfo": "text",
         "line": {
          "color": "rgba(255, 0, 0, 0.8)",
          "width": 8
         },
         "mode": "lines",
         "text": "1.41",
         "type": "scatter3d",
         "x": [
          146,
          147
         ],
         "y": [
          227,
          226
         ],
         "z": [
          230,
          230
         ]
        },
        {
         "hoverinfo": "text",
         "line": {
          "color": "rgba(255, 0, 0, 0.8)",
          "width": 8
         },
         "mode": "lines",
         "text": "1.73",
         "type": "scatter3d",
         "x": [
          146,
          147
         ],
         "y": [
          227,
          226
         ],
         "z": [
          230,
          231
         ]
        },
        {
         "hoverinfo": "text",
         "line": {
          "color": "rgba(255, 0, 0, 0.8)",
          "width": 8
         },
         "mode": "lines",
         "text": "1.73",
         "type": "scatter3d",
         "x": [
          146,
          147
         ],
         "y": [
          227,
          226
         ],
         "z": [
          231,
          230
         ]
        },
        {
         "hoverinfo": "text",
         "line": {
          "color": "rgba(255, 0, 0, 0.8)",
          "width": 8
         },
         "mode": "lines",
         "text": "1.41",
         "type": "scatter3d",
         "x": [
          146,
          147
         ],
         "y": [
          227,
          226
         ],
         "z": [
          231,
          231
         ]
        },
        {
         "hoverinfo": "text",
         "line": {
          "color": "rgba(255, 0, 0, 0.8)",
          "width": 8
         },
         "mode": "lines",
         "text": "1.00",
         "type": "scatter3d",
         "x": [
          147,
          147
         ],
         "y": [
          225,
          225
         ],
         "z": [
          230,
          231
         ]
        },
        {
         "hoverinfo": "text",
         "line": {
          "color": "rgba(255, 0, 0, 0.8)",
          "width": 8
         },
         "mode": "lines",
         "text": "1.00",
         "type": "scatter3d",
         "x": [
          147,
          147
         ],
         "y": [
          225,
          226
         ],
         "z": [
          230,
          230
         ]
        },
        {
         "hoverinfo": "text",
         "line": {
          "color": "rgba(255, 0, 0, 0.8)",
          "width": 8
         },
         "mode": "lines",
         "text": "1.41",
         "type": "scatter3d",
         "x": [
          147,
          147
         ],
         "y": [
          225,
          226
         ],
         "z": [
          230,
          231
         ]
        },
        {
         "hoverinfo": "text",
         "line": {
          "color": "rgba(255, 0, 0, 0.8)",
          "width": 8
         },
         "mode": "lines",
         "text": "1.41",
         "type": "scatter3d",
         "x": [
          147,
          147
         ],
         "y": [
          225,
          226
         ],
         "z": [
          231,
          230
         ]
        },
        {
         "hoverinfo": "text",
         "line": {
          "color": "rgba(255, 0, 0, 0.8)",
          "width": 8
         },
         "mode": "lines",
         "text": "1.00",
         "type": "scatter3d",
         "x": [
          147,
          147
         ],
         "y": [
          225,
          226
         ],
         "z": [
          231,
          231
         ]
        },
        {
         "hoverinfo": "text",
         "line": {
          "color": "rgba(255, 0, 0, 0.8)",
          "width": 8
         },
         "mode": "lines",
         "text": "1.00",
         "type": "scatter3d",
         "x": [
          147,
          147
         ],
         "y": [
          226,
          226
         ],
         "z": [
          230,
          231
         ]
        },
        {
         "hoverinfo": "text",
         "line": {
          "color": "rgba(128, 128, 128, 0.4)",
          "width": 1
         },
         "mode": "lines",
         "text": "3.61",
         "type": "scatter3d",
         "x": [
          147,
          150
         ],
         "y": [
          226,
          226
         ],
         "z": [
          233,
          235
         ]
        },
        {
         "hoverinfo": "text",
         "line": {
          "color": "rgba(128, 128, 128, 0.4)",
          "width": 1
         },
         "mode": "lines",
         "text": "75.37",
         "type": "scatter3d",
         "x": [
          148,
          187
         ],
         "y": [
          266,
          258
         ],
         "z": [
          529,
          465
         ]
        },
        {
         "hoverinfo": "text",
         "line": {
          "color": "rgba(128, 128, 128, 0.4)",
          "width": 1
         },
         "mode": "lines",
         "text": "35.44",
         "type": "scatter3d",
         "x": [
          152,
          170
         ],
         "y": [
          155,
          171
         ],
         "z": [
          271,
          297
         ]
        },
        {
         "hoverinfo": "text",
         "line": {
          "color": "rgba(128, 128, 128, 0.4)",
          "width": 1
         },
         "mode": "lines",
         "text": "74.35",
         "type": "scatter3d",
         "x": [
          154,
          208
         ],
         "y": [
          348,
          304
         ],
         "z": [
          253,
          279
         ]
        },
        {
         "hoverinfo": "text",
         "line": {
          "color": "rgba(128, 128, 128, 0.4)",
          "width": 1
         },
         "mode": "lines",
         "text": "36.51",
         "type": "scatter3d",
         "x": [
          164,
          173
         ],
         "y": [
          417,
          391
         ],
         "z": [
          315,
          339
         ]
        },
        {
         "hoverinfo": "text",
         "line": {
          "color": "rgba(128, 128, 128, 0.4)",
          "width": 1
         },
         "mode": "lines",
         "text": "20.86",
         "type": "scatter3d",
         "x": [
          165,
          182
         ],
         "y": [
          351,
          346
         ],
         "z": [
          334,
          345
         ]
        },
        {
         "hoverinfo": "text",
         "line": {
          "color": "rgba(128, 128, 128, 0.4)",
          "width": 1
         },
         "mode": "lines",
         "text": "26.55",
         "type": "scatter3d",
         "x": [
          166,
          186
         ],
         "y": [
          84,
          100
         ],
         "z": [
          269,
          276
         ]
        },
        {
         "hoverinfo": "text",
         "line": {
          "color": "rgba(128, 128, 128, 0.4)",
          "width": 1
         },
         "mode": "lines",
         "text": "65.10",
         "type": "scatter3d",
         "x": [
          166,
          181
         ],
         "y": [
          173,
          186
         ],
         "z": [
          553,
          491
         ]
        },
        {
         "hoverinfo": "text",
         "line": {
          "color": "rgba(128, 128, 128, 0.4)",
          "width": 1
         },
         "mode": "lines",
         "text": "97.18",
         "type": "scatter3d",
         "x": [
          168,
          206
         ],
         "y": [
          379,
          299
         ],
         "z": [
          412,
          372
         ]
        },
        {
         "hoverinfo": "text",
         "line": {
          "color": "rgba(128, 128, 128, 0.4)",
          "width": 1
         },
         "mode": "lines",
         "text": "29.55",
         "type": "scatter3d",
         "x": [
          170,
          187
         ],
         "y": [
          171,
          181
         ],
         "z": [
          297,
          319
         ]
        },
        {
         "hoverinfo": "text",
         "line": {
          "color": "rgba(128, 128, 128, 0.4)",
          "width": 1
         },
         "mode": "lines",
         "text": "8.60",
         "type": "scatter3d",
         "x": [
          176,
          173
         ],
         "y": [
          398,
          391
         ],
         "z": [
          343,
          339
         ]
        },
        {
         "hoverinfo": "text",
         "line": {
          "color": "rgba(128, 128, 128, 0.4)",
          "width": 1
         },
         "mode": "lines",
         "text": "25.83",
         "type": "scatter3d",
         "x": [
          181,
          196
         ],
         "y": [
          186,
          185
         ],
         "z": [
          491,
          470
         ]
        },
        {
         "hoverinfo": "text",
         "line": {
          "color": "rgba(128, 128, 128, 0.4)",
          "width": 1
         },
         "mode": "lines",
         "text": "24.90",
         "type": "scatter3d",
         "x": [
          182,
          192
         ],
         "y": [
          331,
          309
         ],
         "z": [
          530,
          524
         ]
        },
        {
         "hoverinfo": "text",
         "line": {
          "color": "rgba(128, 128, 128, 0.4)",
          "width": 1
         },
         "mode": "lines",
         "text": "46.28",
         "type": "scatter3d",
         "x": [
          182,
          173
         ],
         "y": [
          346,
          391
         ],
         "z": [
          345,
          339
         ]
        },
        {
         "hoverinfo": "text",
         "line": {
          "color": "rgba(128, 128, 128, 0.4)",
          "width": 1
         },
         "mode": "lines",
         "text": "59.28",
         "type": "scatter3d",
         "x": [
          182,
          206
         ],
         "y": [
          346,
          299
         ],
         "z": [
          345,
          372
         ]
        },
        {
         "hoverinfo": "text",
         "line": {
          "color": "rgba(128, 128, 128, 0.4)",
          "width": 1
         },
         "mode": "lines",
         "text": "164.67",
         "type": "scatter3d",
         "x": [
          183,
          187
         ],
         "y": [
          111,
          181
         ],
         "z": [
          170,
          319
         ]
        },
        {
         "hoverinfo": "text",
         "line": {
          "color": "rgba(128, 128, 128, 0.4)",
          "width": 1
         },
         "mode": "lines",
         "text": "50.64",
         "type": "scatter3d",
         "x": [
          185,
          213
         ],
         "y": [
          251,
          255
         ],
         "z": [
          292,
          334
         ]
        },
        {
         "hoverinfo": "text",
         "line": {
          "color": "rgba(128, 128, 128, 0.4)",
          "width": 1
         },
         "mode": "lines",
         "text": "71.41",
         "type": "scatter3d",
         "x": [
          185,
          150
         ],
         "y": [
          251,
          226
         ],
         "z": [
          292,
          235
         ]
        },
        {
         "hoverinfo": "text",
         "line": {
          "color": "rgba(128, 128, 128, 0.4)",
          "width": 1
         },
         "mode": "lines",
         "text": "51.08",
         "type": "scatter3d",
         "x": [
          185,
          207
         ],
         "y": [
          376,
          357
         ],
         "z": [
          146,
          188
         ]
        },
        {
         "hoverinfo": "text",
         "line": {
          "color": "rgba(128, 128, 128, 0.4)",
          "width": 1
         },
         "mode": "lines",
         "text": "26.76",
         "type": "scatter3d",
         "x": [
          186,
          192
         ],
         "y": [
          311,
          309
         ],
         "z": [
          550,
          524
         ]
        },
        {
         "hoverinfo": "text",
         "line": {
          "color": "rgba(128, 128, 128, 0.4)",
          "width": 1
         },
         "mode": "lines",
         "text": "4.12",
         "type": "scatter3d",
         "x": [
          187,
          188
         ],
         "y": [
          181,
          181
         ],
         "z": [
          319,
          323
         ]
        },
        {
         "hoverinfo": "text",
         "line": {
          "color": "rgba(128, 128, 128, 0.4)",
          "width": 1
         },
         "mode": "lines",
         "text": "34.10",
         "type": "scatter3d",
         "x": [
          188,
          207
         ],
         "y": [
          113,
          132
         ],
         "z": [
          411,
          432
         ]
        },
        {
         "hoverinfo": "text",
         "line": {
          "color": "rgba(128, 128, 128, 0.4)",
          "width": 1
         },
         "mode": "lines",
         "text": "46.59",
         "type": "scatter3d",
         "x": [
          190,
          207
         ],
         "y": [
          396,
          357
         ],
         "z": [
          169,
          188
         ]
        },
        {
         "hoverinfo": "text",
         "line": {
          "color": "rgba(128, 128, 128, 0.4)",
          "width": 1
         },
         "mode": "lines",
         "text": "6.56",
         "type": "scatter3d",
         "x": [
          191,
          196
         ],
         "y": [
          135,
          138
         ],
         "z": [
          502,
          505
         ]
        },
        {
         "hoverinfo": "text",
         "line": {
          "color": "rgba(128, 128, 128, 0.4)",
          "width": 1
         },
         "mode": "lines",
         "text": "92.66",
         "type": "scatter3d",
         "x": [
          192,
          235
         ],
         "y": [
          309,
          249
         ],
         "z": [
          524,
          468
         ]
        },
        {
         "hoverinfo": "text",
         "line": {
          "color": "rgba(128, 128, 128, 0.4)",
          "width": 1
         },
         "mode": "lines",
         "text": "51.24",
         "type": "scatter3d",
         "x": [
          194,
          189
         ],
         "y": [
          109,
          133
         ],
         "z": [
          245,
          290
         ]
        },
        {
         "hoverinfo": "text",
         "line": {
          "color": "rgba(128, 128, 128, 0.4)",
          "width": 1
         },
         "mode": "lines",
         "text": "4.12",
         "type": "scatter3d",
         "x": [
          196,
          200
         ],
         "y": [
          185,
          184
         ],
         "z": [
          470,
          470
         ]
        },
        {
         "hoverinfo": "text",
         "line": {
          "color": "rgba(128, 128, 128, 0.4)",
          "width": 1
         },
         "mode": "lines",
         "text": "36.19",
         "type": "scatter3d",
         "x": [
          196,
          221
         ],
         "y": [
          202,
          220
         ],
         "z": [
          354,
          373
         ]
        },
        {
         "hoverinfo": "text",
         "line": {
          "color": "rgba(128, 128, 128, 0.4)",
          "width": 1
         },
         "mode": "lines",
         "text": "58.09",
         "type": "scatter3d",
         "x": [
          196,
          149
         ],
         "y": [
          202,
          168
         ],
         "z": [
          354,
          351
         ]
        },
        {
         "hoverinfo": "text",
         "line": {
          "color": "rgba(128, 128, 128, 0.4)",
          "width": 1
         },
         "mode": "lines",
         "text": "35.58",
         "type": "scatter3d",
         "x": [
          196,
          188
         ],
         "y": [
          202,
          183
         ],
         "z": [
          354,
          325
         ]
        },
        {
         "hoverinfo": "text",
         "line": {
          "color": "rgba(128, 128, 128, 0.4)",
          "width": 1
         },
         "mode": "lines",
         "text": "157.70",
         "type": "scatter3d",
         "x": [
          197,
          239
         ],
         "y": [
          207,
          207
         ],
         "z": [
          654,
          502
         ]
        },
        {
         "hoverinfo": "text",
         "line": {
          "color": "rgba(128, 128, 128, 0.4)",
          "width": 1
         },
         "mode": "lines",
         "text": "22.58",
         "type": "scatter3d",
         "x": [
          198,
          197
         ],
         "y": [
          107,
          129
         ],
         "z": [
          514,
          519
         ]
        },
        {
         "hoverinfo": "text",
         "line": {
          "color": "rgba(128, 128, 128, 0.4)",
          "width": 1
         },
         "mode": "lines",
         "text": "76.01",
         "type": "scatter3d",
         "x": [
          199,
          191
         ],
         "y": [
          80,
          152
         ],
         "z": [
          289,
          312
         ]
        },
        {
         "hoverinfo": "text",
         "line": {
          "color": "rgba(128, 128, 128, 0.4)",
          "width": 1
         },
         "mode": "lines",
         "text": "37.43",
         "type": "scatter3d",
         "x": [
          200,
          232
         ],
         "y": [
          184,
          195
         ],
         "z": [
          470,
          454
         ]
        },
        {
         "hoverinfo": "text",
         "line": {
          "color": "rgba(128, 128, 128, 0.4)",
          "width": 1
         },
         "mode": "lines",
         "text": "57.94",
         "type": "scatter3d",
         "x": [
          200,
          196
         ],
         "y": [
          184,
          138
         ],
         "z": [
          470,
          505
         ]
        },
        {
         "hoverinfo": "text",
         "line": {
          "color": "rgba(128, 128, 128, 0.4)",
          "width": 1
         },
         "mode": "lines",
         "text": "7.35",
         "type": "scatter3d",
         "x": [
          200,
          207
         ],
         "y": [
          385,
          383
         ],
         "z": [
          262,
          261
         ]
        },
        {
         "hoverinfo": "text",
         "line": {
          "color": "rgba(128, 128, 128, 0.4)",
          "width": 1
         },
         "mode": "lines",
         "text": "34.23",
         "type": "scatter3d",
         "x": [
          201,
          197
         ],
         "y": [
          129,
          129
         ],
         "z": [
          553,
          519
         ]
        },
        {
         "hoverinfo": "text",
         "line": {
          "color": "rgba(128, 128, 128, 0.4)",
          "width": 1
         },
         "mode": "lines",
         "text": "52.31",
         "type": "scatter3d",
         "x": [
          201,
          229
         ],
         "y": [
          242,
          238
         ],
         "z": [
          233,
          277
         ]
        },
        {
         "hoverinfo": "text",
         "line": {
          "color": "rgba(128, 128, 128, 0.4)",
          "width": 1
         },
         "mode": "lines",
         "text": "24.68",
         "type": "scatter3d",
         "x": [
          207,
          218
         ],
         "y": [
          132,
          154
         ],
         "z": [
          432,
          434
         ]
        },
        {
         "hoverinfo": "text",
         "line": {
          "color": "rgba(128, 128, 128, 0.4)",
          "width": 1
         },
         "mode": "lines",
         "text": "40.46",
         "type": "scatter3d",
         "x": [
          207,
          219
         ],
         "y": [
          132,
          94
         ],
         "z": [
          432,
          425
         ]
        },
        {
         "hoverinfo": "text",
         "line": {
          "color": "rgba(128, 128, 128, 0.4)",
          "width": 1
         },
         "mode": "lines",
         "text": "16.76",
         "type": "scatter3d",
         "x": [
          207,
          217
         ],
         "y": [
          357,
          347
         ],
         "z": [
          188,
          197
         ]
        },
        {
         "hoverinfo": "text",
         "line": {
          "color": "rgba(128, 128, 128, 0.4)",
          "width": 1
         },
         "mode": "lines",
         "text": "1.73",
         "type": "scatter3d",
         "x": [
          207,
          208
         ],
         "y": [
          383,
          382
         ],
         "z": [
          261,
          262
         ]
        },
        {
         "hoverinfo": "text",
         "line": {
          "color": "rgba(128, 128, 128, 0.4)",
          "width": 1
         },
         "mode": "lines",
         "text": "26.91",
         "type": "scatter3d",
         "x": [
          207,
          207
         ],
         "y": [
          383,
          401
         ],
         "z": [
          261,
          241
         ]
        },
        {
         "hoverinfo": "text",
         "line": {
          "color": "rgba(128, 128, 128, 0.4)",
          "width": 1
         },
         "mode": "lines",
         "text": "33.12",
         "type": "scatter3d",
         "x": [
          208,
          237
         ],
         "y": [
          382,
          398
         ],
         "z": [
          262,
          262
         ]
        },
        {
         "hoverinfo": "text",
         "line": {
          "color": "rgba(128, 128, 128, 0.4)",
          "width": 1
         },
         "mode": "lines",
         "text": "76.54",
         "type": "scatter3d",
         "x": [
          208,
          211
         ],
         "y": [
          382,
          307
         ],
         "z": [
          262,
          277
         ]
        },
        {
         "hoverinfo": "text",
         "line": {
          "color": "rgba(128, 128, 128, 0.4)",
          "width": 1
         },
         "mode": "lines",
         "text": "1.41",
         "type": "scatter3d",
         "x": [
          209,
          210
         ],
         "y": [
          69,
          70
         ],
         "z": [
          255,
          255
         ]
        },
        {
         "hoverinfo": "text",
         "line": {
          "color": "rgba(128, 128, 128, 0.4)",
          "width": 1
         },
         "mode": "lines",
         "text": "1.73",
         "type": "scatter3d",
         "x": [
          210,
          211
         ],
         "y": [
          70,
          69
         ],
         "z": [
          255,
          254
         ]
        },
        {
         "hoverinfo": "text",
         "line": {
          "color": "rgba(128, 128, 128, 0.4)",
          "width": 1
         },
         "mode": "lines",
         "text": "43.78",
         "type": "scatter3d",
         "x": [
          210,
          186
         ],
         "y": [
          70,
          100
         ],
         "z": [
          255,
          276
         ]
        },
        {
         "hoverinfo": "text",
         "line": {
          "color": "rgba(128, 128, 128, 0.4)",
          "width": 1
         },
         "mode": "lines",
         "text": "23.02",
         "type": "scatter3d",
         "x": [
          211,
          219
         ],
         "y": [
          278,
          257
         ],
         "z": [
          369,
          374
         ]
        },
        {
         "hoverinfo": "text",
         "line": {
          "color": "rgba(128, 128, 128, 0.4)",
          "width": 1
         },
         "mode": "lines",
         "text": "21.79",
         "type": "scatter3d",
         "x": [
          211,
          206
         ],
         "y": [
          278,
          299
         ],
         "z": [
          369,
          372
         ]
        },
        {
         "hoverinfo": "text",
         "line": {
          "color": "rgba(128, 128, 128, 0.4)",
          "width": 1
         },
         "mode": "lines",
         "text": "11.05",
         "type": "scatter3d",
         "x": [
          213,
          216
         ],
         "y": [
          255,
          247
         ],
         "z": [
          334,
          341
         ]
        },
        {
         "hoverinfo": "text",
         "line": {
          "color": "rgba(128, 128, 128, 0.4)",
          "width": 1
         },
         "mode": "lines",
         "text": "45.46",
         "type": "scatter3d",
         "x": [
          213,
          212
         ],
         "y": [
          255,
          284
         ],
         "z": [
          334,
          299
         ]
        },
        {
         "hoverinfo": "text",
         "line": {
          "color": "rgba(128, 128, 128, 0.4)",
          "width": 1
         },
         "mode": "lines",
         "text": "2.83",
         "type": "scatter3d",
         "x": [
          215,
          217
         ],
         "y": [
          239,
          241
         ],
         "z": [
          353,
          353
         ]
        },
        {
         "hoverinfo": "text",
         "line": {
          "color": "rgba(128, 128, 128, 0.4)",
          "width": 1
         },
         "mode": "lines",
         "text": "56.89",
         "type": "scatter3d",
         "x": [
          216,
          230
         ],
         "y": [
          247,
          243
         ],
         "z": [
          341,
          286
         ]
        },
        {
         "hoverinfo": "text",
         "line": {
          "color": "rgba(128, 128, 128, 0.4)",
          "width": 1
         },
         "mode": "lines",
         "text": "13.45",
         "type": "scatter3d",
         "x": [
          216,
          217
         ],
         "y": [
          247,
          241
         ],
         "z": [
          341,
          353
         ]
        },
        {
         "hoverinfo": "text",
         "line": {
          "color": "rgba(128, 128, 128, 0.4)",
          "width": 1
         },
         "mode": "lines",
         "text": "30.95",
         "type": "scatter3d",
         "x": [
          218,
          220
         ],
         "y": [
          154,
          139
         ],
         "z": [
          434,
          407
         ]
        },
        {
         "hoverinfo": "text",
         "line": {
          "color": "rgba(128, 128, 128, 0.4)",
          "width": 1
         },
         "mode": "lines",
         "text": "47.72",
         "type": "scatter3d",
         "x": [
          218,
          232
         ],
         "y": [
          154,
          195
         ],
         "z": [
          434,
          454
         ]
        },
        {
         "hoverinfo": "text",
         "line": {
          "color": "rgba(128, 128, 128, 0.4)",
          "width": 1
         },
         "mode": "lines",
         "text": "70.83",
         "type": "scatter3d",
         "x": [
          219,
          243
         ],
         "y": [
          242,
          213
         ],
         "z": [
          579,
          519
         ]
        },
        {
         "hoverinfo": "text",
         "line": {
          "color": "rgba(128, 128, 128, 0.4)",
          "width": 1
         },
         "mode": "lines",
         "text": "24.04",
         "type": "scatter3d",
         "x": [
          219,
          219
         ],
         "y": [
          257,
          234
         ],
         "z": [
          374,
          367
         ]
        },
        {
         "hoverinfo": "text",
         "line": {
          "color": "rgba(128, 128, 128, 0.4)",
          "width": 1
         },
         "mode": "lines",
         "text": "20.69",
         "type": "scatter3d",
         "x": [
          219,
          237
         ],
         "y": [
          257,
          267
         ],
         "z": [
          374,
          376
         ]
        },
        {
         "hoverinfo": "text",
         "line": {
          "color": "rgba(128, 128, 128, 0.4)",
          "width": 1
         },
         "mode": "lines",
         "text": "15.36",
         "type": "scatter3d",
         "x": [
          221,
          219
         ],
         "y": [
          220,
          234
         ],
         "z": [
          373,
          367
         ]
        },
        {
         "hoverinfo": "text",
         "line": {
          "color": "rgba(128, 128, 128, 0.4)",
          "width": 1
         },
         "mode": "lines",
         "text": "18.25",
         "type": "scatter3d",
         "x": [
          221,
          234
         ],
         "y": [
          220,
          212
         ],
         "z": [
          373,
          383
         ]
        },
        {
         "hoverinfo": "text",
         "line": {
          "color": "rgba(128, 128, 128, 0.4)",
          "width": 1
         },
         "mode": "lines",
         "text": "55.98",
         "type": "scatter3d",
         "x": [
          224,
          241
         ],
         "y": [
          353,
          326
         ],
         "z": [
          456,
          410
         ]
        },
        {
         "hoverinfo": "text",
         "line": {
          "color": "rgba(128, 128, 128, 0.4)",
          "width": 1
         },
         "mode": "lines",
         "text": "18.68",
         "type": "scatter3d",
         "x": [
          224,
          230
         ],
         "y": [
          376,
          363
         ],
         "z": [
          147,
          159
         ]
        },
        {
         "hoverinfo": "text",
         "line": {
          "color": "rgba(128, 128, 128, 0.4)",
          "width": 1
         },
         "mode": "lines",
         "text": "10.34",
         "type": "scatter3d",
         "x": [
          229,
          230
         ],
         "y": [
          238,
          243
         ],
         "z": [
          277,
          286
         ]
        },
        {
         "hoverinfo": "text",
         "line": {
          "color": "rgba(128, 128, 128, 0.4)",
          "width": 1
         },
         "mode": "lines",
         "text": "35.86",
         "type": "scatter3d",
         "x": [
          229,
          232
         ],
         "y": [
          238,
          227
         ],
         "z": [
          277,
          243
         ]
        },
        {
         "hoverinfo": "text",
         "line": {
          "color": "rgba(128, 128, 128, 0.4)",
          "width": 1
         },
         "mode": "lines",
         "text": "32.31",
         "type": "scatter3d",
         "x": [
          230,
          244
         ],
         "y": [
          243,
          251
         ],
         "z": [
          286,
          258
         ]
        },
        {
         "hoverinfo": "text",
         "line": {
          "color": "rgba(128, 128, 128, 0.4)",
          "width": 1
         },
         "mode": "lines",
         "text": "9.00",
         "type": "scatter3d",
         "x": [
          230,
          237
         ],
         "y": [
          363,
          367
         ],
         "z": [
          159,
          155
         ]
        },
        {
         "hoverinfo": "text",
         "line": {
          "color": "rgba(128, 128, 128, 0.4)",
          "width": 1
         },
         "mode": "lines",
         "text": "43.23",
         "type": "scatter3d",
         "x": [
          230,
          217
         ],
         "y": [
          363,
          347
         ],
         "z": [
          159,
          197
         ]
        },
        {
         "hoverinfo": "text",
         "line": {
          "color": "rgba(128, 128, 128, 0.4)",
          "width": 1
         },
         "mode": "lines",
         "text": "8.31",
         "type": "scatter3d",
         "x": [
          232,
          240
         ],
         "y": [
          195,
          197
         ],
         "z": [
          454,
          455
         ]
        },
        {
         "hoverinfo": "text",
         "line": {
          "color": "rgba(128, 128, 128, 0.4)",
          "width": 1
         },
         "mode": "lines",
         "text": "25.46",
         "type": "scatter3d",
         "x": [
          235,
          249
         ],
         "y": [
          249,
          265
         ],
         "z": [
          468,
          482
         ]
        },
        {
         "hoverinfo": "text",
         "line": {
          "color": "rgba(128, 128, 128, 0.4)",
          "width": 1
         },
         "mode": "lines",
         "text": "56.44",
         "type": "scatter3d",
         "x": [
          235,
          219
         ],
         "y": [
          249,
          226
         ],
         "z": [
          468,
          419
         ]
        },
        {
         "hoverinfo": "text",
         "line": {
          "color": "rgba(128, 128, 128, 0.4)",
          "width": 1
         },
         "mode": "lines",
         "text": "27.59",
         "type": "scatter3d",
         "x": [
          237,
          246
         ],
         "y": [
          367,
          393
         ],
         "z": [
          155,
          153
         ]
        },
        {
         "hoverinfo": "text",
         "line": {
          "color": "rgba(128, 128, 128, 0.4)",
          "width": 1
         },
         "mode": "lines",
         "text": "15.65",
         "type": "scatter3d",
         "x": [
          237,
          249
         ],
         "y": [
          367,
          366
         ],
         "z": [
          155,
          145
         ]
        },
        {
         "hoverinfo": "text",
         "line": {
          "color": "rgba(128, 128, 128, 0.4)",
          "width": 1
         },
         "mode": "lines",
         "text": "41.12",
         "type": "scatter3d",
         "x": [
          238,
          241
         ],
         "y": [
          367,
          326
         ],
         "z": [
          411,
          410
         ]
        },
        {
         "hoverinfo": "text",
         "line": {
          "color": "rgba(128, 128, 128, 0.4)",
          "width": 1
         },
         "mode": "lines",
         "text": "48.06",
         "type": "scatter3d",
         "x": [
          239,
          240
         ],
         "y": [
          207,
          197
         ],
         "z": [
          502,
          455
         ]
        },
        {
         "hoverinfo": "text",
         "line": {
          "color": "rgba(128, 128, 128, 0.4)",
          "width": 1
         },
         "mode": "lines",
         "text": "18.47",
         "type": "scatter3d",
         "x": [
          239,
          243
         ],
         "y": [
          207,
          213
         ],
         "z": [
          502,
          519
         ]
        },
        {
         "hoverinfo": "text",
         "line": {
          "color": "rgba(128, 128, 128, 0.4)",
          "width": 1
         },
         "mode": "lines",
         "text": "75.10",
         "type": "scatter3d",
         "x": [
          240,
          296
         ],
         "y": [
          197,
          195
         ],
         "z": [
          455,
          405
         ]
        },
        {
         "hoverinfo": "text",
         "line": {
          "color": "rgba(128, 128, 128, 0.4)",
          "width": 1
         },
         "mode": "lines",
         "text": "28.18",
         "type": "scatter3d",
         "x": [
          242,
          254
         ],
         "y": [
          265,
          254
         ],
         "z": [
          163,
          186
         ]
        },
        {
         "hoverinfo": "text",
         "line": {
          "color": "rgba(128, 128, 128, 0.4)",
          "width": 1
         },
         "mode": "lines",
         "text": "23.35",
         "type": "scatter3d",
         "x": [
          243,
          248
         ],
         "y": [
          213,
          227
         ],
         "z": [
          519,
          537
         ]
        },
        {
         "hoverinfo": "text",
         "line": {
          "color": "rgba(128, 128, 128, 0.4)",
          "width": 1
         },
         "mode": "lines",
         "text": "33.67",
         "type": "scatter3d",
         "x": [
          244,
          266
         ],
         "y": [
          251,
          256
         ],
         "z": [
          258,
          233
         ]
        },
        {
         "hoverinfo": "text",
         "line": {
          "color": "rgba(128, 128, 128, 0.4)",
          "width": 1
         },
         "mode": "lines",
         "text": "72.75",
         "type": "scatter3d",
         "x": [
          244,
          254
         ],
         "y": [
          251,
          254
         ],
         "z": [
          258,
          186
         ]
        },
        {
         "hoverinfo": "text",
         "line": {
          "color": "rgba(128, 128, 128, 0.4)",
          "width": 1
         },
         "mode": "lines",
         "text": "68.34",
         "type": "scatter3d",
         "x": [
          245,
          268
         ],
         "y": [
          281,
          316
         ],
         "z": [
          387,
          441
         ]
        },
        {
         "hoverinfo": "text",
         "line": {
          "color": "rgba(128, 128, 128, 0.4)",
          "width": 1
         },
         "mode": "lines",
         "text": "19.52",
         "type": "scatter3d",
         "x": [
          245,
          237
         ],
         "y": [
          281,
          267
         ],
         "z": [
          387,
          376
         ]
        },
        {
         "hoverinfo": "text",
         "line": {
          "color": "rgba(128, 128, 128, 0.4)",
          "width": 1
         },
         "mode": "lines",
         "text": "50.70",
         "type": "scatter3d",
         "x": [
          245,
          241
         ],
         "y": [
          281,
          326
         ],
         "z": [
          387,
          410
         ]
        },
        {
         "hoverinfo": "text",
         "line": {
          "color": "rgba(128, 128, 128, 0.4)",
          "width": 1
         },
         "mode": "lines",
         "text": "11.36",
         "type": "scatter3d",
         "x": [
          247,
          249
         ],
         "y": [
          270,
          265
         ],
         "z": [
          492,
          482
         ]
        },
        {
         "hoverinfo": "text",
         "line": {
          "color": "rgba(128, 128, 128, 0.4)",
          "width": 1
         },
         "mode": "lines",
         "text": "2.24",
         "type": "scatter3d",
         "x": [
          249,
          251
         ],
         "y": [
          265,
          266
         ],
         "z": [
          482,
          482
         ]
        },
        {
         "hoverinfo": "text",
         "line": {
          "color": "rgba(128, 128, 128, 0.4)",
          "width": 1
         },
         "mode": "lines",
         "text": "64.62",
         "type": "scatter3d",
         "x": [
          254,
          258
         ],
         "y": [
          354,
          290
         ],
         "z": [
          345,
          353
         ]
        },
        {
         "hoverinfo": "text",
         "line": {
          "color": "rgba(128, 128, 128, 0.4)",
          "width": 1
         },
         "mode": "lines",
         "text": "56.75",
         "type": "scatter3d",
         "x": [
          258,
          274
         ],
         "y": [
          290,
          329
         ],
         "z": [
          353,
          315
         ]
        },
        {
         "hoverinfo": "text",
         "line": {
          "color": "rgba(128, 128, 128, 0.4)",
          "width": 1
         },
         "mode": "lines",
         "text": "38.72",
         "type": "scatter3d",
         "x": [
          258,
          237
         ],
         "y": [
          290,
          267
         ],
         "z": [
          353,
          376
         ]
        },
        {
         "hoverinfo": "text",
         "line": {
          "color": "rgba(128, 128, 128, 0.4)",
          "width": 1
         },
         "mode": "lines",
         "text": "53.86",
         "type": "scatter3d",
         "x": [
          260,
          261
         ],
         "y": [
          368,
          318
         ],
         "z": [
          219,
          239
         ]
        },
        {
         "hoverinfo": "text",
         "line": {
          "color": "rgba(128, 128, 128, 0.4)",
          "width": 1
         },
         "mode": "lines",
         "text": "24.54",
         "type": "scatter3d",
         "x": [
          270,
          271
         ],
         "y": [
          256,
          251
         ],
         "z": [
          132,
          156
         ]
        },
        {
         "hoverinfo": "text",
         "line": {
          "color": "rgba(128, 128, 128, 0.4)",
          "width": 1
         },
         "mode": "lines",
         "text": "96.72",
         "type": "scatter3d",
         "x": [
          289,
          261
         ],
         "y": [
          301,
          318
         ],
         "z": [
          148,
          239
         ]
        },
        {
         "hoverinfo": "text",
         "line": {
          "color": "rgba(128, 128, 128, 0.4)",
          "width": 1
         },
         "mode": "lines",
         "text": "36.24",
         "type": "scatter3d",
         "x": [
          303,
          271
         ],
         "y": [
          243,
          251
         ],
         "z": [
          141,
          156
         ]
        },
        {
         "hoverinfo": "text",
         "line": {
          "color": "rgba(128, 128, 128, 0.4)",
          "width": 1
         },
         "mode": "lines",
         "text": "3.16",
         "type": "scatter3d",
         "x": [
          358,
          359
         ],
         "y": [
          136,
          139
         ],
         "z": [
          396,
          396
         ]
        },
        {
         "hoverinfo": "text",
         "line": {
          "color": "rgba(128, 128, 128, 0.4)",
          "width": 1
         },
         "mode": "lines",
         "text": "48.92",
         "type": "scatter3d",
         "x": [
          359,
          384
         ],
         "y": [
          139,
          141
         ],
         "z": [
          396,
          354
         ]
        },
        {
         "hoverinfo": "text",
         "line": {
          "color": "rgba(128, 128, 128, 0.4)",
          "width": 1
         },
         "mode": "lines",
         "text": "34.99",
         "type": "scatter3d",
         "x": [
          359,
          351
         ],
         "y": [
          139,
          165
         ],
         "z": [
          396,
          418
         ]
        },
        {
         "hoverinfo": "text",
         "line": {
          "color": "rgba(128, 128, 128, 0.4)",
          "width": 1
         },
         "mode": "lines",
         "text": "1.41",
         "type": "scatter3d",
         "x": [
          372,
          373
         ],
         "y": [
          195,
          195
         ],
         "z": [
          433,
          432
         ]
        },
        {
         "hoverinfo": "text",
         "line": {
          "color": "rgba(128, 128, 128, 0.4)",
          "width": 1
         },
         "mode": "lines",
         "text": "5.39",
         "type": "scatter3d",
         "x": [
          372,
          374
         ],
         "y": [
          195,
          198
         ],
         "z": [
          433,
          437
         ]
        },
        {
         "hoverinfo": "text",
         "line": {
          "color": "rgba(128, 128, 128, 0.4)",
          "width": 1
         },
         "mode": "lines",
         "text": "39.57",
         "type": "scatter3d",
         "x": [
          372,
          351
         ],
         "y": [
          195,
          165
         ],
         "z": [
          433,
          418
         ]
        },
        {
         "hoverinfo": "text",
         "line": {
          "color": "rgba(128, 128, 128, 0.4)",
          "width": 1
         },
         "mode": "lines",
         "text": "3.00",
         "type": "scatter3d",
         "x": [
          372,
          374
         ],
         "y": [
          197,
          198
         ],
         "z": [
          439,
          437
         ]
        },
        {
         "hoverinfo": "text",
         "line": {
          "color": "rgba(128, 128, 128, 0.4)",
          "width": 1
         },
         "mode": "lines",
         "text": "10.25",
         "type": "scatter3d",
         "x": [
          374,
          379
         ],
         "y": [
          198,
          206
         ],
         "z": [
          437,
          441
         ]
        },
        {
         "hoverinfo": "text",
         "line": {
          "color": "rgba(128, 128, 128, 0.4)",
          "width": 1
         },
         "mode": "lines",
         "text": "6.48",
         "type": "scatter3d",
         "x": [
          375,
          379
         ],
         "y": [
          207,
          206
         ],
         "z": [
          446,
          441
         ]
        },
        {
         "hoverinfo": "text",
         "line": {
          "color": "rgba(128, 128, 128, 0.4)",
          "width": 1
         },
         "mode": "lines",
         "text": "12.57",
         "type": "scatter3d",
         "x": [
          379,
          386
         ],
         "y": [
          206,
          216
         ],
         "z": [
          441,
          444
         ]
        },
        {
         "hoverinfo": "text",
         "line": {
          "color": "rgba(128, 128, 128, 0.4)",
          "width": 1
         },
         "mode": "lines",
         "text": "3.74",
         "type": "scatter3d",
         "x": [
          384,
          386
         ],
         "y": [
          141,
          142
         ],
         "z": [
          354,
          351
         ]
        },
        {
         "hoverinfo": "text",
         "line": {
          "color": "rgba(128, 128, 128, 0.4)",
          "width": 1
         },
         "mode": "lines",
         "text": "10.05",
         "type": "scatter3d",
         "x": [
          384,
          394
         ],
         "y": [
          141,
          141
         ],
         "z": [
          354,
          353
         ]
        },
        {
         "hoverinfo": "text",
         "line": {
          "color": "rgba(128, 128, 128, 0.4)",
          "width": 1
         },
         "mode": "lines",
         "text": "2.45",
         "type": "scatter3d",
         "x": [
          384,
          386
         ],
         "y": [
          217,
          216
         ],
         "z": [
          445,
          444
         ]
        },
        {
         "hoverinfo": "text",
         "line": {
          "color": "rgba(128, 128, 128, 0.4)",
          "width": 1
         },
         "mode": "lines",
         "text": "13.45",
         "type": "scatter3d",
         "x": [
          386,
          395
         ],
         "y": [
          216,
          226
         ],
         "z": [
          444,
          444
         ]
        },
        {
         "hoverinfo": "text",
         "line": {
          "color": "rgba(128, 128, 128, 0.4)",
          "width": 1
         },
         "mode": "lines",
         "text": "52.78",
         "type": "scatter3d",
         "x": [
          390,
          413
         ],
         "y": [
          177,
          201
         ],
         "z": [
          619,
          578
         ]
        },
        {
         "hoverinfo": "text",
         "line": {
          "color": "rgba(128, 128, 128, 0.4)",
          "width": 1
         },
         "mode": "lines",
         "text": "37.28",
         "type": "scatter3d",
         "x": [
          395,
          425
         ],
         "y": [
          226,
          205
         ],
         "z": [
          444,
          451
         ]
        },
        {
         "hoverinfo": "text",
         "line": {
          "color": "rgba(128, 128, 128, 0.4)",
          "width": 1
         },
         "mode": "lines",
         "text": "14.04",
         "type": "scatter3d",
         "x": [
          395,
          404
         ],
         "y": [
          226,
          236
         ],
         "z": [
          444,
          440
         ]
        },
        {
         "hoverinfo": "text",
         "line": {
          "color": "rgba(128, 128, 128, 0.4)",
          "width": 1
         },
         "mode": "lines",
         "text": "14.70",
         "type": "scatter3d",
         "x": [
          396,
          410
         ],
         "y": [
          98,
          100
         ],
         "z": [
          492,
          488
         ]
        },
        {
         "hoverinfo": "text",
         "line": {
          "color": "rgba(128, 128, 128, 0.4)",
          "width": 1
         },
         "mode": "lines",
         "text": "16.09",
         "type": "scatter3d",
         "x": [
          398,
          411
         ],
         "y": [
          244,
          241
         ],
         "z": [
          589,
          580
         ]
        },
        {
         "hoverinfo": "text",
         "line": {
          "color": "rgba(128, 128, 128, 0.4)",
          "width": 1
         },
         "mode": "lines",
         "text": "48.18",
         "type": "scatter3d",
         "x": [
          403,
          435
         ],
         "y": [
          346,
          347
         ],
         "z": [
          527,
          491
         ]
        },
        {
         "hoverinfo": "text",
         "line": {
          "color": "rgba(128, 128, 128, 0.4)",
          "width": 1
         },
         "mode": "lines",
         "text": "34.22",
         "type": "scatter3d",
         "x": [
          404,
          425
         ],
         "y": [
          265,
          244
         ],
         "z": [
          533,
          516
         ]
        },
        {
         "hoverinfo": "text",
         "line": {
          "color": "rgba(128, 128, 128, 0.4)",
          "width": 1
         },
         "mode": "lines",
         "text": "31.08",
         "type": "scatter3d",
         "x": [
          406,
          423
         ],
         "y": [
          290,
          289
         ],
         "z": [
          442,
          416
         ]
        },
        {
         "hoverinfo": "text",
         "line": {
          "color": "rgba(128, 128, 128, 0.4)",
          "width": 1
         },
         "mode": "lines",
         "text": "24.23",
         "type": "scatter3d",
         "x": [
          406,
          421
         ],
         "y": [
          291,
          290
         ],
         "z": [
          395,
          414
         ]
        },
        {
         "hoverinfo": "text",
         "line": {
          "color": "rgba(128, 128, 128, 0.4)",
          "width": 1
         },
         "mode": "lines",
         "text": "11.58",
         "type": "scatter3d",
         "x": [
          410,
          412
         ],
         "y": [
          100,
          91
         ],
         "z": [
          488,
          495
         ]
        },
        {
         "hoverinfo": "text",
         "line": {
          "color": "rgba(128, 128, 128, 0.4)",
          "width": 1
         },
         "mode": "lines",
         "text": "50.85",
         "type": "scatter3d",
         "x": [
          410,
          441
         ],
         "y": [
          100,
          135
         ],
         "z": [
          488,
          468
         ]
        },
        {
         "hoverinfo": "text",
         "line": {
          "color": "rgba(128, 128, 128, 0.4)",
          "width": 1
         },
         "mode": "lines",
         "text": "80.90",
         "type": "scatter3d",
         "x": [
          410,
          422
         ],
         "y": [
          320,
          321
         ],
         "z": [
          305,
          385
         ]
        },
        {
         "hoverinfo": "text",
         "line": {
          "color": "rgba(128, 128, 128, 0.4)",
          "width": 1
         },
         "mode": "lines",
         "text": "86.52",
         "type": "scatter3d",
         "x": [
          411,
          416
         ],
         "y": [
          241,
          233
         ],
         "z": [
          580,
          666
         ]
        },
        {
         "hoverinfo": "text",
         "line": {
          "color": "rgba(128, 128, 128, 0.4)",
          "width": 1
         },
         "mode": "lines",
         "text": "65.58",
         "type": "scatter3d",
         "x": [
          411,
          425
         ],
         "y": [
          241,
          244
         ],
         "z": [
          580,
          516
         ]
        },
        {
         "hoverinfo": "text",
         "line": {
          "color": "rgba(128, 128, 128, 0.4)",
          "width": 1
         },
         "mode": "lines",
         "text": "84.34",
         "type": "scatter3d",
         "x": [
          413,
          453
         ],
         "y": [
          51,
          103
         ],
         "z": [
          380,
          433
         ]
        },
        {
         "hoverinfo": "text",
         "line": {
          "color": "rgba(128, 128, 128, 0.4)",
          "width": 1
         },
         "mode": "lines",
         "text": "36.35",
         "type": "scatter3d",
         "x": [
          413,
          431
         ],
         "y": [
          201,
          195
         ],
         "z": [
          578,
          609
         ]
        },
        {
         "hoverinfo": "text",
         "line": {
          "color": "rgba(128, 128, 128, 0.4)",
          "width": 1
         },
         "mode": "lines",
         "text": "110.71",
         "type": "scatter3d",
         "x": [
          413,
          425
         ],
         "y": [
          201,
          237
         ],
         "z": [
          578,
          474
         ]
        },
        {
         "hoverinfo": "text",
         "line": {
          "color": "rgba(128, 128, 128, 0.4)",
          "width": 1
         },
         "mode": "lines",
         "text": "44.45",
         "type": "scatter3d",
         "x": [
          417,
          431
         ],
         "y": [
          153,
          195
         ],
         "z": [
          440,
          436
         ]
        },
        {
         "hoverinfo": "text",
         "line": {
          "color": "rgba(128, 128, 128, 0.4)",
          "width": 1
         },
         "mode": "lines",
         "text": "105.93",
         "type": "scatter3d",
         "x": [
          422,
          446
         ],
         "y": [
          346,
          340
         ],
         "z": [
          142,
          245
         ]
        },
        {
         "hoverinfo": "text",
         "line": {
          "color": "rgba(128, 128, 128, 0.4)",
          "width": 1
         },
         "mode": "lines",
         "text": "10.30",
         "type": "scatter3d",
         "x": [
          423,
          432
         ],
         "y": [
          289,
          286
         ],
         "z": [
          416,
          420
         ]
        },
        {
         "hoverinfo": "text",
         "line": {
          "color": "rgba(128, 128, 128, 0.4)",
          "width": 1
         },
         "mode": "lines",
         "text": "3.00",
         "type": "scatter3d",
         "x": [
          423,
          421
         ],
         "y": [
          289,
          290
         ],
         "z": [
          416,
          414
         ]
        },
        {
         "hoverinfo": "text",
         "line": {
          "color": "rgba(128, 128, 128, 0.4)",
          "width": 1
         },
         "mode": "lines",
         "text": "15.30",
         "type": "scatter3d",
         "x": [
          425,
          436
         ],
         "y": [
          205,
          197
         ],
         "z": [
          451,
          458
         ]
        },
        {
         "hoverinfo": "text",
         "line": {
          "color": "rgba(128, 128, 128, 0.4)",
          "width": 1
         },
         "mode": "lines",
         "text": "19.00",
         "type": "scatter3d",
         "x": [
          425,
          431
         ],
         "y": [
          205,
          195
         ],
         "z": [
          451,
          436
         ]
        },
        {
         "hoverinfo": "text",
         "line": {
          "color": "rgba(128, 128, 128, 0.4)",
          "width": 1
         },
         "mode": "lines",
         "text": "17.46",
         "type": "scatter3d",
         "x": [
          425,
          432
         ],
         "y": [
          244,
          244
         ],
         "z": [
          516,
          500
         ]
        },
        {
         "hoverinfo": "text",
         "line": {
          "color": "rgba(128, 128, 128, 0.4)",
          "width": 1
         },
         "mode": "lines",
         "text": "48.71",
         "type": "scatter3d",
         "x": [
          425,
          429
         ],
         "y": [
          412,
          371
         ],
         "z": [
          398,
          372
         ]
        },
        {
         "hoverinfo": "text",
         "line": {
          "color": "rgba(128, 128, 128, 0.4)",
          "width": 1
         },
         "mode": "lines",
         "text": "44.60",
         "type": "scatter3d",
         "x": [
          429,
          446
         ],
         "y": [
          371,
          403
         ],
         "z": [
          372,
          346
         ]
        },
        {
         "hoverinfo": "text",
         "line": {
          "color": "rgba(128, 128, 128, 0.4)",
          "width": 1
         },
         "mode": "lines",
         "text": "52.13",
         "type": "scatter3d",
         "x": [
          429,
          422
         ],
         "y": [
          371,
          321
         ],
         "z": [
          372,
          385
         ]
        },
        {
         "hoverinfo": "text",
         "line": {
          "color": "rgba(128, 128, 128, 0.4)",
          "width": 1
         },
         "mode": "lines",
         "text": "2.24",
         "type": "scatter3d",
         "x": [
          431,
          432
         ],
         "y": [
          257,
          257
         ],
         "z": [
          416,
          414
         ]
        },
        {
         "hoverinfo": "text",
         "line": {
          "color": "rgba(128, 128, 128, 0.4)",
          "width": 1
         },
         "mode": "lines",
         "text": "29.29",
         "type": "scatter3d",
         "x": [
          431,
          432
         ],
         "y": [
          257,
          286
         ],
         "z": [
          416,
          420
         ]
        },
        {
         "hoverinfo": "text",
         "line": {
          "color": "rgba(128, 128, 128, 0.4)",
          "width": 1
         },
         "mode": "lines",
         "text": "41.79",
         "type": "scatter3d",
         "x": [
          431,
          404
         ],
         "y": [
          257,
          236
         ],
         "z": [
          416,
          440
         ]
        },
        {
         "hoverinfo": "text",
         "line": {
          "color": "rgba(128, 128, 128, 0.4)",
          "width": 1
         },
         "mode": "lines",
         "text": "33.99",
         "type": "scatter3d",
         "x": [
          432,
          431
         ],
         "y": [
          172,
          195
         ],
         "z": [
          634,
          609
         ]
        },
        {
         "hoverinfo": "text",
         "line": {
          "color": "rgba(255, 0, 0, 0.8)",
          "width": 8
         },
         "mode": "lines",
         "text": "1.73",
         "type": "scatter3d",
         "x": [
          432,
          433
         ],
         "y": [
          244,
          245
         ],
         "z": [
          500,
          499
         ]
        },
        {
         "hoverinfo": "text",
         "line": {
          "color": "rgba(255, 0, 0, 0.8)",
          "width": 8
         },
         "mode": "lines",
         "text": "1.41",
         "type": "scatter3d",
         "x": [
          432,
          433
         ],
         "y": [
          244,
          245
         ],
         "z": [
          500,
          500
         ]
        },
        {
         "hoverinfo": "text",
         "line": {
          "color": "rgba(128, 128, 128, 0.4)",
          "width": 1
         },
         "mode": "lines",
         "text": "55.52",
         "type": "scatter3d",
         "x": [
          432,
          447
         ],
         "y": [
          257,
          273
         ],
         "z": [
          414,
          363
         ]
        },
        {
         "hoverinfo": "text",
         "line": {
          "color": "rgba(128, 128, 128, 0.4)",
          "width": 1
         },
         "mode": "lines",
         "text": "31.02",
         "type": "scatter3d",
         "x": [
          432,
          455
         ],
         "y": [
          257,
          240
         ],
         "z": [
          414,
          402
         ]
        },
        {
         "hoverinfo": "text",
         "line": {
          "color": "rgba(128, 128, 128, 0.4)",
          "width": 1
         },
         "mode": "lines",
         "text": "13.93",
         "type": "scatter3d",
         "x": [
          432,
          439
         ],
         "y": [
          286,
          298
         ],
         "z": [
          420,
          421
         ]
        },
        {
         "hoverinfo": "text",
         "line": {
          "color": "rgba(255, 0, 0, 0.8)",
          "width": 8
         },
         "mode": "lines",
         "text": "1.00",
         "type": "scatter3d",
         "x": [
          433,
          433
         ],
         "y": [
          245,
          245
         ],
         "z": [
          498,
          499
         ]
        },
        {
         "hoverinfo": "text",
         "line": {
          "color": "rgba(255, 0, 0, 0.8)",
          "width": 8
         },
         "mode": "lines",
         "text": "1.00",
         "type": "scatter3d",
         "x": [
          433,
          434
         ],
         "y": [
          245,
          245
         ],
         "z": [
          498,
          498
         ]
        },
        {
         "hoverinfo": "text",
         "line": {
          "color": "rgba(128, 128, 128, 0.4)",
          "width": 1
         },
         "mode": "lines",
         "text": "26.53",
         "type": "scatter3d",
         "x": [
          433,
          425
         ],
         "y": [
          245,
          237
         ],
         "z": [
          498,
          474
         ]
        },
        {
         "hoverinfo": "text",
         "line": {
          "color": "rgba(255, 0, 0, 0.8)",
          "width": 8
         },
         "mode": "lines",
         "text": "1.00",
         "type": "scatter3d",
         "x": [
          433,
          433
         ],
         "y": [
          245,
          245
         ],
         "z": [
          499,
          500
         ]
        },
        {
         "hoverinfo": "text",
         "line": {
          "color": "rgba(255, 0, 0, 0.8)",
          "width": 8
         },
         "mode": "lines",
         "text": "1.41",
         "type": "scatter3d",
         "x": [
          433,
          434
         ],
         "y": [
          245,
          245
         ],
         "z": [
          499,
          498
         ]
        },
        {
         "hoverinfo": "text",
         "line": {
          "color": "rgba(128, 128, 128, 0.4)",
          "width": 1
         },
         "mode": "lines",
         "text": "43.01",
         "type": "scatter3d",
         "x": [
          433,
          453
         ],
         "y": [
          245,
          260
         ],
         "z": [
          500,
          535
         ]
        },
        {
         "hoverinfo": "text",
         "line": {
          "color": "rgba(128, 128, 128, 0.4)",
          "width": 1
         },
         "mode": "lines",
         "text": "22.29",
         "type": "scatter3d",
         "x": [
          434,
          444
         ],
         "y": [
          245,
          251
         ],
         "z": [
          498,
          479
         ]
        },
        {
         "hoverinfo": "text",
         "line": {
          "color": "rgba(128, 128, 128, 0.4)",
          "width": 1
         },
         "mode": "lines",
         "text": "54.57",
         "type": "scatter3d",
         "x": [
          434,
          454
         ],
         "y": [
          357,
          314
         ],
         "z": [
          279,
          306
         ]
        },
        {
         "hoverinfo": "text",
         "line": {
          "color": "rgba(128, 128, 128, 0.4)",
          "width": 1
         },
         "mode": "lines",
         "text": "56.58",
         "type": "scatter3d",
         "x": [
          436,
          443
         ],
         "y": [
          197,
          141
         ],
         "z": [
          458,
          462
         ]
        },
        {
         "hoverinfo": "text",
         "line": {
          "color": "rgba(128, 128, 128, 0.4)",
          "width": 1
         },
         "mode": "lines",
         "text": "43.86",
         "type": "scatter3d",
         "x": [
          436,
          472
         ],
         "y": [
          197,
          209
         ],
         "z": [
          458,
          480
         ]
        },
        {
         "hoverinfo": "text",
         "line": {
          "color": "rgba(128, 128, 128, 0.4)",
          "width": 1
         },
         "mode": "lines",
         "text": "13.93",
         "type": "scatter3d",
         "x": [
          439,
          446
         ],
         "y": [
          177,
          178
         ],
         "z": [
          411,
          423
         ]
        },
        {
         "hoverinfo": "text",
         "line": {
          "color": "rgba(128, 128, 128, 0.4)",
          "width": 1
         },
         "mode": "lines",
         "text": "58.17",
         "type": "scatter3d",
         "x": [
          439,
          441
         ],
         "y": [
          298,
          342
         ],
         "z": [
          421,
          459
         ]
        },
        {
         "hoverinfo": "text",
         "line": {
          "color": "rgba(128, 128, 128, 0.4)",
          "width": 1
         },
         "mode": "lines",
         "text": "36.73",
         "type": "scatter3d",
         "x": [
          439,
          462
         ],
         "y": [
          298,
          324
         ],
         "z": [
          421,
          409
         ]
        },
        {
         "hoverinfo": "text",
         "line": {
          "color": "rgba(128, 128, 128, 0.4)",
          "width": 1
         },
         "mode": "lines",
         "text": "32.94",
         "type": "scatter3d",
         "x": [
          441,
          435
         ],
         "y": [
          342,
          347
         ],
         "z": [
          459,
          491
         ]
        },
        {
         "hoverinfo": "text",
         "line": {
          "color": "rgba(128, 128, 128, 0.4)",
          "width": 1
         },
         "mode": "lines",
         "text": "22.49",
         "type": "scatter3d",
         "x": [
          441,
          460
         ],
         "y": [
          342,
          354
         ],
         "z": [
          459,
          460
         ]
        },
        {
         "hoverinfo": "text",
         "line": {
          "color": "rgba(128, 128, 128, 0.4)",
          "width": 1
         },
         "mode": "lines",
         "text": "10.20",
         "type": "scatter3d",
         "x": [
          442,
          444
         ],
         "y": [
          251,
          251
         ],
         "z": [
          469,
          479
         ]
        },
        {
         "hoverinfo": "text",
         "line": {
          "color": "rgba(128, 128, 128, 0.4)",
          "width": 1
         },
         "mode": "lines",
         "text": "48.84",
         "type": "scatter3d",
         "x": [
          443,
          453
         ],
         "y": [
          141,
          103
         ],
         "z": [
          462,
          433
         ]
        },
        {
         "hoverinfo": "text",
         "line": {
          "color": "rgba(128, 128, 128, 0.4)",
          "width": 1
         },
         "mode": "lines",
         "text": "8.72",
         "type": "scatter3d",
         "x": [
          443,
          441
         ],
         "y": [
          141,
          135
         ],
         "z": [
          462,
          468
         ]
        },
        {
         "hoverinfo": "text",
         "line": {
          "color": "rgba(128, 128, 128, 0.4)",
          "width": 1
         },
         "mode": "lines",
         "text": "13.60",
         "type": "scatter3d",
         "x": [
          444,
          454
         ],
         "y": [
          251,
          258
         ],
         "z": [
          479,
          473
         ]
        },
        {
         "hoverinfo": "text",
         "line": {
          "color": "rgba(128, 128, 128, 0.4)",
          "width": 1
         },
         "mode": "lines",
         "text": "7.55",
         "type": "scatter3d",
         "x": [
          446,
          450
         ],
         "y": [
          178,
          173
         ],
         "z": [
          423,
          427
         ]
        },
        {
         "hoverinfo": "text",
         "line": {
          "color": "rgba(128, 128, 128, 0.4)",
          "width": 1
         },
         "mode": "lines",
         "text": "26.13",
         "type": "scatter3d",
         "x": [
          446,
          431
         ],
         "y": [
          178,
          195
         ],
         "z": [
          423,
          436
         ]
        },
        {
         "hoverinfo": "text",
         "line": {
          "color": "rgba(128, 128, 128, 0.4)",
          "width": 1
         },
         "mode": "lines",
         "text": "36.18",
         "type": "scatter3d",
         "x": [
          446,
          449
         ],
         "y": [
          270,
          272
         ],
         "z": [
          599,
          563
         ]
        },
        {
         "hoverinfo": "text",
         "line": {
          "color": "rgba(128, 128, 128, 0.4)",
          "width": 1
         },
         "mode": "lines",
         "text": "2.24",
         "type": "scatter3d",
         "x": [
          446,
          447
         ],
         "y": [
          275,
          273
         ],
         "z": [
          363,
          363
         ]
        },
        {
         "hoverinfo": "text",
         "line": {
          "color": "rgba(128, 128, 128, 0.4)",
          "width": 1
         },
         "mode": "lines",
         "text": "8.12",
         "type": "scatter3d",
         "x": [
          447,
          451
         ],
         "y": [
          273,
          274
         ],
         "z": [
          363,
          356
         ]
        },
        {
         "hoverinfo": "text",
         "line": {
          "color": "rgba(128, 128, 128, 0.4)",
          "width": 1
         },
         "mode": "lines",
         "text": "25.69",
         "type": "scatter3d",
         "x": [
          447,
          449
         ],
         "y": [
          292,
          272
         ],
         "z": [
          579,
          563
         ]
        },
        {
         "hoverinfo": "text",
         "line": {
          "color": "rgba(128, 128, 128, 0.4)",
          "width": 1
         },
         "mode": "lines",
         "text": "29.82",
         "type": "scatter3d",
         "x": [
          449,
          453
         ],
         "y": [
          272,
          260
         ],
         "z": [
          563,
          536
         ]
        },
        {
         "hoverinfo": "text",
         "line": {
          "color": "rgba(128, 128, 128, 0.4)",
          "width": 1
         },
         "mode": "lines",
         "text": "17.94",
         "type": "scatter3d",
         "x": [
          450,
          453
         ],
         "y": [
          354,
          366
         ],
         "z": [
          512,
          525
         ]
        },
        {
         "hoverinfo": "text",
         "line": {
          "color": "rgba(128, 128, 128, 0.4)",
          "width": 1
         },
         "mode": "lines",
         "text": "10.82",
         "type": "scatter3d",
         "x": [
          450,
          457
         ],
         "y": [
          354,
          352
         ],
         "z": [
          512,
          520
         ]
        },
        {
         "hoverinfo": "text",
         "line": {
          "color": "rgba(128, 128, 128, 0.4)",
          "width": 1
         },
         "mode": "lines",
         "text": "26.74",
         "type": "scatter3d",
         "x": [
          450,
          435
         ],
         "y": [
          354,
          347
         ],
         "z": [
          512,
          491
         ]
        },
        {
         "hoverinfo": "text",
         "line": {
          "color": "rgba(128, 128, 128, 0.4)",
          "width": 1
         },
         "mode": "lines",
         "text": "11.49",
         "type": "scatter3d",
         "x": [
          452,
          456
         ],
         "y": [
          265,
          261
         ],
         "z": [
          275,
          285
         ]
        },
        {
         "hoverinfo": "text",
         "line": {
          "color": "rgba(128, 128, 128, 0.4)",
          "width": 1
         },
         "mode": "lines",
         "text": "15.30",
         "type": "scatter3d",
         "x": [
          453,
          465
         ],
         "y": [
          103,
          94
         ],
         "z": [
          433,
          430
         ]
        },
        {
         "hoverinfo": "text",
         "line": {
          "color": "rgba(255, 0, 0, 0.8)",
          "width": 8
         },
         "mode": "lines",
         "text": "1.41",
         "type": "scatter3d",
         "x": [
          453,
          453
         ],
         "y": [
          259,
          260
         ],
         "z": [
          536,
          535
         ]
        },
        {
         "hoverinfo": "text",
         "line": {
          "color": "rgba(255, 0, 0, 0.8)",
          "width": 8
         },
         "mode": "lines",
         "text": "1.00",
         "type": "scatter3d",
         "x": [
          453,
          453
         ],
         "y": [
          259,
          260
         ],
         "z": [
          536,
          536
         ]
        },
        {
         "hoverinfo": "text",
         "line": {
          "color": "rgba(128, 128, 128, 0.4)",
          "width": 1
         },
         "mode": "lines",
         "text": "54.00",
         "type": "scatter3d",
         "x": [
          453,
          473
         ],
         "y": [
          259,
          239
         ],
         "z": [
          536,
          582
         ]
        },
        {
         "hoverinfo": "text",
         "line": {
          "color": "rgba(255, 0, 0, 0.8)",
          "width": 8
         },
         "mode": "lines",
         "text": "1.00",
         "type": "scatter3d",
         "x": [
          453,
          453
         ],
         "y": [
          260,
          260
         ],
         "z": [
          535,
          536
         ]
        },
        {
         "hoverinfo": "text",
         "line": {
          "color": "rgba(128, 128, 128, 0.4)",
          "width": 1
         },
         "mode": "lines",
         "text": "42.31",
         "type": "scatter3d",
         "x": [
          453,
          486
         ],
         "y": [
          260,
          286
         ],
         "z": [
          535,
          540
         ]
        },
        {
         "hoverinfo": "text",
         "line": {
          "color": "rgba(128, 128, 128, 0.4)",
          "width": 1
         },
         "mode": "lines",
         "text": "33.30",
         "type": "scatter3d",
         "x": [
          454,
          460
         ],
         "y": [
          314,
          331
         ],
         "z": [
          306,
          278
         ]
        },
        {
         "hoverinfo": "text",
         "line": {
          "color": "rgba(128, 128, 128, 0.4)",
          "width": 1
         },
         "mode": "lines",
         "text": "64.10",
         "type": "scatter3d",
         "x": [
          454,
          451
         ],
         "y": [
          314,
          274
         ],
         "z": [
          306,
          356
         ]
        },
        {
         "hoverinfo": "text",
         "line": {
          "color": "rgba(128, 128, 128, 0.4)",
          "width": 1
         },
         "mode": "lines",
         "text": "50.49",
         "type": "scatter3d",
         "x": [
          455,
          481
         ],
         "y": [
          240,
          212
         ],
         "z": [
          402,
          369
         ]
        },
        {
         "hoverinfo": "text",
         "line": {
          "color": "rgba(128, 128, 128, 0.4)",
          "width": 1
         },
         "mode": "lines",
         "text": "23.62",
         "type": "scatter3d",
         "x": [
          455,
          476
         ],
         "y": [
          240,
          231
         ],
         "z": [
          402,
          408
         ]
        },
        {
         "hoverinfo": "text",
         "line": {
          "color": "rgba(128, 128, 128, 0.4)",
          "width": 1
         },
         "mode": "lines",
         "text": "35.51",
         "type": "scatter3d",
         "x": [
          456,
          462
         ],
         "y": [
          261,
          261
         ],
         "z": [
          285,
          320
         ]
        },
        {
         "hoverinfo": "text",
         "line": {
          "color": "rgba(128, 128, 128, 0.4)",
          "width": 1
         },
         "mode": "lines",
         "text": "52.97",
         "type": "scatter3d",
         "x": [
          456,
          465
         ],
         "y": [
          261,
          246
         ],
         "z": [
          285,
          235
         ]
        },
        {
         "hoverinfo": "text",
         "line": {
          "color": "rgba(128, 128, 128, 0.4)",
          "width": 1
         },
         "mode": "lines",
         "text": "5.00",
         "type": "scatter3d",
         "x": [
          460,
          460
         ],
         "y": [
          331,
          331
         ],
         "z": [
          273,
          278
         ]
        },
        {
         "hoverinfo": "text",
         "line": {
          "color": "rgba(128, 128, 128, 0.4)",
          "width": 1
         },
         "mode": "lines",
         "text": "11.45",
         "type": "scatter3d",
         "x": [
          460,
          467
         ],
         "y": [
          331,
          330
         ],
         "z": [
          273,
          264
         ]
        },
        {
         "hoverinfo": "text",
         "line": {
          "color": "rgba(128, 128, 128, 0.4)",
          "width": 1
         },
         "mode": "lines",
         "text": "32.57",
         "type": "scatter3d",
         "x": [
          460,
          446
         ],
         "y": [
          331,
          340
         ],
         "z": [
          273,
          245
         ]
        },
        {
         "hoverinfo": "text",
         "line": {
          "color": "rgba(128, 128, 128, 0.4)",
          "width": 1
         },
         "mode": "lines",
         "text": "53.97",
         "type": "scatter3d",
         "x": [
          460,
          476
         ],
         "y": [
          331,
          380
         ],
         "z": [
          278,
          262
         ]
        },
        {
         "hoverinfo": "text",
         "line": {
          "color": "rgba(128, 128, 128, 0.4)",
          "width": 1
         },
         "mode": "lines",
         "text": "38.92",
         "type": "scatter3d",
         "x": [
          462,
          431
         ],
         "y": [
          190,
          195
         ],
         "z": [
          632,
          609
         ]
        },
        {
         "hoverinfo": "text",
         "line": {
          "color": "rgba(128, 128, 128, 0.4)",
          "width": 1
         },
         "mode": "lines",
         "text": "117.39",
         "type": "scatter3d",
         "x": [
          462,
          526
         ],
         "y": [
          261,
          219
         ],
         "z": [
          320,
          231
         ]
        },
        {
         "hoverinfo": "text",
         "line": {
          "color": "rgba(128, 128, 128, 0.4)",
          "width": 1
         },
         "mode": "lines",
         "text": "26.57",
         "type": "scatter3d",
         "x": [
          462,
          459
         ],
         "y": [
          261,
          272
         ],
         "z": [
          320,
          344
         ]
        },
        {
         "hoverinfo": "text",
         "line": {
          "color": "rgba(128, 128, 128, 0.4)",
          "width": 1
         },
         "mode": "lines",
         "text": "47.79",
         "type": "scatter3d",
         "x": [
          462,
          476
         ],
         "y": [
          324,
          366
         ],
         "z": [
          409,
          391
         ]
        },
        {
         "hoverinfo": "text",
         "line": {
          "color": "rgba(128, 128, 128, 0.4)",
          "width": 1
         },
         "mode": "lines",
         "text": "15.26",
         "type": "scatter3d",
         "x": [
          462,
          477
         ],
         "y": [
          324,
          326
         ],
         "z": [
          409,
          411
         ]
        },
        {
         "hoverinfo": "text",
         "line": {
          "color": "rgba(128, 128, 128, 0.4)",
          "width": 1
         },
         "mode": "lines",
         "text": "2.83",
         "type": "scatter3d",
         "x": [
          466,
          468
         ],
         "y": [
          400,
          400
         ],
         "z": [
          146,
          148
         ]
        },
        {
         "hoverinfo": "text",
         "line": {
          "color": "rgba(128, 128, 128, 0.4)",
          "width": 1
         },
         "mode": "lines",
         "text": "25.63",
         "type": "scatter3d",
         "x": [
          468,
          482
         ],
         "y": [
          400,
          410
         ],
         "z": [
          148,
          129
         ]
        },
        {
         "hoverinfo": "text",
         "line": {
          "color": "rgba(128, 128, 128, 0.4)",
          "width": 1
         },
         "mode": "lines",
         "text": "116.16",
         "type": "scatter3d",
         "x": [
          468,
          446
         ],
         "y": [
          400,
          340
         ],
         "z": [
          148,
          245
         ]
        },
        {
         "hoverinfo": "text",
         "line": {
          "color": "rgba(128, 128, 128, 0.4)",
          "width": 1
         },
         "mode": "lines",
         "text": "74.43",
         "type": "scatter3d",
         "x": [
          469,
          441
         ],
         "y": [
          115,
          135
         ],
         "z": [
          534,
          468
         ]
        },
        {
         "hoverinfo": "text",
         "line": {
          "color": "rgba(128, 128, 128, 0.4)",
          "width": 1
         },
         "mode": "lines",
         "text": "30.02",
         "type": "scatter3d",
         "x": [
          469,
          481
         ],
         "y": [
          186,
          212
         ],
         "z": [
          360,
          369
         ]
        },
        {
         "hoverinfo": "text",
         "line": {
          "color": "rgba(128, 128, 128, 0.4)",
          "width": 1
         },
         "mode": "lines",
         "text": "28.46",
         "type": "scatter3d",
         "x": [
          469,
          478
         ],
         "y": [
          422,
          395
         ],
         "z": [
          247,
          247
         ]
        },
        {
         "hoverinfo": "text",
         "line": {
          "color": "rgba(128, 128, 128, 0.4)",
          "width": 1
         },
         "mode": "lines",
         "text": "66.14",
         "type": "scatter3d",
         "x": [
          470,
          473
         ],
         "y": [
          236,
          239
         ],
         "z": [
          648,
          582
         ]
        },
        {
         "hoverinfo": "text",
         "line": {
          "color": "rgba(128, 128, 128, 0.4)",
          "width": 1
         },
         "mode": "lines",
         "text": "29.68",
         "type": "scatter3d",
         "x": [
          470,
          476
         ],
         "y": [
          395,
          366
         ],
         "z": [
          389,
          391
         ]
        },
        {
         "hoverinfo": "text",
         "line": {
          "color": "rgba(128, 128, 128, 0.4)",
          "width": 1
         },
         "mode": "lines",
         "text": "46.16",
         "type": "scatter3d",
         "x": [
          471,
          510
         ],
         "y": [
          277,
          300
         ],
         "z": [
          336,
          327
         ]
        },
        {
         "hoverinfo": "text",
         "line": {
          "color": "rgba(128, 128, 128, 0.4)",
          "width": 1
         },
         "mode": "lines",
         "text": "116.28",
         "type": "scatter3d",
         "x": [
          471,
          535
         ],
         "y": [
          277,
          297
         ],
         "z": [
          336,
          241
         ]
        },
        {
         "hoverinfo": "text",
         "line": {
          "color": "rgba(128, 128, 128, 0.4)",
          "width": 1
         },
         "mode": "lines",
         "text": "15.26",
         "type": "scatter3d",
         "x": [
          471,
          459
         ],
         "y": [
          277,
          272
         ],
         "z": [
          336,
          344
         ]
        },
        {
         "hoverinfo": "text",
         "line": {
          "color": "rgba(128, 128, 128, 0.4)",
          "width": 1
         },
         "mode": "lines",
         "text": "38.92",
         "type": "scatter3d",
         "x": [
          472,
          497
         ],
         "y": [
          209,
          186
         ],
         "z": [
          480,
          499
         ]
        },
        {
         "hoverinfo": "text",
         "line": {
          "color": "rgba(128, 128, 128, 0.4)",
          "width": 1
         },
         "mode": "lines",
         "text": "72.04",
         "type": "scatter3d",
         "x": [
          472,
          531
         ],
         "y": [
          209,
          244
         ],
         "z": [
          480,
          502
         ]
        },
        {
         "hoverinfo": "text",
         "line": {
          "color": "rgba(128, 128, 128, 0.4)",
          "width": 1
         },
         "mode": "lines",
         "text": "40.42",
         "type": "scatter3d",
         "x": [
          472,
          460
         ],
         "y": [
          391,
          354
         ],
         "z": [
          449,
          460
         ]
        },
        {
         "hoverinfo": "text",
         "line": {
          "color": "rgba(128, 128, 128, 0.4)",
          "width": 1
         },
         "mode": "lines",
         "text": "18.89",
         "type": "scatter3d",
         "x": [
          473,
          490
         ],
         "y": [
          239,
          241
         ],
         "z": [
          582,
          590
         ]
        },
        {
         "hoverinfo": "text",
         "line": {
          "color": "rgba(128, 128, 128, 0.4)",
          "width": 1
         },
         "mode": "lines",
         "text": "19.70",
         "type": "scatter3d",
         "x": [
          475,
          465
         ],
         "y": [
          82,
          94
         ],
         "z": [
          418,
          430
         ]
        },
        {
         "hoverinfo": "text",
         "line": {
          "color": "rgba(128, 128, 128, 0.4)",
          "width": 1
         },
         "mode": "lines",
         "text": "23.75",
         "type": "scatter3d",
         "x": [
          475,
          479
         ],
         "y": [
          403,
          395
         ],
         "z": [
          224,
          246
         ]
        },
        {
         "hoverinfo": "text",
         "line": {
          "color": "rgba(128, 128, 128, 0.4)",
          "width": 1
         },
         "mode": "lines",
         "text": "18.41",
         "type": "scatter3d",
         "x": [
          476,
          489
         ],
         "y": [
          366,
          377
         ],
         "z": [
          391,
          384
         ]
        },
        {
         "hoverinfo": "text",
         "line": {
          "color": "rgba(128, 128, 128, 0.4)",
          "width": 1
         },
         "mode": "lines",
         "text": "21.31",
         "type": "scatter3d",
         "x": [
          476,
          478
         ],
         "y": [
          380,
          395
         ],
         "z": [
          262,
          247
         ]
        },
        {
         "hoverinfo": "text",
         "line": {
          "color": "rgba(128, 128, 128, 0.4)",
          "width": 1
         },
         "mode": "lines",
         "text": "17.00",
         "type": "scatter3d",
         "x": [
          476,
          484
         ],
         "y": [
          380,
          392
         ],
         "z": [
          262,
          271
         ]
        },
        {
         "hoverinfo": "text",
         "line": {
          "color": "rgba(128, 128, 128, 0.4)",
          "width": 1
         },
         "mode": "lines",
         "text": "20.52",
         "type": "scatter3d",
         "x": [
          477,
          465
         ],
         "y": [
          85,
          94
         ],
         "z": [
          444,
          430
         ]
        },
        {
         "hoverinfo": "text",
         "line": {
          "color": "rgba(128, 128, 128, 0.4)",
          "width": 1
         },
         "mode": "lines",
         "text": "40.24",
         "type": "scatter3d",
         "x": [
          477,
          512
         ],
         "y": [
          326,
          313
         ],
         "z": [
          411,
          396
         ]
        },
        {
         "hoverinfo": "text",
         "line": {
          "color": "rgba(128, 128, 128, 0.4)",
          "width": 1
         },
         "mode": "lines",
         "text": "38.28",
         "type": "scatter3d",
         "x": [
          477,
          507
         ],
         "y": [
          326,
          349
         ],
         "z": [
          411,
          417
         ]
        },
        {
         "hoverinfo": "text",
         "line": {
          "color": "rgba(128, 128, 128, 0.4)",
          "width": 1
         },
         "mode": "lines",
         "text": "1.41",
         "type": "scatter3d",
         "x": [
          478,
          479
         ],
         "y": [
          395,
          395
         ],
         "z": [
          247,
          246
         ]
        },
        {
         "hoverinfo": "text",
         "line": {
          "color": "rgba(128, 128, 128, 0.4)",
          "width": 1
         },
         "mode": "lines",
         "text": "38.90",
         "type": "scatter3d",
         "x": [
          479,
          503
         ],
         "y": [
          395,
          414
         ],
         "z": [
          246,
          222
         ]
        },
        {
         "hoverinfo": "text",
         "line": {
          "color": "rgba(128, 128, 128, 0.4)",
          "width": 1
         },
         "mode": "lines",
         "text": "9.38",
         "type": "scatter3d",
         "x": [
          481,
          487
         ],
         "y": [
          212,
          208
         ],
         "z": [
          369,
          363
         ]
        },
        {
         "hoverinfo": "text",
         "line": {
          "color": "rgba(128, 128, 128, 0.4)",
          "width": 1
         },
         "mode": "lines",
         "text": "28.09",
         "type": "scatter3d",
         "x": [
          486,
          494
         ],
         "y": [
          286,
          312
         ],
         "z": [
          540,
          547
         ]
        },
        {
         "hoverinfo": "text",
         "line": {
          "color": "rgba(128, 128, 128, 0.4)",
          "width": 1
         },
         "mode": "lines",
         "text": "28.50",
         "type": "scatter3d",
         "x": [
          486,
          504
         ],
         "y": [
          286,
          284
         ],
         "z": [
          540,
          562
         ]
        },
        {
         "hoverinfo": "text",
         "line": {
          "color": "rgba(128, 128, 128, 0.4)",
          "width": 1
         },
         "mode": "lines",
         "text": "22.49",
         "type": "scatter3d",
         "x": [
          489,
          494
         ],
         "y": [
          377,
          397
         ],
         "z": [
          384,
          393
         ]
        },
        {
         "hoverinfo": "text",
         "line": {
          "color": "rgba(128, 128, 128, 0.4)",
          "width": 1
         },
         "mode": "lines",
         "text": "51.22",
         "type": "scatter3d",
         "x": [
          489,
          521
         ],
         "y": [
          377,
          409
         ],
         "z": [
          384,
          360
         ]
        },
        {
         "hoverinfo": "text",
         "line": {
          "color": "rgba(128, 128, 128, 0.4)",
          "width": 1
         },
         "mode": "lines",
         "text": "19.39",
         "type": "scatter3d",
         "x": [
          490,
          484
         ],
         "y": [
          406,
          392
         ],
         "z": [
          283,
          271
         ]
        },
        {
         "hoverinfo": "text",
         "line": {
          "color": "rgba(128, 128, 128, 0.4)",
          "width": 1
         },
         "mode": "lines",
         "text": "12.41",
         "type": "scatter3d",
         "x": [
          492,
          484
         ],
         "y": [
          401,
          392
         ],
         "z": [
          268,
          271
         ]
        },
        {
         "hoverinfo": "text",
         "line": {
          "color": "rgba(128, 128, 128, 0.4)",
          "width": 1
         },
         "mode": "lines",
         "text": "46.63",
         "type": "scatter3d",
         "x": [
          497,
          507
         ],
         "y": [
          186,
          171
         ],
         "z": [
          499,
          542
         ]
        },
        {
         "hoverinfo": "text",
         "line": {
          "color": "rgba(128, 128, 128, 0.4)",
          "width": 1
         },
         "mode": "lines",
         "text": "37.00",
         "type": "scatter3d",
         "x": [
          497,
          524
         ],
         "y": [
          186,
          162
         ],
         "z": [
          499,
          491
         ]
        },
        {
         "hoverinfo": "text",
         "line": {
          "color": "rgba(128, 128, 128, 0.4)",
          "width": 1
         },
         "mode": "lines",
         "text": "46.94",
         "type": "scatter3d",
         "x": [
          501,
          460
         ],
         "y": [
          363,
          354
         ],
         "z": [
          481,
          460
         ]
        },
        {
         "hoverinfo": "text",
         "line": {
          "color": "rgba(128, 128, 128, 0.4)",
          "width": 1
         },
         "mode": "lines",
         "text": "100.97",
         "type": "scatter3d",
         "x": [
          508,
          467
         ],
         "y": [
          323,
          330
         ],
         "z": [
          172,
          264
         ]
        },
        {
         "hoverinfo": "text",
         "line": {
          "color": "rgba(128, 128, 128, 0.4)",
          "width": 1
         },
         "mode": "lines",
         "text": "50.99",
         "type": "scatter3d",
         "x": [
          508,
          540
         ],
         "y": [
          360,
          390
         ],
         "z": [
          213,
          187
         ]
        },
        {
         "hoverinfo": "text",
         "line": {
          "color": "rgba(128, 128, 128, 0.4)",
          "width": 1
         },
         "mode": "lines",
         "text": "85.26",
         "type": "scatter3d",
         "x": [
          508,
          546
         ],
         "y": [
          360,
          388
         ],
         "z": [
          213,
          142
         ]
        },
        {
         "hoverinfo": "text",
         "line": {
          "color": "rgba(128, 128, 128, 0.4)",
          "width": 1
         },
         "mode": "lines",
         "text": "71.99",
         "type": "scatter3d",
         "x": [
          508,
          467
         ],
         "y": [
          360,
          330
         ],
         "z": [
          213,
          264
         ]
        },
        {
         "hoverinfo": "text",
         "line": {
          "color": "rgba(128, 128, 128, 0.4)",
          "width": 1
         },
         "mode": "lines",
         "text": "4.69",
         "type": "scatter3d",
         "x": [
          510,
          513
         ],
         "y": [
          300,
          303
         ],
         "z": [
          327,
          325
         ]
        },
        {
         "hoverinfo": "text",
         "line": {
          "color": "rgba(128, 128, 128, 0.4)",
          "width": 1
         },
         "mode": "lines",
         "text": "57.88",
         "type": "scatter3d",
         "x": [
          510,
          567
         ],
         "y": [
          300,
          299
         ],
         "z": [
          327,
          337
         ]
        },
        {
         "hoverinfo": "text",
         "line": {
          "color": "rgba(128, 128, 128, 0.4)",
          "width": 1
         },
         "mode": "lines",
         "text": "12.21",
         "type": "scatter3d",
         "x": [
          513,
          515
         ],
         "y": [
          303,
          315
         ],
         "z": [
          325,
          324
         ]
        },
        {
         "hoverinfo": "text",
         "line": {
          "color": "rgba(128, 128, 128, 0.4)",
          "width": 1
         },
         "mode": "lines",
         "text": "68.74",
         "type": "scatter3d",
         "x": [
          513,
          568
         ],
         "y": [
          303,
          287
         ],
         "z": [
          325,
          287
         ]
        },
        {
         "hoverinfo": "text",
         "line": {
          "color": "rgba(128, 128, 128, 0.4)",
          "width": 1
         },
         "mode": "lines",
         "text": "91.87",
         "type": "scatter3d",
         "x": [
          515,
          545
         ],
         "y": [
          315,
          391
         ],
         "z": [
          324,
          282
         ]
        },
        {
         "hoverinfo": "text",
         "line": {
          "color": "rgba(128, 128, 128, 0.4)",
          "width": 1
         },
         "mode": "lines",
         "text": "51.34",
         "type": "scatter3d",
         "x": [
          515,
          549
         ],
         "y": [
          315,
          349
         ],
         "z": [
          324,
          342
         ]
        },
        {
         "hoverinfo": "text",
         "line": {
          "color": "rgba(128, 128, 128, 0.4)",
          "width": 1
         },
         "mode": "lines",
         "text": "43.05",
         "type": "scatter3d",
         "x": [
          518,
          526
         ],
         "y": [
          76,
          118
         ],
         "z": [
          305,
          310
         ]
        },
        {
         "hoverinfo": "text",
         "line": {
          "color": "rgba(128, 128, 128, 0.4)",
          "width": 1
         },
         "mode": "lines",
         "text": "35.28",
         "type": "scatter3d",
         "x": [
          522,
          548
         ],
         "y": [
          241,
          254
         ],
         "z": [
          406,
          426
         ]
        },
        {
         "hoverinfo": "text",
         "line": {
          "color": "rgba(128, 128, 128, 0.4)",
          "width": 1
         },
         "mode": "lines",
         "text": "60.09",
         "type": "scatter3d",
         "x": [
          522,
          571
         ],
         "y": [
          241,
          230
         ],
         "z": [
          406,
          373
         ]
        },
        {
         "hoverinfo": "text",
         "line": {
          "color": "rgba(128, 128, 128, 0.4)",
          "width": 1
         },
         "mode": "lines",
         "text": "47.12",
         "type": "scatter3d",
         "x": [
          522,
          476
         ],
         "y": [
          241,
          231
         ],
         "z": [
          406,
          408
         ]
        },
        {
         "hoverinfo": "text",
         "line": {
          "color": "rgba(128, 128, 128, 0.4)",
          "width": 1
         },
         "mode": "lines",
         "text": "32.40",
         "type": "scatter3d",
         "x": [
          523,
          531
         ],
         "y": [
          184,
          153
         ],
         "z": [
          412,
          417
         ]
        },
        {
         "hoverinfo": "text",
         "line": {
          "color": "rgba(128, 128, 128, 0.4)",
          "width": 1
         },
         "mode": "lines",
         "text": "46.59",
         "type": "scatter3d",
         "x": [
          523,
          560
         ],
         "y": [
          184,
          163
         ],
         "z": [
          412,
          393
         ]
        },
        {
         "hoverinfo": "text",
         "line": {
          "color": "rgba(128, 128, 128, 0.4)",
          "width": 1
         },
         "mode": "lines",
         "text": "66.59",
         "type": "scatter3d",
         "x": [
          523,
          476
         ],
         "y": [
          184,
          231
         ],
         "z": [
          412,
          408
         ]
        },
        {
         "hoverinfo": "text",
         "line": {
          "color": "rgba(128, 128, 128, 0.4)",
          "width": 1
         },
         "mode": "lines",
         "text": "76.64",
         "type": "scatter3d",
         "x": [
          526,
          560
         ],
         "y": [
          219,
          200
         ],
         "z": [
          231,
          165
         ]
        },
        {
         "hoverinfo": "text",
         "line": {
          "color": "rgba(128, 128, 128, 0.4)",
          "width": 1
         },
         "mode": "lines",
         "text": "80.02",
         "type": "scatter3d",
         "x": [
          526,
          598
         ],
         "y": [
          219,
          211
         ],
         "z": [
          231,
          197
         ]
        },
        {
         "hoverinfo": "text",
         "line": {
          "color": "rgba(128, 128, 128, 0.4)",
          "width": 1
         },
         "mode": "lines",
         "text": "16.76",
         "type": "scatter3d",
         "x": [
          532,
          526
         ],
         "y": [
          111,
          118
         ],
         "z": [
          296,
          310
         ]
        },
        {
         "hoverinfo": "text",
         "line": {
          "color": "rgba(128, 128, 128, 0.4)",
          "width": 1
         },
         "mode": "lines",
         "text": "29.09",
         "type": "scatter3d",
         "x": [
          532,
          507
         ],
         "y": [
          354,
          349
         ],
         "z": [
          431,
          417
         ]
        },
        {
         "hoverinfo": "text",
         "line": {
          "color": "rgba(128, 128, 128, 0.4)",
          "width": 1
         },
         "mode": "lines",
         "text": "36.77",
         "type": "scatter3d",
         "x": [
          533,
          507
         ],
         "y": [
          373,
          349
         ],
         "z": [
          407,
          417
         ]
        },
        {
         "hoverinfo": "text",
         "line": {
          "color": "rgba(128, 128, 128, 0.4)",
          "width": 1
         },
         "mode": "lines",
         "text": "1.41",
         "type": "scatter3d",
         "x": [
          535,
          535
         ],
         "y": [
          297,
          298
         ],
         "z": [
          241,
          242
         ]
        },
        {
         "hoverinfo": "text",
         "line": {
          "color": "rgba(128, 128, 128, 0.4)",
          "width": 1
         },
         "mode": "lines",
         "text": "18.06",
         "type": "scatter3d",
         "x": [
          535,
          542
         ],
         "y": [
          297,
          288
         ],
         "z": [
          241,
          227
         ]
        },
        {
         "hoverinfo": "text",
         "line": {
          "color": "rgba(128, 128, 128, 0.4)",
          "width": 1
         },
         "mode": "lines",
         "text": "12.00",
         "type": "scatter3d",
         "x": [
          535,
          543
         ],
         "y": [
          297,
          305
         ],
         "z": [
          241,
          237
         ]
        },
        {
         "hoverinfo": "text",
         "line": {
          "color": "rgba(128, 128, 128, 0.4)",
          "width": 1
         },
         "mode": "lines",
         "text": "32.83",
         "type": "scatter3d",
         "x": [
          542,
          573
         ],
         "y": [
          288,
          282
         ],
         "z": [
          227,
          218
         ]
        },
        {
         "hoverinfo": "text",
         "line": {
          "color": "rgba(128, 128, 128, 0.4)",
          "width": 1
         },
         "mode": "lines",
         "text": "110.23",
         "type": "scatter3d",
         "x": [
          542,
          607
         ],
         "y": [
          288,
          265
         ],
         "z": [
          227,
          141
         ]
        },
        {
         "hoverinfo": "text",
         "line": {
          "color": "rgba(128, 128, 128, 0.4)",
          "width": 1
         },
         "mode": "lines",
         "text": "39.97",
         "type": "scatter3d",
         "x": [
          545,
          546
         ],
         "y": [
          409,
          388
         ],
         "z": [
          108,
          142
         ]
        },
        {
         "hoverinfo": "text",
         "line": {
          "color": "rgba(128, 128, 128, 0.4)",
          "width": 1
         },
         "mode": "lines",
         "text": "5.74",
         "type": "scatter3d",
         "x": [
          546,
          551
         ],
         "y": [
          388,
          390
         ],
         "z": [
          142,
          140
         ]
        },
        {
         "hoverinfo": "text",
         "line": {
          "color": "rgba(128, 128, 128, 0.4)",
          "width": 1
         },
         "mode": "lines",
         "text": "4.12",
         "type": "scatter3d",
         "x": [
          548,
          548
         ],
         "y": [
          254,
          258
         ],
         "z": [
          426,
          425
         ]
        },
        {
         "hoverinfo": "text",
         "line": {
          "color": "rgba(128, 128, 128, 0.4)",
          "width": 1
         },
         "mode": "lines",
         "text": "27.89",
         "type": "scatter3d",
         "x": [
          548,
          557
         ],
         "y": [
          254,
          270
         ],
         "z": [
          426,
          447
         ]
        },
        {
         "hoverinfo": "text",
         "line": {
          "color": "rgba(128, 128, 128, 0.4)",
          "width": 1
         },
         "mode": "lines",
         "text": "29.93",
         "type": "scatter3d",
         "x": [
          550,
          566
         ],
         "y": [
          184,
          160
         ],
         "z": [
          297,
          289
         ]
        },
        {
         "hoverinfo": "text",
         "line": {
          "color": "rgba(128, 128, 128, 0.4)",
          "width": 1
         },
         "mode": "lines",
         "text": "33.75",
         "type": "scatter3d",
         "x": [
          550,
          523
         ],
         "y": [
          184,
          195
         ],
         "z": [
          297,
          314
         ]
        },
        {
         "hoverinfo": "text",
         "line": {
          "color": "rgba(128, 128, 128, 0.4)",
          "width": 1
         },
         "mode": "lines",
         "text": "28.30",
         "type": "scatter3d",
         "x": [
          550,
          570
         ],
         "y": [
          184,
          183
         ],
         "z": [
          297,
          277
         ]
        },
        {
         "hoverinfo": "text",
         "line": {
          "color": "rgba(128, 128, 128, 0.4)",
          "width": 1
         },
         "mode": "lines",
         "text": "35.69",
         "type": "scatter3d",
         "x": [
          558,
          563
         ],
         "y": [
          134,
          149
         ],
         "z": [
          170,
          202
         ]
        },
        {
         "hoverinfo": "text",
         "line": {
          "color": "rgba(128, 128, 128, 0.4)",
          "width": 1
         },
         "mode": "lines",
         "text": "13.45",
         "type": "scatter3d",
         "x": [
          560,
          561
         ],
         "y": [
          200,
          188
         ],
         "z": [
          165,
          159
         ]
        },
        {
         "hoverinfo": "text",
         "line": {
          "color": "rgba(128, 128, 128, 0.4)",
          "width": 1
         },
         "mode": "lines",
         "text": "63.16",
         "type": "scatter3d",
         "x": [
          560,
          604
         ],
         "y": [
          200,
          183
         ],
         "z": [
          165,
          123
         ]
        },
        {
         "hoverinfo": "text",
         "line": {
          "color": "rgba(128, 128, 128, 0.4)",
          "width": 1
         },
         "mode": "lines",
         "text": "37.60",
         "type": "scatter3d",
         "x": [
          561,
          543
         ],
         "y": [
          338,
          305
         ],
         "z": [
          236,
          237
         ]
        },
        {
         "hoverinfo": "text",
         "line": {
          "color": "rgba(128, 128, 128, 0.4)",
          "width": 1
         },
         "mode": "lines",
         "text": "8.12",
         "type": "scatter3d",
         "x": [
          563,
          568
         ],
         "y": [
          149,
          144
         ],
         "z": [
          202,
          198
         ]
        },
        {
         "hoverinfo": "text",
         "line": {
          "color": "rgba(128, 128, 128, 0.4)",
          "width": 1
         },
         "mode": "lines",
         "text": "127.51",
         "type": "scatter3d",
         "x": [
          563,
          523
         ],
         "y": [
          149,
          195
         ],
         "z": [
          202,
          314
         ]
        },
        {
         "hoverinfo": "text",
         "line": {
          "color": "rgba(128, 128, 128, 0.4)",
          "width": 1
         },
         "mode": "lines",
         "text": "2.24",
         "type": "scatter3d",
         "x": [
          567,
          568
         ],
         "y": [
          299,
          299
         ],
         "z": [
          337,
          339
         ]
        },
        {
         "hoverinfo": "text",
         "line": {
          "color": "rgba(128, 128, 128, 0.4)",
          "width": 1
         },
         "mode": "lines",
         "text": "25.50",
         "type": "scatter3d",
         "x": [
          567,
          587
         ],
         "y": [
          299,
          312
         ],
         "z": [
          337,
          328
         ]
        },
        {
         "hoverinfo": "text",
         "line": {
          "color": "rgba(128, 128, 128, 0.4)",
          "width": 1
         },
         "mode": "lines",
         "text": "3.74",
         "type": "scatter3d",
         "x": [
          568,
          570
         ],
         "y": [
          144,
          141
         ],
         "z": [
          198,
          199
         ]
        },
        {
         "hoverinfo": "text",
         "line": {
          "color": "rgba(128, 128, 128, 0.4)",
          "width": 1
         },
         "mode": "lines",
         "text": "21.93",
         "type": "scatter3d",
         "x": [
          568,
          579
         ],
         "y": [
          144,
          138
         ],
         "z": [
          198,
          180
         ]
        },
        {
         "hoverinfo": "text",
         "line": {
          "color": "rgba(128, 128, 128, 0.4)",
          "width": 1
         },
         "mode": "lines",
         "text": "24.10",
         "type": "scatter3d",
         "x": [
          568,
          584
         ],
         "y": [
          287,
          302
         ],
         "z": [
          287,
          277
         ]
        },
        {
         "hoverinfo": "text",
         "line": {
          "color": "rgba(128, 128, 128, 0.4)",
          "width": 1
         },
         "mode": "lines",
         "text": "35.52",
         "type": "scatter3d",
         "x": [
          568,
          589
         ],
         "y": [
          287,
          262
         ],
         "z": [
          287,
          273
         ]
        },
        {
         "hoverinfo": "text",
         "line": {
          "color": "rgba(128, 128, 128, 0.4)",
          "width": 1
         },
         "mode": "lines",
         "text": "12.25",
         "type": "scatter3d",
         "x": [
          575,
          570
         ],
         "y": [
          178,
          183
         ],
         "z": [
          267,
          277
         ]
        },
        {
         "hoverinfo": "text",
         "line": {
          "color": "rgba(128, 128, 128, 0.4)",
          "width": 1
         },
         "mode": "lines",
         "text": "12.65",
         "type": "scatter3d",
         "x": [
          582,
          570
         ],
         "y": [
          187,
          183
         ],
         "z": [
          277,
          277
         ]
        },
        {
         "hoverinfo": "text",
         "line": {
          "color": "rgba(128, 128, 128, 0.4)",
          "width": 1
         },
         "mode": "lines",
         "text": "7.35",
         "type": "scatter3d",
         "x": [
          584,
          585
         ],
         "y": [
          302,
          309
         ],
         "z": [
          277,
          279
         ]
        },
        {
         "hoverinfo": "text",
         "line": {
          "color": "rgba(128, 128, 128, 0.4)",
          "width": 1
         },
         "mode": "lines",
         "text": "18.49",
         "type": "scatter3d",
         "x": [
          584,
          597
         ],
         "y": [
          302,
          304
         ],
         "z": [
          277,
          264
         ]
        },
        {
         "hoverinfo": "text",
         "line": {
          "color": "rgba(128, 128, 128, 0.4)",
          "width": 1
         },
         "mode": "lines",
         "text": "79.32",
         "type": "scatter3d",
         "x": [
          600,
          543
         ],
         "y": [
          326,
          305
         ],
         "z": [
          186,
          237
         ]
        },
        {
         "hoverinfo": "text",
         "line": {
          "color": "rgba(128, 128, 128, 0.4)",
          "width": 1
         },
         "mode": "lines",
         "text": "39.97",
         "type": "scatter3d",
         "x": [
          404,
          425
         ],
         "y": [
          236,
          237
         ],
         "z": [
          440,
          474
         ]
        },
        {
         "hoverinfo": "text",
         "line": {
          "color": "rgba(128, 128, 128, 0.4)",
          "width": 1
         },
         "mode": "lines",
         "text": "15.78",
         "type": "scatter3d",
         "x": [
          219,
          217
         ],
         "y": [
          234,
          241
         ],
         "z": [
          367,
          353
         ]
        },
        {
         "hoverinfo": "text",
         "line": {
          "color": "rgba(128, 128, 128, 0.4)",
          "width": 1
         },
         "mode": "lines",
         "text": "5.00",
         "type": "scatter3d",
         "x": [
          126,
          122
         ],
         "y": [
          320,
          320
         ],
         "z": [
          177,
          174
         ]
        },
        {
         "hoverinfo": "text",
         "line": {
          "color": "rgba(128, 128, 128, 0.4)",
          "width": 1
         },
         "mode": "lines",
         "text": "142.90",
         "type": "scatter3d",
         "x": [
          126,
          207
         ],
         "y": [
          320,
          287
         ],
         "z": [
          177,
          290
         ]
        },
        {
         "hoverinfo": "text",
         "line": {
          "color": "rgba(128, 128, 128, 0.4)",
          "width": 1
         },
         "mode": "lines",
         "text": "89.64",
         "type": "scatter3d",
         "x": [
          217,
          211
         ],
         "y": [
          347,
          307
         ],
         "z": [
          197,
          277
         ]
        },
        {
         "hoverinfo": "text",
         "line": {
          "color": "rgba(128, 128, 128, 0.4)",
          "width": 1
         },
         "mode": "lines",
         "text": "4.69",
         "type": "scatter3d",
         "x": [
          208,
          211
         ],
         "y": [
          304,
          307
         ],
         "z": [
          279,
          277
         ]
        },
        {
         "hoverinfo": "text",
         "line": {
          "color": "rgba(128, 128, 128, 0.4)",
          "width": 1
         },
         "mode": "lines",
         "text": "20.27",
         "type": "scatter3d",
         "x": [
          208,
          207
         ],
         "y": [
          304,
          287
         ],
         "z": [
          279,
          290
         ]
        },
        {
         "hoverinfo": "text",
         "line": {
          "color": "rgba(128, 128, 128, 0.4)",
          "width": 1
         },
         "mode": "lines",
         "text": "29.14",
         "type": "scatter3d",
         "x": [
          191,
          189
         ],
         "y": [
          152,
          133
         ],
         "z": [
          312,
          290
         ]
        },
        {
         "hoverinfo": "text",
         "line": {
          "color": "rgba(128, 128, 128, 0.4)",
          "width": 1
         },
         "mode": "lines",
         "text": "31.16",
         "type": "scatter3d",
         "x": [
          191,
          188
         ],
         "y": [
          152,
          181
         ],
         "z": [
          312,
          323
         ]
        },
        {
         "hoverinfo": "text",
         "line": {
          "color": "rgba(128, 128, 128, 0.4)",
          "width": 1
         },
         "mode": "lines",
         "text": "62.18",
         "type": "scatter3d",
         "x": [
          487,
          523
         ],
         "y": [
          208,
          195
         ],
         "z": [
          363,
          314
         ]
        },
        {
         "hoverinfo": "text",
         "line": {
          "color": "rgba(128, 128, 128, 0.4)",
          "width": 1
         },
         "mode": "lines",
         "text": "111.49",
         "type": "scatter3d",
         "x": [
          487,
          526
         ],
         "y": [
          208,
          118
         ],
         "z": [
          363,
          310
         ]
        },
        {
         "hoverinfo": "text",
         "line": {
          "color": "rgba(128, 128, 128, 0.4)",
          "width": 1
         },
         "mode": "lines",
         "text": "34.61",
         "type": "scatter3d",
         "x": [
          271,
          254
         ],
         "y": [
          251,
          254
         ],
         "z": [
          156,
          186
         ]
        },
        {
         "hoverinfo": "text",
         "line": {
          "color": "rgba(128, 128, 128, 0.4)",
          "width": 1
         },
         "mode": "lines",
         "text": "20.71",
         "type": "scatter3d",
         "x": [
          102,
          122
         ],
         "y": [
          315,
          320
         ],
         "z": [
          172,
          174
         ]
        },
        {
         "hoverinfo": "text",
         "line": {
          "color": "rgba(128, 128, 128, 0.4)",
          "width": 1
         },
         "mode": "lines",
         "text": "14.56",
         "type": "scatter3d",
         "x": [
          451,
          459
         ],
         "y": [
          274,
          272
         ],
         "z": [
          356,
          344
         ]
        },
        {
         "hoverinfo": "text",
         "line": {
          "color": "rgba(128, 128, 128, 0.4)",
          "width": 1
         },
         "mode": "lines",
         "text": "60.09",
         "type": "scatter3d",
         "x": [
          216,
          187
         ],
         "y": [
          225,
          258
         ],
         "z": [
          424,
          465
         ]
        },
        {
         "hoverinfo": "text",
         "line": {
          "color": "rgba(128, 128, 128, 0.4)",
          "width": 1
         },
         "mode": "lines",
         "text": "5.92",
         "type": "scatter3d",
         "x": [
          216,
          219
         ],
         "y": [
          225,
          226
         ],
         "z": [
          424,
          419
         ]
        },
        {
         "hoverinfo": "text",
         "line": {
          "color": "rgba(128, 128, 128, 0.4)",
          "width": 1
         },
         "mode": "lines",
         "text": "42.46",
         "type": "scatter3d",
         "x": [
          422,
          421
         ],
         "y": [
          321,
          290
         ],
         "z": [
          385,
          414
         ]
        },
        {
         "hoverinfo": "text",
         "line": {
          "color": "rgba(128, 128, 128, 0.4)",
          "width": 1
         },
         "mode": "lines",
         "text": "84.60",
         "type": "scatter3d",
         "x": [
          212,
          261
         ],
         "y": [
          284,
          318
         ],
         "z": [
          299,
          239
         ]
        },
        {
         "hoverinfo": "text",
         "line": {
          "color": "rgba(128, 128, 128, 0.4)",
          "width": 1
         },
         "mode": "lines",
         "text": "10.72",
         "type": "scatter3d",
         "x": [
          212,
          207
         ],
         "y": [
          284,
          287
         ],
         "z": [
          299,
          290
         ]
        },
        {
         "hoverinfo": "text",
         "line": {
          "color": "rgba(128, 128, 128, 0.4)",
          "width": 1
         },
         "mode": "lines",
         "text": "2.83",
         "type": "scatter3d",
         "x": [
          188,
          188
         ],
         "y": [
          183,
          181
         ],
         "z": [
          325,
          323
         ]
        },
        {
         "hoverinfo": "text",
         "line": {
          "color": "rgba(128, 128, 128, 0.4)",
          "width": 1
         },
         "mode": "lines",
         "text": "63.98",
         "type": "scatter3d",
         "x": [
          351,
          296
         ],
         "y": [
          165,
          195
         ],
         "z": [
          418,
          405
         ]
        },
        {
         "hoverinfo": "text",
         "line": {
          "color": "rgba(128, 128, 128, 0.4)",
          "width": 1
         },
         "mode": "lines",
         "text": "35.97",
         "type": "scatter3d",
         "x": [
          189,
          186
         ],
         "y": [
          133,
          100
         ],
         "z": [
          290,
          276
         ]
        },
        {
         "hoverinfo": "text",
         "line": {
          "color": "rgba(128, 128, 128, 0.4)",
          "width": 1
         },
         "mode": "lines",
         "text": "16.67",
         "type": "scatter3d",
         "x": [
          196,
          197
         ],
         "y": [
          138,
          129
         ],
         "z": [
          505,
          519
         ]
        },
        {
         "hoverinfo": "text",
         "line": {
          "color": "rgba(128, 128, 128, 0.4)",
          "width": 1
         },
         "mode": "lines",
         "text": "41.44",
         "type": "scatter3d",
         "x": [
          234,
          219
         ],
         "y": [
          212,
          226
         ],
         "z": [
          383,
          419
         ]
        },
        {
         "hoverinfo": "text",
         "line": {
          "color": "rgba(128, 128, 128, 0.4)",
          "width": 1
         },
         "mode": "lines",
         "text": "67.95",
         "type": "scatter3d",
         "x": [
          234,
          296
         ],
         "y": [
          212,
          195
         ],
         "z": [
          383,
          405
         ]
        }
       ],
       "layout": {
        "margin": {
         "b": 0,
         "l": 0,
         "r": 0,
         "t": 0
        },
        "scene": {
         "domain": {
          "x": [
           0,
           1
          ],
          "y": [
           0,
           1
          ]
         },
         "xaxis": {
          "range": [
           0,
           608
          ]
         },
         "yaxis": {
          "range": [
           0,
           423
          ]
         },
         "zaxis": {
          "range": [
           0,
           667
          ]
         }
        },
        "template": {
         "data": {
          "bar": [
           {
            "error_x": {
             "color": "#2a3f5f"
            },
            "error_y": {
             "color": "#2a3f5f"
            },
            "marker": {
             "line": {
              "color": "#E5ECF6",
              "width": 0.5
             },
             "pattern": {
              "fillmode": "overlay",
              "size": 10,
              "solidity": 0.2
             }
            },
            "type": "bar"
           }
          ],
          "barpolar": [
           {
            "marker": {
             "line": {
              "color": "#E5ECF6",
              "width": 0.5
             },
             "pattern": {
              "fillmode": "overlay",
              "size": 10,
              "solidity": 0.2
             }
            },
            "type": "barpolar"
           }
          ],
          "carpet": [
           {
            "aaxis": {
             "endlinecolor": "#2a3f5f",
             "gridcolor": "white",
             "linecolor": "white",
             "minorgridcolor": "white",
             "startlinecolor": "#2a3f5f"
            },
            "baxis": {
             "endlinecolor": "#2a3f5f",
             "gridcolor": "white",
             "linecolor": "white",
             "minorgridcolor": "white",
             "startlinecolor": "#2a3f5f"
            },
            "type": "carpet"
           }
          ],
          "choropleth": [
           {
            "colorbar": {
             "outlinewidth": 0,
             "ticks": ""
            },
            "type": "choropleth"
           }
          ],
          "contour": [
           {
            "colorbar": {
             "outlinewidth": 0,
             "ticks": ""
            },
            "colorscale": [
             [
              0,
              "#0d0887"
             ],
             [
              0.1111111111111111,
              "#46039f"
             ],
             [
              0.2222222222222222,
              "#7201a8"
             ],
             [
              0.3333333333333333,
              "#9c179e"
             ],
             [
              0.4444444444444444,
              "#bd3786"
             ],
             [
              0.5555555555555556,
              "#d8576b"
             ],
             [
              0.6666666666666666,
              "#ed7953"
             ],
             [
              0.7777777777777778,
              "#fb9f3a"
             ],
             [
              0.8888888888888888,
              "#fdca26"
             ],
             [
              1,
              "#f0f921"
             ]
            ],
            "type": "contour"
           }
          ],
          "contourcarpet": [
           {
            "colorbar": {
             "outlinewidth": 0,
             "ticks": ""
            },
            "type": "contourcarpet"
           }
          ],
          "heatmap": [
           {
            "colorbar": {
             "outlinewidth": 0,
             "ticks": ""
            },
            "colorscale": [
             [
              0,
              "#0d0887"
             ],
             [
              0.1111111111111111,
              "#46039f"
             ],
             [
              0.2222222222222222,
              "#7201a8"
             ],
             [
              0.3333333333333333,
              "#9c179e"
             ],
             [
              0.4444444444444444,
              "#bd3786"
             ],
             [
              0.5555555555555556,
              "#d8576b"
             ],
             [
              0.6666666666666666,
              "#ed7953"
             ],
             [
              0.7777777777777778,
              "#fb9f3a"
             ],
             [
              0.8888888888888888,
              "#fdca26"
             ],
             [
              1,
              "#f0f921"
             ]
            ],
            "type": "heatmap"
           }
          ],
          "heatmapgl": [
           {
            "colorbar": {
             "outlinewidth": 0,
             "ticks": ""
            },
            "colorscale": [
             [
              0,
              "#0d0887"
             ],
             [
              0.1111111111111111,
              "#46039f"
             ],
             [
              0.2222222222222222,
              "#7201a8"
             ],
             [
              0.3333333333333333,
              "#9c179e"
             ],
             [
              0.4444444444444444,
              "#bd3786"
             ],
             [
              0.5555555555555556,
              "#d8576b"
             ],
             [
              0.6666666666666666,
              "#ed7953"
             ],
             [
              0.7777777777777778,
              "#fb9f3a"
             ],
             [
              0.8888888888888888,
              "#fdca26"
             ],
             [
              1,
              "#f0f921"
             ]
            ],
            "type": "heatmapgl"
           }
          ],
          "histogram": [
           {
            "marker": {
             "pattern": {
              "fillmode": "overlay",
              "size": 10,
              "solidity": 0.2
             }
            },
            "type": "histogram"
           }
          ],
          "histogram2d": [
           {
            "colorbar": {
             "outlinewidth": 0,
             "ticks": ""
            },
            "colorscale": [
             [
              0,
              "#0d0887"
             ],
             [
              0.1111111111111111,
              "#46039f"
             ],
             [
              0.2222222222222222,
              "#7201a8"
             ],
             [
              0.3333333333333333,
              "#9c179e"
             ],
             [
              0.4444444444444444,
              "#bd3786"
             ],
             [
              0.5555555555555556,
              "#d8576b"
             ],
             [
              0.6666666666666666,
              "#ed7953"
             ],
             [
              0.7777777777777778,
              "#fb9f3a"
             ],
             [
              0.8888888888888888,
              "#fdca26"
             ],
             [
              1,
              "#f0f921"
             ]
            ],
            "type": "histogram2d"
           }
          ],
          "histogram2dcontour": [
           {
            "colorbar": {
             "outlinewidth": 0,
             "ticks": ""
            },
            "colorscale": [
             [
              0,
              "#0d0887"
             ],
             [
              0.1111111111111111,
              "#46039f"
             ],
             [
              0.2222222222222222,
              "#7201a8"
             ],
             [
              0.3333333333333333,
              "#9c179e"
             ],
             [
              0.4444444444444444,
              "#bd3786"
             ],
             [
              0.5555555555555556,
              "#d8576b"
             ],
             [
              0.6666666666666666,
              "#ed7953"
             ],
             [
              0.7777777777777778,
              "#fb9f3a"
             ],
             [
              0.8888888888888888,
              "#fdca26"
             ],
             [
              1,
              "#f0f921"
             ]
            ],
            "type": "histogram2dcontour"
           }
          ],
          "mesh3d": [
           {
            "colorbar": {
             "outlinewidth": 0,
             "ticks": ""
            },
            "type": "mesh3d"
           }
          ],
          "parcoords": [
           {
            "line": {
             "colorbar": {
              "outlinewidth": 0,
              "ticks": ""
             }
            },
            "type": "parcoords"
           }
          ],
          "pie": [
           {
            "automargin": true,
            "type": "pie"
           }
          ],
          "scatter": [
           {
            "fillpattern": {
             "fillmode": "overlay",
             "size": 10,
             "solidity": 0.2
            },
            "type": "scatter"
           }
          ],
          "scatter3d": [
           {
            "line": {
             "colorbar": {
              "outlinewidth": 0,
              "ticks": ""
             }
            },
            "marker": {
             "colorbar": {
              "outlinewidth": 0,
              "ticks": ""
             }
            },
            "type": "scatter3d"
           }
          ],
          "scattercarpet": [
           {
            "marker": {
             "colorbar": {
              "outlinewidth": 0,
              "ticks": ""
             }
            },
            "type": "scattercarpet"
           }
          ],
          "scattergeo": [
           {
            "marker": {
             "colorbar": {
              "outlinewidth": 0,
              "ticks": ""
             }
            },
            "type": "scattergeo"
           }
          ],
          "scattergl": [
           {
            "marker": {
             "colorbar": {
              "outlinewidth": 0,
              "ticks": ""
             }
            },
            "type": "scattergl"
           }
          ],
          "scattermapbox": [
           {
            "marker": {
             "colorbar": {
              "outlinewidth": 0,
              "ticks": ""
             }
            },
            "type": "scattermapbox"
           }
          ],
          "scatterpolar": [
           {
            "marker": {
             "colorbar": {
              "outlinewidth": 0,
              "ticks": ""
             }
            },
            "type": "scatterpolar"
           }
          ],
          "scatterpolargl": [
           {
            "marker": {
             "colorbar": {
              "outlinewidth": 0,
              "ticks": ""
             }
            },
            "type": "scatterpolargl"
           }
          ],
          "scatterternary": [
           {
            "marker": {
             "colorbar": {
              "outlinewidth": 0,
              "ticks": ""
             }
            },
            "type": "scatterternary"
           }
          ],
          "surface": [
           {
            "colorbar": {
             "outlinewidth": 0,
             "ticks": ""
            },
            "colorscale": [
             [
              0,
              "#0d0887"
             ],
             [
              0.1111111111111111,
              "#46039f"
             ],
             [
              0.2222222222222222,
              "#7201a8"
             ],
             [
              0.3333333333333333,
              "#9c179e"
             ],
             [
              0.4444444444444444,
              "#bd3786"
             ],
             [
              0.5555555555555556,
              "#d8576b"
             ],
             [
              0.6666666666666666,
              "#ed7953"
             ],
             [
              0.7777777777777778,
              "#fb9f3a"
             ],
             [
              0.8888888888888888,
              "#fdca26"
             ],
             [
              1,
              "#f0f921"
             ]
            ],
            "type": "surface"
           }
          ],
          "table": [
           {
            "cells": {
             "fill": {
              "color": "#EBF0F8"
             },
             "line": {
              "color": "white"
             }
            },
            "header": {
             "fill": {
              "color": "#C8D4E3"
             },
             "line": {
              "color": "white"
             }
            },
            "type": "table"
           }
          ]
         },
         "layout": {
          "annotationdefaults": {
           "arrowcolor": "#2a3f5f",
           "arrowhead": 0,
           "arrowwidth": 1
          },
          "autotypenumbers": "strict",
          "coloraxis": {
           "colorbar": {
            "outlinewidth": 0,
            "ticks": ""
           }
          },
          "colorscale": {
           "diverging": [
            [
             0,
             "#8e0152"
            ],
            [
             0.1,
             "#c51b7d"
            ],
            [
             0.2,
             "#de77ae"
            ],
            [
             0.3,
             "#f1b6da"
            ],
            [
             0.4,
             "#fde0ef"
            ],
            [
             0.5,
             "#f7f7f7"
            ],
            [
             0.6,
             "#e6f5d0"
            ],
            [
             0.7,
             "#b8e186"
            ],
            [
             0.8,
             "#7fbc41"
            ],
            [
             0.9,
             "#4d9221"
            ],
            [
             1,
             "#276419"
            ]
           ],
           "sequential": [
            [
             0,
             "#0d0887"
            ],
            [
             0.1111111111111111,
             "#46039f"
            ],
            [
             0.2222222222222222,
             "#7201a8"
            ],
            [
             0.3333333333333333,
             "#9c179e"
            ],
            [
             0.4444444444444444,
             "#bd3786"
            ],
            [
             0.5555555555555556,
             "#d8576b"
            ],
            [
             0.6666666666666666,
             "#ed7953"
            ],
            [
             0.7777777777777778,
             "#fb9f3a"
            ],
            [
             0.8888888888888888,
             "#fdca26"
            ],
            [
             1,
             "#f0f921"
            ]
           ],
           "sequentialminus": [
            [
             0,
             "#0d0887"
            ],
            [
             0.1111111111111111,
             "#46039f"
            ],
            [
             0.2222222222222222,
             "#7201a8"
            ],
            [
             0.3333333333333333,
             "#9c179e"
            ],
            [
             0.4444444444444444,
             "#bd3786"
            ],
            [
             0.5555555555555556,
             "#d8576b"
            ],
            [
             0.6666666666666666,
             "#ed7953"
            ],
            [
             0.7777777777777778,
             "#fb9f3a"
            ],
            [
             0.8888888888888888,
             "#fdca26"
            ],
            [
             1,
             "#f0f921"
            ]
           ]
          },
          "colorway": [
           "#636efa",
           "#EF553B",
           "#00cc96",
           "#ab63fa",
           "#FFA15A",
           "#19d3f3",
           "#FF6692",
           "#B6E880",
           "#FF97FF",
           "#FECB52"
          ],
          "font": {
           "color": "#2a3f5f"
          },
          "geo": {
           "bgcolor": "white",
           "lakecolor": "white",
           "landcolor": "#E5ECF6",
           "showlakes": true,
           "showland": true,
           "subunitcolor": "white"
          },
          "hoverlabel": {
           "align": "left"
          },
          "hovermode": "closest",
          "mapbox": {
           "style": "light"
          },
          "paper_bgcolor": "white",
          "plot_bgcolor": "#E5ECF6",
          "polar": {
           "angularaxis": {
            "gridcolor": "white",
            "linecolor": "white",
            "ticks": ""
           },
           "bgcolor": "#E5ECF6",
           "radialaxis": {
            "gridcolor": "white",
            "linecolor": "white",
            "ticks": ""
           }
          },
          "scene": {
           "xaxis": {
            "backgroundcolor": "#E5ECF6",
            "gridcolor": "white",
            "gridwidth": 2,
            "linecolor": "white",
            "showbackground": true,
            "ticks": "",
            "zerolinecolor": "white"
           },
           "yaxis": {
            "backgroundcolor": "#E5ECF6",
            "gridcolor": "white",
            "gridwidth": 2,
            "linecolor": "white",
            "showbackground": true,
            "ticks": "",
            "zerolinecolor": "white"
           },
           "zaxis": {
            "backgroundcolor": "#E5ECF6",
            "gridcolor": "white",
            "gridwidth": 2,
            "linecolor": "white",
            "showbackground": true,
            "ticks": "",
            "zerolinecolor": "white"
           }
          },
          "shapedefaults": {
           "line": {
            "color": "#2a3f5f"
           }
          },
          "ternary": {
           "aaxis": {
            "gridcolor": "white",
            "linecolor": "white",
            "ticks": ""
           },
           "baxis": {
            "gridcolor": "white",
            "linecolor": "white",
            "ticks": ""
           },
           "bgcolor": "#E5ECF6",
           "caxis": {
            "gridcolor": "white",
            "linecolor": "white",
            "ticks": ""
           }
          },
          "title": {
           "x": 0.05
          },
          "xaxis": {
           "automargin": true,
           "gridcolor": "white",
           "linecolor": "white",
           "ticks": "",
           "title": {
            "standoff": 15
           },
           "zerolinecolor": "white",
           "zerolinewidth": 2
          },
          "yaxis": {
           "automargin": true,
           "gridcolor": "white",
           "linecolor": "white",
           "ticks": "",
           "title": {
            "standoff": 15
           },
           "zerolinecolor": "white",
           "zerolinewidth": 2
          }
         }
        }
       }
      }
     },
     "metadata": {},
     "output_type": "display_data"
    }
   ],
   "source": [
    "#16 Plot-2 Interactive 3D-2!: Check #Clusters: Show Cycles in Red >> Edges: {Red=InCycle, Grey=Else}, Nodes: {Grey}#{Red=Leaf, Blue=Else}\n",
    "\n",
    "fig = make_subplots(rows=1, cols=1, specs=[[{'type': 'scatter3d'}]])\n",
    "x, y, z = zip(*graph.nodes)\n",
    "\n",
    "leaf_nodes = [node for node, degree in graph.degree if degree == 1]\n",
    "\n",
    "node_trace = go.Scatter3d(\n",
    "    x=x,\n",
    "    y=y,\n",
    "    z=z,\n",
    "    mode='markers',\n",
    "    marker=dict(\n",
    "        size=2,\n",
    "        color='grey', #['red' if node in leaf_nodes else 'blue' for node in graph.nodes()], # 'grey',\n",
    "        opacity=0.1 #0.8\n",
    "    )\n",
    ")\n",
    "fig.add_trace(node_trace)\n",
    "\n",
    "for edge in graph.edges():\n",
    "    x0, y0, z0 = edge[0]\n",
    "    x1, y1, z1 = edge[1]\n",
    "    \n",
    "    edge_length = graph.edges[edge]['edge_length']\n",
    "    edge_text = f'{edge_length:.2f}'  # Display the edge length as text\n",
    "    \n",
    "    edge_is_in_a_cycle = [edge[0],edge[1]] in EdgesInCycles or [edge[1],edge[0]] in EdgesInCycles\n",
    "    \n",
    "    edge_trace = go.Scatter3d(\n",
    "        x=[x0, x1],\n",
    "        y=[y0, y1],\n",
    "        z=[z0, z1],\n",
    "        mode='lines',\n",
    "        line=dict(color='rgba(255, 0, 0, 0.8)' if edge_is_in_a_cycle else 'rgba(128, 128, 128, 0.4)',\n",
    "            width=8 if edge_is_in_a_cycle else 1),\n",
    "        hoverinfo='text',\n",
    "        text=edge_text\n",
    "    )\n",
    "    fig.add_trace(edge_trace)\n",
    "\n",
    "fig.update_layout(\n",
    "    margin=dict(l=0, r=0, b=0, t=0),\n",
    "    scene=dict(\n",
    "        xaxis=dict(range=[0, max(x) + 1]),\n",
    "        yaxis=dict(range=[0, max(y) + 1]),\n",
    "        zaxis=dict(range=[0, max(z) + 1])\n",
    "    )\n",
    ")\n",
    "\n",
    "fig.show()"
   ]
  },
  {
   "cell_type": "code",
   "execution_count": 116,
   "metadata": {},
   "outputs": [
    {
     "name": "stdout",
     "output_type": "stream",
     "text": [
      "Node[0]: Appended (145, 228, 230) to CxNodesList\n",
      "Node[1]: Appended (146, 227, 229) to CxNodesList\n",
      "Node[2]: Appended (146, 228, 229) to CxNodesList\n",
      "Node[3]: Appended (144, 226, 228) to CxNodesList\n",
      "Node[4]: Appended (144, 227, 228) to CxNodesList\n",
      "Node[5]: Appended (145, 226, 227) to CxNodesList\n",
      "Node[6]: Appended (146, 226, 232) to CxNodesList\n",
      "Node[7]: Appended (146, 227, 231) to CxNodesList\n",
      "Node[8]: Appended (147, 226, 231) to CxNodesList\n",
      "Node[9]: Appended (145, 224, 230) to CxNodesList\n",
      "Node[10]: Appended (146, 224, 230) to CxNodesList\n",
      "Node[11]: Appended (146, 225, 229) to CxNodesList\n",
      "Node[12]: Appended (145, 229, 229) to CxNodesList\n",
      "Node[13]: Appended (145, 224, 231) to CxNodesList\n",
      "Node[14]: Appended (146, 224, 231) to CxNodesList\n",
      "Node[15]: Appended (143, 225, 229) to CxNodesList\n",
      "Node[16]: Appended (144, 224, 229) to CxNodesList\n",
      "Node[17]: Appended (144, 225, 228) to CxNodesList\n",
      "Node[18]: Appended (143, 227, 229) to CxNodesList\n",
      "Node[19]: Appended (144, 228, 229) to CxNodesList\n",
      "Node[20]: Appended (144, 228, 230) to CxNodesList\n",
      "Node[21]: Appended (143, 224, 230) to CxNodesList\n",
      "Node[22]: Appended (144, 224, 230) to CxNodesList\n",
      "Node[23]: Appended (144, 224, 231) to CxNodesList\n",
      "Node[24]: Appended (143, 224, 231) to CxNodesList\n",
      "Node[25]: Appended (145, 227, 228) to CxNodesList\n",
      "Node[26]: Appended (146, 226, 228) to CxNodesList\n",
      "Node[27]: Appended (144, 225, 232) to CxNodesList\n",
      "Node[28]: Appended (144, 226, 232) to CxNodesList\n",
      "Node[29]: Appended (145, 226, 232) to CxNodesList\n",
      "Node[30]: Appended (145, 225, 232) to CxNodesList\n",
      "Node[31]: Appended (145, 228, 228) to CxNodesList\n",
      "Node[32]: Appended (146, 225, 232) to CxNodesList\n",
      "Node[33]: Appended (147, 225, 231) to CxNodesList\n",
      "Node[34]: Appended (142, 225, 229) to CxNodesList\n",
      "Node[35]: Appended (142, 225, 230) to CxNodesList\n",
      "Node[36]: Appended (143, 225, 232) to CxNodesList\n",
      "Node[37]: Appended (145, 224, 229) to CxNodesList\n",
      "Node[38]: Appended (147, 226, 230) to CxNodesList\n",
      "Node[39]: Appended (453, 259, 536) to CxNodesList\n",
      "Node[40]: Appended (453, 260, 535) to CxNodesList\n",
      "Node[41]: Appended (453, 260, 536) to CxNodesList\n",
      "Node[42]: Appended (145, 227, 231) to CxNodesList\n",
      "Node[43]: Appended (146, 227, 230) to CxNodesList\n",
      "Node[44]: Appended (143, 226, 231) to CxNodesList\n",
      "Node[45]: Appended (147, 226, 233) to CxNodesList\n",
      "Node[46]: Appended (146, 226, 229) to CxNodesList\n",
      "Node[47]: Appended (147, 225, 230) to CxNodesList\n",
      "Node[48]: Appended (143, 226, 229) to CxNodesList\n",
      "Node[49]: Appended (142, 226, 230) to CxNodesList\n",
      "Node[50]: Appended (145, 225, 228) to CxNodesList\n",
      "Node[51]: Appended (143, 227, 230) to CxNodesList\n",
      "Node[52]: Appended (144, 227, 231) to CxNodesList\n",
      "Node[53]: Appended (142, 225, 231) to CxNodesList\n",
      "Node[54]: Appended (433, 245, 498) to CxNodesList\n",
      "Node[55]: Appended (433, 245, 499) to CxNodesList\n",
      "Node[56]: Appended (434, 245, 498) to CxNodesList\n",
      "Node[57]: Appended (432, 244, 500) to CxNodesList\n",
      "Node[58]: Appended (433, 245, 500) to CxNodesList\n",
      "\n",
      "Overall 59 nodes in CxNodesList\n"
     ]
    }
   ],
   "source": [
    "#17 Create the nodes list of the complex cycle: Works only for one complex cluster!\n",
    "\n",
    "CxNodesList = [] # Complex nodes list\n",
    "NodeIndex = 0\n",
    "for edge in EdgesInCycles: ############### EdgesInCycles should be adjusted for other scenarios! ***\n",
    "    for i in [0,1]:\n",
    "        CurrentNode = edge[i]\n",
    "        if CurrentNode not in CxNodesList:\n",
    "            CxNodesList.append(CurrentNode)\n",
    "            print(f'Node[{NodeIndex}]: Appended {CurrentNode} to CxNodesList')\n",
    "            NodeIndex += 1\n",
    "            \n",
    "print(f'\\nOverall {len(CxNodesList)} nodes in CxNodesList')"
   ]
  },
  {
   "cell_type": "code",
   "execution_count": 118,
   "metadata": {},
   "outputs": [
    {
     "name": "stdout",
     "output_type": "stream",
     "text": [
      "Cluster 1: [(145, 228, 230), (146, 227, 229), (146, 228, 229), (144, 226, 228), (144, 227, 228), (145, 226, 227), (146, 226, 232), (146, 227, 231), (147, 226, 231), (145, 224, 230), (146, 224, 230), (146, 225, 229), (145, 229, 229), (145, 224, 231), (146, 224, 231), (143, 225, 229), (144, 224, 229), (144, 225, 228), (143, 227, 229), (144, 228, 229), (144, 228, 230), (143, 224, 230), (144, 224, 230), (144, 224, 231), (143, 224, 231), (145, 227, 228), (146, 226, 228), (144, 225, 232), (144, 226, 232), (145, 226, 232), (145, 225, 232), (145, 228, 228), (146, 225, 232), (147, 225, 231), (142, 225, 229), (142, 225, 230), (143, 225, 232), (145, 224, 229), (147, 226, 230), (145, 227, 231), (146, 227, 230), (143, 226, 231), (147, 226, 233), (146, 226, 229), (147, 225, 230), (143, 226, 229), (142, 226, 230), (145, 225, 228), (143, 227, 230), (144, 227, 231), (142, 225, 231)]\n",
      "Cluster 2: [(433, 245, 498), (433, 245, 499), (434, 245, 498), (432, 244, 500), (433, 245, 500)]\n",
      "Cluster 3: [(453, 259, 536), (453, 260, 535), (453, 260, 536)]\n"
     ]
    }
   ],
   "source": [
    "#18 Specify n_clusters and get the clusters as separate lists $$$ n_clusters (judge visually and from code block above)\n",
    "# NO NEED TO RUN CODE BLOCK 18-20 IF 0 NODES IN \"CxNodesList\"\n",
    "\n",
    "if CxNodesList: # If not empty, do ..\n",
    "\n",
    "    from sklearn.cluster import KMeans # pip install scikit-learn\n",
    "\n",
    "    # Convert the list of 3-tuples to a NumPy array for K-Means clustering\n",
    "    data = np.array(CxNodesList)\n",
    "\n",
    "    # Specify the number of clusters (in this case, 3 clusters)\n",
    "    # n_clusters = 1\n",
    "    winsound.Beep(frequency, duration)\n",
    "    n_clusters = int(input(\"Please enter the number of clusters: [Cell-18>>Cell-16]: \"))\n",
    "\n",
    "    # Perform K-Means clustering\n",
    "    kmeans = KMeans(n_clusters=n_clusters, n_init=10)  # You can set n_init to any desired value\n",
    "    kmeans.fit(data)\n",
    "\n",
    "    # Get the cluster labels for each data point\n",
    "    cluster_labels = kmeans.labels_\n",
    "\n",
    "    # Initialize empty lists for each cluster\n",
    "    clusters = [[] for _ in range(n_clusters)]\n",
    "\n",
    "    # Organize data points into clusters based on labels\n",
    "    for i, label in enumerate(cluster_labels):\n",
    "        clusters[label].append(CxNodesList[i])\n",
    "\n",
    "    # Print the clusters\n",
    "    for i, cluster in enumerate(clusters):\n",
    "        print(f\"Cluster {i + 1}:\", cluster)"
   ]
  },
  {
   "cell_type": "code",
   "execution_count": 119,
   "metadata": {},
   "outputs": [],
   "source": [
    "#19 Function: Resolves the complex cycles for one cluster: Changes the graph! Works only once!\n",
    "\n",
    "def ResolveComplexCluster(CxNodesCluster, graph):\n",
    "\n",
    "    # List the neighbors that lie outside the cx-cycle\n",
    "    OuterNeighbors = []\n",
    "    print(\"Outer Neighbors:\")\n",
    "    for node in CxNodesCluster:\n",
    "        for neighbor in graph.neighbors(node):\n",
    "            if neighbor not in CxNodesCluster and neighbor not in OuterNeighbors:\n",
    "                OuterNeighbors.append(neighbor)\n",
    "                print(neighbor)\n",
    "\n",
    "    # Print the cx-cycle\n",
    "    print(\"\\nCx-Cycle:\")\n",
    "    for node in CxNodesCluster:\n",
    "        print(node)\n",
    "\n",
    "    # Takes the Cx-Nodes and forms their average\n",
    "    # CxNodesList: List of n 3-tuples  # n: Number of Cx Nodes  # After zip becomes 3 x ntuple\n",
    "    NewAverageNode = tuple([round(sum(ntuple)/len(ntuple)) for ntuple in zip(*CxNodesCluster)])\n",
    "    print('\\nNewAverageNode:')\n",
    "    print(NewAverageNode)\n",
    "\n",
    "    # If NewAverageNode not on the skeleton, go to its neighborhood and find the nearest voxel that lies on the skeleton:\n",
    "    if skeleton[*NewAverageNode] == 0:\n",
    "        print(f\"NewAverageNode {NewAverageNode} not on the skeleton.\")\n",
    "        xxna, yyna, zzna = NewAverageNode\n",
    "        success = False\n",
    "        NeighbrhdSize = 3\n",
    "        while success == False:\n",
    "            print(f\"Searching neighborhood {NeighbrhdSize}\")\n",
    "            lowerbnd = -(NeighbrhdSize//2)\n",
    "            upperbnd =  (NeighbrhdSize//2) + 1\n",
    "            neighbors = [(i, j, k) for i in range(lowerbnd, upperbnd) for j in range(lowerbnd, upperbnd) for k in range(lowerbnd, upperbnd)]\n",
    "            neighbors.remove((0,0,0))\n",
    "            for neighbor_offset in neighbors:\n",
    "                nnx, nny, nnz = xxna + neighbor_offset[0], yyna + neighbor_offset[1], zzna + neighbor_offset[2]\n",
    "                if 0 <= nnx < skeleton.shape[0] and 0 <= nny < skeleton.shape[1] and 0 <= nnz < skeleton.shape[2]:\n",
    "                    if skeleton[nnx, nny, nnz] != 0:\n",
    "                        NewAverageNode = (nnx, nny, nnz)\n",
    "                        print(f\"Adjusted the NewAverageNode to {NewAverageNode}\")\n",
    "                        success = True\n",
    "                        break            \n",
    "            NeighbrhdSize += 2\n",
    "\n",
    "    # Now remove the old nodes in cx-cycle\n",
    "    for node in CxNodesCluster:\n",
    "        graph.remove_node(node)\n",
    "    print(f'\\nRemoved the {len(CxNodesCluster)} nodes in cx-cycle')\n",
    "\n",
    "    # Add the new average node\n",
    "    graph.add_node(NewAverageNode)\n",
    "    print('Added new average node')\n",
    "\n",
    "    # Make the new edges/connections\n",
    "    for node in OuterNeighbors:\n",
    "        graph.add_edge(node, NewAverageNode)\n",
    "    print('Added the final edges\\n')\n",
    "\n",
    "    UpdateEdgeLengths(graph)\n",
    "    print_stats(graph)\n",
    "    print()\n",
    "\n",
    "    ReFindAndPrintLength3Cycles(graph)"
   ]
  },
  {
   "cell_type": "code",
   "execution_count": 120,
   "metadata": {},
   "outputs": [
    {
     "name": "stdout",
     "output_type": "stream",
     "text": [
      "Outer Neighbors:\n",
      "(120, 223, 212)\n",
      "(150, 226, 235)\n",
      "\n",
      "Cx-Cycle:\n",
      "(145, 228, 230)\n",
      "(146, 227, 229)\n",
      "(146, 228, 229)\n",
      "(144, 226, 228)\n",
      "(144, 227, 228)\n",
      "(145, 226, 227)\n",
      "(146, 226, 232)\n",
      "(146, 227, 231)\n",
      "(147, 226, 231)\n",
      "(145, 224, 230)\n",
      "(146, 224, 230)\n",
      "(146, 225, 229)\n",
      "(145, 229, 229)\n",
      "(145, 224, 231)\n",
      "(146, 224, 231)\n",
      "(143, 225, 229)\n",
      "(144, 224, 229)\n",
      "(144, 225, 228)\n",
      "(143, 227, 229)\n",
      "(144, 228, 229)\n",
      "(144, 228, 230)\n",
      "(143, 224, 230)\n",
      "(144, 224, 230)\n",
      "(144, 224, 231)\n",
      "(143, 224, 231)\n",
      "(145, 227, 228)\n",
      "(146, 226, 228)\n",
      "(144, 225, 232)\n",
      "(144, 226, 232)\n",
      "(145, 226, 232)\n",
      "(145, 225, 232)\n",
      "(145, 228, 228)\n",
      "(146, 225, 232)\n",
      "(147, 225, 231)\n",
      "(142, 225, 229)\n",
      "(142, 225, 230)\n",
      "(143, 225, 232)\n",
      "(145, 224, 229)\n",
      "(147, 226, 230)\n",
      "(145, 227, 231)\n",
      "(146, 227, 230)\n",
      "(143, 226, 231)\n",
      "(147, 226, 233)\n",
      "(146, 226, 229)\n",
      "(147, 225, 230)\n",
      "(143, 226, 229)\n",
      "(142, 226, 230)\n",
      "(145, 225, 228)\n",
      "(143, 227, 230)\n",
      "(144, 227, 231)\n",
      "(142, 225, 231)\n",
      "\n",
      "NewAverageNode:\n",
      "(145, 226, 230)\n",
      "NewAverageNode (145, 226, 230) not on the skeleton.\n",
      "Searching neighborhood 3\n",
      "Adjusted the NewAverageNode to (144, 227, 231)\n",
      "\n",
      "Removed the 51 nodes in cx-cycle\n",
      "Added new average node\n",
      "Added the final edges\n",
      "\n",
      "Number of Nodes: 340\n",
      "Number of Edges: 342\n",
      "\n",
      "Outer Neighbors:\n",
      "(425, 237, 474)\n",
      "(444, 251, 479)\n",
      "(425, 244, 516)\n",
      "(453, 260, 535)\n",
      "\n",
      "Cx-Cycle:\n",
      "(433, 245, 498)\n",
      "(433, 245, 499)\n",
      "(434, 245, 498)\n",
      "(432, 244, 500)\n",
      "(433, 245, 500)\n",
      "\n",
      "NewAverageNode:\n",
      "(433, 245, 499)\n",
      "\n",
      "Removed the 5 nodes in cx-cycle\n",
      "Added new average node\n",
      "Added the final edges\n",
      "\n",
      "Number of Nodes: 336\n",
      "Number of Edges: 336\n",
      "\n",
      "Outer Neighbors:\n",
      "(473, 239, 582)\n",
      "(486, 286, 540)\n",
      "(433, 245, 499)\n",
      "(449, 272, 563)\n",
      "\n",
      "Cx-Cycle:\n",
      "(453, 259, 536)\n",
      "(453, 260, 535)\n",
      "(453, 260, 536)\n",
      "\n",
      "NewAverageNode:\n",
      "(453, 260, 536)\n",
      "\n",
      "Removed the 3 nodes in cx-cycle\n",
      "Added new average node\n",
      "Added the final edges\n",
      "\n",
      "Number of Nodes: 334\n",
      "Number of Edges: 333\n",
      "\n"
     ]
    }
   ],
   "source": [
    "#20 Execute: Resolve all clusters:\n",
    "\n",
    "if CxNodesList: # If not empty, do ..\n",
    "    for cluster in clusters:\n",
    "        ResolveComplexCluster(cluster, graph)"
   ]
  },
  {
   "cell_type": "code",
   "execution_count": 122,
   "metadata": {},
   "outputs": [
    {
     "name": "stdout",
     "output_type": "stream",
     "text": [
      "Number of Nodes: 334\n",
      "Number of Edges: 333\n",
      "\n",
      "This could be a tree.\n"
     ]
    }
   ],
   "source": [
    "#21 Check if it could be a tree:\n",
    "\n",
    "def CheckBeingATree():\n",
    "\n",
    "    num_nodes = nx.number_of_nodes(graph)\n",
    "    num_edges = nx.number_of_edges(graph)\n",
    "\n",
    "    print(\"Number of Nodes:\", num_nodes)\n",
    "    print(\"Number of Edges:\", num_edges)\n",
    "\n",
    "    if num_nodes != num_edges + 1: print(\"\\nThis is not a tree: #nodes != #edges + 1\")\n",
    "    if num_nodes == num_edges + 1: print(\"\\nThis could be a tree.\")\n",
    "\n",
    "CheckBeingATree()"
   ]
  },
  {
   "cell_type": "code",
   "execution_count": 123,
   "metadata": {},
   "outputs": [
    {
     "name": "stdout",
     "output_type": "stream",
     "text": [
      "len(SmallInsideEdges) = 5\n"
     ]
    }
   ],
   "source": [
    "##-21-1 To simplify tree further: Set and visualize SmallInsideEdges, to be removed: Displayed red:\n",
    "\n",
    "UpdateEdgeLengths(graph)\n",
    "\n",
    "# Case-79 root: (480, 196 , 396)\n",
    "# leaf_nodes = [node for node, degree in graph.degree if degree == 1]\n",
    "\n",
    "# size=[6 if node in leaf_nodes else 2 for node in graph.nodes()],\n",
    "# color=['black' if node in leaf_nodes else 'grey' for node in graph.nodes()], # 'grey',\n",
    "# edge_length = graph.edges[edge]['edge_length']\n",
    "# SpecialCondition = edge_length < 10\n",
    "# line=dict(color='rgba(255, 0, 0, 0.6)' if SpecialCondition else 'rgba(128, 128, 128, 0.6)',\n",
    "#             width=6 if SpecialCondition else 2),\n",
    "\n",
    "fig = mlab.figure(size=(2500, 1400), bgcolor=(1, 1, 1))\n",
    "\n",
    "x, y, z = zip(*graph.nodes)\n",
    "mlab.points3d(x, y, z, scale_factor=2, color=(0.2, 0.2, 0.2), opacity=0.7) # color=(1, 0, 0)\n",
    "\n",
    "# Find all terminal edges smaller than LengthThreshold and deeper than InsideMargin\n",
    "InsideMargin = 14\n",
    "LengthThreshold = 14\n",
    "SmallInsideEdges = [edge for edge in graph.edges if\n",
    "                   (graph.degree(edge[0]) == 1 or graph.degree(edge[1]) == 1) and\n",
    "                   (graph.edges[edge]['edge_length'] < LengthThreshold) and\n",
    "\n",
    "                   ((graph.degree(edge[0]) == 1 and distance_transform[*edge[0]]>InsideMargin) or\n",
    "                    (graph.degree(edge[1]) == 1 and distance_transform[*edge[1]]>InsideMargin))\n",
    "                ]\n",
    "\n",
    "print(f\"len(SmallInsideEdges) = {len(SmallInsideEdges)}\")\n",
    "\n",
    "# Create lines for edges\n",
    "for edge in graph.edges:\n",
    "    src, tgt = edge\n",
    "    x = [src[0], tgt[0]]\n",
    "    y = [src[1], tgt[1]]\n",
    "    z = [src[2], tgt[2]]\n",
    "    mlab.plot3d(x, y, z, tube_radius=0.2,\n",
    "                color=(1, 0, 0) if edge in SmallInsideEdges else (0.2, 0.2, 0.2),#(0.2, 0.2, 0.2),\n",
    "                opacity=0.7)\n",
    "\n",
    "# Create contour for the 3D object\n",
    "mlab.contour3d(atree, contours=[0.5], opacity=0.2, color=(0, 151/255, 206/255))\n",
    "\n",
    "winsound.Beep(frequency, duration)\n",
    "mlab.show()"
   ]
  },
  {
   "cell_type": "code",
   "execution_count": 124,
   "metadata": {},
   "outputs": [],
   "source": [
    "##-21-2 Keep another copy of the graph:\n",
    "\n",
    "graphintact2 = copy.deepcopy(graph)\n",
    "skeletonintact2 = copy.deepcopy(skeleton)\n",
    "\n",
    "#RR To refresh your graph once it's messed below, come back to this:\n",
    "# graph = copy.deepcopy(graphintact2)\n",
    "# skeleton = copy.deepcopy(skeletonintact2)"
   ]
  },
  {
   "cell_type": "code",
   "execution_count": 125,
   "metadata": {},
   "outputs": [],
   "source": [
    "##-22 Function: Traverse edge and calculate average diameter function, given endpoint indices and skeleton *\n",
    "\n",
    "import numpy as np\n",
    "import copy\n",
    "import random\n",
    "import time\n",
    "\n",
    "def traverse_edge_and_average(skeletonn, edt, index1, index2, EdgeNum): # edt: eucledean distance transform\n",
    "\n",
    "    global verbose\n",
    "    global StartTime\n",
    "    \n",
    "    # normalize_vector = lambda vec: vec / np.linalg.norm(vec)\n",
    "    if verbose: print(f\"Trying to go from {index1} to {index2}\")\n",
    "\n",
    "    # Define the neighborhood offsets for 3D traversal (26-connected)\n",
    "    neighbors = [(i, j, k) for i in range(-1, 2) for j in range(-1, 2) for k in range(-1, 2)]\n",
    "    neighbors.remove((0,0,0))\n",
    "    \n",
    "    average_diameter = None\n",
    "    timestried = 0\n",
    "    while average_diameter == None and timestried < 2000:\n",
    "\n",
    "        # Initialize variables to store diameter values and count\n",
    "        if verbose: print(f\"Attempt {timestried+1}: \", end='')\n",
    "        skeletonnn = copy.deepcopy(skeletonn)\n",
    "        diameter_sum = 0.0\n",
    "        count = 0\n",
    "\n",
    "        # Start traversal at index1\n",
    "        current_index = index1\n",
    "        visitedvoxels = []\n",
    "\n",
    "        while current_index != index2:\n",
    "\n",
    "            # print(\"current_index:\", current_index) # Great for debugging\n",
    "\n",
    "            if current_index == None: break\n",
    "            visitedvoxels.append(current_index)\n",
    "\n",
    "            # Get the current voxel's coordinates\n",
    "            x, y, z = current_index\n",
    "\n",
    "            # Check if the current voxel is within the skeleton and within bounds\n",
    "            if 0 <= x < skeletonnn.shape[0] and 0 <= y < skeletonnn.shape[1] and 0 <= z < skeletonnn.shape[2]:\n",
    "                if skeletonnn[x, y, z] != 0:\n",
    "                    # If the current voxel is part of the skeleton, add its diameter to the sum\n",
    "                    diameter_sum += edt[x, y, z]\n",
    "                    count += 1\n",
    "\n",
    "                    # Mark the current voxel as visited (you can set it to 0 if necessary)\n",
    "                    skeletonnn[x, y, z] = 0  # Uncomment this line if you want to mark visited voxels\n",
    "                    \n",
    "                    max_alignment = float('-inf')\n",
    "                    next_index = None\n",
    "\n",
    "\n",
    "                    ## Logic to choose next voxel:\n",
    "\n",
    "                    # Logic-1: Deterministic:\n",
    "                    # for neighbor_offset in neighbors:\n",
    "                    #     nx, ny, nz = x + neighbor_offset[0], y + neighbor_offset[1], z + neighbor_offset[2]\n",
    "\n",
    "                    #     strghtdirectiont = tuple(np.array(index2) - np.array(current_index))\n",
    "                    #     strghtdirectionu = normalize_vector(strghtdirectiont)\n",
    "                    #     neighbor_offsetu = normalize_vector(neighbor_offset )\n",
    "                    #     currentalignment = np.dot(neighbor_offsetu, strghtdirectionu)\n",
    "                        \n",
    "                    #     if 0 <= nx < skeletonn.shape[0] and 0 <= ny < skeletonn.shape[1] and 0 <= nz < skeletonn.shape[2]:\n",
    "                    #         if skeletonn[nx, ny, nz] != 0 and currentalignment > max_alignment:\n",
    "                    #             max_alignment = currentalignment\n",
    "                    #             next_index = (nx, ny, nz)\n",
    "\n",
    "                    # Logic-2: Random walk:\n",
    "                    while True:\n",
    "                        if not any([skeletonnn[*tuple(np.array(current_index)+np.array(neigh))] for neigh in neighbors]): break\n",
    "                        neighbor_offset = random.choice(neighbors)\n",
    "                        nnx, nny, nnz = x + neighbor_offset[0], y + neighbor_offset[1], z + neighbor_offset[2]\n",
    "                        if 0 <= nnx < skeletonnn.shape[0] and 0 <= nny < skeletonnn.shape[1] and 0 <= nnz < skeletonnn.shape[2]:\n",
    "                            if skeletonnn[nnx, nny, nnz] != 0:\n",
    "                                next_index = (nnx, nny, nnz)\n",
    "                                break\n",
    "\n",
    "\n",
    "                    # Update the current index to the next voxel in the skeleton\n",
    "                    current_index = next_index\n",
    "                else:\n",
    "                    # If the current voxel is not part of the skeleton, stop the traversal\n",
    "                    break\n",
    "            else:\n",
    "                # If the current index is out of bounds, stop the traversal\n",
    "                break\n",
    "        \n",
    "        if current_index != index2:\n",
    "            if verbose: print(f\"Error! Couldn't get from {index1} to {index2}! Returned None.\")\n",
    "            pass\n",
    "\n",
    "        # Set the output\n",
    "        if count > 0 and current_index == index2:\n",
    "            average_diameter = diameter_sum / count\n",
    "\n",
    "        del skeletonnn\n",
    "        timestried += 1\n",
    "\n",
    "    if current_index == index2:\n",
    "        if verbose: print(f\"\\nDone. Got to {index2}\\n\")\n",
    "        pass\n",
    "\n",
    "    num_edges = nx.number_of_edges(graph)\n",
    "\n",
    "    try:\n",
    "        # Your statement or code that might raise an error goes here\n",
    "        print(f\"Edge #{EdgeNum:3}/{num_edges}; AvgDiam: {average_diameter:010.7f}; TimeElapsed: {(time.time() - StartTime):07.2f}\" + (\"\\n\" if verbose else \"\"))\n",
    "    except Exception as e:\n",
    "        # This block will execute if an error occurs\n",
    "        winsound.Beep(4000, 300)    \n",
    "    # print(f\"Edge #{EdgeNum:3}/{num_edges}; AvgDiam: {average_diameter:010.7f}; TimeElapsed: {(time.time() - StartTime):07.2f}\" + (\"\\n\" if verbose else \"\"))\n",
    "\n",
    "    return average_diameter, visitedvoxels"
   ]
  },
  {
   "cell_type": "code",
   "execution_count": 126,
   "metadata": {},
   "outputs": [
    {
     "name": "stdout",
     "output_type": "stream",
     "text": [
      "Removed small edges inside the volume/ near the root.\n",
      "Removed skeleton voxels corresponding to small edges inside the volume/ near the root.\n"
     ]
    }
   ],
   "source": [
    "##-21-3 Given 'graph': Find and remove all edges in SmallInsideEdges: Changes the graph:\n",
    "# All terminal edges smaller than LengthThreshold and deeper than InsideMargin\n",
    "\n",
    "StartTime = time.time()\n",
    "\n",
    "visitedvoxelstot = []\n",
    "\n",
    "for indxe, edge in enumerate(SmallInsideEdges):\n",
    "\n",
    "    node1, node2 = edge\n",
    "\n",
    "    Node1IsOrWasDegree1 = graph.degree(node1)==1\n",
    "    \n",
    "    if graph.degree(node1)==1: graph.remove_node(node1)\n",
    "    if graph.degree(node2)==1: graph.remove_node(node2)\n",
    "\n",
    "    TheDegree1Node = node1 if Node1IsOrWasDegree1 else node2\n",
    "    NodeOnMainstem = node2 if Node1IsOrWasDegree1 else node1\n",
    "\n",
    "    # print(f\"Trying to remove from skeleton: {TheDegree1Node}->{NodeOnMainstem}\")\n",
    "\n",
    "    # skeletonn = copy.deepcopy(skeleton)\n",
    "    # avgdiam, visitedvoxels = traverse_edge_and_average(skeletonn, distance_transform, TheDegree1Node, NodeOnMainstem, 5)\n",
    "    # visitedvoxelstot.append(visitedvoxels)\n",
    "    # del skeletonn\n",
    "\n",
    "    # print(indxe)\n",
    "    # print(\"visitedvoxels:\", visitedvoxels)\n",
    "    # print()\n",
    "\n",
    "# for vxt in visitedvoxelstot:\n",
    "#     if len(vxt)>1:\n",
    "#         for vx in vxt:\n",
    "#             skeleton[*vx] = 0\n",
    "#             print(f\"deleted voxel: {vx}\")\n",
    "\n",
    "RemoveAndReconnectDegree2Nodes(graph)\n",
    "UpdateEdgeLengths(graph)\n",
    "\n",
    "print(\"Removed small edges inside the volume/ near the root.\")\n",
    "print(\"Removed skeleton voxels corresponding to small edges inside the volume/ near the root.\")"
   ]
  },
  {
   "cell_type": "code",
   "execution_count": 134,
   "metadata": {},
   "outputs": [
    {
     "name": "stdout",
     "output_type": "stream",
     "text": [
      "Automatically found root: (215, 239, 353)\n"
     ]
    }
   ],
   "source": [
    "#21-4 Automatically find the root:\n",
    "\n",
    "leaf_nodes = [node for node, degree in graph.degree if degree == 1]\n",
    "MaxDistance = -10\n",
    "root = []\n",
    "for node in leaf_nodes:\n",
    "    if distance_transform[node]>MaxDistance:\n",
    "        root = node\n",
    "        MaxDistance = distance_transform[node]\n",
    "print(\"Automatically found root:\", root)\n"
   ]
  },
  {
   "cell_type": "code",
   "execution_count": 132,
   "metadata": {},
   "outputs": [],
   "source": [
    "#21-5 Visualize: Verify the root is found correct:\n",
    "\n",
    "# size=[6 if node in leaf_nodes else 2 for node in graph.nodes()],\n",
    "# color=['black' if node in leaf_nodes else 'grey' for node in graph.nodes()], # 'grey',\n",
    "# line=dict(color='rgba(255, 0, 0, 0.6)' if SpecialCondition else 'rgba(128, 128, 128, 0.6)',\n",
    "#             width=6 if SpecialCondition else 2),\n",
    "\n",
    "fig = mlab.figure(size=(2500, 1400), bgcolor=(1, 1, 1))\n",
    "\n",
    "x, y, z = zip(*graph.nodes)\n",
    "mlab.points3d(x, y, z,\n",
    "              scale_factor=2,\n",
    "              color=(0.2, 0.2, 0.2), # ['red' if node == root else 'grey' for node in graph.nodes()]\n",
    "              opacity=0.7) # color=(1, 0, 0)\n",
    "\n",
    "#  Add the new node with a different scale_factor and color\n",
    "mlab.points3d(root[0], root[1], root[2],\n",
    "              scale_factor=14,  # Adjust the scale factor as needed\n",
    "              color=(1, 0, 0),  # Change color as desired (e.g., red)\n",
    "              opacity=0.7)\n",
    "\n",
    "# Create lines for edges\n",
    "# for edge in graph.edges:\n",
    "#     src, tgt = edge\n",
    "#     x = [src[0], tgt[0]]\n",
    "#     y = [src[1], tgt[1]]\n",
    "#     z = [src[2], tgt[2]]\n",
    "#     mlab.plot3d(x, y, z, tube_radius=0.2,\n",
    "#                 color=(1, 0, 0) if edge in SmallInsideEdges else (0.2, 0.2, 0.2),#(0.2, 0.2, 0.2),\n",
    "#                 opacity=0.7)\n",
    "\n",
    "# Create contour for the 3D object\n",
    "mlab.contour3d(atree, contours=[0.5], opacity=0.2, color=(0, 151/255, 206/255))\n",
    "\n",
    "winsound.Beep(frequency, duration)\n",
    "mlab.show()"
   ]
  },
  {
   "cell_type": "code",
   "execution_count": null,
   "metadata": {},
   "outputs": [],
   "source": [
    "# #23-2 Only test: traverse_edge_and_average for two points:\n",
    "\n",
    "# index1 = (423, 232, 374)\n",
    "# index2 = (412, 245, 380)\n",
    "\n",
    "# skeletonn = copy.deepcopy(skeleton)\n",
    "# avgdiam, visitedvoxels = traverse_edge_and_average(skeletonn, distance_transform, index1, index2, 5)\n",
    "# del skeletonn\n",
    "\n",
    "# if avgdiam is not None:\n",
    "#     print(f\"Average Diameter between {index1} and {index2}: {avgdiam:.2f}\")\n",
    "# else:\n",
    "#     print(\"No skeleton found between the specified indices.\")"
   ]
  },
  {
   "cell_type": "code",
   "execution_count": null,
   "metadata": {},
   "outputs": [],
   "source": [
    "# #23-3 Test: Use mayavi to visualize the intended start and end points, plus the taken route, from the above test cell:\n",
    "\n",
    "# import mayavi.mlab as mlab\n",
    "# import numpy as np\n",
    "\n",
    "# # Create a figure\n",
    "# fig = mlab.figure(size=(800, 800), bgcolor=(1, 1, 1))\n",
    "\n",
    "# # Plot the skeleton in blue (0 values will be transparent)\n",
    "# mlab.contour3d(skeleton, color=(0, 0, 1), opacity=0.4)\n",
    "\n",
    "# # Highlight the visited voxels in red\n",
    "# for voxel in visitedvoxels:\n",
    "#     # print(voxel)\n",
    "#     x, y, z = voxel\n",
    "#     mlab.points3d(x, y, z, color=(1, 0, 0), scale_factor=1.0) # , mode='sphere'\n",
    "\n",
    "# for voxel in [index1, index2]:\n",
    "#     # print(voxel)\n",
    "#     x, y, z = voxel\n",
    "#     mlab.points3d(x, y, z, color=(1, 0, 0), scale_factor=4.0) # , mode='sphere'\n",
    "\n",
    "# # Customize the view and axes as needed\n",
    "# mlab.view(azimuth=45, elevation=45, distance=20)\n",
    "# # mlab.axes()\n",
    "\n",
    "# # Show the visualization\n",
    "# mlab.show()"
   ]
  },
  {
   "cell_type": "code",
   "execution_count": 137,
   "metadata": {},
   "outputs": [
    {
     "ename": "KeyError",
     "evalue": "(358, 136, 396)",
     "output_type": "error",
     "traceback": [
      "\u001b[1;31m---------------------------------------------------------------------------\u001b[0m",
      "\u001b[1;31mKeyError\u001b[0m                                  Traceback (most recent call last)",
      "\u001b[1;32mc:\\Users\\nichmoore\\Downloads\\C13-Graphs-Networkx (1).ipynb Cell 32\u001b[0m line \u001b[0;36m3\n\u001b[0;32m     <a href='vscode-notebook-cell:/c%3A/Users/nichmoore/Downloads/C13-Graphs-Networkx%20%281%29.ipynb#X43sZmlsZQ%3D%3D?line=28'>29</a>\u001b[0m \u001b[39melse\u001b[39;00m:\n\u001b[0;32m     <a href='vscode-notebook-cell:/c%3A/Users/nichmoore/Downloads/C13-Graphs-Networkx%20%281%29.ipynb#X43sZmlsZQ%3D%3D?line=29'>30</a>\u001b[0m     root \u001b[39m=\u001b[39m \u001b[39meval\u001b[39m(user_input)\n\u001b[1;32m---> <a href='vscode-notebook-cell:/c%3A/Users/nichmoore/Downloads/C13-Graphs-Networkx%20%281%29.ipynb#X43sZmlsZQ%3D%3D?line=31'>32</a>\u001b[0m digraph \u001b[39m=\u001b[39m nx\u001b[39m.\u001b[39;49mdfs_tree(graph, source\u001b[39m=\u001b[39;49mroot) \u001b[39m# Create a directed graph starting from the specified root node\u001b[39;00m\n\u001b[0;32m     <a href='vscode-notebook-cell:/c%3A/Users/nichmoore/Downloads/C13-Graphs-Networkx%20%281%29.ipynb#X43sZmlsZQ%3D%3D?line=32'>33</a>\u001b[0m StartTime \u001b[39m=\u001b[39m time\u001b[39m.\u001b[39mtime()\n\u001b[0;32m     <a href='vscode-notebook-cell:/c%3A/Users/nichmoore/Downloads/C13-Graphs-Networkx%20%281%29.ipynb#X43sZmlsZQ%3D%3D?line=33'>34</a>\u001b[0m EdgeNum \u001b[39m=\u001b[39m \u001b[39m1\u001b[39m\n",
      "File \u001b[1;32mc:\\Users\\nichmoore\\Documents\\GitHub\\RA4-Project\\venvnick\\Lib\\site-packages\\networkx\\algorithms\\traversal\\depth_first_search.py:139\u001b[0m, in \u001b[0;36mdfs_tree\u001b[1;34m(G, source, depth_limit)\u001b[0m\n\u001b[0;32m    137\u001b[0m \u001b[39melse\u001b[39;00m:\n\u001b[0;32m    138\u001b[0m     T\u001b[39m.\u001b[39madd_node(source)\n\u001b[1;32m--> 139\u001b[0m T\u001b[39m.\u001b[39;49madd_edges_from(dfs_edges(G, source, depth_limit))\n\u001b[0;32m    140\u001b[0m \u001b[39mreturn\u001b[39;00m T\n",
      "File \u001b[1;32mc:\\Users\\nichmoore\\Documents\\GitHub\\RA4-Project\\venvnick\\Lib\\site-packages\\networkx\\classes\\digraph.py:768\u001b[0m, in \u001b[0;36mDiGraph.add_edges_from\u001b[1;34m(self, ebunch_to_add, **attr)\u001b[0m\n\u001b[0;32m    713\u001b[0m \u001b[39mdef\u001b[39;00m \u001b[39madd_edges_from\u001b[39m(\u001b[39mself\u001b[39m, ebunch_to_add, \u001b[39m*\u001b[39m\u001b[39m*\u001b[39mattr):\n\u001b[0;32m    714\u001b[0m \u001b[39m    \u001b[39m\u001b[39m\"\"\"Add all the edges in ebunch_to_add.\u001b[39;00m\n\u001b[0;32m    715\u001b[0m \n\u001b[0;32m    716\u001b[0m \u001b[39m    Parameters\u001b[39;00m\n\u001b[1;32m   (...)\u001b[0m\n\u001b[0;32m    766\u001b[0m \u001b[39m    >>> G.add_edges_from(list((5, n) for n in G.nodes))\u001b[39;00m\n\u001b[0;32m    767\u001b[0m \u001b[39m    \"\"\"\u001b[39;00m\n\u001b[1;32m--> 768\u001b[0m     \u001b[39mfor\u001b[39;00m e \u001b[39min\u001b[39;00m ebunch_to_add:\n\u001b[0;32m    769\u001b[0m         ne \u001b[39m=\u001b[39m \u001b[39mlen\u001b[39m(e)\n\u001b[0;32m    770\u001b[0m         \u001b[39mif\u001b[39;00m ne \u001b[39m==\u001b[39m \u001b[39m3\u001b[39m:\n",
      "File \u001b[1;32mc:\\Users\\nichmoore\\Documents\\GitHub\\RA4-Project\\venvnick\\Lib\\site-packages\\networkx\\algorithms\\traversal\\depth_first_search.py:84\u001b[0m, in \u001b[0;36mdfs_edges\u001b[1;34m(G, source, depth_limit)\u001b[0m\n\u001b[0;32m     82\u001b[0m     \u001b[39mcontinue\u001b[39;00m\n\u001b[0;32m     83\u001b[0m visited\u001b[39m.\u001b[39madd(start)\n\u001b[1;32m---> 84\u001b[0m stack \u001b[39m=\u001b[39m [(start, depth_limit, \u001b[39miter\u001b[39m(G[start]))]\n\u001b[0;32m     85\u001b[0m \u001b[39mwhile\u001b[39;00m stack:\n\u001b[0;32m     86\u001b[0m     parent, depth_now, children \u001b[39m=\u001b[39m stack[\u001b[39m-\u001b[39m\u001b[39m1\u001b[39m]\n",
      "File \u001b[1;32mc:\\Users\\nichmoore\\Documents\\GitHub\\RA4-Project\\venvnick\\Lib\\site-packages\\networkx\\classes\\graph.py:513\u001b[0m, in \u001b[0;36mGraph.__getitem__\u001b[1;34m(self, n)\u001b[0m\n\u001b[0;32m    489\u001b[0m \u001b[39mdef\u001b[39;00m \u001b[39m__getitem__\u001b[39m(\u001b[39mself\u001b[39m, n):\n\u001b[0;32m    490\u001b[0m \u001b[39m    \u001b[39m\u001b[39m\"\"\"Returns a dict of neighbors of node n.  Use: 'G[n]'.\u001b[39;00m\n\u001b[0;32m    491\u001b[0m \n\u001b[0;32m    492\u001b[0m \u001b[39m    Parameters\u001b[39;00m\n\u001b[1;32m   (...)\u001b[0m\n\u001b[0;32m    511\u001b[0m \u001b[39m    AtlasView({1: {}})\u001b[39;00m\n\u001b[0;32m    512\u001b[0m \u001b[39m    \"\"\"\u001b[39;00m\n\u001b[1;32m--> 513\u001b[0m     \u001b[39mreturn\u001b[39;00m \u001b[39mself\u001b[39;49m\u001b[39m.\u001b[39;49madj[n]\n",
      "File \u001b[1;32mc:\\Users\\nichmoore\\Documents\\GitHub\\RA4-Project\\venvnick\\Lib\\site-packages\\networkx\\classes\\coreviews.py:81\u001b[0m, in \u001b[0;36mAdjacencyView.__getitem__\u001b[1;34m(self, name)\u001b[0m\n\u001b[0;32m     80\u001b[0m \u001b[39mdef\u001b[39;00m \u001b[39m__getitem__\u001b[39m(\u001b[39mself\u001b[39m, name):\n\u001b[1;32m---> 81\u001b[0m     \u001b[39mreturn\u001b[39;00m AtlasView(\u001b[39mself\u001b[39;49m\u001b[39m.\u001b[39;49m_atlas[name])\n",
      "\u001b[1;31mKeyError\u001b[0m: (358, 136, 396)"
     ]
    }
   ],
   "source": [
    "##-24 Main function calling the traverse function: $$$ root = () or Enter !!**\n",
    "# input_string = '(480, 196, 396)'\n",
    "\n",
    "# Fucntion: fully traverse the directed tree visiting all edges:\n",
    "def traverse_full_tree(digraph, current_node):\n",
    "    global EdgeNum\n",
    "    # Find and process the outgoing edges from the current node\n",
    "    for successor in digraph.successors(current_node):\n",
    "        # Run the FindDiameter function for the current edge\n",
    "        digraph[current_node][successor]['AvgDiameter'] = FindDiameter(current_node, successor, EdgeNum)\n",
    "        EdgeNum += 1\n",
    "        # Recursively traverse the tree from the successor node\n",
    "        traverse_full_tree(digraph, successor)\n",
    "\n",
    "def FindDiameter(node1, node2, EdgeNum):\n",
    "    # print(f\"Finding avg diameter btw nodes {node1} and {node2}\")\n",
    "    skeletonn = copy.deepcopy(skeleton)\n",
    "    avgdiam, visitedvoxels = traverse_edge_and_average(skeletonn, distance_transform, node1, node2, EdgeNum)\n",
    "    del skeletonn\n",
    "    return avgdiam\n",
    "\n",
    "# Main: Start the traversal from a specified root node:\n",
    "import time\n",
    "\n",
    "winsound.Beep(frequency, duration)\n",
    "user_input = input(\"If root was OK just press Enter; if not, enter the root: eg (100, 20, 18): [Cell-24>>Cell-16]: \")\n",
    "if user_input.strip() == \"\": # (436, 69, 207) for Case-53! # (480, 196 , 396) for Case-79\n",
    "    pass\n",
    "else:\n",
    "    root = eval(user_input)\n",
    "\n",
    "digraph = nx.dfs_tree(graph, source=root) # Create a directed graph starting from the specified root node\n",
    "StartTime = time.time()\n",
    "EdgeNum = 1\n",
    "traverse_full_tree(digraph, root)\n",
    "print('\\nDone.')\n",
    "\n",
    "# Example Error: Attempt 60: Error! Couldn't get from (477, 282, 383) to (466, 270, 425)! Returned None."
   ]
  },
  {
   "cell_type": "code",
   "execution_count": null,
   "metadata": {},
   "outputs": [
    {
     "name": "stdout",
     "output_type": "stream",
     "text": [
      "Reality check: First 3 edges:\n",
      "\n",
      "Edge ((384, 179, 359) -> (376, 233, 391)):\n",
      "  AvgDiameter: 24.810860103551438\n",
      "\n",
      "Edge ((376, 233, 391) -> (268, 267, 347)):\n",
      "  AvgDiameter: 20.194229847168508\n",
      "\n",
      "Edge ((376, 233, 391) -> (428, 294, 397)):\n",
      "  AvgDiameter: 25.287114809162315\n",
      "\n"
     ]
    }
   ],
   "source": [
    "#25 Get the first three edges and their properties as a reality check:\n",
    "\n",
    "print(\"Reality check: First 3 edges:\\n\")\n",
    "first_three_edges = list(digraph.edges(data=True))[:3]\n",
    "# Iterate through the first three edges and print their properties\n",
    "for edge in first_three_edges:\n",
    "    source, target, attributes = edge\n",
    "    print(f\"Edge ({source} -> {target}):\")\n",
    "    for key, value in attributes.items():\n",
    "        print(f\"  {key}: {value}\")\n",
    "    print(\"\")"
   ]
  },
  {
   "cell_type": "code",
   "execution_count": 93,
   "metadata": {},
   "outputs": [
    {
     "name": "stdout",
     "output_type": "stream",
     "text": [
      "Edge: (384, 179, 359) -> (376, 233, 391), Order: 6\n",
      "Edge: (376, 233, 391) -> (268, 267, 347), Order: 5\n",
      "Edge: (376, 233, 391) -> (428, 294, 397), Order: 5\n",
      "Edge: (268, 267, 347) -> (237, 265, 330), Order: 4\n",
      "Edge: (268, 267, 347) -> (232, 276, 384), Order: 4\n",
      "Edge: (237, 265, 330) -> (227, 266, 323), Order: 4\n",
      "Edge: (237, 265, 330) -> (205, 201, 355), Order: 3\n",
      "Edge: (227, 266, 323) -> (210, 274, 311), Order: 4\n",
      "Edge: (227, 266, 323) -> (209, 227, 297), Order: 3\n",
      "Edge: (210, 274, 311) -> (210, 275, 312), Order: 3\n",
      "Edge: (210, 274, 311) -> (208, 276, 305), Order: 4\n",
      "Edge: (210, 275, 312) -> (226, 315, 312), Order: 3\n",
      "Edge: (210, 275, 312) -> (147, 305, 346), Order: 2\n",
      "Edge: (226, 315, 312) -> (236, 318, 316), Order: 2\n",
      "Edge: (226, 315, 312) -> (237, 345, 290), Order: 2\n",
      "Edge: (236, 318, 316) -> (262, 327, 307), Order: 1\n",
      "Edge: (236, 318, 316) -> (254, 350, 326), Order: 2\n",
      "Edge: (254, 350, 326) -> (253, 381, 330), Order: 1\n",
      "Edge: (254, 350, 326) -> (263, 355, 336), Order: 1\n",
      "Edge: (237, 345, 290) -> (223, 410, 270), Order: 1\n",
      "Edge: (237, 345, 290) -> (253, 383, 242), Order: 1\n",
      "Edge: (147, 305, 346) -> (98, 289, 353), Order: 1\n",
      "Edge: (147, 305, 346) -> (133, 308, 338), Order: 2\n",
      "Edge: (133, 308, 338) -> (119, 304, 334), Order: 1\n",
      "Edge: (133, 308, 338) -> (130, 314, 337), Order: 1\n",
      "Edge: (208, 276, 305) -> (207, 276, 303), Order: 4\n",
      "Edge: (208, 276, 305) -> (182, 363, 308), Order: 3\n",
      "Edge: (207, 276, 303) -> (179, 248, 285), Order: 3\n",
      "Edge: (207, 276, 303) -> (204, 281, 290), Order: 4\n",
      "Edge: (179, 248, 285) -> (108, 226, 262), Order: 2\n",
      "Edge: (179, 248, 285) -> (168, 220, 274), Order: 2\n",
      "Edge: (108, 226, 262) -> (106, 224, 260), Order: 1\n",
      "Edge: (108, 226, 262) -> (101, 226, 266), Order: 1\n",
      "Edge: (168, 220, 274) -> (159, 202, 275), Order: 1\n",
      "Edge: (168, 220, 274) -> (124, 167, 218), Order: 1\n",
      "Edge: (204, 281, 290) -> (216, 283, 258), Order: 3\n",
      "Edge: (204, 281, 290) -> (198, 294, 281), Order: 4\n",
      "Edge: (216, 283, 258) -> (218, 266, 235), Order: 2\n",
      "Edge: (216, 283, 258) -> (225, 293, 240), Order: 2\n",
      "Edge: (218, 266, 235) -> (242, 260, 234), Order: 1\n",
      "Edge: (218, 266, 235) -> (216, 262, 227), Order: 2\n",
      "Edge: (216, 262, 227) -> (193, 215, 193), Order: 1\n",
      "Edge: (216, 262, 227) -> (207, 259, 199), Order: 2\n",
      "Edge: (207, 259, 199) -> (180, 261, 174), Order: 2\n",
      "Edge: (207, 259, 199) -> (211, 260, 183), Order: 1\n",
      "Edge: (180, 261, 174) -> (167, 251, 169), Order: 1\n",
      "Edge: (180, 261, 174) -> (177, 264, 169), Order: 1\n",
      "Edge: (225, 293, 240) -> (231, 295, 199), Order: 2\n",
      "Edge: (225, 293, 240) -> (257, 302, 214), Order: 1\n",
      "Edge: (231, 295, 199) -> (220, 308, 186), Order: 1\n",
      "Edge: (231, 295, 199) -> (263, 323, 101), Order: 1\n",
      "Edge: (198, 294, 281) -> (195, 340, 249), Order: 3\n",
      "Edge: (198, 294, 281) -> (181, 293, 266), Order: 3\n",
      "Edge: (195, 340, 249) -> (185, 353, 236), Order: 2\n",
      "Edge: (195, 340, 249) -> (221, 383, 179), Order: 3\n",
      "Edge: (185, 353, 236) -> (136, 428, 228), Order: 1\n",
      "Edge: (185, 353, 236) -> (183, 356, 229), Order: 2\n",
      "Edge: (183, 356, 229) -> (179, 354, 224), Order: 2\n",
      "Edge: (183, 356, 229) -> (188, 404, 215), Order: 1\n",
      "Edge: (179, 354, 224) -> (77, 368, 177), Order: 1\n",
      "Edge: (179, 354, 224) -> (178, 354, 217), Order: 2\n",
      "Edge: (178, 354, 217) -> (102, 359, 138), Order: 1\n",
      "Edge: (178, 354, 217) -> (170, 373, 193), Order: 2\n",
      "Edge: (170, 373, 193) -> (100, 419, 152), Order: 1\n",
      "Edge: (170, 373, 193) -> (153, 407, 158), Order: 2\n",
      "Edge: (153, 407, 158) -> (124, 432, 102), Order: 2\n",
      "Edge: (153, 407, 158) -> (144, 429, 153), Order: 1\n",
      "Edge: (124, 432, 102) -> (114, 433, 99), Order: 1\n",
      "Edge: (124, 432, 102) -> (133, 449, 73), Order: 1\n",
      "Edge: (221, 383, 179) -> (228, 396, 180), Order: 1\n",
      "Edge: (221, 383, 179) -> (221, 383, 175), Order: 3\n",
      "Edge: (221, 383, 175) -> (234, 377, 167), Order: 1\n",
      "Edge: (221, 383, 175) -> (214, 395, 157), Order: 3\n",
      "Edge: (214, 395, 157) -> (213, 396, 111), Order: 2\n",
      "Edge: (214, 395, 157) -> (214, 400, 155), Order: 2\n",
      "Edge: (213, 396, 111) -> (204, 397, 108), Order: 1\n",
      "Edge: (213, 396, 111) -> (215, 396, 109), Order: 1\n",
      "Edge: (214, 400, 155) -> (207, 420, 155), Order: 1\n",
      "Edge: (214, 400, 155) -> (201, 447, 73), Order: 1\n",
      "Edge: (181, 293, 266) -> (128, 328, 267), Order: 1\n",
      "Edge: (181, 293, 266) -> (122, 272, 218), Order: 3\n",
      "Edge: (122, 272, 218) -> (121, 273, 218), Order: 2\n",
      "Edge: (122, 272, 218) -> (118, 266, 215), Order: 2\n",
      "Edge: (121, 273, 218) -> (48, 280, 188), Order: 1\n",
      "Edge: (121, 273, 218) -> (74, 309, 162), Order: 2\n",
      "Edge: (74, 309, 162) -> (51, 309, 134), Order: 1\n",
      "Edge: (74, 309, 162) -> (70, 315, 162), Order: 1\n",
      "Edge: (118, 266, 215) -> (71, 216, 190), Order: 1\n",
      "Edge: (118, 266, 215) -> (54, 232, 148), Order: 1\n",
      "Edge: (182, 363, 308) -> (174, 367, 306), Order: 2\n",
      "Edge: (182, 363, 308) -> (183, 394, 320), Order: 2\n",
      "Edge: (174, 367, 306) -> (129, 387, 316), Order: 1\n",
      "Edge: (174, 367, 306) -> (155, 389, 291), Order: 1\n",
      "Edge: (183, 394, 320) -> (179, 412, 338), Order: 1\n",
      "Edge: (183, 394, 320) -> (187, 446, 307), Order: 1\n",
      "Edge: (209, 227, 297) -> (209, 198, 285), Order: 3\n",
      "Edge: (209, 227, 297) -> (181, 160, 206), Order: 1\n",
      "Edge: (209, 198, 285) -> (203, 174, 260), Order: 1\n",
      "Edge: (209, 198, 285) -> (208, 145, 274), Order: 3\n",
      "Edge: (208, 145, 274) -> (189, 129, 269), Order: 2\n",
      "Edge: (208, 145, 274) -> (212, 135, 273), Order: 3\n",
      "Edge: (189, 129, 269) -> (156, 82, 235), Order: 1\n",
      "Edge: (189, 129, 269) -> (174, 74, 267), Order: 1\n",
      "Edge: (212, 135, 273) -> (212, 127, 267), Order: 3\n",
      "Edge: (212, 135, 273) -> (217, 133, 281), Order: 2\n",
      "Edge: (212, 127, 267) -> (221, 104, 265), Order: 2\n",
      "Edge: (212, 127, 267) -> (211, 111, 251), Order: 2\n",
      "Edge: (221, 104, 265) -> (245, 64, 235), Order: 1\n",
      "Edge: (221, 104, 265) -> (231, 77, 275), Order: 1\n",
      "Edge: (211, 111, 251) -> (199, 69, 228), Order: 1\n",
      "Edge: (211, 111, 251) -> (225, 78, 212), Order: 1\n",
      "Edge: (217, 133, 281) -> (229, 121, 291), Order: 1\n",
      "Edge: (217, 133, 281) -> (222, 145, 291), Order: 1\n",
      "Edge: (205, 201, 355) -> (181, 181, 344), Order: 1\n",
      "Edge: (205, 201, 355) -> (206, 176, 361), Order: 3\n",
      "Edge: (206, 176, 361) -> (178, 146, 383), Order: 2\n",
      "Edge: (206, 176, 361) -> (209, 168, 361), Order: 2\n",
      "Edge: (178, 146, 383) -> (175, 133, 378), Order: 1\n",
      "Edge: (178, 146, 383) -> (190, 126, 418), Order: 1\n",
      "Edge: (209, 168, 361) -> (212, 156, 353), Order: 1\n",
      "Edge: (209, 168, 361) -> (257, 69, 356), Order: 1\n",
      "Edge: (232, 276, 384) -> (211, 251, 383), Order: 2\n",
      "Edge: (232, 276, 384) -> (229, 279, 390), Order: 4\n",
      "Edge: (211, 251, 383) -> (156, 236, 371), Order: 2\n",
      "Edge: (211, 251, 383) -> (188, 205, 384), Order: 1\n",
      "Edge: (156, 236, 371) -> (134, 214, 393), Order: 1\n",
      "Edge: (156, 236, 371) -> (150, 233, 365), Order: 2\n",
      "Edge: (150, 233, 365) -> (137, 219, 359), Order: 1\n",
      "Edge: (150, 233, 365) -> (132, 237, 347), Order: 1\n",
      "Edge: (229, 279, 390) -> (221, 277, 420), Order: 4\n",
      "Edge: (229, 279, 390) -> (224, 297, 394), Order: 3\n",
      "Edge: (221, 277, 420) -> (225, 310, 462), Order: 3\n",
      "Edge: (221, 277, 420) -> (210, 270, 428), Order: 3\n",
      "Edge: (225, 310, 462) -> (209, 333, 511), Order: 2\n",
      "Edge: (225, 310, 462) -> (232, 321, 471), Order: 2\n",
      "Edge: (209, 333, 511) -> (210, 333, 512), Order: 1\n",
      "Edge: (209, 333, 511) -> (207, 335, 511), Order: 1\n",
      "Edge: (232, 321, 471) -> (227, 332, 477), Order: 1\n",
      "Edge: (232, 321, 471) -> (255, 332, 490), Order: 1\n",
      "Edge: (210, 270, 428) -> (191, 239, 447), Order: 2\n",
      "Edge: (210, 270, 428) -> (188, 280, 437), Order: 2\n",
      "Edge: (191, 239, 447) -> (179, 251, 470), Order: 1\n",
      "Edge: (191, 239, 447) -> (191, 223, 455), Order: 2\n",
      "Edge: (191, 223, 455) -> (190, 218, 451), Order: 1\n",
      "Edge: (191, 223, 455) -> (230, 165, 477), Order: 1\n",
      "Edge: (188, 280, 437) -> (122, 269, 449), Order: 1\n",
      "Edge: (188, 280, 437) -> (145, 340, 492), Order: 1\n",
      "Edge: (224, 297, 394) -> (159, 304, 386), Order: 2\n",
      "Edge: (224, 297, 394) -> (223, 317, 399), Order: 3\n",
      "Edge: (159, 304, 386) -> (130, 320, 383), Order: 1\n",
      "Edge: (159, 304, 386) -> (107, 341, 440), Order: 1\n",
      "Edge: (223, 317, 399) -> (213, 338, 392), Order: 2\n",
      "Edge: (223, 317, 399) -> (220, 329, 416), Order: 2\n",
      "Edge: (213, 338, 392) -> (212, 339, 392), Order: 2\n",
      "Edge: (213, 338, 392) -> (232, 346, 386), Order: 1\n",
      "Edge: (212, 339, 392) -> (207, 345, 395), Order: 2\n",
      "Edge: (212, 339, 392) -> (192, 358, 372), Order: 1\n",
      "Edge: (207, 345, 395) -> (206, 381, 402), Order: 1\n",
      "Edge: (207, 345, 395) -> (181, 363, 403), Order: 2\n",
      "Edge: (181, 363, 403) -> (162, 373, 392), Order: 1\n",
      "Edge: (181, 363, 403) -> (168, 385, 422), Order: 1\n",
      "Edge: (220, 329, 416) -> (196, 361, 446), Order: 1\n",
      "Edge: (220, 329, 416) -> (256, 357, 441), Order: 1\n",
      "Edge: (428, 294, 397) -> (434, 288, 398), Order: 4\n",
      "Edge: (428, 294, 397) -> (435, 309, 391), Order: 5\n",
      "Edge: (434, 288, 398) -> (454, 272, 417), Order: 4\n",
      "Edge: (434, 288, 398) -> (502, 253, 388), Order: 2\n",
      "Edge: (454, 272, 417) -> (454, 293, 439), Order: 1\n",
      "Edge: (454, 272, 417) -> (456, 263, 422), Order: 4\n",
      "Edge: (456, 263, 422) -> (437, 202, 420), Order: 1\n",
      "Edge: (456, 263, 422) -> (467, 250, 438), Order: 4\n",
      "Edge: (467, 250, 438) -> (463, 232, 452), Order: 3\n",
      "Edge: (467, 250, 438) -> (501, 249, 456), Order: 3\n",
      "Edge: (463, 232, 452) -> (452, 239, 484), Order: 2\n",
      "Edge: (463, 232, 452) -> (462, 218, 452), Order: 3\n",
      "Edge: (452, 239, 484) -> (423, 250, 504), Order: 1\n",
      "Edge: (452, 239, 484) -> (457, 243, 517), Order: 2\n",
      "Edge: (457, 243, 517) -> (449, 250, 536), Order: 1\n",
      "Edge: (457, 243, 517) -> (471, 241, 526), Order: 1\n",
      "Edge: (462, 218, 452) -> (447, 180, 454), Order: 3\n",
      "Edge: (462, 218, 452) -> (489, 174, 450), Order: 1\n",
      "Edge: (447, 180, 454) -> (441, 173, 471), Order: 2\n",
      "Edge: (447, 180, 454) -> (445, 151, 443), Order: 2\n",
      "Edge: (441, 173, 471) -> (435, 172, 473), Order: 1\n",
      "Edge: (441, 173, 471) -> (446, 177, 499), Order: 1\n",
      "Edge: (445, 151, 443) -> (459, 133, 438), Order: 1\n",
      "Edge: (445, 151, 443) -> (437, 138, 441), Order: 2\n",
      "Edge: (437, 138, 441) -> (432, 135, 442), Order: 1\n",
      "Edge: (437, 138, 441) -> (436, 117, 424), Order: 1\n",
      "Edge: (501, 249, 456) -> (513, 239, 457), Order: 2\n",
      "Edge: (501, 249, 456) -> (514, 263, 490), Order: 2\n",
      "Edge: (513, 239, 457) -> (522, 216, 466), Order: 1\n",
      "Edge: (513, 239, 457) -> (545, 238, 461), Order: 1\n",
      "Edge: (514, 263, 490) -> (516, 257, 512), Order: 1\n",
      "Edge: (514, 263, 490) -> (520, 267, 492), Order: 1\n",
      "Edge: (502, 253, 388) -> (532, 211, 410), Order: 1\n",
      "Edge: (502, 253, 388) -> (574, 246, 385), Order: 1\n",
      "Edge: (435, 309, 391) -> (460, 328, 379), Order: 5\n",
      "Edge: (435, 309, 391) -> (467, 334, 455), Order: 3\n",
      "Edge: (460, 328, 379) -> (461, 329, 379), Order: 4\n",
      "Edge: (460, 328, 379) -> (467, 327, 369), Order: 4\n",
      "Edge: (461, 329, 379) -> (467, 349, 383), Order: 3\n",
      "Edge: (461, 329, 379) -> (505, 323, 401), Order: 3\n",
      "Edge: (467, 349, 383) -> (451, 369, 373), Order: 2\n",
      "Edge: (467, 349, 383) -> (469, 353, 384), Order: 3\n",
      "Edge: (451, 369, 373) -> (404, 417, 326), Order: 1\n",
      "Edge: (451, 369, 373) -> (446, 435, 359), Order: 2\n",
      "Edge: (446, 435, 359) -> (445, 440, 363), Order: 1\n",
      "Edge: (446, 435, 359) -> (453, 446, 350), Order: 1\n",
      "Edge: (469, 353, 384) -> (483, 367, 380), Order: 2\n",
      "Edge: (469, 353, 384) -> (466, 369, 394), Order: 3\n",
      "Edge: (483, 367, 380) -> (506, 380, 393), Order: 1\n",
      "Edge: (483, 367, 380) -> (519, 437, 390), Order: 1\n",
      "Edge: (466, 369, 394) -> (435, 382, 420), Order: 2\n",
      "Edge: (466, 369, 394) -> (456, 395, 408), Order: 2\n",
      "Edge: (435, 382, 420) -> (427, 377, 426), Order: 1\n",
      "Edge: (435, 382, 420) -> (414, 392, 435), Order: 1\n",
      "Edge: (456, 395, 408) -> (424, 414, 419), Order: 1\n",
      "Edge: (456, 395, 408) -> (463, 413, 426), Order: 2\n",
      "Edge: (463, 413, 426) -> (453, 426, 462), Order: 1\n",
      "Edge: (463, 413, 426) -> (477, 437, 432), Order: 1\n",
      "Edge: (505, 323, 401) -> (523, 305, 410), Order: 2\n",
      "Edge: (505, 323, 401) -> (519, 333, 417), Order: 2\n",
      "Edge: (523, 305, 410) -> (527, 300, 419), Order: 1\n",
      "Edge: (523, 305, 410) -> (553, 300, 412), Order: 2\n",
      "Edge: (553, 300, 412) -> (563, 301, 410), Order: 1\n",
      "Edge: (553, 300, 412) -> (565, 295, 423), Order: 1\n",
      "Edge: (519, 333, 417) -> (526, 346, 438), Order: 2\n",
      "Edge: (519, 333, 417) -> (560, 351, 429), Order: 1\n",
      "Edge: (526, 346, 438) -> (528, 349, 438), Order: 1\n",
      "Edge: (526, 346, 438) -> (547, 345, 462), Order: 1\n",
      "Edge: (467, 327, 369) -> (474, 344, 341), Order: 4\n",
      "Edge: (467, 327, 369) -> (487, 313, 356), Order: 3\n",
      "Edge: (474, 344, 341) -> (476, 336, 331), Order: 3\n",
      "Edge: (474, 344, 341) -> (475, 361, 330), Order: 4\n",
      "Edge: (476, 336, 331) -> (475, 309, 293), Order: 1\n",
      "Edge: (476, 336, 331) -> (490, 337, 306), Order: 3\n",
      "Edge: (490, 337, 306) -> (486, 333, 275), Order: 2\n",
      "Edge: (490, 337, 306) -> (492, 337, 306), Order: 3\n",
      "Edge: (486, 333, 275) -> (472, 344, 237), Order: 1\n",
      "Edge: (486, 333, 275) -> (493, 322, 251), Order: 2\n",
      "Edge: (493, 322, 251) -> (481, 313, 223), Order: 1\n",
      "Edge: (493, 322, 251) -> (549, 317, 228), Order: 1\n",
      "Edge: (492, 337, 306) -> (529, 355, 303), Order: 2\n",
      "Edge: (492, 337, 306) -> (534, 358, 270), Order: 3\n",
      "Edge: (529, 355, 303) -> (588, 375, 289), Order: 1\n",
      "Edge: (529, 355, 303) -> (550, 379, 303), Order: 2\n",
      "Edge: (550, 379, 303) -> (558, 382, 309), Order: 1\n",
      "Edge: (550, 379, 303) -> (552, 383, 302), Order: 1\n",
      "Edge: (534, 358, 270) -> (548, 379, 261), Order: 2\n",
      "Edge: (534, 358, 270) -> (617, 347, 221), Order: 2\n",
      "Edge: (548, 379, 261) -> (561, 397, 261), Order: 1\n",
      "Edge: (548, 379, 261) -> (598, 420, 196), Order: 1\n",
      "Edge: (617, 347, 221) -> (633, 329, 213), Order: 1\n",
      "Edge: (617, 347, 221) -> (619, 356, 217), Order: 1\n",
      "Edge: (475, 361, 330) -> (462, 380, 314), Order: 3\n",
      "Edge: (475, 361, 330) -> (480, 363, 327), Order: 3\n",
      "Edge: (462, 380, 314) -> (412, 391, 236), Order: 1\n",
      "Edge: (462, 380, 314) -> (459, 392, 304), Order: 3\n",
      "Edge: (459, 392, 304) -> (439, 450, 278), Order: 2\n",
      "Edge: (459, 392, 304) -> (464, 397, 298), Order: 3\n",
      "Edge: (439, 450, 278) -> (439, 459, 263), Order: 1\n",
      "Edge: (439, 450, 278) -> (442, 453, 279), Order: 1\n",
      "Edge: (464, 397, 298) -> (494, 427, 282), Order: 2\n",
      "Edge: (464, 397, 298) -> (462, 410, 261), Order: 2\n",
      "Edge: (494, 427, 282) -> (493, 433, 281), Order: 1\n",
      "Edge: (494, 427, 282) -> (515, 437, 274), Order: 1\n",
      "Edge: (462, 410, 261) -> (421, 406, 188), Order: 1\n",
      "Edge: (462, 410, 261) -> (469, 438, 216), Order: 2\n",
      "Edge: (469, 438, 216) -> (446, 439, 154), Order: 1\n",
      "Edge: (469, 438, 216) -> (471, 461, 211), Order: 1\n",
      "Edge: (480, 363, 327) -> (508, 404, 326), Order: 2\n",
      "Edge: (480, 363, 327) -> (492, 406, 249), Order: 2\n",
      "Edge: (508, 404, 326) -> (510, 434, 327), Order: 2\n",
      "Edge: (508, 404, 326) -> (524, 411, 329), Order: 1\n",
      "Edge: (510, 434, 327) -> (508, 440, 324), Order: 1\n",
      "Edge: (510, 434, 327) -> (529, 454, 336), Order: 1\n",
      "Edge: (492, 406, 249) -> (492, 409, 206), Order: 2\n",
      "Edge: (492, 406, 249) -> (536, 446, 208), Order: 1\n",
      "Edge: (492, 409, 206) -> (446, 399, 158), Order: 1\n",
      "Edge: (492, 409, 206) -> (497, 410, 203), Order: 1\n",
      "Edge: (487, 313, 356) -> (536, 162, 331), Order: 1\n",
      "Edge: (487, 313, 356) -> (489, 313, 354), Order: 3\n",
      "Edge: (489, 313, 354) -> (495, 309, 344), Order: 3\n",
      "Edge: (489, 313, 354) -> (508, 319, 352), Order: 2\n",
      "Edge: (495, 309, 344) -> (506, 292, 320), Order: 2\n",
      "Edge: (495, 309, 344) -> (528, 302, 335), Order: 3\n",
      "Edge: (506, 292, 320) -> (543, 267, 246), Order: 1\n",
      "Edge: (506, 292, 320) -> (547, 272, 293), Order: 2\n",
      "Edge: (547, 272, 293) -> (550, 259, 290), Order: 1\n",
      "Edge: (547, 272, 293) -> (569, 263, 278), Order: 2\n",
      "Edge: (569, 263, 278) -> (593, 229, 260), Order: 1\n",
      "Edge: (569, 263, 278) -> (626, 246, 238), Order: 1\n",
      "Edge: (528, 302, 335) -> (562, 282, 334), Order: 2\n",
      "Edge: (528, 302, 335) -> (574, 313, 312), Order: 2\n",
      "Edge: (562, 282, 334) -> (575, 271, 328), Order: 1\n",
      "Edge: (562, 282, 334) -> (587, 279, 341), Order: 2\n",
      "Edge: (587, 279, 341) -> (597, 271, 346), Order: 1\n",
      "Edge: (587, 279, 341) -> (600, 282, 338), Order: 1\n",
      "Edge: (574, 313, 312) -> (614, 329, 298), Order: 1\n",
      "Edge: (574, 313, 312) -> (619, 299, 277), Order: 1\n",
      "Edge: (508, 319, 352) -> (579, 326, 372), Order: 1\n",
      "Edge: (508, 319, 352) -> (528, 337, 357), Order: 2\n",
      "Edge: (528, 337, 357) -> (551, 360, 378), Order: 1\n",
      "Edge: (528, 337, 357) -> (589, 370, 351), Order: 1\n",
      "Edge: (467, 334, 455) -> (465, 333, 458), Order: 3\n",
      "Edge: (467, 334, 455) -> (484, 344, 465), Order: 2\n",
      "Edge: (465, 333, 458) -> (455, 322, 499), Order: 3\n",
      "Edge: (465, 333, 458) -> (452, 348, 472), Order: 2\n",
      "Edge: (455, 322, 499) -> (431, 326, 519), Order: 2\n",
      "Edge: (455, 322, 499) -> (475, 320, 532), Order: 2\n",
      "Edge: (431, 326, 519) -> (430, 327, 518), Order: 1\n",
      "Edge: (431, 326, 519) -> (420, 319, 555), Order: 1\n",
      "Edge: (475, 320, 532) -> (472, 317, 550), Order: 1\n",
      "Edge: (475, 320, 532) -> (491, 329, 544), Order: 1\n",
      "Edge: (452, 348, 472) -> (450, 350, 477), Order: 2\n",
      "Edge: (452, 348, 472) -> (451, 364, 475), Order: 1\n",
      "Edge: (450, 350, 477) -> (441, 353, 478), Order: 1\n",
      "Edge: (450, 350, 477) -> (447, 370, 519), Order: 1\n",
      "Edge: (484, 344, 465) -> (506, 332, 477), Order: 1\n",
      "Edge: (484, 344, 465) -> (493, 370, 486), Order: 2\n",
      "Edge: (493, 370, 486) -> (504, 372, 500), Order: 1\n",
      "Edge: (493, 370, 486) -> (493, 377, 486), Order: 1\n"
     ]
    }
   ],
   "source": [
    "#26 Strahler Analysis: Function+Call: Using DiGraphs: *\n",
    "\n",
    "import networkx as nx\n",
    "\n",
    "def StrahlerAnalysis(G): # G: The Tree DiGraph. Returns the edges.\n",
    "    \n",
    "    # Find the terminal edges (edges with no successors)\n",
    "    terminal_edges = [edge for edge in G.edges() if not any(G.successors(edge[1]))]\n",
    "    # Initialize the order for terminal edges as 1\n",
    "    for edge in G.edges():\n",
    "        if edge in terminal_edges: G[edge[0]][edge[1]]['order'] = 1\n",
    "        else: G[edge[0]][edge[1]]['order'] = 0\n",
    "\n",
    "    # Perform Strahler analysis starting from terminal edges\n",
    "    while True:\n",
    "\n",
    "        # Find all edges with the same order\n",
    "        edges_by_order = {}\n",
    "        for edge in G.edges():\n",
    "            order = G[edge[0]][edge[1]].get('order', 0)\n",
    "            if order not in edges_by_order:\n",
    "                edges_by_order[order] = []\n",
    "            edges_by_order[order].append(edge)\n",
    "\n",
    "        # If no more order 0, break\n",
    "        if 0 not in edges_by_order: break\n",
    "\n",
    "        # Only process edges with order = 0\n",
    "        for edge in edges_by_order[0]:\n",
    "            successors = list(G.successors(edge[1]))\n",
    "            SuccessorOrders = [G[edge[1]][successor]['order'] for successor in successors]\n",
    "            if not all(SuccessorOrders): continue # If any successor order is 0, skip to next edge\n",
    "            if len(successors) == 1: # If only one successor, inherit its order\n",
    "                G[edge[0]][edge[1]]['order'] = G[edge[1]][successors[0]]['order']\n",
    "            else: # So it's a bifurcation\n",
    "                MaxOrder = max(SuccessorOrders)\n",
    "                BinaryComparison = [int(ordr == MaxOrder) for ordr in SuccessorOrders]\n",
    "                # If more than 2 of the max then increment order\n",
    "                if sum(BinaryComparison)>=2: NextOrder = MaxOrder + 1\n",
    "                else: NextOrder = MaxOrder\n",
    "                G[edge[0]][edge[1]]['order'] = NextOrder\n",
    "\n",
    "    return G.edges(data=True)\n",
    "\n",
    "# Main:\n",
    "edgesresult = StrahlerAnalysis(digraph)\n",
    "for edge in edgesresult:\n",
    "    print(f\"Edge: {edge[0]} -> {edge[1]}, Order: {edge[2]['order']}\")"
   ]
  },
  {
   "cell_type": "code",
   "execution_count": null,
   "metadata": {},
   "outputs": [],
   "source": [
    "## 27 Plot-4 the DiGraph in 3D:\n",
    "\n",
    "# import networkx as nx\n",
    "# import plotly.graph_objects as go\n",
    "\n",
    "# G = digraph\n",
    "\n",
    "# # Extract node positions and order properties\n",
    "# node_positions = {node: node for node in G.nodes()}\n",
    "# edge_orders = nx.get_edge_attributes(G, 'order')\n",
    "\n",
    "# # Create a trace for nodes\n",
    "# node_trace = go.Scatter3d(\n",
    "#     x=[coord[0] for coord in node_positions],\n",
    "#     y=[coord[1] for coord in node_positions],\n",
    "#     z=[coord[2] for coord in node_positions],\n",
    "#     mode='markers',\n",
    "#     marker=dict(size=2, color='red'),\n",
    "#     text=[],\n",
    "#     hoverinfo='text'\n",
    "# )\n",
    "\n",
    "# # Create a list of edge traces\n",
    "# edge_traces = []\n",
    "# for edge, order in edge_orders.items():\n",
    "#     source, target = edge\n",
    "#     x1, y1, z1 = source\n",
    "#     x2, y2, z2 = target\n",
    "#     edge_traces.append(go.Scatter3d(\n",
    "#         x=[x1, x2],\n",
    "#         y=[y1, y2],\n",
    "#         z=[z1, z2],\n",
    "#         mode='lines+text',\n",
    "#         line=dict(width=4, color='grey'),\n",
    "#         text=f'{order}',\n",
    "#         hoverinfo='none',  # Disables hover info for edges\n",
    "#         textposition='top left'  # Position for the order text\n",
    "#     ))\n",
    "\n",
    "# # Create the 3D layout\n",
    "# layout = go.Layout(\n",
    "#     scene=dict(\n",
    "#         xaxis=dict(title='X'),\n",
    "#         yaxis=dict(title='Y'),\n",
    "#         zaxis=dict(title='Z'),\n",
    "#     ),\n",
    "#     margin=dict(l=0, r=0, b=0, t=0),\n",
    "# )\n",
    "\n",
    "# # Create the figure and add traces\n",
    "# fig = go.Figure(data=edge_traces + [node_trace], layout=layout)\n",
    "\n",
    "# # Show the interactive plot\n",
    "# fig.show()"
   ]
  },
  {
   "cell_type": "code",
   "execution_count": 94,
   "metadata": {},
   "outputs": [
    {
     "name": "stdout",
     "output_type": "stream",
     "text": [
      "Order 1: 162 edges\n",
      "Order 2:  93 edges\n",
      "Order 3:  45 edges\n",
      "Order 4:  18 edges\n",
      "Order 5:   4 edges\n",
      "Order 6:   1 edges\n"
     ]
    }
   ],
   "source": [
    "#28 Statistics of edge orders and counts:\n",
    "\n",
    "from collections import defaultdict\n",
    "\n",
    "# Create a dictionary to count edges for each 'order'\n",
    "order_counts = defaultdict(int)\n",
    "# Count edges\n",
    "for u, v, data in digraph.edges(data=True):\n",
    "    order = data.get(\"order\", 0)\n",
    "    order_counts[order] += 1\n",
    "# Print the counts for each 'order' with keys sorted\n",
    "for order in sorted(order_counts.keys()):\n",
    "    count = order_counts[order]\n",
    "    print(f\"Order {order}: {count:3} edges\")"
   ]
  },
  {
   "cell_type": "code",
   "execution_count": 95,
   "metadata": {},
   "outputs": [],
   "source": [
    "#29 Add EdgeLength property to digraph edges:\n",
    "\n",
    "for edge in digraph.edges:\n",
    "    node1, node2 = edge\n",
    "    x1, y1, z1 = node1\n",
    "    x2, y2, z2 = node2\n",
    "    EdgeLength = np.sqrt((x2 - x1)**2 + (y2 - y1)**2 + (z2 - z1)**2)\n",
    "    digraph.edges[edge]['EdgeLength'] = EdgeLength"
   ]
  },
  {
   "cell_type": "code",
   "execution_count": 96,
   "metadata": {},
   "outputs": [],
   "source": [
    "#30 Save the graph and its properties to a file\n",
    "\n",
    "nx.write_graphml(digraph, GraphArtifactsFolderName + f\"/Case-{CaseNumber}-DiGraph.graphml\")"
   ]
  },
  {
   "cell_type": "code",
   "execution_count": 97,
   "metadata": {},
   "outputs": [
    {
     "name": "stdout",
     "output_type": "stream",
     "text": [
      "Case#61: Indices written to Excel sheet. All Done!\n"
     ]
    }
   ],
   "source": [
    "##-31 Final step: find edges with target order, calculate mean, and add results to excel file\n",
    "\n",
    "import openpyxl\n",
    "from openpyxl.styles import Font, Alignment\n",
    "\n",
    "font = Font(name='Courier New', size=11)\n",
    "alignment = Alignment(horizontal='center', vertical='center')\n",
    "\n",
    "# Find those edges\n",
    "OrdersPresent = order_counts.keys()\n",
    "Methods = {1 : [max(OrdersPresent)  , max(OrdersPresent)-2       , '[MX>MX-2]'],\n",
    "           2 : [max(OrdersPresent)  , max(OrdersPresent)-4       , '[MX>MX-4]'],\n",
    "           3 : [max(OrdersPresent)-1, max(OrdersPresent)-3       , '[MX-1>MX-3]'],\n",
    "           4 : [max(OrdersPresent)-1, max(1,max(OrdersPresent)-5), '[MX-1>MX-5|]'],\n",
    "           5 : [max(OrdersPresent)-2, min(OrdersPresent)         , '[MX-2>MN]'],\n",
    "           6 : [max(OrdersPresent)-2, min(OrdersPresent)+1       , '[MX-2>MN+1]'],\n",
    "           7 : [max(OrdersPresent)  , min(OrdersPresent)         , '[MX>MN]'],\n",
    "           8 : [min(OrdersPresent)  , min(OrdersPresent)         , '[MN>MN]'],\n",
    "           9 : [min(OrdersPresent)+1, min(OrdersPresent)         , '[MN+1>MN]'],\n",
    "           10: [min(OrdersPresent)+2, min(OrdersPresent)         , '[MN+2>MN]'],\n",
    "           11: [min(OrdersPresent)+3, min(OrdersPresent)+1       , '[MN+3>MN+1]']}\n",
    "\n",
    "# LowerOrder, HigherOrder = 4, 6\n",
    "# HigherOrder = max(order_counts.keys())\n",
    "# LowerOrder  = HigherOrder - 2 # -4\n",
    "\n",
    "excel_file_path = \"Z:/Q- Figures/T32-Poster/Nick/Experiment/DiameterResults-CopyFromNate.xlsx\" # Open the existing Excel file\n",
    "workbook = openpyxl.load_workbook(excel_file_path)\n",
    "sheet = workbook.active # Select the first sheet\n",
    "last_row = sheet.max_row # Find the last row in the first column (assuming the first column contains data)\n",
    "new_row = last_row + 1 # Create a new row\n",
    "\n",
    "for MethodNum, MthdList in Methods.items():\n",
    "\n",
    "    HigherOrder = MthdList[0]\n",
    "    LowerOrder  = MthdList[1]\n",
    "    selected_edges = [(u, v, data) for u, v, data in digraph.edges(data=True) if LowerOrder <= data.get(\"order\", 0) <= HigherOrder]\n",
    "\n",
    "    # Print stats\n",
    "    # print(f\"Edges with order in range [{LowerOrder}, {HigherOrder}]:\\n\")\n",
    "    # for indx, (u, v, data) in enumerate(selected_edges):\n",
    "    #     print(f\"SelectedEdge-{indx+1:2}: {u} -> {v}; AvgDiameter = {data['AvgDiameter']:12.9f}; Order = {data['order']}; EdgeLength = {data['EdgeLength']:10.6f}\")\n",
    "\n",
    "    # Extract the 'AvgDiameter' values from the selected edges\n",
    "    avg_diameters = [data[\"AvgDiameter\"] for u, v, data in selected_edges]\n",
    "\n",
    "    # Calculate the geometric mean of 'AvgDiameter'\n",
    "    geometric_mean   = np.prod(avg_diameters) ** (1 / len(avg_diameters))\n",
    "    arithmetic_mean  = sum(avg_diameters) / len(avg_diameters)\n",
    "    geometric_mean  *= 2*0.38/10 # diameter - mm - cm\n",
    "    arithmetic_mean *= 2*0.38/10 # diameter - mm - cm\n",
    "\n",
    "    # print(f\"Geometric Mean of AvgDiameters: {geometric_mean} cm\")\n",
    "    # print(f\"Arithmetic Mean of AvgDiameters: {arithmetic_mean} cm\")\n",
    "\n",
    "    # Insert data into the new row\n",
    "    cell = sheet.cell(row=1      , column=1            , value='Case#'       ); cell.font = font; cell.alignment = alignment\n",
    "    cell = sheet.cell(row=new_row, column=1            , value=CaseNumber    ); cell.font = font; cell.alignment = alignment\n",
    "    cell = sheet.cell(row=1      , column=MethodNum*2  , value='GeomMean-'+MthdList[2]); cell.font = font; cell.alignment = alignment\n",
    "    cell = sheet.cell(row=new_row, column=MethodNum*2  , value=geometric_mean); cell.font = font; cell.alignment = alignment\n",
    "    cell = sheet.cell(row=1      , column=MethodNum*2+1, value='ArthMean-'+MthdList[2]); cell.font = font; cell.alignment = alignment\n",
    "    cell = sheet.cell(row=new_row, column=MethodNum*2+1, value=arithmetic_mean); cell.font = font; cell.alignment = alignment\n",
    "\n",
    "workbook.save(excel_file_path) # Save the Excel file\n",
    "workbook.close() # Close the Excel file\n",
    "\n",
    "winsound.Beep(1000, 3000)\n",
    "print(f\"Case#{CaseNumber}: Indices written to Excel sheet. All Done!\")"
   ]
  },
  {
   "cell_type": "code",
   "execution_count": 60,
   "metadata": {},
   "outputs": [],
   "source": [
    "#32 Notes to address:\n",
    "# Case#58 has a cropped/cut MPA so that lowers the diameters\n",
    "# SmallInsideEdges are not removed in the first pass! [Next time they were!!!!][?!!] * Takes it twice to fully remove .. [Eg Case-18]\n",
    "# Case-18 has lots of nuisant small deep branches\n",
    "# Case-88: Not a tree [and a mess, both with clusters, and final edges]\n",
    "# Case-19: Obviously more tortuous than normal **\n",
    "# Case-11: 1 node isolated outside; not a tree\n",
    "# Case-6: MPA cut too short\n",
    "# Case-46: Seems like a smaller vessel/MPA-root, what does the dys say?!\n",
    "# Case-39: 7K cx-cycles!\n",
    "# Case-22: \n",
    "# Case-21: MPA OK but much shorter than others\n",
    "# Should also save the orders list in the excel file\n",
    "# Case-84: MPA has 20 nuisant edges .. impossible ..   \n",
    "# Any uncircular MPA shape will lead to nuisant edges and then failure *** Including Case-50\n",
    "# Case-39: has 7K cx-cycles\n",
    "# Case-44: has 3K cx-cycles"
   ]
  },
  {
   "cell_type": "code",
   "execution_count": 98,
   "metadata": {},
   "outputs": [],
   "source": [
    "##-33 Final visualization: [from cell-21-1]\n",
    "\n",
    "UpdateEdgeLengths(graph)\n",
    "\n",
    "fig = mlab.figure(size=(2500, 1400), bgcolor=(1, 1, 1))\n",
    "\n",
    "x, y, z = zip(*graph.nodes)\n",
    "mlab.points3d(x, y, z, scale_factor=2, color=(0.2, 0.2, 0.2), opacity=0.7) # color=(1, 0, 0)\n",
    "\n",
    "# Create lines for edges\n",
    "for edge in graph.edges:\n",
    "    src, tgt = edge\n",
    "    x = [src[0], tgt[0]]\n",
    "    y = [src[1], tgt[1]]\n",
    "    z = [src[2], tgt[2]]\n",
    "    mlab.plot3d(x, y, z, tube_radius=0.2,\n",
    "                color=(1, 0, 0) if edge in SmallInsideEdges else (0.2, 0.2, 0.2),#(0.2, 0.2, 0.2),\n",
    "                opacity=0.7)\n",
    "\n",
    "# Create contour for the 3D object\n",
    "mlab.contour3d(atree, contours=[0.5], opacity=0.2, color=(0, 151/255, 206/255))\n",
    "\n",
    "winsound.Beep(frequency, duration)\n",
    "mlab.show()"
   ]
  }
 ],
 "metadata": {
  "kernelspec": {
   "display_name": "Python 3",
   "language": "python",
   "name": "python3"
  },
  "language_info": {
   "codemirror_mode": {
    "name": "ipython",
    "version": 3
   },
   "file_extension": ".py",
   "mimetype": "text/x-python",
   "name": "python",
   "nbconvert_exporter": "python",
   "pygments_lexer": "ipython3",
   "version": "3.11.6"
  },
  "orig_nbformat": 4
 },
 "nbformat": 4,
 "nbformat_minor": 2
}
