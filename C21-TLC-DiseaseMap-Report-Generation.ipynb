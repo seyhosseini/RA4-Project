{
 "cells": [
  {
   "cell_type": "code",
   "execution_count": null,
   "metadata": {},
   "outputs": [],
   "source": [
    "import itk\n",
    "tlc_path = '//lc-rs-store25.hpc.uiowa.edu/teamwork/public_resources/Scan_Exchange/for_Junfeng/SPIR/H-14479_JH110088_SPI-JH110088-V2_TLC_0.75_B35f_23390683/H-14479_JH110088_SPI-JH110088-V2_TLC_0.75_B35f_23390683/ZUNU_vida-lung.hdr'\n",
    "\n",
    "# Read the NIfTI file using ITK\n",
    "image = itk.imread(tlc_path, itk.F)\n",
    "\n",
    "# Convert the ITK image to a NumPy array for further processing if needed\n",
    "numpy_array = itk.array_from_image(image)"
   ]
  }
 ],
 "metadata": {
  "kernelspec": {
   "display_name": "venvnick",
   "language": "python",
   "name": "python3"
  },
  "language_info": {
   "name": "python",
   "version": "3.11.6"
  }
 },
 "nbformat": 4,
 "nbformat_minor": 2
}
