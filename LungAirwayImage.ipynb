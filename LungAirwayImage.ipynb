{
 "cells": [
  {
   "cell_type": "code",
   "execution_count": null,
   "metadata": {},
   "outputs": [],
   "source": [
    "# Code for screenshot of airway tree and lung mask\n",
    "\n",
    "import SimpleITK as sitk\n",
    "import nibabel as nib\n",
    "from mayavi import mlab\n",
    "import numpy as np\n",
    "\n",
    "airway_file = r'z:\\E-Kelly-VidaSegmentals&Sublobes\\2- 2AdditionalScans\\Kelly Done\\SPIROMICS-51287502\\A1-Recentered\\ZUNU_vida-airtree-recentered.nii.gz'\n",
    "lung_file = r'Z:\\E-Kelly-VidaSegmentals&Sublobes\\2- 2AdditionalScans\\Kelly Done\\SPIROMICS-51287502\\A1-Recentered\\ZUNU_vida-lung-recentered.nii.gz'\n",
    "\n",
    "# Loads image file\n",
    "airway_img = nib.load(airway_file)\n",
    "lung_img = nib.load(lung_file)\n",
    "\n",
    "# Turns image data into numpy array\n",
    "airway_image_data = airway_img.get_fdata()\n",
    "lung_image_data = lung_img.get_fdata()\n",
    "\n",
    "# Find Segmentation Center\n",
    "model = sitk.ReadImage(lung_file)\n",
    "origin = model.GetOrigin()\n",
    "dimensions = model.GetSize()\n",
    "direction = model.GetDirection()\n",
    "spacing = (0.38, 0.38, 0.38)\n",
    "distance = np.array(spacing) * np.array(dimensions)\n",
    "center = np.array(origin) + np.array(distance) / 2\n",
    "\n",
    "mlab.figure(bgcolor=(1, 1, 1))\n",
    "\n",
    "# This 600 is 60 cm away from the coronal plane from behind\n",
    "x, y, z = center[0], center[1], center[2]\n",
    "ypt = y + 600\n",
    "camera_focal_point = np.array([x, y, z])\n",
    "camera_position = np.array([x,ypt,z])\n",
    "\n",
    "# Set the camera parameters\n",
    "# Write code to calculate this\n",
    "mlab.gcf().scene.camera.position = [x, ypt, z]\n",
    "mlab.gcf().scene.camera.focal_point = [x, y, z]\n",
    "mlab.gcf().scene.camera.view_up = [0, 0, 1]\n",
    "\n",
    "mlab.gcf().scene.camera.view_angle = 23 # Adjust the FOV angle\n",
    "mlab.gcf().scene.camera.clipping_range = (1, 10000)  # Adjust near and far clipping planes\n",
    "\n",
    "airway_mask = mlab.contour3d(airway_image_data, contours=[0.5], color=(230/255, 220/255, 70/255), opacity=1)\n",
    "\n",
    "lung_mask = mlab.contour3d(lung_image_data, contours=[0.5], color=(128/255, 174/255, 128/255), opacity=0.15)\n",
    "\n",
    "screenshot_filename = r\"Z:\\Q- Figures\\T32-Poster\\Allyson\\Experiment\\Case 24\\lungandairway_screenshot.png\"\n",
    "\n",
    "mlab.savefig(screenshot_filename, size=(800, 800))"
   ]
  }
 ],
 "metadata": {
  "kernelspec": {
   "display_name": "venvally2",
   "language": "python",
   "name": "python3"
  },
  "language_info": {
   "name": "python",
   "version": "3.10.11"
  }
 },
 "nbformat": 4,
 "nbformat_minor": 2
}
