{
 "cells": [
  {
   "cell_type": "code",
   "execution_count": 2,
   "metadata": {},
   "outputs": [
    {
     "name": "stdout",
     "output_type": "stream",
     "text": [
      "-0.5440211108893698\n",
      "1.0\n"
     ]
    }
   ],
   "source": [
    "# 1+2\n",
    "# print(\"Hello\")\n",
    "import numpy as np\n",
    "print(np.sin(10))\n",
    "print(np.sin(np.pi/2))"
   ]
  },
  {
   "cell_type": "code",
   "execution_count": 4,
   "metadata": {},
   "outputs": [],
   "source": [
    "import nibabel as nib\n",
    "\n",
    "# Replace 'your_image.nii.gz' with the path to your NIfTI image file\n",
    "nifti_img = nib.load(r'z:\\E-Kelly-VidaSegmentals&Sublobes\\2- 2AdditionalScans\\Kelly Done\\SPIROMICS-51287502\\A1-Recentered\\FlippedAndRecenteredAirwClr.nii.gz')\n",
    "\n",
    "# Access the image data as a numpy array\n",
    "image_data = nifti_img.get_fdata()\n",
    "\n",
    "# Now you can work with the image_data numpy array\n"
   ]
  },
  {
   "cell_type": "code",
   "execution_count": null,
   "metadata": {},
   "outputs": [],
   "source": [
    "# image_data\n",
    "\n",
    "segment_13 = (image_data == 13 or image_data==1).astype(np.int)"
   ]
  },
  {
   "cell_type": "code",
   "execution_count": 1,
   "metadata": {},
   "outputs": [
    {
     "ename": "ModuleNotFoundError",
     "evalue": "No module named 'mayavi'",
     "output_type": "error",
     "traceback": [
      "\u001b[1;31m---------------------------------------------------------------------------\u001b[0m",
      "\u001b[1;31mModuleNotFoundError\u001b[0m                       Traceback (most recent call last)",
      "\u001b[1;32mc:\\Users\\akuhn1\\Documents\\GitHub\\RA4-Project\\C20-AllysonExperiment.ipynb Cell 4\u001b[0m line \u001b[0;36m1\n\u001b[1;32m----> <a href='vscode-notebook-cell:/c%3A/Users/akuhn1/Documents/GitHub/RA4-Project/C20-AllysonExperiment.ipynb#W3sZmlsZQ%3D%3D?line=0'>1</a>\u001b[0m \u001b[39mfrom\u001b[39;00m \u001b[39mmayavi\u001b[39;00m \u001b[39mimport\u001b[39;00m mlab\n\u001b[0;32m      <a href='vscode-notebook-cell:/c%3A/Users/akuhn1/Documents/GitHub/RA4-Project/C20-AllysonExperiment.ipynb#W3sZmlsZQ%3D%3D?line=1'>2</a>\u001b[0m \u001b[39mimport\u001b[39;00m \u001b[39mnibabel\u001b[39;00m \u001b[39mas\u001b[39;00m \u001b[39mnib\u001b[39;00m\n\u001b[0;32m      <a href='vscode-notebook-cell:/c%3A/Users/akuhn1/Documents/GitHub/RA4-Project/C20-AllysonExperiment.ipynb#W3sZmlsZQ%3D%3D?line=2'>3</a>\u001b[0m \u001b[39mimport\u001b[39;00m \u001b[39mnumpy\u001b[39;00m \u001b[39mas\u001b[39;00m \u001b[39mnp\u001b[39;00m\n",
      "\u001b[1;31mModuleNotFoundError\u001b[0m: No module named 'mayavi'"
     ]
    }
   ],
   "source": [
    "from mayavi import mlab\n",
    "import nibabel as nib\n",
    "import numpy as np\n",
    "\n",
    "# Load the NIfTI image containing the mask\n",
    "# nifti_mask = nib.load('output_mask.nii.gz')\n",
    "\n",
    "# Get the mask data as a numpy array\n",
    "# mask_data = nifti_mask.get_fdata()\n",
    "\n",
    "# Create a figure\n",
    "mlab.figure()\n",
    "\n",
    "# Create a contour plot of the mask at the 0.5 level\n",
    "contour = mlab.contour3d(segment_13, contours=[0.5], opacity=0.5)\n",
    "\n",
    "# You can customize the appearance of the contour plot, e.g., color, colormap, etc.\n",
    "# contour.module_manager.scalar_lut_manager.lut_mode = 'Blues'\n",
    "\n",
    "# Optionally, you can add other visualization settings, such as axis labels or a color bar\n",
    "\n",
    "# To display the visualization in a window\n",
    "mlab.show()"
   ]
  }
 ],
 "metadata": {
  "kernelspec": {
   "display_name": "Python 3",
   "language": "python",
   "name": "python3"
  },
  "language_info": {
   "codemirror_mode": {
    "name": "ipython",
    "version": 3
   },
   "file_extension": ".py",
   "mimetype": "text/x-python",
   "name": "python",
   "nbconvert_exporter": "python",
   "pygments_lexer": "ipython3",
   "version": "3.11.5"
  },
  "orig_nbformat": 4
 },
 "nbformat": 4,
 "nbformat_minor": 2
}
