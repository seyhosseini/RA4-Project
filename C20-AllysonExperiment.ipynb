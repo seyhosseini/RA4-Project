{
 "cells": [
  {
   "cell_type": "code",
   "execution_count": 1,
   "metadata": {},
   "outputs": [],
   "source": [
    "import nibabel as nib\n",
    "from mayavi import mlab\n",
    "import numpy as np\n",
    "\n",
    "# Replace 'your_image.nii.gz' with the path to your NIfTI image file\n",
    "nifti_img = nib.load(r'z:\\E-Kelly-VidaSegmentals&Sublobes\\2- 2AdditionalScans\\Kelly Done\\SPIROMICS-51287502\\A1-Recentered\\FlippedAndRecenteredAirwClr.nii.gz')\n",
    "\n",
    "# Access the image data as a numpy array\n",
    "image_data = nifti_img.get_fdata()\n",
    "\n",
    "# Now you can work with the image_data numpy array\n"
   ]
  },
  {
   "cell_type": "code",
   "execution_count": 2,
   "metadata": {},
   "outputs": [],
   "source": [
    "# image_data\n",
    "\n",
    "red_index = [1, 2, 3, 8, 9, 12, 13, 33, 40, 48, 53, 55, 73, 185]\n",
    "\n",
    "red_segments = np.isin(image_data, red_index).astype(int)\n",
    "\n",
    "orange_index = [64, 65, 76, 77, 90, 91, 104, 105, 246, 247]\n",
    "\n",
    "orange_segments = np.isin(image_data, orange_index).astype(int)\n",
    "\n",
    "all_segments_index = np.arange(1, 308)\n",
    "\n",
    "background_index = np.setdiff1d(all_segments_index, np.union1d(red_index, orange_index))\n",
    "\n",
    "background_segments = np.isin(image_data, background_index).astype(int)\n",
    "\n",
    "# print(background_index)\n",
    "# np.unique(background)\n",
    "\n"
   ]
  },
  {
   "cell_type": "code",
   "execution_count": 6,
   "metadata": {},
   "outputs": [],
   "source": [
    "from mayavi import mlab\n",
    "import nibabel as nib\n",
    "import numpy as np\n",
    "\n",
    "\n",
    "# Create a figure\n",
    "fig = mlab.figure(bgcolor=(1, 1, 1))  # Set background color to white\n",
    "\n",
    "# Create a contour plot of the mask at the 0.5 level\n",
    "red_mask = mlab.contour3d(red_segments, contours=[0.5], opacity=1, color=(1, 0, 0))\n",
    "\n",
    "orange_mask = mlab.contour3d(orange_segments, contours=[0.5], opacity=1, color=(1, 0.5, 0))\n",
    "\n",
    "background_mask = mlab.contour3d(background_segments, contours=[0.5], color=(1, 0.75, 0), opacity=0.25)\n",
    "\n",
    "# To display the visualization in a window\n",
    "mlab.show()"
   ]
  },
  {
   "cell_type": "code",
   "execution_count": null,
   "metadata": {},
   "outputs": [],
   "source": [
    "RedIndices = [1, 2, 3, ]\n",
    "OrangeIndices = [64, 65, ]\n",
    "Background = [0]\n",
    "\n",
    "All_unique_values = np.unique(image)\n",
    "\n"
   ]
  }
 ],
 "metadata": {
  "kernelspec": {
   "display_name": "Python 3",
   "language": "python",
   "name": "python3"
  },
  "language_info": {
   "codemirror_mode": {
    "name": "ipython",
    "version": 3
   },
   "file_extension": ".py",
   "mimetype": "text/x-python",
   "name": "python",
   "nbconvert_exporter": "python",
   "pygments_lexer": "ipython3",
   "version": "3.10.11"
  },
  "orig_nbformat": 4
 },
 "nbformat": 4,
 "nbformat_minor": 2
}
