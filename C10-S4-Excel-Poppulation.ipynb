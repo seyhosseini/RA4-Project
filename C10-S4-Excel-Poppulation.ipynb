{
 "cells": [
  {
   "cell_type": "code",
   "execution_count": 1,
   "metadata": {},
   "outputs": [
    {
     "ename": "NameError",
     "evalue": "name 'pydicom' is not defined",
     "output_type": "error",
     "traceback": [
      "\u001b[1;31m---------------------------------------------------------------------------\u001b[0m",
      "\u001b[1;31mNameError\u001b[0m                                 Traceback (most recent call last)",
      "Cell \u001b[1;32mIn[1], line 3\u001b[0m\n\u001b[0;32m      1\u001b[0m \u001b[39m# Load the original DICOM file to extract the Rescale Intercept value\u001b[39;00m\n\u001b[0;32m      2\u001b[0m original_dicom_path \u001b[39m=\u001b[39m \u001b[39m\"\u001b[39m\u001b[39mZ:\u001b[39m\u001b[39m\\\u001b[39m\u001b[39mD-Images\u001b[39m\u001b[39m\\\u001b[39m\u001b[39mSPIROMICS-SubStudy\u001b[39m\u001b[39m\\2\u001b[39;00m\u001b[39m-Results-CheckedDoneTemp\u001b[39m\u001b[39m\\1\u001b[39;00m\u001b[39m-Done\u001b[39m\u001b[39m\\\u001b[39m\u001b[39mCase-60-Spiromics-51266545\u001b[39m\u001b[39m\\\u001b[39m\u001b[39mH-17883_JH115593_SPI-JH115593-0.5__QR40__RESEARCH__A_80KV_Qr40d_3_51266545\u001b[39m\u001b[39m\"\u001b[39m\n\u001b[1;32m----> 3\u001b[0m original_dicom \u001b[39m=\u001b[39m pydicom\u001b[39m.\u001b[39mdcmread(original_dicom_path)\n\u001b[0;32m      4\u001b[0m rescale_intercept_value \u001b[39m=\u001b[39m original_dicom[\u001b[39m0x0028\u001b[39m, \u001b[39m0x1052\u001b[39m]\u001b[39m.\u001b[39mvalue\n",
      "\u001b[1;31mNameError\u001b[0m: name 'pydicom' is not defined"
     ]
    }
   ],
   "source": [
    "# Load the original DICOM file to extract the Rescale Intercept value\n",
    "original_dicom_path = \"Z:\\D-Images\\SPIROMICS-SubStudy\\2-Results-CheckedDoneTemp\\1-Done\\Case-60-Spiromics-51266545\\H-17883_JH115593_SPI-JH115593-0.5__QR40__RESEARCH__A_80KV_Qr40d_3_51266545\"\n",
    "original_dicom = pydicom.dcmread(original_dicom_path)\n",
    "rescale_intercept_value = original_dicom[0x0028, 0x1052].value"
   ]
  },
  {
   "cell_type": "code",
   "execution_count": null,
   "metadata": {},
   "outputs": [],
   "source": [
    "# Load the target DICOM file and set the Rescale Intercept value\n",
    "target_dicom_path = \"Z:\\L- Send2VIDA- Vx3-DICOM\\V&S\\Case-60\\ScalarVolume_293\"\n",
    "target_dicom = pydicom.dcmread(target_dicom_path)\n",
    "target_dicom[0x0028, 0x1052].value = rescale_intercept_value\n"
   ]
  },
  {
   "cell_type": "code",
   "execution_count": null,
   "metadata": {},
   "outputs": [],
   "source": [
    "# Save the modified DICOM file\n",
    "target_dicom.save_as(\"Z:\\L- Send2VIDA- Vx3-DICOM\\V&S\\Case-60\\TEST\")"
   ]
  }
 ],
 "metadata": {
  "kernelspec": {
   "display_name": "Python 3",
   "language": "python",
   "name": "python3"
  },
  "language_info": {
   "codemirror_mode": {
    "name": "ipython",
    "version": 3
   },
   "file_extension": ".py",
   "mimetype": "text/x-python",
   "name": "python",
   "nbconvert_exporter": "python",
   "pygments_lexer": "ipython3",
   "version": "3.11.3"
  },
  "orig_nbformat": 4
 },
 "nbformat": 4,
 "nbformat_minor": 2
}
