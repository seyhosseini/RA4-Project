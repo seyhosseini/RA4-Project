{
 "cells": [
  {
   "cell_type": "code",
   "execution_count": null,
   "metadata": {},
   "outputs": [],
   "source": [
    "# %pip install openpyxl\n",
    "\n",
    "import pandas as pd\n",
    "import copy\n",
    "\n",
    "df = pd.read_excel(r'S4-S3-2.xlsx', sheet_name=[1], header=None, usecols=\"A\")\n",
    "\n",
    "D1 = df[1][0].tolist()\n",
    "DD1 = [[None for _ in range(8)] for _ in range(len(D1))]\n",
    "for i in range(len(D1)):\n",
    "    DD1[i] = D1[i].split(\"_\")\n",
    "DD2 = copy.deepcopy(DD1)\n",
    "\n",
    "IND = [i for i in range(len(D1)) if len(DD1[i])>7]\n",
    "print(IND)\n",
    "\n",
    "for i in IND:\n",
    "    DD2[i].pop(2)\n",
    "\n",
    "D2 = pd.DataFrame(DD2)\n",
    "with pd.ExcelWriter('S4-S3-2.xlsx', engine='openpyxl', mode='a') as writer:\n",
    "    D2.to_excel(writer, sheet_name='APK-List-V1C', header=False, index=False)"
   ]
  },
  {
   "cell_type": "code",
   "execution_count": 18,
   "metadata": {},
   "outputs": [
    {
     "name": "stdout",
     "output_type": "stream",
     "text": [
      "['SPI-NJ221261-V5', 'SPI-NJ221261-V5', 'SPI-NJ220058-V5', 'SPI-NJ220058-V5', 'SPI-UT173336-V1']\n"
     ]
    }
   ],
   "source": [
    "import pandas as pd\n",
    "import copy\n",
    "\n",
    "df = pd.read_excel(r'T8-T6-Experiment.xlsx', sheet_name=None ) #header=None, # usecols=\"A\"\n",
    "# print(df)\n",
    "# df['ctseriesid']\n",
    "# df.iloc[:, 0]\n",
    "df = data_dict['B']\n",
    "first_column_list = df.iloc[0:5, 4].tolist()\n",
    "print(first_column_list)"
   ]
  }
 ],
 "metadata": {
  "kernelspec": {
   "display_name": "Python 3",
   "language": "python",
   "name": "python3"
  },
  "language_info": {
   "codemirror_mode": {
    "name": "ipython",
    "version": 3
   },
   "file_extension": ".py",
   "mimetype": "text/x-python",
   "name": "python",
   "nbconvert_exporter": "python",
   "pygments_lexer": "ipython3",
   "version": "3.11.3"
  },
  "orig_nbformat": 4
 },
 "nbformat": 4,
 "nbformat_minor": 2
}
