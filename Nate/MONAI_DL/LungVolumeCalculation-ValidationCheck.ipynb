{
 "cells": [
  {
   "cell_type": "code",
   "execution_count": 54,
   "metadata": {},
   "outputs": [
    {
     "name": "stdout",
     "output_type": "stream",
     "text": [
      "Data saved to z:/Q- Figures&Papers/1-T32-Poster/Nate/VolumeDataValidation/volume_data_SPIROMICS.xlsx\n"
     ]
    }
   ],
   "source": [
    "# This code calculates the volume of the lung masks for specified SPIROMICS cases\n",
    "\n",
    "import os\n",
    "import glob\n",
    "import nibabel as nib\n",
    "import numpy as np\n",
    "import pandas as pd\n",
    "\n",
    "# Initialize an empty list to store data\n",
    "data_list = []\n",
    "\n",
    "# List of case numbers\n",
    "integers = [83]\n",
    "\n",
    "# Base folder\n",
    "base_folder = r'z:\\D-Images\\SPIROMICS-SubStudy\\2-Results-CheckedDoneTemp\\1-Done' \n",
    "\n",
    "for integer in integers:\n",
    "    \n",
    "    folder_prefix = f'Case-{integer}'\n",
    "    \n",
    "    # Iterate through folders in the base folder\n",
    "    for folder_name in os.listdir(base_folder):\n",
    "        if folder_name.startswith(folder_prefix) and os.path.isdir(os.path.join(base_folder, folder_name)):\n",
    "\n",
    "            # Navigate to the 'seg_net' folder inside the matched folder\n",
    "            seg_net_folder = os.path.join(base_folder, folder_name, 'seg_net')\n",
    "            \n",
    "            # Check if the 'seg_net' folder exists\n",
    "            if os.path.exists(seg_net_folder) and os.path.isdir(seg_net_folder):\n",
    "\n",
    "                # Use glob to find all .nii.gz files in the 'seg_net' folder\n",
    "                nii_files = glob.glob(os.path.join(seg_net_folder, '*.nii.gz'))\n",
    "                \n",
    "                for nii_file_path in nii_files:\n",
    "\n",
    "                    # Load the NIfTI image\n",
    "                    img = nib.load(nii_file_path)\n",
    "\n",
    "                    # Get the image data as a NumPy array\n",
    "                    image_data = img.get_fdata()\n",
    "\n",
    "                    # Calculate the voxel size (spacing)\n",
    "                    voxel_size = img.header.get_zooms()\n",
    "\n",
    "                    # Count the number of voxels with a value of 1\n",
    "                    object_volume = (np.logical_or(image_data == 5, image_data == 17)).sum()\n",
    "                    background = (image_data == 0).sum()\n",
    "                    entire_object = (np.logical_or(np.logical_or(image_data == 5, image_data == 17), image_data == 0)).sum()\n",
    "                    llung = (image_data == 5).sum()\n",
    "                    rlung = (image_data == 17).sum()\n",
    "                    # Calculate the total volume\n",
    "                    volume = object_volume * (voxel_size[0] * voxel_size[1] * voxel_size[2]) / 1e6\n",
    "\n",
    "                    # Append data to the list\n",
    "                    data_list.append([integer, volume])\n",
    "\n",
    "# Create a DataFrame from the list\n",
    "df = pd.DataFrame(data_list, columns=['Index', 'Volume'])\n",
    "\n",
    "# Specify the Excel file name\n",
    "excel_file_name = 'z:/Q- Figures&Papers/1-T32-Poster/Nate/VolumeDataValidation/volume_data_SPIROMICS.xlsx'\n",
    "\n",
    "# Save the DataFrame to an Excel file\n",
    "df.to_excel(excel_file_name, index=False)\n",
    "\n",
    "print(f\"Data saved to {excel_file_name}\")"
   ]
  },
  {
   "cell_type": "code",
   "execution_count": 76,
   "metadata": {},
   "outputs": [
    {
     "name": "stdout",
     "output_type": "stream",
     "text": [
      "Data saved to z:/Q- Figures&Papers/1-T32-Poster/Nate/VolumeDataValidation/volume_data_MESAL-3.xlsx\n"
     ]
    }
   ],
   "source": [
    "import os\n",
    "import glob\n",
    "import nibabel as nib\n",
    "import numpy as np\n",
    "import pandas as pd\n",
    "\n",
    "# Initialize an empty list to store data\n",
    "data_list = []\n",
    "\n",
    "# List of case numbers\n",
    "integers = [15, 20, 21, 87] \n",
    "\n",
    "# Base folder\n",
    "base_folder = r'Z:\\D-Images\\MESAL-3\\2-Checked-Done-Temp\\Done'\n",
    "\n",
    "for integer in integers:\n",
    "   \n",
    "    folder_prefix = f'Case-{integer}'\n",
    "    \n",
    "    # Iterate through folders in the base folder\n",
    "    for folder_name in os.listdir(base_folder):\n",
    "        if folder_name.startswith(folder_prefix) and os.path.isdir(os.path.join(base_folder, folder_name)):\n",
    "\n",
    "            # Navigate to the 'seg_net' folder inside the matched folder\n",
    "            seg_net_folder = os.path.join(base_folder, folder_name, 'seg_net')\n",
    "            \n",
    "            # Check if the 'seg_net' folder exists\n",
    "            if os.path.exists(seg_net_folder) and os.path.isdir(seg_net_folder):\n",
    "\n",
    "                # Use glob to find correct .nii.gz file in the 'seg_net' folder\n",
    "                nii_files = glob.glob(os.path.join(seg_net_folder, '*TLC*mask*.nii.gz'))\n",
    "                \n",
    "                for nii_file_path in nii_files:\n",
    "\n",
    "                    # Load the NIfTI image\n",
    "                    img = nib.load(nii_file_path)\n",
    "\n",
    "                    # Get the image data as a NumPy array\n",
    "                    image_data = img.get_fdata()\n",
    "\n",
    "                    # Calculate the voxel size (spacing)\n",
    "                    voxel_size = img.header.get_zooms()\n",
    "\n",
    "                    # Count the number of voxels with a value of 1\n",
    "                    object_volume = (np.logical_or(image_data == 5, image_data == 17)).sum()\n",
    "                    background = (image_data == 0).sum()\n",
    "                    entire_object = (np.logical_or(np.logical_or(image_data == 5, image_data == 17), image_data == 0)).sum()\n",
    "                    llung = (image_data == 5).sum()\n",
    "                    rlung = (image_data == 17).sum()\n",
    "                    # Calculate the total volume\n",
    "                    volume = object_volume * (voxel_size[0] * voxel_size[1] * voxel_size[2]) / 1e6\n",
    "\n",
    "                    # Append data to the list\n",
    "                    data_list.append([integer, volume])\n",
    "\n",
    "# Create a DataFrame from the list\n",
    "df = pd.DataFrame(data_list, columns=['Index', 'Volume'])\n",
    "\n",
    "# Specify the Excel file name\n",
    "excel_file_name = 'z:/Q- Figures&Papers/1-T32-Poster/Nate/VolumeDataValidation/volume_data_MESAL-3.xlsx'\n",
    "\n",
    "# Save the DataFrame to an Excel file\n",
    "df.to_excel(excel_file_name, index=False)\n",
    "\n",
    "print(f\"Data saved to {excel_file_name}\")"
   ]
  },
  {
   "cell_type": "code",
   "execution_count": 56,
   "metadata": {},
   "outputs": [
    {
     "data": {
      "text/plain": [
       "(0.80078125, 0.80078125, 0.5)"
      ]
     },
     "execution_count": 56,
     "metadata": {},
     "output_type": "execute_result"
    }
   ],
   "source": [
    "img.header.get_zooms()"
   ]
  },
  {
   "cell_type": "code",
   "execution_count": 57,
   "metadata": {},
   "outputs": [
    {
     "data": {
      "text/plain": [
       "21019037"
      ]
     },
     "execution_count": 57,
     "metadata": {},
     "output_type": "execute_result"
    }
   ],
   "source": [
    "object_volume"
   ]
  },
  {
   "cell_type": "code",
   "execution_count": 58,
   "metadata": {},
   "outputs": [
    {
     "data": {
      "text/plain": [
       "145489920"
      ]
     },
     "execution_count": 58,
     "metadata": {},
     "output_type": "execute_result"
    }
   ],
   "source": [
    "entire_object"
   ]
  },
  {
   "cell_type": "code",
   "execution_count": 59,
   "metadata": {},
   "outputs": [
    {
     "data": {
      "text/plain": [
       "(512, 512, 555)"
      ]
     },
     "execution_count": 59,
     "metadata": {},
     "output_type": "execute_result"
    }
   ],
   "source": [
    "image_data.shape"
   ]
  },
  {
   "cell_type": "code",
   "execution_count": 60,
   "metadata": {},
   "outputs": [
    {
     "data": {
      "text/plain": [
       "124470883"
      ]
     },
     "execution_count": 60,
     "metadata": {},
     "output_type": "execute_result"
    }
   ],
   "source": [
    "background"
   ]
  },
  {
   "cell_type": "code",
   "execution_count": 61,
   "metadata": {},
   "outputs": [
    {
     "data": {
      "text/plain": [
       "10195198"
      ]
     },
     "execution_count": 61,
     "metadata": {},
     "output_type": "execute_result"
    }
   ],
   "source": [
    "llung"
   ]
  },
  {
   "cell_type": "code",
   "execution_count": 62,
   "metadata": {},
   "outputs": [
    {
     "data": {
      "text/plain": [
       "10823839"
      ]
     },
     "execution_count": 62,
     "metadata": {},
     "output_type": "execute_result"
    }
   ],
   "source": [
    "rlung"
   ]
  },
  {
   "cell_type": "code",
   "execution_count": 63,
   "metadata": {},
   "outputs": [],
   "source": [
    "x = entire_object - background"
   ]
  },
  {
   "cell_type": "code",
   "execution_count": 64,
   "metadata": {},
   "outputs": [
    {
     "data": {
      "text/plain": [
       "21019037"
      ]
     },
     "execution_count": 64,
     "metadata": {},
     "output_type": "execute_result"
    }
   ],
   "source": [
    "x"
   ]
  },
  {
   "cell_type": "code",
   "execution_count": 65,
   "metadata": {},
   "outputs": [
    {
     "name": "stdout",
     "output_type": "stream",
     "text": [
      "[ 0.  5. 17.]\n",
      "[124470883  10195198  10823839]\n"
     ]
    }
   ],
   "source": [
    "v,c = np.unique(image_data, return_counts=True)\n",
    "print(v)\n",
    "print(c)"
   ]
  },
  {
   "cell_type": "code",
   "execution_count": 67,
   "metadata": {},
   "outputs": [
    {
     "data": {
      "text/plain": [
       "21019037"
      ]
     },
     "execution_count": 67,
     "metadata": {},
     "output_type": "execute_result"
    }
   ],
   "source": [
    "y = c[1] +c[2]\n",
    "y"
   ]
  },
  {
   "cell_type": "code",
   "execution_count": 68,
   "metadata": {},
   "outputs": [
    {
     "data": {
      "text/plain": [
       "6.739235152626038"
      ]
     },
     "execution_count": 68,
     "metadata": {},
     "output_type": "execute_result"
    }
   ],
   "source": [
    "volume"
   ]
  }
 ],
 "metadata": {
  "kernelspec": {
   "display_name": "Python 3",
   "language": "python",
   "name": "python3"
  },
  "language_info": {
   "codemirror_mode": {
    "name": "ipython",
    "version": 3
   },
   "file_extension": ".py",
   "mimetype": "text/x-python",
   "name": "python",
   "nbconvert_exporter": "python",
   "pygments_lexer": "ipython3",
   "version": "3.11.0"
  }
 },
 "nbformat": 4,
 "nbformat_minor": 2
}
