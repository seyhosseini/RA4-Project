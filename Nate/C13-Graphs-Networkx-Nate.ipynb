{
 "cells": [
  {
   "cell_type": "code",
   "execution_count": null,
   "metadata": {},
   "outputs": [],
   "source": [
    "### I/O SimpleITK\n",
    "\n",
    "# import SimpleITK as sitk\n",
    "# avmlabel = sitk.ReadImage(\"Data\\AVL-LR-Final-Case53\\S-Final-1-label.nrrd\")\n",
    "# vnda = sitk.GetArrayFromImage(lungim)\n",
    "# fvess = sitk.GetImageFromArray(vnds)"
   ]
  },
  {
   "cell_type": "code",
   "execution_count": 1,
   "metadata": {},
   "outputs": [],
   "source": [
    "import numpy as np\n",
    "import nrrd  # pip install pynrrd\n",
    "from skimage.morphology import skeletonize_3d  # pip install scikit-image\n",
    "import networkx as nx"
   ]
  },
  {
   "cell_type": "code",
   "execution_count": 2,
   "metadata": {},
   "outputs": [],
   "source": [
    "# Load/create the 3D mask\n",
    "\n",
    "avmlabel, metadata = nrrd.read(\"z:/D-Images/SPIROMICS-SubStudy/2-Results-CheckedDoneTemp/1-Done/Case-47-0.5_QR40_RESEARCH_A_80KV_Qr40d_3_65177004/Markups/88-Nathan/S-Final-1-label.nrrd\")\n",
    "\n",
    "atree = np.zeros_like(avmlabel)\n",
    "atree[avmlabel == 1] = 1"
   ]
  },
  {
   "cell_type": "code",
   "execution_count": 3,
   "metadata": {},
   "outputs": [],
   "source": [
    "# Create and save the skeleton\n",
    "\n",
    "skeleton = skeletonize_3d(atree.astype(np.uint8))\n",
    "nrrd.write(\"z:/D-Images/SPIROMICS-SubStudy/2-Results-CheckedDoneTemp/1-Done/Case-47-0.5_QR40_RESEARCH_A_80KV_Qr40d_3_65177004/Markups/88-Nathan/E-Skeleton-1.nrrd\", skeleton)\n",
    "\n",
    "# np.shape(np.nonzero(skeleton)) # (3, 9862)\n",
    "# np.nonzero(skeleton)\n",
    "# indices = np.transpose(np.nonzero(skeleton))\n",
    "# np.transpose(np.nonzero(skeleton))"
   ]
  },
  {
   "cell_type": "code",
   "execution_count": 5,
   "metadata": {},
   "outputs": [],
   "source": [
    "skeleton, _ = nrrd.read(\"z:/D-Images/SPIROMICS-SubStudy/2-Results-CheckedDoneTemp/1-Done/Case-47-0.5_QR40_RESEARCH_A_80KV_Qr40d_3_65177004/Markups/88-Nathan/E-Skeleton-1.nrrd\")"
   ]
  },
  {
   "cell_type": "code",
   "execution_count": null,
   "metadata": {},
   "outputs": [],
   "source": [
    "### Old: Create Graph/Neighbours/...\n",
    "\n",
    "# np.shape(avmlabel)\n",
    "# skeleton[45:52,263:270,198:204]\n",
    "\n",
    "import networkx as nx\n",
    "\n",
    "# Convert skeleton to graph\n",
    "graph = nx.Graph()\n",
    "indices = np.transpose(np.nonzero(skeleton))\n",
    "graph.add_nodes_from(map(tuple, indices[0:20]))\n",
    "\n",
    "# # Add edges to the graph\n",
    "# for index in indices:\n",
    "#     neighbors = np.array(list(nx.generate_adjlist(graph, [tuple(index)])))[0].astype(int)\n",
    "#     for neighbor in neighbors:\n",
    "#         graph.add_edge(tuple(index), tuple(np.array(list(map(int, neighbor.split(','))))))\n",
    "\n",
    "# # Simplify the graph (remove intermediate nodes and consolidate segments)\n",
    "# simplified_graph = graph.copy()\n",
    "# # ... You need to implement the simplification process based on your criteria.\n"
   ]
  },
  {
   "cell_type": "code",
   "execution_count": 5,
   "metadata": {},
   "outputs": [],
   "source": [
    "# Function: Print Nodes/Edges/...\n",
    "\n",
    "def print_stats(graph):\n",
    "    num_nodes = nx.number_of_nodes(graph)\n",
    "    num_edges = nx.number_of_edges(graph)\n",
    "    all_nodes = list(graph.nodes)\n",
    "    all_edges = list(graph.edges)\n",
    "\n",
    "    print(\"Number of Nodes:\", num_nodes)\n",
    "    print(\"Number of Edges:\", num_edges)\n",
    "    print(\"All Nodes:\", all_nodes)\n",
    "    print(\"All Edges:\", all_edges)\n",
    "    return"
   ]
  },
  {
   "cell_type": "code",
   "execution_count": null,
   "metadata": {},
   "outputs": [],
   "source": [
    "### 2D Spring Plot\n",
    "\n",
    "import matplotlib.pyplot as plt\n",
    "\n",
    "# Draw the graph using a spring layout (for undirected graphs)\n",
    "plt.figure(figsize=(10, 4))\n",
    "pos = nx.spring_layout(graph) # , seed=43\n",
    "nx.draw(graph, pos, node_size=8, node_color=\"skyblue\"edge_color=\"gray\")\n",
    "# with_labels=True, font_size=8, font_color=\"black\"\n",
    "plt.title(\"Vessel Tree Graph\")\n",
    "plt.show()"
   ]
  },
  {
   "cell_type": "code",
   "execution_count": null,
   "metadata": {},
   "outputs": [],
   "source": [
    "### Later:\n",
    "# Approach-1: Make Interactive 3D Plot\n",
    "\n",
    "from mpl_toolkits.mplot3d import Axes3D\n",
    "\n",
    "# Create a 3D plot\n",
    "fig = plt.figure(figsize=(10, 8))\n",
    "ax = fig.add_subplot(111, projection='3d')\n",
    "\n",
    "# Get node positions from the graph (assuming you have the coordinates in the nodes' attributes)\n",
    "node_positions = {node: graph.nodes[node]['pos'] for node in graph.nodes}\n",
    "\n",
    "# Draw nodes\n",
    "for node, pos in node_positions.items():\n",
    "    ax.scatter(pos[0], pos[1], pos[2], color='skyblue', s=100, label=node)\n",
    "\n",
    "# Draw edges\n",
    "for edge in graph.edges:\n",
    "    pos1 = node_positions[edge[0]]\n",
    "    pos2 = node_positions[edge[1]]\n",
    "    ax.plot([pos1[0], pos2[0]], [pos1[1], pos2[1]], [pos1[2], pos2[2]], color='gray')\n",
    "\n",
    "# Set axis labels\n",
    "ax.set_xlabel('X')\n",
    "ax.set_ylabel('Y')\n",
    "ax.set_zlabel('Z')\n",
    "\n",
    "# Add legend\n",
    "ax.legend()\n",
    "\n",
    "# Show the interactive 3D plot\n",
    "plt.show()"
   ]
  },
  {
   "cell_type": "code",
   "execution_count": 6,
   "metadata": {},
   "outputs": [],
   "source": [
    "# Create graph/edges/neighbours/...\n",
    "\n",
    "import numpy as np\n",
    "from skimage.morphology import skeletonize_3d\n",
    "import networkx as nx\n",
    "import plotly.graph_objects as go  # pip install plotly\n",
    "from plotly.subplots import make_subplots\n",
    "\n",
    "# Step 2: Convert skeletonized image to a graph representation\n",
    "graph = nx.Graph()\n",
    "indices = np.array(np.where(skeleton))\n",
    "num_points = indices.shape[1]\n",
    "for i in range(num_points): # 20,100 # num_points\n",
    "    point = tuple(indices[:, i])\n",
    "    neighbors = []\n",
    "    for offset in np.ndindex((3, 3, 3)):\n",
    "        neighbor = tuple(indices[:, i] + np.array(offset) - 1)\n",
    "        if neighbor != point and neighbor in graph:\n",
    "            neighbors.append(neighbor)\n",
    "    graph.add_node(point)\n",
    "    graph.add_edges_from((point, n) for n in neighbors)"
   ]
  },
  {
   "cell_type": "code",
   "execution_count": 7,
   "metadata": {},
   "outputs": [
    {
     "ename": "NameError",
     "evalue": "name 'print_stats' is not defined",
     "output_type": "error",
     "traceback": [
      "\u001b[1;31m---------------------------------------------------------------------------\u001b[0m",
      "\u001b[1;31mNameError\u001b[0m                                 Traceback (most recent call last)",
      "Cell \u001b[1;32mIn[7], line 1\u001b[0m\n\u001b[1;32m----> 1\u001b[0m print_stats(graph)\n",
      "\u001b[1;31mNameError\u001b[0m: name 'print_stats' is not defined"
     ]
    }
   ],
   "source": [
    "print_stats(graph)"
   ]
  },
  {
   "cell_type": "code",
   "execution_count": null,
   "metadata": {},
   "outputs": [],
   "source": [
    "### Remove all leafs?!!!!! x\n",
    "\n",
    "# Step 3: Simplify the graph by removing intermediate nodes that lie on a single branch\n",
    "\n",
    "leaf_nodes = [node for node, degree in graph.degree if degree == 1]\n",
    "\n",
    "while len(leaf_nodes) > 1:\n",
    "    graph.remove_nodes_from(leaf_nodes)\n",
    "    leaf_nodes = [node for node, degree in graph.degree if degree == 1]"
   ]
  },
  {
   "cell_type": "code",
   "execution_count": 8,
   "metadata": {},
   "outputs": [],
   "source": [
    "# Remove degree-2 nodes*\n",
    "\n",
    "while True:\n",
    "    # Find nodes with degree 2\n",
    "    degree_two_nodes = [node for node, degree in graph.degree if degree == 2]\n",
    "    \n",
    "    # If there are no intermediate nodes to remove, break the loop\n",
    "    if not degree_two_nodes:\n",
    "        break\n",
    "    \n",
    "    # Remove the intermediate nodes\n",
    "    for node in degree_two_nodes:\n",
    "        neighbors = list(graph.neighbors(node))\n",
    "        if len(neighbors) == 2:\n",
    "            graph.add_edge(neighbors[0], neighbors[1])\n",
    "        graph.remove_node(node)\n",
    "        \n",
    "# [node for node in graph if node[0] == 213 and node[1] == 229]"
   ]
  },
  {
   "cell_type": "code",
   "execution_count": null,
   "metadata": {},
   "outputs": [],
   "source": [
    "print_stats(graph)"
   ]
  },
  {
   "cell_type": "code",
   "execution_count": 8,
   "metadata": {},
   "outputs": [],
   "source": [
    "# Create edge 'edge_length' property\n",
    "\n",
    "for edge in graph.edges:\n",
    "    node1, node2 = edge\n",
    "    x1, y1, z1 = node1\n",
    "    x2, y2, z2 = node2\n",
    "    edge_length = np.sqrt((x2 - x1)**2 + (y2 - y1)**2 + (z2 - z1)**2)\n",
    "    graph.edges[edge]['edge_length'] = edge_length"
   ]
  },
  {
   "cell_type": "code",
   "execution_count": null,
   "metadata": {},
   "outputs": [],
   "source": [
    "# for indx, edge in enumerate(graph.edges):\n",
    "#     print(graph.edges[edge])\n",
    "#     if indx==0: break\n",
    "\n",
    "# for indx, node in enumerate(graph.nodes):\n",
    "#     print(graph.nodes[node])\n",
    "#     if indx==0: break"
   ]
  },
  {
   "cell_type": "code",
   "execution_count": 9,
   "metadata": {},
   "outputs": [],
   "source": [
    "# Function: Plot Interactive 3D*\n",
    "\n",
    "def plot_3D(graph):\n",
    "    fig = make_subplots(rows=1, cols=1, specs=[[{'type': 'scatter3d'}]])\n",
    "    x, y, z = zip(*graph.nodes)\n",
    "    \n",
    "    leaf_nodes = [node for node, degree in graph.degree if degree == 1]\n",
    "    \n",
    "    node_trace = go.Scatter3d(\n",
    "        x=x,\n",
    "        y=y,\n",
    "        z=z,\n",
    "        mode='markers',\n",
    "        marker=dict(\n",
    "            size=2,\n",
    "            color=['red' if node in leaf_nodes else 'blue' for node in graph.nodes()],\n",
    "            opacity=0.8\n",
    "        )\n",
    "    )\n",
    "    fig.add_trace(node_trace)\n",
    "\n",
    "    for edge in graph.edges():\n",
    "        x0, y0, z0 = edge[0]\n",
    "        x1, y1, z1 = edge[1]\n",
    "        \n",
    "        edge_length = graph.edges[edge]['edge_length']\n",
    "        edge_text = f'{edge_length:.2f}'  # Display the edge length as text\n",
    "        \n",
    "        edge_trace = go.Scatter3d(\n",
    "            x=[x0, x1],\n",
    "            y=[y0, y1],\n",
    "            z=[z0, z1],\n",
    "            mode='lines',\n",
    "            line=dict(color='orange' if graph.edges[edge]['edge_length'] < 20 else 'gray',\n",
    "                      width=3),\n",
    "            hoverinfo='text',\n",
    "            text=edge_text\n",
    "        )\n",
    "        fig.add_trace(edge_trace)\n",
    "\n",
    "    fig.update_layout(  \n",
    "        scene=dict(\n",
    "        # Set background color to transparent or any color you prefer\n",
    "        bgcolor='rgba(0,0,0,0)',\n",
    "        \n",
    "        # Hide axes\n",
    "        xaxis=dict(showbackground=False, showgrid=False, zeroline=False, showline=False),\n",
    "        yaxis=dict(showbackground=False, showgrid=False, zeroline=False, showline=False),\n",
    "        zaxis=dict(showbackground=False, showgrid=False, zeroline=False, showline=False)\n",
    "        )\n",
    "    )\n",
    "    \n",
    "    fig.update_layout(\n",
    "        margin=dict(l=0, r=0, b=0, t=0),\n",
    "        scene=dict(\n",
    "            xaxis=dict(range=[0, max(x) + 1]),\n",
    "            yaxis=dict(range=[0, max(y) + 1]),\n",
    "            zaxis=dict(range=[0, max(z) + 1])\n",
    "        )\n",
    "    )\n",
    "\n",
    "    fig.show()\n",
    "    return"
   ]
  },
  {
   "cell_type": "code",
   "execution_count": 10,
   "metadata": {},
   "outputs": [
    {
     "name": "stdout",
     "output_type": "stream",
     "text": [
      "Plotting the 3D Graph ..\n"
     ]
    },
    {
     "data": {
      "application/vnd.plotly.v1+json": {
       "config": {
        "plotlyServerURL": "https://plot.ly"
       },
       "data": [
        {
         "marker": {
          "color": [
           "red",
           "red",
           "red",
           "red",
           "red",
           "red",
           "red",
           "red",
           "blue",
           "red",
           "blue",
           "blue",
           "red",
           "red",
           "red",
           "red",
           "red",
           "red",
           "blue",
           "blue",
           "blue",
           "blue",
           "red",
           "red",
           "blue",
           "red",
           "blue",
           "blue",
           "blue",
           "red",
           "blue",
           "blue",
           "blue",
           "red",
           "blue",
           "blue",
           "red",
           "red",
           "red",
           "blue",
           "red",
           "red",
           "blue",
           "blue",
           "blue",
           "red",
           "red",
           "red",
           "blue",
           "red",
           "blue",
           "red",
           "red",
           "blue",
           "blue",
           "blue",
           "blue",
           "blue",
           "red",
           "blue",
           "blue",
           "blue",
           "blue",
           "blue",
           "red",
           "blue",
           "blue",
           "red",
           "blue",
           "red",
           "red",
           "red",
           "red",
           "blue",
           "red",
           "red",
           "blue",
           "blue",
           "blue",
           "blue",
           "red",
           "blue",
           "red",
           "blue",
           "red",
           "red",
           "red",
           "blue",
           "red",
           "blue",
           "blue",
           "blue",
           "blue",
           "blue",
           "blue",
           "red",
           "blue",
           "red",
           "blue",
           "blue",
           "blue",
           "blue",
           "red",
           "blue",
           "blue",
           "blue",
           "red",
           "red",
           "blue",
           "blue",
           "blue",
           "red",
           "blue",
           "blue",
           "red",
           "blue",
           "red",
           "red",
           "red",
           "blue",
           "red",
           "blue",
           "blue",
           "blue",
           "red",
           "red",
           "blue",
           "blue",
           "blue",
           "red",
           "red",
           "blue",
           "blue",
           "blue",
           "blue",
           "blue",
           "blue",
           "blue",
           "blue",
           "blue",
           "red",
           "blue",
           "blue",
           "blue",
           "red",
           "blue",
           "red",
           "blue",
           "blue",
           "blue",
           "blue",
           "blue",
           "blue",
           "blue",
           "red",
           "blue",
           "blue",
           "blue",
           "blue",
           "blue",
           "blue",
           "blue",
           "blue",
           "blue",
           "blue",
           "blue",
           "blue",
           "blue",
           "red",
           "red",
           "blue",
           "blue",
           "blue",
           "red",
           "red",
           "blue",
           "blue",
           "blue",
           "red",
           "red",
           "blue",
           "blue",
           "blue",
           "blue",
           "blue",
           "blue",
           "blue",
           "blue",
           "blue",
           "blue",
           "blue",
           "blue",
           "red",
           "blue",
           "blue",
           "blue",
           "blue",
           "red",
           "blue",
           "blue",
           "blue",
           "red",
           "red",
           "red",
           "red",
           "blue",
           "blue",
           "blue",
           "blue",
           "blue",
           "blue",
           "blue",
           "blue",
           "blue",
           "blue",
           "blue",
           "blue",
           "blue",
           "blue",
           "red",
           "blue",
           "blue",
           "red",
           "red",
           "blue",
           "red",
           "blue",
           "blue",
           "red",
           "blue",
           "blue",
           "blue",
           "red",
           "blue",
           "red",
           "blue",
           "blue",
           "blue",
           "red",
           "red",
           "red",
           "blue",
           "blue",
           "blue",
           "red",
           "red",
           "red",
           "blue",
           "blue",
           "blue",
           "red",
           "blue",
           "blue",
           "blue",
           "blue",
           "blue",
           "blue",
           "red",
           "blue",
           "blue",
           "blue",
           "red",
           "blue",
           "red",
           "blue",
           "red",
           "blue",
           "blue",
           "blue",
           "blue",
           "red",
           "red",
           "blue",
           "red",
           "red",
           "blue",
           "red",
           "red",
           "red",
           "red",
           "red",
           "red",
           "red",
           "blue",
           "red",
           "blue",
           "red",
           "blue",
           "red",
           "blue",
           "blue",
           "blue",
           "blue",
           "blue",
           "blue",
           "blue",
           "blue",
           "blue",
           "blue",
           "blue",
           "red",
           "red",
           "red",
           "blue",
           "red",
           "blue",
           "blue",
           "blue",
           "blue",
           "blue",
           "blue",
           "blue",
           "blue",
           "blue",
           "blue",
           "red",
           "red",
           "red",
           "red",
           "blue",
           "red",
           "blue",
           "red",
           "blue",
           "blue",
           "blue",
           "red",
           "red",
           "blue",
           "blue",
           "blue",
           "blue",
           "blue",
           "blue",
           "blue",
           "blue",
           "blue",
           "blue",
           "blue",
           "blue",
           "blue",
           "blue",
           "blue",
           "red",
           "red",
           "blue",
           "blue",
           "blue",
           "red",
           "red",
           "red",
           "red",
           "blue",
           "blue",
           "blue",
           "blue",
           "blue",
           "blue",
           "blue",
           "blue",
           "blue",
           "red",
           "blue",
           "red",
           "blue",
           "blue",
           "blue",
           "blue",
           "blue",
           "blue",
           "red",
           "red",
           "blue",
           "blue",
           "blue",
           "blue",
           "blue",
           "blue",
           "blue",
           "blue",
           "blue",
           "blue",
           "blue",
           "red",
           "blue",
           "red",
           "red",
           "blue",
           "blue",
           "blue",
           "blue",
           "blue",
           "blue",
           "blue",
           "red",
           "red",
           "blue",
           "blue",
           "red",
           "blue",
           "blue",
           "blue",
           "blue",
           "blue",
           "blue",
           "blue",
           "red",
           "blue",
           "blue",
           "red",
           "red",
           "blue",
           "blue",
           "blue",
           "red",
           "red",
           "blue",
           "red",
           "red",
           "blue",
           "red",
           "blue",
           "blue",
           "blue",
           "red",
           "red",
           "red",
           "red",
           "blue",
           "blue",
           "blue",
           "red",
           "blue",
           "red",
           "red",
           "red",
           "red",
           "blue",
           "red",
           "red",
           "red",
           "blue",
           "blue",
           "red",
           "blue",
           "blue",
           "blue",
           "blue",
           "blue",
           "red",
           "red",
           "red",
           "red",
           "blue",
           "red",
           "red",
           "red",
           "red",
           "red"
          ],
          "opacity": 0.8,
          "size": 2
         },
         "mode": "markers",
         "type": "scatter3d",
         "x": [
          49,
          54,
          57,
          61,
          63,
          73,
          73,
          86,
          87,
          88,
          88,
          88,
          90,
          90,
          90,
          94,
          96,
          97,
          98,
          98,
          99,
          100,
          102,
          102,
          103,
          103,
          104,
          106,
          107,
          107,
          108,
          109,
          109,
          111,
          115,
          118,
          118,
          121,
          123,
          127,
          128,
          128,
          132,
          132,
          133,
          133,
          134,
          138,
          139,
          140,
          141,
          143,
          147,
          147,
          147,
          147,
          148,
          148,
          148,
          148,
          148,
          148,
          149,
          149,
          149,
          151,
          151,
          151,
          152,
          153,
          155,
          165,
          167,
          168,
          170,
          172,
          172,
          173,
          173,
          174,
          175,
          175,
          177,
          178,
          180,
          181,
          182,
          186,
          186,
          188,
          189,
          189,
          190,
          190,
          190,
          191,
          192,
          192,
          192,
          193,
          194,
          194,
          198,
          198,
          199,
          199,
          199,
          199,
          200,
          200,
          200,
          200,
          200,
          201,
          201,
          201,
          203,
          204,
          204,
          204,
          205,
          205,
          206,
          206,
          207,
          207,
          207,
          207,
          207,
          207,
          208,
          208,
          208,
          208,
          208,
          208,
          209,
          209,
          209,
          209,
          209,
          210,
          210,
          210,
          210,
          211,
          211,
          211,
          211,
          212,
          213,
          214,
          214,
          214,
          215,
          216,
          216,
          217,
          217,
          217,
          217,
          218,
          218,
          219,
          220,
          220,
          221,
          221,
          221,
          221,
          222,
          222,
          223,
          224,
          224,
          224,
          225,
          225,
          226,
          226,
          228,
          228,
          229,
          229,
          229,
          229,
          229,
          230,
          230,
          230,
          230,
          231,
          231,
          232,
          232,
          232,
          233,
          235,
          237,
          237,
          238,
          239,
          239,
          239,
          240,
          240,
          240,
          241,
          241,
          242,
          242,
          242,
          242,
          242,
          242,
          242,
          243,
          243,
          243,
          245,
          246,
          247,
          247,
          247,
          248,
          248,
          248,
          248,
          248,
          249,
          249,
          249,
          250,
          254,
          254,
          256,
          256,
          257,
          260,
          261,
          263,
          264,
          265,
          265,
          268,
          278,
          281,
          306,
          306,
          307,
          340,
          340,
          340,
          341,
          355,
          356,
          356,
          356,
          359,
          360,
          360,
          360,
          365,
          366,
          368,
          368,
          369,
          369,
          384,
          384,
          385,
          404,
          425,
          426,
          428,
          429,
          431,
          431,
          437,
          437,
          438,
          440,
          441,
          445,
          445,
          446,
          447,
          447,
          447,
          448,
          448,
          448,
          449,
          449,
          449,
          449,
          450,
          450,
          450,
          450,
          451,
          451,
          451,
          452,
          452,
          453,
          460,
          463,
          464,
          465,
          466,
          466,
          467,
          468,
          471,
          471,
          471,
          473,
          473,
          473,
          473,
          474,
          474,
          475,
          475,
          475,
          476,
          476,
          477,
          478,
          478,
          480,
          480,
          481,
          481,
          482,
          482,
          482,
          482,
          482,
          482,
          482,
          482,
          482,
          483,
          483,
          483,
          484,
          486,
          487,
          488,
          489,
          490,
          493,
          493,
          493,
          494,
          494,
          494,
          494,
          494,
          495,
          497,
          497,
          498,
          498,
          498,
          499,
          499,
          499,
          499,
          500,
          500,
          501,
          501,
          502,
          503,
          504,
          504,
          507,
          507,
          507,
          508,
          508,
          508,
          508,
          510,
          514,
          514,
          515,
          516,
          517,
          517,
          518,
          518,
          525,
          526,
          526,
          526,
          527,
          527,
          527,
          527,
          527,
          528,
          528,
          528,
          529,
          529,
          530,
          531,
          532,
          532,
          533,
          533,
          533,
          533,
          534,
          547,
          547,
          548,
          548,
          549,
          549,
          557,
          560,
          560,
          561,
          562,
          563,
          563,
          566,
          571,
          573,
          573,
          573,
          576,
          577,
          580,
          582,
          583,
          583,
          583,
          583,
          584,
          584,
          584,
          585,
          586,
          587,
          589,
          591,
          593,
          595,
          599,
          601,
          607,
          616,
          628
         ],
         "y": [
          268,
          323,
          233,
          156,
          313,
          269,
          356,
          175,
          262,
          254,
          262,
          263,
          226,
          270,
          321,
          135,
          258,
          120,
          256,
          256,
          256,
          343,
          214,
          324,
          149,
          163,
          304,
          152,
          187,
          218,
          168,
          167,
          168,
          140,
          223,
          249,
          366,
          361,
          377,
          224,
          321,
          441,
          368,
          369,
          369,
          416,
          366,
          255,
          246,
          243,
          252,
          267,
          146,
          331,
          362,
          362,
          237,
          319,
          330,
          331,
          332,
          361,
          319,
          320,
          360,
          259,
          260,
          428,
          260,
          431,
          277,
          132,
          454,
          234,
          409,
          197,
          369,
          369,
          370,
          317,
          265,
          402,
          376,
          380,
          409,
          198,
          81,
          320,
          368,
          421,
          432,
          432,
          300,
          361,
          433,
          246,
          269,
          307,
          317,
          241,
          242,
          269,
          107,
          183,
          134,
          135,
          328,
          455,
          134,
          226,
          227,
          277,
          338,
          226,
          232,
          237,
          194,
          323,
          361,
          387,
          188,
          238,
          204,
          236,
          115,
          338,
          345,
          345,
          367,
          453,
          231,
          232,
          233,
          337,
          346,
          367,
          232,
          315,
          331,
          347,
          464,
          140,
          141,
          327,
          331,
          140,
          226,
          360,
          361,
          361,
          244,
          197,
          243,
          244,
          455,
          202,
          229,
          202,
          203,
          312,
          340,
          438,
          438,
          437,
          308,
          308,
          198,
          307,
          359,
          429,
          387,
          388,
          388,
          98,
          125,
          388,
          259,
          260,
          180,
          320,
          318,
          345,
          322,
          345,
          346,
          346,
          422,
          346,
          422,
          423,
          446,
          269,
          446,
          368,
          422,
          423,
          423,
          156,
          291,
          292,
          292,
          332,
          366,
          460,
          298,
          312,
          345,
          296,
          385,
          296,
          297,
          385,
          385,
          386,
          456,
          457,
          386,
          386,
          457,
          410,
          389,
          437,
          447,
          457,
          321,
          360,
          386,
          387,
          459,
          320,
          320,
          386,
          443,
          298,
          397,
          290,
          291,
          290,
          345,
          371,
          365,
          287,
          287,
          288,
          300,
          359,
          366,
          281,
          282,
          281,
          254,
          255,
          256,
          255,
          239,
          239,
          240,
          241,
          236,
          235,
          236,
          238,
          229,
          231,
          225,
          226,
          224,
          225,
          202,
          203,
          203,
          136,
          304,
          183,
          440,
          422,
          387,
          431,
          118,
          315,
          442,
          254,
          428,
          393,
          449,
          391,
          246,
          249,
          358,
          132,
          409,
          436,
          132,
          133,
          408,
          409,
          247,
          248,
          248,
          294,
          120,
          370,
          434,
          328,
          344,
          386,
          436,
          391,
          390,
          270,
          270,
          271,
          414,
          294,
          301,
          436,
          442,
          111,
          247,
          333,
          438,
          169,
          342,
          169,
          170,
          332,
          296,
          345,
          282,
          358,
          364,
          339,
          370,
          123,
          182,
          126,
          183,
          183,
          184,
          184,
          185,
          372,
          373,
          440,
          102,
          260,
          261,
          261,
          118,
          147,
          382,
          437,
          326,
          258,
          323,
          353,
          257,
          258,
          322,
          323,
          389,
          362,
          371,
          399,
          295,
          305,
          334,
          295,
          296,
          339,
          424,
          182,
          315,
          344,
          344,
          345,
          347,
          347,
          348,
          285,
          306,
          307,
          275,
          276,
          307,
          366,
          270,
          418,
          419,
          418,
          299,
          382,
          383,
          383,
          394,
          257,
          339,
          340,
          425,
          331,
          339,
          345,
          346,
          354,
          269,
          345,
          452,
          269,
          269,
          365,
          395,
          254,
          255,
          255,
          320,
          371,
          442,
          329,
          266,
          315,
          113,
          244,
          243,
          244,
          369,
          398,
          441,
          355,
          269,
          268,
          269,
          325,
          214,
          205,
          311,
          361,
          210,
          271,
          281,
          271,
          256,
          273,
          273,
          383,
          183,
          184,
          273,
          184,
          214,
          163,
          207,
          271,
          210,
          302,
          175,
          232,
          220,
          281,
          290
         ],
         "z": [
          201,
          242,
          262,
          212,
          172,
          293,
          225,
          286,
          289,
          360,
          288,
          288,
          299,
          289,
          362,
          229,
          368,
          247,
          364,
          365,
          364,
          243,
          373,
          395,
          246,
          296,
          229,
          248,
          290,
          358,
          249,
          249,
          249,
          252,
          362,
          278,
          386,
          307,
          307,
          290,
          418,
          175,
          306,
          305,
          305,
          141,
          211,
          292,
          284,
          409,
          367,
          425,
          344,
          372,
          214,
          215,
          280,
          418,
          441,
          372,
          373,
          215,
          418,
          419,
          209,
          407,
          408,
          306,
          407,
          347,
          220,
          216,
          113,
          273,
          254,
          392,
          306,
          307,
          306,
          385,
          348,
          345,
          175,
          185,
          352,
          406,
          251,
          369,
          419,
          188,
          175,
          176,
          212,
          317,
          175,
          440,
          371,
          201,
          233,
          277,
          278,
          373,
          219,
          266,
          260,
          261,
          488,
          166,
          260,
          256,
          257,
          433,
          243,
          257,
          438,
          429,
          228,
          351,
          390,
          197,
          395,
          411,
          347,
          420,
          332,
          268,
          258,
          259,
          242,
          326,
          423,
          422,
          421,
          267,
          259,
          243,
          421,
          353,
          271,
          387,
          303,
          337,
          337,
          274,
          270,
          337,
          425,
          253,
          252,
          252,
          392,
          388,
          392,
          392,
          86,
          380,
          372,
          379,
          379,
          350,
          312,
          312,
          313,
          312,
          294,
          295,
          393,
          294,
          469,
          218,
          214,
          213,
          213,
          239,
          332,
          212,
          364,
          363,
          375,
          485,
          461,
          311,
          481,
          311,
          310,
          312,
          220,
          311,
          219,
          219,
          96,
          364,
          95,
          254,
          309,
          309,
          309,
          389,
          298,
          298,
          298,
          508,
          395,
          193,
          205,
          209,
          438,
          417,
          189,
          417,
          418,
          175,
          189,
          188,
          193,
          192,
          175,
          176,
          192,
          353,
          168,
          314,
          324,
          190,
          400,
          145,
          342,
          342,
          297,
          400,
          401,
          343,
          260,
          382,
          360,
          305,
          304,
          304,
          312,
          468,
          234,
          355,
          355,
          356,
          163,
          165,
          108,
          320,
          321,
          320,
          325,
          326,
          327,
          327,
          329,
          330,
          330,
          331,
          330,
          331,
          331,
          333,
          332,
          334,
          332,
          334,
          333,
          333,
          342,
          343,
          344,
          313,
          357,
          423,
          149,
          147,
          100,
          131,
          358,
          481,
          245,
          457,
          332,
          141,
          273,
          159,
          460,
          453,
          249,
          361,
          337,
          268,
          362,
          361,
          337,
          338,
          441,
          440,
          441,
          365,
          375,
          155,
          44,
          339,
          185,
          174,
          64,
          201,
          206,
          425,
          426,
          425,
          276,
          378,
          385,
          384,
          56,
          325,
          434,
          314,
          175,
          357,
          381,
          358,
          357,
          469,
          499,
          479,
          383,
          311,
          310,
          356,
          306,
          327,
          341,
          324,
          340,
          341,
          337,
          338,
          337,
          231,
          230,
          203,
          311,
          340,
          340,
          340,
          330,
          381,
          446,
          276,
          291,
          334,
          288,
          254,
          333,
          334,
          288,
          287,
          174,
          370,
          431,
          134,
          296,
          289,
          362,
          295,
          295,
          368,
          318,
          365,
          261,
          385,
          386,
          386,
          237,
          236,
          237,
          398,
          230,
          231,
          427,
          428,
          231,
          444,
          428,
          143,
          142,
          143,
          188,
          237,
          237,
          236,
          243,
          151,
          259,
          260,
          147,
          360,
          259,
          266,
          266,
          201,
          329,
          267,
          62,
          329,
          330,
          406,
          225,
          284,
          284,
          284,
          449,
          264,
          107,
          364,
          347,
          214,
          285,
          241,
          240,
          241,
          287,
          164,
          66,
          351,
          316,
          316,
          315,
          193,
          210,
          210,
          330,
          245,
          201,
          170,
          300,
          150,
          314,
          163,
          164,
          122,
          260,
          261,
          163,
          260,
          218,
          254,
          219,
          161,
          209,
          209,
          255,
          249,
          147,
          180,
          210
         ]
        },
        {
         "hoverinfo": "text",
         "line": {
          "color": "gray",
          "width": 3
         },
         "mode": "lines",
         "text": "71.45",
         "type": "scatter3d",
         "x": [
          49,
          104
         ],
         "y": [
          268,
          304
         ],
         "z": [
          201,
          229
         ]
        },
        {
         "hoverinfo": "text",
         "line": {
          "color": "gray",
          "width": 3
         },
         "mode": "lines",
         "text": "50.17",
         "type": "scatter3d",
         "x": [
          54,
          100
         ],
         "y": [
          323,
          343
         ],
         "z": [
          242,
          243
         ]
        },
        {
         "hoverinfo": "text",
         "line": {
          "color": "gray",
          "width": 3
         },
         "mode": "lines",
         "text": "65.06",
         "type": "scatter3d",
         "x": [
          57,
          118
         ],
         "y": [
          233,
          249
         ],
         "z": [
          262,
          278
         ]
        },
        {
         "hoverinfo": "text",
         "line": {
          "color": "gray",
          "width": 3
         },
         "mode": "lines",
         "text": "61.01",
         "type": "scatter3d",
         "x": [
          61,
          108
         ],
         "y": [
          156,
          168
         ],
         "z": [
          212,
          249
         ]
        },
        {
         "hoverinfo": "text",
         "line": {
          "color": "gray",
          "width": 3
         },
         "mode": "lines",
         "text": "70.79",
         "type": "scatter3d",
         "x": [
          63,
          104
         ],
         "y": [
          313,
          304
         ],
         "z": [
          172,
          229
         ]
        },
        {
         "hoverinfo": "text",
         "line": {
          "color": "orange",
          "width": 3
         },
         "mode": "lines",
         "text": "16.16",
         "type": "scatter3d",
         "x": [
          73,
          87
         ],
         "y": [
          269,
          262
         ],
         "z": [
          293,
          289
         ]
        },
        {
         "hoverinfo": "text",
         "line": {
          "color": "gray",
          "width": 3
         },
         "mode": "lines",
         "text": "34.96",
         "type": "scatter3d",
         "x": [
          73,
          100
         ],
         "y": [
          356,
          343
         ],
         "z": [
          225,
          243
         ]
        },
        {
         "hoverinfo": "text",
         "line": {
          "color": "gray",
          "width": 3
         },
         "mode": "lines",
         "text": "24.52",
         "type": "scatter3d",
         "x": [
          86,
          107
         ],
         "y": [
          175,
          187
         ],
         "z": [
          286,
          290
         ]
        },
        {
         "hoverinfo": "text",
         "line": {
          "color": "orange",
          "width": 3
         },
         "mode": "lines",
         "text": "1.41",
         "type": "scatter3d",
         "x": [
          87,
          88
         ],
         "y": [
          262,
          262
         ],
         "z": [
          289,
          288
         ]
        },
        {
         "hoverinfo": "text",
         "line": {
          "color": "orange",
          "width": 3
         },
         "mode": "lines",
         "text": "1.73",
         "type": "scatter3d",
         "x": [
          87,
          88
         ],
         "y": [
          262,
          263
         ],
         "z": [
          289,
          288
         ]
        },
        {
         "hoverinfo": "text",
         "line": {
          "color": "orange",
          "width": 3
         },
         "mode": "lines",
         "text": "10.95",
         "type": "scatter3d",
         "x": [
          88,
          98
         ],
         "y": [
          254,
          256
         ],
         "z": [
          360,
          364
         ]
        },
        {
         "hoverinfo": "text",
         "line": {
          "color": "orange",
          "width": 3
         },
         "mode": "lines",
         "text": "1.00",
         "type": "scatter3d",
         "x": [
          88,
          88
         ],
         "y": [
          262,
          263
         ],
         "z": [
          288,
          288
         ]
        },
        {
         "hoverinfo": "text",
         "line": {
          "color": "gray",
          "width": 3
         },
         "mode": "lines",
         "text": "34.19",
         "type": "scatter3d",
         "x": [
          88,
          118
         ],
         "y": [
          262,
          249
         ],
         "z": [
          288,
          278
         ]
        },
        {
         "hoverinfo": "text",
         "line": {
          "color": "orange",
          "width": 3
         },
         "mode": "lines",
         "text": "7.35",
         "type": "scatter3d",
         "x": [
          88,
          90
         ],
         "y": [
          263,
          270
         ],
         "z": [
          288,
          289
         ]
        },
        {
         "hoverinfo": "text",
         "line": {
          "color": "gray",
          "width": 3
         },
         "mode": "lines",
         "text": "38.13",
         "type": "scatter3d",
         "x": [
          90,
          127
         ],
         "y": [
          226,
          224
         ],
         "z": [
          299,
          290
         ]
        },
        {
         "hoverinfo": "text",
         "line": {
          "color": "gray",
          "width": 3
         },
         "mode": "lines",
         "text": "58.73",
         "type": "scatter3d",
         "x": [
          90,
          147
         ],
         "y": [
          321,
          331
         ],
         "z": [
          362,
          372
         ]
        },
        {
         "hoverinfo": "text",
         "line": {
          "color": "gray",
          "width": 3
         },
         "mode": "lines",
         "text": "23.79",
         "type": "scatter3d",
         "x": [
          94,
          103
         ],
         "y": [
          135,
          149
         ],
         "z": [
          229,
          246
         ]
        },
        {
         "hoverinfo": "text",
         "line": {
          "color": "orange",
          "width": 3
         },
         "mode": "lines",
         "text": "4.12",
         "type": "scatter3d",
         "x": [
          96,
          98
         ],
         "y": [
          258,
          256
         ],
         "z": [
          368,
          365
         ]
        },
        {
         "hoverinfo": "text",
         "line": {
          "color": "gray",
          "width": 3
         },
         "mode": "lines",
         "text": "29.63",
         "type": "scatter3d",
         "x": [
          97,
          103
         ],
         "y": [
          120,
          149
         ],
         "z": [
          247,
          246
         ]
        },
        {
         "hoverinfo": "text",
         "line": {
          "color": "orange",
          "width": 3
         },
         "mode": "lines",
         "text": "1.00",
         "type": "scatter3d",
         "x": [
          98,
          98
         ],
         "y": [
          256,
          256
         ],
         "z": [
          364,
          365
         ]
        },
        {
         "hoverinfo": "text",
         "line": {
          "color": "orange",
          "width": 3
         },
         "mode": "lines",
         "text": "1.00",
         "type": "scatter3d",
         "x": [
          98,
          99
         ],
         "y": [
          256,
          256
         ],
         "z": [
          364,
          364
         ]
        },
        {
         "hoverinfo": "text",
         "line": {
          "color": "orange",
          "width": 3
         },
         "mode": "lines",
         "text": "1.41",
         "type": "scatter3d",
         "x": [
          98,
          99
         ],
         "y": [
          256,
          256
         ],
         "z": [
          365,
          364
         ]
        },
        {
         "hoverinfo": "text",
         "line": {
          "color": "gray",
          "width": 3
         },
         "mode": "lines",
         "text": "42.30",
         "type": "scatter3d",
         "x": [
          99,
          141
         ],
         "y": [
          256,
          252
         ],
         "z": [
          364,
          367
         ]
        },
        {
         "hoverinfo": "text",
         "line": {
          "color": "gray",
          "width": 3
         },
         "mode": "lines",
         "text": "100.12",
         "type": "scatter3d",
         "x": [
          100,
          200
         ],
         "y": [
          343,
          338
         ],
         "z": [
          243,
          243
         ]
        },
        {
         "hoverinfo": "text",
         "line": {
          "color": "orange",
          "width": 3
         },
         "mode": "lines",
         "text": "19.26",
         "type": "scatter3d",
         "x": [
          102,
          115
         ],
         "y": [
          214,
          223
         ],
         "z": [
          373,
          362
         ]
        },
        {
         "hoverinfo": "text",
         "line": {
          "color": "gray",
          "width": 3
         },
         "mode": "lines",
         "text": "73.03",
         "type": "scatter3d",
         "x": [
          102,
          174
         ],
         "y": [
          324,
          317
         ],
         "z": [
          395,
          385
         ]
        },
        {
         "hoverinfo": "text",
         "line": {
          "color": "orange",
          "width": 3
         },
         "mode": "lines",
         "text": "4.69",
         "type": "scatter3d",
         "x": [
          103,
          106
         ],
         "y": [
          149,
          152
         ],
         "z": [
          246,
          248
         ]
        },
        {
         "hoverinfo": "text",
         "line": {
          "color": "gray",
          "width": 3
         },
         "mode": "lines",
         "text": "25.06",
         "type": "scatter3d",
         "x": [
          103,
          107
         ],
         "y": [
          163,
          187
         ],
         "z": [
          296,
          290
         ]
        },
        {
         "hoverinfo": "text",
         "line": {
          "color": "gray",
          "width": 3
         },
         "mode": "lines",
         "text": "89.04",
         "type": "scatter3d",
         "x": [
          104,
          192
         ],
         "y": [
          304,
          317
         ],
         "z": [
          229,
          233
         ]
        },
        {
         "hoverinfo": "text",
         "line": {
          "color": "orange",
          "width": 3
         },
         "mode": "lines",
         "text": "15.33",
         "type": "scatter3d",
         "x": [
          106,
          109
         ],
         "y": [
          152,
          167
         ],
         "z": [
          248,
          249
         ]
        },
        {
         "hoverinfo": "text",
         "line": {
          "color": "orange",
          "width": 3
         },
         "mode": "lines",
         "text": "13.60",
         "type": "scatter3d",
         "x": [
          106,
          111
         ],
         "y": [
          152,
          140
         ],
         "z": [
          248,
          252
         ]
        },
        {
         "hoverinfo": "text",
         "line": {
          "color": "gray",
          "width": 3
         },
         "mode": "lines",
         "text": "42.06",
         "type": "scatter3d",
         "x": [
          107,
          127
         ],
         "y": [
          187,
          224
         ],
         "z": [
          290,
          290
         ]
        },
        {
         "hoverinfo": "text",
         "line": {
          "color": "orange",
          "width": 3
         },
         "mode": "lines",
         "text": "10.25",
         "type": "scatter3d",
         "x": [
          107,
          115
         ],
         "y": [
          218,
          223
         ],
         "z": [
          358,
          362
         ]
        },
        {
         "hoverinfo": "text",
         "line": {
          "color": "orange",
          "width": 3
         },
         "mode": "lines",
         "text": "1.41",
         "type": "scatter3d",
         "x": [
          108,
          109
         ],
         "y": [
          168,
          167
         ],
         "z": [
          249,
          249
         ]
        },
        {
         "hoverinfo": "text",
         "line": {
          "color": "orange",
          "width": 3
         },
         "mode": "lines",
         "text": "1.00",
         "type": "scatter3d",
         "x": [
          108,
          109
         ],
         "y": [
          168,
          168
         ],
         "z": [
          249,
          249
         ]
        },
        {
         "hoverinfo": "text",
         "line": {
          "color": "orange",
          "width": 3
         },
         "mode": "lines",
         "text": "1.00",
         "type": "scatter3d",
         "x": [
          109,
          109
         ],
         "y": [
          167,
          168
         ],
         "z": [
          249,
          249
         ]
        },
        {
         "hoverinfo": "text",
         "line": {
          "color": "gray",
          "width": 3
         },
         "mode": "lines",
         "text": "91.72",
         "type": "scatter3d",
         "x": [
          109,
          168
         ],
         "y": [
          168,
          234
         ],
         "z": [
          249,
          273
         ]
        },
        {
         "hoverinfo": "text",
         "line": {
          "color": "gray",
          "width": 3
         },
         "mode": "lines",
         "text": "39.27",
         "type": "scatter3d",
         "x": [
          115,
          141
         ],
         "y": [
          223,
          252
         ],
         "z": [
          362,
          367
         ]
        },
        {
         "hoverinfo": "text",
         "line": {
          "color": "gray",
          "width": 3
         },
         "mode": "lines",
         "text": "22.05",
         "type": "scatter3d",
         "x": [
          118,
          139
         ],
         "y": [
          249,
          246
         ],
         "z": [
          278,
          284
         ]
        },
        {
         "hoverinfo": "text",
         "line": {
          "color": "gray",
          "width": 3
         },
         "mode": "lines",
         "text": "47.17",
         "type": "scatter3d",
         "x": [
          118,
          148
         ],
         "y": [
          366,
          332
         ],
         "z": [
          386,
          373
         ]
        },
        {
         "hoverinfo": "text",
         "line": {
          "color": "orange",
          "width": 3
         },
         "mode": "lines",
         "text": "13.08",
         "type": "scatter3d",
         "x": [
          121,
          132
         ],
         "y": [
          361,
          368
         ],
         "z": [
          307,
          306
         ]
        },
        {
         "hoverinfo": "text",
         "line": {
          "color": "orange",
          "width": 3
         },
         "mode": "lines",
         "text": "12.21",
         "type": "scatter3d",
         "x": [
          123,
          132
         ],
         "y": [
          377,
          369
         ],
         "z": [
          307,
          305
         ]
        },
        {
         "hoverinfo": "text",
         "line": {
          "color": "gray",
          "width": 3
         },
         "mode": "lines",
         "text": "26.65",
         "type": "scatter3d",
         "x": [
          127,
          148
         ],
         "y": [
          224,
          237
         ],
         "z": [
          290,
          280
         ]
        },
        {
         "hoverinfo": "text",
         "line": {
          "color": "gray",
          "width": 3
         },
         "mode": "lines",
         "text": "20.10",
         "type": "scatter3d",
         "x": [
          128,
          148
         ],
         "y": [
          321,
          319
         ],
         "z": [
          418,
          418
         ]
        },
        {
         "hoverinfo": "text",
         "line": {
          "color": "gray",
          "width": 3
         },
         "mode": "lines",
         "text": "64.57",
         "type": "scatter3d",
         "x": [
          128,
          188
         ],
         "y": [
          441,
          421
         ],
         "z": [
          175,
          188
         ]
        },
        {
         "hoverinfo": "text",
         "line": {
          "color": "orange",
          "width": 3
         },
         "mode": "lines",
         "text": "1.41",
         "type": "scatter3d",
         "x": [
          132,
          132
         ],
         "y": [
          368,
          369
         ],
         "z": [
          306,
          305
         ]
        },
        {
         "hoverinfo": "text",
         "line": {
          "color": "orange",
          "width": 3
         },
         "mode": "lines",
         "text": "1.73",
         "type": "scatter3d",
         "x": [
          132,
          133
         ],
         "y": [
          368,
          369
         ],
         "z": [
          306,
          305
         ]
        },
        {
         "hoverinfo": "text",
         "line": {
          "color": "orange",
          "width": 3
         },
         "mode": "lines",
         "text": "1.00",
         "type": "scatter3d",
         "x": [
          132,
          133
         ],
         "y": [
          369,
          369
         ],
         "z": [
          305,
          305
         ]
        },
        {
         "hoverinfo": "text",
         "line": {
          "color": "gray",
          "width": 3
         },
         "mode": "lines",
         "text": "39.01",
         "type": "scatter3d",
         "x": [
          133,
          172
         ],
         "y": [
          369,
          369
         ],
         "z": [
          305,
          306
         ]
        },
        {
         "hoverinfo": "text",
         "line": {
          "color": "gray",
          "width": 3
         },
         "mode": "lines",
         "text": "72.51",
         "type": "scatter3d",
         "x": [
          133,
          178
         ],
         "y": [
          416,
          380
         ],
         "z": [
          141,
          185
         ]
        },
        {
         "hoverinfo": "text",
         "line": {
          "color": "orange",
          "width": 3
         },
         "mode": "lines",
         "text": "14.18",
         "type": "scatter3d",
         "x": [
          134,
          147
         ],
         "y": [
          366,
          362
         ],
         "z": [
          211,
          215
         ]
        },
        {
         "hoverinfo": "text",
         "line": {
          "color": "orange",
          "width": 3
         },
         "mode": "lines",
         "text": "12.08",
         "type": "scatter3d",
         "x": [
          138,
          139
         ],
         "y": [
          255,
          246
         ],
         "z": [
          292,
          284
         ]
        },
        {
         "hoverinfo": "text",
         "line": {
          "color": "orange",
          "width": 3
         },
         "mode": "lines",
         "text": "13.34",
         "type": "scatter3d",
         "x": [
          139,
          148
         ],
         "y": [
          246,
          237
         ],
         "z": [
          284,
          280
         ]
        },
        {
         "hoverinfo": "text",
         "line": {
          "color": "orange",
          "width": 3
         },
         "mode": "lines",
         "text": "19.52",
         "type": "scatter3d",
         "x": [
          140,
          151
         ],
         "y": [
          243,
          259
         ],
         "z": [
          409,
          407
         ]
        },
        {
         "hoverinfo": "text",
         "line": {
          "color": "gray",
          "width": 3
         },
         "mode": "lines",
         "text": "53.91",
         "type": "scatter3d",
         "x": [
          141,
          192
         ],
         "y": [
          252,
          269
         ],
         "z": [
          367,
          371
         ]
        },
        {
         "hoverinfo": "text",
         "line": {
          "color": "gray",
          "width": 3
         },
         "mode": "lines",
         "text": "20.05",
         "type": "scatter3d",
         "x": [
          143,
          151
         ],
         "y": [
          267,
          260
         ],
         "z": [
          425,
          408
         ]
        },
        {
         "hoverinfo": "text",
         "line": {
          "color": "gray",
          "width": 3
         },
         "mode": "lines",
         "text": "82.79",
         "type": "scatter3d",
         "x": [
          147,
          206
         ],
         "y": [
          146,
          204
         ],
         "z": [
          344,
          347
         ]
        },
        {
         "hoverinfo": "text",
         "line": {
          "color": "orange",
          "width": 3
         },
         "mode": "lines",
         "text": "1.00",
         "type": "scatter3d",
         "x": [
          147,
          148
         ],
         "y": [
          331,
          331
         ],
         "z": [
          372,
          372
         ]
        },
        {
         "hoverinfo": "text",
         "line": {
          "color": "orange",
          "width": 3
         },
         "mode": "lines",
         "text": "1.73",
         "type": "scatter3d",
         "x": [
          147,
          148
         ],
         "y": [
          331,
          332
         ],
         "z": [
          372,
          373
         ]
        },
        {
         "hoverinfo": "text",
         "line": {
          "color": "orange",
          "width": 3
         },
         "mode": "lines",
         "text": "1.00",
         "type": "scatter3d",
         "x": [
          147,
          147
         ],
         "y": [
          362,
          362
         ],
         "z": [
          214,
          215
         ]
        },
        {
         "hoverinfo": "text",
         "line": {
          "color": "orange",
          "width": 3
         },
         "mode": "lines",
         "text": "1.73",
         "type": "scatter3d",
         "x": [
          147,
          148
         ],
         "y": [
          362,
          361
         ],
         "z": [
          214,
          215
         ]
        },
        {
         "hoverinfo": "text",
         "line": {
          "color": "orange",
          "width": 3
         },
         "mode": "lines",
         "text": "5.74",
         "type": "scatter3d",
         "x": [
          147,
          149
         ],
         "y": [
          362,
          360
         ],
         "z": [
          214,
          209
         ]
        },
        {
         "hoverinfo": "text",
         "line": {
          "color": "orange",
          "width": 3
         },
         "mode": "lines",
         "text": "1.41",
         "type": "scatter3d",
         "x": [
          147,
          148
         ],
         "y": [
          362,
          361
         ],
         "z": [
          215,
          215
         ]
        },
        {
         "hoverinfo": "text",
         "line": {
          "color": "gray",
          "width": 3
         },
         "mode": "lines",
         "text": "21.40",
         "type": "scatter3d",
         "x": [
          148,
          168
         ],
         "y": [
          237,
          234
         ],
         "z": [
          280,
          273
         ]
        },
        {
         "hoverinfo": "text",
         "line": {
          "color": "orange",
          "width": 3
         },
         "mode": "lines",
         "text": "1.00",
         "type": "scatter3d",
         "x": [
          148,
          149
         ],
         "y": [
          319,
          319
         ],
         "z": [
          418,
          418
         ]
        },
        {
         "hoverinfo": "text",
         "line": {
          "color": "orange",
          "width": 3
         },
         "mode": "lines",
         "text": "1.73",
         "type": "scatter3d",
         "x": [
          148,
          149
         ],
         "y": [
          319,
          320
         ],
         "z": [
          418,
          419
         ]
        },
        {
         "hoverinfo": "text",
         "line": {
          "color": "gray",
          "width": 3
         },
         "mode": "lines",
         "text": "24.19",
         "type": "scatter3d",
         "x": [
          148,
          149
         ],
         "y": [
          330,
          320
         ],
         "z": [
          441,
          419
         ]
        },
        {
         "hoverinfo": "text",
         "line": {
          "color": "orange",
          "width": 3
         },
         "mode": "lines",
         "text": "1.41",
         "type": "scatter3d",
         "x": [
          148,
          148
         ],
         "y": [
          331,
          332
         ],
         "z": [
          372,
          373
         ]
        },
        {
         "hoverinfo": "text",
         "line": {
          "color": "gray",
          "width": 3
         },
         "mode": "lines",
         "text": "39.67",
         "type": "scatter3d",
         "x": [
          148,
          186
         ],
         "y": [
          331,
          320
         ],
         "z": [
          372,
          369
         ]
        },
        {
         "hoverinfo": "text",
         "line": {
          "color": "gray",
          "width": 3
         },
         "mode": "lines",
         "text": "65.16",
         "type": "scatter3d",
         "x": [
          148,
          207
         ],
         "y": [
          361,
          367
         ],
         "z": [
          215,
          242
         ]
        },
        {
         "hoverinfo": "text",
         "line": {
          "color": "orange",
          "width": 3
         },
         "mode": "lines",
         "text": "1.41",
         "type": "scatter3d",
         "x": [
          149,
          149
         ],
         "y": [
          319,
          320
         ],
         "z": [
          418,
          419
         ]
        },
        {
         "hoverinfo": "text",
         "line": {
          "color": "gray",
          "width": 3
         },
         "mode": "lines",
         "text": "41.45",
         "type": "scatter3d",
         "x": [
          149,
          174
         ],
         "y": [
          319,
          317
         ],
         "z": [
          418,
          385
         ]
        },
        {
         "hoverinfo": "text",
         "line": {
          "color": "orange",
          "width": 3
         },
         "mode": "lines",
         "text": "1.41",
         "type": "scatter3d",
         "x": [
          151,
          151
         ],
         "y": [
          259,
          260
         ],
         "z": [
          407,
          408
         ]
        },
        {
         "hoverinfo": "text",
         "line": {
          "color": "orange",
          "width": 3
         },
         "mode": "lines",
         "text": "1.41",
         "type": "scatter3d",
         "x": [
          151,
          152
         ],
         "y": [
          259,
          260
         ],
         "z": [
          407,
          407
         ]
        },
        {
         "hoverinfo": "text",
         "line": {
          "color": "orange",
          "width": 3
         },
         "mode": "lines",
         "text": "1.41",
         "type": "scatter3d",
         "x": [
          151,
          152
         ],
         "y": [
          260,
          260
         ],
         "z": [
          408,
          407
         ]
        },
        {
         "hoverinfo": "text",
         "line": {
          "color": "gray",
          "width": 3
         },
         "mode": "lines",
         "text": "62.03",
         "type": "scatter3d",
         "x": [
          151,
          173
         ],
         "y": [
          428,
          370
         ],
         "z": [
          306,
          306
         ]
        },
        {
         "hoverinfo": "text",
         "line": {
          "color": "gray",
          "width": 3
         },
         "mode": "lines",
         "text": "54.78",
         "type": "scatter3d",
         "x": [
          152,
          194
         ],
         "y": [
          260,
          269
         ],
         "z": [
          407,
          373
         ]
        },
        {
         "hoverinfo": "text",
         "line": {
          "color": "gray",
          "width": 3
         },
         "mode": "lines",
         "text": "36.46",
         "type": "scatter3d",
         "x": [
          153,
          175
         ],
         "y": [
          431,
          402
         ],
         "z": [
          347,
          345
         ]
        },
        {
         "hoverinfo": "text",
         "line": {
          "color": "gray",
          "width": 3
         },
         "mode": "lines",
         "text": "42.64",
         "type": "scatter3d",
         "x": [
          155,
          190
         ],
         "y": [
          277,
          300
         ],
         "z": [
          220,
          212
         ]
        },
        {
         "hoverinfo": "text",
         "line": {
          "color": "gray",
          "width": 3
         },
         "mode": "lines",
         "text": "108.69",
         "type": "scatter3d",
         "x": [
          165,
          201
         ],
         "y": [
          132,
          226
         ],
         "z": [
          216,
          257
         ]
        },
        {
         "hoverinfo": "text",
         "line": {
          "color": "gray",
          "width": 3
         },
         "mode": "lines",
         "text": "69.37",
         "type": "scatter3d",
         "x": [
          167,
          189
         ],
         "y": [
          454,
          432
         ],
         "z": [
          113,
          175
         ]
        },
        {
         "hoverinfo": "text",
         "line": {
          "color": "gray",
          "width": 3
         },
         "mode": "lines",
         "text": "26.27",
         "type": "scatter3d",
         "x": [
          168,
          193
         ],
         "y": [
          234,
          241
         ],
         "z": [
          273,
          277
         ]
        },
        {
         "hoverinfo": "text",
         "line": {
          "color": "gray",
          "width": 3
         },
         "mode": "lines",
         "text": "57.25",
         "type": "scatter3d",
         "x": [
          170,
          207
         ],
         "y": [
          409,
          367
         ],
         "z": [
          254,
          242
         ]
        },
        {
         "hoverinfo": "text",
         "line": {
          "color": "gray",
          "width": 3
         },
         "mode": "lines",
         "text": "57.97",
         "type": "scatter3d",
         "x": [
          172,
          216
         ],
         "y": [
          197,
          229
         ],
         "z": [
          392,
          372
         ]
        },
        {
         "hoverinfo": "text",
         "line": {
          "color": "orange",
          "width": 3
         },
         "mode": "lines",
         "text": "1.41",
         "type": "scatter3d",
         "x": [
          172,
          173
         ],
         "y": [
          369,
          369
         ],
         "z": [
          306,
          307
         ]
        },
        {
         "hoverinfo": "text",
         "line": {
          "color": "orange",
          "width": 3
         },
         "mode": "lines",
         "text": "1.41",
         "type": "scatter3d",
         "x": [
          172,
          173
         ],
         "y": [
          369,
          370
         ],
         "z": [
          306,
          306
         ]
        },
        {
         "hoverinfo": "text",
         "line": {
          "color": "orange",
          "width": 3
         },
         "mode": "lines",
         "text": "1.41",
         "type": "scatter3d",
         "x": [
          173,
          173
         ],
         "y": [
          369,
          370
         ],
         "z": [
          307,
          306
         ]
        },
        {
         "hoverinfo": "text",
         "line": {
          "color": "gray",
          "width": 3
         },
         "mode": "lines",
         "text": "21.28",
         "type": "scatter3d",
         "x": [
          173,
          190
         ],
         "y": [
          369,
          361
         ],
         "z": [
          307,
          317
         ]
        },
        {
         "hoverinfo": "text",
         "line": {
          "color": "gray",
          "width": 3
         },
         "mode": "lines",
         "text": "20.22",
         "type": "scatter3d",
         "x": [
          174,
          186
         ],
         "y": [
          317,
          320
         ],
         "z": [
          385,
          369
         ]
        },
        {
         "hoverinfo": "text",
         "line": {
          "color": "gray",
          "width": 3
         },
         "mode": "lines",
         "text": "28.88",
         "type": "scatter3d",
         "x": [
          175,
          192
         ],
         "y": [
          265,
          269
         ],
         "z": [
          348,
          371
         ]
        },
        {
         "hoverinfo": "text",
         "line": {
          "color": "orange",
          "width": 3
         },
         "mode": "lines",
         "text": "11.09",
         "type": "scatter3d",
         "x": [
          175,
          180
         ],
         "y": [
          402,
          409
         ],
         "z": [
          345,
          352
         ]
        },
        {
         "hoverinfo": "text",
         "line": {
          "color": "gray",
          "width": 3
         },
         "mode": "lines",
         "text": "51.87",
         "type": "scatter3d",
         "x": [
          175,
          190
         ],
         "y": [
          402,
          361
         ],
         "z": [
          345,
          317
         ]
        },
        {
         "hoverinfo": "text",
         "line": {
          "color": "orange",
          "width": 3
         },
         "mode": "lines",
         "text": "10.82",
         "type": "scatter3d",
         "x": [
          177,
          178
         ],
         "y": [
          376,
          380
         ],
         "z": [
          175,
          185
         ]
        },
        {
         "hoverinfo": "text",
         "line": {
          "color": "gray",
          "width": 3
         },
         "mode": "lines",
         "text": "29.48",
         "type": "scatter3d",
         "x": [
          178,
          204
         ],
         "y": [
          380,
          387
         ],
         "z": [
          185,
          197
         ]
        },
        {
         "hoverinfo": "text",
         "line": {
          "color": "gray",
          "width": 3
         },
         "mode": "lines",
         "text": "46.91",
         "type": "scatter3d",
         "x": [
          181,
          205
         ],
         "y": [
          198,
          238
         ],
         "z": [
          406,
          411
         ]
        },
        {
         "hoverinfo": "text",
         "line": {
          "color": "gray",
          "width": 3
         },
         "mode": "lines",
         "text": "56.38",
         "type": "scatter3d",
         "x": [
          182,
          199
         ],
         "y": [
          81,
          134
         ],
         "z": [
          251,
          260
         ]
        },
        {
         "hoverinfo": "text",
         "line": {
          "color": "gray",
          "width": 3
         },
         "mode": "lines",
         "text": "28.46",
         "type": "scatter3d",
         "x": [
          186,
          209
         ],
         "y": [
          320,
          315
         ],
         "z": [
          369,
          353
         ]
        },
        {
         "hoverinfo": "text",
         "line": {
          "color": "gray",
          "width": 3
         },
         "mode": "lines",
         "text": "44.65",
         "type": "scatter3d",
         "x": [
          186,
          209
         ],
         "y": [
          368,
          347
         ],
         "z": [
          419,
          387
         ]
        },
        {
         "hoverinfo": "text",
         "line": {
          "color": "orange",
          "width": 3
         },
         "mode": "lines",
         "text": "16.31",
         "type": "scatter3d",
         "x": [
          188,
          189
         ],
         "y": [
          421,
          432
         ],
         "z": [
          188,
          176
         ]
        },
        {
         "hoverinfo": "text",
         "line": {
          "color": "gray",
          "width": 3
         },
         "mode": "lines",
         "text": "38.64",
         "type": "scatter3d",
         "x": [
          188,
          204
         ],
         "y": [
          421,
          387
         ],
         "z": [
          188,
          197
         ]
        },
        {
         "hoverinfo": "text",
         "line": {
          "color": "orange",
          "width": 3
         },
         "mode": "lines",
         "text": "1.00",
         "type": "scatter3d",
         "x": [
          189,
          189
         ],
         "y": [
          432,
          432
         ],
         "z": [
          175,
          176
         ]
        },
        {
         "hoverinfo": "text",
         "line": {
          "color": "orange",
          "width": 3
         },
         "mode": "lines",
         "text": "1.41",
         "type": "scatter3d",
         "x": [
          189,
          190
         ],
         "y": [
          432,
          433
         ],
         "z": [
          175,
          175
         ]
        },
        {
         "hoverinfo": "text",
         "line": {
          "color": "orange",
          "width": 3
         },
         "mode": "lines",
         "text": "1.73",
         "type": "scatter3d",
         "x": [
          189,
          190
         ],
         "y": [
          432,
          433
         ],
         "z": [
          176,
          175
         ]
        },
        {
         "hoverinfo": "text",
         "line": {
          "color": "orange",
          "width": 3
         },
         "mode": "lines",
         "text": "13.19",
         "type": "scatter3d",
         "x": [
          190,
          192
         ],
         "y": [
          300,
          307
         ],
         "z": [
          212,
          201
         ]
        },
        {
         "hoverinfo": "text",
         "line": {
          "color": "gray",
          "width": 3
         },
         "mode": "lines",
         "text": "27.09",
         "type": "scatter3d",
         "x": [
          190,
          192
         ],
         "y": [
          300,
          317
         ],
         "z": [
          212,
          233
         ]
        },
        {
         "hoverinfo": "text",
         "line": {
          "color": "gray",
          "width": 3
         },
         "mode": "lines",
         "text": "34.57",
         "type": "scatter3d",
         "x": [
          190,
          217
         ],
         "y": [
          361,
          340
         ],
         "z": [
          317,
          312
         ]
        },
        {
         "hoverinfo": "text",
         "line": {
          "color": "gray",
          "width": 3
         },
         "mode": "lines",
         "text": "25.42",
         "type": "scatter3d",
         "x": [
          190,
          199
         ],
         "y": [
          433,
          455
         ],
         "z": [
          175,
          166
         ]
        },
        {
         "hoverinfo": "text",
         "line": {
          "color": "orange",
          "width": 3
         },
         "mode": "lines",
         "text": "17.38",
         "type": "scatter3d",
         "x": [
          191,
          201
         ],
         "y": [
          246,
          237
         ],
         "z": [
          440,
          429
         ]
        },
        {
         "hoverinfo": "text",
         "line": {
          "color": "orange",
          "width": 3
         },
         "mode": "lines",
         "text": "2.83",
         "type": "scatter3d",
         "x": [
          192,
          194
         ],
         "y": [
          269,
          269
         ],
         "z": [
          371,
          373
         ]
        },
        {
         "hoverinfo": "text",
         "line": {
          "color": "gray",
          "width": 3
         },
         "mode": "lines",
         "text": "24.60",
         "type": "scatter3d",
         "x": [
          192,
          200
         ],
         "y": [
          317,
          338
         ],
         "z": [
          233,
          243
         ]
        },
        {
         "hoverinfo": "text",
         "line": {
          "color": "orange",
          "width": 3
         },
         "mode": "lines",
         "text": "1.73",
         "type": "scatter3d",
         "x": [
          193,
          194
         ],
         "y": [
          241,
          242
         ],
         "z": [
          277,
          278
         ]
        },
        {
         "hoverinfo": "text",
         "line": {
          "color": "gray",
          "width": 3
         },
         "mode": "lines",
         "text": "25.40",
         "type": "scatter3d",
         "x": [
          193,
          200
         ],
         "y": [
          241,
          227
         ],
         "z": [
          277,
          257
         ]
        },
        {
         "hoverinfo": "text",
         "line": {
          "color": "gray",
          "width": 3
         },
         "mode": "lines",
         "text": "60.34",
         "type": "scatter3d",
         "x": [
          194,
          198
         ],
         "y": [
          242,
          183
         ],
         "z": [
          278,
          266
         ]
        },
        {
         "hoverinfo": "text",
         "line": {
          "color": "gray",
          "width": 3
         },
         "mode": "lines",
         "text": "68.19",
         "type": "scatter3d",
         "x": [
          194,
          237
         ],
         "y": [
          242,
          291
         ],
         "z": [
          278,
          298
         ]
        },
        {
         "hoverinfo": "text",
         "line": {
          "color": "gray",
          "width": 3
         },
         "mode": "lines",
         "text": "38.08",
         "type": "scatter3d",
         "x": [
          194,
          231
         ],
         "y": [
          269,
          269
         ],
         "z": [
          373,
          364
         ]
        },
        {
         "hoverinfo": "text",
         "line": {
          "color": "gray",
          "width": 3
         },
         "mode": "lines",
         "text": "89.36",
         "type": "scatter3d",
         "x": [
          198,
          198
         ],
         "y": [
          107,
          183
         ],
         "z": [
          219,
          266
         ]
        },
        {
         "hoverinfo": "text",
         "line": {
          "color": "gray",
          "width": 3
         },
         "mode": "lines",
         "text": "48.27",
         "type": "scatter3d",
         "x": [
          198,
          199
         ],
         "y": [
          183,
          135
         ],
         "z": [
          266,
          261
         ]
        },
        {
         "hoverinfo": "text",
         "line": {
          "color": "orange",
          "width": 3
         },
         "mode": "lines",
         "text": "1.41",
         "type": "scatter3d",
         "x": [
          199,
          199
         ],
         "y": [
          134,
          135
         ],
         "z": [
          260,
          261
         ]
        },
        {
         "hoverinfo": "text",
         "line": {
          "color": "orange",
          "width": 3
         },
         "mode": "lines",
         "text": "1.00",
         "type": "scatter3d",
         "x": [
          199,
          200
         ],
         "y": [
          134,
          134
         ],
         "z": [
          260,
          260
         ]
        },
        {
         "hoverinfo": "text",
         "line": {
          "color": "orange",
          "width": 3
         },
         "mode": "lines",
         "text": "1.73",
         "type": "scatter3d",
         "x": [
          199,
          200
         ],
         "y": [
          135,
          134
         ],
         "z": [
          261,
          260
         ]
        },
        {
         "hoverinfo": "text",
         "line": {
          "color": "gray",
          "width": 3
         },
         "mode": "lines",
         "text": "40.87",
         "type": "scatter3d",
         "x": [
          199,
          228
         ],
         "y": [
          328,
          318
         ],
         "z": [
          488,
          461
         ]
        },
        {
         "hoverinfo": "text",
         "line": {
          "color": "gray",
          "width": 3
         },
         "mode": "lines",
         "text": "48.09",
         "type": "scatter3d",
         "x": [
          200,
          224
         ],
         "y": [
          134,
          98
         ],
         "z": [
          260,
          239
         ]
        },
        {
         "hoverinfo": "text",
         "line": {
          "color": "orange",
          "width": 3
         },
         "mode": "lines",
         "text": "1.41",
         "type": "scatter3d",
         "x": [
          200,
          200
         ],
         "y": [
          226,
          227
         ],
         "z": [
          256,
          257
         ]
        },
        {
         "hoverinfo": "text",
         "line": {
          "color": "orange",
          "width": 3
         },
         "mode": "lines",
         "text": "1.41",
         "type": "scatter3d",
         "x": [
          200,
          201
         ],
         "y": [
          226,
          226
         ],
         "z": [
          256,
          257
         ]
        },
        {
         "hoverinfo": "text",
         "line": {
          "color": "gray",
          "width": 3
         },
         "mode": "lines",
         "text": "42.63",
         "type": "scatter3d",
         "x": [
          200,
          203
         ],
         "y": [
          226,
          194
         ],
         "z": [
          256,
          228
         ]
        },
        {
         "hoverinfo": "text",
         "line": {
          "color": "orange",
          "width": 3
         },
         "mode": "lines",
         "text": "1.41",
         "type": "scatter3d",
         "x": [
          200,
          201
         ],
         "y": [
          227,
          226
         ],
         "z": [
          257,
          257
         ]
        },
        {
         "hoverinfo": "text",
         "line": {
          "color": "gray",
          "width": 3
         },
         "mode": "lines",
         "text": "47.94",
         "type": "scatter3d",
         "x": [
          200,
          241
         ],
         "y": [
          277,
          296
         ],
         "z": [
          433,
          417
         ]
        },
        {
         "hoverinfo": "text",
         "line": {
          "color": "orange",
          "width": 3
         },
         "mode": "lines",
         "text": "17.97",
         "type": "scatter3d",
         "x": [
          200,
          207
         ],
         "y": [
          338,
          345
         ],
         "z": [
          243,
          258
         ]
        },
        {
         "hoverinfo": "text",
         "line": {
          "color": "orange",
          "width": 3
         },
         "mode": "lines",
         "text": "10.30",
         "type": "scatter3d",
         "x": [
          201,
          201
         ],
         "y": [
          232,
          237
         ],
         "z": [
          438,
          429
         ]
        },
        {
         "hoverinfo": "text",
         "line": {
          "color": "orange",
          "width": 3
         },
         "mode": "lines",
         "text": "10.34",
         "type": "scatter3d",
         "x": [
          201,
          206
         ],
         "y": [
          237,
          236
         ],
         "z": [
          429,
          420
         ]
        },
        {
         "hoverinfo": "text",
         "line": {
          "color": "orange",
          "width": 3
         },
         "mode": "lines",
         "text": "9.64",
         "type": "scatter3d",
         "x": [
          204,
          209
         ],
         "y": [
          323,
          315
         ],
         "z": [
          351,
          353
         ]
        },
        {
         "hoverinfo": "text",
         "line": {
          "color": "orange",
          "width": 3
         },
         "mode": "lines",
         "text": "15.17",
         "type": "scatter3d",
         "x": [
          204,
          209
         ],
         "y": [
          361,
          347
         ],
         "z": [
          390,
          387
         ]
        },
        {
         "hoverinfo": "text",
         "line": {
          "color": "gray",
          "width": 3
         },
         "mode": "lines",
         "text": "24.10",
         "type": "scatter3d",
         "x": [
          204,
          222
         ],
         "y": [
          387,
          388
         ],
         "z": [
          197,
          213
         ]
        },
        {
         "hoverinfo": "text",
         "line": {
          "color": "orange",
          "width": 3
         },
         "mode": "lines",
         "text": "14.53",
         "type": "scatter3d",
         "x": [
          205,
          214
         ],
         "y": [
          188,
          197
         ],
         "z": [
          395,
          388
         ]
        },
        {
         "hoverinfo": "text",
         "line": {
          "color": "orange",
          "width": 3
         },
         "mode": "lines",
         "text": "9.27",
         "type": "scatter3d",
         "x": [
          205,
          206
         ],
         "y": [
          238,
          236
         ],
         "z": [
          411,
          420
         ]
        },
        {
         "hoverinfo": "text",
         "line": {
          "color": "gray",
          "width": 3
         },
         "mode": "lines",
         "text": "21.47",
         "type": "scatter3d",
         "x": [
          205,
          213
         ],
         "y": [
          238,
          244
         ],
         "z": [
          411,
          392
         ]
        },
        {
         "hoverinfo": "text",
         "line": {
          "color": "gray",
          "width": 3
         },
         "mode": "lines",
         "text": "63.91",
         "type": "scatter3d",
         "x": [
          206,
          210
         ],
         "y": [
          204,
          141
         ],
         "z": [
          347,
          337
         ]
        },
        {
         "hoverinfo": "text",
         "line": {
          "color": "gray",
          "width": 3
         },
         "mode": "lines",
         "text": "61.26",
         "type": "scatter3d",
         "x": [
          206,
          225
         ],
         "y": [
          204,
          260
         ],
         "z": [
          347,
          363
         ]
        },
        {
         "hoverinfo": "text",
         "line": {
          "color": "orange",
          "width": 3
         },
         "mode": "lines",
         "text": "3.74",
         "type": "scatter3d",
         "x": [
          206,
          208
         ],
         "y": [
          236,
          233
         ],
         "z": [
          420,
          421
         ]
        },
        {
         "hoverinfo": "text",
         "line": {
          "color": "gray",
          "width": 3
         },
         "mode": "lines",
         "text": "25.67",
         "type": "scatter3d",
         "x": [
          207,
          210
         ],
         "y": [
          115,
          140
         ],
         "z": [
          332,
          337
         ]
        },
        {
         "hoverinfo": "text",
         "line": {
          "color": "orange",
          "width": 3
         },
         "mode": "lines",
         "text": "1.73",
         "type": "scatter3d",
         "x": [
          207,
          208
         ],
         "y": [
          338,
          337
         ],
         "z": [
          268,
          267
         ]
        },
        {
         "hoverinfo": "text",
         "line": {
          "color": "orange",
          "width": 3
         },
         "mode": "lines",
         "text": "1.00",
         "type": "scatter3d",
         "x": [
          207,
          207
         ],
         "y": [
          345,
          345
         ],
         "z": [
          258,
          259
         ]
        },
        {
         "hoverinfo": "text",
         "line": {
          "color": "orange",
          "width": 3
         },
         "mode": "lines",
         "text": "1.73",
         "type": "scatter3d",
         "x": [
          207,
          208
         ],
         "y": [
          345,
          346
         ],
         "z": [
          258,
          259
         ]
        },
        {
         "hoverinfo": "text",
         "line": {
          "color": "orange",
          "width": 3
         },
         "mode": "lines",
         "text": "1.41",
         "type": "scatter3d",
         "x": [
          207,
          208
         ],
         "y": [
          345,
          346
         ],
         "z": [
          259,
          259
         ]
        },
        {
         "hoverinfo": "text",
         "line": {
          "color": "orange",
          "width": 3
         },
         "mode": "lines",
         "text": "11.36",
         "type": "scatter3d",
         "x": [
          207,
          208
         ],
         "y": [
          345,
          337
         ],
         "z": [
          259,
          267
         ]
        },
        {
         "hoverinfo": "text",
         "line": {
          "color": "orange",
          "width": 3
         },
         "mode": "lines",
         "text": "1.41",
         "type": "scatter3d",
         "x": [
          207,
          208
         ],
         "y": [
          367,
          367
         ],
         "z": [
          242,
          243
         ]
        },
        {
         "hoverinfo": "text",
         "line": {
          "color": "gray",
          "width": 3
         },
         "mode": "lines",
         "text": "22.69",
         "type": "scatter3d",
         "x": [
          207,
          218
         ],
         "y": [
          453,
          438
         ],
         "z": [
          326,
          313
         ]
        },
        {
         "hoverinfo": "text",
         "line": {
          "color": "orange",
          "width": 3
         },
         "mode": "lines",
         "text": "1.41",
         "type": "scatter3d",
         "x": [
          208,
          208
         ],
         "y": [
          231,
          232
         ],
         "z": [
          423,
          422
         ]
        },
        {
         "hoverinfo": "text",
         "line": {
          "color": "orange",
          "width": 3
         },
         "mode": "lines",
         "text": "1.41",
         "type": "scatter3d",
         "x": [
          208,
          208
         ],
         "y": [
          232,
          233
         ],
         "z": [
          422,
          421
         ]
        },
        {
         "hoverinfo": "text",
         "line": {
          "color": "orange",
          "width": 3
         },
         "mode": "lines",
         "text": "1.41",
         "type": "scatter3d",
         "x": [
          208,
          209
         ],
         "y": [
          232,
          232
         ],
         "z": [
          422,
          421
         ]
        },
        {
         "hoverinfo": "text",
         "line": {
          "color": "orange",
          "width": 3
         },
         "mode": "lines",
         "text": "1.41",
         "type": "scatter3d",
         "x": [
          208,
          209
         ],
         "y": [
          233,
          232
         ],
         "z": [
          421,
          421
         ]
        },
        {
         "hoverinfo": "text",
         "line": {
          "color": "orange",
          "width": 3
         },
         "mode": "lines",
         "text": "7.28",
         "type": "scatter3d",
         "x": [
          208,
          209
         ],
         "y": [
          337,
          331
         ],
         "z": [
          267,
          271
         ]
        },
        {
         "hoverinfo": "text",
         "line": {
          "color": "orange",
          "width": 3
         },
         "mode": "lines",
         "text": "15.52",
         "type": "scatter3d",
         "x": [
          208,
          211
         ],
         "y": [
          346,
          360
         ],
         "z": [
          259,
          253
         ]
        },
        {
         "hoverinfo": "text",
         "line": {
          "color": "orange",
          "width": 3
         },
         "mode": "lines",
         "text": "11.22",
         "type": "scatter3d",
         "x": [
          208,
          211
         ],
         "y": [
          367,
          361
         ],
         "z": [
          243,
          252
         ]
        },
        {
         "hoverinfo": "text",
         "line": {
          "color": "gray",
          "width": 3
         },
         "mode": "lines",
         "text": "37.91",
         "type": "scatter3d",
         "x": [
          208,
          222
         ],
         "y": [
          367,
          387
         ],
         "z": [
          243,
          214
         ]
        },
        {
         "hoverinfo": "text",
         "line": {
          "color": "orange",
          "width": 3
         },
         "mode": "lines",
         "text": "7.48",
         "type": "scatter3d",
         "x": [
          209,
          211
         ],
         "y": [
          232,
          226
         ],
         "z": [
          421,
          425
         ]
        },
        {
         "hoverinfo": "text",
         "line": {
          "color": "orange",
          "width": 3
         },
         "mode": "lines",
         "text": "9.06",
         "type": "scatter3d",
         "x": [
          209,
          217
         ],
         "y": [
          315,
          312
         ],
         "z": [
          353,
          350
         ]
        },
        {
         "hoverinfo": "text",
         "line": {
          "color": "orange",
          "width": 3
         },
         "mode": "lines",
         "text": "1.41",
         "type": "scatter3d",
         "x": [
          209,
          210
         ],
         "y": [
          331,
          331
         ],
         "z": [
          271,
          270
         ]
        },
        {
         "hoverinfo": "text",
         "line": {
          "color": "orange",
          "width": 3
         },
         "mode": "lines",
         "text": "5.10",
         "type": "scatter3d",
         "x": [
          209,
          210
         ],
         "y": [
          331,
          327
         ],
         "z": [
          271,
          274
         ]
        },
        {
         "hoverinfo": "text",
         "line": {
          "color": "gray",
          "width": 3
         },
         "mode": "lines",
         "text": "51.56",
         "type": "scatter3d",
         "x": [
          209,
          217
         ],
         "y": [
          347,
          312
         ],
         "z": [
          387,
          350
         ]
        },
        {
         "hoverinfo": "text",
         "line": {
          "color": "gray",
          "width": 3
         },
         "mode": "lines",
         "text": "28.95",
         "type": "scatter3d",
         "x": [
          209,
          218
         ],
         "y": [
          464,
          438
         ],
         "z": [
          303,
          312
         ]
        },
        {
         "hoverinfo": "text",
         "line": {
          "color": "orange",
          "width": 3
         },
         "mode": "lines",
         "text": "1.00",
         "type": "scatter3d",
         "x": [
          210,
          210
         ],
         "y": [
          140,
          141
         ],
         "z": [
          337,
          337
         ]
        },
        {
         "hoverinfo": "text",
         "line": {
          "color": "orange",
          "width": 3
         },
         "mode": "lines",
         "text": "1.00",
         "type": "scatter3d",
         "x": [
          210,
          211
         ],
         "y": [
          140,
          140
         ],
         "z": [
          337,
          337
         ]
        },
        {
         "hoverinfo": "text",
         "line": {
          "color": "orange",
          "width": 3
         },
         "mode": "lines",
         "text": "1.41",
         "type": "scatter3d",
         "x": [
          210,
          211
         ],
         "y": [
          141,
          140
         ],
         "z": [
          337,
          337
         ]
        },
        {
         "hoverinfo": "text",
         "line": {
          "color": "gray",
          "width": 3
         },
         "mode": "lines",
         "text": "29.34",
         "type": "scatter3d",
         "x": [
          210,
          220
         ],
         "y": [
          327,
          308
         ],
         "z": [
          274,
          294
         ]
        },
        {
         "hoverinfo": "text",
         "line": {
          "color": "gray",
          "width": 3
         },
         "mode": "lines",
         "text": "73.14",
         "type": "scatter3d",
         "x": [
          210,
          240
         ],
         "y": [
          327,
          312
         ],
         "z": [
          274,
          209
         ]
        },
        {
         "hoverinfo": "text",
         "line": {
          "color": "gray",
          "width": 3
         },
         "mode": "lines",
         "text": "20.47",
         "type": "scatter3d",
         "x": [
          211,
          224
         ],
         "y": [
          140,
          125
         ],
         "z": [
          337,
          332
         ]
        },
        {
         "hoverinfo": "text",
         "line": {
          "color": "orange",
          "width": 3
         },
         "mode": "lines",
         "text": "1.41",
         "type": "scatter3d",
         "x": [
          211,
          211
         ],
         "y": [
          360,
          361
         ],
         "z": [
          253,
          252
         ]
        },
        {
         "hoverinfo": "text",
         "line": {
          "color": "orange",
          "width": 3
         },
         "mode": "lines",
         "text": "1.73",
         "type": "scatter3d",
         "x": [
          211,
          212
         ],
         "y": [
          360,
          361
         ],
         "z": [
          253,
          252
         ]
        },
        {
         "hoverinfo": "text",
         "line": {
          "color": "orange",
          "width": 3
         },
         "mode": "lines",
         "text": "1.00",
         "type": "scatter3d",
         "x": [
          211,
          212
         ],
         "y": [
          361,
          361
         ],
         "z": [
          252,
          252
         ]
        },
        {
         "hoverinfo": "text",
         "line": {
          "color": "gray",
          "width": 3
         },
         "mode": "lines",
         "text": "21.28",
         "type": "scatter3d",
         "x": [
          212,
          232
         ],
         "y": [
          361,
          368
         ],
         "z": [
          252,
          254
         ]
        },
        {
         "hoverinfo": "text",
         "line": {
          "color": "orange",
          "width": 3
         },
         "mode": "lines",
         "text": "1.41",
         "type": "scatter3d",
         "x": [
          213,
          214
         ],
         "y": [
          244,
          243
         ],
         "z": [
          392,
          392
         ]
        },
        {
         "hoverinfo": "text",
         "line": {
          "color": "orange",
          "width": 3
         },
         "mode": "lines",
         "text": "1.00",
         "type": "scatter3d",
         "x": [
          213,
          214
         ],
         "y": [
          244,
          244
         ],
         "z": [
          392,
          392
         ]
        },
        {
         "hoverinfo": "text",
         "line": {
          "color": "orange",
          "width": 3
         },
         "mode": "lines",
         "text": "9.64",
         "type": "scatter3d",
         "x": [
          214,
          216
         ],
         "y": [
          197,
          202
         ],
         "z": [
          388,
          380
         ]
        },
        {
         "hoverinfo": "text",
         "line": {
          "color": "orange",
          "width": 3
         },
         "mode": "lines",
         "text": "8.66",
         "type": "scatter3d",
         "x": [
          214,
          221
         ],
         "y": [
          197,
          198
         ],
         "z": [
          388,
          393
         ]
        },
        {
         "hoverinfo": "text",
         "line": {
          "color": "orange",
          "width": 3
         },
         "mode": "lines",
         "text": "1.00",
         "type": "scatter3d",
         "x": [
          214,
          214
         ],
         "y": [
          243,
          244
         ],
         "z": [
          392,
          392
         ]
        },
        {
         "hoverinfo": "text",
         "line": {
          "color": "gray",
          "width": 3
         },
         "mode": "lines",
         "text": "45.55",
         "type": "scatter3d",
         "x": [
          214,
          221
         ],
         "y": [
          243,
          198
         ],
         "z": [
          392,
          393
         ]
        },
        {
         "hoverinfo": "text",
         "line": {
          "color": "gray",
          "width": 3
         },
         "mode": "lines",
         "text": "33.62",
         "type": "scatter3d",
         "x": [
          214,
          225
         ],
         "y": [
          244,
          259
         ],
         "z": [
          392,
          364
         ]
        },
        {
         "hoverinfo": "text",
         "line": {
          "color": "gray",
          "width": 3
         },
         "mode": "lines",
         "text": "20.15",
         "type": "scatter3d",
         "x": [
          215,
          230
         ],
         "y": [
          455,
          446
         ],
         "z": [
          86,
          96
         ]
        },
        {
         "hoverinfo": "text",
         "line": {
          "color": "orange",
          "width": 3
         },
         "mode": "lines",
         "text": "1.41",
         "type": "scatter3d",
         "x": [
          216,
          217
         ],
         "y": [
          202,
          202
         ],
         "z": [
          380,
          379
         ]
        },
        {
         "hoverinfo": "text",
         "line": {
          "color": "orange",
          "width": 3
         },
         "mode": "lines",
         "text": "1.73",
         "type": "scatter3d",
         "x": [
          216,
          217
         ],
         "y": [
          202,
          203
         ],
         "z": [
          380,
          379
         ]
        },
        {
         "hoverinfo": "text",
         "line": {
          "color": "gray",
          "width": 3
         },
         "mode": "lines",
         "text": "26.94",
         "type": "scatter3d",
         "x": [
          216,
          217
         ],
         "y": [
          229,
          203
         ],
         "z": [
          372,
          379
         ]
        },
        {
         "hoverinfo": "text",
         "line": {
          "color": "gray",
          "width": 3
         },
         "mode": "lines",
         "text": "32.33",
         "type": "scatter3d",
         "x": [
          216,
          225
         ],
         "y": [
          229,
          259
         ],
         "z": [
          372,
          364
         ]
        },
        {
         "hoverinfo": "text",
         "line": {
          "color": "orange",
          "width": 3
         },
         "mode": "lines",
         "text": "1.00",
         "type": "scatter3d",
         "x": [
          217,
          217
         ],
         "y": [
          202,
          203
         ],
         "z": [
          379,
          379
         ]
        },
        {
         "hoverinfo": "text",
         "line": {
          "color": "gray",
          "width": 3
         },
         "mode": "lines",
         "text": "24.10",
         "type": "scatter3d",
         "x": [
          217,
          226
         ],
         "y": [
          202,
          180
         ],
         "z": [
          379,
          375
         ]
        },
        {
         "hoverinfo": "text",
         "line": {
          "color": "gray",
          "width": 3
         },
         "mode": "lines",
         "text": "63.48",
         "type": "scatter3d",
         "x": [
          217,
          256
         ],
         "y": [
          312,
          290
         ],
         "z": [
          350,
          305
         ]
        },
        {
         "hoverinfo": "text",
         "line": {
          "color": "gray",
          "width": 3
         },
         "mode": "lines",
         "text": "36.36",
         "type": "scatter3d",
         "x": [
          217,
          220
         ],
         "y": [
          340,
          308
         ],
         "z": [
          312,
          295
         ]
        },
        {
         "hoverinfo": "text",
         "line": {
          "color": "orange",
          "width": 3
         },
         "mode": "lines",
         "text": "12.12",
         "type": "scatter3d",
         "x": [
          217,
          228
         ],
         "y": [
          340,
          345
         ],
         "z": [
          312,
          311
         ]
        },
        {
         "hoverinfo": "text",
         "line": {
          "color": "orange",
          "width": 3
         },
         "mode": "lines",
         "text": "1.00",
         "type": "scatter3d",
         "x": [
          218,
          218
         ],
         "y": [
          438,
          438
         ],
         "z": [
          312,
          313
         ]
        },
        {
         "hoverinfo": "text",
         "line": {
          "color": "orange",
          "width": 3
         },
         "mode": "lines",
         "text": "1.41",
         "type": "scatter3d",
         "x": [
          218,
          219
         ],
         "y": [
          438,
          437
         ],
         "z": [
          312,
          312
         ]
        },
        {
         "hoverinfo": "text",
         "line": {
          "color": "orange",
          "width": 3
         },
         "mode": "lines",
         "text": "1.73",
         "type": "scatter3d",
         "x": [
          218,
          219
         ],
         "y": [
          438,
          437
         ],
         "z": [
          313,
          312
         ]
        },
        {
         "hoverinfo": "text",
         "line": {
          "color": "orange",
          "width": 3
         },
         "mode": "lines",
         "text": "19.34",
         "type": "scatter3d",
         "x": [
          219,
          232
         ],
         "y": [
          437,
          423
         ],
         "z": [
          312,
          309
         ]
        },
        {
         "hoverinfo": "text",
         "line": {
          "color": "orange",
          "width": 3
         },
         "mode": "lines",
         "text": "1.00",
         "type": "scatter3d",
         "x": [
          220,
          220
         ],
         "y": [
          308,
          308
         ],
         "z": [
          294,
          295
         ]
        },
        {
         "hoverinfo": "text",
         "line": {
          "color": "orange",
          "width": 3
         },
         "mode": "lines",
         "text": "1.41",
         "type": "scatter3d",
         "x": [
          220,
          221
         ],
         "y": [
          308,
          307
         ],
         "z": [
          294,
          294
         ]
        },
        {
         "hoverinfo": "text",
         "line": {
          "color": "orange",
          "width": 3
         },
         "mode": "lines",
         "text": "1.73",
         "type": "scatter3d",
         "x": [
          220,
          221
         ],
         "y": [
          308,
          307
         ],
         "z": [
          295,
          294
         ]
        },
        {
         "hoverinfo": "text",
         "line": {
          "color": "gray",
          "width": 3
         },
         "mode": "lines",
         "text": "44.45",
         "type": "scatter3d",
         "x": [
          221,
          235
         ],
         "y": [
          198,
          156
         ],
         "z": [
          393,
          389
         ]
        },
        {
         "hoverinfo": "text",
         "line": {
          "color": "gray",
          "width": 3
         },
         "mode": "lines",
         "text": "22.29",
         "type": "scatter3d",
         "x": [
          221,
          237
         ],
         "y": [
          307,
          292
         ],
         "z": [
          294,
          298
         ]
        },
        {
         "hoverinfo": "text",
         "line": {
          "color": "gray",
          "width": 3
         },
         "mode": "lines",
         "text": "38.96",
         "type": "scatter3d",
         "x": [
          221,
          240
         ],
         "y": [
          359,
          345
         ],
         "z": [
          469,
          438
         ]
        },
        {
         "hoverinfo": "text",
         "line": {
          "color": "orange",
          "width": 3
         },
         "mode": "lines",
         "text": "10.82",
         "type": "scatter3d",
         "x": [
          221,
          229
         ],
         "y": [
          429,
          422
         ],
         "z": [
          218,
          220
         ]
        },
        {
         "hoverinfo": "text",
         "line": {
          "color": "orange",
          "width": 3
         },
         "mode": "lines",
         "text": "1.41",
         "type": "scatter3d",
         "x": [
          222,
          222
         ],
         "y": [
          387,
          388
         ],
         "z": [
          214,
          213
         ]
        },
        {
         "hoverinfo": "text",
         "line": {
          "color": "orange",
          "width": 3
         },
         "mode": "lines",
         "text": "1.73",
         "type": "scatter3d",
         "x": [
          222,
          223
         ],
         "y": [
          387,
          388
         ],
         "z": [
          214,
          213
         ]
        },
        {
         "hoverinfo": "text",
         "line": {
          "color": "orange",
          "width": 3
         },
         "mode": "lines",
         "text": "1.00",
         "type": "scatter3d",
         "x": [
          222,
          223
         ],
         "y": [
          388,
          388
         ],
         "z": [
          213,
          213
         ]
        },
        {
         "hoverinfo": "text",
         "line": {
          "color": "orange",
          "width": 3
         },
         "mode": "lines",
         "text": "1.41",
         "type": "scatter3d",
         "x": [
          223,
          224
         ],
         "y": [
          388,
          388
         ],
         "z": [
          213,
          212
         ]
        },
        {
         "hoverinfo": "text",
         "line": {
          "color": "gray",
          "width": 3
         },
         "mode": "lines",
         "text": "35.23",
         "type": "scatter3d",
         "x": [
          224,
          230
         ],
         "y": [
          388,
          422
         ],
         "z": [
          212,
          219
         ]
        },
        {
         "hoverinfo": "text",
         "line": {
          "color": "gray",
          "width": 3
         },
         "mode": "lines",
         "text": "28.76",
         "type": "scatter3d",
         "x": [
          224,
          241
         ],
         "y": [
          388,
          385
         ],
         "z": [
          212,
          189
         ]
        },
        {
         "hoverinfo": "text",
         "line": {
          "color": "orange",
          "width": 3
         },
         "mode": "lines",
         "text": "1.41",
         "type": "scatter3d",
         "x": [
          225,
          225
         ],
         "y": [
          259,
          260
         ],
         "z": [
          364,
          363
         ]
        },
        {
         "hoverinfo": "text",
         "line": {
          "color": "orange",
          "width": 3
         },
         "mode": "lines",
         "text": "10.86",
         "type": "scatter3d",
         "x": [
          225,
          231
         ],
         "y": [
          260,
          269
         ],
         "z": [
          363,
          364
         ]
        },
        {
         "hoverinfo": "text",
         "line": {
          "color": "orange",
          "width": 3
         },
         "mode": "lines",
         "text": "5.39",
         "type": "scatter3d",
         "x": [
          226,
          229
         ],
         "y": [
          320,
          322
         ],
         "z": [
          485,
          481
         ]
        },
        {
         "hoverinfo": "text",
         "line": {
          "color": "gray",
          "width": 3
         },
         "mode": "lines",
         "text": "20.42",
         "type": "scatter3d",
         "x": [
          228,
          229
         ],
         "y": [
          318,
          322
         ],
         "z": [
          461,
          481
         ]
        },
        {
         "hoverinfo": "text",
         "line": {
          "color": "gray",
          "width": 3
         },
         "mode": "lines",
         "text": "49.86",
         "type": "scatter3d",
         "x": [
          228,
          242
         ],
         "y": [
          318,
          297
         ],
         "z": [
          461,
          418
         ]
        },
        {
         "hoverinfo": "text",
         "line": {
          "color": "orange",
          "width": 3
         },
         "mode": "lines",
         "text": "1.00",
         "type": "scatter3d",
         "x": [
          228,
          229
         ],
         "y": [
          345,
          345
         ],
         "z": [
          311,
          311
         ]
        },
        {
         "hoverinfo": "text",
         "line": {
          "color": "orange",
          "width": 3
         },
         "mode": "lines",
         "text": "1.73",
         "type": "scatter3d",
         "x": [
          228,
          229
         ],
         "y": [
          345,
          346
         ],
         "z": [
          311,
          310
         ]
        },
        {
         "hoverinfo": "text",
         "line": {
          "color": "orange",
          "width": 3
         },
         "mode": "lines",
         "text": "1.73",
         "type": "scatter3d",
         "x": [
          228,
          229
         ],
         "y": [
          345,
          346
         ],
         "z": [
          311,
          312
         ]
        },
        {
         "hoverinfo": "text",
         "line": {
          "color": "gray",
          "width": 3
         },
         "mode": "lines",
         "text": "30.48",
         "type": "scatter3d",
         "x": [
          229,
          239
         ],
         "y": [
          322,
          332
         ],
         "z": [
          481,
          508
         ]
        },
        {
         "hoverinfo": "text",
         "line": {
          "color": "orange",
          "width": 3
         },
         "mode": "lines",
         "text": "1.41",
         "type": "scatter3d",
         "x": [
          229,
          229
         ],
         "y": [
          345,
          346
         ],
         "z": [
          311,
          310
         ]
        },
        {
         "hoverinfo": "text",
         "line": {
          "color": "orange",
          "width": 3
         },
         "mode": "lines",
         "text": "1.41",
         "type": "scatter3d",
         "x": [
          229,
          229
         ],
         "y": [
          345,
          346
         ],
         "z": [
          311,
          312
         ]
        },
        {
         "hoverinfo": "text",
         "line": {
          "color": "orange",
          "width": 3
         },
         "mode": "lines",
         "text": "1.41",
         "type": "scatter3d",
         "x": [
          229,
          230
         ],
         "y": [
          345,
          346
         ],
         "z": [
          311,
          311
         ]
        },
        {
         "hoverinfo": "text",
         "line": {
          "color": "orange",
          "width": 3
         },
         "mode": "lines",
         "text": "1.41",
         "type": "scatter3d",
         "x": [
          229,
          230
         ],
         "y": [
          346,
          346
         ],
         "z": [
          310,
          311
         ]
        },
        {
         "hoverinfo": "text",
         "line": {
          "color": "gray",
          "width": 3
         },
         "mode": "lines",
         "text": "76.07",
         "type": "scatter3d",
         "x": [
          229,
          232
         ],
         "y": [
          346,
          422
         ],
         "z": [
          310,
          309
         ]
        },
        {
         "hoverinfo": "text",
         "line": {
          "color": "orange",
          "width": 3
         },
         "mode": "lines",
         "text": "1.41",
         "type": "scatter3d",
         "x": [
          229,
          230
         ],
         "y": [
          346,
          346
         ],
         "z": [
          312,
          311
         ]
        },
        {
         "hoverinfo": "text",
         "line": {
          "color": "gray",
          "width": 3
         },
         "mode": "lines",
         "text": "53.49",
         "type": "scatter3d",
         "x": [
          229,
          248
         ],
         "y": [
          346,
          386
         ],
         "z": [
          312,
          342
         ]
        },
        {
         "hoverinfo": "text",
         "line": {
          "color": "orange",
          "width": 3
         },
         "mode": "lines",
         "text": "1.41",
         "type": "scatter3d",
         "x": [
          229,
          230
         ],
         "y": [
          422,
          422
         ],
         "z": [
          220,
          219
         ]
        },
        {
         "hoverinfo": "text",
         "line": {
          "color": "orange",
          "width": 3
         },
         "mode": "lines",
         "text": "1.73",
         "type": "scatter3d",
         "x": [
          229,
          230
         ],
         "y": [
          422,
          423
         ],
         "z": [
          220,
          219
         ]
        },
        {
         "hoverinfo": "text",
         "line": {
          "color": "gray",
          "width": 3
         },
         "mode": "lines",
         "text": "30.03",
         "type": "scatter3d",
         "x": [
          230,
          260
         ],
         "y": [
          346,
          345
         ],
         "z": [
          311,
          312
         ]
        },
        {
         "hoverinfo": "text",
         "line": {
          "color": "orange",
          "width": 3
         },
         "mode": "lines",
         "text": "1.00",
         "type": "scatter3d",
         "x": [
          230,
          230
         ],
         "y": [
          422,
          423
         ],
         "z": [
          219,
          219
         ]
        },
        {
         "hoverinfo": "text",
         "line": {
          "color": "gray",
          "width": 3
         },
         "mode": "lines",
         "text": "43.69",
         "type": "scatter3d",
         "x": [
          230,
          242
         ],
         "y": [
          423,
          456
         ],
         "z": [
          219,
          193
         ]
        },
        {
         "hoverinfo": "text",
         "line": {
          "color": "orange",
          "width": 3
         },
         "mode": "lines",
         "text": "1.41",
         "type": "scatter3d",
         "x": [
          230,
          231
         ],
         "y": [
          446,
          446
         ],
         "z": [
          96,
          95
         ]
        },
        {
         "hoverinfo": "text",
         "line": {
          "color": "gray",
          "width": 3
         },
         "mode": "lines",
         "text": "93.21",
         "type": "scatter3d",
         "x": [
          230,
          246
         ],
         "y": [
          446,
          389
         ],
         "z": [
          96,
          168
         ]
        },
        {
         "hoverinfo": "text",
         "line": {
          "color": "gray",
          "width": 3
         },
         "mode": "lines",
         "text": "38.65",
         "type": "scatter3d",
         "x": [
          231,
          264
         ],
         "y": [
          269,
          287
         ],
         "z": [
          364,
          355
         ]
        },
        {
         "hoverinfo": "text",
         "line": {
          "color": "gray",
          "width": 3
         },
         "mode": "lines",
         "text": "77.36",
         "type": "scatter3d",
         "x": [
          232,
          250
         ],
         "y": [
          368,
          443
         ],
         "z": [
          254,
          260
         ]
        },
        {
         "hoverinfo": "text",
         "line": {
          "color": "gray",
          "width": 3
         },
         "mode": "lines",
         "text": "37.01",
         "type": "scatter3d",
         "x": [
          232,
          263
         ],
         "y": [
          368,
          365
         ],
         "z": [
          254,
          234
         ]
        },
        {
         "hoverinfo": "text",
         "line": {
          "color": "orange",
          "width": 3
         },
         "mode": "lines",
         "text": "1.00",
         "type": "scatter3d",
         "x": [
          232,
          232
         ],
         "y": [
          422,
          423
         ],
         "z": [
          309,
          309
         ]
        },
        {
         "hoverinfo": "text",
         "line": {
          "color": "orange",
          "width": 3
         },
         "mode": "lines",
         "text": "1.41",
         "type": "scatter3d",
         "x": [
          232,
          233
         ],
         "y": [
          422,
          423
         ],
         "z": [
          309,
          309
         ]
        },
        {
         "hoverinfo": "text",
         "line": {
          "color": "orange",
          "width": 3
         },
         "mode": "lines",
         "text": "1.00",
         "type": "scatter3d",
         "x": [
          232,
          233
         ],
         "y": [
          423,
          423
         ],
         "z": [
          309,
          309
         ]
        },
        {
         "hoverinfo": "text",
         "line": {
          "color": "gray",
          "width": 3
         },
         "mode": "lines",
         "text": "20.42",
         "type": "scatter3d",
         "x": [
          233,
          247
         ],
         "y": [
          423,
          437
         ],
         "z": [
          309,
          314
         ]
        },
        {
         "hoverinfo": "text",
         "line": {
          "color": "orange",
          "width": 3
         },
         "mode": "lines",
         "text": "1.00",
         "type": "scatter3d",
         "x": [
          237,
          237
         ],
         "y": [
          291,
          292
         ],
         "z": [
          298,
          298
         ]
        },
        {
         "hoverinfo": "text",
         "line": {
          "color": "orange",
          "width": 3
         },
         "mode": "lines",
         "text": "1.41",
         "type": "scatter3d",
         "x": [
          237,
          238
         ],
         "y": [
          291,
          292
         ],
         "z": [
          298,
          298
         ]
        },
        {
         "hoverinfo": "text",
         "line": {
          "color": "orange",
          "width": 3
         },
         "mode": "lines",
         "text": "1.00",
         "type": "scatter3d",
         "x": [
          237,
          238
         ],
         "y": [
          292,
          292
         ],
         "z": [
          298,
          298
         ]
        },
        {
         "hoverinfo": "text",
         "line": {
          "color": "orange",
          "width": 3
         },
         "mode": "lines",
         "text": "19.00",
         "type": "scatter3d",
         "x": [
          238,
          256
         ],
         "y": [
          292,
          291
         ],
         "z": [
          298,
          304
         ]
        },
        {
         "hoverinfo": "text",
         "line": {
          "color": "gray",
          "width": 3
         },
         "mode": "lines",
         "text": "46.16",
         "type": "scatter3d",
         "x": [
          239,
          248
         ],
         "y": [
          366,
          321
         ],
         "z": [
          395,
          400
         ]
        },
        {
         "hoverinfo": "text",
         "line": {
          "color": "orange",
          "width": 3
         },
         "mode": "lines",
         "text": "4.36",
         "type": "scatter3d",
         "x": [
          239,
          242
         ],
         "y": [
          460,
          457
         ],
         "z": [
          193,
          192
         ]
        },
        {
         "hoverinfo": "text",
         "line": {
          "color": "orange",
          "width": 3
         },
         "mode": "lines",
         "text": "14.56",
         "type": "scatter3d",
         "x": [
          240,
          240
         ],
         "y": [
          298,
          312
         ],
         "z": [
          205,
          209
         ]
        },
        {
         "hoverinfo": "text",
         "line": {
          "color": "gray",
          "width": 3
         },
         "mode": "lines",
         "text": "55.17",
         "type": "scatter3d",
         "x": [
          240,
          268
         ],
         "y": [
          312,
          300
         ],
         "z": [
          209,
          163
         ]
        },
        {
         "hoverinfo": "text",
         "line": {
          "color": "gray",
          "width": 3
         },
         "mode": "lines",
         "text": "45.55",
         "type": "scatter3d",
         "x": [
          240,
          249
         ],
         "y": [
          345,
          320
         ],
         "z": [
          438,
          401
         ]
        },
        {
         "hoverinfo": "text",
         "line": {
          "color": "gray",
          "width": 3
         },
         "mode": "lines",
         "text": "44.91",
         "type": "scatter3d",
         "x": [
          240,
          261
         ],
         "y": [
          345,
          371
         ],
         "z": [
          438,
          468
         ]
        },
        {
         "hoverinfo": "text",
         "line": {
          "color": "orange",
          "width": 3
         },
         "mode": "lines",
         "text": "1.00",
         "type": "scatter3d",
         "x": [
          241,
          242
         ],
         "y": [
          296,
          296
         ],
         "z": [
          417,
          417
         ]
        },
        {
         "hoverinfo": "text",
         "line": {
          "color": "orange",
          "width": 3
         },
         "mode": "lines",
         "text": "1.73",
         "type": "scatter3d",
         "x": [
          241,
          242
         ],
         "y": [
          296,
          297
         ],
         "z": [
          417,
          418
         ]
        },
        {
         "hoverinfo": "text",
         "line": {
          "color": "orange",
          "width": 3
         },
         "mode": "lines",
         "text": "1.00",
         "type": "scatter3d",
         "x": [
          241,
          242
         ],
         "y": [
          385,
          385
         ],
         "z": [
          189,
          189
         ]
        },
        {
         "hoverinfo": "text",
         "line": {
          "color": "orange",
          "width": 3
         },
         "mode": "lines",
         "text": "1.73",
         "type": "scatter3d",
         "x": [
          241,
          242
         ],
         "y": [
          385,
          386
         ],
         "z": [
          189,
          188
         ]
        },
        {
         "hoverinfo": "text",
         "line": {
          "color": "orange",
          "width": 3
         },
         "mode": "lines",
         "text": "1.41",
         "type": "scatter3d",
         "x": [
          242,
          242
         ],
         "y": [
          296,
          297
         ],
         "z": [
          417,
          418
         ]
        },
        {
         "hoverinfo": "text",
         "line": {
          "color": "gray",
          "width": 3
         },
         "mode": "lines",
         "text": "37.05",
         "type": "scatter3d",
         "x": [
          242,
          254
         ],
         "y": [
          296,
          298
         ],
         "z": [
          417,
          382
         ]
        },
        {
         "hoverinfo": "text",
         "line": {
          "color": "orange",
          "width": 3
         },
         "mode": "lines",
         "text": "1.41",
         "type": "scatter3d",
         "x": [
          242,
          243
         ],
         "y": [
          385,
          386
         ],
         "z": [
          175,
          175
         ]
        },
        {
         "hoverinfo": "text",
         "line": {
          "color": "orange",
          "width": 3
         },
         "mode": "lines",
         "text": "1.73",
         "type": "scatter3d",
         "x": [
          242,
          243
         ],
         "y": [
          385,
          386
         ],
         "z": [
          175,
          176
         ]
        },
        {
         "hoverinfo": "text",
         "line": {
          "color": "gray",
          "width": 3
         },
         "mode": "lines",
         "text": "39.51",
         "type": "scatter3d",
         "x": [
          242,
          248
         ],
         "y": [
          385,
          360
         ],
         "z": [
          175,
          145
         ]
        },
        {
         "hoverinfo": "text",
         "line": {
          "color": "orange",
          "width": 3
         },
         "mode": "lines",
         "text": "1.41",
         "type": "scatter3d",
         "x": [
          242,
          242
         ],
         "y": [
          385,
          386
         ],
         "z": [
          189,
          188
         ]
        },
        {
         "hoverinfo": "text",
         "line": {
          "color": "gray",
          "width": 3
         },
         "mode": "lines",
         "text": "50.48",
         "type": "scatter3d",
         "x": [
          242,
          278
         ],
         "y": [
          385,
          359
         ],
         "z": [
          189,
          165
         ]
        },
        {
         "hoverinfo": "text",
         "line": {
          "color": "orange",
          "width": 3
         },
         "mode": "lines",
         "text": "12.04",
         "type": "scatter3d",
         "x": [
          242,
          243
         ],
         "y": [
          386,
          386
         ],
         "z": [
          188,
          176
         ]
        },
        {
         "hoverinfo": "text",
         "line": {
          "color": "orange",
          "width": 3
         },
         "mode": "lines",
         "text": "1.41",
         "type": "scatter3d",
         "x": [
          242,
          242
         ],
         "y": [
          456,
          457
         ],
         "z": [
          193,
          192
         ]
        },
        {
         "hoverinfo": "text",
         "line": {
          "color": "orange",
          "width": 3
         },
         "mode": "lines",
         "text": "1.73",
         "type": "scatter3d",
         "x": [
          242,
          243
         ],
         "y": [
          456,
          457
         ],
         "z": [
          193,
          192
         ]
        },
        {
         "hoverinfo": "text",
         "line": {
          "color": "orange",
          "width": 3
         },
         "mode": "lines",
         "text": "1.00",
         "type": "scatter3d",
         "x": [
          242,
          243
         ],
         "y": [
          457,
          457
         ],
         "z": [
          192,
          192
         ]
        },
        {
         "hoverinfo": "text",
         "line": {
          "color": "orange",
          "width": 3
         },
         "mode": "lines",
         "text": "1.00",
         "type": "scatter3d",
         "x": [
          243,
          243
         ],
         "y": [
          386,
          386
         ],
         "z": [
          175,
          176
         ]
        },
        {
         "hoverinfo": "text",
         "line": {
          "color": "orange",
          "width": 3
         },
         "mode": "lines",
         "text": "8.19",
         "type": "scatter3d",
         "x": [
          243,
          246
         ],
         "y": [
          386,
          389
         ],
         "z": [
          175,
          168
         ]
        },
        {
         "hoverinfo": "text",
         "line": {
          "color": "orange",
          "width": 3
         },
         "mode": "lines",
         "text": "4.47",
         "type": "scatter3d",
         "x": [
          243,
          247
         ],
         "y": [
          457,
          457
         ],
         "z": [
          192,
          190
         ]
        },
        {
         "hoverinfo": "text",
         "line": {
          "color": "gray",
          "width": 3
         },
         "mode": "lines",
         "text": "25.67",
         "type": "scatter3d",
         "x": [
          245,
          248
         ],
         "y": [
          410,
          387
         ],
         "z": [
          353,
          342
         ]
        },
        {
         "hoverinfo": "text",
         "line": {
          "color": "gray",
          "width": 3
         },
         "mode": "lines",
         "text": "73.17",
         "type": "scatter3d",
         "x": [
          246,
          281
         ],
         "y": [
          389,
          366
         ],
         "z": [
          168,
          108
         ]
        },
        {
         "hoverinfo": "text",
         "line": {
          "color": "orange",
          "width": 3
         },
         "mode": "lines",
         "text": "14.14",
         "type": "scatter3d",
         "x": [
          247,
          247
         ],
         "y": [
          437,
          447
         ],
         "z": [
          314,
          324
         ]
        },
        {
         "hoverinfo": "text",
         "line": {
          "color": "gray",
          "width": 3
         },
         "mode": "lines",
         "text": "27.82",
         "type": "scatter3d",
         "x": [
          247,
          248
         ],
         "y": [
          437,
          459
         ],
         "z": [
          314,
          297
         ]
        },
        {
         "hoverinfo": "text",
         "line": {
          "color": "orange",
          "width": 3
         },
         "mode": "lines",
         "text": "1.41",
         "type": "scatter3d",
         "x": [
          248,
          249
         ],
         "y": [
          321,
          320
         ],
         "z": [
          400,
          400
         ]
        },
        {
         "hoverinfo": "text",
         "line": {
          "color": "orange",
          "width": 3
         },
         "mode": "lines",
         "text": "1.73",
         "type": "scatter3d",
         "x": [
          248,
          249
         ],
         "y": [
          321,
          320
         ],
         "z": [
          400,
          401
         ]
        },
        {
         "hoverinfo": "text",
         "line": {
          "color": "orange",
          "width": 3
         },
         "mode": "lines",
         "text": "1.00",
         "type": "scatter3d",
         "x": [
          248,
          248
         ],
         "y": [
          386,
          387
         ],
         "z": [
          342,
          342
         ]
        },
        {
         "hoverinfo": "text",
         "line": {
          "color": "orange",
          "width": 3
         },
         "mode": "lines",
         "text": "1.41",
         "type": "scatter3d",
         "x": [
          248,
          249
         ],
         "y": [
          386,
          386
         ],
         "z": [
          342,
          343
         ]
        },
        {
         "hoverinfo": "text",
         "line": {
          "color": "orange",
          "width": 3
         },
         "mode": "lines",
         "text": "1.73",
         "type": "scatter3d",
         "x": [
          248,
          249
         ],
         "y": [
          387,
          386
         ],
         "z": [
          342,
          343
         ]
        },
        {
         "hoverinfo": "text",
         "line": {
          "color": "orange",
          "width": 3
         },
         "mode": "lines",
         "text": "1.00",
         "type": "scatter3d",
         "x": [
          249,
          249
         ],
         "y": [
          320,
          320
         ],
         "z": [
          400,
          401
         ]
        },
        {
         "hoverinfo": "text",
         "line": {
          "color": "gray",
          "width": 3
         },
         "mode": "lines",
         "text": "28.86",
         "type": "scatter3d",
         "x": [
          249,
          254
         ],
         "y": [
          320,
          298
         ],
         "z": [
          400,
          382
         ]
        },
        {
         "hoverinfo": "text",
         "line": {
          "color": "gray",
          "width": 3
         },
         "mode": "lines",
         "text": "20.86",
         "type": "scatter3d",
         "x": [
          249,
          254
         ],
         "y": [
          386,
          397
         ],
         "z": [
          343,
          360
         ]
        },
        {
         "hoverinfo": "text",
         "line": {
          "color": "gray",
          "width": 3
         },
         "mode": "lines",
         "text": "29.95",
         "type": "scatter3d",
         "x": [
          254,
          265
         ],
         "y": [
          298,
          288
         ],
         "z": [
          382,
          356
         ]
        },
        {
         "hoverinfo": "text",
         "line": {
          "color": "orange",
          "width": 3
         },
         "mode": "lines",
         "text": "1.41",
         "type": "scatter3d",
         "x": [
          256,
          256
         ],
         "y": [
          290,
          291
         ],
         "z": [
          305,
          304
         ]
        },
        {
         "hoverinfo": "text",
         "line": {
          "color": "orange",
          "width": 3
         },
         "mode": "lines",
         "text": "1.41",
         "type": "scatter3d",
         "x": [
          256,
          257
         ],
         "y": [
          290,
          290
         ],
         "z": [
          305,
          304
         ]
        },
        {
         "hoverinfo": "text",
         "line": {
          "color": "orange",
          "width": 3
         },
         "mode": "lines",
         "text": "1.41",
         "type": "scatter3d",
         "x": [
          256,
          257
         ],
         "y": [
          291,
          290
         ],
         "z": [
          304,
          304
         ]
        },
        {
         "hoverinfo": "text",
         "line": {
          "color": "gray",
          "width": 3
         },
         "mode": "lines",
         "text": "52.33",
         "type": "scatter3d",
         "x": [
          257,
          306
         ],
         "y": [
          290,
          281
         ],
         "z": [
          304,
          320
         ]
        },
        {
         "hoverinfo": "text",
         "line": {
          "color": "orange",
          "width": 3
         },
         "mode": "lines",
         "text": "1.00",
         "type": "scatter3d",
         "x": [
          264,
          265
         ],
         "y": [
          287,
          287
         ],
         "z": [
          355,
          355
         ]
        },
        {
         "hoverinfo": "text",
         "line": {
          "color": "orange",
          "width": 3
         },
         "mode": "lines",
         "text": "1.73",
         "type": "scatter3d",
         "x": [
          264,
          265
         ],
         "y": [
          287,
          288
         ],
         "z": [
          355,
          356
         ]
        },
        {
         "hoverinfo": "text",
         "line": {
          "color": "orange",
          "width": 3
         },
         "mode": "lines",
         "text": "1.41",
         "type": "scatter3d",
         "x": [
          265,
          265
         ],
         "y": [
          287,
          288
         ],
         "z": [
          355,
          356
         ]
        },
        {
         "hoverinfo": "text",
         "line": {
          "color": "gray",
          "width": 3
         },
         "mode": "lines",
         "text": "53.50",
         "type": "scatter3d",
         "x": [
          265,
          306
         ],
         "y": [
          287,
          282
         ],
         "z": [
          355,
          321
         ]
        },
        {
         "hoverinfo": "text",
         "line": {
          "color": "orange",
          "width": 3
         },
         "mode": "lines",
         "text": "1.41",
         "type": "scatter3d",
         "x": [
          306,
          306
         ],
         "y": [
          281,
          282
         ],
         "z": [
          320,
          321
         ]
        },
        {
         "hoverinfo": "text",
         "line": {
          "color": "orange",
          "width": 3
         },
         "mode": "lines",
         "text": "1.00",
         "type": "scatter3d",
         "x": [
          306,
          307
         ],
         "y": [
          281,
          281
         ],
         "z": [
          320,
          320
         ]
        },
        {
         "hoverinfo": "text",
         "line": {
          "color": "orange",
          "width": 3
         },
         "mode": "lines",
         "text": "1.73",
         "type": "scatter3d",
         "x": [
          306,
          307
         ],
         "y": [
          282,
          281
         ],
         "z": [
          321,
          320
         ]
        },
        {
         "hoverinfo": "text",
         "line": {
          "color": "gray",
          "width": 3
         },
         "mode": "lines",
         "text": "41.99",
         "type": "scatter3d",
         "x": [
          307,
          340
         ],
         "y": [
          281,
          256
         ],
         "z": [
          320,
          327
         ]
        },
        {
         "hoverinfo": "text",
         "line": {
          "color": "orange",
          "width": 3
         },
         "mode": "lines",
         "text": "1.41",
         "type": "scatter3d",
         "x": [
          340,
          340
         ],
         "y": [
          254,
          255
         ],
         "z": [
          325,
          326
         ]
        },
        {
         "hoverinfo": "text",
         "line": {
          "color": "orange",
          "width": 3
         },
         "mode": "lines",
         "text": "1.41",
         "type": "scatter3d",
         "x": [
          340,
          340
         ],
         "y": [
          255,
          256
         ],
         "z": [
          326,
          327
         ]
        },
        {
         "hoverinfo": "text",
         "line": {
          "color": "orange",
          "width": 3
         },
         "mode": "lines",
         "text": "1.41",
         "type": "scatter3d",
         "x": [
          340,
          341
         ],
         "y": [
          255,
          255
         ],
         "z": [
          326,
          327
         ]
        },
        {
         "hoverinfo": "text",
         "line": {
          "color": "orange",
          "width": 3
         },
         "mode": "lines",
         "text": "1.41",
         "type": "scatter3d",
         "x": [
          340,
          341
         ],
         "y": [
          256,
          255
         ],
         "z": [
          327,
          327
         ]
        },
        {
         "hoverinfo": "text",
         "line": {
          "color": "gray",
          "width": 3
         },
         "mode": "lines",
         "text": "21.35",
         "type": "scatter3d",
         "x": [
          341,
          355
         ],
         "y": [
          255,
          239
         ],
         "z": [
          327,
          329
         ]
        },
        {
         "hoverinfo": "text",
         "line": {
          "color": "orange",
          "width": 3
         },
         "mode": "lines",
         "text": "1.41",
         "type": "scatter3d",
         "x": [
          355,
          356
         ],
         "y": [
          239,
          239
         ],
         "z": [
          329,
          330
         ]
        },
        {
         "hoverinfo": "text",
         "line": {
          "color": "orange",
          "width": 3
         },
         "mode": "lines",
         "text": "1.73",
         "type": "scatter3d",
         "x": [
          355,
          356
         ],
         "y": [
          239,
          240
         ],
         "z": [
          329,
          330
         ]
        },
        {
         "hoverinfo": "text",
         "line": {
          "color": "orange",
          "width": 3
         },
         "mode": "lines",
         "text": "1.00",
         "type": "scatter3d",
         "x": [
          356,
          356
         ],
         "y": [
          239,
          240
         ],
         "z": [
          330,
          330
         ]
        },
        {
         "hoverinfo": "text",
         "line": {
          "color": "orange",
          "width": 3
         },
         "mode": "lines",
         "text": "4.24",
         "type": "scatter3d",
         "x": [
          356,
          359
         ],
         "y": [
          239,
          236
         ],
         "z": [
          330,
          330
         ]
        },
        {
         "hoverinfo": "text",
         "line": {
          "color": "orange",
          "width": 3
         },
         "mode": "lines",
         "text": "1.41",
         "type": "scatter3d",
         "x": [
          356,
          356
         ],
         "y": [
          240,
          241
         ],
         "z": [
          330,
          331
         ]
        },
        {
         "hoverinfo": "text",
         "line": {
          "color": "orange",
          "width": 3
         },
         "mode": "lines",
         "text": "1.73",
         "type": "scatter3d",
         "x": [
          359,
          360
         ],
         "y": [
          236,
          235
         ],
         "z": [
          330,
          331
         ]
        },
        {
         "hoverinfo": "text",
         "line": {
          "color": "orange",
          "width": 3
         },
         "mode": "lines",
         "text": "1.41",
         "type": "scatter3d",
         "x": [
          359,
          360
         ],
         "y": [
          236,
          236
         ],
         "z": [
          330,
          331
         ]
        },
        {
         "hoverinfo": "text",
         "line": {
          "color": "orange",
          "width": 3
         },
         "mode": "lines",
         "text": "1.00",
         "type": "scatter3d",
         "x": [
          360,
          360
         ],
         "y": [
          235,
          236
         ],
         "z": [
          331,
          331
         ]
        },
        {
         "hoverinfo": "text",
         "line": {
          "color": "orange",
          "width": 3
         },
         "mode": "lines",
         "text": "7.87",
         "type": "scatter3d",
         "x": [
          360,
          365
         ],
         "y": [
          235,
          229
         ],
         "z": [
          331,
          332
         ]
        },
        {
         "hoverinfo": "text",
         "line": {
          "color": "orange",
          "width": 3
         },
         "mode": "lines",
         "text": "2.83",
         "type": "scatter3d",
         "x": [
          360,
          360
         ],
         "y": [
          236,
          238
         ],
         "z": [
          331,
          333
         ]
        },
        {
         "hoverinfo": "text",
         "line": {
          "color": "orange",
          "width": 3
         },
         "mode": "lines",
         "text": "3.00",
         "type": "scatter3d",
         "x": [
          365,
          366
         ],
         "y": [
          229,
          231
         ],
         "z": [
          332,
          334
         ]
        },
        {
         "hoverinfo": "text",
         "line": {
          "color": "orange",
          "width": 3
         },
         "mode": "lines",
         "text": "5.00",
         "type": "scatter3d",
         "x": [
          365,
          368
         ],
         "y": [
          229,
          225
         ],
         "z": [
          332,
          332
         ]
        },
        {
         "hoverinfo": "text",
         "line": {
          "color": "orange",
          "width": 3
         },
         "mode": "lines",
         "text": "1.73",
         "type": "scatter3d",
         "x": [
          368,
          369
         ],
         "y": [
          225,
          224
         ],
         "z": [
          332,
          333
         ]
        },
        {
         "hoverinfo": "text",
         "line": {
          "color": "orange",
          "width": 3
         },
         "mode": "lines",
         "text": "1.41",
         "type": "scatter3d",
         "x": [
          368,
          369
         ],
         "y": [
          225,
          225
         ],
         "z": [
          332,
          333
         ]
        },
        {
         "hoverinfo": "text",
         "line": {
          "color": "orange",
          "width": 3
         },
         "mode": "lines",
         "text": "1.73",
         "type": "scatter3d",
         "x": [
          368,
          369
         ],
         "y": [
          226,
          225
         ],
         "z": [
          334,
          333
         ]
        },
        {
         "hoverinfo": "text",
         "line": {
          "color": "orange",
          "width": 3
         },
         "mode": "lines",
         "text": "1.00",
         "type": "scatter3d",
         "x": [
          369,
          369
         ],
         "y": [
          224,
          225
         ],
         "z": [
          333,
          333
         ]
        },
        {
         "hoverinfo": "text",
         "line": {
          "color": "gray",
          "width": 3
         },
         "mode": "lines",
         "text": "28.11",
         "type": "scatter3d",
         "x": [
          369,
          384
         ],
         "y": [
          224,
          202
         ],
         "z": [
          333,
          342
         ]
        },
        {
         "hoverinfo": "text",
         "line": {
          "color": "orange",
          "width": 3
         },
         "mode": "lines",
         "text": "1.41",
         "type": "scatter3d",
         "x": [
          384,
          384
         ],
         "y": [
          202,
          203
         ],
         "z": [
          342,
          343
         ]
        },
        {
         "hoverinfo": "text",
         "line": {
          "color": "gray",
          "width": 3
         },
         "mode": "lines",
         "text": "74.81",
         "type": "scatter3d",
         "x": [
          384,
          404
         ],
         "y": [
          202,
          136
         ],
         "z": [
          342,
          313
         ]
        },
        {
         "hoverinfo": "text",
         "line": {
          "color": "orange",
          "width": 3
         },
         "mode": "lines",
         "text": "1.41",
         "type": "scatter3d",
         "x": [
          384,
          385
         ],
         "y": [
          203,
          203
         ],
         "z": [
          343,
          344
         ]
        },
        {
         "hoverinfo": "text",
         "line": {
          "color": "gray",
          "width": 3
         },
         "mode": "lines",
         "text": "109.90",
         "type": "scatter3d",
         "x": [
          384,
          425
         ],
         "y": [
          203,
          304
         ],
         "z": [
          343,
          357
         ]
        },
        {
         "hoverinfo": "text",
         "line": {
          "color": "gray",
          "width": 3
         },
         "mode": "lines",
         "text": "28.09",
         "type": "scatter3d",
         "x": [
          425,
          450
         ],
         "y": [
          304,
          294
         ],
         "z": [
          357,
          365
         ]
        },
        {
         "hoverinfo": "text",
         "line": {
          "color": "gray",
          "width": 3
         },
         "mode": "lines",
         "text": "40.36",
         "type": "scatter3d",
         "x": [
          425,
          452
         ],
         "y": [
          304,
          328
         ],
         "z": [
          357,
          339
         ]
        },
        {
         "hoverinfo": "text",
         "line": {
          "color": "gray",
          "width": 3
         },
         "mode": "lines",
         "text": "70.68",
         "type": "scatter3d",
         "x": [
          426,
          450
         ],
         "y": [
          183,
          247
         ],
         "z": [
          423,
          441
         ]
        },
        {
         "hoverinfo": "text",
         "line": {
          "color": "orange",
          "width": 3
         },
         "mode": "lines",
         "text": "18.14",
         "type": "scatter3d",
         "x": [
          428,
          429
         ],
         "y": [
          440,
          422
         ],
         "z": [
          149,
          147
         ]
        },
        {
         "hoverinfo": "text",
         "line": {
          "color": "orange",
          "width": 3
         },
         "mode": "lines",
         "text": "18.47",
         "type": "scatter3d",
         "x": [
          429,
          431
         ],
         "y": [
          422,
          431
         ],
         "z": [
          147,
          131
         ]
        },
        {
         "hoverinfo": "text",
         "line": {
          "color": "gray",
          "width": 3
         },
         "mode": "lines",
         "text": "37.34",
         "type": "scatter3d",
         "x": [
          429,
          446
         ],
         "y": [
          422,
          391
         ],
         "z": [
          147,
          159
         ]
        },
        {
         "hoverinfo": "text",
         "line": {
          "color": "gray",
          "width": 3
         },
         "mode": "lines",
         "text": "43.74",
         "type": "scatter3d",
         "x": [
          431,
          445
         ],
         "y": [
          387,
          393
         ],
         "z": [
          100,
          141
         ]
        },
        {
         "hoverinfo": "text",
         "line": {
          "color": "orange",
          "width": 3
         },
         "mode": "lines",
         "text": "18.06",
         "type": "scatter3d",
         "x": [
          437,
          448
         ],
         "y": [
          118,
          132
         ],
         "z": [
          358,
          361
         ]
        },
        {
         "hoverinfo": "text",
         "line": {
          "color": "gray",
          "width": 3
         },
         "mode": "lines",
         "text": "102.80",
         "type": "scatter3d",
         "x": [
          437,
          471
         ],
         "y": [
          315,
          301
         ],
         "z": [
          481,
          385
         ]
        },
        {
         "hoverinfo": "text",
         "line": {
          "color": "gray",
          "width": 3
         },
         "mode": "lines",
         "text": "25.79",
         "type": "scatter3d",
         "x": [
          438,
          448
         ],
         "y": [
          442,
          436
         ],
         "z": [
          245,
          268
         ]
        },
        {
         "hoverinfo": "text",
         "line": {
          "color": "orange",
          "width": 3
         },
         "mode": "lines",
         "text": "9.49",
         "type": "scatter3d",
         "x": [
          440,
          447
         ],
         "y": [
          254,
          249
         ],
         "z": [
          457,
          453
         ]
        },
        {
         "hoverinfo": "text",
         "line": {
          "color": "gray",
          "width": 3
         },
         "mode": "lines",
         "text": "20.86",
         "type": "scatter3d",
         "x": [
          441,
          448
         ],
         "y": [
          428,
          409
         ],
         "z": [
          332,
          337
         ]
        },
        {
         "hoverinfo": "text",
         "line": {
          "color": "orange",
          "width": 3
         },
         "mode": "lines",
         "text": "18.14",
         "type": "scatter3d",
         "x": [
          445,
          446
         ],
         "y": [
          393,
          391
         ],
         "z": [
          141,
          159
         ]
        },
        {
         "hoverinfo": "text",
         "line": {
          "color": "gray",
          "width": 3
         },
         "mode": "lines",
         "text": "89.46",
         "type": "scatter3d",
         "x": [
          445,
          460
         ],
         "y": [
          393,
          436
         ],
         "z": [
          141,
          64
         ]
        },
        {
         "hoverinfo": "text",
         "line": {
          "color": "orange",
          "width": 3
         },
         "mode": "lines",
         "text": "14.25",
         "type": "scatter3d",
         "x": [
          445,
          448
         ],
         "y": [
          449,
          436
         ],
         "z": [
          273,
          268
         ]
        },
        {
         "hoverinfo": "text",
         "line": {
          "color": "orange",
          "width": 3
         },
         "mode": "lines",
         "text": "17.29",
         "type": "scatter3d",
         "x": [
          446,
          453
         ],
         "y": [
          391,
          386
         ],
         "z": [
          159,
          174
         ]
        },
        {
         "hoverinfo": "text",
         "line": {
          "color": "orange",
          "width": 3
         },
         "mode": "lines",
         "text": "7.62",
         "type": "scatter3d",
         "x": [
          447,
          447
         ],
         "y": [
          246,
          249
         ],
         "z": [
          460,
          453
         ]
        },
        {
         "hoverinfo": "text",
         "line": {
          "color": "orange",
          "width": 3
         },
         "mode": "lines",
         "text": "12.41",
         "type": "scatter3d",
         "x": [
          447,
          450
         ],
         "y": [
          249,
          248
         ],
         "z": [
          453,
          441
         ]
        },
        {
         "hoverinfo": "text",
         "line": {
          "color": "gray",
          "width": 3
         },
         "mode": "lines",
         "text": "69.32",
         "type": "scatter3d",
         "x": [
          447,
          478
         ],
         "y": [
          358,
          358
         ],
         "z": [
          249,
          311
         ]
        },
        {
         "hoverinfo": "text",
         "line": {
          "color": "orange",
          "width": 3
         },
         "mode": "lines",
         "text": "1.41",
         "type": "scatter3d",
         "x": [
          448,
          449
         ],
         "y": [
          132,
          132
         ],
         "z": [
          361,
          362
         ]
        },
        {
         "hoverinfo": "text",
         "line": {
          "color": "orange",
          "width": 3
         },
         "mode": "lines",
         "text": "1.41",
         "type": "scatter3d",
         "x": [
          448,
          449
         ],
         "y": [
          132,
          133
         ],
         "z": [
          361,
          361
         ]
        },
        {
         "hoverinfo": "text",
         "line": {
          "color": "orange",
          "width": 3
         },
         "mode": "lines",
         "text": "1.41",
         "type": "scatter3d",
         "x": [
          448,
          449
         ],
         "y": [
          409,
          408
         ],
         "z": [
          337,
          337
         ]
        },
        {
         "hoverinfo": "text",
         "line": {
          "color": "orange",
          "width": 3
         },
         "mode": "lines",
         "text": "1.41",
         "type": "scatter3d",
         "x": [
          448,
          449
         ],
         "y": [
          409,
          409
         ],
         "z": [
          337,
          338
         ]
        },
        {
         "hoverinfo": "text",
         "line": {
          "color": "gray",
          "width": 3
         },
         "mode": "lines",
         "text": "30.15",
         "type": "scatter3d",
         "x": [
          448,
          467
         ],
         "y": [
          436,
          414
         ],
         "z": [
          268,
          276
         ]
        },
        {
         "hoverinfo": "text",
         "line": {
          "color": "orange",
          "width": 3
         },
         "mode": "lines",
         "text": "1.41",
         "type": "scatter3d",
         "x": [
          449,
          449
         ],
         "y": [
          132,
          133
         ],
         "z": [
          362,
          361
         ]
        },
        {
         "hoverinfo": "text",
         "line": {
          "color": "orange",
          "width": 3
         },
         "mode": "lines",
         "text": "17.80",
         "type": "scatter3d",
         "x": [
          449,
          451
         ],
         "y": [
          132,
          120
         ],
         "z": [
          362,
          375
         ]
        },
        {
         "hoverinfo": "text",
         "line": {
          "color": "gray",
          "width": 3
         },
         "mode": "lines",
         "text": "44.01",
         "type": "scatter3d",
         "x": [
          449,
          474
         ],
         "y": [
          133,
          169
         ],
         "z": [
          361,
          357
         ]
        },
        {
         "hoverinfo": "text",
         "line": {
          "color": "orange",
          "width": 3
         },
         "mode": "lines",
         "text": "1.41",
         "type": "scatter3d",
         "x": [
          449,
          449
         ],
         "y": [
          408,
          409
         ],
         "z": [
          337,
          338
         ]
        },
        {
         "hoverinfo": "text",
         "line": {
          "color": "gray",
          "width": 3
         },
         "mode": "lines",
         "text": "59.21",
         "type": "scatter3d",
         "x": [
          449,
          478
         ],
         "y": [
          408,
          364
         ],
         "z": [
          337,
          310
         ]
        },
        {
         "hoverinfo": "text",
         "line": {
          "color": "gray",
          "width": 3
         },
         "mode": "lines",
         "text": "57.70",
         "type": "scatter3d",
         "x": [
          449,
          471
         ],
         "y": [
          409,
          436
         ],
         "z": [
          338,
          384
         ]
        },
        {
         "hoverinfo": "text",
         "line": {
          "color": "orange",
          "width": 3
         },
         "mode": "lines",
         "text": "1.41",
         "type": "scatter3d",
         "x": [
          450,
          450
         ],
         "y": [
          247,
          248
         ],
         "z": [
          441,
          440
         ]
        },
        {
         "hoverinfo": "text",
         "line": {
          "color": "orange",
          "width": 3
         },
         "mode": "lines",
         "text": "1.00",
         "type": "scatter3d",
         "x": [
          450,
          450
         ],
         "y": [
          247,
          248
         ],
         "z": [
          441,
          441
         ]
        },
        {
         "hoverinfo": "text",
         "line": {
          "color": "orange",
          "width": 3
         },
         "mode": "lines",
         "text": "1.00",
         "type": "scatter3d",
         "x": [
          450,
          450
         ],
         "y": [
          248,
          248
         ],
         "z": [
          440,
          441
         ]
        },
        {
         "hoverinfo": "text",
         "line": {
          "color": "gray",
          "width": 3
         },
         "mode": "lines",
         "text": "30.56",
         "type": "scatter3d",
         "x": [
          450,
          465
         ],
         "y": [
          248,
          270
         ],
         "z": [
          440,
          425
         ]
        },
        {
         "hoverinfo": "text",
         "line": {
          "color": "gray",
          "width": 3
         },
         "mode": "lines",
         "text": "22.20",
         "type": "scatter3d",
         "x": [
          450,
          468
         ],
         "y": [
          294,
          294
         ],
         "z": [
          365,
          378
         ]
        },
        {
         "hoverinfo": "text",
         "line": {
          "color": "gray",
          "width": 3
         },
         "mode": "lines",
         "text": "52.94",
         "type": "scatter3d",
         "x": [
          450,
          483
         ],
         "y": [
          294,
          261
         ],
         "z": [
          365,
          340
         ]
        },
        {
         "hoverinfo": "text",
         "line": {
          "color": "gray",
          "width": 3
         },
         "mode": "lines",
         "text": "24.92",
         "type": "scatter3d",
         "x": [
          451,
          453
         ],
         "y": [
          370,
          386
         ],
         "z": [
          155,
          174
         ]
        },
        {
         "hoverinfo": "text",
         "line": {
          "color": "gray",
          "width": 3
         },
         "mode": "lines",
         "text": "22.02",
         "type": "scatter3d",
         "x": [
          451,
          460
         ],
         "y": [
          434,
          436
         ],
         "z": [
          44,
          64
         ]
        },
        {
         "hoverinfo": "text",
         "line": {
          "color": "gray",
          "width": 3
         },
         "mode": "lines",
         "text": "33.03",
         "type": "scatter3d",
         "x": [
          452,
          473
         ],
         "y": [
          328,
          333
         ],
         "z": [
          339,
          314
         ]
        },
        {
         "hoverinfo": "text",
         "line": {
          "color": "gray",
          "width": 3
         },
         "mode": "lines",
         "text": "34.55",
         "type": "scatter3d",
         "x": [
          452,
          480
         ],
         "y": [
          328,
          339
         ],
         "z": [
          339,
          356
         ]
        },
        {
         "hoverinfo": "text",
         "line": {
          "color": "gray",
          "width": 3
         },
         "mode": "lines",
         "text": "61.64",
         "type": "scatter3d",
         "x": [
          452,
          482
         ],
         "y": [
          344,
          372
         ],
         "z": [
          185,
          231
         ]
        },
        {
         "hoverinfo": "text",
         "line": {
          "color": "gray",
          "width": 3
         },
         "mode": "lines",
         "text": "29.22",
         "type": "scatter3d",
         "x": [
          453,
          463
         ],
         "y": [
          386,
          391
         ],
         "z": [
          174,
          201
         ]
        },
        {
         "hoverinfo": "text",
         "line": {
          "color": "orange",
          "width": 3
         },
         "mode": "lines",
         "text": "14.87",
         "type": "scatter3d",
         "x": [
          460,
          471
         ],
         "y": [
          436,
          442
         ],
         "z": [
          64,
          56
         ]
        },
        {
         "hoverinfo": "text",
         "line": {
          "color": "orange",
          "width": 3
         },
         "mode": "lines",
         "text": "5.20",
         "type": "scatter3d",
         "x": [
          463,
          464
         ],
         "y": [
          391,
          390
         ],
         "z": [
          201,
          206
         ]
        },
        {
         "hoverinfo": "text",
         "line": {
          "color": "gray",
          "width": 3
         },
         "mode": "lines",
         "text": "54.64",
         "type": "scatter3d",
         "x": [
          463,
          473
         ],
         "y": [
          391,
          438
         ],
         "z": [
          201,
          175
         ]
        },
        {
         "hoverinfo": "text",
         "line": {
          "color": "gray",
          "width": 3
         },
         "mode": "lines",
         "text": "34.48",
         "type": "scatter3d",
         "x": [
          464,
          482
         ],
         "y": [
          390,
          373
         ],
         "z": [
          206,
          230
         ]
        },
        {
         "hoverinfo": "text",
         "line": {
          "color": "gray",
          "width": 3
         },
         "mode": "lines",
         "text": "53.23",
         "type": "scatter3d",
         "x": [
          464,
          482
         ],
         "y": [
          390,
          440
         ],
         "z": [
          206,
          203
         ]
        },
        {
         "hoverinfo": "text",
         "line": {
          "color": "orange",
          "width": 3
         },
         "mode": "lines",
         "text": "1.41",
         "type": "scatter3d",
         "x": [
          465,
          466
         ],
         "y": [
          270,
          270
         ],
         "z": [
          425,
          426
         ]
        },
        {
         "hoverinfo": "text",
         "line": {
          "color": "orange",
          "width": 3
         },
         "mode": "lines",
         "text": "1.41",
         "type": "scatter3d",
         "x": [
          465,
          466
         ],
         "y": [
          270,
          271
         ],
         "z": [
          425,
          425
         ]
        },
        {
         "hoverinfo": "text",
         "line": {
          "color": "orange",
          "width": 3
         },
         "mode": "lines",
         "text": "1.41",
         "type": "scatter3d",
         "x": [
          466,
          466
         ],
         "y": [
          270,
          271
         ],
         "z": [
          426,
          425
         ]
        },
        {
         "hoverinfo": "text",
         "line": {
          "color": "gray",
          "width": 3
         },
         "mode": "lines",
         "text": "25.34",
         "type": "scatter3d",
         "x": [
          466,
          473
         ],
         "y": [
          270,
          247
         ],
         "z": [
          426,
          434
         ]
        },
        {
         "hoverinfo": "text",
         "line": {
          "color": "gray",
          "width": 3
         },
         "mode": "lines",
         "text": "44.79",
         "type": "scatter3d",
         "x": [
          466,
          477
         ],
         "y": [
          271,
          282
         ],
         "z": [
          425,
          383
         ]
        },
        {
         "hoverinfo": "text",
         "line": {
          "color": "gray",
          "width": 3
         },
         "mode": "lines",
         "text": "54.82",
         "type": "scatter3d",
         "x": [
          467,
          480
         ],
         "y": [
          414,
          370
         ],
         "z": [
          276,
          306
         ]
        },
        {
         "hoverinfo": "text",
         "line": {
          "color": "gray",
          "width": 3
         },
         "mode": "lines",
         "text": "31.83",
         "type": "scatter3d",
         "x": [
          467,
          489
         ],
         "y": [
          414,
          437
         ],
         "z": [
          276,
          276
         ]
        },
        {
         "hoverinfo": "text",
         "line": {
          "color": "orange",
          "width": 3
         },
         "mode": "lines",
         "text": "10.34",
         "type": "scatter3d",
         "x": [
          468,
          471
         ],
         "y": [
          294,
          301
         ],
         "z": [
          378,
          385
         ]
        },
        {
         "hoverinfo": "text",
         "line": {
          "color": "orange",
          "width": 3
         },
         "mode": "lines",
         "text": "15.81",
         "type": "scatter3d",
         "x": [
          468,
          477
         ],
         "y": [
          294,
          282
         ],
         "z": [
          378,
          383
         ]
        },
        {
         "hoverinfo": "text",
         "line": {
          "color": "gray",
          "width": 3
         },
         "mode": "lines",
         "text": "89.63",
         "type": "scatter3d",
         "x": [
          471,
          475
         ],
         "y": [
          301,
          332
         ],
         "z": [
          385,
          469
         ]
        },
        {
         "hoverinfo": "text",
         "line": {
          "color": "orange",
          "width": 3
         },
         "mode": "lines",
         "text": "14.56",
         "type": "scatter3d",
         "x": [
          473,
          481
         ],
         "y": [
          111,
          123
         ],
         "z": [
          325,
          327
         ]
        },
        {
         "hoverinfo": "text",
         "line": {
          "color": "gray",
          "width": 3
         },
         "mode": "lines",
         "text": "25.67",
         "type": "scatter3d",
         "x": [
          473,
          478
         ],
         "y": [
          333,
          358
         ],
         "z": [
          314,
          311
         ]
        },
        {
         "hoverinfo": "text",
         "line": {
          "color": "gray",
          "width": 3
         },
         "mode": "lines",
         "text": "29.44",
         "type": "scatter3d",
         "x": [
          473,
          490
         ],
         "y": [
          333,
          326
         ],
         "z": [
          314,
          291
         ]
        },
        {
         "hoverinfo": "text",
         "line": {
          "color": "orange",
          "width": 3
         },
         "mode": "lines",
         "text": "1.41",
         "type": "scatter3d",
         "x": [
          474,
          475
         ],
         "y": [
          169,
          169
         ],
         "z": [
          357,
          358
         ]
        },
        {
         "hoverinfo": "text",
         "line": {
          "color": "orange",
          "width": 3
         },
         "mode": "lines",
         "text": "1.41",
         "type": "scatter3d",
         "x": [
          474,
          475
         ],
         "y": [
          169,
          170
         ],
         "z": [
          357,
          357
         ]
        },
        {
         "hoverinfo": "text",
         "line": {
          "color": "gray",
          "width": 3
         },
         "mode": "lines",
         "text": "25.88",
         "type": "scatter3d",
         "x": [
          474,
          480
         ],
         "y": [
          342,
          339
         ],
         "z": [
          381,
          356
         ]
        },
        {
         "hoverinfo": "text",
         "line": {
          "color": "orange",
          "width": 3
         },
         "mode": "lines",
         "text": "1.41",
         "type": "scatter3d",
         "x": [
          475,
          475
         ],
         "y": [
          169,
          170
         ],
         "z": [
          358,
          357
         ]
        },
        {
         "hoverinfo": "text",
         "line": {
          "color": "gray",
          "width": 3
         },
         "mode": "lines",
         "text": "34.01",
         "type": "scatter3d",
         "x": [
          475,
          487
         ],
         "y": [
          169,
          147
         ],
         "z": [
          358,
          381
         ]
        },
        {
         "hoverinfo": "text",
         "line": {
          "color": "gray",
          "width": 3
         },
         "mode": "lines",
         "text": "20.88",
         "type": "scatter3d",
         "x": [
          475,
          481
         ],
         "y": [
          170,
          182
         ],
         "z": [
          357,
          341
         ]
        },
        {
         "hoverinfo": "text",
         "line": {
          "color": "orange",
          "width": 3
         },
         "mode": "lines",
         "text": "16.43",
         "type": "scatter3d",
         "x": [
          475,
          476
         ],
         "y": [
          332,
          345
         ],
         "z": [
          469,
          479
         ]
        },
        {
         "hoverinfo": "text",
         "line": {
          "color": "gray",
          "width": 3
         },
         "mode": "lines",
         "text": "46.87",
         "type": "scatter3d",
         "x": [
          475,
          476
         ],
         "y": [
          332,
          296
         ],
         "z": [
          469,
          499
         ]
        },
        {
         "hoverinfo": "text",
         "line": {
          "color": "gray",
          "width": 3
         },
         "mode": "lines",
         "text": "33.67",
         "type": "scatter3d",
         "x": [
          477,
          507
         ],
         "y": [
          282,
          285
         ],
         "z": [
          383,
          398
         ]
        },
        {
         "hoverinfo": "text",
         "line": {
          "color": "orange",
          "width": 3
         },
         "mode": "lines",
         "text": "6.08",
         "type": "scatter3d",
         "x": [
          478,
          478
         ],
         "y": [
          358,
          364
         ],
         "z": [
          311,
          310
         ]
        },
        {
         "hoverinfo": "text",
         "line": {
          "color": "orange",
          "width": 3
         },
         "mode": "lines",
         "text": "7.48",
         "type": "scatter3d",
         "x": [
          478,
          480
         ],
         "y": [
          364,
          370
         ],
         "z": [
          310,
          306
         ]
        },
        {
         "hoverinfo": "text",
         "line": {
          "color": "orange",
          "width": 3
         },
         "mode": "lines",
         "text": "19.62",
         "type": "scatter3d",
         "x": [
          480,
          498
         ],
         "y": [
          339,
          334
         ],
         "z": [
          356,
          362
         ]
        },
        {
         "hoverinfo": "text",
         "line": {
          "color": "gray",
          "width": 3
         },
         "mode": "lines",
         "text": "58.49",
         "type": "scatter3d",
         "x": [
          480,
          499
         ],
         "y": [
          370,
          424
         ],
         "z": [
          306,
          318
         ]
        },
        {
         "hoverinfo": "text",
         "line": {
          "color": "orange",
          "width": 3
         },
         "mode": "lines",
         "text": "4.36",
         "type": "scatter3d",
         "x": [
          481,
          482
         ],
         "y": [
          123,
          126
         ],
         "z": [
          327,
          324
         ]
        },
        {
         "hoverinfo": "text",
         "line": {
          "color": "orange",
          "width": 3
         },
         "mode": "lines",
         "text": "7.68",
         "type": "scatter3d",
         "x": [
          481,
          486
         ],
         "y": [
          123,
          118
         ],
         "z": [
          327,
          330
         ]
        },
        {
         "hoverinfo": "text",
         "line": {
          "color": "orange",
          "width": 3
         },
         "mode": "lines",
         "text": "1.73",
         "type": "scatter3d",
         "x": [
          481,
          482
         ],
         "y": [
          182,
          183
         ],
         "z": [
          341,
          340
         ]
        },
        {
         "hoverinfo": "text",
         "line": {
          "color": "orange",
          "width": 3
         },
         "mode": "lines",
         "text": "1.41",
         "type": "scatter3d",
         "x": [
          481,
          482
         ],
         "y": [
          182,
          183
         ],
         "z": [
          341,
          341
         ]
        },
        {
         "hoverinfo": "text",
         "line": {
          "color": "gray",
          "width": 3
         },
         "mode": "lines",
         "text": "27.31",
         "type": "scatter3d",
         "x": [
          482,
          483
         ],
         "y": [
          126,
          102
         ],
         "z": [
          324,
          311
         ]
        },
        {
         "hoverinfo": "text",
         "line": {
          "color": "gray",
          "width": 3
         },
         "mode": "lines",
         "text": "59.44",
         "type": "scatter3d",
         "x": [
          482,
          482
         ],
         "y": [
          126,
          184
         ],
         "z": [
          324,
          337
         ]
        },
        {
         "hoverinfo": "text",
         "line": {
          "color": "orange",
          "width": 3
         },
         "mode": "lines",
         "text": "1.00",
         "type": "scatter3d",
         "x": [
          482,
          482
         ],
         "y": [
          183,
          183
         ],
         "z": [
          340,
          341
         ]
        },
        {
         "hoverinfo": "text",
         "line": {
          "color": "orange",
          "width": 3
         },
         "mode": "lines",
         "text": "2.24",
         "type": "scatter3d",
         "x": [
          482,
          482
         ],
         "y": [
          183,
          184
         ],
         "z": [
          340,
          338
         ]
        },
        {
         "hoverinfo": "text",
         "line": {
          "color": "gray",
          "width": 3
         },
         "mode": "lines",
         "text": "30.02",
         "type": "scatter3d",
         "x": [
          482,
          500
         ],
         "y": [
          183,
          182
         ],
         "z": [
          341,
          365
         ]
        },
        {
         "hoverinfo": "text",
         "line": {
          "color": "orange",
          "width": 3
         },
         "mode": "lines",
         "text": "1.00",
         "type": "scatter3d",
         "x": [
          482,
          482
         ],
         "y": [
          184,
          184
         ],
         "z": [
          337,
          338
         ]
        },
        {
         "hoverinfo": "text",
         "line": {
          "color": "orange",
          "width": 3
         },
         "mode": "lines",
         "text": "1.00",
         "type": "scatter3d",
         "x": [
          482,
          482
         ],
         "y": [
          184,
          185
         ],
         "z": [
          337,
          337
         ]
        },
        {
         "hoverinfo": "text",
         "line": {
          "color": "orange",
          "width": 3
         },
         "mode": "lines",
         "text": "1.41",
         "type": "scatter3d",
         "x": [
          482,
          482
         ],
         "y": [
          184,
          185
         ],
         "z": [
          338,
          337
         ]
        },
        {
         "hoverinfo": "text",
         "line": {
          "color": "gray",
          "width": 3
         },
         "mode": "lines",
         "text": "75.07",
         "type": "scatter3d",
         "x": [
          482,
          483
         ],
         "y": [
          185,
          260
         ],
         "z": [
          337,
          340
         ]
        },
        {
         "hoverinfo": "text",
         "line": {
          "color": "orange",
          "width": 3
         },
         "mode": "lines",
         "text": "1.41",
         "type": "scatter3d",
         "x": [
          482,
          482
         ],
         "y": [
          372,
          373
         ],
         "z": [
          231,
          230
         ]
        },
        {
         "hoverinfo": "text",
         "line": {
          "color": "gray",
          "width": 3
         },
         "mode": "lines",
         "text": "31.80",
         "type": "scatter3d",
         "x": [
          482,
          493
         ],
         "y": [
          372,
          353
         ],
         "z": [
          231,
          254
         ]
        },
        {
         "hoverinfo": "text",
         "line": {
          "color": "gray",
          "width": 3
         },
         "mode": "lines",
         "text": "59.46",
         "type": "scatter3d",
         "x": [
          482,
          494
         ],
         "y": [
          373,
          389
         ],
         "z": [
          230,
          174
         ]
        },
        {
         "hoverinfo": "text",
         "line": {
          "color": "orange",
          "width": 3
         },
         "mode": "lines",
         "text": "1.00",
         "type": "scatter3d",
         "x": [
          483,
          483
         ],
         "y": [
          260,
          261
         ],
         "z": [
          340,
          340
         ]
        },
        {
         "hoverinfo": "text",
         "line": {
          "color": "orange",
          "width": 3
         },
         "mode": "lines",
         "text": "1.41",
         "type": "scatter3d",
         "x": [
          483,
          484
         ],
         "y": [
          260,
          261
         ],
         "z": [
          340,
          340
         ]
        },
        {
         "hoverinfo": "text",
         "line": {
          "color": "orange",
          "width": 3
         },
         "mode": "lines",
         "text": "1.00",
         "type": "scatter3d",
         "x": [
          483,
          484
         ],
         "y": [
          261,
          261
         ],
         "z": [
          340,
          340
         ]
        },
        {
         "hoverinfo": "text",
         "line": {
          "color": "orange",
          "width": 3
         },
         "mode": "lines",
         "text": "11.22",
         "type": "scatter3d",
         "x": [
          484,
          493
         ],
         "y": [
          261,
          258
         ],
         "z": [
          340,
          334
         ]
        },
        {
         "hoverinfo": "text",
         "line": {
          "color": "gray",
          "width": 3
         },
         "mode": "lines",
         "text": "20.66",
         "type": "scatter3d",
         "x": [
          488,
          497
         ],
         "y": [
          382,
          371
         ],
         "z": [
          446,
          431
         ]
        },
        {
         "hoverinfo": "text",
         "line": {
          "color": "orange",
          "width": 3
         },
         "mode": "lines",
         "text": "5.20",
         "type": "scatter3d",
         "x": [
          490,
          493
         ],
         "y": [
          326,
          323
         ],
         "z": [
          291,
          288
         ]
        },
        {
         "hoverinfo": "text",
         "line": {
          "color": "gray",
          "width": 3
         },
         "mode": "lines",
         "text": "45.90",
         "type": "scatter3d",
         "x": [
          490,
          493
         ],
         "y": [
          326,
          353
         ],
         "z": [
          291,
          254
         ]
        },
        {
         "hoverinfo": "text",
         "line": {
          "color": "orange",
          "width": 3
         },
         "mode": "lines",
         "text": "1.73",
         "type": "scatter3d",
         "x": [
          493,
          494
         ],
         "y": [
          258,
          257
         ],
         "z": [
          334,
          333
         ]
        },
        {
         "hoverinfo": "text",
         "line": {
          "color": "orange",
          "width": 3
         },
         "mode": "lines",
         "text": "1.00",
         "type": "scatter3d",
         "x": [
          493,
          494
         ],
         "y": [
          258,
          258
         ],
         "z": [
          334,
          334
         ]
        },
        {
         "hoverinfo": "text",
         "line": {
          "color": "orange",
          "width": 3
         },
         "mode": "lines",
         "text": "1.41",
         "type": "scatter3d",
         "x": [
          493,
          494
         ],
         "y": [
          323,
          322
         ],
         "z": [
          288,
          288
         ]
        },
        {
         "hoverinfo": "text",
         "line": {
          "color": "orange",
          "width": 3
         },
         "mode": "lines",
         "text": "1.41",
         "type": "scatter3d",
         "x": [
          493,
          494
         ],
         "y": [
          323,
          323
         ],
         "z": [
          288,
          287
         ]
        },
        {
         "hoverinfo": "text",
         "line": {
          "color": "gray",
          "width": 3
         },
         "mode": "lines",
         "text": "20.62",
         "type": "scatter3d",
         "x": [
          493,
          503
         ],
         "y": [
          353,
          347
         ],
         "z": [
          254,
          237
         ]
        },
        {
         "hoverinfo": "text",
         "line": {
          "color": "orange",
          "width": 3
         },
         "mode": "lines",
         "text": "1.41",
         "type": "scatter3d",
         "x": [
          494,
          494
         ],
         "y": [
          257,
          258
         ],
         "z": [
          333,
          334
         ]
        },
        {
         "hoverinfo": "text",
         "line": {
          "color": "gray",
          "width": 3
         },
         "mode": "lines",
         "text": "161.11",
         "type": "scatter3d",
         "x": [
          494,
          548
         ],
         "y": [
          257,
          113
         ],
         "z": [
          333,
          285
         ]
        },
        {
         "hoverinfo": "text",
         "line": {
          "color": "gray",
          "width": 3
         },
         "mode": "lines",
         "text": "36.08",
         "type": "scatter3d",
         "x": [
          494,
          528
         ],
         "y": [
          258,
          269
         ],
         "z": [
          334,
          329
         ]
        },
        {
         "hoverinfo": "text",
         "line": {
          "color": "orange",
          "width": 3
         },
         "mode": "lines",
         "text": "1.41",
         "type": "scatter3d",
         "x": [
          494,
          494
         ],
         "y": [
          322,
          323
         ],
         "z": [
          288,
          287
         ]
        },
        {
         "hoverinfo": "text",
         "line": {
          "color": "orange",
          "width": 3
         },
         "mode": "lines",
         "text": "17.49",
         "type": "scatter3d",
         "x": [
          494,
          498
         ],
         "y": [
          322,
          305
         ],
         "z": [
          288,
          289
         ]
        },
        {
         "hoverinfo": "text",
         "line": {
          "color": "gray",
          "width": 3
         },
         "mode": "lines",
         "text": "27.86",
         "type": "scatter3d",
         "x": [
          494,
          500
         ],
         "y": [
          323,
          315
         ],
         "z": [
          287,
          261
         ]
        },
        {
         "hoverinfo": "text",
         "line": {
          "color": "gray",
          "width": 3
         },
         "mode": "lines",
         "text": "41.34",
         "type": "scatter3d",
         "x": [
          494,
          497
         ],
         "y": [
          389,
          399
         ],
         "z": [
          174,
          134
         ]
        },
        {
         "hoverinfo": "text",
         "line": {
          "color": "gray",
          "width": 3
         },
         "mode": "lines",
         "text": "46.93",
         "type": "scatter3d",
         "x": [
          494,
          514
         ],
         "y": [
          389,
          418
         ],
         "z": [
          174,
          143
         ]
        },
        {
         "hoverinfo": "text",
         "line": {
          "color": "gray",
          "width": 3
         },
         "mode": "lines",
         "text": "23.43",
         "type": "scatter3d",
         "x": [
          495,
          499
         ],
         "y": [
          362,
          339
         ],
         "z": [
          370,
          368
         ]
        },
        {
         "hoverinfo": "text",
         "line": {
          "color": "gray",
          "width": 3
         },
         "mode": "lines",
         "text": "52.63",
         "type": "scatter3d",
         "x": [
          497,
          501
         ],
         "y": [
          371,
          344
         ],
         "z": [
          431,
          386
         ]
        },
        {
         "hoverinfo": "text",
         "line": {
          "color": "orange",
          "width": 3
         },
         "mode": "lines",
         "text": "17.75",
         "type": "scatter3d",
         "x": [
          497,
          508
         ],
         "y": [
          371,
          366
         ],
         "z": [
          431,
          444
         ]
        },
        {
         "hoverinfo": "text",
         "line": {
          "color": "orange",
          "width": 3
         },
         "mode": "lines",
         "text": "1.41",
         "type": "scatter3d",
         "x": [
          498,
          499
         ],
         "y": [
          295,
          295
         ],
         "z": [
          296,
          295
         ]
        },
        {
         "hoverinfo": "text",
         "line": {
          "color": "orange",
          "width": 3
         },
         "mode": "lines",
         "text": "1.73",
         "type": "scatter3d",
         "x": [
          498,
          499
         ],
         "y": [
          295,
          296
         ],
         "z": [
          296,
          295
         ]
        },
        {
         "hoverinfo": "text",
         "line": {
          "color": "gray",
          "width": 3
         },
         "mode": "lines",
         "text": "83.89",
         "type": "scatter3d",
         "x": [
          498,
          573
         ],
         "y": [
          295,
          311
         ],
         "z": [
          296,
          330
         ]
        },
        {
         "hoverinfo": "text",
         "line": {
          "color": "orange",
          "width": 3
         },
         "mode": "lines",
         "text": "10.86",
         "type": "scatter3d",
         "x": [
          498,
          499
         ],
         "y": [
          305,
          296
         ],
         "z": [
          289,
          295
         ]
        },
        {
         "hoverinfo": "text",
         "line": {
          "color": "gray",
          "width": 3
         },
         "mode": "lines",
         "text": "92.33",
         "type": "scatter3d",
         "x": [
          498,
          548
         ],
         "y": [
          305,
          244
         ],
         "z": [
          289,
          241
         ]
        },
        {
         "hoverinfo": "text",
         "line": {
          "color": "orange",
          "width": 3
         },
         "mode": "lines",
         "text": "7.87",
         "type": "scatter3d",
         "x": [
          498,
          499
         ],
         "y": [
          334,
          339
         ],
         "z": [
          362,
          368
         ]
        },
        {
         "hoverinfo": "text",
         "line": {
          "color": "gray",
          "width": 3
         },
         "mode": "lines",
         "text": "29.22",
         "type": "scatter3d",
         "x": [
          498,
          527
         ],
         "y": [
          334,
          331
         ],
         "z": [
          362,
          360
         ]
        },
        {
         "hoverinfo": "text",
         "line": {
          "color": "orange",
          "width": 3
         },
         "mode": "lines",
         "text": "1.00",
         "type": "scatter3d",
         "x": [
          499,
          499
         ],
         "y": [
          295,
          296
         ],
         "z": [
          295,
          295
         ]
        },
        {
         "hoverinfo": "text",
         "line": {
          "color": "gray",
          "width": 3
         },
         "mode": "lines",
         "text": "53.01",
         "type": "scatter3d",
         "x": [
          499,
          532
         ],
         "y": [
          295,
          255
         ],
         "z": [
          295,
          284
         ]
        },
        {
         "hoverinfo": "text",
         "line": {
          "color": "orange",
          "width": 3
         },
         "mode": "lines",
         "text": "17.83",
         "type": "scatter3d",
         "x": [
          499,
          501
         ],
         "y": [
          339,
          344
         ],
         "z": [
          368,
          385
         ]
        },
        {
         "hoverinfo": "text",
         "line": {
          "color": "gray",
          "width": 3
         },
         "mode": "lines",
         "text": "31.83",
         "type": "scatter3d",
         "x": [
          500,
          507
         ],
         "y": [
          315,
          307
         ],
         "z": [
          261,
          231
         ]
        },
        {
         "hoverinfo": "text",
         "line": {
          "color": "gray",
          "width": 3
         },
         "mode": "lines",
         "text": "35.44",
         "type": "scatter3d",
         "x": [
          500,
          526
         ],
         "y": [
          315,
          339
         ],
         "z": [
          261,
          259
         ]
        },
        {
         "hoverinfo": "text",
         "line": {
          "color": "orange",
          "width": 3
         },
         "mode": "lines",
         "text": "1.00",
         "type": "scatter3d",
         "x": [
          501,
          501
         ],
         "y": [
          344,
          344
         ],
         "z": [
          385,
          386
         ]
        },
        {
         "hoverinfo": "text",
         "line": {
          "color": "orange",
          "width": 3
         },
         "mode": "lines",
         "text": "1.73",
         "type": "scatter3d",
         "x": [
          501,
          502
         ],
         "y": [
          344,
          345
         ],
         "z": [
          385,
          386
         ]
        },
        {
         "hoverinfo": "text",
         "line": {
          "color": "orange",
          "width": 3
         },
         "mode": "lines",
         "text": "1.41",
         "type": "scatter3d",
         "x": [
          501,
          502
         ],
         "y": [
          344,
          345
         ],
         "z": [
          386,
          386
         ]
        },
        {
         "hoverinfo": "text",
         "line": {
          "color": "gray",
          "width": 3
         },
         "mode": "lines",
         "text": "39.80",
         "type": "scatter3d",
         "x": [
          502,
          530
         ],
         "y": [
          345,
          365
         ],
         "z": [
          386,
          406
         ]
        },
        {
         "hoverinfo": "text",
         "line": {
          "color": "orange",
          "width": 3
         },
         "mode": "lines",
         "text": "1.41",
         "type": "scatter3d",
         "x": [
          503,
          504
         ],
         "y": [
          347,
          347
         ],
         "z": [
          237,
          236
         ]
        },
        {
         "hoverinfo": "text",
         "line": {
          "color": "orange",
          "width": 3
         },
         "mode": "lines",
         "text": "1.41",
         "type": "scatter3d",
         "x": [
          503,
          504
         ],
         "y": [
          347,
          348
         ],
         "z": [
          237,
          237
         ]
        },
        {
         "hoverinfo": "text",
         "line": {
          "color": "orange",
          "width": 3
         },
         "mode": "lines",
         "text": "1.41",
         "type": "scatter3d",
         "x": [
          504,
          504
         ],
         "y": [
          347,
          348
         ],
         "z": [
          236,
          237
         ]
        },
        {
         "hoverinfo": "text",
         "line": {
          "color": "gray",
          "width": 3
         },
         "mode": "lines",
         "text": "42.46",
         "type": "scatter3d",
         "x": [
          504,
          527
         ],
         "y": [
          347,
          354
         ],
         "z": [
          236,
          201
         ]
        },
        {
         "hoverinfo": "text",
         "line": {
          "color": "gray",
          "width": 3
         },
         "mode": "lines",
         "text": "36.40",
         "type": "scatter3d",
         "x": [
          504,
          517
         ],
         "y": [
          348,
          382
         ],
         "z": [
          237,
          237
         ]
        },
        {
         "hoverinfo": "text",
         "line": {
          "color": "gray",
          "width": 3
         },
         "mode": "lines",
         "text": "30.69",
         "type": "scatter3d",
         "x": [
          507,
          508
         ],
         "y": [
          285,
          275
         ],
         "z": [
          398,
          427
         ]
        },
        {
         "hoverinfo": "text",
         "line": {
          "color": "gray",
          "width": 3
         },
         "mode": "lines",
         "text": "67.10",
         "type": "scatter3d",
         "x": [
          507,
          533
         ],
         "y": [
          285,
          320
         ],
         "z": [
          398,
          449
         ]
        },
        {
         "hoverinfo": "text",
         "line": {
          "color": "orange",
          "width": 3
         },
         "mode": "lines",
         "text": "1.41",
         "type": "scatter3d",
         "x": [
          507,
          507
         ],
         "y": [
          306,
          307
         ],
         "z": [
          230,
          231
         ]
        },
        {
         "hoverinfo": "text",
         "line": {
          "color": "orange",
          "width": 3
         },
         "mode": "lines",
         "text": "1.73",
         "type": "scatter3d",
         "x": [
          507,
          508
         ],
         "y": [
          306,
          307
         ],
         "z": [
          230,
          231
         ]
        },
        {
         "hoverinfo": "text",
         "line": {
          "color": "gray",
          "width": 3
         },
         "mode": "lines",
         "text": "43.52",
         "type": "scatter3d",
         "x": [
          507,
          516
         ],
         "y": [
          306,
          299
         ],
         "z": [
          230,
          188
         ]
        },
        {
         "hoverinfo": "text",
         "line": {
          "color": "orange",
          "width": 3
         },
         "mode": "lines",
         "text": "1.00",
         "type": "scatter3d",
         "x": [
          507,
          508
         ],
         "y": [
          307,
          307
         ],
         "z": [
          231,
          231
         ]
        },
        {
         "hoverinfo": "text",
         "line": {
          "color": "orange",
          "width": 3
         },
         "mode": "lines",
         "text": "1.41",
         "type": "scatter3d",
         "x": [
          508,
          508
         ],
         "y": [
          275,
          276
         ],
         "z": [
          427,
          428
         ]
        },
        {
         "hoverinfo": "text",
         "line": {
          "color": "orange",
          "width": 3
         },
         "mode": "lines",
         "text": "5.48",
         "type": "scatter3d",
         "x": [
          508,
          510
         ],
         "y": [
          275,
          270
         ],
         "z": [
          427,
          428
         ]
        },
        {
         "hoverinfo": "text",
         "line": {
          "color": "gray",
          "width": 3
         },
         "mode": "lines",
         "text": "43.29",
         "type": "scatter3d",
         "x": [
          508,
          547
         ],
         "y": [
          307,
          315
         ],
         "z": [
          231,
          214
         ]
        },
        {
         "hoverinfo": "text",
         "line": {
          "color": "orange",
          "width": 3
         },
         "mode": "lines",
         "text": "1.41",
         "type": "scatter3d",
         "x": [
          514,
          514
         ],
         "y": [
          418,
          419
         ],
         "z": [
          143,
          142
         ]
        },
        {
         "hoverinfo": "text",
         "line": {
          "color": "orange",
          "width": 3
         },
         "mode": "lines",
         "text": "1.00",
         "type": "scatter3d",
         "x": [
          514,
          515
         ],
         "y": [
          418,
          418
         ],
         "z": [
          143,
          143
         ]
        },
        {
         "hoverinfo": "text",
         "line": {
          "color": "orange",
          "width": 3
         },
         "mode": "lines",
         "text": "1.73",
         "type": "scatter3d",
         "x": [
          514,
          515
         ],
         "y": [
          419,
          418
         ],
         "z": [
          142,
          143
         ]
        },
        {
         "hoverinfo": "text",
         "line": {
          "color": "gray",
          "width": 3
         },
         "mode": "lines",
         "text": "45.99",
         "type": "scatter3d",
         "x": [
          514,
          533
         ],
         "y": [
          419,
          442
         ],
         "z": [
          142,
          107
         ]
        },
        {
         "hoverinfo": "text",
         "line": {
          "color": "orange",
          "width": 3
         },
         "mode": "lines",
         "text": "13.64",
         "type": "scatter3d",
         "x": [
          515,
          526
         ],
         "y": [
          418,
          425
         ],
         "z": [
          143,
          147
         ]
        },
        {
         "hoverinfo": "text",
         "line": {
          "color": "gray",
          "width": 3
         },
         "mode": "lines",
         "text": "56.69",
         "type": "scatter3d",
         "x": [
          516,
          525
         ],
         "y": [
          299,
          257
         ],
         "z": [
          188,
          151
         ]
        },
        {
         "hoverinfo": "text",
         "line": {
          "color": "gray",
          "width": 3
         },
         "mode": "lines",
         "text": "69.49",
         "type": "scatter3d",
         "x": [
          516,
          577
         ],
         "y": [
          299,
          271
         ],
         "z": [
          188,
          170
         ]
        },
        {
         "hoverinfo": "text",
         "line": {
          "color": "orange",
          "width": 3
         },
         "mode": "lines",
         "text": "1.00",
         "type": "scatter3d",
         "x": [
          517,
          517
         ],
         "y": [
          382,
          383
         ],
         "z": [
          237,
          237
         ]
        },
        {
         "hoverinfo": "text",
         "line": {
          "color": "orange",
          "width": 3
         },
         "mode": "lines",
         "text": "1.73",
         "type": "scatter3d",
         "x": [
          517,
          518
         ],
         "y": [
          382,
          383
         ],
         "z": [
          237,
          236
         ]
        },
        {
         "hoverinfo": "text",
         "line": {
          "color": "orange",
          "width": 3
         },
         "mode": "lines",
         "text": "1.41",
         "type": "scatter3d",
         "x": [
          517,
          518
         ],
         "y": [
          383,
          383
         ],
         "z": [
          237,
          236
         ]
        },
        {
         "hoverinfo": "text",
         "line": {
          "color": "orange",
          "width": 3
         },
         "mode": "lines",
         "text": "12.57",
         "type": "scatter3d",
         "x": [
          517,
          518
         ],
         "y": [
          383,
          394
         ],
         "z": [
          237,
          243
         ]
        },
        {
         "hoverinfo": "text",
         "line": {
          "color": "gray",
          "width": 3
         },
         "mode": "lines",
         "text": "20.83",
         "type": "scatter3d",
         "x": [
          518,
          531
         ],
         "y": [
          383,
          395
         ],
         "z": [
          236,
          225
         ]
        },
        {
         "hoverinfo": "text",
         "line": {
          "color": "orange",
          "width": 3
         },
         "mode": "lines",
         "text": "1.41",
         "type": "scatter3d",
         "x": [
          526,
          526
         ],
         "y": [
          339,
          340
         ],
         "z": [
          259,
          260
         ]
        },
        {
         "hoverinfo": "text",
         "line": {
          "color": "orange",
          "width": 3
         },
         "mode": "lines",
         "text": "1.00",
         "type": "scatter3d",
         "x": [
          526,
          527
         ],
         "y": [
          339,
          339
         ],
         "z": [
          259,
          259
         ]
        },
        {
         "hoverinfo": "text",
         "line": {
          "color": "orange",
          "width": 3
         },
         "mode": "lines",
         "text": "1.73",
         "type": "scatter3d",
         "x": [
          526,
          527
         ],
         "y": [
          340,
          339
         ],
         "z": [
          260,
          259
         ]
        },
        {
         "hoverinfo": "text",
         "line": {
          "color": "orange",
          "width": 3
         },
         "mode": "lines",
         "text": "7.87",
         "type": "scatter3d",
         "x": [
          526,
          527
         ],
         "y": [
          340,
          345
         ],
         "z": [
          260,
          266
         ]
        },
        {
         "hoverinfo": "text",
         "line": {
          "color": "orange",
          "width": 3
         },
         "mode": "lines",
         "text": "8.31",
         "type": "scatter3d",
         "x": [
          527,
          534
         ],
         "y": [
          331,
          329
         ],
         "z": [
          360,
          364
         ]
        },
        {
         "hoverinfo": "text",
         "line": {
          "color": "gray",
          "width": 3
         },
         "mode": "lines",
         "text": "42.58",
         "type": "scatter3d",
         "x": [
          527,
          561
         ],
         "y": [
          331,
          355
         ],
         "z": [
          360,
          351
         ]
        },
        {
         "hoverinfo": "text",
         "line": {
          "color": "gray",
          "width": 3
         },
         "mode": "lines",
         "text": "52.88",
         "type": "scatter3d",
         "x": [
          527,
          573
         ],
         "y": [
          339,
          361
         ],
         "z": [
          259,
          245
         ]
        },
        {
         "hoverinfo": "text",
         "line": {
          "color": "orange",
          "width": 3
         },
         "mode": "lines",
         "text": "1.00",
         "type": "scatter3d",
         "x": [
          527,
          527
         ],
         "y": [
          345,
          346
         ],
         "z": [
          266,
          266
         ]
        },
        {
         "hoverinfo": "text",
         "line": {
          "color": "orange",
          "width": 3
         },
         "mode": "lines",
         "text": "1.41",
         "type": "scatter3d",
         "x": [
          527,
          528
         ],
         "y": [
          345,
          345
         ],
         "z": [
          266,
          267
         ]
        },
        {
         "hoverinfo": "text",
         "line": {
          "color": "orange",
          "width": 3
         },
         "mode": "lines",
         "text": "1.73",
         "type": "scatter3d",
         "x": [
          527,
          528
         ],
         "y": [
          346,
          345
         ],
         "z": [
          266,
          267
         ]
        },
        {
         "hoverinfo": "text",
         "line": {
          "color": "gray",
          "width": 3
         },
         "mode": "lines",
         "text": "25.79",
         "type": "scatter3d",
         "x": [
          527,
          533
         ],
         "y": [
          346,
          371
         ],
         "z": [
          266,
          264
         ]
        },
        {
         "hoverinfo": "text",
         "line": {
          "color": "gray",
          "width": 3
         },
         "mode": "lines",
         "text": "66.29",
         "type": "scatter3d",
         "x": [
          527,
          560
         ],
         "y": [
          354,
          398
         ],
         "z": [
          201,
          164
         ]
        },
        {
         "hoverinfo": "text",
         "line": {
          "color": "gray",
          "width": 3
         },
         "mode": "lines",
         "text": "101.08",
         "type": "scatter3d",
         "x": [
          527,
          583
         ],
         "y": [
          354,
          383
         ],
         "z": [
          201,
          122
         ]
        },
        {
         "hoverinfo": "text",
         "line": {
          "color": "orange",
          "width": 3
         },
         "mode": "lines",
         "text": "1.00",
         "type": "scatter3d",
         "x": [
          528,
          529
         ],
         "y": [
          269,
          269
         ],
         "z": [
          329,
          329
         ]
        },
        {
         "hoverinfo": "text",
         "line": {
          "color": "orange",
          "width": 3
         },
         "mode": "lines",
         "text": "1.41",
         "type": "scatter3d",
         "x": [
          528,
          529
         ],
         "y": [
          269,
          269
         ],
         "z": [
          329,
          330
         ]
        },
        {
         "hoverinfo": "text",
         "line": {
          "color": "gray",
          "width": 3
         },
         "mode": "lines",
         "text": "42.63",
         "type": "scatter3d",
         "x": [
          528,
          557
         ],
         "y": [
          345,
          369
         ],
         "z": [
          267,
          287
         ]
        },
        {
         "hoverinfo": "text",
         "line": {
          "color": "gray",
          "width": 3
         },
         "mode": "lines",
         "text": "46.37",
         "type": "scatter3d",
         "x": [
          528,
          533
         ],
         "y": [
          452,
          442
         ],
         "z": [
          62,
          107
         ]
        },
        {
         "hoverinfo": "text",
         "line": {
          "color": "orange",
          "width": 3
         },
         "mode": "lines",
         "text": "1.00",
         "type": "scatter3d",
         "x": [
          529,
          529
         ],
         "y": [
          269,
          269
         ],
         "z": [
          329,
          330
         ]
        },
        {
         "hoverinfo": "text",
         "line": {
          "color": "gray",
          "width": 3
         },
         "mode": "lines",
         "text": "35.47",
         "type": "scatter3d",
         "x": [
          529,
          562
         ],
         "y": [
          269,
          269
         ],
         "z": [
          329,
          316
         ]
        },
        {
         "hoverinfo": "text",
         "line": {
          "color": "gray",
          "width": 3
         },
         "mode": "lines",
         "text": "24.94",
         "type": "scatter3d",
         "x": [
          529,
          547
         ],
         "y": [
          269,
          266
         ],
         "z": [
          330,
          347
         ]
        },
        {
         "hoverinfo": "text",
         "line": {
          "color": "orange",
          "width": 3
         },
         "mode": "lines",
         "text": "1.00",
         "type": "scatter3d",
         "x": [
          532,
          532
         ],
         "y": [
          254,
          255
         ],
         "z": [
          284,
          284
         ]
        },
        {
         "hoverinfo": "text",
         "line": {
          "color": "orange",
          "width": 3
         },
         "mode": "lines",
         "text": "1.41",
         "type": "scatter3d",
         "x": [
          532,
          533
         ],
         "y": [
          254,
          255
         ],
         "z": [
          284,
          284
         ]
        },
        {
         "hoverinfo": "text",
         "line": {
          "color": "gray",
          "width": 3
         },
         "mode": "lines",
         "text": "90.18",
         "type": "scatter3d",
         "x": [
          532,
          584
         ],
         "y": [
          254,
          184
         ],
         "z": [
          284,
          261
         ]
        },
        {
         "hoverinfo": "text",
         "line": {
          "color": "orange",
          "width": 3
         },
         "mode": "lines",
         "text": "1.00",
         "type": "scatter3d",
         "x": [
          532,
          533
         ],
         "y": [
          255,
          255
         ],
         "z": [
          284,
          284
         ]
        },
        {
         "hoverinfo": "text",
         "line": {
          "color": "gray",
          "width": 3
         },
         "mode": "lines",
         "text": "79.86",
         "type": "scatter3d",
         "x": [
          533,
          601
         ],
         "y": [
          255,
          232
         ],
         "z": [
          284,
          249
         ]
        },
        {
         "hoverinfo": "text",
         "line": {
          "color": "gray",
          "width": 3
         },
         "mode": "lines",
         "text": "49.10",
         "type": "scatter3d",
         "x": [
          533,
          560
         ],
         "y": [
          442,
          441
         ],
         "z": [
          107,
          66
         ]
        },
        {
         "hoverinfo": "text",
         "line": {
          "color": "gray",
          "width": 3
         },
         "mode": "lines",
         "text": "30.03",
         "type": "scatter3d",
         "x": [
          547,
          566
         ],
         "y": [
          315,
          325
         ],
         "z": [
          214,
          193
         ]
        },
        {
         "hoverinfo": "text",
         "line": {
          "color": "gray",
          "width": 3
         },
         "mode": "lines",
         "text": "49.98",
         "type": "scatter3d",
         "x": [
          547,
          595
         ],
         "y": [
          315,
          302
         ],
         "z": [
          214,
          209
         ]
        },
        {
         "hoverinfo": "text",
         "line": {
          "color": "orange",
          "width": 3
         },
         "mode": "lines",
         "text": "1.73",
         "type": "scatter3d",
         "x": [
          548,
          549
         ],
         "y": [
          244,
          243
         ],
         "z": [
          241,
          240
         ]
        },
        {
         "hoverinfo": "text",
         "line": {
          "color": "orange",
          "width": 3
         },
         "mode": "lines",
         "text": "1.00",
         "type": "scatter3d",
         "x": [
          548,
          549
         ],
         "y": [
          244,
          244
         ],
         "z": [
          241,
          241
         ]
        },
        {
         "hoverinfo": "text",
         "line": {
          "color": "orange",
          "width": 3
         },
         "mode": "lines",
         "text": "1.41",
         "type": "scatter3d",
         "x": [
          549,
          549
         ],
         "y": [
          243,
          244
         ],
         "z": [
          240,
          241
         ]
        },
        {
         "hoverinfo": "text",
         "line": {
          "color": "gray",
          "width": 3
         },
         "mode": "lines",
         "text": "47.17",
         "type": "scatter3d",
         "x": [
          549,
          571
         ],
         "y": [
          243,
          214
         ],
         "z": [
          240,
          210
         ]
        },
        {
         "hoverinfo": "text",
         "line": {
          "color": "gray",
          "width": 3
         },
         "mode": "lines",
         "text": "52.90",
         "type": "scatter3d",
         "x": [
          549,
          586
         ],
         "y": [
          244,
          214
         ],
         "z": [
          241,
          218
         ]
        },
        {
         "hoverinfo": "text",
         "line": {
          "color": "orange",
          "width": 3
         },
         "mode": "lines",
         "text": "1.41",
         "type": "scatter3d",
         "x": [
          562,
          563
         ],
         "y": [
          269,
          268
         ],
         "z": [
          316,
          316
         ]
        },
        {
         "hoverinfo": "text",
         "line": {
          "color": "orange",
          "width": 3
         },
         "mode": "lines",
         "text": "1.41",
         "type": "scatter3d",
         "x": [
          562,
          563
         ],
         "y": [
          269,
          269
         ],
         "z": [
          316,
          315
         ]
        },
        {
         "hoverinfo": "text",
         "line": {
          "color": "orange",
          "width": 3
         },
         "mode": "lines",
         "text": "1.41",
         "type": "scatter3d",
         "x": [
          563,
          563
         ],
         "y": [
          268,
          269
         ],
         "z": [
          316,
          315
         ]
        },
        {
         "hoverinfo": "text",
         "line": {
          "color": "gray",
          "width": 3
         },
         "mode": "lines",
         "text": "23.41",
         "type": "scatter3d",
         "x": [
          563,
          583
         ],
         "y": [
          268,
          256
         ],
         "z": [
          316,
          314
         ]
        },
        {
         "hoverinfo": "text",
         "line": {
          "color": "gray",
          "width": 3
         },
         "mode": "lines",
         "text": "25.65",
         "type": "scatter3d",
         "x": [
          563,
          580
         ],
         "y": [
          269,
          281
         ],
         "z": [
          315,
          300
         ]
        },
        {
         "hoverinfo": "text",
         "line": {
          "color": "orange",
          "width": 3
         },
         "mode": "lines",
         "text": "9.22",
         "type": "scatter3d",
         "x": [
          571,
          573
         ],
         "y": [
          214,
          205
         ],
         "z": [
          210,
          210
         ]
        },
        {
         "hoverinfo": "text",
         "line": {
          "color": "orange",
          "width": 3
         },
         "mode": "lines",
         "text": "11.05",
         "type": "scatter3d",
         "x": [
          571,
          576
         ],
         "y": [
          214,
          210
         ],
         "z": [
          210,
          201
         ]
        },
        {
         "hoverinfo": "text",
         "line": {
          "color": "orange",
          "width": 3
         },
         "mode": "lines",
         "text": "8.72",
         "type": "scatter3d",
         "x": [
          577,
          583
         ],
         "y": [
          271,
          273
         ],
         "z": [
          170,
          164
         ]
        },
        {
         "hoverinfo": "text",
         "line": {
          "color": "gray",
          "width": 3
         },
         "mode": "lines",
         "text": "63.48",
         "type": "scatter3d",
         "x": [
          577,
          607
         ],
         "y": [
          271,
          220
         ],
         "z": [
          170,
          147
         ]
        },
        {
         "hoverinfo": "text",
         "line": {
          "color": "orange",
          "width": 3
         },
         "mode": "lines",
         "text": "13.19",
         "type": "scatter3d",
         "x": [
          582,
          583
         ],
         "y": [
          271,
          273
         ],
         "z": [
          150,
          163
         ]
        },
        {
         "hoverinfo": "text",
         "line": {
          "color": "orange",
          "width": 3
         },
         "mode": "lines",
         "text": "1.00",
         "type": "scatter3d",
         "x": [
          583,
          583
         ],
         "y": [
          273,
          273
         ],
         "z": [
          163,
          164
         ]
        },
        {
         "hoverinfo": "text",
         "line": {
          "color": "orange",
          "width": 3
         },
         "mode": "lines",
         "text": "1.00",
         "type": "scatter3d",
         "x": [
          583,
          584
         ],
         "y": [
          273,
          273
         ],
         "z": [
          163,
          163
         ]
        },
        {
         "hoverinfo": "text",
         "line": {
          "color": "orange",
          "width": 3
         },
         "mode": "lines",
         "text": "1.41",
         "type": "scatter3d",
         "x": [
          583,
          584
         ],
         "y": [
          273,
          273
         ],
         "z": [
          164,
          163
         ]
        },
        {
         "hoverinfo": "text",
         "line": {
          "color": "orange",
          "width": 3
         },
         "mode": "lines",
         "text": "1.41",
         "type": "scatter3d",
         "x": [
          584,
          584
         ],
         "y": [
          183,
          184
         ],
         "z": [
          260,
          261
         ]
        },
        {
         "hoverinfo": "text",
         "line": {
          "color": "orange",
          "width": 3
         },
         "mode": "lines",
         "text": "1.41",
         "type": "scatter3d",
         "x": [
          584,
          585
         ],
         "y": [
          183,
          184
         ],
         "z": [
          260,
          260
         ]
        },
        {
         "hoverinfo": "text",
         "line": {
          "color": "gray",
          "width": 3
         },
         "mode": "lines",
         "text": "21.10",
         "type": "scatter3d",
         "x": [
          584,
          587
         ],
         "y": [
          183,
          163
         ],
         "z": [
          260,
          254
         ]
        },
        {
         "hoverinfo": "text",
         "line": {
          "color": "orange",
          "width": 3
         },
         "mode": "lines",
         "text": "1.41",
         "type": "scatter3d",
         "x": [
          584,
          585
         ],
         "y": [
          184,
          184
         ],
         "z": [
          261,
          260
         ]
        },
        {
         "hoverinfo": "text",
         "line": {
          "color": "orange",
          "width": 3
         },
         "mode": "lines",
         "text": "7.55",
         "type": "scatter3d",
         "x": [
          584,
          591
         ],
         "y": [
          273,
          271
         ],
         "z": [
          163,
          161
         ]
        },
        {
         "hoverinfo": "text",
         "line": {
          "color": "orange",
          "width": 3
         },
         "mode": "lines",
         "text": "17.38",
         "type": "scatter3d",
         "x": [
          585,
          599
         ],
         "y": [
          184,
          175
         ],
         "z": [
          260,
          255
         ]
        },
        {
         "hoverinfo": "text",
         "line": {
          "color": "orange",
          "width": 3
         },
         "mode": "lines",
         "text": "7.68",
         "type": "scatter3d",
         "x": [
          586,
          589
         ],
         "y": [
          214,
          207
         ],
         "z": [
          218,
          219
         ]
        },
        {
         "hoverinfo": "text",
         "line": {
          "color": "orange",
          "width": 3
         },
         "mode": "lines",
         "text": "12.08",
         "type": "scatter3d",
         "x": [
          586,
          593
         ],
         "y": [
          214,
          210
         ],
         "z": [
          218,
          209
         ]
        },
        {
         "hoverinfo": "text",
         "line": {
          "color": "gray",
          "width": 3
         },
         "mode": "lines",
         "text": "41.51",
         "type": "scatter3d",
         "x": [
          595,
          616
         ],
         "y": [
          302,
          281
         ],
         "z": [
          209,
          180
         ]
        },
        {
         "hoverinfo": "text",
         "line": {
          "color": "gray",
          "width": 3
         },
         "mode": "lines",
         "text": "35.13",
         "type": "scatter3d",
         "x": [
          595,
          628
         ],
         "y": [
          302,
          290
         ],
         "z": [
          209,
          210
         ]
        }
       ],
       "layout": {
        "margin": {
         "b": 0,
         "l": 0,
         "r": 0,
         "t": 0
        },
        "scene": {
         "domain": {
          "x": [
           0,
           1
          ],
          "y": [
           0,
           1
          ]
         },
         "xaxis": {
          "range": [
           0,
           629
          ]
         },
         "yaxis": {
          "range": [
           0,
           465
          ]
         },
         "zaxis": {
          "range": [
           0,
           509
          ]
         }
        },
        "template": {
         "data": {
          "bar": [
           {
            "error_x": {
             "color": "#2a3f5f"
            },
            "error_y": {
             "color": "#2a3f5f"
            },
            "marker": {
             "line": {
              "color": "#E5ECF6",
              "width": 0.5
             },
             "pattern": {
              "fillmode": "overlay",
              "size": 10,
              "solidity": 0.2
             }
            },
            "type": "bar"
           }
          ],
          "barpolar": [
           {
            "marker": {
             "line": {
              "color": "#E5ECF6",
              "width": 0.5
             },
             "pattern": {
              "fillmode": "overlay",
              "size": 10,
              "solidity": 0.2
             }
            },
            "type": "barpolar"
           }
          ],
          "carpet": [
           {
            "aaxis": {
             "endlinecolor": "#2a3f5f",
             "gridcolor": "white",
             "linecolor": "white",
             "minorgridcolor": "white",
             "startlinecolor": "#2a3f5f"
            },
            "baxis": {
             "endlinecolor": "#2a3f5f",
             "gridcolor": "white",
             "linecolor": "white",
             "minorgridcolor": "white",
             "startlinecolor": "#2a3f5f"
            },
            "type": "carpet"
           }
          ],
          "choropleth": [
           {
            "colorbar": {
             "outlinewidth": 0,
             "ticks": ""
            },
            "type": "choropleth"
           }
          ],
          "contour": [
           {
            "colorbar": {
             "outlinewidth": 0,
             "ticks": ""
            },
            "colorscale": [
             [
              0,
              "#0d0887"
             ],
             [
              0.1111111111111111,
              "#46039f"
             ],
             [
              0.2222222222222222,
              "#7201a8"
             ],
             [
              0.3333333333333333,
              "#9c179e"
             ],
             [
              0.4444444444444444,
              "#bd3786"
             ],
             [
              0.5555555555555556,
              "#d8576b"
             ],
             [
              0.6666666666666666,
              "#ed7953"
             ],
             [
              0.7777777777777778,
              "#fb9f3a"
             ],
             [
              0.8888888888888888,
              "#fdca26"
             ],
             [
              1,
              "#f0f921"
             ]
            ],
            "type": "contour"
           }
          ],
          "contourcarpet": [
           {
            "colorbar": {
             "outlinewidth": 0,
             "ticks": ""
            },
            "type": "contourcarpet"
           }
          ],
          "heatmap": [
           {
            "colorbar": {
             "outlinewidth": 0,
             "ticks": ""
            },
            "colorscale": [
             [
              0,
              "#0d0887"
             ],
             [
              0.1111111111111111,
              "#46039f"
             ],
             [
              0.2222222222222222,
              "#7201a8"
             ],
             [
              0.3333333333333333,
              "#9c179e"
             ],
             [
              0.4444444444444444,
              "#bd3786"
             ],
             [
              0.5555555555555556,
              "#d8576b"
             ],
             [
              0.6666666666666666,
              "#ed7953"
             ],
             [
              0.7777777777777778,
              "#fb9f3a"
             ],
             [
              0.8888888888888888,
              "#fdca26"
             ],
             [
              1,
              "#f0f921"
             ]
            ],
            "type": "heatmap"
           }
          ],
          "heatmapgl": [
           {
            "colorbar": {
             "outlinewidth": 0,
             "ticks": ""
            },
            "colorscale": [
             [
              0,
              "#0d0887"
             ],
             [
              0.1111111111111111,
              "#46039f"
             ],
             [
              0.2222222222222222,
              "#7201a8"
             ],
             [
              0.3333333333333333,
              "#9c179e"
             ],
             [
              0.4444444444444444,
              "#bd3786"
             ],
             [
              0.5555555555555556,
              "#d8576b"
             ],
             [
              0.6666666666666666,
              "#ed7953"
             ],
             [
              0.7777777777777778,
              "#fb9f3a"
             ],
             [
              0.8888888888888888,
              "#fdca26"
             ],
             [
              1,
              "#f0f921"
             ]
            ],
            "type": "heatmapgl"
           }
          ],
          "histogram": [
           {
            "marker": {
             "pattern": {
              "fillmode": "overlay",
              "size": 10,
              "solidity": 0.2
             }
            },
            "type": "histogram"
           }
          ],
          "histogram2d": [
           {
            "colorbar": {
             "outlinewidth": 0,
             "ticks": ""
            },
            "colorscale": [
             [
              0,
              "#0d0887"
             ],
             [
              0.1111111111111111,
              "#46039f"
             ],
             [
              0.2222222222222222,
              "#7201a8"
             ],
             [
              0.3333333333333333,
              "#9c179e"
             ],
             [
              0.4444444444444444,
              "#bd3786"
             ],
             [
              0.5555555555555556,
              "#d8576b"
             ],
             [
              0.6666666666666666,
              "#ed7953"
             ],
             [
              0.7777777777777778,
              "#fb9f3a"
             ],
             [
              0.8888888888888888,
              "#fdca26"
             ],
             [
              1,
              "#f0f921"
             ]
            ],
            "type": "histogram2d"
           }
          ],
          "histogram2dcontour": [
           {
            "colorbar": {
             "outlinewidth": 0,
             "ticks": ""
            },
            "colorscale": [
             [
              0,
              "#0d0887"
             ],
             [
              0.1111111111111111,
              "#46039f"
             ],
             [
              0.2222222222222222,
              "#7201a8"
             ],
             [
              0.3333333333333333,
              "#9c179e"
             ],
             [
              0.4444444444444444,
              "#bd3786"
             ],
             [
              0.5555555555555556,
              "#d8576b"
             ],
             [
              0.6666666666666666,
              "#ed7953"
             ],
             [
              0.7777777777777778,
              "#fb9f3a"
             ],
             [
              0.8888888888888888,
              "#fdca26"
             ],
             [
              1,
              "#f0f921"
             ]
            ],
            "type": "histogram2dcontour"
           }
          ],
          "mesh3d": [
           {
            "colorbar": {
             "outlinewidth": 0,
             "ticks": ""
            },
            "type": "mesh3d"
           }
          ],
          "parcoords": [
           {
            "line": {
             "colorbar": {
              "outlinewidth": 0,
              "ticks": ""
             }
            },
            "type": "parcoords"
           }
          ],
          "pie": [
           {
            "automargin": true,
            "type": "pie"
           }
          ],
          "scatter": [
           {
            "fillpattern": {
             "fillmode": "overlay",
             "size": 10,
             "solidity": 0.2
            },
            "type": "scatter"
           }
          ],
          "scatter3d": [
           {
            "line": {
             "colorbar": {
              "outlinewidth": 0,
              "ticks": ""
             }
            },
            "marker": {
             "colorbar": {
              "outlinewidth": 0,
              "ticks": ""
             }
            },
            "type": "scatter3d"
           }
          ],
          "scattercarpet": [
           {
            "marker": {
             "colorbar": {
              "outlinewidth": 0,
              "ticks": ""
             }
            },
            "type": "scattercarpet"
           }
          ],
          "scattergeo": [
           {
            "marker": {
             "colorbar": {
              "outlinewidth": 0,
              "ticks": ""
             }
            },
            "type": "scattergeo"
           }
          ],
          "scattergl": [
           {
            "marker": {
             "colorbar": {
              "outlinewidth": 0,
              "ticks": ""
             }
            },
            "type": "scattergl"
           }
          ],
          "scattermapbox": [
           {
            "marker": {
             "colorbar": {
              "outlinewidth": 0,
              "ticks": ""
             }
            },
            "type": "scattermapbox"
           }
          ],
          "scatterpolar": [
           {
            "marker": {
             "colorbar": {
              "outlinewidth": 0,
              "ticks": ""
             }
            },
            "type": "scatterpolar"
           }
          ],
          "scatterpolargl": [
           {
            "marker": {
             "colorbar": {
              "outlinewidth": 0,
              "ticks": ""
             }
            },
            "type": "scatterpolargl"
           }
          ],
          "scatterternary": [
           {
            "marker": {
             "colorbar": {
              "outlinewidth": 0,
              "ticks": ""
             }
            },
            "type": "scatterternary"
           }
          ],
          "surface": [
           {
            "colorbar": {
             "outlinewidth": 0,
             "ticks": ""
            },
            "colorscale": [
             [
              0,
              "#0d0887"
             ],
             [
              0.1111111111111111,
              "#46039f"
             ],
             [
              0.2222222222222222,
              "#7201a8"
             ],
             [
              0.3333333333333333,
              "#9c179e"
             ],
             [
              0.4444444444444444,
              "#bd3786"
             ],
             [
              0.5555555555555556,
              "#d8576b"
             ],
             [
              0.6666666666666666,
              "#ed7953"
             ],
             [
              0.7777777777777778,
              "#fb9f3a"
             ],
             [
              0.8888888888888888,
              "#fdca26"
             ],
             [
              1,
              "#f0f921"
             ]
            ],
            "type": "surface"
           }
          ],
          "table": [
           {
            "cells": {
             "fill": {
              "color": "#EBF0F8"
             },
             "line": {
              "color": "white"
             }
            },
            "header": {
             "fill": {
              "color": "#C8D4E3"
             },
             "line": {
              "color": "white"
             }
            },
            "type": "table"
           }
          ]
         },
         "layout": {
          "annotationdefaults": {
           "arrowcolor": "#2a3f5f",
           "arrowhead": 0,
           "arrowwidth": 1
          },
          "autotypenumbers": "strict",
          "coloraxis": {
           "colorbar": {
            "outlinewidth": 0,
            "ticks": ""
           }
          },
          "colorscale": {
           "diverging": [
            [
             0,
             "#8e0152"
            ],
            [
             0.1,
             "#c51b7d"
            ],
            [
             0.2,
             "#de77ae"
            ],
            [
             0.3,
             "#f1b6da"
            ],
            [
             0.4,
             "#fde0ef"
            ],
            [
             0.5,
             "#f7f7f7"
            ],
            [
             0.6,
             "#e6f5d0"
            ],
            [
             0.7,
             "#b8e186"
            ],
            [
             0.8,
             "#7fbc41"
            ],
            [
             0.9,
             "#4d9221"
            ],
            [
             1,
             "#276419"
            ]
           ],
           "sequential": [
            [
             0,
             "#0d0887"
            ],
            [
             0.1111111111111111,
             "#46039f"
            ],
            [
             0.2222222222222222,
             "#7201a8"
            ],
            [
             0.3333333333333333,
             "#9c179e"
            ],
            [
             0.4444444444444444,
             "#bd3786"
            ],
            [
             0.5555555555555556,
             "#d8576b"
            ],
            [
             0.6666666666666666,
             "#ed7953"
            ],
            [
             0.7777777777777778,
             "#fb9f3a"
            ],
            [
             0.8888888888888888,
             "#fdca26"
            ],
            [
             1,
             "#f0f921"
            ]
           ],
           "sequentialminus": [
            [
             0,
             "#0d0887"
            ],
            [
             0.1111111111111111,
             "#46039f"
            ],
            [
             0.2222222222222222,
             "#7201a8"
            ],
            [
             0.3333333333333333,
             "#9c179e"
            ],
            [
             0.4444444444444444,
             "#bd3786"
            ],
            [
             0.5555555555555556,
             "#d8576b"
            ],
            [
             0.6666666666666666,
             "#ed7953"
            ],
            [
             0.7777777777777778,
             "#fb9f3a"
            ],
            [
             0.8888888888888888,
             "#fdca26"
            ],
            [
             1,
             "#f0f921"
            ]
           ]
          },
          "colorway": [
           "#636efa",
           "#EF553B",
           "#00cc96",
           "#ab63fa",
           "#FFA15A",
           "#19d3f3",
           "#FF6692",
           "#B6E880",
           "#FF97FF",
           "#FECB52"
          ],
          "font": {
           "color": "#2a3f5f"
          },
          "geo": {
           "bgcolor": "white",
           "lakecolor": "white",
           "landcolor": "#E5ECF6",
           "showlakes": true,
           "showland": true,
           "subunitcolor": "white"
          },
          "hoverlabel": {
           "align": "left"
          },
          "hovermode": "closest",
          "mapbox": {
           "style": "light"
          },
          "paper_bgcolor": "white",
          "plot_bgcolor": "#E5ECF6",
          "polar": {
           "angularaxis": {
            "gridcolor": "white",
            "linecolor": "white",
            "ticks": ""
           },
           "bgcolor": "#E5ECF6",
           "radialaxis": {
            "gridcolor": "white",
            "linecolor": "white",
            "ticks": ""
           }
          },
          "scene": {
           "xaxis": {
            "backgroundcolor": "#E5ECF6",
            "gridcolor": "white",
            "gridwidth": 2,
            "linecolor": "white",
            "showbackground": true,
            "ticks": "",
            "zerolinecolor": "white"
           },
           "yaxis": {
            "backgroundcolor": "#E5ECF6",
            "gridcolor": "white",
            "gridwidth": 2,
            "linecolor": "white",
            "showbackground": true,
            "ticks": "",
            "zerolinecolor": "white"
           },
           "zaxis": {
            "backgroundcolor": "#E5ECF6",
            "gridcolor": "white",
            "gridwidth": 2,
            "linecolor": "white",
            "showbackground": true,
            "ticks": "",
            "zerolinecolor": "white"
           }
          },
          "shapedefaults": {
           "line": {
            "color": "#2a3f5f"
           }
          },
          "ternary": {
           "aaxis": {
            "gridcolor": "white",
            "linecolor": "white",
            "ticks": ""
           },
           "baxis": {
            "gridcolor": "white",
            "linecolor": "white",
            "ticks": ""
           },
           "bgcolor": "#E5ECF6",
           "caxis": {
            "gridcolor": "white",
            "linecolor": "white",
            "ticks": ""
           }
          },
          "title": {
           "x": 0.05
          },
          "xaxis": {
           "automargin": true,
           "gridcolor": "white",
           "linecolor": "white",
           "ticks": "",
           "title": {
            "standoff": 15
           },
           "zerolinecolor": "white",
           "zerolinewidth": 2
          },
          "yaxis": {
           "automargin": true,
           "gridcolor": "white",
           "linecolor": "white",
           "ticks": "",
           "title": {
            "standoff": 15
           },
           "zerolinecolor": "white",
           "zerolinewidth": 2
          }
         }
        }
       }
      }
     },
     "metadata": {},
     "output_type": "display_data"
    },
    {
     "name": "stdout",
     "output_type": "stream",
     "text": [
      "Elapsed:  2.62\n"
     ]
    }
   ],
   "source": [
    "import time\n",
    "StartTime = time.time()\n",
    "print('Plotting the 3D Graph ..')\n",
    "plot_3D(graph)\n",
    "print(f'Elapsed: {time.time()-StartTime:5.2f}')"
   ]
  },
  {
   "cell_type": "code",
   "execution_count": null,
   "metadata": {},
   "outputs": [],
   "source": [
    "# list(graph.nodes).index((404, 136, 313))\n",
    "# list(graph.nodes)[0]"
   ]
  },
  {
   "cell_type": "code",
   "execution_count": null,
   "metadata": {},
   "outputs": [],
   "source": [
    "# indices2 = np.array(np.where(skeleton))\n",
    "# indices2[:, 0]\n",
    "# tuple(indices2[:, 0])\n",
    "# list(graph.nodes).index((49, 268, 201))\n",
    "# dict(graph.nodes)#[(49, 268, 201)]\n",
    "# list(graph.nodes)[272]"
   ]
  },
  {
   "cell_type": "code",
   "execution_count": null,
   "metadata": {},
   "outputs": [],
   "source": [
    "### Doesn't work for undirected graphs!\n",
    "\n",
    "cycles = list(nx.simple_cycles(graph))\n",
    "print(\"Cycles found:\")\n",
    "for cycle in cycles:\n",
    "    print(cycle)"
   ]
  },
  {
   "cell_type": "code",
   "execution_count": null,
   "metadata": {},
   "outputs": [],
   "source": [
    "### Bad code: Finds only 2-tuples of cycles, and oblivious of root, and maxcyclesize=3\n",
    "\n",
    "# graph.size()\n",
    "\n",
    "def find_cycles(graph):\n",
    "    visited = set()\n",
    "    cycles = []\n",
    "\n",
    "    def dfs(node, parent):\n",
    "        visited.add(node)\n",
    "        for neighbor in graph.neighbors(node):\n",
    "            if neighbor == parent:\n",
    "                continue\n",
    "            if neighbor in visited:\n",
    "                cycles.append([neighbor, node])\n",
    "            else:\n",
    "                dfs(neighbor, node)\n",
    "\n",
    "    for node in graph.nodes():\n",
    "        if node not in visited:\n",
    "            dfs(node, None)\n",
    "\n",
    "    return cycles\n",
    "\n",
    "cycles = find_cycles(graph)\n",
    "print(\"Cycles found:\")\n",
    "for cycle in cycles:\n",
    "    print(cycle)"
   ]
  },
  {
   "cell_type": "code",
   "execution_count": null,
   "metadata": {},
   "outputs": [],
   "source": [
    "def find_cycles(graph, root_node):\n",
    "    cycles = []\n",
    "\n",
    "    def dfs(node, visited, path):\n",
    "        visited.add(node)\n",
    "        path.append(node)\n",
    "\n",
    "        if len(path) >= 2 and path[0] in graph.neighbors(node):\n",
    "            cycles.append(path[:3])  # Only consider cycles up to length 3\n",
    "\n",
    "        if len(path) < 3:\n",
    "            for neighbor in graph.neighbors(node):\n",
    "                if neighbor not in visited and neighbor != root_node:\n",
    "                    dfs(neighbor, visited.copy(), path.copy())\n",
    "\n",
    "    dfs(root_node, set(), [])\n",
    "\n",
    "    return cycles\n",
    "\n",
    "# Assuming you already have an undirected graph named 'graph' and a known root node 'root_node'\n",
    "cycles = find_cycles(graph, list(graph.nodes)[271])\n",
    "print(\"Cycles found:\")\n",
    "for cycle in cycles:\n",
    "    print(cycle)"
   ]
  },
  {
   "cell_type": "code",
   "execution_count": null,
   "metadata": {},
   "outputs": [],
   "source": [
    "# Adjacency-2-Graph\n",
    "\n",
    "# Given adjacency matrix as a dictionary\n",
    "adjacency_dict = {\n",
    "    1: [2, 3],\n",
    "    2: [1, 4, 3],\n",
    "    3: [1, 5, 2],\n",
    "    4: [2],\n",
    "    5: [3]\n",
    "}\n",
    "\n",
    "# Create a graph\n",
    "G = nx.Graph()\n",
    "\n",
    "# Add nodes and edges based on the adjacency dictionary\n",
    "for node, neighbors in adjacency_dict.items():\n",
    "    G.add_node(node)\n",
    "    for neighbor in neighbors:\n",
    "        G.add_edge(node, neighbor)\n",
    "\n",
    "# Print the edges of the created graph\n",
    "print(\"Edges of the graph:\")\n",
    "for edge in G.edges():\n",
    "    print(edge)"
   ]
  },
  {
   "cell_type": "code",
   "execution_count": null,
   "metadata": {},
   "outputs": [],
   "source": [
    "# Cycle-3: Good-Approach-8! Using adjacency matrix and without netwrokx: Creates 10 duplicates!\n",
    "\n",
    "def find_length_3_cycles(graph, node, visited, parent=None, depth=0):\n",
    "    visited[node] = True\n",
    "\n",
    "    for neighbor in graph[node]:\n",
    "        if not visited[neighbor]:\n",
    "            find_length_3_cycles(graph, neighbor, visited, node, depth + 1)\n",
    "        elif depth >= 2 and neighbor != parent:\n",
    "            print(\"Length-3 cycle:\", node, \"->\", neighbor, \"->\", parent)\n",
    "\n",
    "    visited[node] = False\n",
    "\n",
    "# Assuming your graph is represented as an adjacency list\n",
    "graph = {\n",
    "    1: [2, 3],\n",
    "    2: [1, 4, 3],\n",
    "    3: [1, 5, 2],\n",
    "    4: [2],\n",
    "    5: [3]\n",
    "}\n",
    "\n",
    "visited = {node: False for node in graph}\n",
    "for node in graph:\n",
    "    find_length_3_cycles(graph, node, visited)\n"
   ]
  },
  {
   "cell_type": "code",
   "execution_count": null,
   "metadata": {},
   "outputs": [],
   "source": [
    "### Cycle-3: Approach-9! Bare-basic checking. Works great. Has 3! duplicates.\n",
    "\n",
    "# Find all length-3 cycles\n",
    "length_3_cycles = []\n",
    "for node in G.nodes():\n",
    "    neighbors = list(G.neighbors(node))\n",
    "    for neighbor1 in neighbors:\n",
    "        for neighbor2 in neighbors:\n",
    "            if neighbor1 != neighbor2 and G.has_edge(neighbor1, neighbor2):\n",
    "                length_3_cycles.append([node, neighbor1, neighbor2])\n",
    "\n",
    "# Print the length-3 cycles\n",
    "for cycle in length_3_cycles:\n",
    "    print(cycle)"
   ]
  },
  {
   "cell_type": "code",
   "execution_count": null,
   "metadata": {},
   "outputs": [],
   "source": [
    "# Approach-9 with duplicates removed\n",
    "\n",
    "# Find all length-3 cycles without duplicates\n",
    "length_3_cycles = set()\n",
    "for node in graph.nodes():\n",
    "    neighbors = list(graph.neighbors(node))\n",
    "    for neighbor1 in neighbors:\n",
    "        for neighbor2 in neighbors:\n",
    "            if neighbor1 != neighbor2 and graph.has_edge(neighbor1, neighbor2):\n",
    "                cycle = tuple(sorted([node, neighbor1, neighbor2]))  # Sorting to avoid permutations\n",
    "                length_3_cycles.add(cycle)\n",
    "\n",
    "# Convert the cycles back to lists for printing\n",
    "length_3_cycles = [list(cycle) for cycle in length_3_cycles]\n",
    "\n",
    "# Print the length-3 cycles without duplicates\n",
    "for cycle in length_3_cycles:\n",
    "    print(cycle)"
   ]
  },
  {
   "cell_type": "code",
   "execution_count": null,
   "metadata": {},
   "outputs": [],
   "source": [
    "EdgesInCycles = [[L[i], L[(i+1)%3]] for L in length_3_cycles for i in [0, 1, 2]]\n",
    "EdgesInCycles"
   ]
  },
  {
   "cell_type": "code",
   "execution_count": null,
   "metadata": {},
   "outputs": [],
   "source": [
    "graph.edges[EdgesInCycles[2]]"
   ]
  },
  {
   "cell_type": "code",
   "execution_count": null,
   "metadata": {},
   "outputs": [],
   "source": [
    "# 6 % 3\n",
    "# 2+1 % 3 = 3!"
   ]
  },
  {
   "cell_type": "code",
   "execution_count": null,
   "metadata": {},
   "outputs": [],
   "source": [
    "### Experiments\n",
    "\n",
    "# KTHCYCLE_NODES = length_3_cycles[0]\n",
    "# KTHCYCLE_NODES\n",
    "# # list(graph.edges)[0] in length_3_cycles\n",
    "# # length_3_cycles[0]\n",
    "# ITHEDGE_NODES = list(list(graph.edges)[0])\n",
    "# ITHEDGE_NODES\n",
    "# EdgeIsInCycle = all(item in KTHCYCLE_NODES for item in ITHEDGE_NODES)\n",
    "# EdgeIsInCycle"
   ]
  },
  {
   "cell_type": "code",
   "execution_count": null,
   "metadata": {},
   "outputs": [],
   "source": [
    "# Plot Interactive 3D-2!\n",
    "\n",
    "fig = make_subplots(rows=1, cols=1, specs=[[{'type': 'scatter3d'}]])\n",
    "x, y, z = zip(*graph.nodes)\n",
    "\n",
    "leaf_nodes = [node for node, degree in graph.degree if degree == 1]\n",
    "\n",
    "node_trace = go.Scatter3d(\n",
    "    x=x,\n",
    "    y=y,\n",
    "    z=z,\n",
    "    mode='markers',\n",
    "    marker=dict(\n",
    "        size=2,\n",
    "        color=['red' if node in leaf_nodes else 'blue' for node in graph.nodes()],\n",
    "        opacity=0.4 #0.8\n",
    "    )\n",
    ")\n",
    "fig.add_trace(node_trace)\n",
    "\n",
    "for edge in graph.edges():\n",
    "    x0, y0, z0 = edge[0]\n",
    "    x1, y1, z1 = edge[1]\n",
    "    \n",
    "    edge_length = graph.edges[edge]['edge_length']\n",
    "    edge_text = f'{edge_length:.2f}'  # Display the edge length as text\n",
    "    \n",
    "    edge_is_in_a_cycle = [edge[0],edge[1]] in EdgesInCycles or [edge[1],edge[0]] in EdgesInCycles\n",
    "    \n",
    "    edge_trace = go.Scatter3d(\n",
    "        x=[x0, x1],\n",
    "        y=[y0, y1],\n",
    "        z=[z0, z1],\n",
    "        mode='lines',\n",
    "        line=dict(color='rgba(255, 0, 0, 0.8)' if edge_is_in_a_cycle else 'rgba(128, 128, 128, 0.4)',\n",
    "            width=3),\n",
    "        hoverinfo='text',\n",
    "        text=edge_text\n",
    "    )\n",
    "    fig.add_trace(edge_trace)\n",
    "\n",
    "fig.update_layout(\n",
    "    margin=dict(l=0, r=0, b=0, t=0),\n",
    "    scene=dict(\n",
    "        xaxis=dict(range=[0, max(x) + 1]),\n",
    "        yaxis=dict(range=[0, max(y) + 1]),\n",
    "        zaxis=dict(range=[0, max(z) + 1])\n",
    "    )\n",
    ")\n",
    "\n",
    "fig.show()  "
   ]
  },
  {
   "cell_type": "code",
   "execution_count": null,
   "metadata": {},
   "outputs": [],
   "source": [
    "# set([1,2]) == set([2,1])\n",
    "set([1,2]) in set([1,2,3])"
   ]
  },
  {
   "cell_type": "markdown",
   "metadata": {},
   "source": [
    "![Alt text](image.png)"
   ]
  },
  {
   "cell_type": "code",
   "execution_count": null,
   "metadata": {},
   "outputs": [],
   "source": [
    "# True networkx adjacency matrix\n",
    "\n",
    "# Get the adjacency matrix\n",
    "adj_matrix = nx.adjacency_matrix(G)\n",
    "\n",
    "# Convert the sparse matrix to a dense NumPy array\n",
    "adj_matrix_dense = adj_matrix.toarray()\n",
    "\n",
    "# Print the adjacency matrix\n",
    "print(adj_matrix_dense)"
   ]
  },
  {
   "cell_type": "code",
   "execution_count": 10,
   "metadata": {},
   "outputs": [
    {
     "ename": "ValueError",
     "evalue": "not enough values to unpack (expected 3, got 1)",
     "output_type": "error",
     "traceback": [
      "\u001b[1;31m---------------------------------------------------------------------------\u001b[0m",
      "\u001b[1;31mValueError\u001b[0m                                Traceback (most recent call last)",
      "Cell \u001b[1;32mIn[10], line 8\u001b[0m\n\u001b[0;32m      5\u001b[0m mlab\u001b[39m.\u001b[39mfigure()\n\u001b[0;32m      7\u001b[0m \u001b[39m# Create a meshgrid for your 3D object\u001b[39;00m\n\u001b[1;32m----> 8\u001b[0m x, y, z \u001b[39m=\u001b[39m np\u001b[39m.\u001b[39mwhere(graph \u001b[39m==\u001b[39m \u001b[39m1\u001b[39m)\n\u001b[0;32m     10\u001b[0m \u001b[39m# Plot the 3D object as a surface\u001b[39;00m\n\u001b[0;32m     11\u001b[0m mlab\u001b[39m.\u001b[39mpoints3d(x, y, z, scale_factor\u001b[39m=\u001b[39m\u001b[39m1\u001b[39m, color\u001b[39m=\u001b[39m(\u001b[39m0\u001b[39m, \u001b[39m0\u001b[39m, \u001b[39m1\u001b[39m), mode\u001b[39m=\u001b[39m\u001b[39m'\u001b[39m\u001b[39mcube\u001b[39m\u001b[39m'\u001b[39m)\n",
      "\u001b[1;31mValueError\u001b[0m: not enough values to unpack (expected 3, got 1)"
     ]
    }
   ],
   "source": [
    "from mayavi import mlab\n",
    "import numpy as np\n",
    "\n",
    "# Create a figure\n",
    "mlab.figure()\n",
    "\n",
    "# Create a meshgrid for your 3D object\n",
    "x, y, z = np.where(graph == 1)\n",
    "\n",
    "# Plot the 3D object as a surface\n",
    "mlab.points3d(x, y, z, scale_factor=1, color=(0, 0, 1), mode='cube')\n",
    "\n",
    "mlab.show()"
   ]
  }
 ],
 "metadata": {
  "kernelspec": {
   "display_name": ".venv3pip",
   "language": "python",
   "name": "python3"
  },
  "language_info": {
   "codemirror_mode": {
    "name": "ipython",
    "version": 3
   },
   "file_extension": ".py",
   "mimetype": "text/x-python",
   "name": "python",
   "nbconvert_exporter": "python",
   "pygments_lexer": "ipython3",
   "version": "3.11.0"
  },
  "orig_nbformat": 4
 },
 "nbformat": 4,
 "nbformat_minor": 2
}
