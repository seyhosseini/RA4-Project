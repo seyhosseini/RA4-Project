{
 "cells": [
  {
   "cell_type": "code",
   "execution_count": 1,
   "metadata": {},
   "outputs": [
    {
     "ename": "FileNotFoundError",
     "evalue": "[WinError 3] The system cannot find the path specified: 'z:/Q- Figures/T-32Poster/Nate/GraphCreationCodeFiles/Case-32'",
     "output_type": "error",
     "traceback": [
      "\u001b[1;31m---------------------------------------------------------------------------\u001b[0m",
      "\u001b[1;31mFileNotFoundError\u001b[0m                         Traceback (most recent call last)",
      "\u001b[1;32mc:\\Users\\ndnewcomb\\Documents\\GitHub\\RA4-Project\\Nate\\C13-Graphs-Networkx-Nate.ipynb Cell 1\u001b[0m line \u001b[0;36m1\n\u001b[0;32m     <a href='vscode-notebook-cell:/c%3A/Users/ndnewcomb/Documents/GitHub/RA4-Project/Nate/C13-Graphs-Networkx-Nate.ipynb#X51sZmlsZQ%3D%3D?line=9'>10</a>\u001b[0m GraphArtifactsFolderName \u001b[39m=\u001b[39m \u001b[39m\"\u001b[39m\u001b[39mz:/Q- Figures/T-32Poster/Nate/GraphCreationCodeFiles/Case-32\u001b[39m\u001b[39m\"\u001b[39m\n\u001b[0;32m     <a href='vscode-notebook-cell:/c%3A/Users/ndnewcomb/Documents/GitHub/RA4-Project/Nate/C13-Graphs-Networkx-Nate.ipynb#X51sZmlsZQ%3D%3D?line=10'>11</a>\u001b[0m \u001b[39mif\u001b[39;00m \u001b[39mnot\u001b[39;00m os\u001b[39m.\u001b[39mpath\u001b[39m.\u001b[39mexists(GraphArtifactsFolderName):\n\u001b[1;32m---> <a href='vscode-notebook-cell:/c%3A/Users/ndnewcomb/Documents/GitHub/RA4-Project/Nate/C13-Graphs-Networkx-Nate.ipynb#X51sZmlsZQ%3D%3D?line=11'>12</a>\u001b[0m     os\u001b[39m.\u001b[39;49mmkdir(GraphArtifactsFolderName)\n\u001b[0;32m     <a href='vscode-notebook-cell:/c%3A/Users/ndnewcomb/Documents/GitHub/RA4-Project/Nate/C13-Graphs-Networkx-Nate.ipynb#X51sZmlsZQ%3D%3D?line=12'>13</a>\u001b[0m verbose \u001b[39m=\u001b[39m \u001b[39mFalse\u001b[39;00m \u001b[39m# Set to True to see a lot more print outputs\u001b[39;00m\n",
      "\u001b[1;31mFileNotFoundError\u001b[0m: [WinError 3] The system cannot find the path specified: 'z:/Q- Figures/T-32Poster/Nate/GraphCreationCodeFiles/Case-32'"
     ]
    }
   ],
   "source": [
    "#0 Set anything that needs to be changed at the beginning:  $$$ LabelPath and GraphArtifactsFolderName\n",
    "# You have to restart the kernel each time it seems or sometimes Cell-22 spits an  error!!\n",
    "# Better clear all output too while you're at it!\n",
    "# Let's call this: VER2.1, Version-2.1: orders-4, output*0.38mm\n",
    "# Cases Done: [71,2,37,18,16,88,19,90,11,6,46,39,22,21,95,84,50,47,56,53,58,49,71,79,38,43, ]\n",
    "import os\n",
    "# Only need to change here: Look for S-Final---label.nrrd:\n",
    "LabelPath = \"z:/D-Images/SPIROMICS-SubStudy/2-Results-CheckedDoneTemp/1-Done/Case-32-Spiromics-51292112/Markups/88-Jensen/S-Final-2-label.nrrd\"\n",
    "\n",
    "GraphArtifactsFolderName = \"z:/Q- Figures/T-32Poster/Nate/GraphCreationCodeFiles/Case-32\"\n",
    "if not os.path.exists(GraphArtifactsFolderName):\n",
    "    os.mkdir(GraphArtifactsFolderName)\n",
    "verbose = False # Set to True to see a lot more print outputs"
   ]
  }
 ],
 "metadata": {
  "kernelspec": {
   "display_name": ".venv3pip",
   "language": "python",
   "name": "python3"
  },
  "language_info": {
   "codemirror_mode": {
    "name": "ipython",
    "version": 3
   },
   "file_extension": ".py",
   "mimetype": "text/x-python",
   "name": "python",
   "nbconvert_exporter": "python",
   "pygments_lexer": "ipython3",
   "version": "3.11.0"
  },
  "orig_nbformat": 4
 },
 "nbformat": 4,
 "nbformat_minor": 2
}
