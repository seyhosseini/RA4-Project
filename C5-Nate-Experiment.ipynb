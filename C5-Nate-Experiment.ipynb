{
 "cells": [
  {
   "cell_type": "code",
   "execution_count": null,
   "metadata": {},
   "outputs": [],
   "source": [
    "import SimpleITK as sitk\n",
    "\n",
    "# Specify the path to the image file\n",
    "# image_path = '../D-Spiromics-SubStudy/Additional_Scans_nii_gz/Case-47-H-17383_IA210102_SPI-IA210102-PBV_SPIROMICS_EXPIRATION_PBV_0.5_QR40_RESEARCH_A_80KV_Qr40d_3_65177004.nii.gz'\n",
    "\n",
    "# ZUNU_vida-lung-recentered.nii\n",
    "# \\\\lc-rs-store25.hpc.uiowa.edu\\teamwork\\public_resources\\RA4-Project\\E-Kelly-VidaSegmentals&Sublobes\\3- 20Spiromics-10ForKelly-ForERS23\\IA210257_H-17900_20190805_125316_20230524_121115_export\n",
    "# make lung masks same value (potentially)\n",
    "\n",
    "\n",
    "# NOTES\n",
    "# Crop CT to the loose bounding boxes of the lung mask \n",
    "# find extremeties \n",
    "# crop image \n",
    "\n",
    "\n",
    "\n",
    "# I3D1 = integer(I3D>0)\n",
    "\n",
    "image_path = \"ABC.nii.gz\"\n",
    "# Load the image\n",
    "\n",
    "\n",
    "# Load Lung Mask\n",
    "image = sitk.ReadImage(image_path)\n",
    "\n",
    "# convert image array to numpy array\n",
    "vnda = sitk.GetArrayFromImage(lungim)\n",
    "vnds = np.flip(vnda, axis=0)\n",
    "fvess = sitk.GetImageFromArray(vnds)\n",
    "fvess.CopyInformation(iim)\n",
    "# I3D1 = integer(I3D>0)\n",
    "sitk.WriteImage(fvess, \"../E-Kelly-VidaSegmentals&Sublobes/3- 20Spiromics-10ForKelly-ForERS23/IA210257_H-17900_20190805_125316_20230524_121115_export/\"+L[0][0:-4]+\"-recentered.nii.gz\") # flipped\n",
    "\n",
    "\n",
    "\n",
    "\n",
    "# find the extremities of the matrix to find where 1s start \n",
    "\n",
    "\n",
    "\n",
    "# Crop the image to above range minus ten in each direction\n",
    "\n",
    "\n",
    "\n",
    "\n",
    "\n",
    "# Accessing image properties\n",
    "# size = image.GetSize()\n",
    "# spacing = image.GetSpacing()\n",
    "# origin = image.GetOrigin()\n",
    "\n",
    "# Display image information\n",
    "# print(\"Image size:\", size)\n",
    "# print(\"Spacing:\", spacing)\n",
    "# print(\"Origin:\", origin)\n",
    "\n",
    "\n"
   ]
  },
  {
   "cell_type": "code",
   "execution_count": 7,
   "metadata": {},
   "outputs": [
    {
     "name": "stdout",
     "output_type": "stream",
     "text": [
      "[0, 0, 1, 0, 0, 1, 1, 1]\n"
     ]
    }
   ],
   "source": [
    "\n",
    "# turn number from list into boolean -> into 1 and 0\n",
    "import numpy\n",
    "A = [0, 0, 20, 0, 0, 30, 30, 20]\n",
    "# B = A>0\n",
    "B = [int(i>0) for i in A]\n",
    "print(B)"
   ]
  },
  {
   "cell_type": "code",
   "execution_count": null,
   "metadata": {},
   "outputs": [],
   "source": [
    "find(A3D[:,,])\n",
    "argmax()"
   ]
  },
  {
   "cell_type": "code",
   "execution_count": null,
   "metadata": {},
   "outputs": [],
   "source": [
    "A3D[0:500,0:500,0:500]\n",
    "A3D[60:350,100:200,200:300]\n",
    "\n",
    "fvess = sitk.GetImageFromArray(vnds)\n",
    "fvess.CopyInformation(iim) #from thw lung mask\n",
    "# I3D1 = integer(I3D>0)\n",
    "sitk.WriteImage(fvess, \"../E-Ke"
   ]
  },
  {
   "cell_type": "code",
   "execution_count": 10,
   "metadata": {},
   "outputs": [
    {
     "name": "stdout",
     "output_type": "stream",
     "text": [
      "Size: [672. 480. 588.]\n",
      "Origin: [ -129.1  -225.5 -1180.1]\n",
      "Spacing: 0.38\n"
     ]
    }
   ],
   "source": [
    "import numpy as np \n",
    "\n",
    "  \n",
    "\n",
    "# P1 = [129.1, 43.1, 1180.1] # RAI\n",
    "\n",
    "# P2 = [126.2, 225.5, 956.7] # LAI \n",
    "\n",
    "P1 = [-129.1, -43.1, -1180.1] # LPS \n",
    "\n",
    "P2 = [126.2, -225.5, -956.7] # LPS \n",
    "\n",
    "Origin = np.minimum(P1,P2) \n",
    "\n",
    "ROIExtent = np.absolute(np.subtract(P1,P2)) \n",
    "\n",
    "DesiredSpacing = 0.38 \n",
    "\n",
    "DesiredSize  = ROIExtent / DesiredSpacing #= round \n",
    "\n",
    "DesiredSizeR = np.around(DesiredSize) \n",
    "\n",
    "  \n",
    "\n",
    "print('Size:', DesiredSizeR) \n",
    "\n",
    "print('Origin:', Origin) \n",
    "\n",
    "print('Spacing:', DesiredSpacing) \n",
    "\n",
    "# print(ROIExtent) \n",
    "\n",
    "# print(DesiredSize) "
   ]
  },
  {
   "cell_type": "code",
   "execution_count": 9,
   "metadata": {},
   "outputs": [],
   "source": [
    "import os\n",
    "import pydicom\n",
    "import numpy as np\n",
    "import nibabel as nib\n",
    "\n",
    "\n",
    "Vx3_folders = (\"../D-Images/SPIROMICS-SubStudy/2-Results-CheckedDoneTemp/4-Vx3-Dicom\")\n",
    "\n",
    "def convert_nrrd_to_dicom(nrrd_file, output_directory):\n",
    "    # Load the NRRD image\n",
    "    nrrd_img = nib.load(nrrd_file)\n",
    "    nrrd_data = nrrd_img.get_fdata()\n",
    "\n",
    "    # Create a DICOM series\n",
    "    series = pydicom.Series()\n",
    "\n",
    "    for slice_idx in range(nrrd_data.shape[2]):\n",
    "        # Create a new DICOM image\n",
    "        dicom_img = pydicom.Dataset()\n",
    "        \n",
    "        # Set DICOM metadata\n",
    "        dicom_img.Rows = nrrd_data.shape[0]\n",
    "        dicom_img.Columns = nrrd_data.shape[1]\n",
    "        dicom_img.PixelSpacing = [.38, .38]  # Set the pixel spacing according to your data\n",
    "        # Set additional DICOM metadata as needed\n",
    "        \n",
    "        # Set the pixel data\n",
    "        dicom_img.PixelData = nrrd_data[:, :, slice_idx].astype(np.int16).tobytes()\n",
    "\n",
    "        # Add the DICOM image to the series\n",
    "        series.append(dicom_img)\n",
    "\n",
    "    # Save the DICOM series to files\n",
    "    series.save_as(\"../4-Vx3-Dicom\")\n",
    "\n",
    "# Root directory where the images are located\n",
    "root_directory = input(\"../1-Done\")\n",
    "\n",
    "# Traverse the root directory and find the NRRD files\n",
    "for root, dirs, files in os.walk(root_directory):\n",
    "    for directory in dirs:\n",
    "        if 'case' in directory.lower():\n",
    "            case_directory = os.path.join(root, directory)\n",
    "            nrrd_file = os.path.join(case_directory, 'Vx3.nrrd')\n",
    "\n",
    "            if os.path.isfile(nrrd_file):\n",
    "                # Create the output DICOM series directory\n",
    "                output_directory = os.path.join(case_directory, 'DICOM_series')\n",
    "                os.makedirs(output_directory, exist_ok=True)\n",
    "\n",
    "                # Convert NRRD to DICOM series\n",
    "                convert_nrrd_to_dicom(nrrd_file, output_directory)"
   ]
  },
  {
   "cell_type": "code",
   "execution_count": 19,
   "metadata": {},
   "outputs": [
    {
     "ename": "KeyboardInterrupt",
     "evalue": "",
     "output_type": "error",
     "traceback": [
      "\u001b[1;31m---------------------------------------------------------------------------\u001b[0m",
      "\u001b[1;31mKeyboardInterrupt\u001b[0m                         Traceback (most recent call last)",
      "Cell \u001b[1;32mIn[19], line 12\u001b[0m\n\u001b[0;32m      8\u001b[0m output_folder \u001b[39m=\u001b[39m \u001b[39m'\u001b[39m\u001b[39m../2-DICOMS\u001b[39m\u001b[39m'\u001b[39m\n\u001b[0;32m     11\u001b[0m \u001b[39m# Create the output folder if it doesn't exist\u001b[39;00m\n\u001b[1;32m---> 12\u001b[0m \u001b[39mif\u001b[39;00m \u001b[39mnot\u001b[39;00m os\u001b[39m.\u001b[39;49mpath\u001b[39m.\u001b[39;49mexists(output_folder):\n\u001b[0;32m     13\u001b[0m     os\u001b[39m.\u001b[39mmakedirs(output_folder)\n\u001b[0;32m     17\u001b[0m \u001b[39m# Get a list of all subdirectories in the parent folder\u001b[39;00m\n",
      "File \u001b[1;32m<frozen genericpath>:19\u001b[0m, in \u001b[0;36mexists\u001b[1;34m(path)\u001b[0m\n",
      "\u001b[1;31mKeyboardInterrupt\u001b[0m: "
     ]
    }
   ],
   "source": []
  }
 ],
 "metadata": {
  "kernelspec": {
   "display_name": "Python 3",
   "language": "python",
   "name": "python3"
  },
  "language_info": {
   "codemirror_mode": {
    "name": "ipython",
    "version": 3
   },
   "file_extension": ".py",
   "mimetype": "text/x-python",
   "name": "python",
   "nbconvert_exporter": "python",
   "pygments_lexer": "ipython3",
   "version": "3.11.0"
  },
  "orig_nbformat": 4
 },
 "nbformat": 4,
 "nbformat_minor": 2
}
