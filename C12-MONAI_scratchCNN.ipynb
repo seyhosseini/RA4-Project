{
 "cells": [
  {
   "cell_type": "code",
   "execution_count": 1,
   "metadata": {},
   "outputs": [],
   "source": [
    "from monai.data import Dataset, DataLoader\n",
    "import numpy as np\n",
    "import os\n",
    "\n",
    "class CustomDataset(Dataset):\n",
    "    def __init__(self, image_files, label_files, transform=None):\n",
    "        self.image_files = image_files\n",
    "        self.label_files = label_files\n",
    "        self.transform = transform\n",
    "\n",
    "    def __len__(self):\n",
    "        return len(self.image_files)\n",
    "\n",
    "    def __getitem__(self, index):\n",
    "        image = np.load(self.image_files[index])\n",
    "        label = np.load(self.label_files[index])\n",
    "\n",
    "        if self.transform:\n",
    "            image, label = self.transform(image, label)\n",
    "\n",
    "        return image, label\n"
   ]
  },
  {
   "cell_type": "code",
   "execution_count": 2,
   "metadata": {},
   "outputs": [],
   "source": [
    "from monai.transforms import Compose, Resize, ToTensor\n",
    "\n",
    "transform = Compose([\n",
    "    Resize((128, 128, 128)),\n",
    "    ToTensor()\n",
    "])\n"
   ]
  },
  {
   "cell_type": "code",
   "execution_count": 3,
   "metadata": {},
   "outputs": [],
   "source": [
    "from monai.transforms import Transform\n",
    "\n",
    "class ConcatRandomTensor(Transform):\n",
    "    def __init__(self):\n",
    "        super().__init__()\n",
    "\n",
    "    def __call__(self, image, label):\n",
    "        random_tensor = np.random.rand(*image.shape)\n",
    "        new_image = np.concatenate([image, random_tensor], axis=0)\n",
    "        return new_image, label\n"
   ]
  },
  {
   "cell_type": "code",
   "execution_count": 7,
   "metadata": {},
   "outputs": [
    {
     "name": "stderr",
     "output_type": "stream",
     "text": [
      "monai.networks.nets.unet UNet.__init__:dimensions: Argument `dimensions` has been deprecated since version 0.6. Please use `spatial_dims` instead.\n"
     ]
    }
   ],
   "source": [
    "from monai.networks.nets import UNet\n",
    "\n",
    "net = UNet(\n",
    "    dimensions=3,\n",
    "    in_channels=2,      # Change this based on concatenated tensor\n",
    "    out_channels=3,     # Define the number of classes for segmentation\n",
    "    channels=(16, 32, 64, 128, 256),  # Number of feature channels in each layer\n",
    "    strides=(2, 2, 2, 2),  # Strides for down-sampling layers\n",
    "    num_res_units=2,     # Number of residual units in each layer\n",
    "    norm='batch',        # Normalization type: 'batch', 'instance', or 'group'\n",
    ")\n"
   ]
  },
  {
   "cell_type": "code",
   "execution_count": 1,
   "metadata": {},
   "outputs": [
    {
     "ename": "NameError",
     "evalue": "name 'CustomDataset' is not defined",
     "output_type": "error",
     "traceback": [
      "\u001b[1;31m---------------------------------------------------------------------------\u001b[0m",
      "\u001b[1;31mNameError\u001b[0m                                 Traceback (most recent call last)",
      "Cell \u001b[1;32mIn[1], line 9\u001b[0m\n\u001b[0;32m      6\u001b[0m \u001b[39mfrom\u001b[39;00m \u001b[39mmonai\u001b[39;00m\u001b[39m.\u001b[39;00m\u001b[39mdata\u001b[39;00m \u001b[39mimport\u001b[39;00m DataLoader\n\u001b[0;32m      8\u001b[0m \u001b[39m# Assuming you have created the CustomDataset and applied transformations as mentioned before\u001b[39;00m\n\u001b[1;32m----> 9\u001b[0m train_dataset \u001b[39m=\u001b[39m CustomDataset(image_files, label_files, transform)\n\u001b[0;32m     11\u001b[0m batch_size \u001b[39m=\u001b[39m \u001b[39m2\u001b[39m  \u001b[39m# Adjust as needed\u001b[39;00m\n\u001b[0;32m     12\u001b[0m train_loader \u001b[39m=\u001b[39m DataLoader(train_dataset, batch_size\u001b[39m=\u001b[39mbatch_size, shuffle\u001b[39m=\u001b[39m\u001b[39mTrue\u001b[39;00m)\n",
      "\u001b[1;31mNameError\u001b[0m: name 'CustomDataset' is not defined"
     ]
    }
   ],
   "source": [
    "\n",
    "from monai.engines import SupervisedTrainer\n",
    "from monai.losses import DiceLoss\n",
    "from torch.optim import Adam\n",
    "\n",
    "\n",
    "from monai.data import DataLoader\n",
    "\n",
    "# Assuming you have created the CustomDataset and applied transformations as mentioned before\n",
    "train_dataset = CustomDataset(image_files, label_files, transform)\n",
    "\n",
    "batch_size = 2  # Adjust as needed\n",
    "train_loader = DataLoader(train_dataset, batch_size=batch_size, shuffle=True)\n",
    "\n",
    "\n",
    "device = \"cuda\" if torch.cuda.is_available() else \"cpu\"\n",
    "loss_function = DiceLoss(to_onehot_y=True, softmax=True)\n",
    "optimizer = Adam(net.parameters(), lr=1e-4)\n",
    "\n",
    "trainer = SupervisedTrainer(\n",
    "    device=device,\n",
    "    max_epochs=100,\n",
    "    train_data_loader=train_loader,\n",
    "    network=net,\n",
    "    optimizer=optimizer,\n",
    "    loss_function=loss_function,\n",
    "    inferer=None,\n",
    "    amp=True,  # Automatic Mixed Precision\n",
    ")\n",
    "\n",
    "trainer.run()\n"
   ]
  }
 ],
 "metadata": {
  "kernelspec": {
   "display_name": "Python 3",
   "language": "python",
   "name": "python3"
  },
  "language_info": {
   "codemirror_mode": {
    "name": "ipython",
    "version": 3
   },
   "file_extension": ".py",
   "mimetype": "text/x-python",
   "name": "python",
   "nbconvert_exporter": "python",
   "pygments_lexer": "ipython3",
   "version": "3.8.1"
  },
  "orig_nbformat": 4
 },
 "nbformat": 4,
 "nbformat_minor": 2
}
