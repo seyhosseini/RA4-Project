{
 "cells": [
  {
   "cell_type": "code",
   "execution_count": 16,
   "metadata": {},
   "outputs": [
    {
     "data": {
      "text/plain": [
       "(1, 1, 0)"
      ]
     },
     "execution_count": 16,
     "metadata": {},
     "output_type": "execute_result"
    }
   ],
   "source": [
    "# import numpy as np\n",
    "# LoadSegmentsSaveLabels\n",
    "\n",
    "# # B = []\n",
    "# C= [[[]]]\n",
    "# # C[0] = [[1,2],[1,3,4]]\n",
    "# # C[1] = ['A']\n",
    "\n",
    "# np.shape(C)\n",
    "\n",
    "# DI = {'A': [1,2]}\n",
    "# DI['B'] = [2,3]\n",
    "# DI[]"
   ]
  }
 ],
 "metadata": {
  "kernelspec": {
   "display_name": ".venvs",
   "language": "python",
   "name": "python3"
  },
  "language_info": {
   "codemirror_mode": {
    "name": "ipython",
    "version": 3
   },
   "file_extension": ".py",
   "mimetype": "text/x-python",
   "name": "python",
   "nbconvert_exporter": "python",
   "pygments_lexer": "ipython3",
   "version": "3.9.13"
  },
  "orig_nbformat": 4
 },
 "nbformat": 4,
 "nbformat_minor": 2
}
