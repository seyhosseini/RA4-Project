{
 "cells": [
  {
   "cell_type": "code",
   "execution_count": null,
   "metadata": {},
   "outputs": [],
   "source": [
    "# Code to remove 'Misc' label from segmentation files only [FUNCTIONAL]\n",
    "\n",
    "import nrrd\n",
    "import numpy as np\n",
    "\n",
    "def remove_label(nrrd_file, label_to_remove, output_file):\n",
    "    # Load the NRRD file\n",
    "    data, header = nrrd.read(nrrd_file)\n",
    "\n",
    "    # Identify the label value to remove\n",
    "    labels = np.unique(data)\n",
    "    if label_to_remove not in labels:\n",
    "        print(f\"Label {label_to_remove} not found in the segmentation.\")\n",
    "        return\n",
    "\n",
    "    # Remove the specified label\n",
    "    data[data == label_to_remove] = 0\n",
    "\n",
    "    # Save the modified data to a new NRRD file\n",
    "    nrrd.write(output_file, data, header)\n",
    "\n",
    "# Replace these paths and label value with your actual data\n",
    "input_nrrd_file = 'C:/Users/Adam/Desktop/Programs/code_testing/python_file_rename_copy/Case-22-0.5_A_80KV_Qr40d_3_53062428/MarkUps/88-Jensen/S-Segmentation-1.nrrd'\n",
    "output_nrrd_file = 'C:/Users/Adam/Desktop/Programs/code_testing/python_file_rename_copy/Case-22-0.5_A_80KV_Qr40d_3_53062428/MarkUps/88-Jensen/S-Segmentation-1-AV2.nrrd'\n",
    "label_to_remove = 3\n",
    "\n",
    "# Call the function to remove the label\n",
    "remove_label(input_nrrd_file, label_to_remove, output_nrrd_file)"
   ]
  },
  {
   "cell_type": "code",
   "execution_count": 1,
   "metadata": {},
   "outputs": [
    {
     "ename": "AttributeError",
     "evalue": "module 'slicer' has no attribute 'util'",
     "output_type": "error",
     "traceback": [
      "\u001b[1;31m---------------------------------------------------------------------------\u001b[0m",
      "\u001b[1;31mAttributeError\u001b[0m                            Traceback (most recent call last)",
      "Cell \u001b[1;32mIn[1], line 28\u001b[0m\n\u001b[0;32m     25\u001b[0m nrrd\u001b[39m.\u001b[39mwrite(output_path, data, header)\n\u001b[0;32m     27\u001b[0m \u001b[39m# Load the modified segmentation data using Slicer\u001b[39m\n\u001b[1;32m---> 28\u001b[0m modified_segmentation_node \u001b[39m=\u001b[39m slicer\u001b[39m.\u001b[39;49mutil\u001b[39m.\u001b[39mloadSegmentation(output_path)\n\u001b[0;32m     30\u001b[0m \u001b[39m# Get the segmentation node's segmentation object\u001b[39m\n\u001b[0;32m     31\u001b[0m segmentation \u001b[39m=\u001b[39m modified_segmentation_node\u001b[39m.\u001b[39mGetSegmentation()\n",
      "\u001b[1;31mAttributeError\u001b[0m: module 'slicer' has no attribute 'util'"
     ]
    }
   ],
   "source": [
    "# This code attempts to combine both setting segment labels to 0 if not 0, 1 or 2, and remove the segment label names from the list of\n",
    "    # all segment labels in the segmentation file [GETTING ERROR 'AttributeError: module 'slicer' has no attribute 'util'']\n",
    "\n",
    "import os\n",
    "import slicer\n",
    "import nrrd\n",
    "import numpy as np\n",
    "\n",
    "# Replace with the path to your segmentation file\n",
    "input_path = 'C:/Users/Adam/Desktop/Programs/code_testing/python_file_rename_copy/Case-22-0.5_A_80KV_Qr40d_3_53062428/MarkUps/88-Jensen/S-Segmentation-1.nrrd'\n",
    "\n",
    "# Replace with the desired output path for the modified segmentation\n",
    "output_path = 'C:/Users/Adam/Desktop/Programs/code_testing/python_file_rename_copy/Case-22-0.5_A_80KV_Qr40d_3_53062428/MarkUps/88-Jensen/S-Segmentation-1-newTest1'\n",
    "\n",
    "# List of segment labels to keep\n",
    "keep_labels = ['A', 'Artery']\n",
    "\n",
    "# List of segment values to keep\n",
    "keep_values = [0, 1, 2]\n",
    "\n",
    "# Load the segmentation node from the file\n",
    "segmentation_node = slicer.util.loadSegmentation(input_path)\n",
    "\n",
    "# Get the segmentation node's segmentation object\n",
    "segmentation = segmentation_node.GetSegmentation()\n",
    "\n",
    "# Iterate through existing segments and remove those not in the keep_labels list\n",
    "segments_to_remove = [segment for segment in segmentation.GetSegments() if segment.GetName() not in keep_labels]\n",
    "for segment in segments_to_remove:\n",
    "    segmentation.RemoveSegment(segment)\n",
    "\n",
    "# Save the modified segmentation node (optional)\n",
    "slicer.util.saveNode(segmentation_node, output_path)\n",
    "\n",
    "# Clean up by closing the segmentation node\n",
    "slicer.mrmlScene.RemoveNode(segmentation_node)\n",
    "\n",
    "# Read the modified segmentation data using pynrrd\n",
    "data, header = nrrd.read(output_path)\n",
    "\n",
    "# Update the segmentation data to keep only specific values\n",
    "data = np.where(np.isin(data, keep_values), data, 0)\n",
    "\n",
    "# Save the modified segmentation data using pynrrd\n",
    "nrrd.write(output_path, data, header)\n"
   ]
  }
 ],
 "metadata": {
  "kernelspec": {
   "display_name": "Python 3",
   "language": "python",
   "name": "python3"
  },
  "language_info": {
   "codemirror_mode": {
    "name": "ipython",
    "version": 3
   },
   "file_extension": ".py",
   "mimetype": "text/x-python",
   "name": "python",
   "nbconvert_exporter": "python",
   "pygments_lexer": "ipython3",
   "version": "3.8.1"
  },
  "orig_nbformat": 4
 },
 "nbformat": 4,
 "nbformat_minor": 2
}
