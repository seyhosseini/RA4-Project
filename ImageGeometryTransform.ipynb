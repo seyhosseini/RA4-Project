{
 "cells": [
  {
   "cell_type": "code",
   "execution_count": 29,
   "metadata": {},
   "outputs": [],
   "source": [
    "#Given two images, image 2 will be transformed to match the geometry of image 1.\n",
    "import itk\n",
    "import nibabel as nib\n",
    "import numpy as np\n",
    "import nrrd\n",
    "\n",
    "ImagePath2 = \"Z:/D-Images/SPIROMICS-SubStudy/2-Results-CheckedDoneTemp/1-Done/Case-42-Spiromics-67503688/Markups/88-Adam/S-Final-2-label.nrrd\"\n",
    "ImagePath1 = \"Z:/E-Kelly-VidaSegmentals&Sublobes/3- 20Spiromics-10ForKelly-ForERS23/Case42-IA210257_H-17900_20190805_125316_20230524_121115_export/ZUNU_vida-airtree-recentered.nii.gz\"\n",
    "#Image 2 is the airway while image 1 is the arterial tree. We will take image 2 and resample it using image 1 geometry\n",
    "#Image 1 is an nrrd and Image 2 is a nii.gz\n",
    "\n",
    "# Read the NRRD image using ITK NOTE LPS IS USED INSTEAD OF RAS\n",
    "im1 = itk.imread(ImagePath1, itk.SS)\n",
    "origin1 = im1.GetOrigin()  # Get image origin\n",
    "spacing1 = im1.GetSpacing()  # Get pixel spacing\n",
    "size1 = im1.GetLargestPossibleRegion().GetSize()  # Get image size\n",
    "\n",
    "im2 = itk.imread(ImagePath2, itk.SS)\n",
    "origin2 = im2.GetOrigin()  # Get image origin\n",
    "spacing2 = im2.GetSpacing()  # Get pixel spacing\n",
    "direction2 = im2.GetDirection()  # Get image direction (orientation)\n",
    "size2 = im2.GetLargestPossibleRegion().GetSize()  # Get image size\n",
    "\n",
    "#Find minimum and maximum pixel values of image 2 for thresholding purposes.\n",
    "min_max_calculator = itk.MinimumMaximumImageCalculator[itk.Image[itk.SS, 3]].New(Image=im2)\n",
    "min_max_calculator.Compute()\n",
    "min = min_max_calculator.GetMinimum()\n",
    "upperThresh = min_max_calculator.GetMaximum() + 1\n",
    "lowerThresh = int(min_max_calculator.GetMaximum() / 2)\n"
   ]
  },
  {
   "cell_type": "code",
   "execution_count": 28,
   "metadata": {},
   "outputs": [
    {
     "data": {
      "text/plain": [
       "3"
      ]
     },
     "execution_count": 28,
     "metadata": {},
     "output_type": "execute_result"
    }
   ],
   "source": [
    "upperThresh"
   ]
  },
  {
   "cell_type": "code",
   "execution_count": 30,
   "metadata": {},
   "outputs": [],
   "source": [
    "import os\n",
    "\n",
    "# Resample im2 to match im1's origin, spacing, and size\n",
    "resampler = itk.ResampleImageFilter.New(Input=im2)\n",
    "resampler.SetSize([int(x) for x in size1])\n",
    "resampler.SetOutputOrigin(origin1)\n",
    "resampler.SetOutputSpacing(spacing1)\n",
    "\n",
    "# Set identity transform\n",
    "transform = itk.IdentityTransform[itk.D, 3].New()\n",
    "resampler.SetTransform(transform)\n",
    "\n",
    "resampler.UseReferenceImageOn()\n",
    "resampler.SetReferenceImage(im1)\n",
    "resampler.Update()\n",
    "\n",
    "# Threshold the resampled image to create a binary mask\n",
    "threshold_filter = itk.BinaryThresholdImageFilter.New(Input=resampler.GetOutput())\n",
    "threshold_filter.SetLowerThreshold(lowerThresh)  # Threshold value, adjust if needed\n",
    "threshold_filter.SetUpperThreshold(upperThresh)  # Upper threshold value, adjust if needed\n",
    "threshold_filter.SetInsideValue(1)\n",
    "threshold_filter.SetOutsideValue(0)\n",
    "threshold_filter.Update()\n",
    "\n",
    "outputFile = \"C:/Users/nichmoore/Documents/GitHub/RA4-Project/figures/airtreeResampledSwapped.nii.gz\"\n",
    "\n",
    "if os.path.exists(outputFile):\n",
    "    os.remove(outputFile)\n",
    "\n",
    "# Save the resampled image as NIfTI\n",
    "airtreeResampled = threshold_filter.GetOutput()\n",
    "itk.imwrite(airtreeResampled, outputFile)"
   ]
  },
  {
   "cell_type": "code",
   "execution_count": null,
   "metadata": {},
   "outputs": [],
   "source": [
    "#Framework for function itself\n",
    "\n",
    "def TransformImageGeometry(image1, image2):\n",
    "    origin1 = image1.GetOrigin()  # Get image origin\n",
    "    spacing1 = image1.GetSpacing()  # Get pixel spacing\n",
    "    size1 = image1.GetLargestPossibleRegion().GetSize()  # Get image size\n",
    "    origin2 = image2.GetOrigin()  # Get image origin\n",
    "    spacing2 = image2.GetSpacing()  # Get pixel spacing\n",
    "    direction2 = image2.GetDirection()  # Get image direction (orientation)\n",
    "    size2 = image2.GetLargestPossibleRegion().GetSize()  # Get image size\n",
    "\n",
    "    min_max_calculator = itk.MinimumMaximumImageCalculator[itk.Image[itk.SS, 3]].New(Image=image2)\n",
    "    min_max_calculator.Compute()\n",
    "    upperThresh = min_max_calculator.GetMaximum() + 1\n",
    "    lowerThresh = int(min_max_calculator.GetMaximum() / 2)\n",
    "\n",
    "    # Resample im2 to match im1's origin, spacing, and size\n",
    "    resampler = itk.ResampleImageFilter.New(Input=image2)\n",
    "    resampler.SetSize([int(x) for x in size1])\n",
    "    resampler.SetOutputOrigin(origin1)\n",
    "    resampler.SetOutputSpacing(spacing1)\n",
    "\n",
    "    # Set identity transform\n",
    "    transform = itk.IdentityTransform[itk.D, 3].New()\n",
    "    resampler.SetTransform(transform)\n",
    "\n",
    "    resampler.UseReferenceImageOn()\n",
    "    resampler.SetReferenceImage(image1)\n",
    "    resampler.Update()\n",
    "\n",
    "    # Threshold the resampled image to create a binary mask\n",
    "    threshold_filter = itk.BinaryThresholdImageFilter.New(Input=resampler.GetOutput())\n",
    "    threshold_filter.SetLowerThreshold(lowerThresh)  # Threshold value, adjust if needed\n",
    "    threshold_filter.SetUpperThreshold(upperThresh)  # Upper threshold value, adjust if needed\n",
    "    threshold_filter.SetInsideValue(1)\n",
    "    threshold_filter.SetOutsideValue(0)\n",
    "    threshold_filter.Update()\n",
    "\n",
    "    outputFile = \"C:/Users/nichmoore/Documents/GitHub/RA4-Project/figures/airtreeResampledSwapped.nii.gz\"\n",
    "\n",
    "    if os.path.exists(outputFile):\n",
    "        os.remove(outputFile)\n",
    "\n",
    "    # Save the resampled image as NIfTI\n",
    "    airtreeResampled = threshold_filter.GetOutput()\n",
    "    itk.imwrite(airtreeResampled, outputFile)"
   ]
  }
 ],
 "metadata": {
  "kernelspec": {
   "display_name": "venvnick",
   "language": "python",
   "name": "python3"
  },
  "language_info": {
   "codemirror_mode": {
    "name": "ipython",
    "version": 3
   },
   "file_extension": ".py",
   "mimetype": "text/x-python",
   "name": "python",
   "nbconvert_exporter": "python",
   "pygments_lexer": "ipython3",
   "version": "3.11.6"
  }
 },
 "nbformat": 4,
 "nbformat_minor": 2
}
