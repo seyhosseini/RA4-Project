{
 "cells": [
  {
   "cell_type": "code",
   "execution_count": 6,
   "metadata": {},
   "outputs": [],
   "source": [
    "import itk\n",
    "import nibabel as nib\n",
    "import numpy as np\n",
    "import nrrd\n",
    "\n",
    "ImagePath1 = \"Z:/D-Images/SPIROMICS-SubStudy/2-Results-CheckedDoneTemp/1-Done/Case-42-Spiromics-67503688/Markups/88-Adam/S-Final-2-label.nrrd\"\n",
    "ImagePath2 = \"Z:/E-Kelly-VidaSegmentals&Sublobes/3- 20Spiromics-10ForKelly-ForERS23/Case42-IA210257_H-17900_20190805_125316_20230524_121115_export/ZUNU_vida-airtree-recentered.nii.gz\"\n",
    "#Try taking image 2 into upsampled geometry of image 1. Will have to resample\n",
    "#Image 1 is an nrrd and Image 2 is a nii.gz\n",
    "\n",
    "image1, header1 = nrrd.read(ImagePath1)\n",
    "\n",
    "image2 = nib.load(ImagePath2)\n",
    "data = image2.get_fdata()\n",
    "header2 = image2.header\n"
   ]
  },
  {
   "cell_type": "code",
   "execution_count": 5,
   "metadata": {},
   "outputs": [
    {
     "data": {
      "text/plain": [
       "OrderedDict([('type', 'short'),\n",
       "             ('dimension', 3),\n",
       "             ('space', 'left-posterior-superior'),\n",
       "             ('sizes', array([755, 608, 600])),\n",
       "             ('space directions',\n",
       "              array([[0.38, 0.  , 0.  ],\n",
       "                     [0.  , 0.38, 0.  ],\n",
       "                     [0.  , 0.  , 0.38]])),\n",
       "             ('kinds', ['domain', 'domain', 'domain']),\n",
       "             ('endian', 'little'),\n",
       "             ('encoding', 'gzip'),\n",
       "             ('space origin', array([-137., -298., -311.]))])"
      ]
     },
     "execution_count": 5,
     "metadata": {},
     "output_type": "execute_result"
    }
   ],
   "source": [
    "header1"
   ]
  }
 ],
 "metadata": {
  "kernelspec": {
   "display_name": "venvnick",
   "language": "python",
   "name": "python3"
  },
  "language_info": {
   "codemirror_mode": {
    "name": "ipython",
    "version": 3
   },
   "file_extension": ".py",
   "mimetype": "text/x-python",
   "name": "python",
   "nbconvert_exporter": "python",
   "pygments_lexer": "ipython3",
   "version": "3.11.6"
  }
 },
 "nbformat": 4,
 "nbformat_minor": 2
}
