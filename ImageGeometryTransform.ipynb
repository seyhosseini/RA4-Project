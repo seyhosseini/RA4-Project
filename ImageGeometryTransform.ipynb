{
 "cells": [
  {
   "cell_type": "code",
   "execution_count": 6,
   "metadata": {},
   "outputs": [],
   "source": [
    "# import itk\n",
    "# import nibabel as nib\n",
    "# import numpy as np\n",
    "# import nrrd\n",
    "\n",
    "# ImagePath1 = \"Z:/D-Images/SPIROMICS-SubStudy/2-Results-CheckedDoneTemp/1-Done/Case-42-Spiromics-67503688/Markups/88-Adam/S-Final-2-label.nrrd\"\n",
    "# ImagePath2 = \"Z:/E-Kelly-VidaSegmentals&Sublobes/3- 20Spiromics-10ForKelly-ForERS23/Case42-IA210257_H-17900_20190805_125316_20230524_121115_export/ZUNU_vida-airtree-recentered.nii.gz\"\n",
    "# #Image 2 is the airway while image 1 is the arterial tree. We will take image 2 and resample it using image 1 geometry\n",
    "# #Image 1 is an nrrd and Image 2 is a nii.gz\n",
    "\n",
    "# im1, header1 = nrrd.read(ImagePath1)\n",
    "\n",
    "# image2 = nib.load(ImagePath2)\n",
    "# im2 = image2.get_fdata()\n",
    "\n",
    "# #Getting image geometries (Origin, orientation(fixed), spacing, and size)\n",
    "\n",
    "# #Image 1 save metadata\n",
    "# origin1 = header1['space origin']\n",
    "# spacing1 = header1['space directions']\n",
    "# size1 = im1.shape\n",
    "\n",
    "# #Image 2 save metadata\n",
    "# origin2 = image2.affine[:3, 3]\n",
    "# orientation2 = image2.affine[:3, :3]\n",
    "# spacing2 = image2.header.get_zooms()\n",
    "# size2 = im2.shape"
   ]
  },
  {
   "cell_type": "code",
   "execution_count": 10,
   "metadata": {},
   "outputs": [
    {
     "data": {
      "text/plain": [
       "array([-137., -298., -311.])"
      ]
     },
     "execution_count": 10,
     "metadata": {},
     "output_type": "execute_result"
    }
   ],
   "source": [
    "# origin1"
   ]
  },
  {
   "cell_type": "code",
   "execution_count": 4,
   "metadata": {},
   "outputs": [],
   "source": [
    "#Try reading in the arterial tree (nrrd) and airways (NIfTI) using itk instead of pynrrd and nibabel for consistency.\n",
    "import itk\n",
    "import nibabel as nib\n",
    "import numpy as np\n",
    "import nrrd\n",
    "\n",
    "ImagePath1 = \"Z:/D-Images/SPIROMICS-SubStudy/2-Results-CheckedDoneTemp/1-Done/Case-42-Spiromics-67503688/Markups/88-Adam/S-Final-2-label.nrrd\"\n",
    "ImagePath2 = \"Z:/E-Kelly-VidaSegmentals&Sublobes/3- 20Spiromics-10ForKelly-ForERS23/Case42-IA210257_H-17900_20190805_125316_20230524_121115_export/ZUNU_vida-airtree-recentered.nii.gz\"\n",
    "#Image 2 is the airway while image 1 is the arterial tree. We will take image 2 and resample it using image 1 geometry\n",
    "#Image 1 is an nrrd and Image 2 is a nii.gz\n",
    "\n",
    "# Read the NRRD image using ITK NOTE LPS IS USED INSTEAD OF RAS\n",
    "im1 = itk.imread(ImagePath1, itk.SS)\n",
    "origin1 = im1.GetOrigin()  # Get image origin\n",
    "spacing1 = im1.GetSpacing()  # Get pixel spacing\n",
    "size1 = im1.GetLargestPossibleRegion().GetSize()  # Get image size\n",
    "\n",
    "im2 = itk.imread(ImagePath2, itk.SS)\n",
    "origin2 = im2.GetOrigin()  # Get image origin\n",
    "spacing2 = im2.GetSpacing()  # Get pixel spacing\n",
    "direction2 = im2.GetDirection()  # Get image direction (orientation)\n",
    "size2 = im2.GetLargestPossibleRegion().GetSize()  # Get image size\n",
    "\n"
   ]
  },
  {
   "cell_type": "code",
   "execution_count": 31,
   "metadata": {},
   "outputs": [
    {
     "data": {
      "text/plain": [
       "itkPointD3 ([-174.658, -358.158, -338.1])"
      ]
     },
     "execution_count": 31,
     "metadata": {},
     "output_type": "execute_result"
    }
   ],
   "source": [
    "# direction2\n",
    "origin2"
   ]
  },
  {
   "cell_type": "code",
   "execution_count": 9,
   "metadata": {},
   "outputs": [],
   "source": [
    "import os\n",
    "\n",
    "# Resample im2 to match im1's origin, spacing, and size\n",
    "resampler = itk.ResampleImageFilter.New(Input=im2)\n",
    "resampler.SetSize([int(x) for x in size1])\n",
    "resampler.SetOutputOrigin(origin1)\n",
    "resampler.SetOutputSpacing(spacing1)\n",
    "\n",
    "# Set identity transform\n",
    "transform = itk.IdentityTransform[itk.D, 3].New()\n",
    "resampler.SetTransform(transform)\n",
    "\n",
    "resampler.UseReferenceImageOn()\n",
    "resampler.SetReferenceImage(im1)\n",
    "resampler.Update()\n",
    "\n",
    "# Threshold the resampled image to create a binary mask\n",
    "threshold_filter = itk.BinaryThresholdImageFilter.New(Input=resampler.GetOutput())\n",
    "threshold_filter.SetLowerThreshold(200)  # Threshold value, adjust if needed\n",
    "threshold_filter.SetUpperThreshold(256)  # Upper threshold value, adjust if needed\n",
    "threshold_filter.SetInsideValue(1)\n",
    "threshold_filter.SetOutsideValue(0)\n",
    "threshold_filter.Update()\n",
    "\n",
    "outputFile = \"C:/Users/nichmoore/Documents/GitHub/RA4-Project/figures/airtreeResampled1.nii.gz\"\n",
    "\n",
    "if os.path.exists(outputFile):\n",
    "    os.remove(outputFile)\n",
    "\n",
    "# Save the resampled image as NIfTI\n",
    "airtreeResampled = threshold_filter.GetOutput()\n",
    "itk.imwrite(airtreeResampled, outputFile)"
   ]
  }
 ],
 "metadata": {
  "kernelspec": {
   "display_name": "venvnick",
   "language": "python",
   "name": "python3"
  },
  "language_info": {
   "codemirror_mode": {
    "name": "ipython",
    "version": 3
   },
   "file_extension": ".py",
   "mimetype": "text/x-python",
   "name": "python",
   "nbconvert_exporter": "python",
   "pygments_lexer": "ipython3",
   "version": "3.11.6"
  }
 },
 "nbformat": 4,
 "nbformat_minor": 2
}
