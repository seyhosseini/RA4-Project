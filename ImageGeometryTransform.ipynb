{
 "cells": [
  {
   "cell_type": "code",
   "execution_count": 47,
   "metadata": {},
   "outputs": [
    {
     "ename": "ImageFileError",
     "evalue": "Cannot work out file type of \"Z:/D-Images/SPIROMICS-SubStudy/2-Results-CheckedDoneTemp/1-Done/Case-42-Spiromics-67503688/Markups/88-Adam/S-Final-2-label.nrrd\"",
     "output_type": "error",
     "traceback": [
      "\u001b[1;31m---------------------------------------------------------------------------\u001b[0m",
      "\u001b[1;31mImageFileError\u001b[0m                            Traceback (most recent call last)",
      "\u001b[1;32mc:\\Users\\nichmoore\\Documents\\GitHub\\RA4-Project\\ImageGeometryTransform.ipynb Cell 1\u001b[0m line \u001b[0;36m1\n\u001b[0;32m      <a href='vscode-notebook-cell:/c%3A/Users/nichmoore/Documents/GitHub/RA4-Project/ImageGeometryTransform.ipynb#W0sZmlsZQ%3D%3D?line=6'>7</a>\u001b[0m ImagePath2 \u001b[39m=\u001b[39m \u001b[39m\"\u001b[39m\u001b[39mZ:/E-Kelly-VidaSegmentals&Sublobes/3- 20Spiromics-10ForKelly-ForERS23/Case42-IA210257_H-17900_20190805_125316_20230524_121115_export/ZUNU_vida-airtree-recentered.nii.gz\u001b[39m\u001b[39m\"\u001b[39m\n\u001b[0;32m      <a href='vscode-notebook-cell:/c%3A/Users/nichmoore/Documents/GitHub/RA4-Project/ImageGeometryTransform.ipynb#W0sZmlsZQ%3D%3D?line=7'>8</a>\u001b[0m \u001b[39m#Image 2 is the airway while image 1 is the arterial tree. We will take image 2 and resample it using image 1 geometry\u001b[39;00m\n\u001b[0;32m      <a href='vscode-notebook-cell:/c%3A/Users/nichmoore/Documents/GitHub/RA4-Project/ImageGeometryTransform.ipynb#W0sZmlsZQ%3D%3D?line=8'>9</a>\u001b[0m \u001b[39m#Image 1 is an nrrd and Image 2 is a nii.gz\u001b[39;00m\n\u001b[1;32m---> <a href='vscode-notebook-cell:/c%3A/Users/nichmoore/Documents/GitHub/RA4-Project/ImageGeometryTransform.ipynb#W0sZmlsZQ%3D%3D?line=10'>11</a>\u001b[0m image1 \u001b[39m=\u001b[39m nib\u001b[39m.\u001b[39;49mload(ImagePath1)\n\u001b[0;32m     <a href='vscode-notebook-cell:/c%3A/Users/nichmoore/Documents/GitHub/RA4-Project/ImageGeometryTransform.ipynb#W0sZmlsZQ%3D%3D?line=11'>12</a>\u001b[0m im1 \u001b[39m=\u001b[39m image1 \u001b[39m=\u001b[39m image1\u001b[39m.\u001b[39mget_fdata()\n\u001b[0;32m     <a href='vscode-notebook-cell:/c%3A/Users/nichmoore/Documents/GitHub/RA4-Project/ImageGeometryTransform.ipynb#W0sZmlsZQ%3D%3D?line=13'>14</a>\u001b[0m image2 \u001b[39m=\u001b[39m nib\u001b[39m.\u001b[39mload(ImagePath2)\n",
      "File \u001b[1;32mc:\\Users\\nichmoore\\Documents\\GitHub\\RA4-Project\\venvnick\\Lib\\site-packages\\nibabel\\loadsave.py:117\u001b[0m, in \u001b[0;36mload\u001b[1;34m(filename, **kwargs)\u001b[0m\n\u001b[0;32m    114\u001b[0m \u001b[39mif\u001b[39;00m \u001b[39mnot\u001b[39;00m matches:\n\u001b[0;32m    115\u001b[0m     \u001b[39mraise\u001b[39;00m ImageFileError(msg)\n\u001b[1;32m--> 117\u001b[0m \u001b[39mraise\u001b[39;00m ImageFileError(\u001b[39mf\u001b[39m\u001b[39m'\u001b[39m\u001b[39mCannot work out file type of \u001b[39m\u001b[39m\"\u001b[39m\u001b[39m{\u001b[39;00mfilename\u001b[39m}\u001b[39;00m\u001b[39m\"\u001b[39m\u001b[39m'\u001b[39m)\n",
      "\u001b[1;31mImageFileError\u001b[0m: Cannot work out file type of \"Z:/D-Images/SPIROMICS-SubStudy/2-Results-CheckedDoneTemp/1-Done/Case-42-Spiromics-67503688/Markups/88-Adam/S-Final-2-label.nrrd\""
     ]
    }
   ],
   "source": [
    "import itk\n",
    "import nibabel as nib\n",
    "import numpy as np\n",
    "import nrrd\n",
    "\n",
    "ImagePath1 = \"Z:/D-Images/SPIROMICS-SubStudy/2-Results-CheckedDoneTemp/1-Done/Case-42-Spiromics-67503688/Markups/88-Adam/S-Final-2-label.nrrd\"\n",
    "ImagePath2 = \"Z:/E-Kelly-VidaSegmentals&Sublobes/3- 20Spiromics-10ForKelly-ForERS23/Case42-IA210257_H-17900_20190805_125316_20230524_121115_export/ZUNU_vida-airtree-recentered.nii.gz\"\n",
    "#Image 2 is the airway while image 1 is the arterial tree. We will take image 2 and resample it using image 1 geometry\n",
    "#Image 1 is an nrrd and Image 2 is a nii.gz\n",
    "\n",
    "image1 = nib.load(ImagePath1)\n",
    "im1 = image1 = image1.get_fdata()\n",
    "\n",
    "image2 = nib.load(ImagePath2)\n",
    "im2 = image2.get_fdata()\n",
    "\n",
    "#Getting image geometries (Origin, orientation(fixed), spacing, and size)\n",
    "\n",
    "#Image 1\n",
    "origin1 = image1.affine[:3, 3]\n",
    "orientation1 = image1.affine[:3, :3]\n",
    "spacing1 = image1.header.get_zooms()\n",
    "size1 = im1.shape\n",
    "\n",
    "#Image 2\n",
    "origin2 = image2.affine[:3, 3]\n",
    "orientation2 = image2.affine[:3, :3]\n",
    "spacing2 = image2.header.get_zooms()\n",
    "size2 = im2.shape\n"
   ]
  },
  {
   "cell_type": "code",
   "execution_count": 46,
   "metadata": {},
   "outputs": [
    {
     "data": {
      "text/plain": [
       "array([[  -0.68359375,    0.        ,    0.        ,  174.65820312],\n",
       "       [   0.        ,   -0.68359375,    0.        ,  358.15820312],\n",
       "       [   0.        ,    0.        ,    0.5       , -338.1000061 ],\n",
       "       [   0.        ,    0.        ,    0.        ,    1.        ]])"
      ]
     },
     "execution_count": 46,
     "metadata": {},
     "output_type": "execute_result"
    }
   ],
   "source": [
    "image2.affine"
   ]
  }
 ],
 "metadata": {
  "kernelspec": {
   "display_name": "venvnick",
   "language": "python",
   "name": "python3"
  },
  "language_info": {
   "codemirror_mode": {
    "name": "ipython",
    "version": 3
   },
   "file_extension": ".py",
   "mimetype": "text/x-python",
   "name": "python",
   "nbconvert_exporter": "python",
   "pygments_lexer": "ipython3",
   "version": "3.11.6"
  }
 },
 "nbformat": 4,
 "nbformat_minor": 2
}
