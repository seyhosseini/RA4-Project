{
 "cells": [
  {
   "cell_type": "code",
   "execution_count": 70,
   "metadata": {},
   "outputs": [],
   "source": [
    "#0 Set anything that needs to be changed at the beginning:  $$$ LabelPath and GraphArtifactsFolderName\n",
    "# You have to restart the kernel each time it seems or sometimes Cell-22 spits an  error!!\n",
    "# Better clear all output too while you're at it!\n",
    "# Let's call this: VER2.1, Version-2.1: orders-4, output*0.38mm\n",
    "# Cases Done: [71, 2, 37, 18, 16, 88, 19, 90, 11, 6, 46, 39, 22, 21, 95, 84, 50,]\n",
    "\n",
    "# Only need to change here: Look for S-Final---label.nrrd:\n",
    "LabelPath = \"y:/D-Images/SPIROMICS-SubStudy/2-Results-CheckedDoneTemp/1-Done/Case-46-Spiromics-51186800/Markups/88-Jensen/S-Final-2-label.nrrd\"\n",
    "GraphArtifactsFolderName = \"./GraphOutputSoheil\"\n",
    "verbose = False # Set to True to see a lot more print outputs"
   ]
  },
  {
   "cell_type": "code",
   "execution_count": 71,
   "metadata": {},
   "outputs": [
    {
     "name": "stdout",
     "output_type": "stream",
     "text": [
      "Extracted Case Number: 46\n"
     ]
    }
   ],
   "source": [
    "#1 Load/create the masks: avmlabel, atree\n",
    "\n",
    "import numpy as np\n",
    "import nrrd  # pip install pynrrd\n",
    "import re\n",
    "\n",
    "# CasePath is everything before the final \"/\"\n",
    "# Find the last occurrence of '/'\n",
    "last_slash_index = LabelPath.rfind('/')\n",
    "# Slice the string up to the last '/'\n",
    "casepath = LabelPath[:last_slash_index + 1] # .../1-Done/Case-56-Spiromics-48876393/Markups/88-Nate/\n",
    "\n",
    "avmlabel, metadata = nrrd.read(LabelPath)\n",
    "## Extract Case Number\n",
    "pattern = r\"Case-(\\d+)-\"\n",
    "\n",
    "# Use re.findall() to find all matches in the string\n",
    "matches = re.findall(pattern, casepath)\n",
    "\n",
    "# Extract the first matched number (if any)\n",
    "if matches:\n",
    "    CaseNumber = int(matches[0])\n",
    "    print(\"Extracted Case Number:\", CaseNumber) # To be used numerous times in the code\n",
    "else:\n",
    "    print(\"No 'Case-' followed by a number found in the string.\")\n",
    "\n",
    "atree = np.zeros_like(avmlabel)\n",
    "atree[avmlabel == 1] = 1"
   ]
  },
  {
   "cell_type": "code",
   "execution_count": 72,
   "metadata": {},
   "outputs": [],
   "source": [
    "#2 Inspect using mayavi: Check saved A-tree snapshot\n",
    "\n",
    "import winsound\n",
    "from mayavi import mlab\n",
    "import os\n",
    "\n",
    "frequency = 1000  # Frequency of the beep in Hertz\n",
    "duration = 1000  # Duration of the beep in milliseconds\n",
    "# winsound.Beep(frequency, duration)\n",
    "\n",
    "figure = mlab.figure(bgcolor=(1, 1, 1))\n",
    "contour = mlab.contour3d(atree, contours=[0.5], color=(1, 0, 0))\n",
    "\n",
    "if not os.path.exists(GraphArtifactsFolderName):\n",
    "    os.mkdir(GraphArtifactsFolderName)\n",
    "\n",
    "mlab.savefig(GraphArtifactsFolderName + f\"/AtreeSnapshot-{CaseNumber}.png\")  # You can specify the filename and format\n",
    "mlab.close()"
   ]
  },
  {
   "cell_type": "code",
   "execution_count": 73,
   "metadata": {},
   "outputs": [],
   "source": [
    "#3 Create/Fetch Skeleton\n",
    "\n",
    "from skimage.morphology import skeletonize_3d  # pip install scikit-image\n",
    "import numpy as np\n",
    "import nrrd  # pip install pynrrd\n",
    "\n",
    "# SkeletonPathName  # Formerly f\"./Data/Artifacts/E-Case-{CaseNumber}-A-Skeleton.nrrd\"\n",
    "# SkeletonPathName = casepath + \"S-Final-2-label-Skeleton.nrrd\"\n",
    "SkeletonPathName = GraphArtifactsFolderName + f\"/K-Case-{CaseNumber}-Final2Label-Skeleton.nrrd\"\n",
    "\n",
    "# Create and save the skeleton:\n",
    "# skeleton = skeletonize_3d(atree.astype(np.uint8))\n",
    "# nrrd.write(SkeletonPathName, skeleton)\n",
    "\n",
    "# Or read it in:\n",
    "skeleton, _ = nrrd.read(SkeletonPathName)"
   ]
  },
  {
   "cell_type": "code",
   "execution_count": 74,
   "metadata": {},
   "outputs": [],
   "source": [
    "#4 Compute/Fetch Distance Transform\n",
    "# Contains the Euclidean distance from each voxel to the nearest background voxel\n",
    "\n",
    "from scipy.ndimage import distance_transform_edt\n",
    "\n",
    "# EdtPathName = f\"./Data/Artifacts/I-Case-{CaseNumber}-EDT.nrrd\"\n",
    "# EdtPathName = casepath + f\"I-Case-{CaseNumber}-EDT.nrrd\"\n",
    "EdtPathName = GraphArtifactsFolderName + f\"/T-Case-{CaseNumber}-EDT.nrrd\"\n",
    "# Compute the distance transform\n",
    "# distance_transform = distance_transform_edt(atree)\n",
    "# nrrd.write(EdtPathName, distance_transform)\n",
    "\n",
    "# Or read it in\n",
    "distance_transform, _ = nrrd.read(EdtPathName)"
   ]
  },
  {
   "cell_type": "code",
   "execution_count": 75,
   "metadata": {},
   "outputs": [],
   "source": [
    "#5 Create Graph/Edges/Neighbours/...\n",
    "# Step 2: Convert skeletonized image to a graph representation ########### Very bad code/ hard to understand *\n",
    "\n",
    "import networkx as nx\n",
    "\n",
    "graph = nx.Graph()\n",
    "indices = np.array(np.where(skeleton)) # 3x1000?\n",
    "num_points = indices.shape[1]\n",
    "for i in range(num_points): # 20,100 # num_points\n",
    "    point = tuple(indices[:, i])\n",
    "    neighbors = []\n",
    "    for offset in np.ndindex((3, 3, 3)): # (0,1,2 .. 0,1,2 .. 0,1,2)\n",
    "        neighbor = tuple(indices[:, i] + (np.array(offset) - 1)) # >> -1,0,1\n",
    "        if neighbor != point and neighbor in graph:\n",
    "            neighbors.append(neighbor)\n",
    "    graph.add_node(point)\n",
    "    graph.add_edges_from((point, n) for n in neighbors)"
   ]
  },
  {
   "cell_type": "code",
   "execution_count": 76,
   "metadata": {},
   "outputs": [
    {
     "name": "stdout",
     "output_type": "stream",
     "text": [
      "Number of Nodes: 8130\n",
      "Number of Edges: 8162\n"
     ]
    }
   ],
   "source": [
    "#6 Print_Stats [Nodes/Edges/...]\n",
    "\n",
    "def print_stats(graph):\n",
    "    num_nodes = nx.number_of_nodes(graph)\n",
    "    num_edges = nx.number_of_edges(graph)\n",
    "    # all_nodes = list(graph.nodes)\n",
    "    # all_edges = list(graph.edges)\n",
    "\n",
    "    print(\"Number of Nodes:\", num_nodes)\n",
    "    print(\"Number of Edges:\", num_edges)\n",
    "    # print(\"All Nodes:\", all_nodes)\n",
    "    # print(\"All Edges:\", all_edges)\n",
    "    return\n",
    "\n",
    "print_stats(graph)"
   ]
  },
  {
   "cell_type": "code",
   "execution_count": 77,
   "metadata": {},
   "outputs": [],
   "source": [
    "#7 Remove degree-2 nodes: Changes the graph *\n",
    "\n",
    "def RemoveAndReconnectDegree2Nodes(graph):\n",
    "    while True:\n",
    "        # Find nodes with degree 2\n",
    "        degree_two_nodes = [node for node, degree in graph.degree if degree == 2]\n",
    "        \n",
    "        # If there are no intermediate nodes to remove, break the loop\n",
    "        if not degree_two_nodes:\n",
    "            break    \n",
    "        # Remove the intermediate nodes\n",
    "        for node in degree_two_nodes:\n",
    "            neighbors = list(graph.neighbors(node))\n",
    "            if len(neighbors) == 2: ####### Redundant condition! *\n",
    "                graph.add_edge(neighbors[0], neighbors[1])\n",
    "            graph.remove_node(node)\n",
    "\n",
    "RemoveAndReconnectDegree2Nodes(graph)"
   ]
  },
  {
   "cell_type": "code",
   "execution_count": 78,
   "metadata": {},
   "outputs": [
    {
     "name": "stdout",
     "output_type": "stream",
     "text": [
      "Number of Nodes: 306\n",
      "Number of Edges: 338\n"
     ]
    }
   ],
   "source": [
    "#8 print_stats\n",
    "print_stats(graph)"
   ]
  },
  {
   "cell_type": "code",
   "execution_count": 79,
   "metadata": {},
   "outputs": [],
   "source": [
    "#9 Create/update 'edge_length' property for all edges *\n",
    "\n",
    "def UpdateEdgeLengths(G):\n",
    "    for edge in G.edges:\n",
    "        node1, node2 = edge\n",
    "        x1, y1, z1 = node1\n",
    "        x2, y2, z2 = node2\n",
    "        edge_length = np.sqrt((x2 - x1)**2 + (y2 - y1)**2 + (z2 - z1)**2)\n",
    "        G.edges[edge]['edge_length'] = edge_length\n",
    "\n",
    "UpdateEdgeLengths(graph)"
   ]
  },
  {
   "cell_type": "code",
   "execution_count": 80,
   "metadata": {},
   "outputs": [],
   "source": [
    "#10 Function: Plot-1: plot_3D: Plot Interactive 3D *\n",
    "\n",
    "import plotly.graph_objects as go  # pip install plotly # pip install nbformat\n",
    "from plotly.subplots import make_subplots\n",
    "\n",
    "def plot_3D(graph):\n",
    "    fig = make_subplots(rows=1, cols=1, specs=[[{'type': 'scatter3d'}]])\n",
    "    x, y, z = zip(*graph.nodes)\n",
    "    \n",
    "    leaf_nodes = [node for node, degree in graph.degree if degree == 1]\n",
    "    \n",
    "    node_trace = go.Scatter3d(\n",
    "        x=x,\n",
    "        y=y,\n",
    "        z=z,\n",
    "        mode='markers',\n",
    "        marker=dict(\n",
    "            size=2,\n",
    "            color='red', #['red' if node in leaf_nodes else 'blue' for node in graph.nodes()],\n",
    "            opacity=0.8\n",
    "        )\n",
    "    )\n",
    "    fig.add_trace(node_trace)\n",
    "\n",
    "    for edge in graph.edges():\n",
    "        x0, y0, z0 = edge[0]\n",
    "        x1, y1, z1 = edge[1]\n",
    "        \n",
    "        edge_length = graph.edges[edge]['edge_length']\n",
    "        edge_text = f'{edge_length:.2f}'  # Display the edge length as text\n",
    "        \n",
    "        edge_trace = go.Scatter3d(\n",
    "            x=[x0, x1],\n",
    "            y=[y0, y1],\n",
    "            z=[z0, z1],\n",
    "            mode='lines',\n",
    "            # line=dict(color='orange' if graph.edges[edge]['edge_length'] < 20 else 'gray',\n",
    "            #           width=3),\n",
    "            line=dict(color='gray', width=3),\n",
    "            hoverinfo='text',\n",
    "            text=edge_text\n",
    "        )\n",
    "        fig.add_trace(edge_trace)\n",
    "\n",
    "    fig.update_layout(  \n",
    "        scene=dict(\n",
    "        # Set background color to transparent or any color you prefer\n",
    "        bgcolor='rgba(0,0,0,0)',\n",
    "        \n",
    "        # Hide axes\n",
    "        xaxis=dict(showbackground=False, showgrid=False, zeroline=False, showline=False),\n",
    "        yaxis=dict(showbackground=False, showgrid=False, zeroline=False, showline=False),\n",
    "        zaxis=dict(showbackground=False, showgrid=False, zeroline=False, showline=False)\n",
    "        )\n",
    "    )\n",
    "    \n",
    "    fig.update_layout(\n",
    "        margin=dict(l=0, r=0, b=0, t=0),\n",
    "        scene=dict(\n",
    "            xaxis=dict(range=[0, max(x) + 1]),\n",
    "            yaxis=dict(range=[0, max(y) + 1]),\n",
    "            zaxis=dict(range=[0, max(z) + 1])\n",
    "        )\n",
    "    )\n",
    "\n",
    "    fig.show()\n",
    "    return"
   ]
  },
  {
   "cell_type": "code",
   "execution_count": 81,
   "metadata": {},
   "outputs": [],
   "source": [
    "# ##11 Timed calling of plot_3D: Will take time to show up even when indicated done:\n",
    "\n",
    "# import time\n",
    "# StartTime = time.time()\n",
    "# print('Plotting the 3D Graph ..')\n",
    "# plot_3D(graph)\n",
    "# print(f'Elapsed: {time.time()-StartTime:5.2f}')"
   ]
  },
  {
   "cell_type": "code",
   "execution_count": 82,
   "metadata": {},
   "outputs": [
    {
     "name": "stdout",
     "output_type": "stream",
     "text": [
      "33 simple+complex 3-cycles exist\n",
      "\n"
     ]
    }
   ],
   "source": [
    "#12 Find all 3-cycels: Approach-9 with no duplicates\n",
    "\n",
    "# Function to find and print all length-3 cycles without duplicates\n",
    "def ReFindAndPrintLength3Cycles(G, Prnt=False):\n",
    "\n",
    "    length_3_cycles = set()\n",
    "    for node in G.nodes():\n",
    "        neighbors = list(G.neighbors(node))\n",
    "        for neighbor1 in neighbors:\n",
    "            for neighbor2 in neighbors:\n",
    "                if neighbor1 != neighbor2 and G.has_edge(neighbor1, neighbor2):\n",
    "                    cycle = tuple(sorted([node, neighbor1, neighbor2]))  # Sorting to avoid permutations\n",
    "                    length_3_cycles.add(cycle)\n",
    "\n",
    "    # Convert the cycles back to lists for printing\n",
    "    length_3_cycles = [list(cycle) for cycle in length_3_cycles]\n",
    "\n",
    "    # Print the length-3 cycles without duplicates\n",
    "    if Prnt:\n",
    "        print(len(length_3_cycles), 'simple+complex 3-cycles exist\\n')\n",
    "        # for cycle in length_3_cycles:\n",
    "        #     print(cycle)\n",
    "    return length_3_cycles\n",
    "\n",
    "length_3_cycles = ReFindAndPrintLength3Cycles(graph, Prnt=True)"
   ]
  },
  {
   "cell_type": "code",
   "execution_count": 83,
   "metadata": {},
   "outputs": [
    {
     "name": "stdout",
     "output_type": "stream",
     "text": [
      "An intact copy of the graph kept in the variable 'graphintact'. Use it when things are messed up.\n"
     ]
    }
   ],
   "source": [
    "#13* Keep an intact copy of the graph:\n",
    "\n",
    "import copy\n",
    "graphintact = copy.deepcopy(graph)\n",
    "print(\"An intact copy of the graph kept in the variable 'graphintact'. Use it when things are messed up.\")"
   ]
  },
  {
   "cell_type": "code",
   "execution_count": 84,
   "metadata": {},
   "outputs": [],
   "source": [
    "#RR To refresh your graph once it's messed below, come back to this:\n",
    "# graph = copy.deepcopy(graphintact)"
   ]
  },
  {
   "cell_type": "code",
   "execution_count": 85,
   "metadata": {},
   "outputs": [
    {
     "name": "stdout",
     "output_type": "stream",
     "text": [
      "Number of Nodes: 306\n",
      "Number of Edges: 338\n",
      "\n",
      "NewAverageNode (240, 347, 442) not on the skeleton.\n",
      "Searching neighborhood 3\n",
      "Adjusted the NewAverageNode to (240, 347, 443)\n",
      "Resolved the 3-cycle.\n",
      "Resolved the 3-cycle.\n",
      "Resolved the 3-cycle.\n",
      "NewAverageNode (242, 337, 293) not on the skeleton.\n",
      "Searching neighborhood 3\n",
      "Adjusted the NewAverageNode to (241, 337, 293)\n",
      "Resolved the 3-cycle.\n",
      "Resolved the 3-cycle.\n",
      "Resolved the 3-cycle.\n",
      "NewAverageNode (572, 308, 291) not on the skeleton.\n",
      "Searching neighborhood 3\n",
      "Adjusted the NewAverageNode to (572, 308, 290)\n",
      "Resolved the 3-cycle.\n",
      "Resolved the 3-cycle.\n",
      "Resolved the 3-cycle.\n",
      "Resolved the 3-cycle.\n",
      "NewAverageNode (435, 255, 382) not on the skeleton.\n",
      "Searching neighborhood 3\n",
      "Adjusted the NewAverageNode to (434, 255, 382)\n",
      "Resolved the 3-cycle.\n",
      "Resolved the 3-cycle.\n",
      "Resolved the 3-cycle.\n",
      "Resolved the 3-cycle.\n",
      "Resolved the 3-cycle.\n",
      "Resolved the 3-cycle.\n",
      "Resolved the 3-cycle.\n",
      "Resolved the 3-cycle.\n",
      "Resolved the 3-cycle.\n",
      "Resolved the 3-cycle.\n",
      "Resolved the 3-cycle.\n",
      "Resolved the 3-cycle.\n",
      "Resolved the 3-cycle.\n",
      "Resolved the 3-cycle.\n",
      "Resolved the 3-cycle.\n",
      "Resolved the 3-cycle.\n",
      "Resolved the 3-cycle.\n",
      "Resolved the 3-cycle.\n",
      "Resolved the 3-cycle.\n",
      "Resolved the 3-cycle.\n",
      "NewAverageNode (314, 355, 317) not on the skeleton.\n",
      "Searching neighborhood 3\n",
      "Adjusted the NewAverageNode to (314, 355, 318)\n",
      "Resolved the 3-cycle.\n",
      "Resolved the 3-cycle.\n",
      "Resolved the 3-cycle.\n",
      "\n",
      "Number of Nodes: 240\n",
      "Number of Edges: 239\n"
     ]
    }
   ],
   "source": [
    "#14 Only once: This changes the graph: Resolve isolated 3-cycles by merging the 3 nodes and reconnecting edges\n",
    "\n",
    "print_stats(graph)\n",
    "print()\n",
    "length_3_cycles = ReFindAndPrintLength3Cycles(graph, Prnt=False)\n",
    "\n",
    "for cycle in length_3_cycles:\n",
    "\n",
    "    # For each cycle, find the outer/final neighbors\n",
    "    finalneighbors = []\n",
    "    for node in cycle:\n",
    "        DEGR = graph.degree(node)\n",
    "        if DEGR != 3:\n",
    "            # print(Fore.YELLOW + f'\\nThis is not a simple cycle. Node {node} is degree {DEGR}. Breaking ..' + Style.RESET_ALL)\n",
    "            if verbose: print(f'{cycle} is not a simple cycle. Node {node} is degree {DEGR}.')\n",
    "            break\n",
    "        finalneighbors.extend([neighbor for neighbor in graph.neighbors(node) if neighbor not in cycle])\n",
    "    if verbose:\n",
    "        if DEGR == 3:\n",
    "            print('cycle:', cycle)\n",
    "    # print('finalneighbors:', finalneighbors)\n",
    "    if DEGR != 3:\n",
    "        print(\"Skipping to the next cycle ..\\n\")\n",
    "        continue\n",
    "\n",
    "    # Takes the 3 nodes in the cycle and forms their average\n",
    "    NewAverageNode = tuple(round((a + b + c) / 3) for a, b, c in zip(cycle[0], cycle[1], cycle[2])) # zip(tuple1, tuple2, tuple3)\n",
    "    # print('NewAverageNode:', NewAverageNode)\n",
    "\n",
    "    # If NewAverageNode not on the skeleton, go to its neighborhood and find the nearest voxel that lies on the skeleton:\n",
    "    if skeleton[*NewAverageNode] == 0:\n",
    "        print(f\"NewAverageNode {NewAverageNode} not on the skeleton.\")\n",
    "        xxna, yyna, zzna = NewAverageNode\n",
    "        success = False\n",
    "        NeighbrhdSize = 3\n",
    "        while success == False:\n",
    "            print(f\"Searching neighborhood {NeighbrhdSize}\")\n",
    "            lowerbnd = -(NeighbrhdSize//2)\n",
    "            upperbnd =  (NeighbrhdSize//2) + 1\n",
    "            neighbors = [(i, j, k) for i in range(lowerbnd, upperbnd) for j in range(lowerbnd, upperbnd) for k in range(lowerbnd, upperbnd)]\n",
    "            neighbors.remove((0,0,0))\n",
    "            for neighbor_offset in neighbors:\n",
    "                nnx, nny, nnz = xxna + neighbor_offset[0], yyna + neighbor_offset[1], zzna + neighbor_offset[2]\n",
    "                if 0 <= nnx < skeleton.shape[0] and 0 <= nny < skeleton.shape[1] and 0 <= nnz < skeleton.shape[2]:\n",
    "                    if skeleton[nnx, nny, nnz] != 0:\n",
    "                        NewAverageNode = (nnx, nny, nnz)\n",
    "                        print(f\"Adjusted the NewAverageNode to {NewAverageNode}\")\n",
    "                        success = True\n",
    "                        break            \n",
    "            NeighbrhdSize += 2\n",
    "\n",
    "    # Now remove the old 3 nodes in cycle\n",
    "    for node in cycle:\n",
    "        graph.remove_node(node)\n",
    "    # print('Removed the 3 nodes in cycle')\n",
    "\n",
    "    # Add the new average node\n",
    "    graph.add_node(NewAverageNode)\n",
    "    # print('Added new average node')\n",
    "\n",
    "    # Make the new edges/connections\n",
    "    for node in finalneighbors:\n",
    "        graph.add_edge(node, NewAverageNode)\n",
    "    # print('Added the final edges')\n",
    "\n",
    "    print('Resolved the 3-cycle.')\n",
    "    UpdateEdgeLengths(graph)\n",
    "    # print_stats(graph)\n",
    "    if verbose: print()\n",
    "\n",
    "print()\n",
    "print_stats(graph)"
   ]
  },
  {
   "cell_type": "code",
   "execution_count": 86,
   "metadata": {},
   "outputs": [
    {
     "name": "stdout",
     "output_type": "stream",
     "text": [
      "0 complex 3-cycles exist\n",
      "0 edges in complex 3-cycles exist\n"
     ]
    }
   ],
   "source": [
    "#15 Create updated list of all edges in cycles: [they're probably complex cycles now at this point]\n",
    "\n",
    "length_3_cycles = ReFindAndPrintLength3Cycles(graph)\n",
    "print(f\"{len(length_3_cycles)} complex 3-cycles exist\")\n",
    "\n",
    "EdgesInCyclesWithDuplicates = [[L[i], L[(i+1)%3]] for L in length_3_cycles for i in [0, 1, 2]]\n",
    "\n",
    "EdgesInCycles = []\n",
    "for edge in EdgesInCyclesWithDuplicates:\n",
    "    if ([edge[0],edge[1]] not in EdgesInCycles) and ([edge[1],edge[0]] not in EdgesInCycles):\n",
    "         EdgesInCycles.append(edge)\n",
    "        #  print(f'Appended {edge} to EdgesInCycles list')\n",
    "\n",
    "print(len(EdgesInCycles), 'edges in complex 3-cycles exist')"
   ]
  },
  {
   "cell_type": "code",
   "execution_count": 87,
   "metadata": {},
   "outputs": [
    {
     "data": {
      "application/vnd.plotly.v1+json": {
       "config": {
        "plotlyServerURL": "https://plot.ly"
       },
       "data": [
        {
         "marker": {
          "color": "grey",
          "opacity": 0.1,
          "size": 2
         },
         "mode": "markers",
         "type": "scatter3d",
         "x": [
          102,
          110,
          111,
          124,
          125,
          126,
          131,
          133,
          133,
          140,
          151,
          155,
          160,
          161,
          163,
          166,
          166,
          167,
          168,
          175,
          178,
          179,
          184,
          186,
          188,
          191,
          196,
          196,
          198,
          199,
          205,
          206,
          206,
          207,
          210,
          214,
          215,
          217,
          218,
          220,
          221,
          221,
          222,
          223,
          223,
          224,
          224,
          225,
          227,
          230,
          230,
          232,
          232,
          233,
          233,
          234,
          235,
          235,
          235,
          236,
          236,
          239,
          240,
          242,
          244,
          244,
          246,
          247,
          247,
          248,
          250,
          253,
          253,
          256,
          257,
          257,
          263,
          264,
          266,
          268,
          268,
          271,
          271,
          271,
          273,
          273,
          275,
          275,
          278,
          278,
          281,
          282,
          284,
          285,
          286,
          289,
          289,
          292,
          293,
          297,
          298,
          298,
          301,
          301,
          302,
          302,
          302,
          303,
          306,
          308,
          309,
          318,
          323,
          325,
          331,
          360,
          406,
          428,
          432,
          433,
          433,
          435,
          436,
          436,
          437,
          438,
          440,
          443,
          447,
          448,
          493,
          499,
          503,
          505,
          507,
          508,
          509,
          512,
          513,
          513,
          514,
          514,
          514,
          515,
          517,
          518,
          519,
          521,
          522,
          524,
          524,
          524,
          525,
          528,
          531,
          536,
          539,
          539,
          540,
          542,
          542,
          543,
          544,
          550,
          551,
          552,
          552,
          553,
          554,
          554,
          555,
          557,
          557,
          559,
          560,
          560,
          568,
          569,
          577,
          578,
          579,
          580,
          581,
          587,
          588,
          589,
          591,
          592,
          592,
          596,
          596,
          599,
          607,
          608,
          611,
          619,
          624,
          629,
          633,
          637,
          654,
          672,
          674,
          676,
          685,
          692,
          725,
          240,
          274,
          637,
          241,
          545,
          544,
          572,
          440,
          532,
          561,
          434,
          525,
          311,
          283,
          240,
          294,
          315,
          407,
          437,
          546,
          568,
          221,
          304,
          256,
          292,
          134,
          295,
          595,
          243,
          258,
          314,
          539,
          550
         ],
         "y": [
          190,
          315,
          269,
          287,
          289,
          215,
          260,
          215,
          387,
          266,
          265,
          151,
          219,
          312,
          258,
          226,
          331,
          414,
          210,
          228,
          448,
          232,
          338,
          388,
          269,
          385,
          353,
          406,
          483,
          254,
          123,
          336,
          386,
          416,
          344,
          435,
          148,
          268,
          441,
          258,
          325,
          413,
          356,
          140,
          376,
          283,
          283,
          203,
          186,
          279,
          387,
          377,
          389,
          215,
          274,
          155,
          284,
          335,
          391,
          148,
          416,
          273,
          355,
          193,
          113,
          240,
          238,
          326,
          352,
          351,
          364,
          223,
          314,
          310,
          136,
          257,
          263,
          262,
          403,
          318,
          434,
          184,
          302,
          417,
          300,
          301,
          93,
          240,
          415,
          424,
          338,
          295,
          432,
          290,
          251,
          375,
          388,
          205,
          374,
          285,
          333,
          416,
          284,
          358,
          290,
          341,
          346,
          376,
          389,
          328,
          370,
          291,
          340,
          371,
          336,
          293,
          276,
          263,
          257,
          247,
          250,
          258,
          247,
          248,
          219,
          215,
          222,
          217,
          267,
          266,
          205,
          310,
          326,
          163,
          302,
          387,
          209,
          333,
          217,
          330,
          272,
          348,
          406,
          221,
          391,
          330,
          427,
          274,
          435,
          334,
          335,
          415,
          362,
          207,
          340,
          273,
          151,
          379,
          388,
          394,
          466,
          188,
          343,
          360,
          380,
          342,
          345,
          365,
          346,
          347,
          270,
          268,
          269,
          219,
          77,
          422,
          268,
          346,
          307,
          334,
          331,
          230,
          389,
          350,
          345,
          357,
          417,
          351,
          380,
          248,
          425,
          347,
          140,
          162,
          226,
          319,
          283,
          161,
          412,
          353,
          314,
          271,
          391,
          222,
          321,
          348,
          287,
          347,
          334,
          272,
          337,
          348,
          349,
          308,
          217,
          392,
          245,
          255,
          281,
          305,
          292,
          283,
          291,
          339,
          276,
          252,
          342,
          344,
          404,
          339,
          316,
          284,
          296,
          341,
          313,
          317,
          198,
          355,
          337,
          405
         ],
         "z": [
          218,
          215,
          200,
          210,
          197,
          248,
          301,
          246,
          187,
          322,
          313,
          184,
          309,
          442,
          386,
          409,
          291,
          236,
          270,
          184,
          145,
          275,
          419,
          350,
          314,
          233,
          299,
          367,
          241,
          392,
          262,
          290,
          356,
          170,
          543,
          282,
          173,
          375,
          205,
          385,
          427,
          147,
          461,
          228,
          442,
          483,
          521,
          239,
          415,
          226,
          246,
          262,
          244,
          364,
          222,
          235,
          486,
          196,
          238,
          263,
          339,
          483,
          284,
          275,
          194,
          295,
          296,
          298,
          555,
          540,
          347,
          363,
          260,
          319,
          328,
          377,
          323,
          323,
          212,
          235,
          401,
          349,
          335,
          265,
          337,
          338,
          223,
          475,
          174,
          397,
          347,
          342,
          403,
          340,
          415,
          499,
          377,
          409,
          376,
          495,
          133,
          367,
          408,
          455,
          350,
          480,
          354,
          385,
          179,
          454,
          316,
          408,
          556,
          277,
          498,
          367,
          375,
          383,
          382,
          376,
          377,
          385,
          378,
          379,
          360,
          356,
          359,
          353,
          393,
          393,
          470,
          390,
          578,
          350,
          388,
          292,
          434,
          569,
          462,
          388,
          515,
          185,
          193,
          440,
          321,
          591,
          407,
          429,
          312,
          373,
          374,
          115,
          365,
          476,
          364,
          359,
          347,
          252,
          240,
          497,
          171,
          362,
          348,
          449,
          452,
          319,
          312,
          450,
          306,
          305,
          453,
          473,
          518,
          369,
          245,
          369,
          478,
          280,
          290,
          420,
          259,
          302,
          285,
          539,
          545,
          544,
          266,
          226,
          487,
          458,
          177,
          209,
          211,
          355,
          181,
          442,
          356,
          262,
          291,
          429,
          291,
          211,
          189,
          206,
          161,
          215,
          89,
          443,
          344,
          245,
          293,
          475,
          445,
          290,
          356,
          210,
          322,
          382,
          417,
          431,
          341,
          483,
          462,
          495,
          374,
          383,
          343,
          281,
          206,
          479,
          425,
          472,
          224,
          345,
          216,
          285,
          353,
          318,
          413,
          226
         ]
        },
        {
         "hoverinfo": "text",
         "line": {
          "color": "rgba(128, 128, 128, 0.4)",
          "width": 1
         },
         "mode": "lines",
         "text": "48.68",
         "type": "scatter3d",
         "x": [
          102,
          133
         ],
         "y": [
          190,
          215
         ],
         "z": [
          218,
          246
         ]
        },
        {
         "hoverinfo": "text",
         "line": {
          "color": "rgba(128, 128, 128, 0.4)",
          "width": 1
         },
         "mode": "lines",
         "text": "31.91",
         "type": "scatter3d",
         "x": [
          110,
          134
         ],
         "y": [
          315,
          296
         ],
         "z": [
          215,
          224
         ]
        },
        {
         "hoverinfo": "text",
         "line": {
          "color": "rgba(128, 128, 128, 0.4)",
          "width": 1
         },
         "mode": "lines",
         "text": "24.35",
         "type": "scatter3d",
         "x": [
          111,
          124
         ],
         "y": [
          269,
          287
         ],
         "z": [
          200,
          210
         ]
        },
        {
         "hoverinfo": "text",
         "line": {
          "color": "rgba(128, 128, 128, 0.4)",
          "width": 1
         },
         "mode": "lines",
         "text": "13.19",
         "type": "scatter3d",
         "x": [
          124,
          125
         ],
         "y": [
          287,
          289
         ],
         "z": [
          210,
          197
         ]
        },
        {
         "hoverinfo": "text",
         "line": {
          "color": "rgba(128, 128, 128, 0.4)",
          "width": 1
         },
         "mode": "lines",
         "text": "19.42",
         "type": "scatter3d",
         "x": [
          124,
          134
         ],
         "y": [
          287,
          296
         ],
         "z": [
          210,
          224
         ]
        },
        {
         "hoverinfo": "text",
         "line": {
          "color": "rgba(128, 128, 128, 0.4)",
          "width": 1
         },
         "mode": "lines",
         "text": "7.28",
         "type": "scatter3d",
         "x": [
          126,
          133
         ],
         "y": [
          215,
          215
         ],
         "z": [
          248,
          246
         ]
        },
        {
         "hoverinfo": "text",
         "line": {
          "color": "rgba(128, 128, 128, 0.4)",
          "width": 1
         },
         "mode": "lines",
         "text": "23.85",
         "type": "scatter3d",
         "x": [
          131,
          151
         ],
         "y": [
          260,
          265
         ],
         "z": [
          301,
          313
         ]
        },
        {
         "hoverinfo": "text",
         "line": {
          "color": "rgba(128, 128, 128, 0.4)",
          "width": 1
         },
         "mode": "lines",
         "text": "56.97",
         "type": "scatter3d",
         "x": [
          133,
          179
         ],
         "y": [
          215,
          232
         ],
         "z": [
          246,
          275
         ]
        },
        {
         "hoverinfo": "text",
         "line": {
          "color": "rgba(128, 128, 128, 0.4)",
          "width": 1
         },
         "mode": "lines",
         "text": "74.05",
         "type": "scatter3d",
         "x": [
          133,
          191
         ],
         "y": [
          387,
          385
         ],
         "z": [
          187,
          233
         ]
        },
        {
         "hoverinfo": "text",
         "line": {
          "color": "rgba(128, 128, 128, 0.4)",
          "width": 1
         },
         "mode": "lines",
         "text": "14.25",
         "type": "scatter3d",
         "x": [
          140,
          151
         ],
         "y": [
          266,
          265
         ],
         "z": [
          322,
          313
         ]
        },
        {
         "hoverinfo": "text",
         "line": {
          "color": "rgba(128, 128, 128, 0.4)",
          "width": 1
         },
         "mode": "lines",
         "text": "37.23",
         "type": "scatter3d",
         "x": [
          151,
          188
         ],
         "y": [
          265,
          269
         ],
         "z": [
          313,
          314
         ]
        },
        {
         "hoverinfo": "text",
         "line": {
          "color": "rgba(128, 128, 128, 0.4)",
          "width": 1
         },
         "mode": "lines",
         "text": "103.10",
         "type": "scatter3d",
         "x": [
          155,
          225
         ],
         "y": [
          151,
          203
         ],
         "z": [
          184,
          239
         ]
        },
        {
         "hoverinfo": "text",
         "line": {
          "color": "rgba(128, 128, 128, 0.4)",
          "width": 1
         },
         "mode": "lines",
         "text": "57.52",
         "type": "scatter3d",
         "x": [
          160,
          188
         ],
         "y": [
          219,
          269
         ],
         "z": [
          309,
          314
         ]
        },
        {
         "hoverinfo": "text",
         "line": {
          "color": "rgba(128, 128, 128, 0.4)",
          "width": 1
         },
         "mode": "lines",
         "text": "63.20",
         "type": "scatter3d",
         "x": [
          161,
          221
         ],
         "y": [
          312,
          325
         ],
         "z": [
          442,
          427
         ]
        },
        {
         "hoverinfo": "text",
         "line": {
          "color": "rgba(128, 128, 128, 0.4)",
          "width": 1
         },
         "mode": "lines",
         "text": "36.72",
         "type": "scatter3d",
         "x": [
          163,
          199
         ],
         "y": [
          258,
          254
         ],
         "z": [
          386,
          392
         ]
        },
        {
         "hoverinfo": "text",
         "line": {
          "color": "rgba(128, 128, 128, 0.4)",
          "width": 1
         },
         "mode": "lines",
         "text": "46.50",
         "type": "scatter3d",
         "x": [
          166,
          199
         ],
         "y": [
          226,
          254
         ],
         "z": [
          409,
          392
         ]
        },
        {
         "hoverinfo": "text",
         "line": {
          "color": "rgba(128, 128, 128, 0.4)",
          "width": 1
         },
         "mode": "lines",
         "text": "40.32",
         "type": "scatter3d",
         "x": [
          166,
          206
         ],
         "y": [
          331,
          336
         ],
         "z": [
          291,
          290
         ]
        },
        {
         "hoverinfo": "text",
         "line": {
          "color": "rgba(128, 128, 128, 0.4)",
          "width": 1
         },
         "mode": "lines",
         "text": "37.76",
         "type": "scatter3d",
         "x": [
          167,
          191
         ],
         "y": [
          414,
          385
         ],
         "z": [
          236,
          233
         ]
        },
        {
         "hoverinfo": "text",
         "line": {
          "color": "rgba(128, 128, 128, 0.4)",
          "width": 1
         },
         "mode": "lines",
         "text": "25.10",
         "type": "scatter3d",
         "x": [
          168,
          179
         ],
         "y": [
          210,
          232
         ],
         "z": [
          270,
          275
         ]
        },
        {
         "hoverinfo": "text",
         "line": {
          "color": "rgba(128, 128, 128, 0.4)",
          "width": 1
         },
         "mode": "lines",
         "text": "85.97",
         "type": "scatter3d",
         "x": [
          175,
          230
         ],
         "y": [
          228,
          279
         ],
         "z": [
          184,
          226
         ]
        },
        {
         "hoverinfo": "text",
         "line": {
          "color": "rgba(128, 128, 128, 0.4)",
          "width": 1
         },
         "mode": "lines",
         "text": "49.90",
         "type": "scatter3d",
         "x": [
          178,
          207
         ],
         "y": [
          448,
          416
         ],
         "z": [
          145,
          170
         ]
        },
        {
         "hoverinfo": "text",
         "line": {
          "color": "rgba(128, 128, 128, 0.4)",
          "width": 1
         },
         "mode": "lines",
         "text": "68.48",
         "type": "scatter3d",
         "x": [
          179,
          244
         ],
         "y": [
          232,
          240
         ],
         "z": [
          275,
          295
         ]
        },
        {
         "hoverinfo": "text",
         "line": {
          "color": "rgba(128, 128, 128, 0.4)",
          "width": 1
         },
         "mode": "lines",
         "text": "40.02",
         "type": "scatter3d",
         "x": [
          184,
          221
         ],
         "y": [
          338,
          325
         ],
         "z": [
          419,
          427
         ]
        },
        {
         "hoverinfo": "text",
         "line": {
          "color": "rgba(128, 128, 128, 0.4)",
          "width": 1
         },
         "mode": "lines",
         "text": "20.98",
         "type": "scatter3d",
         "x": [
          186,
          206
         ],
         "y": [
          388,
          386
         ],
         "z": [
          350,
          356
         ]
        },
        {
         "hoverinfo": "text",
         "line": {
          "color": "rgba(128, 128, 128, 0.4)",
          "width": 1
         },
         "mode": "lines",
         "text": "79.56",
         "type": "scatter3d",
         "x": [
          188,
          256
         ],
         "y": [
          269,
          310
         ],
         "z": [
          314,
          319
         ]
        },
        {
         "hoverinfo": "text",
         "line": {
          "color": "rgba(128, 128, 128, 0.4)",
          "width": 1
         },
         "mode": "lines",
         "text": "41.16",
         "type": "scatter3d",
         "x": [
          191,
          230
         ],
         "y": [
          385,
          387
         ],
         "z": [
          233,
          246
         ]
        },
        {
         "hoverinfo": "text",
         "line": {
          "color": "rgba(128, 128, 128, 0.4)",
          "width": 1
         },
         "mode": "lines",
         "text": "21.68",
         "type": "scatter3d",
         "x": [
          196,
          206
         ],
         "y": [
          353,
          336
         ],
         "z": [
          299,
          290
         ]
        },
        {
         "hoverinfo": "text",
         "line": {
          "color": "rgba(128, 128, 128, 0.4)",
          "width": 1
         },
         "mode": "lines",
         "text": "24.92",
         "type": "scatter3d",
         "x": [
          196,
          206
         ],
         "y": [
          406,
          386
         ],
         "z": [
          367,
          356
         ]
        },
        {
         "hoverinfo": "text",
         "line": {
          "color": "rgba(128, 128, 128, 0.4)",
          "width": 1
         },
         "mode": "lines",
         "text": "100.00",
         "type": "scatter3d",
         "x": [
          198,
          232
         ],
         "y": [
          483,
          389
         ],
         "z": [
          241,
          244
         ]
        },
        {
         "hoverinfo": "text",
         "line": {
          "color": "rgba(128, 128, 128, 0.4)",
          "width": 1
         },
         "mode": "lines",
         "text": "22.49",
         "type": "scatter3d",
         "x": [
          199,
          220
         ],
         "y": [
          254,
          258
         ],
         "z": [
          392,
          385
         ]
        },
        {
         "hoverinfo": "text",
         "line": {
          "color": "rgba(128, 128, 128, 0.4)",
          "width": 1
         },
         "mode": "lines",
         "text": "39.84",
         "type": "scatter3d",
         "x": [
          205,
          236
         ],
         "y": [
          123,
          148
         ],
         "z": [
          262,
          263
         ]
        },
        {
         "hoverinfo": "text",
         "line": {
          "color": "rgba(128, 128, 128, 0.4)",
          "width": 1
         },
         "mode": "lines",
         "text": "35.14",
         "type": "scatter3d",
         "x": [
          206,
          241
         ],
         "y": [
          336,
          337
         ],
         "z": [
          290,
          293
         ]
        },
        {
         "hoverinfo": "text",
         "line": {
          "color": "rgba(128, 128, 128, 0.4)",
          "width": 1
         },
         "mode": "lines",
         "text": "50.01",
         "type": "scatter3d",
         "x": [
          206,
          250
         ],
         "y": [
          386,
          364
         ],
         "z": [
          356,
          347
         ]
        },
        {
         "hoverinfo": "text",
         "line": {
          "color": "rgba(128, 128, 128, 0.4)",
          "width": 1
         },
         "mode": "lines",
         "text": "27.09",
         "type": "scatter3d",
         "x": [
          207,
          221
         ],
         "y": [
          416,
          413
         ],
         "z": [
          170,
          147
         ]
        },
        {
         "hoverinfo": "text",
         "line": {
          "color": "rgba(128, 128, 128, 0.4)",
          "width": 1
         },
         "mode": "lines",
         "text": "40.45",
         "type": "scatter3d",
         "x": [
          207,
          221
         ],
         "y": [
          416,
          404
         ],
         "z": [
          170,
          206
         ]
        },
        {
         "hoverinfo": "text",
         "line": {
          "color": "rgba(128, 128, 128, 0.4)",
          "width": 1
         },
         "mode": "lines",
         "text": "38.76",
         "type": "scatter3d",
         "x": [
          210,
          248
         ],
         "y": [
          344,
          351
         ],
         "z": [
          543,
          540
         ]
        },
        {
         "hoverinfo": "text",
         "line": {
          "color": "rgba(128, 128, 128, 0.4)",
          "width": 1
         },
         "mode": "lines",
         "text": "63.94",
         "type": "scatter3d",
         "x": [
          214,
          232
         ],
         "y": [
          435,
          377
         ],
         "z": [
          282,
          262
         ]
        },
        {
         "hoverinfo": "text",
         "line": {
          "color": "rgba(128, 128, 128, 0.4)",
          "width": 1
         },
         "mode": "lines",
         "text": "86.49",
         "type": "scatter3d",
         "x": [
          215,
          225
         ],
         "y": [
          148,
          203
         ],
         "z": [
          173,
          239
         ]
        },
        {
         "hoverinfo": "text",
         "line": {
          "color": "rgba(128, 128, 128, 0.4)",
          "width": 1
         },
         "mode": "lines",
         "text": "14.46",
         "type": "scatter3d",
         "x": [
          217,
          220
         ],
         "y": [
          268,
          258
         ],
         "z": [
          375,
          385
         ]
        },
        {
         "hoverinfo": "text",
         "line": {
          "color": "rgba(128, 128, 128, 0.4)",
          "width": 1
         },
         "mode": "lines",
         "text": "37.13",
         "type": "scatter3d",
         "x": [
          218,
          221
         ],
         "y": [
          441,
          404
         ],
         "z": [
          205,
          206
         ]
        },
        {
         "hoverinfo": "text",
         "line": {
          "color": "rgba(128, 128, 128, 0.4)",
          "width": 1
         },
         "mode": "lines",
         "text": "37.87",
         "type": "scatter3d",
         "x": [
          220,
          257
         ],
         "y": [
          258,
          257
         ],
         "z": [
          385,
          377
         ]
        },
        {
         "hoverinfo": "text",
         "line": {
          "color": "rgba(128, 128, 128, 0.4)",
          "width": 1
         },
         "mode": "lines",
         "text": "36.19",
         "type": "scatter3d",
         "x": [
          221,
          256
         ],
         "y": [
          325,
          316
         ],
         "z": [
          427,
          425
         ]
        },
        {
         "hoverinfo": "text",
         "line": {
          "color": "rgba(128, 128, 128, 0.4)",
          "width": 1
         },
         "mode": "lines",
         "text": "27.00",
         "type": "scatter3d",
         "x": [
          222,
          240
         ],
         "y": [
          356,
          347
         ],
         "z": [
          461,
          443
         ]
        },
        {
         "hoverinfo": "text",
         "line": {
          "color": "rgba(128, 128, 128, 0.4)",
          "width": 1
         },
         "mode": "lines",
         "text": "19.87",
         "type": "scatter3d",
         "x": [
          223,
          234
         ],
         "y": [
          140,
          155
         ],
         "z": [
          228,
          235
         ]
        },
        {
         "hoverinfo": "text",
         "line": {
          "color": "rgba(128, 128, 128, 0.4)",
          "width": 1
         },
         "mode": "lines",
         "text": "33.63",
         "type": "scatter3d",
         "x": [
          223,
          240
         ],
         "y": [
          376,
          347
         ],
         "z": [
          442,
          443
         ]
        },
        {
         "hoverinfo": "text",
         "line": {
          "color": "rgba(128, 128, 128, 0.4)",
          "width": 1
         },
         "mode": "lines",
         "text": "11.45",
         "type": "scatter3d",
         "x": [
          224,
          235
         ],
         "y": [
          283,
          284
         ],
         "z": [
          483,
          486
         ]
        },
        {
         "hoverinfo": "text",
         "line": {
          "color": "rgba(128, 128, 128, 0.4)",
          "width": 1
         },
         "mode": "lines",
         "text": "36.70",
         "type": "scatter3d",
         "x": [
          224,
          235
         ],
         "y": [
          283,
          284
         ],
         "z": [
          521,
          486
         ]
        },
        {
         "hoverinfo": "text",
         "line": {
          "color": "rgba(128, 128, 128, 0.4)",
          "width": 1
         },
         "mode": "lines",
         "text": "69.76",
         "type": "scatter3d",
         "x": [
          225,
          244
         ],
         "y": [
          203,
          240
         ],
         "z": [
          239,
          295
         ]
        },
        {
         "hoverinfo": "text",
         "line": {
          "color": "rgba(128, 128, 128, 0.4)",
          "width": 1
         },
         "mode": "lines",
         "text": "87.78",
         "type": "scatter3d",
         "x": [
          227,
          286
         ],
         "y": [
          186,
          251
         ],
         "z": [
          415,
          415
         ]
        },
        {
         "hoverinfo": "text",
         "line": {
          "color": "rgba(128, 128, 128, 0.4)",
          "width": 1
         },
         "mode": "lines",
         "text": "7.07",
         "type": "scatter3d",
         "x": [
          230,
          233
         ],
         "y": [
          279,
          274
         ],
         "z": [
          226,
          222
         ]
        },
        {
         "hoverinfo": "text",
         "line": {
          "color": "rgba(128, 128, 128, 0.4)",
          "width": 1
         },
         "mode": "lines",
         "text": "53.94",
         "type": "scatter3d",
         "x": [
          230,
          253
         ],
         "y": [
          279,
          314
         ],
         "z": [
          226,
          260
         ]
        },
        {
         "hoverinfo": "text",
         "line": {
          "color": "rgba(128, 128, 128, 0.4)",
          "width": 1
         },
         "mode": "lines",
         "text": "3.46",
         "type": "scatter3d",
         "x": [
          230,
          232
         ],
         "y": [
          387,
          389
         ],
         "z": [
          246,
          244
         ]
        },
        {
         "hoverinfo": "text",
         "line": {
          "color": "rgba(128, 128, 128, 0.4)",
          "width": 1
         },
         "mode": "lines",
         "text": "18.97",
         "type": "scatter3d",
         "x": [
          230,
          232
         ],
         "y": [
          387,
          377
         ],
         "z": [
          246,
          262
         ]
        },
        {
         "hoverinfo": "text",
         "line": {
          "color": "rgba(128, 128, 128, 0.4)",
          "width": 1
         },
         "mode": "lines",
         "text": "32.12",
         "type": "scatter3d",
         "x": [
          232,
          240
         ],
         "y": [
          377,
          355
         ],
         "z": [
          262,
          284
         ]
        },
        {
         "hoverinfo": "text",
         "line": {
          "color": "rgba(128, 128, 128, 0.4)",
          "width": 1
         },
         "mode": "lines",
         "text": "7.00",
         "type": "scatter3d",
         "x": [
          232,
          235
         ],
         "y": [
          389,
          391
         ],
         "z": [
          244,
          238
         ]
        },
        {
         "hoverinfo": "text",
         "line": {
          "color": "rgba(128, 128, 128, 0.4)",
          "width": 1
         },
         "mode": "lines",
         "text": "21.56",
         "type": "scatter3d",
         "x": [
          233,
          253
         ],
         "y": [
          215,
          223
         ],
         "z": [
          364,
          363
         ]
        },
        {
         "hoverinfo": "text",
         "line": {
          "color": "rgba(128, 128, 128, 0.4)",
          "width": 1
         },
         "mode": "lines",
         "text": "55.75",
         "type": "scatter3d",
         "x": [
          234,
          242
         ],
         "y": [
          155,
          193
         ],
         "z": [
          235,
          275
         ]
        },
        {
         "hoverinfo": "text",
         "line": {
          "color": "rgba(128, 128, 128, 0.4)",
          "width": 1
         },
         "mode": "lines",
         "text": "59.54",
         "type": "scatter3d",
         "x": [
          234,
          244
         ],
         "y": [
          155,
          113
         ],
         "z": [
          235,
          194
         ]
        },
        {
         "hoverinfo": "text",
         "line": {
          "color": "rgba(128, 128, 128, 0.4)",
          "width": 1
         },
         "mode": "lines",
         "text": "5.92",
         "type": "scatter3d",
         "x": [
          235,
          240
         ],
         "y": [
          284,
          283
         ],
         "z": [
          486,
          483
         ]
        },
        {
         "hoverinfo": "text",
         "line": {
          "color": "rgba(128, 128, 128, 0.4)",
          "width": 1
         },
         "mode": "lines",
         "text": "53.84",
         "type": "scatter3d",
         "x": [
          235,
          268
         ],
         "y": [
          335,
          318
         ],
         "z": [
          196,
          235
         ]
        },
        {
         "hoverinfo": "text",
         "line": {
          "color": "rgba(128, 128, 128, 0.4)",
          "width": 1
         },
         "mode": "lines",
         "text": "42.20",
         "type": "scatter3d",
         "x": [
          235,
          266
         ],
         "y": [
          391,
          403
         ],
         "z": [
          238,
          212
         ]
        },
        {
         "hoverinfo": "text",
         "line": {
          "color": "rgba(128, 128, 128, 0.4)",
          "width": 1
         },
         "mode": "lines",
         "text": "37.27",
         "type": "scatter3d",
         "x": [
          235,
          221
         ],
         "y": [
          391,
          404
         ],
         "z": [
          238,
          206
         ]
        },
        {
         "hoverinfo": "text",
         "line": {
          "color": "rgba(128, 128, 128, 0.4)",
          "width": 1
         },
         "mode": "lines",
         "text": "46.96",
         "type": "scatter3d",
         "x": [
          236,
          242
         ],
         "y": [
          148,
          193
         ],
         "z": [
          263,
          275
         ]
        },
        {
         "hoverinfo": "text",
         "line": {
          "color": "rgba(128, 128, 128, 0.4)",
          "width": 1
         },
         "mode": "lines",
         "text": "78.40",
         "type": "scatter3d",
         "x": [
          236,
          275
         ],
         "y": [
          148,
          93
         ],
         "z": [
          263,
          223
         ]
        },
        {
         "hoverinfo": "text",
         "line": {
          "color": "rgba(128, 128, 128, 0.4)",
          "width": 1
         },
         "mode": "lines",
         "text": "54.44",
         "type": "scatter3d",
         "x": [
          236,
          250
         ],
         "y": [
          416,
          364
         ],
         "z": [
          339,
          347
         ]
        },
        {
         "hoverinfo": "text",
         "line": {
          "color": "rgba(128, 128, 128, 0.4)",
          "width": 1
         },
         "mode": "lines",
         "text": "10.05",
         "type": "scatter3d",
         "x": [
          239,
          240
         ],
         "y": [
          273,
          283
         ],
         "z": [
          483,
          483
         ]
        },
        {
         "hoverinfo": "text",
         "line": {
          "color": "rgba(128, 128, 128, 0.4)",
          "width": 1
         },
         "mode": "lines",
         "text": "71.87",
         "type": "scatter3d",
         "x": [
          240,
          271
         ],
         "y": [
          355,
          417
         ],
         "z": [
          284,
          265
         ]
        },
        {
         "hoverinfo": "text",
         "line": {
          "color": "rgba(128, 128, 128, 0.4)",
          "width": 1
         },
         "mode": "lines",
         "text": "20.15",
         "type": "scatter3d",
         "x": [
          240,
          241
         ],
         "y": [
          355,
          337
         ],
         "z": [
          284,
          293
         ]
        },
        {
         "hoverinfo": "text",
         "line": {
          "color": "rgba(128, 128, 128, 0.4)",
          "width": 1
         },
         "mode": "lines",
         "text": "49.82",
         "type": "scatter3d",
         "x": [
          242,
          246
         ],
         "y": [
          193,
          238
         ],
         "z": [
          275,
          296
         ]
        },
        {
         "hoverinfo": "text",
         "line": {
          "color": "rgba(128, 128, 128, 0.4)",
          "width": 1
         },
         "mode": "lines",
         "text": "3.00",
         "type": "scatter3d",
         "x": [
          244,
          246
         ],
         "y": [
          240,
          238
         ],
         "z": [
          295,
          296
         ]
        },
        {
         "hoverinfo": "text",
         "line": {
          "color": "rgba(128, 128, 128, 0.4)",
          "width": 1
         },
         "mode": "lines",
         "text": "40.53",
         "type": "scatter3d",
         "x": [
          246,
          263
         ],
         "y": [
          238,
          263
         ],
         "z": [
          296,
          323
         ]
        },
        {
         "hoverinfo": "text",
         "line": {
          "color": "rgba(128, 128, 128, 0.4)",
          "width": 1
         },
         "mode": "lines",
         "text": "27.89",
         "type": "scatter3d",
         "x": [
          247,
          256
         ],
         "y": [
          326,
          310
         ],
         "z": [
          298,
          319
         ]
        },
        {
         "hoverinfo": "text",
         "line": {
          "color": "rgba(128, 128, 128, 0.4)",
          "width": 1
         },
         "mode": "lines",
         "text": "13.49",
         "type": "scatter3d",
         "x": [
          247,
          241
         ],
         "y": [
          326,
          337
         ],
         "z": [
          298,
          293
         ]
        },
        {
         "hoverinfo": "text",
         "line": {
          "color": "rgba(128, 128, 128, 0.4)",
          "width": 1
         },
         "mode": "lines",
         "text": "16.31",
         "type": "scatter3d",
         "x": [
          247,
          243
         ],
         "y": [
          326,
          317
         ],
         "z": [
          298,
          285
         ]
        },
        {
         "hoverinfo": "text",
         "line": {
          "color": "rgba(128, 128, 128, 0.4)",
          "width": 1
         },
         "mode": "lines",
         "text": "15.07",
         "type": "scatter3d",
         "x": [
          247,
          248
         ],
         "y": [
          352,
          351
         ],
         "z": [
          555,
          540
         ]
        },
        {
         "hoverinfo": "text",
         "line": {
          "color": "rgba(128, 128, 128, 0.4)",
          "width": 1
         },
         "mode": "lines",
         "text": "81.34",
         "type": "scatter3d",
         "x": [
          248,
          302
         ],
         "y": [
          351,
          341
         ],
         "z": [
          540,
          480
         ]
        },
        {
         "hoverinfo": "text",
         "line": {
          "color": "rgba(128, 128, 128, 0.4)",
          "width": 1
         },
         "mode": "lines",
         "text": "38.54",
         "type": "scatter3d",
         "x": [
          250,
          274
         ],
         "y": [
          364,
          334
         ],
         "z": [
          347,
          344
         ]
        },
        {
         "hoverinfo": "text",
         "line": {
          "color": "rgba(128, 128, 128, 0.4)",
          "width": 1
         },
         "mode": "lines",
         "text": "36.99",
         "type": "scatter3d",
         "x": [
          253,
          257
         ],
         "y": [
          223,
          257
         ],
         "z": [
          363,
          377
         ]
        },
        {
         "hoverinfo": "text",
         "line": {
          "color": "rgba(128, 128, 128, 0.4)",
          "width": 1
         },
         "mode": "lines",
         "text": "27.39",
         "type": "scatter3d",
         "x": [
          253,
          258
         ],
         "y": [
          223,
          198
         ],
         "z": [
          363,
          353
         ]
        },
        {
         "hoverinfo": "text",
         "line": {
          "color": "rgba(128, 128, 128, 0.4)",
          "width": 1
         },
         "mode": "lines",
         "text": "29.43",
         "type": "scatter3d",
         "x": [
          253,
          268
         ],
         "y": [
          314,
          318
         ],
         "z": [
          260,
          235
         ]
        },
        {
         "hoverinfo": "text",
         "line": {
          "color": "rgba(128, 128, 128, 0.4)",
          "width": 1
         },
         "mode": "lines",
         "text": "27.09",
         "type": "scatter3d",
         "x": [
          253,
          243
         ],
         "y": [
          314,
          317
         ],
         "z": [
          260,
          285
         ]
        },
        {
         "hoverinfo": "text",
         "line": {
          "color": "rgba(128, 128, 128, 0.4)",
          "width": 1
         },
         "mode": "lines",
         "text": "23.35",
         "type": "scatter3d",
         "x": [
          256,
          271
         ],
         "y": [
          310,
          302
         ],
         "z": [
          319,
          335
         ]
        },
        {
         "hoverinfo": "text",
         "line": {
          "color": "rgba(128, 128, 128, 0.4)",
          "width": 1
         },
         "mode": "lines",
         "text": "66.86",
         "type": "scatter3d",
         "x": [
          257,
          258
         ],
         "y": [
          136,
          198
         ],
         "z": [
          328,
          353
         ]
        },
        {
         "hoverinfo": "text",
         "line": {
          "color": "rgba(128, 128, 128, 0.4)",
          "width": 1
         },
         "mode": "lines",
         "text": "61.99",
         "type": "scatter3d",
         "x": [
          257,
          302
         ],
         "y": [
          257,
          290
         ],
         "z": [
          377,
          350
         ]
        },
        {
         "hoverinfo": "text",
         "line": {
          "color": "rgba(128, 128, 128, 0.4)",
          "width": 1
         },
         "mode": "lines",
         "text": "1.41",
         "type": "scatter3d",
         "x": [
          263,
          264
         ],
         "y": [
          263,
          262
         ],
         "z": [
          323,
          323
         ]
        },
        {
         "hoverinfo": "text",
         "line": {
          "color": "rgba(128, 128, 128, 0.4)",
          "width": 1
         },
         "mode": "lines",
         "text": "38.76",
         "type": "scatter3d",
         "x": [
          263,
          285
         ],
         "y": [
          263,
          290
         ],
         "z": [
          323,
          340
         ]
        },
        {
         "hoverinfo": "text",
         "line": {
          "color": "rgba(128, 128, 128, 0.4)",
          "width": 1
         },
         "mode": "lines",
         "text": "41.62",
         "type": "scatter3d",
         "x": [
          266,
          278
         ],
         "y": [
          403,
          415
         ],
         "z": [
          212,
          174
         ]
        },
        {
         "hoverinfo": "text",
         "line": {
          "color": "rgba(128, 128, 128, 0.4)",
          "width": 1
         },
         "mode": "lines",
         "text": "53.71",
         "type": "scatter3d",
         "x": [
          266,
          306
         ],
         "y": [
          403,
          389
         ],
         "z": [
          212,
          179
         ]
        },
        {
         "hoverinfo": "text",
         "line": {
          "color": "rgba(128, 128, 128, 0.4)",
          "width": 1
         },
         "mode": "lines",
         "text": "107.37",
         "type": "scatter3d",
         "x": [
          268,
          298
         ],
         "y": [
          318,
          333
         ],
         "z": [
          235,
          133
         ]
        },
        {
         "hoverinfo": "text",
         "line": {
          "color": "rgba(128, 128, 128, 0.4)",
          "width": 1
         },
         "mode": "lines",
         "text": "14.70",
         "type": "scatter3d",
         "x": [
          268,
          278
         ],
         "y": [
          434,
          424
         ],
         "z": [
          401,
          397
         ]
        },
        {
         "hoverinfo": "text",
         "line": {
          "color": "rgba(128, 128, 128, 0.4)",
          "width": 1
         },
         "mode": "lines",
         "text": "19.52",
         "type": "scatter3d",
         "x": [
          271,
          258
         ],
         "y": [
          184,
          198
         ],
         "z": [
          349,
          353
         ]
        },
        {
         "hoverinfo": "text",
         "line": {
          "color": "rgba(128, 128, 128, 0.4)",
          "width": 1
         },
         "mode": "lines",
         "text": "3.46",
         "type": "scatter3d",
         "x": [
          271,
          273
         ],
         "y": [
          302,
          300
         ],
         "z": [
          335,
          337
         ]
        },
        {
         "hoverinfo": "text",
         "line": {
          "color": "rgba(128, 128, 128, 0.4)",
          "width": 1
         },
         "mode": "lines",
         "text": "33.38",
         "type": "scatter3d",
         "x": [
          271,
          274
         ],
         "y": [
          302,
          334
         ],
         "z": [
          335,
          344
         ]
        },
        {
         "hoverinfo": "text",
         "line": {
          "color": "rgba(128, 128, 128, 0.4)",
          "width": 1
         },
         "mode": "lines",
         "text": "1.41",
         "type": "scatter3d",
         "x": [
          273,
          273
         ],
         "y": [
          300,
          301
         ],
         "z": [
          337,
          338
         ]
        },
        {
         "hoverinfo": "text",
         "line": {
          "color": "rgba(128, 128, 128, 0.4)",
          "width": 1
         },
         "mode": "lines",
         "text": "13.42",
         "type": "scatter3d",
         "x": [
          273,
          283
         ],
         "y": [
          300,
          292
         ],
         "z": [
          337,
          341
         ]
        },
        {
         "hoverinfo": "text",
         "line": {
          "color": "rgba(128, 128, 128, 0.4)",
          "width": 1
         },
         "mode": "lines",
         "text": "47.27",
         "type": "scatter3d",
         "x": [
          275,
          292
         ],
         "y": [
          240,
          284
         ],
         "z": [
          475,
          472
         ]
        },
        {
         "hoverinfo": "text",
         "line": {
          "color": "rgba(128, 128, 128, 0.4)",
          "width": 1
         },
         "mode": "lines",
         "text": "11.66",
         "type": "scatter3d",
         "x": [
          278,
          284
         ],
         "y": [
          424,
          432
         ],
         "z": [
          397,
          403
         ]
        },
        {
         "hoverinfo": "text",
         "line": {
          "color": "rgba(128, 128, 128, 0.4)",
          "width": 1
         },
         "mode": "lines",
         "text": "42.63",
         "type": "scatter3d",
         "x": [
          278,
          289
         ],
         "y": [
          424,
          388
         ],
         "z": [
          397,
          377
         ]
        },
        {
         "hoverinfo": "text",
         "line": {
          "color": "rgba(128, 128, 128, 0.4)",
          "width": 1
         },
         "mode": "lines",
         "text": "47.76",
         "type": "scatter3d",
         "x": [
          281,
          293
         ],
         "y": [
          338,
          374
         ],
         "z": [
          347,
          376
         ]
        },
        {
         "hoverinfo": "text",
         "line": {
          "color": "rgba(128, 128, 128, 0.4)",
          "width": 1
         },
         "mode": "lines",
         "text": "8.60",
         "type": "scatter3d",
         "x": [
          281,
          274
         ],
         "y": [
          338,
          334
         ],
         "z": [
          347,
          344
         ]
        },
        {
         "hoverinfo": "text",
         "line": {
          "color": "rgba(128, 128, 128, 0.4)",
          "width": 1
         },
         "mode": "lines",
         "text": "14.46",
         "type": "scatter3d",
         "x": [
          281,
          295
         ],
         "y": [
          338,
          341
         ],
         "z": [
          347,
          345
         ]
        },
        {
         "hoverinfo": "text",
         "line": {
          "color": "rgba(128, 128, 128, 0.4)",
          "width": 1
         },
         "mode": "lines",
         "text": "3.32",
         "type": "scatter3d",
         "x": [
          282,
          283
         ],
         "y": [
          295,
          292
         ],
         "z": [
          342,
          341
         ]
        },
        {
         "hoverinfo": "text",
         "line": {
          "color": "rgba(128, 128, 128, 0.4)",
          "width": 1
         },
         "mode": "lines",
         "text": "19.72",
         "type": "scatter3d",
         "x": [
          285,
          302
         ],
         "y": [
          290,
          290
         ],
         "z": [
          340,
          350
         ]
        },
        {
         "hoverinfo": "text",
         "line": {
          "color": "rgba(128, 128, 128, 0.4)",
          "width": 1
         },
         "mode": "lines",
         "text": "3.00",
         "type": "scatter3d",
         "x": [
          285,
          283
         ],
         "y": [
          290,
          292
         ],
         "z": [
          340,
          341
         ]
        },
        {
         "hoverinfo": "text",
         "line": {
          "color": "rgba(128, 128, 128, 0.4)",
          "width": 1
         },
         "mode": "lines",
         "text": "46.78",
         "type": "scatter3d",
         "x": [
          286,
          292
         ],
         "y": [
          251,
          205
         ],
         "z": [
          415,
          409
         ]
        },
        {
         "hoverinfo": "text",
         "line": {
          "color": "rgba(128, 128, 128, 0.4)",
          "width": 1
         },
         "mode": "lines",
         "text": "36.92",
         "type": "scatter3d",
         "x": [
          286,
          301
         ],
         "y": [
          251,
          284
         ],
         "z": [
          415,
          408
         ]
        },
        {
         "hoverinfo": "text",
         "line": {
          "color": "rgba(128, 128, 128, 0.4)",
          "width": 1
         },
         "mode": "lines",
         "text": "41.06",
         "type": "scatter3d",
         "x": [
          289,
          302
         ],
         "y": [
          375,
          341
         ],
         "z": [
          499,
          480
         ]
        },
        {
         "hoverinfo": "text",
         "line": {
          "color": "rgba(128, 128, 128, 0.4)",
          "width": 1
         },
         "mode": "lines",
         "text": "14.59",
         "type": "scatter3d",
         "x": [
          289,
          293
         ],
         "y": [
          388,
          374
         ],
         "z": [
          377,
          376
         ]
        },
        {
         "hoverinfo": "text",
         "line": {
          "color": "rgba(128, 128, 128, 0.4)",
          "width": 1
         },
         "mode": "lines",
         "text": "31.06",
         "type": "scatter3d",
         "x": [
          289,
          298
         ],
         "y": [
          388,
          416
         ],
         "z": [
          377,
          367
         ]
        },
        {
         "hoverinfo": "text",
         "line": {
          "color": "rgba(128, 128, 128, 0.4)",
          "width": 1
         },
         "mode": "lines",
         "text": "13.60",
         "type": "scatter3d",
         "x": [
          293,
          303
         ],
         "y": [
          374,
          376
         ],
         "z": [
          376,
          385
         ]
        },
        {
         "hoverinfo": "text",
         "line": {
          "color": "rgba(128, 128, 128, 0.4)",
          "width": 1
         },
         "mode": "lines",
         "text": "23.56",
         "type": "scatter3d",
         "x": [
          297,
          292
         ],
         "y": [
          285,
          284
         ],
         "z": [
          495,
          472
         ]
        },
        {
         "hoverinfo": "text",
         "line": {
          "color": "rgba(128, 128, 128, 0.4)",
          "width": 1
         },
         "mode": "lines",
         "text": "18.38",
         "type": "scatter3d",
         "x": [
          301,
          318
         ],
         "y": [
          284,
          291
         ],
         "z": [
          408,
          408
         ]
        },
        {
         "hoverinfo": "text",
         "line": {
          "color": "rgba(128, 128, 128, 0.4)",
          "width": 1
         },
         "mode": "lines",
         "text": "57.78",
         "type": "scatter3d",
         "x": [
          301,
          256
         ],
         "y": [
          284,
          316
         ],
         "z": [
          408,
          425
         ]
        },
        {
         "hoverinfo": "text",
         "line": {
          "color": "rgba(128, 128, 128, 0.4)",
          "width": 1
         },
         "mode": "lines",
         "text": "30.82",
         "type": "scatter3d",
         "x": [
          301,
          308
         ],
         "y": [
          358,
          328
         ],
         "z": [
          455,
          454
         ]
        },
        {
         "hoverinfo": "text",
         "line": {
          "color": "rgba(128, 128, 128, 0.4)",
          "width": 1
         },
         "mode": "lines",
         "text": "60.51",
         "type": "scatter3d",
         "x": [
          302,
          360
         ],
         "y": [
          290,
          293
         ],
         "z": [
          350,
          367
         ]
        },
        {
         "hoverinfo": "text",
         "line": {
          "color": "rgba(128, 128, 128, 0.4)",
          "width": 1
         },
         "mode": "lines",
         "text": "3.00",
         "type": "scatter3d",
         "x": [
          302,
          304
         ],
         "y": [
          341,
          339
         ],
         "z": [
          480,
          479
         ]
        },
        {
         "hoverinfo": "text",
         "line": {
          "color": "rgba(128, 128, 128, 0.4)",
          "width": 1
         },
         "mode": "lines",
         "text": "12.45",
         "type": "scatter3d",
         "x": [
          302,
          295
         ],
         "y": [
          346,
          341
         ],
         "z": [
          354,
          345
         ]
        },
        {
         "hoverinfo": "text",
         "line": {
          "color": "rgba(128, 128, 128, 0.4)",
          "width": 1
         },
         "mode": "lines",
         "text": "32.66",
         "type": "scatter3d",
         "x": [
          308,
          311
         ],
         "y": [
          328,
          305
         ],
         "z": [
          454,
          431
         ]
        },
        {
         "hoverinfo": "text",
         "line": {
          "color": "rgba(128, 128, 128, 0.4)",
          "width": 1
         },
         "mode": "lines",
         "text": "27.60",
         "type": "scatter3d",
         "x": [
          308,
          304
         ],
         "y": [
          328,
          339
         ],
         "z": [
          454,
          479
         ]
        },
        {
         "hoverinfo": "text",
         "line": {
          "color": "rgba(128, 128, 128, 0.4)",
          "width": 1
         },
         "mode": "lines",
         "text": "15.94",
         "type": "scatter3d",
         "x": [
          309,
          314
         ],
         "y": [
          370,
          355
         ],
         "z": [
          316,
          318
         ]
        },
        {
         "hoverinfo": "text",
         "line": {
          "color": "rgba(128, 128, 128, 0.4)",
          "width": 1
         },
         "mode": "lines",
         "text": "58.73",
         "type": "scatter3d",
         "x": [
          318,
          360
         ],
         "y": [
          291,
          293
         ],
         "z": [
          408,
          367
         ]
        },
        {
         "hoverinfo": "text",
         "line": {
          "color": "rgba(128, 128, 128, 0.4)",
          "width": 1
         },
         "mode": "lines",
         "text": "27.82",
         "type": "scatter3d",
         "x": [
          318,
          311
         ],
         "y": [
          291,
          305
         ],
         "z": [
          408,
          431
         ]
        },
        {
         "hoverinfo": "text",
         "line": {
          "color": "rgba(128, 128, 128, 0.4)",
          "width": 1
         },
         "mode": "lines",
         "text": "61.53",
         "type": "scatter3d",
         "x": [
          323,
          315
         ],
         "y": [
          340,
          339
         ],
         "z": [
          556,
          495
         ]
        },
        {
         "hoverinfo": "text",
         "line": {
          "color": "rgba(128, 128, 128, 0.4)",
          "width": 1
         },
         "mode": "lines",
         "text": "45.37",
         "type": "scatter3d",
         "x": [
          325,
          314
         ],
         "y": [
          371,
          355
         ],
         "z": [
          277,
          318
         ]
        },
        {
         "hoverinfo": "text",
         "line": {
          "color": "rgba(128, 128, 128, 0.4)",
          "width": 1
         },
         "mode": "lines",
         "text": "16.55",
         "type": "scatter3d",
         "x": [
          331,
          315
         ],
         "y": [
          336,
          339
         ],
         "z": [
          498,
          495
         ]
        },
        {
         "hoverinfo": "text",
         "line": {
          "color": "rgba(128, 128, 128, 0.4)",
          "width": 1
         },
         "mode": "lines",
         "text": "50.47",
         "type": "scatter3d",
         "x": [
          360,
          407
         ],
         "y": [
          293,
          276
         ],
         "z": [
          367,
          374
         ]
        },
        {
         "hoverinfo": "text",
         "line": {
          "color": "rgba(128, 128, 128, 0.4)",
          "width": 1
         },
         "mode": "lines",
         "text": "1.41",
         "type": "scatter3d",
         "x": [
          406,
          407
         ],
         "y": [
          276,
          276
         ],
         "z": [
          375,
          374
         ]
        },
        {
         "hoverinfo": "text",
         "line": {
          "color": "rgba(128, 128, 128, 0.4)",
          "width": 1
         },
         "mode": "lines",
         "text": "7.28",
         "type": "scatter3d",
         "x": [
          428,
          432
         ],
         "y": [
          263,
          257
         ],
         "z": [
          383,
          382
         ]
        },
        {
         "hoverinfo": "text",
         "line": {
          "color": "rgba(128, 128, 128, 0.4)",
          "width": 1
         },
         "mode": "lines",
         "text": "2.83",
         "type": "scatter3d",
         "x": [
          432,
          434
         ],
         "y": [
          257,
          255
         ],
         "z": [
          382,
          382
         ]
        },
        {
         "hoverinfo": "text",
         "line": {
          "color": "rgba(128, 128, 128, 0.4)",
          "width": 1
         },
         "mode": "lines",
         "text": "32.40",
         "type": "scatter3d",
         "x": [
          432,
          407
         ],
         "y": [
          257,
          276
         ],
         "z": [
          382,
          374
         ]
        },
        {
         "hoverinfo": "text",
         "line": {
          "color": "rgba(128, 128, 128, 0.4)",
          "width": 1
         },
         "mode": "lines",
         "text": "3.61",
         "type": "scatter3d",
         "x": [
          433,
          436
         ],
         "y": [
          247,
          247
         ],
         "z": [
          376,
          378
         ]
        },
        {
         "hoverinfo": "text",
         "line": {
          "color": "rgba(128, 128, 128, 0.4)",
          "width": 1
         },
         "mode": "lines",
         "text": "4.12",
         "type": "scatter3d",
         "x": [
          433,
          436
         ],
         "y": [
          250,
          248
         ],
         "z": [
          377,
          379
         ]
        },
        {
         "hoverinfo": "text",
         "line": {
          "color": "rgba(128, 128, 128, 0.4)",
          "width": 1
         },
         "mode": "lines",
         "text": "4.36",
         "type": "scatter3d",
         "x": [
          435,
          434
         ],
         "y": [
          258,
          255
         ],
         "z": [
          385,
          382
         ]
        },
        {
         "hoverinfo": "text",
         "line": {
          "color": "rgba(128, 128, 128, 0.4)",
          "width": 1
         },
         "mode": "lines",
         "text": "1.41",
         "type": "scatter3d",
         "x": [
          436,
          436
         ],
         "y": [
          247,
          248
         ],
         "z": [
          378,
          379
         ]
        },
        {
         "hoverinfo": "text",
         "line": {
          "color": "rgba(128, 128, 128, 0.4)",
          "width": 1
         },
         "mode": "lines",
         "text": "31.65",
         "type": "scatter3d",
         "x": [
          436,
          440
         ],
         "y": [
          247,
          222
         ],
         "z": [
          378,
          359
         ]
        },
        {
         "hoverinfo": "text",
         "line": {
          "color": "rgba(128, 128, 128, 0.4)",
          "width": 1
         },
         "mode": "lines",
         "text": "5.74",
         "type": "scatter3d",
         "x": [
          436,
          437
         ],
         "y": [
          248,
          252
         ],
         "z": [
          379,
          383
         ]
        },
        {
         "hoverinfo": "text",
         "line": {
          "color": "rgba(128, 128, 128, 0.4)",
          "width": 1
         },
         "mode": "lines",
         "text": "4.36",
         "type": "scatter3d",
         "x": [
          437,
          440
         ],
         "y": [
          219,
          222
         ],
         "z": [
          360,
          359
         ]
        },
        {
         "hoverinfo": "text",
         "line": {
          "color": "rgba(128, 128, 128, 0.4)",
          "width": 1
         },
         "mode": "lines",
         "text": "2.83",
         "type": "scatter3d",
         "x": [
          438,
          440
         ],
         "y": [
          215,
          217
         ],
         "z": [
          356,
          356
         ]
        },
        {
         "hoverinfo": "text",
         "line": {
          "color": "rgba(128, 128, 128, 0.4)",
          "width": 1
         },
         "mode": "lines",
         "text": "5.83",
         "type": "scatter3d",
         "x": [
          440,
          440
         ],
         "y": [
          222,
          217
         ],
         "z": [
          359,
          356
         ]
        },
        {
         "hoverinfo": "text",
         "line": {
          "color": "rgba(128, 128, 128, 0.4)",
          "width": 1
         },
         "mode": "lines",
         "text": "4.24",
         "type": "scatter3d",
         "x": [
          443,
          440
         ],
         "y": [
          217,
          217
         ],
         "z": [
          353,
          356
         ]
        },
        {
         "hoverinfo": "text",
         "line": {
          "color": "rgba(128, 128, 128, 0.4)",
          "width": 1
         },
         "mode": "lines",
         "text": "1.41",
         "type": "scatter3d",
         "x": [
          447,
          448
         ],
         "y": [
          267,
          266
         ],
         "z": [
          393,
          393
         ]
        },
        {
         "hoverinfo": "text",
         "line": {
          "color": "rgba(128, 128, 128, 0.4)",
          "width": 1
         },
         "mode": "lines",
         "text": "67.42",
         "type": "scatter3d",
         "x": [
          448,
          499
         ],
         "y": [
          266,
          310
         ],
         "z": [
          393,
          390
         ]
        },
        {
         "hoverinfo": "text",
         "line": {
          "color": "rgba(128, 128, 128, 0.4)",
          "width": 1
         },
         "mode": "lines",
         "text": "20.42",
         "type": "scatter3d",
         "x": [
          448,
          437
         ],
         "y": [
          266,
          252
         ],
         "z": [
          393,
          383
         ]
        },
        {
         "hoverinfo": "text",
         "line": {
          "color": "rgba(128, 128, 128, 0.4)",
          "width": 1
         },
         "mode": "lines",
         "text": "24.66",
         "type": "scatter3d",
         "x": [
          493,
          513
         ],
         "y": [
          205,
          217
         ],
         "z": [
          470,
          462
         ]
        },
        {
         "hoverinfo": "text",
         "line": {
          "color": "rgba(128, 128, 128, 0.4)",
          "width": 1
         },
         "mode": "lines",
         "text": "11.49",
         "type": "scatter3d",
         "x": [
          499,
          507
         ],
         "y": [
          310,
          302
         ],
         "z": [
          390,
          388
         ]
        },
        {
         "hoverinfo": "text",
         "line": {
          "color": "rgba(128, 128, 128, 0.4)",
          "width": 1
         },
         "mode": "lines",
         "text": "24.49",
         "type": "scatter3d",
         "x": [
          499,
          513
         ],
         "y": [
          310,
          330
         ],
         "z": [
          390,
          388
         ]
        },
        {
         "hoverinfo": "text",
         "line": {
          "color": "rgba(128, 128, 128, 0.4)",
          "width": 1
         },
         "mode": "lines",
         "text": "14.53",
         "type": "scatter3d",
         "x": [
          503,
          512
         ],
         "y": [
          326,
          333
         ],
         "z": [
          578,
          569
         ]
        },
        {
         "hoverinfo": "text",
         "line": {
          "color": "rgba(128, 128, 128, 0.4)",
          "width": 1
         },
         "mode": "lines",
         "text": "47.04",
         "type": "scatter3d",
         "x": [
          505,
          543
         ],
         "y": [
          163,
          188
         ],
         "z": [
          350,
          362
         ]
        },
        {
         "hoverinfo": "text",
         "line": {
          "color": "rgba(128, 128, 128, 0.4)",
          "width": 1
         },
         "mode": "lines",
         "text": "50.23",
         "type": "scatter3d",
         "x": [
          507,
          536
         ],
         "y": [
          302,
          273
         ],
         "z": [
          388,
          359
         ]
        },
        {
         "hoverinfo": "text",
         "line": {
          "color": "rgba(128, 128, 128, 0.4)",
          "width": 1
         },
         "mode": "lines",
         "text": "40.07",
         "type": "scatter3d",
         "x": [
          507,
          525
         ],
         "y": [
          302,
          281
         ],
         "z": [
          388,
          417
         ]
        },
        {
         "hoverinfo": "text",
         "line": {
          "color": "rgba(128, 128, 128, 0.4)",
          "width": 1
         },
         "mode": "lines",
         "text": "30.63",
         "type": "scatter3d",
         "x": [
          508,
          517
         ],
         "y": [
          387,
          391
         ],
         "z": [
          292,
          321
         ]
        },
        {
         "hoverinfo": "text",
         "line": {
          "color": "rgba(128, 128, 128, 0.4)",
          "width": 1
         },
         "mode": "lines",
         "text": "14.70",
         "type": "scatter3d",
         "x": [
          509,
          515
         ],
         "y": [
          209,
          221
         ],
         "z": [
          434,
          440
         ]
        },
        {
         "hoverinfo": "text",
         "line": {
          "color": "rgba(128, 128, 128, 0.4)",
          "width": 1
         },
         "mode": "lines",
         "text": "23.00",
         "type": "scatter3d",
         "x": [
          512,
          518
         ],
         "y": [
          333,
          330
         ],
         "z": [
          569,
          591
         ]
        },
        {
         "hoverinfo": "text",
         "line": {
          "color": "rgba(128, 128, 128, 0.4)",
          "width": 1
         },
         "mode": "lines",
         "text": "100.75",
         "type": "scatter3d",
         "x": [
          512,
          545
         ],
         "y": [
          333,
          348
         ],
         "z": [
          569,
          475
         ]
        },
        {
         "hoverinfo": "text",
         "line": {
          "color": "rgba(128, 128, 128, 0.4)",
          "width": 1
         },
         "mode": "lines",
         "text": "22.45",
         "type": "scatter3d",
         "x": [
          513,
          515
         ],
         "y": [
          217,
          221
         ],
         "z": [
          462,
          440
         ]
        },
        {
         "hoverinfo": "text",
         "line": {
          "color": "rgba(128, 128, 128, 0.4)",
          "width": 1
         },
         "mode": "lines",
         "text": "22.83",
         "type": "scatter3d",
         "x": [
          513,
          528
         ],
         "y": [
          217,
          207
         ],
         "z": [
          462,
          476
         ]
        },
        {
         "hoverinfo": "text",
         "line": {
          "color": "rgba(128, 128, 128, 0.4)",
          "width": 1
         },
         "mode": "lines",
         "text": "18.49",
         "type": "scatter3d",
         "x": [
          513,
          524
         ],
         "y": [
          330,
          335
         ],
         "z": [
          388,
          374
         ]
        },
        {
         "hoverinfo": "text",
         "line": {
          "color": "rgba(128, 128, 128, 0.4)",
          "width": 1
         },
         "mode": "lines",
         "text": "36.74",
         "type": "scatter3d",
         "x": [
          513,
          539
         ],
         "y": [
          330,
          337
         ],
         "z": [
          388,
          413
         ]
        },
        {
         "hoverinfo": "text",
         "line": {
          "color": "rgba(128, 128, 128, 0.4)",
          "width": 1
         },
         "mode": "lines",
         "text": "86.31",
         "type": "scatter3d",
         "x": [
          514,
          521
         ],
         "y": [
          272,
          274
         ],
         "z": [
          515,
          429
         ]
        },
        {
         "hoverinfo": "text",
         "line": {
          "color": "rgba(128, 128, 128, 0.4)",
          "width": 1
         },
         "mode": "lines",
         "text": "77.94",
         "type": "scatter3d",
         "x": [
          514,
          539
         ],
         "y": [
          348,
          379
         ],
         "z": [
          185,
          252
         ]
        },
        {
         "hoverinfo": "text",
         "line": {
          "color": "rgba(128, 128, 128, 0.4)",
          "width": 1
         },
         "mode": "lines",
         "text": "28.44",
         "type": "scatter3d",
         "x": [
          514,
          532
         ],
         "y": [
          406,
          392
         ],
         "z": [
          193,
          210
         ]
        },
        {
         "hoverinfo": "text",
         "line": {
          "color": "rgba(128, 128, 128, 0.4)",
          "width": 1
         },
         "mode": "lines",
         "text": "54.46",
         "type": "scatter3d",
         "x": [
          515,
          521
         ],
         "y": [
          221,
          274
         ],
         "z": [
          440,
          429
         ]
        },
        {
         "hoverinfo": "text",
         "line": {
          "color": "rgba(128, 128, 128, 0.4)",
          "width": 1
         },
         "mode": "lines",
         "text": "45.19",
         "type": "scatter3d",
         "x": [
          517,
          522
         ],
         "y": [
          391,
          435
         ],
         "z": [
          321,
          312
         ]
        },
        {
         "hoverinfo": "text",
         "line": {
          "color": "rgba(128, 128, 128, 0.4)",
          "width": 1
         },
         "mode": "lines",
         "text": "53.30",
         "type": "scatter3d",
         "x": [
          517,
          525
         ],
         "y": [
          391,
          362
         ],
         "z": [
          321,
          365
         ]
        },
        {
         "hoverinfo": "text",
         "line": {
          "color": "rgba(128, 128, 128, 0.4)",
          "width": 1
         },
         "mode": "lines",
         "text": "77.62",
         "type": "scatter3d",
         "x": [
          519,
          525
         ],
         "y": [
          427,
          362
         ],
         "z": [
          407,
          365
         ]
        },
        {
         "hoverinfo": "text",
         "line": {
          "color": "rgba(128, 128, 128, 0.4)",
          "width": 1
         },
         "mode": "lines",
         "text": "14.46",
         "type": "scatter3d",
         "x": [
          521,
          525
         ],
         "y": [
          274,
          281
         ],
         "z": [
          429,
          417
         ]
        },
        {
         "hoverinfo": "text",
         "line": {
          "color": "rgba(128, 128, 128, 0.4)",
          "width": 1
         },
         "mode": "lines",
         "text": "1.41",
         "type": "scatter3d",
         "x": [
          524,
          524
         ],
         "y": [
          334,
          335
         ],
         "z": [
          373,
          374
         ]
        },
        {
         "hoverinfo": "text",
         "line": {
          "color": "rgba(128, 128, 128, 0.4)",
          "width": 1
         },
         "mode": "lines",
         "text": "13.19",
         "type": "scatter3d",
         "x": [
          524,
          531
         ],
         "y": [
          335,
          340
         ],
         "z": [
          374,
          364
         ]
        },
        {
         "hoverinfo": "text",
         "line": {
          "color": "rgba(128, 128, 128, 0.4)",
          "width": 1
         },
         "mode": "lines",
         "text": "98.07",
         "type": "scatter3d",
         "x": [
          524,
          532
         ],
         "y": [
          415,
          392
         ],
         "z": [
          115,
          210
         ]
        },
        {
         "hoverinfo": "text",
         "line": {
          "color": "rgba(128, 128, 128, 0.4)",
          "width": 1
         },
         "mode": "lines",
         "text": "22.83",
         "type": "scatter3d",
         "x": [
          525,
          531
         ],
         "y": [
          362,
          340
         ],
         "z": [
          365,
          364
         ]
        },
        {
         "hoverinfo": "text",
         "line": {
          "color": "rgba(128, 128, 128, 0.4)",
          "width": 1
         },
         "mode": "lines",
         "text": "20.83",
         "type": "scatter3d",
         "x": [
          531,
          544
         ],
         "y": [
          340,
          343
         ],
         "z": [
          364,
          348
         ]
        },
        {
         "hoverinfo": "text",
         "line": {
          "color": "rgba(128, 128, 128, 0.4)",
          "width": 1
         },
         "mode": "lines",
         "text": "59.54",
         "type": "scatter3d",
         "x": [
          536,
          559
         ],
         "y": [
          273,
          219
         ],
         "z": [
          359,
          369
         ]
        },
        {
         "hoverinfo": "text",
         "line": {
          "color": "rgba(128, 128, 128, 0.4)",
          "width": 1
         },
         "mode": "lines",
         "text": "52.71",
         "type": "scatter3d",
         "x": [
          536,
          561
         ],
         "y": [
          273,
          245
         ],
         "z": [
          359,
          322
         ]
        },
        {
         "hoverinfo": "text",
         "line": {
          "color": "rgba(128, 128, 128, 0.4)",
          "width": 1
         },
         "mode": "lines",
         "text": "40.12",
         "type": "scatter3d",
         "x": [
          539,
          543
         ],
         "y": [
          151,
          188
         ],
         "z": [
          347,
          362
         ]
        },
        {
         "hoverinfo": "text",
         "line": {
          "color": "rgba(128, 128, 128, 0.4)",
          "width": 1
         },
         "mode": "lines",
         "text": "15.03",
         "type": "scatter3d",
         "x": [
          539,
          540
         ],
         "y": [
          379,
          388
         ],
         "z": [
          252,
          240
         ]
        },
        {
         "hoverinfo": "text",
         "line": {
          "color": "rgba(128, 128, 128, 0.4)",
          "width": 1
         },
         "mode": "lines",
         "text": "70.18",
         "type": "scatter3d",
         "x": [
          539,
          552
         ],
         "y": [
          379,
          345
         ],
         "z": [
          252,
          312
         ]
        },
        {
         "hoverinfo": "text",
         "line": {
          "color": "rgba(128, 128, 128, 0.4)",
          "width": 1
         },
         "mode": "lines",
         "text": "31.30",
         "type": "scatter3d",
         "x": [
          540,
          532
         ],
         "y": [
          388,
          392
         ],
         "z": [
          240,
          210
         ]
        },
        {
         "hoverinfo": "text",
         "line": {
          "color": "rgba(128, 128, 128, 0.4)",
          "width": 1
         },
         "mode": "lines",
         "text": "24.19",
         "type": "scatter3d",
         "x": [
          540,
          550
         ],
         "y": [
          388,
          405
         ],
         "z": [
          240,
          226
         ]
        },
        {
         "hoverinfo": "text",
         "line": {
          "color": "rgba(128, 128, 128, 0.4)",
          "width": 1
         },
         "mode": "lines",
         "text": "59.36",
         "type": "scatter3d",
         "x": [
          542,
          550
         ],
         "y": [
          394,
          360
         ],
         "z": [
          497,
          449
         ]
        },
        {
         "hoverinfo": "text",
         "line": {
          "color": "rgba(128, 128, 128, 0.4)",
          "width": 1
         },
         "mode": "lines",
         "text": "82.52",
         "type": "scatter3d",
         "x": [
          542,
          550
         ],
         "y": [
          466,
          405
         ],
         "z": [
          171,
          226
         ]
        },
        {
         "hoverinfo": "text",
         "line": {
          "color": "rgba(128, 128, 128, 0.4)",
          "width": 1
         },
         "mode": "lines",
         "text": "35.58",
         "type": "scatter3d",
         "x": [
          543,
          559
         ],
         "y": [
          188,
          219
         ],
         "z": [
          362,
          369
         ]
        },
        {
         "hoverinfo": "text",
         "line": {
          "color": "rgba(128, 128, 128, 0.4)",
          "width": 1
         },
         "mode": "lines",
         "text": "83.29",
         "type": "scatter3d",
         "x": [
          544,
          560
         ],
         "y": [
          343,
          422
         ],
         "z": [
          348,
          369
         ]
        },
        {
         "hoverinfo": "text",
         "line": {
          "color": "rgba(128, 128, 128, 0.4)",
          "width": 1
         },
         "mode": "lines",
         "text": "5.48",
         "type": "scatter3d",
         "x": [
          544,
          546
         ],
         "y": [
          343,
          342
         ],
         "z": [
          348,
          343
         ]
        },
        {
         "hoverinfo": "text",
         "line": {
          "color": "rgba(128, 128, 128, 0.4)",
          "width": 1
         },
         "mode": "lines",
         "text": "5.92",
         "type": "scatter3d",
         "x": [
          550,
          553
         ],
         "y": [
          360,
          365
         ],
         "z": [
          449,
          450
         ]
        },
        {
         "hoverinfo": "text",
         "line": {
          "color": "rgba(128, 128, 128, 0.4)",
          "width": 1
         },
         "mode": "lines",
         "text": "13.15",
         "type": "scatter3d",
         "x": [
          550,
          544
         ],
         "y": [
          360,
          349
         ],
         "z": [
          449,
          445
         ]
        },
        {
         "hoverinfo": "text",
         "line": {
          "color": "rgba(128, 128, 128, 0.4)",
          "width": 1
         },
         "mode": "lines",
         "text": "15.26",
         "type": "scatter3d",
         "x": [
          551,
          553
         ],
         "y": [
          380,
          365
         ],
         "z": [
          452,
          450
         ]
        },
        {
         "hoverinfo": "text",
         "line": {
          "color": "rgba(128, 128, 128, 0.4)",
          "width": 1
         },
         "mode": "lines",
         "text": "7.62",
         "type": "scatter3d",
         "x": [
          552,
          552
         ],
         "y": [
          342,
          345
         ],
         "z": [
          319,
          312
         ]
        },
        {
         "hoverinfo": "text",
         "line": {
          "color": "rgba(128, 128, 128, 0.4)",
          "width": 1
         },
         "mode": "lines",
         "text": "48.96",
         "type": "scatter3d",
         "x": [
          552,
          572
         ],
         "y": [
          342,
          308
         ],
         "z": [
          319,
          290
         ]
        },
        {
         "hoverinfo": "text",
         "line": {
          "color": "rgba(128, 128, 128, 0.4)",
          "width": 1
         },
         "mode": "lines",
         "text": "24.74",
         "type": "scatter3d",
         "x": [
          552,
          546
         ],
         "y": [
          342,
          342
         ],
         "z": [
          319,
          343
         ]
        },
        {
         "hoverinfo": "text",
         "line": {
          "color": "rgba(128, 128, 128, 0.4)",
          "width": 1
         },
         "mode": "lines",
         "text": "6.40",
         "type": "scatter3d",
         "x": [
          552,
          554
         ],
         "y": [
          345,
          346
         ],
         "z": [
          312,
          306
         ]
        },
        {
         "hoverinfo": "text",
         "line": {
          "color": "rgba(128, 128, 128, 0.4)",
          "width": 1
         },
         "mode": "lines",
         "text": "55.81",
         "type": "scatter3d",
         "x": [
          553,
          592
         ],
         "y": [
          365,
          380
         ],
         "z": [
          450,
          487
         ]
        },
        {
         "hoverinfo": "text",
         "line": {
          "color": "rgba(128, 128, 128, 0.4)",
          "width": 1
         },
         "mode": "lines",
         "text": "1.41",
         "type": "scatter3d",
         "x": [
          554,
          554
         ],
         "y": [
          346,
          347
         ],
         "z": [
          306,
          305
         ]
        },
        {
         "hoverinfo": "text",
         "line": {
          "color": "rgba(128, 128, 128, 0.4)",
          "width": 1
         },
         "mode": "lines",
         "text": "28.72",
         "type": "scatter3d",
         "x": [
          554,
          568
         ],
         "y": [
          346,
          344
         ],
         "z": [
          306,
          281
         ]
        },
        {
         "hoverinfo": "text",
         "line": {
          "color": "rgba(128, 128, 128, 0.4)",
          "width": 1
         },
         "mode": "lines",
         "text": "20.20",
         "type": "scatter3d",
         "x": [
          555,
          557
         ],
         "y": [
          270,
          268
         ],
         "z": [
          453,
          473
         ]
        },
        {
         "hoverinfo": "text",
         "line": {
          "color": "rgba(128, 128, 128, 0.4)",
          "width": 1
         },
         "mode": "lines",
         "text": "46.80",
         "type": "scatter3d",
         "x": [
          555,
          596
         ],
         "y": [
          270,
          248
         ],
         "z": [
          453,
          458
         ]
        },
        {
         "hoverinfo": "text",
         "line": {
          "color": "rgba(128, 128, 128, 0.4)",
          "width": 1
         },
         "mode": "lines",
         "text": "48.14",
         "type": "scatter3d",
         "x": [
          555,
          525
         ],
         "y": [
          270,
          281
         ],
         "z": [
          453,
          417
         ]
        },
        {
         "hoverinfo": "text",
         "line": {
          "color": "rgba(128, 128, 128, 0.4)",
          "width": 1
         },
         "mode": "lines",
         "text": "45.01",
         "type": "scatter3d",
         "x": [
          557,
          557
         ],
         "y": [
          268,
          269
         ],
         "z": [
          473,
          518
         ]
        },
        {
         "hoverinfo": "text",
         "line": {
          "color": "rgba(128, 128, 128, 0.4)",
          "width": 1
         },
         "mode": "lines",
         "text": "12.08",
         "type": "scatter3d",
         "x": [
          557,
          568
         ],
         "y": [
          268,
          268
         ],
         "z": [
          473,
          478
         ]
        },
        {
         "hoverinfo": "text",
         "line": {
          "color": "rgba(128, 128, 128, 0.4)",
          "width": 1
         },
         "mode": "lines",
         "text": "76.46",
         "type": "scatter3d",
         "x": [
          559,
          608
         ],
         "y": [
          219,
          162
         ],
         "z": [
          369,
          355
         ]
        },
        {
         "hoverinfo": "text",
         "line": {
          "color": "rgba(128, 128, 128, 0.4)",
          "width": 1
         },
         "mode": "lines",
         "text": "184.81",
         "type": "scatter3d",
         "x": [
          560,
          561
         ],
         "y": [
          77,
          245
         ],
         "z": [
          245,
          322
         ]
        },
        {
         "hoverinfo": "text",
         "line": {
          "color": "rgba(128, 128, 128, 0.4)",
          "width": 1
         },
         "mode": "lines",
         "text": "44.92",
         "type": "scatter3d",
         "x": [
          569,
          581
         ],
         "y": [
          346,
          389
         ],
         "z": [
          280,
          285
         ]
        },
        {
         "hoverinfo": "text",
         "line": {
          "color": "rgba(128, 128, 128, 0.4)",
          "width": 1
         },
         "mode": "lines",
         "text": "58.91",
         "type": "scatter3d",
         "x": [
          569,
          592
         ],
         "y": [
          346,
          351
         ],
         "z": [
          280,
          226
         ]
        },
        {
         "hoverinfo": "text",
         "line": {
          "color": "rgba(128, 128, 128, 0.4)",
          "width": 1
         },
         "mode": "lines",
         "text": "2.45",
         "type": "scatter3d",
         "x": [
          569,
          568
         ],
         "y": [
          346,
          344
         ],
         "z": [
          280,
          281
         ]
        },
        {
         "hoverinfo": "text",
         "line": {
          "color": "rgba(128, 128, 128, 0.4)",
          "width": 1
         },
         "mode": "lines",
         "text": "77.32",
         "type": "scatter3d",
         "x": [
          577,
          654
         ],
         "y": [
          307,
          314
         ],
         "z": [
          290,
          291
         ]
        },
        {
         "hoverinfo": "text",
         "line": {
          "color": "rgba(128, 128, 128, 0.4)",
          "width": 1
         },
         "mode": "lines",
         "text": "82.76",
         "type": "scatter3d",
         "x": [
          577,
          637
         ],
         "y": [
          307,
          272
         ],
         "z": [
          290,
          245
         ]
        },
        {
         "hoverinfo": "text",
         "line": {
          "color": "rgba(128, 128, 128, 0.4)",
          "width": 1
         },
         "mode": "lines",
         "text": "5.10",
         "type": "scatter3d",
         "x": [
          577,
          572
         ],
         "y": [
          307,
          308
         ],
         "z": [
          290,
          290
         ]
        },
        {
         "hoverinfo": "text",
         "line": {
          "color": "rgba(128, 128, 128, 0.4)",
          "width": 1
         },
         "mode": "lines",
         "text": "48.89",
         "type": "scatter3d",
         "x": [
          578,
          619
         ],
         "y": [
          334,
          319
         ],
         "z": [
          420,
          442
         ]
        },
        {
         "hoverinfo": "text",
         "line": {
          "color": "rgba(128, 128, 128, 0.4)",
          "width": 1
         },
         "mode": "lines",
         "text": "62.63",
         "type": "scatter3d",
         "x": [
          578,
          637
         ],
         "y": [
          334,
          353
         ],
         "z": [
          420,
          429
         ]
        },
        {
         "hoverinfo": "text",
         "line": {
          "color": "rgba(128, 128, 128, 0.4)",
          "width": 1
         },
         "mode": "lines",
         "text": "39.74",
         "type": "scatter3d",
         "x": [
          578,
          539
         ],
         "y": [
          334,
          337
         ],
         "z": [
          420,
          413
         ]
        },
        {
         "hoverinfo": "text",
         "line": {
          "color": "rgba(128, 128, 128, 0.4)",
          "width": 1
         },
         "mode": "lines",
         "text": "122.45",
         "type": "scatter3d",
         "x": [
          579,
          692
         ],
         "y": [
          331,
          348
         ],
         "z": [
          259,
          215
         ]
        },
        {
         "hoverinfo": "text",
         "line": {
          "color": "rgba(128, 128, 128, 0.4)",
          "width": 1
         },
         "mode": "lines",
         "text": "27.82",
         "type": "scatter3d",
         "x": [
          579,
          568
         ],
         "y": [
          331,
          344
         ],
         "z": [
          259,
          281
         ]
        },
        {
         "hoverinfo": "text",
         "line": {
          "color": "rgba(128, 128, 128, 0.4)",
          "width": 1
         },
         "mode": "lines",
         "text": "49.28",
         "type": "scatter3d",
         "x": [
          579,
          595
         ],
         "y": [
          331,
          313
         ],
         "z": [
          259,
          216
         ]
        },
        {
         "hoverinfo": "text",
         "line": {
          "color": "rgba(128, 128, 128, 0.4)",
          "width": 1
         },
         "mode": "lines",
         "text": "130.81",
         "type": "scatter3d",
         "x": [
          580,
          607
         ],
         "y": [
          230,
          140
         ],
         "z": [
          302,
          211
         ]
        },
        {
         "hoverinfo": "text",
         "line": {
          "color": "rgba(128, 128, 128, 0.4)",
          "width": 1
         },
         "mode": "lines",
         "text": "93.61",
         "type": "scatter3d",
         "x": [
          580,
          629
         ],
         "y": [
          230,
          161
         ],
         "z": [
          302,
          262
         ]
        },
        {
         "hoverinfo": "text",
         "line": {
          "color": "rgba(128, 128, 128, 0.4)",
          "width": 1
         },
         "mode": "lines",
         "text": "31.40",
         "type": "scatter3d",
         "x": [
          580,
          561
         ],
         "y": [
          230,
          245
         ],
         "z": [
          302,
          322
         ]
        },
        {
         "hoverinfo": "text",
         "line": {
          "color": "rgba(128, 128, 128, 0.4)",
          "width": 1
         },
         "mode": "lines",
         "text": "35.28",
         "type": "scatter3d",
         "x": [
          581,
          591
         ],
         "y": [
          389,
          417
         ],
         "z": [
          285,
          266
         ]
        },
        {
         "hoverinfo": "text",
         "line": {
          "color": "rgba(128, 128, 128, 0.4)",
          "width": 1
         },
         "mode": "lines",
         "text": "57.18",
         "type": "scatter3d",
         "x": [
          581,
          633
         ],
         "y": [
          389,
          412
         ],
         "z": [
          285,
          291
         ]
        },
        {
         "hoverinfo": "text",
         "line": {
          "color": "rgba(128, 128, 128, 0.4)",
          "width": 1
         },
         "mode": "lines",
         "text": "7.87",
         "type": "scatter3d",
         "x": [
          587,
          588
         ],
         "y": [
          350,
          345
         ],
         "z": [
          539,
          545
         ]
        },
        {
         "hoverinfo": "text",
         "line": {
          "color": "rgba(128, 128, 128, 0.4)",
          "width": 1
         },
         "mode": "lines",
         "text": "8.83",
         "type": "scatter3d",
         "x": [
          587,
          589
         ],
         "y": [
          350,
          357
         ],
         "z": [
          539,
          544
         ]
        },
        {
         "hoverinfo": "text",
         "line": {
          "color": "rgba(128, 128, 128, 0.4)",
          "width": 1
         },
         "mode": "lines",
         "text": "76.58",
         "type": "scatter3d",
         "x": [
          587,
          545
         ],
         "y": [
          350,
          348
         ],
         "z": [
          539,
          475
         ]
        },
        {
         "hoverinfo": "text",
         "line": {
          "color": "rgba(128, 128, 128, 0.4)",
          "width": 1
         },
         "mode": "lines",
         "text": "18.81",
         "type": "scatter3d",
         "x": [
          592,
          599
         ],
         "y": [
          351,
          347
         ],
         "z": [
          226,
          209
         ]
        },
        {
         "hoverinfo": "text",
         "line": {
          "color": "rgba(128, 128, 128, 0.4)",
          "width": 1
         },
         "mode": "lines",
         "text": "98.45",
         "type": "scatter3d",
         "x": [
          592,
          674
         ],
         "y": [
          351,
          391
         ],
         "z": [
          226,
          189
         ]
        },
        {
         "hoverinfo": "text",
         "line": {
          "color": "rgba(128, 128, 128, 0.4)",
          "width": 1
         },
         "mode": "lines",
         "text": "70.12",
         "type": "scatter3d",
         "x": [
          596,
          550
         ],
         "y": [
          425,
          405
         ],
         "z": [
          177,
          226
         ]
        },
        {
         "hoverinfo": "text",
         "line": {
          "color": "rgba(128, 128, 128, 0.4)",
          "width": 1
         },
         "mode": "lines",
         "text": "141.87",
         "type": "scatter3d",
         "x": [
          611,
          572
         ],
         "y": [
          226,
          308
         ],
         "z": [
          181,
          290
         ]
        },
        {
         "hoverinfo": "text",
         "line": {
          "color": "rgba(128, 128, 128, 0.4)",
          "width": 1
         },
         "mode": "lines",
         "text": "98.66",
         "type": "scatter3d",
         "x": [
          624,
          546
         ],
         "y": [
          283,
          342
         ],
         "z": [
          356,
          343
         ]
        },
        {
         "hoverinfo": "text",
         "line": {
          "color": "rgba(128, 128, 128, 0.4)",
          "width": 1
         },
         "mode": "lines",
         "text": "48.81",
         "type": "scatter3d",
         "x": [
          672,
          637
         ],
         "y": [
          271,
          272
         ],
         "z": [
          211,
          245
         ]
        },
        {
         "hoverinfo": "text",
         "line": {
          "color": "rgba(128, 128, 128, 0.4)",
          "width": 1
         },
         "mode": "lines",
         "text": "74.44",
         "type": "scatter3d",
         "x": [
          676,
          637
         ],
         "y": [
          222,
          272
         ],
         "z": [
          206,
          245
         ]
        },
        {
         "hoverinfo": "text",
         "line": {
          "color": "rgba(128, 128, 128, 0.4)",
          "width": 1
         },
         "mode": "lines",
         "text": "105.78",
         "type": "scatter3d",
         "x": [
          685,
          595
         ],
         "y": [
          321,
          313
         ],
         "z": [
          161,
          216
         ]
        },
        {
         "hoverinfo": "text",
         "line": {
          "color": "rgba(128, 128, 128, 0.4)",
          "width": 1
         },
         "mode": "lines",
         "text": "183.59",
         "type": "scatter3d",
         "x": [
          725,
          595
         ],
         "y": [
          287,
          313
         ],
         "z": [
          89,
          216
         ]
        },
        {
         "hoverinfo": "text",
         "line": {
          "color": "rgba(128, 128, 128, 0.4)",
          "width": 1
         },
         "mode": "lines",
         "text": "39.26",
         "type": "scatter3d",
         "x": [
          240,
          256
         ],
         "y": [
          347,
          316
         ],
         "z": [
          443,
          425
         ]
        },
        {
         "hoverinfo": "text",
         "line": {
          "color": "rgba(128, 128, 128, 0.4)",
          "width": 1
         },
         "mode": "lines",
         "text": "30.03",
         "type": "scatter3d",
         "x": [
          545,
          544
         ],
         "y": [
          348,
          349
         ],
         "z": [
          475,
          445
         ]
        },
        {
         "hoverinfo": "text",
         "line": {
          "color": "rgba(128, 128, 128, 0.4)",
          "width": 1
         },
         "mode": "lines",
         "text": "34.54",
         "type": "scatter3d",
         "x": [
          544,
          539
         ],
         "y": [
          349,
          337
         ],
         "z": [
          445,
          413
         ]
        },
        {
         "hoverinfo": "text",
         "line": {
          "color": "rgba(128, 128, 128, 0.4)",
          "width": 1
         },
         "mode": "lines",
         "text": "4.36",
         "type": "scatter3d",
         "x": [
          434,
          437
         ],
         "y": [
          255,
          252
         ],
         "z": [
          382,
          383
         ]
        },
        {
         "hoverinfo": "text",
         "line": {
          "color": "rgba(128, 128, 128, 0.4)",
          "width": 1
         },
         "mode": "lines",
         "text": "38.03",
         "type": "scatter3d",
         "x": [
          311,
          294
         ],
         "y": [
          305,
          291
         ],
         "z": [
          431,
          462
         ]
        },
        {
         "hoverinfo": "text",
         "line": {
          "color": "rgba(128, 128, 128, 0.4)",
          "width": 1
         },
         "mode": "lines",
         "text": "58.49",
         "type": "scatter3d",
         "x": [
          240,
          294
         ],
         "y": [
          283,
          291
         ],
         "z": [
          483,
          462
         ]
        },
        {
         "hoverinfo": "text",
         "line": {
          "color": "rgba(128, 128, 128, 0.4)",
          "width": 1
         },
         "mode": "lines",
         "text": "12.37",
         "type": "scatter3d",
         "x": [
          294,
          292
         ],
         "y": [
          291,
          284
         ],
         "z": [
          462,
          472
         ]
        },
        {
         "hoverinfo": "text",
         "line": {
          "color": "rgba(128, 128, 128, 0.4)",
          "width": 1
         },
         "mode": "lines",
         "text": "19.42",
         "type": "scatter3d",
         "x": [
          315,
          304
         ],
         "y": [
          339,
          339
         ],
         "z": [
          495,
          479
         ]
        },
        {
         "hoverinfo": "text",
         "line": {
          "color": "rgba(128, 128, 128, 0.4)",
          "width": 1
         },
         "mode": "lines",
         "text": "126.66",
         "type": "scatter3d",
         "x": [
          134,
          243
         ],
         "y": [
          296,
          317
         ],
         "z": [
          224,
          285
         ]
        },
        {
         "hoverinfo": "text",
         "line": {
          "color": "rgba(128, 128, 128, 0.4)",
          "width": 1
         },
         "mode": "lines",
         "text": "35.86",
         "type": "scatter3d",
         "x": [
          295,
          314
         ],
         "y": [
          341,
          355
         ],
         "z": [
          345,
          318
         ]
        }
       ],
       "layout": {
        "margin": {
         "b": 0,
         "l": 0,
         "r": 0,
         "t": 0
        },
        "scene": {
         "domain": {
          "x": [
           0,
           1
          ],
          "y": [
           0,
           1
          ]
         },
         "xaxis": {
          "range": [
           0,
           726
          ]
         },
         "yaxis": {
          "range": [
           0,
           484
          ]
         },
         "zaxis": {
          "range": [
           0,
           592
          ]
         }
        },
        "template": {
         "data": {
          "bar": [
           {
            "error_x": {
             "color": "#2a3f5f"
            },
            "error_y": {
             "color": "#2a3f5f"
            },
            "marker": {
             "line": {
              "color": "#E5ECF6",
              "width": 0.5
             },
             "pattern": {
              "fillmode": "overlay",
              "size": 10,
              "solidity": 0.2
             }
            },
            "type": "bar"
           }
          ],
          "barpolar": [
           {
            "marker": {
             "line": {
              "color": "#E5ECF6",
              "width": 0.5
             },
             "pattern": {
              "fillmode": "overlay",
              "size": 10,
              "solidity": 0.2
             }
            },
            "type": "barpolar"
           }
          ],
          "carpet": [
           {
            "aaxis": {
             "endlinecolor": "#2a3f5f",
             "gridcolor": "white",
             "linecolor": "white",
             "minorgridcolor": "white",
             "startlinecolor": "#2a3f5f"
            },
            "baxis": {
             "endlinecolor": "#2a3f5f",
             "gridcolor": "white",
             "linecolor": "white",
             "minorgridcolor": "white",
             "startlinecolor": "#2a3f5f"
            },
            "type": "carpet"
           }
          ],
          "choropleth": [
           {
            "colorbar": {
             "outlinewidth": 0,
             "ticks": ""
            },
            "type": "choropleth"
           }
          ],
          "contour": [
           {
            "colorbar": {
             "outlinewidth": 0,
             "ticks": ""
            },
            "colorscale": [
             [
              0,
              "#0d0887"
             ],
             [
              0.1111111111111111,
              "#46039f"
             ],
             [
              0.2222222222222222,
              "#7201a8"
             ],
             [
              0.3333333333333333,
              "#9c179e"
             ],
             [
              0.4444444444444444,
              "#bd3786"
             ],
             [
              0.5555555555555556,
              "#d8576b"
             ],
             [
              0.6666666666666666,
              "#ed7953"
             ],
             [
              0.7777777777777778,
              "#fb9f3a"
             ],
             [
              0.8888888888888888,
              "#fdca26"
             ],
             [
              1,
              "#f0f921"
             ]
            ],
            "type": "contour"
           }
          ],
          "contourcarpet": [
           {
            "colorbar": {
             "outlinewidth": 0,
             "ticks": ""
            },
            "type": "contourcarpet"
           }
          ],
          "heatmap": [
           {
            "colorbar": {
             "outlinewidth": 0,
             "ticks": ""
            },
            "colorscale": [
             [
              0,
              "#0d0887"
             ],
             [
              0.1111111111111111,
              "#46039f"
             ],
             [
              0.2222222222222222,
              "#7201a8"
             ],
             [
              0.3333333333333333,
              "#9c179e"
             ],
             [
              0.4444444444444444,
              "#bd3786"
             ],
             [
              0.5555555555555556,
              "#d8576b"
             ],
             [
              0.6666666666666666,
              "#ed7953"
             ],
             [
              0.7777777777777778,
              "#fb9f3a"
             ],
             [
              0.8888888888888888,
              "#fdca26"
             ],
             [
              1,
              "#f0f921"
             ]
            ],
            "type": "heatmap"
           }
          ],
          "heatmapgl": [
           {
            "colorbar": {
             "outlinewidth": 0,
             "ticks": ""
            },
            "colorscale": [
             [
              0,
              "#0d0887"
             ],
             [
              0.1111111111111111,
              "#46039f"
             ],
             [
              0.2222222222222222,
              "#7201a8"
             ],
             [
              0.3333333333333333,
              "#9c179e"
             ],
             [
              0.4444444444444444,
              "#bd3786"
             ],
             [
              0.5555555555555556,
              "#d8576b"
             ],
             [
              0.6666666666666666,
              "#ed7953"
             ],
             [
              0.7777777777777778,
              "#fb9f3a"
             ],
             [
              0.8888888888888888,
              "#fdca26"
             ],
             [
              1,
              "#f0f921"
             ]
            ],
            "type": "heatmapgl"
           }
          ],
          "histogram": [
           {
            "marker": {
             "pattern": {
              "fillmode": "overlay",
              "size": 10,
              "solidity": 0.2
             }
            },
            "type": "histogram"
           }
          ],
          "histogram2d": [
           {
            "colorbar": {
             "outlinewidth": 0,
             "ticks": ""
            },
            "colorscale": [
             [
              0,
              "#0d0887"
             ],
             [
              0.1111111111111111,
              "#46039f"
             ],
             [
              0.2222222222222222,
              "#7201a8"
             ],
             [
              0.3333333333333333,
              "#9c179e"
             ],
             [
              0.4444444444444444,
              "#bd3786"
             ],
             [
              0.5555555555555556,
              "#d8576b"
             ],
             [
              0.6666666666666666,
              "#ed7953"
             ],
             [
              0.7777777777777778,
              "#fb9f3a"
             ],
             [
              0.8888888888888888,
              "#fdca26"
             ],
             [
              1,
              "#f0f921"
             ]
            ],
            "type": "histogram2d"
           }
          ],
          "histogram2dcontour": [
           {
            "colorbar": {
             "outlinewidth": 0,
             "ticks": ""
            },
            "colorscale": [
             [
              0,
              "#0d0887"
             ],
             [
              0.1111111111111111,
              "#46039f"
             ],
             [
              0.2222222222222222,
              "#7201a8"
             ],
             [
              0.3333333333333333,
              "#9c179e"
             ],
             [
              0.4444444444444444,
              "#bd3786"
             ],
             [
              0.5555555555555556,
              "#d8576b"
             ],
             [
              0.6666666666666666,
              "#ed7953"
             ],
             [
              0.7777777777777778,
              "#fb9f3a"
             ],
             [
              0.8888888888888888,
              "#fdca26"
             ],
             [
              1,
              "#f0f921"
             ]
            ],
            "type": "histogram2dcontour"
           }
          ],
          "mesh3d": [
           {
            "colorbar": {
             "outlinewidth": 0,
             "ticks": ""
            },
            "type": "mesh3d"
           }
          ],
          "parcoords": [
           {
            "line": {
             "colorbar": {
              "outlinewidth": 0,
              "ticks": ""
             }
            },
            "type": "parcoords"
           }
          ],
          "pie": [
           {
            "automargin": true,
            "type": "pie"
           }
          ],
          "scatter": [
           {
            "fillpattern": {
             "fillmode": "overlay",
             "size": 10,
             "solidity": 0.2
            },
            "type": "scatter"
           }
          ],
          "scatter3d": [
           {
            "line": {
             "colorbar": {
              "outlinewidth": 0,
              "ticks": ""
             }
            },
            "marker": {
             "colorbar": {
              "outlinewidth": 0,
              "ticks": ""
             }
            },
            "type": "scatter3d"
           }
          ],
          "scattercarpet": [
           {
            "marker": {
             "colorbar": {
              "outlinewidth": 0,
              "ticks": ""
             }
            },
            "type": "scattercarpet"
           }
          ],
          "scattergeo": [
           {
            "marker": {
             "colorbar": {
              "outlinewidth": 0,
              "ticks": ""
             }
            },
            "type": "scattergeo"
           }
          ],
          "scattergl": [
           {
            "marker": {
             "colorbar": {
              "outlinewidth": 0,
              "ticks": ""
             }
            },
            "type": "scattergl"
           }
          ],
          "scattermapbox": [
           {
            "marker": {
             "colorbar": {
              "outlinewidth": 0,
              "ticks": ""
             }
            },
            "type": "scattermapbox"
           }
          ],
          "scatterpolar": [
           {
            "marker": {
             "colorbar": {
              "outlinewidth": 0,
              "ticks": ""
             }
            },
            "type": "scatterpolar"
           }
          ],
          "scatterpolargl": [
           {
            "marker": {
             "colorbar": {
              "outlinewidth": 0,
              "ticks": ""
             }
            },
            "type": "scatterpolargl"
           }
          ],
          "scatterternary": [
           {
            "marker": {
             "colorbar": {
              "outlinewidth": 0,
              "ticks": ""
             }
            },
            "type": "scatterternary"
           }
          ],
          "surface": [
           {
            "colorbar": {
             "outlinewidth": 0,
             "ticks": ""
            },
            "colorscale": [
             [
              0,
              "#0d0887"
             ],
             [
              0.1111111111111111,
              "#46039f"
             ],
             [
              0.2222222222222222,
              "#7201a8"
             ],
             [
              0.3333333333333333,
              "#9c179e"
             ],
             [
              0.4444444444444444,
              "#bd3786"
             ],
             [
              0.5555555555555556,
              "#d8576b"
             ],
             [
              0.6666666666666666,
              "#ed7953"
             ],
             [
              0.7777777777777778,
              "#fb9f3a"
             ],
             [
              0.8888888888888888,
              "#fdca26"
             ],
             [
              1,
              "#f0f921"
             ]
            ],
            "type": "surface"
           }
          ],
          "table": [
           {
            "cells": {
             "fill": {
              "color": "#EBF0F8"
             },
             "line": {
              "color": "white"
             }
            },
            "header": {
             "fill": {
              "color": "#C8D4E3"
             },
             "line": {
              "color": "white"
             }
            },
            "type": "table"
           }
          ]
         },
         "layout": {
          "annotationdefaults": {
           "arrowcolor": "#2a3f5f",
           "arrowhead": 0,
           "arrowwidth": 1
          },
          "autotypenumbers": "strict",
          "coloraxis": {
           "colorbar": {
            "outlinewidth": 0,
            "ticks": ""
           }
          },
          "colorscale": {
           "diverging": [
            [
             0,
             "#8e0152"
            ],
            [
             0.1,
             "#c51b7d"
            ],
            [
             0.2,
             "#de77ae"
            ],
            [
             0.3,
             "#f1b6da"
            ],
            [
             0.4,
             "#fde0ef"
            ],
            [
             0.5,
             "#f7f7f7"
            ],
            [
             0.6,
             "#e6f5d0"
            ],
            [
             0.7,
             "#b8e186"
            ],
            [
             0.8,
             "#7fbc41"
            ],
            [
             0.9,
             "#4d9221"
            ],
            [
             1,
             "#276419"
            ]
           ],
           "sequential": [
            [
             0,
             "#0d0887"
            ],
            [
             0.1111111111111111,
             "#46039f"
            ],
            [
             0.2222222222222222,
             "#7201a8"
            ],
            [
             0.3333333333333333,
             "#9c179e"
            ],
            [
             0.4444444444444444,
             "#bd3786"
            ],
            [
             0.5555555555555556,
             "#d8576b"
            ],
            [
             0.6666666666666666,
             "#ed7953"
            ],
            [
             0.7777777777777778,
             "#fb9f3a"
            ],
            [
             0.8888888888888888,
             "#fdca26"
            ],
            [
             1,
             "#f0f921"
            ]
           ],
           "sequentialminus": [
            [
             0,
             "#0d0887"
            ],
            [
             0.1111111111111111,
             "#46039f"
            ],
            [
             0.2222222222222222,
             "#7201a8"
            ],
            [
             0.3333333333333333,
             "#9c179e"
            ],
            [
             0.4444444444444444,
             "#bd3786"
            ],
            [
             0.5555555555555556,
             "#d8576b"
            ],
            [
             0.6666666666666666,
             "#ed7953"
            ],
            [
             0.7777777777777778,
             "#fb9f3a"
            ],
            [
             0.8888888888888888,
             "#fdca26"
            ],
            [
             1,
             "#f0f921"
            ]
           ]
          },
          "colorway": [
           "#636efa",
           "#EF553B",
           "#00cc96",
           "#ab63fa",
           "#FFA15A",
           "#19d3f3",
           "#FF6692",
           "#B6E880",
           "#FF97FF",
           "#FECB52"
          ],
          "font": {
           "color": "#2a3f5f"
          },
          "geo": {
           "bgcolor": "white",
           "lakecolor": "white",
           "landcolor": "#E5ECF6",
           "showlakes": true,
           "showland": true,
           "subunitcolor": "white"
          },
          "hoverlabel": {
           "align": "left"
          },
          "hovermode": "closest",
          "mapbox": {
           "style": "light"
          },
          "paper_bgcolor": "white",
          "plot_bgcolor": "#E5ECF6",
          "polar": {
           "angularaxis": {
            "gridcolor": "white",
            "linecolor": "white",
            "ticks": ""
           },
           "bgcolor": "#E5ECF6",
           "radialaxis": {
            "gridcolor": "white",
            "linecolor": "white",
            "ticks": ""
           }
          },
          "scene": {
           "xaxis": {
            "backgroundcolor": "#E5ECF6",
            "gridcolor": "white",
            "gridwidth": 2,
            "linecolor": "white",
            "showbackground": true,
            "ticks": "",
            "zerolinecolor": "white"
           },
           "yaxis": {
            "backgroundcolor": "#E5ECF6",
            "gridcolor": "white",
            "gridwidth": 2,
            "linecolor": "white",
            "showbackground": true,
            "ticks": "",
            "zerolinecolor": "white"
           },
           "zaxis": {
            "backgroundcolor": "#E5ECF6",
            "gridcolor": "white",
            "gridwidth": 2,
            "linecolor": "white",
            "showbackground": true,
            "ticks": "",
            "zerolinecolor": "white"
           }
          },
          "shapedefaults": {
           "line": {
            "color": "#2a3f5f"
           }
          },
          "ternary": {
           "aaxis": {
            "gridcolor": "white",
            "linecolor": "white",
            "ticks": ""
           },
           "baxis": {
            "gridcolor": "white",
            "linecolor": "white",
            "ticks": ""
           },
           "bgcolor": "#E5ECF6",
           "caxis": {
            "gridcolor": "white",
            "linecolor": "white",
            "ticks": ""
           }
          },
          "title": {
           "x": 0.05
          },
          "xaxis": {
           "automargin": true,
           "gridcolor": "white",
           "linecolor": "white",
           "ticks": "",
           "title": {
            "standoff": 15
           },
           "zerolinecolor": "white",
           "zerolinewidth": 2
          },
          "yaxis": {
           "automargin": true,
           "gridcolor": "white",
           "linecolor": "white",
           "ticks": "",
           "title": {
            "standoff": 15
           },
           "zerolinecolor": "white",
           "zerolinewidth": 2
          }
         }
        }
       }
      }
     },
     "metadata": {},
     "output_type": "display_data"
    }
   ],
   "source": [
    "#16 Plot-2 Interactive 3D-2!: Check #Clusters: Show Cycles in Red >> Edges: {Red=InCycle, Grey=Else}, Nodes: {Grey}#{Red=Leaf, Blue=Else}\n",
    "\n",
    "fig = make_subplots(rows=1, cols=1, specs=[[{'type': 'scatter3d'}]])\n",
    "x, y, z = zip(*graph.nodes)\n",
    "\n",
    "leaf_nodes = [node for node, degree in graph.degree if degree == 1]\n",
    "\n",
    "node_trace = go.Scatter3d(\n",
    "    x=x,\n",
    "    y=y,\n",
    "    z=z,\n",
    "    mode='markers',\n",
    "    marker=dict(\n",
    "        size=2,\n",
    "        color='grey', #['red' if node in leaf_nodes else 'blue' for node in graph.nodes()], # 'grey',\n",
    "        opacity=0.1 #0.8\n",
    "    )\n",
    ")\n",
    "fig.add_trace(node_trace)\n",
    "\n",
    "for edge in graph.edges():\n",
    "    x0, y0, z0 = edge[0]\n",
    "    x1, y1, z1 = edge[1]\n",
    "    \n",
    "    edge_length = graph.edges[edge]['edge_length']\n",
    "    edge_text = f'{edge_length:.2f}'  # Display the edge length as text\n",
    "    \n",
    "    edge_is_in_a_cycle = [edge[0],edge[1]] in EdgesInCycles or [edge[1],edge[0]] in EdgesInCycles\n",
    "    \n",
    "    edge_trace = go.Scatter3d(\n",
    "        x=[x0, x1],\n",
    "        y=[y0, y1],\n",
    "        z=[z0, z1],\n",
    "        mode='lines',\n",
    "        line=dict(color='rgba(255, 0, 0, 0.8)' if edge_is_in_a_cycle else 'rgba(128, 128, 128, 0.4)',\n",
    "            width=8 if edge_is_in_a_cycle else 1),\n",
    "        hoverinfo='text',\n",
    "        text=edge_text\n",
    "    )\n",
    "    fig.add_trace(edge_trace)\n",
    "\n",
    "fig.update_layout(\n",
    "    margin=dict(l=0, r=0, b=0, t=0),\n",
    "    scene=dict(\n",
    "        xaxis=dict(range=[0, max(x) + 1]),\n",
    "        yaxis=dict(range=[0, max(y) + 1]),\n",
    "        zaxis=dict(range=[0, max(z) + 1])\n",
    "    )\n",
    ")\n",
    "\n",
    "fig.show()"
   ]
  },
  {
   "cell_type": "code",
   "execution_count": 88,
   "metadata": {},
   "outputs": [
    {
     "name": "stdout",
     "output_type": "stream",
     "text": [
      "\n",
      "Overall 0 nodes in CxNodesList\n"
     ]
    }
   ],
   "source": [
    "#17 Create the nodes list of the complex cycle: Works only for one complex cluster!\n",
    "\n",
    "CxNodesList = [] # Complex nodes list\n",
    "NodeIndex = 0\n",
    "for edge in EdgesInCycles: ############### EdgesInCycles should be adjusted for other scenarios! ***\n",
    "    for i in [0,1]:\n",
    "        CurrentNode = edge[i]\n",
    "        if CurrentNode not in CxNodesList:\n",
    "            CxNodesList.append(CurrentNode)\n",
    "            print(f'Node[{NodeIndex}]: Appended {CurrentNode} to CxNodesList')\n",
    "            NodeIndex += 1\n",
    "            \n",
    "print(f'\\nOverall {len(CxNodesList)} nodes in CxNodesList')"
   ]
  },
  {
   "cell_type": "code",
   "execution_count": 89,
   "metadata": {},
   "outputs": [],
   "source": [
    "#18 Specify n_clusters and get the clusters as separate lists $$$ n_clusters (judge visually and from code block above)\n",
    "# NO NEED TO RUN CODE BLOCK 18-20 IF 0 NODES IN \"CxNodesList\"\n",
    "\n",
    "if CxNodesList: # If not empty, do ..\n",
    "\n",
    "    from sklearn.cluster import KMeans # pip install scikit-learn\n",
    "\n",
    "    # Convert the list of 3-tuples to a NumPy array for K-Means clustering\n",
    "    data = np.array(CxNodesList)\n",
    "\n",
    "    # Specify the number of clusters (in this case, 3 clusters)\n",
    "    # n_clusters = 1\n",
    "    winsound.Beep(frequency, duration)\n",
    "    n_clusters = int(input(\"Please enter the number of clusters: [Cell-18>>Cell-16]: \"))\n",
    "\n",
    "    # Perform K-Means clustering\n",
    "    kmeans = KMeans(n_clusters=n_clusters, n_init=10)  # You can set n_init to any desired value\n",
    "    kmeans.fit(data)\n",
    "\n",
    "    # Get the cluster labels for each data point\n",
    "    cluster_labels = kmeans.labels_\n",
    "\n",
    "    # Initialize empty lists for each cluster\n",
    "    clusters = [[] for _ in range(n_clusters)]\n",
    "\n",
    "    # Organize data points into clusters based on labels\n",
    "    for i, label in enumerate(cluster_labels):\n",
    "        clusters[label].append(CxNodesList[i])\n",
    "\n",
    "    # Print the clusters\n",
    "    for i, cluster in enumerate(clusters):\n",
    "        print(f\"Cluster {i + 1}:\", cluster)"
   ]
  },
  {
   "cell_type": "code",
   "execution_count": 90,
   "metadata": {},
   "outputs": [],
   "source": [
    "#19 Function: Resolves the complex cycles for one cluster: Changes the graph! Works only once!\n",
    "\n",
    "def ResolveComplexCluster(CxNodesCluster, graph):\n",
    "\n",
    "    # List the neighbors that lie outside the cx-cycle\n",
    "    OuterNeighbors = []\n",
    "    print(\"Outer Neighbors:\")\n",
    "    for node in CxNodesCluster:\n",
    "        for neighbor in graph.neighbors(node):\n",
    "            if neighbor not in CxNodesCluster and neighbor not in OuterNeighbors:\n",
    "                OuterNeighbors.append(neighbor)\n",
    "                print(neighbor)\n",
    "\n",
    "    # Print the cx-cycle\n",
    "    print(\"\\nCx-Cycle:\")\n",
    "    for node in CxNodesCluster:\n",
    "        print(node)\n",
    "\n",
    "    # Takes the Cx-Nodes and forms their average\n",
    "    # CxNodesList: List of n 3-tuples  # n: Number of Cx Nodes  # After zip becomes 3 x ntuple\n",
    "    NewAverageNode = tuple([round(sum(ntuple)/len(ntuple)) for ntuple in zip(*CxNodesCluster)])\n",
    "    print('\\nNewAverageNode:')\n",
    "    print(NewAverageNode)\n",
    "\n",
    "    # If NewAverageNode not on the skeleton, go to its neighborhood and find the nearest voxel that lies on the skeleton:\n",
    "    if skeleton[*NewAverageNode] == 0:\n",
    "        print(f\"NewAverageNode {NewAverageNode} not on the skeleton.\")\n",
    "        xxna, yyna, zzna = NewAverageNode\n",
    "        success = False\n",
    "        NeighbrhdSize = 3\n",
    "        while success == False:\n",
    "            print(f\"Searching neighborhood {NeighbrhdSize}\")\n",
    "            lowerbnd = -(NeighbrhdSize//2)\n",
    "            upperbnd =  (NeighbrhdSize//2) + 1\n",
    "            neighbors = [(i, j, k) for i in range(lowerbnd, upperbnd) for j in range(lowerbnd, upperbnd) for k in range(lowerbnd, upperbnd)]\n",
    "            neighbors.remove((0,0,0))\n",
    "            for neighbor_offset in neighbors:\n",
    "                nnx, nny, nnz = xxna + neighbor_offset[0], yyna + neighbor_offset[1], zzna + neighbor_offset[2]\n",
    "                if 0 <= nnx < skeleton.shape[0] and 0 <= nny < skeleton.shape[1] and 0 <= nnz < skeleton.shape[2]:\n",
    "                    if skeleton[nnx, nny, nnz] != 0:\n",
    "                        NewAverageNode = (nnx, nny, nnz)\n",
    "                        print(f\"Adjusted the NewAverageNode to {NewAverageNode}\")\n",
    "                        success = True\n",
    "                        break            \n",
    "            NeighbrhdSize += 2\n",
    "\n",
    "    # Now remove the old nodes in cx-cycle\n",
    "    for node in CxNodesCluster:\n",
    "        graph.remove_node(node)\n",
    "    print(f'\\nRemoved the {len(CxNodesCluster)} nodes in cx-cycle')\n",
    "\n",
    "    # Add the new average node\n",
    "    graph.add_node(NewAverageNode)\n",
    "    print('Added new average node')\n",
    "\n",
    "    # Make the new edges/connections\n",
    "    for node in OuterNeighbors:\n",
    "        graph.add_edge(node, NewAverageNode)\n",
    "    print('Added the final edges\\n')\n",
    "\n",
    "    UpdateEdgeLengths(graph)\n",
    "    print_stats(graph)\n",
    "    print()\n",
    "\n",
    "    ReFindAndPrintLength3Cycles(graph)"
   ]
  },
  {
   "cell_type": "code",
   "execution_count": 91,
   "metadata": {},
   "outputs": [],
   "source": [
    "#20 Execute: Resolve all clusters:\n",
    "\n",
    "if CxNodesList: # If not empty, do ..\n",
    "    for cluster in clusters:\n",
    "        ResolveComplexCluster(cluster, graph)"
   ]
  },
  {
   "cell_type": "code",
   "execution_count": 92,
   "metadata": {},
   "outputs": [
    {
     "name": "stdout",
     "output_type": "stream",
     "text": [
      "Number of Nodes: 240\n",
      "Number of Edges: 239\n",
      "\n",
      "This could be a tree.\n"
     ]
    }
   ],
   "source": [
    "#21 Check if it could be a tree:\n",
    "\n",
    "def CheckBeingATree():\n",
    "\n",
    "    num_nodes = nx.number_of_nodes(graph)\n",
    "    num_edges = nx.number_of_edges(graph)\n",
    "\n",
    "    print(\"Number of Nodes:\", num_nodes)\n",
    "    print(\"Number of Edges:\", num_edges)\n",
    "\n",
    "    if num_nodes != num_edges + 1: print(\"\\nThis is not a tree: #nodes != #edges + 1\")\n",
    "    if num_nodes == num_edges + 1: print(\"\\nThis could be a tree.\")\n",
    "\n",
    "CheckBeingATree()"
   ]
  },
  {
   "cell_type": "code",
   "execution_count": 93,
   "metadata": {},
   "outputs": [
    {
     "name": "stdout",
     "output_type": "stream",
     "text": [
      "How many small edges inside: 12\n"
     ]
    }
   ],
   "source": [
    "#21-1 To simplify tree further: Set and visualize SmallInsideEdges, to be removed: Displayed red:\n",
    "\n",
    "UpdateEdgeLengths(graph)\n",
    "\n",
    "# Case-79 root: (480, 196 , 396)\n",
    "# leaf_nodes = [node for node, degree in graph.degree if degree == 1]\n",
    "\n",
    "# size=[6 if node in leaf_nodes else 2 for node in graph.nodes()],\n",
    "# color=['black' if node in leaf_nodes else 'grey' for node in graph.nodes()], # 'grey',\n",
    "# edge_length = graph.edges[edge]['edge_length']\n",
    "# SpecialCondition = edge_length < 10\n",
    "# line=dict(color='rgba(255, 0, 0, 0.6)' if SpecialCondition else 'rgba(128, 128, 128, 0.6)',\n",
    "#             width=6 if SpecialCondition else 2),\n",
    "\n",
    "fig = mlab.figure(size=(2500, 1400), bgcolor=(1, 1, 1))\n",
    "\n",
    "x, y, z = zip(*graph.nodes)\n",
    "mlab.points3d(x, y, z, scale_factor=2, color=(0.2, 0.2, 0.2), opacity=0.7) # color=(1, 0, 0)\n",
    "\n",
    "# Find all terminal edges smaller than LengthThreshold and deeper than InsideMargin\n",
    "InsideMargin = 14\n",
    "LengthThreshold = 14\n",
    "SmallInsideEdges = [edge for edge in graph.edges if\n",
    "                   (graph.degree(edge[0]) == 1 or graph.degree(edge[1]) == 1) and\n",
    "                   (graph.edges[edge]['edge_length'] < LengthThreshold) and\n",
    "\n",
    "                   ((graph.degree(edge[0]) == 1 and distance_transform[*edge[0]]>InsideMargin) or\n",
    "                    (graph.degree(edge[1]) == 1 and distance_transform[*edge[1]]>InsideMargin))\n",
    "                ]\n",
    "\n",
    "print(f\"How many small edges inside: {len(SmallInsideEdges)}\")\n",
    "\n",
    "# Create lines for edges\n",
    "for edge in graph.edges:\n",
    "    src, tgt = edge\n",
    "    x = [src[0], tgt[0]]\n",
    "    y = [src[1], tgt[1]]\n",
    "    z = [src[2], tgt[2]]\n",
    "    mlab.plot3d(x, y, z, tube_radius=0.2,\n",
    "                color=(1, 0, 0) if edge in SmallInsideEdges else (0.2, 0.2, 0.2),#(0.2, 0.2, 0.2),\n",
    "                opacity=0.7)\n",
    "\n",
    "# Create contour for the 3D object\n",
    "mlab.contour3d(atree, contours=[0.5], opacity=0.2, color=(0, 151/255, 206/255))\n",
    "\n",
    "winsound.Beep(frequency, duration)\n",
    "mlab.show()"
   ]
  },
  {
   "cell_type": "code",
   "execution_count": 94,
   "metadata": {},
   "outputs": [],
   "source": [
    "#21-2 Keep another copy of the graph:\n",
    "\n",
    "graphintact2 = copy.deepcopy(graph)\n",
    "skeletonintact2 = copy.deepcopy(skeleton)\n",
    "\n",
    "#RR To refresh your graph once it's messed below, come back to this:\n",
    "# graph = copy.deepcopy(graphintact2)\n",
    "# skeleton = copy.deepcopy(skeletonintact2)"
   ]
  },
  {
   "cell_type": "code",
   "execution_count": 95,
   "metadata": {},
   "outputs": [],
   "source": [
    "#22 Function: Traverse edge and calculate average diameter function, given endpoint indices and skeleton *\n",
    "\n",
    "import numpy as np\n",
    "import copy\n",
    "import random\n",
    "import time\n",
    "\n",
    "def traverse_edge_and_average(skeletonn, edt, index1, index2, EdgeNum): # edt: eucledean distance transform\n",
    "\n",
    "    global verbose\n",
    "    global StartTime\n",
    "    \n",
    "    # normalize_vector = lambda vec: vec / np.linalg.norm(vec)\n",
    "    if verbose: print(f\"Trying to go from {index1} to {index2}\")\n",
    "\n",
    "    # Define the neighborhood offsets for 3D traversal (26-connected)\n",
    "    neighbors = [(i, j, k) for i in range(-1, 2) for j in range(-1, 2) for k in range(-1, 2)]\n",
    "    neighbors.remove((0,0,0))\n",
    "    \n",
    "    average_diameter = None\n",
    "    timestried = 0\n",
    "    while average_diameter == None and timestried < 2000:\n",
    "\n",
    "        # Initialize variables to store diameter values and count\n",
    "        if verbose: print(f\"Attempt {timestried+1}: \", end='')\n",
    "        skeletonnn = copy.deepcopy(skeletonn)\n",
    "        diameter_sum = 0.0\n",
    "        count = 0\n",
    "\n",
    "        # Start traversal at index1\n",
    "        current_index = index1\n",
    "        visitedvoxels = []\n",
    "\n",
    "        while current_index != index2:\n",
    "\n",
    "            # print(\"current_index:\", current_index) # Great for debugging\n",
    "\n",
    "            if current_index == None: break\n",
    "            visitedvoxels.append(current_index)\n",
    "\n",
    "            # Get the current voxel's coordinates\n",
    "            x, y, z = current_index\n",
    "\n",
    "            # Check if the current voxel is within the skeleton and within bounds\n",
    "            if 0 <= x < skeletonnn.shape[0] and 0 <= y < skeletonnn.shape[1] and 0 <= z < skeletonnn.shape[2]:\n",
    "                if skeletonnn[x, y, z] != 0:\n",
    "                    # If the current voxel is part of the skeleton, add its diameter to the sum\n",
    "                    diameter_sum += edt[x, y, z]\n",
    "                    count += 1\n",
    "\n",
    "                    # Mark the current voxel as visited (you can set it to 0 if necessary)\n",
    "                    skeletonnn[x, y, z] = 0  # Uncomment this line if you want to mark visited voxels\n",
    "                    \n",
    "                    max_alignment = float('-inf')\n",
    "                    next_index = None\n",
    "\n",
    "\n",
    "                    ## Logic to choose next voxel:\n",
    "\n",
    "                    # Logic-1: Deterministic:\n",
    "                    # for neighbor_offset in neighbors:\n",
    "                    #     nx, ny, nz = x + neighbor_offset[0], y + neighbor_offset[1], z + neighbor_offset[2]\n",
    "\n",
    "                    #     strghtdirectiont = tuple(np.array(index2) - np.array(current_index))\n",
    "                    #     strghtdirectionu = normalize_vector(strghtdirectiont)\n",
    "                    #     neighbor_offsetu = normalize_vector(neighbor_offset )\n",
    "                    #     currentalignment = np.dot(neighbor_offsetu, strghtdirectionu)\n",
    "                        \n",
    "                    #     if 0 <= nx < skeletonn.shape[0] and 0 <= ny < skeletonn.shape[1] and 0 <= nz < skeletonn.shape[2]:\n",
    "                    #         if skeletonn[nx, ny, nz] != 0 and currentalignment > max_alignment:\n",
    "                    #             max_alignment = currentalignment\n",
    "                    #             next_index = (nx, ny, nz)\n",
    "\n",
    "                    # Logic-2: Random walk:\n",
    "                    while True:\n",
    "                        if not any([skeletonnn[*tuple(np.array(current_index)+np.array(neigh))] for neigh in neighbors]): break\n",
    "                        neighbor_offset = random.choice(neighbors)\n",
    "                        nnx, nny, nnz = x + neighbor_offset[0], y + neighbor_offset[1], z + neighbor_offset[2]\n",
    "                        if 0 <= nnx < skeletonnn.shape[0] and 0 <= nny < skeletonnn.shape[1] and 0 <= nnz < skeletonnn.shape[2]:\n",
    "                            if skeletonnn[nnx, nny, nnz] != 0:\n",
    "                                next_index = (nnx, nny, nnz)\n",
    "                                break\n",
    "\n",
    "\n",
    "                    # Update the current index to the next voxel in the skeleton\n",
    "                    current_index = next_index\n",
    "                else:\n",
    "                    # If the current voxel is not part of the skeleton, stop the traversal\n",
    "                    break\n",
    "            else:\n",
    "                # If the current index is out of bounds, stop the traversal\n",
    "                break\n",
    "        \n",
    "        if current_index != index2:\n",
    "            if verbose: print(f\"Error! Couldn't get from {index1} to {index2}! Returned None.\")\n",
    "            pass\n",
    "\n",
    "        # Set the output\n",
    "        if count > 0 and current_index == index2:\n",
    "            average_diameter = diameter_sum / count\n",
    "\n",
    "        del skeletonnn\n",
    "        timestried += 1\n",
    "\n",
    "    if current_index == index2:\n",
    "        if verbose: print(f\"\\nDone. Got to {index2}\\n\")\n",
    "        pass\n",
    "\n",
    "    num_edges = nx.number_of_edges(graph)\n",
    "\n",
    "    try:\n",
    "        # Your statement or code that might raise an error goes here\n",
    "        print(f\"Edge #{EdgeNum:3}/{num_edges}; AvgDiam: {average_diameter:010.7f}; TimeElapsed: {(time.time() - StartTime):07.2f}\" + (\"\\n\" if verbose else \"\"))\n",
    "    except Exception as e:\n",
    "        # This block will execute if an error occurs\n",
    "        winsound.Beep(4000, 300)    \n",
    "    # print(f\"Edge #{EdgeNum:3}/{num_edges}; AvgDiam: {average_diameter:010.7f}; TimeElapsed: {(time.time() - StartTime):07.2f}\" + (\"\\n\" if verbose else \"\"))\n",
    "\n",
    "    return average_diameter, visitedvoxels"
   ]
  },
  {
   "cell_type": "code",
   "execution_count": 96,
   "metadata": {},
   "outputs": [
    {
     "name": "stdout",
     "output_type": "stream",
     "text": [
      "Removed all small edges inside the volume/ near the root.\n"
     ]
    }
   ],
   "source": [
    "#21-3 Given 'graph': Find and remove all edges in SmallInsideEdges: Changes the graph:\n",
    "# All terminal edges smaller than LengthThreshold and deeper than InsideMargin\n",
    "\n",
    "StartTime = time.time()\n",
    "\n",
    "visitedvoxelstot = []\n",
    "\n",
    "for indxe, edge in enumerate(SmallInsideEdges):\n",
    "\n",
    "    node1, node2 = edge\n",
    "\n",
    "    Node1IsOrWasDegree1 = graph.degree(node1)==1\n",
    "    \n",
    "    if graph.degree(node1)==1: graph.remove_node(node1)\n",
    "    if graph.degree(node2)==1: graph.remove_node(node2)\n",
    "\n",
    "    # TheDegree1Node = node1 if Node1IsOrWasDegree1 else node2\n",
    "    # NodeOnMainstem = node2 if Node1IsOrWasDegree1 else node1\n",
    "\n",
    "    # print(f\"Trying to remove from skeleton: {TheDegree1Node}->{NodeOnMainstem}\")\n",
    "\n",
    "    # skeletonn = copy.deepcopy(skeleton)\n",
    "    # avgdiam, visitedvoxels = traverse_edge_and_average(skeletonn, distance_transform, TheDegree1Node, NodeOnMainstem, 5)\n",
    "    # visitedvoxelstot.append(visitedvoxels)\n",
    "    # del skeletonn\n",
    "\n",
    "    # print(indxe)\n",
    "    # print(\"visitedvoxels:\", visitedvoxels)\n",
    "    # print()\n",
    "\n",
    "# for vxt in visitedvoxelstot:\n",
    "#     if len(vxt)>1:\n",
    "#         for vx in vxt:\n",
    "#             skeleton[*vx] = 0\n",
    "#             print(f\"deleted voxel: {vx}\")\n",
    "\n",
    "RemoveAndReconnectDegree2Nodes(graph)\n",
    "UpdateEdgeLengths(graph)\n",
    "\n",
    "print(\"Removed all small edges inside the volume/ near the root.\")\n",
    "# print(\"Removed skeleton voxels corresponding to small edges inside the volume/ near the root.\")"
   ]
  },
  {
   "cell_type": "code",
   "execution_count": 97,
   "metadata": {},
   "outputs": [
    {
     "name": "stdout",
     "output_type": "stream",
     "text": [
      "Automatically found root: (440, 222, 359)\n"
     ]
    }
   ],
   "source": [
    "#21-4 Automatically find the root:\n",
    "\n",
    "leaf_nodes = [node for node, degree in graph.degree if degree == 1]\n",
    "MaxDistance = -10\n",
    "root = []\n",
    "for node in leaf_nodes:\n",
    "    if distance_transform[node]>MaxDistance:\n",
    "        root = node\n",
    "        MaxDistance = distance_transform[node]\n",
    "\n",
    "print(\"Automatically found root:\", root)"
   ]
  },
  {
   "cell_type": "code",
   "execution_count": 98,
   "metadata": {},
   "outputs": [],
   "source": [
    "#21-5 Visualize: Verify the root is found correct:\n",
    "\n",
    "# size=[6 if node in leaf_nodes else 2 for node in graph.nodes()],\n",
    "# color=['black' if node in leaf_nodes else 'grey' for node in graph.nodes()], # 'grey',\n",
    "# line=dict(color='rgba(255, 0, 0, 0.6)' if SpecialCondition else 'rgba(128, 128, 128, 0.6)',\n",
    "#             width=6 if SpecialCondition else 2),\n",
    "\n",
    "fig = mlab.figure(size=(2500, 1400), bgcolor=(1, 1, 1))\n",
    "\n",
    "x, y, z = zip(*graph.nodes)\n",
    "mlab.points3d(x, y, z,\n",
    "              scale_factor=2,\n",
    "              color=(0.2, 0.2, 0.2), # ['red' if node == root else 'grey' for node in graph.nodes()]\n",
    "              opacity=0.7) # color=(1, 0, 0)\n",
    "\n",
    "#  Add the new node with a different scale_factor and color\n",
    "mlab.points3d(root[0], root[1], root[2],\n",
    "              scale_factor=14,  # Adjust the scale factor as needed\n",
    "              color=(1, 0, 0),  # Change color as desired (e.g., red)\n",
    "              opacity=0.7)\n",
    "\n",
    "# Create lines for edges\n",
    "# for edge in graph.edges:\n",
    "#     src, tgt = edge\n",
    "#     x = [src[0], tgt[0]]\n",
    "#     y = [src[1], tgt[1]]\n",
    "#     z = [src[2], tgt[2]]\n",
    "#     mlab.plot3d(x, y, z, tube_radius=0.2,\n",
    "#                 color=(1, 0, 0) if edge in SmallInsideEdges else (0.2, 0.2, 0.2),#(0.2, 0.2, 0.2),\n",
    "#                 opacity=0.7)\n",
    "\n",
    "# Create contour for the 3D object\n",
    "mlab.contour3d(atree, contours=[0.5], opacity=0.2, color=(0, 151/255, 206/255))\n",
    "\n",
    "winsound.Beep(frequency, duration)\n",
    "mlab.show()"
   ]
  },
  {
   "cell_type": "code",
   "execution_count": 99,
   "metadata": {},
   "outputs": [],
   "source": [
    "##23-2 Only test: traverse_edge_and_average for two points:\n",
    "\n",
    "# index1 = (423, 232, 374)\n",
    "# index2 = (412, 245, 380)\n",
    "\n",
    "# skeletonn = copy.deepcopy(skeleton)\n",
    "# avgdiam, visitedvoxels = traverse_edge_and_average(skeletonn, distance_transform, index1, index2, 5)\n",
    "# del skeletonn\n",
    "\n",
    "# if avgdiam is not None:\n",
    "#     print(f\"Average Diameter between {index1} and {index2}: {avgdiam:.2f}\")\n",
    "# else:\n",
    "#     print(\"No skeleton found between the specified indices.\")"
   ]
  },
  {
   "cell_type": "code",
   "execution_count": 100,
   "metadata": {},
   "outputs": [],
   "source": [
    "##23-3 Test: Use mayavi to visualize the intended start and end points, plus the taken route, from the above test cell:\n",
    "\n",
    "# import mayavi.mlab as mlab\n",
    "# import numpy as np\n",
    "\n",
    "# # Create a figure\n",
    "# fig = mlab.figure(size=(800, 800), bgcolor=(1, 1, 1))\n",
    "\n",
    "# # Plot the skeleton in blue (0 values will be transparent)\n",
    "# mlab.contour3d(skeleton, color=(0, 0, 1), opacity=0.4)\n",
    "\n",
    "# # Highlight the visited voxels in red\n",
    "# for voxel in visitedvoxels:\n",
    "#     # print(voxel)\n",
    "#     x, y, z = voxel\n",
    "#     mlab.points3d(x, y, z, color=(1, 0, 0), scale_factor=1.0) # , mode='sphere'\n",
    "\n",
    "# for voxel in [index1, index2]:\n",
    "#     # print(voxel)\n",
    "#     x, y, z = voxel\n",
    "#     mlab.points3d(x, y, z, color=(1, 0, 0), scale_factor=4.0) # , mode='sphere'\n",
    "\n",
    "# # Customize the view and axes as needed\n",
    "# mlab.view(azimuth=45, elevation=45, distance=20)\n",
    "# # mlab.axes()\n",
    "\n",
    "# # Show the visualization\n",
    "# mlab.show()"
   ]
  },
  {
   "cell_type": "code",
   "execution_count": null,
   "metadata": {},
   "outputs": [],
   "source": [
    "#24 Main function calling the traverse function: $$$ root = () or Enter !!**\n",
    "# input_string = '(480, 196, 396)'\n",
    "\n",
    "# Fucntion: fully traverse the directed tree visiting all edges:\n",
    "def traverse_full_tree(digraph, current_node):\n",
    "    global EdgeNum\n",
    "    # Find and process the outgoing edges from the current node\n",
    "    for successor in digraph.successors(current_node):\n",
    "        # Run the FindDiameter function for the current edge\n",
    "        digraph[current_node][successor]['AvgDiameter'] = FindDiameter(current_node, successor, EdgeNum)\n",
    "        EdgeNum += 1\n",
    "        # Recursively traverse the tree from the successor node\n",
    "        traverse_full_tree(digraph, successor)\n",
    "\n",
    "def FindDiameter(node1, node2, EdgeNum):\n",
    "    # print(f\"Finding avg diameter btw nodes {node1} and {node2}\")\n",
    "    skeletonn = copy.deepcopy(skeleton)\n",
    "    avgdiam, visitedvoxels = traverse_edge_and_average(skeletonn, distance_transform, node1, node2, EdgeNum)\n",
    "    del skeletonn\n",
    "    return avgdiam\n",
    "\n",
    "# Main: Start the traversal from a specified root node:\n",
    "import time\n",
    "\n",
    "winsound.Beep(frequency, duration)\n",
    "user_input = input(\"If root was OK just press Enter; if not, enter the root: eg (100, 20, 18): [Cell-24>>Cell-16]: \")\n",
    "if user_input.strip() == \"\": # (436, 69, 207) for Case-53! # (480, 196 , 396) for Case-79\n",
    "    pass\n",
    "else:\n",
    "    root = eval(user_input)\n",
    "\n",
    "digraph = nx.dfs_tree(graph, source=root) # Create a directed graph starting from the specified root node\n",
    "StartTime = time.time()\n",
    "EdgeNum = 1\n",
    "traverse_full_tree(digraph, root)\n",
    "print('\\nDone.')\n",
    "\n",
    "# Example Error: Attempt 60: Error! Couldn't get from (477, 282, 383) to (466, 270, 425)! Returned None."
   ]
  },
  {
   "cell_type": "code",
   "execution_count": null,
   "metadata": {},
   "outputs": [],
   "source": [
    "#25 Get the first three edges and their properties as a reality check:\n",
    "\n",
    "print(\"Reality check: First 3 edges:\\n\")\n",
    "first_three_edges = list(digraph.edges(data=True))[:3]\n",
    "# Iterate through the first three edges and print their properties\n",
    "for edge in first_three_edges:\n",
    "    source, target, attributes = edge\n",
    "    print(f\"Edge ({source} -> {target}):\")\n",
    "    for key, value in attributes.items():\n",
    "        print(f\"  {key}: {value}\")\n",
    "    print(\"\")"
   ]
  },
  {
   "cell_type": "code",
   "execution_count": null,
   "metadata": {},
   "outputs": [],
   "source": [
    "#26 Strahler Analysis: Function+Call: Using DiGraphs: *\n",
    "\n",
    "import networkx as nx\n",
    "\n",
    "def StrahlerAnalysis(G): # G: The Tree DiGraph. Returns the edges.\n",
    "    \n",
    "    # Find the terminal edges (edges with no successors)\n",
    "    terminal_edges = [edge for edge in G.edges() if not any(G.successors(edge[1]))]\n",
    "    # Initialize the order for terminal edges as 1\n",
    "    for edge in G.edges():\n",
    "        if edge in terminal_edges: G[edge[0]][edge[1]]['order'] = 1\n",
    "        else: G[edge[0]][edge[1]]['order'] = 0\n",
    "\n",
    "    # Perform Strahler analysis starting from terminal edges\n",
    "    while True:\n",
    "\n",
    "        # Find all edges with the same order\n",
    "        edges_by_order = {}\n",
    "        for edge in G.edges():\n",
    "            order = G[edge[0]][edge[1]].get('order', 0)\n",
    "            if order not in edges_by_order:\n",
    "                edges_by_order[order] = []\n",
    "            edges_by_order[order].append(edge)\n",
    "\n",
    "        # If no more order 0, break\n",
    "        if 0 not in edges_by_order: break\n",
    "\n",
    "        # Only process edges with order = 0\n",
    "        for edge in edges_by_order[0]:\n",
    "            successors = list(G.successors(edge[1]))\n",
    "            SuccessorOrders = [G[edge[1]][successor]['order'] for successor in successors]\n",
    "            if not all(SuccessorOrders): continue # If any successor order is 0, skip to next edge\n",
    "            if len(successors) == 1: # If only one successor, inherit its order\n",
    "                G[edge[0]][edge[1]]['order'] = G[edge[1]][successors[0]]['order']\n",
    "            else: # So it's a bifurcation\n",
    "                MaxOrder = max(SuccessorOrders)\n",
    "                BinaryComparison = [int(ordr == MaxOrder) for ordr in SuccessorOrders]\n",
    "                # If more than 2 of the max then increment order\n",
    "                if sum(BinaryComparison)>=2: NextOrder = MaxOrder + 1\n",
    "                else: NextOrder = MaxOrder\n",
    "                G[edge[0]][edge[1]]['order'] = NextOrder\n",
    "\n",
    "    return G.edges(data=True)\n",
    "\n",
    "# Main:\n",
    "edgesresult = StrahlerAnalysis(digraph)\n",
    "for edge in edgesresult:\n",
    "    print(f\"Edge: {edge[0]} -> {edge[1]}, Order: {edge[2]['order']}\")"
   ]
  },
  {
   "cell_type": "code",
   "execution_count": null,
   "metadata": {},
   "outputs": [],
   "source": [
    "## 27 Plot-4 the DiGraph in 3D:\n",
    "\n",
    "# import networkx as nx\n",
    "# import plotly.graph_objects as go\n",
    "\n",
    "# G = digraph\n",
    "\n",
    "# # Extract node positions and order properties\n",
    "# node_positions = {node: node for node in G.nodes()}\n",
    "# edge_orders = nx.get_edge_attributes(G, 'order')\n",
    "\n",
    "# # Create a trace for nodes\n",
    "# node_trace = go.Scatter3d(\n",
    "#     x=[coord[0] for coord in node_positions],\n",
    "#     y=[coord[1] for coord in node_positions],\n",
    "#     z=[coord[2] for coord in node_positions],\n",
    "#     mode='markers',\n",
    "#     marker=dict(size=2, color='red'),\n",
    "#     text=[],\n",
    "#     hoverinfo='text'\n",
    "# )\n",
    "\n",
    "# # Create a list of edge traces\n",
    "# edge_traces = []\n",
    "# for edge, order in edge_orders.items():\n",
    "#     source, target = edge\n",
    "#     x1, y1, z1 = source\n",
    "#     x2, y2, z2 = target\n",
    "#     edge_traces.append(go.Scatter3d(\n",
    "#         x=[x1, x2],\n",
    "#         y=[y1, y2],\n",
    "#         z=[z1, z2],\n",
    "#         mode='lines+text',\n",
    "#         line=dict(width=4, color='grey'),\n",
    "#         text=f'{order}',\n",
    "#         hoverinfo='none',  # Disables hover info for edges\n",
    "#         textposition='top left'  # Position for the order text\n",
    "#     ))\n",
    "\n",
    "# # Create the 3D layout\n",
    "# layout = go.Layout(\n",
    "#     scene=dict(\n",
    "#         xaxis=dict(title='X'),\n",
    "#         yaxis=dict(title='Y'),\n",
    "#         zaxis=dict(title='Z'),\n",
    "#     ),\n",
    "#     margin=dict(l=0, r=0, b=0, t=0),\n",
    "# )\n",
    "\n",
    "# # Create the figure and add traces\n",
    "# fig = go.Figure(data=edge_traces + [node_trace], layout=layout)\n",
    "\n",
    "# # Show the interactive plot\n",
    "# fig.show()"
   ]
  },
  {
   "cell_type": "code",
   "execution_count": null,
   "metadata": {},
   "outputs": [],
   "source": [
    "#28 Statistics of edge orders and counts:\n",
    "\n",
    "from collections import defaultdict\n",
    "\n",
    "# Create a dictionary to count edges for each 'order'\n",
    "order_counts = defaultdict(int)\n",
    "# Count edges\n",
    "for u, v, data in digraph.edges(data=True):\n",
    "    order = data.get(\"order\", 0)\n",
    "    order_counts[order] += 1\n",
    "# Print the counts for each 'order' with keys sorted\n",
    "for order in sorted(order_counts.keys()):\n",
    "    count = order_counts[order]\n",
    "    print(f\"Order {order}: {count:3} edges\")"
   ]
  },
  {
   "cell_type": "code",
   "execution_count": 77,
   "metadata": {},
   "outputs": [],
   "source": [
    "#29 Add EdgeLength property to digraph edges:\n",
    "\n",
    "for edge in digraph.edges:\n",
    "    node1, node2 = edge\n",
    "    x1, y1, z1 = node1\n",
    "    x2, y2, z2 = node2\n",
    "    EdgeLength = np.sqrt((x2 - x1)**2 + (y2 - y1)**2 + (z2 - z1)**2)\n",
    "    digraph.edges[edge]['EdgeLength'] = EdgeLength"
   ]
  },
  {
   "cell_type": "code",
   "execution_count": 78,
   "metadata": {},
   "outputs": [],
   "source": [
    "#30 Save the graph and its properties to a file\n",
    "\n",
    "nx.write_graphml(digraph, GraphArtifactsFolderName + f\"/Case-{CaseNumber}-DiGraph.graphml\")\n",
    "\n",
    "# ## Save all workspace variables as well\n",
    "\n",
    "# # import pickle\n",
    "# workspace_variables = globals()\n",
    "# file_path = \"workspace_variables.pkl\"\n",
    "# with open(file_path, 'wb') as file:\n",
    "#     pickle.dump(workspace_variables, file)\n",
    "\n",
    "# with open(file_path, 'rb') as file:\n",
    "#     loaded_workspace_variables = pickle.load(file)\n",
    "\n",
    "# # Update the global namespace with the loaded variables\n",
    "# globals().update(loaded_workspace_variables)"
   ]
  },
  {
   "cell_type": "code",
   "execution_count": null,
   "metadata": {},
   "outputs": [],
   "source": [
    "#31 Final step: find edges with target order, calculate mean, and add results to excel file\n",
    "\n",
    "import openpyxl\n",
    "from openpyxl.styles import Font, Alignment\n",
    "\n",
    "font = Font(name='Courier New', size=11)\n",
    "alignment = Alignment(horizontal='center', vertical='center')\n",
    "\n",
    "# Find those edges\n",
    "OrdersPresent = order_counts.keys()\n",
    "Methods = {1 : [max(OrdersPresent)  , max(OrdersPresent)-2       , '[MX>MX-2]'],\n",
    "           2 : [max(OrdersPresent)  , max(OrdersPresent)-4       , '[MX>MX-4]'],\n",
    "           3 : [max(OrdersPresent)-1, max(OrdersPresent)-3       , '[MX-1>MX-3]'],\n",
    "           4 : [max(OrdersPresent)-1, max(1,max(OrdersPresent)-5), '[MX-1>MX-5|]'],\n",
    "           5 : [max(OrdersPresent)-2, min(OrdersPresent)         , '[MX-2>MN]'],\n",
    "           6 : [max(OrdersPresent)-2, min(OrdersPresent)+1       , '[MX-2>MN+1]'],\n",
    "           7 : [max(OrdersPresent)  , min(OrdersPresent)         , '[MX>MN]'],\n",
    "           8 : [min(OrdersPresent)  , min(OrdersPresent)         , '[MN>MN]'],\n",
    "           9 : [min(OrdersPresent)+1, min(OrdersPresent)         , '[MN+1>MN]'],\n",
    "           10: [min(OrdersPresent)+2, min(OrdersPresent)         , '[MN+2>MN]'],\n",
    "           11: [min(OrdersPresent)+3, min(OrdersPresent)+1       , '[MN+3>MN+1]']}\n",
    "\n",
    "# LowerOrder, HigherOrder = 4, 6\n",
    "# HigherOrder = max(order_counts.keys())\n",
    "# LowerOrder  = HigherOrder - 2 # -4\n",
    "\n",
    "excel_file_path = \"DiameterResults.xlsx\" # Open the existing Excel file\n",
    "workbook = openpyxl.load_workbook(excel_file_path)\n",
    "sheet = workbook.active # Select the first sheet\n",
    "last_row = sheet.max_row # Find the last row in the first column (assuming the first column contains data)\n",
    "new_row = last_row + 1 # Create a new row\n",
    "\n",
    "for MethodNum, MthdList in Methods.items():\n",
    "\n",
    "    HigherOrder = MthdList[0]\n",
    "    LowerOrder  = MthdList[1]\n",
    "    selected_edges = [(u, v, data) for u, v, data in digraph.edges(data=True) if LowerOrder <= data.get(\"order\", 0) <= HigherOrder]\n",
    "\n",
    "    # Print stats\n",
    "    # print(f\"Edges with order in range [{LowerOrder}, {HigherOrder}]:\\n\")\n",
    "    # for indx, (u, v, data) in enumerate(selected_edges):\n",
    "    #     print(f\"SelectedEdge-{indx+1:2}: {u} -> {v}; AvgDiameter = {data['AvgDiameter']:12.9f}; Order = {data['order']}; EdgeLength = {data['EdgeLength']:10.6f}\")\n",
    "\n",
    "    # Extract the 'AvgDiameter' values from the selected edges\n",
    "    avg_diameters = [data[\"AvgDiameter\"] for u, v, data in selected_edges]\n",
    "\n",
    "    # Calculate the geometric mean of 'AvgDiameter'\n",
    "    geometric_mean   = np.prod(avg_diameters) ** (1 / len(avg_diameters))\n",
    "    arithmetic_mean  = sum(avg_diameters) / len(avg_diameters)\n",
    "    geometric_mean  *= 2*0.38/10 # diameter - mm - cm\n",
    "    arithmetic_mean *= 2*0.38/10 # diameter - mm - cm\n",
    "\n",
    "    # print(f\"Geometric Mean of AvgDiameters: {geometric_mean} cm\")\n",
    "    # print(f\"Arithmetic Mean of AvgDiameters: {arithmetic_mean} cm\")\n",
    "\n",
    "    # Insert data into the new row\n",
    "    cell = sheet.cell(row=1      , column=1            , value='Case#'       ); cell.font = font; cell.alignment = alignment\n",
    "    cell = sheet.cell(row=new_row, column=1            , value=CaseNumber    ); cell.font = font; cell.alignment = alignment\n",
    "    cell = sheet.cell(row=1      , column=MethodNum*2  , value='GeomMean-'+MthdList[2]); cell.font = font; cell.alignment = alignment\n",
    "    cell = sheet.cell(row=new_row, column=MethodNum*2  , value=geometric_mean); cell.font = font; cell.alignment = alignment\n",
    "    cell = sheet.cell(row=1      , column=MethodNum*2+1, value='ArthMean-'+MthdList[2]); cell.font = font; cell.alignment = alignment\n",
    "    cell = sheet.cell(row=new_row, column=MethodNum*2+1, value=arithmetic_mean); cell.font = font; cell.alignment = alignment\n",
    "\n",
    "workbook.save(excel_file_path) # Save the Excel file\n",
    "workbook.close() # Close the Excel file\n",
    "\n",
    "winsound.Beep(1000, 3000)\n",
    "print(f\"Case#{CaseNumber}: Indices written to Excel sheet. All Done!\")"
   ]
  },
  {
   "cell_type": "code",
   "execution_count": null,
   "metadata": {},
   "outputs": [],
   "source": [
    "#32 Notes to address:\n",
    "\n",
    "# Case#58 has a cropped/cut MPA so that lowers the diameters\n",
    "# SmallInsideEdges are not removed in the first pass! [Next time they were!!!!][?!!] * Takes it twice to fully remove .. [Eg Case-18]\n",
    "# Case-18 has lots of nuisant small deep branches\n",
    "# Case-88: Not a tree [and a mess, both with clusters, and final edges]\n",
    "# Case-19: Obviously more tortuous than normal **\n",
    "# Case-11: 1 node isolated outside; not a tree\n",
    "# Case-6: MPA cut too short\n",
    "# Case-46: Seems like a smaller vessel/MPA-root, what does the dys say?!\n",
    "# Case-39: 7K cx-cycles!\n",
    "# Case-22:\n",
    "# Case-21: MPA OK but much shorter than others\n",
    "# Should also save the orders list in the excel file\n",
    "# Case-84: MPA has 20 nuisant edges .. impossible ..\n",
    "# Any uncircular MPA shape will lead to nuisant edges and then failure *** Including Case-50\n",
    "# Case-39: has 7K cx-cycles\n",
    "# Case-44: has 3K cx-cycles"
   ]
  },
  {
   "cell_type": "code",
   "execution_count": 88,
   "metadata": {},
   "outputs": [],
   "source": [
    "#33 Final visualization: [from cell-21-1]\n",
    "\n",
    "UpdateEdgeLengths(graph)\n",
    "\n",
    "fig = mlab.figure(size=(2500, 1400), bgcolor=(1, 1, 1))\n",
    "\n",
    "x, y, z = zip(*graph.nodes)\n",
    "mlab.points3d(x, y, z, scale_factor=2, color=(0.2, 0.2, 0.2), opacity=0.7) # color=(1, 0, 0)\n",
    "\n",
    "# Create lines for edges\n",
    "for edge in graph.edges:\n",
    "    src, tgt = edge\n",
    "    x = [src[0], tgt[0]]\n",
    "    y = [src[1], tgt[1]]\n",
    "    z = [src[2], tgt[2]]\n",
    "    mlab.plot3d(x, y, z, tube_radius=0.2,\n",
    "                color=(1, 0, 0) if edge in SmallInsideEdges else (0.2, 0.2, 0.2), #(0.2, 0.2, 0.2),\n",
    "                opacity=0.4)\n",
    "\n",
    "# Create contour for the 3D object\n",
    "mlab.contour3d(atree   , contours=[0.5], opacity=0.2, color=(0, 151/255, 206/255))\n",
    "\n",
    "mlab.contour3d(skeleton, contours=[0.5], opacity=0.4, color=(1, 0, 0))\n",
    "\n",
    "winsound.Beep(frequency, duration)\n",
    "mlab.show()"
   ]
  },
  {
   "cell_type": "code",
   "execution_count": null,
   "metadata": {},
   "outputs": [],
   "source": []
  },
  {
   "cell_type": "code",
   "execution_count": null,
   "metadata": {},
   "outputs": [],
   "source": [
    "#34 Partition into Segments\n",
    "# Partition the 3D A-Tree segment into fragments corresponding to edges:\n",
    "\n",
    "print(list(digraph.edges)[0])\n",
    "print(root)"
   ]
  },
  {
   "cell_type": "code",
   "execution_count": null,
   "metadata": {},
   "outputs": [],
   "source": [
    "### shortest_distance_to_skeleton: Original: Inefficient: Won't work\n",
    "\n",
    "def shortest_distance_to_skeleton(atree, skeleton):\n",
    "    skeleton_coords = np.argwhere(skeleton == 1)\n",
    "    output_array = np.zeros_like(atree, dtype=np.float32)\n",
    "\n",
    "    for x in range(atree.shape[0]):\n",
    "        for y in range(atree.shape[1]):\n",
    "            for z in range(atree.shape[2]):\n",
    "                if atree[x, y, z] == 1:\n",
    "                    min_dist = float('inf')\n",
    "                    for skel_x, skel_y, skel_z in skeleton_coords:\n",
    "                        dist = np.sqrt((x - skel_x)**2 + (y - skel_y)**2 + (z - skel_z)**2)\n",
    "                        if dist < min_dist:\n",
    "                            min_dist = dist\n",
    "                    output_array[x, y, z] = min_dist\n",
    "\n",
    "    return output_array\n",
    "\n",
    "output_array = shortest_distance_to_skeleton(atree, skeleton)\n",
    "print(output_array)"
   ]
  },
  {
   "cell_type": "code",
   "execution_count": null,
   "metadata": {},
   "outputs": [],
   "source": [
    "### Updated Distance Transfrom: Inefficient: Won't work\n",
    "# Changing the two variables [distnce_trans_2 & nearest_skeleton_coord] only on A-Tree:\n",
    "\n",
    "atreecoords = np.argwhere(atree == 1)\n",
    "skeleton_coords = np.argwhere(skeleton == 1)\n",
    "distnce_trans_2 = np.zeros_like(atree, dtype=np.float32)\n",
    "nearest_skeleton_coord = np.zeros((*np.shape(atree),3)) # Add a last dimension of 3\n",
    "\n",
    "for indx, (x, y, z) in enumerate(atreecoords):\n",
    "    if (indx % 200) == 0: print(indx)\n",
    "    min_dist = float('inf')\n",
    "    for skel_x, skel_y, skel_z in skeleton_coords:\n",
    "        dist = np.sqrt((x - skel_x)**2 + (y - skel_y)**2 + (z - skel_z)**2)\n",
    "        if dist < min_dist:\n",
    "            min_dist = dist\n",
    "            nearest_coords = skel_x, skel_y, skel_z\n",
    "    distnce_trans_2[x, y, z] = min_dist\n",
    "    nearest_skeleton_coord[x, y, z] = nearest_coords"
   ]
  },
  {
   "cell_type": "code",
   "execution_count": 25,
   "metadata": {},
   "outputs": [],
   "source": [
    "import numpy as np\n",
    "skeletoncoords = np.argwhere(skeleton == 1)"
   ]
  },
  {
   "cell_type": "code",
   "execution_count": 24,
   "metadata": {},
   "outputs": [],
   "source": [
    "atreegrwn, metadata = nrrd.read(\"GraphOutputSoheil\\Case-46-Final2Label-Atree15mmGrown.nrrd\")"
   ]
  },
  {
   "cell_type": "code",
   "execution_count": 26,
   "metadata": {},
   "outputs": [],
   "source": [
    "import copy\n",
    "atreegrwnhollow = copy.deepcopy(atreegrwn)"
   ]
  },
  {
   "cell_type": "code",
   "execution_count": 27,
   "metadata": {},
   "outputs": [],
   "source": [
    "for skcoord in skeletoncoords:\n",
    "    atreegrwnhollow[*skcoord] = 0\n",
    "# atreegrwn[skeletoncoords]\n",
    "# np.shape(skeletoncoords)\n",
    "# atreegrwn[*skeletoncoords[0:2]]"
   ]
  },
  {
   "cell_type": "code",
   "execution_count": 55,
   "metadata": {},
   "outputs": [
    {
     "name": "stdout",
     "output_type": "stream",
     "text": [
      "Doing the EDT ..\n"
     ]
    }
   ],
   "source": [
    "# Don't rerun .. Compute/Fetch Distance Transform\n",
    "\n",
    "from scipy.ndimage import distance_transform_edt\n",
    "EdtPathName = GraphArtifactsFolderName + f\"/T-Case-{CaseNumber}-EDT-15mmGrown.nrrd\"\n",
    "\n",
    "# Compute the distance transform\n",
    "print(\"Performing the EDT+Indices ..\")\n",
    "# (, distances=None, indices=None)\n",
    "manipulated_distance_transform, indices = distance_transform_edt(atreegrwnhollow, return_indices=True)\n",
    "\n",
    "# Or read it in\n",
    "# distance_transform, _ = nrrd.read(EdtPathName)"
   ]
  },
  {
   "cell_type": "code",
   "execution_count": 59,
   "metadata": {},
   "outputs": [],
   "source": [
    "MaskedEdt = manipulated_distance_transform * atree\n",
    "MaskedIndices = indices * np.stack((atree, atree, atree), axis=0)"
   ]
  },
  {
   "cell_type": "code",
   "execution_count": null,
   "metadata": {},
   "outputs": [],
   "source": [
    "### Saving .. Skip! Takes more than 10 minutes\n",
    "\n",
    "print(\"Writing EDT to file ..\")\n",
    "EdtPathName = GraphArtifactsFolderName + f\"/T-Case-{CaseNumber}-EDT-15mmGrown-Hollow.nrrd\"\n",
    "nrrd.write(EdtPathName, manipulated_distance_transform)\n",
    "print(\"Writing Indices to file ..\")\n",
    "EdtPathName = GraphArtifactsFolderName + f\"/T-Case-{CaseNumber}-EDT-15mmGrown-Hollow-Indices.nrrd\"\n",
    "nrrd.write(EdtPathName, indices)"
   ]
  },
  {
   "cell_type": "code",
   "execution_count": 54,
   "metadata": {},
   "outputs": [],
   "source": [
    "EdtPathName2 = GraphArtifactsFolderName + f\"/T-Case-{CaseNumber}-EDT-15mmGrown-Masked.nrrd\"\n",
    "nrrd.write(EdtPathName2, MaskedEdt)"
   ]
  },
  {
   "cell_type": "code",
   "execution_count": 65,
   "metadata": {},
   "outputs": [
    {
     "data": {
      "text/plain": [
       "array([443, 217, 353])"
      ]
     },
     "execution_count": 65,
     "metadata": {},
     "output_type": "execute_result"
    }
   ],
   "source": [
    "root = (445, 220, 354)\n",
    "MaskedIndices[:,*root]"
   ]
  },
  {
   "cell_type": "code",
   "execution_count": 68,
   "metadata": {},
   "outputs": [],
   "source": [
    "atreecoords = np.argwhere(atree == 1)\n",
    "atreepartitioned = copy.deepcopy(atree)\n",
    "\n",
    "for x, y, z in atreecoords:\n",
    "    DestinationVoxel = MaskedIndices[: ,x, y, z]\n",
    "    atreepartitioned[x, y, z] = skeleton[*DestinationVoxel]*3"
   ]
  },
  {
   "cell_type": "code",
   "execution_count": 69,
   "metadata": {},
   "outputs": [],
   "source": [
    "PathName = GraphArtifactsFolderName + f\"/S-Case-{CaseNumber}-Atree-Partitioned.nrrd\"\n",
    "nrrd.write(PathName, atreepartitioned)"
   ]
  },
  {
   "cell_type": "code",
   "execution_count": null,
   "metadata": {},
   "outputs": [],
   "source": [
    "# Experiments-Ver3\n",
    "\n",
    "# for skcoord in skeletoncoords:\n",
    "#     print(atreegrwnhollow[*skcoord])\n",
    "#     print(atreegrwn      [*skcoord])\n",
    "\n",
    "# atreecoords = np.argwhere(atree == 1)\n",
    "# np.shape(atreecoords) : (1334406, 3)\n",
    "\n",
    "# skeleton_coords = np.argwhere(skeleton == 1)\n",
    "# np.shape(skeleton_coords) : (8130, 3)"
   ]
  }
 ],
 "metadata": {
  "kernelspec": {
   "display_name": "Python 3",
   "language": "python",
   "name": "python3"
  },
  "language_info": {
   "codemirror_mode": {
    "name": "ipython",
    "version": 3
   },
   "file_extension": ".py",
   "mimetype": "text/x-python",
   "name": "python",
   "nbconvert_exporter": "python",
   "pygments_lexer": "ipython3",
   "version": "3.11.4"
  },
  "orig_nbformat": 4
 },
 "nbformat": 4,
 "nbformat_minor": 2
}
