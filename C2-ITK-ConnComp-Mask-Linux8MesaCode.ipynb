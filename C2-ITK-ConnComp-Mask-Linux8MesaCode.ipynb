{
 "cells": [
  {
   "cell_type": "code",
   "execution_count": 1,
   "id": "8ece32db",
   "metadata": {},
   "outputs": [],
   "source": [
    "# fvessim = sitk.Flip(vessim, [True, True, True])\n",
    "# sitk.WriteImage(fvessim, \"./fvess.nii.gz\")"
   ]
  },
  {
   "cell_type": "code",
   "execution_count": 2,
   "id": "dbceb7b5",
   "metadata": {},
   "outputs": [],
   "source": [
    "import SimpleITK as sitk\n",
    "import numpy as np\n",
    "import matplotlib.pyplot as plt"
   ]
  },
  {
   "cell_type": "code",
   "execution_count": 3,
   "id": "42a54c9b",
   "metadata": {},
   "outputs": [],
   "source": [
    "imfn    = \"./ii.nii.gz\"\n",
    "vessfn  = \"./vess.img.gz\""
   ]
  },
  {
   "cell_type": "code",
   "execution_count": 4,
   "id": "82a541b4",
   "metadata": {},
   "outputs": [],
   "source": [
    "iim     = sitk.ReadImage(imfn)\n",
    "vessim  = sitk.ReadImage(vessfn)"
   ]
  },
  {
   "cell_type": "code",
   "execution_count": 5,
   "id": "51eb7e40",
   "metadata": {},
   "outputs": [],
   "source": [
    "iim.SetOrigin((0,0,0))"
   ]
  },
  {
   "cell_type": "code",
   "execution_count": 7,
   "id": "0d86a5c4",
   "metadata": {},
   "outputs": [],
   "source": [
    "sitk.WriteImage(iim, \"./ii-centered.nii.gz\")"
   ]
  },
  {
   "cell_type": "code",
   "execution_count": 8,
   "id": "aa5f0f0d",
   "metadata": {},
   "outputs": [],
   "source": [
    "vnda = sitk.GetArrayFromImage(vessim)\n",
    "vnds = np.flip(vnda, axis=0)\n",
    "fvess = sitk.GetImageFromArray(vnds)\n",
    "fvess.CopyInformation(vessim)"
   ]
  },
  {
   "cell_type": "code",
   "execution_count": 10,
   "id": "a3f5937a",
   "metadata": {},
   "outputs": [],
   "source": [
    "sitk.WriteImage(fvess, \"./fvess.nii.gz\") # flipped"
   ]
  },
  {
   "cell_type": "code",
   "execution_count": 16,
   "id": "52293f18",
   "metadata": {},
   "outputs": [],
   "source": [
    "ccfilt = sitk.ConnectedComponentImageFilter()\n",
    "ccfilt.FullyConnectedOn()\n",
    "# print(ccfilt.GetFullyConnected())\n",
    "ccs = ccfilt.Execute(fvess)\n",
    "\n",
    "# ccfilt.SetFullyConnected()\n",
    "# FullyConnectedOn"
   ]
  },
  {
   "cell_type": "code",
   "execution_count": 17,
   "id": "612d9cdb",
   "metadata": {},
   "outputs": [
    {
     "name": "stdout",
     "output_type": "stream",
     "text": [
      "104\n"
     ]
    }
   ],
   "source": [
    "print(ccfilt.GetObjectCount())"
   ]
  },
  {
   "cell_type": "code",
   "execution_count": 18,
   "id": "57ac915c",
   "metadata": {},
   "outputs": [],
   "source": [
    "sitk.WriteImage(ccs, \"./ccs.nii.gz\")"
   ]
  },
  {
   "cell_type": "code",
   "execution_count": null,
   "id": "c1f26dec",
   "metadata": {},
   "outputs": [],
   "source": [
    "# img_preprocessed = sitk.GetImageFromArray(nda_preprocessed)\n",
    "# img_preprocessed.CopyInformation(ct_img)"
   ]
  },
  {
   "cell_type": "code",
   "execution_count": null,
   "id": "30e01fb1",
   "metadata": {},
   "outputs": [],
   "source": [
    "jms = sitk.Mask(ims, lcmaskim, maskingValue = 0, outsideValue = -1024)\n",
    "# sitk.WriteImage(jms, \"./files/separ/jms.nii.gz\")\n",
    "jmsnp = sitk.GetArrayFromImage(jms)\n",
    "# np.shape(jmsnp)\n",
    "jmsnpr =  jmsnp.ravel()"
   ]
  },
  {
   "cell_type": "code",
   "execution_count": null,
   "id": "faee10f8",
   "metadata": {},
   "outputs": [],
   "source": [
    "flt = sitk.ConnectedThresholdImageFilter()\n",
    "flt.SetSeedList(amc)\n",
    "flt.SetLower(200) # 300 130 0\n",
    "flt.SetUpper(570) # includes: both lower and upper  # initial seeds may get excluded!\n",
    "\n",
    "sega = flt.Execute(lmv)"
   ]
  }
 ],
 "metadata": {
  "kernelspec": {
   "display_name": "Python 3",
   "language": "python",
   "name": "python3"
  },
  "language_info": {
   "codemirror_mode": {
    "name": "ipython",
    "version": 3
   },
   "file_extension": ".py",
   "mimetype": "text/x-python",
   "name": "python",
   "nbconvert_exporter": "python",
   "pygments_lexer": "ipython3",
   "version": "3.8.8"
  }
 },
 "nbformat": 4,
 "nbformat_minor": 5
}
