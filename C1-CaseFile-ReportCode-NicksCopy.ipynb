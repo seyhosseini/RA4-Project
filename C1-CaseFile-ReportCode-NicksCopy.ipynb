{
 "cells": [
  {
   "cell_type": "code",
   "execution_count": 3,
   "metadata": {},
   "outputs": [],
   "source": [
    "#Dictionary matching up case numbers and study ID\n",
    "\n",
    "# Lists of integers and strings\n",
    "case_numbers = [1, 2, 3, 4, 6, 7, 9, 10, 11, 12, 14, 15, 16, 17, 18, 19, 20, 21, 23, 27, 37, 87, 88, 89, 90, 91, 93, 94, 95, 22, 24, 28, 29, 30, 32, 34, 36, 38, 39, 42, 43, 44, 46, 47, 48, 49, 50, 53, 54, 55, 56, 58, 59, 60, 61, 62, 63, 64, 65, 66, 67, 68, 69, 70, 71, 72, 73, 74, 76, 77, 78, 79, 81, 82, 83, 84, 86]\n",
    "\n",
    "study_IDs = [\"MESAL-5010098-E3\", \"MESAL-5010730-E3\", \"MESAL-6011969-E3\", \"MESAL-5010942-E3\", \"MESAL-7013450-E3\", \"MESAL-5010845-E3\", \"MESAL-8014868-E3\", \"MESAL-3016340-E3\", \"MESAL-3016587-E3\", \"MESAL-7018380-E3\", \"MESAL-6011020-E3\", \"MESAL-7018347-E3\", \"MESAL-5014832-E3\", \"MESAL-3012603-E3\", \"MESAL-6022812-E3\", \"MESAL-3012840-E3\", \"MESAL-7015569-E3\", \"MESAL-7018860-E3\", \"MESAL-3015246-E3\", \"MESAL-6011594-E3\", \"MESAL-3016900-E3\", \"MESAL-7012705-E3\", \"MESAL-6010377-E3\", \"MESAL-4021096-E3\", \"MESAL-5018196-E3\", \"MESAL-3021556-E3\", \"MESAL-8024995-E3\", \"MESAL-6015034-E3\", \"MESAL-4016645-E3\", \"SPI-JH110088\", \"SPI-JH110704\", \"SPI-JH112953\", \"SPI-JH115247\", \"SPI-JH114663\", \"SPI-JH110280\", \"SPI-JH115627\", \"SPI-JH112358\", \"SPI-IA210599\", \"SPI-JH112648\", \"SPI-IA210257\", \"SPI-IA210637\", \"SPI-IA210520\", \"SPI-JH114016\", \"SPI-IA210102\", \"SPI-JH115778\", \"SPI-IA210428\", \"SPI-IA210305\", \"SPI-IA210273\", \"SPI-JH114615\", \"SPI-JH111728\", \"SPI-IA210196\", \"SPI-IA210285\", \"SPI-MU163450\", \"SPI-JH115593\", \"SPI-JH111894\", \"SPI-JH112757\", \"SPI-MU164552\", \"SPI-MU164261\", \"SPI-JH114008\", \"SPI-JH113081\", \"SPI-JH114158\", \"SPI-JH111913\", \"SPI-JH114303\", \"SPI-JH112683\", \"SPI-IA210545\", \"SPI-JH115746\", \"SPI-JH114090\", \"SPI-JH111112\", \"SPI-JH111791\", \"SPI-JH114588\", \"SPI-IA210649\", \"SPI-IA210581\", \"SPI-JH112431\", \"SPI-JH112455\", \"SPI-JH112708\", \"SPI-JH114311\", \"SPI-MU161671\"]\n",
    "\n",
    "# Creating the dictionary\n",
    "number_to_ID = dict(zip(case_numbers, study_IDs)) \n",
    "ID_to_number = dict(zip(study_IDs, case_numbers))"
   ]
  },
  {
   "cell_type": "code",
   "execution_count": 2,
   "metadata": {},
   "outputs": [
    {
     "data": {
      "text/plain": [
       "'SPI-JH110088'"
      ]
     },
     "execution_count": 2,
     "metadata": {},
     "output_type": "execute_result"
    }
   ],
   "source": [
    "number_to_ID[22]"
   ]
  },
  {
   "cell_type": "code",
   "execution_count": 2,
   "metadata": {},
   "outputs": [
    {
     "name": "stdout",
     "output_type": "stream",
     "text": [
      "Itk read sucessful\n"
     ]
    }
   ],
   "source": [
    "import itk\n",
    "#Test case files to ensure they load properly.\n",
    "testpath = \"Y:/MESA_V5--ATS-VessDys-TLCs/1-UseThis-Unzipped-APKs/H-10983_7018860_MESA-7018860-E5_CHEST_0.75_B35f_25023450/ZUNU_vida-lung.hdr\"\n",
    "testread = itk.imread(testpath, itk.SS)\n",
    "if testread:\n",
    "    print(\"Itk read sucessful\")"
   ]
  },
  {
   "cell_type": "code",
   "execution_count": 14,
   "metadata": {},
   "outputs": [],
   "source": [
    "# Function for finding the lung mask header file corresponding to a study when given the study ID. You only need to know the\n",
    "# case number that you would like to use, then you can use the number_to_ID dictionary to retrieve the corresponding studyID to\n",
    "# pass into this function.\n",
    "# RETURNS this function returns the full path to the header file that will be read in.\n",
    "\n",
    "import glob\n",
    "import os\n",
    "def find_header_file(studyID):\n",
    "    # Specify the main folder path\n",
    "    if \"SPI\" in studyID:\n",
    "        main_folder_path = \"Y:/SPIR--ATS-VessDys-TLCs/1-UseThis-Unzipped-APKs\"  # Replace with the actual path to your main folder\n",
    "        subsub = True #Spiromics files will have two subfolders to go into. Mesal only has one.\n",
    "    elif \"MESAL\" in studyID:\n",
    "        main_folder_path = \"Y:/MESA_V5--ATS-VessDys-TLCs/1-UseThis-Unzipped-APKs\"\n",
    "        mesalID = studyID\n",
    "        mesalID = mesalID[0:-3]   #Some mesal files are listed as MESAL instead of MESA.\n",
    "        studyID = studyID.replace(\"L\", \"\")   #Fixes issue where Mesal files are shown as just \"MESA\" instead of \"MESAL\" in these subfolders\n",
    "        studyID = studyID[0:-3]   #Fixes E3 vs E5 issue\n",
    "        subsub = False\n",
    "\n",
    "    # Use glob to find subfolders matching the given part of the name.\n",
    "    # Subfolder name is repeated twice so need to account for that and store as subsubfolders.\n",
    "    subfolders = glob.glob(os.path.join(main_folder_path, f'*{studyID}*'))\n",
    "\n",
    "    if not subfolders:\n",
    "        subfolders = glob.glob(os.path.join(main_folder_path, f'*{mesalID}*'))\n",
    "        if not subfolders:\n",
    "            print(f\"No subfolder found with '{studyID}' in the name.\")\n",
    "            return None\n",
    "    \n",
    "    if not subsub:\n",
    "        subfolders[0] = subfolders[0].replace(\"\\\\\", \"/\")\n",
    "        # Assume there's only one subfolder with the given part in its name\n",
    "        target_subfolder = subfolders[0]\n",
    "    if subsub:\n",
    "        subsubfolders = glob.glob(os.path.join(subfolders[0], f'*{studyID}*'))\n",
    "        subsubfolders[0] = subsubfolders[0].replace(\"\\\\\", \"/\")\n",
    "        target_subfolder = subsubfolders[0]\n",
    "\n",
    "    # Find the header file in the target subfolder\n",
    "    header_file_path = os.path.join(target_subfolder, 'ZUNU_vida-lung.hdr')\n",
    "    header_file_path = header_file_path.replace(\"\\\\\", \"/\")\n",
    "    \n",
    "    # Check if the header file exists\n",
    "    if os.path.exists(header_file_path):\n",
    "        return header_file_path\n",
    "    else:\n",
    "        print(f\"No 'ZUNU_vida-lung.hdr' file found in the subfolder.\")\n",
    "        return None"
   ]
  },
  {
   "cell_type": "code",
   "execution_count": 15,
   "metadata": {},
   "outputs": [
    {
     "name": "stdout",
     "output_type": "stream",
     "text": [
      "Looking at study ID MESAL-5010942-E3\n",
      "This is a Mesal file.\n",
      "Header file found at: Y:/MESA_V5--ATS-VessDys-TLCs/1-UseThis-Unzipped-APKs/H-11740_5010942_MESAL-5010942-E3_TLC_0.75_Qr40d-5_54830375/ZUNU_vida-lung.hdr\n"
     ]
    }
   ],
   "source": [
    "# Example: Find the header file for a subfolder containing 'studyID' in its name\n",
    "studyID = number_to_ID[4]\n",
    "header_file_path = find_header_file(studyID)\n",
    "print(f\"Looking at study ID {studyID}\")\n",
    "if \"SPI\" in studyID:\n",
    "    print(\"This is a Spiromics file.\")\n",
    "elif \"MESAL\" in studyID:\n",
    "    print(\"This is a Mesal file.\")\n",
    "if header_file_path:\n",
    "    print(f\"Header file found at: {header_file_path}\")\n",
    "else:\n",
    "    print(\"Header file not found.\")"
   ]
  },
  {
   "cell_type": "code",
   "execution_count": 35,
   "metadata": {},
   "outputs": [
    {
     "data": {
      "text/plain": [
       "'MESAL-5010098-E3'"
      ]
     },
     "execution_count": 35,
     "metadata": {},
     "output_type": "execute_result"
    }
   ],
   "source": [
    "number_to_ID[1]"
   ]
  },
  {
   "cell_type": "code",
   "execution_count": 28,
   "metadata": {},
   "outputs": [
    {
     "name": "stdout",
     "output_type": "stream",
     "text": [
      "MESA-5010098\n",
      "Result: MESA-5010098-E5\n"
     ]
    }
   ],
   "source": [
    "#Use for MESAL files to accurately print out the correct study ID into the word doc.\n",
    "def extract_studyID(input_string, keyword):\n",
    "    if \"ESA\" in keyword:\n",
    "        hold = keyword[0:-3]\n",
    "        keyword = keyword[0:-3].replace(\"L\", \"\")\n",
    "        index = input_string.find(keyword)\n",
    "    else:\n",
    "        return keyword\n",
    "    if index != -1:\n",
    "        # If the keyword is found in the string\n",
    "        result = input_string[index:index + len(keyword) + 3]\n",
    "        return result\n",
    "    else:\n",
    "        # If the keyword is not found in the string\n",
    "        index2 = input_string.find(hold)\n",
    "        result = input_string[index2:index2 + len(hold) + 3]\n",
    "        if index2 != -1:\n",
    "            result = input_string[index2:index2 + len(hold) + 3]\n",
    "            return result\n",
    "        else:\n",
    "            return None\n",
    "\n",
    "# Example usage:\n",
    "input_string = \"Y:/MESA_V5--ATS-VessDys-TLCs/1-UseThis-Unzipped-APKs/H-3412_5010098_MESA-5010098-E5_CHEST_0.75_B35f_19310476/ZUNU_vida-lung.hdr\"\n",
    "result = extract_studyID(input_string, number_to_ID[1])\n",
    "print(number_to_ID[1][0:-3].replace(\"L\", \"\"))\n",
    "if result:\n",
    "    print(\"Result:\", result)\n",
    "else:\n",
    "    print(\"Keyword not found in the string.\")"
   ]
  },
  {
   "cell_type": "code",
   "execution_count": 29,
   "metadata": {},
   "outputs": [],
   "source": [
    "import itk\n",
    "import numpy as np\n",
    "from mayavi import mlab\n",
    "\n",
    "# Specify the file paths for the header and image data\n",
    "# header_file_path = \"Z:/Q- Figures&Papers/1-T32-Poster/Nick/Unzipped-Cases/H-14479_JH110088_SPI-JH110088-V2_TLC_0.75_B35f_23390683/H-14479_JH110088_SPI-JH110088-V2_TLC_0.75_B35f_23390683/ZUNU_vida-lung.hdr\"\n",
    "# unzipped_folder = \"//lc-rs-store25.hpc.uiowa.edu/teamwork/public_resources/Scan_Exchange/for_Junfeng/SPIR--ATS-VessDys-TLCs/1-UseThis-Unzipped-APKs\"\n",
    "# image_file_path = \"Z:/Q- Figures&Papers/1-T32-Poster/Nick/Unzipped-Cases/H-14479_JH110088_SPI-JH110088-V2_TLC_0.75_B35f_23390683/H-14479_JH110088_SPI-JH110088-V2_TLC_0.75_B35f_23390683/ZUNU_vida-lung.img.gz\"\n",
    "CaseNum = 4\n",
    "header_file_path = find_header_file(number_to_ID[CaseNum])\n",
    "\n",
    "\n",
    "# Read the image data using the information from the header\n",
    "image = itk.imread(header_file_path, itk.SS)  # Adjust the pixel type (itk.SS for signed short) based on your image data type\n",
    "\n",
    "# Get the image attributes\n",
    "image_array = itk.array_from_image(image)\n",
    "origin1 = image.GetOrigin()\n",
    "spacing1 = image.GetSpacing()\n",
    "size1 = image.GetLargestPossibleRegion().GetSize()\n",
    "direction1 = image.GetDirection()\n",
    "\n",
    "# Set values above zero to one\n",
    "image_array[image_array > 0] = 1\n",
    "# image_array = image_array[::10,::10,::10]\n",
    "# Create a Mayavi scene\n",
    "mlab.figure(size=(600, 600), bgcolor=(1, 1, 1))\n",
    "\n",
    "#Center of mass coordinates\n",
    "coords = np.argwhere(image_array)\n",
    "center_of_mass = np.mean(coords, axis=0)\n",
    "center_of_mass = center_of_mass.astype(int)\n",
    "\n",
    "# Create a Mayavi volume with a single contour level at 0.9\n",
    "mlab.contour3d(image_array, contours=[0.5], opacity=0.15, color=(128/255, 174/255, 128/255))\n",
    "\n",
    "# Set the voxel spacing and origin\n",
    "mlab.view(azimuth=90, elevation=0, distance=(700/0.546875)/10, focalpoint=center_of_mass)\n",
    "distance = np.array(spacing1) * np.array(size1)\n",
    "center = np.array(origin1) + np.array(distance) / 2\n",
    "x, y, z = center[0], center[1], center[2]\n",
    "ypt = y + 700/.546875\n",
    "# distance = (np.array(spacing1) * np.array(size1))/10\n",
    "# center = (np.array(origin1) + np.array(distance) / 2)\n",
    "# x, y, z = center[0], center[1], center[2]\n",
    "# ypt = y + 70/.546875 + 10\n",
    "# camera_focal_point = np.array([x, y, z])   #From Nate's code, currently not needed for this specific case. Maybe for others?\n",
    "camera_position = np.array([x, ypt, z])\n",
    "mlab.gcf().scene.camera.position = camera_position\n",
    "# mlab.gcf().scene.camera.focal_point = camera_focal_point   #From Nate's code ^^^\n",
    "# mlab.gcf().scene.camera.view_up = [0, 0, 1]\n",
    "mlab.gcf().scene.camera.clipping_range = (1, 10000)\n",
    "mlab.gcf().scene.camera.azimuth(180)   #Added in. Needed due to the fact that this image is loaded in upside down?\n",
    "mlab.gcf().scene.camera.elevation(180)\n",
    "\n",
    "# Save a snapshot of the current Mayavi window to the specified folder path\n",
    "studyID = header_file_path.split('/')[-2].split('_')[2].replace(\"-V2\", \"\")\n",
    "folder_path = \"Z:/Q- Figures&Papers/1-T32-Poster/Nick/TLC-Images\"\n",
    "file_name = f\"Case-{CaseNum}_{extract_studyID(header_file_path, number_to_ID[CaseNum])}_(dist700).png\"  # You can change the file format as needed, e.g., \"snapshot.png\", \"snapshot.jpg\", etc.\n",
    "\n",
    "mlab.savefig(folder_path + \"/\" + file_name)\n",
    "\n",
    "# Display the plot\n",
    "mlab.show()"
   ]
  },
  {
   "cell_type": "code",
   "execution_count": 18,
   "metadata": {},
   "outputs": [
    {
     "name": "stdout",
     "output_type": "stream",
     "text": [
      "Going into loop\n"
     ]
    },
    {
     "ename": "IndexError",
     "evalue": "list index out of range",
     "output_type": "error",
     "traceback": [
      "\u001b[1;31m---------------------------------------------------------------------------\u001b[0m",
      "\u001b[1;31mIndexError\u001b[0m                                Traceback (most recent call last)",
      "\u001b[1;32mc:\\Users\\nichmoore\\Documents\\GitHub\\RA4-Project\\C1-CaseFile-ReportCode-NicksCopy.ipynb Cell 9\u001b[0m line \u001b[0;36m6\n\u001b[0;32m     <a href='vscode-notebook-cell:/c%3A/Users/nichmoore/Documents/GitHub/RA4-Project/C1-CaseFile-ReportCode-NicksCopy.ipynb#X11sZmlsZQ%3D%3D?line=63'>64</a>\u001b[0m \u001b[39m# Iterate over the zipped lists of image paths, starting with index 1\u001b[39;00m\n\u001b[0;32m     <a href='vscode-notebook-cell:/c%3A/Users/nichmoore/Documents/GitHub/RA4-Project/C1-CaseFile-ReportCode-NicksCopy.ipynb#X11sZmlsZQ%3D%3D?line=64'>65</a>\u001b[0m \u001b[39mfor\u001b[39;00m row_index, (disease_map_path) \u001b[39min\u001b[39;00m \u001b[39menumerate\u001b[39m(\u001b[39mzip\u001b[39m(disease_map_files), start\u001b[39m=\u001b[39m\u001b[39m1\u001b[39m):                  \n\u001b[0;32m     <a href='vscode-notebook-cell:/c%3A/Users/nichmoore/Documents/GitHub/RA4-Project/C1-CaseFile-ReportCode-NicksCopy.ipynb#X11sZmlsZQ%3D%3D?line=65'>66</a>\u001b[0m \n\u001b[0;32m     <a href='vscode-notebook-cell:/c%3A/Users/nichmoore/Documents/GitHub/RA4-Project/C1-CaseFile-ReportCode-NicksCopy.ipynb#X11sZmlsZQ%3D%3D?line=66'>67</a>\u001b[0m     \u001b[39m# Access the cells of the current row in the table\u001b[39;00m\n\u001b[1;32m---> <a href='vscode-notebook-cell:/c%3A/Users/nichmoore/Documents/GitHub/RA4-Project/C1-CaseFile-ReportCode-NicksCopy.ipynb#X11sZmlsZQ%3D%3D?line=67'>68</a>\u001b[0m     row_cells \u001b[39m=\u001b[39m table\u001b[39m.\u001b[39;49mrows[row_index]\u001b[39m.\u001b[39mcells\n\u001b[0;32m     <a href='vscode-notebook-cell:/c%3A/Users/nichmoore/Documents/GitHub/RA4-Project/C1-CaseFile-ReportCode-NicksCopy.ipynb#X11sZmlsZQ%3D%3D?line=69'>70</a>\u001b[0m     \u001b[39m# Write the row index and case number to their respective cells and center the text\u001b[39;00m\n\u001b[0;32m     <a href='vscode-notebook-cell:/c%3A/Users/nichmoore/Documents/GitHub/RA4-Project/C1-CaseFile-ReportCode-NicksCopy.ipynb#X11sZmlsZQ%3D%3D?line=70'>71</a>\u001b[0m     study \u001b[39m=\u001b[39m disease_map_files[row_index \u001b[39m-\u001b[39m \u001b[39m1\u001b[39m]\u001b[39m.\u001b[39msplit(\u001b[39m'\u001b[39m\u001b[39m/\u001b[39m\u001b[39m'\u001b[39m)[\u001b[39m-\u001b[39m\u001b[39m1\u001b[39m]\u001b[39m.\u001b[39msplit(\u001b[39m'\u001b[39m\u001b[39m_\u001b[39m\u001b[39m'\u001b[39m)[\u001b[39m1\u001b[39m]\n",
      "File \u001b[1;32mc:\\Users\\nichmoore\\Documents\\GitHub\\RA4-Project\\venvnick\\Lib\\site-packages\\docx\\table.py:456\u001b[0m, in \u001b[0;36m_Rows.__getitem__\u001b[1;34m(self, idx)\u001b[0m\n\u001b[0;32m    452\u001b[0m \u001b[39mdef\u001b[39;00m \u001b[39m__getitem__\u001b[39m(\u001b[39mself\u001b[39m, idx):\n\u001b[0;32m    453\u001b[0m \u001b[39m    \u001b[39m\u001b[39m\"\"\"\u001b[39;00m\n\u001b[0;32m    454\u001b[0m \u001b[39m    Provide indexed access, (e.g. 'rows[0]')\u001b[39;00m\n\u001b[0;32m    455\u001b[0m \u001b[39m    \"\"\"\u001b[39;00m\n\u001b[1;32m--> 456\u001b[0m     \u001b[39mreturn\u001b[39;00m \u001b[39mlist\u001b[39;49m(\u001b[39mself\u001b[39;49m)[idx]\n",
      "\u001b[1;31mIndexError\u001b[0m: list index out of range"
     ]
    }
   ],
   "source": [
    "#1 Gold Standard to write images to word document report.\n",
    "\n",
    "# NOTES TO RUN: (MAKE SURE TO READ DIRECTIONS OR CONTACT NATE)\n",
    "# 1- This code assumes you have already generated your images and placed them in a folder or folders \n",
    "# 2- Nate's Images were created in previous code. All Images files here Q- Figures&Papers/1-T32-Poster/Nate/ImageCreationFile/\n",
    "# 3- For QC images ----> /Q- Figures&Papers/1-T32-Poster/Nate/ImageCreationFile/QC-Images\n",
    "# 4- For Segmentation (A/V) Images and Aseed/LungMask Images ----> /Q- Figures&Papers/1-T32-Poster/Nate/ImageCreationFile/3D Images\n",
    "# 5- Once you have created all images that you need, you will need to add the following variables:\n",
    "#   5a- airway_folder = (LOCATION OF AIRWAY IMAGES)\n",
    "#   5b- airway_files = glob.glob(airway_folder + '/*.png') This is to store all airway files from the folder \n",
    "# 6- Then Update the for loop variables according to convention below (could ask Chat GPT if you are struggling or message Nate)\n",
    "#   6a- for row_index, (image_path, lung_mask_path, model_image_path,) in enumerate(zip(image_files, lung_mask_files, model_image_files), start=1):   \n",
    "# 7- Open the images\n",
    "# 8- Set Widths for Images\n",
    "# 9- Then Add the run to add the images --> airways_cells = row_cells[5] .....\n",
    "from docx import Document\n",
    "import glob\n",
    "from PIL import Image\n",
    "from docx.shared import Inches, Cm, Pt\n",
    "from docx.enum.text import WD_PARAGRAPH_ALIGNMENT, WD_ALIGN_PARAGRAPH\n",
    "from docx.enum.table import WD_ALIGN_VERTICAL\n",
    "\n",
    "# Create a new Document object which will be used to build the Word document\n",
    "doc = Document()\n",
    "\n",
    "for section in doc.sections:\n",
    "    section.page_width = Inches(16.5)\n",
    "    # You may also want to adjust the margins if necessary\n",
    "    section.left_margin = Inches(1)\n",
    "    section.right_margin = Inches(1)\n",
    "\n",
    "# Define the number of rows and columns for the table in the document\n",
    "num_rows = 4\n",
    "num_cols = 3\n",
    "# Add a table to the document with the specified number of rows and columns\n",
    "table = doc.add_table(rows=num_rows, cols=num_cols)\n",
    "# Set a style for the table, which affects its visual layout\n",
    "table.style = 'Table Grid'\n",
    "row_height = Pt(90)  # Set the row height to however tall you want\n",
    "# Iterate over each row in the table and set the height\n",
    "for row in table.rows:\n",
    "    row.height = row_height\n",
    "# Define column titles for the table's header row\n",
    "titles = [\"Case Number\", \"Study ID\", \"Disease Maps\"]\n",
    "# Get the first row of the table which will serve as the header\n",
    "header_cells = table.rows[0].cells\n",
    "\n",
    "# Assign the defined titles to the header cells in the table\n",
    "for i in range(num_cols):\n",
    "    header_cells[i].text = titles[i]\n",
    "    header_cells[i].paragraphs[0].alignment = WD_ALIGN_PARAGRAPH.CENTER\n",
    "    header_cells[i].vertical_alignment = WD_ALIGN_VERTICAL.CENTER\n",
    "\n",
    "# Define the paths to the folders containing the images\n",
    "disease_map_folder = 'Z:/Q- Figures&Papers/1-T32-Poster/Nick/TLC-Images'\n",
    "\n",
    "# Use glob to find all .png files in the specified directories. This stores the images to a variable based on their endings\n",
    "disease_map_files = glob.glob(disease_map_folder + \"/*.png*\", recursive=True)\n",
    "\n",
    "# Print to console as a simple progress indicator\n",
    "print('Going into loop')\n",
    "\n",
    "\n",
    "# Iterate over the zipped lists of image paths, starting with index 1\n",
    "for row_index, (disease_map_path) in enumerate(zip(disease_map_files), start=1):                  \n",
    "\n",
    "    # Access the cells of the current row in the table\n",
    "    row_cells = table.rows[row_index].cells\n",
    "    \n",
    "    # Write the row index and case number to their respective cells and center the text\n",
    "    study = disease_map_files[row_index - 1].split('/')[-1].split('_')[1]\n",
    "    if \"MES\" in study:\n",
    "        study = study[0:4] + 'L' + study[4:-1]\n",
    "        study = study + \"3\"\n",
    "    row_cells[0].text = str(ID_to_number[study])\n",
    "    row_cells[1].text = disease_map_files[row_index - 1].split('/')[-1].split('_')[1]\n",
    "\n",
    "    for idx in range(2):\n",
    "        cell = row_cells[idx]\n",
    "        cell.vertical_alignment = WD_ALIGN_VERTICAL.CENTER\n",
    "        paragraph = cell.paragraphs[0]\n",
    "        paragraph.alignment = WD_ALIGN_PARAGRAPH.CENTER\n",
    "\n",
    "    # Open the disease map image file\n",
    "    img = Image.open(disease_map_files[row_index-1])\n",
    "    \n",
    "    # Set the new width for the disease map image to be inserted into the document\n",
    "    new_width = int(img.width * 1.7)\n",
    "\n",
    "    # Insert the disease map image to the cell\n",
    "    cell = row_cells[2]\n",
    "    cell.vertical_alignment = WD_ALIGN_VERTICAL.CENTER\n",
    "    cell_paragraph = cell.paragraphs[0]\n",
    "    cell_paragraph.alignment = WD_PARAGRAPH_ALIGNMENT.CENTER\n",
    "    run = cell_paragraph.add_run()\n",
    "    run.add_picture(disease_map_files[row_index-1], width=Cm(new_width/300))\n",
    "\n",
    "# Save the document to the specified path\n",
    "output_path = 'Z:/Q- Figures&Papers/1-T32-Poster/Nick/CaseImages.docx'\n",
    "doc.save(output_path)\n",
    "print(f\"Document saved to: {output_path}\")\n"
   ]
  },
  {
   "cell_type": "code",
   "execution_count": 70,
   "metadata": {},
   "outputs": [
    {
     "data": {
      "text/plain": [
       "['Z:/Q- Figures&Papers/1-T32-Poster/Nick/TLC-Images\\\\Case-1_MESAL-5010098-E3_(dist700).png']"
      ]
     },
     "execution_count": 70,
     "metadata": {},
     "output_type": "execute_result"
    }
   ],
   "source": [
    "disease_map_files"
   ]
  },
  {
   "cell_type": "code",
   "execution_count": null,
   "metadata": {},
   "outputs": [],
   "source": [
    "for section in doc.sections:\n",
    "    section.page_width = Inches(16.5)\n",
    "    # You may also want to adjust the margins if necessary\n",
    "    section.left_margin = Inches(1)\n",
    "    section.right_margin = Inches(1)"
   ]
  }
 ],
 "metadata": {
  "kernelspec": {
   "display_name": "Python 3",
   "language": "python",
   "name": "python3"
  },
  "language_info": {
   "codemirror_mode": {
    "name": "ipython",
    "version": 3
   },
   "file_extension": ".py",
   "mimetype": "text/x-python",
   "name": "python",
   "nbconvert_exporter": "python",
   "pygments_lexer": "ipython3",
   "version": "3.11.6"
  },
  "orig_nbformat": 4
 },
 "nbformat": 4,
 "nbformat_minor": 2
}
