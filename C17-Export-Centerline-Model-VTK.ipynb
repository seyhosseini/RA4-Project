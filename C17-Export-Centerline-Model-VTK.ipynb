{
 "cells": [
  {
   "cell_type": "code",
   "execution_count": 1,
   "id": "a36b7233-a2a0-426a-94d5-08d5a4241128",
   "metadata": {},
   "outputs": [
    {
     "name": "stdout",
     "output_type": "stream",
     "text": [
      "Loading file for centerline extraction...\n",
      "Segment_1 loaded for centerline extraction...\n"
     ]
    }
   ],
   "source": [
    "import os\n",
    "import json\n",
    "import vtk \n",
    "import slicer   \n",
    "import MultiVolumeImporter  \n",
    "import ExtractCenterline \n",
    "\n",
    "############################################################################\n",
    "############################################################################\n",
    "\n",
    "### SETUP/IMPORT ### \n",
    "\n",
    "#===========================================================================================\n",
    "# CHANGE FILE PATHS, SEGMENT NAMES, PREPROCESSING VALUES AND OTHER MODIFIERS AS NEEDED\n",
    "#===========================================================================================\n",
    "\n",
    "print(\"Loading file for centerline extraction...\")\n",
    "\n",
    "# LOAD FILE AS VOLUME (CURRENTLY SAME AS SEGMENTATION) \n",
    "volume = slicer.util.loadVolume(\"J:\\\\SOHEIL_PROJECT\\\\SEGMENTATION\\\\MESAL-7012705\\\\Segmentation_final_v2-5_use-label.nrrd\")\n",
    "\n",
    "# LOAD IN A SEGMENTATION FILE \n",
    "# USED TO SPECIFY THAT FUTURE PROCESSES WILL INTERACT WITH THIS FILE (NOTE FUTURE USES OF 'vessel_seg')\n",
    "vessel_seg = slicer.util.loadSegmentation(\"J:\\\\SOHEIL_PROJECT\\\\SEGMENTATION\\\\MESAL-7012705\\\\Segmentation_final_v2-5_use-label.nrrd\")\n",
    "\n",
    "segmentation = vessel_seg.GetSegmentation() \n",
    "\n",
    "# OPTION TO APPLY MODIFIER TO LOADED FILE (SMOOTHING EXAMPLE) \n",
    "segmentation.SetConversionParameter(\"Smoothing factor\", \"0.1\") \n",
    "\n",
    "# OPTION TO CREATE THE 3D VIEW \n",
    "vessel_seg.CreateClosedSurfaceRepresentation() \n",
    "\n",
    "# ASSIGNS SPECIFIC SEGMENTATION LABEL ('Segment_1') TO VARIABLE \n",
    "segmentID = segmentation.GetSegmentIdBySegmentName('Segment_1') \n",
    "\n",
    "# CREATES AN EMPTY 'vtkPolyData' OBJECT \n",
    "segmentVtkPolyData = vtk.vtkPolyData() \n",
    "\n",
    "# GET 'vtkPolyData' REPRESENTATION OF SEGMENT SURFACE INTO 'segmentVtkPolyData' VARIABLE \n",
    "    # BY PASSING IN SEGMENTATION LABEL & 'vtkPolyData' VARIABLES \n",
    "vessel_seg.GetClosedSurfaceRepresentation(segmentID, segmentVtkPolyData) \n",
    "\n",
    "print(segmentID + \" loaded for centerline extraction...\") \n"
   ]
  },
  {
   "cell_type": "code",
   "execution_count": 2,
   "id": "19101a11-f088-470f-b8b8-760c0ce7cba7",
   "metadata": {},
   "outputs": [
    {
     "name": "stdout",
     "output_type": "stream",
     "text": [
      "Preprocessing surface before centerline extraction...\n",
      "Preprocessing complete...\n"
     ]
    }
   ],
   "source": [
    "############################################################################\n",
    "############################################################################\n",
    "\n",
    "### PREPROCESSING ### \n",
    "# USED TO SHORTN PATHS TO FUNCTIONS USED IN MODULE \n",
    "extractLogic = ExtractCenterline.ExtractCenterlineLogic() \n",
    "\n",
    "## PREPROCESS SEGMENTATION LABLEL ('Segment_1' IN THIS CASE) \n",
    "# USED TO INITIALIZE 'EXTRACT CENTERLINE' PARAMETERS \n",
    "inputSurfacePolyData = extractLogic.polyDataFromNode(vessel_seg, segmentID) \n",
    "\n",
    "# CAN BE MODIFIED AS NEEDED \n",
    "# SEE 'ExtractCenterline.py' FOR DEFAULT SETTINGS \n",
    "preprocessEnabled = True  # (self._parameterNode.GetParameter(\"PreprocessInputSurface\") == \"true\") \n",
    "targetNumberOfPoints = 15000.0  # float(self._parameterNode.GetParameter(\"TargetNumberOfPoints\")) \n",
    "decimationAggressiveness = 4.0 #float(self._parameterNode.GetParameter(\"DecimationAggressiveness\")) \n",
    "subdivideInputSurface = False  # (self._parameterNode.GetParameter(\"SubdivideInputSurface\") == \"true\") \n",
    "autoDetectEndPointsPushButton = True # (self._parameterNode.GetParameter(autoDetectEndPointsPushButton\") == \"true\") \n",
    "\n",
    "slicer.util.showStatusMessage( \n",
    "    \"Preprocessing surface before centerline extraction...\" \n",
    ") \n",
    "\n",
    "print(\"Preprocessing surface before centerline extraction...\") \n",
    "\n",
    "slicer.app.processEvents() \n",
    "\n",
    "# PASSESES IN THE ABOVE PREPROCESS VALUES \n",
    "# WILL BE USED DURING CENTERLINE EXTRACTION \n",
    "preprocessedPolyData = extractLogic.preprocess( \n",
    "    inputSurfacePolyData, \n",
    "    targetNumberOfPoints, \n",
    "    decimationAggressiveness, \n",
    "    subdivideInputSurface, \n",
    ") \n",
    "  \n",
    "print(\"Preprocessing complete...\")"
   ]
  },
  {
   "cell_type": "code",
   "execution_count": 21,
   "id": "f30adb9f-524e-4b5e-b92c-2f35d5efc8c9",
   "metadata": {},
   "outputs": [
    {
     "name": "stdout",
     "output_type": "stream",
     "text": [
      "Auto-detecting surface model endpoints...\n",
      "End points autodetected...\n",
      "Extracting centerline curve tree...\n"
     ]
    },
    {
     "ename": "<class 'AttributeError'>",
     "evalue": "'MRMLCorePython.vtkMRMLModelNode' object has no attribute 'SetControlPointPositionsWorld'",
     "output_type": "error",
     "traceback": [
      "\u001b[1;31m---------------------------------------------------------------------------\u001b[0m",
      "\u001b[1;31mAttributeError\u001b[0m                            Traceback (most recent call last)",
      "Cell \u001b[1;32mIn[21], line 54\u001b[0m\n\u001b[0;32m     51\u001b[0m \u001b[38;5;28mprint\u001b[39m(\u001b[38;5;124m\"\u001b[39m\u001b[38;5;124mExtracting centerline curve tree...\u001b[39m\u001b[38;5;124m\"\u001b[39m)\n\u001b[0;32m     53\u001b[0m \u001b[38;5;66;03m# USED TO GENERATE CENTERLINE SEGMENTS FROM DATA\u001b[39;00m\n\u001b[1;32m---> 54\u001b[0m extractLogic\u001b[38;5;241m.\u001b[39mcreateCurveTreeFromCenterline( \n\u001b[0;32m     55\u001b[0m     centerlinePolyData, centerlineCurveNode, centerlinePropertiesTableNode \n\u001b[0;32m     56\u001b[0m )\n\u001b[0;32m     58\u001b[0m \u001b[38;5;28;01mif\u001b[39;00m centerlineCurveNode\u001b[38;5;241m.\u001b[39mGetNumberOfControlPoints() \u001b[38;5;241m==\u001b[39m \u001b[38;5;241m2\u001b[39m: \n\u001b[0;32m     59\u001b[0m     \u001b[38;5;66;03m# Extraction had an error, likely due to too high decimation aggressiveness \u001b[39;00m\n\u001b[0;32m     60\u001b[0m     \u001b[38;5;66;03m# Try again \u001b[39;00m\n\u001b[0;32m     61\u001b[0m     slicer\u001b[38;5;241m.\u001b[39mutil\u001b[38;5;241m.\u001b[39merrorDisplay( \n\u001b[0;32m     62\u001b[0m         \u001b[38;5;124m\"\u001b[39m\u001b[38;5;124mCenterline generation failed, possibly due to decimationAggressiveness being too high.\u001b[39m\u001b[38;5;124m\"\u001b[39m \n\u001b[0;32m     63\u001b[0m     )\n",
      "File \u001b[1;32mC:/Users/Kids/AppData/Local/slicer.org/Slicer 5.6.1/slicer.org/Extensions-32438/SlicerVMTK/lib/Slicer-5.6/qt-scripted-modules/ExtractCenterline.py:926\u001b[0m, in \u001b[0;36mExtractCenterlineLogic.createCurveTreeFromCenterline\u001b[1;34m(self, centerlinePolyData, centerlineCurveNode, centerlinePropertiesTableNode, curveSamplingDistance)\u001b[0m\n\u001b[0;32m    923\u001b[0m     centerlinePropertiesTableNode\u001b[38;5;241m.\u001b[39mGetTable()\u001b[38;5;241m.\u001b[39mModified()\n\u001b[0;32m    925\u001b[0m \u001b[38;5;28;01mif\u001b[39;00m centerlineCurveNode:\n\u001b[1;32m--> 926\u001b[0m     \u001b[38;5;28;43mself\u001b[39;49m\u001b[38;5;241;43m.\u001b[39;49m\u001b[43maddCenterlineCurves\u001b[49m\u001b[43m(\u001b[49m\u001b[43mmergedCenterlines\u001b[49m\u001b[43m,\u001b[49m\u001b[43m \u001b[49m\u001b[43mcenterlineCurveNode\u001b[49m\u001b[43m)\u001b[49m\n",
      "File \u001b[1;32mC:/Users/Kids/AppData/Local/slicer.org/Slicer 5.6.1/slicer.org/Extensions-32438/SlicerVMTK/lib/Slicer-5.6/qt-scripted-modules/ExtractCenterline.py:935\u001b[0m, in \u001b[0;36mExtractCenterlineLogic.addCenterlineCurves\u001b[1;34m(self, mergedCenterlines, centerlineCurveNode)\u001b[0m\n\u001b[0;32m    933\u001b[0m \u001b[38;5;66;03m# Add centerline widgets\u001b[39;00m\n\u001b[0;32m    934\u001b[0m \u001b[38;5;28mself\u001b[39m\u001b[38;5;241m.\u001b[39mprocessedCellIds \u001b[38;5;241m=\u001b[39m []\n\u001b[1;32m--> 935\u001b[0m \u001b[38;5;28;43mself\u001b[39;49m\u001b[38;5;241;43m.\u001b[39;49m\u001b[43m_addCenterline\u001b[49m\u001b[43m(\u001b[49m\u001b[43mmergedCenterlines\u001b[49m\u001b[43m,\u001b[49m\u001b[43m \u001b[49m\u001b[43mreplaceCurve\u001b[49m\u001b[38;5;241;43m=\u001b[39;49m\u001b[43mcenterlineCurveNode\u001b[49m\u001b[43m)\u001b[49m\n",
      "File \u001b[1;32mC:/Users/Kids/AppData/Local/slicer.org/Slicer 5.6.1/slicer.org/Extensions-32438/SlicerVMTK/lib/Slicer-5.6/qt-scripted-modules/ExtractCenterline.py:995\u001b[0m, in \u001b[0;36mExtractCenterlineLogic._addCenterline\u001b[1;34m(self, mergedCenterlines, baseName, cellId, parentItem, replaceCurve)\u001b[0m\n\u001b[0;32m    991\u001b[0m curveNode\u001b[38;5;241m.\u001b[39mSetAttribute(\u001b[38;5;124m\"\u001b[39m\u001b[38;5;124mGroupId\u001b[39m\u001b[38;5;124m\"\u001b[39m, \u001b[38;5;28mstr\u001b[39m(groupId))\n\u001b[0;32m    993\u001b[0m \u001b[38;5;66;03m# Add control points in the order as appears in the cell (line) because the point IDs are not in the\u001b[39;00m\n\u001b[0;32m    994\u001b[0m \u001b[38;5;66;03m# correct order (the branching points always have the highest ID).\u001b[39;00m\n\u001b[1;32m--> 995\u001b[0m \u001b[43mcurveNode\u001b[49m\u001b[38;5;241;43m.\u001b[39;49m\u001b[43mSetControlPointPositionsWorld\u001b[49m(thresholder\u001b[38;5;241m.\u001b[39mGetOutput()\u001b[38;5;241m.\u001b[39mGetCell(\u001b[38;5;241m0\u001b[39m)\u001b[38;5;241m.\u001b[39mGetPoints())\n\u001b[0;32m    997\u001b[0m \u001b[38;5;28mself\u001b[39m\u001b[38;5;241m.\u001b[39m_addCurveMeasurementArray(curveNode, thresholder\u001b[38;5;241m.\u001b[39mGetOutput()\u001b[38;5;241m.\u001b[39mGetPointData()\u001b[38;5;241m.\u001b[39mGetArray(\u001b[38;5;124m'\u001b[39m\u001b[38;5;124mRadius\u001b[39m\u001b[38;5;124m'\u001b[39m))\n\u001b[0;32m    999\u001b[0m slicer\u001b[38;5;241m.\u001b[39mmodules\u001b[38;5;241m.\u001b[39mmarkups\u001b[38;5;241m.\u001b[39mlogic()\u001b[38;5;241m.\u001b[39mSetAllControlPointsVisibility(curveNode, \u001b[38;5;28;01mFalse\u001b[39;00m)\n",
      "\u001b[1;31mAttributeError\u001b[0m: 'MRMLCorePython.vtkMRMLModelNode' object has no attribute 'SetControlPointPositionsWorld'"
     ]
    }
   ],
   "source": [
    "############################################################################\n",
    "############################################################################\n",
    "\n",
    "### EXTRACT CENTERLINE ### \n",
    "\n",
    "centerlineCurveNode = None \n",
    "\n",
    "print(\"Auto-detecting surface model endpoints...\") \n",
    "\n",
    "# ATTEMPTS TO 'CLICK' THE 'AUTO-DETECT' BUTTON AND STORE THE END POINT MARKUPS IN THE 'endPointsMarkupsNode' VARIABLE \n",
    "# Auto-detect the endpoints \n",
    "endPointsMarkupsNode = slicer.mrmlScene.AddNewNodeByClass(\"vtkMRMLMarkupsFiducialNode\", \"Centerline endpoints\") \n",
    "networkPolyData = extractLogic.extractNetwork(preprocessedPolyData, endPointsMarkupsNode) \n",
    "startPointPosition=None \n",
    "endpointPositions = extractLogic.getEndPoints(networkPolyData, startPointPosition) \n",
    "endPointsMarkupsNode.RemoveAllMarkups() \n",
    "\n",
    "for position in endpointPositions: \n",
    "  endPointsMarkupsNode.AddControlPoint(vtk.vtkVector3d(position)) \n",
    "\n",
    "print(\"End points autodetected...\")\n",
    "\n",
    "# USED TO STORE THE CENTERLINE CURVE\n",
    "if centerlineCurveNode is None: \n",
    "    centerlineCurveNode = slicer.mrmlScene.AddNewNodeByClass(\"vtkMRMLMarkupsCurveNode\", \"Centerline curve\") \n",
    "\n",
    "slicer.util.showStatusMessage(\"Extracting centerline...\")  \n",
    "\n",
    "# FORCES UPDATE TO ENSURE MODIFIED SETTINGS ARE APPLIED BEFORE RUNNING THE MODULE \n",
    "slicer.app.processEvents()  # force update \n",
    "\n",
    "# PASSES CENTERLINE/DIAGRAM DATA TO 2 SEPARATE VARIABLES \n",
    "# 'preprocessedPolyData'PREPROCESS MODIFIERS, MARKUPS/ENDPOINTS NODE PASSED INTO 'extractCenterline' \n",
    "centerlinePolyData, voronoiDiagramPolyData = extractLogic.extractCenterline( \n",
    "        preprocessedPolyData, endPointsMarkupsNode, curveSamplingDistance=0.001) #'end_pts' replaced with 'endPointsMarkupsNode' \n",
    "\n",
    "slicer.util.showStatusMessage(\"Generating curves and quantification results table...\") \n",
    "\n",
    "slicer.app.processEvents()  # force update  \n",
    "\n",
    "centerlinePropertiesTableNode = None  \n",
    "\n",
    "print(\"Extracting centerline curve tree...\")\n",
    "\n",
    "# USED TO GENERATE CENTERLINE SEGMENTS FROM DATA\n",
    "extractLogic.createCurveTreeFromCenterline( \n",
    "    centerlinePolyData, centerlineCurveNode, centerlinePropertiesTableNode \n",
    ")\n",
    "\n",
    "if centerlineCurveNode.GetNumberOfControlPoints() == 2: \n",
    "    # If Extraction had an error, likely due to too high decimation aggressiveness \n",
    "    # Try again \n",
    "    slicer.util.errorDisplay( \n",
    "        \"Centerline generation failed, possibly due to decimationAggressiveness being too high.\" \n",
    "    )\n",
    "\n",
    "print(\"Segmented centerline curve tree created...\")"
   ]
  },
  {
   "cell_type": "code",
   "execution_count": 4,
   "id": "c238f9db-9d94-4217-b89b-ef2597df2e4d",
   "metadata": {},
   "outputs": [
    {
     "name": "stdout",
     "output_type": "stream",
     "text": [
      "Extracting centerline model...\n",
      "Centerline model extracted\n",
      "Centerline extraction complete\n"
     ]
    }
   ],
   "source": [
    "############################################################################\n",
    "############################################################################\n",
    "\n",
    "### GET 1-SEGMENT CENTERLINE MODEL ###\n",
    "\n",
    "print(\"Extracting centerline model...\")\n",
    "\n",
    "# INSTANTIATE MODEL NODE\n",
    "centerlineModel = slicer.vtkMRMLModelNode()\n",
    "# APPLY 'centerlinePolyData'TO NEW MODEL NODE\n",
    "centerlineModel.SetAndObservePolyData(centerlinePolyData)\n",
    "# USED TO EDIT CENTERLINE MODEL APPEARANCE\n",
    "centerlineModelDisplay = slicer.vtkMRMLModelDisplayNode()\n",
    "\n",
    "# USED TO SET APPEARANCE OF MODEL NODE\n",
    "centerlineModelDisplay.SetColor(1, 1, 0)\n",
    "centerlineModelDisplay.BackfaceCullingOff()\n",
    "centerlineModelDisplay.SetOpacity(0.8)\n",
    "centerlineModelDisplay.SetPointSize(3)\n",
    "\n",
    "centerlineModelDisplay.SetSliceIntersectionVisibility(True)\n",
    "centerlineModelDisplay.SetVisibility(True)\n",
    "\n",
    "# ADDS MODEL NODE APPEARANCE INFO TO SLICER SCENE\n",
    "slicer.mrmlScene.AddNode(centerlineModelDisplay)\n",
    "centerlineModel.SetAndObserveDisplayNodeID(centerlineModelDisplay.GetID())\n",
    "centerlineModelDisplay.SetInputPolyDataConnection(centerlineModel.GetPolyDataConnection())\n",
    "# ADDS CENTERLINE MODEL NODE TO SLICER SCENE\n",
    "slicer.mrmlScene.AddNode(centerlineModel)\n",
    "\n",
    "print(\"Centerline model extracted\")\n",
    "\n",
    "print(\"Centerline extraction complete\")"
   ]
  },
  {
   "cell_type": "code",
   "execution_count": 5,
   "id": "8ff2f7b7-9adf-4fa2-b9d2-651f113583fb",
   "metadata": {},
   "outputs": [
    {
     "data": {
      "text/plain": [
       "True"
      ]
     },
     "execution_count": 5,
     "metadata": {},
     "output_type": "execute_result"
    }
   ],
   "source": [
    "############################################################################\n",
    "############################################################################\n",
    "\n",
    "### EXPORT RESULTS TO FILES ###\n",
    "\n",
    "print(\"Exporting 1-segment centerline model to file...\")\n",
    "\n",
    "# EXPORT 1-SEGMENT CENTERLINE MODEL TO .vtk FILE\n",
    "slicer.util.saveNode(centerlineModel, \"J:\\\\SOHEIL_PROJECT\\\\SEGMENTATION\\\\MESAL-7012705\\\\Segmentation_final_v2-5_use-label\\\\complete_centerline_model.vtk\")\n",
    "\n",
    "print(\"1-segment centerline model exported...\")\n",
    "\n",
    "print(\"Exporting centerline curvature segments to file...\")"
   ]
  },
  {
   "cell_type": "code",
   "execution_count": null,
   "id": "18676b6d-e5e6-45e9-88cb-25fe85a018e4",
   "metadata": {},
   "outputs": [],
   "source": []
  }
 ],
 "metadata": {
  "kernelspec": {
   "display_name": "Slicer 5.6",
   "language": "python",
   "name": "slicer-5.6"
  },
  "language_info": {
   "file_extension": ".py",
   "mimetype": "text/x-python",
   "name": "python",
   "version": "3.9.10"
  }
 },
 "nbformat": 4,
 "nbformat_minor": 5
}
