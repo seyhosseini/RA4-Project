{
 "cells": [
  {
   "cell_type": "code",
   "execution_count": 33,
   "metadata": {},
   "outputs": [],
   "source": [
    "# To do list:\n",
    "# Pick H-32324\n",
    "# VDysDir = Create ./VDysDir\n",
    "# Search ImagesDirectory for H-12313\n",
    "# find Case#\n",
    "# find files .nii.gz > then pick the first! [but print warning]\n",
    "# copy image to VDysDir\n",
    "# List all nrrd\n",
    "# Find ones with label > if several print warn > Pick last\n",
    "# Copy nrrd to VDysDir\n",
    "# List of segments = ['ZUNU_vida-sublobes.hdr', ...]\n",
    "# Find sublobes and recenter them, and put them in VDysDir"
   ]
  },
  {
   "cell_type": "code",
   "execution_count": 1,
   "metadata": {},
   "outputs": [
    {
     "name": "stdout",
     "output_type": "stream",
     "text": [
      "H-17727\n"
     ]
    }
   ],
   "source": [
    "# Find H-Number\n",
    "import re\n",
    "VidaDirectory = r\"Y:\\E-Kelly-VidaSegmentals&Sublobes\\3- 20Spiromics-10ForKelly-ForERS23\\Case53-IA210273_H-17727_20160125_141016_20230524_121005_export\"\n",
    "pattern = r'H-\\d{5}'  # Regular expression pattern\n",
    "matches = re.findall(pattern, VidaDirectory)  # Find all matches\n",
    "HNUM = matches[0]  # Print the matched patterns\n",
    "print(HNUM)"
   ]
  },
  {
   "cell_type": "code",
   "execution_count": 3,
   "metadata": {},
   "outputs": [
    {
     "name": "stdout",
     "output_type": "stream",
     "text": [
      "VDysDir created in the VIDA folder\n"
     ]
    }
   ],
   "source": [
    "# Create VDysDir Dir\n",
    "import os\n",
    "VDysDir = os.path.join(VidaDirectory, 'VDysDir')\n",
    "if not os.path.exists(VDysDir):\n",
    "        os.makedirs(VDysDir)\n",
    "print(\"VDysDir created in the VIDA folder\")"
   ]
  },
  {
   "cell_type": "code",
   "execution_count": 6,
   "metadata": {},
   "outputs": [
    {
     "name": "stdout",
     "output_type": "stream",
     "text": [
      "Found folder: Case-53-Spiromics-46195695\n",
      "Case-53\n"
     ]
    }
   ],
   "source": [
    "# Find Case# by seraching in the done folder trees\n",
    "ImagesDirectory = r\"Y:\\D-Images\\SPIROMICS-SubStudy\\2-Results-CheckedDoneTemp\\1-Done\"\n",
    "def find_folder_with_hnum(path, HNUM):\n",
    "    for root, dirs, files in os.walk(path):\n",
    "        if root[-12:] == '1-Duplicates': continue\n",
    "        for file in files:\n",
    "            if HNUM in file:\n",
    "                while True:\n",
    "                    if \"Case-\" in os.path.basename(root):\n",
    "                        return os.path.basename(root)\n",
    "                    root = os.path.dirname(root)\n",
    "                    if root == path or root == os.path.dirname(root):\n",
    "                        break\n",
    "    return None\n",
    "result = find_folder_with_hnum(ImagesDirectory, HNUM)\n",
    "if result: print(\"Found folder:\", result)\n",
    "else: print(\"No matching folder found.\")\n",
    "pattern = r'Case-\\d{2}'  # Regular expression pattern\n",
    "matches = re.findall(pattern, result)  # Find all matches\n",
    "CNUM = matches[0]  # Print the matched patterns\n",
    "print(CNUM)"
   ]
  },
  {
   "cell_type": "code",
   "execution_count": 9,
   "metadata": {},
   "outputs": [
    {
     "name": "stdout",
     "output_type": "stream",
     "text": [
      "H-17727_IA210273_SPI-IA210273-PBV_EXPIRATION__0.5__QR40__3__A_80KV_Qr40d_46195695.nii.gz\n",
      "H-17727_IA210273_SPI-IA210273-PBV_EXPIRATION__0.75__QR40__A_80KV_Qr40d_46194659.nii.gz\n",
      "\n",
      "Picked the first as the target image\n"
     ]
    }
   ],
   "source": [
    "import glob\n",
    "# Use glob to find all files with the extension \".nii.gz\"\n",
    "CASEPATH = os.path.join(ImagesDirectory, result)\n",
    "IMGPATH = glob.glob(CASEPATH + '/**/*.nii.gz', recursive=True)\n",
    "# Print the list of files\n",
    "for IMPTH in IMGPATH:\n",
    "    print(os.path.basename(IMPTH))\n",
    "print('\\nPicked the first as the target image')"
   ]
  },
  {
   "cell_type": "code",
   "execution_count": 31,
   "metadata": {},
   "outputs": [
    {
     "name": "stdout",
     "output_type": "stream",
     "text": [
      "Copied image to VDysDir\n"
     ]
    }
   ],
   "source": [
    "import shutil\n",
    "source_file = IMGPATH[0]\n",
    "destination_folder = VDysDir\n",
    "# Copy the file to the destination folder\n",
    "shutil.copy(source_file, destination_folder)\n",
    "print('Copied that image to VDysDir')"
   ]
  },
  {
   "cell_type": "code",
   "execution_count": 29,
   "metadata": {},
   "outputs": [
    {
     "name": "stdout",
     "output_type": "stream",
     "text": [
      "S-Final-1-label.nrrd\n",
      "\n",
      "Picked the last\n"
     ]
    }
   ],
   "source": [
    "# Use glob to find all files with the extension \".nrrd\"\n",
    "file_list = glob.glob(CASEPATH + '/**/*.nrrd', recursive=True)\n",
    "# Filter the file list based on file names containing \"Final\" and \"label\"\n",
    "LABELS = [file for file in file_list if 'Final' in file and 'label' in file]\n",
    "for LABEL in LABELS:\n",
    "    print(os.path.basename(LABEL))\n",
    "LABELPATH = LABELS[-1]\n",
    "print('\\nPicked the last as the target labelmap')"
   ]
  },
  {
   "cell_type": "code",
   "execution_count": 32,
   "metadata": {},
   "outputs": [
    {
     "name": "stdout",
     "output_type": "stream",
     "text": [
      "Copied label to VDysDir\n"
     ]
    }
   ],
   "source": [
    "source_file = LABELPATH\n",
    "destination_folder = VDysDir\n",
    "# Copy the file to the destination folder\n",
    "shutil.copy(source_file, destination_folder)\n",
    "print('Copied that labelmap to VDysDir')"
   ]
  },
  {
   "cell_type": "code",
   "execution_count": 14,
   "metadata": {},
   "outputs": [
    {
     "name": "stdout",
     "output_type": "stream",
     "text": [
      "saved: ZUNU_vida-vessels-recentered.nii.gz\n",
      "saved: ZUNU_vida-sublobes-recentered.nii.gz\n",
      "saved: ZUNU_vida-lung-recentered.nii.gz\n",
      "saved: ZUNU_vida-airtree-recentered.nii.gz\n"
     ]
    }
   ],
   "source": [
    "SEGMENTS = ['ZUNU_vida-vessels.hdr', 'ZUNU_vida-sublobes.hdr', 'ZUNU_vida-lung.hdr', 'ZUNU_vida-airtree.hdr']\n",
    "# re-center vessels and lung masks:\n",
    "import SimpleITK as sitk\n",
    "import numpy as np\n",
    "imfn = os.path.join(VDysDir, os.path.basename(IMGPATH[0]))\n",
    "iim = sitk.ReadImage(imfn)\n",
    "for SEG in SEGMENTS:\n",
    "    segfn = os.path.join(VidaDirectory, SEG)\n",
    "    segim = sitk.ReadImage(segfn)\n",
    "    snda = sitk.GetArrayFromImage(segim)\n",
    "    snds = np.flip(snda, axis=0)\n",
    "    fseg = sitk.GetImageFromArray(snds)\n",
    "    fseg.CopyInformation(iim)\n",
    "    outfn = SEG[0:-4] + '-recentered.nii.gz'\n",
    "    sitk.WriteImage(fseg, os.path.join(VDysDir, outfn)) # flipped\n",
    "    print('saved:', outfn)"
   ]
  }
 ],
 "metadata": {
  "kernelspec": {
   "display_name": ".venv",
   "language": "python",
   "name": "python3"
  },
  "language_info": {
   "codemirror_mode": {
    "name": "ipython",
    "version": 3
   },
   "file_extension": ".py",
   "mimetype": "text/x-python",
   "name": "python",
   "nbconvert_exporter": "python",
   "pygments_lexer": "ipython3",
   "version": "3.9.13"
  },
  "orig_nbformat": 4
 },
 "nbformat": 4,
 "nbformat_minor": 2
}
