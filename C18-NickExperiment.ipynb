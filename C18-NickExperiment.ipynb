{
 "cells": [
  {
   "cell_type": "code",
   "execution_count": 10,
   "metadata": {},
   "outputs": [],
   "source": [
    "#Code for dummy disease map. Generates lung mask with random values corresponding to diseases.\n",
    "import numpy as np\n",
    "\n",
    "# Define the dimensions of the 3D array\n",
    "dimensions = (200, 200, 200)\n",
    "\n",
    "# Define the values and their corresponding probabilities\n",
    "values = [0, 2, 3, 4]\n",
    "probabilities = [0.1, 0.7, 0.1, 0.1]\n",
    "\n",
    "# Create the 3D array with random values based on probabilities\n",
    "random_values = np.random.choice(values, size=dimensions, p=probabilities)\n",
    "\n",
    "# Now, 'random_values' is a 3D NumPy array with the specified dimensions and values sampled based on probabilities."
   ]
  },
  {
   "cell_type": "code",
   "execution_count": 11,
   "metadata": {},
   "outputs": [],
   "source": [
    "#Function from Nate's code\n",
    "def update_camera_info(obj, evt):\n",
    "                    camera = mlab.gcf().scene.camera\n",
    "                    print(\"Camera Position:\", camera.position)\n",
    "                    print(\"Camera Focal Point:\", camera.focal_point)\n",
    "                    print(\"Camera View Up:\", camera.view_up)"
   ]
  },
  {
   "cell_type": "code",
   "execution_count": 12,
   "metadata": {},
   "outputs": [],
   "source": [
    "#Load in the file\n",
    "import nrrd\n",
    "import nibabel as nib\n",
    "from mayavi import mlab\n",
    "\n",
    "# Load the NIfTI image using nibabel\n",
    "file_path = r'Z:\\D-Images\\SPIROMICS-SubStudy\\2-Results-CheckedDoneTemp\\1-Done\\Case-50-Spiromics-45626090\\seg_net\\SPI-IA210305-PBV_FRC_0.75_Qr40d_VNC.mask.nii.gz'\n",
    "nii_image = nib.load(file_path)"
   ]
  },
  {
   "cell_type": "code",
   "execution_count": 13,
   "metadata": {},
   "outputs": [],
   "source": [
    "# Get the image data as a NumPy array\n",
    "image_data = nii_image.get_fdata().astype(int)\n",
    "# image_data = np.where(image_data != 0, 1, image_data)\n",
    "condition = image_data > 0\n",
    "image_data[condition] = 1\n",
    "\n",
    "#Create lung pathogen map\n",
    "dimensions = image_data.shape\n",
    "\n",
    "# Define the values and their corresponding probabilities\n",
    "values = [0, 2, 3, 4]\n",
    "probabilities = [1-0.06, 0.02, 0.02, 0.02]\n",
    "\n",
    "# Create the 3D array with random values based on probabilities\n",
    "diseaseEX = np.random.choice(values, size=dimensions, p=probabilities)\n",
    "diseaseEX = diseaseEX * image_data\n",
    "\n",
    "#Center of mass coordinates\n",
    "coords = np.argwhere(image_data)\n",
    "center_of_mass = np.mean(coords, axis=0)\n",
    "center_of_mass = (center_of_mass / 10).astype(int)   #Remove /10         #center_of_mass.astype(int) / 10\n",
    "image_data[*center_of_mass] = 2"
   ]
  },
  {
   "cell_type": "code",
   "execution_count": 65,
   "metadata": {},
   "outputs": [
    {
     "name": "stdout",
     "output_type": "stream",
     "text": [
      "[[0. 0. 0. ... 0. 0. 0.]\n",
      " [0. 0. 0. ... 0. 0. 0.]\n",
      " [0. 0. 0. ... 0. 0. 0.]\n",
      " ...\n",
      " [0. 0. 0. ... 0. 0. 0.]\n",
      " [0. 0. 0. ... 0. 0. 0.]\n",
      " [0. 0. 0. ... 0. 0. 0.]]\n"
     ]
    }
   ],
   "source": [
    "import numpy as np\n",
    "\n",
    "# Define the dimensions of the array\n",
    "shape = (512, 512, 556)\n",
    "\n",
    "# Create an empty array filled with zeros\n",
    "array = np.zeros(shape)\n",
    "\n",
    "# Define the center and cutoff distance\n",
    "center = (240, 280, 300)\n",
    "cutoff_distance = 100\n",
    "\n",
    "# Create coordinate grids for each dimension\n",
    "x, y, z = np.meshgrid(\n",
    "    np.arange(shape[0]),\n",
    "    np.arange(shape[1]),\n",
    "    np.arange(shape[2])\n",
    ")\n",
    "\n",
    "# Calculate the Euclidean distance from the center for each point\n",
    "distance = np.sqrt((x - center[0])**2 + (y - center[1])**2 + (z - center[2])**2)\n",
    "\n",
    "# Apply the Gaussian distribution with a mean of 0 and standard deviation of 1\n",
    "gaussian = np.exp(-0.5 * (distance / cutoff_distance)**2)\n",
    "\n",
    "# Threshold the Gaussian values to either 0 or 2\n",
    "array[gaussian >= 0.9] = 2\n",
    "\n",
    "# Print a slice of the array to verify\n",
    "print(array[:, :, 250])  # Print a slice along the z-axis (at z=250)\n",
    "\n",
    "array = array * image_data"
   ]
  },
  {
   "cell_type": "code",
   "execution_count": 64,
   "metadata": {},
   "outputs": [
    {
     "data": {
      "text/plain": [
       "0.0"
      ]
     },
     "execution_count": 64,
     "metadata": {},
     "output_type": "execute_result"
    }
   ],
   "source": [
    "array.max()"
   ]
  },
  {
   "cell_type": "code",
   "execution_count": 66,
   "metadata": {},
   "outputs": [
    {
     "name": "stderr",
     "output_type": "stream",
     "text": [
      "Exception occurred in traits notification handler for object: <mayavi.tools.modules.IsoSurfaceFactory object at 0x0000025D8002A0C0>, trait: contours, old value: 5, new value: [0.5]\n",
      "Traceback (most recent call last):\n",
      "  File \"c:\\Users\\nichmoore\\Documents\\GitHub\\RA4-Project\\venvnick\\Lib\\site-packages\\traits\\trait_notifiers.py\", line 342, in __call__\n",
      "    self.handler(*args)\n",
      "  File \"c:\\Users\\nichmoore\\Documents\\GitHub\\RA4-Project\\venvnick\\Lib\\site-packages\\mayavi\\tools\\modules.py\", line 185, in _contours_changed\n",
      "    self._target.contour.contours = self.contours\n",
      "    ^^^^^^^^^^^^^^^^^^^^^^^^^^^^^\n",
      "  File \"c:\\Users\\nichmoore\\Documents\\GitHub\\RA4-Project\\venvnick\\Lib\\site-packages\\traits\\trait_types.py\", line 2695, in validate\n",
      "    return TraitListObject(self, object, name, value)\n",
      "           ^^^^^^^^^^^^^^^^^^^^^^^^^^^^^^^^^^^^^^^^^^\n",
      "  File \"c:\\Users\\nichmoore\\Documents\\GitHub\\RA4-Project\\venvnick\\Lib\\site-packages\\traits\\trait_list_object.py\", line 584, in __init__\n",
      "    super().__init__(\n",
      "  File \"c:\\Users\\nichmoore\\Documents\\GitHub\\RA4-Project\\venvnick\\Lib\\site-packages\\traits\\trait_list_object.py\", line 213, in __init__\n",
      "    super().__init__(self.item_validator(item) for item in iterable)\n",
      "  File \"c:\\Users\\nichmoore\\Documents\\GitHub\\RA4-Project\\venvnick\\Lib\\site-packages\\traits\\trait_list_object.py\", line 213, in <genexpr>\n",
      "    super().__init__(self.item_validator(item) for item in iterable)\n",
      "                     ^^^^^^^^^^^^^^^^^^^^^^^^^\n",
      "  File \"c:\\Users\\nichmoore\\Documents\\GitHub\\RA4-Project\\venvnick\\Lib\\site-packages\\traits\\trait_list_object.py\", line 867, in _item_validator\n",
      "    return trait_validator(object, self.name, value)\n",
      "           ^^^^^^^^^^^^^^^^^^^^^^^^^^^^^^^^^^^^^^^^^\n",
      "  File \"c:\\Users\\nichmoore\\Documents\\GitHub\\RA4-Project\\venvnick\\Lib\\site-packages\\traits\\trait_types.py\", line 1937, in _validate\n",
      "    self.error(object, name, value)\n",
      "  File \"c:\\Users\\nichmoore\\Documents\\GitHub\\RA4-Project\\venvnick\\Lib\\site-packages\\traits\\base_trait_handler.py\", line 74, in error\n",
      "    raise TraitError(\n",
      "traits.trait_errors.TraitError: Each element of the 'contours' trait of a Contour instance must be 0.0 <= a number <= 0.0, but a value of 0.5 <class 'float'> was specified.\n"
     ]
    },
    {
     "ename": "TraitError",
     "evalue": "Each element of the 'contours' trait of a Contour instance must be 0.0 <= a number <= 0.0, but a value of 0.5 <class 'float'> was specified.",
     "output_type": "error",
     "traceback": [
      "\u001b[1;31m---------------------------------------------------------------------------\u001b[0m",
      "\u001b[1;31mTraitError\u001b[0m                                Traceback (most recent call last)",
      "\u001b[1;32mc:\\Users\\nichmoore\\Documents\\GitHub\\RA4-Project\\C18-NickExperiment.ipynb Cell 7\u001b[0m line \u001b[0;36m1\n\u001b[0;32m      <a href='vscode-notebook-cell:/c%3A/Users/nichmoore/Documents/GitHub/RA4-Project/C18-NickExperiment.ipynb#W5sZmlsZQ%3D%3D?line=7'>8</a>\u001b[0m \u001b[39m#Dummy Lung Mask\u001b[39;00m\n\u001b[0;32m      <a href='vscode-notebook-cell:/c%3A/Users/nichmoore/Documents/GitHub/RA4-Project/C18-NickExperiment.ipynb#W5sZmlsZQ%3D%3D?line=8'>9</a>\u001b[0m obj \u001b[39m=\u001b[39m (array \u001b[39m==\u001b[39m \u001b[39m2\u001b[39m)\u001b[39m.\u001b[39mastype(\u001b[39mint\u001b[39m)\n\u001b[1;32m---> <a href='vscode-notebook-cell:/c%3A/Users/nichmoore/Documents/GitHub/RA4-Project/C18-NickExperiment.ipynb#W5sZmlsZQ%3D%3D?line=9'>10</a>\u001b[0m mlab\u001b[39m.\u001b[39;49mcontour3d(obj[::\u001b[39m10\u001b[39;49m,::\u001b[39m10\u001b[39;49m,::\u001b[39m10\u001b[39;49m], contours\u001b[39m=\u001b[39;49m[\u001b[39m0.5\u001b[39;49m], opacity \u001b[39m=\u001b[39;49m \u001b[39m0.9\u001b[39;49m, color \u001b[39m=\u001b[39;49m (\u001b[39m1\u001b[39;49m, \u001b[39m0\u001b[39;49m, \u001b[39m0\u001b[39;49m))   \u001b[39m#Remove later\u001b[39;00m\n\u001b[0;32m     <a href='vscode-notebook-cell:/c%3A/Users/nichmoore/Documents/GitHub/RA4-Project/C18-NickExperiment.ipynb#W5sZmlsZQ%3D%3D?line=10'>11</a>\u001b[0m \u001b[39m# obj = (diseaseEX == 3).astype(int)\u001b[39;00m\n\u001b[0;32m     <a href='vscode-notebook-cell:/c%3A/Users/nichmoore/Documents/GitHub/RA4-Project/C18-NickExperiment.ipynb#W5sZmlsZQ%3D%3D?line=11'>12</a>\u001b[0m \u001b[39m# mlab.contour3d(obj[::10,::10,::10], contours=[0.5], opacity = 0.9, color = (0, 0, 1))\u001b[39;00m\n\u001b[0;32m     <a href='vscode-notebook-cell:/c%3A/Users/nichmoore/Documents/GitHub/RA4-Project/C18-NickExperiment.ipynb#W5sZmlsZQ%3D%3D?line=12'>13</a>\u001b[0m \u001b[39m# obj = (diseaseEX == 4).astype(int)\u001b[39;00m\n\u001b[0;32m     <a href='vscode-notebook-cell:/c%3A/Users/nichmoore/Documents/GitHub/RA4-Project/C18-NickExperiment.ipynb#W5sZmlsZQ%3D%3D?line=13'>14</a>\u001b[0m \u001b[39m# mlab.contour3d(obj[::10,::10,::10], contours=[0.5], opacity = 0.9, color = (148/255, 0, 211/255))\u001b[39;00m\n\u001b[0;32m     <a href='vscode-notebook-cell:/c%3A/Users/nichmoore/Documents/GitHub/RA4-Project/C18-NickExperiment.ipynb#W5sZmlsZQ%3D%3D?line=14'>15</a>\u001b[0m \n\u001b[0;32m     <a href='vscode-notebook-cell:/c%3A/Users/nichmoore/Documents/GitHub/RA4-Project/C18-NickExperiment.ipynb#W5sZmlsZQ%3D%3D?line=15'>16</a>\u001b[0m \u001b[39m# Set the camera position and direction to focus on the center of mass\u001b[39;00m\n\u001b[0;32m     <a href='vscode-notebook-cell:/c%3A/Users/nichmoore/Documents/GitHub/RA4-Project/C18-NickExperiment.ipynb#W5sZmlsZQ%3D%3D?line=16'>17</a>\u001b[0m mlab\u001b[39m.\u001b[39mview(azimuth\u001b[39m=\u001b[39m\u001b[39m90\u001b[39m, elevation\u001b[39m=\u001b[39m\u001b[39m90\u001b[39m, distance\u001b[39m=\u001b[39m\u001b[39m600\u001b[39m\u001b[39m/\u001b[39m\u001b[39m0.546875\u001b[39m, focalpoint\u001b[39m=\u001b[39mcenter_of_mass)\n",
      "File \u001b[1;32mc:\\Users\\nichmoore\\Documents\\GitHub\\RA4-Project\\venvnick\\Lib\\site-packages\\mayavi\\tools\\helper_functions.py:38\u001b[0m, in \u001b[0;36mdocument_pipeline.<locals>.the_function\u001b[1;34m(*args, **kwargs)\u001b[0m\n\u001b[0;32m     37\u001b[0m \u001b[39mdef\u001b[39;00m \u001b[39mthe_function\u001b[39m(\u001b[39m*\u001b[39margs, \u001b[39m*\u001b[39m\u001b[39m*\u001b[39mkwargs):\n\u001b[1;32m---> 38\u001b[0m     \u001b[39mreturn\u001b[39;00m pipeline(\u001b[39m*\u001b[39;49margs, \u001b[39m*\u001b[39;49m\u001b[39m*\u001b[39;49mkwargs)\n",
      "File \u001b[1;32mc:\\Users\\nichmoore\\Documents\\GitHub\\RA4-Project\\venvnick\\Lib\\site-packages\\mayavi\\tools\\helper_functions.py:83\u001b[0m, in \u001b[0;36mPipeline.__call__\u001b[1;34m(self, *args, **kwargs)\u001b[0m\n\u001b[0;32m     81\u001b[0m     scene\u001b[39m.\u001b[39mdisable_render \u001b[39m=\u001b[39m \u001b[39mTrue\u001b[39;00m\n\u001b[0;32m     82\u001b[0m \u001b[39m# Then call the real logic\u001b[39;00m\n\u001b[1;32m---> 83\u001b[0m output \u001b[39m=\u001b[39m \u001b[39mself\u001b[39;49m\u001b[39m.\u001b[39;49m__call_internal__(\u001b[39m*\u001b[39;49margs, \u001b[39m*\u001b[39;49m\u001b[39m*\u001b[39;49mkwargs)\n\u001b[0;32m     84\u001b[0m \u001b[39m# And re-enable the rendering, if needed.\u001b[39;00m\n\u001b[0;32m     85\u001b[0m \u001b[39mif\u001b[39;00m scene \u001b[39mis\u001b[39;00m \u001b[39mnot\u001b[39;00m \u001b[39mNone\u001b[39;00m:\n",
      "File \u001b[1;32mc:\\Users\\nichmoore\\Documents\\GitHub\\RA4-Project\\venvnick\\Lib\\site-packages\\mayavi\\tools\\helper_functions.py:96\u001b[0m, in \u001b[0;36mPipeline.__call_internal__\u001b[1;34m(self, *args, **kwargs)\u001b[0m\n\u001b[0;32m     94\u001b[0m \u001b[39m# Copy the pipeline so as not to modify it for the next call\u001b[39;00m\n\u001b[0;32m     95\u001b[0m \u001b[39mself\u001b[39m\u001b[39m.\u001b[39mpipeline \u001b[39m=\u001b[39m \u001b[39mself\u001b[39m\u001b[39m.\u001b[39m_pipeline[:]\n\u001b[1;32m---> 96\u001b[0m \u001b[39mreturn\u001b[39;00m \u001b[39mself\u001b[39;49m\u001b[39m.\u001b[39;49mbuild_pipeline()\n",
      "File \u001b[1;32mc:\\Users\\nichmoore\\Documents\\GitHub\\RA4-Project\\venvnick\\Lib\\site-packages\\mayavi\\tools\\helper_functions.py:124\u001b[0m, in \u001b[0;36mPipeline.build_pipeline\u001b[1;34m(self)\u001b[0m\n\u001b[0;32m    122\u001b[0m         \u001b[39mif\u001b[39;00m key \u001b[39min\u001b[39;00m keywords:\n\u001b[0;32m    123\u001b[0m             this_kwargs[key] \u001b[39m=\u001b[39m value\n\u001b[1;32m--> 124\u001b[0m     \u001b[39mobject\u001b[39m \u001b[39m=\u001b[39m pipe(\u001b[39mobject\u001b[39;49m, \u001b[39m*\u001b[39;49m\u001b[39m*\u001b[39;49mthis_kwargs)\u001b[39m.\u001b[39m_target\n\u001b[0;32m    125\u001b[0m \u001b[39mreturn\u001b[39;00m \u001b[39mobject\u001b[39m\n",
      "File \u001b[1;32mc:\\Users\\nichmoore\\Documents\\GitHub\\RA4-Project\\venvnick\\Lib\\site-packages\\mayavi\\tools\\modules.py:162\u001b[0m, in \u001b[0;36mDataModuleFactory.__init__\u001b[1;34m(self, *args, **kwargs)\u001b[0m\n\u001b[0;32m    161\u001b[0m \u001b[39mdef\u001b[39;00m \u001b[39m__init__\u001b[39m(\u001b[39mself\u001b[39m, \u001b[39m*\u001b[39margs, \u001b[39m*\u001b[39m\u001b[39m*\u001b[39mkwargs):\n\u001b[1;32m--> 162\u001b[0m     \u001b[39msuper\u001b[39;49m(DataModuleFactory, \u001b[39mself\u001b[39;49m)\u001b[39m.\u001b[39;49m\u001b[39m__init__\u001b[39;49m(\u001b[39m*\u001b[39;49margs, \u001b[39m*\u001b[39;49m\u001b[39m*\u001b[39;49mkwargs)\n\u001b[0;32m    163\u001b[0m     \u001b[39m# We are adding data to the scene, reset the zoom:\u001b[39;00m\n\u001b[0;32m    164\u001b[0m     scene \u001b[39m=\u001b[39m \u001b[39mself\u001b[39m\u001b[39m.\u001b[39m_scene\u001b[39m.\u001b[39mscene\n",
      "File \u001b[1;32mc:\\Users\\nichmoore\\Documents\\GitHub\\RA4-Project\\venvnick\\Lib\\site-packages\\mayavi\\tools\\pipe_base.py:163\u001b[0m, in \u001b[0;36mPipeFactory.__init__\u001b[1;34m(self, parent, **kwargs)\u001b[0m\n\u001b[0;32m    160\u001b[0m traits\u001b[39m.\u001b[39mupdate(kwargs)\n\u001b[0;32m    161\u001b[0m \u001b[39m# Now calling the traits setter, so that traits handlers are\u001b[39;00m\n\u001b[0;32m    162\u001b[0m \u001b[39m# called\u001b[39;00m\n\u001b[1;32m--> 163\u001b[0m \u001b[39mself\u001b[39;49m\u001b[39m.\u001b[39;49mtrait_set(\u001b[39m*\u001b[39;49m\u001b[39m*\u001b[39;49mtraits)\n\u001b[0;32m    164\u001b[0m \u001b[39mif\u001b[39;00m scene \u001b[39mis\u001b[39;00m \u001b[39mnot\u001b[39;00m \u001b[39mNone\u001b[39;00m:\n\u001b[0;32m    165\u001b[0m     scene\u001b[39m.\u001b[39mdisable_render \u001b[39m=\u001b[39m \u001b[39mnot\u001b[39;00m \u001b[39mself\u001b[39m\u001b[39m.\u001b[39m_do_redraw\n",
      "File \u001b[1;32mc:\\Users\\nichmoore\\Documents\\GitHub\\RA4-Project\\venvnick\\Lib\\site-packages\\mayavi\\tools\\pipe_base.py:183\u001b[0m, in \u001b[0;36mPipeFactory.trait_set\u001b[1;34m(self, trait_change_notify, **traits)\u001b[0m\n\u001b[0;32m    181\u001b[0m \u001b[39mtry\u001b[39;00m:\n\u001b[0;32m    182\u001b[0m     \u001b[39mif\u001b[39;00m callback \u001b[39mis\u001b[39;00m \u001b[39mnot\u001b[39;00m \u001b[39mNone\u001b[39;00m:\n\u001b[1;32m--> 183\u001b[0m         callback()\n\u001b[0;32m    184\u001b[0m     \u001b[39mself\u001b[39m\u001b[39m.\u001b[39m_anytrait_changed(trait, value)\n\u001b[0;32m    185\u001b[0m \u001b[39mexcept\u001b[39;00m TraitError:\n",
      "File \u001b[1;32mc:\\Users\\nichmoore\\Documents\\GitHub\\RA4-Project\\venvnick\\Lib\\site-packages\\mayavi\\tools\\modules.py:185\u001b[0m, in \u001b[0;36mContourModuleFactory._contours_changed\u001b[1;34m(self)\u001b[0m\n\u001b[0;32m    183\u001b[0m \u001b[39mif\u001b[39;00m contour_list:\n\u001b[0;32m    184\u001b[0m     \u001b[39mself\u001b[39m\u001b[39m.\u001b[39m_target\u001b[39m.\u001b[39mcontour\u001b[39m.\u001b[39mauto_contours \u001b[39m=\u001b[39m \u001b[39mFalse\u001b[39;00m\n\u001b[1;32m--> 185\u001b[0m     \u001b[39mself\u001b[39;49m\u001b[39m.\u001b[39;49m_target\u001b[39m.\u001b[39;49mcontour\u001b[39m.\u001b[39;49mcontours \u001b[39m=\u001b[39m \u001b[39mself\u001b[39m\u001b[39m.\u001b[39mcontours\n\u001b[0;32m    186\u001b[0m \u001b[39melse\u001b[39;00m:\n\u001b[0;32m    187\u001b[0m     \u001b[39massert\u001b[39;00m \u001b[39mtype\u001b[39m(\u001b[39mself\u001b[39m\u001b[39m.\u001b[39mcontours) \u001b[39m==\u001b[39m \u001b[39mint\u001b[39m, \\\n\u001b[0;32m    188\u001b[0m                     \u001b[39m\"\u001b[39m\u001b[39mThe contours argument must be an integer\u001b[39m\u001b[39m\"\u001b[39m\n",
      "File \u001b[1;32mc:\\Users\\nichmoore\\Documents\\GitHub\\RA4-Project\\venvnick\\Lib\\site-packages\\traits\\trait_types.py:2695\u001b[0m, in \u001b[0;36mList.validate\u001b[1;34m(self, object, name, value)\u001b[0m\n\u001b[0;32m   2692\u001b[0m     \u001b[39mif\u001b[39;00m \u001b[39mobject\u001b[39m \u001b[39mis\u001b[39;00m \u001b[39mNone\u001b[39;00m:\n\u001b[0;32m   2693\u001b[0m         \u001b[39mreturn\u001b[39;00m value\n\u001b[1;32m-> 2695\u001b[0m     \u001b[39mreturn\u001b[39;00m TraitListObject(\u001b[39mself\u001b[39;49m, \u001b[39mobject\u001b[39;49m, name, value)\n\u001b[0;32m   2697\u001b[0m \u001b[39mself\u001b[39m\u001b[39m.\u001b[39merror(\u001b[39mobject\u001b[39m, name, value)\n",
      "File \u001b[1;32mc:\\Users\\nichmoore\\Documents\\GitHub\\RA4-Project\\venvnick\\Lib\\site-packages\\traits\\trait_list_object.py:584\u001b[0m, in \u001b[0;36mTraitListObject.__init__\u001b[1;34m(self, trait, object, name, value)\u001b[0m\n\u001b[0;32m    581\u001b[0m value \u001b[39m=\u001b[39m \u001b[39mlist\u001b[39m(value)\n\u001b[0;32m    582\u001b[0m \u001b[39mself\u001b[39m\u001b[39m.\u001b[39m_validate_length(\u001b[39mlen\u001b[39m(value))\n\u001b[1;32m--> 584\u001b[0m \u001b[39msuper\u001b[39;49m()\u001b[39m.\u001b[39;49m\u001b[39m__init__\u001b[39;49m(\n\u001b[0;32m    585\u001b[0m     value,\n\u001b[0;32m    586\u001b[0m     item_validator\u001b[39m=\u001b[39;49m\u001b[39mself\u001b[39;49m\u001b[39m.\u001b[39;49m_item_validator,\n\u001b[0;32m    587\u001b[0m     notifiers\u001b[39m=\u001b[39;49m[\u001b[39mself\u001b[39;49m\u001b[39m.\u001b[39;49mnotifier],\n\u001b[0;32m    588\u001b[0m )\n",
      "File \u001b[1;32mc:\\Users\\nichmoore\\Documents\\GitHub\\RA4-Project\\venvnick\\Lib\\site-packages\\traits\\trait_list_object.py:213\u001b[0m, in \u001b[0;36mTraitList.__init__\u001b[1;34m(self, iterable, item_validator, notifiers)\u001b[0m\n\u001b[0;32m    211\u001b[0m \u001b[39mif\u001b[39;00m item_validator \u001b[39mis\u001b[39;00m \u001b[39mnot\u001b[39;00m \u001b[39mNone\u001b[39;00m:\n\u001b[0;32m    212\u001b[0m     \u001b[39mself\u001b[39m\u001b[39m.\u001b[39mitem_validator \u001b[39m=\u001b[39m item_validator\n\u001b[1;32m--> 213\u001b[0m \u001b[39msuper\u001b[39;49m()\u001b[39m.\u001b[39;49m\u001b[39m__init__\u001b[39;49m(\u001b[39mself\u001b[39;49m\u001b[39m.\u001b[39;49mitem_validator(item) \u001b[39mfor\u001b[39;49;00m item \u001b[39min\u001b[39;49;00m iterable)\n\u001b[0;32m    214\u001b[0m \u001b[39mif\u001b[39;00m notifiers \u001b[39mis\u001b[39;00m \u001b[39mnot\u001b[39;00m \u001b[39mNone\u001b[39;00m:\n\u001b[0;32m    215\u001b[0m     \u001b[39mself\u001b[39m\u001b[39m.\u001b[39mnotifiers \u001b[39m=\u001b[39m \u001b[39mlist\u001b[39m(notifiers)\n",
      "File \u001b[1;32mc:\\Users\\nichmoore\\Documents\\GitHub\\RA4-Project\\venvnick\\Lib\\site-packages\\traits\\trait_list_object.py:213\u001b[0m, in \u001b[0;36m<genexpr>\u001b[1;34m(.0)\u001b[0m\n\u001b[0;32m    211\u001b[0m \u001b[39mif\u001b[39;00m item_validator \u001b[39mis\u001b[39;00m \u001b[39mnot\u001b[39;00m \u001b[39mNone\u001b[39;00m:\n\u001b[0;32m    212\u001b[0m     \u001b[39mself\u001b[39m\u001b[39m.\u001b[39mitem_validator \u001b[39m=\u001b[39m item_validator\n\u001b[1;32m--> 213\u001b[0m \u001b[39msuper\u001b[39m()\u001b[39m.\u001b[39m\u001b[39m__init__\u001b[39m(\u001b[39mself\u001b[39;49m\u001b[39m.\u001b[39;49mitem_validator(item) \u001b[39mfor\u001b[39;00m item \u001b[39min\u001b[39;00m iterable)\n\u001b[0;32m    214\u001b[0m \u001b[39mif\u001b[39;00m notifiers \u001b[39mis\u001b[39;00m \u001b[39mnot\u001b[39;00m \u001b[39mNone\u001b[39;00m:\n\u001b[0;32m    215\u001b[0m     \u001b[39mself\u001b[39m\u001b[39m.\u001b[39mnotifiers \u001b[39m=\u001b[39m \u001b[39mlist\u001b[39m(notifiers)\n",
      "File \u001b[1;32mc:\\Users\\nichmoore\\Documents\\GitHub\\RA4-Project\\venvnick\\Lib\\site-packages\\traits\\trait_list_object.py:867\u001b[0m, in \u001b[0;36mTraitListObject._item_validator\u001b[1;34m(self, value)\u001b[0m\n\u001b[0;32m    864\u001b[0m     \u001b[39mreturn\u001b[39;00m value\n\u001b[0;32m    866\u001b[0m \u001b[39mtry\u001b[39;00m:\n\u001b[1;32m--> 867\u001b[0m     \u001b[39mreturn\u001b[39;00m trait_validator(\u001b[39mobject\u001b[39;49m, \u001b[39mself\u001b[39;49m\u001b[39m.\u001b[39;49mname, value)\n\u001b[0;32m    868\u001b[0m \u001b[39mexcept\u001b[39;00m TraitError \u001b[39mas\u001b[39;00m excp:\n\u001b[0;32m    869\u001b[0m     excp\u001b[39m.\u001b[39mset_prefix(\u001b[39m\"\u001b[39m\u001b[39mEach element of the\u001b[39m\u001b[39m\"\u001b[39m)\n",
      "File \u001b[1;32mc:\\Users\\nichmoore\\Documents\\GitHub\\RA4-Project\\venvnick\\Lib\\site-packages\\traits\\trait_types.py:1937\u001b[0m, in \u001b[0;36mBaseRange._validate\u001b[1;34m(self, object, name, value)\u001b[0m\n\u001b[0;32m   1934\u001b[0m     \u001b[39mexcept\u001b[39;00m:\n\u001b[0;32m   1935\u001b[0m         \u001b[39mpass\u001b[39;00m\n\u001b[1;32m-> 1937\u001b[0m \u001b[39mself\u001b[39;49m\u001b[39m.\u001b[39;49merror(\u001b[39mobject\u001b[39;49m, name, value)\n",
      "File \u001b[1;32mc:\\Users\\nichmoore\\Documents\\GitHub\\RA4-Project\\venvnick\\Lib\\site-packages\\traits\\base_trait_handler.py:74\u001b[0m, in \u001b[0;36mBaseTraitHandler.error\u001b[1;34m(self, object, name, value)\u001b[0m\n\u001b[0;32m     57\u001b[0m \u001b[39mdef\u001b[39;00m \u001b[39merror\u001b[39m(\u001b[39mself\u001b[39m, \u001b[39mobject\u001b[39m, name, value):\n\u001b[0;32m     58\u001b[0m \u001b[39m    \u001b[39m\u001b[39m\"\"\"Raises a TraitError exception.\u001b[39;00m\n\u001b[0;32m     59\u001b[0m \n\u001b[0;32m     60\u001b[0m \u001b[39m    This method is called by the validate() method when an assigned value\u001b[39;00m\n\u001b[1;32m   (...)\u001b[0m\n\u001b[0;32m     72\u001b[0m \u001b[39m        The proposed new value for the attribute.\u001b[39;00m\n\u001b[0;32m     73\u001b[0m \u001b[39m    \"\"\"\u001b[39;00m\n\u001b[1;32m---> 74\u001b[0m     \u001b[39mraise\u001b[39;00m TraitError(\n\u001b[0;32m     75\u001b[0m         \u001b[39mobject\u001b[39m, name, \u001b[39mself\u001b[39m\u001b[39m.\u001b[39mfull_info(\u001b[39mobject\u001b[39m, name, value), value\n\u001b[0;32m     76\u001b[0m     )\n",
      "\u001b[1;31mTraitError\u001b[0m: Each element of the 'contours' trait of a Contour instance must be 0.0 <= a number <= 0.0, but a value of 0.5 <class 'float'> was specified."
     ]
    },
    {
     "ename": "",
     "evalue": "",
     "output_type": "error",
     "traceback": [
      "\u001b[1;31mThe Kernel crashed while executing code in the the current cell or a previous cell. Please review the code in the cell(s) to identify a possible cause of the failure. Click <a href='https://aka.ms/vscodeJupyterKernelCrash'>here</a> for more info. View Jupyter <a href='command:jupyter.viewOutput'>log</a> for further details."
     ]
    }
   ],
   "source": [
    "# Create a figure\n",
    "mlab.figure(bgcolor=(1, 1, 1))  # Set the background color to white\n",
    "\n",
    "# Visualize the entire image as a volume (adjust opacity as needed)\n",
    "lungs = mlab.contour3d(image_data[::10,::10,::10], contours=[0.5], opacity = 0.15, color = (128/255, 174/255, 128/255))\n",
    "mlab.gcf().scene.interactor.add_observer('MouseMoveEvent', update_camera_info)\n",
    "\n",
    "#Dummy Lung Mask\n",
    "obj = (array == 2).astype(int)\n",
    "mlab.contour3d(obj[::10,::10,::10], contours=[0.5], opacity = 0.9, color = (1, 0, 0))   #Remove later\n",
    "# obj = (diseaseEX == 3).astype(int)\n",
    "# mlab.contour3d(obj[::10,::10,::10], contours=[0.5], opacity = 0.9, color = (0, 0, 1))\n",
    "# obj = (diseaseEX == 4).astype(int)\n",
    "# mlab.contour3d(obj[::10,::10,::10], contours=[0.5], opacity = 0.9, color = (148/255, 0, 211/255))\n",
    "\n",
    "# Set the camera position and direction to focus on the center of mass\n",
    "mlab.view(azimuth=90, elevation=90, distance=600/0.546875, focalpoint=center_of_mass)\n",
    "mlab.gcf().scene.camera.view_angle = 23\n",
    "\n",
    "#Saving file\n",
    "outputPath = r\"z:/Q- Figures/T32-Poster/Nick/Experiment/\"\n",
    "mlab.savefig(outputPath + \"test1.png\")   #, magnification=5     <-- Add argument for magnification factor\n",
    "\n",
    "# Show the visualization\n",
    "mlab.show()"
   ]
  },
  {
   "cell_type": "code",
   "execution_count": 9,
   "metadata": {},
   "outputs": [
    {
     "data": {
      "text/plain": [
       "(512, 512, 556)"
      ]
     },
     "execution_count": 9,
     "metadata": {},
     "output_type": "execute_result"
    }
   ],
   "source": [
    "image_data.shape"
   ]
  }
 ],
 "metadata": {
  "kernelspec": {
   "display_name": "Python 3",
   "language": "python",
   "name": "python3"
  },
  "language_info": {
   "codemirror_mode": {
    "name": "ipython",
    "version": 3
   },
   "file_extension": ".py",
   "mimetype": "text/x-python",
   "name": "python",
   "nbconvert_exporter": "python",
   "pygments_lexer": "ipython3",
   "version": "3.11.5"
  },
  "orig_nbformat": 4
 },
 "nbformat": 4,
 "nbformat_minor": 2
}
