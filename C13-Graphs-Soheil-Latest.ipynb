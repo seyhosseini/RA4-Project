{
 "cells": [
  {
   "cell_type": "code",
   "execution_count": null,
   "metadata": {},
   "outputs": [],
   "source": [
    "#0 Set anything that needs to be changed at the beginning:  $$$ LabelPath and GraphArtifactsFolderName\n",
    "# You have to restart the kernel each time it seems or sometimes Cell-22 spits an  error!!\n",
    "# Better clear all output too while you're at it!\n",
    "# Let's call this: VER2.1, Version-2.1: orders-4, output*0.38mm\n",
    "# Cases Done: [71, 2, 37, 18, 16, 88, 19, 90, 11, 6, 46, 39, 22, 21, 95, 84, 50,]\n",
    "\n",
    "# Only need to change here: Look for S-Final---label.nrrd:\n",
    "LabelPath = \"Z:/D-Images/SPIROMICS-SubStudy/2-Results-CheckedDoneTemp/1-Done/Case-63-Spiromics-46960614/Markups/88-Nate/S-Final-1-label.nrrd\"\n",
    "GraphArtifactsFolderName = \"Z:/Q- Figures/T32-Poster/Nick/Experiment/Case-63/\"\n",
    "verbose = False # Set to True to see a lot more print outputs"
   ]
  },
  {
   "cell_type": "code",
   "execution_count": 2,
   "metadata": {},
   "outputs": [
    {
     "name": "stdout",
     "output_type": "stream",
     "text": [
      "Extracted Case Number: 46\n"
     ]
    }
   ],
   "source": [
    "#1 Load/create the masks: avmlabel, atree\n",
    "\n",
    "import numpy as np\n",
    "import nrrd  # pip install pynrrd\n",
    "import re\n",
    "\n",
    "# CasePath is everything before the final \"/\"\n",
    "# Find the last occurrence of '/'\n",
    "last_slash_index = LabelPath.rfind('/')\n",
    "# Slice the string up to the last '/'\n",
    "casepath = LabelPath[:last_slash_index + 1] # .../1-Done/Case-56-Spiromics-48876393/Markups/88-Nate/\n",
    "\n",
    "avmlabel, metadata = nrrd.read(LabelPath)\n",
    "## Extract Case Number\n",
    "pattern = r\"Case-(\\d+)-\"\n",
    "\n",
    "# Use re.findall() to find all matches in the string\n",
    "matches = re.findall(pattern, casepath)\n",
    "\n",
    "# Extract the first matched number (if any)\n",
    "if matches:\n",
    "    CaseNumber = int(matches[0])\n",
    "    print(\"Extracted Case Number:\", CaseNumber) # To be used numerous times in the code\n",
    "else:\n",
    "    print(\"No 'Case-' followed by a number found in the string.\")\n",
    "\n",
    "atree = np.zeros_like(avmlabel)\n",
    "atree[avmlabel == 1] = 1"
   ]
  },
  {
   "cell_type": "code",
   "execution_count": 3,
   "metadata": {},
   "outputs": [],
   "source": [
    "#2 Inspect using mayavi: Check saved A-tree snapshot\n",
    "\n",
    "import winsound\n",
    "from mayavi import mlab\n",
    "import os\n",
    "\n",
    "frequency = 1000  # Frequency of the beep in Hertz\n",
    "duration = 1000  # Duration of the beep in milliseconds\n",
    "# winsound.Beep(frequency, duration)\n",
    "\n",
    "figure = mlab.figure(bgcolor=(1, 1, 1))\n",
    "contour = mlab.contour3d(atree, contours=[0.5], color=(1, 0, 0))\n",
    "\n",
    "if not os.path.exists(GraphArtifactsFolderName):\n",
    "    os.mkdir(GraphArtifactsFolderName)\n",
    "\n",
    "mlab.savefig(GraphArtifactsFolderName + f\"/AtreeSnapshot-{CaseNumber}.png\")  # You can specify the filename and format\n",
    "mlab.close()"
   ]
  },
  {
   "cell_type": "code",
   "execution_count": 4,
   "metadata": {},
   "outputs": [],
   "source": [
    "#3 Create/Fetch Skeleton\n",
    "\n",
    "from skimage.morphology import skeletonize_3d  # pip install scikit-image\n",
    "import numpy as np\n",
    "import nrrd  # pip install pynrrd\n",
    "\n",
    "# SkeletonPathName  # Formerly f\"./Data/Artifacts/E-Case-{CaseNumber}-A-Skeleton.nrrd\"\n",
    "# SkeletonPathName = casepath + \"S-Final-2-label-Skeleton.nrrd\"\n",
    "SkeletonPathName = GraphArtifactsFolderName + f\"/K-Case-{CaseNumber}-Final2Label-Skeleton.nrrd\"\n",
    "\n",
    "# Create and save the skeleton:\n",
    "# skeleton = skeletonize_3d(atree.astype(np.uint8))\n",
    "# nrrd.write(SkeletonPathName, skeleton)\n",
    "\n",
    "# Or read it in:\n",
    "skeleton, _ = nrrd.read(SkeletonPathName)"
   ]
  },
  {
   "cell_type": "code",
   "execution_count": 5,
   "metadata": {},
   "outputs": [],
   "source": [
    "#4 Compute/Fetch Distance Transform\n",
    "# Contains the Euclidean distance from each voxel to the nearest background voxel\n",
    "\n",
    "from scipy.ndimage import distance_transform_edt\n",
    "\n",
    "# EdtPathName = f\"./Data/Artifacts/I-Case-{CaseNumber}-EDT.nrrd\"\n",
    "# EdtPathName = casepath + f\"I-Case-{CaseNumber}-EDT.nrrd\"\n",
    "EdtPathName = GraphArtifactsFolderName + f\"/T-Case-{CaseNumber}-EDT.nrrd\"\n",
    "# Compute the distance transform\n",
    "# distance_transform = distance_transform_edt(atree)\n",
    "# nrrd.write(EdtPathName, distance_transform)\n",
    "\n",
    "# Or read it in\n",
    "distance_transform, _ = nrrd.read(EdtPathName)"
   ]
  },
  {
   "cell_type": "code",
   "execution_count": 6,
   "metadata": {},
   "outputs": [],
   "source": [
    "#5 Create Graph/Edges/Neighbours/...\n",
    "# Step 2: Convert skeletonized image to a graph representation ########### Very bad code/ hard to understand *\n",
    "\n",
    "import networkx as nx\n",
    "\n",
    "graph = nx.Graph()\n",
    "indices = np.array(np.where(skeleton)) # 3x1000?\n",
    "num_points = indices.shape[1]\n",
    "for i in range(num_points): # 20,100 # num_points\n",
    "    point = tuple(indices[:, i])\n",
    "    neighbors = []\n",
    "    for offset in np.ndindex((3, 3, 3)): # (0,1,2 .. 0,1,2 .. 0,1,2)\n",
    "        neighbor = tuple(indices[:, i] + (np.array(offset) - 1)) # >> -1,0,1\n",
    "        if neighbor != point and neighbor in graph:\n",
    "            neighbors.append(neighbor)\n",
    "    graph.add_node(point)\n",
    "    graph.add_edges_from((point, n) for n in neighbors)"
   ]
  },
  {
   "cell_type": "code",
   "execution_count": 7,
   "metadata": {},
   "outputs": [
    {
     "name": "stdout",
     "output_type": "stream",
     "text": [
      "Number of Nodes: 8130\n",
      "Number of Edges: 8162\n"
     ]
    }
   ],
   "source": [
    "#6 Print_Stats [Nodes/Edges/...]\n",
    "\n",
    "def print_stats(graph):\n",
    "    num_nodes = nx.number_of_nodes(graph)\n",
    "    num_edges = nx.number_of_edges(graph)\n",
    "    # all_nodes = list(graph.nodes)\n",
    "    # all_edges = list(graph.edges)\n",
    "\n",
    "    print(\"Number of Nodes:\", num_nodes)\n",
    "    print(\"Number of Edges:\", num_edges)\n",
    "    # print(\"All Nodes:\", all_nodes)\n",
    "    # print(\"All Edges:\", all_edges)\n",
    "    return\n",
    "\n",
    "print_stats(graph)"
   ]
  },
  {
   "cell_type": "code",
   "execution_count": 8,
   "metadata": {},
   "outputs": [],
   "source": [
    "#7 Remove degree-2 nodes: Changes the graph *\n",
    "\n",
    "def RemoveAndReconnectDegree2Nodes(graph):\n",
    "    while True:\n",
    "        # Find nodes with degree 2\n",
    "        degree_two_nodes = [node for node, degree in graph.degree if degree == 2]\n",
    "        \n",
    "        # If there are no intermediate nodes to remove, break the loop\n",
    "        if not degree_two_nodes:\n",
    "            break    \n",
    "        # Remove the intermediate nodes\n",
    "        for node in degree_two_nodes:\n",
    "            neighbors = list(graph.neighbors(node))\n",
    "            if len(neighbors) == 2: ####### Redundant condition! *\n",
    "                graph.add_edge(neighbors[0], neighbors[1])\n",
    "            graph.remove_node(node)\n",
    "\n",
    "RemoveAndReconnectDegree2Nodes(graph)"
   ]
  },
  {
   "cell_type": "code",
   "execution_count": 9,
   "metadata": {},
   "outputs": [
    {
     "name": "stdout",
     "output_type": "stream",
     "text": [
      "Number of Nodes: 306\n",
      "Number of Edges: 338\n"
     ]
    }
   ],
   "source": [
    "#8 print_stats\n",
    "print_stats(graph)"
   ]
  },
  {
   "cell_type": "code",
   "execution_count": 10,
   "metadata": {},
   "outputs": [],
   "source": [
    "#9 Create/update 'edge_length' property for all edges *\n",
    "\n",
    "def UpdateEdgeLengths(G):\n",
    "    for edge in G.edges:\n",
    "        node1, node2 = edge\n",
    "        x1, y1, z1 = node1\n",
    "        x2, y2, z2 = node2\n",
    "        edge_length = np.sqrt((x2 - x1)**2 + (y2 - y1)**2 + (z2 - z1)**2)\n",
    "        G.edges[edge]['edge_length'] = edge_length\n",
    "\n",
    "UpdateEdgeLengths(graph)"
   ]
  },
  {
   "cell_type": "code",
   "execution_count": 11,
   "metadata": {},
   "outputs": [],
   "source": [
    "#10 Function: Plot-1: plot_3D: Plot Interactive 3D *\n",
    "\n",
    "import plotly.graph_objects as go  # pip install plotly # pip install nbformat\n",
    "from plotly.subplots import make_subplots\n",
    "\n",
    "def plot_3D(graph):\n",
    "    fig = make_subplots(rows=1, cols=1, specs=[[{'type': 'scatter3d'}]])\n",
    "    x, y, z = zip(*graph.nodes)\n",
    "    \n",
    "    leaf_nodes = [node for node, degree in graph.degree if degree == 1]\n",
    "    \n",
    "    node_trace = go.Scatter3d(\n",
    "        x=x,\n",
    "        y=y,\n",
    "        z=z,\n",
    "        mode='markers',\n",
    "        marker=dict(\n",
    "            size=2,\n",
    "            color='red', #['red' if node in leaf_nodes else 'blue' for node in graph.nodes()],\n",
    "            opacity=0.8\n",
    "        )\n",
    "    )\n",
    "    fig.add_trace(node_trace)\n",
    "\n",
    "    for edge in graph.edges():\n",
    "        x0, y0, z0 = edge[0]\n",
    "        x1, y1, z1 = edge[1]\n",
    "        \n",
    "        edge_length = graph.edges[edge]['edge_length']\n",
    "        edge_text = f'{edge_length:.2f}'  # Display the edge length as text\n",
    "        \n",
    "        edge_trace = go.Scatter3d(\n",
    "            x=[x0, x1],\n",
    "            y=[y0, y1],\n",
    "            z=[z0, z1],\n",
    "            mode='lines',\n",
    "            # line=dict(color='orange' if graph.edges[edge]['edge_length'] < 20 else 'gray',\n",
    "            #           width=3),\n",
    "            line=dict(color='gray', width=3),\n",
    "            hoverinfo='text',\n",
    "            text=edge_text\n",
    "        )\n",
    "        fig.add_trace(edge_trace)\n",
    "\n",
    "    fig.update_layout(  \n",
    "        scene=dict(\n",
    "        # Set background color to transparent or any color you prefer\n",
    "        bgcolor='rgba(0,0,0,0)',\n",
    "        \n",
    "        # Hide axes\n",
    "        xaxis=dict(showbackground=False, showgrid=False, zeroline=False, showline=False),\n",
    "        yaxis=dict(showbackground=False, showgrid=False, zeroline=False, showline=False),\n",
    "        zaxis=dict(showbackground=False, showgrid=False, zeroline=False, showline=False)\n",
    "        )\n",
    "    )\n",
    "    \n",
    "    fig.update_layout(\n",
    "        margin=dict(l=0, r=0, b=0, t=0),\n",
    "        scene=dict(\n",
    "            xaxis=dict(range=[0, max(x) + 1]),\n",
    "            yaxis=dict(range=[0, max(y) + 1]),\n",
    "            zaxis=dict(range=[0, max(z) + 1])\n",
    "        )\n",
    "    )\n",
    "\n",
    "    fig.show()\n",
    "    return"
   ]
  },
  {
   "cell_type": "code",
   "execution_count": 12,
   "metadata": {},
   "outputs": [],
   "source": [
    "# ##11 Timed calling of plot_3D: Will take time to show up even when indicated done:\n",
    "\n",
    "# import time\n",
    "# StartTime = time.time()\n",
    "# print('Plotting the 3D Graph ..')\n",
    "# plot_3D(graph)\n",
    "# print(f'Elapsed: {time.time()-StartTime:5.2f}')"
   ]
  },
  {
   "cell_type": "code",
   "execution_count": 13,
   "metadata": {},
   "outputs": [
    {
     "name": "stdout",
     "output_type": "stream",
     "text": [
      "33 simple+complex 3-cycles exist\n",
      "\n"
     ]
    }
   ],
   "source": [
    "#12 Find all 3-cycels: Approach-9 with no duplicates\n",
    "\n",
    "# Function to find and print all length-3 cycles without duplicates\n",
    "def ReFindAndPrintLength3Cycles(G, Prnt=False):\n",
    "\n",
    "    length_3_cycles = set()\n",
    "    for node in G.nodes():\n",
    "        neighbors = list(G.neighbors(node))\n",
    "        for neighbor1 in neighbors:\n",
    "            for neighbor2 in neighbors:\n",
    "                if neighbor1 != neighbor2 and G.has_edge(neighbor1, neighbor2):\n",
    "                    cycle = tuple(sorted([node, neighbor1, neighbor2]))  # Sorting to avoid permutations\n",
    "                    length_3_cycles.add(cycle)\n",
    "\n",
    "    # Convert the cycles back to lists for printing\n",
    "    length_3_cycles = [list(cycle) for cycle in length_3_cycles]\n",
    "\n",
    "    # Print the length-3 cycles without duplicates\n",
    "    if Prnt:\n",
    "        print(len(length_3_cycles), 'simple+complex 3-cycles exist\\n')\n",
    "        # for cycle in length_3_cycles:\n",
    "        #     print(cycle)\n",
    "    return length_3_cycles\n",
    "\n",
    "length_3_cycles = ReFindAndPrintLength3Cycles(graph, Prnt=True)"
   ]
  },
  {
   "cell_type": "code",
   "execution_count": 14,
   "metadata": {},
   "outputs": [
    {
     "name": "stdout",
     "output_type": "stream",
     "text": [
      "An intact copy of the graph kept in the variable 'graphintact'. Use it when things are messed up.\n"
     ]
    }
   ],
   "source": [
    "#13* Keep an intact copy of the graph:\n",
    "\n",
    "import copy\n",
    "graphintact = copy.deepcopy(graph)\n",
    "print(\"An intact copy of the graph kept in the variable 'graphintact'. Use it when things are messed up.\")"
   ]
  },
  {
   "cell_type": "code",
   "execution_count": 15,
   "metadata": {},
   "outputs": [],
   "source": [
    "#RR To refresh your graph once it's messed below, come back to this:\n",
    "# graph = copy.deepcopy(graphintact)"
   ]
  },
  {
   "cell_type": "code",
   "execution_count": null,
   "metadata": {},
   "outputs": [],
   "source": [
    "#14 Only once: This changes the graph: Resolve isolated 3-cycles by merging the 3 nodes and reconnecting edges\n",
    "\n",
    "print_stats(graph)\n",
    "print()\n",
    "length_3_cycles = ReFindAndPrintLength3Cycles(graph, Prnt=False)\n",
    "\n",
    "for cycle in length_3_cycles:\n",
    "\n",
    "    # For each cycle, find the outer/final neighbors\n",
    "    finalneighbors = []\n",
    "    for node in cycle:\n",
    "        DEGR = graph.degree(node)\n",
    "        if DEGR != 3:\n",
    "            # print(Fore.YELLOW + f'\\nThis is not a simple cycle. Node {node} is degree {DEGR}. Breaking ..' + Style.RESET_ALL)\n",
    "            if verbose: print(f'{cycle} is not a simple cycle. Node {node} is degree {DEGR}.')\n",
    "            break\n",
    "        finalneighbors.extend([neighbor for neighbor in graph.neighbors(node) if neighbor not in cycle])\n",
    "    if verbose:\n",
    "        if DEGR == 3:\n",
    "            print('cycle:', cycle)\n",
    "    # print('finalneighbors:', finalneighbors)\n",
    "    if DEGR != 3:\n",
    "        print(\"Skipping to the next cycle ..\\n\")\n",
    "        continue\n",
    "\n",
    "    # Takes the 3 nodes in the cycle and forms their average\n",
    "    NewAverageNode = tuple(round((a + b + c) / 3) for a, b, c in zip(cycle[0], cycle[1], cycle[2])) # zip(tuple1, tuple2, tuple3)\n",
    "    # print('NewAverageNode:', NewAverageNode)\n",
    "\n",
    "    # If NewAverageNode not on the skeleton, go to its neighborhood and find the nearest voxel that lies on the skeleton:\n",
    "    if skeleton[*NewAverageNode] == 0:\n",
    "        print(f\"NewAverageNode {NewAverageNode} not on the skeleton.\")\n",
    "        xxna, yyna, zzna = NewAverageNode\n",
    "        success = False\n",
    "        NeighbrhdSize = 3\n",
    "        while success == False:\n",
    "            print(f\"Searching neighborhood {NeighbrhdSize}\")\n",
    "            lowerbnd = -(NeighbrhdSize//2)\n",
    "            upperbnd =  (NeighbrhdSize//2) + 1\n",
    "            neighbors = [(i, j, k) for i in range(lowerbnd, upperbnd) for j in range(lowerbnd, upperbnd) for k in range(lowerbnd, upperbnd)]\n",
    "            neighbors.remove((0,0,0))\n",
    "            for neighbor_offset in neighbors:\n",
    "                nnx, nny, nnz = xxna + neighbor_offset[0], yyna + neighbor_offset[1], zzna + neighbor_offset[2]\n",
    "                if 0 <= nnx < skeleton.shape[0] and 0 <= nny < skeleton.shape[1] and 0 <= nnz < skeleton.shape[2]:\n",
    "                    if skeleton[nnx, nny, nnz] != 0:\n",
    "                        NewAverageNode = (nnx, nny, nnz)\n",
    "                        print(f\"Adjusted the NewAverageNode to {NewAverageNode}\")\n",
    "                        success = True\n",
    "                        break            \n",
    "            NeighbrhdSize += 2\n",
    "\n",
    "    # Now remove the old 3 nodes in cycle\n",
    "    for node in cycle:\n",
    "        graph.remove_node(node)\n",
    "    # print('Removed the 3 nodes in cycle')\n",
    "\n",
    "    # Add the new average node\n",
    "    graph.add_node(NewAverageNode)\n",
    "    # print('Added new average node')\n",
    "\n",
    "    # Make the new edges/connections\n",
    "    for node in finalneighbors:\n",
    "        graph.add_edge(node, NewAverageNode)\n",
    "    # print('Added the final edges')\n",
    "\n",
    "    print('Resolved the 3-cycle.')\n",
    "    UpdateEdgeLengths(graph)\n",
    "    # print_stats(graph)\n",
    "    if verbose: print()\n",
    "\n",
    "print()\n",
    "print_stats(graph)"
   ]
  },
  {
   "cell_type": "code",
   "execution_count": 17,
   "metadata": {},
   "outputs": [
    {
     "name": "stdout",
     "output_type": "stream",
     "text": [
      "0 complex 3-cycles exist\n",
      "0 edges in complex 3-cycles exist\n"
     ]
    }
   ],
   "source": [
    "#15 Create updated list of all edges in cycles: [they're probably complex cycles now at this point]\n",
    "\n",
    "length_3_cycles = ReFindAndPrintLength3Cycles(graph)\n",
    "print(f\"{len(length_3_cycles)} complex 3-cycles exist\")\n",
    "\n",
    "EdgesInCyclesWithDuplicates = [[L[i], L[(i+1)%3]] for L in length_3_cycles for i in [0, 1, 2]]\n",
    "\n",
    "EdgesInCycles = []\n",
    "for edge in EdgesInCyclesWithDuplicates:\n",
    "    if ([edge[0],edge[1]] not in EdgesInCycles) and ([edge[1],edge[0]] not in EdgesInCycles):\n",
    "         EdgesInCycles.append(edge)\n",
    "        #  print(f'Appended {edge} to EdgesInCycles list')\n",
    "\n",
    "print(len(EdgesInCycles), 'edges in complex 3-cycles exist')"
   ]
  },
  {
   "cell_type": "code",
   "execution_count": 18,
   "metadata": {},
   "outputs": [
    {
     "data": {
      "application/vnd.plotly.v1+json": {
       "config": {
        "plotlyServerURL": "https://plot.ly"
       },
       "data": [
        {
         "marker": {
          "color": "grey",
          "opacity": 0.1,
          "size": 2
         },
         "mode": "markers",
         "type": "scatter3d",
         "x": [
          102,
          110,
          111,
          124,
          125,
          126,
          131,
          133,
          133,
          140,
          151,
          155,
          160,
          161,
          163,
          166,
          166,
          167,
          168,
          175,
          178,
          179,
          184,
          186,
          188,
          191,
          196,
          196,
          198,
          199,
          205,
          206,
          206,
          207,
          210,
          214,
          215,
          217,
          218,
          220,
          221,
          221,
          222,
          223,
          223,
          224,
          224,
          225,
          227,
          230,
          230,
          232,
          232,
          233,
          233,
          234,
          235,
          235,
          235,
          236,
          236,
          239,
          240,
          242,
          244,
          244,
          246,
          247,
          247,
          248,
          250,
          253,
          253,
          256,
          257,
          257,
          263,
          264,
          266,
          268,
          268,
          271,
          271,
          271,
          273,
          273,
          275,
          275,
          278,
          278,
          281,
          282,
          284,
          285,
          286,
          289,
          289,
          292,
          293,
          297,
          298,
          298,
          301,
          301,
          302,
          302,
          302,
          303,
          306,
          308,
          309,
          318,
          323,
          325,
          331,
          360,
          406,
          428,
          432,
          433,
          433,
          435,
          436,
          436,
          437,
          438,
          440,
          443,
          447,
          448,
          493,
          499,
          503,
          505,
          507,
          508,
          509,
          512,
          513,
          513,
          514,
          514,
          514,
          515,
          517,
          518,
          519,
          521,
          522,
          524,
          524,
          524,
          525,
          528,
          531,
          536,
          539,
          539,
          540,
          542,
          542,
          543,
          544,
          550,
          551,
          552,
          552,
          553,
          554,
          554,
          555,
          557,
          557,
          559,
          560,
          560,
          568,
          569,
          577,
          578,
          579,
          580,
          581,
          587,
          588,
          589,
          591,
          592,
          592,
          596,
          596,
          599,
          607,
          608,
          611,
          619,
          624,
          629,
          633,
          637,
          654,
          672,
          674,
          676,
          685,
          692,
          725,
          240,
          274,
          637,
          241,
          545,
          544,
          572,
          440,
          532,
          561,
          434,
          525,
          311,
          283,
          240,
          294,
          315,
          407,
          437,
          546,
          568,
          221,
          304,
          256,
          292,
          134,
          295,
          595,
          243,
          258,
          314,
          539,
          550
         ],
         "y": [
          190,
          315,
          269,
          287,
          289,
          215,
          260,
          215,
          387,
          266,
          265,
          151,
          219,
          312,
          258,
          226,
          331,
          414,
          210,
          228,
          448,
          232,
          338,
          388,
          269,
          385,
          353,
          406,
          483,
          254,
          123,
          336,
          386,
          416,
          344,
          435,
          148,
          268,
          441,
          258,
          325,
          413,
          356,
          140,
          376,
          283,
          283,
          203,
          186,
          279,
          387,
          377,
          389,
          215,
          274,
          155,
          284,
          335,
          391,
          148,
          416,
          273,
          355,
          193,
          113,
          240,
          238,
          326,
          352,
          351,
          364,
          223,
          314,
          310,
          136,
          257,
          263,
          262,
          403,
          318,
          434,
          184,
          302,
          417,
          300,
          301,
          93,
          240,
          415,
          424,
          338,
          295,
          432,
          290,
          251,
          375,
          388,
          205,
          374,
          285,
          333,
          416,
          284,
          358,
          290,
          341,
          346,
          376,
          389,
          328,
          370,
          291,
          340,
          371,
          336,
          293,
          276,
          263,
          257,
          247,
          250,
          258,
          247,
          248,
          219,
          215,
          222,
          217,
          267,
          266,
          205,
          310,
          326,
          163,
          302,
          387,
          209,
          333,
          217,
          330,
          272,
          348,
          406,
          221,
          391,
          330,
          427,
          274,
          435,
          334,
          335,
          415,
          362,
          207,
          340,
          273,
          151,
          379,
          388,
          394,
          466,
          188,
          343,
          360,
          380,
          342,
          345,
          365,
          346,
          347,
          270,
          268,
          269,
          219,
          77,
          422,
          268,
          346,
          307,
          334,
          331,
          230,
          389,
          350,
          345,
          357,
          417,
          351,
          380,
          248,
          425,
          347,
          140,
          162,
          226,
          319,
          283,
          161,
          412,
          353,
          314,
          271,
          391,
          222,
          321,
          348,
          287,
          347,
          334,
          272,
          337,
          348,
          349,
          308,
          217,
          392,
          245,
          255,
          281,
          305,
          292,
          283,
          291,
          339,
          276,
          252,
          342,
          344,
          404,
          339,
          316,
          284,
          296,
          341,
          313,
          317,
          198,
          355,
          337,
          405
         ],
         "z": [
          218,
          215,
          200,
          210,
          197,
          248,
          301,
          246,
          187,
          322,
          313,
          184,
          309,
          442,
          386,
          409,
          291,
          236,
          270,
          184,
          145,
          275,
          419,
          350,
          314,
          233,
          299,
          367,
          241,
          392,
          262,
          290,
          356,
          170,
          543,
          282,
          173,
          375,
          205,
          385,
          427,
          147,
          461,
          228,
          442,
          483,
          521,
          239,
          415,
          226,
          246,
          262,
          244,
          364,
          222,
          235,
          486,
          196,
          238,
          263,
          339,
          483,
          284,
          275,
          194,
          295,
          296,
          298,
          555,
          540,
          347,
          363,
          260,
          319,
          328,
          377,
          323,
          323,
          212,
          235,
          401,
          349,
          335,
          265,
          337,
          338,
          223,
          475,
          174,
          397,
          347,
          342,
          403,
          340,
          415,
          499,
          377,
          409,
          376,
          495,
          133,
          367,
          408,
          455,
          350,
          480,
          354,
          385,
          179,
          454,
          316,
          408,
          556,
          277,
          498,
          367,
          375,
          383,
          382,
          376,
          377,
          385,
          378,
          379,
          360,
          356,
          359,
          353,
          393,
          393,
          470,
          390,
          578,
          350,
          388,
          292,
          434,
          569,
          462,
          388,
          515,
          185,
          193,
          440,
          321,
          591,
          407,
          429,
          312,
          373,
          374,
          115,
          365,
          476,
          364,
          359,
          347,
          252,
          240,
          497,
          171,
          362,
          348,
          449,
          452,
          319,
          312,
          450,
          306,
          305,
          453,
          473,
          518,
          369,
          245,
          369,
          478,
          280,
          290,
          420,
          259,
          302,
          285,
          539,
          545,
          544,
          266,
          226,
          487,
          458,
          177,
          209,
          211,
          355,
          181,
          442,
          356,
          262,
          291,
          429,
          291,
          211,
          189,
          206,
          161,
          215,
          89,
          443,
          344,
          245,
          293,
          475,
          445,
          290,
          356,
          210,
          322,
          382,
          417,
          431,
          341,
          483,
          462,
          495,
          374,
          383,
          343,
          281,
          206,
          479,
          425,
          472,
          224,
          345,
          216,
          285,
          353,
          318,
          413,
          226
         ]
        },
        {
         "hoverinfo": "text",
         "line": {
          "color": "rgba(128, 128, 128, 0.4)",
          "width": 1
         },
         "mode": "lines",
         "text": "48.68",
         "type": "scatter3d",
         "x": [
          102,
          133
         ],
         "y": [
          190,
          215
         ],
         "z": [
          218,
          246
         ]
        },
        {
         "hoverinfo": "text",
         "line": {
          "color": "rgba(128, 128, 128, 0.4)",
          "width": 1
         },
         "mode": "lines",
         "text": "31.91",
         "type": "scatter3d",
         "x": [
          110,
          134
         ],
         "y": [
          315,
          296
         ],
         "z": [
          215,
          224
         ]
        },
        {
         "hoverinfo": "text",
         "line": {
          "color": "rgba(128, 128, 128, 0.4)",
          "width": 1
         },
         "mode": "lines",
         "text": "24.35",
         "type": "scatter3d",
         "x": [
          111,
          124
         ],
         "y": [
          269,
          287
         ],
         "z": [
          200,
          210
         ]
        },
        {
         "hoverinfo": "text",
         "line": {
          "color": "rgba(128, 128, 128, 0.4)",
          "width": 1
         },
         "mode": "lines",
         "text": "13.19",
         "type": "scatter3d",
         "x": [
          124,
          125
         ],
         "y": [
          287,
          289
         ],
         "z": [
          210,
          197
         ]
        },
        {
         "hoverinfo": "text",
         "line": {
          "color": "rgba(128, 128, 128, 0.4)",
          "width": 1
         },
         "mode": "lines",
         "text": "19.42",
         "type": "scatter3d",
         "x": [
          124,
          134
         ],
         "y": [
          287,
          296
         ],
         "z": [
          210,
          224
         ]
        },
        {
         "hoverinfo": "text",
         "line": {
          "color": "rgba(128, 128, 128, 0.4)",
          "width": 1
         },
         "mode": "lines",
         "text": "7.28",
         "type": "scatter3d",
         "x": [
          126,
          133
         ],
         "y": [
          215,
          215
         ],
         "z": [
          248,
          246
         ]
        },
        {
         "hoverinfo": "text",
         "line": {
          "color": "rgba(128, 128, 128, 0.4)",
          "width": 1
         },
         "mode": "lines",
         "text": "23.85",
         "type": "scatter3d",
         "x": [
          131,
          151
         ],
         "y": [
          260,
          265
         ],
         "z": [
          301,
          313
         ]
        },
        {
         "hoverinfo": "text",
         "line": {
          "color": "rgba(128, 128, 128, 0.4)",
          "width": 1
         },
         "mode": "lines",
         "text": "56.97",
         "type": "scatter3d",
         "x": [
          133,
          179
         ],
         "y": [
          215,
          232
         ],
         "z": [
          246,
          275
         ]
        },
        {
         "hoverinfo": "text",
         "line": {
          "color": "rgba(128, 128, 128, 0.4)",
          "width": 1
         },
         "mode": "lines",
         "text": "74.05",
         "type": "scatter3d",
         "x": [
          133,
          191
         ],
         "y": [
          387,
          385
         ],
         "z": [
          187,
          233
         ]
        },
        {
         "hoverinfo": "text",
         "line": {
          "color": "rgba(128, 128, 128, 0.4)",
          "width": 1
         },
         "mode": "lines",
         "text": "14.25",
         "type": "scatter3d",
         "x": [
          140,
          151
         ],
         "y": [
          266,
          265
         ],
         "z": [
          322,
          313
         ]
        },
        {
         "hoverinfo": "text",
         "line": {
          "color": "rgba(128, 128, 128, 0.4)",
          "width": 1
         },
         "mode": "lines",
         "text": "37.23",
         "type": "scatter3d",
         "x": [
          151,
          188
         ],
         "y": [
          265,
          269
         ],
         "z": [
          313,
          314
         ]
        },
        {
         "hoverinfo": "text",
         "line": {
          "color": "rgba(128, 128, 128, 0.4)",
          "width": 1
         },
         "mode": "lines",
         "text": "103.10",
         "type": "scatter3d",
         "x": [
          155,
          225
         ],
         "y": [
          151,
          203
         ],
         "z": [
          184,
          239
         ]
        },
        {
         "hoverinfo": "text",
         "line": {
          "color": "rgba(128, 128, 128, 0.4)",
          "width": 1
         },
         "mode": "lines",
         "text": "57.52",
         "type": "scatter3d",
         "x": [
          160,
          188
         ],
         "y": [
          219,
          269
         ],
         "z": [
          309,
          314
         ]
        },
        {
         "hoverinfo": "text",
         "line": {
          "color": "rgba(128, 128, 128, 0.4)",
          "width": 1
         },
         "mode": "lines",
         "text": "63.20",
         "type": "scatter3d",
         "x": [
          161,
          221
         ],
         "y": [
          312,
          325
         ],
         "z": [
          442,
          427
         ]
        },
        {
         "hoverinfo": "text",
         "line": {
          "color": "rgba(128, 128, 128, 0.4)",
          "width": 1
         },
         "mode": "lines",
         "text": "36.72",
         "type": "scatter3d",
         "x": [
          163,
          199
         ],
         "y": [
          258,
          254
         ],
         "z": [
          386,
          392
         ]
        },
        {
         "hoverinfo": "text",
         "line": {
          "color": "rgba(128, 128, 128, 0.4)",
          "width": 1
         },
         "mode": "lines",
         "text": "46.50",
         "type": "scatter3d",
         "x": [
          166,
          199
         ],
         "y": [
          226,
          254
         ],
         "z": [
          409,
          392
         ]
        },
        {
         "hoverinfo": "text",
         "line": {
          "color": "rgba(128, 128, 128, 0.4)",
          "width": 1
         },
         "mode": "lines",
         "text": "40.32",
         "type": "scatter3d",
         "x": [
          166,
          206
         ],
         "y": [
          331,
          336
         ],
         "z": [
          291,
          290
         ]
        },
        {
         "hoverinfo": "text",
         "line": {
          "color": "rgba(128, 128, 128, 0.4)",
          "width": 1
         },
         "mode": "lines",
         "text": "37.76",
         "type": "scatter3d",
         "x": [
          167,
          191
         ],
         "y": [
          414,
          385
         ],
         "z": [
          236,
          233
         ]
        },
        {
         "hoverinfo": "text",
         "line": {
          "color": "rgba(128, 128, 128, 0.4)",
          "width": 1
         },
         "mode": "lines",
         "text": "25.10",
         "type": "scatter3d",
         "x": [
          168,
          179
         ],
         "y": [
          210,
          232
         ],
         "z": [
          270,
          275
         ]
        },
        {
         "hoverinfo": "text",
         "line": {
          "color": "rgba(128, 128, 128, 0.4)",
          "width": 1
         },
         "mode": "lines",
         "text": "85.97",
         "type": "scatter3d",
         "x": [
          175,
          230
         ],
         "y": [
          228,
          279
         ],
         "z": [
          184,
          226
         ]
        },
        {
         "hoverinfo": "text",
         "line": {
          "color": "rgba(128, 128, 128, 0.4)",
          "width": 1
         },
         "mode": "lines",
         "text": "49.90",
         "type": "scatter3d",
         "x": [
          178,
          207
         ],
         "y": [
          448,
          416
         ],
         "z": [
          145,
          170
         ]
        },
        {
         "hoverinfo": "text",
         "line": {
          "color": "rgba(128, 128, 128, 0.4)",
          "width": 1
         },
         "mode": "lines",
         "text": "68.48",
         "type": "scatter3d",
         "x": [
          179,
          244
         ],
         "y": [
          232,
          240
         ],
         "z": [
          275,
          295
         ]
        },
        {
         "hoverinfo": "text",
         "line": {
          "color": "rgba(128, 128, 128, 0.4)",
          "width": 1
         },
         "mode": "lines",
         "text": "40.02",
         "type": "scatter3d",
         "x": [
          184,
          221
         ],
         "y": [
          338,
          325
         ],
         "z": [
          419,
          427
         ]
        },
        {
         "hoverinfo": "text",
         "line": {
          "color": "rgba(128, 128, 128, 0.4)",
          "width": 1
         },
         "mode": "lines",
         "text": "20.98",
         "type": "scatter3d",
         "x": [
          186,
          206
         ],
         "y": [
          388,
          386
         ],
         "z": [
          350,
          356
         ]
        },
        {
         "hoverinfo": "text",
         "line": {
          "color": "rgba(128, 128, 128, 0.4)",
          "width": 1
         },
         "mode": "lines",
         "text": "79.56",
         "type": "scatter3d",
         "x": [
          188,
          256
         ],
         "y": [
          269,
          310
         ],
         "z": [
          314,
          319
         ]
        },
        {
         "hoverinfo": "text",
         "line": {
          "color": "rgba(128, 128, 128, 0.4)",
          "width": 1
         },
         "mode": "lines",
         "text": "41.16",
         "type": "scatter3d",
         "x": [
          191,
          230
         ],
         "y": [
          385,
          387
         ],
         "z": [
          233,
          246
         ]
        },
        {
         "hoverinfo": "text",
         "line": {
          "color": "rgba(128, 128, 128, 0.4)",
          "width": 1
         },
         "mode": "lines",
         "text": "21.68",
         "type": "scatter3d",
         "x": [
          196,
          206
         ],
         "y": [
          353,
          336
         ],
         "z": [
          299,
          290
         ]
        },
        {
         "hoverinfo": "text",
         "line": {
          "color": "rgba(128, 128, 128, 0.4)",
          "width": 1
         },
         "mode": "lines",
         "text": "24.92",
         "type": "scatter3d",
         "x": [
          196,
          206
         ],
         "y": [
          406,
          386
         ],
         "z": [
          367,
          356
         ]
        },
        {
         "hoverinfo": "text",
         "line": {
          "color": "rgba(128, 128, 128, 0.4)",
          "width": 1
         },
         "mode": "lines",
         "text": "100.00",
         "type": "scatter3d",
         "x": [
          198,
          232
         ],
         "y": [
          483,
          389
         ],
         "z": [
          241,
          244
         ]
        },
        {
         "hoverinfo": "text",
         "line": {
          "color": "rgba(128, 128, 128, 0.4)",
          "width": 1
         },
         "mode": "lines",
         "text": "22.49",
         "type": "scatter3d",
         "x": [
          199,
          220
         ],
         "y": [
          254,
          258
         ],
         "z": [
          392,
          385
         ]
        },
        {
         "hoverinfo": "text",
         "line": {
          "color": "rgba(128, 128, 128, 0.4)",
          "width": 1
         },
         "mode": "lines",
         "text": "39.84",
         "type": "scatter3d",
         "x": [
          205,
          236
         ],
         "y": [
          123,
          148
         ],
         "z": [
          262,
          263
         ]
        },
        {
         "hoverinfo": "text",
         "line": {
          "color": "rgba(128, 128, 128, 0.4)",
          "width": 1
         },
         "mode": "lines",
         "text": "35.14",
         "type": "scatter3d",
         "x": [
          206,
          241
         ],
         "y": [
          336,
          337
         ],
         "z": [
          290,
          293
         ]
        },
        {
         "hoverinfo": "text",
         "line": {
          "color": "rgba(128, 128, 128, 0.4)",
          "width": 1
         },
         "mode": "lines",
         "text": "50.01",
         "type": "scatter3d",
         "x": [
          206,
          250
         ],
         "y": [
          386,
          364
         ],
         "z": [
          356,
          347
         ]
        },
        {
         "hoverinfo": "text",
         "line": {
          "color": "rgba(128, 128, 128, 0.4)",
          "width": 1
         },
         "mode": "lines",
         "text": "27.09",
         "type": "scatter3d",
         "x": [
          207,
          221
         ],
         "y": [
          416,
          413
         ],
         "z": [
          170,
          147
         ]
        },
        {
         "hoverinfo": "text",
         "line": {
          "color": "rgba(128, 128, 128, 0.4)",
          "width": 1
         },
         "mode": "lines",
         "text": "40.45",
         "type": "scatter3d",
         "x": [
          207,
          221
         ],
         "y": [
          416,
          404
         ],
         "z": [
          170,
          206
         ]
        },
        {
         "hoverinfo": "text",
         "line": {
          "color": "rgba(128, 128, 128, 0.4)",
          "width": 1
         },
         "mode": "lines",
         "text": "38.76",
         "type": "scatter3d",
         "x": [
          210,
          248
         ],
         "y": [
          344,
          351
         ],
         "z": [
          543,
          540
         ]
        },
        {
         "hoverinfo": "text",
         "line": {
          "color": "rgba(128, 128, 128, 0.4)",
          "width": 1
         },
         "mode": "lines",
         "text": "63.94",
         "type": "scatter3d",
         "x": [
          214,
          232
         ],
         "y": [
          435,
          377
         ],
         "z": [
          282,
          262
         ]
        },
        {
         "hoverinfo": "text",
         "line": {
          "color": "rgba(128, 128, 128, 0.4)",
          "width": 1
         },
         "mode": "lines",
         "text": "86.49",
         "type": "scatter3d",
         "x": [
          215,
          225
         ],
         "y": [
          148,
          203
         ],
         "z": [
          173,
          239
         ]
        },
        {
         "hoverinfo": "text",
         "line": {
          "color": "rgba(128, 128, 128, 0.4)",
          "width": 1
         },
         "mode": "lines",
         "text": "14.46",
         "type": "scatter3d",
         "x": [
          217,
          220
         ],
         "y": [
          268,
          258
         ],
         "z": [
          375,
          385
         ]
        },
        {
         "hoverinfo": "text",
         "line": {
          "color": "rgba(128, 128, 128, 0.4)",
          "width": 1
         },
         "mode": "lines",
         "text": "37.13",
         "type": "scatter3d",
         "x": [
          218,
          221
         ],
         "y": [
          441,
          404
         ],
         "z": [
          205,
          206
         ]
        },
        {
         "hoverinfo": "text",
         "line": {
          "color": "rgba(128, 128, 128, 0.4)",
          "width": 1
         },
         "mode": "lines",
         "text": "37.87",
         "type": "scatter3d",
         "x": [
          220,
          257
         ],
         "y": [
          258,
          257
         ],
         "z": [
          385,
          377
         ]
        },
        {
         "hoverinfo": "text",
         "line": {
          "color": "rgba(128, 128, 128, 0.4)",
          "width": 1
         },
         "mode": "lines",
         "text": "36.19",
         "type": "scatter3d",
         "x": [
          221,
          256
         ],
         "y": [
          325,
          316
         ],
         "z": [
          427,
          425
         ]
        },
        {
         "hoverinfo": "text",
         "line": {
          "color": "rgba(128, 128, 128, 0.4)",
          "width": 1
         },
         "mode": "lines",
         "text": "27.00",
         "type": "scatter3d",
         "x": [
          222,
          240
         ],
         "y": [
          356,
          347
         ],
         "z": [
          461,
          443
         ]
        },
        {
         "hoverinfo": "text",
         "line": {
          "color": "rgba(128, 128, 128, 0.4)",
          "width": 1
         },
         "mode": "lines",
         "text": "19.87",
         "type": "scatter3d",
         "x": [
          223,
          234
         ],
         "y": [
          140,
          155
         ],
         "z": [
          228,
          235
         ]
        },
        {
         "hoverinfo": "text",
         "line": {
          "color": "rgba(128, 128, 128, 0.4)",
          "width": 1
         },
         "mode": "lines",
         "text": "33.63",
         "type": "scatter3d",
         "x": [
          223,
          240
         ],
         "y": [
          376,
          347
         ],
         "z": [
          442,
          443
         ]
        },
        {
         "hoverinfo": "text",
         "line": {
          "color": "rgba(128, 128, 128, 0.4)",
          "width": 1
         },
         "mode": "lines",
         "text": "11.45",
         "type": "scatter3d",
         "x": [
          224,
          235
         ],
         "y": [
          283,
          284
         ],
         "z": [
          483,
          486
         ]
        },
        {
         "hoverinfo": "text",
         "line": {
          "color": "rgba(128, 128, 128, 0.4)",
          "width": 1
         },
         "mode": "lines",
         "text": "36.70",
         "type": "scatter3d",
         "x": [
          224,
          235
         ],
         "y": [
          283,
          284
         ],
         "z": [
          521,
          486
         ]
        },
        {
         "hoverinfo": "text",
         "line": {
          "color": "rgba(128, 128, 128, 0.4)",
          "width": 1
         },
         "mode": "lines",
         "text": "69.76",
         "type": "scatter3d",
         "x": [
          225,
          244
         ],
         "y": [
          203,
          240
         ],
         "z": [
          239,
          295
         ]
        },
        {
         "hoverinfo": "text",
         "line": {
          "color": "rgba(128, 128, 128, 0.4)",
          "width": 1
         },
         "mode": "lines",
         "text": "87.78",
         "type": "scatter3d",
         "x": [
          227,
          286
         ],
         "y": [
          186,
          251
         ],
         "z": [
          415,
          415
         ]
        },
        {
         "hoverinfo": "text",
         "line": {
          "color": "rgba(128, 128, 128, 0.4)",
          "width": 1
         },
         "mode": "lines",
         "text": "7.07",
         "type": "scatter3d",
         "x": [
          230,
          233
         ],
         "y": [
          279,
          274
         ],
         "z": [
          226,
          222
         ]
        },
        {
         "hoverinfo": "text",
         "line": {
          "color": "rgba(128, 128, 128, 0.4)",
          "width": 1
         },
         "mode": "lines",
         "text": "53.94",
         "type": "scatter3d",
         "x": [
          230,
          253
         ],
         "y": [
          279,
          314
         ],
         "z": [
          226,
          260
         ]
        },
        {
         "hoverinfo": "text",
         "line": {
          "color": "rgba(128, 128, 128, 0.4)",
          "width": 1
         },
         "mode": "lines",
         "text": "3.46",
         "type": "scatter3d",
         "x": [
          230,
          232
         ],
         "y": [
          387,
          389
         ],
         "z": [
          246,
          244
         ]
        },
        {
         "hoverinfo": "text",
         "line": {
          "color": "rgba(128, 128, 128, 0.4)",
          "width": 1
         },
         "mode": "lines",
         "text": "18.97",
         "type": "scatter3d",
         "x": [
          230,
          232
         ],
         "y": [
          387,
          377
         ],
         "z": [
          246,
          262
         ]
        },
        {
         "hoverinfo": "text",
         "line": {
          "color": "rgba(128, 128, 128, 0.4)",
          "width": 1
         },
         "mode": "lines",
         "text": "32.12",
         "type": "scatter3d",
         "x": [
          232,
          240
         ],
         "y": [
          377,
          355
         ],
         "z": [
          262,
          284
         ]
        },
        {
         "hoverinfo": "text",
         "line": {
          "color": "rgba(128, 128, 128, 0.4)",
          "width": 1
         },
         "mode": "lines",
         "text": "7.00",
         "type": "scatter3d",
         "x": [
          232,
          235
         ],
         "y": [
          389,
          391
         ],
         "z": [
          244,
          238
         ]
        },
        {
         "hoverinfo": "text",
         "line": {
          "color": "rgba(128, 128, 128, 0.4)",
          "width": 1
         },
         "mode": "lines",
         "text": "21.56",
         "type": "scatter3d",
         "x": [
          233,
          253
         ],
         "y": [
          215,
          223
         ],
         "z": [
          364,
          363
         ]
        },
        {
         "hoverinfo": "text",
         "line": {
          "color": "rgba(128, 128, 128, 0.4)",
          "width": 1
         },
         "mode": "lines",
         "text": "55.75",
         "type": "scatter3d",
         "x": [
          234,
          242
         ],
         "y": [
          155,
          193
         ],
         "z": [
          235,
          275
         ]
        },
        {
         "hoverinfo": "text",
         "line": {
          "color": "rgba(128, 128, 128, 0.4)",
          "width": 1
         },
         "mode": "lines",
         "text": "59.54",
         "type": "scatter3d",
         "x": [
          234,
          244
         ],
         "y": [
          155,
          113
         ],
         "z": [
          235,
          194
         ]
        },
        {
         "hoverinfo": "text",
         "line": {
          "color": "rgba(128, 128, 128, 0.4)",
          "width": 1
         },
         "mode": "lines",
         "text": "5.92",
         "type": "scatter3d",
         "x": [
          235,
          240
         ],
         "y": [
          284,
          283
         ],
         "z": [
          486,
          483
         ]
        },
        {
         "hoverinfo": "text",
         "line": {
          "color": "rgba(128, 128, 128, 0.4)",
          "width": 1
         },
         "mode": "lines",
         "text": "53.84",
         "type": "scatter3d",
         "x": [
          235,
          268
         ],
         "y": [
          335,
          318
         ],
         "z": [
          196,
          235
         ]
        },
        {
         "hoverinfo": "text",
         "line": {
          "color": "rgba(128, 128, 128, 0.4)",
          "width": 1
         },
         "mode": "lines",
         "text": "42.20",
         "type": "scatter3d",
         "x": [
          235,
          266
         ],
         "y": [
          391,
          403
         ],
         "z": [
          238,
          212
         ]
        },
        {
         "hoverinfo": "text",
         "line": {
          "color": "rgba(128, 128, 128, 0.4)",
          "width": 1
         },
         "mode": "lines",
         "text": "37.27",
         "type": "scatter3d",
         "x": [
          235,
          221
         ],
         "y": [
          391,
          404
         ],
         "z": [
          238,
          206
         ]
        },
        {
         "hoverinfo": "text",
         "line": {
          "color": "rgba(128, 128, 128, 0.4)",
          "width": 1
         },
         "mode": "lines",
         "text": "46.96",
         "type": "scatter3d",
         "x": [
          236,
          242
         ],
         "y": [
          148,
          193
         ],
         "z": [
          263,
          275
         ]
        },
        {
         "hoverinfo": "text",
         "line": {
          "color": "rgba(128, 128, 128, 0.4)",
          "width": 1
         },
         "mode": "lines",
         "text": "78.40",
         "type": "scatter3d",
         "x": [
          236,
          275
         ],
         "y": [
          148,
          93
         ],
         "z": [
          263,
          223
         ]
        },
        {
         "hoverinfo": "text",
         "line": {
          "color": "rgba(128, 128, 128, 0.4)",
          "width": 1
         },
         "mode": "lines",
         "text": "54.44",
         "type": "scatter3d",
         "x": [
          236,
          250
         ],
         "y": [
          416,
          364
         ],
         "z": [
          339,
          347
         ]
        },
        {
         "hoverinfo": "text",
         "line": {
          "color": "rgba(128, 128, 128, 0.4)",
          "width": 1
         },
         "mode": "lines",
         "text": "10.05",
         "type": "scatter3d",
         "x": [
          239,
          240
         ],
         "y": [
          273,
          283
         ],
         "z": [
          483,
          483
         ]
        },
        {
         "hoverinfo": "text",
         "line": {
          "color": "rgba(128, 128, 128, 0.4)",
          "width": 1
         },
         "mode": "lines",
         "text": "71.87",
         "type": "scatter3d",
         "x": [
          240,
          271
         ],
         "y": [
          355,
          417
         ],
         "z": [
          284,
          265
         ]
        },
        {
         "hoverinfo": "text",
         "line": {
          "color": "rgba(128, 128, 128, 0.4)",
          "width": 1
         },
         "mode": "lines",
         "text": "20.15",
         "type": "scatter3d",
         "x": [
          240,
          241
         ],
         "y": [
          355,
          337
         ],
         "z": [
          284,
          293
         ]
        },
        {
         "hoverinfo": "text",
         "line": {
          "color": "rgba(128, 128, 128, 0.4)",
          "width": 1
         },
         "mode": "lines",
         "text": "49.82",
         "type": "scatter3d",
         "x": [
          242,
          246
         ],
         "y": [
          193,
          238
         ],
         "z": [
          275,
          296
         ]
        },
        {
         "hoverinfo": "text",
         "line": {
          "color": "rgba(128, 128, 128, 0.4)",
          "width": 1
         },
         "mode": "lines",
         "text": "3.00",
         "type": "scatter3d",
         "x": [
          244,
          246
         ],
         "y": [
          240,
          238
         ],
         "z": [
          295,
          296
         ]
        },
        {
         "hoverinfo": "text",
         "line": {
          "color": "rgba(128, 128, 128, 0.4)",
          "width": 1
         },
         "mode": "lines",
         "text": "40.53",
         "type": "scatter3d",
         "x": [
          246,
          263
         ],
         "y": [
          238,
          263
         ],
         "z": [
          296,
          323
         ]
        },
        {
         "hoverinfo": "text",
         "line": {
          "color": "rgba(128, 128, 128, 0.4)",
          "width": 1
         },
         "mode": "lines",
         "text": "27.89",
         "type": "scatter3d",
         "x": [
          247,
          256
         ],
         "y": [
          326,
          310
         ],
         "z": [
          298,
          319
         ]
        },
        {
         "hoverinfo": "text",
         "line": {
          "color": "rgba(128, 128, 128, 0.4)",
          "width": 1
         },
         "mode": "lines",
         "text": "13.49",
         "type": "scatter3d",
         "x": [
          247,
          241
         ],
         "y": [
          326,
          337
         ],
         "z": [
          298,
          293
         ]
        },
        {
         "hoverinfo": "text",
         "line": {
          "color": "rgba(128, 128, 128, 0.4)",
          "width": 1
         },
         "mode": "lines",
         "text": "16.31",
         "type": "scatter3d",
         "x": [
          247,
          243
         ],
         "y": [
          326,
          317
         ],
         "z": [
          298,
          285
         ]
        },
        {
         "hoverinfo": "text",
         "line": {
          "color": "rgba(128, 128, 128, 0.4)",
          "width": 1
         },
         "mode": "lines",
         "text": "15.07",
         "type": "scatter3d",
         "x": [
          247,
          248
         ],
         "y": [
          352,
          351
         ],
         "z": [
          555,
          540
         ]
        },
        {
         "hoverinfo": "text",
         "line": {
          "color": "rgba(128, 128, 128, 0.4)",
          "width": 1
         },
         "mode": "lines",
         "text": "81.34",
         "type": "scatter3d",
         "x": [
          248,
          302
         ],
         "y": [
          351,
          341
         ],
         "z": [
          540,
          480
         ]
        },
        {
         "hoverinfo": "text",
         "line": {
          "color": "rgba(128, 128, 128, 0.4)",
          "width": 1
         },
         "mode": "lines",
         "text": "38.54",
         "type": "scatter3d",
         "x": [
          250,
          274
         ],
         "y": [
          364,
          334
         ],
         "z": [
          347,
          344
         ]
        },
        {
         "hoverinfo": "text",
         "line": {
          "color": "rgba(128, 128, 128, 0.4)",
          "width": 1
         },
         "mode": "lines",
         "text": "36.99",
         "type": "scatter3d",
         "x": [
          253,
          257
         ],
         "y": [
          223,
          257
         ],
         "z": [
          363,
          377
         ]
        },
        {
         "hoverinfo": "text",
         "line": {
          "color": "rgba(128, 128, 128, 0.4)",
          "width": 1
         },
         "mode": "lines",
         "text": "27.39",
         "type": "scatter3d",
         "x": [
          253,
          258
         ],
         "y": [
          223,
          198
         ],
         "z": [
          363,
          353
         ]
        },
        {
         "hoverinfo": "text",
         "line": {
          "color": "rgba(128, 128, 128, 0.4)",
          "width": 1
         },
         "mode": "lines",
         "text": "29.43",
         "type": "scatter3d",
         "x": [
          253,
          268
         ],
         "y": [
          314,
          318
         ],
         "z": [
          260,
          235
         ]
        },
        {
         "hoverinfo": "text",
         "line": {
          "color": "rgba(128, 128, 128, 0.4)",
          "width": 1
         },
         "mode": "lines",
         "text": "27.09",
         "type": "scatter3d",
         "x": [
          253,
          243
         ],
         "y": [
          314,
          317
         ],
         "z": [
          260,
          285
         ]
        },
        {
         "hoverinfo": "text",
         "line": {
          "color": "rgba(128, 128, 128, 0.4)",
          "width": 1
         },
         "mode": "lines",
         "text": "23.35",
         "type": "scatter3d",
         "x": [
          256,
          271
         ],
         "y": [
          310,
          302
         ],
         "z": [
          319,
          335
         ]
        },
        {
         "hoverinfo": "text",
         "line": {
          "color": "rgba(128, 128, 128, 0.4)",
          "width": 1
         },
         "mode": "lines",
         "text": "66.86",
         "type": "scatter3d",
         "x": [
          257,
          258
         ],
         "y": [
          136,
          198
         ],
         "z": [
          328,
          353
         ]
        },
        {
         "hoverinfo": "text",
         "line": {
          "color": "rgba(128, 128, 128, 0.4)",
          "width": 1
         },
         "mode": "lines",
         "text": "61.99",
         "type": "scatter3d",
         "x": [
          257,
          302
         ],
         "y": [
          257,
          290
         ],
         "z": [
          377,
          350
         ]
        },
        {
         "hoverinfo": "text",
         "line": {
          "color": "rgba(128, 128, 128, 0.4)",
          "width": 1
         },
         "mode": "lines",
         "text": "1.41",
         "type": "scatter3d",
         "x": [
          263,
          264
         ],
         "y": [
          263,
          262
         ],
         "z": [
          323,
          323
         ]
        },
        {
         "hoverinfo": "text",
         "line": {
          "color": "rgba(128, 128, 128, 0.4)",
          "width": 1
         },
         "mode": "lines",
         "text": "38.76",
         "type": "scatter3d",
         "x": [
          263,
          285
         ],
         "y": [
          263,
          290
         ],
         "z": [
          323,
          340
         ]
        },
        {
         "hoverinfo": "text",
         "line": {
          "color": "rgba(128, 128, 128, 0.4)",
          "width": 1
         },
         "mode": "lines",
         "text": "41.62",
         "type": "scatter3d",
         "x": [
          266,
          278
         ],
         "y": [
          403,
          415
         ],
         "z": [
          212,
          174
         ]
        },
        {
         "hoverinfo": "text",
         "line": {
          "color": "rgba(128, 128, 128, 0.4)",
          "width": 1
         },
         "mode": "lines",
         "text": "53.71",
         "type": "scatter3d",
         "x": [
          266,
          306
         ],
         "y": [
          403,
          389
         ],
         "z": [
          212,
          179
         ]
        },
        {
         "hoverinfo": "text",
         "line": {
          "color": "rgba(128, 128, 128, 0.4)",
          "width": 1
         },
         "mode": "lines",
         "text": "107.37",
         "type": "scatter3d",
         "x": [
          268,
          298
         ],
         "y": [
          318,
          333
         ],
         "z": [
          235,
          133
         ]
        },
        {
         "hoverinfo": "text",
         "line": {
          "color": "rgba(128, 128, 128, 0.4)",
          "width": 1
         },
         "mode": "lines",
         "text": "14.70",
         "type": "scatter3d",
         "x": [
          268,
          278
         ],
         "y": [
          434,
          424
         ],
         "z": [
          401,
          397
         ]
        },
        {
         "hoverinfo": "text",
         "line": {
          "color": "rgba(128, 128, 128, 0.4)",
          "width": 1
         },
         "mode": "lines",
         "text": "19.52",
         "type": "scatter3d",
         "x": [
          271,
          258
         ],
         "y": [
          184,
          198
         ],
         "z": [
          349,
          353
         ]
        },
        {
         "hoverinfo": "text",
         "line": {
          "color": "rgba(128, 128, 128, 0.4)",
          "width": 1
         },
         "mode": "lines",
         "text": "3.46",
         "type": "scatter3d",
         "x": [
          271,
          273
         ],
         "y": [
          302,
          300
         ],
         "z": [
          335,
          337
         ]
        },
        {
         "hoverinfo": "text",
         "line": {
          "color": "rgba(128, 128, 128, 0.4)",
          "width": 1
         },
         "mode": "lines",
         "text": "33.38",
         "type": "scatter3d",
         "x": [
          271,
          274
         ],
         "y": [
          302,
          334
         ],
         "z": [
          335,
          344
         ]
        },
        {
         "hoverinfo": "text",
         "line": {
          "color": "rgba(128, 128, 128, 0.4)",
          "width": 1
         },
         "mode": "lines",
         "text": "1.41",
         "type": "scatter3d",
         "x": [
          273,
          273
         ],
         "y": [
          300,
          301
         ],
         "z": [
          337,
          338
         ]
        },
        {
         "hoverinfo": "text",
         "line": {
          "color": "rgba(128, 128, 128, 0.4)",
          "width": 1
         },
         "mode": "lines",
         "text": "13.42",
         "type": "scatter3d",
         "x": [
          273,
          283
         ],
         "y": [
          300,
          292
         ],
         "z": [
          337,
          341
         ]
        },
        {
         "hoverinfo": "text",
         "line": {
          "color": "rgba(128, 128, 128, 0.4)",
          "width": 1
         },
         "mode": "lines",
         "text": "47.27",
         "type": "scatter3d",
         "x": [
          275,
          292
         ],
         "y": [
          240,
          284
         ],
         "z": [
          475,
          472
         ]
        },
        {
         "hoverinfo": "text",
         "line": {
          "color": "rgba(128, 128, 128, 0.4)",
          "width": 1
         },
         "mode": "lines",
         "text": "11.66",
         "type": "scatter3d",
         "x": [
          278,
          284
         ],
         "y": [
          424,
          432
         ],
         "z": [
          397,
          403
         ]
        },
        {
         "hoverinfo": "text",
         "line": {
          "color": "rgba(128, 128, 128, 0.4)",
          "width": 1
         },
         "mode": "lines",
         "text": "42.63",
         "type": "scatter3d",
         "x": [
          278,
          289
         ],
         "y": [
          424,
          388
         ],
         "z": [
          397,
          377
         ]
        },
        {
         "hoverinfo": "text",
         "line": {
          "color": "rgba(128, 128, 128, 0.4)",
          "width": 1
         },
         "mode": "lines",
         "text": "47.76",
         "type": "scatter3d",
         "x": [
          281,
          293
         ],
         "y": [
          338,
          374
         ],
         "z": [
          347,
          376
         ]
        },
        {
         "hoverinfo": "text",
         "line": {
          "color": "rgba(128, 128, 128, 0.4)",
          "width": 1
         },
         "mode": "lines",
         "text": "8.60",
         "type": "scatter3d",
         "x": [
          281,
          274
         ],
         "y": [
          338,
          334
         ],
         "z": [
          347,
          344
         ]
        },
        {
         "hoverinfo": "text",
         "line": {
          "color": "rgba(128, 128, 128, 0.4)",
          "width": 1
         },
         "mode": "lines",
         "text": "14.46",
         "type": "scatter3d",
         "x": [
          281,
          295
         ],
         "y": [
          338,
          341
         ],
         "z": [
          347,
          345
         ]
        },
        {
         "hoverinfo": "text",
         "line": {
          "color": "rgba(128, 128, 128, 0.4)",
          "width": 1
         },
         "mode": "lines",
         "text": "3.32",
         "type": "scatter3d",
         "x": [
          282,
          283
         ],
         "y": [
          295,
          292
         ],
         "z": [
          342,
          341
         ]
        },
        {
         "hoverinfo": "text",
         "line": {
          "color": "rgba(128, 128, 128, 0.4)",
          "width": 1
         },
         "mode": "lines",
         "text": "19.72",
         "type": "scatter3d",
         "x": [
          285,
          302
         ],
         "y": [
          290,
          290
         ],
         "z": [
          340,
          350
         ]
        },
        {
         "hoverinfo": "text",
         "line": {
          "color": "rgba(128, 128, 128, 0.4)",
          "width": 1
         },
         "mode": "lines",
         "text": "3.00",
         "type": "scatter3d",
         "x": [
          285,
          283
         ],
         "y": [
          290,
          292
         ],
         "z": [
          340,
          341
         ]
        },
        {
         "hoverinfo": "text",
         "line": {
          "color": "rgba(128, 128, 128, 0.4)",
          "width": 1
         },
         "mode": "lines",
         "text": "46.78",
         "type": "scatter3d",
         "x": [
          286,
          292
         ],
         "y": [
          251,
          205
         ],
         "z": [
          415,
          409
         ]
        },
        {
         "hoverinfo": "text",
         "line": {
          "color": "rgba(128, 128, 128, 0.4)",
          "width": 1
         },
         "mode": "lines",
         "text": "36.92",
         "type": "scatter3d",
         "x": [
          286,
          301
         ],
         "y": [
          251,
          284
         ],
         "z": [
          415,
          408
         ]
        },
        {
         "hoverinfo": "text",
         "line": {
          "color": "rgba(128, 128, 128, 0.4)",
          "width": 1
         },
         "mode": "lines",
         "text": "41.06",
         "type": "scatter3d",
         "x": [
          289,
          302
         ],
         "y": [
          375,
          341
         ],
         "z": [
          499,
          480
         ]
        },
        {
         "hoverinfo": "text",
         "line": {
          "color": "rgba(128, 128, 128, 0.4)",
          "width": 1
         },
         "mode": "lines",
         "text": "14.59",
         "type": "scatter3d",
         "x": [
          289,
          293
         ],
         "y": [
          388,
          374
         ],
         "z": [
          377,
          376
         ]
        },
        {
         "hoverinfo": "text",
         "line": {
          "color": "rgba(128, 128, 128, 0.4)",
          "width": 1
         },
         "mode": "lines",
         "text": "31.06",
         "type": "scatter3d",
         "x": [
          289,
          298
         ],
         "y": [
          388,
          416
         ],
         "z": [
          377,
          367
         ]
        },
        {
         "hoverinfo": "text",
         "line": {
          "color": "rgba(128, 128, 128, 0.4)",
          "width": 1
         },
         "mode": "lines",
         "text": "13.60",
         "type": "scatter3d",
         "x": [
          293,
          303
         ],
         "y": [
          374,
          376
         ],
         "z": [
          376,
          385
         ]
        },
        {
         "hoverinfo": "text",
         "line": {
          "color": "rgba(128, 128, 128, 0.4)",
          "width": 1
         },
         "mode": "lines",
         "text": "23.56",
         "type": "scatter3d",
         "x": [
          297,
          292
         ],
         "y": [
          285,
          284
         ],
         "z": [
          495,
          472
         ]
        },
        {
         "hoverinfo": "text",
         "line": {
          "color": "rgba(128, 128, 128, 0.4)",
          "width": 1
         },
         "mode": "lines",
         "text": "18.38",
         "type": "scatter3d",
         "x": [
          301,
          318
         ],
         "y": [
          284,
          291
         ],
         "z": [
          408,
          408
         ]
        },
        {
         "hoverinfo": "text",
         "line": {
          "color": "rgba(128, 128, 128, 0.4)",
          "width": 1
         },
         "mode": "lines",
         "text": "57.78",
         "type": "scatter3d",
         "x": [
          301,
          256
         ],
         "y": [
          284,
          316
         ],
         "z": [
          408,
          425
         ]
        },
        {
         "hoverinfo": "text",
         "line": {
          "color": "rgba(128, 128, 128, 0.4)",
          "width": 1
         },
         "mode": "lines",
         "text": "30.82",
         "type": "scatter3d",
         "x": [
          301,
          308
         ],
         "y": [
          358,
          328
         ],
         "z": [
          455,
          454
         ]
        },
        {
         "hoverinfo": "text",
         "line": {
          "color": "rgba(128, 128, 128, 0.4)",
          "width": 1
         },
         "mode": "lines",
         "text": "60.51",
         "type": "scatter3d",
         "x": [
          302,
          360
         ],
         "y": [
          290,
          293
         ],
         "z": [
          350,
          367
         ]
        },
        {
         "hoverinfo": "text",
         "line": {
          "color": "rgba(128, 128, 128, 0.4)",
          "width": 1
         },
         "mode": "lines",
         "text": "3.00",
         "type": "scatter3d",
         "x": [
          302,
          304
         ],
         "y": [
          341,
          339
         ],
         "z": [
          480,
          479
         ]
        },
        {
         "hoverinfo": "text",
         "line": {
          "color": "rgba(128, 128, 128, 0.4)",
          "width": 1
         },
         "mode": "lines",
         "text": "12.45",
         "type": "scatter3d",
         "x": [
          302,
          295
         ],
         "y": [
          346,
          341
         ],
         "z": [
          354,
          345
         ]
        },
        {
         "hoverinfo": "text",
         "line": {
          "color": "rgba(128, 128, 128, 0.4)",
          "width": 1
         },
         "mode": "lines",
         "text": "32.66",
         "type": "scatter3d",
         "x": [
          308,
          311
         ],
         "y": [
          328,
          305
         ],
         "z": [
          454,
          431
         ]
        },
        {
         "hoverinfo": "text",
         "line": {
          "color": "rgba(128, 128, 128, 0.4)",
          "width": 1
         },
         "mode": "lines",
         "text": "27.60",
         "type": "scatter3d",
         "x": [
          308,
          304
         ],
         "y": [
          328,
          339
         ],
         "z": [
          454,
          479
         ]
        },
        {
         "hoverinfo": "text",
         "line": {
          "color": "rgba(128, 128, 128, 0.4)",
          "width": 1
         },
         "mode": "lines",
         "text": "15.94",
         "type": "scatter3d",
         "x": [
          309,
          314
         ],
         "y": [
          370,
          355
         ],
         "z": [
          316,
          318
         ]
        },
        {
         "hoverinfo": "text",
         "line": {
          "color": "rgba(128, 128, 128, 0.4)",
          "width": 1
         },
         "mode": "lines",
         "text": "58.73",
         "type": "scatter3d",
         "x": [
          318,
          360
         ],
         "y": [
          291,
          293
         ],
         "z": [
          408,
          367
         ]
        },
        {
         "hoverinfo": "text",
         "line": {
          "color": "rgba(128, 128, 128, 0.4)",
          "width": 1
         },
         "mode": "lines",
         "text": "27.82",
         "type": "scatter3d",
         "x": [
          318,
          311
         ],
         "y": [
          291,
          305
         ],
         "z": [
          408,
          431
         ]
        },
        {
         "hoverinfo": "text",
         "line": {
          "color": "rgba(128, 128, 128, 0.4)",
          "width": 1
         },
         "mode": "lines",
         "text": "61.53",
         "type": "scatter3d",
         "x": [
          323,
          315
         ],
         "y": [
          340,
          339
         ],
         "z": [
          556,
          495
         ]
        },
        {
         "hoverinfo": "text",
         "line": {
          "color": "rgba(128, 128, 128, 0.4)",
          "width": 1
         },
         "mode": "lines",
         "text": "45.37",
         "type": "scatter3d",
         "x": [
          325,
          314
         ],
         "y": [
          371,
          355
         ],
         "z": [
          277,
          318
         ]
        },
        {
         "hoverinfo": "text",
         "line": {
          "color": "rgba(128, 128, 128, 0.4)",
          "width": 1
         },
         "mode": "lines",
         "text": "16.55",
         "type": "scatter3d",
         "x": [
          331,
          315
         ],
         "y": [
          336,
          339
         ],
         "z": [
          498,
          495
         ]
        },
        {
         "hoverinfo": "text",
         "line": {
          "color": "rgba(128, 128, 128, 0.4)",
          "width": 1
         },
         "mode": "lines",
         "text": "50.47",
         "type": "scatter3d",
         "x": [
          360,
          407
         ],
         "y": [
          293,
          276
         ],
         "z": [
          367,
          374
         ]
        },
        {
         "hoverinfo": "text",
         "line": {
          "color": "rgba(128, 128, 128, 0.4)",
          "width": 1
         },
         "mode": "lines",
         "text": "1.41",
         "type": "scatter3d",
         "x": [
          406,
          407
         ],
         "y": [
          276,
          276
         ],
         "z": [
          375,
          374
         ]
        },
        {
         "hoverinfo": "text",
         "line": {
          "color": "rgba(128, 128, 128, 0.4)",
          "width": 1
         },
         "mode": "lines",
         "text": "7.28",
         "type": "scatter3d",
         "x": [
          428,
          432
         ],
         "y": [
          263,
          257
         ],
         "z": [
          383,
          382
         ]
        },
        {
         "hoverinfo": "text",
         "line": {
          "color": "rgba(128, 128, 128, 0.4)",
          "width": 1
         },
         "mode": "lines",
         "text": "2.83",
         "type": "scatter3d",
         "x": [
          432,
          434
         ],
         "y": [
          257,
          255
         ],
         "z": [
          382,
          382
         ]
        },
        {
         "hoverinfo": "text",
         "line": {
          "color": "rgba(128, 128, 128, 0.4)",
          "width": 1
         },
         "mode": "lines",
         "text": "32.40",
         "type": "scatter3d",
         "x": [
          432,
          407
         ],
         "y": [
          257,
          276
         ],
         "z": [
          382,
          374
         ]
        },
        {
         "hoverinfo": "text",
         "line": {
          "color": "rgba(128, 128, 128, 0.4)",
          "width": 1
         },
         "mode": "lines",
         "text": "3.61",
         "type": "scatter3d",
         "x": [
          433,
          436
         ],
         "y": [
          247,
          247
         ],
         "z": [
          376,
          378
         ]
        },
        {
         "hoverinfo": "text",
         "line": {
          "color": "rgba(128, 128, 128, 0.4)",
          "width": 1
         },
         "mode": "lines",
         "text": "4.12",
         "type": "scatter3d",
         "x": [
          433,
          436
         ],
         "y": [
          250,
          248
         ],
         "z": [
          377,
          379
         ]
        },
        {
         "hoverinfo": "text",
         "line": {
          "color": "rgba(128, 128, 128, 0.4)",
          "width": 1
         },
         "mode": "lines",
         "text": "4.36",
         "type": "scatter3d",
         "x": [
          435,
          434
         ],
         "y": [
          258,
          255
         ],
         "z": [
          385,
          382
         ]
        },
        {
         "hoverinfo": "text",
         "line": {
          "color": "rgba(128, 128, 128, 0.4)",
          "width": 1
         },
         "mode": "lines",
         "text": "1.41",
         "type": "scatter3d",
         "x": [
          436,
          436
         ],
         "y": [
          247,
          248
         ],
         "z": [
          378,
          379
         ]
        },
        {
         "hoverinfo": "text",
         "line": {
          "color": "rgba(128, 128, 128, 0.4)",
          "width": 1
         },
         "mode": "lines",
         "text": "31.65",
         "type": "scatter3d",
         "x": [
          436,
          440
         ],
         "y": [
          247,
          222
         ],
         "z": [
          378,
          359
         ]
        },
        {
         "hoverinfo": "text",
         "line": {
          "color": "rgba(128, 128, 128, 0.4)",
          "width": 1
         },
         "mode": "lines",
         "text": "5.74",
         "type": "scatter3d",
         "x": [
          436,
          437
         ],
         "y": [
          248,
          252
         ],
         "z": [
          379,
          383
         ]
        },
        {
         "hoverinfo": "text",
         "line": {
          "color": "rgba(128, 128, 128, 0.4)",
          "width": 1
         },
         "mode": "lines",
         "text": "4.36",
         "type": "scatter3d",
         "x": [
          437,
          440
         ],
         "y": [
          219,
          222
         ],
         "z": [
          360,
          359
         ]
        },
        {
         "hoverinfo": "text",
         "line": {
          "color": "rgba(128, 128, 128, 0.4)",
          "width": 1
         },
         "mode": "lines",
         "text": "2.83",
         "type": "scatter3d",
         "x": [
          438,
          440
         ],
         "y": [
          215,
          217
         ],
         "z": [
          356,
          356
         ]
        },
        {
         "hoverinfo": "text",
         "line": {
          "color": "rgba(128, 128, 128, 0.4)",
          "width": 1
         },
         "mode": "lines",
         "text": "5.83",
         "type": "scatter3d",
         "x": [
          440,
          440
         ],
         "y": [
          222,
          217
         ],
         "z": [
          359,
          356
         ]
        },
        {
         "hoverinfo": "text",
         "line": {
          "color": "rgba(128, 128, 128, 0.4)",
          "width": 1
         },
         "mode": "lines",
         "text": "4.24",
         "type": "scatter3d",
         "x": [
          443,
          440
         ],
         "y": [
          217,
          217
         ],
         "z": [
          353,
          356
         ]
        },
        {
         "hoverinfo": "text",
         "line": {
          "color": "rgba(128, 128, 128, 0.4)",
          "width": 1
         },
         "mode": "lines",
         "text": "1.41",
         "type": "scatter3d",
         "x": [
          447,
          448
         ],
         "y": [
          267,
          266
         ],
         "z": [
          393,
          393
         ]
        },
        {
         "hoverinfo": "text",
         "line": {
          "color": "rgba(128, 128, 128, 0.4)",
          "width": 1
         },
         "mode": "lines",
         "text": "67.42",
         "type": "scatter3d",
         "x": [
          448,
          499
         ],
         "y": [
          266,
          310
         ],
         "z": [
          393,
          390
         ]
        },
        {
         "hoverinfo": "text",
         "line": {
          "color": "rgba(128, 128, 128, 0.4)",
          "width": 1
         },
         "mode": "lines",
         "text": "20.42",
         "type": "scatter3d",
         "x": [
          448,
          437
         ],
         "y": [
          266,
          252
         ],
         "z": [
          393,
          383
         ]
        },
        {
         "hoverinfo": "text",
         "line": {
          "color": "rgba(128, 128, 128, 0.4)",
          "width": 1
         },
         "mode": "lines",
         "text": "24.66",
         "type": "scatter3d",
         "x": [
          493,
          513
         ],
         "y": [
          205,
          217
         ],
         "z": [
          470,
          462
         ]
        },
        {
         "hoverinfo": "text",
         "line": {
          "color": "rgba(128, 128, 128, 0.4)",
          "width": 1
         },
         "mode": "lines",
         "text": "11.49",
         "type": "scatter3d",
         "x": [
          499,
          507
         ],
         "y": [
          310,
          302
         ],
         "z": [
          390,
          388
         ]
        },
        {
         "hoverinfo": "text",
         "line": {
          "color": "rgba(128, 128, 128, 0.4)",
          "width": 1
         },
         "mode": "lines",
         "text": "24.49",
         "type": "scatter3d",
         "x": [
          499,
          513
         ],
         "y": [
          310,
          330
         ],
         "z": [
          390,
          388
         ]
        },
        {
         "hoverinfo": "text",
         "line": {
          "color": "rgba(128, 128, 128, 0.4)",
          "width": 1
         },
         "mode": "lines",
         "text": "14.53",
         "type": "scatter3d",
         "x": [
          503,
          512
         ],
         "y": [
          326,
          333
         ],
         "z": [
          578,
          569
         ]
        },
        {
         "hoverinfo": "text",
         "line": {
          "color": "rgba(128, 128, 128, 0.4)",
          "width": 1
         },
         "mode": "lines",
         "text": "47.04",
         "type": "scatter3d",
         "x": [
          505,
          543
         ],
         "y": [
          163,
          188
         ],
         "z": [
          350,
          362
         ]
        },
        {
         "hoverinfo": "text",
         "line": {
          "color": "rgba(128, 128, 128, 0.4)",
          "width": 1
         },
         "mode": "lines",
         "text": "50.23",
         "type": "scatter3d",
         "x": [
          507,
          536
         ],
         "y": [
          302,
          273
         ],
         "z": [
          388,
          359
         ]
        },
        {
         "hoverinfo": "text",
         "line": {
          "color": "rgba(128, 128, 128, 0.4)",
          "width": 1
         },
         "mode": "lines",
         "text": "40.07",
         "type": "scatter3d",
         "x": [
          507,
          525
         ],
         "y": [
          302,
          281
         ],
         "z": [
          388,
          417
         ]
        },
        {
         "hoverinfo": "text",
         "line": {
          "color": "rgba(128, 128, 128, 0.4)",
          "width": 1
         },
         "mode": "lines",
         "text": "30.63",
         "type": "scatter3d",
         "x": [
          508,
          517
         ],
         "y": [
          387,
          391
         ],
         "z": [
          292,
          321
         ]
        },
        {
         "hoverinfo": "text",
         "line": {
          "color": "rgba(128, 128, 128, 0.4)",
          "width": 1
         },
         "mode": "lines",
         "text": "14.70",
         "type": "scatter3d",
         "x": [
          509,
          515
         ],
         "y": [
          209,
          221
         ],
         "z": [
          434,
          440
         ]
        },
        {
         "hoverinfo": "text",
         "line": {
          "color": "rgba(128, 128, 128, 0.4)",
          "width": 1
         },
         "mode": "lines",
         "text": "23.00",
         "type": "scatter3d",
         "x": [
          512,
          518
         ],
         "y": [
          333,
          330
         ],
         "z": [
          569,
          591
         ]
        },
        {
         "hoverinfo": "text",
         "line": {
          "color": "rgba(128, 128, 128, 0.4)",
          "width": 1
         },
         "mode": "lines",
         "text": "100.75",
         "type": "scatter3d",
         "x": [
          512,
          545
         ],
         "y": [
          333,
          348
         ],
         "z": [
          569,
          475
         ]
        },
        {
         "hoverinfo": "text",
         "line": {
          "color": "rgba(128, 128, 128, 0.4)",
          "width": 1
         },
         "mode": "lines",
         "text": "22.45",
         "type": "scatter3d",
         "x": [
          513,
          515
         ],
         "y": [
          217,
          221
         ],
         "z": [
          462,
          440
         ]
        },
        {
         "hoverinfo": "text",
         "line": {
          "color": "rgba(128, 128, 128, 0.4)",
          "width": 1
         },
         "mode": "lines",
         "text": "22.83",
         "type": "scatter3d",
         "x": [
          513,
          528
         ],
         "y": [
          217,
          207
         ],
         "z": [
          462,
          476
         ]
        },
        {
         "hoverinfo": "text",
         "line": {
          "color": "rgba(128, 128, 128, 0.4)",
          "width": 1
         },
         "mode": "lines",
         "text": "18.49",
         "type": "scatter3d",
         "x": [
          513,
          524
         ],
         "y": [
          330,
          335
         ],
         "z": [
          388,
          374
         ]
        },
        {
         "hoverinfo": "text",
         "line": {
          "color": "rgba(128, 128, 128, 0.4)",
          "width": 1
         },
         "mode": "lines",
         "text": "36.74",
         "type": "scatter3d",
         "x": [
          513,
          539
         ],
         "y": [
          330,
          337
         ],
         "z": [
          388,
          413
         ]
        },
        {
         "hoverinfo": "text",
         "line": {
          "color": "rgba(128, 128, 128, 0.4)",
          "width": 1
         },
         "mode": "lines",
         "text": "86.31",
         "type": "scatter3d",
         "x": [
          514,
          521
         ],
         "y": [
          272,
          274
         ],
         "z": [
          515,
          429
         ]
        },
        {
         "hoverinfo": "text",
         "line": {
          "color": "rgba(128, 128, 128, 0.4)",
          "width": 1
         },
         "mode": "lines",
         "text": "77.94",
         "type": "scatter3d",
         "x": [
          514,
          539
         ],
         "y": [
          348,
          379
         ],
         "z": [
          185,
          252
         ]
        },
        {
         "hoverinfo": "text",
         "line": {
          "color": "rgba(128, 128, 128, 0.4)",
          "width": 1
         },
         "mode": "lines",
         "text": "28.44",
         "type": "scatter3d",
         "x": [
          514,
          532
         ],
         "y": [
          406,
          392
         ],
         "z": [
          193,
          210
         ]
        },
        {
         "hoverinfo": "text",
         "line": {
          "color": "rgba(128, 128, 128, 0.4)",
          "width": 1
         },
         "mode": "lines",
         "text": "54.46",
         "type": "scatter3d",
         "x": [
          515,
          521
         ],
         "y": [
          221,
          274
         ],
         "z": [
          440,
          429
         ]
        },
        {
         "hoverinfo": "text",
         "line": {
          "color": "rgba(128, 128, 128, 0.4)",
          "width": 1
         },
         "mode": "lines",
         "text": "45.19",
         "type": "scatter3d",
         "x": [
          517,
          522
         ],
         "y": [
          391,
          435
         ],
         "z": [
          321,
          312
         ]
        },
        {
         "hoverinfo": "text",
         "line": {
          "color": "rgba(128, 128, 128, 0.4)",
          "width": 1
         },
         "mode": "lines",
         "text": "53.30",
         "type": "scatter3d",
         "x": [
          517,
          525
         ],
         "y": [
          391,
          362
         ],
         "z": [
          321,
          365
         ]
        },
        {
         "hoverinfo": "text",
         "line": {
          "color": "rgba(128, 128, 128, 0.4)",
          "width": 1
         },
         "mode": "lines",
         "text": "77.62",
         "type": "scatter3d",
         "x": [
          519,
          525
         ],
         "y": [
          427,
          362
         ],
         "z": [
          407,
          365
         ]
        },
        {
         "hoverinfo": "text",
         "line": {
          "color": "rgba(128, 128, 128, 0.4)",
          "width": 1
         },
         "mode": "lines",
         "text": "14.46",
         "type": "scatter3d",
         "x": [
          521,
          525
         ],
         "y": [
          274,
          281
         ],
         "z": [
          429,
          417
         ]
        },
        {
         "hoverinfo": "text",
         "line": {
          "color": "rgba(128, 128, 128, 0.4)",
          "width": 1
         },
         "mode": "lines",
         "text": "1.41",
         "type": "scatter3d",
         "x": [
          524,
          524
         ],
         "y": [
          334,
          335
         ],
         "z": [
          373,
          374
         ]
        },
        {
         "hoverinfo": "text",
         "line": {
          "color": "rgba(128, 128, 128, 0.4)",
          "width": 1
         },
         "mode": "lines",
         "text": "13.19",
         "type": "scatter3d",
         "x": [
          524,
          531
         ],
         "y": [
          335,
          340
         ],
         "z": [
          374,
          364
         ]
        },
        {
         "hoverinfo": "text",
         "line": {
          "color": "rgba(128, 128, 128, 0.4)",
          "width": 1
         },
         "mode": "lines",
         "text": "98.07",
         "type": "scatter3d",
         "x": [
          524,
          532
         ],
         "y": [
          415,
          392
         ],
         "z": [
          115,
          210
         ]
        },
        {
         "hoverinfo": "text",
         "line": {
          "color": "rgba(128, 128, 128, 0.4)",
          "width": 1
         },
         "mode": "lines",
         "text": "22.83",
         "type": "scatter3d",
         "x": [
          525,
          531
         ],
         "y": [
          362,
          340
         ],
         "z": [
          365,
          364
         ]
        },
        {
         "hoverinfo": "text",
         "line": {
          "color": "rgba(128, 128, 128, 0.4)",
          "width": 1
         },
         "mode": "lines",
         "text": "20.83",
         "type": "scatter3d",
         "x": [
          531,
          544
         ],
         "y": [
          340,
          343
         ],
         "z": [
          364,
          348
         ]
        },
        {
         "hoverinfo": "text",
         "line": {
          "color": "rgba(128, 128, 128, 0.4)",
          "width": 1
         },
         "mode": "lines",
         "text": "59.54",
         "type": "scatter3d",
         "x": [
          536,
          559
         ],
         "y": [
          273,
          219
         ],
         "z": [
          359,
          369
         ]
        },
        {
         "hoverinfo": "text",
         "line": {
          "color": "rgba(128, 128, 128, 0.4)",
          "width": 1
         },
         "mode": "lines",
         "text": "52.71",
         "type": "scatter3d",
         "x": [
          536,
          561
         ],
         "y": [
          273,
          245
         ],
         "z": [
          359,
          322
         ]
        },
        {
         "hoverinfo": "text",
         "line": {
          "color": "rgba(128, 128, 128, 0.4)",
          "width": 1
         },
         "mode": "lines",
         "text": "40.12",
         "type": "scatter3d",
         "x": [
          539,
          543
         ],
         "y": [
          151,
          188
         ],
         "z": [
          347,
          362
         ]
        },
        {
         "hoverinfo": "text",
         "line": {
          "color": "rgba(128, 128, 128, 0.4)",
          "width": 1
         },
         "mode": "lines",
         "text": "15.03",
         "type": "scatter3d",
         "x": [
          539,
          540
         ],
         "y": [
          379,
          388
         ],
         "z": [
          252,
          240
         ]
        },
        {
         "hoverinfo": "text",
         "line": {
          "color": "rgba(128, 128, 128, 0.4)",
          "width": 1
         },
         "mode": "lines",
         "text": "70.18",
         "type": "scatter3d",
         "x": [
          539,
          552
         ],
         "y": [
          379,
          345
         ],
         "z": [
          252,
          312
         ]
        },
        {
         "hoverinfo": "text",
         "line": {
          "color": "rgba(128, 128, 128, 0.4)",
          "width": 1
         },
         "mode": "lines",
         "text": "31.30",
         "type": "scatter3d",
         "x": [
          540,
          532
         ],
         "y": [
          388,
          392
         ],
         "z": [
          240,
          210
         ]
        },
        {
         "hoverinfo": "text",
         "line": {
          "color": "rgba(128, 128, 128, 0.4)",
          "width": 1
         },
         "mode": "lines",
         "text": "24.19",
         "type": "scatter3d",
         "x": [
          540,
          550
         ],
         "y": [
          388,
          405
         ],
         "z": [
          240,
          226
         ]
        },
        {
         "hoverinfo": "text",
         "line": {
          "color": "rgba(128, 128, 128, 0.4)",
          "width": 1
         },
         "mode": "lines",
         "text": "59.36",
         "type": "scatter3d",
         "x": [
          542,
          550
         ],
         "y": [
          394,
          360
         ],
         "z": [
          497,
          449
         ]
        },
        {
         "hoverinfo": "text",
         "line": {
          "color": "rgba(128, 128, 128, 0.4)",
          "width": 1
         },
         "mode": "lines",
         "text": "82.52",
         "type": "scatter3d",
         "x": [
          542,
          550
         ],
         "y": [
          466,
          405
         ],
         "z": [
          171,
          226
         ]
        },
        {
         "hoverinfo": "text",
         "line": {
          "color": "rgba(128, 128, 128, 0.4)",
          "width": 1
         },
         "mode": "lines",
         "text": "35.58",
         "type": "scatter3d",
         "x": [
          543,
          559
         ],
         "y": [
          188,
          219
         ],
         "z": [
          362,
          369
         ]
        },
        {
         "hoverinfo": "text",
         "line": {
          "color": "rgba(128, 128, 128, 0.4)",
          "width": 1
         },
         "mode": "lines",
         "text": "83.29",
         "type": "scatter3d",
         "x": [
          544,
          560
         ],
         "y": [
          343,
          422
         ],
         "z": [
          348,
          369
         ]
        },
        {
         "hoverinfo": "text",
         "line": {
          "color": "rgba(128, 128, 128, 0.4)",
          "width": 1
         },
         "mode": "lines",
         "text": "5.48",
         "type": "scatter3d",
         "x": [
          544,
          546
         ],
         "y": [
          343,
          342
         ],
         "z": [
          348,
          343
         ]
        },
        {
         "hoverinfo": "text",
         "line": {
          "color": "rgba(128, 128, 128, 0.4)",
          "width": 1
         },
         "mode": "lines",
         "text": "5.92",
         "type": "scatter3d",
         "x": [
          550,
          553
         ],
         "y": [
          360,
          365
         ],
         "z": [
          449,
          450
         ]
        },
        {
         "hoverinfo": "text",
         "line": {
          "color": "rgba(128, 128, 128, 0.4)",
          "width": 1
         },
         "mode": "lines",
         "text": "13.15",
         "type": "scatter3d",
         "x": [
          550,
          544
         ],
         "y": [
          360,
          349
         ],
         "z": [
          449,
          445
         ]
        },
        {
         "hoverinfo": "text",
         "line": {
          "color": "rgba(128, 128, 128, 0.4)",
          "width": 1
         },
         "mode": "lines",
         "text": "15.26",
         "type": "scatter3d",
         "x": [
          551,
          553
         ],
         "y": [
          380,
          365
         ],
         "z": [
          452,
          450
         ]
        },
        {
         "hoverinfo": "text",
         "line": {
          "color": "rgba(128, 128, 128, 0.4)",
          "width": 1
         },
         "mode": "lines",
         "text": "7.62",
         "type": "scatter3d",
         "x": [
          552,
          552
         ],
         "y": [
          342,
          345
         ],
         "z": [
          319,
          312
         ]
        },
        {
         "hoverinfo": "text",
         "line": {
          "color": "rgba(128, 128, 128, 0.4)",
          "width": 1
         },
         "mode": "lines",
         "text": "48.96",
         "type": "scatter3d",
         "x": [
          552,
          572
         ],
         "y": [
          342,
          308
         ],
         "z": [
          319,
          290
         ]
        },
        {
         "hoverinfo": "text",
         "line": {
          "color": "rgba(128, 128, 128, 0.4)",
          "width": 1
         },
         "mode": "lines",
         "text": "24.74",
         "type": "scatter3d",
         "x": [
          552,
          546
         ],
         "y": [
          342,
          342
         ],
         "z": [
          319,
          343
         ]
        },
        {
         "hoverinfo": "text",
         "line": {
          "color": "rgba(128, 128, 128, 0.4)",
          "width": 1
         },
         "mode": "lines",
         "text": "6.40",
         "type": "scatter3d",
         "x": [
          552,
          554
         ],
         "y": [
          345,
          346
         ],
         "z": [
          312,
          306
         ]
        },
        {
         "hoverinfo": "text",
         "line": {
          "color": "rgba(128, 128, 128, 0.4)",
          "width": 1
         },
         "mode": "lines",
         "text": "55.81",
         "type": "scatter3d",
         "x": [
          553,
          592
         ],
         "y": [
          365,
          380
         ],
         "z": [
          450,
          487
         ]
        },
        {
         "hoverinfo": "text",
         "line": {
          "color": "rgba(128, 128, 128, 0.4)",
          "width": 1
         },
         "mode": "lines",
         "text": "1.41",
         "type": "scatter3d",
         "x": [
          554,
          554
         ],
         "y": [
          346,
          347
         ],
         "z": [
          306,
          305
         ]
        },
        {
         "hoverinfo": "text",
         "line": {
          "color": "rgba(128, 128, 128, 0.4)",
          "width": 1
         },
         "mode": "lines",
         "text": "28.72",
         "type": "scatter3d",
         "x": [
          554,
          568
         ],
         "y": [
          346,
          344
         ],
         "z": [
          306,
          281
         ]
        },
        {
         "hoverinfo": "text",
         "line": {
          "color": "rgba(128, 128, 128, 0.4)",
          "width": 1
         },
         "mode": "lines",
         "text": "20.20",
         "type": "scatter3d",
         "x": [
          555,
          557
         ],
         "y": [
          270,
          268
         ],
         "z": [
          453,
          473
         ]
        },
        {
         "hoverinfo": "text",
         "line": {
          "color": "rgba(128, 128, 128, 0.4)",
          "width": 1
         },
         "mode": "lines",
         "text": "46.80",
         "type": "scatter3d",
         "x": [
          555,
          596
         ],
         "y": [
          270,
          248
         ],
         "z": [
          453,
          458
         ]
        },
        {
         "hoverinfo": "text",
         "line": {
          "color": "rgba(128, 128, 128, 0.4)",
          "width": 1
         },
         "mode": "lines",
         "text": "48.14",
         "type": "scatter3d",
         "x": [
          555,
          525
         ],
         "y": [
          270,
          281
         ],
         "z": [
          453,
          417
         ]
        },
        {
         "hoverinfo": "text",
         "line": {
          "color": "rgba(128, 128, 128, 0.4)",
          "width": 1
         },
         "mode": "lines",
         "text": "45.01",
         "type": "scatter3d",
         "x": [
          557,
          557
         ],
         "y": [
          268,
          269
         ],
         "z": [
          473,
          518
         ]
        },
        {
         "hoverinfo": "text",
         "line": {
          "color": "rgba(128, 128, 128, 0.4)",
          "width": 1
         },
         "mode": "lines",
         "text": "12.08",
         "type": "scatter3d",
         "x": [
          557,
          568
         ],
         "y": [
          268,
          268
         ],
         "z": [
          473,
          478
         ]
        },
        {
         "hoverinfo": "text",
         "line": {
          "color": "rgba(128, 128, 128, 0.4)",
          "width": 1
         },
         "mode": "lines",
         "text": "76.46",
         "type": "scatter3d",
         "x": [
          559,
          608
         ],
         "y": [
          219,
          162
         ],
         "z": [
          369,
          355
         ]
        },
        {
         "hoverinfo": "text",
         "line": {
          "color": "rgba(128, 128, 128, 0.4)",
          "width": 1
         },
         "mode": "lines",
         "text": "184.81",
         "type": "scatter3d",
         "x": [
          560,
          561
         ],
         "y": [
          77,
          245
         ],
         "z": [
          245,
          322
         ]
        },
        {
         "hoverinfo": "text",
         "line": {
          "color": "rgba(128, 128, 128, 0.4)",
          "width": 1
         },
         "mode": "lines",
         "text": "44.92",
         "type": "scatter3d",
         "x": [
          569,
          581
         ],
         "y": [
          346,
          389
         ],
         "z": [
          280,
          285
         ]
        },
        {
         "hoverinfo": "text",
         "line": {
          "color": "rgba(128, 128, 128, 0.4)",
          "width": 1
         },
         "mode": "lines",
         "text": "58.91",
         "type": "scatter3d",
         "x": [
          569,
          592
         ],
         "y": [
          346,
          351
         ],
         "z": [
          280,
          226
         ]
        },
        {
         "hoverinfo": "text",
         "line": {
          "color": "rgba(128, 128, 128, 0.4)",
          "width": 1
         },
         "mode": "lines",
         "text": "2.45",
         "type": "scatter3d",
         "x": [
          569,
          568
         ],
         "y": [
          346,
          344
         ],
         "z": [
          280,
          281
         ]
        },
        {
         "hoverinfo": "text",
         "line": {
          "color": "rgba(128, 128, 128, 0.4)",
          "width": 1
         },
         "mode": "lines",
         "text": "77.32",
         "type": "scatter3d",
         "x": [
          577,
          654
         ],
         "y": [
          307,
          314
         ],
         "z": [
          290,
          291
         ]
        },
        {
         "hoverinfo": "text",
         "line": {
          "color": "rgba(128, 128, 128, 0.4)",
          "width": 1
         },
         "mode": "lines",
         "text": "82.76",
         "type": "scatter3d",
         "x": [
          577,
          637
         ],
         "y": [
          307,
          272
         ],
         "z": [
          290,
          245
         ]
        },
        {
         "hoverinfo": "text",
         "line": {
          "color": "rgba(128, 128, 128, 0.4)",
          "width": 1
         },
         "mode": "lines",
         "text": "5.10",
         "type": "scatter3d",
         "x": [
          577,
          572
         ],
         "y": [
          307,
          308
         ],
         "z": [
          290,
          290
         ]
        },
        {
         "hoverinfo": "text",
         "line": {
          "color": "rgba(128, 128, 128, 0.4)",
          "width": 1
         },
         "mode": "lines",
         "text": "48.89",
         "type": "scatter3d",
         "x": [
          578,
          619
         ],
         "y": [
          334,
          319
         ],
         "z": [
          420,
          442
         ]
        },
        {
         "hoverinfo": "text",
         "line": {
          "color": "rgba(128, 128, 128, 0.4)",
          "width": 1
         },
         "mode": "lines",
         "text": "62.63",
         "type": "scatter3d",
         "x": [
          578,
          637
         ],
         "y": [
          334,
          353
         ],
         "z": [
          420,
          429
         ]
        },
        {
         "hoverinfo": "text",
         "line": {
          "color": "rgba(128, 128, 128, 0.4)",
          "width": 1
         },
         "mode": "lines",
         "text": "39.74",
         "type": "scatter3d",
         "x": [
          578,
          539
         ],
         "y": [
          334,
          337
         ],
         "z": [
          420,
          413
         ]
        },
        {
         "hoverinfo": "text",
         "line": {
          "color": "rgba(128, 128, 128, 0.4)",
          "width": 1
         },
         "mode": "lines",
         "text": "122.45",
         "type": "scatter3d",
         "x": [
          579,
          692
         ],
         "y": [
          331,
          348
         ],
         "z": [
          259,
          215
         ]
        },
        {
         "hoverinfo": "text",
         "line": {
          "color": "rgba(128, 128, 128, 0.4)",
          "width": 1
         },
         "mode": "lines",
         "text": "27.82",
         "type": "scatter3d",
         "x": [
          579,
          568
         ],
         "y": [
          331,
          344
         ],
         "z": [
          259,
          281
         ]
        },
        {
         "hoverinfo": "text",
         "line": {
          "color": "rgba(128, 128, 128, 0.4)",
          "width": 1
         },
         "mode": "lines",
         "text": "49.28",
         "type": "scatter3d",
         "x": [
          579,
          595
         ],
         "y": [
          331,
          313
         ],
         "z": [
          259,
          216
         ]
        },
        {
         "hoverinfo": "text",
         "line": {
          "color": "rgba(128, 128, 128, 0.4)",
          "width": 1
         },
         "mode": "lines",
         "text": "130.81",
         "type": "scatter3d",
         "x": [
          580,
          607
         ],
         "y": [
          230,
          140
         ],
         "z": [
          302,
          211
         ]
        },
        {
         "hoverinfo": "text",
         "line": {
          "color": "rgba(128, 128, 128, 0.4)",
          "width": 1
         },
         "mode": "lines",
         "text": "93.61",
         "type": "scatter3d",
         "x": [
          580,
          629
         ],
         "y": [
          230,
          161
         ],
         "z": [
          302,
          262
         ]
        },
        {
         "hoverinfo": "text",
         "line": {
          "color": "rgba(128, 128, 128, 0.4)",
          "width": 1
         },
         "mode": "lines",
         "text": "31.40",
         "type": "scatter3d",
         "x": [
          580,
          561
         ],
         "y": [
          230,
          245
         ],
         "z": [
          302,
          322
         ]
        },
        {
         "hoverinfo": "text",
         "line": {
          "color": "rgba(128, 128, 128, 0.4)",
          "width": 1
         },
         "mode": "lines",
         "text": "35.28",
         "type": "scatter3d",
         "x": [
          581,
          591
         ],
         "y": [
          389,
          417
         ],
         "z": [
          285,
          266
         ]
        },
        {
         "hoverinfo": "text",
         "line": {
          "color": "rgba(128, 128, 128, 0.4)",
          "width": 1
         },
         "mode": "lines",
         "text": "57.18",
         "type": "scatter3d",
         "x": [
          581,
          633
         ],
         "y": [
          389,
          412
         ],
         "z": [
          285,
          291
         ]
        },
        {
         "hoverinfo": "text",
         "line": {
          "color": "rgba(128, 128, 128, 0.4)",
          "width": 1
         },
         "mode": "lines",
         "text": "7.87",
         "type": "scatter3d",
         "x": [
          587,
          588
         ],
         "y": [
          350,
          345
         ],
         "z": [
          539,
          545
         ]
        },
        {
         "hoverinfo": "text",
         "line": {
          "color": "rgba(128, 128, 128, 0.4)",
          "width": 1
         },
         "mode": "lines",
         "text": "8.83",
         "type": "scatter3d",
         "x": [
          587,
          589
         ],
         "y": [
          350,
          357
         ],
         "z": [
          539,
          544
         ]
        },
        {
         "hoverinfo": "text",
         "line": {
          "color": "rgba(128, 128, 128, 0.4)",
          "width": 1
         },
         "mode": "lines",
         "text": "76.58",
         "type": "scatter3d",
         "x": [
          587,
          545
         ],
         "y": [
          350,
          348
         ],
         "z": [
          539,
          475
         ]
        },
        {
         "hoverinfo": "text",
         "line": {
          "color": "rgba(128, 128, 128, 0.4)",
          "width": 1
         },
         "mode": "lines",
         "text": "18.81",
         "type": "scatter3d",
         "x": [
          592,
          599
         ],
         "y": [
          351,
          347
         ],
         "z": [
          226,
          209
         ]
        },
        {
         "hoverinfo": "text",
         "line": {
          "color": "rgba(128, 128, 128, 0.4)",
          "width": 1
         },
         "mode": "lines",
         "text": "98.45",
         "type": "scatter3d",
         "x": [
          592,
          674
         ],
         "y": [
          351,
          391
         ],
         "z": [
          226,
          189
         ]
        },
        {
         "hoverinfo": "text",
         "line": {
          "color": "rgba(128, 128, 128, 0.4)",
          "width": 1
         },
         "mode": "lines",
         "text": "70.12",
         "type": "scatter3d",
         "x": [
          596,
          550
         ],
         "y": [
          425,
          405
         ],
         "z": [
          177,
          226
         ]
        },
        {
         "hoverinfo": "text",
         "line": {
          "color": "rgba(128, 128, 128, 0.4)",
          "width": 1
         },
         "mode": "lines",
         "text": "141.87",
         "type": "scatter3d",
         "x": [
          611,
          572
         ],
         "y": [
          226,
          308
         ],
         "z": [
          181,
          290
         ]
        },
        {
         "hoverinfo": "text",
         "line": {
          "color": "rgba(128, 128, 128, 0.4)",
          "width": 1
         },
         "mode": "lines",
         "text": "98.66",
         "type": "scatter3d",
         "x": [
          624,
          546
         ],
         "y": [
          283,
          342
         ],
         "z": [
          356,
          343
         ]
        },
        {
         "hoverinfo": "text",
         "line": {
          "color": "rgba(128, 128, 128, 0.4)",
          "width": 1
         },
         "mode": "lines",
         "text": "48.81",
         "type": "scatter3d",
         "x": [
          672,
          637
         ],
         "y": [
          271,
          272
         ],
         "z": [
          211,
          245
         ]
        },
        {
         "hoverinfo": "text",
         "line": {
          "color": "rgba(128, 128, 128, 0.4)",
          "width": 1
         },
         "mode": "lines",
         "text": "74.44",
         "type": "scatter3d",
         "x": [
          676,
          637
         ],
         "y": [
          222,
          272
         ],
         "z": [
          206,
          245
         ]
        },
        {
         "hoverinfo": "text",
         "line": {
          "color": "rgba(128, 128, 128, 0.4)",
          "width": 1
         },
         "mode": "lines",
         "text": "105.78",
         "type": "scatter3d",
         "x": [
          685,
          595
         ],
         "y": [
          321,
          313
         ],
         "z": [
          161,
          216
         ]
        },
        {
         "hoverinfo": "text",
         "line": {
          "color": "rgba(128, 128, 128, 0.4)",
          "width": 1
         },
         "mode": "lines",
         "text": "183.59",
         "type": "scatter3d",
         "x": [
          725,
          595
         ],
         "y": [
          287,
          313
         ],
         "z": [
          89,
          216
         ]
        },
        {
         "hoverinfo": "text",
         "line": {
          "color": "rgba(128, 128, 128, 0.4)",
          "width": 1
         },
         "mode": "lines",
         "text": "39.26",
         "type": "scatter3d",
         "x": [
          240,
          256
         ],
         "y": [
          347,
          316
         ],
         "z": [
          443,
          425
         ]
        },
        {
         "hoverinfo": "text",
         "line": {
          "color": "rgba(128, 128, 128, 0.4)",
          "width": 1
         },
         "mode": "lines",
         "text": "30.03",
         "type": "scatter3d",
         "x": [
          545,
          544
         ],
         "y": [
          348,
          349
         ],
         "z": [
          475,
          445
         ]
        },
        {
         "hoverinfo": "text",
         "line": {
          "color": "rgba(128, 128, 128, 0.4)",
          "width": 1
         },
         "mode": "lines",
         "text": "34.54",
         "type": "scatter3d",
         "x": [
          544,
          539
         ],
         "y": [
          349,
          337
         ],
         "z": [
          445,
          413
         ]
        },
        {
         "hoverinfo": "text",
         "line": {
          "color": "rgba(128, 128, 128, 0.4)",
          "width": 1
         },
         "mode": "lines",
         "text": "4.36",
         "type": "scatter3d",
         "x": [
          434,
          437
         ],
         "y": [
          255,
          252
         ],
         "z": [
          382,
          383
         ]
        },
        {
         "hoverinfo": "text",
         "line": {
          "color": "rgba(128, 128, 128, 0.4)",
          "width": 1
         },
         "mode": "lines",
         "text": "38.03",
         "type": "scatter3d",
         "x": [
          311,
          294
         ],
         "y": [
          305,
          291
         ],
         "z": [
          431,
          462
         ]
        },
        {
         "hoverinfo": "text",
         "line": {
          "color": "rgba(128, 128, 128, 0.4)",
          "width": 1
         },
         "mode": "lines",
         "text": "58.49",
         "type": "scatter3d",
         "x": [
          240,
          294
         ],
         "y": [
          283,
          291
         ],
         "z": [
          483,
          462
         ]
        },
        {
         "hoverinfo": "text",
         "line": {
          "color": "rgba(128, 128, 128, 0.4)",
          "width": 1
         },
         "mode": "lines",
         "text": "12.37",
         "type": "scatter3d",
         "x": [
          294,
          292
         ],
         "y": [
          291,
          284
         ],
         "z": [
          462,
          472
         ]
        },
        {
         "hoverinfo": "text",
         "line": {
          "color": "rgba(128, 128, 128, 0.4)",
          "width": 1
         },
         "mode": "lines",
         "text": "19.42",
         "type": "scatter3d",
         "x": [
          315,
          304
         ],
         "y": [
          339,
          339
         ],
         "z": [
          495,
          479
         ]
        },
        {
         "hoverinfo": "text",
         "line": {
          "color": "rgba(128, 128, 128, 0.4)",
          "width": 1
         },
         "mode": "lines",
         "text": "126.66",
         "type": "scatter3d",
         "x": [
          134,
          243
         ],
         "y": [
          296,
          317
         ],
         "z": [
          224,
          285
         ]
        },
        {
         "hoverinfo": "text",
         "line": {
          "color": "rgba(128, 128, 128, 0.4)",
          "width": 1
         },
         "mode": "lines",
         "text": "35.86",
         "type": "scatter3d",
         "x": [
          295,
          314
         ],
         "y": [
          341,
          355
         ],
         "z": [
          345,
          318
         ]
        }
       ],
       "layout": {
        "margin": {
         "b": 0,
         "l": 0,
         "r": 0,
         "t": 0
        },
        "scene": {
         "domain": {
          "x": [
           0,
           1
          ],
          "y": [
           0,
           1
          ]
         },
         "xaxis": {
          "range": [
           0,
           726
          ]
         },
         "yaxis": {
          "range": [
           0,
           484
          ]
         },
         "zaxis": {
          "range": [
           0,
           592
          ]
         }
        },
        "template": {
         "data": {
          "bar": [
           {
            "error_x": {
             "color": "#2a3f5f"
            },
            "error_y": {
             "color": "#2a3f5f"
            },
            "marker": {
             "line": {
              "color": "#E5ECF6",
              "width": 0.5
             },
             "pattern": {
              "fillmode": "overlay",
              "size": 10,
              "solidity": 0.2
             }
            },
            "type": "bar"
           }
          ],
          "barpolar": [
           {
            "marker": {
             "line": {
              "color": "#E5ECF6",
              "width": 0.5
             },
             "pattern": {
              "fillmode": "overlay",
              "size": 10,
              "solidity": 0.2
             }
            },
            "type": "barpolar"
           }
          ],
          "carpet": [
           {
            "aaxis": {
             "endlinecolor": "#2a3f5f",
             "gridcolor": "white",
             "linecolor": "white",
             "minorgridcolor": "white",
             "startlinecolor": "#2a3f5f"
            },
            "baxis": {
             "endlinecolor": "#2a3f5f",
             "gridcolor": "white",
             "linecolor": "white",
             "minorgridcolor": "white",
             "startlinecolor": "#2a3f5f"
            },
            "type": "carpet"
           }
          ],
          "choropleth": [
           {
            "colorbar": {
             "outlinewidth": 0,
             "ticks": ""
            },
            "type": "choropleth"
           }
          ],
          "contour": [
           {
            "colorbar": {
             "outlinewidth": 0,
             "ticks": ""
            },
            "colorscale": [
             [
              0,
              "#0d0887"
             ],
             [
              0.1111111111111111,
              "#46039f"
             ],
             [
              0.2222222222222222,
              "#7201a8"
             ],
             [
              0.3333333333333333,
              "#9c179e"
             ],
             [
              0.4444444444444444,
              "#bd3786"
             ],
             [
              0.5555555555555556,
              "#d8576b"
             ],
             [
              0.6666666666666666,
              "#ed7953"
             ],
             [
              0.7777777777777778,
              "#fb9f3a"
             ],
             [
              0.8888888888888888,
              "#fdca26"
             ],
             [
              1,
              "#f0f921"
             ]
            ],
            "type": "contour"
           }
          ],
          "contourcarpet": [
           {
            "colorbar": {
             "outlinewidth": 0,
             "ticks": ""
            },
            "type": "contourcarpet"
           }
          ],
          "heatmap": [
           {
            "colorbar": {
             "outlinewidth": 0,
             "ticks": ""
            },
            "colorscale": [
             [
              0,
              "#0d0887"
             ],
             [
              0.1111111111111111,
              "#46039f"
             ],
             [
              0.2222222222222222,
              "#7201a8"
             ],
             [
              0.3333333333333333,
              "#9c179e"
             ],
             [
              0.4444444444444444,
              "#bd3786"
             ],
             [
              0.5555555555555556,
              "#d8576b"
             ],
             [
              0.6666666666666666,
              "#ed7953"
             ],
             [
              0.7777777777777778,
              "#fb9f3a"
             ],
             [
              0.8888888888888888,
              "#fdca26"
             ],
             [
              1,
              "#f0f921"
             ]
            ],
            "type": "heatmap"
           }
          ],
          "heatmapgl": [
           {
            "colorbar": {
             "outlinewidth": 0,
             "ticks": ""
            },
            "colorscale": [
             [
              0,
              "#0d0887"
             ],
             [
              0.1111111111111111,
              "#46039f"
             ],
             [
              0.2222222222222222,
              "#7201a8"
             ],
             [
              0.3333333333333333,
              "#9c179e"
             ],
             [
              0.4444444444444444,
              "#bd3786"
             ],
             [
              0.5555555555555556,
              "#d8576b"
             ],
             [
              0.6666666666666666,
              "#ed7953"
             ],
             [
              0.7777777777777778,
              "#fb9f3a"
             ],
             [
              0.8888888888888888,
              "#fdca26"
             ],
             [
              1,
              "#f0f921"
             ]
            ],
            "type": "heatmapgl"
           }
          ],
          "histogram": [
           {
            "marker": {
             "pattern": {
              "fillmode": "overlay",
              "size": 10,
              "solidity": 0.2
             }
            },
            "type": "histogram"
           }
          ],
          "histogram2d": [
           {
            "colorbar": {
             "outlinewidth": 0,
             "ticks": ""
            },
            "colorscale": [
             [
              0,
              "#0d0887"
             ],
             [
              0.1111111111111111,
              "#46039f"
             ],
             [
              0.2222222222222222,
              "#7201a8"
             ],
             [
              0.3333333333333333,
              "#9c179e"
             ],
             [
              0.4444444444444444,
              "#bd3786"
             ],
             [
              0.5555555555555556,
              "#d8576b"
             ],
             [
              0.6666666666666666,
              "#ed7953"
             ],
             [
              0.7777777777777778,
              "#fb9f3a"
             ],
             [
              0.8888888888888888,
              "#fdca26"
             ],
             [
              1,
              "#f0f921"
             ]
            ],
            "type": "histogram2d"
           }
          ],
          "histogram2dcontour": [
           {
            "colorbar": {
             "outlinewidth": 0,
             "ticks": ""
            },
            "colorscale": [
             [
              0,
              "#0d0887"
             ],
             [
              0.1111111111111111,
              "#46039f"
             ],
             [
              0.2222222222222222,
              "#7201a8"
             ],
             [
              0.3333333333333333,
              "#9c179e"
             ],
             [
              0.4444444444444444,
              "#bd3786"
             ],
             [
              0.5555555555555556,
              "#d8576b"
             ],
             [
              0.6666666666666666,
              "#ed7953"
             ],
             [
              0.7777777777777778,
              "#fb9f3a"
             ],
             [
              0.8888888888888888,
              "#fdca26"
             ],
             [
              1,
              "#f0f921"
             ]
            ],
            "type": "histogram2dcontour"
           }
          ],
          "mesh3d": [
           {
            "colorbar": {
             "outlinewidth": 0,
             "ticks": ""
            },
            "type": "mesh3d"
           }
          ],
          "parcoords": [
           {
            "line": {
             "colorbar": {
              "outlinewidth": 0,
              "ticks": ""
             }
            },
            "type": "parcoords"
           }
          ],
          "pie": [
           {
            "automargin": true,
            "type": "pie"
           }
          ],
          "scatter": [
           {
            "fillpattern": {
             "fillmode": "overlay",
             "size": 10,
             "solidity": 0.2
            },
            "type": "scatter"
           }
          ],
          "scatter3d": [
           {
            "line": {
             "colorbar": {
              "outlinewidth": 0,
              "ticks": ""
             }
            },
            "marker": {
             "colorbar": {
              "outlinewidth": 0,
              "ticks": ""
             }
            },
            "type": "scatter3d"
           }
          ],
          "scattercarpet": [
           {
            "marker": {
             "colorbar": {
              "outlinewidth": 0,
              "ticks": ""
             }
            },
            "type": "scattercarpet"
           }
          ],
          "scattergeo": [
           {
            "marker": {
             "colorbar": {
              "outlinewidth": 0,
              "ticks": ""
             }
            },
            "type": "scattergeo"
           }
          ],
          "scattergl": [
           {
            "marker": {
             "colorbar": {
              "outlinewidth": 0,
              "ticks": ""
             }
            },
            "type": "scattergl"
           }
          ],
          "scattermapbox": [
           {
            "marker": {
             "colorbar": {
              "outlinewidth": 0,
              "ticks": ""
             }
            },
            "type": "scattermapbox"
           }
          ],
          "scatterpolar": [
           {
            "marker": {
             "colorbar": {
              "outlinewidth": 0,
              "ticks": ""
             }
            },
            "type": "scatterpolar"
           }
          ],
          "scatterpolargl": [
           {
            "marker": {
             "colorbar": {
              "outlinewidth": 0,
              "ticks": ""
             }
            },
            "type": "scatterpolargl"
           }
          ],
          "scatterternary": [
           {
            "marker": {
             "colorbar": {
              "outlinewidth": 0,
              "ticks": ""
             }
            },
            "type": "scatterternary"
           }
          ],
          "surface": [
           {
            "colorbar": {
             "outlinewidth": 0,
             "ticks": ""
            },
            "colorscale": [
             [
              0,
              "#0d0887"
             ],
             [
              0.1111111111111111,
              "#46039f"
             ],
             [
              0.2222222222222222,
              "#7201a8"
             ],
             [
              0.3333333333333333,
              "#9c179e"
             ],
             [
              0.4444444444444444,
              "#bd3786"
             ],
             [
              0.5555555555555556,
              "#d8576b"
             ],
             [
              0.6666666666666666,
              "#ed7953"
             ],
             [
              0.7777777777777778,
              "#fb9f3a"
             ],
             [
              0.8888888888888888,
              "#fdca26"
             ],
             [
              1,
              "#f0f921"
             ]
            ],
            "type": "surface"
           }
          ],
          "table": [
           {
            "cells": {
             "fill": {
              "color": "#EBF0F8"
             },
             "line": {
              "color": "white"
             }
            },
            "header": {
             "fill": {
              "color": "#C8D4E3"
             },
             "line": {
              "color": "white"
             }
            },
            "type": "table"
           }
          ]
         },
         "layout": {
          "annotationdefaults": {
           "arrowcolor": "#2a3f5f",
           "arrowhead": 0,
           "arrowwidth": 1
          },
          "autotypenumbers": "strict",
          "coloraxis": {
           "colorbar": {
            "outlinewidth": 0,
            "ticks": ""
           }
          },
          "colorscale": {
           "diverging": [
            [
             0,
             "#8e0152"
            ],
            [
             0.1,
             "#c51b7d"
            ],
            [
             0.2,
             "#de77ae"
            ],
            [
             0.3,
             "#f1b6da"
            ],
            [
             0.4,
             "#fde0ef"
            ],
            [
             0.5,
             "#f7f7f7"
            ],
            [
             0.6,
             "#e6f5d0"
            ],
            [
             0.7,
             "#b8e186"
            ],
            [
             0.8,
             "#7fbc41"
            ],
            [
             0.9,
             "#4d9221"
            ],
            [
             1,
             "#276419"
            ]
           ],
           "sequential": [
            [
             0,
             "#0d0887"
            ],
            [
             0.1111111111111111,
             "#46039f"
            ],
            [
             0.2222222222222222,
             "#7201a8"
            ],
            [
             0.3333333333333333,
             "#9c179e"
            ],
            [
             0.4444444444444444,
             "#bd3786"
            ],
            [
             0.5555555555555556,
             "#d8576b"
            ],
            [
             0.6666666666666666,
             "#ed7953"
            ],
            [
             0.7777777777777778,
             "#fb9f3a"
            ],
            [
             0.8888888888888888,
             "#fdca26"
            ],
            [
             1,
             "#f0f921"
            ]
           ],
           "sequentialminus": [
            [
             0,
             "#0d0887"
            ],
            [
             0.1111111111111111,
             "#46039f"
            ],
            [
             0.2222222222222222,
             "#7201a8"
            ],
            [
             0.3333333333333333,
             "#9c179e"
            ],
            [
             0.4444444444444444,
             "#bd3786"
            ],
            [
             0.5555555555555556,
             "#d8576b"
            ],
            [
             0.6666666666666666,
             "#ed7953"
            ],
            [
             0.7777777777777778,
             "#fb9f3a"
            ],
            [
             0.8888888888888888,
             "#fdca26"
            ],
            [
             1,
             "#f0f921"
            ]
           ]
          },
          "colorway": [
           "#636efa",
           "#EF553B",
           "#00cc96",
           "#ab63fa",
           "#FFA15A",
           "#19d3f3",
           "#FF6692",
           "#B6E880",
           "#FF97FF",
           "#FECB52"
          ],
          "font": {
           "color": "#2a3f5f"
          },
          "geo": {
           "bgcolor": "white",
           "lakecolor": "white",
           "landcolor": "#E5ECF6",
           "showlakes": true,
           "showland": true,
           "subunitcolor": "white"
          },
          "hoverlabel": {
           "align": "left"
          },
          "hovermode": "closest",
          "mapbox": {
           "style": "light"
          },
          "paper_bgcolor": "white",
          "plot_bgcolor": "#E5ECF6",
          "polar": {
           "angularaxis": {
            "gridcolor": "white",
            "linecolor": "white",
            "ticks": ""
           },
           "bgcolor": "#E5ECF6",
           "radialaxis": {
            "gridcolor": "white",
            "linecolor": "white",
            "ticks": ""
           }
          },
          "scene": {
           "xaxis": {
            "backgroundcolor": "#E5ECF6",
            "gridcolor": "white",
            "gridwidth": 2,
            "linecolor": "white",
            "showbackground": true,
            "ticks": "",
            "zerolinecolor": "white"
           },
           "yaxis": {
            "backgroundcolor": "#E5ECF6",
            "gridcolor": "white",
            "gridwidth": 2,
            "linecolor": "white",
            "showbackground": true,
            "ticks": "",
            "zerolinecolor": "white"
           },
           "zaxis": {
            "backgroundcolor": "#E5ECF6",
            "gridcolor": "white",
            "gridwidth": 2,
            "linecolor": "white",
            "showbackground": true,
            "ticks": "",
            "zerolinecolor": "white"
           }
          },
          "shapedefaults": {
           "line": {
            "color": "#2a3f5f"
           }
          },
          "ternary": {
           "aaxis": {
            "gridcolor": "white",
            "linecolor": "white",
            "ticks": ""
           },
           "baxis": {
            "gridcolor": "white",
            "linecolor": "white",
            "ticks": ""
           },
           "bgcolor": "#E5ECF6",
           "caxis": {
            "gridcolor": "white",
            "linecolor": "white",
            "ticks": ""
           }
          },
          "title": {
           "x": 0.05
          },
          "xaxis": {
           "automargin": true,
           "gridcolor": "white",
           "linecolor": "white",
           "ticks": "",
           "title": {
            "standoff": 15
           },
           "zerolinecolor": "white",
           "zerolinewidth": 2
          },
          "yaxis": {
           "automargin": true,
           "gridcolor": "white",
           "linecolor": "white",
           "ticks": "",
           "title": {
            "standoff": 15
           },
           "zerolinecolor": "white",
           "zerolinewidth": 2
          }
         }
        }
       }
      }
     },
     "metadata": {},
     "output_type": "display_data"
    }
   ],
   "source": [
    "#16 Plot-2 Interactive 3D-2!: Check #Clusters: Show Cycles in Red >> Edges: {Red=InCycle, Grey=Else}, Nodes: {Grey}#{Red=Leaf, Blue=Else}\n",
    "\n",
    "fig = make_subplots(rows=1, cols=1, specs=[[{'type': 'scatter3d'}]])\n",
    "x, y, z = zip(*graph.nodes)\n",
    "\n",
    "leaf_nodes = [node for node, degree in graph.degree if degree == 1]\n",
    "\n",
    "node_trace = go.Scatter3d(\n",
    "    x=x,\n",
    "    y=y,\n",
    "    z=z,\n",
    "    mode='markers',\n",
    "    marker=dict(\n",
    "        size=2,\n",
    "        color='grey', #['red' if node in leaf_nodes else 'blue' for node in graph.nodes()], # 'grey',\n",
    "        opacity=0.1 #0.8\n",
    "    )\n",
    ")\n",
    "fig.add_trace(node_trace)\n",
    "\n",
    "for edge in graph.edges():\n",
    "    x0, y0, z0 = edge[0]\n",
    "    x1, y1, z1 = edge[1]\n",
    "    \n",
    "    edge_length = graph.edges[edge]['edge_length']\n",
    "    edge_text = f'{edge_length:.2f}'  # Display the edge length as text\n",
    "    \n",
    "    edge_is_in_a_cycle = [edge[0],edge[1]] in EdgesInCycles or [edge[1],edge[0]] in EdgesInCycles\n",
    "    \n",
    "    edge_trace = go.Scatter3d(\n",
    "        x=[x0, x1],\n",
    "        y=[y0, y1],\n",
    "        z=[z0, z1],\n",
    "        mode='lines',\n",
    "        line=dict(color='rgba(255, 0, 0, 0.8)' if edge_is_in_a_cycle else 'rgba(128, 128, 128, 0.4)',\n",
    "            width=8 if edge_is_in_a_cycle else 1),\n",
    "        hoverinfo='text',\n",
    "        text=edge_text\n",
    "    )\n",
    "    fig.add_trace(edge_trace)\n",
    "\n",
    "fig.update_layout(\n",
    "    margin=dict(l=0, r=0, b=0, t=0),\n",
    "    scene=dict(\n",
    "        xaxis=dict(range=[0, max(x) + 1]),\n",
    "        yaxis=dict(range=[0, max(y) + 1]),\n",
    "        zaxis=dict(range=[0, max(z) + 1])\n",
    "    )\n",
    ")\n",
    "\n",
    "fig.show()"
   ]
  },
  {
   "cell_type": "code",
   "execution_count": 19,
   "metadata": {},
   "outputs": [
    {
     "name": "stdout",
     "output_type": "stream",
     "text": [
      "\n",
      "Overall 0 nodes in CxNodesList\n"
     ]
    }
   ],
   "source": [
    "#17 Create the nodes list of the complex cycle: Works only for one complex cluster!\n",
    "\n",
    "CxNodesList = [] # Complex nodes list\n",
    "NodeIndex = 0\n",
    "for edge in EdgesInCycles: ############### EdgesInCycles should be adjusted for other scenarios! ***\n",
    "    for i in [0,1]:\n",
    "        CurrentNode = edge[i]\n",
    "        if CurrentNode not in CxNodesList:\n",
    "            CxNodesList.append(CurrentNode)\n",
    "            print(f'Node[{NodeIndex}]: Appended {CurrentNode} to CxNodesList')\n",
    "            NodeIndex += 1\n",
    "            \n",
    "print(f'\\nOverall {len(CxNodesList)} nodes in CxNodesList')"
   ]
  },
  {
   "cell_type": "code",
   "execution_count": 20,
   "metadata": {},
   "outputs": [],
   "source": [
    "#18 Specify n_clusters and get the clusters as separate lists $$$ n_clusters (judge visually and from code block above)\n",
    "# NO NEED TO RUN CODE BLOCK 18-20 IF 0 NODES IN \"CxNodesList\"\n",
    "\n",
    "if CxNodesList: # If not empty, do ..\n",
    "\n",
    "    from sklearn.cluster import KMeans # pip install scikit-learn\n",
    "\n",
    "    # Convert the list of 3-tuples to a NumPy array for K-Means clustering\n",
    "    data = np.array(CxNodesList)\n",
    "\n",
    "    # Specify the number of clusters (in this case, 3 clusters)\n",
    "    # n_clusters = 1\n",
    "    winsound.Beep(frequency, duration)\n",
    "    n_clusters = int(input(\"Please enter the number of clusters: [Cell-18>>Cell-16]: \"))\n",
    "\n",
    "    # Perform K-Means clustering\n",
    "    kmeans = KMeans(n_clusters=n_clusters, n_init=10)  # You can set n_init to any desired value\n",
    "    kmeans.fit(data)\n",
    "\n",
    "    # Get the cluster labels for each data point\n",
    "    cluster_labels = kmeans.labels_\n",
    "\n",
    "    # Initialize empty lists for each cluster\n",
    "    clusters = [[] for _ in range(n_clusters)]\n",
    "\n",
    "    # Organize data points into clusters based on labels\n",
    "    for i, label in enumerate(cluster_labels):\n",
    "        clusters[label].append(CxNodesList[i])\n",
    "\n",
    "    # Print the clusters\n",
    "    for i, cluster in enumerate(clusters):\n",
    "        print(f\"Cluster {i + 1}:\", cluster)"
   ]
  },
  {
   "cell_type": "code",
   "execution_count": 21,
   "metadata": {},
   "outputs": [],
   "source": [
    "#19 Function: Resolves the complex cycles for one cluster: Changes the graph! Works only once!\n",
    "\n",
    "def ResolveComplexCluster(CxNodesCluster, graph):\n",
    "\n",
    "    # List the neighbors that lie outside the cx-cycle\n",
    "    OuterNeighbors = []\n",
    "    print(\"Outer Neighbors:\")\n",
    "    for node in CxNodesCluster:\n",
    "        for neighbor in graph.neighbors(node):\n",
    "            if neighbor not in CxNodesCluster and neighbor not in OuterNeighbors:\n",
    "                OuterNeighbors.append(neighbor)\n",
    "                print(neighbor)\n",
    "\n",
    "    # Print the cx-cycle\n",
    "    print(\"\\nCx-Cycle:\")\n",
    "    for node in CxNodesCluster:\n",
    "        print(node)\n",
    "\n",
    "    # Takes the Cx-Nodes and forms their average\n",
    "    # CxNodesList: List of n 3-tuples  # n: Number of Cx Nodes  # After zip becomes 3 x ntuple\n",
    "    NewAverageNode = tuple([round(sum(ntuple)/len(ntuple)) for ntuple in zip(*CxNodesCluster)])\n",
    "    print('\\nNewAverageNode:')\n",
    "    print(NewAverageNode)\n",
    "\n",
    "    # If NewAverageNode not on the skeleton, go to its neighborhood and find the nearest voxel that lies on the skeleton:\n",
    "    if skeleton[*NewAverageNode] == 0:\n",
    "        print(f\"NewAverageNode {NewAverageNode} not on the skeleton.\")\n",
    "        xxna, yyna, zzna = NewAverageNode\n",
    "        success = False\n",
    "        NeighbrhdSize = 3\n",
    "        while success == False:\n",
    "            print(f\"Searching neighborhood {NeighbrhdSize}\")\n",
    "            lowerbnd = -(NeighbrhdSize//2)\n",
    "            upperbnd =  (NeighbrhdSize//2) + 1\n",
    "            neighbors = [(i, j, k) for i in range(lowerbnd, upperbnd) for j in range(lowerbnd, upperbnd) for k in range(lowerbnd, upperbnd)]\n",
    "            neighbors.remove((0,0,0))\n",
    "            for neighbor_offset in neighbors:\n",
    "                nnx, nny, nnz = xxna + neighbor_offset[0], yyna + neighbor_offset[1], zzna + neighbor_offset[2]\n",
    "                if 0 <= nnx < skeleton.shape[0] and 0 <= nny < skeleton.shape[1] and 0 <= nnz < skeleton.shape[2]:\n",
    "                    if skeleton[nnx, nny, nnz] != 0:\n",
    "                        NewAverageNode = (nnx, nny, nnz)\n",
    "                        print(f\"Adjusted the NewAverageNode to {NewAverageNode}\")\n",
    "                        success = True\n",
    "                        break            \n",
    "            NeighbrhdSize += 2\n",
    "\n",
    "    # Now remove the old nodes in cx-cycle\n",
    "    for node in CxNodesCluster:\n",
    "        graph.remove_node(node)\n",
    "    print(f'\\nRemoved the {len(CxNodesCluster)} nodes in cx-cycle')\n",
    "\n",
    "    # Add the new average node\n",
    "    graph.add_node(NewAverageNode)\n",
    "    print('Added new average node')\n",
    "\n",
    "    # Make the new edges/connections\n",
    "    for node in OuterNeighbors:\n",
    "        graph.add_edge(node, NewAverageNode)\n",
    "    print('Added the final edges\\n')\n",
    "\n",
    "    UpdateEdgeLengths(graph)\n",
    "    print_stats(graph)\n",
    "    print()\n",
    "\n",
    "    ReFindAndPrintLength3Cycles(graph)"
   ]
  },
  {
   "cell_type": "code",
   "execution_count": 22,
   "metadata": {},
   "outputs": [],
   "source": [
    "#20 Execute: Resolve all clusters:\n",
    "\n",
    "if CxNodesList: # If not empty, do ..\n",
    "    for cluster in clusters:\n",
    "        ResolveComplexCluster(cluster, graph)"
   ]
  },
  {
   "cell_type": "code",
   "execution_count": 23,
   "metadata": {},
   "outputs": [
    {
     "name": "stdout",
     "output_type": "stream",
     "text": [
      "Number of Nodes: 240\n",
      "Number of Edges: 239\n",
      "\n",
      "This could be a tree.\n"
     ]
    }
   ],
   "source": [
    "#21 Check if it could be a tree:\n",
    "\n",
    "def CheckBeingATree():\n",
    "\n",
    "    num_nodes = nx.number_of_nodes(graph)\n",
    "    num_edges = nx.number_of_edges(graph)\n",
    "\n",
    "    print(\"Number of Nodes:\", num_nodes)\n",
    "    print(\"Number of Edges:\", num_edges)\n",
    "\n",
    "    if num_nodes != num_edges + 1: print(\"\\nThis is not a tree: #nodes != #edges + 1\")\n",
    "    if num_nodes == num_edges + 1: print(\"\\nThis could be a tree.\")\n",
    "\n",
    "CheckBeingATree()"
   ]
  },
  {
   "cell_type": "code",
   "execution_count": 24,
   "metadata": {},
   "outputs": [
    {
     "name": "stdout",
     "output_type": "stream",
     "text": [
      "How many small edges inside: 12\n"
     ]
    }
   ],
   "source": [
    "#21-1 To simplify tree further: Set and visualize SmallInsideEdges, to be removed: Displayed red:\n",
    "\n",
    "UpdateEdgeLengths(graph)\n",
    "\n",
    "# Case-79 root: (480, 196 , 396)\n",
    "# leaf_nodes = [node for node, degree in graph.degree if degree == 1]\n",
    "\n",
    "# size=[6 if node in leaf_nodes else 2 for node in graph.nodes()],\n",
    "# color=['black' if node in leaf_nodes else 'grey' for node in graph.nodes()], # 'grey',\n",
    "# edge_length = graph.edges[edge]['edge_length']\n",
    "# SpecialCondition = edge_length < 10\n",
    "# line=dict(color='rgba(255, 0, 0, 0.6)' if SpecialCondition else 'rgba(128, 128, 128, 0.6)',\n",
    "#             width=6 if SpecialCondition else 2),\n",
    "\n",
    "fig = mlab.figure(size=(2500, 1400), bgcolor=(1, 1, 1))\n",
    "\n",
    "x, y, z = zip(*graph.nodes)\n",
    "mlab.points3d(x, y, z, scale_factor=2, color=(0.2, 0.2, 0.2), opacity=0.7) # color=(1, 0, 0)\n",
    "\n",
    "# Find all terminal edges smaller than LengthThreshold and deeper than InsideMargin\n",
    "InsideMargin = 14\n",
    "LengthThreshold = 14\n",
    "SmallInsideEdges = [edge for edge in graph.edges if\n",
    "                   (graph.degree(edge[0]) == 1 or graph.degree(edge[1]) == 1) and\n",
    "                   (graph.edges[edge]['edge_length'] < LengthThreshold) and\n",
    "\n",
    "                   ((graph.degree(edge[0]) == 1 and distance_transform[*edge[0]]>InsideMargin) or\n",
    "                    (graph.degree(edge[1]) == 1 and distance_transform[*edge[1]]>InsideMargin))\n",
    "                ]\n",
    "\n",
    "print(f\"How many small edges inside: {len(SmallInsideEdges)}\")\n",
    "\n",
    "# Create lines for edges\n",
    "for edge in graph.edges:\n",
    "    src, tgt = edge\n",
    "    x = [src[0], tgt[0]]\n",
    "    y = [src[1], tgt[1]]\n",
    "    z = [src[2], tgt[2]]\n",
    "    mlab.plot3d(x, y, z, tube_radius=0.2,\n",
    "                color=(1, 0, 0) if edge in SmallInsideEdges else (0.2, 0.2, 0.2),#(0.2, 0.2, 0.2),\n",
    "                opacity=0.7)\n",
    "\n",
    "# Create contour for the 3D object\n",
    "mlab.contour3d(atree, contours=[0.5], opacity=0.2, color=(0, 151/255, 206/255))\n",
    "\n",
    "winsound.Beep(frequency, duration)\n",
    "mlab.show()"
   ]
  },
  {
   "cell_type": "code",
   "execution_count": 25,
   "metadata": {},
   "outputs": [],
   "source": [
    "#21-2 Keep another copy of the graph:\n",
    "\n",
    "graphintact2 = copy.deepcopy(graph)\n",
    "skeletonintact2 = copy.deepcopy(skeleton)\n",
    "\n",
    "#RR To refresh your graph once it's messed below, come back to this:\n",
    "# graph = copy.deepcopy(graphintact2)\n",
    "# skeleton = copy.deepcopy(skeletonintact2)"
   ]
  },
  {
   "cell_type": "code",
   "execution_count": 26,
   "metadata": {},
   "outputs": [],
   "source": [
    "# ###22-Old Function: Traverse edge and calculate average diameter function, given endpoint indices and skeleton *\n",
    "\n",
    "# import numpy as np\n",
    "# import copy\n",
    "# import random\n",
    "# import time\n",
    "\n",
    "# def traverse_edge_and_average(skeletonn, edt, index1, index2, EdgeNum): # edt: eucledean distance transform\n",
    "\n",
    "#     global verbose\n",
    "#     global StartTime\n",
    "    \n",
    "#     # normalize_vector = lambda vec: vec / np.linalg.norm(vec)\n",
    "#     if verbose: print(f\"Trying to go from {index1} to {index2}\")\n",
    "\n",
    "#     # Define the neighborhood offsets for 3D traversal (26-connected)\n",
    "#     neighbors = [(i, j, k) for i in range(-1, 2) for j in range(-1, 2) for k in range(-1, 2)]\n",
    "#     neighbors.remove((0,0,0))\n",
    "    \n",
    "#     average_diameter = None\n",
    "#     timestried = 0\n",
    "#     while average_diameter == None and timestried < 2000:\n",
    "\n",
    "#         # Initialize variables to store diameter values and count\n",
    "#         if verbose: print(f\"Attempt {timestried+1}: \", end='')\n",
    "#         skeletonnn = copy.deepcopy(skeletonn)\n",
    "#         diameter_sum = 0.0\n",
    "#         count = 0\n",
    "\n",
    "#         # Start traversal at index1\n",
    "#         current_index = index1\n",
    "#         visitedvoxels = []\n",
    "\n",
    "#         while current_index != index2:\n",
    "\n",
    "#             # print(\"current_index:\", current_index) # Great for debugging\n",
    "\n",
    "#             if current_index == None: break\n",
    "#             visitedvoxels.append(current_index)\n",
    "\n",
    "#             # Get the current voxel's coordinates\n",
    "#             x, y, z = current_index\n",
    "\n",
    "#             # Check if the current voxel is within the skeleton and within bounds\n",
    "#             if 0 <= x < skeletonnn.shape[0] and 0 <= y < skeletonnn.shape[1] and 0 <= z < skeletonnn.shape[2]:\n",
    "#                 if skeletonnn[x, y, z] != 0:\n",
    "#                     # If the current voxel is part of the skeleton, add its diameter to the sum\n",
    "#                     diameter_sum += edt[x, y, z]\n",
    "#                     count += 1\n",
    "\n",
    "#                     # Mark the current voxel as visited (you can set it to 0 if necessary)\n",
    "#                     skeletonnn[x, y, z] = 0  # Uncomment this line if you want to mark visited voxels\n",
    "                    \n",
    "#                     max_alignment = float('-inf')\n",
    "#                     next_index = None\n",
    "\n",
    "\n",
    "#                     ## Logic to choose next voxel:\n",
    "\n",
    "#                     # Logic-1: Deterministic:\n",
    "#                     # for neighbor_offset in neighbors:\n",
    "#                     #     nx, ny, nz = x + neighbor_offset[0], y + neighbor_offset[1], z + neighbor_offset[2]\n",
    "\n",
    "#                     #     strghtdirectiont = tuple(np.array(index2) - np.array(current_index))\n",
    "#                     #     strghtdirectionu = normalize_vector(strghtdirectiont)\n",
    "#                     #     neighbor_offsetu = normalize_vector(neighbor_offset )\n",
    "#                     #     currentalignment = np.dot(neighbor_offsetu, strghtdirectionu)\n",
    "                        \n",
    "#                     #     if 0 <= nx < skeletonn.shape[0] and 0 <= ny < skeletonn.shape[1] and 0 <= nz < skeletonn.shape[2]:\n",
    "#                     #         if skeletonn[nx, ny, nz] != 0 and currentalignment > max_alignment:\n",
    "#                     #             max_alignment = currentalignment\n",
    "#                     #             next_index = (nx, ny, nz)\n",
    "\n",
    "#                     # Logic-2: Random walk:\n",
    "#                     while True:\n",
    "#                         if not any([skeletonnn[*tuple(np.array(current_index)+np.array(neigh))] for neigh in neighbors]): break\n",
    "#                         neighbor_offset = random.choice(neighbors)\n",
    "#                         nnx, nny, nnz = x + neighbor_offset[0], y + neighbor_offset[1], z + neighbor_offset[2]\n",
    "#                         if 0 <= nnx < skeletonnn.shape[0] and 0 <= nny < skeletonnn.shape[1] and 0 <= nnz < skeletonnn.shape[2]:\n",
    "#                             if skeletonnn[nnx, nny, nnz] != 0:\n",
    "#                                 next_index = (nnx, nny, nnz)\n",
    "#                                 break\n",
    "\n",
    "\n",
    "#                     # Update the current index to the next voxel in the skeleton\n",
    "#                     current_index = next_index\n",
    "#                 else:\n",
    "#                     # If the current voxel is not part of the skeleton, stop the traversal\n",
    "#                     break\n",
    "#             else:\n",
    "#                 # If the current index is out of bounds, stop the traversal\n",
    "#                 break\n",
    "        \n",
    "#         if current_index != index2:\n",
    "#             if verbose: print(f\"Error! Couldn't get from {index1} to {index2}! Returned None.\")\n",
    "#             pass\n",
    "\n",
    "#         # Set the output\n",
    "#         if count > 0 and current_index == index2:\n",
    "#             average_diameter = diameter_sum / count\n",
    "\n",
    "#         del skeletonnn\n",
    "#         timestried += 1\n",
    "\n",
    "#     if current_index == index2:\n",
    "#         if verbose: print(f\"\\nDone. Got to {index2}\\n\")\n",
    "#         pass\n",
    "\n",
    "#     num_edges = nx.number_of_edges(graph)\n",
    "\n",
    "#     try:\n",
    "#         # Your statement or code that might raise an error goes here\n",
    "#         print(f\"Edge #{EdgeNum:3}/{num_edges}; AvgDiam: {average_diameter:010.7f}; TimeElapsed: {(time.time() - StartTime):07.2f}\" + (\"\\n\" if verbose else \"\"))\n",
    "#     except Exception as e:\n",
    "#         # This block will execute if an error occurs\n",
    "#         winsound.Beep(4000, 300)    \n",
    "#     # print(f\"Edge #{EdgeNum:3}/{num_edges}; AvgDiam: {average_diameter:010.7f}; TimeElapsed: {(time.time() - StartTime):07.2f}\" + (\"\\n\" if verbose else \"\"))\n",
    "\n",
    "#     return average_diameter, visitedvoxels"
   ]
  },
  {
   "cell_type": "code",
   "execution_count": 27,
   "metadata": {},
   "outputs": [],
   "source": [
    "#22-Updated Function: Traverse edge and calculate average diameter function, given endpoint indices and skeleton *\n",
    "\n",
    "import numpy as np\n",
    "import copy\n",
    "import random\n",
    "import time\n",
    "\n",
    "def traverse_edge_and_average(skeletonn, index1, index2, EdgeNum): # edt: eucledean distance transform\n",
    "\n",
    "    global verbose\n",
    "    global StartTime\n",
    "    \n",
    "    if verbose: print(f\"Trying to go from {index1} to {index2}\")\n",
    "\n",
    "    # Define the neighborhood offsets for 3D traversal (26-connected)\n",
    "    neighbors = [(i, j, k) for i in range(-1, 2) for j in range(-1, 2) for k in range(-1, 2)]\n",
    "    neighbors.remove((0,0,0))\n",
    "    \n",
    "    AllDone = False\n",
    "    timestried = 0\n",
    "    while AllDone == False and timestried < 2000:\n",
    "\n",
    "        # Initialize variables to store diameter values and count\n",
    "        if verbose: print(f\"Attempt {timestried+1}: \", end='')\n",
    "        skeletonnn = copy.deepcopy(skeletonn)\n",
    "        count = 0\n",
    "\n",
    "        # Start traversal at index1\n",
    "        current_index = index1\n",
    "        visitedvoxels = []\n",
    "\n",
    "        while current_index != index2:\n",
    "\n",
    "            # print(\"current_index:\", current_index) # Great for debugging\n",
    "\n",
    "            if current_index == None: break\n",
    "            visitedvoxels.append(current_index) # Won't add the final/destination voxel here\n",
    "\n",
    "            # Get the current voxel's coordinates\n",
    "            x, y, z = current_index\n",
    "\n",
    "            # Check if the current voxel is within the skeleton and within bounds\n",
    "            if 0 <= x < skeletonnn.shape[0] and 0 <= y < skeletonnn.shape[1] and 0 <= z < skeletonnn.shape[2]:\n",
    "                if skeletonnn[x, y, z] != 0:\n",
    "                    # If the current voxel is part of the skeleton, count++  # add its diameter to the sum\n",
    "                    count += 1\n",
    "\n",
    "                    # Mark the current voxel as visited (you can set it to 0 if necessary)\n",
    "                    skeletonnn[x, y, z] = 0  # Uncomment this line if you want to mark visited voxels                    \n",
    "                    next_index = None\n",
    "\n",
    "                    # Logic to choose next voxel: Random walk:\n",
    "                    while True:\n",
    "                        if not any([skeletonnn[*tuple(np.array(current_index)+np.array(neigh))] for neigh in neighbors]): break\n",
    "                        neighbor_offset = random.choice(neighbors)\n",
    "                        nnx, nny, nnz = x + neighbor_offset[0], y + neighbor_offset[1], z + neighbor_offset[2]\n",
    "                        if 0 <= nnx < skeletonnn.shape[0] and 0 <= nny < skeletonnn.shape[1] and 0 <= nnz < skeletonnn.shape[2]:\n",
    "                            if skeletonnn[nnx, nny, nnz] != 0:\n",
    "                                next_index = (nnx, nny, nnz)\n",
    "                                break\n",
    "\n",
    "                    # Update the current index to the next voxel in the skeleton\n",
    "                    current_index = next_index\n",
    "                else:\n",
    "                    # If the current voxel is not part of the skeleton, stop the traversal\n",
    "                    break\n",
    "            else:\n",
    "                # If the current index is out of bounds, stop the traversal\n",
    "                break\n",
    "        \n",
    "        if current_index != index2:\n",
    "            if verbose: print(f\"Error! Couldn't get from {index1} to {index2}! Returned None.\")\n",
    "            pass\n",
    "\n",
    "        # Set the output\n",
    "        if count > 0 and current_index == index2:\n",
    "            AllDone = True\n",
    "\n",
    "        del skeletonnn\n",
    "        timestried += 1\n",
    "\n",
    "    if current_index == index2:\n",
    "        if verbose: print(f\"\\nDone. Got to {index2}\\n\")\n",
    "        visitedvoxels.append(current_index)\n",
    "        pass\n",
    "\n",
    "    num_edges = nx.number_of_edges(graph)\n",
    "    print(f\"Edge #{EdgeNum:3}/{num_edges}; Successfully got from {index1} to {index2}; TimeElapsed: {(time.time() - StartTime):07.2f}\" + (\"\\n\" if verbose else \"\"))\n",
    "\n",
    "    return visitedvoxels"
   ]
  },
  {
   "cell_type": "code",
   "execution_count": null,
   "metadata": {},
   "outputs": [],
   "source": [
    "##23-2 Only test: traverse_edge_and_average for two points:\n",
    "\n",
    "# index1 = (423, 232, 374)\n",
    "# index2 = (412, 245, 380)\n",
    "\n",
    "# skeletonn = copy.deepcopy(skeleton)\n",
    "# avgdiam, visitedvoxels = traverse_edge_and_average(skeletonn, distance_transform, index1, index2, 5)\n",
    "# del skeletonn\n",
    "\n",
    "# if avgdiam is not None:\n",
    "#     print(f\"Average Diameter between {index1} and {index2}: {avgdiam:.2f}\")\n",
    "# else:\n",
    "#     print(\"No skeleton found between the specified indices.\")"
   ]
  },
  {
   "cell_type": "code",
   "execution_count": null,
   "metadata": {},
   "outputs": [],
   "source": [
    "##23-3 Test: Use mayavi to visualize the intended start and end points, plus the taken route, from the above test cell:\n",
    "\n",
    "# import mayavi.mlab as mlab\n",
    "# import numpy as np\n",
    "\n",
    "# # Create a figure\n",
    "# fig = mlab.figure(size=(800, 800), bgcolor=(1, 1, 1))\n",
    "\n",
    "# # Plot the skeleton in blue (0 values will be transparent)\n",
    "# mlab.contour3d(skeleton, color=(0, 0, 1), opacity=0.4)\n",
    "\n",
    "# # Highlight the visited voxels in red\n",
    "# for voxel in visitedvoxels:\n",
    "#     # print(voxel)\n",
    "#     x, y, z = voxel\n",
    "#     mlab.points3d(x, y, z, color=(1, 0, 0), scale_factor=1.0) # , mode='sphere'\n",
    "\n",
    "# for voxel in [index1, index2]:\n",
    "#     # print(voxel)\n",
    "#     x, y, z = voxel\n",
    "#     mlab.points3d(x, y, z, color=(1, 0, 0), scale_factor=4.0) # , mode='sphere'\n",
    "\n",
    "# # Customize the view and axes as needed\n",
    "# mlab.view(azimuth=45, elevation=45, distance=20)\n",
    "# # mlab.axes()\n",
    "\n",
    "# # Show the visualization\n",
    "# mlab.show()"
   ]
  },
  {
   "cell_type": "code",
   "execution_count": null,
   "metadata": {},
   "outputs": [],
   "source": [
    "#21-3 Given 'graph': Find and remove all edges in SmallInsideEdges: Changes the graph:\n",
    "# All terminal edges smaller than LengthThreshold and deeper than InsideMargin\n",
    "\n",
    "StartTime = time.time()\n",
    "\n",
    "visitedvoxelstot = []\n",
    "\n",
    "for indxe, edge in enumerate(SmallInsideEdges):\n",
    "\n",
    "    node1, node2 = edge\n",
    "\n",
    "    Node1IsOrWasDegree1 = graph.degree(node1)==1\n",
    "    \n",
    "    if graph.degree(node1)==1: graph.remove_node(node1)\n",
    "    if graph.degree(node2)==1: graph.remove_node(node2)\n",
    "\n",
    "    # TheDegree1Node = node1 if Node1IsOrWasDegree1 else node2\n",
    "    # NodeOnMainstem = node2 if Node1IsOrWasDegree1 else node1\n",
    "\n",
    "    # print(f\"Trying to remove from skeleton: {TheDegree1Node}->{NodeOnMainstem}\")\n",
    "\n",
    "    # skeletonn = copy.deepcopy(skeleton)\n",
    "    # avgdiam, visitedvoxels = traverse_edge_and_average(skeletonn, distance_transform, TheDegree1Node, NodeOnMainstem, 5)\n",
    "    # visitedvoxelstot.append(visitedvoxels)\n",
    "    # del skeletonn\n",
    "\n",
    "    # print(indxe)\n",
    "    # print(\"visitedvoxels:\", visitedvoxels)\n",
    "    # print()\n",
    "\n",
    "# for vxt in visitedvoxelstot:\n",
    "#     if len(vxt)>1:\n",
    "#         for vx in vxt:\n",
    "#             skeleton[*vx] = 0\n",
    "#             print(f\"deleted voxel: {vx}\")\n",
    "\n",
    "RemoveAndReconnectDegree2Nodes(graph)\n",
    "UpdateEdgeLengths(graph)\n",
    "\n",
    "print(\"Removed all small edges inside the volume/ near the root.\")\n",
    "# print(\"Removed skeleton voxels corresponding to small edges inside the volume/ near the root.\")"
   ]
  },
  {
   "cell_type": "code",
   "execution_count": 29,
   "metadata": {},
   "outputs": [
    {
     "name": "stdout",
     "output_type": "stream",
     "text": [
      "Automatically found root: (440, 222, 359)\n"
     ]
    }
   ],
   "source": [
    "#21-4 Automatically find the root:\n",
    "\n",
    "leaf_nodes = [node for node, degree in graph.degree if degree == 1]\n",
    "MaxDistance = -10\n",
    "root = []\n",
    "for node in leaf_nodes:\n",
    "    if distance_transform[node]>MaxDistance:\n",
    "        root = node\n",
    "        MaxDistance = distance_transform[node]\n",
    "\n",
    "print(\"Automatically found root:\", root)"
   ]
  },
  {
   "cell_type": "code",
   "execution_count": 30,
   "metadata": {},
   "outputs": [],
   "source": [
    "#21-5 Visualize: Verify the root is found correct:\n",
    "\n",
    "# size=[6 if node in leaf_nodes else 2 for node in graph.nodes()],\n",
    "# color=['black' if node in leaf_nodes else 'grey' for node in graph.nodes()], # 'grey',\n",
    "# line=dict(color='rgba(255, 0, 0, 0.6)' if SpecialCondition else 'rgba(128, 128, 128, 0.6)',\n",
    "#             width=6 if SpecialCondition else 2),\n",
    "\n",
    "fig = mlab.figure(size=(2500, 1400), bgcolor=(1, 1, 1))\n",
    "\n",
    "x, y, z = zip(*graph.nodes)\n",
    "mlab.points3d(x, y, z,\n",
    "              scale_factor=2,\n",
    "              color=(0.2, 0.2, 0.2), # ['red' if node == root else 'grey' for node in graph.nodes()]\n",
    "              opacity=0.7) # color=(1, 0, 0)\n",
    "\n",
    "#  Add the new node with a different scale_factor and color\n",
    "mlab.points3d(root[0], root[1], root[2],\n",
    "              scale_factor=14,  # Adjust the scale factor as needed\n",
    "              color=(1, 0, 0),  # Change color as desired (e.g., red)\n",
    "              opacity=0.7)\n",
    "\n",
    "# Create lines for edges\n",
    "# for edge in graph.edges:\n",
    "#     src, tgt = edge\n",
    "#     x = [src[0], tgt[0]]\n",
    "#     y = [src[1], tgt[1]]\n",
    "#     z = [src[2], tgt[2]]\n",
    "#     mlab.plot3d(x, y, z, tube_radius=0.2,\n",
    "#                 color=(1, 0, 0) if edge in SmallInsideEdges else (0.2, 0.2, 0.2),#(0.2, 0.2, 0.2),\n",
    "#                 opacity=0.7)\n",
    "\n",
    "# Create contour for the 3D object\n",
    "mlab.contour3d(atree, contours=[0.5], opacity=0.2, color=(0, 151/255, 206/255))\n",
    "\n",
    "winsound.Beep(frequency, duration)\n",
    "mlab.show()"
   ]
  },
  {
   "cell_type": "code",
   "execution_count": 33,
   "metadata": {},
   "outputs": [],
   "source": [
    "# #24-Old Main function calling the traverse function: $$$ root = () or Enter !!**\n",
    "# # input_string = '(480, 196, 396)'\n",
    "\n",
    "# # Fucntion: fully traverse the directed tree visiting all edges:\n",
    "# def traverse_full_tree(digraph, current_node):\n",
    "#     global EdgeNum\n",
    "#     # Find and process the outgoing edges from the current node\n",
    "#     for successor in digraph.successors(current_node):\n",
    "#         # Run the FindDiameter function for the current edge\n",
    "#         digraph[current_node][successor]['AvgDiameter'] = FindDiameter(current_node, successor, EdgeNum)\n",
    "#         EdgeNum += 1\n",
    "#         # Recursively traverse the tree from the successor node\n",
    "#         traverse_full_tree(digraph, successor)\n",
    "\n",
    "# # def FindDiameter(node1, node2, EdgeNum):\n",
    "# #     # print(f\"Finding avg diameter btw nodes {node1} and {node2}\")\n",
    "# #     skeletonn = copy.deepcopy(skeleton)\n",
    "# #     avgdiam, visitedvoxels = traverse_edge_and_average(skeletonn, distance_transform, node1, node2, EdgeNum)\n",
    "# #     del skeletonn\n",
    "# #     return avgdiam\n",
    "\n",
    "# def FindDiameter(node1, node2, EdgeNum):\n",
    "#     # print(f\"Finding avg diameter btw nodes {node1} and {node2}\")\n",
    "#     global AllVisited\n",
    "#     skeletonn = copy.deepcopy(skeleton)\n",
    "#     visitedvoxels = traverse_edge_and_average(skeletonn, node1, node2) # Includes the source and target nodes  \n",
    "\n",
    "#     del skeletonn\n",
    "#     return avgdiam\n",
    "\n",
    "#     # Changes: removed distance_transform and EdgeNum args\n",
    "#     # Changes: removed the avgdiameter printout and function return from traverse_edge_and_average()\n",
    "#     # Commit: removed deterministic walk from traverse_edge_and_average()\n",
    "\n",
    "#     # num_edges = nx.number_of_edges(graph)\n",
    "\n",
    "#     # try:\n",
    "#     #     # Your statement or code that might raise an error goes here\n",
    "#     #     print(f\"Edge #{EdgeNum:3}/{num_edges}; AvgDiam: {average_diameter:010.7f}; TimeElapsed: {(time.time() - StartTime):07.2f}\" + (\"\\n\" if verbose else \"\"))\n",
    "#     # except Exception as e:\n",
    "#     #     # This block will execute if an error occurs\n",
    "#     #     winsound.Beep(4000, 300)    \n",
    "#     # # print(f\"Edge #{EdgeNum:3}/{num_edges}; AvgDiam: {average_diameter:010.7f}; TimeElapsed: {(time.time() - StartTime):07.2f}\" + (\"\\n\" if verbose else \"\"))\n",
    "\n",
    "# # Main: Start the traversal from a specified root node:\n",
    "# import time\n",
    "\n",
    "# winsound.Beep(frequency, duration)\n",
    "# user_input = input(\"If root was OK just press Enter; if not, enter the root: eg (100, 20, 18): [Cell-24>>Cell-16]: \")\n",
    "# if user_input.strip() == \"\": # (436, 69, 207) for Case-53! # (480, 196 , 396) for Case-79\n",
    "#     pass\n",
    "# else:\n",
    "#     root = eval(user_input)\n",
    "\n",
    "# digraph = nx.dfs_tree(graph, source=root) # Create a directed graph starting from the specified root node\n",
    "# StartTime = time.time()\n",
    "# EdgeNum = 1\n",
    "# AllVisited = {}\n",
    "# traverse_full_tree(digraph, root)\n",
    "# print('\\nDone.')\n",
    "\n",
    "# # Example Error: Attempt 60: Error! Couldn't get from (477, 282, 383) to (466, 270, 425)! Returned None."
   ]
  },
  {
   "cell_type": "code",
   "execution_count": 35,
   "metadata": {},
   "outputs": [
    {
     "name": "stdout",
     "output_type": "stream",
     "text": [
      "Edge #  1/217; Successfully got from (440, 222, 359) to (437, 252, 383); TimeElapsed: 0000.28\n",
      "Edge #  2/217; Successfully got from (437, 252, 383) to (499, 310, 390); TimeElapsed: 0002.76\n",
      "Edge #  3/217; Successfully got from (499, 310, 390) to (507, 302, 388); TimeElapsed: 0002.97\n",
      "Edge #  4/217; Successfully got from (507, 302, 388) to (536, 273, 359); TimeElapsed: 0003.67\n",
      "Edge #  5/217; Successfully got from (536, 273, 359) to (559, 219, 369); TimeElapsed: 0005.75\n",
      "Edge #  6/217; Successfully got from (559, 219, 369) to (543, 188, 362); TimeElapsed: 0007.61\n",
      "Edge #  7/217; Successfully got from (543, 188, 362) to (505, 163, 350); TimeElapsed: 0007.98\n",
      "Edge #  8/217; Successfully got from (543, 188, 362) to (539, 151, 347); TimeElapsed: 0008.29\n",
      "Edge #  9/217; Successfully got from (559, 219, 369) to (608, 162, 355); TimeElapsed: 0013.97\n",
      "Edge # 10/217; Successfully got from (536, 273, 359) to (561, 245, 322); TimeElapsed: 0014.74\n",
      "Edge # 11/217; Successfully got from (561, 245, 322) to (560, 77, 245); TimeElapsed: 0015.92\n",
      "Edge # 12/217; Successfully got from (561, 245, 322) to (580, 230, 302); TimeElapsed: 0016.13\n",
      "Edge # 13/217; Successfully got from (580, 230, 302) to (607, 140, 211); TimeElapsed: 0016.69\n",
      "Edge # 14/217; Successfully got from (580, 230, 302) to (629, 161, 262); TimeElapsed: 0017.13\n",
      "Edge # 15/217; Successfully got from (507, 302, 388) to (525, 281, 417); TimeElapsed: 0020.13\n",
      "Edge # 16/217; Successfully got from (525, 281, 417) to (521, 274, 429); TimeElapsed: 0020.36\n",
      "Edge # 17/217; Successfully got from (521, 274, 429) to (515, 221, 440); TimeElapsed: 0020.70\n",
      "Edge # 18/217; Successfully got from (515, 221, 440) to (509, 209, 434); TimeElapsed: 0023.26\n",
      "Edge # 19/217; Successfully got from (515, 221, 440) to (513, 217, 462); TimeElapsed: 0024.02\n",
      "Edge # 20/217; Successfully got from (513, 217, 462) to (493, 205, 470); TimeElapsed: 0025.28\n",
      "Edge # 21/217; Successfully got from (513, 217, 462) to (528, 207, 476); TimeElapsed: 0026.54\n",
      "Edge # 22/217; Successfully got from (521, 274, 429) to (514, 272, 515); TimeElapsed: 0030.49\n",
      "Edge # 23/217; Successfully got from (525, 281, 417) to (555, 270, 453); TimeElapsed: 0030.81\n",
      "Edge # 24/217; Successfully got from (555, 270, 453) to (557, 268, 473); TimeElapsed: 0034.49\n",
      "Edge # 25/217; Successfully got from (557, 268, 473) to (557, 269, 518); TimeElapsed: 0035.64\n",
      "Edge # 26/217; Successfully got from (557, 268, 473) to (568, 268, 478); TimeElapsed: 0036.73\n",
      "Edge # 27/217; Successfully got from (555, 270, 453) to (596, 248, 458); TimeElapsed: 0037.07\n",
      "Edge # 28/217; Successfully got from (499, 310, 390) to (513, 330, 388); TimeElapsed: 0037.33\n",
      "Edge # 29/217; Successfully got from (513, 330, 388) to (539, 337, 413); TimeElapsed: 0040.03\n",
      "Edge # 30/217; Successfully got from (539, 337, 413) to (544, 349, 445); TimeElapsed: 0041.04\n",
      "Edge # 31/217; Successfully got from (544, 349, 445) to (545, 348, 475); TimeElapsed: 0043.94\n",
      "Edge # 32/217; Successfully got from (545, 348, 475) to (512, 333, 569); TimeElapsed: 0044.66\n",
      "Edge # 33/217; Successfully got from (512, 333, 569) to (503, 326, 578); TimeElapsed: 0045.61\n",
      "Edge # 34/217; Successfully got from (512, 333, 569) to (518, 330, 591); TimeElapsed: 0046.61\n",
      "Edge # 35/217; Successfully got from (545, 348, 475) to (587, 350, 539); TimeElapsed: 0047.45\n",
      "Edge # 36/217; Successfully got from (587, 350, 539) to (588, 345, 545); TimeElapsed: 0047.67\n",
      "Edge # 37/217; Successfully got from (587, 350, 539) to (589, 357, 544); TimeElapsed: 0050.56\n",
      "Edge # 38/217; Successfully got from (544, 349, 445) to (550, 360, 449); TimeElapsed: 0051.53\n",
      "Edge # 39/217; Successfully got from (550, 360, 449) to (542, 394, 497); TimeElapsed: 0052.30\n",
      "Edge # 40/217; Successfully got from (550, 360, 449) to (553, 365, 450); TimeElapsed: 0053.92\n",
      "Edge # 41/217; Successfully got from (553, 365, 450) to (551, 380, 452); TimeElapsed: 0054.89\n",
      "Edge # 42/217; Successfully got from (553, 365, 450) to (592, 380, 487); TimeElapsed: 0056.04\n",
      "Edge # 43/217; Successfully got from (539, 337, 413) to (578, 334, 420); TimeElapsed: 0056.36\n",
      "Edge # 44/217; Successfully got from (578, 334, 420) to (619, 319, 442); TimeElapsed: 0058.69\n",
      "Edge # 45/217; Successfully got from (578, 334, 420) to (637, 353, 429); TimeElapsed: 0060.16\n",
      "Edge # 46/217; Successfully got from (513, 330, 388) to (531, 340, 364); TimeElapsed: 0060.43\n",
      "Edge # 47/217; Successfully got from (531, 340, 364) to (525, 362, 365); TimeElapsed: 0061.28\n",
      "Edge # 48/217; Successfully got from (525, 362, 365) to (517, 391, 321); TimeElapsed: 0061.92\n",
      "Edge # 49/217; Successfully got from (517, 391, 321) to (508, 387, 292); TimeElapsed: 0062.42\n",
      "Edge # 50/217; Successfully got from (517, 391, 321) to (522, 435, 312); TimeElapsed: 0065.11\n",
      "Edge # 51/217; Successfully got from (525, 362, 365) to (519, 427, 407); TimeElapsed: 0066.48\n",
      "Edge # 52/217; Successfully got from (531, 340, 364) to (544, 343, 348); TimeElapsed: 0067.50\n",
      "Edge # 53/217; Successfully got from (544, 343, 348) to (560, 422, 369); TimeElapsed: 0068.13\n",
      "Edge # 54/217; Successfully got from (544, 343, 348) to (546, 342, 343); TimeElapsed: 0069.06\n",
      "Edge # 55/217; Successfully got from (546, 342, 343) to (552, 342, 319); TimeElapsed: 0069.61\n",
      "Edge # 56/217; Successfully got from (552, 342, 319) to (552, 345, 312); TimeElapsed: 0073.18\n",
      "Edge # 57/217; Successfully got from (552, 345, 312) to (539, 379, 252); TimeElapsed: 0074.66\n",
      "Edge # 58/217; Successfully got from (539, 379, 252) to (514, 348, 185); TimeElapsed: 0075.06\n",
      "Edge # 59/217; Successfully got from (539, 379, 252) to (540, 388, 240); TimeElapsed: 0075.30\n",
      "Edge # 60/217; Successfully got from (540, 388, 240) to (532, 392, 210); TimeElapsed: 0076.21\n",
      "Edge # 61/217; Successfully got from (532, 392, 210) to (514, 406, 193); TimeElapsed: 0077.05\n",
      "Edge # 62/217; Successfully got from (532, 392, 210) to (524, 415, 115); TimeElapsed: 0077.61\n",
      "Edge # 63/217; Successfully got from (540, 388, 240) to (550, 405, 226); TimeElapsed: 0077.85\n",
      "Edge # 64/217; Successfully got from (550, 405, 226) to (542, 466, 171); TimeElapsed: 0078.24\n",
      "Edge # 65/217; Successfully got from (550, 405, 226) to (596, 425, 177); TimeElapsed: 0079.35\n",
      "Edge # 66/217; Successfully got from (552, 345, 312) to (554, 346, 306); TimeElapsed: 0080.97\n",
      "Edge # 67/217; Successfully got from (554, 346, 306) to (554, 347, 305); TimeElapsed: 0082.41\n",
      "Edge # 68/217; Successfully got from (554, 346, 306) to (568, 344, 281); TimeElapsed: 0082.77\n",
      "Edge # 69/217; Successfully got from (568, 344, 281) to (579, 331, 259); TimeElapsed: 0087.74\n",
      "Edge # 70/217; Successfully got from (579, 331, 259) to (692, 348, 215); TimeElapsed: 0092.26\n",
      "Edge # 71/217; Successfully got from (579, 331, 259) to (595, 313, 216); TimeElapsed: 0093.78\n",
      "Edge # 72/217; Successfully got from (595, 313, 216) to (725, 287, 89); TimeElapsed: 0094.35\n",
      "Edge # 73/217; Successfully got from (595, 313, 216) to (685, 321, 161); TimeElapsed: 0095.08\n",
      "Edge # 74/217; Successfully got from (568, 344, 281) to (569, 346, 280); TimeElapsed: 0096.32\n",
      "Edge # 75/217; Successfully got from (569, 346, 280) to (581, 389, 285); TimeElapsed: 0096.94\n",
      "Edge # 76/217; Successfully got from (581, 389, 285) to (591, 417, 266); TimeElapsed: 0098.44\n",
      "Edge # 77/217; Successfully got from (581, 389, 285) to (633, 412, 291); TimeElapsed: 0100.15\n",
      "Edge # 78/217; Successfully got from (569, 346, 280) to (592, 351, 226); TimeElapsed: 0100.56\n",
      "Edge # 79/217; Successfully got from (592, 351, 226) to (599, 347, 209); TimeElapsed: 0103.63\n",
      "Edge # 80/217; Successfully got from (592, 351, 226) to (674, 391, 189); TimeElapsed: 0104.92\n",
      "Edge # 81/217; Successfully got from (552, 342, 319) to (572, 308, 290); TimeElapsed: 0106.06\n",
      "Edge # 82/217; Successfully got from (572, 308, 290) to (611, 226, 181); TimeElapsed: 0109.21\n",
      "Edge # 83/217; Successfully got from (572, 308, 290) to (577, 307, 290); TimeElapsed: 0110.60\n",
      "Edge # 84/217; Successfully got from (577, 307, 290) to (654, 314, 291); TimeElapsed: 0111.05\n",
      "Edge # 85/217; Successfully got from (577, 307, 290) to (637, 272, 245); TimeElapsed: 0111.72\n",
      "Edge # 86/217; Successfully got from (637, 272, 245) to (676, 222, 206); TimeElapsed: 0113.06\n",
      "Edge # 87/217; Successfully got from (637, 272, 245) to (672, 271, 211); TimeElapsed: 0115.25\n",
      "Edge # 88/217; Successfully got from (546, 342, 343) to (624, 283, 356); TimeElapsed: 0115.98\n",
      "Edge # 89/217; Successfully got from (437, 252, 383) to (360, 293, 367); TimeElapsed: 0127.11\n",
      "Edge # 90/217; Successfully got from (360, 293, 367) to (318, 291, 408); TimeElapsed: 0131.07\n",
      "Edge # 91/217; Successfully got from (318, 291, 408) to (301, 284, 408); TimeElapsed: 0133.56\n",
      "Edge # 92/217; Successfully got from (301, 284, 408) to (286, 251, 415); TimeElapsed: 0133.88\n",
      "Edge # 93/217; Successfully got from (286, 251, 415) to (227, 186, 415); TimeElapsed: 0134.27\n",
      "Edge # 94/217; Successfully got from (286, 251, 415) to (292, 205, 409); TimeElapsed: 0135.76\n",
      "Edge # 95/217; Successfully got from (301, 284, 408) to (256, 316, 425); TimeElapsed: 0136.63\n",
      "Edge # 96/217; Successfully got from (256, 316, 425) to (221, 325, 427); TimeElapsed: 0139.64\n",
      "Edge # 97/217; Successfully got from (221, 325, 427) to (161, 312, 442); TimeElapsed: 0140.00\n",
      "Edge # 98/217; Successfully got from (221, 325, 427) to (184, 338, 419); TimeElapsed: 0140.60\n",
      "Edge # 99/217; Successfully got from (256, 316, 425) to (240, 347, 443); TimeElapsed: 0145.92\n",
      "Edge #100/217; Successfully got from (240, 347, 443) to (222, 356, 461); TimeElapsed: 0146.16\n",
      "Edge #101/217; Successfully got from (240, 347, 443) to (223, 376, 442); TimeElapsed: 0146.62\n",
      "Edge #102/217; Successfully got from (318, 291, 408) to (311, 305, 431); TimeElapsed: 0147.25\n",
      "Edge #103/217; Successfully got from (311, 305, 431) to (308, 328, 454); TimeElapsed: 0147.56\n",
      "Edge #104/217; Successfully got from (308, 328, 454) to (301, 358, 455); TimeElapsed: 0149.01\n",
      "Edge #105/217; Successfully got from (308, 328, 454) to (304, 339, 479); TimeElapsed: 0149.48\n",
      "Edge #106/217; Successfully got from (304, 339, 479) to (302, 341, 480); TimeElapsed: 0151.22\n",
      "Edge #107/217; Successfully got from (302, 341, 480) to (248, 351, 540); TimeElapsed: 0151.67\n",
      "Edge #108/217; Successfully got from (248, 351, 540) to (210, 344, 543); TimeElapsed: 0152.63\n",
      "Edge #109/217; Successfully got from (248, 351, 540) to (247, 352, 555); TimeElapsed: 0154.53\n",
      "Edge #110/217; Successfully got from (302, 341, 480) to (289, 375, 499); TimeElapsed: 0154.86\n",
      "Edge #111/217; Successfully got from (304, 339, 479) to (315, 339, 495); TimeElapsed: 0155.10\n",
      "Edge #112/217; Successfully got from (315, 339, 495) to (323, 340, 556); TimeElapsed: 0155.42\n",
      "Edge #113/217; Successfully got from (315, 339, 495) to (331, 336, 498); TimeElapsed: 0155.67\n",
      "Edge #114/217; Successfully got from (311, 305, 431) to (294, 291, 462); TimeElapsed: 0155.95\n",
      "Edge #115/217; Successfully got from (294, 291, 462) to (240, 283, 483); TimeElapsed: 0157.78\n",
      "Edge #116/217; Successfully got from (240, 283, 483) to (235, 284, 486); TimeElapsed: 0158.75\n",
      "Edge #117/217; Successfully got from (235, 284, 486) to (224, 283, 483); TimeElapsed: 0159.75\n",
      "Edge #118/217; Successfully got from (235, 284, 486) to (224, 283, 521); TimeElapsed: 0160.44\n",
      "Edge #119/217; Successfully got from (240, 283, 483) to (239, 273, 483); TimeElapsed: 0160.86\n",
      "Edge #120/217; Successfully got from (294, 291, 462) to (292, 284, 472); TimeElapsed: 0161.71\n",
      "Edge #121/217; Successfully got from (292, 284, 472) to (275, 240, 475); TimeElapsed: 0162.18\n",
      "Edge #122/217; Successfully got from (292, 284, 472) to (297, 285, 495); TimeElapsed: 0162.44\n",
      "Edge #123/217; Successfully got from (360, 293, 367) to (302, 290, 350); TimeElapsed: 0162.81\n",
      "Edge #124/217; Successfully got from (302, 290, 350) to (257, 257, 377); TimeElapsed: 0163.13\n",
      "Edge #125/217; Successfully got from (257, 257, 377) to (220, 258, 385); TimeElapsed: 0163.45\n",
      "Edge #126/217; Successfully got from (220, 258, 385) to (199, 254, 392); TimeElapsed: 0164.70\n",
      "Edge #127/217; Successfully got from (199, 254, 392) to (166, 226, 409); TimeElapsed: 0165.19\n",
      "Edge #128/217; Successfully got from (199, 254, 392) to (163, 258, 386); TimeElapsed: 0165.53\n",
      "Edge #129/217; Successfully got from (220, 258, 385) to (217, 268, 375); TimeElapsed: 0166.76\n",
      "Edge #130/217; Successfully got from (257, 257, 377) to (253, 223, 363); TimeElapsed: 0167.49\n",
      "Edge #131/217; Successfully got from (253, 223, 363) to (233, 215, 364); TimeElapsed: 0168.53\n",
      "Edge #132/217; Successfully got from (253, 223, 363) to (258, 198, 353); TimeElapsed: 0171.77\n",
      "Edge #133/217; Successfully got from (258, 198, 353) to (257, 136, 328); TimeElapsed: 0172.12\n",
      "Edge #134/217; Successfully got from (258, 198, 353) to (271, 184, 349); TimeElapsed: 0173.00\n",
      "Edge #135/217; Successfully got from (302, 290, 350) to (285, 290, 340); TimeElapsed: 0174.91\n",
      "Edge #136/217; Successfully got from (285, 290, 340) to (263, 263, 323); TimeElapsed: 0176.70\n",
      "Edge #137/217; Successfully got from (263, 263, 323) to (264, 262, 323); TimeElapsed: 0180.93\n",
      "Edge #138/217; Successfully got from (263, 263, 323) to (246, 238, 296); TimeElapsed: 0181.26\n",
      "Edge #139/217; Successfully got from (246, 238, 296) to (244, 240, 295); TimeElapsed: 0182.31\n",
      "Edge #140/217; Successfully got from (244, 240, 295) to (179, 232, 275); TimeElapsed: 0184.10\n",
      "Edge #141/217; Successfully got from (179, 232, 275) to (133, 215, 246); TimeElapsed: 0195.62\n",
      "Edge #142/217; Successfully got from (133, 215, 246) to (126, 215, 248); TimeElapsed: 0195.85\n",
      "Edge #143/217; Successfully got from (133, 215, 246) to (102, 190, 218); TimeElapsed: 0196.95\n",
      "Edge #144/217; Successfully got from (179, 232, 275) to (168, 210, 270); TimeElapsed: 0197.22\n",
      "Edge #145/217; Successfully got from (244, 240, 295) to (225, 203, 239); TimeElapsed: 0197.62\n",
      "Edge #146/217; Successfully got from (225, 203, 239) to (155, 151, 184); TimeElapsed: 0198.69\n",
      "Edge #147/217; Successfully got from (225, 203, 239) to (215, 148, 173); TimeElapsed: 0199.09\n",
      "Edge #148/217; Successfully got from (246, 238, 296) to (242, 193, 275); TimeElapsed: 0199.60\n",
      "Edge #149/217; Successfully got from (242, 193, 275) to (234, 155, 235); TimeElapsed: 0203.68\n",
      "Edge #150/217; Successfully got from (234, 155, 235) to (223, 140, 228); TimeElapsed: 0204.76\n",
      "Edge #151/217; Successfully got from (234, 155, 235) to (244, 113, 194); TimeElapsed: 0205.83\n",
      "Edge #152/217; Successfully got from (242, 193, 275) to (236, 148, 263); TimeElapsed: 0206.20\n",
      "Edge #153/217; Successfully got from (236, 148, 263) to (205, 123, 262); TimeElapsed: 0207.71\n",
      "Edge #154/217; Successfully got from (236, 148, 263) to (275, 93, 223); TimeElapsed: 0209.97\n",
      "Edge #155/217; Successfully got from (285, 290, 340) to (271, 302, 335); TimeElapsed: 0212.89\n",
      "Edge #156/217; Successfully got from (271, 302, 335) to (256, 310, 319); TimeElapsed: 0213.15\n",
      "Edge #157/217; Successfully got from (256, 310, 319) to (188, 269, 314); TimeElapsed: 0213.55\n",
      "Edge #158/217; Successfully got from (188, 269, 314) to (151, 265, 313); TimeElapsed: 0214.56\n",
      "Edge #159/217; Successfully got from (151, 265, 313) to (131, 260, 301); TimeElapsed: 0214.81\n",
      "Edge #160/217; Successfully got from (151, 265, 313) to (140, 266, 322); TimeElapsed: 0215.78\n",
      "Edge #161/217; Successfully got from (188, 269, 314) to (160, 219, 309); TimeElapsed: 0217.22\n",
      "Edge #162/217; Successfully got from (256, 310, 319) to (247, 326, 298); TimeElapsed: 0218.30\n",
      "Edge #163/217; Successfully got from (247, 326, 298) to (241, 337, 293); TimeElapsed: 0219.73\n",
      "Edge #164/217; Successfully got from (241, 337, 293) to (206, 336, 290); TimeElapsed: 0220.83\n",
      "Edge #165/217; Successfully got from (206, 336, 290) to (166, 331, 291); TimeElapsed: 0221.14\n",
      "Edge #166/217; Successfully got from (206, 336, 290) to (196, 353, 299); TimeElapsed: 0221.39\n",
      "Edge #167/217; Successfully got from (241, 337, 293) to (240, 355, 284); TimeElapsed: 0223.11\n",
      "Edge #168/217; Successfully got from (240, 355, 284) to (232, 377, 262); TimeElapsed: 0223.42\n",
      "Edge #169/217; Successfully got from (232, 377, 262) to (214, 435, 282); TimeElapsed: 0223.81\n",
      "Edge #170/217; Successfully got from (232, 377, 262) to (230, 387, 246); TimeElapsed: 0224.31\n",
      "Edge #171/217; Successfully got from (230, 387, 246) to (191, 385, 233); TimeElapsed: 0226.30\n",
      "Edge #172/217; Successfully got from (191, 385, 233) to (133, 387, 187); TimeElapsed: 0226.65\n",
      "Edge #173/217; Successfully got from (191, 385, 233) to (167, 414, 236); TimeElapsed: 0227.72\n",
      "Edge #174/217; Successfully got from (230, 387, 246) to (232, 389, 244); TimeElapsed: 0229.30\n",
      "Edge #175/217; Successfully got from (232, 389, 244) to (235, 391, 238); TimeElapsed: 0229.88\n",
      "Edge #176/217; Successfully got from (235, 391, 238) to (266, 403, 212); TimeElapsed: 0230.17\n",
      "Edge #177/217; Successfully got from (266, 403, 212) to (278, 415, 174); TimeElapsed: 0230.49\n",
      "Edge #178/217; Successfully got from (266, 403, 212) to (306, 389, 179); TimeElapsed: 0230.83\n",
      "Edge #179/217; Successfully got from (235, 391, 238) to (221, 404, 206); TimeElapsed: 0233.29\n",
      "Edge #180/217; Successfully got from (221, 404, 206) to (207, 416, 170); TimeElapsed: 0234.45\n",
      "Edge #181/217; Successfully got from (207, 416, 170) to (178, 448, 145); TimeElapsed: 0234.78\n",
      "Edge #182/217; Successfully got from (207, 416, 170) to (221, 413, 147); TimeElapsed: 0235.03\n",
      "Edge #183/217; Successfully got from (221, 404, 206) to (218, 441, 205); TimeElapsed: 0238.32\n",
      "Edge #184/217; Successfully got from (232, 389, 244) to (198, 483, 241); TimeElapsed: 0238.81\n",
      "Edge #185/217; Successfully got from (240, 355, 284) to (271, 417, 265); TimeElapsed: 0239.18\n",
      "Edge #186/217; Successfully got from (247, 326, 298) to (243, 317, 285); TimeElapsed: 0239.93\n",
      "Edge #187/217; Successfully got from (243, 317, 285) to (134, 296, 224); TimeElapsed: 0242.11\n",
      "Edge #188/217; Successfully got from (134, 296, 224) to (124, 287, 210); TimeElapsed: 0242.33\n",
      "Edge #189/217; Successfully got from (124, 287, 210) to (111, 269, 200); TimeElapsed: 0243.93\n",
      "Edge #190/217; Successfully got from (124, 287, 210) to (125, 289, 197); TimeElapsed: 0244.18\n",
      "Edge #191/217; Successfully got from (134, 296, 224) to (110, 315, 215); TimeElapsed: 0246.30\n",
      "Edge #192/217; Successfully got from (243, 317, 285) to (253, 314, 260); TimeElapsed: 0247.01\n",
      "Edge #193/217; Successfully got from (253, 314, 260) to (230, 279, 226); TimeElapsed: 0249.15\n",
      "Edge #194/217; Successfully got from (230, 279, 226) to (175, 228, 184); TimeElapsed: 0249.95\n",
      "Edge #195/217; Successfully got from (230, 279, 226) to (233, 274, 222); TimeElapsed: 0250.15\n",
      "Edge #196/217; Successfully got from (253, 314, 260) to (268, 318, 235); TimeElapsed: 0250.80\n",
      "Edge #197/217; Successfully got from (268, 318, 235) to (235, 335, 196); TimeElapsed: 0251.10\n",
      "Edge #198/217; Successfully got from (268, 318, 235) to (298, 333, 133); TimeElapsed: 0253.47\n",
      "Edge #199/217; Successfully got from (271, 302, 335) to (274, 334, 344); TimeElapsed: 0253.94\n",
      "Edge #200/217; Successfully got from (274, 334, 344) to (250, 364, 347); TimeElapsed: 0254.86\n",
      "Edge #201/217; Successfully got from (250, 364, 347) to (206, 386, 356); TimeElapsed: 0255.85\n",
      "Edge #202/217; Successfully got from (206, 386, 356) to (186, 388, 350); TimeElapsed: 0257.27\n",
      "Edge #203/217; Successfully got from (206, 386, 356) to (196, 406, 367); TimeElapsed: 0257.73\n",
      "Edge #204/217; Successfully got from (250, 364, 347) to (236, 416, 339); TimeElapsed: 0258.96\n",
      "Edge #205/217; Successfully got from (274, 334, 344) to (281, 338, 347); TimeElapsed: 0259.70\n",
      "Edge #206/217; Successfully got from (281, 338, 347) to (293, 374, 376); TimeElapsed: 0260.00\n",
      "Edge #207/217; Successfully got from (293, 374, 376) to (289, 388, 377); TimeElapsed: 0260.83\n",
      "Edge #208/217; Successfully got from (289, 388, 377) to (278, 424, 397); TimeElapsed: 0261.66\n",
      "Edge #209/217; Successfully got from (278, 424, 397) to (268, 434, 401); TimeElapsed: 0261.89\n",
      "Edge #210/217; Successfully got from (278, 424, 397) to (284, 432, 403); TimeElapsed: 0262.21\n",
      "Edge #211/217; Successfully got from (289, 388, 377) to (298, 416, 367); TimeElapsed: 0262.53\n",
      "Edge #212/217; Successfully got from (293, 374, 376) to (303, 376, 385); TimeElapsed: 0264.81\n",
      "Edge #213/217; Successfully got from (281, 338, 347) to (295, 341, 345); TimeElapsed: 0265.31\n",
      "Edge #214/217; Successfully got from (295, 341, 345) to (302, 346, 354); TimeElapsed: 0267.15\n",
      "Edge #215/217; Successfully got from (295, 341, 345) to (314, 355, 318); TimeElapsed: 0267.43\n",
      "Edge #216/217; Successfully got from (314, 355, 318) to (309, 370, 316); TimeElapsed: 0267.90\n",
      "Edge #217/217; Successfully got from (314, 355, 318) to (325, 371, 277); TimeElapsed: 0268.18\n",
      "\n",
      "Done.\n"
     ]
    }
   ],
   "source": [
    "#24-New Main function calling the traverse function: $$$ root = () or Enter ! *\n",
    "\n",
    "# Fucntion: fully traverse the directed tree visiting all edges:\n",
    "def traverse_full_tree(digraph, current_node):\n",
    "    global EdgeNum\n",
    "\n",
    "    # Find and process the outgoing edges from the current node\n",
    "    for successor in digraph.successors(current_node):\n",
    "\n",
    "        skeletonn = copy.deepcopy(skeleton)\n",
    "        visitedvoxels = traverse_edge_and_average(skeletonn, current_node, successor, EdgeNum) # Includes the source and target nodes\n",
    "        digraph[current_node][successor]['LocalPath'] = visitedvoxels\n",
    "        digraph[current_node][successor]['ArbitrEdgeNumber'] = EdgeNum\n",
    "        del skeletonn\n",
    "\n",
    "        EdgeNum += 1\n",
    "\n",
    "        # Recursively traverse the tree from the successor node\n",
    "        traverse_full_tree(digraph, successor)\n",
    "\n",
    "\n",
    "#### Main: Start the traversal from a specified root node: ###################################\n",
    "import time\n",
    "\n",
    "# winsound.Beep(frequency, duration)\n",
    "user_input = input(\"If root was OK just press Enter; if not, enter the root: eg (100, 20, 18): [Cell-24>>Cell-16]: \")\n",
    "if user_input.strip() == \"\": # (436, 69, 207) for Case-53! # (480, 196 , 396) for Case-79\n",
    "    pass\n",
    "else:\n",
    "    root = eval(user_input)\n",
    "\n",
    "digraph = nx.dfs_tree(graph, source=root) # Create a directed graph starting from the specified root node\n",
    "\n",
    "StartTime = time.time()\n",
    "EdgeNum = 1\n",
    "traverse_full_tree(digraph, root)\n",
    "print('\\nDone.')\n",
    "\n",
    "# Example Error: Attempt 60: Error! Couldn't get from (477, 282, 383) to (466, 270, 425)! Returned None."
   ]
  },
  {
   "cell_type": "code",
   "execution_count": null,
   "metadata": {},
   "outputs": [],
   "source": []
  },
  {
   "cell_type": "code",
   "execution_count": 47,
   "metadata": {},
   "outputs": [],
   "source": [
    "# avgdiam\n",
    "# digraph[current_node][successor]['AvgDiameter'] = FindDiameter(current_node, successor, EdgeNum)\n",
    "# print(f\"Edge #{EdgeNum:3}/{num_edges}; AvgDiam: {average_diameter:010.7f}; TimeElapsed: {(time.time() - StartTime):07.2f}\" + (\"\\n\" if verbose else \"\"))\n",
    "\n",
    "# Changes: removed distance_transform and EdgeNum args\n",
    "# Changes: removed the avgdiameter printout and function return from traverse_edge_and_average()\n",
    "# Commit: removed deterministic walk from traverse_edge_and_average()"
   ]
  },
  {
   "cell_type": "code",
   "execution_count": null,
   "metadata": {},
   "outputs": [],
   "source": [
    "# Create a numbered copy of the skeleton image *\n",
    "\n",
    "SkeletonImageNumbered = copy.deepcopy(skeleton)\n",
    "\n",
    "for snode, tnode in digraph.edges:\n",
    "    EdgeNumb = digraph[snode][tnode]['ArbitrEdgeNumber']\n",
    "    print(EdgeNumb)\n",
    "    for skcoord in digraph[snode][tnode]['LocalPath']:\n",
    "        SkeletonImageNumbered[*skcoord] = EdgeNumb"
   ]
  },
  {
   "cell_type": "code",
   "execution_count": 46,
   "metadata": {},
   "outputs": [],
   "source": [
    "# Save the numbered copy\n",
    "\n",
    "PathName = GraphArtifactsFolderName + f\"/T-Case-{CaseNumber}-Skeleton-Numbered.nrrd\"\n",
    "nrrd.write(PathName, SkeletonImageNumbered)"
   ]
  },
  {
   "cell_type": "code",
   "execution_count": null,
   "metadata": {},
   "outputs": [],
   "source": []
  },
  {
   "cell_type": "code",
   "execution_count": null,
   "metadata": {},
   "outputs": [],
   "source": [
    "#34 Partition into Segments\n",
    "\n",
    "# Partition the 3D A-Tree segment into fragments corresponding to edges:"
   ]
  },
  {
   "cell_type": "code",
   "execution_count": null,
   "metadata": {},
   "outputs": [],
   "source": [
    "# Create a hollow version of the 15mm-grown-atree [skeleton voxels set to 0]\n",
    "\n",
    "skeletoncoords = np.argwhere(skeleton == 1)\n",
    "\n",
    "atreegrwn, metadata = nrrd.read(\"GraphOutputSoheil\\Case-46-Final2Label-Atree15mmGrown.nrrd\")\n",
    "atreegrwnhollow = copy.deepcopy(atreegrwn)\n",
    "\n",
    "for skcoord in skeletoncoords:\n",
    "    atreegrwnhollow[*skcoord] = 0"
   ]
  },
  {
   "cell_type": "code",
   "execution_count": null,
   "metadata": {},
   "outputs": [],
   "source": [
    "# Compute/Fetch Distance Transform of hollow-grown-atree: Takes Time\n",
    "\n",
    "from scipy.ndimage import distance_transform_edt\n",
    "print(\"Performing the EDT+Indices ..\")\n",
    "manipulated_distance_transform, indices = distance_transform_edt(atreegrwnhollow, return_indices=True)\n",
    "# EdtPathName = GraphArtifactsFolderName + f\"/T-Case-{CaseNumber}-EDT-15mmGrown.nrrd\"\n",
    "\n",
    "# Or read it in\n",
    "# distance_transform, _ = nrrd.read(EdtPathName)"
   ]
  },
  {
   "cell_type": "code",
   "execution_count": null,
   "metadata": {},
   "outputs": [],
   "source": [
    "# Mask the two outputs to only the atree region\n",
    "\n",
    "MaskedEdt = manipulated_distance_transform * atree\n",
    "MaskedIndices = indices * np.stack((atree, atree, atree), axis=0)\n",
    "\n",
    "# PathName = GraphArtifactsFolderName + f\"/T-Case-{CaseNumber}-EDT-15mmGrown-Masked.nrrd\"\n",
    "# nrrd.write(PathName, MaskedEdt)"
   ]
  },
  {
   "cell_type": "code",
   "execution_count": null,
   "metadata": {},
   "outputs": [],
   "source": [
    "# The crux: Make the atree voxels labelled\n",
    "\n",
    "atreecoords = np.argwhere(atree == 1)\n",
    "atreepartitioned = copy.deepcopy(atree)\n",
    "\n",
    "for x, y, z in atreecoords:\n",
    "    DestinationVoxel = MaskedIndices[: ,x, y, z]\n",
    "    atreepartitioned[x, y, z] = skeleton[*DestinationVoxel]*3\n",
    "\n",
    "# PathName = GraphArtifactsFolderName + f\"/S-Case-{CaseNumber}-Atree-Partitioned.nrrd\"\n",
    "# nrrd.write(PathName, atreepartitioned)"
   ]
  },
  {
   "cell_type": "code",
   "execution_count": null,
   "metadata": {},
   "outputs": [],
   "source": []
  },
  {
   "cell_type": "code",
   "execution_count": null,
   "metadata": {},
   "outputs": [],
   "source": [
    "#25 Get the first three edges and their properties as a reality check:\n",
    "\n",
    "print(\"Reality check: First 3 edges:\\n\")\n",
    "first_three_edges = list(digraph.edges(data=True))[:3]\n",
    "# Iterate through the first three edges and print their properties\n",
    "for edge in first_three_edges:\n",
    "    source, target, attributes = edge\n",
    "    print(f\"Edge ({source} -> {target}):\")\n",
    "    for key, value in attributes.items():\n",
    "        print(f\"  {key}: {value}\")\n",
    "    print(\"\")"
   ]
  },
  {
   "cell_type": "code",
   "execution_count": null,
   "metadata": {},
   "outputs": [],
   "source": [
    "#26 Strahler Analysis: Function+Call: Using DiGraphs: *\n",
    "\n",
    "import networkx as nx\n",
    "\n",
    "def StrahlerAnalysis(G): # G: The Tree DiGraph. Returns the edges.\n",
    "    \n",
    "    # Find the terminal edges (edges with no successors)\n",
    "    terminal_edges = [edge for edge in G.edges() if not any(G.successors(edge[1]))]\n",
    "    # Initialize the order for terminal edges as 1\n",
    "    for edge in G.edges():\n",
    "        if edge in terminal_edges: G[edge[0]][edge[1]]['order'] = 1\n",
    "        else: G[edge[0]][edge[1]]['order'] = 0\n",
    "\n",
    "    # Perform Strahler analysis starting from terminal edges\n",
    "    while True:\n",
    "\n",
    "        # Find all edges with the same order\n",
    "        edges_by_order = {}\n",
    "        for edge in G.edges():\n",
    "            order = G[edge[0]][edge[1]].get('order', 0)\n",
    "            if order not in edges_by_order:\n",
    "                edges_by_order[order] = []\n",
    "            edges_by_order[order].append(edge)\n",
    "\n",
    "        # If no more order 0, break\n",
    "        if 0 not in edges_by_order: break\n",
    "\n",
    "        # Only process edges with order = 0\n",
    "        for edge in edges_by_order[0]:\n",
    "            successors = list(G.successors(edge[1]))\n",
    "            SuccessorOrders = [G[edge[1]][successor]['order'] for successor in successors]\n",
    "            if not all(SuccessorOrders): continue # If any successor order is 0, skip to next edge\n",
    "            if len(successors) == 1: # If only one successor, inherit its order\n",
    "                G[edge[0]][edge[1]]['order'] = G[edge[1]][successors[0]]['order']\n",
    "            else: # So it's a bifurcation\n",
    "                MaxOrder = max(SuccessorOrders)\n",
    "                BinaryComparison = [int(ordr == MaxOrder) for ordr in SuccessorOrders]\n",
    "                # If more than 2 of the max then increment order\n",
    "                if sum(BinaryComparison)>=2: NextOrder = MaxOrder + 1\n",
    "                else: NextOrder = MaxOrder\n",
    "                G[edge[0]][edge[1]]['order'] = NextOrder\n",
    "\n",
    "    return G.edges(data=True)\n",
    "\n",
    "# Main:\n",
    "edgesresult = StrahlerAnalysis(digraph)\n",
    "for edge in edgesresult:\n",
    "    print(f\"Edge: {edge[0]} -> {edge[1]}, Order: {edge[2]['order']}\")"
   ]
  },
  {
   "cell_type": "code",
   "execution_count": null,
   "metadata": {},
   "outputs": [],
   "source": [
    "## 27 Plot-4 the DiGraph in 3D:\n",
    "\n",
    "# import networkx as nx\n",
    "# import plotly.graph_objects as go\n",
    "\n",
    "# G = digraph\n",
    "\n",
    "# # Extract node positions and order properties\n",
    "# node_positions = {node: node for node in G.nodes()}\n",
    "# edge_orders = nx.get_edge_attributes(G, 'order')\n",
    "\n",
    "# # Create a trace for nodes\n",
    "# node_trace = go.Scatter3d(\n",
    "#     x=[coord[0] for coord in node_positions],\n",
    "#     y=[coord[1] for coord in node_positions],\n",
    "#     z=[coord[2] for coord in node_positions],\n",
    "#     mode='markers',\n",
    "#     marker=dict(size=2, color='red'),\n",
    "#     text=[],\n",
    "#     hoverinfo='text'\n",
    "# )\n",
    "\n",
    "# # Create a list of edge traces\n",
    "# edge_traces = []\n",
    "# for edge, order in edge_orders.items():\n",
    "#     source, target = edge\n",
    "#     x1, y1, z1 = source\n",
    "#     x2, y2, z2 = target\n",
    "#     edge_traces.append(go.Scatter3d(\n",
    "#         x=[x1, x2],\n",
    "#         y=[y1, y2],\n",
    "#         z=[z1, z2],\n",
    "#         mode='lines+text',\n",
    "#         line=dict(width=4, color='grey'),\n",
    "#         text=f'{order}',\n",
    "#         hoverinfo='none',  # Disables hover info for edges\n",
    "#         textposition='top left'  # Position for the order text\n",
    "#     ))\n",
    "\n",
    "# # Create the 3D layout\n",
    "# layout = go.Layout(\n",
    "#     scene=dict(\n",
    "#         xaxis=dict(title='X'),\n",
    "#         yaxis=dict(title='Y'),\n",
    "#         zaxis=dict(title='Z'),\n",
    "#     ),\n",
    "#     margin=dict(l=0, r=0, b=0, t=0),\n",
    "# )\n",
    "\n",
    "# # Create the figure and add traces\n",
    "# fig = go.Figure(data=edge_traces + [node_trace], layout=layout)\n",
    "\n",
    "# # Show the interactive plot\n",
    "# fig.show()"
   ]
  },
  {
   "cell_type": "code",
   "execution_count": null,
   "metadata": {},
   "outputs": [],
   "source": [
    "#28 Statistics of edge orders and counts:\n",
    "\n",
    "from collections import defaultdict\n",
    "\n",
    "# Create a dictionary to count edges for each 'order'\n",
    "order_counts = defaultdict(int)\n",
    "# Count edges\n",
    "for u, v, data in digraph.edges(data=True):\n",
    "    order = data.get(\"order\", 0)\n",
    "    order_counts[order] += 1\n",
    "# Print the counts for each 'order' with keys sorted\n",
    "for order in sorted(order_counts.keys()):\n",
    "    count = order_counts[order]\n",
    "    print(f\"Order {order}: {count:3} edges\")"
   ]
  },
  {
   "cell_type": "code",
   "execution_count": null,
   "metadata": {},
   "outputs": [],
   "source": [
    "#29 Add EdgeLength property to digraph edges:\n",
    "\n",
    "for edge in digraph.edges:\n",
    "    node1, node2 = edge\n",
    "    x1, y1, z1 = node1\n",
    "    x2, y2, z2 = node2\n",
    "    EdgeLength = np.sqrt((x2 - x1)**2 + (y2 - y1)**2 + (z2 - z1)**2)\n",
    "    digraph.edges[edge]['EdgeLength'] = EdgeLength"
   ]
  },
  {
   "cell_type": "code",
   "execution_count": null,
   "metadata": {},
   "outputs": [],
   "source": [
    "#30 Save the graph and its properties to a file\n",
    "\n",
    "nx.write_graphml(digraph, GraphArtifactsFolderName + f\"/Case-{CaseNumber}-DiGraph.graphml\")\n",
    "\n",
    "# ## Save all workspace variables as well\n",
    "\n",
    "# # import pickle\n",
    "# workspace_variables = globals()\n",
    "# file_path = \"workspace_variables.pkl\"\n",
    "# with open(file_path, 'wb') as file:\n",
    "#     pickle.dump(workspace_variables, file)\n",
    "\n",
    "# with open(file_path, 'rb') as file:\n",
    "#     loaded_workspace_variables = pickle.load(file)\n",
    "\n",
    "# # Update the global namespace with the loaded variables\n",
    "# globals().update(loaded_workspace_variables)"
   ]
  },
  {
   "cell_type": "code",
   "execution_count": null,
   "metadata": {},
   "outputs": [],
   "source": [
    "#31 Final step: find edges with target order, calculate mean, and add results to excel file\n",
    "\n",
    "import openpyxl\n",
    "from openpyxl.styles import Font, Alignment\n",
    "\n",
    "font = Font(name='Courier New', size=11)\n",
    "alignment = Alignment(horizontal='center', vertical='center')\n",
    "\n",
    "# Find those edges\n",
    "OrdersPresent = order_counts.keys()\n",
    "Methods = {1 : [max(OrdersPresent)  , max(OrdersPresent)-2       , '[MX>MX-2]'],\n",
    "           2 : [max(OrdersPresent)  , max(OrdersPresent)-4       , '[MX>MX-4]'],\n",
    "           3 : [max(OrdersPresent)-1, max(OrdersPresent)-3       , '[MX-1>MX-3]'],\n",
    "           4 : [max(OrdersPresent)-1, max(1,max(OrdersPresent)-5), '[MX-1>MX-5|]'],\n",
    "           5 : [max(OrdersPresent)-2, min(OrdersPresent)         , '[MX-2>MN]'],\n",
    "           6 : [max(OrdersPresent)-2, min(OrdersPresent)+1       , '[MX-2>MN+1]'],\n",
    "           7 : [max(OrdersPresent)  , min(OrdersPresent)         , '[MX>MN]'],\n",
    "           8 : [min(OrdersPresent)  , min(OrdersPresent)         , '[MN>MN]'],\n",
    "           9 : [min(OrdersPresent)+1, min(OrdersPresent)         , '[MN+1>MN]'],\n",
    "           10: [min(OrdersPresent)+2, min(OrdersPresent)         , '[MN+2>MN]'],\n",
    "           11: [min(OrdersPresent)+3, min(OrdersPresent)+1       , '[MN+3>MN+1]']}\n",
    "\n",
    "# LowerOrder, HigherOrder = 4, 6\n",
    "# HigherOrder = max(order_counts.keys())\n",
    "# LowerOrder  = HigherOrder - 2 # -4\n",
    "\n",
    "excel_file_path = \"DiameterResults.xlsx\" # Open the existing Excel file\n",
    "workbook = openpyxl.load_workbook(excel_file_path)\n",
    "sheet = workbook.active # Select the first sheet\n",
    "last_row = sheet.max_row # Find the last row in the first column (assuming the first column contains data)\n",
    "new_row = last_row + 1 # Create a new row\n",
    "\n",
    "for MethodNum, MthdList in Methods.items():\n",
    "\n",
    "    HigherOrder = MthdList[0]\n",
    "    LowerOrder  = MthdList[1]\n",
    "    selected_edges = [(u, v, data) for u, v, data in digraph.edges(data=True) if LowerOrder <= data.get(\"order\", 0) <= HigherOrder]\n",
    "\n",
    "    # Print stats\n",
    "    # print(f\"Edges with order in range [{LowerOrder}, {HigherOrder}]:\\n\")\n",
    "    # for indx, (u, v, data) in enumerate(selected_edges):\n",
    "    #     print(f\"SelectedEdge-{indx+1:2}: {u} -> {v}; AvgDiameter = {data['AvgDiameter']:12.9f}; Order = {data['order']}; EdgeLength = {data['EdgeLength']:10.6f}\")\n",
    "\n",
    "    # Extract the 'AvgDiameter' values from the selected edges\n",
    "    avg_diameters = [data[\"AvgDiameter\"] for u, v, data in selected_edges]\n",
    "\n",
    "    # Calculate the geometric mean of 'AvgDiameter'\n",
    "    geometric_mean   = np.prod(avg_diameters) ** (1 / len(avg_diameters))\n",
    "    arithmetic_mean  = sum(avg_diameters) / len(avg_diameters)\n",
    "    geometric_mean  *= 2*0.38/10 # diameter - mm - cm\n",
    "    arithmetic_mean *= 2*0.38/10 # diameter - mm - cm\n",
    "\n",
    "    # print(f\"Geometric Mean of AvgDiameters: {geometric_mean} cm\")\n",
    "    # print(f\"Arithmetic Mean of AvgDiameters: {arithmetic_mean} cm\")\n",
    "\n",
    "    # Insert data into the new row\n",
    "    cell = sheet.cell(row=1      , column=1            , value='Case#'       ); cell.font = font; cell.alignment = alignment\n",
    "    cell = sheet.cell(row=new_row, column=1            , value=CaseNumber    ); cell.font = font; cell.alignment = alignment\n",
    "    cell = sheet.cell(row=1      , column=MethodNum*2  , value='GeomMean-'+MthdList[2]); cell.font = font; cell.alignment = alignment\n",
    "    cell = sheet.cell(row=new_row, column=MethodNum*2  , value=geometric_mean); cell.font = font; cell.alignment = alignment\n",
    "    cell = sheet.cell(row=1      , column=MethodNum*2+1, value='ArthMean-'+MthdList[2]); cell.font = font; cell.alignment = alignment\n",
    "    cell = sheet.cell(row=new_row, column=MethodNum*2+1, value=arithmetic_mean); cell.font = font; cell.alignment = alignment\n",
    "\n",
    "workbook.save(excel_file_path) # Save the Excel file\n",
    "workbook.close() # Close the Excel file\n",
    "\n",
    "winsound.Beep(1000, 3000)\n",
    "print(f\"Case#{CaseNumber}: Indices written to Excel sheet. All Done!\")"
   ]
  },
  {
   "cell_type": "code",
   "execution_count": null,
   "metadata": {},
   "outputs": [],
   "source": [
    "#32 Notes to address:\n",
    "\n",
    "# Case#58 has a cropped/cut MPA so that lowers the diameters\n",
    "# SmallInsideEdges are not removed in the first pass! [Next time they were!!!!][?!!] * Takes it twice to fully remove .. [Eg Case-18]\n",
    "# Case-18 has lots of nuisant small deep branches\n",
    "# Case-88: Not a tree [and a mess, both with clusters, and final edges]\n",
    "# Case-19: Obviously more tortuous than normal **\n",
    "# Case-11: 1 node isolated outside; not a tree\n",
    "# Case-6: MPA cut too short\n",
    "# Case-46: Seems like a smaller vessel/MPA-root, what does the dys say?!\n",
    "# Case-39: 7K cx-cycles!\n",
    "# Case-22:\n",
    "# Case-21: MPA OK but much shorter than others\n",
    "# Should also save the orders list in the excel file\n",
    "# Case-84: MPA has 20 nuisant edges .. impossible ..\n",
    "# Any uncircular MPA shape will lead to nuisant edges and then failure *** Including Case-50\n",
    "# Case-39: has 7K cx-cycles\n",
    "# Case-44: has 3K cx-cycles"
   ]
  },
  {
   "cell_type": "code",
   "execution_count": null,
   "metadata": {},
   "outputs": [],
   "source": [
    "#33 Final visualization: [from cell-21-1]\n",
    "\n",
    "UpdateEdgeLengths(graph)\n",
    "\n",
    "fig = mlab.figure(size=(2500, 1400), bgcolor=(1, 1, 1))\n",
    "\n",
    "x, y, z = zip(*graph.nodes)\n",
    "mlab.points3d(x, y, z, scale_factor=2, color=(0.2, 0.2, 0.2), opacity=0.7) # color=(1, 0, 0)\n",
    "\n",
    "# Create lines for edges\n",
    "for edge in graph.edges:\n",
    "    src, tgt = edge\n",
    "    x = [src[0], tgt[0]]\n",
    "    y = [src[1], tgt[1]]\n",
    "    z = [src[2], tgt[2]]\n",
    "    mlab.plot3d(x, y, z, tube_radius=0.2,\n",
    "                color=(1, 0, 0) if edge in SmallInsideEdges else (0.2, 0.2, 0.2), #(0.2, 0.2, 0.2),\n",
    "                opacity=0.4)\n",
    "\n",
    "# Create contour for the 3D object\n",
    "mlab.contour3d(atree   , contours=[0.5], opacity=0.2, color=(0, 151/255, 206/255))\n",
    "\n",
    "mlab.contour3d(skeleton, contours=[0.5], opacity=0.4, color=(1, 0, 0))\n",
    "\n",
    "winsound.Beep(frequency, duration)\n",
    "mlab.show()"
   ]
  },
  {
   "cell_type": "code",
   "execution_count": null,
   "metadata": {},
   "outputs": [],
   "source": [
    "# Experiments-Ver3\n",
    "\n",
    "# edge0 = list(digraph.edges)[0]\n",
    "# edge0 : ((440, 222, 359), (437, 252, 383))\n",
    "# digraph[edge0[0]][edge0[1]]['LocalPath']\n",
    "# digraph[edge0[0]][edge0[1]]['ArbitrEdgeNumber']\n",
    "\n",
    "# root = (445, 220, 354)\n",
    "# MaskedIndices[:,*root]\n",
    "\n",
    "# for skcoord in skeletoncoords:\n",
    "#     print(atreegrwnhollow[*skcoord])\n",
    "#     print(atreegrwn      [*skcoord])\n",
    "\n",
    "# atreecoords = np.argwhere(atree == 1)\n",
    "# np.shape(atreecoords) : (1334406, 3)\n",
    "\n",
    "# skeleton_coords = np.argwhere(skeleton == 1)\n",
    "# np.shape(skeleton_coords) : (8130, 3)"
   ]
  },
  {
   "cell_type": "code",
   "execution_count": null,
   "metadata": {},
   "outputs": [],
   "source": [
    "# Code-Repo-Ver3\n",
    "\n",
    "# normalize_vector = lambda vec: vec / np.linalg.norm(vec)"
   ]
  }
 ],
 "metadata": {
  "kernelspec": {
   "display_name": "Python 3",
   "language": "python",
   "name": "python3"
  },
  "language_info": {
   "codemirror_mode": {
    "name": "ipython",
    "version": 3
   },
   "file_extension": ".py",
   "mimetype": "text/x-python",
   "name": "python",
   "nbconvert_exporter": "python",
   "pygments_lexer": "ipython3",
   "version": "3.11.6"
  },
  "orig_nbformat": 4
 },
 "nbformat": 4,
 "nbformat_minor": 2
}
