{
 "cells": [
  {
   "cell_type": "code",
   "execution_count": null,
   "metadata": {},
   "outputs": [],
   "source": [
    "# reading excel file and saving third column in list of the summary table\n",
    "\n",
    "import pandas as pd\n",
    "import copy\n",
    "\n",
    "df = pd.read_excel(r'T9-T7-Summary-Experiment.xlsx', sheet_name=None ) #  Reading he excel sheet into python. Not selecting a specific sheet name yet\n",
    "sheet_name = 'A'  #  selecting to open sheet name A\n",
    "\n",
    "df_A = df[sheet_name]  #  creating a data frame for Sheet A of the excel\n",
    "Third_Column_List = df_A.iloc[1:, 2].tolist() #  iloc will find the 3rd column of the excel sheet aqnd creat a string of the values\n",
    "print(Third_Column_List)  #displaying the string of values"
   ]
  },
  {
   "cell_type": "code",
   "execution_count": null,
   "metadata": {},
   "outputs": [],
   "source": [
    "#Extracting just the patient ID from the third column list of the summary table\n",
    "\n",
    "import re\n",
    "# Create a new list to store the values between hyphens\n",
    "Patient_Id_Number = []\n",
    "\n",
    "# Iterate through the values in third_column_list\n",
    "for value in Third_Column_List:\n",
    "    if isinstance(value, str):\n",
    "        hyphen_index = value.find('-')\n",
    "        if hyphen_index != -1:\n",
    "            between_hyphens = value[hyphen_index + 1:].split('-')[0]\n",
    "            Patient_Id_Number.append(between_hyphens)\n",
    "\n",
    "# Print the list of values between hyphens\n",
    "print(Patient_Id_Number)\n"
   ]
  },
  {
   "cell_type": "code",
   "execution_count": null,
   "metadata": {},
   "outputs": [],
   "source": [
    "# reading excel file and saving third column in list of APK excel sheet for V1\n",
    "\n",
    "\n",
    "df = pd.read_excel(r'T6-Images&APKs-Delete.xlsx', sheet_name=None ) #header=None, # usecols=\"A\"\n",
    "sheet_name = 'APK-List-V1'\n",
    "\n",
    "df_B = df[sheet_name]\n",
    "V1_All_Patients = df_B.iloc[:, 2].tolist()\n",
    "print(V1_All_Patients)"
   ]
  },
  {
   "cell_type": "code",
   "execution_count": null,
   "metadata": {},
   "outputs": [],
   "source": [
    "#Extracting the fifth column out of the APK excel sheet for V1\n",
    "\n",
    "\n",
    "df = pd.read_excel(r'T6-Images&APKs-Delete.xlsx', sheet_name=None ) #header=None, # usecols=\"A\"\n",
    "sheet_name = 'APK-List-V1'\n",
    "\n",
    "df_c = df[sheet_name]\n",
    "V1_Image_Type = df_c.iloc[:, 4].tolist()\n",
    "print(V1_Image_Type)"
   ]
  },
  {
   "cell_type": "code",
   "execution_count": null,
   "metadata": {},
   "outputs": [],
   "source": [
    "#Finding which patients from out summary list are found in the V1 patient list\n",
    "\n",
    "matching_patient = []\n",
    "\n",
    "for item in third_column_list1:\n",
    "    if item in Shortened_list:\n",
    "        matching_patient.append(item)\n",
    "\n",
    "print(matching_patient)\n"
   ]
  },
  {
   "cell_type": "code",
   "execution_count": null,
   "metadata": {},
   "outputs": [],
   "source": [
    "# Finding the indice for which the patient Ids match the master list\n",
    "# Values are 2 Rows down from listed indice due to header\n",
    "\n",
    "Patient_Id_Location_Master_List = [idx for idx, value in enumerate(V1_All_Patients) if value in matching_patient]\n",
    "\n",
    "print(Patient_Id_Location_Master_List)"
   ]
  },
  {
   "cell_type": "code",
   "execution_count": null,
   "metadata": {},
   "outputs": [],
   "source": [
    "# Finding the indice for where the Patient Id is in the summary excel\n",
    "# Values are 2 Rows down from listed indice due to header\n",
    "\n",
    "Patient_Id_Location_Summary_List = [idx for idx, value in enumerate(Patient_Id_Number) if value in matching_patient]\n",
    "\n",
    "print(Patient_Id_Location_Summary_List)"
   ]
  },
  {
   "cell_type": "code",
   "execution_count": null,
   "metadata": {},
   "outputs": [],
   "source": [
    "# Extract values from V1_Image_Type using the indices\n",
    "matching_values = [V1_Image_Type[idx] for idx in Patient_Id_Location_Master_List]\n",
    "\n",
    "# Print the matching values\n",
    "print(\"Matching values:\", matching_values)"
   ]
  },
  {
   "cell_type": "code",
   "execution_count": null,
   "metadata": {},
   "outputs": [],
   "source": [
    "# All the data extracted from the Master List\n",
    "\n",
    "print(\"V1 Patients:\", matching_patient) #Patients which have a V1 Visit\n",
    "print(\"Matching values:\", matching_values) #What image type the Pateint has at V1\n",
    "print(\"V1 Excel Patient Location:\", Patient_Id_Location_Master_List)\n"
   ]
  },
  {
   "cell_type": "markdown",
   "metadata": {},
   "source": []
  },
  {
   "cell_type": "code",
   "execution_count": null,
   "metadata": {},
   "outputs": [],
   "source": []
  },
  {
   "cell_type": "code",
   "execution_count": null,
   "metadata": {},
   "outputs": [],
   "source": []
  },
  {
   "cell_type": "code",
   "execution_count": null,
   "metadata": {},
   "outputs": [],
   "source": [
    "CaseN = 'SPI-JH110088'\n",
    "\n",
    "df = pd.read_excel(r'T6-Images&Apks-Delete.xlsx', sheet_name=None ) #  Reading he excel sheet into python. Not selecting a specific sheet name yet\n",
    "\n",
    "V1_Apks_IdInflation = df['APK-List-V1'].iloc[:, 3:5].values.tolist() #  iloc will find the 3rd column of the excel sheet aqnd creat a string of the values\n",
    "# V2_Apks = df_A.iloc[1:, ].tolist()\n",
    "# V3LNC_Apks= df_A.iloc[1:, 2].tolist() \n",
    "# V3PRM_Apks= df_A.iloc[1:, 2].tolist()\n",
    "# V5_Apks = df_A.iloc[1:, 2].tolist() \n",
    "# print(Third_Column_List)  #displaying the string of values\n",
    "\n",
    "# Flag to indicate whether the pattern and target value were found\n",
    "found = False\n",
    "\n",
    "# Iterate through the list and check each row\n",
    "for indx, row in enumerate(V1_Apks_IdInflation):\n",
    "    if CaseN in row[0] and row[1] == 'TLC':\n",
    "        found = True\n",
    "        index = indx\n",
    "        break\n",
    "\n",
    "found\n",
    "print = indx\n",
    "\n",
    "\n",
    "\n",
    "\n",
    "\n",
    "# TLC_Apk_Available\n",
    "\n",
    "# V1_Apks"
   ]
  },
  {
   "cell_type": "code",
   "execution_count": null,
   "metadata": {},
   "outputs": [],
   "source": []
  },
  {
   "cell_type": "code",
   "execution_count": null,
   "metadata": {},
   "outputs": [],
   "source": []
  },
  {
   "cell_type": "code",
   "execution_count": null,
   "metadata": {},
   "outputs": [],
   "source": [
    "import pandas as pd \n",
    "import openpyxl \n",
    "\n",
    "CaseNumber = 'SPI-JH110088'\n",
    "\n",
    "# tlcimagesavailable = []\n",
    "# tlcapksavaiable = []\n",
    "# rvapksavailable = []\n",
    "# tlc_rvimagesavailable = []\n",
    "# tlc_rvapksavailable = []\n",
    "\n",
    "\n",
    "# Path to your Excel file\n",
    "workbook = openpyxl.load_workbook('T6-Images&Apks-Delete.xlsx')\n",
    "sheet = workbook['APK-List-V1']\n",
    "\n",
    "# Define the column index (0-based) you want to search in\n",
    "column_index = 3   # Assuming the third column (index 2)\n",
    "\n",
    "\n",
    "# for row in sheet.iter_rows(min_row=1, max_row=sheet.max_row, values_only=True):\n",
    "#     for cell_value in row:\n",
    "#         if CaseNumber in str(cell_value):\n",
    "#             row_number = row[0]\n",
    "#             print(f\"Found '{CaseNumber}' in row {row_number}\")\n",
    "#             break\n",
    "\n",
    "for row_number, row in enumerate(sheet.iter_rows(min_row=2, max_row=sheet.max_row, values_only=True), start=2):\n",
    "    cell_value = row[column_index]\n",
    "    if CaseNumber in str(cell_value):\n",
    "        print(f\"Found '{CaseNumber}' in row {row_number}\")\\\n",
    "        \n"
   ]
  },
  {
   "cell_type": "code",
   "execution_count": null,
   "metadata": {},
   "outputs": [],
   "source": []
  },
  {
   "cell_type": "code",
   "execution_count": null,
   "metadata": {},
   "outputs": [],
   "source": [
    "Images_List: 16kx4 extracts D-E only\n",
    "APKs_List: save  sheets extract : 5x ~1000 x 3  : save info in vartiable as the sheets are 0-5 and the columnns are in the list\n",
    "\n",
    "\n",
    "for indx.element in enumerate(IS):\n",
    "    find idices in MIL[:,1] \n",
    "    for \n",
    "\n",
    "solution is 100x6 (SO)"
   ]
  },
  {
   "cell_type": "code",
   "execution_count": null,
   "metadata": {},
   "outputs": [],
   "source": []
  },
  {
   "cell_type": "code",
   "execution_count": 45,
   "metadata": {},
   "outputs": [
    {
     "name": "stdout",
     "output_type": "stream",
     "text": [
      "H-14353\n",
      "SPI-WF120121-V1\n",
      "TLC\n"
     ]
    }
   ],
   "source": [
    "import pandas as pd\n",
    "\n",
    "# List to store data\n",
    "AP = []\n",
    "\n",
    "# List of sheet names\n",
    "sheet_names = ['APK-List-V1', 'APK-List-V2', 'APK-List-V3-PRM', 'APK-List-V3-LNC', 'APK-List-V5']\n",
    "\n",
    "# Iterate through sheets\n",
    "for sheet_name in sheet_names:\n",
    "    # Read data from the sheet\n",
    "    df = pd.read_excel('T6-Images&Apks-Delete.xlsx', sheet_name=sheet_name)\n",
    "    \n",
    "    # Get the specific rows you need (adjust column indexes as needed)\n",
    "    columns = df.iloc[:, [1, 3, 4]].values.tolist()\n",
    "    \n",
    "    # Append rows to AP\n",
    "    AP.append(columns)\n",
    "\n",
    "   # Print the element from the first sheet (index 0) at row 3 (index 2)\n",
    "for I in AP[0][2]: \n",
    "    print(I)"
   ]
  },
  {
   "cell_type": "code",
   "execution_count": null,
   "metadata": {},
   "outputs": [],
   "source": [
    "Key = 'SPI-JH110088-PBV'"
   ]
  }
 ],
 "metadata": {
  "kernelspec": {
   "display_name": "Python 3",
   "language": "python",
   "name": "python3"
  },
  "language_info": {
   "codemirror_mode": {
    "name": "ipython",
    "version": 3
   },
   "file_extension": ".py",
   "mimetype": "text/x-python",
   "name": "python",
   "nbconvert_exporter": "python",
   "pygments_lexer": "ipython3",
   "version": "3.11.3"
  },
  "orig_nbformat": 4
 },
 "nbformat": 4,
 "nbformat_minor": 2
}
