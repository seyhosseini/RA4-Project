{
 "cells": [
  {
   "cell_type": "code",
   "execution_count": 12,
   "metadata": {},
   "outputs": [
    {
     "name": "stdout",
     "output_type": "stream",
     "text": [
      "[nan, 'SPI-JH110088-PBV', 'SPI-JH110704-PBV', 'SPI-JH112953-PBV', 'SPI-JH115247-PBV', 'SPI-JH114663-PBV', 'SPI-JH110280-PBV', 'SPI-JH115627-PBV', 'SPI-JH112358-PBV', 'SPI-IA210599-PBV', 'SPI-JH112648-PBV', 'SPI-IA210257-PBV', 'SPI-IA210637-PBV', 'SPI-IA210520-PBV', 'SPI-JH114016-PBV', 'SPI-IA210102-PBV', 'SPI-JH115778-PBV', 'SPI-IA210428-PBV', 'SPI-IA210305-PBV', 'SPI-IA210273-PBV', 'SPI-JH114615-PBV', 'SPI-JH111728-PBV', 'SPI-IA210196-PBV', 'SPI-IA210442-PBV', 'SPI-IA210285-PBV', 'SPI-MU163450-PBV', 'SPI-JH115593-PBV', 'SPI-JH111894-PBV', 'SPI-JH112757-PBV', 'SPI-MU164552-PBV', 'SPI-MU164261-PBV', 'SPI-JH114008-PBV', 'SPI-JH113081-PBV', 'SPI-JH114158-PBV', 'SPI-JH111913-PBV', 'SPI-JH114303-PBV', 'SPI-JH112683-PBV', 'SPI-IA210545-PBV', 'SPI-JH114090-PBV', 'SPI-JH111112-PBV', 'SPI-JH111791-PBV', 'SPI-JH114588-PBV', 'SPI-IA210649-PBV', 'SPI-IA210581-PBV', 'SPI-JH111791-PBV', 'SPI-JH112431-PBV', 'SPI-JH112455-PBV', 'SPI-JH115746-PBV', nan, 'MESAL-5010098-E3_FRC', 'MESAL-5010730-E3_FRC', 'MESAL-6011969-E3_FRC', 'MESAL-5010942-E3_FRC', 'MESAL-7013450-E3_FRC', 'MESAL-5010845-E3_FRC', 'MESAL-8014868-E3_FRC', 'MESAL-3016340-E3_FRC', 'MESAL-3016587-E3_FRC', 'MESAL-7018380-E3_FRC', 'MESAL-6011020-E3_FRC', 'MESAL-7018347-E3_FRC', 'MESAL-5014832-E3_FRC', 'MESAL-3012603-E3_FRC', 'MESAL-6022812-E3_FRC', 'MESAL-3012840-E3_FRC', 'MESAL-7015569-E3_FRC', 'MESAL-7018860-E3_FRC', 'MESAL-3015246-E3_FRC', 'MESAL-6011594-E3_FRC', 'MESAL-3016900-E3_FRC']\n"
     ]
    }
   ],
   "source": [
    "# reading excel file and saving third column in list\n",
    "\n",
    "import pandas as pd\n",
    "import copy\n",
    "\n",
    "df = pd.read_excel(r'T9-T7-Summary-Experiment.xlsx', sheet_name=None ) #header=None, # usecols=\"A\"\n",
    "sheet_name = 'A'\n",
    "# print(df)\n",
    "# df['ctseriesid']\n",
    "# df.iloc[:, 0]\n",
    "df_A = df[sheet_name]\n",
    "third_column_list = df_A.iloc[:, 2].tolist()\n",
    "print(third_column_list)"
   ]
  }
 ],
 "metadata": {
  "kernelspec": {
   "display_name": "Python 3",
   "language": "python",
   "name": "python3"
  },
  "language_info": {
   "codemirror_mode": {
    "name": "ipython",
    "version": 3
   },
   "file_extension": ".py",
   "mimetype": "text/x-python",
   "name": "python",
   "nbconvert_exporter": "python",
   "pygments_lexer": "ipython3",
   "version": "3.11.3"
  },
  "orig_nbformat": 4
 },
 "nbformat": 4,
 "nbformat_minor": 2
}
