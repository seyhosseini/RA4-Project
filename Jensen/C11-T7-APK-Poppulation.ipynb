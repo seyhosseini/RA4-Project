{
 "cells": [
  {
   "cell_type": "code",
   "execution_count": 126,
   "metadata": {},
   "outputs": [
    {
     "name": "stdout",
     "output_type": "stream",
     "text": [
      "['SPI-JH110088-PBV', 'SPI-JH110704-PBV', 'SPI-JH112953-PBV', 'SPI-JH115247-PBV', 'SPI-JH114663-PBV', 'SPI-JH110280-PBV', 'SPI-JH115627-PBV', 'SPI-JH112358-PBV', 'SPI-IA210599-PBV', 'SPI-JH112648-PBV', 'SPI-IA210257-PBV', 'SPI-IA210637-PBV', 'SPI-IA210520-PBV', 'SPI-JH114016-PBV', 'SPI-IA210102-PBV', 'SPI-JH115778-PBV', 'SPI-IA210428-PBV', 'SPI-IA210305-PBV', 'SPI-IA210273-PBV', 'SPI-JH114615-PBV', 'SPI-JH111728-PBV', 'SPI-IA210196-PBV', 'SPI-IA210442-PBV', 'SPI-IA210285-PBV', 'SPI-MU163450-PBV', 'SPI-JH115593-PBV', 'SPI-JH111894-PBV', 'SPI-JH112757-PBV', 'SPI-MU164552-PBV', 'SPI-MU164261-PBV', 'SPI-JH114008-PBV', 'SPI-JH113081-PBV', 'SPI-JH114158-PBV', 'SPI-JH111913-PBV', 'SPI-JH114303-PBV', 'SPI-JH112683-PBV', 'SPI-IA210545-PBV', 'SPI-JH114090-PBV', 'SPI-JH111112-PBV', 'SPI-JH111791-PBV', 'SPI-JH114588-PBV', 'SPI-IA210649-PBV', 'SPI-IA210581-PBV', 'SPI-JH111791-PBV', 'SPI-JH112431-PBV', 'SPI-JH112455-PBV', 'SPI-JH115746-PBV', nan, 'MESAL-5010098-E3_FRC', 'MESAL-5010730-E3_FRC', 'MESAL-6011969-E3_FRC', 'MESAL-5010942-E3_FRC', 'MESAL-7013450-E3_FRC', 'MESAL-5010845-E3_FRC', 'MESAL-8014868-E3_FRC', 'MESAL-3016340-E3_FRC', 'MESAL-3016587-E3_FRC', 'MESAL-7018380-E3_FRC', 'MESAL-6011020-E3_FRC', 'MESAL-7018347-E3_FRC', 'MESAL-5014832-E3_FRC', 'MESAL-3012603-E3_FRC', 'MESAL-6022812-E3_FRC', 'MESAL-3012840-E3_FRC', 'MESAL-7015569-E3_FRC', 'MESAL-7018860-E3_FRC', 'MESAL-3015246-E3_FRC', 'MESAL-6011594-E3_FRC', 'MESAL-3016900-E3_FRC']\n"
     ]
    }
   ],
   "source": [
    "# reading excel file and saving third column in list of the summary table\n",
    "\n",
    "import pandas as pd\n",
    "import copy\n",
    "\n",
    "df = pd.read_excel(r'T9-T7-Summary-Experiment.xlsx', sheet_name=None ) #  Reading he excel sheet into python. Not selecting a specific sheet name yet\n",
    "sheet_name = 'A'  #  selecting to open sheet name A\n",
    "\n",
    "df_A = df[sheet_name]  #  creating a data frame for Sheet A of the excel\n",
    "Third_Column_List = df_A.iloc[1:, 2].tolist() #  iloc will find the 3rd column of the excel sheet aqnd creat a string of the values\n",
    "print(Third_Column_List)  #displaying the string of values"
   ]
  },
  {
   "cell_type": "code",
   "execution_count": 127,
   "metadata": {},
   "outputs": [
    {
     "name": "stdout",
     "output_type": "stream",
     "text": [
      "['JH110088', 'JH110704', 'JH112953', 'JH115247', 'JH114663', 'JH110280', 'JH115627', 'JH112358', 'IA210599', 'JH112648', 'IA210257', 'IA210637', 'IA210520', 'JH114016', 'IA210102', 'JH115778', 'IA210428', 'IA210305', 'IA210273', 'JH114615', 'JH111728', 'IA210196', 'IA210442', 'IA210285', 'MU163450', 'JH115593', 'JH111894', 'JH112757', 'MU164552', 'MU164261', 'JH114008', 'JH113081', 'JH114158', 'JH111913', 'JH114303', 'JH112683', 'IA210545', 'JH114090', 'JH111112', 'JH111791', 'JH114588', 'IA210649', 'IA210581', 'JH111791', 'JH112431', 'JH112455', 'JH115746', '5010098', '5010730', '6011969', '5010942', '7013450', '5010845', '8014868', '3016340', '3016587', '7018380', '6011020', '7018347', '5014832', '3012603', '6022812', '3012840', '7015569', '7018860', '3015246', '6011594', '3016900']\n"
     ]
    }
   ],
   "source": [
    "#Extracting just the patient ID from the third column list of the summary table\n",
    "\n",
    "import re\n",
    "# Create a new list to store the values between hyphens\n",
    "Patient_Id_Number = []\n",
    "\n",
    "# Iterate through the values in third_column_list\n",
    "for value in Third_Column_List:\n",
    "    if isinstance(value, str):\n",
    "        hyphen_index = value.find('-')\n",
    "        if hyphen_index != -1:\n",
    "            between_hyphens = value[hyphen_index + 1:].split('-')[0]\n",
    "            Patient_Id_Number.append(between_hyphens)\n",
    "\n",
    "# Print the list of values between hyphens\n",
    "print(Patient_Id_Number)\n"
   ]
  },
  {
   "cell_type": "code",
   "execution_count": 128,
   "metadata": {},
   "outputs": [
    {
     "name": "stdout",
     "output_type": "stream",
     "text": [
      "['WF120113', 'WF120121', 'WF120149', 'WF120176', 'WF120182', 'WF120259', 'WF120271', 'WF120293', 'WF120154', 'WF120374', 'WF120409', 'WF120433', 'WF120494', 'WF120510', 'WF120523', 'WF120551', 'WF120584', 'CU100953', 'WF120596', 'WF120624', 'WF120678', 'WF120764', 'WF120770', 'WF120788', 'WF120808', 'WF120834', 'WF120841', 'WF120857', 'WF120873', 'WF120885', 'WF120936', 'WF120950', 'WF120969', 'WF121005', 'WF121026', 'WF121032', 'WF121059', 'WF121060', 'WF121071', 'WF121143', 'WF121164', 'WF121192', 'WF121266', 'WF121299', 'WF121314', 'WF121322', 'LA191653', 'WF121336', 'WF121348', 'WF121350', 'WF121383', 'WF121439', 'WF121446', 'WF121467', 'WF121478', 'WF121534', 'WF121557', 'WF121562', 'WF121737', 'JH110031', 'JH110088', 'JH110163', 'JH110410', 'JH110451', 'JH110468', 'JH110447', 'JH110594', 'JH110753', 'JH110850', 'JH110848', 'JH111728', 'JH111231', 'UT170076', 'UT170416', 'UT170098', 'UT170261', 'UT170294', 'UT170319', 'UT170327', 'UT170331', 'UT170355', 'UT170392', 'UT170429', 'UT170441', 'UT170457', 'UT170490', 'UT170503', 'UT170524', 'UT170546', 'UT170567', 'UT170578', 'UT170595', 'UT170856', 'MU160011', 'MU160039', 'MU160243', 'SF180041', 'SF180158', 'SF180161', 'SF180201', 'SF180380', 'SF180413', 'SF180476', 'SF180527', 'SF180555', 'SF180564', 'SF180588', 'SF180592', 'SF180628', 'SF180663', 'SF180768', 'SF180784', 'SF180820', 'SF180838', 'SF180845', 'SF180905', 'SF180918', 'SF180926', 'CU101643', 'SF180971', 'SF181014', 'SF181147', 'SF181216', 'SF181344', 'SF181371', 'CU100139', 'CU100358', 'CU100790', 'CU100860', 'CU101007', 'CU101251', 'CU101296', 'CU101320', 'CU101338', 'CU101366', 'CU101377', 'CU101401', 'CU101587', 'CU101655', 'CU101664', 'CU101752', 'CU101813', 'CU101837', 'UT170175', 'LA190171', 'LA190249', 'LV200116', 'LA190347', 'LA190368', 'LA190384', 'LA190445', 'LA190466', 'LA190477', 'LA190481', 'LA190499', 'LA190507', 'LA190515', 'LA190542', 'LA190556', 'LA190608', 'LA190641', 'LA190662', 'LA190673', 'LA190685', 'LA190714', 'LA190748', 'LA190769', 'LA190783', 'LA190797', 'LA190811', 'LA190880', 'LA190919', 'LA190970', 'LV200074', 'LV200185', 'LV200235', 'LV200304', 'LV200353', 'LV200414', 'LV200448', 'LV200475', 'LV200497', 'LV200571', 'LV200587', 'LV200619', 'LA190276', 'LA190629', 'MU160390', 'MU160432', 'MU160569', 'MU160597', 'CU100084', 'CU100675', 'CU102115', 'CU102130', 'SF180269', 'SF181387', 'SF181474', 'WF121633', 'WF121782', 'WF121823', 'WF122126', 'LA190846', 'WF120829', 'UT170984', 'UT170996', 'UT171144', 'UT170013', 'JH114085', 'SF180853', 'UT170114', 'UT170021', 'SF181135', 'LA190412', 'UT170082', 'WF121879', 'MU160817', 'MU160937', 'MU160548', 'MU161321', 'LA190335', 'UT171171', 'MU160791', 'MU160809', 'WF121585', 'JH111791', 'SF181786', 'JH114090', 'MU160227', 'MU160341', 'JH114109', 'WF121617', 'WF121411', 'WF122477', 'WF122589', 'MU160405', 'MU161517', 'LA191388', 'CU102451', 'UT171507', 'JH114482', 'LA194552', 'JH111288', 'CU102687', 'MU160420', 'SF180449', 'SF180543', 'LA303526', 'LA303526', 'CU102777', 'LA303518', 'LA303518', 'SF180993', 'JH300514', 'CU102916', 'UT171867', 'SF182098', 'WF301019', 'WF301019', 'CU103016', 'JH114689', 'CU300011', 'CU300011', 'UT172311', 'CU300024', 'CU300024', 'SF182122', 'UT172324', 'WF123410', 'SF182175', 'MU162609', 'MU162609', 'WF123398', 'MU162672', 'SF182197', 'LA192038', 'MU162694', 'CU103222', 'UT172607', 'UT172607', 'SF182441', 'MU302059', 'MU302032', 'MU302032', 'MU162930', 'WF301055', 'WF301055', 'SF303015', 'SF303015', 'SF182473', 'JH113020', 'LA303532', 'LA303532', 'WF301043', 'LA192149', 'UT172768', 'UT172784', 'UT172838', 'UT172918', 'SF182511', 'JH300550', 'JH300550', 'UT173026', 'UT172932', 'CU103311', 'WF120391', 'CU103449', 'CU103465', 'WF123941', 'JH115223', 'UT173093', 'LA192226', 'WF124050', 'WF124075', 'WF124110', 'CU103607', 'UA240169', 'SF303063', 'SF182828', 'TE230142', 'SF182830', 'WF301064', 'SF182807', 'SF182856', 'SF182902', 'UT173383', 'UT173403', 'UT173397', 'MU163450', 'CU103663', 'CU103689', 'JH115247', 'SF303074', 'UT173411', 'SF303091', 'WF124332', 'LA192440', 'TE230300', 'MU163353', 'MU163377', 'MU163381', 'CU300046', 'WF123671', 'WF123671', 'UT173350', 'NJ220058', 'SF183079', 'JH111894', 'MU163627', 'SF183103', 'CU103971', 'UT173672', 'MU163692', 'MU163692', 'JH300575', 'UA240331', 'CU103987', 'UA240416', 'SF183242', 'SF183242', 'SF303129', 'SF303129', 'SF303134', 'SF303134', 'UT173713', 'LA192611', 'SF183263', 'UA240485', 'MU163865', 'UT171094', 'MU163909', 'SF183358', 'WF124538', 'WF124538', 'WF301092', 'WF301092', 'WF124566', 'WF124566', 'SF183431', 'SF183431', 'CU104226', 'CU104244', 'CU104244', 'WF301115', 'WF301115', 'UT173868', 'UT302529', 'UT302529', 'IA210102', 'SF303157', 'SF303157', 'WF301107', 'WF301107', 'WF301128', 'WF301128', 'UA240595', 'LA303560', 'LA303560', 'JH111998', 'UT173915', 'UT302534', 'UT302534', 'SF183470', 'SF183470', 'UT302541', 'UT302541', 'SF182037', 'UT174002', 'UT174002', 'JH115778', 'MU163882', 'SF303162', 'SF303162', 'LA192792', 'LA303593', 'LA303593', 'UT302557', 'UT302557', 'UT302562', 'UT302562', 'UT302573', 'UT302573', 'SF183582', 'CU104486', 'IA210234', 'UA240699', 'UT302585', 'UT302585', 'UT174207', 'LA303606', 'LA303606', 'CU104652', 'UT171017', 'NJ220803', 'NJ220783', 'UA240718', 'UA240732', 'IA210273', 'SF303173', 'UI250124', 'WF301130', 'WF301130', 'UT302609', 'UT302609', 'SF183622', 'UI250195', 'UI250152', 'UA240771', 'MU164416', 'MU164240', 'MU164286', 'LA303627', 'LA303627', 'LA303631', 'LA303631', 'LA303643', 'LA303643', 'SF183648', 'UT302617', 'UT302617', 'WF301156', 'UT302625', 'UT302625', 'UT174361', 'WF124892', 'MU164462', 'UT174464', 'UT174464', 'UT302633', 'NJ221021', 'UA240815', 'UI250139', 'UI250178', 'UI250325', 'UI250325', 'WF125037', 'WF125037', 'WF301163', 'WF301163', 'UT174372', 'UT174372', 'CU104936', 'CU104948', 'CU104997', 'JH115813', 'SF183741', 'IA210415', 'WF301174', 'WF301174', 'UT302640', 'UT302640', 'UT174537', 'UT302658', 'UT302658', 'UT302661', 'UT302661', 'UT302672', 'UT302672', 'MU164595', 'WF124864', 'WF124864', 'WF124855', 'LA303664', 'LA303664', 'LA303670', 'LA303670', 'LA193216', 'IA210393', 'WF301189', 'MU164681', 'JH115917', 'JH300583', 'JH112431', 'JH112431', 'UA240984', 'UT174650', 'JH300602', 'JH300602', 'LA193371', 'LA193430', 'LA303688', 'LA303692', 'LA193676']\n"
     ]
    }
   ],
   "source": [
    "# reading excel file and saving third column in list of APK excel sheet for V1\n",
    "\n",
    "\n",
    "df = pd.read_excel(r'T6-Images&APKs-Delete.xlsx', sheet_name=None ) #header=None, # usecols=\"A\"\n",
    "sheet_name = 'APK-List-V1'\n",
    "\n",
    "df_B = df[sheet_name]\n",
    "V1_All_Patients = df_B.iloc[:, 2].tolist()\n",
    "print(V1_All_Patients)"
   ]
  },
  {
   "cell_type": "code",
   "execution_count": 112,
   "metadata": {},
   "outputs": [
    {
     "name": "stdout",
     "output_type": "stream",
     "text": [
      "['TLC', 'TLC', 'TLC', 'TLC', 'TLC', 'TLC', 'TLC', 'TLC', 'TLC', 'TLC', 'RV', 'TLC', 'TLC', 'TLC', 'TLC', 'TLC', 'TLC', 'TLC', 'TLC', 'TLC', 'TLC', 'TLC', 'TLC', 'TLC', 'TLC', 'TLC', 'TLC', 'TLC', 'TLC', 'TLC', 'TLC', 'TLC', 'TLC', 'TLC', 'TLC', 'TLC', 'TLC', 'TLC', 'TLC', 'TLC', 'TLC', 'TLC', 'TLC', 'TLC', 'TLC', 'TLC', 'TLC', 'TLC', 'TLC', 'TLC', 'TLC', 'TLC', 'TLC', 'TLC', 'TLC', 'TLC', 'TLC', 'TLC', 'TLC', 'TLC', 'TLC', 'TLC', 'TLC', 'TLC', 'TLC', 'TLC', 'TLC', 'TLC', 'TLC', 'TLC', 'TLC', 'TLC', 'TLC', 'TLC', 'TLC', 'TLC', 'TLC', 'TLC', 'TLC', 'TLC', 'TLC', 'TLC', 'TLC', 'TLC', 'TLC', 'RV', 'TLC', 'TLC', 'TLC', 'TLC', 'TLC', 'TLC', 'TLC', 'TLC', 'TLC', 'TLC', 'TLC', 'TLC', 'TLC', 'TLC', 'TLC', 'TLC', 'TLC', 'TLC', 'TLC', 'TLC', 'TLC', 'TLC', 'TLC', 'TLC', 'TLC', 'TLC', 'TLC', 'TLC', 'TLC', 'TLC', 'TLC', 'TLC', 'TLC', 'TLC', 'TLC', 'TLC', 'TLC', 'TLC', 'TLC', 'TLC', 'TLC', 'TLC', 'TLC', 'TLC', 'TLC', 'TLC', 'TLC', 'TLC', 'TLC', 'TLC', 'TLC', 'TLC', 'TLC', 'TLC', 'TLC', 'TLC', 'TLC', 'TLC', 'TLC', 'TLC', 'RV', 'TLC', 'TLC', 'TLC', 'TLC', 'TLC', 'TLC', 'TLC', 'TLC', 'TLC', 'TLC', 'TLC', 'TLC', 'TLC', 'TLC', 'TLC', 'TLC', 'TLC', 'TLC', 'TLC', 'TLC', 'TLC', 'TLC', 'TLC', 'TLC', 'TLC', 'TLC', 'TLC', 'TLC', 'TLC', 'TLC', 'TLC', 'TLC', 'TLC', 'TLC', 'TLC', 'TLC', 'TLC', 'TLC', 'TLC', 'TLC', 'TLC', 'TLC', 'TLC', 'TLC', 'TLC', 'TLC', 'TLC', 'TLC', 'TLC', 'TLC', 'TLC', 'TLC', 'TLC', 'TLC', 'TLC', 'TLC', 'TLC', 'TLC', 'TLC', 'TLC', 'TLC', 'TLC', 'TLC', 'TLC', 'TLC', 'TLC', 'TLC', 'TLC', 'TLC', 'TLC', 'RV', 'TLC', 'TLC', 'TLC', 'TLC', 'TLC', 'TLC', 'TLC', 'TLC', 'TLC', 'TLC', 'TLC', 'TLC', 'TLC', 'TLC', 'TLC', 'TLC', 'TLC', 'TLC', 'TLC', 'TLC', 'TLC', 'TLC', 'TLC', 'TLC', 'RV', 'TLC', 'TLC', 'TLC', 'TLC', 'RV', 'TLC', 'TLC', 'RV', 'TLC', 'TLC', 'RV', 'TLC', 'TLC', 'TLC', 'RV', 'TLC', 'TLC', 'TLC', 'RV', 'TLC', 'TLC', 'RV', 'TLC', 'TLC', 'RV', 'TLC', 'TLC', 'RV', 'TLC', 'TLC', 'TLC', 'TLC', 'TLC', 'TLC', 'TLC', 'RV', 'TLC', 'TLC', 'TLC', 'RV', 'TLC', 'TLC', 'RV', 'TLC', 'RV', 'TLC', 'RV', 'RV', 'RV', 'TLC', 'TLC', 'TLC', 'TLC', 'RV', 'TLC', 'TLC', 'TLC', 'RV', 'TLC', 'TLC', 'RV', 'RV', 'TLC', 'RV', 'RV', 'RV', 'RV', 'TLC', 'RV', 'TLC', 'TLC', 'RV', 'TLC', 'TLC', 'TLC', 'TLC', 'RV', 'TLC', 'TLC', 'TLC', 'TLC', 'RV', 'RV', 'TLC', 'RV', 'TLC', 'TLC', 'TLC', 'TLC', 'TLC', 'TLC', 'TLC', 'RV', 'RV', 'RV', 'TLC', 'RV', 'RV', 'RV', 'RV', 'TLC', 'RV', 'TLC', 'RV', 'RV', 'RV', 'RV', 'RV', 'TLC', 'RV', 'TLC', 'RV', 'TLC', 'RV', 'TLC', 'RV', 'TLC', 'RV', 'TLC', 'RV', 'TLC', 'TLC', 'RV', 'TLC', 'TLC', 'RV', 'TLC', 'TLC', 'RV', 'RV', 'TLC', 'RV', 'TLC', 'RV', 'TLC', 'RV', 'TLC', 'RV', 'RV', 'TLC', 'RV', 'TLC', 'RV', 'RV', 'TLC', 'TLC', 'RV', 'TLC', 'RV', 'TLC', 'RV', 'TLC', 'TLC', 'RV', 'TLC', 'TLC', 'RV', 'RV', 'TLC', 'RV', 'TLC', 'RV', 'TLC', 'TLC', 'RV', 'TLC', 'TLC', 'TLC', 'RV', 'TLC', 'RV', 'RV', 'TLC', 'RV', 'TLC', 'RV', 'TLC', 'RV', 'TLC', 'TLC', 'RV', 'RV', 'TLC', 'RV', 'TLC', 'RV', 'RV', 'TLC', 'TLC', 'TLC', 'RV', 'TLC', 'RV', 'RV', 'RV', 'TLC', 'TLC', 'RV', 'TLC', 'RV', 'TLC', 'RV', 'RV', 'TLC', 'TLC', 'TLC', 'RV', 'RV', 'RV', 'TLC', 'RV', 'TLC', 'RV', 'TLC', 'RV', 'RV', 'TLC', 'TLC', 'RV', 'TLC', 'RV', 'TLC', 'RV', 'RV', 'TLC', 'RV', 'TLC', 'RV', 'TLC', 'RV', 'RV', 'TLC', 'RV', 'TLC', 'RV', 'TLC', 'RV', 'TLC', 'RV', 'TLC', 'RV', 'TLC', 'TLC', 'RV', 'RV', 'TLC', 'RV', 'TLC', 'TLC', 'RV', 'TLC', 'RV', 'TLC', 'RV', 'TLC', 'TLC', 'RV', 'TLC', 'TLC', 'RV', 'TLC', 'RV', 'TLC', 'RV', 'TLC', 'RV', 'RV', 'TLC', 'TLC', 'RV', 'TLC', 'CHEST', 'TLC', 'RV', 'TLC', 'TLC', 'TLC', 'TLC', 'TLC', 'CHEST']\n"
     ]
    }
   ],
   "source": [
    "#Extracting the fifth column out of the APK excel sheet for V1\n",
    "\n",
    "\n",
    "df = pd.read_excel(r'T6-Images&APKs-Delete.xlsx', sheet_name=None ) #header=None, # usecols=\"A\"\n",
    "sheet_name = 'APK-List-V1'\n",
    "\n",
    "df_c = df[sheet_name]\n",
    "V1_Image_Type = df_c.iloc[:, 4].tolist()\n",
    "print(V1_Image_Type)"
   ]
  },
  {
   "cell_type": "code",
   "execution_count": 102,
   "metadata": {},
   "outputs": [
    {
     "name": "stdout",
     "output_type": "stream",
     "text": [
      "['JH110088', 'JH111728', 'JH111791', 'JH114090', 'MU163450', 'JH115247', 'JH111894', 'IA210102', 'JH115778', 'IA210273', 'JH112431', 'JH112431']\n"
     ]
    }
   ],
   "source": [
    "#Finding which patients from out summary list are found in the V1 patient list\n",
    "\n",
    "matching_patient = []\n",
    "\n",
    "for item in third_column_list1:\n",
    "    if item in Shortened_list:\n",
    "        matching_patient.append(item)\n",
    "\n",
    "print(matching_patient)\n"
   ]
  },
  {
   "cell_type": "code",
   "execution_count": 119,
   "metadata": {},
   "outputs": [
    {
     "name": "stdout",
     "output_type": "stream",
     "text": [
      "[60, 70, 225, 227, 328, 331, 347, 388, 409, 437, 512, 513]\n"
     ]
    }
   ],
   "source": [
    "# Finding the indice for which the patient Ids match the master list\n",
    "# Values are 2 Rows down from listed indice due to header\n",
    "\n",
    "Patient_Id_Location_Master_List = [idx for idx, value in enumerate(V1_All_Patients) if value in matching_patient]\n",
    "\n",
    "print(Patient_Id_Location_Master_List)"
   ]
  },
  {
   "cell_type": "code",
   "execution_count": 123,
   "metadata": {},
   "outputs": [
    {
     "name": "stdout",
     "output_type": "stream",
     "text": [
      "[0, 3, 14, 15, 18, 20, 24, 26, 37, 39, 43, 44]\n"
     ]
    }
   ],
   "source": [
    "# Finding the indice for where the Patient Id is in the summary excel\n",
    "# Values are 2 Rows down from listed indice due to header\n",
    "\n",
    "Patient_Id_Location_Summary_List = [idx for idx, value in enumerate(Patient_Id_Number) if value in matching_patient]\n",
    "\n",
    "print(Patient_Id_Location_Summary_List)"
   ]
  },
  {
   "cell_type": "code",
   "execution_count": 120,
   "metadata": {},
   "outputs": [
    {
     "name": "stdout",
     "output_type": "stream",
     "text": [
      "Matching values: ['TLC', 'TLC', 'TLC', 'TLC', 'TLC', 'TLC', 'RV', 'TLC', 'TLC', 'RV', 'RV', 'TLC']\n"
     ]
    }
   ],
   "source": [
    "# Extract values from V1_Image_Type using the indices\n",
    "matching_values = [V1_Image_Type[idx] for idx in Patient_Id_Location_Master_List]\n",
    "\n",
    "# Print the matching values\n",
    "print(\"Matching values:\", matching_values)"
   ]
  },
  {
   "cell_type": "code",
   "execution_count": 121,
   "metadata": {},
   "outputs": [
    {
     "name": "stdout",
     "output_type": "stream",
     "text": [
      "V1 Patients: ['JH110088', 'JH111728', 'JH111791', 'JH114090', 'MU163450', 'JH115247', 'JH111894', 'IA210102', 'JH115778', 'IA210273', 'JH112431', 'JH112431']\n",
      "Matching values: ['TLC', 'TLC', 'TLC', 'TLC', 'TLC', 'TLC', 'RV', 'TLC', 'TLC', 'RV', 'RV', 'TLC']\n",
      "V1 Excel Patient Location: [60, 70, 225, 227, 328, 331, 347, 388, 409, 437, 512, 513]\n"
     ]
    }
   ],
   "source": [
    "# All the data extracted from the Master List\n",
    "\n",
    "print(\"V1 Patients:\", matching_patient) #Patients which have a V1 Visit\n",
    "print(\"Matching values:\", matching_values) #What image type the Pateint has at V1\n",
    "print(\"V1 Excel Patient Location:\", Patient_Id_Location_Master_List)\n"
   ]
  },
  {
   "cell_type": "markdown",
   "metadata": {},
   "source": []
  },
  {
   "cell_type": "code",
   "execution_count": null,
   "metadata": {},
   "outputs": [],
   "source": []
  },
  {
   "cell_type": "code",
   "execution_count": null,
   "metadata": {},
   "outputs": [],
   "source": []
  },
  {
   "cell_type": "code",
   "execution_count": 150,
   "metadata": {},
   "outputs": [],
   "source": [
    "CaseN = 'SPI-JH110088'\n",
    "\n",
    "df = pd.read_excel(r'T6-Images&Apks-Delete.xlsx', sheet_name=None ) #  Reading he excel sheet into python. Not selecting a specific sheet name yet\n",
    "\n",
    "V1_Apks_IdInflation = df['APK-List-V1'].iloc[:, 3:5].values.tolist() #  iloc will find the 3rd column of the excel sheet aqnd creat a string of the values\n",
    "# V2_Apks = df_A.iloc[1:, ].tolist()\n",
    "# V3LNC_Apks= df_A.iloc[1:, 2].tolist() \n",
    "# V3PRM_Apks= df_A.iloc[1:, 2].tolist()\n",
    "# V5_Apks = df_A.iloc[1:, 2].tolist() \n",
    "# print(Third_Column_List)  #displaying the string of values\n",
    "\n",
    "# Flag to indicate whether the pattern and target value were found\n",
    "found = False\n",
    "\n",
    "# Iterate through the list and check each row\n",
    "for indx, row in enumerate(V1_Apks_IdInflation):\n",
    "    if CaseN in row[0] and row[1] == 'TLC':\n",
    "        found = True\n",
    "        index = indx\n",
    "        break\n",
    "\n",
    "found\n",
    "print = indx\n",
    "\n",
    "\n",
    "\n",
    "\n",
    "\n",
    "# TLC_Apk_Available\n",
    "\n",
    "# V1_Apks"
   ]
  },
  {
   "cell_type": "code",
   "execution_count": null,
   "metadata": {},
   "outputs": [],
   "source": []
  },
  {
   "cell_type": "code",
   "execution_count": null,
   "metadata": {},
   "outputs": [],
   "source": []
  },
  {
   "cell_type": "code",
   "execution_count": null,
   "metadata": {},
   "outputs": [
    {
     "ename": "",
     "evalue": "",
     "output_type": "error",
     "traceback": [
      "\u001b[1;31mCannot execute code, session has been disposed. Please try restarting the Kernel."
     ]
    },
    {
     "ename": "",
     "evalue": "",
     "output_type": "error",
     "traceback": [
      "\u001b[1;31mThe Kernel crashed while executing code in the the current cell or a previous cell. Please review the code in the cell(s) to identify a possible cause of the failure. Click <a href='https://aka.ms/vscodeJupyterKernelCrash'>here</a> for more info. View Jupyter <a href='command:jupyter.viewOutput'>log</a> for further details."
     ]
    }
   ],
   "source": [
    "import pandas as pd \n",
    "import openpyxl \n",
    "\n",
    "CaseNumber = 'SPI-JH110088'\n",
    "\n",
    "tlcimagesavailable = []\n",
    "tlcapksavaiable = []\n",
    "rvapksavailable = []\n",
    "tlc_rvimagesavailable = []\n",
    "tlc_rvapksavailable = []\n",
    "\n",
    "import pandas as pd\n",
    "\n",
    "# Path to your Excel file\n",
    "workbook = openpyxl.load_workbook('T6-Images&Apks-Delete.xlsx')\n",
    "sheet = workbook['APK-List-V1']\n",
    "\n",
    "# # Search for the target value in the sheet\n",
    "# for row in sheet.iter_rows(min_row=1, max_row=sheet.max_row, values_only=True):\n",
    "#     if CaseNumber in row:\n",
    "#         row_number = row[0].row  # Assuming the value is in the first column\n",
    "#         print(f\"Found '{CaseNumber}' in row {row_number}\")\n",
    "#         break\n",
    "\n",
    "for row in sheet.iter_rows(min_row=1, max_row=sheet.max_row, values_only=True):\n",
    "    for cell_value in row:\n",
    "        if CaseNumber in str(cell_value):\n",
    "            row_number = row[0].row\n",
    "            print(f\"Found '{CaseNumber}' in row {row_number}\")\n",
    "            break\n"
   ]
  }
 ],
 "metadata": {
  "kernelspec": {
   "display_name": "Python 3",
   "language": "python",
   "name": "python3"
  },
  "language_info": {
   "codemirror_mode": {
    "name": "ipython",
    "version": 3
   },
   "file_extension": ".py",
   "mimetype": "text/x-python",
   "name": "python",
   "nbconvert_exporter": "python",
   "pygments_lexer": "ipython3",
   "version": "3.11.3"
  },
  "orig_nbformat": 4
 },
 "nbformat": 4,
 "nbformat_minor": 2
}
