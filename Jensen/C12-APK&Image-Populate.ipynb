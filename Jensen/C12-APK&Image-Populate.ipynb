{
 "cells": [
  {
   "cell_type": "code",
   "execution_count": null,
   "metadata": {},
   "outputs": [],
   "source": [
    "Images_List: 16kx4 extracts D-E only\n",
    "APKs_List: save  sheets extract : 5x ~1000 x 3  : save info in vartiable as the sheets are 0-4 and the columnns are in the list\n",
    "\n",
    "\n",
    "for indx.element in enumerate(IS):\n",
    "    find idices in MIL[:,1] \n",
    "    for \n",
    "\n",
    "solution is 100x6 (SO)"
   ]
  },
  {
   "cell_type": "code",
   "execution_count": 18,
   "metadata": {},
   "outputs": [
    {
     "name": "stdout",
     "output_type": "stream",
     "text": [
      "AP: H-14350\n",
      "AP: SPI-WF120045-V1\n",
      "AP: TLC\n",
      "MIL: H-29737\n",
      "MIL: SPI-NJ221261\n",
      "MIL: V5\n",
      "MIL: RV\n",
      "IS: SPI-JH110088\n"
     ]
    }
   ],
   "source": [
    "# Creates the AL List which has all APK data\n",
    "\n",
    "import pandas as pd\n",
    "\n",
    "# List to store data\n",
    "AP = []\n",
    "\n",
    "# List of sheet names\n",
    "sheet_names = ['APK-List-V1', 'APK-List-V2', 'APK-List-V3-PRM', 'APK-List-V3-LNC', 'APK-List-V5']\n",
    "\n",
    "# Iterate through sheets\n",
    "for sheet_name in sheet_names:\n",
    "    # Read data from the sheet\n",
    "    df = pd.read_excel('T6-Images&Apks-Delete.xlsx', sheet_name=sheet_name)\n",
    "    \n",
    "    # Get the specific rows you need (adjust column indexes as needed)\n",
    "    columns = df.iloc[:, [1, 3, 4]].values.tolist()\n",
    "    \n",
    "    # Append rows to AP\n",
    "    AP.append(columns)\n",
    "\n",
    "   # Print the element from the first sheet (index 0) at row 2 (index 1)\n",
    "for I in AP[0][0]: \n",
    "    print(\"AP:\", I)\n",
    "\n",
    "#########################################################################################################################\n",
    "\n",
    "# Creates the MIL List which has all Image Data Needed\n",
    "# List to store data\n",
    "MIL = []\n",
    "\n",
    "# List of sheet names\n",
    "sheet_names = ['SPIROMICS-Columns-Trimmed']\n",
    "\n",
    "# Iterate through sheets\n",
    "for sheet_name in sheet_names:\n",
    "    # Read data from the sheet\n",
    "    df = pd.read_excel('T6-Images&Apks-Delete.xlsx', sheet_name=sheet_name)\n",
    "    \n",
    "    # Get the specific rows you need (adjust column indexes as needed)\n",
    "    columns = df.iloc[:, [3, 4, 5, 6]].values.tolist()\n",
    "    \n",
    "    # Append rows to AP\n",
    "    MIL.append(columns)\n",
    "\n",
    "   # Print the element from the first sheet (index 0) at row 2 (index 1)\n",
    "for I in MIL[0][0]: \n",
    "    print(\"MIL:\", I)\n",
    "\n",
    "#########################################################################################################################\n",
    "\n",
    "# Creates the IS List which has all Image Data Needed\n",
    "# List to store data\n",
    "IS = []\n",
    "\n",
    "# List of sheet names\n",
    "sheet_names = ['Cases-Done - DataSummary']\n",
    "\n",
    "# Iterate through sheets\n",
    "for sheet_name in sheet_names:\n",
    "    # Read data from the sheet\n",
    "    df = pd.read_excel('T7-Summary-Delete.xlsx', sheet_name=sheet_name)\n",
    "    \n",
    "    # Get the specific rows you need (adjust column indexes as needed)\n",
    "    columns = df.iloc[:, [2]].values.tolist()\n",
    "    \n",
    "    # Append rows to AP\n",
    "    IS.append(columns)\n",
    "\n",
    "   # Print the element from the first sheet (index 0) at row 2 (index 1)\n",
    "for I in IS[0][0]:\n",
    "    print(\"IS:\", I)"
   ]
  },
  {
   "cell_type": "code",
   "execution_count": 17,
   "metadata": {},
   "outputs": [
    {
     "name": "stdout",
     "output_type": "stream",
     "text": [
      "Keyword 'SPI-JH110088' found at indices: [15548, 15549, 15550, 15551, 15552, 15553, 15554, 15555, 15556, 15557, 15558, 15559, 15560, 15561, 15562, 15563, 15564, 15565, 15566, 15567, 15568, 15569, 15570, 15571]\n"
     ]
    }
   ],
   "source": [
    "#This finds all of the indicies for where the the keyword is present in the MIL list\n",
    "\n",
    "keyword = \"SPI-JH110088\"  \n",
    "\n",
    "def search_and_print_indices(keyword, data_list):\n",
    "    found_indices = []\n",
    "    \n",
    "    for idx, row in enumerate(data_list[0]):\n",
    "        if keyword in row[1]:  # Assuming the second column is at index 1\n",
    "            found_indices.append(idx)\n",
    "    \n",
    "    if found_indices:\n",
    "        print(f\"Keyword '{keyword}' found at indices: {found_indices}\")\n",
    "    else:\n",
    "        print(f\"Keyword '{keyword}' not found in the list.\")\n",
    "\n",
    "# Example data_list structure: 1x16000x3\n",
    "data_list = MIL\n",
    " \n",
    "\n",
    "search_and_print_indices(keyword, data_list)"
   ]
  },
  {
   "cell_type": "code",
   "execution_count": 20,
   "metadata": {},
   "outputs": [
    {
     "name": "stdout",
     "output_type": "stream",
     "text": [
      "RV: V2, V5, LNC, PBV, V1\n",
      "TLC: V1, V5, V2, LNC\n",
      "FRC: V5\n"
     ]
    }
   ],
   "source": [
    "# Takes Keyword, finds index in MIL list, Finds RV, TLC, and FRC Visits\n",
    "\n",
    "keyword = \"SPI-JH110088\"\n",
    "\n",
    "def create_combined_info_list(keyword, data_list):\n",
    "    info_list_RV = []\n",
    "    info_list_TLC = []\n",
    "    info_list_FRC = []\n",
    "\n",
    "    for idx, row in enumerate(data_list[0]):\n",
    "        if keyword in row[1]:  # Assuming the second column is at index 1\n",
    "            if \"RV\" in row[3]:  # Assuming the fourth column is at index 3\n",
    "                info_list_RV.append(row[2])  # Append the value from the third column\n",
    "            if \"TLC\" in row[3]:  # Assuming the fourth column is at index 3\n",
    "                info_list_TLC.append(row[2])  # Append the value from the third column\n",
    "            if \"FRC\" in row[3]:  # Assuming the fourth column is at index 3\n",
    "                info_list_FRC.append(row[2])  # Append the value from the third column\n",
    "            \n",
    "    return info_list_RV, info_list_TLC, info_list_FRC\n",
    "\n",
    "data_list = MIL\n",
    "info_list_RV, info_list_TLC, info_list_FRC = create_combined_info_list(keyword, data_list)\n",
    "\n",
    "if info_list_RV:  # Only proceed if the RV info list is not empty\n",
    "    unique_values = set(info_list_RV)\n",
    "    unique_info_list = list(unique_values)\n",
    "    concatenated_info = ', '.join(unique_info_list)\n",
    "    RV_info = concatenated_info\n",
    "    print(f\"RV: {RV_info}\")\n",
    "\n",
    "if info_list_TLC:  # Only proceed if the TLC info list is not empty\n",
    "    unique_values = set(info_list_TLC)\n",
    "    unique_info_list = list(unique_values)\n",
    "    concatenated_info = ', '.join(unique_info_list)\n",
    "    TLC_info = concatenated_info\n",
    "    print(f\"TLC: {TLC_info}\")\n",
    "\n",
    "if info_list_FRC:  # Only proceed if the TLC info list is not empty\n",
    "    unique_values = set(info_list_FRC)\n",
    "    unique_info_list = list(unique_values)\n",
    "    concatenated_info = ', '.join(unique_info_list)\n",
    "    FRC_info = concatenated_info\n",
    "    print(f\"FRC: {FRC_info}\")"
   ]
  }
 ],
 "metadata": {
  "kernelspec": {
   "display_name": "Python 3",
   "language": "python",
   "name": "python3"
  },
  "language_info": {
   "codemirror_mode": {
    "name": "ipython",
    "version": 3
   },
   "file_extension": ".py",
   "mimetype": "text/x-python",
   "name": "python",
   "nbconvert_exporter": "python",
   "pygments_lexer": "ipython3",
   "version": "3.11.3"
  },
  "orig_nbformat": 4
 },
 "nbformat": 4,
 "nbformat_minor": 2
}
