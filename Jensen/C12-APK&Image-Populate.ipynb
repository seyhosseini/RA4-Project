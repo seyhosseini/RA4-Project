{
 "cells": [
  {
   "cell_type": "code",
   "execution_count": null,
   "metadata": {},
   "outputs": [],
   "source": [
    "Images_List: 16kx4 extracts D-E only\n",
    "APKs_List: save  sheets extract : 5x ~1000 x 3  : save info in vartiable as the sheets are 0-5 and the columnns are in the list\n",
    "\n",
    "\n",
    "for indx.element in enumerate(IS):\n",
    "    find idices in MIL[:,1] \n",
    "    for \n",
    "\n",
    "solution is 100x6 (SO)"
   ]
  },
  {
   "cell_type": "code",
   "execution_count": null,
   "metadata": {},
   "outputs": [],
   "source": []
  },
  {
   "cell_type": "code",
   "execution_count": 1,
   "metadata": {},
   "outputs": [
    {
     "name": "stdout",
     "output_type": "stream",
     "text": [
      "H-14353\n",
      "SPI-WF120121-V1\n",
      "TLC\n"
     ]
    }
   ],
   "source": [
    "# Creates the AL List which has all APK data\n",
    "\n",
    "\n",
    "import pandas as pd\n",
    "\n",
    "# List to store data\n",
    "AP = []\n",
    "\n",
    "# List of sheet names\n",
    "sheet_names = ['APK-List-V1', 'APK-List-V2', 'APK-List-V3-PRM', 'APK-List-V3-LNC', 'APK-List-V5']\n",
    "\n",
    "# Iterate through sheets\n",
    "for sheet_name in sheet_names:\n",
    "    # Read data from the sheet\n",
    "    df = pd.read_excel('T6-Images&Apks-Delete.xlsx', sheet_name=sheet_name)\n",
    "    \n",
    "    # Get the specific rows you need (adjust column indexes as needed)\n",
    "    columns = df.iloc[:, [1, 3, 4]].values.tolist()\n",
    "    \n",
    "    # Append rows to AP\n",
    "    AP.append(columns)\n",
    "\n",
    "   # Print the element from the first sheet (index 0) at row 2 (index 1)\n",
    "for I in AP[0][2]: \n",
    "    print(I)\n",
    "\n",
    "\n",
    "\n",
    "    "
   ]
  },
  {
   "cell_type": "code",
   "execution_count": 8,
   "metadata": {},
   "outputs": [
    {
     "name": "stdout",
     "output_type": "stream",
     "text": [
      "H-19057\n",
      "SPI-UT173336-V5\n",
      "RV\n"
     ]
    }
   ],
   "source": [
    "# Creates the MIL List which has all Image Data Needed\n",
    "\n",
    "import pandas as pd\n",
    "\n",
    "# List to store data\n",
    "MIL = []\n",
    "\n",
    "# List of sheet names\n",
    "sheet_names = ['SPIROMICS-Columns-Trimmed']\n",
    "\n",
    "# Iterate through sheets\n",
    "for sheet_name in sheet_names:\n",
    "    # Read data from the sheet\n",
    "    df = pd.read_excel('T6-Images&Apks-Delete.xlsx', sheet_name=sheet_name)\n",
    "    \n",
    "    # Get the specific rows you need (adjust column indexes as needed)\n",
    "    columns = df.iloc[:, [3, 4, 6]].values.tolist()\n",
    "    \n",
    "    # Append rows to AP\n",
    "    MIL.append(columns)\n",
    "\n",
    "   # Print the element from the first sheet (index 0) at row 2 (index 1)\n",
    "for I in MIL[0][5]: \n",
    "    print(I)"
   ]
  },
  {
   "cell_type": "code",
   "execution_count": null,
   "metadata": {},
   "outputs": [],
   "source": [
    "\n",
    "Key = 'SPI-JH110088-PBV'\n",
    "\n"
   ]
  }
 ],
 "metadata": {
  "kernelspec": {
   "display_name": "Python 3",
   "language": "python",
   "name": "python3"
  },
  "language_info": {
   "codemirror_mode": {
    "name": "ipython",
    "version": 3
   },
   "file_extension": ".py",
   "mimetype": "text/x-python",
   "name": "python",
   "nbconvert_exporter": "python",
   "pygments_lexer": "ipython3",
   "version": "3.11.3"
  },
  "orig_nbformat": 4
 },
 "nbformat": 4,
 "nbformat_minor": 2
}
