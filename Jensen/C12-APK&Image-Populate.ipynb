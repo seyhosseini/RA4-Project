{
 "cells": [
  {
   "cell_type": "code",
   "execution_count": 52,
   "metadata": {},
   "outputs": [
    {
     "ename": "SyntaxError",
     "evalue": "invalid decimal literal (1351406879.py, line 1)",
     "output_type": "error",
     "traceback": [
      "\u001b[1;36m  Cell \u001b[1;32mIn[52], line 1\u001b[1;36m\u001b[0m\n\u001b[1;33m    Images_List: 16kx4 extracts D-E only\u001b[0m\n\u001b[1;37m                  ^\u001b[0m\n\u001b[1;31mSyntaxError\u001b[0m\u001b[1;31m:\u001b[0m invalid decimal literal\n"
     ]
    }
   ],
   "source": [
    "Images_List: 16kx4 extracts D-E only\n",
    "APKs_List: save  sheets extract : 5x ~1000 x 3  : save info in vartiable as the sheets are 0-4 and the columnns are in the list\n",
    "\n",
    "\n",
    "for indx.element in enumerate(IS):\n",
    "    find idices in MIL[:,1] \n",
    "    for \n",
    "\n",
    "solution is 100x6 (SO)"
   ]
  },
  {
   "cell_type": "code",
   "execution_count": null,
   "metadata": {},
   "outputs": [],
   "source": []
  },
  {
   "cell_type": "code",
   "execution_count": 7,
   "metadata": {},
   "outputs": [
    {
     "name": "stdout",
     "output_type": "stream",
     "text": [
      "H-14350\n",
      "SPI-WF120045-V1\n",
      "TLC\n"
     ]
    }
   ],
   "source": [
    "# Creates the AL List which has all APK data\n",
    "\n",
    "\n",
    "import pandas as pd\n",
    "\n",
    "# List to store data\n",
    "AP = []\n",
    "\n",
    "# List of sheet names\n",
    "sheet_names = ['APK-List-V1', 'APK-List-V2', 'APK-List-V3-PRM', 'APK-List-V3-LNC', 'APK-List-V5']\n",
    "\n",
    "# Iterate through sheets\n",
    "for sheet_name in sheet_names:\n",
    "    # Read data from the sheet\n",
    "    df = pd.read_excel('T6-Images&Apks-Delete.xlsx', sheet_name=sheet_name)\n",
    "    \n",
    "    # Get the specific rows you need (adjust column indexes as needed)\n",
    "    columns = df.iloc[:, [1, 3, 4]].values.tolist()\n",
    "    \n",
    "    # Append rows to AP\n",
    "    AP.append(columns)\n",
    "\n",
    "   # Print the element from the first sheet (index 0) at row 2 (index 1)\n",
    "for I in AP[0][0]: \n",
    "    print(I)\n",
    "\n",
    "\n",
    "\n",
    "    "
   ]
  },
  {
   "cell_type": "code",
   "execution_count": 8,
   "metadata": {},
   "outputs": [
    {
     "name": "stdout",
     "output_type": "stream",
     "text": [
      "H-29737\n",
      "SPI-NJ221261\n",
      "V5\n",
      "RV\n"
     ]
    }
   ],
   "source": [
    "# Creates the MIL List which has all Image Data Needed\n",
    "\n",
    "import pandas as pd\n",
    "\n",
    "# List to store data\n",
    "MIL = []\n",
    "\n",
    "# List of sheet names\n",
    "sheet_names = ['SPIROMICS-Columns-Trimmed']\n",
    "\n",
    "# Iterate through sheets\n",
    "for sheet_name in sheet_names:\n",
    "    # Read data from the sheet\n",
    "    df = pd.read_excel('T6-Images&Apks-Delete.xlsx', sheet_name=sheet_name)\n",
    "    \n",
    "    # Get the specific rows you need (adjust column indexes as needed)\n",
    "    columns = df.iloc[:, [3, 4, 5, 6]].values.tolist()\n",
    "    \n",
    "    # Append rows to AP\n",
    "    MIL.append(columns)\n",
    "\n",
    "   # Print the element from the first sheet (index 0) at row 2 (index 1)\n",
    "for I in MIL[0][0]: \n",
    "    print(I)"
   ]
  },
  {
   "cell_type": "code",
   "execution_count": 11,
   "metadata": {},
   "outputs": [
    {
     "name": "stdout",
     "output_type": "stream",
     "text": [
      "SPI-JH110088\n"
     ]
    }
   ],
   "source": [
    "# Creates the IS List which has all Image Data Needed\n",
    "\n",
    "import pandas as pd\n",
    "\n",
    "# List to store data\n",
    "IS = []\n",
    "\n",
    "# List of sheet names\n",
    "sheet_names = ['Cases-Done - DataSummary']\n",
    "\n",
    "# Iterate through sheets\n",
    "for sheet_name in sheet_names:\n",
    "    # Read data from the sheet\n",
    "    df = pd.read_excel('T7-Summary-Delete.xlsx', sheet_name=sheet_name)\n",
    "    \n",
    "    # Get the specific rows you need (adjust column indexes as needed)\n",
    "    columns = df.iloc[:, [2]].values.tolist()\n",
    "    \n",
    "    # Append rows to AP\n",
    "    IS.append(columns)\n",
    "\n",
    "   # Print the element from the first sheet (index 0) at row 2 (index 1)\n",
    "for I in IS[0][0]:\n",
    "    print(I)"
   ]
  },
  {
   "cell_type": "code",
   "execution_count": 54,
   "metadata": {},
   "outputs": [
    {
     "name": "stdout",
     "output_type": "stream",
     "text": [
      "Keyword 'SPI-JH110088' found at indices: [15548, 15549, 15550, 15551, 15552, 15553, 15554, 15555, 15556, 15557, 15558, 15559, 15560, 15561, 15562, 15563, 15564, 15565, 15566, 15567, 15568, 15569, 15570, 15571]\n"
     ]
    }
   ],
   "source": [
    "#This finds all of the indicies for where the the keyword is present in the MIL list\n",
    "\n",
    "keyword = \"SPI-JH110088\"  \n",
    "\n",
    "def search_and_print_indices(keyword, data_list):\n",
    "    found_indices = []\n",
    "    \n",
    "    for idx, row in enumerate(data_list[0]):\n",
    "        if keyword in row[1]:  # Assuming the second column is at index 1\n",
    "            found_indices.append(idx)\n",
    "    \n",
    "    if found_indices:\n",
    "        print(f\"Keyword '{keyword}' found at indices: {found_indices}\")\n",
    "    else:\n",
    "        print(f\"Keyword '{keyword}' not found in the list.\")\n",
    "\n",
    "# Example data_list structure: 1x16000x3\n",
    "data_list = MIL\n",
    " \n",
    "\n",
    "search_and_print_indices(keyword, data_list)"
   ]
  },
  {
   "cell_type": "code",
   "execution_count": 53,
   "metadata": {},
   "outputs": [
    {
     "name": "stdout",
     "output_type": "stream",
     "text": [
      "All RV: V5, PBV, PBV, V1, PBV, PBV, PBV, V2, PBV, PBV, PBV, PBV, PBV, PBV, PBV, LNC, PBV, PBV, PBV\n",
      "RV: V1, PBV, V5, V2, LNC\n"
     ]
    }
   ],
   "source": [
    "#Does the same thing as cell above but instead of printing indicies, it finds cases w/ RV and then prints the visit that correlates with it\n",
    "\n",
    "keyword = \"SPI-JH110088\"\n",
    "\n",
    "def create_info_list(keyword, data_list):\n",
    "    info_list_RV = []\n",
    "\n",
    "    for idx, row in enumerate(data_list[0]):\n",
    "        if keyword in row[1]:  # Assuming the second column is at index 1\n",
    "            if \"RV\" in row[3]:  # Assuming the fourth column is at index 3\n",
    "                info_list_RV.append(row[2])  # Append the value from the third column\n",
    "            # No need for an else case to do nothing if \"RV\" is not found\n",
    "\n",
    "    return info_list_RV\n",
    "\n",
    "data_list = MIL\n",
    "info_list_RV = create_info_list(keyword, data_list)\n",
    "\n",
    "if info_list_RV:  # Only print if the info_list is not empty\n",
    "    concatenated_info = ', '.join(info_list_RV)\n",
    "    print(f\"All RV: {concatenated_info}\")\n",
    "\n",
    "if info_list_RV:  # Only proceed if the info_list is not empty\n",
    "    unique_values = set(info_list_RV)\n",
    "    unique_info_list = list(unique_values)\n",
    "\n",
    "    concatenated_info = ', '.join(unique_info_list)\n",
    "    print(f\"RV: {concatenated_info}\")"
   ]
  }
 ],
 "metadata": {
  "kernelspec": {
   "display_name": "Python 3",
   "language": "python",
   "name": "python3"
  },
  "language_info": {
   "codemirror_mode": {
    "name": "ipython",
    "version": 3
   },
   "file_extension": ".py",
   "mimetype": "text/x-python",
   "name": "python",
   "nbconvert_exporter": "python",
   "pygments_lexer": "ipython3",
   "version": "3.11.3"
  },
  "orig_nbformat": 4
 },
 "nbformat": 4,
 "nbformat_minor": 2
}
